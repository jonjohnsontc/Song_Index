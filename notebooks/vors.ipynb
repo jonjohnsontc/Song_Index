{
 "cells": [
  {
   "cell_type": "markdown",
   "metadata": {},
   "source": [
    "# VORS"
   ]
  },
  {
   "cell_type": "code",
   "execution_count": 1,
   "metadata": {},
   "outputs": [],
   "source": [
    "import numpy as np\n",
    "import pandas as pd\n",
    "import requests\n",
    "from splinter import Browser\n",
    "import spotipy\n",
    "from spotipy.oauth2 import SpotifyClientCredentials"
   ]
  },
  {
   "cell_type": "markdown",
   "metadata": {},
   "source": [
    "## Objective\n",
    "\n"
   ]
  },
  {
   "cell_type": "markdown",
   "metadata": {},
   "source": [
    "## Tools / Resources Needed\n",
    "Organized by `Name of Source` | `Data format`\n",
    "\n",
    "- **Songwriter + Song Data**\n",
    "  - ASCAP Catalog | CSV file\n",
    "  - ISWC-Net | Web Scrape\n",
    "  - Genius | API\n",
    "  \n",
    "- **Recording Data**\n",
    "  - Spotify API | JSON\n",
    "  - YouTube API | JSON"
   ]
  },
  {
   "cell_type": "markdown",
   "metadata": {},
   "source": [
    "## Exploring YouTube API"
   ]
  },
  {
   "cell_type": "code",
   "execution_count": null,
   "metadata": {},
   "outputs": [],
   "source": []
  },
  {
   "cell_type": "markdown",
   "metadata": {},
   "source": [
    "## Exploring Spotify API"
   ]
  },
  {
   "cell_type": "markdown",
   "metadata": {},
   "source": [
    "- **Client ID**: 2414300dd5be4a3cb0e9d83ecebe3964\n",
    "- **Client Secret**: f9c2e12e1f0247a4a74cf8e821a69aa7\n",
    "\n",
    "I'm going to be using the [Spotipy](https://spotipy.readthedocs.io/en/latest/#) library for accessing the Spotify Web API. "
   ]
  },
  {
   "cell_type": "code",
   "execution_count": 2,
   "metadata": {},
   "outputs": [],
   "source": [
    "client_credentials_manager = SpotifyClientCredentials(client_id=\"2414300dd5be4a3cb0e9d83ecebe3964\",\n",
    "                                                      client_secret=\"f9c2e12e1f0247a4a74cf8e821a69aa7\")\n",
    "sp = spotipy.Spotify(client_credentials_manager=client_credentials_manager)"
   ]
  },
  {
   "cell_type": "markdown",
   "metadata": {},
   "source": [
    "**Looking At Artists**"
   ]
  },
  {
   "cell_type": "code",
   "execution_count": 3,
   "metadata": {},
   "outputs": [],
   "source": [
    "lz_top = sp.artist_top_tracks('spotify:artist:36QJpDe2go2KgaRleHCDTp')"
   ]
  },
  {
   "cell_type": "markdown",
   "metadata": {},
   "source": [
    "When you retreive an artists \"top tracks\", the return .json will consist of dicts and lists. Going into `tracks` and then an index number (e.g., [1]) will point to an individual recording record."
   ]
  },
  {
   "cell_type": "code",
   "execution_count": 4,
   "metadata": {},
   "outputs": [
    {
     "data": {
      "text/plain": [
       "{'album': {'album_type': 'album',\n",
       "  'artists': [{'external_urls': {'spotify': 'https://open.spotify.com/artist/36QJpDe2go2KgaRleHCDTp'},\n",
       "    'href': 'https://api.spotify.com/v1/artists/36QJpDe2go2KgaRleHCDTp',\n",
       "    'id': '36QJpDe2go2KgaRleHCDTp',\n",
       "    'name': 'Led Zeppelin',\n",
       "    'type': 'artist',\n",
       "    'uri': 'spotify:artist:36QJpDe2go2KgaRleHCDTp'}],\n",
       "  'external_urls': {'spotify': 'https://open.spotify.com/album/44Ig8dzqOkvkGDzaUof9lK'},\n",
       "  'href': 'https://api.spotify.com/v1/albums/44Ig8dzqOkvkGDzaUof9lK',\n",
       "  'id': '44Ig8dzqOkvkGDzaUof9lK',\n",
       "  'images': [{'height': 640,\n",
       "    'url': 'https://i.scdn.co/image/557a6058e3de72bf37ffcd2c12dd5932276df344',\n",
       "    'width': 640},\n",
       "   {'height': 300,\n",
       "    'url': 'https://i.scdn.co/image/ace0499aa905fd284b53cbeb91704fa3f294756c',\n",
       "    'width': 300},\n",
       "   {'height': 64,\n",
       "    'url': 'https://i.scdn.co/image/bb6924d5f183cb16ca553e410a8fafc31881f78c',\n",
       "    'width': 64}],\n",
       "  'name': 'Led Zeppelin IV (Deluxe Edition)',\n",
       "  'release_date': '1971-11-08',\n",
       "  'release_date_precision': 'day',\n",
       "  'total_tracks': 16,\n",
       "  'type': 'album',\n",
       "  'uri': 'spotify:album:44Ig8dzqOkvkGDzaUof9lK'},\n",
       " 'artists': [{'external_urls': {'spotify': 'https://open.spotify.com/artist/36QJpDe2go2KgaRleHCDTp'},\n",
       "   'href': 'https://api.spotify.com/v1/artists/36QJpDe2go2KgaRleHCDTp',\n",
       "   'id': '36QJpDe2go2KgaRleHCDTp',\n",
       "   'name': 'Led Zeppelin',\n",
       "   'type': 'artist',\n",
       "   'uri': 'spotify:artist:36QJpDe2go2KgaRleHCDTp'}],\n",
       " 'disc_number': 1,\n",
       " 'duration_ms': 295386,\n",
       " 'explicit': False,\n",
       " 'external_ids': {'isrc': 'USAT21300956'},\n",
       " 'external_urls': {'spotify': 'https://open.spotify.com/track/3qT4bUD1MaWpGrTwcvguhb'},\n",
       " 'href': 'https://api.spotify.com/v1/tracks/3qT4bUD1MaWpGrTwcvguhb',\n",
       " 'id': '3qT4bUD1MaWpGrTwcvguhb',\n",
       " 'is_local': False,\n",
       " 'is_playable': True,\n",
       " 'name': 'Black Dog',\n",
       " 'popularity': 70,\n",
       " 'preview_url': 'https://p.scdn.co/mp3-preview/9b76619fd9d563a48d38cc90ca00c3008327b52e?cid=2414300dd5be4a3cb0e9d83ecebe3964',\n",
       " 'track_number': 1,\n",
       " 'type': 'track',\n",
       " 'uri': 'spotify:track:3qT4bUD1MaWpGrTwcvguhb'}"
      ]
     },
     "execution_count": 4,
     "metadata": {},
     "output_type": "execute_result"
    }
   ],
   "source": [
    "lz_top['tracks'][3]"
   ]
  },
  {
   "cell_type": "markdown",
   "metadata": {},
   "source": [
    "**Try to Retrieve Artist and/or Track IDs**"
   ]
  },
  {
   "cell_type": "code",
   "execution_count": 5,
   "metadata": {},
   "outputs": [],
   "source": [
    "# search for a song / track ID\n",
    "trap_queen_search = sp.search('trap queen')"
   ]
  },
  {
   "cell_type": "code",
   "execution_count": 6,
   "metadata": {},
   "outputs": [
    {
     "data": {
      "text/plain": [
       "{'album': {'album_type': 'album',\n",
       "  'artists': [{'external_urls': {'spotify': 'https://open.spotify.com/artist/6PXS4YHDkKvl1wkIl4V8DL'},\n",
       "    'href': 'https://api.spotify.com/v1/artists/6PXS4YHDkKvl1wkIl4V8DL',\n",
       "    'id': '6PXS4YHDkKvl1wkIl4V8DL',\n",
       "    'name': 'Fetty Wap',\n",
       "    'type': 'artist',\n",
       "    'uri': 'spotify:artist:6PXS4YHDkKvl1wkIl4V8DL'}],\n",
       "  'available_markets': ['AR',\n",
       "   'BG',\n",
       "   'BO',\n",
       "   'BR',\n",
       "   'CA',\n",
       "   'CL',\n",
       "   'CO',\n",
       "   'CR',\n",
       "   'CZ',\n",
       "   'DO',\n",
       "   'EC',\n",
       "   'EE',\n",
       "   'GR',\n",
       "   'GT',\n",
       "   'HK',\n",
       "   'HN',\n",
       "   'HU',\n",
       "   'ID',\n",
       "   'IL',\n",
       "   'JP',\n",
       "   'LT',\n",
       "   'LV',\n",
       "   'MT',\n",
       "   'MX',\n",
       "   'MY',\n",
       "   'NI',\n",
       "   'PA',\n",
       "   'PE',\n",
       "   'PH',\n",
       "   'PL',\n",
       "   'PY',\n",
       "   'RO',\n",
       "   'SG',\n",
       "   'SK',\n",
       "   'SV',\n",
       "   'TH',\n",
       "   'TR',\n",
       "   'TW',\n",
       "   'US',\n",
       "   'UY',\n",
       "   'VN',\n",
       "   'ZA'],\n",
       "  'external_urls': {'spotify': 'https://open.spotify.com/album/2gKQvajkEEaDtkqJ8FJ4uw'},\n",
       "  'href': 'https://api.spotify.com/v1/albums/2gKQvajkEEaDtkqJ8FJ4uw',\n",
       "  'id': '2gKQvajkEEaDtkqJ8FJ4uw',\n",
       "  'images': [{'height': 640,\n",
       "    'url': 'https://i.scdn.co/image/a67ffa99f1b530d868f381c2fbcd3989f89a04f5',\n",
       "    'width': 640},\n",
       "   {'height': 300,\n",
       "    'url': 'https://i.scdn.co/image/5aa0bd2874ec6ae0885adc84bb02d5ffce6f8cc2',\n",
       "    'width': 300},\n",
       "   {'height': 64,\n",
       "    'url': 'https://i.scdn.co/image/1e01dafdf54d489a62ade5778682b3027bf72dc9',\n",
       "    'width': 64}],\n",
       "  'name': 'Fetty Wap (Deluxe)',\n",
       "  'release_date': '2015-09-25',\n",
       "  'release_date_precision': 'day',\n",
       "  'total_tracks': 20,\n",
       "  'type': 'album',\n",
       "  'uri': 'spotify:album:2gKQvajkEEaDtkqJ8FJ4uw'},\n",
       " 'artists': [{'external_urls': {'spotify': 'https://open.spotify.com/artist/6PXS4YHDkKvl1wkIl4V8DL'},\n",
       "   'href': 'https://api.spotify.com/v1/artists/6PXS4YHDkKvl1wkIl4V8DL',\n",
       "   'id': '6PXS4YHDkKvl1wkIl4V8DL',\n",
       "   'name': 'Fetty Wap',\n",
       "   'type': 'artist',\n",
       "   'uri': 'spotify:artist:6PXS4YHDkKvl1wkIl4V8DL'}],\n",
       " 'available_markets': ['AR',\n",
       "  'BG',\n",
       "  'BO',\n",
       "  'BR',\n",
       "  'CA',\n",
       "  'CL',\n",
       "  'CO',\n",
       "  'CR',\n",
       "  'CZ',\n",
       "  'DO',\n",
       "  'EC',\n",
       "  'EE',\n",
       "  'GR',\n",
       "  'GT',\n",
       "  'HK',\n",
       "  'HN',\n",
       "  'HU',\n",
       "  'ID',\n",
       "  'IL',\n",
       "  'JP',\n",
       "  'LT',\n",
       "  'LV',\n",
       "  'MT',\n",
       "  'MX',\n",
       "  'MY',\n",
       "  'NI',\n",
       "  'PA',\n",
       "  'PE',\n",
       "  'PH',\n",
       "  'PL',\n",
       "  'PY',\n",
       "  'RO',\n",
       "  'SG',\n",
       "  'SK',\n",
       "  'SV',\n",
       "  'TH',\n",
       "  'TR',\n",
       "  'TW',\n",
       "  'US',\n",
       "  'UY',\n",
       "  'VN',\n",
       "  'ZA'],\n",
       " 'disc_number': 1,\n",
       " 'duration_ms': 222093,\n",
       " 'explicit': True,\n",
       " 'external_ids': {'isrc': 'QM7XC1400004'},\n",
       " 'external_urls': {'spotify': 'https://open.spotify.com/track/2d8JP84HNLKhmd6IYOoupQ'},\n",
       " 'href': 'https://api.spotify.com/v1/tracks/2d8JP84HNLKhmd6IYOoupQ',\n",
       " 'id': '2d8JP84HNLKhmd6IYOoupQ',\n",
       " 'is_local': False,\n",
       " 'name': 'Trap Queen',\n",
       " 'popularity': 74,\n",
       " 'preview_url': 'https://p.scdn.co/mp3-preview/62bf932cdc4d351174128d974397f5093de4f994?cid=2414300dd5be4a3cb0e9d83ecebe3964',\n",
       " 'track_number': 1,\n",
       " 'type': 'track',\n",
       " 'uri': 'spotify:track:2d8JP84HNLKhmd6IYOoupQ'}"
      ]
     },
     "execution_count": 6,
     "metadata": {},
     "output_type": "execute_result"
    }
   ],
   "source": [
    "trap_queen_search['tracks']['items'][0]"
   ]
  },
  {
   "cell_type": "code",
   "execution_count": 7,
   "metadata": {},
   "outputs": [],
   "source": [
    "# search for an artist\n",
    "fw_search = sp.search('fetty wap', type='artist')['artists']['items'] #for the actual results"
   ]
  },
  {
   "cell_type": "code",
   "execution_count": 8,
   "metadata": {},
   "outputs": [
    {
     "data": {
      "text/plain": [
       "[{'external_urls': {'spotify': 'https://open.spotify.com/artist/6PXS4YHDkKvl1wkIl4V8DL'},\n",
       "  'followers': {'href': None, 'total': 3194774},\n",
       "  'genres': ['dwn trap',\n",
       "   'hip hop',\n",
       "   'pop',\n",
       "   'pop rap',\n",
       "   'rap',\n",
       "   'southern hip hop',\n",
       "   'trap music'],\n",
       "  'href': 'https://api.spotify.com/v1/artists/6PXS4YHDkKvl1wkIl4V8DL',\n",
       "  'id': '6PXS4YHDkKvl1wkIl4V8DL',\n",
       "  'images': [{'height': 640,\n",
       "    'url': 'https://i.scdn.co/image/345ba48efb55e88a86e7421e992794e551570bdb',\n",
       "    'width': 640},\n",
       "   {'height': 320,\n",
       "    'url': 'https://i.scdn.co/image/5e00e172f757fbec11ac071d69961cf1131d57a1',\n",
       "    'width': 320},\n",
       "   {'height': 160,\n",
       "    'url': 'https://i.scdn.co/image/01cccc4370aa911413b2a20db2089ff1080e082e',\n",
       "    'width': 160}],\n",
       "  'name': 'Fetty Wap',\n",
       "  'popularity': 79,\n",
       "  'type': 'artist',\n",
       "  'uri': 'spotify:artist:6PXS4YHDkKvl1wkIl4V8DL'},\n",
       " {'external_urls': {'spotify': 'https://open.spotify.com/artist/32EPfNytBDMuIilmwqg1hl'},\n",
       "  'followers': {'href': None, 'total': 621},\n",
       "  'genres': [],\n",
       "  'href': 'https://api.spotify.com/v1/artists/32EPfNytBDMuIilmwqg1hl',\n",
       "  'id': '32EPfNytBDMuIilmwqg1hl',\n",
       "  'images': [{'height': 640,\n",
       "    'url': 'https://i.scdn.co/image/34d2e447866b0f86dd4643913cb665bac923b583',\n",
       "    'width': 640},\n",
       "   {'height': 300,\n",
       "    'url': 'https://i.scdn.co/image/50ea154032938d7cdc4368be6db454509a433add',\n",
       "    'width': 300},\n",
       "   {'height': 64,\n",
       "    'url': 'https://i.scdn.co/image/b04c44635454df1679ab053cb8ce37ba6557b6bf',\n",
       "    'width': 64}],\n",
       "  'name': 'J-Maul feat. Fetty Wap',\n",
       "  'popularity': 1,\n",
       "  'type': 'artist',\n",
       "  'uri': 'spotify:artist:32EPfNytBDMuIilmwqg1hl'}]"
      ]
     },
     "execution_count": 8,
     "metadata": {},
     "output_type": "execute_result"
    }
   ],
   "source": [
    "fw_search"
   ]
  },
  {
   "cell_type": "markdown",
   "metadata": {},
   "source": [
    "## Exploring ISWC-Net"
   ]
  },
  {
   "cell_type": "code",
   "execution_count": 9,
   "metadata": {},
   "outputs": [],
   "source": [
    "url = \"https://iswcnet.cisac.org/confirmLogin.do\"\n",
    "res = requests.get(url)"
   ]
  },
  {
   "cell_type": "code",
   "execution_count": 10,
   "metadata": {},
   "outputs": [
    {
     "data": {
      "text/plain": [
       "403"
      ]
     },
     "execution_count": 10,
     "metadata": {},
     "output_type": "execute_result"
    }
   ],
   "source": [
    "res.status_code"
   ]
  },
  {
   "cell_type": "markdown",
   "metadata": {},
   "source": [
    "Doesn't work if I try and automatically login"
   ]
  },
  {
   "cell_type": "code",
   "execution_count": 11,
   "metadata": {},
   "outputs": [],
   "source": [
    "url = \"https://iswcnet.cisac.org/logon.do\"\n",
    "res = requests.get(url)"
   ]
  },
  {
   "cell_type": "code",
   "execution_count": 12,
   "metadata": {},
   "outputs": [
    {
     "data": {
      "text/plain": [
       "200"
      ]
     },
     "execution_count": 12,
     "metadata": {},
     "output_type": "execute_result"
    }
   ],
   "source": [
    "res.status_code"
   ]
  },
  {
   "cell_type": "code",
   "execution_count": 13,
   "metadata": {},
   "outputs": [
    {
     "data": {
      "text/plain": [
       "'\\r\\n\\r\\n\\r\\n\\r\\n\\r\\n\\r\\n\\r\\n\\r\\n\\r\\n\\r\\n\\r\\n<html>\\r\\n\\r\\n<head>\\r\\n<title>ISWC-Net</title>\\r\\n\\r\\n<link rel=\"shortcut icon\" type=\"image/x-icon\" href=\"/favicon.ico;jsessionid=FE8DC924D1EC8375F5843E1BFC36EA14\" />\\r\\n<link rel=\"icon\" type=\"image/x-icon\" href=\"/favicon.ico;jsessionid=FE8DC924D1EC8375F5843E1BFC36EA14\" />\\r\\n\\r\\n<link rel=\"stylesheet\" type=\"text/css\" href=\"/common/css/login.css;jsessionid=FE8DC924D1EC8375F5843E1BFC36EA14\" />\\r\\n\\r\\n\\t<link rel=\"stylesheet\" type=\"text/css\" href=\"/common/css/ISWCNET.css;jsessionid=FE8DC924D1EC8375F5843E1BFC36EA14\" />\\r\\n\\r\\n</head>\\r\\n<body class=\"login\">\\r\\n\\r\\n\\r\\n\\r\\n<table height=\"95%\" align=\"center\">\\r\\n\\t<tr>\\r\\n\\t\\t<td align=\"center\" valign=\"middle\" height=\"292\">\\r\\n\\t\\t<table class=\"login\" width=\"561\">\\r\\n\\t\\t\\t<tr>\\r\\n\\t\\t\\t\\t<td valign=\"top\">\\r\\n\\t\\t\\t\\t<table>\\r\\n\\t\\t\\t\\t\\t<tr>\\r\\n\\t\\t\\t\\t\\t\\t<td height=\"18\" />\\r\\n\\t\\t\\t\\t\\t</tr>\\r\\n\\t\\t\\t\\t\\t<tr>\\r\\n\\t\\t\\t\\t\\t\\t<td height=\"40\" />\\r\\n\\t\\t\\t\\t\\t</tr>\\r\\n\\t\\t\\t\\t\\t<tr>\\r\\n\\t\\t\\t\\t\\t\\t<td height=\"20\" />\\r\\n\\t\\t\\t\\t\\t</tr>\\r\\n\\t\\t\\t\\t\\t<tr>\\r\\n\\t\\t\\t\\t\\t\\t<td height=\"136\" valign=\"middle\">\\r\\n\\t\\t\\t\\t\\t\\t<style>\\r\\nform.inline {\\r\\n\\tdisplay: inline;\\r\\n\\tclear: none;\\r\\n\\tmargin-right: 2px;\\r\\n}\\r\\n</style>\\r\\n\\t\\t\\t\\t\\t\\t<table style=\"margin-bottom: 20px;\">\\r\\n\\t\\t\\t\\t\\t\\t\\t<tr valign=\"middle\" height=\"32\">\\r\\n\\t\\t\\t\\t\\t\\t\\t\\t<td colspan=\"3\" align=\"right\" valign=\"top\"><span align=\"right\"> <form name=\"logonForm\" method=\"post\" action=\"/publicLogin.do;jsessionid=FE8DC924D1EC8375F5843E1BFC36EA14\" class=\"inline\">\\r\\n\\t\\t\\t\\t\\t\\t\\t\\t\\t<input type=\"hidden\" name=\"SelServer\" value=\"01\" />\\r\\n\\t\\t\\t\\t\\t\\t\\t\\t\\t<input type=\"hidden\" name=\"LANG\" value=\"EN\" />\\r\\n\\t\\t\\t\\t\\t\\t\\t\\t\\t<input type=\"submit\" value=\"English\" class=\"iswcnetLoginButton\" title=\"English\">\\r\\n\\t\\t\\t\\t\\t\\t\\t\\t</form> <form name=\"logonForm\" method=\"post\" action=\"/publicLogin.do;jsessionid=FE8DC924D1EC8375F5843E1BFC36EA14\" class=\"inline\">\\r\\n\\t\\t\\t\\t\\t\\t\\t\\t\\t<input type=\"hidden\" name=\"SelServer\" value=\"01\" />\\r\\n\\t\\t\\t\\t\\t\\t\\t\\t\\t<input type=\"hidden\" name=\"LANG\" value=\"FR\" />\\r\\n\\t\\t\\t\\t\\t\\t\\t\\t\\t<input type=\"submit\" value=\"Français\" class=\"iswcnetLoginButton\" title=\"Français\">\\r\\n\\t\\t\\t\\t\\t\\t\\t\\t</form> <form name=\"logonForm\" method=\"post\" action=\"/publicLogin.do;jsessionid=FE8DC924D1EC8375F5843E1BFC36EA14\" class=\"inline\">\\r\\n\\t\\t\\t\\t\\t\\t\\t\\t\\t<input type=\"hidden\" name=\"SelServer\" value=\"01\" />\\r\\n\\t\\t\\t\\t\\t\\t\\t\\t\\t<input type=\"hidden\" name=\"LANG\" value=\"DE\" />\\r\\n\\t\\t\\t\\t\\t\\t\\t\\t\\t<input type=\"submit\" value=\"Deutsch\" class=\"iswcnetLoginButton\" title=\"Deutsch\">\\r\\n\\t\\t\\t\\t\\t\\t\\t\\t</form> </span></td>\\r\\n\\t\\t\\t\\t\\t\\t\\t</tr>\\r\\n\\t\\t\\t\\t\\t\\t\\t<tr valign=\"middle\" height=\"32\">\\r\\n\\t\\t\\t\\t\\t\\t\\t\\t<td colspan=\"3\" align=\"right\" valign=\"top\"><span> <form name=\"logonForm\" method=\"post\" action=\"/publicLogin.do;jsessionid=FE8DC924D1EC8375F5843E1BFC36EA14\" class=\"inline\">\\r\\n\\t\\t\\t\\t\\t\\t\\t\\t\\t<input type=\"hidden\" name=\"LANG\" value=\"IT\" />\\r\\n\\t\\t\\t\\t\\t\\t\\t\\t\\t<input type=\"hidden\" name=\"SelServer\" value=\"01\" />\\r\\n\\t\\t\\t\\t\\t\\t\\t\\t\\t<input type=\"submit\" value=\"Italiano\" class=\"iswcnetLoginButton\" title=\"Italiano\">\\r\\n\\t\\t\\t\\t\\t\\t\\t\\t</form> <form name=\"logonForm\" method=\"post\" action=\"/publicLogin.do;jsessionid=FE8DC924D1EC8375F5843E1BFC36EA14\" class=\"inline\">\\r\\n\\t\\t\\t\\t\\t\\t\\t\\t\\t<input type=\"hidden\" name=\"SelServer\" value=\"01\" />\\r\\n\\t\\t\\t\\t\\t\\t\\t\\t\\t<input type=\"hidden\" name=\"LANG\" value=\"ES\" />\\r\\n\\t\\t\\t\\t\\t\\t\\t\\t\\t<input type=\"submit\" value=\"Español\" class=\"iswcnetLoginButton\" title=\"Español\">\\r\\n\\t\\t\\t\\t\\t\\t\\t\\t</form> </span></td>\\r\\n\\t\\t\\t\\t\\t\\t\\t</tr>\\r\\n\\t\\t\\t\\t\\t\\t</table>\\r\\n\\t\\t\\t\\t\\t\\t</td>\\r\\n\\t\\t\\t\\t\\t</tr>\\r\\n\\r\\n\\t\\t\\t\\t\\t<tr>\\r\\n\\t\\t\\t\\t\\t\\t<td height=\"26\">&nbsp;</td>\\r\\n\\t\\t\\t\\t\\t</tr>\\r\\n\\r\\n\\r\\n\\t\\t\\t\\t\\t<tr>\\r\\n\\r\\n\\t\\t\\t\\t\\t\\t<td valign=\"middle\" height=\"24\" align=\"right\" class=\"smallText\" colspan=\"2\">\\r\\n\\t\\t\\t\\t\\t\\t\\t\\r\\n\\t\\t\\t\\t\\t\\t\\t<span class=\"smallText\" title=\"iswcnet 4.7.1 (build: 4.7.1.1 2015-06-15 15:08:54)\">4.7.1&nbsp;-&nbsp;EN</span>\\r\\n\\t\\t\\t\\t\\t\\t</td>\\r\\n\\r\\n\\t\\t\\t\\t\\t</tr>\\r\\n\\r\\n\\t\\t\\t\\t</table>\\r\\n\\t\\t\\t\\t</td>\\r\\n\\r\\n\\t\\t\\t\\t<td width=\"13px\">&nbsp;</td>\\r\\n\\r\\n\\t\\t\\t</tr>\\r\\n\\r\\n\\t\\t</table>\\r\\n\\t\\t</td>\\r\\n\\t</tr>\\r\\n</table>\\r\\n</body>\\r\\n</html>\\r\\n'"
      ]
     },
     "execution_count": 13,
     "metadata": {},
     "output_type": "execute_result"
    }
   ],
   "source": [
    "res.text"
   ]
  },
  {
   "cell_type": "markdown",
   "metadata": {},
   "source": [
    "## Generating Data to Score On\n",
    "\n",
    "- Score on songwriters who have generated *at least* 1 Billboard hot 100 single"
   ]
  },
  {
   "cell_type": "markdown",
   "metadata": {},
   "source": [
    "## The Presentation"
   ]
  },
  {
   "cell_type": "markdown",
   "metadata": {},
   "source": [
    "**Ideas for Visuals**\n",
    "\n",
    "- Bokeh plot of most valuable songwriters per decade"
   ]
  }
 ],
 "metadata": {
  "kernelspec": {
   "display_name": "Python 3",
   "language": "python",
   "name": "python3"
  },
  "language_info": {
   "codemirror_mode": {
    "name": "ipython",
    "version": 3
   },
   "file_extension": ".py",
   "mimetype": "text/x-python",
   "name": "python",
   "nbconvert_exporter": "python",
   "pygments_lexer": "ipython3",
   "version": "3.6.5"
  }
 },
 "nbformat": 4,
 "nbformat_minor": 2
}
