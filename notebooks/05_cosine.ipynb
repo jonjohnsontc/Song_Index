{
  "cells": [
    {
      "cell_type": "markdown",
      "source": [
        "# 05_cosine: Using Cosine Similarity to Determine Recommendations\n",
        "\n**Description**: Tossing my dataset into a cosine similarity matrix to determine song recommendations."
      ],
      "metadata": {}
    },
    {
      "cell_type": "markdown",
      "source": [
        "## Table of Contents\n",
        "\n",
        "1. [Cosine Similarity Overview](#1)\n",
        "2. [Cosine Similarity Processing](#2)\n",
        "3. [Creating Functions to Retrieve Similarity Scores](#3)\n",
        "4. [Evaluating Songs in Matrix](#4)\n",
        "5. [Retreiving Songs from Different Artists Only](#5)\n",
        "6. [Evaluating `da` Recommendations](#6)\n",
        "7. [Looking at How Similarity Ranks Between Each Observation](#7)"
      ],
      "metadata": {}
    },
    {
      "cell_type": "code",
      "source": [
        "import matplotlib.pyplot as plt\n",
        "import numpy as np\n",
        "import pandas as pd\n",
        "import pickle\n",
        "import re\n",
        "import seaborn as sns\n",
        "\n",
        "from sklearn.metrics.pairwise import cosine_similarity\n",
        "\n%matplotlib inline"
      ],
      "outputs": [],
      "execution_count": 1,
      "metadata": {}
    },
    {
      "cell_type": "markdown",
      "source": [
        "<a name=\"1\"></a>\n",
        "## 1. Cosine Similarity Overview\n",
        "\n",
        "Cosine Similarity is the normalized dot product of two vectors, A & B, and can be written as such:\n",
        "\n",
        "$$cos(\\theta) = \\frac{AB^T}{\\|A\\|\\|B\\|}$$\n",
        "\n",
        "In the instance of this recommender the two vectors are the same, the overall song matrix derived in the Preprocessing notebook.\n",
        "\n",
        "### 1a. Why Cosine Similarity?\n",
        "\n",
        "The short of this is: Because it provided results that sounded the most similar to songs provided in testing.\n",
        "\n",
        "#### Further Reasoning\n",
        "\n",
        "I can understand the thought that a measurement like Euclidean distance makes more sense when trying to measure the similarity of songs using the feature sets that are incorporated here, wherein the most of the features are measurements centered around zero (in fact, you'll find my review on using Euclidean distance to find similar songs in the notebook, `iv_euclidean`). However, in aggregate, the test results using cosine similarity sounded closer to the original titles provided than the results utilizing euclidean distance. The songs recommended through cosine similarity were also more diverse, in terms of the performing artist. Wherein, usine euclidean distance, there was a higher frequency of the same artist who\n",
        "\nCosine similarity also works well for dense data sets, which is exactly what we have for the genre based features passed through SVD. It's built to better incorporate the directionality of those genre components regardless of their magnitude."
      ],
      "metadata": {}
    },
    {
      "cell_type": "markdown",
      "source": [
        "##### Loading in matricies and df's from preprocessing"
      ],
      "metadata": {}
    },
    {
      "cell_type": "code",
      "source": [
        "with open('../pickle/main_songs_scaled_svd.pkl', 'rb') as f:\n",
        "    main_songs_scaled_svd = pickle.load(f)\n",
        "main_songs_svdg = pd.read_csv('../data/main_songs_svdg.csv', index_col='song_id')"
      ],
      "outputs": [],
      "execution_count": 2,
      "metadata": {}
    },
    {
      "cell_type": "markdown",
      "source": [
        "##### Retrieving the Primary Song Listing to help Lookup Song Titles"
      ],
      "metadata": {}
    },
    {
      "cell_type": "code",
      "source": [
        "main_song_list = pd.read_csv('../data/main_wfeats.csv', index_col='song_id')"
      ],
      "outputs": [],
      "execution_count": 3,
      "metadata": {}
    },
    {
      "cell_type": "markdown",
      "source": [
        "<a name=\"2\"></a>\n",
        "## 2. Cosine Similarity Processing\n",
        "\n### 2a. Precomputing Cosine Similarity Matrix"
      ],
      "metadata": {}
    },
    {
      "cell_type": "markdown",
      "source": [
        "##### SVD on Genres Only (50 total) + All Other Song Features"
      ],
      "metadata": {}
    },
    {
      "cell_type": "code",
      "source": [
        "cos_sim_mat_g = cosine_similarity(main_songs_scaled_svd, main_songs_scaled_svd)\n",
        "cos_sim_mat_g.shape"
      ],
      "outputs": [
        {
          "output_type": "execute_result",
          "execution_count": 4,
          "data": {
            "text/plain": [
              "(22891, 22891)"
            ]
          },
          "metadata": {}
        }
      ],
      "execution_count": 4,
      "metadata": {}
    },
    {
      "cell_type": "markdown",
      "source": [
        "### 2b. Creating a Series of `dicts` for Lookup"
      ],
      "metadata": {}
    },
    {
      "cell_type": "code",
      "source": [
        "song_id_name = dict(zip(main_song_list.index, main_song_list['song_title']))"
      ],
      "outputs": [],
      "execution_count": 6,
      "metadata": {}
    },
    {
      "cell_type": "code",
      "source": [
        "song_id_artist = dict(zip(main_song_list.index, main_song_list['artist_name']))"
      ],
      "outputs": [],
      "execution_count": 7,
      "metadata": {}
    },
    {
      "cell_type": "code",
      "source": [
        "song_id_name['6SluaPiV04KOaRTOIScoff']"
      ],
      "outputs": [
        {
          "output_type": "execute_result",
          "execution_count": 8,
          "data": {
            "text/plain": [
              "'Show Me Love - Radio Version'"
            ]
          },
          "metadata": {}
        }
      ],
      "execution_count": 8,
      "metadata": {}
    },
    {
      "cell_type": "code",
      "source": [
        "song_cosine_id = dict(zip(main_songs_svdg.index, range(main_songs_svdg.shape[0])))"
      ],
      "outputs": [],
      "execution_count": 9,
      "metadata": {}
    },
    {
      "cell_type": "code",
      "source": [
        "song_cosine_idr = dict(zip(range(main_songs_svdg.shape[0]), main_songs_svdg.index))"
      ],
      "outputs": [],
      "execution_count": 10,
      "metadata": {}
    },
    {
      "cell_type": "code",
      "source": [
        "song_cosine_id['0s8OMEGJQJIUr9VFwNEH1v']"
      ],
      "outputs": [
        {
          "output_type": "execute_result",
          "execution_count": 11,
          "data": {
            "text/plain": [
              "8812"
            ]
          },
          "metadata": {}
        }
      ],
      "execution_count": 11,
      "metadata": {}
    },
    {
      "cell_type": "markdown",
      "source": [
        "<a name=\"3\"></a>\n",
        "## 3. Creating Functions to Retreive Similarity Scores\n",
        "\n",
        "All of the below functions to retreive similarity scores are slight modifications on Douglas Strodtman's repo @ git.generalassemb.ly\n",
        "\n### 3a. Searching for Most Similar Songs (Regardless of Artist)"
      ],
      "metadata": {}
    },
    {
      "cell_type": "code",
      "source": [
        "def feat_sim(song_id, k=10, cos_sim_mat=cos_sim_mat_g):\n",
        "    '''\n",
        "    Returns array of indices for top k songs with greatest similarity to given song, along with \n",
        "    their similarity rating, based on precomputed cosine similarity of feature vectors.\n",
        "\n",
        "    top_songs_feat, top_songs_feat_sim = get_sim.by_feats(ind_song_id, k, cos_sim_mat)\n",
        "\n",
        "    '''\n",
        "    top_songs_feat = np.argsort(cos_sim_mat[song_cosine_id[song_id]])[-2:-(k+2):-1]\n",
        "    top_songs_feat_sim = np.sort(cos_sim_mat[song_cosine_id[song_id]])[-2:-(k+2):-1]\n",
        "\n    return top_songs_feat, top_songs_feat_sim"
      ],
      "outputs": [],
      "execution_count": 12,
      "metadata": {}
    },
    {
      "cell_type": "markdown",
      "source": [
        "### 3c. Retreiving Recommendations in a Dataframe"
      ],
      "metadata": {}
    },
    {
      "cell_type": "code",
      "source": [
        "def get_recs(song_id, k=10, cos_sim_mat=cos_sim_mat_g):\n",
        "    try:\n",
        "        top_songs_feat, top_songs_feat_sim = feat_sim(song_id, k, cos_sim_mat)\n",
        "        return pd.DataFrame([[song_id_name[song_cosine_idr[x]] for x in top_songs_feat],\n",
        "                         [song_id_artist[song_cosine_idr[x]] for x in top_songs_feat],\n",
        "                         [song_cosine_idr[x] for x in top_songs_feat],\n",
        "                         list(top_songs_feat_sim)], \n",
        "                        index=['Song Name', 'Artist', 'Song ID', 'Similarity']).T\n",
        "    except:\n",
        "        print('No results available for that id. Please refer to the Song Finder for a list of valid ids.')"
      ],
      "outputs": [],
      "execution_count": 13,
      "metadata": {}
    },
    {
      "cell_type": "markdown",
      "source": [
        "<a name=\"4\"></a>\n",
        "## 4. Evaluating Songs in Matrix\n",
        "\nI decided to select a few titles that I had a good grasp of musically, to test the stength of the recommender."
      ],
      "metadata": {}
    },
    {
      "cell_type": "markdown",
      "source": [
        "### 4a. Grunge\n",
        "\nThere's far too much homogeneity within the first result. Homogeneity in terms of the artist. The design of this recommender is to allow listeners to discover music. While the dataset itself should be expanded to help with this, results should ideally reflect a fairly diverse group of acts. "
      ],
      "metadata": {}
    },
    {
      "cell_type": "code",
      "source": [
        "#Black Hole Sun - Soundgarden\n",
        "get_recs('2EoOZnxNgtmZaD8uUmz2nD', k=10)"
      ],
      "outputs": [
        {
          "output_type": "execute_result",
          "execution_count": 14,
          "data": {
            "text/plain": [
              "                 Song Name               Artist                 Song ID  \\\n",
              "0             Pretty Noose          Soundgarden  6ZzeXWwDvMzrgCWt9RwBj1   \n",
              "1               Rusty Cage          Soundgarden  6hqIXyo6GxydAnoI8XeIrV   \n",
              "2        Burden In My Hand          Soundgarden  1iArQTuOzxvrtniGmkyy92   \n",
              "3                   Would?      Alice In Chains  5sFDReWLrZHLFZFjHsjUTS   \n",
              "4  The Day I Tried To Live          Soundgarden  78YJJJH55MSyk7547100sW   \n",
              "5                  My Wave          Soundgarden  6ox3xc5CNTDQiAINfzP8Zw   \n",
              "6               No Excuses      Alice In Chains  4PtZE0h5oyPhCtPjg3NeYQ   \n",
              "7             Just Because     Jane's Addiction  3k6L0H08zSY5yRDgqI8fqx   \n",
              "8              Rainier Fog      Alice In Chains  16muBPcWmkHSl1uM4tE8WL   \n",
              "9       Plush - Remastered  Stone Temple Pilots  0CkspLl535ZxdwCRs8AdZ4   \n",
              "\n",
              "  Similarity  \n",
              "0    0.85659  \n",
              "1   0.855692  \n",
              "2   0.810819  \n",
              "3   0.805412  \n",
              "4    0.79185  \n",
              "5   0.778452  \n",
              "6    0.77532  \n",
              "7   0.774134  \n",
              "8   0.771753  \n",
              "9   0.768853  "
            ],
            "text/html": [
              "<div>\n",
              "<style scoped>\n",
              "    .dataframe tbody tr th:only-of-type {\n",
              "        vertical-align: middle;\n",
              "    }\n",
              "\n",
              "    .dataframe tbody tr th {\n",
              "        vertical-align: top;\n",
              "    }\n",
              "\n",
              "    .dataframe thead th {\n",
              "        text-align: right;\n",
              "    }\n",
              "</style>\n",
              "<table border=\"1\" class=\"dataframe\">\n",
              "  <thead>\n",
              "    <tr style=\"text-align: right;\">\n",
              "      <th></th>\n",
              "      <th>Song Name</th>\n",
              "      <th>Artist</th>\n",
              "      <th>Song ID</th>\n",
              "      <th>Similarity</th>\n",
              "    </tr>\n",
              "  </thead>\n",
              "  <tbody>\n",
              "    <tr>\n",
              "      <th>0</th>\n",
              "      <td>Pretty Noose</td>\n",
              "      <td>Soundgarden</td>\n",
              "      <td>6ZzeXWwDvMzrgCWt9RwBj1</td>\n",
              "      <td>0.85659</td>\n",
              "    </tr>\n",
              "    <tr>\n",
              "      <th>1</th>\n",
              "      <td>Rusty Cage</td>\n",
              "      <td>Soundgarden</td>\n",
              "      <td>6hqIXyo6GxydAnoI8XeIrV</td>\n",
              "      <td>0.855692</td>\n",
              "    </tr>\n",
              "    <tr>\n",
              "      <th>2</th>\n",
              "      <td>Burden In My Hand</td>\n",
              "      <td>Soundgarden</td>\n",
              "      <td>1iArQTuOzxvrtniGmkyy92</td>\n",
              "      <td>0.810819</td>\n",
              "    </tr>\n",
              "    <tr>\n",
              "      <th>3</th>\n",
              "      <td>Would?</td>\n",
              "      <td>Alice In Chains</td>\n",
              "      <td>5sFDReWLrZHLFZFjHsjUTS</td>\n",
              "      <td>0.805412</td>\n",
              "    </tr>\n",
              "    <tr>\n",
              "      <th>4</th>\n",
              "      <td>The Day I Tried To Live</td>\n",
              "      <td>Soundgarden</td>\n",
              "      <td>78YJJJH55MSyk7547100sW</td>\n",
              "      <td>0.79185</td>\n",
              "    </tr>\n",
              "    <tr>\n",
              "      <th>5</th>\n",
              "      <td>My Wave</td>\n",
              "      <td>Soundgarden</td>\n",
              "      <td>6ox3xc5CNTDQiAINfzP8Zw</td>\n",
              "      <td>0.778452</td>\n",
              "    </tr>\n",
              "    <tr>\n",
              "      <th>6</th>\n",
              "      <td>No Excuses</td>\n",
              "      <td>Alice In Chains</td>\n",
              "      <td>4PtZE0h5oyPhCtPjg3NeYQ</td>\n",
              "      <td>0.77532</td>\n",
              "    </tr>\n",
              "    <tr>\n",
              "      <th>7</th>\n",
              "      <td>Just Because</td>\n",
              "      <td>Jane's Addiction</td>\n",
              "      <td>3k6L0H08zSY5yRDgqI8fqx</td>\n",
              "      <td>0.774134</td>\n",
              "    </tr>\n",
              "    <tr>\n",
              "      <th>8</th>\n",
              "      <td>Rainier Fog</td>\n",
              "      <td>Alice In Chains</td>\n",
              "      <td>16muBPcWmkHSl1uM4tE8WL</td>\n",
              "      <td>0.771753</td>\n",
              "    </tr>\n",
              "    <tr>\n",
              "      <th>9</th>\n",
              "      <td>Plush - Remastered</td>\n",
              "      <td>Stone Temple Pilots</td>\n",
              "      <td>0CkspLl535ZxdwCRs8AdZ4</td>\n",
              "      <td>0.768853</td>\n",
              "    </tr>\n",
              "  </tbody>\n",
              "</table>\n",
              "</div>"
            ]
          },
          "metadata": {}
        }
      ],
      "execution_count": 14,
      "metadata": {}
    },
    {
      "cell_type": "markdown",
      "source": [
        "#### 4b. Hip Hop\n",
        "\nThe first title is extremely similar, and I would say, the quality drops fairly sharp afterwards. Musically, there is a recurrent theme here, but the lyrical content is so different that it "
      ],
      "metadata": {}
    },
    {
      "cell_type": "code",
      "source": [
        "#Clique - Kanye West\n",
        "get_recs('3rbNV2GI8Vtd8byhUtXZID', k=10)"
      ],
      "outputs": [
        {
          "output_type": "execute_result",
          "execution_count": 15,
          "data": {
            "text/plain": [
              "                    Song Name                   Artist  \\\n",
              "0  Willy Wonka (feat. Offset)               Macklemore   \n",
              "1                        3005         Childish Gambino   \n",
              "2                     Ladders               Mac Miller   \n",
              "3              No Role Modelz                  J. Cole   \n",
              "4    Thrift Shop (feat. Wanz)  Macklemore & Ryan Lewis   \n",
              "5            Freaks And Geeks         Childish Gambino   \n",
              "6                  Ghost Town               Kanye West   \n",
              "7                   By Design                 Kid Cudi   \n",
              "8                Don't Like.1               Kanye West   \n",
              "9                  God's Plan                    Drake   \n",
              "\n",
              "                  Song ID Similarity  \n",
              "0  7uKSil5r7uHexnM9lukPTc   0.765891  \n",
              "1  3Z2sglqDj1rDRMF5x0Sz2R    0.68663  \n",
              "2  39NDBdU5Xkm5pCFGa5kZtI   0.643684  \n",
              "3  62vpWI1CHwFy7tMIcSStl8   0.640834  \n",
              "4  3AYcyxEACnmE6d96RPubID   0.634141  \n",
              "5  7xTY3rJMgj0nh6OOPHgsLw   0.623547  \n",
              "6  6Bg7MznA9X0dIhlAsLyBYj   0.622416  \n",
              "7  5FxVTEpoBress37MmlMhbZ   0.618671  \n",
              "8  12D0n7hKpPcjuUpcbAKjjr   0.613521  \n",
              "9  6DCZcSspjsKoFjzjrWoCdn   0.607984  "
            ],
            "text/html": [
              "<div>\n",
              "<style scoped>\n",
              "    .dataframe tbody tr th:only-of-type {\n",
              "        vertical-align: middle;\n",
              "    }\n",
              "\n",
              "    .dataframe tbody tr th {\n",
              "        vertical-align: top;\n",
              "    }\n",
              "\n",
              "    .dataframe thead th {\n",
              "        text-align: right;\n",
              "    }\n",
              "</style>\n",
              "<table border=\"1\" class=\"dataframe\">\n",
              "  <thead>\n",
              "    <tr style=\"text-align: right;\">\n",
              "      <th></th>\n",
              "      <th>Song Name</th>\n",
              "      <th>Artist</th>\n",
              "      <th>Song ID</th>\n",
              "      <th>Similarity</th>\n",
              "    </tr>\n",
              "  </thead>\n",
              "  <tbody>\n",
              "    <tr>\n",
              "      <th>0</th>\n",
              "      <td>Willy Wonka (feat. Offset)</td>\n",
              "      <td>Macklemore</td>\n",
              "      <td>7uKSil5r7uHexnM9lukPTc</td>\n",
              "      <td>0.765891</td>\n",
              "    </tr>\n",
              "    <tr>\n",
              "      <th>1</th>\n",
              "      <td>3005</td>\n",
              "      <td>Childish Gambino</td>\n",
              "      <td>3Z2sglqDj1rDRMF5x0Sz2R</td>\n",
              "      <td>0.68663</td>\n",
              "    </tr>\n",
              "    <tr>\n",
              "      <th>2</th>\n",
              "      <td>Ladders</td>\n",
              "      <td>Mac Miller</td>\n",
              "      <td>39NDBdU5Xkm5pCFGa5kZtI</td>\n",
              "      <td>0.643684</td>\n",
              "    </tr>\n",
              "    <tr>\n",
              "      <th>3</th>\n",
              "      <td>No Role Modelz</td>\n",
              "      <td>J. Cole</td>\n",
              "      <td>62vpWI1CHwFy7tMIcSStl8</td>\n",
              "      <td>0.640834</td>\n",
              "    </tr>\n",
              "    <tr>\n",
              "      <th>4</th>\n",
              "      <td>Thrift Shop (feat. Wanz)</td>\n",
              "      <td>Macklemore &amp; Ryan Lewis</td>\n",
              "      <td>3AYcyxEACnmE6d96RPubID</td>\n",
              "      <td>0.634141</td>\n",
              "    </tr>\n",
              "    <tr>\n",
              "      <th>5</th>\n",
              "      <td>Freaks And Geeks</td>\n",
              "      <td>Childish Gambino</td>\n",
              "      <td>7xTY3rJMgj0nh6OOPHgsLw</td>\n",
              "      <td>0.623547</td>\n",
              "    </tr>\n",
              "    <tr>\n",
              "      <th>6</th>\n",
              "      <td>Ghost Town</td>\n",
              "      <td>Kanye West</td>\n",
              "      <td>6Bg7MznA9X0dIhlAsLyBYj</td>\n",
              "      <td>0.622416</td>\n",
              "    </tr>\n",
              "    <tr>\n",
              "      <th>7</th>\n",
              "      <td>By Design</td>\n",
              "      <td>Kid Cudi</td>\n",
              "      <td>5FxVTEpoBress37MmlMhbZ</td>\n",
              "      <td>0.618671</td>\n",
              "    </tr>\n",
              "    <tr>\n",
              "      <th>8</th>\n",
              "      <td>Don't Like.1</td>\n",
              "      <td>Kanye West</td>\n",
              "      <td>12D0n7hKpPcjuUpcbAKjjr</td>\n",
              "      <td>0.613521</td>\n",
              "    </tr>\n",
              "    <tr>\n",
              "      <th>9</th>\n",
              "      <td>God's Plan</td>\n",
              "      <td>Drake</td>\n",
              "      <td>6DCZcSspjsKoFjzjrWoCdn</td>\n",
              "      <td>0.607984</td>\n",
              "    </tr>\n",
              "  </tbody>\n",
              "</table>\n",
              "</div>"
            ]
          },
          "metadata": {}
        }
      ],
      "execution_count": 15,
      "metadata": {}
    },
    {
      "cell_type": "markdown",
      "source": [
        "#### 4c. Personal Favorite"
      ],
      "metadata": {}
    },
    {
      "cell_type": "code",
      "source": [
        "#Finesse (Remix) - Bruno Mars (feat. Cardi B)\n",
        "get_recs('3Vo4wInECJQuz9BIBMOu8i', k=10)"
      ],
      "outputs": [
        {
          "output_type": "execute_result",
          "execution_count": 16,
          "data": {
            "text/plain": [
              "                                  Song Name             Artist  \\\n",
              "0  That's What I Like - PARTYNEXTDOOR Remix         Bruno Mars   \n",
              "1                    The Party's Just Begun  The Cheetah Girls   \n",
              "2                                 24K Magic         Bruno Mars   \n",
              "3                    One World - Soundtrack  The Cheetah Girls   \n",
              "4                                  Good Day               DNCE   \n",
              "5               Valerie - Glee Cast Version          Glee Cast   \n",
              "6                     Malibu - Tiësto Remix        Miley Cyrus   \n",
              "7                               Lone Ranger     Rachel Platten   \n",
              "8                                  24/Seven      Big Time Rush   \n",
              "9                     All In My Head (Flex)      Fifth Harmony   \n",
              "\n",
              "                  Song ID Similarity  \n",
              "0  64TkpV7m7f09JY7K436pju   0.803541  \n",
              "1  5Au8ObNQvrwFVEgGqQQL6D   0.710488  \n",
              "2  6b8Be6ljOzmkOmFslEb23P   0.674512  \n",
              "3  7luYEwE4Y9Of5AKbrt0pJ4   0.674079  \n",
              "4  49X8pWDpmFpAITVUaudkcN   0.662769  \n",
              "5  4hBW3h6FnQNh7NRmyxLLG7   0.654222  \n",
              "6  7FKcbKrAi4uiXosKMNTjQI   0.645558  \n",
              "7  3eoyz3jZOHhko7hEwtEdnf   0.642873  \n",
              "8  6FkX1akf4mwRZSznL73kDR   0.642443  \n",
              "9  7nD9nN3jord9wWcfW3Gkcm   0.639749  "
            ],
            "text/html": [
              "<div>\n",
              "<style scoped>\n",
              "    .dataframe tbody tr th:only-of-type {\n",
              "        vertical-align: middle;\n",
              "    }\n",
              "\n",
              "    .dataframe tbody tr th {\n",
              "        vertical-align: top;\n",
              "    }\n",
              "\n",
              "    .dataframe thead th {\n",
              "        text-align: right;\n",
              "    }\n",
              "</style>\n",
              "<table border=\"1\" class=\"dataframe\">\n",
              "  <thead>\n",
              "    <tr style=\"text-align: right;\">\n",
              "      <th></th>\n",
              "      <th>Song Name</th>\n",
              "      <th>Artist</th>\n",
              "      <th>Song ID</th>\n",
              "      <th>Similarity</th>\n",
              "    </tr>\n",
              "  </thead>\n",
              "  <tbody>\n",
              "    <tr>\n",
              "      <th>0</th>\n",
              "      <td>That's What I Like - PARTYNEXTDOOR Remix</td>\n",
              "      <td>Bruno Mars</td>\n",
              "      <td>64TkpV7m7f09JY7K436pju</td>\n",
              "      <td>0.803541</td>\n",
              "    </tr>\n",
              "    <tr>\n",
              "      <th>1</th>\n",
              "      <td>The Party's Just Begun</td>\n",
              "      <td>The Cheetah Girls</td>\n",
              "      <td>5Au8ObNQvrwFVEgGqQQL6D</td>\n",
              "      <td>0.710488</td>\n",
              "    </tr>\n",
              "    <tr>\n",
              "      <th>2</th>\n",
              "      <td>24K Magic</td>\n",
              "      <td>Bruno Mars</td>\n",
              "      <td>6b8Be6ljOzmkOmFslEb23P</td>\n",
              "      <td>0.674512</td>\n",
              "    </tr>\n",
              "    <tr>\n",
              "      <th>3</th>\n",
              "      <td>One World - Soundtrack</td>\n",
              "      <td>The Cheetah Girls</td>\n",
              "      <td>7luYEwE4Y9Of5AKbrt0pJ4</td>\n",
              "      <td>0.674079</td>\n",
              "    </tr>\n",
              "    <tr>\n",
              "      <th>4</th>\n",
              "      <td>Good Day</td>\n",
              "      <td>DNCE</td>\n",
              "      <td>49X8pWDpmFpAITVUaudkcN</td>\n",
              "      <td>0.662769</td>\n",
              "    </tr>\n",
              "    <tr>\n",
              "      <th>5</th>\n",
              "      <td>Valerie - Glee Cast Version</td>\n",
              "      <td>Glee Cast</td>\n",
              "      <td>4hBW3h6FnQNh7NRmyxLLG7</td>\n",
              "      <td>0.654222</td>\n",
              "    </tr>\n",
              "    <tr>\n",
              "      <th>6</th>\n",
              "      <td>Malibu - Tiësto Remix</td>\n",
              "      <td>Miley Cyrus</td>\n",
              "      <td>7FKcbKrAi4uiXosKMNTjQI</td>\n",
              "      <td>0.645558</td>\n",
              "    </tr>\n",
              "    <tr>\n",
              "      <th>7</th>\n",
              "      <td>Lone Ranger</td>\n",
              "      <td>Rachel Platten</td>\n",
              "      <td>3eoyz3jZOHhko7hEwtEdnf</td>\n",
              "      <td>0.642873</td>\n",
              "    </tr>\n",
              "    <tr>\n",
              "      <th>8</th>\n",
              "      <td>24/Seven</td>\n",
              "      <td>Big Time Rush</td>\n",
              "      <td>6FkX1akf4mwRZSznL73kDR</td>\n",
              "      <td>0.642443</td>\n",
              "    </tr>\n",
              "    <tr>\n",
              "      <th>9</th>\n",
              "      <td>All In My Head (Flex)</td>\n",
              "      <td>Fifth Harmony</td>\n",
              "      <td>7nD9nN3jord9wWcfW3Gkcm</td>\n",
              "      <td>0.639749</td>\n",
              "    </tr>\n",
              "  </tbody>\n",
              "</table>\n",
              "</div>"
            ]
          },
          "metadata": {}
        }
      ],
      "execution_count": 16,
      "metadata": {}
    },
    {
      "cell_type": "markdown",
      "source": [
        "<a name=\"5\"></a>\n",
        "## 5. Retreiving Songs from Different Artists Only\n",
        "\nIdeally, the recommendations for a song should come from different artists than the one who performed it. Therefore, I also created a couple of functions to retrieve recommendations that aren't performed by the artist of the song given."
      ],
      "metadata": {}
    },
    {
      "cell_type": "markdown",
      "source": [
        "### 5a. Searching for Most Similar Songs (Must be Different Artist \"da\")"
      ],
      "metadata": {}
    },
    {
      "cell_type": "code",
      "source": [
        "def feat_sim_da(song_id, k=10, song_db=main_song_list, cos_sim_mat=cos_sim_mat_g):\n",
        "    '''\n",
        "    Returns array of indices for top k songs with greatest similarity to a given song, but only\n",
        "    from artists who didn't perform the given song, along with their similarity rating, \n",
        "    based on precomputed cosine similarity of feature vectors.\n",
        "\n",
        "    top_songs_feat, top_songs_feat_sim = get_sim.by_feats(ind_song_id, k, cos_sim_mat)\n",
        "    '''\n",
        "    artist_id = song_db.loc[song_id, 'artist_id']\n",
        "    artist_songs = song_db.index[song_db['artist_id'] == artist_id].drop(song_id)\n",
        "    top_songs_feat = np.argsort(cos_sim_mat[song_cosine_id[song_id]])[-2:-(k+12):-1]\n",
        "    top_songs_feat_sim = np.sort(cos_sim_mat[song_cosine_id[song_id]])[-2:-(k+12):-1]\n",
        "    \n",
        "    return top_songs_feat, top_songs_feat_sim, artist_songs"
      ],
      "outputs": [],
      "execution_count": 17,
      "metadata": {}
    },
    {
      "cell_type": "markdown",
      "source": [
        "### 5b. Retreiving `da` Recommendations in a Dataframe"
      ],
      "metadata": {}
    },
    {
      "cell_type": "code",
      "source": [
        "def get_recs_da(song_id, k=10, song_db=main_song_list, cos_sim_mat=cos_sim_mat_g):\n",
        "    try:\n",
        "        top_songs_feat, top_songs_feat_sim, artist_songs = feat_sim_da(song_id, k, main_song_list, cos_sim_mat)\n",
        "        recs = [\n",
        "            [song_id_name[song_cosine_idr[x]] for x in top_songs_feat],\n",
        "            [song_id_artist[song_cosine_idr[x]] for x in top_songs_feat],\n",
        "            [song_cosine_idr[x] for x in top_songs_feat],\n",
        "            list(top_songs_feat_sim)\n",
        "        ]\n",
        "\n",
        "        recs = pd.DataFrame(recs, index=['Song Name', 'Artist', 'Song ID', 'Similarity']).T\n",
        "        recs.set_index('Song ID', inplace=True)\n",
        "\n",
        "        for song in artist_songs:\n",
        "            if song in recs.index:\n",
        "                recs.drop(song, inplace=True)\n",
        "\n",
        "        recs.reset_index(inplace=True)\n",
        "        return recs.head(k)\n",
        "    except:\n",
        "        print('No results available for that id. Please refer to the Song Finder for a list of valid ids.')"
      ],
      "outputs": [],
      "execution_count": 18,
      "metadata": {}
    },
    {
      "cell_type": "markdown",
      "source": [
        "<a name=\"6\"></a>\n",
        "## 6. Evaluating `da` Recommendations\n",
        "\n",
        "### 6a. Final Verdict on the Model\n",
        "\n",
        "Due to the similarities being precomputed, the retrieval time for recommendations is satisfactory (see `With Arms Wide Open`).\n",
        "\n",
        "A common theme between all these recommendations is the fairly sharp drop in quality beyond the first few songs. Again, the results still sound somewhat similar, though that's only due to the general \"vibe\" of the song, which I believe is captured within certain values of `Timbre`, and the `Genres` which had been flattened.\n",
        "\n",
        "I think the variance in quality can pinned on a number of reasons:\n",
        "- The size of the dataset is quite small. 22000 songs isn't quite enough to capture enough songs with significant similarity to one another\n",
        "- Genres like Hip-Hop are hard to recommend on without lyrics as well. Songs in that genre are more reliant on that aspect of the music due to the lack of vocal melodies. \n",
        "\n",
        "All of that stated, I feel as though starting with a dataset RIAA award-winning was the correct route to take. For a dataset of the size, 10 songs per artist, it is a safe baseline of artists to choose from that most potential users of this recommender could recognize.\n",
        "\nI plan on expanding observations in the dataset by first retreiving the remaining catalogs of each artist. Afterwards, I'll look to expand by perhaps capturing Billboard singles. Afterwards, I'll consider adding lyrics to the songs as well."
      ],
      "metadata": {}
    },
    {
      "cell_type": "code",
      "source": [
        "#With Arms Wide Open - Creed\n",
        "%time\n",
        "get_recs_da('0s8OMEGJQJIUr9VFwNEH1v')"
      ],
      "outputs": [
        {
          "output_type": "stream",
          "name": "stdout",
          "text": [
            "CPU times: user 3 µs, sys: 1e+03 ns, total: 4 µs\n",
            "Wall time: 5.96 µs\n"
          ]
        },
        {
          "output_type": "execute_result",
          "execution_count": 19,
          "data": {
            "text/plain": [
              "                  Song ID                                     Song Name  \\\n",
              "0  1VjYFbXSqx9Ly9GxQVUXV1                                   Bittersweet   \n",
              "1  3J19l4hOfwFFIF715BwVcG                      Anthem for the Year 2000   \n",
              "2  49dr2StmiAoPF2qvDCJtyc  I Can Still Feel You (feat. Thompson Square)   \n",
              "3  35EXxM1zE4eg2G6f3PSle4                                       Sunburn   \n",
              "4  6UdsizHr3xyknbT8cDQNZh                                    Spotlights   \n",
              "5  5Bb88WRO4906ngHGMvkv4P                                      Cover Me   \n",
              "6  2BLkpiR7oE09eY8DHUk6Bx                       The Mountains Win Again   \n",
              "7  32zMAD8gEAa0GHQohdzBh8                                     Swallowed   \n",
              "8  4Jmh1oAENnA6JQqCQ8y9g7                             Let Me Live Again   \n",
              "9  2B49LNSMgjaQJOa5fTml4M                                   Lost In You   \n",
              "\n",
              "           Artist Similarity  \n",
              "0            Fuel   0.691316  \n",
              "1     Silverchair   0.690325  \n",
              "2  Blues Traveler   0.663882  \n",
              "3            Fuel   0.620032  \n",
              "4       Candlebox   0.618006  \n",
              "5       Candlebox   0.608484  \n",
              "6  Blues Traveler   0.604864  \n",
              "7            Bush   0.602442  \n",
              "8  Our Lady Peace   0.597611  \n",
              "9            Bush   0.591587  "
            ],
            "text/html": [
              "<div>\n",
              "<style scoped>\n",
              "    .dataframe tbody tr th:only-of-type {\n",
              "        vertical-align: middle;\n",
              "    }\n",
              "\n",
              "    .dataframe tbody tr th {\n",
              "        vertical-align: top;\n",
              "    }\n",
              "\n",
              "    .dataframe thead th {\n",
              "        text-align: right;\n",
              "    }\n",
              "</style>\n",
              "<table border=\"1\" class=\"dataframe\">\n",
              "  <thead>\n",
              "    <tr style=\"text-align: right;\">\n",
              "      <th></th>\n",
              "      <th>Song ID</th>\n",
              "      <th>Song Name</th>\n",
              "      <th>Artist</th>\n",
              "      <th>Similarity</th>\n",
              "    </tr>\n",
              "  </thead>\n",
              "  <tbody>\n",
              "    <tr>\n",
              "      <th>0</th>\n",
              "      <td>1VjYFbXSqx9Ly9GxQVUXV1</td>\n",
              "      <td>Bittersweet</td>\n",
              "      <td>Fuel</td>\n",
              "      <td>0.691316</td>\n",
              "    </tr>\n",
              "    <tr>\n",
              "      <th>1</th>\n",
              "      <td>3J19l4hOfwFFIF715BwVcG</td>\n",
              "      <td>Anthem for the Year 2000</td>\n",
              "      <td>Silverchair</td>\n",
              "      <td>0.690325</td>\n",
              "    </tr>\n",
              "    <tr>\n",
              "      <th>2</th>\n",
              "      <td>49dr2StmiAoPF2qvDCJtyc</td>\n",
              "      <td>I Can Still Feel You (feat. Thompson Square)</td>\n",
              "      <td>Blues Traveler</td>\n",
              "      <td>0.663882</td>\n",
              "    </tr>\n",
              "    <tr>\n",
              "      <th>3</th>\n",
              "      <td>35EXxM1zE4eg2G6f3PSle4</td>\n",
              "      <td>Sunburn</td>\n",
              "      <td>Fuel</td>\n",
              "      <td>0.620032</td>\n",
              "    </tr>\n",
              "    <tr>\n",
              "      <th>4</th>\n",
              "      <td>6UdsizHr3xyknbT8cDQNZh</td>\n",
              "      <td>Spotlights</td>\n",
              "      <td>Candlebox</td>\n",
              "      <td>0.618006</td>\n",
              "    </tr>\n",
              "    <tr>\n",
              "      <th>5</th>\n",
              "      <td>5Bb88WRO4906ngHGMvkv4P</td>\n",
              "      <td>Cover Me</td>\n",
              "      <td>Candlebox</td>\n",
              "      <td>0.608484</td>\n",
              "    </tr>\n",
              "    <tr>\n",
              "      <th>6</th>\n",
              "      <td>2BLkpiR7oE09eY8DHUk6Bx</td>\n",
              "      <td>The Mountains Win Again</td>\n",
              "      <td>Blues Traveler</td>\n",
              "      <td>0.604864</td>\n",
              "    </tr>\n",
              "    <tr>\n",
              "      <th>7</th>\n",
              "      <td>32zMAD8gEAa0GHQohdzBh8</td>\n",
              "      <td>Swallowed</td>\n",
              "      <td>Bush</td>\n",
              "      <td>0.602442</td>\n",
              "    </tr>\n",
              "    <tr>\n",
              "      <th>8</th>\n",
              "      <td>4Jmh1oAENnA6JQqCQ8y9g7</td>\n",
              "      <td>Let Me Live Again</td>\n",
              "      <td>Our Lady Peace</td>\n",
              "      <td>0.597611</td>\n",
              "    </tr>\n",
              "    <tr>\n",
              "      <th>9</th>\n",
              "      <td>2B49LNSMgjaQJOa5fTml4M</td>\n",
              "      <td>Lost In You</td>\n",
              "      <td>Bush</td>\n",
              "      <td>0.591587</td>\n",
              "    </tr>\n",
              "  </tbody>\n",
              "</table>\n",
              "</div>"
            ]
          },
          "metadata": {}
        }
      ],
      "execution_count": 19,
      "metadata": {}
    },
    {
      "cell_type": "code",
      "source": [
        "#Clique - Kanye West\n",
        "get_recs_da('3rbNV2GI8Vtd8byhUtXZID', k=10)"
      ],
      "outputs": [
        {
          "output_type": "execute_result",
          "execution_count": 20,
          "data": {
            "text/plain": [
              "                  Song ID                   Song Name  \\\n",
              "0  7uKSil5r7uHexnM9lukPTc  Willy Wonka (feat. Offset)   \n",
              "1  3Z2sglqDj1rDRMF5x0Sz2R                        3005   \n",
              "2  39NDBdU5Xkm5pCFGa5kZtI                     Ladders   \n",
              "3  62vpWI1CHwFy7tMIcSStl8              No Role Modelz   \n",
              "4  3AYcyxEACnmE6d96RPubID    Thrift Shop (feat. Wanz)   \n",
              "5  7xTY3rJMgj0nh6OOPHgsLw            Freaks And Geeks   \n",
              "6  5FxVTEpoBress37MmlMhbZ                   By Design   \n",
              "7  6DCZcSspjsKoFjzjrWoCdn                  God's Plan   \n",
              "8  4faiJXyBflUVVOOE9fxbeg   Tie Me Down (feat. Ray J)   \n",
              "9  5ASZFbCod633wLragmPYTj                    Renegade   \n",
              "\n",
              "                    Artist Similarity  \n",
              "0               Macklemore   0.765891  \n",
              "1         Childish Gambino    0.68663  \n",
              "2               Mac Miller   0.643684  \n",
              "3                  J. Cole   0.640834  \n",
              "4  Macklemore & Ryan Lewis   0.634141  \n",
              "5         Childish Gambino   0.623547  \n",
              "6                 Kid Cudi   0.618671  \n",
              "7                    Drake   0.607984  \n",
              "8                 New Boyz    0.59714  \n",
              "9                    JAY Z   0.591542  "
            ],
            "text/html": [
              "<div>\n",
              "<style scoped>\n",
              "    .dataframe tbody tr th:only-of-type {\n",
              "        vertical-align: middle;\n",
              "    }\n",
              "\n",
              "    .dataframe tbody tr th {\n",
              "        vertical-align: top;\n",
              "    }\n",
              "\n",
              "    .dataframe thead th {\n",
              "        text-align: right;\n",
              "    }\n",
              "</style>\n",
              "<table border=\"1\" class=\"dataframe\">\n",
              "  <thead>\n",
              "    <tr style=\"text-align: right;\">\n",
              "      <th></th>\n",
              "      <th>Song ID</th>\n",
              "      <th>Song Name</th>\n",
              "      <th>Artist</th>\n",
              "      <th>Similarity</th>\n",
              "    </tr>\n",
              "  </thead>\n",
              "  <tbody>\n",
              "    <tr>\n",
              "      <th>0</th>\n",
              "      <td>7uKSil5r7uHexnM9lukPTc</td>\n",
              "      <td>Willy Wonka (feat. Offset)</td>\n",
              "      <td>Macklemore</td>\n",
              "      <td>0.765891</td>\n",
              "    </tr>\n",
              "    <tr>\n",
              "      <th>1</th>\n",
              "      <td>3Z2sglqDj1rDRMF5x0Sz2R</td>\n",
              "      <td>3005</td>\n",
              "      <td>Childish Gambino</td>\n",
              "      <td>0.68663</td>\n",
              "    </tr>\n",
              "    <tr>\n",
              "      <th>2</th>\n",
              "      <td>39NDBdU5Xkm5pCFGa5kZtI</td>\n",
              "      <td>Ladders</td>\n",
              "      <td>Mac Miller</td>\n",
              "      <td>0.643684</td>\n",
              "    </tr>\n",
              "    <tr>\n",
              "      <th>3</th>\n",
              "      <td>62vpWI1CHwFy7tMIcSStl8</td>\n",
              "      <td>No Role Modelz</td>\n",
              "      <td>J. Cole</td>\n",
              "      <td>0.640834</td>\n",
              "    </tr>\n",
              "    <tr>\n",
              "      <th>4</th>\n",
              "      <td>3AYcyxEACnmE6d96RPubID</td>\n",
              "      <td>Thrift Shop (feat. Wanz)</td>\n",
              "      <td>Macklemore &amp; Ryan Lewis</td>\n",
              "      <td>0.634141</td>\n",
              "    </tr>\n",
              "    <tr>\n",
              "      <th>5</th>\n",
              "      <td>7xTY3rJMgj0nh6OOPHgsLw</td>\n",
              "      <td>Freaks And Geeks</td>\n",
              "      <td>Childish Gambino</td>\n",
              "      <td>0.623547</td>\n",
              "    </tr>\n",
              "    <tr>\n",
              "      <th>6</th>\n",
              "      <td>5FxVTEpoBress37MmlMhbZ</td>\n",
              "      <td>By Design</td>\n",
              "      <td>Kid Cudi</td>\n",
              "      <td>0.618671</td>\n",
              "    </tr>\n",
              "    <tr>\n",
              "      <th>7</th>\n",
              "      <td>6DCZcSspjsKoFjzjrWoCdn</td>\n",
              "      <td>God's Plan</td>\n",
              "      <td>Drake</td>\n",
              "      <td>0.607984</td>\n",
              "    </tr>\n",
              "    <tr>\n",
              "      <th>8</th>\n",
              "      <td>4faiJXyBflUVVOOE9fxbeg</td>\n",
              "      <td>Tie Me Down (feat. Ray J)</td>\n",
              "      <td>New Boyz</td>\n",
              "      <td>0.59714</td>\n",
              "    </tr>\n",
              "    <tr>\n",
              "      <th>9</th>\n",
              "      <td>5ASZFbCod633wLragmPYTj</td>\n",
              "      <td>Renegade</td>\n",
              "      <td>JAY Z</td>\n",
              "      <td>0.591542</td>\n",
              "    </tr>\n",
              "  </tbody>\n",
              "</table>\n",
              "</div>"
            ]
          },
          "metadata": {}
        }
      ],
      "execution_count": 20,
      "metadata": {}
    },
    {
      "cell_type": "code",
      "source": [
        "#Finesse (Remix) - Bruno Mars (feat. Cardi B)\n",
        "get_recs_da('3Vo4wInECJQuz9BIBMOu8i', k=10)"
      ],
      "outputs": [
        {
          "output_type": "execute_result",
          "execution_count": 25,
          "data": {
            "text/html": [
              "<div>\n",
              "<style scoped>\n",
              "    .dataframe tbody tr th:only-of-type {\n",
              "        vertical-align: middle;\n",
              "    }\n",
              "\n",
              "    .dataframe tbody tr th {\n",
              "        vertical-align: top;\n",
              "    }\n",
              "\n",
              "    .dataframe thead th {\n",
              "        text-align: right;\n",
              "    }\n",
              "</style>\n",
              "<table border=\"1\" class=\"dataframe\">\n",
              "  <thead>\n",
              "    <tr style=\"text-align: right;\">\n",
              "      <th></th>\n",
              "      <th>Song ID</th>\n",
              "      <th>Song Name</th>\n",
              "      <th>Artist</th>\n",
              "      <th>Similarity</th>\n",
              "    </tr>\n",
              "  </thead>\n",
              "  <tbody>\n",
              "    <tr>\n",
              "      <th>0</th>\n",
              "      <td>5Au8ObNQvrwFVEgGqQQL6D</td>\n",
              "      <td>The Party's Just Begun</td>\n",
              "      <td>The Cheetah Girls</td>\n",
              "      <td>0.704763</td>\n",
              "    </tr>\n",
              "    <tr>\n",
              "      <th>1</th>\n",
              "      <td>7luYEwE4Y9Of5AKbrt0pJ4</td>\n",
              "      <td>One World - Soundtrack</td>\n",
              "      <td>The Cheetah Girls</td>\n",
              "      <td>0.668331</td>\n",
              "    </tr>\n",
              "    <tr>\n",
              "      <th>2</th>\n",
              "      <td>4hBW3h6FnQNh7NRmyxLLG7</td>\n",
              "      <td>Valerie - Glee Cast Version</td>\n",
              "      <td>Glee Cast</td>\n",
              "      <td>0.654607</td>\n",
              "    </tr>\n",
              "    <tr>\n",
              "      <th>3</th>\n",
              "      <td>49X8pWDpmFpAITVUaudkcN</td>\n",
              "      <td>Good Day</td>\n",
              "      <td>DNCE</td>\n",
              "      <td>0.652296</td>\n",
              "    </tr>\n",
              "    <tr>\n",
              "      <th>4</th>\n",
              "      <td>7FKcbKrAi4uiXosKMNTjQI</td>\n",
              "      <td>Malibu - Tiësto Remix</td>\n",
              "      <td>Miley Cyrus</td>\n",
              "      <td>0.636218</td>\n",
              "    </tr>\n",
              "    <tr>\n",
              "      <th>5</th>\n",
              "      <td>7nD9nN3jord9wWcfW3Gkcm</td>\n",
              "      <td>All In My Head (Flex)</td>\n",
              "      <td>Fifth Harmony</td>\n",
              "      <td>0.635735</td>\n",
              "    </tr>\n",
              "    <tr>\n",
              "      <th>6</th>\n",
              "      <td>6FkX1akf4mwRZSznL73kDR</td>\n",
              "      <td>24/Seven</td>\n",
              "      <td>Big Time Rush</td>\n",
              "      <td>0.633974</td>\n",
              "    </tr>\n",
              "    <tr>\n",
              "      <th>7</th>\n",
              "      <td>1uXbwHHfgsXcUKfSZw5ZJ0</td>\n",
              "      <td>Run the World (Girls)</td>\n",
              "      <td>Beyoncé</td>\n",
              "      <td>0.633227</td>\n",
              "    </tr>\n",
              "    <tr>\n",
              "      <th>8</th>\n",
              "      <td>3eoyz3jZOHhko7hEwtEdnf</td>\n",
              "      <td>Lone Ranger</td>\n",
              "      <td>Rachel Platten</td>\n",
              "      <td>0.632813</td>\n",
              "    </tr>\n",
              "    <tr>\n",
              "      <th>9</th>\n",
              "      <td>7bsYIRvIUztsOGVn2iW1ZT</td>\n",
              "      <td>TV In The Morning</td>\n",
              "      <td>DNCE</td>\n",
              "      <td>0.622298</td>\n",
              "    </tr>\n",
              "  </tbody>\n",
              "</table>\n",
              "</div>"
            ],
            "text/plain": [
              "                  Song ID                    Song Name             Artist  \\\n",
              "0  5Au8ObNQvrwFVEgGqQQL6D       The Party's Just Begun  The Cheetah Girls   \n",
              "1  7luYEwE4Y9Of5AKbrt0pJ4       One World - Soundtrack  The Cheetah Girls   \n",
              "2  4hBW3h6FnQNh7NRmyxLLG7  Valerie - Glee Cast Version          Glee Cast   \n",
              "3  49X8pWDpmFpAITVUaudkcN                     Good Day               DNCE   \n",
              "4  7FKcbKrAi4uiXosKMNTjQI        Malibu - Tiësto Remix        Miley Cyrus   \n",
              "5  7nD9nN3jord9wWcfW3Gkcm        All In My Head (Flex)      Fifth Harmony   \n",
              "6  6FkX1akf4mwRZSznL73kDR                     24/Seven      Big Time Rush   \n",
              "7  1uXbwHHfgsXcUKfSZw5ZJ0        Run the World (Girls)            Beyoncé   \n",
              "8  3eoyz3jZOHhko7hEwtEdnf                  Lone Ranger     Rachel Platten   \n",
              "9  7bsYIRvIUztsOGVn2iW1ZT            TV In The Morning               DNCE   \n",
              "\n",
              "  Similarity  \n",
              "0   0.704763  \n",
              "1   0.668331  \n",
              "2   0.654607  \n",
              "3   0.652296  \n",
              "4   0.636218  \n",
              "5   0.635735  \n",
              "6   0.633974  \n",
              "7   0.633227  \n",
              "8   0.632813  \n",
              "9   0.622298  "
            ]
          },
          "metadata": {}
        }
      ],
      "execution_count": 25,
      "metadata": {}
    },
    {
      "cell_type": "markdown",
      "source": [
        "<a name=\"7\"></a>\n",
        "## 7. Looking at How Similarity Ranks Between Each Observation\n",
        "\nI find it very interesting, that out of each similarity distribution below, the song that I've tested which has the flattest distribution is \"Finesse\", by Bruno Mars. That title was probably my favorite song this past summer, and it seems to have the least in common with the other recordings in this dataset. "
      ],
      "metadata": {}
    },
    {
      "cell_type": "markdown",
      "source": [
        "##### Creed - With Arms Wide Open"
      ],
      "metadata": {}
    },
    {
      "cell_type": "code",
      "source": [
        "plt.figure(figsize=(15,7.5))\n",
        "sns.distplot(cos_sim_mat_g[8812]);"
      ],
      "outputs": [
        {
          "output_type": "display_data",
          "data": {
            "image/png": "[encoded data removed]",
            "text/plain": [
              "<Figure size 1080x540 with 1 Axes>"
            ]
          },
          "metadata": {}
        }
      ],
      "execution_count": 45,
      "metadata": {}
    },
    {
      "cell_type": "markdown",
      "source": [
        "#### Kanye West - Clique"
      ],
      "metadata": {}
    },
    {
      "cell_type": "code",
      "source": [
        "plt.figure(figsize=(15,7.5))\n",
        "sns.distplot(cos_sim_mat_g[4222]);"
      ],
      "outputs": [
        {
          "output_type": "display_data",
          "data": {
            "image/png": "[encoded data removed]",
            "text/plain": [
              "<Figure size 1080x540 with 1 Axes>"
            ]
          },
          "metadata": {}
        }
      ],
      "execution_count": 30,
      "metadata": {}
    },
    {
      "cell_type": "markdown",
      "source": [
        "##### Bruno Mars - Finesse Remix (Feat. Cardi B)"
      ],
      "metadata": {}
    },
    {
      "cell_type": "code",
      "source": [
        "plt.figure(figsize=(15,7.5))\n",
        "sns.distplot(cos_sim_mat_g[7949])"
      ],
      "outputs": [
        {
          "output_type": "execute_result",
          "execution_count": 27,
          "data": {
            "text/plain": [
              "<matplotlib.axes._subplots.AxesSubplot at 0x1a2b65fdd8>"
            ]
          },
          "metadata": {}
        },
        {
          "output_type": "display_data",
          "data": {
            "image/png": "[encoded data removed]",
            "text/plain": [
              "<Figure size 1080x540 with 1 Axes>"
            ]
          },
          "metadata": {}
        }
      ],
      "execution_count": 27,
      "metadata": {}
    }
  ],
  "metadata": {
    "kernelspec": {
      "name": "python3",
      "language": "python",
      "display_name": "Python 3"
    },
    "language_info": {
      "name": "python",
      "version": "3.6.5",
      "mimetype": "text/x-python",
      "codemirror_mode": {
        "name": "ipython",
        "version": 3
      },
      "pygments_lexer": "ipython3",
      "nbconvert_exporter": "python",
      "file_extension": ".py"
    },
    "kernel_info": {
      "name": "python3"
    },
    "nteract": {
      "version": "0.11.9"
    }
  },
  "nbformat": 4,
  "nbformat_minor": 2
}