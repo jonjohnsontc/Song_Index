{
 "cells": [
  {
   "cell_type": "markdown",
   "metadata": {},
   "source": [
    "# 04_preprocessing\n",
    "\n",
    "Description: Readying data for for modeling"
   ]
  },
  {
   "cell_type": "markdown",
   "metadata": {},
   "source": [
    "## Table of Contents\n",
    "\n",
    "1. [One-Hot Encode Genres](#1)\n",
    "2. [One-Hot Encode Additional Features](#2)\n",
    "3. [SVD on Genres](#3)\n",
    "4. [Merging Into Final Dataset](#4)"
   ]
  },
  {
   "cell_type": "code",
   "execution_count": 1,
   "metadata": {},
   "outputs": [],
   "source": [
    "import pickle\n",
    "import re\n",
    "import warnings\n",
    "\n",
    "import matplotlib.pyplot as plt\n",
    "\n",
    "import numpy as np\n",
    "import pandas as pd\n",
    "\n",
    "from sklearn.decomposition import TruncatedSVD, NMF\n",
    "from sklearn.preprocessing import StandardScaler\n",
    "\n",
    "%matplotlib inline\n",
    "\n",
    "warnings.filterwarnings(\"ignore\")"
   ]
  },
  {
   "cell_type": "markdown",
   "metadata": {},
   "source": [
    "<a name=\"1\"></a>\n",
    "## 1. One-Hot Encode Genres"
   ]
  },
  {
   "cell_type": "code",
   "execution_count": 2,
   "metadata": {},
   "outputs": [],
   "source": [
    "main_wfeats = pd.read_csv('../data/main_wfeats.csv', index_col='song_id')\n",
    "gs = pd.read_csv('../data/gsong_lookup.csv', index_col='gs_id')"
   ]
  },
  {
   "cell_type": "code",
   "execution_count": 3,
   "metadata": {},
   "outputs": [],
   "source": [
    "gsg = gs[['song_id', 'genre_name']].set_index('song_id')"
   ]
  },
  {
   "cell_type": "code",
   "execution_count": 4,
   "metadata": {},
   "outputs": [],
   "source": [
    "genre_dummies = pd.get_dummies(gsg).groupby(['song_id']).sum()"
   ]
  },
  {
   "cell_type": "code",
   "execution_count": 5,
   "metadata": {},
   "outputs": [
    {
     "data": {
      "text/plain": [
       "(21033, 561)"
      ]
     },
     "execution_count": 5,
     "metadata": {},
     "output_type": "execute_result"
    }
   ],
   "source": [
    "genre_dummies.shape"
   ]
  },
  {
   "cell_type": "code",
   "execution_count": 6,
   "metadata": {},
   "outputs": [
    {
     "data": {
      "text/html": [
       "<div>\n",
       "<style scoped>\n",
       "    .dataframe tbody tr th:only-of-type {\n",
       "        vertical-align: middle;\n",
       "    }\n",
       "\n",
       "    .dataframe tbody tr th {\n",
       "        vertical-align: top;\n",
       "    }\n",
       "\n",
       "    .dataframe thead th {\n",
       "        text-align: right;\n",
       "    }\n",
       "</style>\n",
       "<table border=\"1\" class=\"dataframe\">\n",
       "  <thead>\n",
       "    <tr style=\"text-align: right;\">\n",
       "      <th></th>\n",
       "      <th>genre_name_a cappella</th>\n",
       "      <th>genre_name_acid house</th>\n",
       "      <th>genre_name_acid jazz</th>\n",
       "      <th>genre_name_acoustic blues</th>\n",
       "      <th>genre_name_acoustic pop</th>\n",
       "      <th>genre_name_acoustic punk</th>\n",
       "      <th>genre_name_adult standards</th>\n",
       "      <th>genre_name_african rock</th>\n",
       "      <th>genre_name_album rock</th>\n",
       "      <th>genre_name_albuquerque indie</th>\n",
       "      <th>...</th>\n",
       "      <th>genre_name_vogue</th>\n",
       "      <th>genre_name_west coast rap</th>\n",
       "      <th>genre_name_west coast trap</th>\n",
       "      <th>genre_name_western swing</th>\n",
       "      <th>genre_name_world</th>\n",
       "      <th>genre_name_world worship</th>\n",
       "      <th>genre_name_worship</th>\n",
       "      <th>genre_name_wrestling</th>\n",
       "      <th>genre_name_yugoslav rock</th>\n",
       "      <th>genre_name_zolo</th>\n",
       "    </tr>\n",
       "    <tr>\n",
       "      <th>song_id</th>\n",
       "      <th></th>\n",
       "      <th></th>\n",
       "      <th></th>\n",
       "      <th></th>\n",
       "      <th></th>\n",
       "      <th></th>\n",
       "      <th></th>\n",
       "      <th></th>\n",
       "      <th></th>\n",
       "      <th></th>\n",
       "      <th></th>\n",
       "      <th></th>\n",
       "      <th></th>\n",
       "      <th></th>\n",
       "      <th></th>\n",
       "      <th></th>\n",
       "      <th></th>\n",
       "      <th></th>\n",
       "      <th></th>\n",
       "      <th></th>\n",
       "      <th></th>\n",
       "    </tr>\n",
       "  </thead>\n",
       "  <tbody>\n",
       "    <tr>\n",
       "      <th>000xQL6tZNLJzIrtIgxqSl</th>\n",
       "      <td>0</td>\n",
       "      <td>0</td>\n",
       "      <td>0</td>\n",
       "      <td>0</td>\n",
       "      <td>0</td>\n",
       "      <td>0</td>\n",
       "      <td>0</td>\n",
       "      <td>0</td>\n",
       "      <td>0</td>\n",
       "      <td>0</td>\n",
       "      <td>...</td>\n",
       "      <td>0</td>\n",
       "      <td>0</td>\n",
       "      <td>0</td>\n",
       "      <td>0</td>\n",
       "      <td>0</td>\n",
       "      <td>0</td>\n",
       "      <td>0</td>\n",
       "      <td>0</td>\n",
       "      <td>0</td>\n",
       "      <td>0</td>\n",
       "    </tr>\n",
       "    <tr>\n",
       "      <th>001wUOgo8t9VElHl45bxzr</th>\n",
       "      <td>0</td>\n",
       "      <td>0</td>\n",
       "      <td>0</td>\n",
       "      <td>0</td>\n",
       "      <td>0</td>\n",
       "      <td>0</td>\n",
       "      <td>0</td>\n",
       "      <td>0</td>\n",
       "      <td>0</td>\n",
       "      <td>0</td>\n",
       "      <td>...</td>\n",
       "      <td>0</td>\n",
       "      <td>0</td>\n",
       "      <td>0</td>\n",
       "      <td>0</td>\n",
       "      <td>0</td>\n",
       "      <td>0</td>\n",
       "      <td>0</td>\n",
       "      <td>0</td>\n",
       "      <td>0</td>\n",
       "      <td>0</td>\n",
       "    </tr>\n",
       "    <tr>\n",
       "      <th>003eoIwxETJujVWmNFMoZy</th>\n",
       "      <td>0</td>\n",
       "      <td>0</td>\n",
       "      <td>0</td>\n",
       "      <td>0</td>\n",
       "      <td>0</td>\n",
       "      <td>0</td>\n",
       "      <td>0</td>\n",
       "      <td>0</td>\n",
       "      <td>0</td>\n",
       "      <td>0</td>\n",
       "      <td>...</td>\n",
       "      <td>0</td>\n",
       "      <td>0</td>\n",
       "      <td>0</td>\n",
       "      <td>0</td>\n",
       "      <td>0</td>\n",
       "      <td>0</td>\n",
       "      <td>0</td>\n",
       "      <td>0</td>\n",
       "      <td>0</td>\n",
       "      <td>0</td>\n",
       "    </tr>\n",
       "    <tr>\n",
       "      <th>003z5LtGJ2cdJARKIO9LgL</th>\n",
       "      <td>0</td>\n",
       "      <td>0</td>\n",
       "      <td>0</td>\n",
       "      <td>0</td>\n",
       "      <td>0</td>\n",
       "      <td>0</td>\n",
       "      <td>0</td>\n",
       "      <td>0</td>\n",
       "      <td>0</td>\n",
       "      <td>0</td>\n",
       "      <td>...</td>\n",
       "      <td>0</td>\n",
       "      <td>0</td>\n",
       "      <td>0</td>\n",
       "      <td>0</td>\n",
       "      <td>0</td>\n",
       "      <td>0</td>\n",
       "      <td>0</td>\n",
       "      <td>0</td>\n",
       "      <td>0</td>\n",
       "      <td>0</td>\n",
       "    </tr>\n",
       "    <tr>\n",
       "      <th>004S8bMhFQjnbuqvdh6W71</th>\n",
       "      <td>0</td>\n",
       "      <td>0</td>\n",
       "      <td>0</td>\n",
       "      <td>0</td>\n",
       "      <td>0</td>\n",
       "      <td>0</td>\n",
       "      <td>0</td>\n",
       "      <td>0</td>\n",
       "      <td>0</td>\n",
       "      <td>0</td>\n",
       "      <td>...</td>\n",
       "      <td>0</td>\n",
       "      <td>0</td>\n",
       "      <td>0</td>\n",
       "      <td>0</td>\n",
       "      <td>0</td>\n",
       "      <td>0</td>\n",
       "      <td>0</td>\n",
       "      <td>0</td>\n",
       "      <td>0</td>\n",
       "      <td>0</td>\n",
       "    </tr>\n",
       "  </tbody>\n",
       "</table>\n",
       "<p>5 rows × 561 columns</p>\n",
       "</div>"
      ],
      "text/plain": [
       "                        genre_name_a cappella  genre_name_acid house  \\\n",
       "song_id                                                                \n",
       "000xQL6tZNLJzIrtIgxqSl                      0                      0   \n",
       "001wUOgo8t9VElHl45bxzr                      0                      0   \n",
       "003eoIwxETJujVWmNFMoZy                      0                      0   \n",
       "003z5LtGJ2cdJARKIO9LgL                      0                      0   \n",
       "004S8bMhFQjnbuqvdh6W71                      0                      0   \n",
       "\n",
       "                        genre_name_acid jazz  genre_name_acoustic blues  \\\n",
       "song_id                                                                   \n",
       "000xQL6tZNLJzIrtIgxqSl                     0                          0   \n",
       "001wUOgo8t9VElHl45bxzr                     0                          0   \n",
       "003eoIwxETJujVWmNFMoZy                     0                          0   \n",
       "003z5LtGJ2cdJARKIO9LgL                     0                          0   \n",
       "004S8bMhFQjnbuqvdh6W71                     0                          0   \n",
       "\n",
       "                        genre_name_acoustic pop  genre_name_acoustic punk  \\\n",
       "song_id                                                                     \n",
       "000xQL6tZNLJzIrtIgxqSl                        0                         0   \n",
       "001wUOgo8t9VElHl45bxzr                        0                         0   \n",
       "003eoIwxETJujVWmNFMoZy                        0                         0   \n",
       "003z5LtGJ2cdJARKIO9LgL                        0                         0   \n",
       "004S8bMhFQjnbuqvdh6W71                        0                         0   \n",
       "\n",
       "                        genre_name_adult standards  genre_name_african rock  \\\n",
       "song_id                                                                       \n",
       "000xQL6tZNLJzIrtIgxqSl                           0                        0   \n",
       "001wUOgo8t9VElHl45bxzr                           0                        0   \n",
       "003eoIwxETJujVWmNFMoZy                           0                        0   \n",
       "003z5LtGJ2cdJARKIO9LgL                           0                        0   \n",
       "004S8bMhFQjnbuqvdh6W71                           0                        0   \n",
       "\n",
       "                        genre_name_album rock  genre_name_albuquerque indie  \\\n",
       "song_id                                                                       \n",
       "000xQL6tZNLJzIrtIgxqSl                      0                             0   \n",
       "001wUOgo8t9VElHl45bxzr                      0                             0   \n",
       "003eoIwxETJujVWmNFMoZy                      0                             0   \n",
       "003z5LtGJ2cdJARKIO9LgL                      0                             0   \n",
       "004S8bMhFQjnbuqvdh6W71                      0                             0   \n",
       "\n",
       "                             ...         genre_name_vogue  \\\n",
       "song_id                      ...                            \n",
       "000xQL6tZNLJzIrtIgxqSl       ...                        0   \n",
       "001wUOgo8t9VElHl45bxzr       ...                        0   \n",
       "003eoIwxETJujVWmNFMoZy       ...                        0   \n",
       "003z5LtGJ2cdJARKIO9LgL       ...                        0   \n",
       "004S8bMhFQjnbuqvdh6W71       ...                        0   \n",
       "\n",
       "                        genre_name_west coast rap  genre_name_west coast trap  \\\n",
       "song_id                                                                         \n",
       "000xQL6tZNLJzIrtIgxqSl                          0                           0   \n",
       "001wUOgo8t9VElHl45bxzr                          0                           0   \n",
       "003eoIwxETJujVWmNFMoZy                          0                           0   \n",
       "003z5LtGJ2cdJARKIO9LgL                          0                           0   \n",
       "004S8bMhFQjnbuqvdh6W71                          0                           0   \n",
       "\n",
       "                        genre_name_western swing  genre_name_world  \\\n",
       "song_id                                                              \n",
       "000xQL6tZNLJzIrtIgxqSl                         0                 0   \n",
       "001wUOgo8t9VElHl45bxzr                         0                 0   \n",
       "003eoIwxETJujVWmNFMoZy                         0                 0   \n",
       "003z5LtGJ2cdJARKIO9LgL                         0                 0   \n",
       "004S8bMhFQjnbuqvdh6W71                         0                 0   \n",
       "\n",
       "                        genre_name_world worship  genre_name_worship  \\\n",
       "song_id                                                                \n",
       "000xQL6tZNLJzIrtIgxqSl                         0                   0   \n",
       "001wUOgo8t9VElHl45bxzr                         0                   0   \n",
       "003eoIwxETJujVWmNFMoZy                         0                   0   \n",
       "003z5LtGJ2cdJARKIO9LgL                         0                   0   \n",
       "004S8bMhFQjnbuqvdh6W71                         0                   0   \n",
       "\n",
       "                        genre_name_wrestling  genre_name_yugoslav rock  \\\n",
       "song_id                                                                  \n",
       "000xQL6tZNLJzIrtIgxqSl                     0                         0   \n",
       "001wUOgo8t9VElHl45bxzr                     0                         0   \n",
       "003eoIwxETJujVWmNFMoZy                     0                         0   \n",
       "003z5LtGJ2cdJARKIO9LgL                     0                         0   \n",
       "004S8bMhFQjnbuqvdh6W71                     0                         0   \n",
       "\n",
       "                        genre_name_zolo  \n",
       "song_id                                  \n",
       "000xQL6tZNLJzIrtIgxqSl                0  \n",
       "001wUOgo8t9VElHl45bxzr                0  \n",
       "003eoIwxETJujVWmNFMoZy                0  \n",
       "003z5LtGJ2cdJARKIO9LgL                0  \n",
       "004S8bMhFQjnbuqvdh6W71                0  \n",
       "\n",
       "[5 rows x 561 columns]"
      ]
     },
     "execution_count": 6,
     "metadata": {},
     "output_type": "execute_result"
    }
   ],
   "source": [
    "genre_dummies.head()"
   ]
  },
  {
   "cell_type": "markdown",
   "metadata": {},
   "source": [
    "##### Missing a Number of Songs With No Genre"
   ]
  },
  {
   "cell_type": "code",
   "execution_count": 7,
   "metadata": {},
   "outputs": [
    {
     "data": {
      "text/plain": [
       "(22891, 81)"
      ]
     },
     "execution_count": 7,
     "metadata": {},
     "output_type": "execute_result"
    }
   ],
   "source": [
    "main_wfeats.shape"
   ]
  },
  {
   "cell_type": "code",
   "execution_count": 8,
   "metadata": {},
   "outputs": [],
   "source": [
    "for sid in main_wfeats.index:\n",
    "    if sid not in genre_dummies.index:\n",
    "        genre_dummies.loc[sid] = 0"
   ]
  },
  {
   "cell_type": "markdown",
   "metadata": {},
   "source": [
    "##### Checking for null values"
   ]
  },
  {
   "cell_type": "code",
   "execution_count": 10,
   "metadata": {},
   "outputs": [
    {
     "data": {
      "text/html": [
       "<div>\n",
       "<style scoped>\n",
       "    .dataframe tbody tr th:only-of-type {\n",
       "        vertical-align: middle;\n",
       "    }\n",
       "\n",
       "    .dataframe tbody tr th {\n",
       "        vertical-align: top;\n",
       "    }\n",
       "\n",
       "    .dataframe thead th {\n",
       "        text-align: right;\n",
       "    }\n",
       "</style>\n",
       "<table border=\"1\" class=\"dataframe\">\n",
       "  <thead>\n",
       "    <tr style=\"text-align: right;\">\n",
       "      <th></th>\n",
       "      <th>genre_name_a cappella</th>\n",
       "      <th>genre_name_acid house</th>\n",
       "      <th>genre_name_acid jazz</th>\n",
       "      <th>genre_name_acoustic blues</th>\n",
       "      <th>genre_name_acoustic pop</th>\n",
       "      <th>genre_name_acoustic punk</th>\n",
       "      <th>genre_name_adult standards</th>\n",
       "      <th>genre_name_african rock</th>\n",
       "      <th>genre_name_album rock</th>\n",
       "      <th>genre_name_albuquerque indie</th>\n",
       "      <th>...</th>\n",
       "      <th>genre_name_vogue</th>\n",
       "      <th>genre_name_west coast rap</th>\n",
       "      <th>genre_name_west coast trap</th>\n",
       "      <th>genre_name_western swing</th>\n",
       "      <th>genre_name_world</th>\n",
       "      <th>genre_name_world worship</th>\n",
       "      <th>genre_name_worship</th>\n",
       "      <th>genre_name_wrestling</th>\n",
       "      <th>genre_name_yugoslav rock</th>\n",
       "      <th>genre_name_zolo</th>\n",
       "    </tr>\n",
       "    <tr>\n",
       "      <th>song_id</th>\n",
       "      <th></th>\n",
       "      <th></th>\n",
       "      <th></th>\n",
       "      <th></th>\n",
       "      <th></th>\n",
       "      <th></th>\n",
       "      <th></th>\n",
       "      <th></th>\n",
       "      <th></th>\n",
       "      <th></th>\n",
       "      <th></th>\n",
       "      <th></th>\n",
       "      <th></th>\n",
       "      <th></th>\n",
       "      <th></th>\n",
       "      <th></th>\n",
       "      <th></th>\n",
       "      <th></th>\n",
       "      <th></th>\n",
       "      <th></th>\n",
       "      <th></th>\n",
       "    </tr>\n",
       "  </thead>\n",
       "  <tbody>\n",
       "  </tbody>\n",
       "</table>\n",
       "<p>0 rows × 561 columns</p>\n",
       "</div>"
      ],
      "text/plain": [
       "Empty DataFrame\n",
       "Columns: [genre_name_a cappella, genre_name_acid house, genre_name_acid jazz, genre_name_acoustic blues, genre_name_acoustic pop, genre_name_acoustic punk, genre_name_adult standards, genre_name_african rock, genre_name_album rock, genre_name_albuquerque indie, genre_name_alternative country, genre_name_alternative dance, genre_name_alternative hip hop, genre_name_alternative metal, genre_name_alternative pop, genre_name_alternative rock, genre_name_american choir, genre_name_american modern classical, genre_name_anarcho-punk, genre_name_anthem worship, genre_name_anti-folk, genre_name_antiviral pop, genre_name_art pop, genre_name_art rock, genre_name_aussietronica, genre_name_australian alternative rock, genre_name_australian country, genre_name_australian dance, genre_name_australian pop, genre_name_australian rock, genre_name_ballroom, genre_name_banda, genre_name_bassline, genre_name_bebop, genre_name_big band, genre_name_big beat, genre_name_big room, genre_name_bluegrass, genre_name_blues, genre_name_blues-rock, genre_name_bolero, genre_name_bossa nova, genre_name_boston rock, genre_name_bounce, genre_name_bow pop, genre_name_boy band, genre_name_brass band, genre_name_brass ensemble, genre_name_brazilian metal, genre_name_breakbeat, genre_name_brill building pop, genre_name_brit funk, genre_name_british blues, genre_name_british contemporary classical, genre_name_british folk, genre_name_british invasion, genre_name_british soundtrack, genre_name_britpop, genre_name_broadway, genre_name_brooklyn indie, genre_name_brostep, genre_name_bubblegum dance, genre_name_bubblegum pop, genre_name_bulgarian hip hop, genre_name_cabaret, genre_name_calypso, genre_name_canadian blues, genre_name_canadian ccm, genre_name_canadian celtic, genre_name_canadian country, genre_name_canadian folk, genre_name_canadian hip hop, genre_name_canadian indie, genre_name_canadian metal, genre_name_canadian pop, genre_name_canadian punk, genre_name_canadian rock, genre_name_candy pop, genre_name_canterbury scene, genre_name_canzone napoletana, genre_name_ccm, genre_name_celtic, genre_name_celtic punk, genre_name_celtic rock, genre_name_chamber pop, genre_name_chicago blues, genre_name_chicago indie, genre_name_chicago soul, genre_name_chicano rap, genre_name_christelijk, genre_name_christian alternative rock, genre_name_christian hip hop, genre_name_christian metal, genre_name_christian music, genre_name_christian punk, genre_name_christian relaxative, genre_name_christian rock, genre_name_christmas, genre_name_christmas product, genre_name_classic canadian rock, ...]\n",
       "Index: []\n",
       "\n",
       "[0 rows x 561 columns]"
      ]
     },
     "execution_count": 10,
     "metadata": {},
     "output_type": "execute_result"
    }
   ],
   "source": [
    "genre_dummies[genre_dummies.isnull().any(1)]"
   ]
  },
  {
   "cell_type": "code",
   "execution_count": 11,
   "metadata": {},
   "outputs": [],
   "source": [
    "genre_dummies.rename(columns = lambda x: x.replace('genre_name_', 'genre_'), inplace=True)"
   ]
  },
  {
   "cell_type": "code",
   "execution_count": 12,
   "metadata": {},
   "outputs": [],
   "source": [
    "genre_dummies.to_csv('../data/genre_dummies.csv')"
   ]
  },
  {
   "cell_type": "code",
   "execution_count": 13,
   "metadata": {},
   "outputs": [],
   "source": [
    "genre_dummies = pd.read_csv('../data/genre_dummies.csv', index_col='song_id')"
   ]
  },
  {
   "cell_type": "markdown",
   "metadata": {},
   "source": [
    "<a name=\"2\"></a>\n",
    "## 2. One-Hot Encoding Additional Features\n",
    "\n",
    "I've also one-hot encoded the key and time signature features, since despite their numerical represenation, there is not an actual ordinal relationship between them."
   ]
  },
  {
   "cell_type": "code",
   "execution_count": 9,
   "metadata": {},
   "outputs": [],
   "source": [
    "main_wfeats.drop('Unnamed: 0', axis=1, inplace=True)"
   ]
  },
  {
   "cell_type": "code",
   "execution_count": 14,
   "metadata": {},
   "outputs": [],
   "source": [
    "tk_dummies = pd.get_dummies(main_wfeats[['key', 'time_signature']])"
   ]
  },
  {
   "cell_type": "code",
   "execution_count": 15,
   "metadata": {},
   "outputs": [],
   "source": [
    "main_wfeats = main_wfeats.drop(['key', 'time_signature'], 1).merge(tk_dummies, left_on='song_id', right_on='song_id')"
   ]
  },
  {
   "cell_type": "code",
   "execution_count": 16,
   "metadata": {},
   "outputs": [
    {
     "data": {
      "text/plain": [
       "(22891, 80)"
      ]
     },
     "execution_count": 16,
     "metadata": {},
     "output_type": "execute_result"
    }
   ],
   "source": [
    "main_wfeats.shape"
   ]
  },
  {
   "cell_type": "markdown",
   "metadata": {},
   "source": [
    "##### Sanity Check for null values"
   ]
  },
  {
   "cell_type": "code",
   "execution_count": 17,
   "metadata": {},
   "outputs": [
    {
     "data": {
      "text/html": [
       "<div>\n",
       "<style scoped>\n",
       "    .dataframe tbody tr th:only-of-type {\n",
       "        vertical-align: middle;\n",
       "    }\n",
       "\n",
       "    .dataframe tbody tr th {\n",
       "        vertical-align: top;\n",
       "    }\n",
       "\n",
       "    .dataframe thead th {\n",
       "        text-align: right;\n",
       "    }\n",
       "</style>\n",
       "<table border=\"1\" class=\"dataframe\">\n",
       "  <thead>\n",
       "    <tr style=\"text-align: right;\">\n",
       "      <th></th>\n",
       "      <th>album_release_date</th>\n",
       "      <th>artist_id</th>\n",
       "      <th>artist_name</th>\n",
       "      <th>duration_ms</th>\n",
       "      <th>explicit</th>\n",
       "      <th>linked_album</th>\n",
       "      <th>song_title</th>\n",
       "      <th>danceability</th>\n",
       "      <th>energy</th>\n",
       "      <th>loudness</th>\n",
       "      <th>...</th>\n",
       "      <th>pv_dim_5</th>\n",
       "      <th>pv_dim_6</th>\n",
       "      <th>pv_dim_7</th>\n",
       "      <th>pv_dim_8</th>\n",
       "      <th>pv_dim_9</th>\n",
       "      <th>pv_dim_10</th>\n",
       "      <th>pv_dim_11</th>\n",
       "      <th>pv_dim_12</th>\n",
       "      <th>key</th>\n",
       "      <th>time_signature</th>\n",
       "    </tr>\n",
       "    <tr>\n",
       "      <th>song_id</th>\n",
       "      <th></th>\n",
       "      <th></th>\n",
       "      <th></th>\n",
       "      <th></th>\n",
       "      <th></th>\n",
       "      <th></th>\n",
       "      <th></th>\n",
       "      <th></th>\n",
       "      <th></th>\n",
       "      <th></th>\n",
       "      <th></th>\n",
       "      <th></th>\n",
       "      <th></th>\n",
       "      <th></th>\n",
       "      <th></th>\n",
       "      <th></th>\n",
       "      <th></th>\n",
       "      <th></th>\n",
       "      <th></th>\n",
       "      <th></th>\n",
       "      <th></th>\n",
       "    </tr>\n",
       "  </thead>\n",
       "  <tbody>\n",
       "  </tbody>\n",
       "</table>\n",
       "<p>0 rows × 80 columns</p>\n",
       "</div>"
      ],
      "text/plain": [
       "Empty DataFrame\n",
       "Columns: [album_release_date, artist_id, artist_name, duration_ms, explicit, linked_album, song_title, danceability, energy, loudness, mode, speechiness, acousticness, instrumentalness, liveness, valence, tempo, key_changes, mean_song_conf, mean_loudness, mean_mode, mean_mode_conf, mean_tempo, mean_tempo_conf, var_song_conf, var_loudness, var_mode, var_mode_conf, var_tempo, var_tempo_conf, tm_dim_1, tm_dim_2, tm_dim_3, tm_dim_4, tm_dim_5, tm_dim_6, tm_dim_7, tm_dim_8, tm_dim_9, tm_dim_10, tm_dim_11, tm_dim_12, tv_dim_1, tv_dim_2, tv_dim_3, tv_dim_4, tv_dim_5, tv_dim_6, tv_dim_7, tv_dim_8, tv_dim_9, tv_dim_10, tv_dim_11, tv_dim_12, pm_dim_1, pm_dim_2, pm_dim_3, pm_dim_4, pm_dim_5, pm_dim_6, pm_dim_7, pm_dim_8, pm_dim_9, pm_dim_10, pm_dim_11, pm_dim_12, pv_dim_1, pv_dim_2, pv_dim_3, pv_dim_4, pv_dim_5, pv_dim_6, pv_dim_7, pv_dim_8, pv_dim_9, pv_dim_10, pv_dim_11, pv_dim_12, key, time_signature]\n",
       "Index: []\n",
       "\n",
       "[0 rows x 80 columns]"
      ]
     },
     "execution_count": 17,
     "metadata": {},
     "output_type": "execute_result"
    }
   ],
   "source": [
    "main_wfeats[main_wfeats.isnull().any(1)]"
   ]
  },
  {
   "cell_type": "markdown",
   "metadata": {},
   "source": [
    "<a name=\"3\"></a>\n",
    "## 3. SVD on Genres\n",
    "\n",
    "When I initially ran through preprocessing, and created the cosine similarity matrix to power the recommender, I had run all of my features through SVD. However, since genres make up such a large portion of my featureset, and since the genre's are directly tied to artists and not to individual songs, the song recommendations computed through the original SVD matrix often featured the same artist as the one who performed the song given. Even if we account for the performing artist, and only recommend songs that *aren't* from the artist, the resulting recommendations were quite homogenous with regard to the performing artists shown. \n",
    "\n",
    "This sort of functionality is a departure from what I expected from a recommender within my problem statement. So, in order to account for this level of homogeneity, and recommend more song titles that don't come from the same 2-3 artists, I performed SVD on just the genres. The thought was, if I can truncate the number of features reserved for genres significantly, the cosine similarity between titles will be more influenced by the actual audio features, and give the recommender a better chance of recommending songs from a diverse assortement of artists."
   ]
  },
  {
   "cell_type": "code",
   "execution_count": 18,
   "metadata": {},
   "outputs": [
    {
     "data": {
      "text/plain": [
       "561"
      ]
     },
     "execution_count": 18,
     "metadata": {},
     "output_type": "execute_result"
    }
   ],
   "source": [
    "len(genre_dummies.columns)"
   ]
  },
  {
   "cell_type": "markdown",
   "metadata": {},
   "source": [
    "##### Creating Truncated SVD with 50 Genre Components"
   ]
  },
  {
   "cell_type": "code",
   "execution_count": 19,
   "metadata": {},
   "outputs": [],
   "source": [
    "SVDg = TruncatedSVD(50)\n",
    "svd_g = SVDg.fit_transform(genre_dummies)"
   ]
  },
  {
   "cell_type": "markdown",
   "metadata": {},
   "source": [
    "### 3a. Looking at the Explained Variance Ratio\n",
    "\n",
    "The expalained variance within the first 50 components seemed enough to proceed with merging the matrix back into my dataset. If there was any less, I don't think it would capture enough variance, and therefore I'd have rerun the SVD with a larger number of components."
   ]
  },
  {
   "cell_type": "code",
   "execution_count": 20,
   "metadata": {},
   "outputs": [
    {
     "data": {
      "text/plain": [
       "Text(0, 0.5, 'variance ratio')"
      ]
     },
     "execution_count": 20,
     "metadata": {},
     "output_type": "execute_result"
    },
    {
     "data": {
      "image/png": "[encoded data removed]",
      "text/plain": [
       "<Figure size 720x540 with 1 Axes>"
      ]
     },
     "metadata": {},
     "output_type": "display_data"
    }
   ],
   "source": [
    "fig = plt.figure(figsize=(10,7.5))\n",
    "plt.bar(np.array(range(50))+1, \n",
    "        SVDg.explained_variance_ratio_, \n",
    "        color='g', \n",
    "        label='explained variance')\n",
    "plt.plot(np.array(range(50))+1, \n",
    "         np.cumsum(SVDg.explained_variance_ratio_), \n",
    "         label='cumulative explained variance')\n",
    "plt.legend()\n",
    "plt.xlabel('component')\n",
    "plt.ylabel('variance ratio')"
   ]
  },
  {
   "cell_type": "code",
   "execution_count": 21,
   "metadata": {},
   "outputs": [
    {
     "data": {
      "text/html": [
       "<div>\n",
       "<style scoped>\n",
       "    .dataframe tbody tr th:only-of-type {\n",
       "        vertical-align: middle;\n",
       "    }\n",
       "\n",
       "    .dataframe tbody tr th {\n",
       "        vertical-align: top;\n",
       "    }\n",
       "\n",
       "    .dataframe thead th {\n",
       "        text-align: right;\n",
       "    }\n",
       "</style>\n",
       "<table border=\"1\" class=\"dataframe\">\n",
       "  <thead>\n",
       "    <tr style=\"text-align: right;\">\n",
       "      <th></th>\n",
       "      <th>component_1</th>\n",
       "      <th>component_2</th>\n",
       "      <th>component_3</th>\n",
       "      <th>component_4</th>\n",
       "      <th>component_5</th>\n",
       "      <th>component_6</th>\n",
       "      <th>component_7</th>\n",
       "      <th>component_8</th>\n",
       "      <th>component_9</th>\n",
       "      <th>component_10</th>\n",
       "      <th>...</th>\n",
       "      <th>component_41</th>\n",
       "      <th>component_42</th>\n",
       "      <th>component_43</th>\n",
       "      <th>component_44</th>\n",
       "      <th>component_45</th>\n",
       "      <th>component_46</th>\n",
       "      <th>component_47</th>\n",
       "      <th>component_48</th>\n",
       "      <th>component_49</th>\n",
       "      <th>component_50</th>\n",
       "    </tr>\n",
       "    <tr>\n",
       "      <th>song_id</th>\n",
       "      <th></th>\n",
       "      <th></th>\n",
       "      <th></th>\n",
       "      <th></th>\n",
       "      <th></th>\n",
       "      <th></th>\n",
       "      <th></th>\n",
       "      <th></th>\n",
       "      <th></th>\n",
       "      <th></th>\n",
       "      <th></th>\n",
       "      <th></th>\n",
       "      <th></th>\n",
       "      <th></th>\n",
       "      <th></th>\n",
       "      <th></th>\n",
       "      <th></th>\n",
       "      <th></th>\n",
       "      <th></th>\n",
       "      <th></th>\n",
       "      <th></th>\n",
       "    </tr>\n",
       "  </thead>\n",
       "  <tbody>\n",
       "    <tr>\n",
       "      <th>000xQL6tZNLJzIrtIgxqSl</th>\n",
       "      <td>0.034297</td>\n",
       "      <td>0.518050</td>\n",
       "      <td>0.053728</td>\n",
       "      <td>0.244051</td>\n",
       "      <td>0.257620</td>\n",
       "      <td>-0.868581</td>\n",
       "      <td>-0.223638</td>\n",
       "      <td>0.074583</td>\n",
       "      <td>-0.680163</td>\n",
       "      <td>0.821611</td>\n",
       "      <td>...</td>\n",
       "      <td>-0.003460</td>\n",
       "      <td>0.011928</td>\n",
       "      <td>0.100614</td>\n",
       "      <td>-0.058651</td>\n",
       "      <td>-0.057414</td>\n",
       "      <td>0.012382</td>\n",
       "      <td>-0.012484</td>\n",
       "      <td>0.076459</td>\n",
       "      <td>0.003742</td>\n",
       "      <td>-0.014773</td>\n",
       "    </tr>\n",
       "    <tr>\n",
       "      <th>001wUOgo8t9VElHl45bxzr</th>\n",
       "      <td>0.122199</td>\n",
       "      <td>2.031721</td>\n",
       "      <td>0.938149</td>\n",
       "      <td>-0.035596</td>\n",
       "      <td>-0.062278</td>\n",
       "      <td>0.161441</td>\n",
       "      <td>0.356476</td>\n",
       "      <td>-0.039815</td>\n",
       "      <td>0.528458</td>\n",
       "      <td>-0.632784</td>\n",
       "      <td>...</td>\n",
       "      <td>-0.254008</td>\n",
       "      <td>0.380145</td>\n",
       "      <td>0.189807</td>\n",
       "      <td>0.330447</td>\n",
       "      <td>-0.120332</td>\n",
       "      <td>0.291652</td>\n",
       "      <td>-0.055658</td>\n",
       "      <td>-0.098148</td>\n",
       "      <td>0.001609</td>\n",
       "      <td>-0.171176</td>\n",
       "    </tr>\n",
       "    <tr>\n",
       "      <th>003eoIwxETJujVWmNFMoZy</th>\n",
       "      <td>0.049012</td>\n",
       "      <td>0.806849</td>\n",
       "      <td>0.210583</td>\n",
       "      <td>0.303004</td>\n",
       "      <td>0.323588</td>\n",
       "      <td>-1.145104</td>\n",
       "      <td>-0.147442</td>\n",
       "      <td>0.107252</td>\n",
       "      <td>-0.507237</td>\n",
       "      <td>0.723829</td>\n",
       "      <td>...</td>\n",
       "      <td>0.072019</td>\n",
       "      <td>-0.115762</td>\n",
       "      <td>0.130353</td>\n",
       "      <td>-0.189727</td>\n",
       "      <td>-0.129315</td>\n",
       "      <td>0.162972</td>\n",
       "      <td>-0.053747</td>\n",
       "      <td>0.073247</td>\n",
       "      <td>0.129393</td>\n",
       "      <td>0.020672</td>\n",
       "    </tr>\n",
       "    <tr>\n",
       "      <th>003z5LtGJ2cdJARKIO9LgL</th>\n",
       "      <td>0.754805</td>\n",
       "      <td>-0.008302</td>\n",
       "      <td>-0.122599</td>\n",
       "      <td>1.967584</td>\n",
       "      <td>0.204409</td>\n",
       "      <td>0.516366</td>\n",
       "      <td>-0.155120</td>\n",
       "      <td>0.224099</td>\n",
       "      <td>0.014917</td>\n",
       "      <td>-0.157300</td>\n",
       "      <td>...</td>\n",
       "      <td>0.039199</td>\n",
       "      <td>0.284415</td>\n",
       "      <td>0.167499</td>\n",
       "      <td>-0.097665</td>\n",
       "      <td>0.041186</td>\n",
       "      <td>0.048867</td>\n",
       "      <td>0.026802</td>\n",
       "      <td>-0.055070</td>\n",
       "      <td>0.091819</td>\n",
       "      <td>0.004027</td>\n",
       "    </tr>\n",
       "    <tr>\n",
       "      <th>004S8bMhFQjnbuqvdh6W71</th>\n",
       "      <td>0.422349</td>\n",
       "      <td>0.008751</td>\n",
       "      <td>0.069751</td>\n",
       "      <td>-0.120770</td>\n",
       "      <td>-0.047878</td>\n",
       "      <td>-0.066245</td>\n",
       "      <td>-0.632707</td>\n",
       "      <td>-0.322240</td>\n",
       "      <td>0.336451</td>\n",
       "      <td>0.206024</td>\n",
       "      <td>...</td>\n",
       "      <td>-0.081060</td>\n",
       "      <td>-0.014322</td>\n",
       "      <td>-0.173423</td>\n",
       "      <td>0.253491</td>\n",
       "      <td>-0.182127</td>\n",
       "      <td>0.250500</td>\n",
       "      <td>0.190280</td>\n",
       "      <td>0.087184</td>\n",
       "      <td>-0.021932</td>\n",
       "      <td>-0.171919</td>\n",
       "    </tr>\n",
       "  </tbody>\n",
       "</table>\n",
       "<p>5 rows × 50 columns</p>\n",
       "</div>"
      ],
      "text/plain": [
       "                        component_1  component_2  component_3  component_4  \\\n",
       "song_id                                                                      \n",
       "000xQL6tZNLJzIrtIgxqSl     0.034297     0.518050     0.053728     0.244051   \n",
       "001wUOgo8t9VElHl45bxzr     0.122199     2.031721     0.938149    -0.035596   \n",
       "003eoIwxETJujVWmNFMoZy     0.049012     0.806849     0.210583     0.303004   \n",
       "003z5LtGJ2cdJARKIO9LgL     0.754805    -0.008302    -0.122599     1.967584   \n",
       "004S8bMhFQjnbuqvdh6W71     0.422349     0.008751     0.069751    -0.120770   \n",
       "\n",
       "                        component_5  component_6  component_7  component_8  \\\n",
       "song_id                                                                      \n",
       "000xQL6tZNLJzIrtIgxqSl     0.257620    -0.868581    -0.223638     0.074583   \n",
       "001wUOgo8t9VElHl45bxzr    -0.062278     0.161441     0.356476    -0.039815   \n",
       "003eoIwxETJujVWmNFMoZy     0.323588    -1.145104    -0.147442     0.107252   \n",
       "003z5LtGJ2cdJARKIO9LgL     0.204409     0.516366    -0.155120     0.224099   \n",
       "004S8bMhFQjnbuqvdh6W71    -0.047878    -0.066245    -0.632707    -0.322240   \n",
       "\n",
       "                        component_9  component_10      ...       component_41  \\\n",
       "song_id                                                ...                      \n",
       "000xQL6tZNLJzIrtIgxqSl    -0.680163      0.821611      ...          -0.003460   \n",
       "001wUOgo8t9VElHl45bxzr     0.528458     -0.632784      ...          -0.254008   \n",
       "003eoIwxETJujVWmNFMoZy    -0.507237      0.723829      ...           0.072019   \n",
       "003z5LtGJ2cdJARKIO9LgL     0.014917     -0.157300      ...           0.039199   \n",
       "004S8bMhFQjnbuqvdh6W71     0.336451      0.206024      ...          -0.081060   \n",
       "\n",
       "                        component_42  component_43  component_44  \\\n",
       "song_id                                                            \n",
       "000xQL6tZNLJzIrtIgxqSl      0.011928      0.100614     -0.058651   \n",
       "001wUOgo8t9VElHl45bxzr      0.380145      0.189807      0.330447   \n",
       "003eoIwxETJujVWmNFMoZy     -0.115762      0.130353     -0.189727   \n",
       "003z5LtGJ2cdJARKIO9LgL      0.284415      0.167499     -0.097665   \n",
       "004S8bMhFQjnbuqvdh6W71     -0.014322     -0.173423      0.253491   \n",
       "\n",
       "                        component_45  component_46  component_47  \\\n",
       "song_id                                                            \n",
       "000xQL6tZNLJzIrtIgxqSl     -0.057414      0.012382     -0.012484   \n",
       "001wUOgo8t9VElHl45bxzr     -0.120332      0.291652     -0.055658   \n",
       "003eoIwxETJujVWmNFMoZy     -0.129315      0.162972     -0.053747   \n",
       "003z5LtGJ2cdJARKIO9LgL      0.041186      0.048867      0.026802   \n",
       "004S8bMhFQjnbuqvdh6W71     -0.182127      0.250500      0.190280   \n",
       "\n",
       "                        component_48  component_49  component_50  \n",
       "song_id                                                           \n",
       "000xQL6tZNLJzIrtIgxqSl      0.076459      0.003742     -0.014773  \n",
       "001wUOgo8t9VElHl45bxzr     -0.098148      0.001609     -0.171176  \n",
       "003eoIwxETJujVWmNFMoZy      0.073247      0.129393      0.020672  \n",
       "003z5LtGJ2cdJARKIO9LgL     -0.055070      0.091819      0.004027  \n",
       "004S8bMhFQjnbuqvdh6W71      0.087184     -0.021932     -0.171919  \n",
       "\n",
       "[5 rows x 50 columns]"
      ]
     },
     "execution_count": 21,
     "metadata": {},
     "output_type": "execute_result"
    }
   ],
   "source": [
    "component_names = [\"component_\"+str(i+1) for i in range(50)]\n",
    "svd_dfg = pd.DataFrame(svd_g,\n",
    "                      columns=component_names)\n",
    "svd_dfg.insert(0, 'song_id', genre_dummies.index)\n",
    "svd_dfg.set_index('song_id', inplace=True)\n",
    "svd_dfg.head()"
   ]
  },
  {
   "cell_type": "markdown",
   "metadata": {},
   "source": [
    "### 3b. Comparing the Weights of Each Component with a Feature Loadings Matrix\n",
    "\n"
   ]
  },
  {
   "cell_type": "code",
   "execution_count": 22,
   "metadata": {},
   "outputs": [],
   "source": [
    "loadings_g = pd.DataFrame(SVDg.components_,\n",
    "                        index=component_names,\n",
    "                        columns=genre_dummies.columns).T"
   ]
  },
  {
   "cell_type": "code",
   "execution_count": 23,
   "metadata": {},
   "outputs": [],
   "source": [
    "for col in loadings_g.columns:\n",
    "    loadings_g[f'abs_{col}'] = np.abs(loadings_g[col])"
   ]
  },
  {
   "cell_type": "code",
   "execution_count": 24,
   "metadata": {},
   "outputs": [
    {
     "data": {
      "text/plain": [
       "(561, 100)"
      ]
     },
     "execution_count": 24,
     "metadata": {},
     "output_type": "execute_result"
    }
   ],
   "source": [
    "loadings_g.shape"
   ]
  },
  {
   "cell_type": "code",
   "execution_count": 25,
   "metadata": {},
   "outputs": [],
   "source": [
    "def get_top_loadings(comp_num):\n",
    "    return loadings_g.sort_values(f'abs_component_{comp_num}',ascending=False).head(10)[[f'component_{comp_num}']]"
   ]
  },
  {
   "cell_type": "code",
   "execution_count": 26,
   "metadata": {},
   "outputs": [
    {
     "data": {
      "text/html": [
       "<div>\n",
       "<style scoped>\n",
       "    .dataframe tbody tr th:only-of-type {\n",
       "        vertical-align: middle;\n",
       "    }\n",
       "\n",
       "    .dataframe tbody tr th {\n",
       "        vertical-align: top;\n",
       "    }\n",
       "\n",
       "    .dataframe thead th {\n",
       "        text-align: right;\n",
       "    }\n",
       "</style>\n",
       "<table border=\"1\" class=\"dataframe\">\n",
       "  <thead>\n",
       "    <tr style=\"text-align: right;\">\n",
       "      <th></th>\n",
       "      <th>component_1</th>\n",
       "    </tr>\n",
       "  </thead>\n",
       "  <tbody>\n",
       "    <tr>\n",
       "      <th>genre_rock</th>\n",
       "      <td>0.465959</td>\n",
       "    </tr>\n",
       "    <tr>\n",
       "      <th>genre_mellow gold</th>\n",
       "      <td>0.352421</td>\n",
       "    </tr>\n",
       "    <tr>\n",
       "      <th>genre_album rock</th>\n",
       "      <td>0.351506</td>\n",
       "    </tr>\n",
       "    <tr>\n",
       "      <th>genre_classic rock</th>\n",
       "      <td>0.314779</td>\n",
       "    </tr>\n",
       "    <tr>\n",
       "      <th>genre_soft rock</th>\n",
       "      <td>0.313958</td>\n",
       "    </tr>\n",
       "    <tr>\n",
       "      <th>genre_folk rock</th>\n",
       "      <td>0.266588</td>\n",
       "    </tr>\n",
       "    <tr>\n",
       "      <th>genre_hard rock</th>\n",
       "      <td>0.203417</td>\n",
       "    </tr>\n",
       "    <tr>\n",
       "      <th>genre_southern rock</th>\n",
       "      <td>0.167607</td>\n",
       "    </tr>\n",
       "    <tr>\n",
       "      <th>genre_art rock</th>\n",
       "      <td>0.157661</td>\n",
       "    </tr>\n",
       "    <tr>\n",
       "      <th>genre_blues-rock</th>\n",
       "      <td>0.149565</td>\n",
       "    </tr>\n",
       "  </tbody>\n",
       "</table>\n",
       "</div>"
      ],
      "text/plain": [
       "                     component_1\n",
       "genre_rock              0.465959\n",
       "genre_mellow gold       0.352421\n",
       "genre_album rock        0.351506\n",
       "genre_classic rock      0.314779\n",
       "genre_soft rock         0.313958\n",
       "genre_folk rock         0.266588\n",
       "genre_hard rock         0.203417\n",
       "genre_southern rock     0.167607\n",
       "genre_art rock          0.157661\n",
       "genre_blues-rock        0.149565"
      ]
     },
     "execution_count": 26,
     "metadata": {},
     "output_type": "execute_result"
    }
   ],
   "source": [
    "get_top_loadings(1)"
   ]
  },
  {
   "cell_type": "markdown",
   "metadata": {},
   "source": [
    "I decided to grab the heighest weighted features of the first 6 components, to plot those genres against other song features, to get an idea of how the most similar song titles are clustered (in `i_feat_relationships`)."
   ]
  },
  {
   "cell_type": "markdown",
   "metadata": {},
   "source": [
    "#### Dropping Columns Before Conducting Cosine Similarity\n",
    "\n",
    "I got rid of `album_release_date`,`duration_ms`, `artist_id`, `artist_name`, `linked_album`, and `song_title` before finalizing my dataset. None are related to the song itself."
   ]
  },
  {
   "cell_type": "code",
   "execution_count": 27,
   "metadata": {},
   "outputs": [],
   "source": [
    "main_wfeats.drop(['artist_id', 'artist_name', 'album_release_date',\n",
    "                  'duration_ms', 'linked_album', 'song_title'], 1, inplace=True)"
   ]
  },
  {
   "cell_type": "code",
   "execution_count": 28,
   "metadata": {},
   "outputs": [],
   "source": [
    "main_wfeats['explicit'] = main_wfeats['explicit'].astype('float64', copy=False)"
   ]
  },
  {
   "cell_type": "code",
   "execution_count": 29,
   "metadata": {},
   "outputs": [
    {
     "data": {
      "text/plain": [
       "(22891, 74)"
      ]
     },
     "execution_count": 29,
     "metadata": {},
     "output_type": "execute_result"
    }
   ],
   "source": [
    "main_wfeats.shape"
   ]
  },
  {
   "cell_type": "code",
   "execution_count": 33,
   "metadata": {},
   "outputs": [
    {
     "data": {
      "text/plain": [
       "Index(['explicit', 'danceability', 'energy', 'loudness', 'mode', 'speechiness',\n",
       "       'acousticness', 'instrumentalness', 'liveness', 'valence', 'tempo',\n",
       "       'key_changes', 'mean_song_conf', 'mean_loudness', 'mean_mode',\n",
       "       'mean_mode_conf', 'mean_tempo', 'mean_tempo_conf', 'var_song_conf',\n",
       "       'var_loudness', 'var_mode', 'var_mode_conf', 'var_tempo',\n",
       "       'var_tempo_conf', 'tm_dim_1', 'tm_dim_2', 'tm_dim_3', 'tm_dim_4',\n",
       "       'tm_dim_5', 'tm_dim_6', 'tm_dim_7', 'tm_dim_8', 'tm_dim_9', 'tm_dim_10',\n",
       "       'tm_dim_11', 'tm_dim_12', 'tv_dim_1', 'tv_dim_2', 'tv_dim_3',\n",
       "       'tv_dim_4', 'tv_dim_5', 'tv_dim_6', 'tv_dim_7', 'tv_dim_8', 'tv_dim_9',\n",
       "       'tv_dim_10', 'tv_dim_11', 'tv_dim_12', 'pm_dim_1', 'pm_dim_2',\n",
       "       'pm_dim_3', 'pm_dim_4', 'pm_dim_5', 'pm_dim_6', 'pm_dim_7', 'pm_dim_8',\n",
       "       'pm_dim_9', 'pm_dim_10', 'pm_dim_11', 'pm_dim_12', 'pv_dim_1',\n",
       "       'pv_dim_2', 'pv_dim_3', 'pv_dim_4', 'pv_dim_5', 'pv_dim_6', 'pv_dim_7',\n",
       "       'pv_dim_8', 'pv_dim_9', 'pv_dim_10', 'pv_dim_11', 'pv_dim_12', 'key',\n",
       "       'time_signature'],\n",
       "      dtype='object')"
      ]
     },
     "execution_count": 33,
     "metadata": {},
     "output_type": "execute_result"
    }
   ],
   "source": [
    "main_wfeats.columns"
   ]
  },
  {
   "cell_type": "markdown",
   "metadata": {},
   "source": [
    "#### Adding in Genres for Cosine Similarity Ready Dataframe"
   ]
  },
  {
   "cell_type": "code",
   "execution_count": 30,
   "metadata": {},
   "outputs": [],
   "source": [
    "scale_songs = StandardScaler()\n",
    "main_songs_svd = main_wfeats.merge(svd_dfg, left_on='song_id', right_on='song_id')\n",
    "main_songs_scaled_svd = scale_songs.fit_transform(main_songs_svd)"
   ]
  },
  {
   "cell_type": "markdown",
   "metadata": {},
   "source": [
    "##### Pickling Song Listing for Calculating Cosine Similarity"
   ]
  },
  {
   "cell_type": "code",
   "execution_count": 31,
   "metadata": {},
   "outputs": [],
   "source": [
    "with open('../pickle/main_songs_scaled_svd.pkl', 'wb') as f:\n",
    "    pickle.dump(main_songs_scaled_svd, f)"
   ]
  },
  {
   "cell_type": "code",
   "execution_count": 32,
   "metadata": {},
   "outputs": [],
   "source": [
    "main_songs_svd.to_csv('../data/main_songs_svdg.csv')"
   ]
  },
  {
   "cell_type": "markdown",
   "metadata": {},
   "source": [
    "#### Next notebook: 05_cosine"
   ]
  }
 ],
 "metadata": {
  "kernelspec": {
   "display_name": "Python 3",
   "language": "python",
   "name": "python3"
  },
  "language_info": {
   "codemirror_mode": {
    "name": "ipython",
    "version": 3
   },
   "file_extension": ".py",
   "mimetype": "text/x-python",
   "name": "python",
   "nbconvert_exporter": "python",
   "pygments_lexer": "ipython3",
   "version": "3.6.5"
  }
 },
 "nbformat": 4,
 "nbformat_minor": 2
}
