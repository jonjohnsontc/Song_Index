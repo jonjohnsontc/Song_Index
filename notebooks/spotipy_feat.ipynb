{
 "cells": [
  {
   "cell_type": "markdown",
   "metadata": {},
   "source": [
    "# Querying Spotipy for Audio Features + Analysis"
   ]
  },
  {
   "cell_type": "code",
   "execution_count": 1,
   "metadata": {},
   "outputs": [],
   "source": [
    "import json\n",
    "import numpy as np\n",
    "import pandas as pd\n",
    "import pickle\n",
    "import re\n",
    "import spotipy\n",
    "from spotipy.oauth2 import SpotifyClientCredentials\n",
    "import sys\n",
    "import time"
   ]
  },
  {
   "cell_type": "code",
   "execution_count": 2,
   "metadata": {},
   "outputs": [],
   "source": [
    "client_credentials_manager = SpotifyClientCredentials(client_id=\"2414300dd5be4a3cb0e9d83ecebe3964\",\n",
    "                                                          client_secret=\"f9c2e12e1f0247a4a74cf8e821a69aa7\")\n",
    "sp = spotipy.Spotify(client_credentials_manager=client_credentials_manager)"
   ]
  },
  {
   "cell_type": "markdown",
   "metadata": {},
   "source": [
    "#### Example Retrievals"
   ]
  },
  {
   "cell_type": "code",
   "execution_count": 6,
   "metadata": {},
   "outputs": [
    {
     "data": {
      "text/plain": [
       "[{'danceability': 0.61,\n",
       "  'energy': 0.926,\n",
       "  'key': 8,\n",
       "  'loudness': -4.843,\n",
       "  'mode': 0,\n",
       "  'speechiness': 0.0479,\n",
       "  'acousticness': 0.031,\n",
       "  'instrumentalness': 0.0012,\n",
       "  'liveness': 0.0821,\n",
       "  'valence': 0.861,\n",
       "  'tempo': 172.638,\n",
       "  'type': 'audio_features',\n",
       "  'id': '62bOmKYxYg7dhrC6gH9vFn',\n",
       "  'uri': 'spotify:track:62bOmKYxYg7dhrC6gH9vFn',\n",
       "  'track_href': 'https://api.spotify.com/v1/tracks/62bOmKYxYg7dhrC6gH9vFn',\n",
       "  'analysis_url': 'https://api.spotify.com/v1/audio-analysis/62bOmKYxYg7dhrC6gH9vFn',\n",
       "  'duration_ms': 200400,\n",
       "  'time_signature': 4}]"
      ]
     },
     "execution_count": 6,
     "metadata": {},
     "output_type": "execute_result"
    }
   ],
   "source": [
    "sp.audio_features('62bOmKYxYg7dhrC6gH9vFn')"
   ]
  },
  {
   "cell_type": "code",
   "execution_count": 3,
   "metadata": {},
   "outputs": [],
   "source": [
    "example = sp.audio_analysis('62bOmKYxYg7dhrC6gH9vFn')\n",
    "del example['track']['codestring']\n",
    "del example['track']['echoprintstring']\n",
    "del example['track']['rhythmstring']\n",
    "del example['track']['synchstring']"
   ]
  },
  {
   "cell_type": "code",
   "execution_count": 4,
   "metadata": {},
   "outputs": [],
   "source": [
    "with open('../data/example_song_analysis.json', 'w') as f:\n",
    "    json.dump(example, f)"
   ]
  },
  {
   "cell_type": "markdown",
   "metadata": {},
   "source": [
    "#### Retrieving Song List from Spotipy Notebook"
   ]
  },
  {
   "cell_type": "code",
   "execution_count": 4,
   "metadata": {},
   "outputs": [],
   "source": [
    "with open('../pickle/song_list.pkl', 'rb+') as f:\n",
    "    song_list = pickle.load(f)"
   ]
  },
  {
   "cell_type": "code",
   "execution_count": 7,
   "metadata": {},
   "outputs": [
    {
     "data": {
      "text/plain": [
       "'62bOmKYxYg7dhrC6gH9vFn'"
      ]
     },
     "execution_count": 7,
     "metadata": {},
     "output_type": "execute_result"
    }
   ],
   "source": [
    "song_list[0]['tracks'][0]['id']"
   ]
  },
  {
   "cell_type": "markdown",
   "metadata": {},
   "source": [
    "#### Retrieving Audio Features for Every Song in `song_list`"
   ]
  },
  {
   "cell_type": "code",
   "execution_count": 34,
   "metadata": {},
   "outputs": [
    {
     "data": {
      "text/plain": [
       "dict"
      ]
     },
     "execution_count": 34,
     "metadata": {},
     "output_type": "execute_result"
    }
   ],
   "source": [
    "type(song_list[0])"
   ]
  },
  {
   "cell_type": "code",
   "execution_count": 35,
   "metadata": {},
   "outputs": [],
   "source": [
    "song_feat = []\n",
    "\n",
    "for i in song_list:\n",
    "    if isinstance(i, dict):\n",
    "        id_list = []\n",
    "        for k in i['tracks']:\n",
    "            id_list.append(k['id'])\n",
    "    else:\n",
    "        continue\n",
    "    try:\n",
    "        song_feat.append(sp.audio_features(id_list))\n",
    "        time.sleep(1)\n",
    "    except:\n",
    "        time.sleep(5)\n",
    "        song_feat.append(sp.audio_features(id_list))"
   ]
  },
  {
   "cell_type": "code",
   "execution_count": 33,
   "metadata": {},
   "outputs": [
    {
     "data": {
      "text/plain": [
       "241"
      ]
     },
     "execution_count": 33,
     "metadata": {},
     "output_type": "execute_result"
    }
   ],
   "source": [
    "len(song_feat)"
   ]
  },
  {
   "cell_type": "code",
   "execution_count": 36,
   "metadata": {},
   "outputs": [
    {
     "data": {
      "text/plain": [
       "2444"
      ]
     },
     "execution_count": 36,
     "metadata": {},
     "output_type": "execute_result"
    }
   ],
   "source": [
    "len(song_feat)"
   ]
  },
  {
   "cell_type": "code",
   "execution_count": 38,
   "metadata": {},
   "outputs": [],
   "source": [
    "with open('../pickle/song_feat.pkl', 'wb+') as f:\n",
    "    pickle.dump(song_feat, f)"
   ]
  },
  {
   "cell_type": "code",
   "execution_count": 39,
   "metadata": {},
   "outputs": [
    {
     "data": {
      "text/plain": [
       "[{'danceability': 0.836,\n",
       "  'energy': 0.728,\n",
       "  'key': 10,\n",
       "  'loudness': -12.058,\n",
       "  'mode': 0,\n",
       "  'speechiness': 0.234,\n",
       "  'acousticness': 0.00569,\n",
       "  'instrumentalness': 0.000819,\n",
       "  'liveness': 0.0649,\n",
       "  'valence': 0.599,\n",
       "  'tempo': 100.842,\n",
       "  'type': 'audio_features',\n",
       "  'id': '0dNiLb9FEHrRK7VFDJctiR',\n",
       "  'uri': 'spotify:track:0dNiLb9FEHrRK7VFDJctiR',\n",
       "  'track_href': 'https://api.spotify.com/v1/tracks/0dNiLb9FEHrRK7VFDJctiR',\n",
       "  'analysis_url': 'https://api.spotify.com/v1/audio-analysis/0dNiLb9FEHrRK7VFDJctiR',\n",
       "  'duration_ms': 319907,\n",
       "  'time_signature': 4},\n",
       " {'danceability': 0.891,\n",
       "  'energy': 0.319,\n",
       "  'key': 4,\n",
       "  'loudness': -16.099,\n",
       "  'mode': 0,\n",
       "  'speechiness': 0.333,\n",
       "  'acousticness': 0.0933,\n",
       "  'instrumentalness': 0.000104,\n",
       "  'liveness': 0.0482,\n",
       "  'valence': 0.687,\n",
       "  'tempo': 92.649,\n",
       "  'type': 'audio_features',\n",
       "  'id': '1Z4mVNtYGnpjHUoZVo3IMU',\n",
       "  'uri': 'spotify:track:1Z4mVNtYGnpjHUoZVo3IMU',\n",
       "  'track_href': 'https://api.spotify.com/v1/tracks/1Z4mVNtYGnpjHUoZVo3IMU',\n",
       "  'analysis_url': 'https://api.spotify.com/v1/audio-analysis/1Z4mVNtYGnpjHUoZVo3IMU',\n",
       "  'duration_ms': 284467,\n",
       "  'time_signature': 4},\n",
       " {'danceability': 0.878,\n",
       "  'energy': 0.311,\n",
       "  'key': 1,\n",
       "  'loudness': -17.401,\n",
       "  'mode': 1,\n",
       "  'speechiness': 0.324,\n",
       "  'acousticness': 0.0953,\n",
       "  'instrumentalness': 0,\n",
       "  'liveness': 0.0808,\n",
       "  'valence': 0.486,\n",
       "  'tempo': 117.759,\n",
       "  'type': 'audio_features',\n",
       "  'id': '6l1tmVO6bRmV7kSMsYaHZm',\n",
       "  'uri': 'spotify:track:6l1tmVO6bRmV7kSMsYaHZm',\n",
       "  'track_href': 'https://api.spotify.com/v1/tracks/6l1tmVO6bRmV7kSMsYaHZm',\n",
       "  'analysis_url': 'https://api.spotify.com/v1/audio-analysis/6l1tmVO6bRmV7kSMsYaHZm',\n",
       "  'duration_ms': 254027,\n",
       "  'time_signature': 4},\n",
       " {'danceability': 0.686,\n",
       "  'energy': 0.398,\n",
       "  'key': 8,\n",
       "  'loudness': -13.361,\n",
       "  'mode': 0,\n",
       "  'speechiness': 0.143,\n",
       "  'acousticness': 0.241,\n",
       "  'instrumentalness': 0,\n",
       "  'liveness': 0.0573,\n",
       "  'valence': 0.688,\n",
       "  'tempo': 80.228,\n",
       "  'type': 'audio_features',\n",
       "  'id': '2xjg1z0HGKmOT400mju8En',\n",
       "  'uri': 'spotify:track:2xjg1z0HGKmOT400mju8En',\n",
       "  'track_href': 'https://api.spotify.com/v1/tracks/2xjg1z0HGKmOT400mju8En',\n",
       "  'analysis_url': 'https://api.spotify.com/v1/audio-analysis/2xjg1z0HGKmOT400mju8En',\n",
       "  'duration_ms': 305013,\n",
       "  'time_signature': 4},\n",
       " {'danceability': 0.769,\n",
       "  'energy': 0.681,\n",
       "  'key': 1,\n",
       "  'loudness': -12.906,\n",
       "  'mode': 1,\n",
       "  'speechiness': 0.136,\n",
       "  'acousticness': 0.309,\n",
       "  'instrumentalness': 1.2e-05,\n",
       "  'liveness': 0.248,\n",
       "  'valence': 0.901,\n",
       "  'tempo': 108.462,\n",
       "  'type': 'audio_features',\n",
       "  'id': '6XEuabQxnXdbDVB58k9FFv',\n",
       "  'uri': 'spotify:track:6XEuabQxnXdbDVB58k9FFv',\n",
       "  'track_href': 'https://api.spotify.com/v1/tracks/6XEuabQxnXdbDVB58k9FFv',\n",
       "  'analysis_url': 'https://api.spotify.com/v1/audio-analysis/6XEuabQxnXdbDVB58k9FFv',\n",
       "  'duration_ms': 249507,\n",
       "  'time_signature': 4},\n",
       " {'danceability': 0.8,\n",
       "  'energy': 0.611,\n",
       "  'key': 10,\n",
       "  'loudness': -13.294,\n",
       "  'mode': 0,\n",
       "  'speechiness': 0.212,\n",
       "  'acousticness': 0.000359,\n",
       "  'instrumentalness': 0,\n",
       "  'liveness': 0.227,\n",
       "  'valence': 0.777,\n",
       "  'tempo': 118.764,\n",
       "  'type': 'audio_features',\n",
       "  'id': '6L0reMMEHvJsEX7kBo8Dm5',\n",
       "  'uri': 'spotify:track:6L0reMMEHvJsEX7kBo8Dm5',\n",
       "  'track_href': 'https://api.spotify.com/v1/tracks/6L0reMMEHvJsEX7kBo8Dm5',\n",
       "  'analysis_url': 'https://api.spotify.com/v1/audio-analysis/6L0reMMEHvJsEX7kBo8Dm5',\n",
       "  'duration_ms': 245960,\n",
       "  'time_signature': 4},\n",
       " {'danceability': 0.806,\n",
       "  'energy': 0.784,\n",
       "  'key': 10,\n",
       "  'loudness': -6.453,\n",
       "  'mode': 0,\n",
       "  'speechiness': 0.288,\n",
       "  'acousticness': 0.199,\n",
       "  'instrumentalness': 0,\n",
       "  'liveness': 0.298,\n",
       "  'valence': 0.788,\n",
       "  'tempo': 93.628,\n",
       "  'type': 'audio_features',\n",
       "  'id': '6fv8qrWMteFmNGzU6Jo0E4',\n",
       "  'uri': 'spotify:track:6fv8qrWMteFmNGzU6Jo0E4',\n",
       "  'track_href': 'https://api.spotify.com/v1/tracks/6fv8qrWMteFmNGzU6Jo0E4',\n",
       "  'analysis_url': 'https://api.spotify.com/v1/audio-analysis/6fv8qrWMteFmNGzU6Jo0E4',\n",
       "  'duration_ms': 347373,\n",
       "  'time_signature': 4},\n",
       " {'danceability': 0.947,\n",
       "  'energy': 0.672,\n",
       "  'key': 4,\n",
       "  'loudness': -13.819,\n",
       "  'mode': 0,\n",
       "  'speechiness': 0.349,\n",
       "  'acousticness': 0.0662,\n",
       "  'instrumentalness': 0,\n",
       "  'liveness': 0.0564,\n",
       "  'valence': 0.741,\n",
       "  'tempo': 109.55,\n",
       "  'type': 'audio_features',\n",
       "  'id': '5TDEIDElkU2hrMnusjPLNu',\n",
       "  'uri': 'spotify:track:5TDEIDElkU2hrMnusjPLNu',\n",
       "  'track_href': 'https://api.spotify.com/v1/tracks/5TDEIDElkU2hrMnusjPLNu',\n",
       "  'analysis_url': 'https://api.spotify.com/v1/audio-analysis/5TDEIDElkU2hrMnusjPLNu',\n",
       "  'duration_ms': 247757,\n",
       "  'time_signature': 4},\n",
       " {'danceability': 0.909,\n",
       "  'energy': 0.666,\n",
       "  'key': 4,\n",
       "  'loudness': -13.042,\n",
       "  'mode': 0,\n",
       "  'speechiness': 0.334,\n",
       "  'acousticness': 0.0186,\n",
       "  'instrumentalness': 2.98e-06,\n",
       "  'liveness': 0.109,\n",
       "  'valence': 0.705,\n",
       "  'tempo': 110.681,\n",
       "  'type': 'audio_features',\n",
       "  'id': '3hgWbb7ww1dPI3TDxsQlCI',\n",
       "  'uri': 'spotify:track:3hgWbb7ww1dPI3TDxsQlCI',\n",
       "  'track_href': 'https://api.spotify.com/v1/tracks/3hgWbb7ww1dPI3TDxsQlCI',\n",
       "  'analysis_url': 'https://api.spotify.com/v1/audio-analysis/3hgWbb7ww1dPI3TDxsQlCI',\n",
       "  'duration_ms': 344960,\n",
       "  'time_signature': 4},\n",
       " {'danceability': 0.842,\n",
       "  'energy': 0.686,\n",
       "  'key': 6,\n",
       "  'loudness': -11.672,\n",
       "  'mode': 0,\n",
       "  'speechiness': 0.138,\n",
       "  'acousticness': 0.0337,\n",
       "  'instrumentalness': 8.17e-06,\n",
       "  'liveness': 0.0526,\n",
       "  'valence': 0.785,\n",
       "  'tempo': 113.12,\n",
       "  'type': 'audio_features',\n",
       "  'id': '5YXoB0KJFppgXyxWu6G8OM',\n",
       "  'uri': 'spotify:track:5YXoB0KJFppgXyxWu6G8OM',\n",
       "  'track_href': 'https://api.spotify.com/v1/tracks/5YXoB0KJFppgXyxWu6G8OM',\n",
       "  'analysis_url': 'https://api.spotify.com/v1/audio-analysis/5YXoB0KJFppgXyxWu6G8OM',\n",
       "  'duration_ms': 330533,\n",
       "  'time_signature': 4}]"
      ]
     },
     "execution_count": 39,
     "metadata": {},
     "output_type": "execute_result"
    }
   ],
   "source": [
    "song_feat[209]"
   ]
  },
  {
   "cell_type": "markdown",
   "metadata": {},
   "source": [
    "#### Retrieving Audio Analysis for Every Song in `song_list`"
   ]
  },
  {
   "cell_type": "code",
   "execution_count": 5,
   "metadata": {},
   "outputs": [
    {
     "ename": "KeyboardInterrupt",
     "evalue": "",
     "output_type": "error",
     "traceback": [
      "\u001b[0;31m---------------------------------------------------------------------------\u001b[0m",
      "\u001b[0;31mTypeError\u001b[0m                                 Traceback (most recent call last)",
      "\u001b[0;32m~/anaconda3/lib/python3.6/site-packages/urllib3/connectionpool.py\u001b[0m in \u001b[0;36m_make_request\u001b[0;34m(self, conn, method, url, timeout, chunked, **httplib_request_kw)\u001b[0m\n\u001b[1;32m    378\u001b[0m             \u001b[0;32mtry\u001b[0m\u001b[0;34m:\u001b[0m  \u001b[0;31m# Python 2.7, use buffering of HTTP responses\u001b[0m\u001b[0;34m\u001b[0m\u001b[0m\n\u001b[0;32m--> 379\u001b[0;31m                 \u001b[0mhttplib_response\u001b[0m \u001b[0;34m=\u001b[0m \u001b[0mconn\u001b[0m\u001b[0;34m.\u001b[0m\u001b[0mgetresponse\u001b[0m\u001b[0;34m(\u001b[0m\u001b[0mbuffering\u001b[0m\u001b[0;34m=\u001b[0m\u001b[0;32mTrue\u001b[0m\u001b[0;34m)\u001b[0m\u001b[0;34m\u001b[0m\u001b[0m\n\u001b[0m\u001b[1;32m    380\u001b[0m             \u001b[0;32mexcept\u001b[0m \u001b[0mTypeError\u001b[0m\u001b[0;34m:\u001b[0m  \u001b[0;31m# Python 2.6 and older, Python 3\u001b[0m\u001b[0;34m\u001b[0m\u001b[0m\n",
      "\u001b[0;31mTypeError\u001b[0m: getresponse() got an unexpected keyword argument 'buffering'",
      "\nDuring handling of the above exception, another exception occurred:\n",
      "\u001b[0;31mKeyboardInterrupt\u001b[0m                         Traceback (most recent call last)",
      "\u001b[0;32m<ipython-input-5-30b026285142>\u001b[0m in \u001b[0;36m<module>\u001b[0;34m\u001b[0m\n\u001b[1;32m      6\u001b[0m             \u001b[0;32mtry\u001b[0m\u001b[0;34m:\u001b[0m\u001b[0;34m\u001b[0m\u001b[0m\n\u001b[0;32m----> 7\u001b[0;31m                 \u001b[0msong_analysis\u001b[0m\u001b[0;34m.\u001b[0m\u001b[0mappend\u001b[0m\u001b[0;34m(\u001b[0m\u001b[0mdict\u001b[0m\u001b[0;34m(\u001b[0m\u001b[0;34m{\u001b[0m\u001b[0mk\u001b[0m\u001b[0;34m[\u001b[0m\u001b[0;34m'id'\u001b[0m\u001b[0;34m]\u001b[0m \u001b[0;34m:\u001b[0m \u001b[0msp\u001b[0m\u001b[0;34m.\u001b[0m\u001b[0maudio_analysis\u001b[0m\u001b[0;34m(\u001b[0m\u001b[0mk\u001b[0m\u001b[0;34m[\u001b[0m\u001b[0;34m'id'\u001b[0m\u001b[0;34m]\u001b[0m\u001b[0;34m)\u001b[0m\u001b[0;34m}\u001b[0m\u001b[0;34m)\u001b[0m\u001b[0;34m)\u001b[0m\u001b[0;34m\u001b[0m\u001b[0m\n\u001b[0m\u001b[1;32m      8\u001b[0m                 \u001b[0mtime\u001b[0m\u001b[0;34m.\u001b[0m\u001b[0msleep\u001b[0m\u001b[0;34m(\u001b[0m\u001b[0;36m1\u001b[0m\u001b[0;34m)\u001b[0m\u001b[0;34m\u001b[0m\u001b[0m\n",
      "\u001b[0;32m~/anaconda3/lib/python3.6/site-packages/spotipy/client.py\u001b[0m in \u001b[0;36maudio_analysis\u001b[0;34m(self, id)\u001b[0m\n\u001b[1;32m    842\u001b[0m         \u001b[0mid\u001b[0m \u001b[0;34m=\u001b[0m \u001b[0mself\u001b[0m\u001b[0;34m.\u001b[0m\u001b[0m_get_id\u001b[0m\u001b[0;34m(\u001b[0m\u001b[0;34m'track'\u001b[0m\u001b[0;34m,\u001b[0m \u001b[0mid\u001b[0m\u001b[0;34m)\u001b[0m\u001b[0;34m\u001b[0m\u001b[0m\n\u001b[0;32m--> 843\u001b[0;31m         \u001b[0;32mreturn\u001b[0m \u001b[0mself\u001b[0m\u001b[0;34m.\u001b[0m\u001b[0m_get\u001b[0m\u001b[0;34m(\u001b[0m\u001b[0;34m'audio-analysis/'\u001b[0m\u001b[0;34m+\u001b[0m\u001b[0mid\u001b[0m\u001b[0;34m)\u001b[0m\u001b[0;34m\u001b[0m\u001b[0m\n\u001b[0m\u001b[1;32m    844\u001b[0m \u001b[0;34m\u001b[0m\u001b[0m\n",
      "\u001b[0;32m~/anaconda3/lib/python3.6/site-packages/spotipy/client.py\u001b[0m in \u001b[0;36m_get\u001b[0;34m(self, url, args, payload, **kwargs)\u001b[0m\n\u001b[1;32m    145\u001b[0m             \u001b[0;32mtry\u001b[0m\u001b[0;34m:\u001b[0m\u001b[0;34m\u001b[0m\u001b[0m\n\u001b[0;32m--> 146\u001b[0;31m                 \u001b[0;32mreturn\u001b[0m \u001b[0mself\u001b[0m\u001b[0;34m.\u001b[0m\u001b[0m_internal_call\u001b[0m\u001b[0;34m(\u001b[0m\u001b[0;34m'GET'\u001b[0m\u001b[0;34m,\u001b[0m \u001b[0murl\u001b[0m\u001b[0;34m,\u001b[0m \u001b[0mpayload\u001b[0m\u001b[0;34m,\u001b[0m \u001b[0mkwargs\u001b[0m\u001b[0;34m)\u001b[0m\u001b[0;34m\u001b[0m\u001b[0m\n\u001b[0m\u001b[1;32m    147\u001b[0m             \u001b[0;32mexcept\u001b[0m \u001b[0mSpotifyException\u001b[0m \u001b[0;32mas\u001b[0m \u001b[0me\u001b[0m\u001b[0;34m:\u001b[0m\u001b[0;34m\u001b[0m\u001b[0m\n",
      "\u001b[0;32m~/anaconda3/lib/python3.6/site-packages/spotipy/client.py\u001b[0m in \u001b[0;36m_internal_call\u001b[0;34m(self, method, url, payload, params)\u001b[0m\n\u001b[1;32m    107\u001b[0m             \u001b[0mprint\u001b[0m\u001b[0;34m(\u001b[0m\u001b[0murl\u001b[0m\u001b[0;34m)\u001b[0m\u001b[0;34m\u001b[0m\u001b[0m\n\u001b[0;32m--> 108\u001b[0;31m         \u001b[0mr\u001b[0m \u001b[0;34m=\u001b[0m \u001b[0mself\u001b[0m\u001b[0;34m.\u001b[0m\u001b[0m_session\u001b[0m\u001b[0;34m.\u001b[0m\u001b[0mrequest\u001b[0m\u001b[0;34m(\u001b[0m\u001b[0mmethod\u001b[0m\u001b[0;34m,\u001b[0m \u001b[0murl\u001b[0m\u001b[0;34m,\u001b[0m \u001b[0mheaders\u001b[0m\u001b[0;34m=\u001b[0m\u001b[0mheaders\u001b[0m\u001b[0;34m,\u001b[0m \u001b[0mproxies\u001b[0m\u001b[0;34m=\u001b[0m\u001b[0mself\u001b[0m\u001b[0;34m.\u001b[0m\u001b[0mproxies\u001b[0m\u001b[0;34m,\u001b[0m \u001b[0;34m**\u001b[0m\u001b[0margs\u001b[0m\u001b[0;34m)\u001b[0m\u001b[0;34m\u001b[0m\u001b[0m\n\u001b[0m\u001b[1;32m    109\u001b[0m \u001b[0;34m\u001b[0m\u001b[0m\n",
      "\u001b[0;32m~/anaconda3/lib/python3.6/site-packages/requests/sessions.py\u001b[0m in \u001b[0;36mrequest\u001b[0;34m(self, method, url, params, data, headers, cookies, files, auth, timeout, allow_redirects, proxies, hooks, stream, verify, cert, json)\u001b[0m\n\u001b[1;32m    501\u001b[0m         \u001b[0msend_kwargs\u001b[0m\u001b[0;34m.\u001b[0m\u001b[0mupdate\u001b[0m\u001b[0;34m(\u001b[0m\u001b[0msettings\u001b[0m\u001b[0;34m)\u001b[0m\u001b[0;34m\u001b[0m\u001b[0m\n\u001b[0;32m--> 502\u001b[0;31m         \u001b[0mresp\u001b[0m \u001b[0;34m=\u001b[0m \u001b[0mself\u001b[0m\u001b[0;34m.\u001b[0m\u001b[0msend\u001b[0m\u001b[0;34m(\u001b[0m\u001b[0mprep\u001b[0m\u001b[0;34m,\u001b[0m \u001b[0;34m**\u001b[0m\u001b[0msend_kwargs\u001b[0m\u001b[0;34m)\u001b[0m\u001b[0;34m\u001b[0m\u001b[0m\n\u001b[0m\u001b[1;32m    503\u001b[0m \u001b[0;34m\u001b[0m\u001b[0m\n",
      "\u001b[0;32m~/anaconda3/lib/python3.6/site-packages/requests/sessions.py\u001b[0m in \u001b[0;36msend\u001b[0;34m(self, request, **kwargs)\u001b[0m\n\u001b[1;32m    611\u001b[0m         \u001b[0;31m# Send the request\u001b[0m\u001b[0;34m\u001b[0m\u001b[0;34m\u001b[0m\u001b[0m\n\u001b[0;32m--> 612\u001b[0;31m         \u001b[0mr\u001b[0m \u001b[0;34m=\u001b[0m \u001b[0madapter\u001b[0m\u001b[0;34m.\u001b[0m\u001b[0msend\u001b[0m\u001b[0;34m(\u001b[0m\u001b[0mrequest\u001b[0m\u001b[0;34m,\u001b[0m \u001b[0;34m**\u001b[0m\u001b[0mkwargs\u001b[0m\u001b[0;34m)\u001b[0m\u001b[0;34m\u001b[0m\u001b[0m\n\u001b[0m\u001b[1;32m    613\u001b[0m \u001b[0;34m\u001b[0m\u001b[0m\n",
      "\u001b[0;32m~/anaconda3/lib/python3.6/site-packages/requests/adapters.py\u001b[0m in \u001b[0;36msend\u001b[0;34m(self, request, stream, timeout, verify, cert, proxies)\u001b[0m\n\u001b[1;32m    439\u001b[0m                     \u001b[0mretries\u001b[0m\u001b[0;34m=\u001b[0m\u001b[0mself\u001b[0m\u001b[0;34m.\u001b[0m\u001b[0mmax_retries\u001b[0m\u001b[0;34m,\u001b[0m\u001b[0;34m\u001b[0m\u001b[0m\n\u001b[0;32m--> 440\u001b[0;31m                     \u001b[0mtimeout\u001b[0m\u001b[0;34m=\u001b[0m\u001b[0mtimeout\u001b[0m\u001b[0;34m\u001b[0m\u001b[0m\n\u001b[0m\u001b[1;32m    441\u001b[0m                 )\n",
      "\u001b[0;32m~/anaconda3/lib/python3.6/site-packages/urllib3/connectionpool.py\u001b[0m in \u001b[0;36murlopen\u001b[0;34m(self, method, url, body, headers, retries, redirect, assert_same_host, timeout, pool_timeout, release_conn, chunked, body_pos, **response_kw)\u001b[0m\n\u001b[1;32m    599\u001b[0m                                                   \u001b[0mbody\u001b[0m\u001b[0;34m=\u001b[0m\u001b[0mbody\u001b[0m\u001b[0;34m,\u001b[0m \u001b[0mheaders\u001b[0m\u001b[0;34m=\u001b[0m\u001b[0mheaders\u001b[0m\u001b[0;34m,\u001b[0m\u001b[0;34m\u001b[0m\u001b[0m\n\u001b[0;32m--> 600\u001b[0;31m                                                   chunked=chunked)\n\u001b[0m\u001b[1;32m    601\u001b[0m \u001b[0;34m\u001b[0m\u001b[0m\n",
      "\u001b[0;32m~/anaconda3/lib/python3.6/site-packages/urllib3/connectionpool.py\u001b[0m in \u001b[0;36m_make_request\u001b[0;34m(self, conn, method, url, timeout, chunked, **httplib_request_kw)\u001b[0m\n\u001b[1;32m    381\u001b[0m                 \u001b[0;32mtry\u001b[0m\u001b[0;34m:\u001b[0m\u001b[0;34m\u001b[0m\u001b[0m\n\u001b[0;32m--> 382\u001b[0;31m                     \u001b[0mhttplib_response\u001b[0m \u001b[0;34m=\u001b[0m \u001b[0mconn\u001b[0m\u001b[0;34m.\u001b[0m\u001b[0mgetresponse\u001b[0m\u001b[0;34m(\u001b[0m\u001b[0;34m)\u001b[0m\u001b[0;34m\u001b[0m\u001b[0m\n\u001b[0m\u001b[1;32m    383\u001b[0m                 \u001b[0;32mexcept\u001b[0m \u001b[0mException\u001b[0m \u001b[0;32mas\u001b[0m \u001b[0me\u001b[0m\u001b[0;34m:\u001b[0m\u001b[0;34m\u001b[0m\u001b[0m\n",
      "\u001b[0;32m~/anaconda3/lib/python3.6/http/client.py\u001b[0m in \u001b[0;36mgetresponse\u001b[0;34m(self)\u001b[0m\n\u001b[1;32m   1330\u001b[0m             \u001b[0;32mtry\u001b[0m\u001b[0;34m:\u001b[0m\u001b[0;34m\u001b[0m\u001b[0m\n\u001b[0;32m-> 1331\u001b[0;31m                 \u001b[0mresponse\u001b[0m\u001b[0;34m.\u001b[0m\u001b[0mbegin\u001b[0m\u001b[0;34m(\u001b[0m\u001b[0;34m)\u001b[0m\u001b[0;34m\u001b[0m\u001b[0m\n\u001b[0m\u001b[1;32m   1332\u001b[0m             \u001b[0;32mexcept\u001b[0m \u001b[0mConnectionError\u001b[0m\u001b[0;34m:\u001b[0m\u001b[0;34m\u001b[0m\u001b[0m\n",
      "\u001b[0;32m~/anaconda3/lib/python3.6/http/client.py\u001b[0m in \u001b[0;36mbegin\u001b[0;34m(self)\u001b[0m\n\u001b[1;32m    296\u001b[0m         \u001b[0;32mwhile\u001b[0m \u001b[0;32mTrue\u001b[0m\u001b[0;34m:\u001b[0m\u001b[0;34m\u001b[0m\u001b[0m\n\u001b[0;32m--> 297\u001b[0;31m             \u001b[0mversion\u001b[0m\u001b[0;34m,\u001b[0m \u001b[0mstatus\u001b[0m\u001b[0;34m,\u001b[0m \u001b[0mreason\u001b[0m \u001b[0;34m=\u001b[0m \u001b[0mself\u001b[0m\u001b[0;34m.\u001b[0m\u001b[0m_read_status\u001b[0m\u001b[0;34m(\u001b[0m\u001b[0;34m)\u001b[0m\u001b[0;34m\u001b[0m\u001b[0m\n\u001b[0m\u001b[1;32m    298\u001b[0m             \u001b[0;32mif\u001b[0m \u001b[0mstatus\u001b[0m \u001b[0;34m!=\u001b[0m \u001b[0mCONTINUE\u001b[0m\u001b[0;34m:\u001b[0m\u001b[0;34m\u001b[0m\u001b[0m\n",
      "\u001b[0;32m~/anaconda3/lib/python3.6/http/client.py\u001b[0m in \u001b[0;36m_read_status\u001b[0;34m(self)\u001b[0m\n\u001b[1;32m    257\u001b[0m     \u001b[0;32mdef\u001b[0m \u001b[0m_read_status\u001b[0m\u001b[0;34m(\u001b[0m\u001b[0mself\u001b[0m\u001b[0;34m)\u001b[0m\u001b[0;34m:\u001b[0m\u001b[0;34m\u001b[0m\u001b[0m\n\u001b[0;32m--> 258\u001b[0;31m         \u001b[0mline\u001b[0m \u001b[0;34m=\u001b[0m \u001b[0mstr\u001b[0m\u001b[0;34m(\u001b[0m\u001b[0mself\u001b[0m\u001b[0;34m.\u001b[0m\u001b[0mfp\u001b[0m\u001b[0;34m.\u001b[0m\u001b[0mreadline\u001b[0m\u001b[0;34m(\u001b[0m\u001b[0m_MAXLINE\u001b[0m \u001b[0;34m+\u001b[0m \u001b[0;36m1\u001b[0m\u001b[0;34m)\u001b[0m\u001b[0;34m,\u001b[0m \u001b[0;34m\"iso-8859-1\"\u001b[0m\u001b[0;34m)\u001b[0m\u001b[0;34m\u001b[0m\u001b[0m\n\u001b[0m\u001b[1;32m    259\u001b[0m         \u001b[0;32mif\u001b[0m \u001b[0mlen\u001b[0m\u001b[0;34m(\u001b[0m\u001b[0mline\u001b[0m\u001b[0;34m)\u001b[0m \u001b[0;34m>\u001b[0m \u001b[0m_MAXLINE\u001b[0m\u001b[0;34m:\u001b[0m\u001b[0;34m\u001b[0m\u001b[0m\n",
      "\u001b[0;32m~/anaconda3/lib/python3.6/socket.py\u001b[0m in \u001b[0;36mreadinto\u001b[0;34m(self, b)\u001b[0m\n\u001b[1;32m    585\u001b[0m             \u001b[0;32mtry\u001b[0m\u001b[0;34m:\u001b[0m\u001b[0;34m\u001b[0m\u001b[0m\n\u001b[0;32m--> 586\u001b[0;31m                 \u001b[0;32mreturn\u001b[0m \u001b[0mself\u001b[0m\u001b[0;34m.\u001b[0m\u001b[0m_sock\u001b[0m\u001b[0;34m.\u001b[0m\u001b[0mrecv_into\u001b[0m\u001b[0;34m(\u001b[0m\u001b[0mb\u001b[0m\u001b[0;34m)\u001b[0m\u001b[0;34m\u001b[0m\u001b[0m\n\u001b[0m\u001b[1;32m    587\u001b[0m             \u001b[0;32mexcept\u001b[0m \u001b[0mtimeout\u001b[0m\u001b[0;34m:\u001b[0m\u001b[0;34m\u001b[0m\u001b[0m\n",
      "\u001b[0;32m~/anaconda3/lib/python3.6/site-packages/urllib3/contrib/pyopenssl.py\u001b[0m in \u001b[0;36mrecv_into\u001b[0;34m(self, *args, **kwargs)\u001b[0m\n\u001b[1;32m    276\u001b[0m         \u001b[0;32mtry\u001b[0m\u001b[0;34m:\u001b[0m\u001b[0;34m\u001b[0m\u001b[0m\n\u001b[0;32m--> 277\u001b[0;31m             \u001b[0;32mreturn\u001b[0m \u001b[0mself\u001b[0m\u001b[0;34m.\u001b[0m\u001b[0mconnection\u001b[0m\u001b[0;34m.\u001b[0m\u001b[0mrecv_into\u001b[0m\u001b[0;34m(\u001b[0m\u001b[0;34m*\u001b[0m\u001b[0margs\u001b[0m\u001b[0;34m,\u001b[0m \u001b[0;34m**\u001b[0m\u001b[0mkwargs\u001b[0m\u001b[0;34m)\u001b[0m\u001b[0;34m\u001b[0m\u001b[0m\n\u001b[0m\u001b[1;32m    278\u001b[0m         \u001b[0;32mexcept\u001b[0m \u001b[0mOpenSSL\u001b[0m\u001b[0;34m.\u001b[0m\u001b[0mSSL\u001b[0m\u001b[0;34m.\u001b[0m\u001b[0mSysCallError\u001b[0m \u001b[0;32mas\u001b[0m \u001b[0me\u001b[0m\u001b[0;34m:\u001b[0m\u001b[0;34m\u001b[0m\u001b[0m\n",
      "\u001b[0;32m~/anaconda3/lib/python3.6/site-packages/OpenSSL/SSL.py\u001b[0m in \u001b[0;36mrecv_into\u001b[0;34m(self, buffer, nbytes, flags)\u001b[0m\n\u001b[1;32m   1812\u001b[0m         \u001b[0;32melse\u001b[0m\u001b[0;34m:\u001b[0m\u001b[0;34m\u001b[0m\u001b[0m\n\u001b[0;32m-> 1813\u001b[0;31m             \u001b[0mresult\u001b[0m \u001b[0;34m=\u001b[0m \u001b[0m_lib\u001b[0m\u001b[0;34m.\u001b[0m\u001b[0mSSL_read\u001b[0m\u001b[0;34m(\u001b[0m\u001b[0mself\u001b[0m\u001b[0;34m.\u001b[0m\u001b[0m_ssl\u001b[0m\u001b[0;34m,\u001b[0m \u001b[0mbuf\u001b[0m\u001b[0;34m,\u001b[0m \u001b[0mnbytes\u001b[0m\u001b[0;34m)\u001b[0m\u001b[0;34m\u001b[0m\u001b[0m\n\u001b[0m\u001b[1;32m   1814\u001b[0m         \u001b[0mself\u001b[0m\u001b[0;34m.\u001b[0m\u001b[0m_raise_ssl_error\u001b[0m\u001b[0;34m(\u001b[0m\u001b[0mself\u001b[0m\u001b[0;34m.\u001b[0m\u001b[0m_ssl\u001b[0m\u001b[0;34m,\u001b[0m \u001b[0mresult\u001b[0m\u001b[0;34m)\u001b[0m\u001b[0;34m\u001b[0m\u001b[0m\n",
      "\u001b[0;31mKeyboardInterrupt\u001b[0m: ",
      "\nDuring handling of the above exception, another exception occurred:\n",
      "\u001b[0;31mKeyboardInterrupt\u001b[0m                         Traceback (most recent call last)",
      "\u001b[0;32m<ipython-input-5-30b026285142>\u001b[0m in \u001b[0;36m<module>\u001b[0;34m\u001b[0m\n\u001b[1;32m      8\u001b[0m                 \u001b[0mtime\u001b[0m\u001b[0;34m.\u001b[0m\u001b[0msleep\u001b[0m\u001b[0;34m(\u001b[0m\u001b[0;36m1\u001b[0m\u001b[0;34m)\u001b[0m\u001b[0;34m\u001b[0m\u001b[0m\n\u001b[1;32m      9\u001b[0m             \u001b[0;32mexcept\u001b[0m\u001b[0;34m:\u001b[0m\u001b[0;34m\u001b[0m\u001b[0m\n\u001b[0;32m---> 10\u001b[0;31m                 \u001b[0mtime\u001b[0m\u001b[0;34m.\u001b[0m\u001b[0msleep\u001b[0m\u001b[0;34m(\u001b[0m\u001b[0;36m5\u001b[0m\u001b[0;34m)\u001b[0m\u001b[0;34m\u001b[0m\u001b[0m\n\u001b[0m\u001b[1;32m     11\u001b[0m                 \u001b[0msong_analysis\u001b[0m\u001b[0;34m.\u001b[0m\u001b[0mappend\u001b[0m\u001b[0;34m(\u001b[0m\u001b[0mdict\u001b[0m\u001b[0;34m(\u001b[0m\u001b[0;34m{\u001b[0m\u001b[0mk\u001b[0m\u001b[0;34m[\u001b[0m\u001b[0;34m'id'\u001b[0m\u001b[0;34m]\u001b[0m \u001b[0;34m:\u001b[0m \u001b[0msp\u001b[0m\u001b[0;34m.\u001b[0m\u001b[0maudio_analysis\u001b[0m\u001b[0;34m(\u001b[0m\u001b[0mk\u001b[0m\u001b[0;34m[\u001b[0m\u001b[0;34m'id'\u001b[0m\u001b[0;34m]\u001b[0m\u001b[0;34m)\u001b[0m\u001b[0;34m}\u001b[0m\u001b[0;34m)\u001b[0m\u001b[0;34m)\u001b[0m\u001b[0;34m\u001b[0m\u001b[0m\n",
      "\u001b[0;31mKeyboardInterrupt\u001b[0m: "
     ]
    }
   ],
   "source": [
    "song_analysis = []\n",
    "\n",
    "for i in song_list:\n",
    "    if isinstance(i, dict):\n",
    "        for k in i['tracks']:\n",
    "            try:\n",
    "                song_analysis.append(dict({k['id'] : sp.audio_analysis(k['id'])}))\n",
    "                time.sleep(1)\n",
    "            except:\n",
    "                time.sleep(5)\n",
    "                song_analysis.append(dict({k['id'] : sp.audio_analysis(k['id'])}))"
   ]
  },
  {
   "cell_type": "code",
   "execution_count": 11,
   "metadata": {},
   "outputs": [],
   "source": [
    "with open('../data/song_analysis.json', 'w') as f:\n",
    "    json.dump(song_analysis, f)"
   ]
  },
  {
   "cell_type": "markdown",
   "metadata": {},
   "source": [
    "### Checking Progress on Song Analysis\n",
    "\n",
    "I tried retreiving audio analysis for every track that I retreived overnight, but I was only able to gather 2698 tracks so far. I need to figure out the percentage of titles that included this analysis, to see whether it's worth gathering the remaining values"
   ]
  },
  {
   "cell_type": "code",
   "execution_count": 14,
   "metadata": {},
   "outputs": [
    {
     "data": {
      "text/plain": [
       "2698"
      ]
     },
     "execution_count": 14,
     "metadata": {},
     "output_type": "execute_result"
    }
   ],
   "source": [
    "len(song_analysis)"
   ]
  },
  {
   "cell_type": "code",
   "execution_count": 16,
   "metadata": {},
   "outputs": [],
   "source": [
    "with open('../pickle/song_list.pkl', 'rb+') as f:\n",
    "    song_list = pickle.load(f)"
   ]
  },
  {
   "cell_type": "markdown",
   "metadata": {},
   "source": [
    "#### Creating Array of Song Titles + Unique ID\n",
    "\n",
    "I'll need this for a ton of different things, including checking my progress on grabbing the audio analysis."
   ]
  },
  {
   "cell_type": "code",
   "execution_count": 32,
   "metadata": {},
   "outputs": [
    {
     "data": {
      "text/plain": [
       "'Bye Bye Bye'"
      ]
     },
     "execution_count": 32,
     "metadata": {},
     "output_type": "execute_result"
    }
   ],
   "source": [
    "song_list[0]['tracks'][0]['name']"
   ]
  },
  {
   "cell_type": "code",
   "execution_count": 35,
   "metadata": {},
   "outputs": [],
   "source": [
    "master_song_list = []\n",
    "\n",
    "for entry in song_list:\n",
    "    if isinstance(entry, dict):\n",
    "        for track in entry['tracks']:\n",
    "            master_song_list.append(dict({track['name'] : track['id']}))"
   ]
  },
  {
   "cell_type": "code",
   "execution_count": 5,
   "metadata": {},
   "outputs": [],
   "source": [
    "with open('../data/master_song_list.json', 'r') as f:\n",
    "    master_song_list = json.load(f)"
   ]
  },
  {
   "cell_type": "markdown",
   "metadata": {},
   "source": [
    "##### Size of `master_song_list`"
   ]
  },
  {
   "cell_type": "code",
   "execution_count": 7,
   "metadata": {},
   "outputs": [
    {
     "data": {
      "text/plain": [
       "23888"
      ]
     },
     "execution_count": 7,
     "metadata": {},
     "output_type": "execute_result"
    }
   ],
   "source": [
    "len(master_song_list)"
   ]
  },
  {
   "cell_type": "code",
   "execution_count": 8,
   "metadata": {},
   "outputs": [
    {
     "data": {
      "text/plain": [
       "9626864"
      ]
     },
     "execution_count": 8,
     "metadata": {},
     "output_type": "execute_result"
    }
   ],
   "source": [
    "23888 * 403"
   ]
  },
  {
   "cell_type": "markdown",
   "metadata": {},
   "source": [
    "One spotify audio analysis json (not including echostring, codestring, etc) is 403 KB. Multiplying that by the number of songs indexed, and that information alone is about 9.6 GB...which means I'll need to get some serious compute going in order to complete this ."
   ]
  },
  {
   "cell_type": "markdown",
   "metadata": {},
   "source": [
    "##### Where Did I End Up At?"
   ]
  },
  {
   "cell_type": "code",
   "execution_count": 46,
   "metadata": {},
   "outputs": [
    {
     "data": {
      "text/plain": [
       "dict_items([('Bye Bye Bye', '62bOmKYxYg7dhrC6gH9vFn')])"
      ]
     },
     "execution_count": 46,
     "metadata": {},
     "output_type": "execute_result"
    }
   ],
   "source": [
    "master_song_list[0].items()"
   ]
  },
  {
   "cell_type": "code",
   "execution_count": 48,
   "metadata": {},
   "outputs": [
    {
     "name": "stdout",
     "output_type": "stream",
     "text": [
      "0qYok0f8O5DE8yJSo146dn 2697\n"
     ]
    }
   ],
   "source": [
    "for song in master_song_list:\n",
    "    for v in song.values():\n",
    "        if v == '0qYok0f8O5DE8yJSo146dn':\n",
    "            print(v , master_song_list.index(song))"
   ]
  },
  {
   "cell_type": "markdown",
   "metadata": {},
   "source": [
    "Looks like every song is included in the audio analysis."
   ]
  },
  {
   "cell_type": "markdown",
   "metadata": {},
   "source": [
    "##### Dumping Master Song List to `.json`"
   ]
  },
  {
   "cell_type": "code",
   "execution_count": 40,
   "metadata": {},
   "outputs": [],
   "source": [
    "with open('../data/master_song_list.json', 'w+') as f:\n",
    "    json.dump(master_song_list, f)"
   ]
  },
  {
   "cell_type": "code",
   "execution_count": 13,
   "metadata": {},
   "outputs": [
    {
     "data": {
      "text/plain": [
       "{'album': {'album_type': 'album',\n",
       "  'artists': [{'external_urls': {'spotify': 'https://open.spotify.com/artist/6bOYtKnpLPQSfMpS2ilotK'},\n",
       "    'href': 'https://api.spotify.com/v1/artists/6bOYtKnpLPQSfMpS2ilotK',\n",
       "    'id': '6bOYtKnpLPQSfMpS2ilotK',\n",
       "    'name': 'Bobby Vinton',\n",
       "    'type': 'artist',\n",
       "    'uri': 'spotify:artist:6bOYtKnpLPQSfMpS2ilotK'}],\n",
       "  'available_markets': ['AD',\n",
       "   'AR',\n",
       "   'AT',\n",
       "   'AU',\n",
       "   'BE',\n",
       "   'BG',\n",
       "   'BO',\n",
       "   'BR',\n",
       "   'CA',\n",
       "   'CH',\n",
       "   'CL',\n",
       "   'CO',\n",
       "   'CR',\n",
       "   'CY',\n",
       "   'CZ',\n",
       "   'DE',\n",
       "   'DK',\n",
       "   'DO',\n",
       "   'EC',\n",
       "   'EE',\n",
       "   'ES',\n",
       "   'FI',\n",
       "   'FR',\n",
       "   'GB',\n",
       "   'GR',\n",
       "   'GT',\n",
       "   'HK',\n",
       "   'HN',\n",
       "   'HU',\n",
       "   'ID',\n",
       "   'IE',\n",
       "   'IL',\n",
       "   'IS',\n",
       "   'IT',\n",
       "   'JP',\n",
       "   'LI',\n",
       "   'LT',\n",
       "   'LU',\n",
       "   'LV',\n",
       "   'MC',\n",
       "   'MT',\n",
       "   'MX',\n",
       "   'MY',\n",
       "   'NI',\n",
       "   'NL',\n",
       "   'NO',\n",
       "   'NZ',\n",
       "   'PA',\n",
       "   'PE',\n",
       "   'PH',\n",
       "   'PL',\n",
       "   'PT',\n",
       "   'PY',\n",
       "   'RO',\n",
       "   'SE',\n",
       "   'SG',\n",
       "   'SK',\n",
       "   'SV',\n",
       "   'TH',\n",
       "   'TR',\n",
       "   'TW',\n",
       "   'US',\n",
       "   'UY',\n",
       "   'VN',\n",
       "   'ZA'],\n",
       "  'external_urls': {'spotify': 'https://open.spotify.com/album/4qK4QZUSp8QdoMEm9mrzyA'},\n",
       "  'href': 'https://api.spotify.com/v1/albums/4qK4QZUSp8QdoMEm9mrzyA',\n",
       "  'id': '4qK4QZUSp8QdoMEm9mrzyA',\n",
       "  'images': [{'height': 640,\n",
       "    'url': 'https://i.scdn.co/image/ead3684db1d0822dad0c15ceaf97e2b94ebfe5b1',\n",
       "    'width': 640},\n",
       "   {'height': 300,\n",
       "    'url': 'https://i.scdn.co/image/f58d6665b1987f7514323ce99faa07e1974754fa',\n",
       "    'width': 300},\n",
       "   {'height': 64,\n",
       "    'url': 'https://i.scdn.co/image/663aa2a1f9d752dab62b3ab46264759451fc9d65',\n",
       "    'width': 64}],\n",
       "  'name': 'The Best Of Bobby Vinton',\n",
       "  'release_date': '1962',\n",
       "  'release_date_precision': 'year',\n",
       "  'total_tracks': 14,\n",
       "  'type': 'album',\n",
       "  'uri': 'spotify:album:4qK4QZUSp8QdoMEm9mrzyA'},\n",
       " 'artists': [{'external_urls': {'spotify': 'https://open.spotify.com/artist/6bOYtKnpLPQSfMpS2ilotK'},\n",
       "   'href': 'https://api.spotify.com/v1/artists/6bOYtKnpLPQSfMpS2ilotK',\n",
       "   'id': '6bOYtKnpLPQSfMpS2ilotK',\n",
       "   'name': 'Bobby Vinton',\n",
       "   'type': 'artist',\n",
       "   'uri': 'spotify:artist:6bOYtKnpLPQSfMpS2ilotK'}],\n",
       " 'available_markets': ['AD',\n",
       "  'AR',\n",
       "  'AT',\n",
       "  'AU',\n",
       "  'BE',\n",
       "  'BG',\n",
       "  'BO',\n",
       "  'BR',\n",
       "  'CA',\n",
       "  'CH',\n",
       "  'CL',\n",
       "  'CO',\n",
       "  'CR',\n",
       "  'CY',\n",
       "  'CZ',\n",
       "  'DE',\n",
       "  'DK',\n",
       "  'DO',\n",
       "  'EC',\n",
       "  'EE',\n",
       "  'ES',\n",
       "  'FI',\n",
       "  'FR',\n",
       "  'GB',\n",
       "  'GR',\n",
       "  'GT',\n",
       "  'HK',\n",
       "  'HN',\n",
       "  'HU',\n",
       "  'ID',\n",
       "  'IE',\n",
       "  'IL',\n",
       "  'IS',\n",
       "  'IT',\n",
       "  'JP',\n",
       "  'LI',\n",
       "  'LT',\n",
       "  'LU',\n",
       "  'LV',\n",
       "  'MC',\n",
       "  'MT',\n",
       "  'MX',\n",
       "  'MY',\n",
       "  'NI',\n",
       "  'NL',\n",
       "  'NO',\n",
       "  'NZ',\n",
       "  'PA',\n",
       "  'PE',\n",
       "  'PH',\n",
       "  'PL',\n",
       "  'PT',\n",
       "  'PY',\n",
       "  'RO',\n",
       "  'SE',\n",
       "  'SG',\n",
       "  'SK',\n",
       "  'SV',\n",
       "  'TH',\n",
       "  'TR',\n",
       "  'TW',\n",
       "  'US',\n",
       "  'UY',\n",
       "  'VN',\n",
       "  'ZA'],\n",
       " 'disc_number': 1,\n",
       " 'duration_ms': 158933,\n",
       " 'explicit': False,\n",
       " 'external_ids': {'isrc': 'USSM10404744'},\n",
       " 'external_urls': {'spotify': 'https://open.spotify.com/track/0qYok0f8O5DE8yJSo146dn'},\n",
       " 'href': 'https://api.spotify.com/v1/tracks/0qYok0f8O5DE8yJSo146dn',\n",
       " 'id': '0qYok0f8O5DE8yJSo146dn',\n",
       " 'is_local': False,\n",
       " 'name': 'Roses Are Red (My Love) - Single Version',\n",
       " 'popularity': 54,\n",
       " 'preview_url': 'https://p.scdn.co/mp3-preview/7c82dd5fb82f0d18d54b0120c450ab1c6bd169f2?cid=2414300dd5be4a3cb0e9d83ecebe3964',\n",
       " 'track_number': 1,\n",
       " 'type': 'track',\n",
       " 'uri': 'spotify:track:0qYok0f8O5DE8yJSo146dn'}"
      ]
     },
     "execution_count": 13,
     "metadata": {},
     "output_type": "execute_result"
    }
   ],
   "source": [
    "sp.track('0qYok0f8O5DE8yJSo146dn')"
   ]
  }
 ],
 "metadata": {
  "kernelspec": {
   "display_name": "Python 3",
   "language": "python",
   "name": "python3"
  },
  "language_info": {
   "codemirror_mode": {
    "name": "ipython",
    "version": 3
   },
   "file_extension": ".py",
   "mimetype": "text/x-python",
   "name": "python",
   "nbconvert_exporter": "python",
   "pygments_lexer": "ipython3",
   "version": "3.6.5"
  }
 },
 "nbformat": 4,
 "nbformat_minor": 2
}
