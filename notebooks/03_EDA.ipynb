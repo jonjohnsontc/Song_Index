{
 "cells": [
  {
   "cell_type": "markdown",
   "metadata": {},
   "source": [
    "# 03_EDA: Analyzing Features and Their Importance to Recommendations\n",
    "\n",
    "**Description**: Looking at the distribution of certain features. In addition, some feature sets were modified slightly if the underlying information was incorrect. \n",
    "\n",
    "**Disclaimer**: The majority of data analysis will come after the recommender has been generated, in `06_feat_relationships`."
   ]
  },
  {
   "cell_type": "markdown",
   "metadata": {},
   "source": [
    "## Table of Contents\n",
    "\n",
    "1. [Loading in Tables for EDA](#1)  \n",
    "2. [Merging Datasets](#2)  \n",
    "3. [General Feature Counts](#3)  "
   ]
  },
  {
   "cell_type": "code",
   "execution_count": 1,
   "metadata": {},
   "outputs": [],
   "source": [
    "from collections import defaultdict\n",
    "import pickle\n",
    "import re\n",
    "\n",
    "import matplotlib.pyplot as plt\n",
    "import seaborn as sns\n",
    "\n",
    "import numpy as np\n",
    "import pandas as pd\n",
    "\n",
    "%matplotlib inline"
   ]
  },
  {
   "cell_type": "markdown",
   "metadata": {},
   "source": [
    "<a name=\"1\"></a>\n",
    "## 1. Loading In Tables for EDA"
   ]
  },
  {
   "cell_type": "code",
   "execution_count": 2,
   "metadata": {},
   "outputs": [],
   "source": [
    "artists = pd.read_csv('../data/artist_list_v2.csv').set_index('s_artist_id')\n",
    "songs = pd.read_csv('../data/song_list_v2.csv').set_index('s_song_id')\n",
    "genres = pd.read_csv('../data/genres.csv')\n",
    "gs = pd.read_csv('../data/gsong_lookup.csv').set_index('gs_id')\n",
    "sec_means = pd.read_csv('../data/spotify_section_means.csv')\n",
    "sec_var = pd.read_csv('../data/spotify_section_var.csv')\n",
    "song_feats = pd.read_csv('../data/song_feats.csv').set_index('id')\n",
    "timbre_means = pd.read_csv('../data/timbre_means.csv')\n",
    "timbre_var = pd.read_csv('../data/timbre_var.csv')\n",
    "pitch_means = pd.read_csv('../data/pitch_means.csv')\n",
    "pitch_var = pd.read_csv('../data/pitch_var.csv')"
   ]
  },
  {
   "cell_type": "code",
   "execution_count": 3,
   "metadata": {},
   "outputs": [],
   "source": [
    "timbre_means.rename({'Unnamed: 0':'song_id'}, axis= 1, inplace=True)\n",
    "timbre_var.rename({'Unnamed: 0':'song_id'}, axis= 1, inplace=True)\n",
    "pitch_means.rename({'Unnamed: 0':'song_id'}, axis= 1, inplace=True)\n",
    "pitch_var.rename({'Unnamed: 0':'song_id'}, axis= 1, inplace=True)\n",
    "sec_means.rename({'Unnamed: 0':'song_id', 'confidence':'mean_song_conf',\n",
    "                  'loudness':'mean_loudness', 'mode':'mean_mode', \n",
    "                 'mode_confidence': 'mean_mode_conf', 'tempo':'mean_tempo',\n",
    "                  'tempo_confidence':'mean_tempo_conf'}, \n",
    "                 axis= 1, inplace=True)\n",
    "sec_var.rename({'Unnamed: 0':'song_id', 'confidence':'var_song_conf',\n",
    "                  'loudness':'var_loudness', 'mode':'var_mode', \n",
    "                 'mode_confidence': 'var_mode_conf', 'tempo':'var_tempo',\n",
    "                  'tempo_confidence':'var_tempo_conf'}, \n",
    "                 axis= 1, inplace=True)"
   ]
  },
  {
   "cell_type": "code",
   "execution_count": 4,
   "metadata": {},
   "outputs": [],
   "source": [
    "timbre_means.set_index('song_id', inplace=True)\n",
    "timbre_var.set_index('song_id', inplace=True)\n",
    "pitch_means.set_index('song_id', inplace=True)\n",
    "pitch_var.set_index('song_id', inplace=True)\n",
    "sec_means.set_index('song_id', inplace=True)\n",
    "sec_var.set_index('song_id', inplace=True)"
   ]
  },
  {
   "cell_type": "code",
   "execution_count": 5,
   "metadata": {},
   "outputs": [],
   "source": [
    "timbre_means.rename(columns = lambda x: 'tm_' + x, inplace=True)\n",
    "timbre_var.rename(columns = lambda x: 'tv_' + x, inplace=True)\n",
    "pitch_means.rename(columns = lambda x: 'pm_' + x, inplace=True)\n",
    "pitch_var.rename(columns = lambda x: 'pv_' + x, inplace=True)"
   ]
  },
  {
   "cell_type": "code",
   "execution_count": 6,
   "metadata": {},
   "outputs": [],
   "source": [
    "sec_means.drop('duration', axis=1, inplace=True)\n",
    "sec_var.drop('duration', axis=1, inplace=True)"
   ]
  },
  {
   "cell_type": "code",
   "execution_count": 7,
   "metadata": {},
   "outputs": [],
   "source": [
    "genres = pd.read_csv('../data/genres.csv')\n",
    "genres.rename({'Unnamed: 0':'genre_id'}, axis= 1, inplace=True)\n",
    "genres.set_index('genre_id', inplace=True)"
   ]
  },
  {
   "cell_type": "code",
   "execution_count": 8,
   "metadata": {},
   "outputs": [],
   "source": [
    "song_feats.drop('duration_ms', axis=1, inplace=True)"
   ]
  },
  {
   "cell_type": "markdown",
   "metadata": {},
   "source": [
    "<a name=\"2\"></a>\n",
    "## 2. Merging Datasets\n",
    "\n",
    "### 2a. Merging `songs` & `song_feats` Dataframes"
   ]
  },
  {
   "cell_type": "code",
   "execution_count": 9,
   "metadata": {},
   "outputs": [],
   "source": [
    "main_wfeats = pd.merge(songs, song_feats, left_on=songs.index, right_on=song_feats.index)"
   ]
  },
  {
   "cell_type": "code",
   "execution_count": 10,
   "metadata": {},
   "outputs": [
    {
     "data": {
      "text/plain": [
       "(22892, 21)"
      ]
     },
     "execution_count": 10,
     "metadata": {},
     "output_type": "execute_result"
    }
   ],
   "source": [
    "main_wfeats.shape"
   ]
  },
  {
   "cell_type": "code",
   "execution_count": 13,
   "metadata": {},
   "outputs": [],
   "source": [
    "main_wfeats.rename({'key_0':'song_id'}, axis=1, inplace=True)"
   ]
  },
  {
   "cell_type": "markdown",
   "metadata": {},
   "source": [
    "##### Sanity Check of Merged df"
   ]
  },
  {
   "cell_type": "code",
   "execution_count": 14,
   "metadata": {},
   "outputs": [
    {
     "data": {
      "text/html": [
       "<div>\n",
       "<style scoped>\n",
       "    .dataframe tbody tr th:only-of-type {\n",
       "        vertical-align: middle;\n",
       "    }\n",
       "\n",
       "    .dataframe tbody tr th {\n",
       "        vertical-align: top;\n",
       "    }\n",
       "\n",
       "    .dataframe thead th {\n",
       "        text-align: right;\n",
       "    }\n",
       "</style>\n",
       "<table border=\"1\" class=\"dataframe\">\n",
       "  <thead>\n",
       "    <tr style=\"text-align: right;\">\n",
       "      <th></th>\n",
       "      <th>song_id</th>\n",
       "      <th>album_release_date</th>\n",
       "      <th>artist_id</th>\n",
       "      <th>artist_name</th>\n",
       "      <th>duration_ms</th>\n",
       "      <th>explicit</th>\n",
       "      <th>linked_album</th>\n",
       "      <th>song_title</th>\n",
       "      <th>danceability</th>\n",
       "      <th>energy</th>\n",
       "      <th>...</th>\n",
       "      <th>loudness</th>\n",
       "      <th>mode</th>\n",
       "      <th>speechiness</th>\n",
       "      <th>acousticness</th>\n",
       "      <th>instrumentalness</th>\n",
       "      <th>liveness</th>\n",
       "      <th>valence</th>\n",
       "      <th>tempo</th>\n",
       "      <th>time_signature</th>\n",
       "      <th>key_changes</th>\n",
       "    </tr>\n",
       "  </thead>\n",
       "  <tbody>\n",
       "    <tr>\n",
       "      <th>0</th>\n",
       "      <td>6SluaPiV04KOaRTOIScoff</td>\n",
       "      <td>1995-10-13</td>\n",
       "      <td>6UE7nl9mha6s8z0wFQFIZ2</td>\n",
       "      <td>Robyn</td>\n",
       "      <td>229226.0</td>\n",
       "      <td>False</td>\n",
       "      <td>Robyn Is Here</td>\n",
       "      <td>Show Me Love - Radio Version</td>\n",
       "      <td>0.546</td>\n",
       "      <td>0.643</td>\n",
       "      <td>...</td>\n",
       "      <td>-4.069</td>\n",
       "      <td>0</td>\n",
       "      <td>0.0437</td>\n",
       "      <td>0.0746</td>\n",
       "      <td>0.0</td>\n",
       "      <td>0.213</td>\n",
       "      <td>0.706</td>\n",
       "      <td>181.838</td>\n",
       "      <td>4</td>\n",
       "      <td>7</td>\n",
       "    </tr>\n",
       "  </tbody>\n",
       "</table>\n",
       "<p>1 rows × 21 columns</p>\n",
       "</div>"
      ],
      "text/plain": [
       "                  song_id album_release_date               artist_id  \\\n",
       "0  6SluaPiV04KOaRTOIScoff         1995-10-13  6UE7nl9mha6s8z0wFQFIZ2   \n",
       "\n",
       "  artist_name  duration_ms  explicit   linked_album  \\\n",
       "0       Robyn     229226.0     False  Robyn Is Here   \n",
       "\n",
       "                     song_title  danceability  energy     ...       loudness  \\\n",
       "0  Show Me Love - Radio Version         0.546   0.643     ...         -4.069   \n",
       "\n",
       "   mode  speechiness  acousticness  instrumentalness  liveness  valence  \\\n",
       "0     0       0.0437        0.0746               0.0     0.213    0.706   \n",
       "\n",
       "     tempo  time_signature  key_changes  \n",
       "0  181.838               4            7  \n",
       "\n",
       "[1 rows x 21 columns]"
      ]
     },
     "execution_count": 14,
     "metadata": {},
     "output_type": "execute_result"
    }
   ],
   "source": [
    "main_wfeats.head(1)"
   ]
  },
  {
   "cell_type": "markdown",
   "metadata": {},
   "source": [
    "### 2b. Adding In Section + Segment Based Features"
   ]
  },
  {
   "cell_type": "markdown",
   "metadata": {},
   "source": [
    "##### Adding Section Means"
   ]
  },
  {
   "cell_type": "code",
   "execution_count": 15,
   "metadata": {},
   "outputs": [],
   "source": [
    "main_wfeats = main_wfeats.merge(sec_means, left_on='song_id', right_on='song_id')"
   ]
  },
  {
   "cell_type": "markdown",
   "metadata": {},
   "source": [
    "##### Adding Variance of Sections"
   ]
  },
  {
   "cell_type": "code",
   "execution_count": 16,
   "metadata": {},
   "outputs": [],
   "source": [
    "main_wfeats = main_wfeats.merge(sec_var, left_on='song_id', right_on='song_id')"
   ]
  },
  {
   "cell_type": "markdown",
   "metadata": {},
   "source": [
    "##### Adding Pitch and Timbre Features"
   ]
  },
  {
   "cell_type": "code",
   "execution_count": 17,
   "metadata": {},
   "outputs": [],
   "source": [
    "main_wfeats = main_wfeats.merge(timbre_means, left_on='song_id', right_on='song_id')\n",
    "main_wfeats = main_wfeats.merge(timbre_var, left_on='song_id', right_on='song_id')\n",
    "main_wfeats = main_wfeats.merge(pitch_means, left_on='song_id', right_on='song_id')\n",
    "main_wfeats = main_wfeats.merge(pitch_var, left_on='song_id', right_on='song_id')"
   ]
  },
  {
   "cell_type": "markdown",
   "metadata": {},
   "source": [
    "<a name=\"3\"></a>\n",
    "## 3. General Feature Counts\n",
    "\n",
    "Here, I looked at the general distritubion of a number of features, to a) ensure that there are no errors, or funny values present, and b) to help determine what will be the most influential features in determining song similarity."
   ]
  },
  {
   "cell_type": "markdown",
   "metadata": {},
   "source": [
    "### 3a. Time Signature"
   ]
  },
  {
   "cell_type": "code",
   "execution_count": 18,
   "metadata": {},
   "outputs": [
    {
     "data": {
      "text/plain": [
       "4    21150\n",
       "3     1421\n",
       "5      204\n",
       "1      114\n",
       "0        2\n",
       "Name: time_signature, dtype: int64"
      ]
     },
     "execution_count": 18,
     "metadata": {},
     "output_type": "execute_result"
    }
   ],
   "source": [
    "main_wfeats['time_signature'].value_counts()"
   ]
  },
  {
   "cell_type": "code",
   "execution_count": 19,
   "metadata": {},
   "outputs": [
    {
     "data": {
      "text/html": [
       "<div>\n",
       "<style scoped>\n",
       "    .dataframe tbody tr th:only-of-type {\n",
       "        vertical-align: middle;\n",
       "    }\n",
       "\n",
       "    .dataframe tbody tr th {\n",
       "        vertical-align: top;\n",
       "    }\n",
       "\n",
       "    .dataframe thead th {\n",
       "        text-align: right;\n",
       "    }\n",
       "</style>\n",
       "<table border=\"1\" class=\"dataframe\">\n",
       "  <thead>\n",
       "    <tr style=\"text-align: right;\">\n",
       "      <th></th>\n",
       "      <th>song_id</th>\n",
       "      <th>album_release_date</th>\n",
       "      <th>artist_id</th>\n",
       "      <th>artist_name</th>\n",
       "      <th>duration_ms</th>\n",
       "      <th>explicit</th>\n",
       "      <th>linked_album</th>\n",
       "      <th>song_title</th>\n",
       "      <th>danceability</th>\n",
       "      <th>energy</th>\n",
       "      <th>...</th>\n",
       "      <th>pv_dim_3</th>\n",
       "      <th>pv_dim_4</th>\n",
       "      <th>pv_dim_5</th>\n",
       "      <th>pv_dim_6</th>\n",
       "      <th>pv_dim_7</th>\n",
       "      <th>pv_dim_8</th>\n",
       "      <th>pv_dim_9</th>\n",
       "      <th>pv_dim_10</th>\n",
       "      <th>pv_dim_11</th>\n",
       "      <th>pv_dim_12</th>\n",
       "    </tr>\n",
       "  </thead>\n",
       "  <tbody>\n",
       "    <tr>\n",
       "      <th>15423</th>\n",
       "      <td>5OiLJ8tjUPFiPX2gVM8fxJ</td>\n",
       "      <td>2009-01-01</td>\n",
       "      <td>1yxSLGMDHlW21z4YXirZDS</td>\n",
       "      <td>The Black Eyed Peas</td>\n",
       "      <td>257560.0</td>\n",
       "      <td>False</td>\n",
       "      <td>THE E.N.D. (THE ENERGY NEVER DIES)</td>\n",
       "      <td>Imma Be</td>\n",
       "      <td>0.619</td>\n",
       "      <td>0.539</td>\n",
       "      <td>...</td>\n",
       "      <td>0.399147</td>\n",
       "      <td>0.334048</td>\n",
       "      <td>0.441041</td>\n",
       "      <td>0.568762</td>\n",
       "      <td>0.376905</td>\n",
       "      <td>0.408359</td>\n",
       "      <td>0.315816</td>\n",
       "      <td>0.303287</td>\n",
       "      <td>0.201750</td>\n",
       "      <td>0.277836</td>\n",
       "    </tr>\n",
       "    <tr>\n",
       "      <th>18310</th>\n",
       "      <td>3FepYSKnGMMlR9URg0PSuR</td>\n",
       "      <td>1987-01-01</td>\n",
       "      <td>2GMH35k5oLCjzYpn5HbaD8</td>\n",
       "      <td>Lawrence Welk</td>\n",
       "      <td>152093.0</td>\n",
       "      <td>False</td>\n",
       "      <td>22 All Time Big Band Favorites</td>\n",
       "      <td>String Of Pearls</td>\n",
       "      <td>0.000</td>\n",
       "      <td>0.152</td>\n",
       "      <td>...</td>\n",
       "      <td>0.213002</td>\n",
       "      <td>0.252626</td>\n",
       "      <td>0.234096</td>\n",
       "      <td>0.229861</td>\n",
       "      <td>0.162083</td>\n",
       "      <td>0.391253</td>\n",
       "      <td>0.350463</td>\n",
       "      <td>0.294521</td>\n",
       "      <td>0.205734</td>\n",
       "      <td>0.194655</td>\n",
       "    </tr>\n",
       "  </tbody>\n",
       "</table>\n",
       "<p>2 rows × 81 columns</p>\n",
       "</div>"
      ],
      "text/plain": [
       "                      song_id album_release_date               artist_id  \\\n",
       "15423  5OiLJ8tjUPFiPX2gVM8fxJ         2009-01-01  1yxSLGMDHlW21z4YXirZDS   \n",
       "18310  3FepYSKnGMMlR9URg0PSuR         1987-01-01  2GMH35k5oLCjzYpn5HbaD8   \n",
       "\n",
       "               artist_name  duration_ms  explicit  \\\n",
       "15423  The Black Eyed Peas     257560.0     False   \n",
       "18310        Lawrence Welk     152093.0     False   \n",
       "\n",
       "                             linked_album        song_title  danceability  \\\n",
       "15423  THE E.N.D. (THE ENERGY NEVER DIES)           Imma Be         0.619   \n",
       "18310      22 All Time Big Band Favorites  String Of Pearls         0.000   \n",
       "\n",
       "       energy    ...      pv_dim_3  pv_dim_4  pv_dim_5  pv_dim_6  pv_dim_7  \\\n",
       "15423   0.539    ...      0.399147  0.334048  0.441041  0.568762  0.376905   \n",
       "18310   0.152    ...      0.213002  0.252626  0.234096  0.229861  0.162083   \n",
       "\n",
       "       pv_dim_8  pv_dim_9  pv_dim_10  pv_dim_11  pv_dim_12  \n",
       "15423  0.408359  0.315816   0.303287   0.201750   0.277836  \n",
       "18310  0.391253  0.350463   0.294521   0.205734   0.194655  \n",
       "\n",
       "[2 rows x 81 columns]"
      ]
     },
     "execution_count": 19,
     "metadata": {},
     "output_type": "execute_result"
    }
   ],
   "source": [
    "main_wfeats[main_wfeats['time_signature'] == 0]"
   ]
  },
  {
   "cell_type": "markdown",
   "metadata": {},
   "source": [
    "The time signature of '0' is not correct for the above songs (it just doesn't make sense). I've found the correct time signatures for both:\n",
    "\n",
    "- Black Eyed Peas \"Imma Be\" appears to be [4/4](https://www.musicnotes.com/sheetmusic/mtd.asp?ppn=MN0113455). \n",
    "- The Jerry Gray composed, \"String of Pearls\" appears to be [4/4](https://www.sheetmusicplus.com/title/a-string-of-pearls-for-string-quartet-digital-sheet-music/20243650?utm_medium=cpc&adpos=1o1&gclid=CjwKCAjw0oveBRAmEiwAzf6_rJpE4rV7Y8vsiMiiM1_86FkwoBBR4mw3uxcbriTmx1-KYHVgY_RvuBoCnQ4QAvD_BwE&d=sem_sidecar&d=sem_sidecar&d=sem_ggl_{campaign_id}_&popup=false&popup=false&utm_source=google&ac=1&country_code=USA&sc_intid=20243650&scid=scplp20243650) as well."
   ]
  },
  {
   "cell_type": "code",
   "execution_count": 20,
   "metadata": {},
   "outputs": [],
   "source": [
    "main_wfeats['time_signature'] = main_wfeats['time_signature'].apply(lambda x: x + 4 if x is 0 else x)"
   ]
  },
  {
   "cell_type": "markdown",
   "metadata": {},
   "source": [
    "##### Exporting to `csv`"
   ]
  },
  {
   "cell_type": "code",
   "execution_count": 21,
   "metadata": {},
   "outputs": [],
   "source": [
    "main_wfeats.to_csv('../data/main_wfeats.csv')"
   ]
  },
  {
   "cell_type": "markdown",
   "metadata": {},
   "source": [
    "### 3b. Looking Through Decades (by Release Year)\n",
    "\n",
    "Looking at the distribution of songs by release year to possibly unearth any patterns in the dataset. Some of the release dates are stored as `MM-DD-YYYY`, and others are just `YYYY`, I'll convert all to `YYYY` to ensure uniformity."
   ]
  },
  {
   "cell_type": "code",
   "execution_count": 22,
   "metadata": {},
   "outputs": [],
   "source": [
    "main_wfeats['album_release_date'] = main_wfeats['album_release_date'].apply(lambda x: x + '-01-01' if len(x) == 4 else x)\n",
    "main_wfeats['album_release_date'] = main_wfeats['album_release_date'].apply(lambda x: re.sub(r'(-\\d*)','',x))\n",
    "main_wfeats['album_release_date'] = main_wfeats['album_release_date'].apply(lambda x: int(x))"
   ]
  },
  {
   "cell_type": "markdown",
   "metadata": {},
   "source": [
    "#### All Songs by Year"
   ]
  },
  {
   "cell_type": "code",
   "execution_count": 23,
   "metadata": {},
   "outputs": [
    {
     "data": {
      "image/png": "[encoded data removed]",
      "text/plain": [
       "<Figure size 1440x720 with 1 Axes>"
      ]
     },
     "metadata": {},
     "output_type": "display_data"
    }
   ],
   "source": [
    "plt.figure(figsize=(20,10))\n",
    "sns.set_style(style='darkgrid')\n",
    "sns.distplot(main_wfeats['album_release_date'], kde=False, color='#4eb264', )\n",
    "plt.xlabel('Release Date');"
   ]
  },
  {
   "cell_type": "markdown",
   "metadata": {},
   "source": [
    "#### Top 5 Release Years in Dataset"
   ]
  },
  {
   "cell_type": "code",
   "execution_count": 24,
   "metadata": {},
   "outputs": [
    {
     "data": {
      "text/plain": [
       "2018    1571\n",
       "2017    1207\n",
       "2015     780\n",
       "2016     744\n",
       "2005     620\n",
       "Name: album_release_date, dtype: int64"
      ]
     },
     "execution_count": 24,
     "metadata": {},
     "output_type": "execute_result"
    }
   ],
   "source": [
    "main_wfeats['album_release_date'].value_counts().head()"
   ]
  },
  {
   "cell_type": "markdown",
   "metadata": {},
   "source": [
    "It seems as though the vast majority of songs within this dataset have been released after 1990. This could be for several reasons:\n",
    "- It's just indicative of what people are listening to in 2018. Even though these artists received awards through different decades, they could've released new music which would be more popular currently.\n",
    "- \n",
    "\n",
    "That being said, it would be interesting to see the distribution of when music in the RIAA Gold and Platinum database was actually released, to get a scope of the share of artists per decade. Unfortunately, I haven't had the time to do this research yet, though it is something I hope to do soon."
   ]
  },
  {
   "cell_type": "markdown",
   "metadata": {},
   "source": [
    "### 3c. Looking at the Distribution of Genres"
   ]
  },
  {
   "cell_type": "markdown",
   "metadata": {},
   "source": [
    "#### What Exactly are the Genres?\n",
    "\n",
    "The website, 'Every Noise at Once' provides a great overview of the genres on Spotify, and based on an interview with Glenn McDonald at the Spotify [blog](https://artists.spotify.com/blog/how-spotify-discovers-the-genres-of-tomorrow)."
   ]
  },
  {
   "cell_type": "markdown",
   "metadata": {},
   "source": [
    "#### The Top-10 Most Popular Genres Tied to Songs"
   ]
  },
  {
   "cell_type": "code",
   "execution_count": 23,
   "metadata": {},
   "outputs": [],
   "source": [
    "top10_genres = gs['genre_name'].value_counts().head(10)"
   ]
  },
  {
   "cell_type": "code",
   "execution_count": 24,
   "metadata": {},
   "outputs": [
    {
     "data": {
      "image/png": "[encoded data removed]",
      "text/plain": [
       "<Figure size 1440x720 with 1 Axes>"
      ]
     },
     "metadata": {},
     "output_type": "display_data"
    }
   ],
   "source": [
    "plt.figure(figsize=(20,10))\n",
    "sns.set_style('darkgrid')\n",
    "sns.barplot(top10_genres.index, top10_genres.values, color='#4eb264');"
   ]
  },
  {
   "cell_type": "markdown",
   "metadata": {},
   "source": [
    "#### The Top-10 Most Least Popular Genres Tied to Songs"
   ]
  },
  {
   "cell_type": "code",
   "execution_count": 25,
   "metadata": {},
   "outputs": [],
   "source": [
    "bottom10_genres = gs['genre_name'].value_counts().tail(10)"
   ]
  },
  {
   "cell_type": "code",
   "execution_count": 26,
   "metadata": {},
   "outputs": [
    {
     "data": {
      "image/png": "[encoded data removed]",
      "text/plain": [
       "<Figure size 1440x720 with 1 Axes>"
      ]
     },
     "metadata": {},
     "output_type": "display_data"
    }
   ],
   "source": [
    "plt.figure(figsize=(20,10))\n",
    "sns.set_style('darkgrid')\n",
    "sns.barplot(bottom10_genres.index, bottom10_genres.values, color='#4eb264');"
   ]
  },
  {
   "cell_type": "markdown",
   "metadata": {},
   "source": [
    "**Analysis**: With the exception of rock, the top-10 most popular genres have very similar counts. I suspect this is because much of the music in this dataset is relatively new, and that many of these genres are listed next to one another on the same songs (urban contemporary and hip hop are frequently linked, for instance). \n",
    "\n",
    "On the opposite end of the spectrum, there are number of genres with very few associated song titles. Going into crafting the cosine similarity matrix, I assumed this would've had a harmful effect on the strength of recommendations for songs with those associated genres, especially if they did not have additional genres to help further define their respective musical style. We'll look at how it actually affected recommendations for those songs within the `05_cosine` notebook."
   ]
  },
  {
   "cell_type": "markdown",
   "metadata": {},
   "source": [
    "#### Next notebook: 04_preprocessing"
   ]
  }
 ],
 "metadata": {
  "kernelspec": {
   "display_name": "Python 3",
   "language": "python",
   "name": "python3"
  },
  "language_info": {
   "codemirror_mode": {
    "name": "ipython",
    "version": 3
   },
   "file_extension": ".py",
   "mimetype": "text/x-python",
   "name": "python",
   "nbconvert_exporter": "python",
   "pygments_lexer": "ipython3",
   "version": "3.6.7"
  }
 },
 "nbformat": 4,
 "nbformat_minor": 2
}
