{
 "cells": [
  {
   "cell_type": "markdown",
   "metadata": {},
   "source": [
    "# Matching Compositions to Recordings 2\n",
    "\n",
    "Date Started: 2/9/19\n",
    "\n",
    "It's been a minute since I've tried working on this project, but I do have a large number of new tracks that I've pulled IDs for from Spotify's API. This notebook will look at those tracks, and match them against my listing of ASCAP compositions to see if there's enough matches to move forward with a MVP\n",
    "\n",
    "\n",
    "**NOTE (1/2/20)**: I'm coming back to this to reference data cleaning code, and to create a script that will do this matching automatically next time. File location strings may be changed in order to properly load data, etc"
   ]
  },
  {
   "cell_type": "code",
   "execution_count": 1,
   "metadata": {},
   "outputs": [],
   "source": [
    "import json\n",
    "import re\n",
    "import sys\n",
    "\n",
    "import numpy as np\n",
    "import pandas as pd"
   ]
  },
  {
   "cell_type": "markdown",
   "metadata": {},
   "source": [
    "## Table of Contents\n",
    "\n",
    "1. [Bringing in Datasets](#1)\n",
    "2. [Cleaning Datasets](#2)\n",
    "3. [Merging Datasets](#3)"
   ]
  },
  {
   "cell_type": "markdown",
   "metadata": {},
   "source": [
    "<a name=\"1\"></a>\n",
    "## 1. Bringing in Datasets"
   ]
  },
  {
   "cell_type": "code",
   "execution_count": 2,
   "metadata": {},
   "outputs": [],
   "source": [
    "comp_artists = pd.read_csv('/home/jovyan/Song_Index/data/comp_artists.csv', index_col=0)\n",
    "compositions = pd.read_csv('/home/jovyan/Song_Index/data/compositions.csv', index_col=0)\n",
    "artist_comp_lookup = pd.read_csv('/home/jovyan/Song_Index/data/artist_comp_lookup.csv', index_col=0)\n",
    "comp_alt_titles = pd.read_csv('/home/jovyan/Song_Index/data/comp_alt_titles.csv', index_col=0)\n",
    "track_list = pd.read_csv('/home/jovyan/Song_Index/data/main_wfeats.csv', index_col=0, usecols=[0,1,4,8])"
   ]
  },
  {
   "cell_type": "markdown",
   "metadata": {},
   "source": [
    "### 1a. New Tracks from Last Major Pull"
   ]
  },
  {
   "cell_type": "code",
   "execution_count": 3,
   "metadata": {},
   "outputs": [],
   "source": [
    "with open('/home/jovyan/SWI_data/data/new_tracks_20190103.json', 'r') as f:\n",
    "    new_tracks = json.load(f)\n",
    "    \n",
    "new_tracks = pd.DataFrame.from_dict(new_tracks, orient='index').reset_index()\\\n",
    "                .rename(columns={'index':'song_id','Song Title': 'song_title',\n",
    "                                 'Artist': 'artist_name'})"
   ]
  },
  {
   "cell_type": "markdown",
   "metadata": {},
   "source": [
    "### 1b. Merging Old and New Tracklist\n",
    "\n",
    "There's roughly 7k duplicates (by `song_id`) b/w the two sets."
   ]
  },
  {
   "cell_type": "code",
   "execution_count": 4,
   "metadata": {},
   "outputs": [],
   "source": [
    "# join operation errors out for differing dtypes on each index (song_id) column\n",
    "\n",
    "track_list = pd.concat([track_list, new_tracks], ignore_index=True, sort=True)\\\n",
    "                        .drop_duplicates(subset='song_id')"
   ]
  },
  {
   "cell_type": "code",
   "execution_count": 5,
   "metadata": {},
   "outputs": [
    {
     "data": {
      "text/plain": [
       "(659315, 3)"
      ]
     },
     "execution_count": 5,
     "metadata": {},
     "output_type": "execute_result"
    }
   ],
   "source": [
    "track_list.shape"
   ]
  },
  {
   "cell_type": "markdown",
   "metadata": {},
   "source": [
    "### 1c. Readying Compositions Table"
   ]
  },
  {
   "cell_type": "code",
   "execution_count": 6,
   "metadata": {},
   "outputs": [],
   "source": [
    "def merging_comps(comps, alt_titles, ac_lookup, c_artists):\n",
    "    '''\n",
    "    Creates master compositions table with a unique record for each song title and\n",
    "    alternate titles. Return listing should be quite large.\n",
    "    \n",
    "    Each of the required arguments are tables of composition level information \n",
    "    originally pulled from ASCAP's website.\n",
    "    \n",
    "    Parameters\n",
    "    ----------\n",
    "    comps: df, compositions table \n",
    "    alt_titles: df, composition alternate titles \n",
    "    ac_lookup: df, artist-composition lookup table\n",
    "    c_artists: df, artist level composition data\n",
    "    '''\n",
    "    comp_titles = comps[['CID', 'Title']]\n",
    "    c_lookup = comps.drop('Title', 1)\n",
    "    \n",
    "    at = alt_titles.rename(columns={'alt-title': 'Title'})\n",
    "    all_comp_titles = pd.concat([comp_titles, at], axis=0, ignore_index=True, sort=True)\\\n",
    "                                .sort_values('CID', 0).dropna(axis=0)\n",
    "    \n",
    "    full_comps = pd.merge(c_lookup, all_comp_titles, on='CID')\n",
    "    print('Titles merged...Now merging in artist names')\n",
    "   \n",
    "    full_comps = pd.merge(ac_lookup, all_comp_titles, on='CID')\n",
    "    full_comps = pd.merge(full_comps, c_artists, on='PID')\n",
    "    \n",
    "    return full_comps"
   ]
  },
  {
   "cell_type": "code",
   "execution_count": 7,
   "metadata": {},
   "outputs": [
    {
     "name": "stdout",
     "output_type": "stream",
     "text": [
      "Titles merged...Now merging in artist names\n"
     ]
    }
   ],
   "source": [
    "comp_list = merging_comps(compositions, comp_alt_titles, artist_comp_lookup, comp_artists)"
   ]
  },
  {
   "cell_type": "code",
   "execution_count": 8,
   "metadata": {},
   "outputs": [
    {
     "name": "stdout",
     "output_type": "stream",
     "text": [
      "<class 'pandas.core.frame.DataFrame'>\n",
      "Int64Index: 2500311 entries, 0 to 2500310\n",
      "Data columns (total 4 columns):\n",
      "CID               int64\n",
      "PID               int64\n",
      "Title             object\n",
      "Performer Name    object\n",
      "dtypes: int64(2), object(2)\n",
      "memory usage: 95.4+ MB\n"
     ]
    }
   ],
   "source": [
    "comp_list.info()"
   ]
  },
  {
   "cell_type": "code",
   "execution_count": 9,
   "metadata": {},
   "outputs": [
    {
     "data": {
      "text/html": [
       "<div>\n",
       "<style scoped>\n",
       "    .dataframe tbody tr th:only-of-type {\n",
       "        vertical-align: middle;\n",
       "    }\n",
       "\n",
       "    .dataframe tbody tr th {\n",
       "        vertical-align: top;\n",
       "    }\n",
       "\n",
       "    .dataframe thead th {\n",
       "        text-align: right;\n",
       "    }\n",
       "</style>\n",
       "<table border=\"1\" class=\"dataframe\">\n",
       "  <thead>\n",
       "    <tr style=\"text-align: right;\">\n",
       "      <th></th>\n",
       "      <th>CID</th>\n",
       "      <th>PID</th>\n",
       "      <th>Title</th>\n",
       "      <th>Performer Name</th>\n",
       "    </tr>\n",
       "  </thead>\n",
       "  <tbody>\n",
       "    <tr>\n",
       "      <th>0</th>\n",
       "      <td>0</td>\n",
       "      <td>0</td>\n",
       "      <td>FOR THA LOVE OF MONEY</td>\n",
       "      <td>BONE</td>\n",
       "    </tr>\n",
       "    <tr>\n",
       "      <th>1</th>\n",
       "      <td>0</td>\n",
       "      <td>0</td>\n",
       "      <td>FOE THA LOVE OF $ (FEAT. EAZY-E)</td>\n",
       "      <td>BONE</td>\n",
       "    </tr>\n",
       "    <tr>\n",
       "      <th>2</th>\n",
       "      <td>0</td>\n",
       "      <td>0</td>\n",
       "      <td>FOE THA LOVE OF $ [EXPLICIT]</td>\n",
       "      <td>BONE</td>\n",
       "    </tr>\n",
       "    <tr>\n",
       "      <th>3</th>\n",
       "      <td>0</td>\n",
       "      <td>0</td>\n",
       "      <td>FOE THA LOVE OF MONEY</td>\n",
       "      <td>BONE</td>\n",
       "    </tr>\n",
       "    <tr>\n",
       "      <th>4</th>\n",
       "      <td>0</td>\n",
       "      <td>0</td>\n",
       "      <td>FOE THE LOVE OF MONEY</td>\n",
       "      <td>BONE</td>\n",
       "    </tr>\n",
       "  </tbody>\n",
       "</table>\n",
       "</div>"
      ],
      "text/plain": [
       "   CID  PID                             Title Performer Name\n",
       "0    0    0             FOR THA LOVE OF MONEY           BONE\n",
       "1    0    0  FOE THA LOVE OF $ (FEAT. EAZY-E)           BONE\n",
       "2    0    0      FOE THA LOVE OF $ [EXPLICIT]           BONE\n",
       "3    0    0             FOE THA LOVE OF MONEY           BONE\n",
       "4    0    0             FOE THE LOVE OF MONEY           BONE"
      ]
     },
     "execution_count": 9,
     "metadata": {},
     "output_type": "execute_result"
    }
   ],
   "source": [
    "comp_list.head()"
   ]
  },
  {
   "cell_type": "markdown",
   "metadata": {},
   "source": [
    "<a name=\"2\"></a>\n",
    "## 2. Cleaning Datasets\n",
    "\n",
    "### 2a. Standardizing Composition & Track Tables"
   ]
  },
  {
   "cell_type": "code",
   "execution_count": 10,
   "metadata": {},
   "outputs": [],
   "source": [
    "comp_list['Performer Name'] = comp_list['Performer Name'].iloc[:].apply(lambda x: str(x).lower())\n",
    "comp_list['Title'] = comp_list['Title'].iloc[:].apply(lambda x: str(x).lower())\n",
    "\n",
    "track_list['artist_name'] = track_list['artist_name'].iloc[:].apply(lambda x: str(x).lower())\\\n",
    "                                                    .apply(lambda x: str(x).strip(\"''/*\"))\n",
    "track_list['song_title'] = track_list['song_title'].iloc[:].apply(lambda x: str(x).lower())\\\n",
    "                                                    .apply(lambda x: re.sub(r'(\\(feat.*)','', x))"
   ]
  },
  {
   "cell_type": "markdown",
   "metadata": {},
   "source": [
    "### 2b. Cleaning Track List"
   ]
  },
  {
   "cell_type": "code",
   "execution_count": 11,
   "metadata": {},
   "outputs": [],
   "source": [
    "cleaning_dict = {\n",
    "    'single quote mark': r\"\\\"\",\n",
    "    'dbl quote mark': r\"\\'\",\n",
    "    'brackets': r' \\[.*',\n",
    "    'parenthesis': r'(\\s\\(.*\\))',\n",
    "    'feat artist': r'( feat\\..*)',\n",
    "    'hyphens' : r' -.*',\n",
    "}"
   ]
  },
  {
   "cell_type": "code",
   "execution_count": 12,
   "metadata": {},
   "outputs": [],
   "source": [
    "# removing quotation marks\n",
    "track_list['artist_name'] = track_list['artist_name'].apply(lambda x: re.sub(r\"\\\"\",\"\",x))\n",
    "\n",
    "# removing parenthesis\n",
    "track_list['artist_name'] = track_list['artist_name'].apply(lambda x: re.sub(r'(\\s\\(.*\\))', \"\", x))\n",
    "\n",
    "# removing feat. artists\n",
    "track_list['artist_name'] = track_list['artist_name'].apply(lambda x: re.sub(r'( feat\\..*)', \"\", x))"
   ]
  },
  {
   "cell_type": "code",
   "execution_count": 13,
   "metadata": {},
   "outputs": [],
   "source": [
    "for k in cleaning_dict:\n",
    "    track_list['song_title'] = track_list['song_title'].iloc[:].apply(\n",
    "        lambda x: re.sub(cleaning_dict[k],'', x))"
   ]
  },
  {
   "cell_type": "markdown",
   "metadata": {},
   "source": [
    "### 2d. Cleaning Composition List"
   ]
  },
  {
   "cell_type": "code",
   "execution_count": 14,
   "metadata": {},
   "outputs": [],
   "source": [
    "for k in cleaning_dict:\n",
    "    comp_list['Title'] = comp_list['Title'].iloc[:].apply(\n",
    "        lambda x: re.sub(cleaning_dict[k],'', x))"
   ]
  },
  {
   "cell_type": "code",
   "execution_count": 15,
   "metadata": {},
   "outputs": [],
   "source": [
    "# removing quotation marks\n",
    "comp_list['Performer Name'] = comp_list['Performer Name'].apply(lambda x: re.sub(r\"\\\"\",\"\",x))\n",
    "\n",
    "# removing parenthesis\n",
    "comp_list['Performer Name'] = comp_list['Performer Name'].apply(lambda x: re.sub(r'(\\s\\(.*\\))', \"\", x))\n",
    "\n",
    "# removing feat. artists\n",
    "comp_list['Performer Name'] = comp_list['Performer Name'].apply(lambda x: re.sub(r'( feat\\..*)', \"\", x))"
   ]
  },
  {
   "cell_type": "markdown",
   "metadata": {},
   "source": [
    "<a name=\"3\"></a>\n",
    "## 3. Merging Datasets\n",
    "\n",
    "Merging datasets using the following strategy:\n",
    "\n",
    "- Lowercasing both song title and artist names for both datasets, also removing quotation marks, brackets, parenthesis, and other misc formatting marks to both artist and song title"
   ]
  },
  {
   "cell_type": "code",
   "execution_count": 17,
   "metadata": {},
   "outputs": [],
   "source": [
    "test_merge = pd.merge(track_list, comp_list, how='left', left_on=['artist_name', 'song_title'],\n",
    "                    right_on=['Performer Name', 'Title'])"
   ]
  },
  {
   "cell_type": "code",
   "execution_count": 18,
   "metadata": {},
   "outputs": [],
   "source": [
    "merged_no_dups = test_merge[test_merge['CID'].notnull()].drop_duplicates(subset='song_id')"
   ]
  },
  {
   "cell_type": "code",
   "execution_count": 19,
   "metadata": {},
   "outputs": [
    {
     "data": {
      "text/plain": [
       "159437"
      ]
     },
     "execution_count": 19,
     "metadata": {},
     "output_type": "execute_result"
    }
   ],
   "source": [
    "len(merged_no_dups)"
   ]
  },
  {
   "cell_type": "code",
   "execution_count": 21,
   "metadata": {},
   "outputs": [
    {
     "data": {
      "text/html": [
       "<div>\n",
       "<style scoped>\n",
       "    .dataframe tbody tr th:only-of-type {\n",
       "        vertical-align: middle;\n",
       "    }\n",
       "\n",
       "    .dataframe tbody tr th {\n",
       "        vertical-align: top;\n",
       "    }\n",
       "\n",
       "    .dataframe thead th {\n",
       "        text-align: right;\n",
       "    }\n",
       "</style>\n",
       "<table border=\"1\" class=\"dataframe\">\n",
       "  <thead>\n",
       "    <tr style=\"text-align: right;\">\n",
       "      <th></th>\n",
       "      <th>artist_name</th>\n",
       "      <th>song_id</th>\n",
       "      <th>song_title</th>\n",
       "      <th>CID</th>\n",
       "      <th>PID</th>\n",
       "      <th>Title</th>\n",
       "      <th>Performer Name</th>\n",
       "    </tr>\n",
       "  </thead>\n",
       "  <tbody>\n",
       "    <tr>\n",
       "      <th>0</th>\n",
       "      <td>robyn</td>\n",
       "      <td>6SluaPiV04KOaRTOIScoff</td>\n",
       "      <td>show me love</td>\n",
       "      <td>260151.0</td>\n",
       "      <td>14428.0</td>\n",
       "      <td>show me love</td>\n",
       "      <td>robyn</td>\n",
       "    </tr>\n",
       "    <tr>\n",
       "      <th>3</th>\n",
       "      <td>lukas graham</td>\n",
       "      <td>5kqIPrATaCc2LqxVWzQGbk</td>\n",
       "      <td>7 years</td>\n",
       "      <td>43137.0</td>\n",
       "      <td>53876.0</td>\n",
       "      <td>7 years</td>\n",
       "      <td>lukas graham</td>\n",
       "    </tr>\n",
       "    <tr>\n",
       "      <th>10</th>\n",
       "      <td>the killers</td>\n",
       "      <td>3aVyHFxRkf8lSjhWdJ68AW</td>\n",
       "      <td>just another girl</td>\n",
       "      <td>76427.0</td>\n",
       "      <td>39793.0</td>\n",
       "      <td>just another girl</td>\n",
       "      <td>the killers</td>\n",
       "    </tr>\n",
       "    <tr>\n",
       "      <th>11</th>\n",
       "      <td>tamia</td>\n",
       "      <td>0zIyxS6QxZogHOpGkI6IZH</td>\n",
       "      <td>deeper</td>\n",
       "      <td>8897.0</td>\n",
       "      <td>14338.0</td>\n",
       "      <td>deeper</td>\n",
       "      <td>tamia</td>\n",
       "    </tr>\n",
       "    <tr>\n",
       "      <th>14</th>\n",
       "      <td>kanye west</td>\n",
       "      <td>12D0n7hKpPcjuUpcbAKjjr</td>\n",
       "      <td>dont like.1</td>\n",
       "      <td>68936.0</td>\n",
       "      <td>2118.0</td>\n",
       "      <td>dont like.1</td>\n",
       "      <td>kanye west</td>\n",
       "    </tr>\n",
       "  </tbody>\n",
       "</table>\n",
       "</div>"
      ],
      "text/plain": [
       "     artist_name                 song_id         song_title       CID  \\\n",
       "0          robyn  6SluaPiV04KOaRTOIScoff       show me love  260151.0   \n",
       "3   lukas graham  5kqIPrATaCc2LqxVWzQGbk            7 years   43137.0   \n",
       "10   the killers  3aVyHFxRkf8lSjhWdJ68AW  just another girl   76427.0   \n",
       "11         tamia  0zIyxS6QxZogHOpGkI6IZH             deeper    8897.0   \n",
       "14    kanye west  12D0n7hKpPcjuUpcbAKjjr        dont like.1   68936.0   \n",
       "\n",
       "        PID              Title Performer Name  \n",
       "0   14428.0       show me love          robyn  \n",
       "3   53876.0            7 years   lukas graham  \n",
       "10  39793.0  just another girl    the killers  \n",
       "11  14338.0             deeper          tamia  \n",
       "14   2118.0        dont like.1     kanye west  "
      ]
     },
     "execution_count": 21,
     "metadata": {},
     "output_type": "execute_result"
    }
   ],
   "source": [
    "merged_no_dups.head()"
   ]
  },
  {
   "cell_type": "code",
   "execution_count": 22,
   "metadata": {},
   "outputs": [
    {
     "name": "stdout",
     "output_type": "stream",
     "text": [
      "<class 'pandas.core.frame.DataFrame'>\n",
      "Int64Index: 159437 entries, 0 to 748354\n",
      "Data columns (total 7 columns):\n",
      "artist_name       159437 non-null object\n",
      "song_id           159437 non-null object\n",
      "song_title        159437 non-null object\n",
      "CID               159437 non-null float64\n",
      "PID               159437 non-null float64\n",
      "Title             159437 non-null object\n",
      "Performer Name    159437 non-null object\n",
      "dtypes: float64(2), object(5)\n",
      "memory usage: 9.7+ MB\n"
     ]
    }
   ],
   "source": [
    "merged_no_dups.info()"
   ]
  },
  {
   "cell_type": "code",
   "execution_count": 26,
   "metadata": {},
   "outputs": [],
   "source": [
    "matched_songs = merged_no_dups.astype(\n",
    "    {\"CID\":\"int64\", \"PID\":\"int64\"})"
   ]
  },
  {
   "cell_type": "code",
   "execution_count": 29,
   "metadata": {},
   "outputs": [],
   "source": [
    "matched_songs.to_csv('/home/jovyan/Song_Index/data/matched_songs_20200103.csv')"
   ]
  }
 ],
 "metadata": {
  "kernelspec": {
   "display_name": "Python 3",
   "language": "python",
   "name": "python3"
  },
  "language_info": {
   "codemirror_mode": {
    "name": "ipython",
    "version": 3
   },
   "file_extension": ".py",
   "mimetype": "text/x-python",
   "name": "python",
   "nbconvert_exporter": "python",
   "pygments_lexer": "ipython3",
   "version": "3.7.3"
  }
 },
 "nbformat": 4,
 "nbformat_minor": 4
}
