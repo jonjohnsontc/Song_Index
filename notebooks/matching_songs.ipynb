{
 "cells": [
  {
   "cell_type": "markdown",
   "metadata": {},
   "source": [
    "# Matching Compositions to Recordings"
   ]
  },
  {
   "cell_type": "code",
   "execution_count": 1,
   "metadata": {},
   "outputs": [],
   "source": [
    "import pickle\n",
    "import re\n",
    "\n",
    "import numpy as np\n",
    "import pandas as pd"
   ]
  },
  {
   "cell_type": "markdown",
   "metadata": {},
   "source": [
    "### Bringing in Track + Composition Tables"
   ]
  },
  {
   "cell_type": "code",
   "execution_count": 125,
   "metadata": {},
   "outputs": [],
   "source": [
    "track_list = pd.read_csv('../data/main_wfeats.csv', index_col=0)\n",
    "comp_artists = pd.read_csv('../data/comp_artists.csv', index_col=0)\n",
    "compositions = pd.read_csv('../data/compositions.csv', index_col=0)\n",
    "artist_comp_lookup = pd.read_csv('../data/artist_comp_lookup.csv', index_col=0)\n",
    "comp_alt_titles = pd.read_csv('../data/comp_alt_titles.csv', index_col=0)"
   ]
  },
  {
   "cell_type": "markdown",
   "metadata": {},
   "source": [
    "#### Combining Composition Tables"
   ]
  },
  {
   "cell_type": "code",
   "execution_count": 3,
   "metadata": {},
   "outputs": [
    {
     "data": {
      "text/html": [
       "<div>\n",
       "<style scoped>\n",
       "    .dataframe tbody tr th:only-of-type {\n",
       "        vertical-align: middle;\n",
       "    }\n",
       "\n",
       "    .dataframe tbody tr th {\n",
       "        vertical-align: top;\n",
       "    }\n",
       "\n",
       "    .dataframe thead th {\n",
       "        text-align: right;\n",
       "    }\n",
       "</style>\n",
       "<table border=\"1\" class=\"dataframe\">\n",
       "  <thead>\n",
       "    <tr style=\"text-align: right;\">\n",
       "      <th></th>\n",
       "      <th>CID</th>\n",
       "      <th>AID</th>\n",
       "      <th>Title</th>\n",
       "    </tr>\n",
       "  </thead>\n",
       "  <tbody>\n",
       "    <tr>\n",
       "      <th>0</th>\n",
       "      <td>0</td>\n",
       "      <td>360318916</td>\n",
       "      <td>FOR THA LOVE OF MONEY</td>\n",
       "    </tr>\n",
       "    <tr>\n",
       "      <th>1</th>\n",
       "      <td>1</td>\n",
       "      <td>530659306</td>\n",
       "      <td>WE THE PEOPLE</td>\n",
       "    </tr>\n",
       "    <tr>\n",
       "      <th>2</th>\n",
       "      <td>2</td>\n",
       "      <td>334030418</td>\n",
       "      <td>CELERY-TIME</td>\n",
       "    </tr>\n",
       "    <tr>\n",
       "      <th>3</th>\n",
       "      <td>3</td>\n",
       "      <td>442081954</td>\n",
       "      <td>NEUTRON BOMB</td>\n",
       "    </tr>\n",
       "    <tr>\n",
       "      <th>4</th>\n",
       "      <td>4</td>\n",
       "      <td>230055482</td>\n",
       "      <td>WILL THE CIRCLE BE UNBROKEN</td>\n",
       "    </tr>\n",
       "  </tbody>\n",
       "</table>\n",
       "</div>"
      ],
      "text/plain": [
       "   CID        AID                        Title\n",
       "0    0  360318916        FOR THA LOVE OF MONEY\n",
       "1    1  530659306                WE THE PEOPLE\n",
       "2    2  334030418                  CELERY-TIME\n",
       "3    3  442081954                 NEUTRON BOMB\n",
       "4    4  230055482  WILL THE CIRCLE BE UNBROKEN"
      ]
     },
     "execution_count": 3,
     "metadata": {},
     "output_type": "execute_result"
    }
   ],
   "source": [
    "compositions.head()"
   ]
  },
  {
   "cell_type": "code",
   "execution_count": 4,
   "metadata": {},
   "outputs": [
    {
     "data": {
      "text/html": [
       "<div>\n",
       "<style scoped>\n",
       "    .dataframe tbody tr th:only-of-type {\n",
       "        vertical-align: middle;\n",
       "    }\n",
       "\n",
       "    .dataframe tbody tr th {\n",
       "        vertical-align: top;\n",
       "    }\n",
       "\n",
       "    .dataframe thead th {\n",
       "        text-align: right;\n",
       "    }\n",
       "</style>\n",
       "<table border=\"1\" class=\"dataframe\">\n",
       "  <thead>\n",
       "    <tr style=\"text-align: right;\">\n",
       "      <th></th>\n",
       "      <th>CID</th>\n",
       "      <th>PID</th>\n",
       "    </tr>\n",
       "  </thead>\n",
       "  <tbody>\n",
       "    <tr>\n",
       "      <th>0</th>\n",
       "      <td>0</td>\n",
       "      <td>0</td>\n",
       "    </tr>\n",
       "    <tr>\n",
       "      <th>1</th>\n",
       "      <td>1933</td>\n",
       "      <td>0</td>\n",
       "    </tr>\n",
       "    <tr>\n",
       "      <th>2</th>\n",
       "      <td>17624</td>\n",
       "      <td>0</td>\n",
       "    </tr>\n",
       "    <tr>\n",
       "      <th>3</th>\n",
       "      <td>17630</td>\n",
       "      <td>0</td>\n",
       "    </tr>\n",
       "    <tr>\n",
       "      <th>4</th>\n",
       "      <td>17633</td>\n",
       "      <td>0</td>\n",
       "    </tr>\n",
       "  </tbody>\n",
       "</table>\n",
       "</div>"
      ],
      "text/plain": [
       "     CID  PID\n",
       "0      0    0\n",
       "1   1933    0\n",
       "2  17624    0\n",
       "3  17630    0\n",
       "4  17633    0"
      ]
     },
     "execution_count": 4,
     "metadata": {},
     "output_type": "execute_result"
    }
   ],
   "source": [
    "artist_comp_lookup.head()"
   ]
  },
  {
   "cell_type": "code",
   "execution_count": 5,
   "metadata": {},
   "outputs": [
    {
     "data": {
      "text/html": [
       "<div>\n",
       "<style scoped>\n",
       "    .dataframe tbody tr th:only-of-type {\n",
       "        vertical-align: middle;\n",
       "    }\n",
       "\n",
       "    .dataframe tbody tr th {\n",
       "        vertical-align: top;\n",
       "    }\n",
       "\n",
       "    .dataframe thead th {\n",
       "        text-align: right;\n",
       "    }\n",
       "</style>\n",
       "<table border=\"1\" class=\"dataframe\">\n",
       "  <thead>\n",
       "    <tr style=\"text-align: right;\">\n",
       "      <th></th>\n",
       "      <th>Performer Name</th>\n",
       "      <th>PID</th>\n",
       "    </tr>\n",
       "  </thead>\n",
       "  <tbody>\n",
       "    <tr>\n",
       "      <th>0</th>\n",
       "      <td>BONE</td>\n",
       "      <td>0</td>\n",
       "    </tr>\n",
       "    <tr>\n",
       "      <th>1</th>\n",
       "      <td>BONE THUGS N HARMONY</td>\n",
       "      <td>1</td>\n",
       "    </tr>\n",
       "    <tr>\n",
       "      <th>2</th>\n",
       "      <td>BONE THUGS N HARMONY FEAT. EAZY-E</td>\n",
       "      <td>2</td>\n",
       "    </tr>\n",
       "    <tr>\n",
       "      <th>3</th>\n",
       "      <td>BONE THUGS-N-HARMONY</td>\n",
       "      <td>3</td>\n",
       "    </tr>\n",
       "    <tr>\n",
       "      <th>4</th>\n",
       "      <td>BONE THUGS-N-HARMONY (EDITED)</td>\n",
       "      <td>4</td>\n",
       "    </tr>\n",
       "  </tbody>\n",
       "</table>\n",
       "</div>"
      ],
      "text/plain": [
       "                      Performer Name  PID\n",
       "0                               BONE    0\n",
       "1               BONE THUGS N HARMONY    1\n",
       "2  BONE THUGS N HARMONY FEAT. EAZY-E    2\n",
       "3               BONE THUGS-N-HARMONY    3\n",
       "4      BONE THUGS-N-HARMONY (EDITED)    4"
      ]
     },
     "execution_count": 5,
     "metadata": {},
     "output_type": "execute_result"
    }
   ],
   "source": [
    "comp_artists.head()"
   ]
  },
  {
   "cell_type": "code",
   "execution_count": 126,
   "metadata": {},
   "outputs": [
    {
     "data": {
      "text/html": [
       "<div>\n",
       "<style scoped>\n",
       "    .dataframe tbody tr th:only-of-type {\n",
       "        vertical-align: middle;\n",
       "    }\n",
       "\n",
       "    .dataframe tbody tr th {\n",
       "        vertical-align: top;\n",
       "    }\n",
       "\n",
       "    .dataframe thead th {\n",
       "        text-align: right;\n",
       "    }\n",
       "</style>\n",
       "<table border=\"1\" class=\"dataframe\">\n",
       "  <thead>\n",
       "    <tr style=\"text-align: right;\">\n",
       "      <th></th>\n",
       "      <th>alt-title</th>\n",
       "      <th>CID</th>\n",
       "    </tr>\n",
       "  </thead>\n",
       "  <tbody>\n",
       "    <tr>\n",
       "      <th>1</th>\n",
       "      <td>FOE THA LOVE OF $</td>\n",
       "      <td>0</td>\n",
       "    </tr>\n",
       "    <tr>\n",
       "      <th>2</th>\n",
       "      <td>FOE THA LOVE OF $</td>\n",
       "      <td>0</td>\n",
       "    </tr>\n",
       "    <tr>\n",
       "      <th>3</th>\n",
       "      <td>FOE THA LOVE OF $ (FEAT EASY-E)</td>\n",
       "      <td>0</td>\n",
       "    </tr>\n",
       "    <tr>\n",
       "      <th>4</th>\n",
       "      <td>FOE THA LOVE OF $ (FEAT. EAZY-E)</td>\n",
       "      <td>0</td>\n",
       "    </tr>\n",
       "    <tr>\n",
       "      <th>5</th>\n",
       "      <td>FOE THA LOVE OF $ [EXPLICIT]</td>\n",
       "      <td>0</td>\n",
       "    </tr>\n",
       "  </tbody>\n",
       "</table>\n",
       "</div>"
      ],
      "text/plain": [
       "                          alt-title  CID\n",
       "1                 FOE THA LOVE OF $    0\n",
       "2                 FOE THA LOVE OF $    0\n",
       "3   FOE THA LOVE OF $ (FEAT EASY-E)    0\n",
       "4  FOE THA LOVE OF $ (FEAT. EAZY-E)    0\n",
       "5      FOE THA LOVE OF $ [EXPLICIT]    0"
      ]
     },
     "execution_count": 126,
     "metadata": {},
     "output_type": "execute_result"
    }
   ],
   "source": [
    "comp_alt_titles.head()"
   ]
  },
  {
   "cell_type": "code",
   "execution_count": 127,
   "metadata": {},
   "outputs": [
    {
     "data": {
      "text/plain": [
       "570810"
      ]
     },
     "execution_count": 127,
     "metadata": {},
     "output_type": "execute_result"
    }
   ],
   "source": [
    "len(full_comps)"
   ]
  },
  {
   "cell_type": "code",
   "execution_count": 6,
   "metadata": {},
   "outputs": [],
   "source": [
    "full_comps = pd.merge(artist_comp_lookup, compositions, on='CID')\n",
    "full_comps = pd.merge(full_comps, comp_artists, on='PID')"
   ]
  },
  {
   "cell_type": "code",
   "execution_count": 7,
   "metadata": {},
   "outputs": [
    {
     "data": {
      "text/html": [
       "<div>\n",
       "<style scoped>\n",
       "    .dataframe tbody tr th:only-of-type {\n",
       "        vertical-align: middle;\n",
       "    }\n",
       "\n",
       "    .dataframe tbody tr th {\n",
       "        vertical-align: top;\n",
       "    }\n",
       "\n",
       "    .dataframe thead th {\n",
       "        text-align: right;\n",
       "    }\n",
       "</style>\n",
       "<table border=\"1\" class=\"dataframe\">\n",
       "  <thead>\n",
       "    <tr style=\"text-align: right;\">\n",
       "      <th></th>\n",
       "      <th>CID</th>\n",
       "      <th>PID</th>\n",
       "      <th>AID</th>\n",
       "      <th>Title</th>\n",
       "      <th>Performer Name</th>\n",
       "    </tr>\n",
       "  </thead>\n",
       "  <tbody>\n",
       "    <tr>\n",
       "      <th>0</th>\n",
       "      <td>0</td>\n",
       "      <td>0</td>\n",
       "      <td>360318916</td>\n",
       "      <td>FOR THA LOVE OF MONEY</td>\n",
       "      <td>BONE</td>\n",
       "    </tr>\n",
       "    <tr>\n",
       "      <th>1</th>\n",
       "      <td>1933</td>\n",
       "      <td>0</td>\n",
       "      <td>350208616</td>\n",
       "      <td>ETERNAL</td>\n",
       "      <td>BONE</td>\n",
       "    </tr>\n",
       "    <tr>\n",
       "      <th>2</th>\n",
       "      <td>17624</td>\n",
       "      <td>0</td>\n",
       "      <td>340371584</td>\n",
       "      <td>DA INTRODUCTION</td>\n",
       "      <td>BONE</td>\n",
       "    </tr>\n",
       "    <tr>\n",
       "      <th>3</th>\n",
       "      <td>17630</td>\n",
       "      <td>0</td>\n",
       "      <td>350209419</td>\n",
       "      <td>EAST 1999</td>\n",
       "      <td>BONE</td>\n",
       "    </tr>\n",
       "    <tr>\n",
       "      <th>4</th>\n",
       "      <td>17633</td>\n",
       "      <td>0</td>\n",
       "      <td>350208465</td>\n",
       "      <td>EVERYDAY THANG</td>\n",
       "      <td>BONE</td>\n",
       "    </tr>\n",
       "  </tbody>\n",
       "</table>\n",
       "</div>"
      ],
      "text/plain": [
       "     CID  PID        AID                  Title Performer Name\n",
       "0      0    0  360318916  FOR THA LOVE OF MONEY           BONE\n",
       "1   1933    0  350208616                ETERNAL           BONE\n",
       "2  17624    0  340371584        DA INTRODUCTION           BONE\n",
       "3  17630    0  350209419              EAST 1999           BONE\n",
       "4  17633    0  350208465         EVERYDAY THANG           BONE"
      ]
     },
     "execution_count": 7,
     "metadata": {},
     "output_type": "execute_result"
    }
   ],
   "source": [
    "full_comps.head()"
   ]
  },
  {
   "cell_type": "markdown",
   "metadata": {},
   "source": [
    "#### Examining Track Table"
   ]
  },
  {
   "cell_type": "code",
   "execution_count": 8,
   "metadata": {},
   "outputs": [
    {
     "data": {
      "text/html": [
       "<div>\n",
       "<style scoped>\n",
       "    .dataframe tbody tr th:only-of-type {\n",
       "        vertical-align: middle;\n",
       "    }\n",
       "\n",
       "    .dataframe tbody tr th {\n",
       "        vertical-align: top;\n",
       "    }\n",
       "\n",
       "    .dataframe thead th {\n",
       "        text-align: right;\n",
       "    }\n",
       "</style>\n",
       "<table border=\"1\" class=\"dataframe\">\n",
       "  <thead>\n",
       "    <tr style=\"text-align: right;\">\n",
       "      <th></th>\n",
       "      <th>song_id</th>\n",
       "      <th>album_release_date</th>\n",
       "      <th>artist_id</th>\n",
       "      <th>artist_name</th>\n",
       "      <th>duration_ms</th>\n",
       "      <th>explicit</th>\n",
       "      <th>linked_album</th>\n",
       "      <th>song_title</th>\n",
       "      <th>danceability</th>\n",
       "      <th>energy</th>\n",
       "      <th>...</th>\n",
       "      <th>pv_dim_3</th>\n",
       "      <th>pv_dim_4</th>\n",
       "      <th>pv_dim_5</th>\n",
       "      <th>pv_dim_6</th>\n",
       "      <th>pv_dim_7</th>\n",
       "      <th>pv_dim_8</th>\n",
       "      <th>pv_dim_9</th>\n",
       "      <th>pv_dim_10</th>\n",
       "      <th>pv_dim_11</th>\n",
       "      <th>pv_dim_12</th>\n",
       "    </tr>\n",
       "  </thead>\n",
       "  <tbody>\n",
       "    <tr>\n",
       "      <th>0</th>\n",
       "      <td>6SluaPiV04KOaRTOIScoff</td>\n",
       "      <td>1995-10-13</td>\n",
       "      <td>6UE7nl9mha6s8z0wFQFIZ2</td>\n",
       "      <td>Robyn</td>\n",
       "      <td>229226.0</td>\n",
       "      <td>False</td>\n",
       "      <td>Robyn Is Here</td>\n",
       "      <td>Show Me Love - Radio Version</td>\n",
       "      <td>0.546</td>\n",
       "      <td>0.643</td>\n",
       "      <td>...</td>\n",
       "      <td>0.231588</td>\n",
       "      <td>0.227392</td>\n",
       "      <td>0.365724</td>\n",
       "      <td>0.220462</td>\n",
       "      <td>0.367808</td>\n",
       "      <td>0.267055</td>\n",
       "      <td>0.344281</td>\n",
       "      <td>0.349016</td>\n",
       "      <td>0.323426</td>\n",
       "      <td>0.480299</td>\n",
       "    </tr>\n",
       "    <tr>\n",
       "      <th>1</th>\n",
       "      <td>5qEVq3ZEGr0Got441lueWS</td>\n",
       "      <td>2018-08-10</td>\n",
       "      <td>6S58b0fr8TkWrEHOH4tRVu</td>\n",
       "      <td>Switchfoot</td>\n",
       "      <td>247240.0</td>\n",
       "      <td>False</td>\n",
       "      <td>You Found Me (Unbroken: Path To Redemption)</td>\n",
       "      <td>You Found Me (Unbroken: Path To Redemption)</td>\n",
       "      <td>0.603</td>\n",
       "      <td>0.802</td>\n",
       "      <td>...</td>\n",
       "      <td>0.384941</td>\n",
       "      <td>0.397085</td>\n",
       "      <td>0.465443</td>\n",
       "      <td>0.237421</td>\n",
       "      <td>0.359981</td>\n",
       "      <td>0.209631</td>\n",
       "      <td>0.283483</td>\n",
       "      <td>0.188632</td>\n",
       "      <td>0.212271</td>\n",
       "      <td>0.490470</td>\n",
       "    </tr>\n",
       "    <tr>\n",
       "      <th>2</th>\n",
       "      <td>5kqIPrATaCc2LqxVWzQGbk</td>\n",
       "      <td>2016-04-01</td>\n",
       "      <td>25u4wHJWxCA9vO0CzxAbK7</td>\n",
       "      <td>Lukas Graham</td>\n",
       "      <td>237300.0</td>\n",
       "      <td>False</td>\n",
       "      <td>Lukas Graham</td>\n",
       "      <td>7 Years</td>\n",
       "      <td>0.765</td>\n",
       "      <td>0.473</td>\n",
       "      <td>...</td>\n",
       "      <td>0.341671</td>\n",
       "      <td>0.321183</td>\n",
       "      <td>0.195459</td>\n",
       "      <td>0.330539</td>\n",
       "      <td>0.175221</td>\n",
       "      <td>0.328568</td>\n",
       "      <td>0.153059</td>\n",
       "      <td>0.221073</td>\n",
       "      <td>0.444818</td>\n",
       "      <td>0.203276</td>\n",
       "    </tr>\n",
       "    <tr>\n",
       "      <th>3</th>\n",
       "      <td>3aVyHFxRkf8lSjhWdJ68AW</td>\n",
       "      <td>2013-01-01</td>\n",
       "      <td>0C0XlULifJtAgn6ZNCW2eu</td>\n",
       "      <td>The Killers</td>\n",
       "      <td>262000.0</td>\n",
       "      <td>False</td>\n",
       "      <td>Direct Hits</td>\n",
       "      <td>Just Another Girl</td>\n",
       "      <td>0.547</td>\n",
       "      <td>0.779</td>\n",
       "      <td>...</td>\n",
       "      <td>0.229995</td>\n",
       "      <td>0.264792</td>\n",
       "      <td>0.180531</td>\n",
       "      <td>0.281061</td>\n",
       "      <td>0.355194</td>\n",
       "      <td>0.189039</td>\n",
       "      <td>0.256742</td>\n",
       "      <td>0.193406</td>\n",
       "      <td>0.253140</td>\n",
       "      <td>0.308046</td>\n",
       "    </tr>\n",
       "    <tr>\n",
       "      <th>4</th>\n",
       "      <td>0zIyxS6QxZogHOpGkI6IZH</td>\n",
       "      <td>2018-09-07</td>\n",
       "      <td>0le01dl1WllSHhjEXRl4in</td>\n",
       "      <td>Tamia</td>\n",
       "      <td>236545.0</td>\n",
       "      <td>False</td>\n",
       "      <td>Passion Like Fire</td>\n",
       "      <td>Deeper</td>\n",
       "      <td>0.438</td>\n",
       "      <td>0.288</td>\n",
       "      <td>...</td>\n",
       "      <td>0.233717</td>\n",
       "      <td>0.128174</td>\n",
       "      <td>0.321370</td>\n",
       "      <td>0.200370</td>\n",
       "      <td>0.391387</td>\n",
       "      <td>0.132925</td>\n",
       "      <td>0.265942</td>\n",
       "      <td>0.537358</td>\n",
       "      <td>0.158429</td>\n",
       "      <td>0.266790</td>\n",
       "    </tr>\n",
       "  </tbody>\n",
       "</table>\n",
       "<p>5 rows × 81 columns</p>\n",
       "</div>"
      ],
      "text/plain": [
       "                  song_id album_release_date               artist_id  \\\n",
       "0  6SluaPiV04KOaRTOIScoff         1995-10-13  6UE7nl9mha6s8z0wFQFIZ2   \n",
       "1  5qEVq3ZEGr0Got441lueWS         2018-08-10  6S58b0fr8TkWrEHOH4tRVu   \n",
       "2  5kqIPrATaCc2LqxVWzQGbk         2016-04-01  25u4wHJWxCA9vO0CzxAbK7   \n",
       "3  3aVyHFxRkf8lSjhWdJ68AW         2013-01-01  0C0XlULifJtAgn6ZNCW2eu   \n",
       "4  0zIyxS6QxZogHOpGkI6IZH         2018-09-07  0le01dl1WllSHhjEXRl4in   \n",
       "\n",
       "    artist_name  duration_ms  explicit  \\\n",
       "0         Robyn     229226.0     False   \n",
       "1    Switchfoot     247240.0     False   \n",
       "2  Lukas Graham     237300.0     False   \n",
       "3   The Killers     262000.0     False   \n",
       "4         Tamia     236545.0     False   \n",
       "\n",
       "                                  linked_album  \\\n",
       "0                                Robyn Is Here   \n",
       "1  You Found Me (Unbroken: Path To Redemption)   \n",
       "2                                 Lukas Graham   \n",
       "3                                  Direct Hits   \n",
       "4                            Passion Like Fire   \n",
       "\n",
       "                                    song_title  danceability  energy  \\\n",
       "0                 Show Me Love - Radio Version         0.546   0.643   \n",
       "1  You Found Me (Unbroken: Path To Redemption)         0.603   0.802   \n",
       "2                                      7 Years         0.765   0.473   \n",
       "3                            Just Another Girl         0.547   0.779   \n",
       "4                                       Deeper         0.438   0.288   \n",
       "\n",
       "     ...      pv_dim_3  pv_dim_4  pv_dim_5  pv_dim_6  pv_dim_7  pv_dim_8  \\\n",
       "0    ...      0.231588  0.227392  0.365724  0.220462  0.367808  0.267055   \n",
       "1    ...      0.384941  0.397085  0.465443  0.237421  0.359981  0.209631   \n",
       "2    ...      0.341671  0.321183  0.195459  0.330539  0.175221  0.328568   \n",
       "3    ...      0.229995  0.264792  0.180531  0.281061  0.355194  0.189039   \n",
       "4    ...      0.233717  0.128174  0.321370  0.200370  0.391387  0.132925   \n",
       "\n",
       "   pv_dim_9  pv_dim_10  pv_dim_11  pv_dim_12  \n",
       "0  0.344281   0.349016   0.323426   0.480299  \n",
       "1  0.283483   0.188632   0.212271   0.490470  \n",
       "2  0.153059   0.221073   0.444818   0.203276  \n",
       "3  0.256742   0.193406   0.253140   0.308046  \n",
       "4  0.265942   0.537358   0.158429   0.266790  \n",
       "\n",
       "[5 rows x 81 columns]"
      ]
     },
     "execution_count": 8,
     "metadata": {},
     "output_type": "execute_result"
    }
   ],
   "source": [
    "track_list.head()"
   ]
  },
  {
   "cell_type": "markdown",
   "metadata": {},
   "source": [
    "#### Standardizing Composition and Track Tables"
   ]
  },
  {
   "cell_type": "code",
   "execution_count": 9,
   "metadata": {},
   "outputs": [],
   "source": [
    "full_comps['Title_n'] = full_comps['Title'].apply(lambda x: x.lower())\n",
    "full_comps['Performer_n'] = full_comps['Performer Name'].apply(lambda x: str(x).lower())\n",
    "\n",
    "track_list['artist_name_n'] = track_list['artist_name'].apply(lambda x: str(x).lower()).apply(lambda x: str(x).strip(\"''/*\"))\n",
    "track_list['song_title_n'] = track_list['song_title'].apply(lambda x: str(x).lower()).apply(lambda x: re.sub(r'(\\(feat.*)','', x))"
   ]
  },
  {
   "cell_type": "markdown",
   "metadata": {},
   "source": [
    "### Combining Tables"
   ]
  },
  {
   "cell_type": "code",
   "execution_count": 10,
   "metadata": {},
   "outputs": [],
   "source": [
    "lol_test = pd.merge(track_list, full_comps, how='left', left_on=['artist_name_n', 'song_title_n'],\n",
    "                    right_on=['Performer_n', 'Title_n'])"
   ]
  },
  {
   "cell_type": "code",
   "execution_count": 11,
   "metadata": {},
   "outputs": [
    {
     "data": {
      "text/plain": [
       "6509"
      ]
     },
     "execution_count": 11,
     "metadata": {},
     "output_type": "execute_result"
    }
   ],
   "source": [
    "len(lol_test[lol_test['CID'].notnull()])"
   ]
  },
  {
   "cell_type": "markdown",
   "metadata": {},
   "source": [
    "Not bad for literally doing nothing but removing caps, and 'featuring' language. Let's see what other formatting issues I can minimize"
   ]
  },
  {
   "cell_type": "code",
   "execution_count": 13,
   "metadata": {},
   "outputs": [],
   "source": [
    "track_list.sort_values('artist_name_n', axis=0, inplace=True)"
   ]
  },
  {
   "cell_type": "markdown",
   "metadata": {},
   "source": [
    "#### Artists, Songs -w- Special Marks (special characters, \"feat\", other weird stuff)"
   ]
  },
  {
   "cell_type": "markdown",
   "metadata": {},
   "source": [
    "##### Spotify Artists"
   ]
  },
  {
   "cell_type": "code",
   "execution_count": 26,
   "metadata": {},
   "outputs": [
    {
     "data": {
      "text/plain": [
       "6362     prodigy (of mobb deep) feat. kurupt, jayo felo...\n",
       "7055         trillville (featuring lil' scrappy & lil jon)\n",
       "17294        willie nelson & roger miller (with ray price)\n",
       "22615    young, wild & free (snoop dogg, wiz khalifa & ...\n",
       "Name: artist_name_n, dtype: object"
      ]
     },
     "execution_count": 26,
     "metadata": {},
     "output_type": "execute_result"
    }
   ],
   "source": [
    "# Parenthesis\n",
    "track_list['artist_name_n'][track_list['artist_name_n'].str.contains(\"\\(\")]"
   ]
  },
  {
   "cell_type": "code",
   "execution_count": 27,
   "metadata": {},
   "outputs": [
    {
     "data": {
      "text/plain": [
       "22615    young, wild & free (snoop dogg, wiz khalifa & ...\n",
       "Name: artist_name_n, dtype: object"
      ]
     },
     "execution_count": 27,
     "metadata": {},
     "output_type": "execute_result"
    }
   ],
   "source": [
    "# Brackets\n",
    "track_list['artist_name_n'][track_list['artist_name_n'].str.contains(\"\\[\")]"
   ]
  },
  {
   "cell_type": "code",
   "execution_count": 29,
   "metadata": {},
   "outputs": [
    {
     "data": {
      "text/plain": [
       "evelyn \"champagne\" king    10\n",
       "johnny \"guitar\" watson     10\n",
       "\"weird al\" yankovic        10\n",
       "héctor \"el father\"          1\n",
       "Name: artist_name_n, dtype: int64"
      ]
     },
     "execution_count": 29,
     "metadata": {},
     "output_type": "execute_result"
    }
   ],
   "source": [
    "# Quotation Marks\n",
    "track_list['artist_name_n'][track_list['artist_name_n'].str.contains(\"\\\"\")].value_counts()"
   ]
  },
  {
   "cell_type": "code",
   "execution_count": 43,
   "metadata": {},
   "outputs": [
    {
     "data": {
      "text/plain": [
       "13847    john p. kee and new life feat. james fortune, ...\n",
       "6362     prodigy (of mobb deep) feat. kurupt, jayo felo...\n",
       "Name: artist_name_n, dtype: object"
      ]
     },
     "execution_count": 43,
     "metadata": {},
     "output_type": "execute_result"
    }
   ],
   "source": [
    "# presence of \"feat\"\n",
    "track_list['artist_name_n'][track_list['artist_name_n'].str.contains(\"feat\\.\")]"
   ]
  },
  {
   "cell_type": "markdown",
   "metadata": {},
   "source": [
    "##### Spotify Songs"
   ]
  },
  {
   "cell_type": "code",
   "execution_count": 58,
   "metadata": {},
   "outputs": [
    {
     "data": {
      "text/plain": [
       "1366"
      ]
     },
     "execution_count": 58,
     "metadata": {},
     "output_type": "execute_result"
    }
   ],
   "source": [
    "# Parenthesis\n",
    "len(track_list['song_title_n'][track_list['song_title_n'].str.contains(\"\\(\")])"
   ]
  },
  {
   "cell_type": "code",
   "execution_count": 95,
   "metadata": {},
   "outputs": [
    {
     "data": {
      "text/plain": [
       "82"
      ]
     },
     "execution_count": 95,
     "metadata": {},
     "output_type": "execute_result"
    }
   ],
   "source": [
    "# Brackets\n",
    "len(track_list['song_title_n'][track_list['song_title_n'].str.contains(\"\\[\")])"
   ]
  },
  {
   "cell_type": "code",
   "execution_count": 56,
   "metadata": {},
   "outputs": [
    {
     "data": {
      "text/plain": [
       "242"
      ]
     },
     "execution_count": 56,
     "metadata": {},
     "output_type": "execute_result"
    }
   ],
   "source": [
    "# Quotation Marks\n",
    "len(track_list['song_title_n'][track_list['song_title_n'].str.contains(\"\\\"\")])"
   ]
  },
  {
   "cell_type": "code",
   "execution_count": 96,
   "metadata": {},
   "outputs": [
    {
     "data": {
      "text/plain": [
       "2672"
      ]
     },
     "execution_count": 96,
     "metadata": {},
     "output_type": "execute_result"
    }
   ],
   "source": [
    "# Hyphens connecting song versions to title\n",
    "len(track_list['song_title_n'][track_list['song_title_n'].str.contains(\" - \")])"
   ]
  },
  {
   "cell_type": "code",
   "execution_count": 63,
   "metadata": {},
   "outputs": [
    {
     "data": {
      "text/plain": [
       "122"
      ]
     },
     "execution_count": 63,
     "metadata": {},
     "output_type": "execute_result"
    }
   ],
   "source": [
    "# presence of \"feat.\"\n",
    "len(track_list['song_title_n'][track_list['song_title_n'].str.contains(\"feat\")])"
   ]
  },
  {
   "cell_type": "code",
   "execution_count": 65,
   "metadata": {},
   "outputs": [
    {
     "data": {
      "text/plain": [
       "231"
      ]
     },
     "execution_count": 65,
     "metadata": {},
     "output_type": "execute_result"
    }
   ],
   "source": [
    "# ampersand\n",
    "len(track_list['song_title_n'][track_list['song_title_n'].str.contains(\"&\")])"
   ]
  },
  {
   "cell_type": "markdown",
   "metadata": {},
   "source": [
    "##### ASCAP Artists"
   ]
  },
  {
   "cell_type": "code",
   "execution_count": 66,
   "metadata": {},
   "outputs": [
    {
     "data": {
      "text/plain": [
       "2492"
      ]
     },
     "execution_count": 66,
     "metadata": {},
     "output_type": "execute_result"
    }
   ],
   "source": [
    "# Parenthesis\n",
    "len(full_comps['Performer_n'][full_comps['Performer_n'].str.contains(\"\\(\")])"
   ]
  },
  {
   "cell_type": "code",
   "execution_count": 36,
   "metadata": {},
   "outputs": [
    {
     "data": {
      "text/plain": [
       "165503    various / [kate smith w/ jack smith & hi\n",
       "201331    various / [peabo bryson & roberta flack]\n",
       "Name: Performer_n, dtype: object"
      ]
     },
     "execution_count": 36,
     "metadata": {},
     "output_type": "execute_result"
    }
   ],
   "source": [
    "# Brackets\n",
    "full_comps['Performer_n'][full_comps['Performer_n'].str.contains(\"\\[\")]"
   ]
  },
  {
   "cell_type": "code",
   "execution_count": 67,
   "metadata": {},
   "outputs": [
    {
     "data": {
      "text/plain": [
       "243"
      ]
     },
     "execution_count": 67,
     "metadata": {},
     "output_type": "execute_result"
    }
   ],
   "source": [
    "# Quotation Marks\n",
    "len(full_comps['Performer_n'][full_comps['Performer_n'].str.contains(\"\\\"\")])"
   ]
  },
  {
   "cell_type": "code",
   "execution_count": 70,
   "metadata": {},
   "outputs": [
    {
     "data": {
      "text/plain": [
       "192       dr. dre jill scott anderson paak & jon connor\n",
       "223                       eazy-e & bone thugs-n-harmony\n",
       "1132                               bone thugs & harmony\n",
       "1133       bone thugs n harmony featuring 3lw & felecia\n",
       "1939                             bones, thugs & harmony\n",
       "1943                                     wisin & yandel\n",
       "1944                                     wisin & yandel\n",
       "1945                                     wisin & yandel\n",
       "1946                                     wisin & yandel\n",
       "1947                                     wisin & yandel\n",
       "1948                                     wisin & yandel\n",
       "1949                                     wisin & yandel\n",
       "1950                                     wisin & yandel\n",
       "1951                                     wisin & yandel\n",
       "1952                                     wisin & yandel\n",
       "1953                                     wisin & yandel\n",
       "1954                                     wisin & yandel\n",
       "1955                                     wisin & yandel\n",
       "1956                                     wisin & yandel\n",
       "1957                                     wisin & yandel\n",
       "1958                                     wisin & yandel\n",
       "1959                                     wisin & yandel\n",
       "1960                                     wisin & yandel\n",
       "1961                                     wisin & yandel\n",
       "1962                                     wisin & yandel\n",
       "                              ...                      \n",
       "570617    kissy sell out with eddie craig feat. tengu &\n",
       "570625                      doctor midnight & the mercy\n",
       "570626                      doctor midnight & the mercy\n",
       "570627                      doctor midnight & the mercy\n",
       "570628                      doctor midnight & the mercy\n",
       "570629                      doctor midnight & the mercy\n",
       "570630                      doctor midnight & the mercy\n",
       "570631                      doctor midnight & the mercy\n",
       "570632                      doctor midnight & the mercy\n",
       "570633                      doctor midnight & the mercy\n",
       "570634                      doctor midnight & the mercy\n",
       "570650               dj aku ash kilafairy&sean kingston\n",
       "570731            james bignon & deliverance mass choir\n",
       "570744                       fabolous ft.cam'ron & vado\n",
       "570759                  & swede dreams breathe carolina\n",
       "570761        breathe carolina & bassjackers feat. cade\n",
       "570764                       breathe carolina vs. y & v\n",
       "570765                       breathe carolina vs. y & v\n",
       "570766                          vs y&v breathe carolina\n",
       "570767           breathe carolina & reez bassjackers vs\n",
       "570769      bridge feat. tonez wiz khalifa snoop dogg &\n",
       "570775                   casero & santiago danny albelo\n",
       "570778                    little giants & kav verhouzer\n",
       "570794                                    chico & alize\n",
       "570800                            candleland & mysterio\n",
       "Name: Performer_n, Length: 12161, dtype: object"
      ]
     },
     "execution_count": 70,
     "metadata": {},
     "output_type": "execute_result"
    }
   ],
   "source": [
    "# Ampersand\n",
    "full_comps['Performer_n'][full_comps['Performer_n'].str.contains(\"&\")]"
   ]
  },
  {
   "cell_type": "markdown",
   "metadata": {},
   "source": [
    "##### ASCAP Songs"
   ]
  },
  {
   "cell_type": "code",
   "execution_count": 87,
   "metadata": {},
   "outputs": [
    {
     "data": {
      "text/plain": [
       "30413"
      ]
     },
     "execution_count": 87,
     "metadata": {},
     "output_type": "execute_result"
    }
   ],
   "source": [
    "# Parenthesis\n",
    "len(full_comps['Title_n'][full_comps['Title_n'].str.contains(\"\\(\")])"
   ]
  },
  {
   "cell_type": "code",
   "execution_count": 85,
   "metadata": {},
   "outputs": [
    {
     "data": {
      "text/plain": [
       "1595"
      ]
     },
     "execution_count": 85,
     "metadata": {},
     "output_type": "execute_result"
    }
   ],
   "source": [
    "# Quotation Marks\n",
    "len(full_comps['Title_n'][full_comps['Title_n'].str.contains(\"\\\"\")])"
   ]
  },
  {
   "cell_type": "code",
   "execution_count": 71,
   "metadata": {},
   "outputs": [
    {
     "data": {
      "text/plain": [
       "2893"
      ]
     },
     "execution_count": 71,
     "metadata": {},
     "output_type": "execute_result"
    }
   ],
   "source": [
    "# Ampersand\n",
    "len(full_comps['Title_n'][full_comps['Title_n'].str.contains(\"&\")])"
   ]
  },
  {
   "cell_type": "code",
   "execution_count": 89,
   "metadata": {},
   "outputs": [
    {
     "data": {
      "text/plain": [
       "2537"
      ]
     },
     "execution_count": 89,
     "metadata": {},
     "output_type": "execute_result"
    }
   ],
   "source": [
    "# presence of \"feat\"\n",
    "len(full_comps['Title_n'][full_comps['Title_n'].str.contains(\"feat\")])"
   ]
  },
  {
   "cell_type": "code",
   "execution_count": 83,
   "metadata": {},
   "outputs": [
    {
     "data": {
      "text/plain": [
       "1428"
      ]
     },
     "execution_count": 83,
     "metadata": {},
     "output_type": "execute_result"
    }
   ],
   "source": [
    "# Songs -w- Hyphens delineating special versions\n",
    "len(full_comps['Title_n'][full_comps['Title_n'].str.contains(\" - \")])"
   ]
  },
  {
   "cell_type": "markdown",
   "metadata": {},
   "source": [
    "### Additional Cleaning"
   ]
  },
  {
   "cell_type": "markdown",
   "metadata": {},
   "source": [
    "#### Spotify Artists"
   ]
  },
  {
   "cell_type": "code",
   "execution_count": 92,
   "metadata": {},
   "outputs": [],
   "source": [
    "# removing quotation marks\n",
    "track_list['artist_name_n'] = track_list['artist_name_n'].apply(lambda x: re.sub(r\"\\\"\",\"\",x))\n",
    "\n",
    "# removing parenthesis\n",
    "track_list['artist_name_n'] = track_list['artist_name_n'].apply(lambda x: re.sub(r'(\\s\\(.*\\))', \"\", x))\n",
    "\n",
    "# removing feat. artists\n",
    "track_list['artist_name_n'] = track_list['artist_name_n'].apply(lambda x: re.sub(r'( feat\\..*)', \"\", x))"
   ]
  },
  {
   "cell_type": "markdown",
   "metadata": {},
   "source": [
    "#### Spotify Songs"
   ]
  },
  {
   "cell_type": "code",
   "execution_count": 103,
   "metadata": {},
   "outputs": [],
   "source": [
    "# removing quotation marks\n",
    "track_list['song_title_n'] = track_list['song_title_n'].apply(lambda x: re.sub(r\"\\\"\",\"\", x))\n",
    "track_list['song_title_n'] = track_list['song_title_n'].apply(lambda x: re.sub(r\"\\'\",\"\", x))\n",
    "\n",
    "# removing brackets\n",
    "track_list['song_title_n'] = track_list['song_title_n'].apply(lambda x: re.sub(r' \\[.*',\"\", x))\n",
    "\n",
    "# removing parenthesis\n",
    "track_list['song_title_n'] = track_list['song_title_n'].apply(lambda x: re.sub(r'(\\s\\(.*\\))', \"\", x))\n",
    "\n",
    "# removing feat. artists\n",
    "track_list['song_title_n'] = track_list['song_title_n'].apply(lambda x: re.sub(r'( feat\\..*)', \"\", x))\n",
    "\n",
    "# removing hyphens\n",
    "track_list['song_title_n'] = track_list['song_title_n'].apply(lambda x: re.sub(r' -.*', \"\", x))\n",
    "\n",
    "# removing feat\n",
    "track_list['song_title_n'] = track_list['song_title_n'].apply(lambda x: re.sub(r'( feat\\..*)', \"\", x))"
   ]
  },
  {
   "cell_type": "code",
   "execution_count": null,
   "metadata": {},
   "outputs": [],
   "source": [
    "# changing 'ampersand' to and \n",
    "track_list['song_title_n'] = track_list['song_title_n'].apply(lambda x: re.sub(r'', \"\", x))"
   ]
  },
  {
   "cell_type": "markdown",
   "metadata": {},
   "source": [
    "#### ASCAP Artists"
   ]
  },
  {
   "cell_type": "code",
   "execution_count": 99,
   "metadata": {},
   "outputs": [],
   "source": [
    "# removing quotation marks\n",
    "full_comps['Performer_n'] = full_comps['Performer_n'].apply(lambda x: re.sub(r\"\\\"\",\"\",x))\n",
    "\n",
    "# removing parenthesis\n",
    "full_comps['Performer_n'] = full_comps['Performer_n'].apply(lambda x: re.sub(r'(\\s\\(.*\\))', \"\", x))\n",
    "\n",
    "# removing feat. artists\n",
    "full_comps['Performer_n'] = full_comps['Performer_n'].apply(lambda x: re.sub(r'( feat\\..*)', \"\", x))"
   ]
  },
  {
   "cell_type": "markdown",
   "metadata": {},
   "source": [
    "#### ASCAP Songs"
   ]
  },
  {
   "cell_type": "code",
   "execution_count": 104,
   "metadata": {},
   "outputs": [],
   "source": [
    "# removing quotation marks\n",
    "full_comps['Title_n'] = full_comps['Title_n'].apply(lambda x: re.sub(r\"\\\"\",\"\", x))\n",
    "full_comps['Title_n'] = full_comps['Title_n'].apply(lambda x: re.sub(r\"\\'\",\"\", x))\n",
    "\n",
    "# removing brackets\n",
    "full_comps['Title_n'] = full_comps['Title_n'].apply(lambda x: re.sub(r' \\[.*',\"\", x))\n",
    "\n",
    "# removing parenthesis\n",
    "full_comps['Title_n'] = full_comps['Title_n'].apply(lambda x: re.sub(r'(\\s\\(.*\\))', \"\", x))\n",
    "\n",
    "# removing feat. artists\n",
    "full_comps['Title_n'] = full_comps['Title_n'].apply(lambda x: re.sub(r'( feat\\..*)', \"\", x))\n",
    "\n",
    "# removing hyphens\n",
    "full_comps['Title_n'] = full_comps['Title_n'].apply(lambda x: re.sub(r' -.*', \"\", x))\n",
    "\n",
    "# removing feat\n",
    "full_comps['Title_n'] = full_comps['Title_n'].apply(lambda x: re.sub(r'( feat\\..*)', \"\", x))"
   ]
  },
  {
   "cell_type": "markdown",
   "metadata": {},
   "source": [
    "### Merge Try 2"
   ]
  },
  {
   "cell_type": "code",
   "execution_count": 106,
   "metadata": {},
   "outputs": [],
   "source": [
    "lol_test_2 = pd.merge(track_list, full_comps, how='left', left_on=['artist_name_n', 'song_title_n'],\n",
    "                      right_on=['Performer_n', 'Title_n'])"
   ]
  },
  {
   "cell_type": "code",
   "execution_count": 113,
   "metadata": {},
   "outputs": [
    {
     "name": "stdout",
     "output_type": "stream",
     "text": [
      "<class 'pandas.core.frame.DataFrame'>\n",
      "Int64Index: 23594 entries, 0 to 23593\n",
      "Data columns (total 2 columns):\n",
      "Title             8502 non-null object\n",
      "Performer Name    8502 non-null object\n",
      "dtypes: object(2)\n",
      "memory usage: 553.0+ KB\n"
     ]
    }
   ],
   "source": [
    "lol_test_2[['Title', 'Performer Name']].info()"
   ]
  },
  {
   "cell_type": "code",
   "execution_count": 114,
   "metadata": {},
   "outputs": [
    {
     "data": {
      "text/html": [
       "<div>\n",
       "<style scoped>\n",
       "    .dataframe tbody tr th:only-of-type {\n",
       "        vertical-align: middle;\n",
       "    }\n",
       "\n",
       "    .dataframe tbody tr th {\n",
       "        vertical-align: top;\n",
       "    }\n",
       "\n",
       "    .dataframe thead th {\n",
       "        text-align: right;\n",
       "    }\n",
       "</style>\n",
       "<table border=\"1\" class=\"dataframe\">\n",
       "  <thead>\n",
       "    <tr style=\"text-align: right;\">\n",
       "      <th></th>\n",
       "      <th>Title_n</th>\n",
       "      <th>Performer_n</th>\n",
       "    </tr>\n",
       "  </thead>\n",
       "  <tbody>\n",
       "    <tr>\n",
       "      <th>1</th>\n",
       "      <td>foil</td>\n",
       "      <td>weird al yankovic</td>\n",
       "    </tr>\n",
       "    <tr>\n",
       "      <th>2</th>\n",
       "      <td>white &amp; nerdy</td>\n",
       "      <td>weird al yankovic</td>\n",
       "    </tr>\n",
       "    <tr>\n",
       "      <th>7</th>\n",
       "      <td>handy</td>\n",
       "      <td>weird al yankovic</td>\n",
       "    </tr>\n",
       "    <tr>\n",
       "      <th>10</th>\n",
       "      <td>novacaine</td>\n",
       "      <td>10 years</td>\n",
       "    </tr>\n",
       "    <tr>\n",
       "      <th>12</th>\n",
       "      <td>burnout</td>\n",
       "      <td>10 years</td>\n",
       "    </tr>\n",
       "    <tr>\n",
       "      <th>15</th>\n",
       "      <td>beautiful</td>\n",
       "      <td>10 years</td>\n",
       "    </tr>\n",
       "    <tr>\n",
       "      <th>18</th>\n",
       "      <td>the messenger</td>\n",
       "      <td>10 years</td>\n",
       "    </tr>\n",
       "    <tr>\n",
       "      <th>...</th>\n",
       "      <td>...</td>\n",
       "      <td>...</td>\n",
       "    </tr>\n",
       "    <tr>\n",
       "      <th>23551</th>\n",
       "      <td>tear the house up</td>\n",
       "      <td>zebra katz</td>\n",
       "    </tr>\n",
       "    <tr>\n",
       "      <th>23554</th>\n",
       "      <td>tear the house up</td>\n",
       "      <td>zebra katz</td>\n",
       "    </tr>\n",
       "    <tr>\n",
       "      <th>23557</th>\n",
       "      <td>the middle</td>\n",
       "      <td>zedd</td>\n",
       "    </tr>\n",
       "    <tr>\n",
       "      <th>23558</th>\n",
       "      <td>stay</td>\n",
       "      <td>zedd</td>\n",
       "    </tr>\n",
       "    <tr>\n",
       "      <th>23559</th>\n",
       "      <td>stay</td>\n",
       "      <td>zedd</td>\n",
       "    </tr>\n",
       "    <tr>\n",
       "      <th>23561</th>\n",
       "      <td>supermen</td>\n",
       "      <td>zeljko joksimovic</td>\n",
       "    </tr>\n",
       "    <tr>\n",
       "      <th>23572</th>\n",
       "      <td>my life</td>\n",
       "      <td>zhu</td>\n",
       "    </tr>\n",
       "  </tbody>\n",
       "</table>\n",
       "<p>8502 rows × 2 columns</p>\n",
       "</div>"
      ],
      "text/plain": [
       "                 Title_n        Performer_n\n",
       "1                   foil  weird al yankovic\n",
       "2          white & nerdy  weird al yankovic\n",
       "7                  handy  weird al yankovic\n",
       "10             novacaine           10 years\n",
       "12               burnout           10 years\n",
       "15             beautiful           10 years\n",
       "18         the messenger           10 years\n",
       "...                  ...                ...\n",
       "23551  tear the house up         zebra katz\n",
       "23554  tear the house up         zebra katz\n",
       "23557         the middle               zedd\n",
       "23558               stay               zedd\n",
       "23559               stay               zedd\n",
       "23561           supermen  zeljko joksimovic\n",
       "23572            my life                zhu\n",
       "\n",
       "[8502 rows x 2 columns]"
      ]
     },
     "execution_count": 114,
     "metadata": {},
     "output_type": "execute_result"
    }
   ],
   "source": [
    "pd.set_option('display.max_rows', 15)\n",
    "lol_test_2[['Title_n', 'Performer_n']][lol_test_2['Title_n'].notna()]"
   ]
  },
  {
   "cell_type": "code",
   "execution_count": 116,
   "metadata": {},
   "outputs": [
    {
     "data": {
      "text/plain": [
       "Index(['song_id', 'album_release_date', 'artist_id', 'artist_name',\n",
       "       'duration_ms', 'explicit', 'linked_album', 'song_title', 'danceability',\n",
       "       'energy', 'key', 'loudness', 'mode', 'speechiness', 'acousticness',\n",
       "       'instrumentalness', 'liveness', 'valence', 'tempo', 'time_signature',\n",
       "       'key_changes', 'mean_song_conf', 'mean_loudness', 'mean_mode',\n",
       "       'mean_mode_conf', 'mean_tempo', 'mean_tempo_conf', 'var_song_conf',\n",
       "       'var_loudness', 'var_mode', 'var_mode_conf', 'var_tempo',\n",
       "       'var_tempo_conf', 'tm_dim_1', 'tm_dim_2', 'tm_dim_3', 'tm_dim_4',\n",
       "       'tm_dim_5', 'tm_dim_6', 'tm_dim_7', 'tm_dim_8', 'tm_dim_9', 'tm_dim_10',\n",
       "       'tm_dim_11', 'tm_dim_12', 'tv_dim_1', 'tv_dim_2', 'tv_dim_3',\n",
       "       'tv_dim_4', 'tv_dim_5', 'tv_dim_6', 'tv_dim_7', 'tv_dim_8', 'tv_dim_9',\n",
       "       'tv_dim_10', 'tv_dim_11', 'tv_dim_12', 'pm_dim_1', 'pm_dim_2',\n",
       "       'pm_dim_3', 'pm_dim_4', 'pm_dim_5', 'pm_dim_6', 'pm_dim_7', 'pm_dim_8',\n",
       "       'pm_dim_9', 'pm_dim_10', 'pm_dim_11', 'pm_dim_12', 'pv_dim_1',\n",
       "       'pv_dim_2', 'pv_dim_3', 'pv_dim_4', 'pv_dim_5', 'pv_dim_6', 'pv_dim_7',\n",
       "       'pv_dim_8', 'pv_dim_9', 'pv_dim_10', 'pv_dim_11', 'pv_dim_12',\n",
       "       'artist_name_n', 'song_title_n'],\n",
       "      dtype='object')"
      ]
     },
     "execution_count": 116,
     "metadata": {},
     "output_type": "execute_result"
    }
   ],
   "source": [
    "track_list.columns"
   ]
  },
  {
   "cell_type": "code",
   "execution_count": 117,
   "metadata": {},
   "outputs": [],
   "source": [
    "track_list.drop(['song_id', 'album_release_date','duration_ms', 'explicit', \n",
    "                 'linked_album', 'danceability',\n",
    "                 'energy', 'key', 'loudness', 'mode', 'speechiness', 'acousticness',\n",
    "                 'instrumentalness', 'liveness', 'valence', 'tempo', 'time_signature',\n",
    "                 'key_changes', 'mean_song_conf', 'mean_loudness', 'mean_mode',\n",
    "                 'mean_mode_conf', 'mean_tempo', 'mean_tempo_conf', 'var_song_conf',\n",
    "                 'var_loudness', 'var_mode', 'var_mode_conf', 'var_tempo',\n",
    "                 'var_tempo_conf', 'tm_dim_1', 'tm_dim_2', 'tm_dim_3', 'tm_dim_4',\n",
    "                 'tm_dim_5', 'tm_dim_6', 'tm_dim_7', 'tm_dim_8', 'tm_dim_9', 'tm_dim_10',\n",
    "                 'tm_dim_11', 'tm_dim_12', 'tv_dim_1', 'tv_dim_2', 'tv_dim_3',\n",
    "                 'tv_dim_4', 'tv_dim_5', 'tv_dim_6', 'tv_dim_7', 'tv_dim_8', 'tv_dim_9',\n",
    "                  'tv_dim_10', 'tv_dim_11', 'tv_dim_12', 'pm_dim_1', 'pm_dim_2',\n",
    "                  'pm_dim_3', 'pm_dim_4', 'pm_dim_5', 'pm_dim_6', 'pm_dim_7', 'pm_dim_8',\n",
    "                 'pm_dim_9', 'pm_dim_10', 'pm_dim_11', 'pm_dim_12', 'pv_dim_1',\n",
    "                 'pv_dim_2', 'pv_dim_3', 'pv_dim_4', 'pv_dim_5', 'pv_dim_6', 'pv_dim_7',\n",
    "                 'pv_dim_8', 'pv_dim_9', 'pv_dim_10', 'pv_dim_11', 'pv_dim_12'] ,1, inplace=True)"
   ]
  },
  {
   "cell_type": "markdown",
   "metadata": {},
   "source": [
    "### Merge Try 3 (To Diagnose What I'm Unable to Match)"
   ]
  },
  {
   "cell_type": "code",
   "execution_count": 119,
   "metadata": {},
   "outputs": [],
   "source": [
    "lol_test_2 = pd.merge(track_list, full_comps, how='left', left_on=['artist_name_n', 'song_title_n'],\n",
    "                      right_on=['Performer_n', 'Title_n'])"
   ]
  },
  {
   "cell_type": "code",
   "execution_count": 120,
   "metadata": {},
   "outputs": [
    {
     "name": "stdout",
     "output_type": "stream",
     "text": [
      "<class 'pandas.core.frame.DataFrame'>\n",
      "Int64Index: 23594 entries, 0 to 23593\n",
      "Data columns (total 12 columns):\n",
      "artist_id         23594 non-null object\n",
      "artist_name       23594 non-null object\n",
      "song_title        23594 non-null object\n",
      "artist_name_n     23594 non-null object\n",
      "song_title_n      23594 non-null object\n",
      "CID               8502 non-null float64\n",
      "PID               8502 non-null float64\n",
      "AID               8502 non-null float64\n",
      "Title             8502 non-null object\n",
      "Performer Name    8502 non-null object\n",
      "Title_n           8502 non-null object\n",
      "Performer_n       8502 non-null object\n",
      "dtypes: float64(3), object(9)\n",
      "memory usage: 2.3+ MB\n"
     ]
    }
   ],
   "source": [
    "lol_test_2.info()"
   ]
  },
  {
   "cell_type": "code",
   "execution_count": 137,
   "metadata": {},
   "outputs": [
    {
     "data": {
      "text/html": [
       "<div>\n",
       "<style scoped>\n",
       "    .dataframe tbody tr th:only-of-type {\n",
       "        vertical-align: middle;\n",
       "    }\n",
       "\n",
       "    .dataframe tbody tr th {\n",
       "        vertical-align: top;\n",
       "    }\n",
       "\n",
       "    .dataframe thead th {\n",
       "        text-align: right;\n",
       "    }\n",
       "</style>\n",
       "<table border=\"1\" class=\"dataframe\">\n",
       "  <thead>\n",
       "    <tr style=\"text-align: right;\">\n",
       "      <th></th>\n",
       "      <th>artist_id</th>\n",
       "      <th>artist_name</th>\n",
       "      <th>song_title</th>\n",
       "      <th>artist_name_n</th>\n",
       "      <th>song_title_n</th>\n",
       "      <th>CID</th>\n",
       "      <th>PID</th>\n",
       "      <th>AID</th>\n",
       "      <th>Title</th>\n",
       "      <th>Performer Name</th>\n",
       "      <th>Title_n</th>\n",
       "      <th>Performer_n</th>\n",
       "    </tr>\n",
       "  </thead>\n",
       "  <tbody>\n",
       "    <tr>\n",
       "      <th>11124</th>\n",
       "      <td>08avsqaGIlK2x3i2Cu7rKH</td>\n",
       "      <td>Keith Richards</td>\n",
       "      <td>Take It so Hard</td>\n",
       "      <td>keith richards</td>\n",
       "      <td>take it so hard</td>\n",
       "      <td>228579.0</td>\n",
       "      <td>56073.0</td>\n",
       "      <td>500408428.0</td>\n",
       "      <td>TAKE IT SO HARD</td>\n",
       "      <td>KEITH RICHARDS</td>\n",
       "      <td>take it so hard</td>\n",
       "      <td>keith richards</td>\n",
       "    </tr>\n",
       "    <tr>\n",
       "      <th>11125</th>\n",
       "      <td>08avsqaGIlK2x3i2Cu7rKH</td>\n",
       "      <td>Keith Richards</td>\n",
       "      <td>Trouble</td>\n",
       "      <td>keith richards</td>\n",
       "      <td>trouble</td>\n",
       "      <td>228580.0</td>\n",
       "      <td>56073.0</td>\n",
       "      <td>888649739.0</td>\n",
       "      <td>TROUBLE</td>\n",
       "      <td>KEITH RICHARDS</td>\n",
       "      <td>trouble</td>\n",
       "      <td>keith richards</td>\n",
       "    </tr>\n",
       "    <tr>\n",
       "      <th>11126</th>\n",
       "      <td>08avsqaGIlK2x3i2Cu7rKH</td>\n",
       "      <td>Keith Richards</td>\n",
       "      <td>Eileen</td>\n",
       "      <td>keith richards</td>\n",
       "      <td>eileen</td>\n",
       "      <td>194392.0</td>\n",
       "      <td>56073.0</td>\n",
       "      <td>350188282.0</td>\n",
       "      <td>EILEEN</td>\n",
       "      <td>KEITH RICHARDS</td>\n",
       "      <td>eileen</td>\n",
       "      <td>keith richards</td>\n",
       "    </tr>\n",
       "    <tr>\n",
       "      <th>11127</th>\n",
       "      <td>2r09Inibex3C4ZNTUVSG3m</td>\n",
       "      <td>Keith Sweat</td>\n",
       "      <td>How Deep Is Your Love</td>\n",
       "      <td>keith sweat</td>\n",
       "      <td>how deep is your love</td>\n",
       "      <td>84313.0</td>\n",
       "      <td>40133.0</td>\n",
       "      <td>380289572.0</td>\n",
       "      <td>HOW DEEP IS YOUR LOVE</td>\n",
       "      <td>KEITH SWEAT</td>\n",
       "      <td>how deep is your love</td>\n",
       "      <td>keith sweat</td>\n",
       "    </tr>\n",
       "    <tr>\n",
       "      <th>11128</th>\n",
       "      <td>2r09Inibex3C4ZNTUVSG3m</td>\n",
       "      <td>Keith Sweat</td>\n",
       "      <td>Right And A Wrong Way</td>\n",
       "      <td>keith sweat</td>\n",
       "      <td>right and a wrong way</td>\n",
       "      <td>NaN</td>\n",
       "      <td>NaN</td>\n",
       "      <td>NaN</td>\n",
       "      <td>NaN</td>\n",
       "      <td>NaN</td>\n",
       "      <td>NaN</td>\n",
       "      <td>NaN</td>\n",
       "    </tr>\n",
       "    <tr>\n",
       "      <th>11129</th>\n",
       "      <td>2r09Inibex3C4ZNTUVSG3m</td>\n",
       "      <td>Keith Sweat</td>\n",
       "      <td>I'll Give All My Love To You - Remastered Sing...</td>\n",
       "      <td>keith sweat</td>\n",
       "      <td>ill give all my love to you</td>\n",
       "      <td>NaN</td>\n",
       "      <td>NaN</td>\n",
       "      <td>NaN</td>\n",
       "      <td>NaN</td>\n",
       "      <td>NaN</td>\n",
       "      <td>NaN</td>\n",
       "      <td>NaN</td>\n",
       "    </tr>\n",
       "    <tr>\n",
       "      <th>11130</th>\n",
       "      <td>2r09Inibex3C4ZNTUVSG3m</td>\n",
       "      <td>Keith Sweat</td>\n",
       "      <td>How Many Ways (feat. K-Ci)</td>\n",
       "      <td>keith sweat</td>\n",
       "      <td>how many ways</td>\n",
       "      <td>NaN</td>\n",
       "      <td>NaN</td>\n",
       "      <td>NaN</td>\n",
       "      <td>NaN</td>\n",
       "      <td>NaN</td>\n",
       "      <td>NaN</td>\n",
       "      <td>NaN</td>\n",
       "    </tr>\n",
       "    <tr>\n",
       "      <th>11131</th>\n",
       "      <td>2r09Inibex3C4ZNTUVSG3m</td>\n",
       "      <td>Keith Sweat</td>\n",
       "      <td>Make It Last Forever (with Jacci McGhee)</td>\n",
       "      <td>keith sweat</td>\n",
       "      <td>make it last forever</td>\n",
       "      <td>84352.0</td>\n",
       "      <td>40133.0</td>\n",
       "      <td>430385621.0</td>\n",
       "      <td>MAKE IT LAST FOREVER</td>\n",
       "      <td>KEITH SWEAT</td>\n",
       "      <td>make it last forever</td>\n",
       "      <td>keith sweat</td>\n",
       "    </tr>\n",
       "    <tr>\n",
       "      <th>11132</th>\n",
       "      <td>2r09Inibex3C4ZNTUVSG3m</td>\n",
       "      <td>Keith Sweat</td>\n",
       "      <td>Twisted</td>\n",
       "      <td>keith sweat</td>\n",
       "      <td>twisted</td>\n",
       "      <td>161479.0</td>\n",
       "      <td>40133.0</td>\n",
       "      <td>500541373.0</td>\n",
       "      <td>TWISTED</td>\n",
       "      <td>KEITH SWEAT</td>\n",
       "      <td>twisted</td>\n",
       "      <td>keith sweat</td>\n",
       "    </tr>\n",
       "    <tr>\n",
       "      <th>11133</th>\n",
       "      <td>2r09Inibex3C4ZNTUVSG3m</td>\n",
       "      <td>Keith Sweat</td>\n",
       "      <td>I Want Her</td>\n",
       "      <td>keith sweat</td>\n",
       "      <td>i want her</td>\n",
       "      <td>84324.0</td>\n",
       "      <td>40133.0</td>\n",
       "      <td>390452876.0</td>\n",
       "      <td>I WANT HER</td>\n",
       "      <td>KEITH SWEAT</td>\n",
       "      <td>i want her</td>\n",
       "      <td>keith sweat</td>\n",
       "    </tr>\n",
       "  </tbody>\n",
       "</table>\n",
       "</div>"
      ],
      "text/plain": [
       "                    artist_id     artist_name  \\\n",
       "11124  08avsqaGIlK2x3i2Cu7rKH  Keith Richards   \n",
       "11125  08avsqaGIlK2x3i2Cu7rKH  Keith Richards   \n",
       "11126  08avsqaGIlK2x3i2Cu7rKH  Keith Richards   \n",
       "11127  2r09Inibex3C4ZNTUVSG3m     Keith Sweat   \n",
       "11128  2r09Inibex3C4ZNTUVSG3m     Keith Sweat   \n",
       "11129  2r09Inibex3C4ZNTUVSG3m     Keith Sweat   \n",
       "11130  2r09Inibex3C4ZNTUVSG3m     Keith Sweat   \n",
       "11131  2r09Inibex3C4ZNTUVSG3m     Keith Sweat   \n",
       "11132  2r09Inibex3C4ZNTUVSG3m     Keith Sweat   \n",
       "11133  2r09Inibex3C4ZNTUVSG3m     Keith Sweat   \n",
       "\n",
       "                                              song_title   artist_name_n  \\\n",
       "11124                                    Take It so Hard  keith richards   \n",
       "11125                                            Trouble  keith richards   \n",
       "11126                                             Eileen  keith richards   \n",
       "11127                              How Deep Is Your Love     keith sweat   \n",
       "11128                              Right And A Wrong Way     keith sweat   \n",
       "11129  I'll Give All My Love To You - Remastered Sing...     keith sweat   \n",
       "11130                         How Many Ways (feat. K-Ci)     keith sweat   \n",
       "11131           Make It Last Forever (with Jacci McGhee)     keith sweat   \n",
       "11132                                            Twisted     keith sweat   \n",
       "11133                                         I Want Her     keith sweat   \n",
       "\n",
       "                      song_title_n       CID      PID          AID  \\\n",
       "11124              take it so hard  228579.0  56073.0  500408428.0   \n",
       "11125                      trouble  228580.0  56073.0  888649739.0   \n",
       "11126                       eileen  194392.0  56073.0  350188282.0   \n",
       "11127        how deep is your love   84313.0  40133.0  380289572.0   \n",
       "11128        right and a wrong way       NaN      NaN          NaN   \n",
       "11129  ill give all my love to you       NaN      NaN          NaN   \n",
       "11130               how many ways        NaN      NaN          NaN   \n",
       "11131         make it last forever   84352.0  40133.0  430385621.0   \n",
       "11132                      twisted  161479.0  40133.0  500541373.0   \n",
       "11133                   i want her   84324.0  40133.0  390452876.0   \n",
       "\n",
       "                       Title  Performer Name                Title_n  \\\n",
       "11124        TAKE IT SO HARD  KEITH RICHARDS        take it so hard   \n",
       "11125                TROUBLE  KEITH RICHARDS                trouble   \n",
       "11126                 EILEEN  KEITH RICHARDS                 eileen   \n",
       "11127  HOW DEEP IS YOUR LOVE     KEITH SWEAT  how deep is your love   \n",
       "11128                    NaN             NaN                    NaN   \n",
       "11129                    NaN             NaN                    NaN   \n",
       "11130                    NaN             NaN                    NaN   \n",
       "11131   MAKE IT LAST FOREVER     KEITH SWEAT   make it last forever   \n",
       "11132                TWISTED     KEITH SWEAT                twisted   \n",
       "11133             I WANT HER     KEITH SWEAT             i want her   \n",
       "\n",
       "          Performer_n  \n",
       "11124  keith richards  \n",
       "11125  keith richards  \n",
       "11126  keith richards  \n",
       "11127     keith sweat  \n",
       "11128             NaN  \n",
       "11129             NaN  \n",
       "11130             NaN  \n",
       "11131     keith sweat  \n",
       "11132     keith sweat  \n",
       "11133     keith sweat  "
      ]
     },
     "execution_count": 137,
     "metadata": {},
     "output_type": "execute_result"
    }
   ],
   "source": [
    "lol_test_2.iloc[11124:11134]"
   ]
  },
  {
   "cell_type": "markdown",
   "metadata": {},
   "source": [
    "lemme try and find \"Party in the CIA\" on my ASCAP song list"
   ]
  },
  {
   "cell_type": "code",
   "execution_count": 131,
   "metadata": {},
   "outputs": [
    {
     "data": {
      "text/html": [
       "<div>\n",
       "<style scoped>\n",
       "    .dataframe tbody tr th:only-of-type {\n",
       "        vertical-align: middle;\n",
       "    }\n",
       "\n",
       "    .dataframe tbody tr th {\n",
       "        vertical-align: top;\n",
       "    }\n",
       "\n",
       "    .dataframe thead th {\n",
       "        text-align: right;\n",
       "    }\n",
       "</style>\n",
       "<table border=\"1\" class=\"dataframe\">\n",
       "  <thead>\n",
       "    <tr style=\"text-align: right;\">\n",
       "      <th></th>\n",
       "      <th>CID</th>\n",
       "      <th>PID</th>\n",
       "      <th>AID</th>\n",
       "      <th>Title</th>\n",
       "      <th>Performer Name</th>\n",
       "      <th>Title_n</th>\n",
       "      <th>Performer_n</th>\n",
       "    </tr>\n",
       "  </thead>\n",
       "  <tbody>\n",
       "    <tr>\n",
       "      <th>167324</th>\n",
       "      <td>15128</td>\n",
       "      <td>17376</td>\n",
       "      <td>380129566</td>\n",
       "      <td>HEY JUDE</td>\n",
       "      <td>WEIRD AL YANKOVIC</td>\n",
       "      <td>hey jude</td>\n",
       "      <td>weird al yankovic</td>\n",
       "    </tr>\n",
       "    <tr>\n",
       "      <th>167325</th>\n",
       "      <td>26106</td>\n",
       "      <td>17376</td>\n",
       "      <td>320030882</td>\n",
       "      <td>BEER BARREL POLKA</td>\n",
       "      <td>WEIRD AL YANKOVIC</td>\n",
       "      <td>beer barrel polka</td>\n",
       "      <td>weird al yankovic</td>\n",
       "    </tr>\n",
       "    <tr>\n",
       "      <th>167326</th>\n",
       "      <td>93982</td>\n",
       "      <td>17376</td>\n",
       "      <td>350092054</td>\n",
       "      <td>EYE OF THE TIGER</td>\n",
       "      <td>WEIRD AL YANKOVIC</td>\n",
       "      <td>eye of the tiger</td>\n",
       "      <td>weird al yankovic</td>\n",
       "    </tr>\n",
       "    <tr>\n",
       "      <th>167327</th>\n",
       "      <td>94436</td>\n",
       "      <td>17376</td>\n",
       "      <td>320291314</td>\n",
       "      <td>BURNING DOWN THE HOUSE</td>\n",
       "      <td>WEIRD AL YANKOVIC</td>\n",
       "      <td>burning down the house</td>\n",
       "      <td>weird al yankovic</td>\n",
       "    </tr>\n",
       "    <tr>\n",
       "      <th>167328</th>\n",
       "      <td>94469</td>\n",
       "      <td>17376</td>\n",
       "      <td>490633375</td>\n",
       "      <td>SHE DRIVES ME CRAZY</td>\n",
       "      <td>WEIRD AL YANKOVIC</td>\n",
       "      <td>she drives me crazy</td>\n",
       "      <td>weird al yankovic</td>\n",
       "    </tr>\n",
       "  </tbody>\n",
       "</table>\n",
       "</div>"
      ],
      "text/plain": [
       "          CID    PID        AID                   Title     Performer Name  \\\n",
       "167324  15128  17376  380129566                HEY JUDE  WEIRD AL YANKOVIC   \n",
       "167325  26106  17376  320030882       BEER BARREL POLKA  WEIRD AL YANKOVIC   \n",
       "167326  93982  17376  350092054        EYE OF THE TIGER  WEIRD AL YANKOVIC   \n",
       "167327  94436  17376  320291314  BURNING DOWN THE HOUSE  WEIRD AL YANKOVIC   \n",
       "167328  94469  17376  490633375     SHE DRIVES ME CRAZY  WEIRD AL YANKOVIC   \n",
       "\n",
       "                       Title_n        Performer_n  \n",
       "167324                hey jude  weird al yankovic  \n",
       "167325       beer barrel polka  weird al yankovic  \n",
       "167326        eye of the tiger  weird al yankovic  \n",
       "167327  burning down the house  weird al yankovic  \n",
       "167328     she drives me crazy  weird al yankovic  "
      ]
     },
     "execution_count": 131,
     "metadata": {},
     "output_type": "execute_result"
    }
   ],
   "source": [
    "pd.set_option('display.max_rows', 45)\n",
    "full_comps[full_comps['Performer_n'] == 'weird al yankovic'].head()"
   ]
  },
  {
   "cell_type": "markdown",
   "metadata": {},
   "source": [
    "It's there, but apparently the default title is called \"Party at the CIA\", fuggin WACK. I wonder if this is one of the bigger problems in merging the two lists - the default titles being different.\n",
    "\n",
    "I also just learned that Weird Al is a member of BMI, which makes sense that ASCAP wouldn't have all of his comps\n",
    "\n",
    "Looking at the artist, \"10,000 Maniacs\" here:"
   ]
  },
  {
   "cell_type": "code",
   "execution_count": 129,
   "metadata": {},
   "outputs": [
    {
     "data": {
      "text/html": [
       "<div>\n",
       "<style scoped>\n",
       "    .dataframe tbody tr th:only-of-type {\n",
       "        vertical-align: middle;\n",
       "    }\n",
       "\n",
       "    .dataframe tbody tr th {\n",
       "        vertical-align: top;\n",
       "    }\n",
       "\n",
       "    .dataframe thead th {\n",
       "        text-align: right;\n",
       "    }\n",
       "</style>\n",
       "<table border=\"1\" class=\"dataframe\">\n",
       "  <thead>\n",
       "    <tr style=\"text-align: right;\">\n",
       "      <th></th>\n",
       "      <th>CID</th>\n",
       "      <th>PID</th>\n",
       "      <th>AID</th>\n",
       "      <th>Title</th>\n",
       "      <th>Performer Name</th>\n",
       "      <th>Title_n</th>\n",
       "      <th>Performer_n</th>\n",
       "    </tr>\n",
       "  </thead>\n",
       "  <tbody>\n",
       "    <tr>\n",
       "      <th>184060</th>\n",
       "      <td>45420</td>\n",
       "      <td>44160</td>\n",
       "      <td>500249234</td>\n",
       "      <td>THESE DAYS</td>\n",
       "      <td>10,000 MANIACS</td>\n",
       "      <td>these days</td>\n",
       "      <td>10,000 maniacs</td>\n",
       "    </tr>\n",
       "    <tr>\n",
       "      <th>184061</th>\n",
       "      <td>209933</td>\n",
       "      <td>44160</td>\n",
       "      <td>420386783</td>\n",
       "      <td>LET THE MYSTERY BE</td>\n",
       "      <td>10,000 MANIACS</td>\n",
       "      <td>let the mystery be</td>\n",
       "      <td>10,000 maniacs</td>\n",
       "    </tr>\n",
       "    <tr>\n",
       "      <th>184062</th>\n",
       "      <td>30177</td>\n",
       "      <td>44160</td>\n",
       "      <td>360288799</td>\n",
       "      <td>FEW AND FAR BETWEEN</td>\n",
       "      <td>10,000 MANIACS</td>\n",
       "      <td>few and far between</td>\n",
       "      <td>10,000 maniacs</td>\n",
       "    </tr>\n",
       "    <tr>\n",
       "      <th>184063</th>\n",
       "      <td>94844</td>\n",
       "      <td>44160</td>\n",
       "      <td>461423576</td>\n",
       "      <td>PARTY OF GOD</td>\n",
       "      <td>10,000 MANIACS</td>\n",
       "      <td>party of god</td>\n",
       "      <td>10,000 maniacs</td>\n",
       "    </tr>\n",
       "    <tr>\n",
       "      <th>184064</th>\n",
       "      <td>209910</td>\n",
       "      <td>44160</td>\n",
       "      <td>310503327</td>\n",
       "      <td>A ROOM FOR EVERYTHING</td>\n",
       "      <td>10,000 MANIACS</td>\n",
       "      <td>a room for everything</td>\n",
       "      <td>10,000 maniacs</td>\n",
       "    </tr>\n",
       "    <tr>\n",
       "      <th>184065</th>\n",
       "      <td>209911</td>\n",
       "      <td>44160</td>\n",
       "      <td>310259753</td>\n",
       "      <td>AMONG THE AMERICANS</td>\n",
       "      <td>10,000 MANIACS</td>\n",
       "      <td>among the americans</td>\n",
       "      <td>10,000 maniacs</td>\n",
       "    </tr>\n",
       "    <tr>\n",
       "      <th>184066</th>\n",
       "      <td>209912</td>\n",
       "      <td>44160</td>\n",
       "      <td>312942617</td>\n",
       "      <td>ANTHEM FOR DOOMED YOUTH</td>\n",
       "      <td>10,000 MANIACS</td>\n",
       "      <td>anthem for doomed youth</td>\n",
       "      <td>10,000 maniacs</td>\n",
       "    </tr>\n",
       "    <tr>\n",
       "      <th>184067</th>\n",
       "      <td>209913</td>\n",
       "      <td>44160</td>\n",
       "      <td>310280292</td>\n",
       "      <td>ARBOR DAY</td>\n",
       "      <td>10,000 MANIACS</td>\n",
       "      <td>arbor day</td>\n",
       "      <td>10,000 maniacs</td>\n",
       "    </tr>\n",
       "    <tr>\n",
       "      <th>184068</th>\n",
       "      <td>209914</td>\n",
       "      <td>44160</td>\n",
       "      <td>320327339</td>\n",
       "      <td>BACK O THE MOON</td>\n",
       "      <td>10,000 MANIACS</td>\n",
       "      <td>back o the moon</td>\n",
       "      <td>10,000 maniacs</td>\n",
       "    </tr>\n",
       "    <tr>\n",
       "      <th>184069</th>\n",
       "      <td>209915</td>\n",
       "      <td>44160</td>\n",
       "      <td>320530109</td>\n",
       "      <td>BEYOND THE BLUE</td>\n",
       "      <td>10,000 MANIACS</td>\n",
       "      <td>beyond the blue</td>\n",
       "      <td>10,000 maniacs</td>\n",
       "    </tr>\n",
       "    <tr>\n",
       "      <th>184070</th>\n",
       "      <td>209916</td>\n",
       "      <td>44160</td>\n",
       "      <td>320466064</td>\n",
       "      <td>BIG STAR</td>\n",
       "      <td>10,000 MANIACS</td>\n",
       "      <td>big star</td>\n",
       "      <td>10,000 maniacs</td>\n",
       "    </tr>\n",
       "    <tr>\n",
       "      <th>184071</th>\n",
       "      <td>209917</td>\n",
       "      <td>44160</td>\n",
       "      <td>331080147</td>\n",
       "      <td>CABARET</td>\n",
       "      <td>10,000 MANIACS</td>\n",
       "      <td>cabaret</td>\n",
       "      <td>10,000 maniacs</td>\n",
       "    </tr>\n",
       "    <tr>\n",
       "      <th>184072</th>\n",
       "      <td>209918</td>\n",
       "      <td>44160</td>\n",
       "      <td>330381270</td>\n",
       "      <td>CHERRY TREE</td>\n",
       "      <td>10,000 MANIACS</td>\n",
       "      <td>cherry tree</td>\n",
       "      <td>10,000 maniacs</td>\n",
       "    </tr>\n",
       "    <tr>\n",
       "      <th>184073</th>\n",
       "      <td>209919</td>\n",
       "      <td>44160</td>\n",
       "      <td>330402247</td>\n",
       "      <td>COLONIAL WING THE</td>\n",
       "      <td>10,000 MANIACS</td>\n",
       "      <td>colonial wing the</td>\n",
       "      <td>10,000 maniacs</td>\n",
       "    </tr>\n",
       "    <tr>\n",
       "      <th>184074</th>\n",
       "      <td>209920</td>\n",
       "      <td>44160</td>\n",
       "      <td>330382233</td>\n",
       "      <td>COTTON ALLEY</td>\n",
       "      <td>10,000 MANIACS</td>\n",
       "      <td>cotton alley</td>\n",
       "      <td>10,000 maniacs</td>\n",
       "    </tr>\n",
       "    <tr>\n",
       "      <th>184075</th>\n",
       "      <td>209921</td>\n",
       "      <td>44160</td>\n",
       "      <td>340282288</td>\n",
       "      <td>DON T TALK</td>\n",
       "      <td>10,000 MANIACS</td>\n",
       "      <td>don t talk</td>\n",
       "      <td>10,000 maniacs</td>\n",
       "    </tr>\n",
       "    <tr>\n",
       "      <th>184076</th>\n",
       "      <td>209922</td>\n",
       "      <td>44160</td>\n",
       "      <td>350189790</td>\n",
       "      <td>EDEN</td>\n",
       "      <td>10,000 MANIACS</td>\n",
       "      <td>eden</td>\n",
       "      <td>10,000 maniacs</td>\n",
       "    </tr>\n",
       "    <tr>\n",
       "      <th>184077</th>\n",
       "      <td>209923</td>\n",
       "      <td>44160</td>\n",
       "      <td>350224321</td>\n",
       "      <td>EVEN WITH MY EYES CLOSED</td>\n",
       "      <td>10,000 MANIACS</td>\n",
       "      <td>even with my eyes closed</td>\n",
       "      <td>10,000 maniacs</td>\n",
       "    </tr>\n",
       "    <tr>\n",
       "      <th>184078</th>\n",
       "      <td>209925</td>\n",
       "      <td>44160</td>\n",
       "      <td>370344020</td>\n",
       "      <td>GIRL ON A TRAIN</td>\n",
       "      <td>10,000 MANIACS</td>\n",
       "      <td>girl on a train</td>\n",
       "      <td>10,000 maniacs</td>\n",
       "    </tr>\n",
       "    <tr>\n",
       "      <th>184079</th>\n",
       "      <td>209926</td>\n",
       "      <td>44160</td>\n",
       "      <td>370250390</td>\n",
       "      <td>GOLD RUSH BRIDES</td>\n",
       "      <td>10,000 MANIACS</td>\n",
       "      <td>gold rush brides</td>\n",
       "      <td>10,000 maniacs</td>\n",
       "    </tr>\n",
       "    <tr>\n",
       "      <th>184080</th>\n",
       "      <td>209927</td>\n",
       "      <td>44160</td>\n",
       "      <td>370287682</td>\n",
       "      <td>GREEN CHILDREN</td>\n",
       "      <td>10,000 MANIACS</td>\n",
       "      <td>green children</td>\n",
       "      <td>10,000 maniacs</td>\n",
       "    </tr>\n",
       "    <tr>\n",
       "      <th>184081</th>\n",
       "      <td>209928</td>\n",
       "      <td>44160</td>\n",
       "      <td>370234738</td>\n",
       "      <td>GROOVE DUB</td>\n",
       "      <td>10,000 MANIACS</td>\n",
       "      <td>groove dub</td>\n",
       "      <td>10,000 maniacs</td>\n",
       "    </tr>\n",
       "    <tr>\n",
       "      <th>184082</th>\n",
       "      <td>209929</td>\n",
       "      <td>44160</td>\n",
       "      <td>380284942</td>\n",
       "      <td>HEY JACK KEROUAC</td>\n",
       "      <td>10,000 MANIACS</td>\n",
       "      <td>hey jack kerouac</td>\n",
       "      <td>10,000 maniacs</td>\n",
       "    </tr>\n",
       "    <tr>\n",
       "      <th>184083</th>\n",
       "      <td>209930</td>\n",
       "      <td>44160</td>\n",
       "      <td>390521818</td>\n",
       "      <td>I M NOT THE MAN</td>\n",
       "      <td>10,000 MANIACS</td>\n",
       "      <td>i m not the man</td>\n",
       "      <td>10,000 maniacs</td>\n",
       "    </tr>\n",
       "    <tr>\n",
       "      <th>184084</th>\n",
       "      <td>209931</td>\n",
       "      <td>44160</td>\n",
       "      <td>400156774</td>\n",
       "      <td>JEZEBEL</td>\n",
       "      <td>10,000 MANIACS</td>\n",
       "      <td>jezebel</td>\n",
       "      <td>10,000 maniacs</td>\n",
       "    </tr>\n",
       "    <tr>\n",
       "      <th>184085</th>\n",
       "      <td>209932</td>\n",
       "      <td>44160</td>\n",
       "      <td>400143420</td>\n",
       "      <td>JUBILEE</td>\n",
       "      <td>10,000 MANIACS</td>\n",
       "      <td>jubilee</td>\n",
       "      <td>10,000 maniacs</td>\n",
       "    </tr>\n",
       "    <tr>\n",
       "      <th>184086</th>\n",
       "      <td>209934</td>\n",
       "      <td>44160</td>\n",
       "      <td>430372671</td>\n",
       "      <td>MADDOX TABLE</td>\n",
       "      <td>10,000 MANIACS</td>\n",
       "      <td>maddox table</td>\n",
       "      <td>10,000 maniacs</td>\n",
       "    </tr>\n",
       "    <tr>\n",
       "      <th>184087</th>\n",
       "      <td>209935</td>\n",
       "      <td>44160</td>\n",
       "      <td>440199760</td>\n",
       "      <td>NATIONAL EDUCATION WEEK</td>\n",
       "      <td>10,000 MANIACS</td>\n",
       "      <td>national education week</td>\n",
       "      <td>10,000 maniacs</td>\n",
       "    </tr>\n",
       "    <tr>\n",
       "      <th>184088</th>\n",
       "      <td>209936</td>\n",
       "      <td>44160</td>\n",
       "      <td>450210469</td>\n",
       "      <td>ORANGE</td>\n",
       "      <td>10,000 MANIACS</td>\n",
       "      <td>orange</td>\n",
       "      <td>10,000 maniacs</td>\n",
       "    </tr>\n",
       "    <tr>\n",
       "      <th>184089</th>\n",
       "      <td>209938</td>\n",
       "      <td>44160</td>\n",
       "      <td>460270313</td>\n",
       "      <td>POUR DE CHIRICO</td>\n",
       "      <td>10,000 MANIACS</td>\n",
       "      <td>pour de chirico</td>\n",
       "      <td>10,000 maniacs</td>\n",
       "    </tr>\n",
       "    <tr>\n",
       "      <th>184090</th>\n",
       "      <td>209939</td>\n",
       "      <td>44160</td>\n",
       "      <td>490897920</td>\n",
       "      <td>SHINING LIGHT</td>\n",
       "      <td>10,000 MANIACS</td>\n",
       "      <td>shining light</td>\n",
       "      <td>10,000 maniacs</td>\n",
       "    </tr>\n",
       "    <tr>\n",
       "      <th>184091</th>\n",
       "      <td>209940</td>\n",
       "      <td>44160</td>\n",
       "      <td>491698581</td>\n",
       "      <td>SOMEBODY'S HEAVEN</td>\n",
       "      <td>10,000 MANIACS</td>\n",
       "      <td>somebodys heaven</td>\n",
       "      <td>10,000 maniacs</td>\n",
       "    </tr>\n",
       "    <tr>\n",
       "      <th>184092</th>\n",
       "      <td>209941</td>\n",
       "      <td>44160</td>\n",
       "      <td>490732311</td>\n",
       "      <td>STOCKTON GALA DAYS</td>\n",
       "      <td>10,000 MANIACS</td>\n",
       "      <td>stockton gala days</td>\n",
       "      <td>10,000 maniacs</td>\n",
       "    </tr>\n",
       "    <tr>\n",
       "      <th>184093</th>\n",
       "      <td>209942</td>\n",
       "      <td>44160</td>\n",
       "      <td>500420020</td>\n",
       "      <td>TENSION MAKES A TANGLE</td>\n",
       "      <td>10,000 MANIACS</td>\n",
       "      <td>tension makes a tangle</td>\n",
       "      <td>10,000 maniacs</td>\n",
       "    </tr>\n",
       "    <tr>\n",
       "      <th>184094</th>\n",
       "      <td>209944</td>\n",
       "      <td>44160</td>\n",
       "      <td>520101524</td>\n",
       "      <td>VERDI CRIES</td>\n",
       "      <td>10,000 MANIACS</td>\n",
       "      <td>verdi cries</td>\n",
       "      <td>10,000 maniacs</td>\n",
       "    </tr>\n",
       "    <tr>\n",
       "      <th>184095</th>\n",
       "      <td>209945</td>\n",
       "      <td>44160</td>\n",
       "      <td>530321563</td>\n",
       "      <td>WHAT S THE MATTER HERE</td>\n",
       "      <td>10,000 MANIACS</td>\n",
       "      <td>what s the matter here</td>\n",
       "      <td>10,000 maniacs</td>\n",
       "    </tr>\n",
       "  </tbody>\n",
       "</table>\n",
       "</div>"
      ],
      "text/plain": [
       "           CID    PID        AID                     Title  Performer Name  \\\n",
       "184060   45420  44160  500249234                THESE DAYS  10,000 MANIACS   \n",
       "184061  209933  44160  420386783        LET THE MYSTERY BE  10,000 MANIACS   \n",
       "184062   30177  44160  360288799       FEW AND FAR BETWEEN  10,000 MANIACS   \n",
       "184063   94844  44160  461423576              PARTY OF GOD  10,000 MANIACS   \n",
       "184064  209910  44160  310503327     A ROOM FOR EVERYTHING  10,000 MANIACS   \n",
       "184065  209911  44160  310259753       AMONG THE AMERICANS  10,000 MANIACS   \n",
       "184066  209912  44160  312942617   ANTHEM FOR DOOMED YOUTH  10,000 MANIACS   \n",
       "184067  209913  44160  310280292                 ARBOR DAY  10,000 MANIACS   \n",
       "184068  209914  44160  320327339           BACK O THE MOON  10,000 MANIACS   \n",
       "184069  209915  44160  320530109           BEYOND THE BLUE  10,000 MANIACS   \n",
       "184070  209916  44160  320466064                  BIG STAR  10,000 MANIACS   \n",
       "184071  209917  44160  331080147                   CABARET  10,000 MANIACS   \n",
       "184072  209918  44160  330381270               CHERRY TREE  10,000 MANIACS   \n",
       "184073  209919  44160  330402247         COLONIAL WING THE  10,000 MANIACS   \n",
       "184074  209920  44160  330382233              COTTON ALLEY  10,000 MANIACS   \n",
       "184075  209921  44160  340282288                DON T TALK  10,000 MANIACS   \n",
       "184076  209922  44160  350189790                      EDEN  10,000 MANIACS   \n",
       "184077  209923  44160  350224321  EVEN WITH MY EYES CLOSED  10,000 MANIACS   \n",
       "184078  209925  44160  370344020           GIRL ON A TRAIN  10,000 MANIACS   \n",
       "184079  209926  44160  370250390          GOLD RUSH BRIDES  10,000 MANIACS   \n",
       "184080  209927  44160  370287682            GREEN CHILDREN  10,000 MANIACS   \n",
       "184081  209928  44160  370234738                GROOVE DUB  10,000 MANIACS   \n",
       "184082  209929  44160  380284942          HEY JACK KEROUAC  10,000 MANIACS   \n",
       "184083  209930  44160  390521818           I M NOT THE MAN  10,000 MANIACS   \n",
       "184084  209931  44160  400156774                   JEZEBEL  10,000 MANIACS   \n",
       "184085  209932  44160  400143420                   JUBILEE  10,000 MANIACS   \n",
       "184086  209934  44160  430372671              MADDOX TABLE  10,000 MANIACS   \n",
       "184087  209935  44160  440199760   NATIONAL EDUCATION WEEK  10,000 MANIACS   \n",
       "184088  209936  44160  450210469                    ORANGE  10,000 MANIACS   \n",
       "184089  209938  44160  460270313           POUR DE CHIRICO  10,000 MANIACS   \n",
       "184090  209939  44160  490897920             SHINING LIGHT  10,000 MANIACS   \n",
       "184091  209940  44160  491698581         SOMEBODY'S HEAVEN  10,000 MANIACS   \n",
       "184092  209941  44160  490732311        STOCKTON GALA DAYS  10,000 MANIACS   \n",
       "184093  209942  44160  500420020    TENSION MAKES A TANGLE  10,000 MANIACS   \n",
       "184094  209944  44160  520101524               VERDI CRIES  10,000 MANIACS   \n",
       "184095  209945  44160  530321563    WHAT S THE MATTER HERE  10,000 MANIACS   \n",
       "\n",
       "                         Title_n     Performer_n  \n",
       "184060                these days  10,000 maniacs  \n",
       "184061        let the mystery be  10,000 maniacs  \n",
       "184062       few and far between  10,000 maniacs  \n",
       "184063              party of god  10,000 maniacs  \n",
       "184064     a room for everything  10,000 maniacs  \n",
       "184065       among the americans  10,000 maniacs  \n",
       "184066   anthem for doomed youth  10,000 maniacs  \n",
       "184067                 arbor day  10,000 maniacs  \n",
       "184068           back o the moon  10,000 maniacs  \n",
       "184069           beyond the blue  10,000 maniacs  \n",
       "184070                  big star  10,000 maniacs  \n",
       "184071                   cabaret  10,000 maniacs  \n",
       "184072               cherry tree  10,000 maniacs  \n",
       "184073         colonial wing the  10,000 maniacs  \n",
       "184074              cotton alley  10,000 maniacs  \n",
       "184075                don t talk  10,000 maniacs  \n",
       "184076                      eden  10,000 maniacs  \n",
       "184077  even with my eyes closed  10,000 maniacs  \n",
       "184078           girl on a train  10,000 maniacs  \n",
       "184079          gold rush brides  10,000 maniacs  \n",
       "184080            green children  10,000 maniacs  \n",
       "184081                groove dub  10,000 maniacs  \n",
       "184082          hey jack kerouac  10,000 maniacs  \n",
       "184083           i m not the man  10,000 maniacs  \n",
       "184084                   jezebel  10,000 maniacs  \n",
       "184085                   jubilee  10,000 maniacs  \n",
       "184086              maddox table  10,000 maniacs  \n",
       "184087   national education week  10,000 maniacs  \n",
       "184088                    orange  10,000 maniacs  \n",
       "184089           pour de chirico  10,000 maniacs  \n",
       "184090             shining light  10,000 maniacs  \n",
       "184091          somebodys heaven  10,000 maniacs  \n",
       "184092        stockton gala days  10,000 maniacs  \n",
       "184093    tension makes a tangle  10,000 maniacs  \n",
       "184094               verdi cries  10,000 maniacs  \n",
       "184095    what s the matter here  10,000 maniacs  "
      ]
     },
     "execution_count": 129,
     "metadata": {},
     "output_type": "execute_result"
    }
   ],
   "source": [
    "pd.set_option('display.max_rows', 36)\n",
    "full_comps[full_comps['Performer_n'] == '10,000 maniacs']"
   ]
  },
  {
   "cell_type": "code",
   "execution_count": 134,
   "metadata": {},
   "outputs": [
    {
     "data": {
      "text/html": [
       "<div>\n",
       "<style scoped>\n",
       "    .dataframe tbody tr th:only-of-type {\n",
       "        vertical-align: middle;\n",
       "    }\n",
       "\n",
       "    .dataframe tbody tr th {\n",
       "        vertical-align: top;\n",
       "    }\n",
       "\n",
       "    .dataframe thead th {\n",
       "        text-align: right;\n",
       "    }\n",
       "</style>\n",
       "<table border=\"1\" class=\"dataframe\">\n",
       "  <thead>\n",
       "    <tr style=\"text-align: right;\">\n",
       "      <th></th>\n",
       "      <th>artist_id</th>\n",
       "      <th>artist_name</th>\n",
       "      <th>song_title</th>\n",
       "      <th>artist_name_n</th>\n",
       "      <th>song_title_n</th>\n",
       "      <th>CID</th>\n",
       "      <th>PID</th>\n",
       "      <th>AID</th>\n",
       "      <th>Title</th>\n",
       "      <th>Performer Name</th>\n",
       "      <th>Title_n</th>\n",
       "      <th>Performer_n</th>\n",
       "    </tr>\n",
       "  </thead>\n",
       "  <tbody>\n",
       "    <tr>\n",
       "      <th>20</th>\n",
       "      <td>0MBIKH9DjtBkv8O3nS6szj</td>\n",
       "      <td>10,000 Maniacs</td>\n",
       "      <td>More Than This</td>\n",
       "      <td>10,000 maniacs</td>\n",
       "      <td>more than this</td>\n",
       "      <td>NaN</td>\n",
       "      <td>NaN</td>\n",
       "      <td>NaN</td>\n",
       "      <td>NaN</td>\n",
       "      <td>NaN</td>\n",
       "      <td>NaN</td>\n",
       "      <td>NaN</td>\n",
       "    </tr>\n",
       "    <tr>\n",
       "      <th>21</th>\n",
       "      <td>0MBIKH9DjtBkv8O3nS6szj</td>\n",
       "      <td>10,000 Maniacs</td>\n",
       "      <td>Candy Everybody Wants</td>\n",
       "      <td>10,000 maniacs</td>\n",
       "      <td>candy everybody wants</td>\n",
       "      <td>NaN</td>\n",
       "      <td>NaN</td>\n",
       "      <td>NaN</td>\n",
       "      <td>NaN</td>\n",
       "      <td>NaN</td>\n",
       "      <td>NaN</td>\n",
       "      <td>NaN</td>\n",
       "    </tr>\n",
       "    <tr>\n",
       "      <th>22</th>\n",
       "      <td>0MBIKH9DjtBkv8O3nS6szj</td>\n",
       "      <td>10,000 Maniacs</td>\n",
       "      <td>These Are Days [MTV Unplugged Version]</td>\n",
       "      <td>10,000 maniacs</td>\n",
       "      <td>these are days</td>\n",
       "      <td>NaN</td>\n",
       "      <td>NaN</td>\n",
       "      <td>NaN</td>\n",
       "      <td>NaN</td>\n",
       "      <td>NaN</td>\n",
       "      <td>NaN</td>\n",
       "      <td>NaN</td>\n",
       "    </tr>\n",
       "    <tr>\n",
       "      <th>23</th>\n",
       "      <td>0MBIKH9DjtBkv8O3nS6szj</td>\n",
       "      <td>10,000 Maniacs</td>\n",
       "      <td>To Sir With Love</td>\n",
       "      <td>10,000 maniacs</td>\n",
       "      <td>to sir with love</td>\n",
       "      <td>NaN</td>\n",
       "      <td>NaN</td>\n",
       "      <td>NaN</td>\n",
       "      <td>NaN</td>\n",
       "      <td>NaN</td>\n",
       "      <td>NaN</td>\n",
       "      <td>NaN</td>\n",
       "    </tr>\n",
       "    <tr>\n",
       "      <th>24</th>\n",
       "      <td>0MBIKH9DjtBkv8O3nS6szj</td>\n",
       "      <td>10,000 Maniacs</td>\n",
       "      <td>These Are Days</td>\n",
       "      <td>10,000 maniacs</td>\n",
       "      <td>these are days</td>\n",
       "      <td>NaN</td>\n",
       "      <td>NaN</td>\n",
       "      <td>NaN</td>\n",
       "      <td>NaN</td>\n",
       "      <td>NaN</td>\n",
       "      <td>NaN</td>\n",
       "      <td>NaN</td>\n",
       "    </tr>\n",
       "    <tr>\n",
       "      <th>25</th>\n",
       "      <td>0MBIKH9DjtBkv8O3nS6szj</td>\n",
       "      <td>10,000 Maniacs</td>\n",
       "      <td>Trouble Me</td>\n",
       "      <td>10,000 maniacs</td>\n",
       "      <td>trouble me</td>\n",
       "      <td>NaN</td>\n",
       "      <td>NaN</td>\n",
       "      <td>NaN</td>\n",
       "      <td>NaN</td>\n",
       "      <td>NaN</td>\n",
       "      <td>NaN</td>\n",
       "      <td>NaN</td>\n",
       "    </tr>\n",
       "    <tr>\n",
       "      <th>26</th>\n",
       "      <td>0MBIKH9DjtBkv8O3nS6szj</td>\n",
       "      <td>10,000 Maniacs</td>\n",
       "      <td>Because The Night [MTV Unplugged Version]</td>\n",
       "      <td>10,000 maniacs</td>\n",
       "      <td>because the night</td>\n",
       "      <td>NaN</td>\n",
       "      <td>NaN</td>\n",
       "      <td>NaN</td>\n",
       "      <td>NaN</td>\n",
       "      <td>NaN</td>\n",
       "      <td>NaN</td>\n",
       "      <td>NaN</td>\n",
       "    </tr>\n",
       "    <tr>\n",
       "      <th>27</th>\n",
       "      <td>0MBIKH9DjtBkv8O3nS6szj</td>\n",
       "      <td>10,000 Maniacs</td>\n",
       "      <td>Like The Weather</td>\n",
       "      <td>10,000 maniacs</td>\n",
       "      <td>like the weather</td>\n",
       "      <td>NaN</td>\n",
       "      <td>NaN</td>\n",
       "      <td>NaN</td>\n",
       "      <td>NaN</td>\n",
       "      <td>NaN</td>\n",
       "      <td>NaN</td>\n",
       "      <td>NaN</td>\n",
       "    </tr>\n",
       "    <tr>\n",
       "      <th>28</th>\n",
       "      <td>0MBIKH9DjtBkv8O3nS6szj</td>\n",
       "      <td>10,000 Maniacs</td>\n",
       "      <td>Hey Jack Kerouac</td>\n",
       "      <td>10,000 maniacs</td>\n",
       "      <td>hey jack kerouac</td>\n",
       "      <td>209929.0</td>\n",
       "      <td>44160.0</td>\n",
       "      <td>380284942.0</td>\n",
       "      <td>HEY JACK KEROUAC</td>\n",
       "      <td>10,000 MANIACS</td>\n",
       "      <td>hey jack kerouac</td>\n",
       "      <td>10,000 maniacs</td>\n",
       "    </tr>\n",
       "    <tr>\n",
       "      <th>29</th>\n",
       "      <td>0MBIKH9DjtBkv8O3nS6szj</td>\n",
       "      <td>10,000 Maniacs</td>\n",
       "      <td>What's The Matter Here?</td>\n",
       "      <td>10,000 maniacs</td>\n",
       "      <td>whats the matter here?</td>\n",
       "      <td>NaN</td>\n",
       "      <td>NaN</td>\n",
       "      <td>NaN</td>\n",
       "      <td>NaN</td>\n",
       "      <td>NaN</td>\n",
       "      <td>NaN</td>\n",
       "      <td>NaN</td>\n",
       "    </tr>\n",
       "  </tbody>\n",
       "</table>\n",
       "</div>"
      ],
      "text/plain": [
       "                 artist_id     artist_name  \\\n",
       "20  0MBIKH9DjtBkv8O3nS6szj  10,000 Maniacs   \n",
       "21  0MBIKH9DjtBkv8O3nS6szj  10,000 Maniacs   \n",
       "22  0MBIKH9DjtBkv8O3nS6szj  10,000 Maniacs   \n",
       "23  0MBIKH9DjtBkv8O3nS6szj  10,000 Maniacs   \n",
       "24  0MBIKH9DjtBkv8O3nS6szj  10,000 Maniacs   \n",
       "25  0MBIKH9DjtBkv8O3nS6szj  10,000 Maniacs   \n",
       "26  0MBIKH9DjtBkv8O3nS6szj  10,000 Maniacs   \n",
       "27  0MBIKH9DjtBkv8O3nS6szj  10,000 Maniacs   \n",
       "28  0MBIKH9DjtBkv8O3nS6szj  10,000 Maniacs   \n",
       "29  0MBIKH9DjtBkv8O3nS6szj  10,000 Maniacs   \n",
       "\n",
       "                                   song_title   artist_name_n  \\\n",
       "20                             More Than This  10,000 maniacs   \n",
       "21                      Candy Everybody Wants  10,000 maniacs   \n",
       "22     These Are Days [MTV Unplugged Version]  10,000 maniacs   \n",
       "23                           To Sir With Love  10,000 maniacs   \n",
       "24                             These Are Days  10,000 maniacs   \n",
       "25                                 Trouble Me  10,000 maniacs   \n",
       "26  Because The Night [MTV Unplugged Version]  10,000 maniacs   \n",
       "27                           Like The Weather  10,000 maniacs   \n",
       "28                           Hey Jack Kerouac  10,000 maniacs   \n",
       "29                    What's The Matter Here?  10,000 maniacs   \n",
       "\n",
       "              song_title_n       CID      PID          AID             Title  \\\n",
       "20          more than this       NaN      NaN          NaN               NaN   \n",
       "21   candy everybody wants       NaN      NaN          NaN               NaN   \n",
       "22          these are days       NaN      NaN          NaN               NaN   \n",
       "23        to sir with love       NaN      NaN          NaN               NaN   \n",
       "24          these are days       NaN      NaN          NaN               NaN   \n",
       "25              trouble me       NaN      NaN          NaN               NaN   \n",
       "26       because the night       NaN      NaN          NaN               NaN   \n",
       "27        like the weather       NaN      NaN          NaN               NaN   \n",
       "28        hey jack kerouac  209929.0  44160.0  380284942.0  HEY JACK KEROUAC   \n",
       "29  whats the matter here?       NaN      NaN          NaN               NaN   \n",
       "\n",
       "    Performer Name           Title_n     Performer_n  \n",
       "20             NaN               NaN             NaN  \n",
       "21             NaN               NaN             NaN  \n",
       "22             NaN               NaN             NaN  \n",
       "23             NaN               NaN             NaN  \n",
       "24             NaN               NaN             NaN  \n",
       "25             NaN               NaN             NaN  \n",
       "26             NaN               NaN             NaN  \n",
       "27             NaN               NaN             NaN  \n",
       "28  10,000 MANIACS  hey jack kerouac  10,000 maniacs  \n",
       "29             NaN               NaN             NaN  "
      ]
     },
     "execution_count": 134,
     "metadata": {},
     "output_type": "execute_result"
    }
   ],
   "source": [
    "lol_test_2[lol_test_2['artist_name_n'] == '10,000 maniacs']"
   ]
  },
  {
   "cell_type": "markdown",
   "metadata": {},
   "source": [
    "After doing some investigation online, it looks like \"10,000\" maniacs also is registered like \"10 000 MANIACS\" on ASCAP, and ASCAP did not show my scraper that result based on the search term that I used"
   ]
  },
  {
   "cell_type": "markdown",
   "metadata": {},
   "source": [
    "### New Idea\n",
    "\n",
    "I could possibly merge the old ASCAP works list (~2gb), and see if I can get simple artist+song matches agains the spotify list. If that's more successful,..actually, there's no ARTIST NAME on that catalog, which would make that task useless. Nonetheless, I'm going to download a new version of their catalog to see if they might've updated it."
   ]
  }
 ],
 "metadata": {
  "kernelspec": {
   "display_name": "Python 3",
   "language": "python",
   "name": "python3"
  },
  "language_info": {
   "codemirror_mode": {
    "name": "ipython",
    "version": 3
   },
   "file_extension": ".py",
   "mimetype": "text/x-python",
   "name": "python",
   "nbconvert_exporter": "python",
   "pygments_lexer": "ipython3",
   "version": "3.6.5"
  }
 },
 "nbformat": 4,
 "nbformat_minor": 2
}
