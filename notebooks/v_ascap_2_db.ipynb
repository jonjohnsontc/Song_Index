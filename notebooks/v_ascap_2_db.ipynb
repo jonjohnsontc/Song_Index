{
 "cells": [
  {
   "cell_type": "markdown",
   "metadata": {},
   "source": [
    "# Collecting ASCAP Info + Storing in DB\n",
    "\n",
    "**Description**: Pulling necessary song info from the ASCAP HTML files & storing in PostreSQL db"
   ]
  },
  {
   "cell_type": "code",
   "execution_count": 1,
   "metadata": {},
   "outputs": [],
   "source": [
    "import json\n",
    "import os\n",
    "import pickle\n",
    "import re\n",
    "\n",
    "from bs4 import BeautifulSoup, element\n",
    "from sqlalchemy import create_engine\n",
    "\n",
    "import numpy as np\n",
    "import pandas as pd"
   ]
  },
  {
   "cell_type": "markdown",
   "metadata": {},
   "source": [
    "## Loading in HTML File\n",
    "\n",
    "I'll need to figure out how to retrieve all of the corresponding song details from each HTML file that I scraped from ASCAP>"
   ]
  },
  {
   "cell_type": "code",
   "execution_count": 37,
   "metadata": {},
   "outputs": [],
   "source": [
    "with open('../data/ascap_songs/CHIEF KEEF.html', 'rb+') as f:\n",
    "    test_html = BeautifulSoup(f, 'lxml')"
   ]
  },
  {
   "cell_type": "markdown",
   "metadata": {},
   "source": [
    "### Retrieving Song Cards\n",
    "\n",
    "My current thought is that I should divvy these results into a list of `dict`s, which should allow me to easily toss into a dataframe or db afterwards."
   ]
  },
  {
   "cell_type": "code",
   "execution_count": 38,
   "metadata": {},
   "outputs": [],
   "source": [
    "test_cards = test_html.find_all('div', {'class':'card hyphenate card--expanded'})"
   ]
  },
  {
   "cell_type": "markdown",
   "metadata": {},
   "source": [
    "64 songs indexed for Chief Keef"
   ]
  },
  {
   "cell_type": "code",
   "execution_count": 39,
   "metadata": {},
   "outputs": [
    {
     "data": {
      "text/plain": [
       "64"
      ]
     },
     "execution_count": 39,
     "metadata": {},
     "output_type": "execute_result"
    }
   ],
   "source": [
    "len(test_cards)"
   ]
  },
  {
   "cell_type": "code",
   "execution_count": 45,
   "metadata": {},
   "outputs": [],
   "source": [
    "tc2 = test_cards[2]"
   ]
  },
  {
   "cell_type": "code",
   "execution_count": 57,
   "metadata": {},
   "outputs": [
    {
     "data": {
      "text/plain": [
       "'887415977'"
      ]
     },
     "execution_count": 57,
     "metadata": {},
     "output_type": "execute_result"
    }
   ],
   "source": [
    "tc2.find('div', {'class':'workID'}).text.strip().split()[-1]"
   ]
  },
  {
   "cell_type": "markdown",
   "metadata": {},
   "source": [
    "##### The title and \"Total Current ASCAP Share\""
   ]
  },
  {
   "cell_type": "code",
   "execution_count": 13,
   "metadata": {},
   "outputs": [
    {
     "data": {
      "text/plain": [
       "['ADAM & EVE',\n",
       " '                ',\n",
       " '                    ',\n",
       " '                    Total Current ASCAP Share:',\n",
       " '                    25%']"
      ]
     },
     "execution_count": 13,
     "metadata": {},
     "output_type": "execute_result"
    }
   ],
   "source": [
    "test_cards[0].find('div', {'class':'card__header__title'}).text.strip().split(sep='\\n')"
   ]
  },
  {
   "cell_type": "markdown",
   "metadata": {},
   "source": [
    "##### Just the song title"
   ]
  },
  {
   "cell_type": "code",
   "execution_count": 14,
   "metadata": {},
   "outputs": [
    {
     "data": {
      "text/plain": [
       "'ADAM & EVE'"
      ]
     },
     "execution_count": 14,
     "metadata": {},
     "output_type": "execute_result"
    }
   ],
   "source": [
    "test_cards[0].find('div', {'class':'card__header__title'}).text.strip().split(sep='\\n')[0]"
   ]
  },
  {
   "cell_type": "markdown",
   "metadata": {},
   "source": [
    "##### Writers"
   ]
  },
  {
   "cell_type": "code",
   "execution_count": 15,
   "metadata": {},
   "outputs": [],
   "source": [
    "writers_row = test_cards[0].find_all('tr', {'class':'writers__row'})"
   ]
  },
  {
   "cell_type": "code",
   "execution_count": 16,
   "metadata": {},
   "outputs": [],
   "source": [
    "writer_list = []\n",
    "\n",
    "for writer in writers_row:\n",
    "    if isinstance(writer.find('a'), element.Tag):\n",
    "        writer_list.append((writer.find('a'), writer.find_all('td', {'class':'sup-col'})))\n",
    "    elif isinstance(writer.find('span'), element.Tag):\n",
    "        writer_list.append((writer.find('span'), writer.find_all('td', {'class':'sup-col'})))\n",
    "    else:\n",
    "        writer_list.append('cannot find writer')\n",
    "        \n",
    "writer_info = []\n",
    "\n",
    "for writer, writer_ids in writer_list:\n",
    "    b = writer.attrs\n",
    "    b['pro'] = writer_ids[0].text.strip()\n",
    "    b['ipi'] = writer_ids[1].text.strip()\n",
    "    writer_info.append(b)"
   ]
  },
  {
   "cell_type": "code",
   "execution_count": 17,
   "metadata": {},
   "outputs": [
    {
     "data": {
      "text/plain": [
       "{'data-writer': 'MCKINNEY REGINALD CHRISTOPHER',\n",
       " 'data-id': '652264355',\n",
       " 'pro': 'ASCAP',\n",
       " 'ipi': '652264355'}"
      ]
     },
     "execution_count": 17,
     "metadata": {},
     "output_type": "execute_result"
    }
   ],
   "source": [
    "writer_list[0][0].attrs.pop('href')\n",
    "writer_list[0][0].attrs.pop('class')\n",
    "writer_list[0][0].attrs"
   ]
  },
  {
   "cell_type": "code",
   "execution_count": 18,
   "metadata": {},
   "outputs": [
    {
     "data": {
      "text/plain": [
       "[{'data-writer': 'MCKINNEY REGINALD CHRISTOPHER',\n",
       "  'data-id': '652264355',\n",
       "  'pro': 'ASCAP',\n",
       "  'ipi': '652264355'},\n",
       " {'class': ['no-click'],\n",
       "  'data-writer': 'WRITER UNKNOWN  ',\n",
       "  'data-id': '0',\n",
       "  'pro': 'NS',\n",
       "  'ipi': '—'}]"
      ]
     },
     "execution_count": 18,
     "metadata": {},
     "output_type": "execute_result"
    }
   ],
   "source": [
    "writer_info"
   ]
  },
  {
   "cell_type": "markdown",
   "metadata": {},
   "source": [
    "Performers"
   ]
  },
  {
   "cell_type": "code",
   "execution_count": 19,
   "metadata": {},
   "outputs": [],
   "source": [
    "performers = test_cards[0].find_all('div', {'class':'creditors__list'})"
   ]
  },
  {
   "cell_type": "code",
   "execution_count": 20,
   "metadata": {},
   "outputs": [
    {
     "data": {
      "text/plain": [
       "'CHIEF KEEF'"
      ]
     },
     "execution_count": 20,
     "metadata": {},
     "output_type": "execute_result"
    }
   ],
   "source": [
    "performers[0].text.strip('\\n')"
   ]
  },
  {
   "cell_type": "markdown",
   "metadata": {},
   "source": [
    "Retreive one or multiple performers per song"
   ]
  },
  {
   "cell_type": "code",
   "execution_count": 21,
   "metadata": {},
   "outputs": [],
   "source": [
    "if performers[0].text.count('\\n') > 2:\n",
    "    performers[0].text.strip().split(sep='\\n')\n",
    "else:\n",
    "    performers[0].text.strip('\\n')"
   ]
  },
  {
   "cell_type": "markdown",
   "metadata": {},
   "source": [
    "HTML Title"
   ]
  },
  {
   "cell_type": "markdown",
   "metadata": {},
   "source": [
    "### Defining Functions to Sort Through HTML Files\n",
    "\n",
    "Here's how I'll take the song information that I need and output it into a list of `dict`s"
   ]
  },
  {
   "cell_type": "code",
   "execution_count": 60,
   "metadata": {},
   "outputs": [],
   "source": [
    "def bs_file(file):\n",
    "    '''\n",
    "    Opens file and returns beautiful soup object\n",
    "    '''\n",
    "    with open('../data/ascap_songs/{}'.format(file), 'rb') as f:\n",
    "        bs = BeautifulSoup(f, 'lxml')\n",
    "    return bs\n",
    "\n",
    "def song_sorter(bs):\n",
    "    '''\n",
    "    Iterates through songs in bs object and returns cards of all songs\n",
    "    '''\n",
    "    results = []\n",
    "    if len(bs.find_all('div', {'class':'card hyphenate card--expanded'})) > 0:\n",
    "        results.extend(bs.find_all('div', {'class':'card hyphenate card--expanded'}))\n",
    "    if len(bs.find_all('div', {'class':'card card--expanded hyphenate'})) > 0:\n",
    "        results.extend(bs.find_all('div', {'class':'card card--expanded hyphenate'}))\n",
    "    return results\n",
    "                                   \n",
    "def get_song_credits(card):\n",
    "    '''\n",
    "    Retrieves song credits from an individual song card\n",
    "    '''   \n",
    "    title = card.find('div', {'class':'card__header__title'}).text.strip().split(sep='\\n')[0]\n",
    "    aid = card.find('div', {'class':'workID'}).text.strip().split()[-1]\n",
    "    writers_row = card.find_all('tr', {'class':'writers__row'})\n",
    "    writer_list = []\n",
    "    \n",
    "    # Creating writer list for further filtering\n",
    "    for writer in writers_row:\n",
    "        if isinstance(writer.find('a'), element.Tag):\n",
    "            writer_list.append((writer.find('a'), writer.find_all('td', {'class':'sup-col'})))\n",
    "        elif isinstance(writer.find('span'), element.Tag):\n",
    "            writer_list.append((writer.find('span'), writer.find_all('td', {'class':'sup-col'})))\n",
    "        else:\n",
    "            writer_list.append('cannot find writer')\n",
    "    writers = []\n",
    "    for writer, writer_ids in writer_list:\n",
    "        b = writer.attrs\n",
    "        b['pro'] = writer_ids[0].text.strip()\n",
    "        b['ipi'] = writer_ids[1].text.strip()\n",
    "        writers.append(b)\n",
    "    \n",
    "    # Grabbing performers\n",
    "    performers = card.find_all('div', {'class':'creditors__list'})\n",
    "    if performers[0].text.count('\\n') > 2:\n",
    "        artists = performers[0].text.strip().split(sep='\\n')\n",
    "    else:\n",
    "        artists = performers[0].text.strip('\\n')\n",
    "        \n",
    "    # Grabbing alternate titles\n",
    "    try:\n",
    "        if performers[1].text.count('\\n'):\n",
    "            alt_titles = performers[1].text.strip().split(sep='\\n')\n",
    "        else:\n",
    "            alt_titles = performers[1].text.strip('\\n')\n",
    "    except IndexError:\n",
    "        alt_titles = None\n",
    "        \n",
    "    return title, aid, writers, artists, alt_titles"
   ]
  },
  {
   "cell_type": "code",
   "execution_count": 69,
   "metadata": {},
   "outputs": [],
   "source": [
    "ck = song_sorter(test_html)\n",
    "t, aid, w, a, at = get_song_credits(ck[2])"
   ]
  },
  {
   "cell_type": "code",
   "execution_count": 70,
   "metadata": {},
   "outputs": [
    {
     "data": {
      "text/plain": [
       "'887415977'"
      ]
     },
     "execution_count": 70,
     "metadata": {},
     "output_type": "execute_result"
    }
   ],
   "source": [
    "aid"
   ]
  },
  {
   "cell_type": "code",
   "execution_count": 46,
   "metadata": {},
   "outputs": [
    {
     "data": {
      "text/plain": [
       "64"
      ]
     },
     "execution_count": 46,
     "metadata": {},
     "output_type": "execute_result"
    }
   ],
   "source": [
    "len(ck)"
   ]
  },
  {
   "cell_type": "code",
   "execution_count": 71,
   "metadata": {},
   "outputs": [],
   "source": [
    "def get_html_songs(html_list):\n",
    "    '''\n",
    "    Retreives songs in html files and stores in a list of dicts\n",
    "    '''\n",
    "    song_list = []\n",
    "    count = 0\n",
    "    for file in html_list:\n",
    "        bs = bs_file(file)\n",
    "        songs = song_sorter(bs)\n",
    "        for song in songs:\n",
    "            count += 1\n",
    "            t, aid, w, p, at = get_song_credits(song)\n",
    "            song_dict = {}\n",
    "            song_dict['Title'] = t\n",
    "            song_dict['AID'] = aid\n",
    "            song_dict['Writers'] = w\n",
    "            song_dict['Performers'] = p\n",
    "            song_dict['Alt-Titles'] = at\n",
    "            song_list.append(song_dict)\n",
    "            if len(song_list) % 5000 == 0:\n",
    "                print('{} songs completed'.format(count))\n",
    "    return song_list"
   ]
  },
  {
   "cell_type": "markdown",
   "metadata": {},
   "source": [
    "## Retrieving HTML File List"
   ]
  },
  {
   "cell_type": "code",
   "execution_count": 5,
   "metadata": {},
   "outputs": [],
   "source": [
    "html_list = os.listdir('../data/ascap_songs/')"
   ]
  },
  {
   "cell_type": "code",
   "execution_count": 6,
   "metadata": {},
   "outputs": [
    {
     "data": {
      "text/plain": [
       "13019"
      ]
     },
     "execution_count": 6,
     "metadata": {},
     "output_type": "execute_result"
    }
   ],
   "source": [
    "len(html_list)"
   ]
  },
  {
   "cell_type": "code",
   "execution_count": 7,
   "metadata": {},
   "outputs": [
    {
     "data": {
      "text/plain": [
       "9917"
      ]
     },
     "execution_count": 7,
     "metadata": {},
     "output_type": "execute_result"
    }
   ],
   "source": [
    "html_list.index('.ipynb_checkpoints')"
   ]
  },
  {
   "cell_type": "code",
   "execution_count": 8,
   "metadata": {},
   "outputs": [
    {
     "data": {
      "text/plain": [
       "'.ipynb_checkpoints'"
      ]
     },
     "execution_count": 8,
     "metadata": {},
     "output_type": "execute_result"
    }
   ],
   "source": [
    "html_list.pop(9917)"
   ]
  },
  {
   "cell_type": "markdown",
   "metadata": {},
   "source": [
    "#### Ensuring there are no more non-html files in list"
   ]
  },
  {
   "cell_type": "code",
   "execution_count": 14,
   "metadata": {},
   "outputs": [
    {
     "data": {
      "text/plain": [
       "[0, 1, 2, 2, 2, 2, 2, 2, 2, 2]"
      ]
     },
     "execution_count": 14,
     "metadata": {},
     "output_type": "execute_result"
    }
   ],
   "source": [
    "files = [html.find('.html') for html in html_list]\n",
    "files.sort()\n",
    "files[:10]"
   ]
  },
  {
   "cell_type": "markdown",
   "metadata": {},
   "source": [
    "### Quick Function Test"
   ]
  },
  {
   "cell_type": "code",
   "execution_count": 13,
   "metadata": {},
   "outputs": [],
   "source": [
    "test = get_html_songs(html_list[0:5])"
   ]
  },
  {
   "cell_type": "code",
   "execution_count": 63,
   "metadata": {},
   "outputs": [
    {
     "data": {
      "text/plain": [
       "['BONE THUGS N HARMONY FEAT. EAZY-E.html',\n",
       " 'VESTAL AND LEE GREENWOOD.html',\n",
       " ' PETE SEEGER.html',\n",
       " 'DARIUS RUCKER FEAT JILL SCOTT.html',\n",
       " 'GARTH BROOKS.html']"
      ]
     },
     "execution_count": 63,
     "metadata": {},
     "output_type": "execute_result"
    }
   ],
   "source": [
    "html_list[0:5]"
   ]
  },
  {
   "cell_type": "code",
   "execution_count": 14,
   "metadata": {},
   "outputs": [
    {
     "data": {
      "text/plain": [
       "7"
      ]
     },
     "execution_count": 14,
     "metadata": {},
     "output_type": "execute_result"
    }
   ],
   "source": [
    "len(test)"
   ]
  },
  {
   "cell_type": "markdown",
   "metadata": {},
   "source": [
    "## Retrieving Song Results"
   ]
  },
  {
   "cell_type": "code",
   "execution_count": 72,
   "metadata": {},
   "outputs": [
    {
     "name": "stdout",
     "output_type": "stream",
     "text": [
      "5000 songs completed\n",
      "10000 songs completed\n",
      "15000 songs completed\n",
      "20000 songs completed\n",
      "25000 songs completed\n",
      "30000 songs completed\n",
      "35000 songs completed\n",
      "40000 songs completed\n",
      "45000 songs completed\n",
      "50000 songs completed\n",
      "55000 songs completed\n",
      "60000 songs completed\n",
      "65000 songs completed\n",
      "70000 songs completed\n",
      "75000 songs completed\n",
      "80000 songs completed\n",
      "85000 songs completed\n",
      "90000 songs completed\n",
      "95000 songs completed\n",
      "100000 songs completed\n",
      "105000 songs completed\n",
      "110000 songs completed\n",
      "115000 songs completed\n",
      "120000 songs completed\n",
      "125000 songs completed\n",
      "130000 songs completed\n",
      "135000 songs completed\n",
      "140000 songs completed\n",
      "145000 songs completed\n",
      "150000 songs completed\n",
      "155000 songs completed\n",
      "160000 songs completed\n",
      "165000 songs completed\n",
      "170000 songs completed\n",
      "175000 songs completed\n",
      "180000 songs completed\n",
      "185000 songs completed\n",
      "190000 songs completed\n",
      "195000 songs completed\n",
      "200000 songs completed\n",
      "205000 songs completed\n",
      "210000 songs completed\n",
      "215000 songs completed\n",
      "220000 songs completed\n",
      "225000 songs completed\n",
      "230000 songs completed\n",
      "235000 songs completed\n",
      "240000 songs completed\n",
      "245000 songs completed\n",
      "250000 songs completed\n",
      "255000 songs completed\n",
      "260000 songs completed\n",
      "265000 songs completed\n",
      "270000 songs completed\n",
      "275000 songs completed\n",
      "280000 songs completed\n",
      "285000 songs completed\n",
      "290000 songs completed\n",
      "295000 songs completed\n",
      "300000 songs completed\n",
      "305000 songs completed\n"
     ]
    }
   ],
   "source": [
    "song_list = get_html_songs(html_list)"
   ]
  },
  {
   "cell_type": "markdown",
   "metadata": {},
   "source": [
    "#### Saving `song_list` as pickle"
   ]
  },
  {
   "cell_type": "code",
   "execution_count": 73,
   "metadata": {},
   "outputs": [],
   "source": [
    "with open('../pickle/ascap_credits.pkl', 'wb') as f:\n",
    "    pickle.dump(song_list, f)"
   ]
  },
  {
   "cell_type": "code",
   "execution_count": 2,
   "metadata": {},
   "outputs": [],
   "source": [
    "with open('../pickle/ascap_credits.pkl', 'rb') as f:\n",
    "    song_list = pickle.load(f)"
   ]
  },
  {
   "cell_type": "markdown",
   "metadata": {},
   "source": [
    "### Examining `song_list`"
   ]
  },
  {
   "cell_type": "code",
   "execution_count": 3,
   "metadata": {},
   "outputs": [
    {
     "data": {
      "text/plain": [
       "{'Title': \"BOSSIN' UP\",\n",
       " 'AID': '886044026',\n",
       " 'Writers': [{'class': ['no-click'],\n",
       "   'data-writer': 'COLLINS BRIAN ',\n",
       "   'data-id': '0',\n",
       "   'pro': 'NS',\n",
       "   'ipi': '—'},\n",
       "  {'class': ['no-click'],\n",
       "   'data-writer': 'FERGUSON DAROLD ',\n",
       "   'data-id': '0',\n",
       "   'pro': 'NS',\n",
       "   'ipi': '—'},\n",
       "  {'class': ['no-click'],\n",
       "   'data-writer': 'KHARBOUCH KARIM ',\n",
       "   'data-id': '0',\n",
       "   'pro': 'NS',\n",
       "   'ipi': '—'},\n",
       "  {'href': 'javascript:void(0)',\n",
       "   'class': ['name'],\n",
       "   'data-writer': 'TAFT STEPAN ',\n",
       "   'data-id': '539311163',\n",
       "   'pro': 'ASCAP',\n",
       "   'ipi': '539311163'},\n",
       "  {'class': ['no-click'],\n",
       "   'data-writer': 'THOMAS JAMES ',\n",
       "   'data-id': '0',\n",
       "   'pro': 'NS',\n",
       "   'ipi': '—'}],\n",
       " 'Performers': 'KID INK',\n",
       " 'Alt-Titles': None}"
      ]
     },
     "execution_count": 3,
     "metadata": {},
     "output_type": "execute_result"
    }
   ],
   "source": [
    "song_list[129020]"
   ]
  },
  {
   "cell_type": "code",
   "execution_count": 4,
   "metadata": {},
   "outputs": [
    {
     "data": {
      "text/plain": [
       "309581"
      ]
     },
     "execution_count": 4,
     "metadata": {},
     "output_type": "execute_result"
    }
   ],
   "source": [
    "len(song_list)"
   ]
  },
  {
   "cell_type": "markdown",
   "metadata": {},
   "source": [
    "#### Loading List into DataFrame"
   ]
  },
  {
   "cell_type": "code",
   "execution_count": 5,
   "metadata": {},
   "outputs": [],
   "source": [
    "df = pd.DataFrame(data=song_list)"
   ]
  },
  {
   "cell_type": "code",
   "execution_count": 6,
   "metadata": {},
   "outputs": [
    {
     "name": "stdout",
     "output_type": "stream",
     "text": [
      "<class 'pandas.core.frame.DataFrame'>\n",
      "RangeIndex: 309581 entries, 0 to 309580\n",
      "Data columns (total 5 columns):\n",
      "AID           309581 non-null object\n",
      "Alt-Titles    94080 non-null object\n",
      "Performers    309581 non-null object\n",
      "Title         309581 non-null object\n",
      "Writers       309581 non-null object\n",
      "dtypes: object(5)\n",
      "memory usage: 11.8+ MB\n"
     ]
    }
   ],
   "source": [
    "df.info()"
   ]
  },
  {
   "cell_type": "code",
   "execution_count": 7,
   "metadata": {},
   "outputs": [
    {
     "data": {
      "text/html": [
       "<div>\n",
       "<style scoped>\n",
       "    .dataframe tbody tr th:only-of-type {\n",
       "        vertical-align: middle;\n",
       "    }\n",
       "\n",
       "    .dataframe tbody tr th {\n",
       "        vertical-align: top;\n",
       "    }\n",
       "\n",
       "    .dataframe thead th {\n",
       "        text-align: right;\n",
       "    }\n",
       "</style>\n",
       "<table border=\"1\" class=\"dataframe\">\n",
       "  <thead>\n",
       "    <tr style=\"text-align: right;\">\n",
       "      <th></th>\n",
       "      <th>AID</th>\n",
       "      <th>Alt-Titles</th>\n",
       "      <th>Performers</th>\n",
       "      <th>Title</th>\n",
       "      <th>Writers</th>\n",
       "    </tr>\n",
       "  </thead>\n",
       "  <tbody>\n",
       "    <tr>\n",
       "      <th>0</th>\n",
       "      <td>360318916</td>\n",
       "      <td>[FOE THA LOVE OF $, FOE THA LOVE OF $, FOE THA...</td>\n",
       "      <td>[BONE, BONE THUGS N HARMONY, BONE THUGS N HARM...</td>\n",
       "      <td>FOR THA LOVE OF MONEY</td>\n",
       "      <td>[{'class': ['no-click'], 'data-writer': 'CARRA...</td>\n",
       "    </tr>\n",
       "    <tr>\n",
       "      <th>1</th>\n",
       "      <td>530659306</td>\n",
       "      <td>None</td>\n",
       "      <td>[GOODMAN V, GREENWOOD AND VESTAL, GREENWOOD L,...</td>\n",
       "      <td>WE THE PEOPLE</td>\n",
       "      <td>[{'href': 'javascript:void(0)', 'class': ['nam...</td>\n",
       "    </tr>\n",
       "    <tr>\n",
       "      <th>2</th>\n",
       "      <td>334030418</td>\n",
       "      <td>[CELERY TIME]</td>\n",
       "      <td>ARLO GUTHRIE / PETE SEEGER</td>\n",
       "      <td>CELERY-TIME</td>\n",
       "      <td>[{'href': 'javascript:void(0)', 'class': ['nam...</td>\n",
       "    </tr>\n",
       "    <tr>\n",
       "      <th>3</th>\n",
       "      <td>442081954</td>\n",
       "      <td>None</td>\n",
       "      <td>ARLO GUTHRIE / PETE SEEGER</td>\n",
       "      <td>NEUTRON BOMB</td>\n",
       "      <td>[{'href': 'javascript:void(0)', 'class': ['nam...</td>\n",
       "    </tr>\n",
       "    <tr>\n",
       "      <th>4</th>\n",
       "      <td>230055482</td>\n",
       "      <td>None</td>\n",
       "      <td>[ARLO GUTHRIE / PETE SEEGER, GUTHRIE A, GUTHRI...</td>\n",
       "      <td>WILL THE CIRCLE BE UNBROKEN</td>\n",
       "      <td>[{'href': 'javascript:void(0)', 'class': ['nam...</td>\n",
       "    </tr>\n",
       "  </tbody>\n",
       "</table>\n",
       "</div>"
      ],
      "text/plain": [
       "         AID                                         Alt-Titles  \\\n",
       "0  360318916  [FOE THA LOVE OF $, FOE THA LOVE OF $, FOE THA...   \n",
       "1  530659306                                               None   \n",
       "2  334030418                                      [CELERY TIME]   \n",
       "3  442081954                                               None   \n",
       "4  230055482                                               None   \n",
       "\n",
       "                                          Performers  \\\n",
       "0  [BONE, BONE THUGS N HARMONY, BONE THUGS N HARM...   \n",
       "1  [GOODMAN V, GREENWOOD AND VESTAL, GREENWOOD L,...   \n",
       "2                         ARLO GUTHRIE / PETE SEEGER   \n",
       "3                         ARLO GUTHRIE / PETE SEEGER   \n",
       "4  [ARLO GUTHRIE / PETE SEEGER, GUTHRIE A, GUTHRI...   \n",
       "\n",
       "                         Title  \\\n",
       "0        FOR THA LOVE OF MONEY   \n",
       "1                WE THE PEOPLE   \n",
       "2                  CELERY-TIME   \n",
       "3                 NEUTRON BOMB   \n",
       "4  WILL THE CIRCLE BE UNBROKEN   \n",
       "\n",
       "                                             Writers  \n",
       "0  [{'class': ['no-click'], 'data-writer': 'CARRA...  \n",
       "1  [{'href': 'javascript:void(0)', 'class': ['nam...  \n",
       "2  [{'href': 'javascript:void(0)', 'class': ['nam...  \n",
       "3  [{'href': 'javascript:void(0)', 'class': ['nam...  \n",
       "4  [{'href': 'javascript:void(0)', 'class': ['nam...  "
      ]
     },
     "execution_count": 7,
     "metadata": {},
     "output_type": "execute_result"
    }
   ],
   "source": [
    "df.head()"
   ]
  },
  {
   "cell_type": "markdown",
   "metadata": {},
   "source": [
    "#### Deleting potential duplicates\n",
    "\n",
    "Duplicate 'AID' records should be the only song duplicates"
   ]
  },
  {
   "cell_type": "code",
   "execution_count": 9,
   "metadata": {},
   "outputs": [],
   "source": [
    "df.drop_duplicates('AID', inplace=True)"
   ]
  },
  {
   "cell_type": "code",
   "execution_count": 10,
   "metadata": {},
   "outputs": [
    {
     "name": "stdout",
     "output_type": "stream",
     "text": [
      "<class 'pandas.core.frame.DataFrame'>\n",
      "Int64Index: 264175 entries, 0 to 309575\n",
      "Data columns (total 5 columns):\n",
      "AID           264175 non-null object\n",
      "Alt-Titles    65799 non-null object\n",
      "Performers    264175 non-null object\n",
      "Title         264175 non-null object\n",
      "Writers       264175 non-null object\n",
      "dtypes: object(5)\n",
      "memory usage: 12.1+ MB\n"
     ]
    }
   ],
   "source": [
    "df.info()"
   ]
  },
  {
   "cell_type": "code",
   "execution_count": 8,
   "metadata": {},
   "outputs": [
    {
     "data": {
      "text/html": [
       "<div>\n",
       "<style scoped>\n",
       "    .dataframe tbody tr th:only-of-type {\n",
       "        vertical-align: middle;\n",
       "    }\n",
       "\n",
       "    .dataframe tbody tr th {\n",
       "        vertical-align: top;\n",
       "    }\n",
       "\n",
       "    .dataframe thead th {\n",
       "        text-align: right;\n",
       "    }\n",
       "</style>\n",
       "<table border=\"1\" class=\"dataframe\">\n",
       "  <thead>\n",
       "    <tr style=\"text-align: right;\">\n",
       "      <th></th>\n",
       "      <th>AID</th>\n",
       "      <th>Alt-Titles</th>\n",
       "      <th>Performers</th>\n",
       "      <th>Title</th>\n",
       "      <th>Writers</th>\n",
       "    </tr>\n",
       "  </thead>\n",
       "  <tbody>\n",
       "    <tr>\n",
       "      <th>0</th>\n",
       "      <td>360318916</td>\n",
       "      <td>[FOE THA LOVE OF $, FOE THA LOVE OF $, FOE THA...</td>\n",
       "      <td>[BONE, BONE THUGS N HARMONY, BONE THUGS N HARM...</td>\n",
       "      <td>FOR THA LOVE OF MONEY</td>\n",
       "      <td>[{'class': ['no-click'], 'data-writer': 'CARRA...</td>\n",
       "    </tr>\n",
       "    <tr>\n",
       "      <th>1</th>\n",
       "      <td>530659306</td>\n",
       "      <td>None</td>\n",
       "      <td>[GOODMAN V, GREENWOOD AND VESTAL, GREENWOOD L,...</td>\n",
       "      <td>WE THE PEOPLE</td>\n",
       "      <td>[{'href': 'javascript:void(0)', 'class': ['nam...</td>\n",
       "    </tr>\n",
       "    <tr>\n",
       "      <th>2</th>\n",
       "      <td>334030418</td>\n",
       "      <td>[CELERY TIME]</td>\n",
       "      <td>ARLO GUTHRIE / PETE SEEGER</td>\n",
       "      <td>CELERY-TIME</td>\n",
       "      <td>[{'href': 'javascript:void(0)', 'class': ['nam...</td>\n",
       "    </tr>\n",
       "    <tr>\n",
       "      <th>3</th>\n",
       "      <td>442081954</td>\n",
       "      <td>None</td>\n",
       "      <td>ARLO GUTHRIE / PETE SEEGER</td>\n",
       "      <td>NEUTRON BOMB</td>\n",
       "      <td>[{'href': 'javascript:void(0)', 'class': ['nam...</td>\n",
       "    </tr>\n",
       "    <tr>\n",
       "      <th>4</th>\n",
       "      <td>230055482</td>\n",
       "      <td>None</td>\n",
       "      <td>[ARLO GUTHRIE / PETE SEEGER, GUTHRIE A, GUTHRI...</td>\n",
       "      <td>WILL THE CIRCLE BE UNBROKEN</td>\n",
       "      <td>[{'href': 'javascript:void(0)', 'class': ['nam...</td>\n",
       "    </tr>\n",
       "  </tbody>\n",
       "</table>\n",
       "</div>"
      ],
      "text/plain": [
       "         AID                                         Alt-Titles  \\\n",
       "0  360318916  [FOE THA LOVE OF $, FOE THA LOVE OF $, FOE THA...   \n",
       "1  530659306                                               None   \n",
       "2  334030418                                      [CELERY TIME]   \n",
       "3  442081954                                               None   \n",
       "4  230055482                                               None   \n",
       "\n",
       "                                          Performers  \\\n",
       "0  [BONE, BONE THUGS N HARMONY, BONE THUGS N HARM...   \n",
       "1  [GOODMAN V, GREENWOOD AND VESTAL, GREENWOOD L,...   \n",
       "2                         ARLO GUTHRIE / PETE SEEGER   \n",
       "3                         ARLO GUTHRIE / PETE SEEGER   \n",
       "4  [ARLO GUTHRIE / PETE SEEGER, GUTHRIE A, GUTHRI...   \n",
       "\n",
       "                         Title  \\\n",
       "0        FOR THA LOVE OF MONEY   \n",
       "1                WE THE PEOPLE   \n",
       "2                  CELERY-TIME   \n",
       "3                 NEUTRON BOMB   \n",
       "4  WILL THE CIRCLE BE UNBROKEN   \n",
       "\n",
       "                                             Writers  \n",
       "0  [{'class': ['no-click'], 'data-writer': 'CARRA...  \n",
       "1  [{'href': 'javascript:void(0)', 'class': ['nam...  \n",
       "2  [{'href': 'javascript:void(0)', 'class': ['nam...  \n",
       "3  [{'href': 'javascript:void(0)', 'class': ['nam...  \n",
       "4  [{'href': 'javascript:void(0)', 'class': ['nam...  "
      ]
     },
     "execution_count": 8,
     "metadata": {},
     "output_type": "execute_result"
    }
   ],
   "source": [
    "df.head()"
   ]
  },
  {
   "cell_type": "markdown",
   "metadata": {},
   "source": [
    "Going forward, this will be the primary table for song information. The composition ID will be the current index"
   ]
  },
  {
   "cell_type": "markdown",
   "metadata": {},
   "source": [
    "### Cleaning Records\n",
    "\n",
    "Before tossing tossing this dataframe into multiple tables stored in my PostgreSQL db, I'll need to clean each of the associated fields and seperate them into different tables."
   ]
  },
  {
   "cell_type": "code",
   "execution_count": 9,
   "metadata": {},
   "outputs": [],
   "source": [
    "df['ATTypes'] = df['Alt-Titles'].apply(lambda x: type(x))\n",
    "df['PTypes'] = df['Performers'].apply(lambda x: type(x))\n",
    "df['TTypes'] = df['Title'].apply(lambda x: type(x))\n",
    "df['WTypes'] = df['Writers'].apply(lambda x: type(x))"
   ]
  },
  {
   "cell_type": "code",
   "execution_count": 10,
   "metadata": {},
   "outputs": [
    {
     "data": {
      "text/html": [
       "<div>\n",
       "<style scoped>\n",
       "    .dataframe tbody tr th:only-of-type {\n",
       "        vertical-align: middle;\n",
       "    }\n",
       "\n",
       "    .dataframe tbody tr th {\n",
       "        vertical-align: top;\n",
       "    }\n",
       "\n",
       "    .dataframe thead th {\n",
       "        text-align: right;\n",
       "    }\n",
       "</style>\n",
       "<table border=\"1\" class=\"dataframe\">\n",
       "  <thead>\n",
       "    <tr style=\"text-align: right;\">\n",
       "      <th></th>\n",
       "      <th>AID</th>\n",
       "      <th>Alt-Titles</th>\n",
       "      <th>Performers</th>\n",
       "      <th>Title</th>\n",
       "      <th>Writers</th>\n",
       "      <th>ATTypes</th>\n",
       "      <th>PTypes</th>\n",
       "      <th>TTypes</th>\n",
       "      <th>WTypes</th>\n",
       "    </tr>\n",
       "  </thead>\n",
       "  <tbody>\n",
       "    <tr>\n",
       "      <th>0</th>\n",
       "      <td>360318916</td>\n",
       "      <td>[FOE THA LOVE OF $, FOE THA LOVE OF $, FOE THA...</td>\n",
       "      <td>[BONE, BONE THUGS N HARMONY, BONE THUGS N HARM...</td>\n",
       "      <td>FOR THA LOVE OF MONEY</td>\n",
       "      <td>[{'class': ['no-click'], 'data-writer': 'CARRA...</td>\n",
       "      <td>&lt;class 'list'&gt;</td>\n",
       "      <td>&lt;class 'list'&gt;</td>\n",
       "      <td>&lt;class 'str'&gt;</td>\n",
       "      <td>&lt;class 'list'&gt;</td>\n",
       "    </tr>\n",
       "    <tr>\n",
       "      <th>1</th>\n",
       "      <td>530659306</td>\n",
       "      <td>None</td>\n",
       "      <td>[GOODMAN V, GREENWOOD AND VESTAL, GREENWOOD L,...</td>\n",
       "      <td>WE THE PEOPLE</td>\n",
       "      <td>[{'href': 'javascript:void(0)', 'class': ['nam...</td>\n",
       "      <td>&lt;class 'NoneType'&gt;</td>\n",
       "      <td>&lt;class 'list'&gt;</td>\n",
       "      <td>&lt;class 'str'&gt;</td>\n",
       "      <td>&lt;class 'list'&gt;</td>\n",
       "    </tr>\n",
       "    <tr>\n",
       "      <th>2</th>\n",
       "      <td>334030418</td>\n",
       "      <td>[CELERY TIME]</td>\n",
       "      <td>ARLO GUTHRIE / PETE SEEGER</td>\n",
       "      <td>CELERY-TIME</td>\n",
       "      <td>[{'href': 'javascript:void(0)', 'class': ['nam...</td>\n",
       "      <td>&lt;class 'list'&gt;</td>\n",
       "      <td>&lt;class 'str'&gt;</td>\n",
       "      <td>&lt;class 'str'&gt;</td>\n",
       "      <td>&lt;class 'list'&gt;</td>\n",
       "    </tr>\n",
       "    <tr>\n",
       "      <th>3</th>\n",
       "      <td>442081954</td>\n",
       "      <td>None</td>\n",
       "      <td>ARLO GUTHRIE / PETE SEEGER</td>\n",
       "      <td>NEUTRON BOMB</td>\n",
       "      <td>[{'href': 'javascript:void(0)', 'class': ['nam...</td>\n",
       "      <td>&lt;class 'NoneType'&gt;</td>\n",
       "      <td>&lt;class 'str'&gt;</td>\n",
       "      <td>&lt;class 'str'&gt;</td>\n",
       "      <td>&lt;class 'list'&gt;</td>\n",
       "    </tr>\n",
       "    <tr>\n",
       "      <th>4</th>\n",
       "      <td>230055482</td>\n",
       "      <td>None</td>\n",
       "      <td>[ARLO GUTHRIE / PETE SEEGER, GUTHRIE A, GUTHRI...</td>\n",
       "      <td>WILL THE CIRCLE BE UNBROKEN</td>\n",
       "      <td>[{'href': 'javascript:void(0)', 'class': ['nam...</td>\n",
       "      <td>&lt;class 'NoneType'&gt;</td>\n",
       "      <td>&lt;class 'list'&gt;</td>\n",
       "      <td>&lt;class 'str'&gt;</td>\n",
       "      <td>&lt;class 'list'&gt;</td>\n",
       "    </tr>\n",
       "  </tbody>\n",
       "</table>\n",
       "</div>"
      ],
      "text/plain": [
       "         AID                                         Alt-Titles  \\\n",
       "0  360318916  [FOE THA LOVE OF $, FOE THA LOVE OF $, FOE THA...   \n",
       "1  530659306                                               None   \n",
       "2  334030418                                      [CELERY TIME]   \n",
       "3  442081954                                               None   \n",
       "4  230055482                                               None   \n",
       "\n",
       "                                          Performers  \\\n",
       "0  [BONE, BONE THUGS N HARMONY, BONE THUGS N HARM...   \n",
       "1  [GOODMAN V, GREENWOOD AND VESTAL, GREENWOOD L,...   \n",
       "2                         ARLO GUTHRIE / PETE SEEGER   \n",
       "3                         ARLO GUTHRIE / PETE SEEGER   \n",
       "4  [ARLO GUTHRIE / PETE SEEGER, GUTHRIE A, GUTHRI...   \n",
       "\n",
       "                         Title  \\\n",
       "0        FOR THA LOVE OF MONEY   \n",
       "1                WE THE PEOPLE   \n",
       "2                  CELERY-TIME   \n",
       "3                 NEUTRON BOMB   \n",
       "4  WILL THE CIRCLE BE UNBROKEN   \n",
       "\n",
       "                                             Writers             ATTypes  \\\n",
       "0  [{'class': ['no-click'], 'data-writer': 'CARRA...      <class 'list'>   \n",
       "1  [{'href': 'javascript:void(0)', 'class': ['nam...  <class 'NoneType'>   \n",
       "2  [{'href': 'javascript:void(0)', 'class': ['nam...      <class 'list'>   \n",
       "3  [{'href': 'javascript:void(0)', 'class': ['nam...  <class 'NoneType'>   \n",
       "4  [{'href': 'javascript:void(0)', 'class': ['nam...  <class 'NoneType'>   \n",
       "\n",
       "           PTypes         TTypes          WTypes  \n",
       "0  <class 'list'>  <class 'str'>  <class 'list'>  \n",
       "1  <class 'list'>  <class 'str'>  <class 'list'>  \n",
       "2   <class 'str'>  <class 'str'>  <class 'list'>  \n",
       "3   <class 'str'>  <class 'str'>  <class 'list'>  \n",
       "4  <class 'list'>  <class 'str'>  <class 'list'>  "
      ]
     },
     "execution_count": 10,
     "metadata": {},
     "output_type": "execute_result"
    }
   ],
   "source": [
    "df.head()"
   ]
  },
  {
   "cell_type": "code",
   "execution_count": 11,
   "metadata": {},
   "outputs": [
    {
     "data": {
      "text/plain": [
       "<class 'NoneType'>    198376\n",
       "<class 'list'>         65799\n",
       "Name: ATTypes, dtype: int64"
      ]
     },
     "execution_count": 11,
     "metadata": {},
     "output_type": "execute_result"
    }
   ],
   "source": [
    "df['ATTypes'].value_counts()"
   ]
  },
  {
   "cell_type": "code",
   "execution_count": 12,
   "metadata": {},
   "outputs": [
    {
     "data": {
      "text/plain": [
       "<class 'str'>     181391\n",
       "<class 'list'>     82784\n",
       "Name: PTypes, dtype: int64"
      ]
     },
     "execution_count": 12,
     "metadata": {},
     "output_type": "execute_result"
    }
   ],
   "source": [
    "df['PTypes'].value_counts()"
   ]
  },
  {
   "cell_type": "code",
   "execution_count": 13,
   "metadata": {},
   "outputs": [
    {
     "data": {
      "text/plain": [
       "<class 'str'>    264175\n",
       "Name: TTypes, dtype: int64"
      ]
     },
     "execution_count": 13,
     "metadata": {},
     "output_type": "execute_result"
    }
   ],
   "source": [
    "df['TTypes'].value_counts()"
   ]
  },
  {
   "cell_type": "code",
   "execution_count": 14,
   "metadata": {},
   "outputs": [
    {
     "data": {
      "text/plain": [
       "<class 'list'>    264175\n",
       "Name: WTypes, dtype: int64"
      ]
     },
     "execution_count": 14,
     "metadata": {},
     "output_type": "execute_result"
    }
   ],
   "source": [
    "df['WTypes'].value_counts()"
   ]
  },
  {
   "cell_type": "markdown",
   "metadata": {},
   "source": [
    "#### Establishing `CID`, which will be the composition level ID going forward"
   ]
  },
  {
   "cell_type": "code",
   "execution_count": 11,
   "metadata": {},
   "outputs": [],
   "source": [
    "df['CID'] = df.index"
   ]
  },
  {
   "cell_type": "markdown",
   "metadata": {},
   "source": [
    "#### Creating `main`, which will be the primary table for accessing composition information"
   ]
  },
  {
   "cell_type": "code",
   "execution_count": 16,
   "metadata": {},
   "outputs": [],
   "source": [
    "main_df = df[['CID','AID', 'Title']]"
   ]
  },
  {
   "cell_type": "code",
   "execution_count": 17,
   "metadata": {},
   "outputs": [
    {
     "data": {
      "text/html": [
       "<div>\n",
       "<style scoped>\n",
       "    .dataframe tbody tr th:only-of-type {\n",
       "        vertical-align: middle;\n",
       "    }\n",
       "\n",
       "    .dataframe tbody tr th {\n",
       "        vertical-align: top;\n",
       "    }\n",
       "\n",
       "    .dataframe thead th {\n",
       "        text-align: right;\n",
       "    }\n",
       "</style>\n",
       "<table border=\"1\" class=\"dataframe\">\n",
       "  <thead>\n",
       "    <tr style=\"text-align: right;\">\n",
       "      <th></th>\n",
       "      <th>CID</th>\n",
       "      <th>AID</th>\n",
       "      <th>Title</th>\n",
       "    </tr>\n",
       "  </thead>\n",
       "  <tbody>\n",
       "    <tr>\n",
       "      <th>0</th>\n",
       "      <td>0</td>\n",
       "      <td>360318916</td>\n",
       "      <td>FOR THA LOVE OF MONEY</td>\n",
       "    </tr>\n",
       "    <tr>\n",
       "      <th>1</th>\n",
       "      <td>1</td>\n",
       "      <td>530659306</td>\n",
       "      <td>WE THE PEOPLE</td>\n",
       "    </tr>\n",
       "    <tr>\n",
       "      <th>2</th>\n",
       "      <td>2</td>\n",
       "      <td>334030418</td>\n",
       "      <td>CELERY-TIME</td>\n",
       "    </tr>\n",
       "    <tr>\n",
       "      <th>3</th>\n",
       "      <td>3</td>\n",
       "      <td>442081954</td>\n",
       "      <td>NEUTRON BOMB</td>\n",
       "    </tr>\n",
       "    <tr>\n",
       "      <th>4</th>\n",
       "      <td>4</td>\n",
       "      <td>230055482</td>\n",
       "      <td>WILL THE CIRCLE BE UNBROKEN</td>\n",
       "    </tr>\n",
       "  </tbody>\n",
       "</table>\n",
       "</div>"
      ],
      "text/plain": [
       "   CID        AID                        Title\n",
       "0    0  360318916        FOR THA LOVE OF MONEY\n",
       "1    1  530659306                WE THE PEOPLE\n",
       "2    2  334030418                  CELERY-TIME\n",
       "3    3  442081954                 NEUTRON BOMB\n",
       "4    4  230055482  WILL THE CIRCLE BE UNBROKEN"
      ]
     },
     "execution_count": 17,
     "metadata": {},
     "output_type": "execute_result"
    }
   ],
   "source": [
    "main_df.head()"
   ]
  },
  {
   "cell_type": "code",
   "execution_count": 89,
   "metadata": {},
   "outputs": [],
   "source": [
    "main_df.to_csv('../data/compositions.csv')"
   ]
  },
  {
   "cell_type": "markdown",
   "metadata": {},
   "source": [
    "#### Cleaning `Alt-Titles` and creating Alt-Titles table"
   ]
  },
  {
   "cell_type": "code",
   "execution_count": 18,
   "metadata": {},
   "outputs": [],
   "source": [
    "alt_title_df = df[['Alt-Titles', 'CID']]"
   ]
  },
  {
   "cell_type": "code",
   "execution_count": 19,
   "metadata": {},
   "outputs": [
    {
     "data": {
      "text/html": [
       "<div>\n",
       "<style scoped>\n",
       "    .dataframe tbody tr th:only-of-type {\n",
       "        vertical-align: middle;\n",
       "    }\n",
       "\n",
       "    .dataframe tbody tr th {\n",
       "        vertical-align: top;\n",
       "    }\n",
       "\n",
       "    .dataframe thead th {\n",
       "        text-align: right;\n",
       "    }\n",
       "</style>\n",
       "<table border=\"1\" class=\"dataframe\">\n",
       "  <thead>\n",
       "    <tr style=\"text-align: right;\">\n",
       "      <th></th>\n",
       "      <th>Alt-Titles</th>\n",
       "      <th>CID</th>\n",
       "    </tr>\n",
       "  </thead>\n",
       "  <tbody>\n",
       "    <tr>\n",
       "      <th>0</th>\n",
       "      <td>[FOE THA LOVE OF $, FOE THA LOVE OF $, FOE THA...</td>\n",
       "      <td>0</td>\n",
       "    </tr>\n",
       "    <tr>\n",
       "      <th>1</th>\n",
       "      <td>None</td>\n",
       "      <td>1</td>\n",
       "    </tr>\n",
       "    <tr>\n",
       "      <th>2</th>\n",
       "      <td>[CELERY TIME]</td>\n",
       "      <td>2</td>\n",
       "    </tr>\n",
       "    <tr>\n",
       "      <th>3</th>\n",
       "      <td>None</td>\n",
       "      <td>3</td>\n",
       "    </tr>\n",
       "    <tr>\n",
       "      <th>4</th>\n",
       "      <td>None</td>\n",
       "      <td>4</td>\n",
       "    </tr>\n",
       "  </tbody>\n",
       "</table>\n",
       "</div>"
      ],
      "text/plain": [
       "                                          Alt-Titles  CID\n",
       "0  [FOE THA LOVE OF $, FOE THA LOVE OF $, FOE THA...    0\n",
       "1                                               None    1\n",
       "2                                      [CELERY TIME]    2\n",
       "3                                               None    3\n",
       "4                                               None    4"
      ]
     },
     "execution_count": 19,
     "metadata": {},
     "output_type": "execute_result"
    }
   ],
   "source": [
    "alt_title_df.head()"
   ]
  },
  {
   "cell_type": "markdown",
   "metadata": {},
   "source": [
    "##### Devising scheme to create unique record for each alt-title"
   ]
  },
  {
   "cell_type": "code",
   "execution_count": 20,
   "metadata": {},
   "outputs": [
    {
     "name": "stdout",
     "output_type": "stream",
     "text": [
      "<class 'list'>\n",
      "<class 'NoneType'>\n",
      "<class 'list'>\n",
      "<class 'NoneType'>\n",
      "<class 'NoneType'>\n"
     ]
    }
   ],
   "source": [
    "for rec, (titles, ids) in alt_title_df.head().iterrows():\n",
    "    print(type(titles))"
   ]
  },
  {
   "cell_type": "code",
   "execution_count": 21,
   "metadata": {},
   "outputs": [],
   "source": [
    "at_dict = {}\n",
    "count = 0\n",
    "for rec, (titles, ids) in alt_title_df.iterrows():\n",
    "    if isinstance(titles, list):\n",
    "        for title in titles:\n",
    "            count += 1\n",
    "            at_dict[count] = title, ids"
   ]
  },
  {
   "cell_type": "markdown",
   "metadata": {},
   "source": [
    "##### Total Size of alt-titles dict"
   ]
  },
  {
   "cell_type": "code",
   "execution_count": 22,
   "metadata": {},
   "outputs": [
    {
     "data": {
      "text/plain": [
       "159725"
      ]
     },
     "execution_count": 22,
     "metadata": {},
     "output_type": "execute_result"
    }
   ],
   "source": [
    "len(at_dict)"
   ]
  },
  {
   "cell_type": "code",
   "execution_count": 23,
   "metadata": {},
   "outputs": [],
   "source": [
    "at_df = pd.DataFrame.from_dict(at_dict, orient='index', columns=['alt-title', 'CID'])"
   ]
  },
  {
   "cell_type": "code",
   "execution_count": 24,
   "metadata": {},
   "outputs": [
    {
     "data": {
      "text/html": [
       "<div>\n",
       "<style scoped>\n",
       "    .dataframe tbody tr th:only-of-type {\n",
       "        vertical-align: middle;\n",
       "    }\n",
       "\n",
       "    .dataframe tbody tr th {\n",
       "        vertical-align: top;\n",
       "    }\n",
       "\n",
       "    .dataframe thead th {\n",
       "        text-align: right;\n",
       "    }\n",
       "</style>\n",
       "<table border=\"1\" class=\"dataframe\">\n",
       "  <thead>\n",
       "    <tr style=\"text-align: right;\">\n",
       "      <th></th>\n",
       "      <th>alt-title</th>\n",
       "      <th>CID</th>\n",
       "    </tr>\n",
       "  </thead>\n",
       "  <tbody>\n",
       "    <tr>\n",
       "      <th>1</th>\n",
       "      <td>FOE THA LOVE OF $</td>\n",
       "      <td>0</td>\n",
       "    </tr>\n",
       "    <tr>\n",
       "      <th>2</th>\n",
       "      <td>FOE THA LOVE OF $</td>\n",
       "      <td>0</td>\n",
       "    </tr>\n",
       "    <tr>\n",
       "      <th>3</th>\n",
       "      <td>FOE THA LOVE OF $ (FEAT EASY-E)</td>\n",
       "      <td>0</td>\n",
       "    </tr>\n",
       "    <tr>\n",
       "      <th>4</th>\n",
       "      <td>FOE THA LOVE OF $ (FEAT. EAZY-E)</td>\n",
       "      <td>0</td>\n",
       "    </tr>\n",
       "    <tr>\n",
       "      <th>5</th>\n",
       "      <td>FOE THA LOVE OF $ [EXPLICIT]</td>\n",
       "      <td>0</td>\n",
       "    </tr>\n",
       "  </tbody>\n",
       "</table>\n",
       "</div>"
      ],
      "text/plain": [
       "                          alt-title  CID\n",
       "1                 FOE THA LOVE OF $    0\n",
       "2                 FOE THA LOVE OF $    0\n",
       "3   FOE THA LOVE OF $ (FEAT EASY-E)    0\n",
       "4  FOE THA LOVE OF $ (FEAT. EAZY-E)    0\n",
       "5      FOE THA LOVE OF $ [EXPLICIT]    0"
      ]
     },
     "execution_count": 24,
     "metadata": {},
     "output_type": "execute_result"
    }
   ],
   "source": [
    "at_df.head()"
   ]
  },
  {
   "cell_type": "markdown",
   "metadata": {},
   "source": [
    "##### Saving as a csv"
   ]
  },
  {
   "cell_type": "code",
   "execution_count": 25,
   "metadata": {},
   "outputs": [],
   "source": [
    "at_df.to_csv('../data/comp_alt_titles.csv')"
   ]
  },
  {
   "cell_type": "markdown",
   "metadata": {},
   "source": [
    "#### Creating separate `Performers` table\n",
    "\n",
    "I'll need to definitely create a lookup table for these entries. As it currently stands, I'm not cleaning any of the entries. I don't think it's worth it since I'll be relying on the spotify artist names for application use purposes. It might be helpful to lemmatize the artist names, or do something to garner a root artist name for each. This might help with matching songs to recordings."
   ]
  },
  {
   "cell_type": "code",
   "execution_count": 26,
   "metadata": {},
   "outputs": [
    {
     "data": {
      "text/html": [
       "<div>\n",
       "<style scoped>\n",
       "    .dataframe tbody tr th:only-of-type {\n",
       "        vertical-align: middle;\n",
       "    }\n",
       "\n",
       "    .dataframe tbody tr th {\n",
       "        vertical-align: top;\n",
       "    }\n",
       "\n",
       "    .dataframe thead th {\n",
       "        text-align: right;\n",
       "    }\n",
       "</style>\n",
       "<table border=\"1\" class=\"dataframe\">\n",
       "  <thead>\n",
       "    <tr style=\"text-align: right;\">\n",
       "      <th></th>\n",
       "      <th>AID</th>\n",
       "      <th>Alt-Titles</th>\n",
       "      <th>Performers</th>\n",
       "      <th>Title</th>\n",
       "      <th>Writers</th>\n",
       "      <th>ATTypes</th>\n",
       "      <th>PTypes</th>\n",
       "      <th>TTypes</th>\n",
       "      <th>WTypes</th>\n",
       "      <th>CID</th>\n",
       "    </tr>\n",
       "  </thead>\n",
       "  <tbody>\n",
       "    <tr>\n",
       "      <th>0</th>\n",
       "      <td>360318916</td>\n",
       "      <td>[FOE THA LOVE OF $, FOE THA LOVE OF $, FOE THA...</td>\n",
       "      <td>[BONE, BONE THUGS N HARMONY, BONE THUGS N HARM...</td>\n",
       "      <td>FOR THA LOVE OF MONEY</td>\n",
       "      <td>[{'class': ['no-click'], 'data-writer': 'CARRA...</td>\n",
       "      <td>&lt;class 'list'&gt;</td>\n",
       "      <td>&lt;class 'list'&gt;</td>\n",
       "      <td>&lt;class 'str'&gt;</td>\n",
       "      <td>&lt;class 'list'&gt;</td>\n",
       "      <td>0</td>\n",
       "    </tr>\n",
       "    <tr>\n",
       "      <th>1</th>\n",
       "      <td>530659306</td>\n",
       "      <td>None</td>\n",
       "      <td>[GOODMAN V, GREENWOOD AND VESTAL, GREENWOOD L,...</td>\n",
       "      <td>WE THE PEOPLE</td>\n",
       "      <td>[{'href': 'javascript:void(0)', 'class': ['nam...</td>\n",
       "      <td>&lt;class 'NoneType'&gt;</td>\n",
       "      <td>&lt;class 'list'&gt;</td>\n",
       "      <td>&lt;class 'str'&gt;</td>\n",
       "      <td>&lt;class 'list'&gt;</td>\n",
       "      <td>1</td>\n",
       "    </tr>\n",
       "    <tr>\n",
       "      <th>2</th>\n",
       "      <td>334030418</td>\n",
       "      <td>[CELERY TIME]</td>\n",
       "      <td>ARLO GUTHRIE / PETE SEEGER</td>\n",
       "      <td>CELERY-TIME</td>\n",
       "      <td>[{'href': 'javascript:void(0)', 'class': ['nam...</td>\n",
       "      <td>&lt;class 'list'&gt;</td>\n",
       "      <td>&lt;class 'str'&gt;</td>\n",
       "      <td>&lt;class 'str'&gt;</td>\n",
       "      <td>&lt;class 'list'&gt;</td>\n",
       "      <td>2</td>\n",
       "    </tr>\n",
       "    <tr>\n",
       "      <th>3</th>\n",
       "      <td>442081954</td>\n",
       "      <td>None</td>\n",
       "      <td>ARLO GUTHRIE / PETE SEEGER</td>\n",
       "      <td>NEUTRON BOMB</td>\n",
       "      <td>[{'href': 'javascript:void(0)', 'class': ['nam...</td>\n",
       "      <td>&lt;class 'NoneType'&gt;</td>\n",
       "      <td>&lt;class 'str'&gt;</td>\n",
       "      <td>&lt;class 'str'&gt;</td>\n",
       "      <td>&lt;class 'list'&gt;</td>\n",
       "      <td>3</td>\n",
       "    </tr>\n",
       "    <tr>\n",
       "      <th>4</th>\n",
       "      <td>230055482</td>\n",
       "      <td>None</td>\n",
       "      <td>[ARLO GUTHRIE / PETE SEEGER, GUTHRIE A, GUTHRI...</td>\n",
       "      <td>WILL THE CIRCLE BE UNBROKEN</td>\n",
       "      <td>[{'href': 'javascript:void(0)', 'class': ['nam...</td>\n",
       "      <td>&lt;class 'NoneType'&gt;</td>\n",
       "      <td>&lt;class 'list'&gt;</td>\n",
       "      <td>&lt;class 'str'&gt;</td>\n",
       "      <td>&lt;class 'list'&gt;</td>\n",
       "      <td>4</td>\n",
       "    </tr>\n",
       "  </tbody>\n",
       "</table>\n",
       "</div>"
      ],
      "text/plain": [
       "         AID                                         Alt-Titles  \\\n",
       "0  360318916  [FOE THA LOVE OF $, FOE THA LOVE OF $, FOE THA...   \n",
       "1  530659306                                               None   \n",
       "2  334030418                                      [CELERY TIME]   \n",
       "3  442081954                                               None   \n",
       "4  230055482                                               None   \n",
       "\n",
       "                                          Performers  \\\n",
       "0  [BONE, BONE THUGS N HARMONY, BONE THUGS N HARM...   \n",
       "1  [GOODMAN V, GREENWOOD AND VESTAL, GREENWOOD L,...   \n",
       "2                         ARLO GUTHRIE / PETE SEEGER   \n",
       "3                         ARLO GUTHRIE / PETE SEEGER   \n",
       "4  [ARLO GUTHRIE / PETE SEEGER, GUTHRIE A, GUTHRI...   \n",
       "\n",
       "                         Title  \\\n",
       "0        FOR THA LOVE OF MONEY   \n",
       "1                WE THE PEOPLE   \n",
       "2                  CELERY-TIME   \n",
       "3                 NEUTRON BOMB   \n",
       "4  WILL THE CIRCLE BE UNBROKEN   \n",
       "\n",
       "                                             Writers             ATTypes  \\\n",
       "0  [{'class': ['no-click'], 'data-writer': 'CARRA...      <class 'list'>   \n",
       "1  [{'href': 'javascript:void(0)', 'class': ['nam...  <class 'NoneType'>   \n",
       "2  [{'href': 'javascript:void(0)', 'class': ['nam...      <class 'list'>   \n",
       "3  [{'href': 'javascript:void(0)', 'class': ['nam...  <class 'NoneType'>   \n",
       "4  [{'href': 'javascript:void(0)', 'class': ['nam...  <class 'NoneType'>   \n",
       "\n",
       "           PTypes         TTypes          WTypes  CID  \n",
       "0  <class 'list'>  <class 'str'>  <class 'list'>    0  \n",
       "1  <class 'list'>  <class 'str'>  <class 'list'>    1  \n",
       "2   <class 'str'>  <class 'str'>  <class 'list'>    2  \n",
       "3   <class 'str'>  <class 'str'>  <class 'list'>    3  \n",
       "4  <class 'list'>  <class 'str'>  <class 'list'>    4  "
      ]
     },
     "execution_count": 26,
     "metadata": {},
     "output_type": "execute_result"
    }
   ],
   "source": [
    "df.head()"
   ]
  },
  {
   "cell_type": "code",
   "execution_count": 27,
   "metadata": {},
   "outputs": [
    {
     "name": "stdout",
     "output_type": "stream",
     "text": [
      "['BONE', 'BONE THUGS N HARMONY', 'BONE THUGS N HARMONY FEAT. EAZY-E', 'BONE THUGS-N-HARMONY', 'BONE THUGS-N-HARMONY (EDITED)', 'BONE THUGS-N-HARMONY EAZY-E', 'DR. DRE JILL SCOTT ANDERSON PAAK & JON CONNOR', 'EASY E', 'EAZY-E', 'EAZY-E & BONE THUGS-N-HARMONY']\n",
      "['GOODMAN V', 'GREENWOOD AND VESTAL', 'GREENWOOD L', 'GREENWOOD LAND GREENWOOD', 'LEE GREENWOOD', 'LEE GREENWOOD AND VESTAL', 'VESTAL AND GREENWOOD', 'VESTAL AND LEE GREENWOOD', 'VESTAL GOODMAN']\n",
      "ARLO GUTHRIE / PETE SEEGER\n",
      "ARLO GUTHRIE / PETE SEEGER\n",
      "['ARLO GUTHRIE / PETE SEEGER', 'GUTHRIE A', 'GUTHRIE ARLO', 'SEEGER P', 'SEEGER PETE']\n"
     ]
    }
   ],
   "source": [
    "for rec, (performers, ids) in df[['Performers', 'CID']].head().iterrows():\n",
    "    print(performers)"
   ]
  },
  {
   "cell_type": "code",
   "execution_count": 28,
   "metadata": {},
   "outputs": [],
   "source": [
    "p_dict = {}\n",
    "count = 0\n",
    "for rec, (performers, ids) in df[['Performers', 'CID']].iterrows():\n",
    "    if isinstance(performers, list):\n",
    "        for performer in performers:\n",
    "            count += 1\n",
    "            p_dict[count] = performer, ids\n",
    "    else:\n",
    "        count += 1\n",
    "        p_dict[count] = performers, ids"
   ]
  },
  {
   "cell_type": "code",
   "execution_count": 29,
   "metadata": {},
   "outputs": [
    {
     "data": {
      "text/plain": [
       "('BONE THUGS-N-HARMONY', 0)"
      ]
     },
     "execution_count": 29,
     "metadata": {},
     "output_type": "execute_result"
    }
   ],
   "source": [
    "p_dict[4]"
   ]
  },
  {
   "cell_type": "code",
   "execution_count": 30,
   "metadata": {},
   "outputs": [],
   "source": [
    "p_df = pd.DataFrame.from_dict(p_dict, orient='index', columns=['Artist Name', 'CID'])"
   ]
  },
  {
   "cell_type": "code",
   "execution_count": 31,
   "metadata": {},
   "outputs": [
    {
     "name": "stdout",
     "output_type": "stream",
     "text": [
      "<class 'pandas.core.frame.DataFrame'>\n",
      "Int64Index: 570810 entries, 1 to 570810\n",
      "Data columns (total 2 columns):\n",
      "Artist Name    570810 non-null object\n",
      "CID            570810 non-null int64\n",
      "dtypes: int64(1), object(1)\n",
      "memory usage: 13.1+ MB\n"
     ]
    }
   ],
   "source": [
    "p_df.info()"
   ]
  },
  {
   "cell_type": "code",
   "execution_count": 32,
   "metadata": {},
   "outputs": [
    {
     "data": {
      "text/html": [
       "<div>\n",
       "<style scoped>\n",
       "    .dataframe tbody tr th:only-of-type {\n",
       "        vertical-align: middle;\n",
       "    }\n",
       "\n",
       "    .dataframe tbody tr th {\n",
       "        vertical-align: top;\n",
       "    }\n",
       "\n",
       "    .dataframe thead th {\n",
       "        text-align: right;\n",
       "    }\n",
       "</style>\n",
       "<table border=\"1\" class=\"dataframe\">\n",
       "  <thead>\n",
       "    <tr style=\"text-align: right;\">\n",
       "      <th></th>\n",
       "      <th>Artist Name</th>\n",
       "      <th>CID</th>\n",
       "    </tr>\n",
       "  </thead>\n",
       "  <tbody>\n",
       "    <tr>\n",
       "      <th>1</th>\n",
       "      <td>BONE</td>\n",
       "      <td>0</td>\n",
       "    </tr>\n",
       "    <tr>\n",
       "      <th>2</th>\n",
       "      <td>BONE THUGS N HARMONY</td>\n",
       "      <td>0</td>\n",
       "    </tr>\n",
       "    <tr>\n",
       "      <th>3</th>\n",
       "      <td>BONE THUGS N HARMONY FEAT. EAZY-E</td>\n",
       "      <td>0</td>\n",
       "    </tr>\n",
       "    <tr>\n",
       "      <th>4</th>\n",
       "      <td>BONE THUGS-N-HARMONY</td>\n",
       "      <td>0</td>\n",
       "    </tr>\n",
       "    <tr>\n",
       "      <th>5</th>\n",
       "      <td>BONE THUGS-N-HARMONY (EDITED)</td>\n",
       "      <td>0</td>\n",
       "    </tr>\n",
       "  </tbody>\n",
       "</table>\n",
       "</div>"
      ],
      "text/plain": [
       "                         Artist Name  CID\n",
       "1                               BONE    0\n",
       "2               BONE THUGS N HARMONY    0\n",
       "3  BONE THUGS N HARMONY FEAT. EAZY-E    0\n",
       "4               BONE THUGS-N-HARMONY    0\n",
       "5      BONE THUGS-N-HARMONY (EDITED)    0"
      ]
     },
     "execution_count": 32,
     "metadata": {},
     "output_type": "execute_result"
    }
   ],
   "source": [
    "p_df.head()"
   ]
  },
  {
   "cell_type": "markdown",
   "metadata": {},
   "source": [
    "##### Duplicate Artist Name Check"
   ]
  },
  {
   "cell_type": "code",
   "execution_count": 33,
   "metadata": {},
   "outputs": [
    {
     "name": "stdout",
     "output_type": "stream",
     "text": [
      "<class 'pandas.core.frame.DataFrame'>\n",
      "Int64Index: 438196 entries, 21 to 570810\n",
      "Data columns (total 2 columns):\n",
      "Artist Name    438196 non-null object\n",
      "CID            438196 non-null int64\n",
      "dtypes: int64(1), object(1)\n",
      "memory usage: 10.0+ MB\n"
     ]
    }
   ],
   "source": [
    "p_df[p_df.duplicated('Artist Name')].info()"
   ]
  },
  {
   "cell_type": "code",
   "execution_count": 34,
   "metadata": {},
   "outputs": [
    {
     "data": {
      "text/plain": [
       "132614"
      ]
     },
     "execution_count": 34,
     "metadata": {},
     "output_type": "execute_result"
    }
   ],
   "source": [
    "len(p_df['Artist Name'].unique())"
   ]
  },
  {
   "cell_type": "markdown",
   "metadata": {},
   "source": [
    "#### Creating Unique Artists Table"
   ]
  },
  {
   "cell_type": "code",
   "execution_count": 44,
   "metadata": {},
   "outputs": [],
   "source": [
    "comp_artists_df = pd.DataFrame(p_df['Artist Name'].unique(), columns=['Performer Name'])\n",
    "comp_artists_df['PID'] = comp_artists_df.index"
   ]
  },
  {
   "cell_type": "code",
   "execution_count": 46,
   "metadata": {},
   "outputs": [
    {
     "data": {
      "text/html": [
       "<div>\n",
       "<style scoped>\n",
       "    .dataframe tbody tr th:only-of-type {\n",
       "        vertical-align: middle;\n",
       "    }\n",
       "\n",
       "    .dataframe tbody tr th {\n",
       "        vertical-align: top;\n",
       "    }\n",
       "\n",
       "    .dataframe thead th {\n",
       "        text-align: right;\n",
       "    }\n",
       "</style>\n",
       "<table border=\"1\" class=\"dataframe\">\n",
       "  <thead>\n",
       "    <tr style=\"text-align: right;\">\n",
       "      <th></th>\n",
       "      <th>Performer Name</th>\n",
       "      <th>PID</th>\n",
       "    </tr>\n",
       "  </thead>\n",
       "  <tbody>\n",
       "    <tr>\n",
       "      <th>0</th>\n",
       "      <td>BONE</td>\n",
       "      <td>0</td>\n",
       "    </tr>\n",
       "    <tr>\n",
       "      <th>1</th>\n",
       "      <td>BONE THUGS N HARMONY</td>\n",
       "      <td>1</td>\n",
       "    </tr>\n",
       "    <tr>\n",
       "      <th>2</th>\n",
       "      <td>BONE THUGS N HARMONY FEAT. EAZY-E</td>\n",
       "      <td>2</td>\n",
       "    </tr>\n",
       "    <tr>\n",
       "      <th>3</th>\n",
       "      <td>BONE THUGS-N-HARMONY</td>\n",
       "      <td>3</td>\n",
       "    </tr>\n",
       "    <tr>\n",
       "      <th>4</th>\n",
       "      <td>BONE THUGS-N-HARMONY (EDITED)</td>\n",
       "      <td>4</td>\n",
       "    </tr>\n",
       "  </tbody>\n",
       "</table>\n",
       "</div>"
      ],
      "text/plain": [
       "                      Performer Name  PID\n",
       "0                               BONE    0\n",
       "1               BONE THUGS N HARMONY    1\n",
       "2  BONE THUGS N HARMONY FEAT. EAZY-E    2\n",
       "3               BONE THUGS-N-HARMONY    3\n",
       "4      BONE THUGS-N-HARMONY (EDITED)    4"
      ]
     },
     "execution_count": 46,
     "metadata": {},
     "output_type": "execute_result"
    }
   ],
   "source": [
    "comp_artists_df.head()"
   ]
  },
  {
   "cell_type": "code",
   "execution_count": 47,
   "metadata": {},
   "outputs": [],
   "source": [
    "comp_artists_df.to_csv(\"../data/comp_artists.csv\")"
   ]
  },
  {
   "cell_type": "markdown",
   "metadata": {},
   "source": [
    "#### Creating Performer / Composition Lookup Table"
   ]
  },
  {
   "cell_type": "code",
   "execution_count": 82,
   "metadata": {},
   "outputs": [
    {
     "data": {
      "text/plain": [
       "570810"
      ]
     },
     "execution_count": 82,
     "metadata": {},
     "output_type": "execute_result"
    }
   ],
   "source": [
    "len(p_df)"
   ]
  },
  {
   "cell_type": "code",
   "execution_count": 78,
   "metadata": {},
   "outputs": [],
   "source": [
    "p_df.rename({'Artist Name':'Performer Name'}, axis=1, inplace=True)"
   ]
  },
  {
   "cell_type": "code",
   "execution_count": 79,
   "metadata": {},
   "outputs": [],
   "source": [
    "p_lookup = pd.merge(p_df, comp_artists_df, on='Performer Name')"
   ]
  },
  {
   "cell_type": "code",
   "execution_count": 86,
   "metadata": {},
   "outputs": [],
   "source": [
    "p_lookup.drop('Performer Name', 1, inplace=True)"
   ]
  },
  {
   "cell_type": "code",
   "execution_count": 88,
   "metadata": {},
   "outputs": [],
   "source": [
    "p_lookup.to_csv('../data/artist_comp_lookup.csv')"
   ]
  },
  {
   "cell_type": "markdown",
   "metadata": {},
   "source": [
    "#### Creating Writer Table"
   ]
  },
  {
   "cell_type": "code",
   "execution_count": 12,
   "metadata": {},
   "outputs": [],
   "source": [
    "writers = df[['CID', 'Writers']]"
   ]
  },
  {
   "cell_type": "code",
   "execution_count": 13,
   "metadata": {},
   "outputs": [
    {
     "data": {
      "text/plain": [
       "[{'class': ['no-click'],\n",
       "  'data-writer': 'CARRABY ANTOINE ',\n",
       "  'data-id': '205786169',\n",
       "  'pro': 'BMI',\n",
       "  'ipi': '205786169'},\n",
       " {'href': 'javascript:void(0)',\n",
       "  'class': ['name'],\n",
       "  'data-writer': 'GREEN MARK ERIC',\n",
       "  'data-id': '333982644',\n",
       "  'pro': 'ASCAP',\n",
       "  'ipi': '333982644'},\n",
       " {'href': 'javascript:void(0)',\n",
       "  'class': ['name'],\n",
       "  'data-writer': 'HENDERSON ANTHONY ',\n",
       "  'data-id': '337563351',\n",
       "  'pro': 'ASCAP',\n",
       "  'ipi': '337563351'},\n",
       " {'href': 'javascript:void(0)',\n",
       "  'class': ['name'],\n",
       "  'data-writer': 'HOWSE STANLEY ',\n",
       "  'data-id': '337563939',\n",
       "  'pro': 'ASCAP',\n",
       "  'ipi': '337563939'},\n",
       " {'href': 'javascript:void(0)',\n",
       "  'class': ['name'],\n",
       "  'data-writer': 'HOWSE STEVEN ',\n",
       "  'data-id': '337564152',\n",
       "  'pro': 'ASCAP',\n",
       "  'ipi': '337564152'},\n",
       " {'href': 'javascript:void(0)',\n",
       "  'class': ['name'],\n",
       "  'data-writer': 'MC CANE BRYON ',\n",
       "  'data-id': '337567143',\n",
       "  'pro': 'ASCAP',\n",
       "  'ipi': '337567143'},\n",
       " {'href': 'javascript:void(0)',\n",
       "  'class': ['name'],\n",
       "  'data-writer': 'SCRUGGS CHARLES ',\n",
       "  'data-id': '337570160',\n",
       "  'pro': 'ASCAP',\n",
       "  'ipi': '337570160'},\n",
       " {'class': ['no-click'],\n",
       "  'data-writer': 'SMITH YOMO ',\n",
       "  'data-id': '0',\n",
       "  'pro': 'BMI',\n",
       "  'ipi': '—'},\n",
       " {'href': 'javascript:void(0)',\n",
       "  'class': ['name'],\n",
       "  'data-writer': 'WRIGHT ERIC ',\n",
       "  'data-id': '128443479',\n",
       "  'pro': 'ASCAP',\n",
       "  'ipi': '128443479'}]"
      ]
     },
     "execution_count": 13,
     "metadata": {},
     "output_type": "execute_result"
    }
   ],
   "source": [
    "writers['Writers'].iloc[0]"
   ]
  },
  {
   "cell_type": "code",
   "execution_count": 14,
   "metadata": {},
   "outputs": [],
   "source": [
    "writers_dict = {}\n",
    "count = 0\n",
    "for writer_list in writers['Writers'].values:\n",
    "    for entry in writer_list:\n",
    "        count += 1\n",
    "        writers_dict[count] = entry['data-writer'], entry['ipi'], entry['pro']"
   ]
  },
  {
   "cell_type": "code",
   "execution_count": 15,
   "metadata": {},
   "outputs": [
    {
     "data": {
      "text/plain": [
       "564706"
      ]
     },
     "execution_count": 15,
     "metadata": {},
     "output_type": "execute_result"
    }
   ],
   "source": [
    "len(writers_dict)"
   ]
  },
  {
   "cell_type": "code",
   "execution_count": 48,
   "metadata": {},
   "outputs": [
    {
     "data": {
      "text/html": [
       "<div>\n",
       "<style scoped>\n",
       "    .dataframe tbody tr th:only-of-type {\n",
       "        vertical-align: middle;\n",
       "    }\n",
       "\n",
       "    .dataframe tbody tr th {\n",
       "        vertical-align: top;\n",
       "    }\n",
       "\n",
       "    .dataframe thead th {\n",
       "        text-align: right;\n",
       "    }\n",
       "</style>\n",
       "<table border=\"1\" class=\"dataframe\">\n",
       "  <thead>\n",
       "    <tr style=\"text-align: right;\">\n",
       "      <th></th>\n",
       "      <th>Writer Name</th>\n",
       "      <th>IPI</th>\n",
       "      <th>PRO</th>\n",
       "    </tr>\n",
       "  </thead>\n",
       "  <tbody>\n",
       "    <tr>\n",
       "      <th>1</th>\n",
       "      <td>CARRABY ANTOINE</td>\n",
       "      <td>205786169</td>\n",
       "      <td>BMI</td>\n",
       "    </tr>\n",
       "    <tr>\n",
       "      <th>2</th>\n",
       "      <td>GREEN MARK ERIC</td>\n",
       "      <td>333982644</td>\n",
       "      <td>ASCAP</td>\n",
       "    </tr>\n",
       "    <tr>\n",
       "      <th>3</th>\n",
       "      <td>HENDERSON ANTHONY</td>\n",
       "      <td>337563351</td>\n",
       "      <td>ASCAP</td>\n",
       "    </tr>\n",
       "    <tr>\n",
       "      <th>4</th>\n",
       "      <td>HOWSE STANLEY</td>\n",
       "      <td>337563939</td>\n",
       "      <td>ASCAP</td>\n",
       "    </tr>\n",
       "    <tr>\n",
       "      <th>5</th>\n",
       "      <td>HOWSE STEVEN</td>\n",
       "      <td>337564152</td>\n",
       "      <td>ASCAP</td>\n",
       "    </tr>\n",
       "  </tbody>\n",
       "</table>\n",
       "</div>"
      ],
      "text/plain": [
       "          Writer Name        IPI    PRO\n",
       "1    CARRABY ANTOINE   205786169    BMI\n",
       "2     GREEN MARK ERIC  333982644  ASCAP\n",
       "3  HENDERSON ANTHONY   337563351  ASCAP\n",
       "4      HOWSE STANLEY   337563939  ASCAP\n",
       "5       HOWSE STEVEN   337564152  ASCAP"
      ]
     },
     "execution_count": 48,
     "metadata": {},
     "output_type": "execute_result"
    }
   ],
   "source": [
    "writers_df = pd.DataFrame.from_dict(writers_dict, orient='index', columns=['Writer Name', 'IPI', 'PRO'])\n",
    "writers_df.head()"
   ]
  },
  {
   "cell_type": "code",
   "execution_count": 51,
   "metadata": {},
   "outputs": [],
   "source": [
    "writers_df.drop_duplicates(inplace=True)"
   ]
  },
  {
   "cell_type": "code",
   "execution_count": 52,
   "metadata": {},
   "outputs": [
    {
     "name": "stdout",
     "output_type": "stream",
     "text": [
      "<class 'pandas.core.frame.DataFrame'>\n",
      "Int64Index: 94392 entries, 1 to 564677\n",
      "Data columns (total 3 columns):\n",
      "Writer Name    94392 non-null object\n",
      "IPI            94392 non-null object\n",
      "PRO            94392 non-null object\n",
      "dtypes: object(3)\n",
      "memory usage: 2.9+ MB\n"
     ]
    }
   ],
   "source": [
    "writers_df.info()"
   ]
  },
  {
   "cell_type": "markdown",
   "metadata": {},
   "source": [
    "##### Adding Unique ID for Writers"
   ]
  },
  {
   "cell_type": "code",
   "execution_count": 53,
   "metadata": {},
   "outputs": [],
   "source": [
    "writers_df = writers_df.reset_index().rename(columns = {'index': 'WID'})"
   ]
  },
  {
   "cell_type": "code",
   "execution_count": 54,
   "metadata": {},
   "outputs": [
    {
     "data": {
      "text/html": [
       "<div>\n",
       "<style scoped>\n",
       "    .dataframe tbody tr th:only-of-type {\n",
       "        vertical-align: middle;\n",
       "    }\n",
       "\n",
       "    .dataframe tbody tr th {\n",
       "        vertical-align: top;\n",
       "    }\n",
       "\n",
       "    .dataframe thead th {\n",
       "        text-align: right;\n",
       "    }\n",
       "</style>\n",
       "<table border=\"1\" class=\"dataframe\">\n",
       "  <thead>\n",
       "    <tr style=\"text-align: right;\">\n",
       "      <th></th>\n",
       "      <th>WID</th>\n",
       "      <th>Writer Name</th>\n",
       "      <th>IPI</th>\n",
       "      <th>PRO</th>\n",
       "    </tr>\n",
       "  </thead>\n",
       "  <tbody>\n",
       "    <tr>\n",
       "      <th>0</th>\n",
       "      <td>1</td>\n",
       "      <td>CARRABY ANTOINE</td>\n",
       "      <td>205786169</td>\n",
       "      <td>BMI</td>\n",
       "    </tr>\n",
       "    <tr>\n",
       "      <th>1</th>\n",
       "      <td>2</td>\n",
       "      <td>GREEN MARK ERIC</td>\n",
       "      <td>333982644</td>\n",
       "      <td>ASCAP</td>\n",
       "    </tr>\n",
       "    <tr>\n",
       "      <th>2</th>\n",
       "      <td>3</td>\n",
       "      <td>HENDERSON ANTHONY</td>\n",
       "      <td>337563351</td>\n",
       "      <td>ASCAP</td>\n",
       "    </tr>\n",
       "    <tr>\n",
       "      <th>3</th>\n",
       "      <td>4</td>\n",
       "      <td>HOWSE STANLEY</td>\n",
       "      <td>337563939</td>\n",
       "      <td>ASCAP</td>\n",
       "    </tr>\n",
       "    <tr>\n",
       "      <th>4</th>\n",
       "      <td>5</td>\n",
       "      <td>HOWSE STEVEN</td>\n",
       "      <td>337564152</td>\n",
       "      <td>ASCAP</td>\n",
       "    </tr>\n",
       "  </tbody>\n",
       "</table>\n",
       "</div>"
      ],
      "text/plain": [
       "   WID         Writer Name        IPI    PRO\n",
       "0    1    CARRABY ANTOINE   205786169    BMI\n",
       "1    2     GREEN MARK ERIC  333982644  ASCAP\n",
       "2    3  HENDERSON ANTHONY   337563351  ASCAP\n",
       "3    4      HOWSE STANLEY   337563939  ASCAP\n",
       "4    5       HOWSE STEVEN   337564152  ASCAP"
      ]
     },
     "execution_count": 54,
     "metadata": {},
     "output_type": "execute_result"
    }
   ],
   "source": [
    "writers_df.head()"
   ]
  },
  {
   "cell_type": "code",
   "execution_count": 55,
   "metadata": {},
   "outputs": [],
   "source": [
    "writers_df.to_csv('../data/writers.csv')"
   ]
  },
  {
   "cell_type": "markdown",
   "metadata": {},
   "source": [
    "#### Creating Writer Lookup Table"
   ]
  },
  {
   "cell_type": "code",
   "execution_count": 56,
   "metadata": {},
   "outputs": [
    {
     "data": {
      "text/html": [
       "<div>\n",
       "<style scoped>\n",
       "    .dataframe tbody tr th:only-of-type {\n",
       "        vertical-align: middle;\n",
       "    }\n",
       "\n",
       "    .dataframe tbody tr th {\n",
       "        vertical-align: top;\n",
       "    }\n",
       "\n",
       "    .dataframe thead th {\n",
       "        text-align: right;\n",
       "    }\n",
       "</style>\n",
       "<table border=\"1\" class=\"dataframe\">\n",
       "  <thead>\n",
       "    <tr style=\"text-align: right;\">\n",
       "      <th></th>\n",
       "      <th>CID</th>\n",
       "      <th>Writers</th>\n",
       "    </tr>\n",
       "  </thead>\n",
       "  <tbody>\n",
       "    <tr>\n",
       "      <th>0</th>\n",
       "      <td>0</td>\n",
       "      <td>[{'class': ['no-click'], 'data-writer': 'CARRA...</td>\n",
       "    </tr>\n",
       "    <tr>\n",
       "      <th>1</th>\n",
       "      <td>1</td>\n",
       "      <td>[{'href': 'javascript:void(0)', 'class': ['nam...</td>\n",
       "    </tr>\n",
       "    <tr>\n",
       "      <th>2</th>\n",
       "      <td>2</td>\n",
       "      <td>[{'href': 'javascript:void(0)', 'class': ['nam...</td>\n",
       "    </tr>\n",
       "    <tr>\n",
       "      <th>3</th>\n",
       "      <td>3</td>\n",
       "      <td>[{'href': 'javascript:void(0)', 'class': ['nam...</td>\n",
       "    </tr>\n",
       "    <tr>\n",
       "      <th>4</th>\n",
       "      <td>4</td>\n",
       "      <td>[{'href': 'javascript:void(0)', 'class': ['nam...</td>\n",
       "    </tr>\n",
       "  </tbody>\n",
       "</table>\n",
       "</div>"
      ],
      "text/plain": [
       "   CID                                            Writers\n",
       "0    0  [{'class': ['no-click'], 'data-writer': 'CARRA...\n",
       "1    1  [{'href': 'javascript:void(0)', 'class': ['nam...\n",
       "2    2  [{'href': 'javascript:void(0)', 'class': ['nam...\n",
       "3    3  [{'href': 'javascript:void(0)', 'class': ['nam...\n",
       "4    4  [{'href': 'javascript:void(0)', 'class': ['nam..."
      ]
     },
     "execution_count": 56,
     "metadata": {},
     "output_type": "execute_result"
    }
   ],
   "source": [
    "writers.head()"
   ]
  },
  {
   "cell_type": "code",
   "execution_count": 57,
   "metadata": {},
   "outputs": [],
   "source": [
    "cw_dict = {}\n",
    "count = 0\n",
    "for cid, writer_list in writers.values:\n",
    "    for entry in writer_list:\n",
    "        count += 1\n",
    "        cw_dict[count] = cid, entry['ipi'], entry['data-writer']"
   ]
  },
  {
   "cell_type": "code",
   "execution_count": 58,
   "metadata": {},
   "outputs": [
    {
     "data": {
      "text/plain": [
       "564706"
      ]
     },
     "execution_count": 58,
     "metadata": {},
     "output_type": "execute_result"
    }
   ],
   "source": [
    "len(cw_dict)"
   ]
  },
  {
   "cell_type": "code",
   "execution_count": 59,
   "metadata": {},
   "outputs": [],
   "source": [
    "cw_lookup = pd.DataFrame.from_dict(cw_dict, orient='index', columns=['CID', 'IPI', 'writer_name'])"
   ]
  },
  {
   "cell_type": "code",
   "execution_count": 60,
   "metadata": {},
   "outputs": [
    {
     "data": {
      "text/html": [
       "<div>\n",
       "<style scoped>\n",
       "    .dataframe tbody tr th:only-of-type {\n",
       "        vertical-align: middle;\n",
       "    }\n",
       "\n",
       "    .dataframe tbody tr th {\n",
       "        vertical-align: top;\n",
       "    }\n",
       "\n",
       "    .dataframe thead th {\n",
       "        text-align: right;\n",
       "    }\n",
       "</style>\n",
       "<table border=\"1\" class=\"dataframe\">\n",
       "  <thead>\n",
       "    <tr style=\"text-align: right;\">\n",
       "      <th></th>\n",
       "      <th>CID</th>\n",
       "      <th>IPI</th>\n",
       "      <th>writer_name</th>\n",
       "    </tr>\n",
       "  </thead>\n",
       "  <tbody>\n",
       "    <tr>\n",
       "      <th>1</th>\n",
       "      <td>0</td>\n",
       "      <td>205786169</td>\n",
       "      <td>CARRABY ANTOINE</td>\n",
       "    </tr>\n",
       "    <tr>\n",
       "      <th>2</th>\n",
       "      <td>0</td>\n",
       "      <td>333982644</td>\n",
       "      <td>GREEN MARK ERIC</td>\n",
       "    </tr>\n",
       "    <tr>\n",
       "      <th>3</th>\n",
       "      <td>0</td>\n",
       "      <td>337563351</td>\n",
       "      <td>HENDERSON ANTHONY</td>\n",
       "    </tr>\n",
       "    <tr>\n",
       "      <th>4</th>\n",
       "      <td>0</td>\n",
       "      <td>337563939</td>\n",
       "      <td>HOWSE STANLEY</td>\n",
       "    </tr>\n",
       "    <tr>\n",
       "      <th>5</th>\n",
       "      <td>0</td>\n",
       "      <td>337564152</td>\n",
       "      <td>HOWSE STEVEN</td>\n",
       "    </tr>\n",
       "    <tr>\n",
       "      <th>6</th>\n",
       "      <td>0</td>\n",
       "      <td>337567143</td>\n",
       "      <td>MC CANE BRYON</td>\n",
       "    </tr>\n",
       "    <tr>\n",
       "      <th>7</th>\n",
       "      <td>0</td>\n",
       "      <td>337570160</td>\n",
       "      <td>SCRUGGS CHARLES</td>\n",
       "    </tr>\n",
       "    <tr>\n",
       "      <th>8</th>\n",
       "      <td>0</td>\n",
       "      <td>—</td>\n",
       "      <td>SMITH YOMO</td>\n",
       "    </tr>\n",
       "    <tr>\n",
       "      <th>9</th>\n",
       "      <td>0</td>\n",
       "      <td>128443479</td>\n",
       "      <td>WRIGHT ERIC</td>\n",
       "    </tr>\n",
       "    <tr>\n",
       "      <th>10</th>\n",
       "      <td>1</td>\n",
       "      <td>129389934</td>\n",
       "      <td>BYERLEY JOEL DAVID</td>\n",
       "    </tr>\n",
       "  </tbody>\n",
       "</table>\n",
       "</div>"
      ],
      "text/plain": [
       "    CID        IPI         writer_name\n",
       "1     0  205786169    CARRABY ANTOINE \n",
       "2     0  333982644     GREEN MARK ERIC\n",
       "3     0  337563351  HENDERSON ANTHONY \n",
       "4     0  337563939      HOWSE STANLEY \n",
       "5     0  337564152       HOWSE STEVEN \n",
       "6     0  337567143      MC CANE BRYON \n",
       "7     0  337570160    SCRUGGS CHARLES \n",
       "8     0          —         SMITH YOMO \n",
       "9     0  128443479        WRIGHT ERIC \n",
       "10    1  129389934  BYERLEY JOEL DAVID"
      ]
     },
     "execution_count": 60,
     "metadata": {},
     "output_type": "execute_result"
    }
   ],
   "source": [
    "cw_lookup.head(10)"
   ]
  },
  {
   "cell_type": "code",
   "execution_count": 61,
   "metadata": {},
   "outputs": [
    {
     "data": {
      "text/plain": [
       "Index(['CID', 'IPI', 'writer_name'], dtype='object')"
      ]
     },
     "execution_count": 61,
     "metadata": {},
     "output_type": "execute_result"
    }
   ],
   "source": [
    "cw_lookup.columns"
   ]
  },
  {
   "cell_type": "code",
   "execution_count": 62,
   "metadata": {},
   "outputs": [],
   "source": [
    "cw_lookup = cw_lookup.merge(writers_df, \n",
    "                            left_on=['IPI', 'writer_name'], \n",
    "                            right_on=['IPI', 'Writer Name'])"
   ]
  },
  {
   "cell_type": "code",
   "execution_count": 64,
   "metadata": {},
   "outputs": [],
   "source": [
    "cw_lookup.drop(columns = ['IPI',\n",
    "                          'writer_name',\n",
    "                          'Writer Name',\n",
    "                          'PRO'],\n",
    "              inplace = True)"
   ]
  },
  {
   "cell_type": "code",
   "execution_count": 65,
   "metadata": {},
   "outputs": [],
   "source": [
    "cw_lookup.to_csv('../data/cw_lookup.csv')"
   ]
  }
 ],
 "metadata": {
  "kernelspec": {
   "display_name": "Python 3",
   "language": "python",
   "name": "python3"
  },
  "language_info": {
   "codemirror_mode": {
    "name": "ipython",
    "version": 3
   },
   "file_extension": ".py",
   "mimetype": "text/x-python",
   "name": "python",
   "nbconvert_exporter": "python",
   "pygments_lexer": "ipython3",
   "version": "3.6.7"
  }
 },
 "nbformat": 4,
 "nbformat_minor": 2
}
