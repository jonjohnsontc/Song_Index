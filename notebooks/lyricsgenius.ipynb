{
 "cells": [
  {
   "cell_type": "markdown",
   "metadata": {},
   "source": [
    "# Extracting Corresponding Genius Data for Songs\n",
    "\n",
    "Using the LyricsGenius [wrapper](https://github.com/johnwmillr/LyricsGenius) to access the Genius API in order to retreive songwriting details for each song utilized in this study"
   ]
  },
  {
   "cell_type": "code",
   "execution_count": null,
   "metadata": {},
   "outputs": [],
   "source": [
    "# !pip install lyricsgenius\n",
    "# !pip install psycopg2"
   ]
  },
  {
   "cell_type": "code",
   "execution_count": 38,
   "metadata": {},
   "outputs": [],
   "source": [
    "import json\n",
    "import lyricsgenius as genius\n",
    "import numpy as np\n",
    "import pandas as pd\n",
    "import pickle\n",
    "import psycopg2 as pg2\n",
    "from psycopg2.extras import RealDictCursor, Json\n",
    "import time"
   ]
  },
  {
   "cell_type": "code",
   "execution_count": 4,
   "metadata": {},
   "outputs": [],
   "source": [
    "api = genius.Genius('b9cxICX3BUl-Ioj6v2O9tX-RoLTvsZ5V1LSrWIMSAV0CBDDP7r86oXqX8wbXfXgT')"
   ]
  },
  {
   "cell_type": "markdown",
   "metadata": {},
   "source": [
    "##### Example Submissions"
   ]
  },
  {
   "cell_type": "code",
   "execution_count": 5,
   "metadata": {},
   "outputs": [
    {
     "name": "stdout",
     "output_type": "stream",
     "text": [
      "Searching for \"Tearin' up My Heart - Radio Edit\" by N SYNC...\n",
      "Done.\n"
     ]
    }
   ],
   "source": [
    "example = api.search_song(\"Tearin' up My Heart - Radio Edit\", artist_name='N SYNC')"
   ]
  },
  {
   "cell_type": "code",
   "execution_count": 30,
   "metadata": {},
   "outputs": [
    {
     "name": "stdout",
     "output_type": "stream",
     "text": [
      "Searching for songs by Weird Al Yankovic...\n",
      "\n",
      "Song 1: \"Achy Breaky Song\"\n",
      "Song 2: \"A Complicated Song\"\n",
      "\n",
      "Reached user-specified song limit (2).\n",
      "Found 2 songs.\n",
      "Done.\n"
     ]
    }
   ],
   "source": [
    "example = api.search_artist('Weird Al Yankovic', max_songs=2)"
   ]
  },
  {
   "cell_type": "code",
   "execution_count": 34,
   "metadata": {},
   "outputs": [
    {
     "data": {
      "text/plain": [
       "('A Complicated Song', '\"Weird Al\" Yankovic')"
      ]
     },
     "execution_count": 34,
     "metadata": {},
     "output_type": "execute_result"
    }
   ],
   "source": [
    "example.songs[1]"
   ]
  },
  {
   "cell_type": "markdown",
   "metadata": {},
   "source": [
    "#### Retreiving Spotipy Song List"
   ]
  },
  {
   "cell_type": "markdown",
   "metadata": {},
   "source": [
    "Given the Genius API, retreiving all of the tracks that I need via a song search is going to be too difficult. Therefore, I am going to retreive all songs per artist that I've searched."
   ]
  },
  {
   "cell_type": "markdown",
   "metadata": {},
   "source": [
    "#### Retreiving Spotipy Artist List"
   ]
  },
  {
   "cell_type": "code",
   "execution_count": 8,
   "metadata": {},
   "outputs": [],
   "source": [
    "with open('../pickle/artist_list_td.pkl', 'rb+') as f:\n",
    "    artist_list = pickle.load(f)"
   ]
  },
  {
   "cell_type": "code",
   "execution_count": 9,
   "metadata": {},
   "outputs": [
    {
     "data": {
      "text/plain": [
       "[\"'N SYNC\", '\"WEIRD AL\" YANKOVIC', '10 YEARS', '10,000 MANIACS', '112']"
      ]
     },
     "execution_count": 9,
     "metadata": {},
     "output_type": "execute_result"
    }
   ],
   "source": [
    "artist_list[:5]"
   ]
  },
  {
   "cell_type": "code",
   "execution_count": 14,
   "metadata": {},
   "outputs": [],
   "source": [
    "df = pd.read_csv('../data/spotify_artists_clean.csv', index_col=0)"
   ]
  },
  {
   "cell_type": "code",
   "execution_count": 15,
   "metadata": {},
   "outputs": [
    {
     "data": {
      "text/html": [
       "<div>\n",
       "<style scoped>\n",
       "    .dataframe tbody tr th:only-of-type {\n",
       "        vertical-align: middle;\n",
       "    }\n",
       "\n",
       "    .dataframe tbody tr th {\n",
       "        vertical-align: top;\n",
       "    }\n",
       "\n",
       "    .dataframe thead th {\n",
       "        text-align: right;\n",
       "    }\n",
       "</style>\n",
       "<table border=\"1\" class=\"dataframe\">\n",
       "  <thead>\n",
       "    <tr style=\"text-align: right;\">\n",
       "      <th></th>\n",
       "      <th>external_urls</th>\n",
       "      <th>genres</th>\n",
       "      <th>href</th>\n",
       "      <th>id</th>\n",
       "      <th>images</th>\n",
       "      <th>name</th>\n",
       "      <th>popularity</th>\n",
       "      <th>type</th>\n",
       "      <th>uri</th>\n",
       "      <th>followers_2</th>\n",
       "    </tr>\n",
       "  </thead>\n",
       "  <tbody>\n",
       "    <tr>\n",
       "      <th>0</th>\n",
       "      <td>{'spotify': 'https://open.spotify.com/artist/6...</td>\n",
       "      <td>['boy band', 'dance pop', 'europop', 'pop', 'p...</td>\n",
       "      <td>https://api.spotify.com/v1/artists/6Ff53KvcvAj...</td>\n",
       "      <td>6Ff53KvcvAj5U7Z1vojB5o</td>\n",
       "      <td>[{'height': 1173, 'url': 'https://i.scdn.co/im...</td>\n",
       "      <td>*NSYNC</td>\n",
       "      <td>71</td>\n",
       "      <td>artist</td>\n",
       "      <td>spotify:artist:6Ff53KvcvAj5U7Z1vojB5o</td>\n",
       "      <td>747136</td>\n",
       "    </tr>\n",
       "    <tr>\n",
       "      <th>1</th>\n",
       "      <td>{'spotify': 'https://open.spotify.com/artist/1...</td>\n",
       "      <td>['antiviral pop', 'comedy rock', 'comic']</td>\n",
       "      <td>https://api.spotify.com/v1/artists/1bDWGdIC2ha...</td>\n",
       "      <td>1bDWGdIC2hardyt55nlQgG</td>\n",
       "      <td>[{'height': 563, 'url': 'https://i.scdn.co/ima...</td>\n",
       "      <td>\"Weird Al\" Yankovic</td>\n",
       "      <td>59</td>\n",
       "      <td>artist</td>\n",
       "      <td>spotify:artist:1bDWGdIC2hardyt55nlQgG</td>\n",
       "      <td>337751</td>\n",
       "    </tr>\n",
       "    <tr>\n",
       "      <th>2</th>\n",
       "      <td>{'spotify': 'https://open.spotify.com/artist/0...</td>\n",
       "      <td>['alternative metal', 'nu metal', 'post-grunge...</td>\n",
       "      <td>https://api.spotify.com/v1/artists/0REMf7H0VP6...</td>\n",
       "      <td>0REMf7H0VP6DwfZ9MbuWph</td>\n",
       "      <td>[{'height': 640, 'url': 'https://i.scdn.co/ima...</td>\n",
       "      <td>10 Years</td>\n",
       "      <td>60</td>\n",
       "      <td>artist</td>\n",
       "      <td>spotify:artist:0REMf7H0VP6DwfZ9MbuWph</td>\n",
       "      <td>243895</td>\n",
       "    </tr>\n",
       "    <tr>\n",
       "      <th>3</th>\n",
       "      <td>{'spotify': 'https://open.spotify.com/artist/0...</td>\n",
       "      <td>['alternative rock', 'folk', 'folk-pop', 'lili...</td>\n",
       "      <td>https://api.spotify.com/v1/artists/0MBIKH9DjtB...</td>\n",
       "      <td>0MBIKH9DjtBkv8O3nS6szj</td>\n",
       "      <td>[{'height': 640, 'url': 'https://i.scdn.co/ima...</td>\n",
       "      <td>10,000 Maniacs</td>\n",
       "      <td>52</td>\n",
       "      <td>artist</td>\n",
       "      <td>spotify:artist:0MBIKH9DjtBkv8O3nS6szj</td>\n",
       "      <td>108829</td>\n",
       "    </tr>\n",
       "    <tr>\n",
       "      <th>4</th>\n",
       "      <td>{'spotify': 'https://open.spotify.com/artist/7...</td>\n",
       "      <td>['boy band', 'dance pop', 'gangster rap', 'hip...</td>\n",
       "      <td>https://api.spotify.com/v1/artists/7urq0VfqxEY...</td>\n",
       "      <td>7urq0VfqxEYEEiZUkebXT4</td>\n",
       "      <td>[{'height': 130, 'url': 'https://i.scdn.co/ima...</td>\n",
       "      <td>112</td>\n",
       "      <td>68</td>\n",
       "      <td>artist</td>\n",
       "      <td>spotify:artist:7urq0VfqxEYEEiZUkebXT4</td>\n",
       "      <td>455231</td>\n",
       "    </tr>\n",
       "  </tbody>\n",
       "</table>\n",
       "</div>"
      ],
      "text/plain": [
       "                                       external_urls  \\\n",
       "0  {'spotify': 'https://open.spotify.com/artist/6...   \n",
       "1  {'spotify': 'https://open.spotify.com/artist/1...   \n",
       "2  {'spotify': 'https://open.spotify.com/artist/0...   \n",
       "3  {'spotify': 'https://open.spotify.com/artist/0...   \n",
       "4  {'spotify': 'https://open.spotify.com/artist/7...   \n",
       "\n",
       "                                              genres  \\\n",
       "0  ['boy band', 'dance pop', 'europop', 'pop', 'p...   \n",
       "1          ['antiviral pop', 'comedy rock', 'comic']   \n",
       "2  ['alternative metal', 'nu metal', 'post-grunge...   \n",
       "3  ['alternative rock', 'folk', 'folk-pop', 'lili...   \n",
       "4  ['boy band', 'dance pop', 'gangster rap', 'hip...   \n",
       "\n",
       "                                                href                      id  \\\n",
       "0  https://api.spotify.com/v1/artists/6Ff53KvcvAj...  6Ff53KvcvAj5U7Z1vojB5o   \n",
       "1  https://api.spotify.com/v1/artists/1bDWGdIC2ha...  1bDWGdIC2hardyt55nlQgG   \n",
       "2  https://api.spotify.com/v1/artists/0REMf7H0VP6...  0REMf7H0VP6DwfZ9MbuWph   \n",
       "3  https://api.spotify.com/v1/artists/0MBIKH9DjtB...  0MBIKH9DjtBkv8O3nS6szj   \n",
       "4  https://api.spotify.com/v1/artists/7urq0VfqxEY...  7urq0VfqxEYEEiZUkebXT4   \n",
       "\n",
       "                                              images                 name  \\\n",
       "0  [{'height': 1173, 'url': 'https://i.scdn.co/im...               *NSYNC   \n",
       "1  [{'height': 563, 'url': 'https://i.scdn.co/ima...  \"Weird Al\" Yankovic   \n",
       "2  [{'height': 640, 'url': 'https://i.scdn.co/ima...             10 Years   \n",
       "3  [{'height': 640, 'url': 'https://i.scdn.co/ima...       10,000 Maniacs   \n",
       "4  [{'height': 130, 'url': 'https://i.scdn.co/ima...                  112   \n",
       "\n",
       "   popularity    type                                    uri  followers_2  \n",
       "0          71  artist  spotify:artist:6Ff53KvcvAj5U7Z1vojB5o       747136  \n",
       "1          59  artist  spotify:artist:1bDWGdIC2hardyt55nlQgG       337751  \n",
       "2          60  artist  spotify:artist:0REMf7H0VP6DwfZ9MbuWph       243895  \n",
       "3          52  artist  spotify:artist:0MBIKH9DjtBkv8O3nS6szj       108829  \n",
       "4          68  artist  spotify:artist:7urq0VfqxEYEEiZUkebXT4       455231  "
      ]
     },
     "execution_count": 15,
     "metadata": {},
     "output_type": "execute_result"
    }
   ],
   "source": [
    "df.head()"
   ]
  },
  {
   "cell_type": "code",
   "execution_count": null,
   "metadata": {},
   "outputs": [],
   "source": [
    "sw_list = []\n",
    "\n",
    "for artist in df['name']:\n",
    "    try:\n",
    "        songs = api.search_artist(artist)\n",
    "        i = 0\n",
    "        for i in songs.songs[i]:\n",
    "            try:\n",
    "                sw_list.append((sw_list.songs.songs[i],\n",
    "                               songs.songs[i].writer_artists))\n",
    "            except:\n",
    "                sw_list.append((artist, 'song not found'))\n",
    "        time.sleep(0.5)\n",
    "    except:\n",
    "        sw_list.append((artist, 'songs not found'))"
   ]
  },
  {
   "cell_type": "markdown",
   "metadata": {},
   "source": [
    "#### Connecting to postgres Database"
   ]
  },
  {
   "cell_type": "code",
   "execution_count": 25,
   "metadata": {},
   "outputs": [],
   "source": [
    "def con_cur_to_db(dbname='postgres'):\n",
    "    ''' \n",
    "    Returns both a connection and a cursor object for your database\n",
    "    '''\n",
    "\n",
    "    con = pg2.connect(host=\"54.218.249.164\",\n",
    "                  dbname=\"postgres\",\n",
    "                  user=\"postgres\",\n",
    "                  password=\"glide-mortuary-pod-cloy-belong\")\n",
    "    cur = con.cursor()\n",
    "    return con, cur"
   ]
  },
  {
   "cell_type": "code",
   "execution_count": 29,
   "metadata": {},
   "outputs": [],
   "source": [
    "con, cur = con_cur_to_db(dbname='postgres')"
   ]
  },
  {
   "cell_type": "code",
   "execution_count": null,
   "metadata": {},
   "outputs": [],
   "source": []
  }
 ],
 "metadata": {
  "kernelspec": {
   "display_name": "Python 3",
   "language": "python",
   "name": "python3"
  },
  "language_info": {
   "codemirror_mode": {
    "name": "ipython",
    "version": 3
   },
   "file_extension": ".py",
   "mimetype": "text/x-python",
   "name": "python",
   "nbconvert_exporter": "python",
   "pygments_lexer": "ipython3",
   "version": "3.6.3"
  }
 },
 "nbformat": 4,
 "nbformat_minor": 2
}
