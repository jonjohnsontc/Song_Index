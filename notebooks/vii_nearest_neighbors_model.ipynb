{
 "cells": [
  {
   "cell_type": "markdown",
   "metadata": {},
   "source": [
    "# Computing Nearest Neighbors Model for Songwriter Dataset"
   ]
  },
  {
   "cell_type": "code",
   "execution_count": 1,
   "metadata": {},
   "outputs": [],
   "source": [
    "from collections import Counter\n",
    "import json\n",
    "import pickle\n",
    "\n",
    "import dask\n",
    "import dask.dataframe as dd\n",
    "import numpy as np\n",
    "import pandas as pd\n",
    "\n",
    "from sklearn.neighbors import NearestNeighbors, kneighbors_graph"
   ]
  },
  {
   "cell_type": "markdown",
   "metadata": {},
   "source": [
    "## Table of Contents\n",
    "\n",
    "1. Loading Data\n",
    "2. Computing Nearest Neighbors\n",
    "3. Instituting Voting"
   ]
  },
  {
   "cell_type": "markdown",
   "metadata": {},
   "source": [
    "## 1. Loading Data"
   ]
  },
  {
   "cell_type": "code",
   "execution_count": 2,
   "metadata": {},
   "outputs": [],
   "source": [
    "df = pd.read_csv('../data/interim/scaled_ddf_201901516.csv',\n",
    "                 index_col = 0)"
   ]
  },
  {
   "cell_type": "markdown",
   "metadata": {},
   "source": [
    "## 2. Computing Nearest Neighbors"
   ]
  },
  {
   "cell_type": "code",
   "execution_count": 3,
   "metadata": {},
   "outputs": [],
   "source": [
    "nn = NearestNeighbors(n_neighbors=10,\n",
    "                      metric = 'euclidean')"
   ]
  },
  {
   "cell_type": "code",
   "execution_count": 4,
   "metadata": {},
   "outputs": [],
   "source": [
    "fit_df = nn.fit(df)"
   ]
  },
  {
   "cell_type": "code",
   "execution_count": null,
   "metadata": {},
   "outputs": [],
   "source": [
    "euclidean_distances, euclidean_indices = nn.kneighbors(df)"
   ]
  },
  {
   "cell_type": "code",
   "execution_count": null,
   "metadata": {},
   "outputs": [],
   "source": [
    "euclidean_distances.tofile('../data/final_model_test/distances_20190428.fid')\n",
    "euclidean_indices.tofile('../data/final_model_test/indices_20190428.fid')"
   ]
  },
  {
   "cell_type": "code",
   "execution_count": null,
   "metadata": {},
   "outputs": [],
   "source": [
    "import os\n",
    "\n",
    "os.getcwd()"
   ]
  },
  {
   "cell_type": "code",
   "execution_count": null,
   "metadata": {},
   "outputs": [],
   "source": [
    "os.chdir('../data/')"
   ]
  },
  {
   "cell_type": "code",
   "execution_count": null,
   "metadata": {},
   "outputs": [],
   "source": [
    "os.mkdir('final_model_test')"
   ]
  },
  {
   "cell_type": "code",
   "execution_count": null,
   "metadata": {},
   "outputs": [],
   "source": [
    "os.chdir('../notebooks')"
   ]
  },
  {
   "cell_type": "code",
   "execution_count": null,
   "metadata": {},
   "outputs": [],
   "source": [
    "distances.tofile('../data/final_model_test/distances_20190424.fid')\n",
    "indices.tofile('../data/final_model_test/indices_20190424.fid')"
   ]
  },
  {
   "cell_type": "markdown",
   "metadata": {},
   "source": [
    "### 2a. Merging Observations with Indices and Distances"
   ]
  },
  {
   "cell_type": "code",
   "execution_count": null,
   "metadata": {},
   "outputs": [],
   "source": [
    "euclidean_distances = np.fromfile('../data/final_model_test/distances_20190428.fid')\n",
    "euclidean_indices = np.fromfile('../data/final_model_test/indices_20190428.fid')"
   ]
  },
  {
   "cell_type": "code",
   "execution_count": null,
   "metadata": {},
   "outputs": [],
   "source": [
    "euclidean_indices.astype(np.int16)[:900]"
   ]
  },
  {
   "cell_type": "code",
   "execution_count": null,
   "metadata": {},
   "outputs": [],
   "source": [
    "euclidean_distances.astype(np.int16)[:60]"
   ]
  },
  {
   "cell_type": "code",
   "execution_count": null,
   "metadata": {},
   "outputs": [],
   "source": [
    "distances = np.fromfile('../data/final_model_test/distances_20190424.fid')\n",
    "indices = np.fromfile('../data/final_model_test/indices_20190424.fid')"
   ]
  },
  {
   "cell_type": "code",
   "execution_count": null,
   "metadata": {},
   "outputs": [],
   "source": [
    "distances.shape"
   ]
  },
  {
   "cell_type": "code",
   "execution_count": null,
   "metadata": {},
   "outputs": [],
   "source": [
    "df_distances = pd.DataFrame(np.vstack(np.split(euclidean_distances, 462965)))\n",
    "df_indices = pd.DataFrame(np.vstack(np.split(euclidean_indices, 462965)))"
   ]
  },
  {
   "cell_type": "code",
   "execution_count": null,
   "metadata": {},
   "outputs": [],
   "source": [
    "df_distances.shape"
   ]
  },
  {
   "cell_type": "code",
   "execution_count": null,
   "metadata": {},
   "outputs": [],
   "source": [
    "df_indices.shape"
   ]
  },
  {
   "cell_type": "code",
   "execution_count": null,
   "metadata": {},
   "outputs": [],
   "source": [
    "X_distances = pd.concat([df[['track_id',\n",
    "                             'Song Title',\n",
    "                             'artist_name',\n",
    "                             'Writer Name',\n",
    "                             'WID']],\n",
    "                         df_distances],\n",
    "                        axis = 1)"
   ]
  },
  {
   "cell_type": "code",
   "execution_count": null,
   "metadata": {},
   "outputs": [],
   "source": [
    "X_indices = pd.concat([df[['track_id',\n",
    "                             'Song Title',\n",
    "                             'artist_name',\n",
    "                             'Writer Name',\n",
    "                             'WID']],\n",
    "                         df_indices],\n",
    "                        axis = 1)"
   ]
  },
  {
   "cell_type": "code",
   "execution_count": null,
   "metadata": {},
   "outputs": [],
   "source": [
    "X_distances.head()"
   ]
  },
  {
   "cell_type": "code",
   "execution_count": null,
   "metadata": {},
   "outputs": [],
   "source": [
    "X_indices.head()"
   ]
  },
  {
   "cell_type": "code",
   "execution_count": null,
   "metadata": {},
   "outputs": [],
   "source": [
    "X_indices.iloc[146]"
   ]
  },
  {
   "cell_type": "markdown",
   "metadata": {},
   "source": [
    "### 3. Determing Voting Mechanism"
   ]
  },
  {
   "cell_type": "code",
   "execution_count": null,
   "metadata": {},
   "outputs": [],
   "source": [
    "X_voters = X_indices[['WID',\n",
    "                      0,\n",
    "                      1,\n",
    "                      2,\n",
    "                      3,\n",
    "                      4,\n",
    "                      5,\n",
    "                      6,\n",
    "                      7,\n",
    "                      8,\n",
    "                      9]]"
   ]
  },
  {
   "cell_type": "code",
   "execution_count": null,
   "metadata": {},
   "outputs": [],
   "source": [
    "X_voters.columns"
   ]
  },
  {
   "cell_type": "code",
   "execution_count": null,
   "metadata": {},
   "outputs": [],
   "source": [
    "X_voters_dict = X_voters.to_dict(orient = 'index')"
   ]
  },
  {
   "cell_type": "code",
   "execution_count": null,
   "metadata": {},
   "outputs": [],
   "source": [
    "X_voters_dict[0]"
   ]
  },
  {
   "cell_type": "code",
   "execution_count": null,
   "metadata": {},
   "outputs": [],
   "source": [
    "index_wid_dct = df['WID'].to_dict()"
   ]
  },
  {
   "cell_type": "code",
   "execution_count": null,
   "metadata": {},
   "outputs": [],
   "source": [
    "(355, 7280) in index_wid_dct.items()"
   ]
  },
  {
   "cell_type": "code",
   "execution_count": null,
   "metadata": {},
   "outputs": [],
   "source": [
    "len(index_wid_dct)"
   ]
  },
  {
   "cell_type": "code",
   "execution_count": null,
   "metadata": {},
   "outputs": [],
   "source": [
    "def index_to_wid_mapping(df):\n",
    "    index_wid_dict = df['WID'].to_dict()\n",
    "    just_voters_df = df.drop('WID', axis = 1)\n",
    "    new_voters_dict = {i:[] for i in range(len(just_voters_df))}\n",
    "    \n",
    "    count = 0\n",
    "    for entry in just_voters_df.itertuples():\n",
    "        for item in entry[:]:\n",
    "            if item in index_wid_dict:\n",
    "                new_voters_dict[count].append(index_wid_dict[item])\n",
    "        count += 1\n",
    "    \n",
    "    new_voters_df = pd.DataFrame.from_dict(new_voters_dict,\n",
    "                                           orient= 'index',\n",
    "                                           columns = [i for i in range(11)])\n",
    "    \n",
    "    new_voters_df = pd.concat([pd.DataFrame.from_dict(index_wid_dict,\n",
    "                                                      orient = 'index',\n",
    "                                                      columns = ['WID']),\n",
    "                               new_voters_df], axis = 1)\n",
    "\n",
    "    return new_voters_df"
   ]
  },
  {
   "cell_type": "code",
   "execution_count": null,
   "metadata": {},
   "outputs": [],
   "source": [
    "X_voters_2 = index_to_wid_mapping(X_voters)"
   ]
  },
  {
   "cell_type": "code",
   "execution_count": null,
   "metadata": {},
   "outputs": [],
   "source": [
    "df[df['WID'] == 35426]"
   ]
  },
  {
   "cell_type": "code",
   "execution_count": null,
   "metadata": {},
   "outputs": [],
   "source": [
    "X_voters[X_voters['WID'] == 105444]"
   ]
  },
  {
   "cell_type": "code",
   "execution_count": null,
   "metadata": {},
   "outputs": [],
   "source": [
    "X_voters_2[X_voters_2['WID'] == 105444]"
   ]
  },
  {
   "cell_type": "code",
   "execution_count": null,
   "metadata": {},
   "outputs": [],
   "source": [
    "def count_vals(df):\n",
    "    id_dict = {wid : Counter() for wid in df['WID'].unique()}\n",
    "    for entry in df.itertuples():\n",
    "            id_dict[entry[1]].update(entry[2:])\n",
    "    return id_dict"
   ]
  },
  {
   "cell_type": "code",
   "execution_count": null,
   "metadata": {},
   "outputs": [],
   "source": [
    "# with just index values\n",
    "\n",
    "count_df = count_vals(X_voters)"
   ]
  },
  {
   "cell_type": "code",
   "execution_count": null,
   "metadata": {},
   "outputs": [],
   "source": [
    "# with WID values instead of index values\n",
    "\n",
    "count_df_2 = count_vals(X_voters_2)"
   ]
  },
  {
   "cell_type": "code",
   "execution_count": null,
   "metadata": {},
   "outputs": [],
   "source": [
    "count_df[7280].most_common(10)"
   ]
  },
  {
   "cell_type": "code",
   "execution_count": null,
   "metadata": {},
   "outputs": [],
   "source": [
    "count_df_2[1940].most_common(10)"
   ]
  },
  {
   "cell_type": "code",
   "execution_count": null,
   "metadata": {},
   "outputs": [],
   "source": [
    "count_df_2.keys()"
   ]
  },
  {
   "cell_type": "markdown",
   "metadata": {},
   "source": [
    "##### Saving Writer Count Dict to File"
   ]
  },
  {
   "cell_type": "code",
   "execution_count": null,
   "metadata": {},
   "outputs": [],
   "source": [
    "with open('../data/final_model_test/writer_count_dict_20190504.pkl', 'wb') as f:\n",
    "    pickle.dump(count_df_2, f)"
   ]
  },
  {
   "cell_type": "markdown",
   "metadata": {},
   "source": [
    "#### 3a. Mapping Votes back Against Writers"
   ]
  },
  {
   "cell_type": "code",
   "execution_count": null,
   "metadata": {},
   "outputs": [],
   "source": [
    "# Will need to update this function as I figure out the logic for this algo\n",
    "\n",
    "def combine_writer_counts_and_info(count_dict, writer_df):\n",
    "    \n",
    "    top_12_dict = {wid : {'writer_name' : '',\n",
    "                          'ipi' : '',\n",
    "                          'top_matches' : ''}\\\n",
    "                   for wid in count_dict.keys()}\n",
    "    \n",
    "    # Retreive Top 12 Results for each Songwriter\n",
    "    for entry in count_dict:\n",
    "        top_12_dict[entry]['top_matches'] = count_dict[entry].most_common(12)\n",
    "    \n",
    "    # add writer name and info to dictionary\n",
    "    for wid in top_12_dict:\n",
    "        if wid in writer_df['WID']:\n",
    "            top_12_dict[wid]['writer_name']\\\n",
    "            = writer_df['Writer Name'][writer_df['WID'] == wid].values[0]\n",
    "            top_12_dict[wid]['ipi']\\\n",
    "            = writer_df['IPI'][writer_df['WID'] == wid].values[0]\n",
    "    \n",
    "    return top_12_dict"
   ]
  },
  {
   "cell_type": "code",
   "execution_count": null,
   "metadata": {},
   "outputs": [],
   "source": [
    "top_12s = combine_writer_counts_and_info(count_df_2, writers)"
   ]
  },
  {
   "cell_type": "code",
   "execution_count": null,
   "metadata": {},
   "outputs": [],
   "source": [
    "top_12s[4692]"
   ]
  },
  {
   "cell_type": "code",
   "execution_count": null,
   "metadata": {},
   "outputs": [],
   "source": [
    "writers = pd.read_csv('../data/writers.csv', index_col = 0)"
   ]
  }
 ],
 "metadata": {
  "kernelspec": {
   "display_name": "Python 3",
   "language": "python",
   "name": "python3"
  },
  "language_info": {
   "codemirror_mode": {
    "name": "ipython",
    "version": 3
   },
   "file_extension": ".py",
   "mimetype": "text/x-python",
   "name": "python",
   "nbconvert_exporter": "python",
   "pygments_lexer": "ipython3",
   "version": "3.7.3"
  }
 },
 "nbformat": 4,
 "nbformat_minor": 2
}
