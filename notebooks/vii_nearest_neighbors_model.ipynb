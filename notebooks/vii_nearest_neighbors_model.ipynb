{
 "cells": [
  {
   "cell_type": "markdown",
   "metadata": {},
   "source": [
    "# Computing Nearest Neighbors Model for Songwriter Dataset"
   ]
  },
  {
   "cell_type": "code",
   "execution_count": 1,
   "metadata": {},
   "outputs": [],
   "source": [
    "from collections import Counter\n",
    "import json\n",
    "import pickle\n",
    "\n",
    "import dask\n",
    "import dask.dataframe as dd\n",
    "from dask_ml.wrappers import Incremental\n",
    "\n",
    "import numpy as np\n",
    "import pandas as pd\n",
    "\n",
    "from sklearn.neighbors import NearestNeighbors, kneighbors_graph\n",
    "from sklearn.externals import joblib\n",
    "from scipy.spatial.distance import jaccard"
   ]
  },
  {
   "cell_type": "markdown",
   "metadata": {},
   "source": [
    "## Table of Contents\n",
    "\n",
    "1. Loading Data\n",
    "2. Computing Nearest Neighbors\n",
    "3. Instituting Voting"
   ]
  },
  {
   "cell_type": "markdown",
   "metadata": {},
   "source": [
    "## 1. Loading Data"
   ]
  },
  {
   "cell_type": "code",
   "execution_count": null,
   "metadata": {},
   "outputs": [],
   "source": [
    "print('hello')"
   ]
  },
  {
   "cell_type": "code",
   "execution_count": 2,
   "metadata": {},
   "outputs": [],
   "source": [
    "ddf = dd.read_csv('../data/interim/scaled_ddf_201901516.csv')\\\n",
    "        .rename(columns = {'Unnamed: 0' : 'index'})\\\n",
    "        .set_index('index')"
   ]
  },
  {
   "cell_type": "markdown",
   "metadata": {},
   "source": [
    "### 1a. Loading Labels "
   ]
  },
  {
   "cell_type": "code",
   "execution_count": 3,
   "metadata": {},
   "outputs": [],
   "source": [
    "df = pd.read_csv('../data/interim/non_normalized_tracks_20190516.csv',\n",
    "                 index_col = 0)"
   ]
  },
  {
   "cell_type": "code",
   "execution_count": 4,
   "metadata": {},
   "outputs": [
    {
     "data": {
      "text/plain": [
       "(577426, 144)"
      ]
     },
     "execution_count": 4,
     "metadata": {},
     "output_type": "execute_result"
    }
   ],
   "source": [
    "df.shape"
   ]
  },
  {
   "cell_type": "code",
   "execution_count": 5,
   "metadata": {},
   "outputs": [],
   "source": [
    "df_labels = df[[\n",
    "                'track_id',\n",
    "                'Song Title',\n",
    "                'Artist',\n",
    "                'artist_id',\n",
    "                'name',\n",
    "                'popularity',\n",
    "                'followers',\n",
    "                'artist_name',\n",
    "                'song_id',\n",
    "                'song_title',\n",
    "                'CID',\n",
    "                'WID',\n",
    "                'PID',\n",
    "                'Title',\n",
    "                'Performer Name',\n",
    "                'Writer Name',\n",
    "                'IPI',\n",
    "                'PRO'\n",
    "            ]]"
   ]
  },
  {
   "cell_type": "markdown",
   "metadata": {},
   "source": [
    "## 2. Computing Nearest Neighbors"
   ]
  },
  {
   "cell_type": "code",
   "execution_count": 6,
   "metadata": {},
   "outputs": [],
   "source": [
    "nn = NearestNeighbors(n_neighbors=10,\n",
    "                      metric = 'jaccard')"
   ]
  },
  {
   "cell_type": "code",
   "execution_count": null,
   "metadata": {},
   "outputs": [],
   "source": [
    "nn.fit()"
   ]
  },
  {
   "cell_type": "code",
   "execution_count": 7,
   "metadata": {},
   "outputs": [],
   "source": [
    "nn_incremental = Incremental(nn)"
   ]
  },
  {
   "cell_type": "code",
   "execution_count": 8,
   "metadata": {},
   "outputs": [
    {
     "ename": "TypeError",
     "evalue": "If no scoring is specified, the estimator passed should have a 'score' method. The estimator NearestNeighbors(algorithm='auto', leaf_size=30, metric='jaccard',\n         metric_params=None, n_jobs=None, n_neighbors=10, p=2, radius=1.0) does not.",
     "output_type": "error",
     "traceback": [
      "\u001b[0;31m---------------------------------------------------------------------------\u001b[0m",
      "\u001b[0;31mTypeError\u001b[0m                                 Traceback (most recent call last)",
      "\u001b[0;32m<ipython-input-8-92a351f3d324>\u001b[0m in \u001b[0;36m<module>\u001b[0;34m\u001b[0m\n\u001b[0;32m----> 1\u001b[0;31m \u001b[0mfit_ddf\u001b[0m \u001b[0;34m=\u001b[0m \u001b[0mnn_incremental\u001b[0m\u001b[0;34m.\u001b[0m\u001b[0mfit\u001b[0m\u001b[0;34m(\u001b[0m\u001b[0mddf\u001b[0m\u001b[0;34m)\u001b[0m\u001b[0;34m\u001b[0m\u001b[0;34m\u001b[0m\u001b[0m\n\u001b[0m",
      "\u001b[0;32m/opt/conda/lib/python3.7/site-packages/dask_ml/wrappers.py\u001b[0m in \u001b[0;36mfit\u001b[0;34m(self, X, y, **fit_kwargs)\u001b[0m\n\u001b[1;32m    483\u001b[0m     \u001b[0;32mdef\u001b[0m \u001b[0mfit\u001b[0m\u001b[0;34m(\u001b[0m\u001b[0mself\u001b[0m\u001b[0;34m,\u001b[0m \u001b[0mX\u001b[0m\u001b[0;34m,\u001b[0m \u001b[0my\u001b[0m\u001b[0;34m=\u001b[0m\u001b[0;32mNone\u001b[0m\u001b[0;34m,\u001b[0m \u001b[0;34m**\u001b[0m\u001b[0mfit_kwargs\u001b[0m\u001b[0;34m)\u001b[0m\u001b[0;34m:\u001b[0m\u001b[0;34m\u001b[0m\u001b[0;34m\u001b[0m\u001b[0m\n\u001b[1;32m    484\u001b[0m         \u001b[0mestimator\u001b[0m \u001b[0;34m=\u001b[0m \u001b[0msklearn\u001b[0m\u001b[0;34m.\u001b[0m\u001b[0mbase\u001b[0m\u001b[0;34m.\u001b[0m\u001b[0mclone\u001b[0m\u001b[0;34m(\u001b[0m\u001b[0mself\u001b[0m\u001b[0;34m.\u001b[0m\u001b[0mestimator\u001b[0m\u001b[0;34m)\u001b[0m\u001b[0;34m\u001b[0m\u001b[0;34m\u001b[0m\u001b[0m\n\u001b[0;32m--> 485\u001b[0;31m         \u001b[0mself\u001b[0m\u001b[0;34m.\u001b[0m\u001b[0m_fit_for_estimator\u001b[0m\u001b[0;34m(\u001b[0m\u001b[0mestimator\u001b[0m\u001b[0;34m,\u001b[0m \u001b[0mX\u001b[0m\u001b[0;34m,\u001b[0m \u001b[0my\u001b[0m\u001b[0;34m,\u001b[0m \u001b[0;34m**\u001b[0m\u001b[0mfit_kwargs\u001b[0m\u001b[0;34m)\u001b[0m\u001b[0;34m\u001b[0m\u001b[0;34m\u001b[0m\u001b[0m\n\u001b[0m\u001b[1;32m    486\u001b[0m         \u001b[0;32mreturn\u001b[0m \u001b[0mself\u001b[0m\u001b[0;34m\u001b[0m\u001b[0;34m\u001b[0m\u001b[0m\n\u001b[1;32m    487\u001b[0m \u001b[0;34m\u001b[0m\u001b[0m\n",
      "\u001b[0;32m/opt/conda/lib/python3.7/site-packages/dask_ml/wrappers.py\u001b[0m in \u001b[0;36m_fit_for_estimator\u001b[0;34m(self, estimator, X, y, **fit_kwargs)\u001b[0m\n\u001b[1;32m    464\u001b[0m \u001b[0;34m\u001b[0m\u001b[0m\n\u001b[1;32m    465\u001b[0m     \u001b[0;32mdef\u001b[0m \u001b[0m_fit_for_estimator\u001b[0m\u001b[0;34m(\u001b[0m\u001b[0mself\u001b[0m\u001b[0;34m,\u001b[0m \u001b[0mestimator\u001b[0m\u001b[0;34m,\u001b[0m \u001b[0mX\u001b[0m\u001b[0;34m,\u001b[0m \u001b[0my\u001b[0m\u001b[0;34m,\u001b[0m \u001b[0;34m**\u001b[0m\u001b[0mfit_kwargs\u001b[0m\u001b[0;34m)\u001b[0m\u001b[0;34m:\u001b[0m\u001b[0;34m\u001b[0m\u001b[0;34m\u001b[0m\u001b[0m\n\u001b[0;32m--> 466\u001b[0;31m         \u001b[0mcheck_scoring\u001b[0m\u001b[0;34m(\u001b[0m\u001b[0mestimator\u001b[0m\u001b[0;34m,\u001b[0m \u001b[0mself\u001b[0m\u001b[0;34m.\u001b[0m\u001b[0mscoring\u001b[0m\u001b[0;34m)\u001b[0m\u001b[0;34m\u001b[0m\u001b[0;34m\u001b[0m\u001b[0m\n\u001b[0m\u001b[1;32m    467\u001b[0m         \u001b[0;32mif\u001b[0m \u001b[0;32mnot\u001b[0m \u001b[0mdask\u001b[0m\u001b[0;34m.\u001b[0m\u001b[0mis_dask_collection\u001b[0m\u001b[0;34m(\u001b[0m\u001b[0mX\u001b[0m\u001b[0;34m)\u001b[0m \u001b[0;32mand\u001b[0m \u001b[0;32mnot\u001b[0m \u001b[0mdask\u001b[0m\u001b[0;34m.\u001b[0m\u001b[0mis_dask_collection\u001b[0m\u001b[0;34m(\u001b[0m\u001b[0my\u001b[0m\u001b[0;34m)\u001b[0m\u001b[0;34m:\u001b[0m\u001b[0;34m\u001b[0m\u001b[0;34m\u001b[0m\u001b[0m\n\u001b[1;32m    468\u001b[0m             \u001b[0mresult\u001b[0m \u001b[0;34m=\u001b[0m \u001b[0mestimator\u001b[0m\u001b[0;34m.\u001b[0m\u001b[0mpartial_fit\u001b[0m\u001b[0;34m(\u001b[0m\u001b[0mX\u001b[0m\u001b[0;34m=\u001b[0m\u001b[0mX\u001b[0m\u001b[0;34m,\u001b[0m \u001b[0my\u001b[0m\u001b[0;34m=\u001b[0m\u001b[0my\u001b[0m\u001b[0;34m,\u001b[0m \u001b[0;34m**\u001b[0m\u001b[0mfit_kwargs\u001b[0m\u001b[0;34m)\u001b[0m\u001b[0;34m\u001b[0m\u001b[0;34m\u001b[0m\u001b[0m\n",
      "\u001b[0;32m/opt/conda/lib/python3.7/site-packages/dask_ml/metrics/scorer.py\u001b[0m in \u001b[0;36mcheck_scoring\u001b[0;34m(estimator, scoring, **kwargs)\u001b[0m\n\u001b[1;32m     53\u001b[0m \u001b[0;34m\u001b[0m\u001b[0m\n\u001b[1;32m     54\u001b[0m \u001b[0;32mdef\u001b[0m \u001b[0mcheck_scoring\u001b[0m\u001b[0;34m(\u001b[0m\u001b[0mestimator\u001b[0m\u001b[0;34m,\u001b[0m \u001b[0mscoring\u001b[0m\u001b[0;34m=\u001b[0m\u001b[0;32mNone\u001b[0m\u001b[0;34m,\u001b[0m \u001b[0;34m**\u001b[0m\u001b[0mkwargs\u001b[0m\u001b[0;34m)\u001b[0m\u001b[0;34m:\u001b[0m\u001b[0;34m\u001b[0m\u001b[0;34m\u001b[0m\u001b[0m\n\u001b[0;32m---> 55\u001b[0;31m     \u001b[0mres\u001b[0m \u001b[0;34m=\u001b[0m \u001b[0msklearn_check_scoring\u001b[0m\u001b[0;34m(\u001b[0m\u001b[0mestimator\u001b[0m\u001b[0;34m,\u001b[0m \u001b[0mscoring\u001b[0m\u001b[0;34m=\u001b[0m\u001b[0mscoring\u001b[0m\u001b[0;34m,\u001b[0m \u001b[0;34m**\u001b[0m\u001b[0mkwargs\u001b[0m\u001b[0;34m)\u001b[0m\u001b[0;34m\u001b[0m\u001b[0;34m\u001b[0m\u001b[0m\n\u001b[0m\u001b[1;32m     56\u001b[0m     \u001b[0;32mif\u001b[0m \u001b[0mcallable\u001b[0m\u001b[0;34m(\u001b[0m\u001b[0mscoring\u001b[0m\u001b[0;34m)\u001b[0m\u001b[0;34m:\u001b[0m\u001b[0;34m\u001b[0m\u001b[0;34m\u001b[0m\u001b[0m\n\u001b[1;32m     57\u001b[0m         \u001b[0;31m# Heuristic to ensure user has not passed a metric\u001b[0m\u001b[0;34m\u001b[0m\u001b[0;34m\u001b[0m\u001b[0;34m\u001b[0m\u001b[0m\n",
      "\u001b[0;32m/opt/conda/lib/python3.7/site-packages/sklearn/metrics/scorer.py\u001b[0m in \u001b[0;36mcheck_scoring\u001b[0;34m(estimator, scoring, allow_none)\u001b[0m\n\u001b[1;32m    294\u001b[0m                 \u001b[0;34m\"If no scoring is specified, the estimator passed should \"\u001b[0m\u001b[0;34m\u001b[0m\u001b[0;34m\u001b[0m\u001b[0m\n\u001b[1;32m    295\u001b[0m                 \u001b[0;34m\"have a 'score' method. The estimator %r does not.\"\u001b[0m\u001b[0;34m\u001b[0m\u001b[0;34m\u001b[0m\u001b[0m\n\u001b[0;32m--> 296\u001b[0;31m                 % estimator)\n\u001b[0m\u001b[1;32m    297\u001b[0m     \u001b[0;32melif\u001b[0m \u001b[0misinstance\u001b[0m\u001b[0;34m(\u001b[0m\u001b[0mscoring\u001b[0m\u001b[0;34m,\u001b[0m \u001b[0mIterable\u001b[0m\u001b[0;34m)\u001b[0m\u001b[0;34m:\u001b[0m\u001b[0;34m\u001b[0m\u001b[0;34m\u001b[0m\u001b[0m\n\u001b[1;32m    298\u001b[0m         raise ValueError(\"For evaluating multiple scores, use \"\n",
      "\u001b[0;31mTypeError\u001b[0m: If no scoring is specified, the estimator passed should have a 'score' method. The estimator NearestNeighbors(algorithm='auto', leaf_size=30, metric='jaccard',\n         metric_params=None, n_jobs=None, n_neighbors=10, p=2, radius=1.0) does not."
     ]
    }
   ],
   "source": [
    "fit_ddf = nn_incremental.fit(ddf)"
   ]
  },
  {
   "cell_type": "code",
   "execution_count": null,
   "metadata": {},
   "outputs": [],
   "source": [
    "euclidean_distances, euclidean_indices = nn.kneighbors(df)"
   ]
  },
  {
   "cell_type": "code",
   "execution_count": null,
   "metadata": {},
   "outputs": [],
   "source": [
    "euclidean_distances.tofile('../data/final_model_poc/distances_20190428.fid')\n",
    "euclidean_indices.tofile('../data/final_model_poc/indices_20190428.fid')"
   ]
  },
  {
   "cell_type": "markdown",
   "metadata": {},
   "source": [
    "### 2a. Merging Observations with Indices and Distances"
   ]
  },
  {
   "cell_type": "code",
   "execution_count": 30,
   "metadata": {},
   "outputs": [],
   "source": [
    "euclidean_distances = np.fromfile('../data/final_model_poc/distances_20190517.fid')\n",
    "euclidean_indices = np.fromfile('../data/final_model_poc/indices_20190517.fid')"
   ]
  },
  {
   "cell_type": "code",
   "execution_count": 18,
   "metadata": {},
   "outputs": [
    {
     "data": {
      "text/plain": [
       "((5774260,), (5774260,))"
      ]
     },
     "execution_count": 18,
     "metadata": {},
     "output_type": "execute_result"
    }
   ],
   "source": [
    "euclidean_distances.shape, euclidean_indices.shape"
   ]
  },
  {
   "cell_type": "code",
   "execution_count": 32,
   "metadata": {},
   "outputs": [
    {
     "data": {
      "text/plain": [
       "array([0, 0, 0, ..., 0, 0, 0], dtype=int16)"
      ]
     },
     "execution_count": 32,
     "metadata": {},
     "output_type": "execute_result"
    }
   ],
   "source": [
    "euclidean_indices.astype(np.int16)"
   ]
  },
  {
   "cell_type": "code",
   "execution_count": 19,
   "metadata": {},
   "outputs": [],
   "source": [
    "euclidean_indices = euclidean_indices.astype(np.int16)"
   ]
  },
  {
   "cell_type": "code",
   "execution_count": 20,
   "metadata": {},
   "outputs": [],
   "source": [
    "euclidean_distances = euclidean_distances.astype(np.int16)"
   ]
  },
  {
   "cell_type": "code",
   "execution_count": 21,
   "metadata": {},
   "outputs": [],
   "source": [
    "df_distances = pd.DataFrame(np.vstack(np.split(euclidean_distances, 577426)))\n",
    "df_indices = pd.DataFrame(np.vstack(np.split(euclidean_indices, 577426)))"
   ]
  },
  {
   "cell_type": "code",
   "execution_count": 22,
   "metadata": {},
   "outputs": [
    {
     "data": {
      "text/plain": [
       "((577426, 10), RangeIndex(start=0, stop=577426, step=1))"
      ]
     },
     "execution_count": 22,
     "metadata": {},
     "output_type": "execute_result"
    }
   ],
   "source": [
    "df_distances.shape, df_distances.index"
   ]
  },
  {
   "cell_type": "code",
   "execution_count": 23,
   "metadata": {},
   "outputs": [
    {
     "data": {
      "text/plain": [
       "((577426, 10), RangeIndex(start=0, stop=577426, step=1))"
      ]
     },
     "execution_count": 23,
     "metadata": {},
     "output_type": "execute_result"
    }
   ],
   "source": [
    "df_indices.shape, df_indices.index"
   ]
  },
  {
   "cell_type": "code",
   "execution_count": 26,
   "metadata": {},
   "outputs": [
    {
     "data": {
      "text/plain": [
       "((577426, 18),\n",
       " Int64Index([    0,     1,     2,     3,     4,     5,     6,     7,     8,\n",
       "                 9,\n",
       "             ...\n",
       "             57464, 57465, 57466, 57467, 57468, 57469, 57470, 57471, 57472,\n",
       "             57473],\n",
       "            dtype='int64', length=577426))"
      ]
     },
     "execution_count": 26,
     "metadata": {},
     "output_type": "execute_result"
    }
   ],
   "source": [
    "df_labels.shape, df_labels.index"
   ]
  },
  {
   "cell_type": "code",
   "execution_count": 24,
   "metadata": {},
   "outputs": [],
   "source": [
    "df_labels.reset_index(inplace = True)"
   ]
  },
  {
   "cell_type": "code",
   "execution_count": 25,
   "metadata": {},
   "outputs": [],
   "source": [
    "df_labels = df_labels.drop('index', 1)"
   ]
  },
  {
   "cell_type": "code",
   "execution_count": 26,
   "metadata": {},
   "outputs": [],
   "source": [
    "X_distances = pd.concat([df_labels,\n",
    "                         df_distances],\n",
    "                        axis = 1)"
   ]
  },
  {
   "cell_type": "code",
   "execution_count": 27,
   "metadata": {},
   "outputs": [],
   "source": [
    "X_indices = pd.concat([df_labels,\n",
    "                         df_indices],\n",
    "                        axis = 1)"
   ]
  },
  {
   "cell_type": "code",
   "execution_count": 28,
   "metadata": {},
   "outputs": [
    {
     "data": {
      "text/html": [
       "<div>\n",
       "<style scoped>\n",
       "    .dataframe tbody tr th:only-of-type {\n",
       "        vertical-align: middle;\n",
       "    }\n",
       "\n",
       "    .dataframe tbody tr th {\n",
       "        vertical-align: top;\n",
       "    }\n",
       "\n",
       "    .dataframe thead th {\n",
       "        text-align: right;\n",
       "    }\n",
       "</style>\n",
       "<table border=\"1\" class=\"dataframe\">\n",
       "  <thead>\n",
       "    <tr style=\"text-align: right;\">\n",
       "      <th></th>\n",
       "      <th>track_id</th>\n",
       "      <th>Song Title</th>\n",
       "      <th>Artist</th>\n",
       "      <th>artist_id</th>\n",
       "      <th>name</th>\n",
       "      <th>popularity</th>\n",
       "      <th>followers</th>\n",
       "      <th>artist_name</th>\n",
       "      <th>song_id</th>\n",
       "      <th>song_title</th>\n",
       "      <th>...</th>\n",
       "      <th>0</th>\n",
       "      <th>1</th>\n",
       "      <th>2</th>\n",
       "      <th>3</th>\n",
       "      <th>4</th>\n",
       "      <th>5</th>\n",
       "      <th>6</th>\n",
       "      <th>7</th>\n",
       "      <th>8</th>\n",
       "      <th>9</th>\n",
       "    </tr>\n",
       "  </thead>\n",
       "  <tbody>\n",
       "    <tr>\n",
       "      <th>0</th>\n",
       "      <td>0fr7Y70YYTKiXbRRBlg4bW</td>\n",
       "      <td>Cult of Personality - Recorded Live</td>\n",
       "      <td>Living Colour</td>\n",
       "      <td>6Uhp7WA6sjm5ZL6Xz561de</td>\n",
       "      <td>Living Colour</td>\n",
       "      <td>53</td>\n",
       "      <td>132456.0</td>\n",
       "      <td>living colour</td>\n",
       "      <td>0fr7Y70YYTKiXbRRBlg4bW</td>\n",
       "      <td>cult of personality</td>\n",
       "      <td>...</td>\n",
       "      <td>0</td>\n",
       "      <td>80</td>\n",
       "      <td>98</td>\n",
       "      <td>106</td>\n",
       "      <td>114</td>\n",
       "      <td>117</td>\n",
       "      <td>121</td>\n",
       "      <td>123</td>\n",
       "      <td>126</td>\n",
       "      <td>133</td>\n",
       "    </tr>\n",
       "    <tr>\n",
       "      <th>1</th>\n",
       "      <td>0fr7Y70YYTKiXbRRBlg4bW</td>\n",
       "      <td>Cult of Personality - Recorded Live</td>\n",
       "      <td>Living Colour</td>\n",
       "      <td>6Uhp7WA6sjm5ZL6Xz561de</td>\n",
       "      <td>Living Colour</td>\n",
       "      <td>53</td>\n",
       "      <td>132456.0</td>\n",
       "      <td>living colour</td>\n",
       "      <td>0fr7Y70YYTKiXbRRBlg4bW</td>\n",
       "      <td>cult of personality</td>\n",
       "      <td>...</td>\n",
       "      <td>0</td>\n",
       "      <td>35</td>\n",
       "      <td>46</td>\n",
       "      <td>49</td>\n",
       "      <td>49</td>\n",
       "      <td>53</td>\n",
       "      <td>53</td>\n",
       "      <td>53</td>\n",
       "      <td>54</td>\n",
       "      <td>54</td>\n",
       "    </tr>\n",
       "    <tr>\n",
       "      <th>2</th>\n",
       "      <td>0fr7Y70YYTKiXbRRBlg4bW</td>\n",
       "      <td>Cult of Personality - Recorded Live</td>\n",
       "      <td>Living Colour</td>\n",
       "      <td>6Uhp7WA6sjm5ZL6Xz561de</td>\n",
       "      <td>Living Colour</td>\n",
       "      <td>53</td>\n",
       "      <td>132456.0</td>\n",
       "      <td>living colour</td>\n",
       "      <td>0fr7Y70YYTKiXbRRBlg4bW</td>\n",
       "      <td>cult of personality</td>\n",
       "      <td>...</td>\n",
       "      <td>0</td>\n",
       "      <td>2</td>\n",
       "      <td>33</td>\n",
       "      <td>33</td>\n",
       "      <td>38</td>\n",
       "      <td>39</td>\n",
       "      <td>40</td>\n",
       "      <td>41</td>\n",
       "      <td>42</td>\n",
       "      <td>42</td>\n",
       "    </tr>\n",
       "    <tr>\n",
       "      <th>3</th>\n",
       "      <td>0fr7Y70YYTKiXbRRBlg4bW</td>\n",
       "      <td>Cult of Personality - Recorded Live</td>\n",
       "      <td>Living Colour</td>\n",
       "      <td>6Uhp7WA6sjm5ZL6Xz561de</td>\n",
       "      <td>Living Colour</td>\n",
       "      <td>53</td>\n",
       "      <td>132456.0</td>\n",
       "      <td>living colour</td>\n",
       "      <td>0fr7Y70YYTKiXbRRBlg4bW</td>\n",
       "      <td>cult of personality</td>\n",
       "      <td>...</td>\n",
       "      <td>0</td>\n",
       "      <td>4</td>\n",
       "      <td>33</td>\n",
       "      <td>35</td>\n",
       "      <td>38</td>\n",
       "      <td>39</td>\n",
       "      <td>43</td>\n",
       "      <td>44</td>\n",
       "      <td>45</td>\n",
       "      <td>45</td>\n",
       "    </tr>\n",
       "    <tr>\n",
       "      <th>4</th>\n",
       "      <td>54DMD1zBaX2aeMe7eE9N4v</td>\n",
       "      <td>Cult Of Personality</td>\n",
       "      <td>Living Colour</td>\n",
       "      <td>6Uhp7WA6sjm5ZL6Xz561de</td>\n",
       "      <td>Living Colour</td>\n",
       "      <td>53</td>\n",
       "      <td>132456.0</td>\n",
       "      <td>living colour</td>\n",
       "      <td>54DMD1zBaX2aeMe7eE9N4v</td>\n",
       "      <td>cult of personality</td>\n",
       "      <td>...</td>\n",
       "      <td>0</td>\n",
       "      <td>34</td>\n",
       "      <td>38</td>\n",
       "      <td>39</td>\n",
       "      <td>46</td>\n",
       "      <td>46</td>\n",
       "      <td>46</td>\n",
       "      <td>47</td>\n",
       "      <td>48</td>\n",
       "      <td>48</td>\n",
       "    </tr>\n",
       "  </tbody>\n",
       "</table>\n",
       "<p>5 rows × 28 columns</p>\n",
       "</div>"
      ],
      "text/plain": [
       "                 track_id                           Song Title         Artist  \\\n",
       "0  0fr7Y70YYTKiXbRRBlg4bW  Cult of Personality - Recorded Live  Living Colour   \n",
       "1  0fr7Y70YYTKiXbRRBlg4bW  Cult of Personality - Recorded Live  Living Colour   \n",
       "2  0fr7Y70YYTKiXbRRBlg4bW  Cult of Personality - Recorded Live  Living Colour   \n",
       "3  0fr7Y70YYTKiXbRRBlg4bW  Cult of Personality - Recorded Live  Living Colour   \n",
       "4  54DMD1zBaX2aeMe7eE9N4v                  Cult Of Personality  Living Colour   \n",
       "\n",
       "                artist_id           name  popularity  followers  \\\n",
       "0  6Uhp7WA6sjm5ZL6Xz561de  Living Colour          53   132456.0   \n",
       "1  6Uhp7WA6sjm5ZL6Xz561de  Living Colour          53   132456.0   \n",
       "2  6Uhp7WA6sjm5ZL6Xz561de  Living Colour          53   132456.0   \n",
       "3  6Uhp7WA6sjm5ZL6Xz561de  Living Colour          53   132456.0   \n",
       "4  6Uhp7WA6sjm5ZL6Xz561de  Living Colour          53   132456.0   \n",
       "\n",
       "     artist_name                 song_id           song_title  ...  0   1   2  \\\n",
       "0  living colour  0fr7Y70YYTKiXbRRBlg4bW  cult of personality  ...  0  80  98   \n",
       "1  living colour  0fr7Y70YYTKiXbRRBlg4bW  cult of personality  ...  0  35  46   \n",
       "2  living colour  0fr7Y70YYTKiXbRRBlg4bW  cult of personality  ...  0   2  33   \n",
       "3  living colour  0fr7Y70YYTKiXbRRBlg4bW  cult of personality  ...  0   4  33   \n",
       "4  living colour  54DMD1zBaX2aeMe7eE9N4v  cult of personality  ...  0  34  38   \n",
       "\n",
       "     3    4    5    6    7    8    9  \n",
       "0  106  114  117  121  123  126  133  \n",
       "1   49   49   53   53   53   54   54  \n",
       "2   33   38   39   40   41   42   42  \n",
       "3   35   38   39   43   44   45   45  \n",
       "4   39   46   46   46   47   48   48  \n",
       "\n",
       "[5 rows x 28 columns]"
      ]
     },
     "execution_count": 28,
     "metadata": {},
     "output_type": "execute_result"
    }
   ],
   "source": [
    "X_distances.head()"
   ]
  },
  {
   "cell_type": "code",
   "execution_count": 29,
   "metadata": {},
   "outputs": [
    {
     "data": {
      "text/html": [
       "<div>\n",
       "<style scoped>\n",
       "    .dataframe tbody tr th:only-of-type {\n",
       "        vertical-align: middle;\n",
       "    }\n",
       "\n",
       "    .dataframe tbody tr th {\n",
       "        vertical-align: top;\n",
       "    }\n",
       "\n",
       "    .dataframe thead th {\n",
       "        text-align: right;\n",
       "    }\n",
       "</style>\n",
       "<table border=\"1\" class=\"dataframe\">\n",
       "  <thead>\n",
       "    <tr style=\"text-align: right;\">\n",
       "      <th></th>\n",
       "      <th>track_id</th>\n",
       "      <th>Song Title</th>\n",
       "      <th>Artist</th>\n",
       "      <th>artist_id</th>\n",
       "      <th>name</th>\n",
       "      <th>popularity</th>\n",
       "      <th>followers</th>\n",
       "      <th>artist_name</th>\n",
       "      <th>song_id</th>\n",
       "      <th>song_title</th>\n",
       "      <th>...</th>\n",
       "      <th>0</th>\n",
       "      <th>1</th>\n",
       "      <th>2</th>\n",
       "      <th>3</th>\n",
       "      <th>4</th>\n",
       "      <th>5</th>\n",
       "      <th>6</th>\n",
       "      <th>7</th>\n",
       "      <th>8</th>\n",
       "      <th>9</th>\n",
       "    </tr>\n",
       "  </thead>\n",
       "  <tbody>\n",
       "    <tr>\n",
       "      <th>0</th>\n",
       "      <td>0fr7Y70YYTKiXbRRBlg4bW</td>\n",
       "      <td>Cult of Personality - Recorded Live</td>\n",
       "      <td>Living Colour</td>\n",
       "      <td>6Uhp7WA6sjm5ZL6Xz561de</td>\n",
       "      <td>Living Colour</td>\n",
       "      <td>53</td>\n",
       "      <td>132456.0</td>\n",
       "      <td>living colour</td>\n",
       "      <td>0fr7Y70YYTKiXbRRBlg4bW</td>\n",
       "      <td>cult of personality</td>\n",
       "      <td>...</td>\n",
       "      <td>0</td>\n",
       "      <td>0</td>\n",
       "      <td>0</td>\n",
       "      <td>0</td>\n",
       "      <td>0</td>\n",
       "      <td>0</td>\n",
       "      <td>0</td>\n",
       "      <td>0</td>\n",
       "      <td>0</td>\n",
       "      <td>0</td>\n",
       "    </tr>\n",
       "    <tr>\n",
       "      <th>1</th>\n",
       "      <td>0fr7Y70YYTKiXbRRBlg4bW</td>\n",
       "      <td>Cult of Personality - Recorded Live</td>\n",
       "      <td>Living Colour</td>\n",
       "      <td>6Uhp7WA6sjm5ZL6Xz561de</td>\n",
       "      <td>Living Colour</td>\n",
       "      <td>53</td>\n",
       "      <td>132456.0</td>\n",
       "      <td>living colour</td>\n",
       "      <td>0fr7Y70YYTKiXbRRBlg4bW</td>\n",
       "      <td>cult of personality</td>\n",
       "      <td>...</td>\n",
       "      <td>0</td>\n",
       "      <td>0</td>\n",
       "      <td>0</td>\n",
       "      <td>0</td>\n",
       "      <td>0</td>\n",
       "      <td>0</td>\n",
       "      <td>0</td>\n",
       "      <td>0</td>\n",
       "      <td>0</td>\n",
       "      <td>0</td>\n",
       "    </tr>\n",
       "    <tr>\n",
       "      <th>2</th>\n",
       "      <td>0fr7Y70YYTKiXbRRBlg4bW</td>\n",
       "      <td>Cult of Personality - Recorded Live</td>\n",
       "      <td>Living Colour</td>\n",
       "      <td>6Uhp7WA6sjm5ZL6Xz561de</td>\n",
       "      <td>Living Colour</td>\n",
       "      <td>53</td>\n",
       "      <td>132456.0</td>\n",
       "      <td>living colour</td>\n",
       "      <td>0fr7Y70YYTKiXbRRBlg4bW</td>\n",
       "      <td>cult of personality</td>\n",
       "      <td>...</td>\n",
       "      <td>0</td>\n",
       "      <td>0</td>\n",
       "      <td>0</td>\n",
       "      <td>0</td>\n",
       "      <td>0</td>\n",
       "      <td>0</td>\n",
       "      <td>0</td>\n",
       "      <td>0</td>\n",
       "      <td>0</td>\n",
       "      <td>0</td>\n",
       "    </tr>\n",
       "    <tr>\n",
       "      <th>3</th>\n",
       "      <td>0fr7Y70YYTKiXbRRBlg4bW</td>\n",
       "      <td>Cult of Personality - Recorded Live</td>\n",
       "      <td>Living Colour</td>\n",
       "      <td>6Uhp7WA6sjm5ZL6Xz561de</td>\n",
       "      <td>Living Colour</td>\n",
       "      <td>53</td>\n",
       "      <td>132456.0</td>\n",
       "      <td>living colour</td>\n",
       "      <td>0fr7Y70YYTKiXbRRBlg4bW</td>\n",
       "      <td>cult of personality</td>\n",
       "      <td>...</td>\n",
       "      <td>0</td>\n",
       "      <td>0</td>\n",
       "      <td>0</td>\n",
       "      <td>0</td>\n",
       "      <td>0</td>\n",
       "      <td>0</td>\n",
       "      <td>0</td>\n",
       "      <td>0</td>\n",
       "      <td>0</td>\n",
       "      <td>0</td>\n",
       "    </tr>\n",
       "    <tr>\n",
       "      <th>4</th>\n",
       "      <td>54DMD1zBaX2aeMe7eE9N4v</td>\n",
       "      <td>Cult Of Personality</td>\n",
       "      <td>Living Colour</td>\n",
       "      <td>6Uhp7WA6sjm5ZL6Xz561de</td>\n",
       "      <td>Living Colour</td>\n",
       "      <td>53</td>\n",
       "      <td>132456.0</td>\n",
       "      <td>living colour</td>\n",
       "      <td>54DMD1zBaX2aeMe7eE9N4v</td>\n",
       "      <td>cult of personality</td>\n",
       "      <td>...</td>\n",
       "      <td>0</td>\n",
       "      <td>0</td>\n",
       "      <td>0</td>\n",
       "      <td>0</td>\n",
       "      <td>0</td>\n",
       "      <td>0</td>\n",
       "      <td>0</td>\n",
       "      <td>0</td>\n",
       "      <td>0</td>\n",
       "      <td>0</td>\n",
       "    </tr>\n",
       "  </tbody>\n",
       "</table>\n",
       "<p>5 rows × 28 columns</p>\n",
       "</div>"
      ],
      "text/plain": [
       "                 track_id                           Song Title         Artist  \\\n",
       "0  0fr7Y70YYTKiXbRRBlg4bW  Cult of Personality - Recorded Live  Living Colour   \n",
       "1  0fr7Y70YYTKiXbRRBlg4bW  Cult of Personality - Recorded Live  Living Colour   \n",
       "2  0fr7Y70YYTKiXbRRBlg4bW  Cult of Personality - Recorded Live  Living Colour   \n",
       "3  0fr7Y70YYTKiXbRRBlg4bW  Cult of Personality - Recorded Live  Living Colour   \n",
       "4  54DMD1zBaX2aeMe7eE9N4v                  Cult Of Personality  Living Colour   \n",
       "\n",
       "                artist_id           name  popularity  followers  \\\n",
       "0  6Uhp7WA6sjm5ZL6Xz561de  Living Colour          53   132456.0   \n",
       "1  6Uhp7WA6sjm5ZL6Xz561de  Living Colour          53   132456.0   \n",
       "2  6Uhp7WA6sjm5ZL6Xz561de  Living Colour          53   132456.0   \n",
       "3  6Uhp7WA6sjm5ZL6Xz561de  Living Colour          53   132456.0   \n",
       "4  6Uhp7WA6sjm5ZL6Xz561de  Living Colour          53   132456.0   \n",
       "\n",
       "     artist_name                 song_id           song_title  ...  0  1  2  \\\n",
       "0  living colour  0fr7Y70YYTKiXbRRBlg4bW  cult of personality  ...  0  0  0   \n",
       "1  living colour  0fr7Y70YYTKiXbRRBlg4bW  cult of personality  ...  0  0  0   \n",
       "2  living colour  0fr7Y70YYTKiXbRRBlg4bW  cult of personality  ...  0  0  0   \n",
       "3  living colour  0fr7Y70YYTKiXbRRBlg4bW  cult of personality  ...  0  0  0   \n",
       "4  living colour  54DMD1zBaX2aeMe7eE9N4v  cult of personality  ...  0  0  0   \n",
       "\n",
       "   3  4  5  6  7  8  9  \n",
       "0  0  0  0  0  0  0  0  \n",
       "1  0  0  0  0  0  0  0  \n",
       "2  0  0  0  0  0  0  0  \n",
       "3  0  0  0  0  0  0  0  \n",
       "4  0  0  0  0  0  0  0  \n",
       "\n",
       "[5 rows x 28 columns]"
      ]
     },
     "execution_count": 29,
     "metadata": {},
     "output_type": "execute_result"
    }
   ],
   "source": [
    "X_indices.head()"
   ]
  },
  {
   "cell_type": "code",
   "execution_count": 59,
   "metadata": {},
   "outputs": [
    {
     "data": {
      "text/plain": [
       "track_id          2e4RcQohKWo8oZIUfjxiGo\n",
       "Song Title           Holidays In The Sun\n",
       "Artist                       Sex Pistols\n",
       "artist_id         1u7kkVrr14iBvrpYnZILJR\n",
       "name                         Sex Pistols\n",
       "popularity                            57\n",
       "followers                         769809\n",
       "artist_name                  sex pistols\n",
       "song_id           2e4RcQohKWo8oZIUfjxiGo\n",
       "song_title           holidays in the sun\n",
       "CID                               143256\n",
       "WID                                12557\n",
       "PID                                14131\n",
       "Title                holidays in the sun\n",
       "Performer Name               sex pistols\n",
       "Writer Name                  LYDON JOHN \n",
       "IPI                          2.45851e+07\n",
       "PRO                                  PRS\n",
       "0                                      0\n",
       "1                                      0\n",
       "2                                      0\n",
       "3                                      0\n",
       "4                                      0\n",
       "5                                      0\n",
       "6                                      0\n",
       "7                                      0\n",
       "8                                      0\n",
       "9                                      0\n",
       "Name: 544021, dtype: object"
      ]
     },
     "execution_count": 59,
     "metadata": {},
     "output_type": "execute_result"
    }
   ],
   "source": [
    "X_indices.iloc[544021]"
   ]
  },
  {
   "cell_type": "markdown",
   "metadata": {},
   "source": [
    "### 3. Determing Voting Mechanism"
   ]
  },
  {
   "cell_type": "code",
   "execution_count": null,
   "metadata": {},
   "outputs": [],
   "source": [
    "X_voters = X_indices[['WID',\n",
    "                      0,\n",
    "                      1,\n",
    "                      2,\n",
    "                      3,\n",
    "                      4,\n",
    "                      5,\n",
    "                      6,\n",
    "                      7,\n",
    "                      8,\n",
    "                      9]]"
   ]
  },
  {
   "cell_type": "code",
   "execution_count": null,
   "metadata": {},
   "outputs": [],
   "source": [
    "X_voters.columns"
   ]
  },
  {
   "cell_type": "code",
   "execution_count": null,
   "metadata": {},
   "outputs": [],
   "source": [
    "X_voters_dict = X_voters.to_dict(orient = 'index')"
   ]
  },
  {
   "cell_type": "code",
   "execution_count": null,
   "metadata": {},
   "outputs": [],
   "source": [
    "X_voters_dict[0]"
   ]
  },
  {
   "cell_type": "code",
   "execution_count": null,
   "metadata": {},
   "outputs": [],
   "source": [
    "index_wid_dct = df['WID'].to_dict()"
   ]
  },
  {
   "cell_type": "code",
   "execution_count": null,
   "metadata": {},
   "outputs": [],
   "source": [
    "(355, 7280) in index_wid_dct.items()"
   ]
  },
  {
   "cell_type": "code",
   "execution_count": null,
   "metadata": {},
   "outputs": [],
   "source": [
    "len(index_wid_dct)"
   ]
  },
  {
   "cell_type": "code",
   "execution_count": null,
   "metadata": {},
   "outputs": [],
   "source": [
    "def index_to_wid_mapping(df):\n",
    "    index_wid_dict = df['WID'].to_dict()\n",
    "    just_voters_df = df.drop('WID', axis = 1)\n",
    "    new_voters_dict = {i:[] for i in range(len(just_voters_df))}\n",
    "    \n",
    "    count = 0\n",
    "    for entry in just_voters_df.itertuples():\n",
    "        for item in entry[:]:\n",
    "            if item in index_wid_dict:\n",
    "                new_voters_dict[count].append(index_wid_dict[item])\n",
    "        count += 1\n",
    "    \n",
    "    new_voters_df = pd.DataFrame.from_dict(new_voters_dict,\n",
    "                                           orient= 'index',\n",
    "                                           columns = [i for i in range(11)])\n",
    "    \n",
    "    new_voters_df = pd.concat([pd.DataFrame.from_dict(index_wid_dict,\n",
    "                                                      orient = 'index',\n",
    "                                                      columns = ['WID']),\n",
    "                               new_voters_df], axis = 1)\n",
    "\n",
    "    return new_voters_df"
   ]
  },
  {
   "cell_type": "code",
   "execution_count": null,
   "metadata": {},
   "outputs": [],
   "source": [
    "X_voters_2 = index_to_wid_mapping(X_voters)"
   ]
  },
  {
   "cell_type": "code",
   "execution_count": null,
   "metadata": {},
   "outputs": [],
   "source": [
    "df[df['WID'] == 35426]"
   ]
  },
  {
   "cell_type": "code",
   "execution_count": null,
   "metadata": {},
   "outputs": [],
   "source": [
    "X_voters[X_voters['WID'] == 105444]"
   ]
  },
  {
   "cell_type": "code",
   "execution_count": null,
   "metadata": {},
   "outputs": [],
   "source": [
    "X_voters_2[X_voters_2['WID'] == 105444]"
   ]
  },
  {
   "cell_type": "code",
   "execution_count": null,
   "metadata": {},
   "outputs": [],
   "source": [
    "def count_vals(df):\n",
    "    id_dict = {wid : Counter() for wid in df['WID'].unique()}\n",
    "    for entry in df.itertuples():\n",
    "            id_dict[entry[1]].update(entry[2:])\n",
    "    return id_dict"
   ]
  },
  {
   "cell_type": "code",
   "execution_count": null,
   "metadata": {},
   "outputs": [],
   "source": [
    "# with just index values\n",
    "\n",
    "count_df = count_vals(X_voters)"
   ]
  },
  {
   "cell_type": "code",
   "execution_count": null,
   "metadata": {},
   "outputs": [],
   "source": [
    "# with WID values instead of index values\n",
    "\n",
    "count_df_2 = count_vals(X_voters_2)"
   ]
  },
  {
   "cell_type": "code",
   "execution_count": null,
   "metadata": {},
   "outputs": [],
   "source": [
    "count_df[7280].most_common(10)"
   ]
  },
  {
   "cell_type": "code",
   "execution_count": null,
   "metadata": {},
   "outputs": [],
   "source": [
    "count_df_2[1940].most_common(10)"
   ]
  },
  {
   "cell_type": "code",
   "execution_count": null,
   "metadata": {},
   "outputs": [],
   "source": [
    "count_df_2.keys()"
   ]
  },
  {
   "cell_type": "markdown",
   "metadata": {},
   "source": [
    "##### Saving Writer Count Dict to File"
   ]
  },
  {
   "cell_type": "code",
   "execution_count": null,
   "metadata": {},
   "outputs": [],
   "source": [
    "with open('../data/final_model_test/writer_count_dict_20190504.pkl', 'wb') as f:\n",
    "    pickle.dump(count_df_2, f)"
   ]
  },
  {
   "cell_type": "code",
   "execution_count": 12,
   "metadata": {},
   "outputs": [],
   "source": [
    "with open('../data/writer_count_dict_20190504.pkl', 'rb') as f:\n",
    "    count_df_2 = pickle.load(f)"
   ]
  },
  {
   "cell_type": "markdown",
   "metadata": {},
   "source": [
    "#### 3a. Mapping Votes back Against Writers"
   ]
  },
  {
   "cell_type": "code",
   "execution_count": 14,
   "metadata": {},
   "outputs": [],
   "source": [
    "# Will need to update this function as I figure out the logic for this algo\n",
    "\n",
    "def combine_writer_counts_and_info(count_dict, writer_df):\n",
    "    \n",
    "    top_12_dict = {wid : {'writer_name' : '',\n",
    "                          'ipi' : '',\n",
    "                          'top_matches' : ''}\\\n",
    "                   for wid in count_dict.keys()}\n",
    "    \n",
    "    # Retreive Top 12 Results for each Songwriter\n",
    "    for entry in count_dict:\n",
    "        top_12_dict[entry]['top_matches'] = count_dict[entry].most_common(12)\n",
    "    \n",
    "    # add writer name and info to dictionary\n",
    "    for wid in top_12_dict:\n",
    "        if wid in writer_df['WID']:\n",
    "            top_12_dict[wid]['writer_name']\\\n",
    "            = writer_df['Writer Name'][writer_df['WID'] == wid].values[0]\n",
    "            top_12_dict[wid]['ipi']\\\n",
    "            = writer_df['IPI'][writer_df['WID'] == wid].values[0]\n",
    "    \n",
    "    return top_12_dict"
   ]
  },
  {
   "cell_type": "code",
   "execution_count": 15,
   "metadata": {},
   "outputs": [],
   "source": [
    "top_12s = combine_writer_counts_and_info(count_df_2, writers)"
   ]
  },
  {
   "cell_type": "code",
   "execution_count": 16,
   "metadata": {},
   "outputs": [
    {
     "data": {
      "text/plain": [
       "{'writer_name': 'CARTER SHAWN  ',\n",
       " 'ipi': '240089589',\n",
       " 'top_matches': [(4692, 224),\n",
       "  (3747, 30),\n",
       "  (3772, 24),\n",
       "  (4561, 23),\n",
       "  (4754, 21),\n",
       "  (5519, 20),\n",
       "  (3729, 18),\n",
       "  (5565, 15),\n",
       "  (7091, 14),\n",
       "  (4575, 14),\n",
       "  (3835, 12),\n",
       "  (16895, 12)]}"
      ]
     },
     "execution_count": 16,
     "metadata": {},
     "output_type": "execute_result"
    }
   ],
   "source": [
    "top_12s[4692]"
   ]
  },
  {
   "cell_type": "code",
   "execution_count": 13,
   "metadata": {},
   "outputs": [],
   "source": [
    "writers = pd.read_csv('writers.csv', index_col = 0)"
   ]
  },
  {
   "cell_type": "code",
   "execution_count": 2,
   "metadata": {},
   "outputs": [],
   "source": [
    "with open('../data/final_model_poc/top_12_writer_by_votes_manhattan_20190517.pkl', 'rb') as f:\n",
    "    top_12 = pickle.load(f)"
   ]
  },
  {
   "cell_type": "code",
   "execution_count": 4,
   "metadata": {},
   "outputs": [],
   "source": [
    "with open('../data/final_model_poc/top_12_writer_by_votes_euclidean_20190523.pkl', 'rb') as f:\n",
    "    top_12_euclidean = pickle.load(f)"
   ]
  },
  {
   "cell_type": "code",
   "execution_count": 13,
   "metadata": {},
   "outputs": [
    {
     "data": {
      "text/html": [
       "<div>\n",
       "<style scoped>\n",
       "    .dataframe tbody tr th:only-of-type {\n",
       "        vertical-align: middle;\n",
       "    }\n",
       "\n",
       "    .dataframe tbody tr th {\n",
       "        vertical-align: top;\n",
       "    }\n",
       "\n",
       "    .dataframe thead th {\n",
       "        text-align: right;\n",
       "    }\n",
       "</style>\n",
       "<table border=\"1\" class=\"dataframe\">\n",
       "  <thead>\n",
       "    <tr style=\"text-align: right;\">\n",
       "      <th></th>\n",
       "      <th>WID</th>\n",
       "      <th>Writer Name</th>\n",
       "      <th>IPI</th>\n",
       "      <th>PRO</th>\n",
       "    </tr>\n",
       "  </thead>\n",
       "  <tbody>\n",
       "    <tr>\n",
       "      <th>437</th>\n",
       "      <td>694</td>\n",
       "      <td>GARCIA JEROME J</td>\n",
       "      <td>41050341</td>\n",
       "      <td>ASCAP</td>\n",
       "    </tr>\n",
       "  </tbody>\n",
       "</table>\n",
       "</div>"
      ],
      "text/plain": [
       "     WID      Writer Name       IPI    PRO\n",
       "437  694  GARCIA JEROME J  41050341  ASCAP"
      ]
     },
     "execution_count": 13,
     "metadata": {},
     "output_type": "execute_result"
    }
   ],
   "source": [
    "writers[writers['WID'] == 694]"
   ]
  },
  {
   "cell_type": "code",
   "execution_count": 20,
   "metadata": {},
   "outputs": [
    {
     "data": {
      "text/html": [
       "<div>\n",
       "<style scoped>\n",
       "    .dataframe tbody tr th:only-of-type {\n",
       "        vertical-align: middle;\n",
       "    }\n",
       "\n",
       "    .dataframe tbody tr th {\n",
       "        vertical-align: top;\n",
       "    }\n",
       "\n",
       "    .dataframe thead th {\n",
       "        text-align: right;\n",
       "    }\n",
       "</style>\n",
       "<table border=\"1\" class=\"dataframe\">\n",
       "  <thead>\n",
       "    <tr style=\"text-align: right;\">\n",
       "      <th></th>\n",
       "      <th>WID</th>\n",
       "      <th>Writer Name</th>\n",
       "      <th>IPI</th>\n",
       "      <th>PRO</th>\n",
       "    </tr>\n",
       "  </thead>\n",
       "  <tbody>\n",
       "    <tr>\n",
       "      <th>956</th>\n",
       "      <td>1940</td>\n",
       "      <td>CARTER SHAWN C</td>\n",
       "      <td>240089393</td>\n",
       "      <td>ASCAP</td>\n",
       "    </tr>\n",
       "    <tr>\n",
       "      <th>2155</th>\n",
       "      <td>4692</td>\n",
       "      <td>CARTER SHAWN</td>\n",
       "      <td>240089589</td>\n",
       "      <td>ASCAP</td>\n",
       "    </tr>\n",
       "    <tr>\n",
       "      <th>30523</th>\n",
       "      <td>102371</td>\n",
       "      <td>CARTER SHAWN KEVIN</td>\n",
       "      <td>849140133</td>\n",
       "      <td>BMI</td>\n",
       "    </tr>\n",
       "    <tr>\n",
       "      <th>48606</th>\n",
       "      <td>201860</td>\n",
       "      <td>CARTER SHAWN C.</td>\n",
       "      <td>—</td>\n",
       "      <td>ASCAP</td>\n",
       "    </tr>\n",
       "    <tr>\n",
       "      <th>49565</th>\n",
       "      <td>206931</td>\n",
       "      <td>CARTER SHAWN</td>\n",
       "      <td>—</td>\n",
       "      <td>NS</td>\n",
       "    </tr>\n",
       "    <tr>\n",
       "      <th>88593</th>\n",
       "      <td>508205</td>\n",
       "      <td>CARTER SHAWN 'JAY Z'</td>\n",
       "      <td>—</td>\n",
       "      <td>BMI</td>\n",
       "    </tr>\n",
       "    <tr>\n",
       "      <th>88600</th>\n",
       "      <td>508254</td>\n",
       "      <td>CARTER SHAWN</td>\n",
       "      <td>—</td>\n",
       "      <td>ASCAP</td>\n",
       "    </tr>\n",
       "  </tbody>\n",
       "</table>\n",
       "</div>"
      ],
      "text/plain": [
       "          WID            Writer Name        IPI    PRO\n",
       "956      1940         CARTER SHAWN C  240089393  ASCAP\n",
       "2155     4692         CARTER SHAWN    240089589  ASCAP\n",
       "30523  102371     CARTER SHAWN KEVIN  849140133    BMI\n",
       "48606  201860       CARTER SHAWN C.           —  ASCAP\n",
       "49565  206931          CARTER SHAWN           —     NS\n",
       "88593  508205  CARTER SHAWN 'JAY Z'           —    BMI\n",
       "88600  508254          CARTER SHAWN           —  ASCAP"
      ]
     },
     "execution_count": 20,
     "metadata": {},
     "output_type": "execute_result"
    }
   ],
   "source": [
    "writers[writers['Writer Name'].str.startswith(\"CARTER SHAWN\")]"
   ]
  },
  {
   "cell_type": "code",
   "execution_count": 5,
   "metadata": {},
   "outputs": [
    {
     "data": {
      "text/plain": [
       "{'writer_name': 'CARTER SHAWN C',\n",
       " 'ipi': '240089393',\n",
       " 'top_matches': [(1940, 381),\n",
       "  (1980, 34),\n",
       "  (1979, 31),\n",
       "  (12544, 27),\n",
       "  (1283, 26),\n",
       "  (56427, 22),\n",
       "  (694, 18),\n",
       "  (695, 15),\n",
       "  (90313, 14),\n",
       "  (56424, 13),\n",
       "  (9168, 12),\n",
       "  (1981, 11)],\n",
       " 'top_matches_w_names': {'CARTER SHAWN C': (1940, 381),\n",
       "  'STEWART CHRISTOPHER A': (1980, 34),\n",
       "  'NASH TERIUS YOUNGDELL': (1979, 31),\n",
       "  'LEVINE ADAM NOAH': (12544, 27),\n",
       "  'VALENTINE JAMES B': (1283, 26),\n",
       "  'MADDEN MICHAEL ALLEN': (56427, 22),\n",
       "  'GARCIA JEROME J': (694, 18),\n",
       "  'HUNTER ROBERT C': (695, 15),\n",
       "  'HARRELL THADDIS LAPHONIA': (90313, 14),\n",
       "  'CARMICHAEL JESSE ROYAL': (56424, 13),\n",
       "  'HERMANSEN TOR ERIK': (9168, 12),\n",
       "  'WEST KANYE OMARI': (1981, 11)}}"
      ]
     },
     "execution_count": 5,
     "metadata": {},
     "output_type": "execute_result"
    }
   ],
   "source": [
    "top_12_euclidean[1940]"
   ]
  },
  {
   "cell_type": "code",
   "execution_count": 5,
   "metadata": {},
   "outputs": [
    {
     "data": {
      "text/plain": [
       "{'writer_name': 'HALL ROBERT BRYSON II',\n",
       " 'ipi': '696894362',\n",
       " 'top_matches': [(18876, 40),\n",
       "  (119661, 4),\n",
       "  (183281, 3),\n",
       "  (32746, 3),\n",
       "  (8450, 3),\n",
       "  (276772, 3),\n",
       "  (48216, 3),\n",
       "  (1783, 2),\n",
       "  (85335, 2),\n",
       "  (3725, 2),\n",
       "  (14273, 2),\n",
       "  (27644, 2)],\n",
       " 'top_matches_w_names': {'HALL ROBERT BRYSON II': (18876, 40),\n",
       "  'REDDICK JARET RAY': (119661, 4),\n",
       "  'FILKINS ZACHARY DOUGLAS': (183281, 3),\n",
       "  'LORD JON ': (32746, 3),\n",
       "  'TEDDER RYAN B': (8450, 3),\n",
       "  'JOKER  ': (276772, 3),\n",
       "  'GANO GORDON JAMES': (48216, 3),\n",
       "  'BACHARACH BURT F': (1783, 2),\n",
       "  'FARRAR SAM JOHN': (85335, 2),\n",
       "  'GOTTWALD LUKASZ ': (3725, 2),\n",
       "  'WADE RICO RENARD': (14273, 2),\n",
       "  'TITUS ANDRES ': (27644, 2)}}"
      ]
     },
     "execution_count": 5,
     "metadata": {},
     "output_type": "execute_result"
    }
   ],
   "source": [
    "top_12[18876]"
   ]
  },
  {
   "cell_type": "code",
   "execution_count": null,
   "metadata": {},
   "outputs": [],
   "source": []
  }
 ],
 "metadata": {
  "kernelspec": {
   "display_name": "Python 3",
   "language": "python",
   "name": "python3"
  },
  "language_info": {
   "codemirror_mode": {
    "name": "ipython",
    "version": 3
   },
   "file_extension": ".py",
   "mimetype": "text/x-python",
   "name": "python",
   "nbconvert_exporter": "python",
   "pygments_lexer": "ipython3",
   "version": "3.7.3"
  }
 },
 "nbformat": 4,
 "nbformat_minor": 2
}
