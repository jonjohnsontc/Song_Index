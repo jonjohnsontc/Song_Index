{
 "cells": [
  {
   "cell_type": "markdown",
   "metadata": {},
   "source": [
    "# Computing Nearest Neighbors Model for Songwriter Dataset"
   ]
  },
  {
   "cell_type": "code",
   "execution_count": 226,
   "metadata": {},
   "outputs": [],
   "source": [
    "from collections import Counter\n",
    "import json\n",
    "import pickle\n",
    "\n",
    "import dask\n",
    "import dask.dataframe as dd\n",
    "from dask_ml.preprocessing import DummyEncoder\n",
    "from dask.distributed import Client\n",
    "import numpy as np\n",
    "import pandas as pd\n",
    "\n",
    "from sklearn.neighbors import NearestNeighbors, kneighbors_graph"
   ]
  },
  {
   "cell_type": "markdown",
   "metadata": {},
   "source": [
    "## Table of Contents\n",
    "\n",
    "1. Loading Data\n",
    "2. Computing Nearest Neighbors\n",
    "3. Instituting Voting"
   ]
  },
  {
   "cell_type": "markdown",
   "metadata": {},
   "source": [
    "## 1. Loading Data"
   ]
  },
  {
   "cell_type": "code",
   "execution_count": 69,
   "metadata": {},
   "outputs": [],
   "source": [
    "df = pd.read_csv('../data/matched_tracks_w_writers_20190422.csv',\n",
    "                 index_col = 0,\n",
    "                 dtype = {\n",
    "                     'track_id' : str,\n",
    "                     'Song Title' : str,\n",
    "                     'Artist' : str,\n",
    "                     'artist_id' : str,\n",
    "                     'name' : str,\n",
    "                     'popularity' : np.int8,\n",
    "                     'followers' : np.int32,\n",
    "                     'artist_name' : str,\n",
    "                     'song_id' : str,\n",
    "                     'song_title' : str,\n",
    "                     'CID' : np.int32,\n",
    "                     'PID' : np.int32,\n",
    "                     'Title': str,\n",
    "                     'Performer Name' : str,\n",
    "                     'WID' : np.int32,\n",
    "                     'Writer Name' : str,\n",
    "                     'IPI' : str,\n",
    "                     'PRO' : 'category'\n",
    "                 })"
   ]
  },
  {
   "cell_type": "code",
   "execution_count": 3,
   "metadata": {},
   "outputs": [
    {
     "name": "stdout",
     "output_type": "stream",
     "text": [
      "<class 'pandas.core.frame.DataFrame'>\n",
      "Int64Index: 462965 entries, 0 to 462964\n",
      "Data columns (total 18 columns):\n",
      "track_id          462965 non-null object\n",
      "Song Title        462965 non-null object\n",
      "Artist            462965 non-null object\n",
      "artist_id         462965 non-null object\n",
      "name              462965 non-null object\n",
      "popularity        462965 non-null int8\n",
      "followers         462965 non-null int32\n",
      "artist_name       462965 non-null object\n",
      "song_id           462965 non-null object\n",
      "song_title        462965 non-null object\n",
      "CID               462965 non-null int32\n",
      "PID               462965 non-null int32\n",
      "Title             462965 non-null object\n",
      "Performer Name    462965 non-null object\n",
      "WID               462965 non-null int32\n",
      "Writer Name       462965 non-null object\n",
      "IPI               462965 non-null object\n",
      "PRO               462965 non-null category\n",
      "dtypes: category(1), int32(4), int8(1), object(12)\n",
      "memory usage: 53.9+ MB\n"
     ]
    }
   ],
   "source": [
    "df.info()"
   ]
  },
  {
   "cell_type": "code",
   "execution_count": 10,
   "metadata": {},
   "outputs": [],
   "source": [
    "df['IPI'] = df['IPI'].apply(lambda x: np.NaN if x == '—' else x)"
   ]
  },
  {
   "cell_type": "code",
   "execution_count": 22,
   "metadata": {},
   "outputs": [
    {
     "data": {
      "text/plain": [
       "'9211814'"
      ]
     },
     "execution_count": 22,
     "metadata": {},
     "output_type": "execute_result"
    }
   ],
   "source": [
    "df['IPI'].iloc[18456]"
   ]
  },
  {
   "cell_type": "code",
   "execution_count": 60,
   "metadata": {},
   "outputs": [
    {
     "name": "stdout",
     "output_type": "stream",
     "text": [
      "<class 'pandas.core.frame.DataFrame'>\n",
      "Int64Index: 455492 entries, 0 to 455491\n",
      "Data columns (total 17 columns):\n",
      "track_id          455492 non-null object\n",
      "Song Title        455492 non-null object\n",
      "Artist            455492 non-null object\n",
      "artist_id         455492 non-null object\n",
      "name              455492 non-null object\n",
      "popularity        455492 non-null int8\n",
      "followers         455492 non-null int32\n",
      "artist_name       455492 non-null object\n",
      "song_id           455492 non-null object\n",
      "song_title        455492 non-null object\n",
      "CID               455492 non-null int32\n",
      "PID               455492 non-null int32\n",
      "Title             455492 non-null object\n",
      "Performer Name    455492 non-null object\n",
      "IPI               438607 non-null float64\n",
      "Writer Name       455492 non-null object\n",
      "PRO               455492 non-null object\n",
      "dtypes: float64(1), int32(3), int8(1), object(12)\n",
      "memory usage: 54.3+ MB\n"
     ]
    }
   ],
   "source": [
    "df.info()"
   ]
  },
  {
   "cell_type": "code",
   "execution_count": 4,
   "metadata": {},
   "outputs": [
    {
     "data": {
      "text/plain": [
       "False"
      ]
     },
     "execution_count": 4,
     "metadata": {},
     "output_type": "execute_result"
    }
   ],
   "source": [
    "df['Writer Name'].isnull().any()"
   ]
  },
  {
   "cell_type": "code",
   "execution_count": 5,
   "metadata": {},
   "outputs": [
    {
     "data": {
      "text/html": [
       "<div>\n",
       "<style scoped>\n",
       "    .dataframe tbody tr th:only-of-type {\n",
       "        vertical-align: middle;\n",
       "    }\n",
       "\n",
       "    .dataframe tbody tr th {\n",
       "        vertical-align: top;\n",
       "    }\n",
       "\n",
       "    .dataframe thead th {\n",
       "        text-align: right;\n",
       "    }\n",
       "</style>\n",
       "<table border=\"1\" class=\"dataframe\">\n",
       "  <thead>\n",
       "    <tr style=\"text-align: right;\">\n",
       "      <th></th>\n",
       "      <th>track_id</th>\n",
       "      <th>Song Title</th>\n",
       "      <th>Artist</th>\n",
       "      <th>artist_id</th>\n",
       "      <th>name</th>\n",
       "      <th>popularity</th>\n",
       "      <th>followers</th>\n",
       "      <th>artist_name</th>\n",
       "      <th>song_id</th>\n",
       "      <th>song_title</th>\n",
       "      <th>CID</th>\n",
       "      <th>PID</th>\n",
       "      <th>Title</th>\n",
       "      <th>Performer Name</th>\n",
       "      <th>WID</th>\n",
       "      <th>Writer Name</th>\n",
       "      <th>IPI</th>\n",
       "      <th>PRO</th>\n",
       "    </tr>\n",
       "  </thead>\n",
       "  <tbody>\n",
       "    <tr>\n",
       "      <th>224501</th>\n",
       "      <td>6FHj7FegwTzdrcuQDCo8jT</td>\n",
       "      <td>Foe Tha Love of $</td>\n",
       "      <td>Bone Thugs-N-Harmony</td>\n",
       "      <td>5spEJXLwD1sKUdC2bnOHPg</td>\n",
       "      <td>Bone Thugs-N-Harmony</td>\n",
       "      <td>68</td>\n",
       "      <td>847771</td>\n",
       "      <td>bone thugs-n-harmony</td>\n",
       "      <td>6FHj7FegwTzdrcuQDCo8jT</td>\n",
       "      <td>foe tha love of $</td>\n",
       "      <td>0</td>\n",
       "      <td>3</td>\n",
       "      <td>foe tha love of $</td>\n",
       "      <td>bone thugs-n-harmony</td>\n",
       "      <td>8</td>\n",
       "      <td>SMITH YOMO</td>\n",
       "      <td>—</td>\n",
       "      <td>BMI</td>\n",
       "    </tr>\n",
       "  </tbody>\n",
       "</table>\n",
       "</div>"
      ],
      "text/plain": [
       "                      track_id         Song Title                Artist  \\\n",
       "224501  6FHj7FegwTzdrcuQDCo8jT  Foe Tha Love of $  Bone Thugs-N-Harmony   \n",
       "\n",
       "                     artist_id                  name  popularity  followers  \\\n",
       "224501  5spEJXLwD1sKUdC2bnOHPg  Bone Thugs-N-Harmony          68     847771   \n",
       "\n",
       "                 artist_name                 song_id         song_title  CID  \\\n",
       "224501  bone thugs-n-harmony  6FHj7FegwTzdrcuQDCo8jT  foe tha love of $    0   \n",
       "\n",
       "        PID              Title        Performer Name  WID  Writer Name IPI  \\\n",
       "224501    3  foe tha love of $  bone thugs-n-harmony    8  SMITH YOMO    —   \n",
       "\n",
       "        PRO  \n",
       "224501  BMI  "
      ]
     },
     "execution_count": 5,
     "metadata": {},
     "output_type": "execute_result"
    }
   ],
   "source": [
    "df[df['Writer Name'] == 'SMITH YOMO ']"
   ]
  },
  {
   "cell_type": "code",
   "execution_count": 4,
   "metadata": {},
   "outputs": [
    {
     "data": {
      "text/html": [
       "<div>\n",
       "<style scoped>\n",
       "    .dataframe tbody tr th:only-of-type {\n",
       "        vertical-align: middle;\n",
       "    }\n",
       "\n",
       "    .dataframe tbody tr th {\n",
       "        vertical-align: top;\n",
       "    }\n",
       "\n",
       "    .dataframe thead th {\n",
       "        text-align: right;\n",
       "    }\n",
       "</style>\n",
       "<table border=\"1\" class=\"dataframe\">\n",
       "  <thead>\n",
       "    <tr style=\"text-align: right;\">\n",
       "      <th></th>\n",
       "      <th>Unnamed: 0</th>\n",
       "      <th>track_id</th>\n",
       "      <th>Song Title</th>\n",
       "      <th>Artist</th>\n",
       "      <th>artist_id</th>\n",
       "      <th>name</th>\n",
       "      <th>popularity</th>\n",
       "      <th>followers</th>\n",
       "      <th>artist_name</th>\n",
       "      <th>song_id</th>\n",
       "      <th>song_title</th>\n",
       "      <th>CID</th>\n",
       "      <th>PID</th>\n",
       "      <th>Title</th>\n",
       "      <th>Performer Name</th>\n",
       "      <th>IPI</th>\n",
       "      <th>Writer Name</th>\n",
       "      <th>PRO</th>\n",
       "    </tr>\n",
       "  </thead>\n",
       "  <tbody>\n",
       "    <tr>\n",
       "      <th>0</th>\n",
       "      <td>0</td>\n",
       "      <td>0007aPK8VmXN4ycL2OcBFa</td>\n",
       "      <td>Bodhisattva - Live</td>\n",
       "      <td>Toto</td>\n",
       "      <td>0PFtn5NtBbbUNbU9EAmIWF</td>\n",
       "      <td>Toto</td>\n",
       "      <td>76</td>\n",
       "      <td>753405.0</td>\n",
       "      <td>toto</td>\n",
       "      <td>0007aPK8VmXN4ycL2OcBFa</td>\n",
       "      <td>bodhisattva</td>\n",
       "      <td>126127.0</td>\n",
       "      <td>6030.0</td>\n",
       "      <td>bodhisattva</td>\n",
       "      <td>toto</td>\n",
       "      <td>89150949</td>\n",
       "      <td>BECKER WALTER CARL</td>\n",
       "      <td>ASCAP</td>\n",
       "    </tr>\n",
       "    <tr>\n",
       "      <th>1</th>\n",
       "      <td>1</td>\n",
       "      <td>4F6419huGNh7rXB8Kr1rBf</td>\n",
       "      <td>Bodhisattva - Live</td>\n",
       "      <td>Toto</td>\n",
       "      <td>0PFtn5NtBbbUNbU9EAmIWF</td>\n",
       "      <td>Toto</td>\n",
       "      <td>76</td>\n",
       "      <td>753405.0</td>\n",
       "      <td>toto</td>\n",
       "      <td>4F6419huGNh7rXB8Kr1rBf</td>\n",
       "      <td>bodhisattva</td>\n",
       "      <td>126127.0</td>\n",
       "      <td>6030.0</td>\n",
       "      <td>bodhisattva</td>\n",
       "      <td>toto</td>\n",
       "      <td>89150949</td>\n",
       "      <td>BECKER WALTER CARL</td>\n",
       "      <td>ASCAP</td>\n",
       "    </tr>\n",
       "    <tr>\n",
       "      <th>2</th>\n",
       "      <td>2</td>\n",
       "      <td>6auUOYXyP76l4fiqC86c9E</td>\n",
       "      <td>Bodhisattva - Live</td>\n",
       "      <td>Toto</td>\n",
       "      <td>0PFtn5NtBbbUNbU9EAmIWF</td>\n",
       "      <td>Toto</td>\n",
       "      <td>76</td>\n",
       "      <td>753405.0</td>\n",
       "      <td>toto</td>\n",
       "      <td>6auUOYXyP76l4fiqC86c9E</td>\n",
       "      <td>bodhisattva</td>\n",
       "      <td>126127.0</td>\n",
       "      <td>6030.0</td>\n",
       "      <td>bodhisattva</td>\n",
       "      <td>toto</td>\n",
       "      <td>89150949</td>\n",
       "      <td>BECKER WALTER CARL</td>\n",
       "      <td>ASCAP</td>\n",
       "    </tr>\n",
       "    <tr>\n",
       "      <th>3</th>\n",
       "      <td>3</td>\n",
       "      <td>10JB78fwqaUrCFZj3XNn6L</td>\n",
       "      <td>Bodhisattva</td>\n",
       "      <td>Steely Dan</td>\n",
       "      <td>6P7H3ai06vU1sGvdpBwDmE</td>\n",
       "      <td>Steely Dan</td>\n",
       "      <td>68</td>\n",
       "      <td>601480.0</td>\n",
       "      <td>steely dan</td>\n",
       "      <td>10JB78fwqaUrCFZj3XNn6L</td>\n",
       "      <td>bodhisattva</td>\n",
       "      <td>126127.0</td>\n",
       "      <td>1699.0</td>\n",
       "      <td>bodhisattva</td>\n",
       "      <td>steely dan</td>\n",
       "      <td>89150949</td>\n",
       "      <td>BECKER WALTER CARL</td>\n",
       "      <td>ASCAP</td>\n",
       "    </tr>\n",
       "    <tr>\n",
       "      <th>4</th>\n",
       "      <td>4</td>\n",
       "      <td>6cdLlECd80adBM3fgEk9Km</td>\n",
       "      <td>Bodhisattva</td>\n",
       "      <td>Steely Dan</td>\n",
       "      <td>6P7H3ai06vU1sGvdpBwDmE</td>\n",
       "      <td>Steely Dan</td>\n",
       "      <td>68</td>\n",
       "      <td>601480.0</td>\n",
       "      <td>steely dan</td>\n",
       "      <td>6cdLlECd80adBM3fgEk9Km</td>\n",
       "      <td>bodhisattva</td>\n",
       "      <td>126127.0</td>\n",
       "      <td>1699.0</td>\n",
       "      <td>bodhisattva</td>\n",
       "      <td>steely dan</td>\n",
       "      <td>89150949</td>\n",
       "      <td>BECKER WALTER CARL</td>\n",
       "      <td>ASCAP</td>\n",
       "    </tr>\n",
       "  </tbody>\n",
       "</table>\n",
       "</div>"
      ],
      "text/plain": [
       "   Unnamed: 0                track_id          Song Title      Artist  \\\n",
       "0           0  0007aPK8VmXN4ycL2OcBFa  Bodhisattva - Live        Toto   \n",
       "1           1  4F6419huGNh7rXB8Kr1rBf  Bodhisattva - Live        Toto   \n",
       "2           2  6auUOYXyP76l4fiqC86c9E  Bodhisattva - Live        Toto   \n",
       "3           3  10JB78fwqaUrCFZj3XNn6L         Bodhisattva  Steely Dan   \n",
       "4           4  6cdLlECd80adBM3fgEk9Km         Bodhisattva  Steely Dan   \n",
       "\n",
       "                artist_id        name  popularity  followers artist_name  \\\n",
       "0  0PFtn5NtBbbUNbU9EAmIWF        Toto          76   753405.0        toto   \n",
       "1  0PFtn5NtBbbUNbU9EAmIWF        Toto          76   753405.0        toto   \n",
       "2  0PFtn5NtBbbUNbU9EAmIWF        Toto          76   753405.0        toto   \n",
       "3  6P7H3ai06vU1sGvdpBwDmE  Steely Dan          68   601480.0  steely dan   \n",
       "4  6P7H3ai06vU1sGvdpBwDmE  Steely Dan          68   601480.0  steely dan   \n",
       "\n",
       "                  song_id   song_title       CID     PID        Title  \\\n",
       "0  0007aPK8VmXN4ycL2OcBFa  bodhisattva  126127.0  6030.0  bodhisattva   \n",
       "1  4F6419huGNh7rXB8Kr1rBf  bodhisattva  126127.0  6030.0  bodhisattva   \n",
       "2  6auUOYXyP76l4fiqC86c9E  bodhisattva  126127.0  6030.0  bodhisattva   \n",
       "3  10JB78fwqaUrCFZj3XNn6L  bodhisattva  126127.0  1699.0  bodhisattva   \n",
       "4  6cdLlECd80adBM3fgEk9Km  bodhisattva  126127.0  1699.0  bodhisattva   \n",
       "\n",
       "  Performer Name       IPI         Writer Name    PRO  \n",
       "0           toto  89150949  BECKER WALTER CARL  ASCAP  \n",
       "1           toto  89150949  BECKER WALTER CARL  ASCAP  \n",
       "2           toto  89150949  BECKER WALTER CARL  ASCAP  \n",
       "3     steely dan  89150949  BECKER WALTER CARL  ASCAP  \n",
       "4     steely dan  89150949  BECKER WALTER CARL  ASCAP  "
      ]
     },
     "execution_count": 4,
     "metadata": {},
     "output_type": "execute_result"
    }
   ],
   "source": [
    "df.head()"
   ]
  },
  {
   "cell_type": "markdown",
   "metadata": {},
   "source": [
    "#### Dropping non-numeric columns"
   ]
  },
  {
   "cell_type": "code",
   "execution_count": 60,
   "metadata": {},
   "outputs": [],
   "source": [
    "df = df[['popularity', 'followers', 'CID', 'PID', 'WID']]"
   ]
  },
  {
   "cell_type": "markdown",
   "metadata": {},
   "source": [
    "## 2. Computing Nearest Neighbors"
   ]
  },
  {
   "cell_type": "code",
   "execution_count": 34,
   "metadata": {},
   "outputs": [],
   "source": [
    "nn = NearestNeighbors(n_neighbors=10,\n",
    "                      metric = 'euclidean')"
   ]
  },
  {
   "cell_type": "code",
   "execution_count": 35,
   "metadata": {},
   "outputs": [],
   "source": [
    "fit_df = nn.fit(df)"
   ]
  },
  {
   "cell_type": "code",
   "execution_count": 36,
   "metadata": {},
   "outputs": [
    {
     "data": {
      "text/plain": [
       "NearestNeighbors(algorithm='auto', leaf_size=30, metric='euclidean',\n",
       "         metric_params=None, n_jobs=None, n_neighbors=10, p=2, radius=1.0)"
      ]
     },
     "execution_count": 36,
     "metadata": {},
     "output_type": "execute_result"
    }
   ],
   "source": [
    "fit_df"
   ]
  },
  {
   "cell_type": "code",
   "execution_count": 61,
   "metadata": {},
   "outputs": [],
   "source": [
    "euclidean_distances, euclidean_indices = nn.kneighbors(df)"
   ]
  },
  {
   "cell_type": "code",
   "execution_count": 63,
   "metadata": {},
   "outputs": [],
   "source": [
    "euclidean_distances.tofile('../data/final_model_test/distances_20190428.fid')\n",
    "euclidean_indices.tofile('../data/final_model_test/indices_20190428.fid')"
   ]
  },
  {
   "cell_type": "code",
   "execution_count": 43,
   "metadata": {},
   "outputs": [
    {
     "data": {
      "text/plain": [
       "'/Users/jonjohnson/dev/SWI_2/Songwriter_Index/notebooks'"
      ]
     },
     "execution_count": 43,
     "metadata": {},
     "output_type": "execute_result"
    }
   ],
   "source": [
    "import os\n",
    "\n",
    "os.getcwd()"
   ]
  },
  {
   "cell_type": "code",
   "execution_count": 44,
   "metadata": {},
   "outputs": [],
   "source": [
    "os.chdir('../data/')"
   ]
  },
  {
   "cell_type": "code",
   "execution_count": 45,
   "metadata": {},
   "outputs": [],
   "source": [
    "os.mkdir('final_model_test')"
   ]
  },
  {
   "cell_type": "code",
   "execution_count": 46,
   "metadata": {},
   "outputs": [],
   "source": [
    "os.chdir('../notebooks')"
   ]
  },
  {
   "cell_type": "code",
   "execution_count": 47,
   "metadata": {},
   "outputs": [],
   "source": [
    "distances.tofile('../data/final_model_test/distances_20190424.fid')\n",
    "indices.tofile('../data/final_model_test/indices_20190424.fid')"
   ]
  },
  {
   "cell_type": "markdown",
   "metadata": {},
   "source": [
    "### 2a. Merging Observations with Indices and Distances"
   ]
  },
  {
   "cell_type": "code",
   "execution_count": 41,
   "metadata": {},
   "outputs": [],
   "source": [
    "euclidean_distances = np.fromfile('../data/final_model_test/distances_20190428.fid')\n",
    "euclidean_indices = np.fromfile('../data/final_model_test/indices_20190428.fid')"
   ]
  },
  {
   "cell_type": "code",
   "execution_count": 64,
   "metadata": {},
   "outputs": [
    {
     "data": {
      "text/plain": [
       "array([[   2,    0,    1, ...,  643,  639,  642],\n",
       "       [   2,    0,    1, ...,  643,  639,  642],\n",
       "       [   2,    0,    1, ...,  643,  639,  642],\n",
       "       ...,\n",
       "       [ 896,  897,  898, ..., 1002, 1001, 1000],\n",
       "       [ 896,  897,  898, ..., 1002, 1001, 1000],\n",
       "       [ 899,  894, 1007, ...,  999,  900, 1241]], dtype=int16)"
      ]
     },
     "execution_count": 64,
     "metadata": {},
     "output_type": "execute_result"
    }
   ],
   "source": [
    "euclidean_indices.astype(np.int16)[:900]"
   ]
  },
  {
   "cell_type": "code",
   "execution_count": 55,
   "metadata": {},
   "outputs": [
    {
     "data": {
      "text/plain": [
       "array([   0,    0,    1,    1,    1, 1397, 1397, 1397, 1397, 1397,    0,\n",
       "          0,    1,    1,    1, 1397, 1397, 1397, 1397, 1397,    0,    0,\n",
       "          1,    1,    1, 1397, 1397, 1397, 1397, 1397,    0,    0,    1,\n",
       "          1,    1,    1,    1,    1,    2,    2,    0,    0,    1,    1,\n",
       "          1,    1,    1,    1,    2,    2,    0,    0,    1,    1,    1,\n",
       "          1,    1,    1,    2,    2], dtype=int16)"
      ]
     },
     "execution_count": 55,
     "metadata": {},
     "output_type": "execute_result"
    }
   ],
   "source": [
    "euclidean_distances.astype(np.int16)[:60]"
   ]
  },
  {
   "cell_type": "code",
   "execution_count": 6,
   "metadata": {},
   "outputs": [],
   "source": [
    "distances = np.fromfile('../data/final_model_test/distances_20190424.fid')\n",
    "indices = np.fromfile('../data/final_model_test/indices_20190424.fid')"
   ]
  },
  {
   "cell_type": "code",
   "execution_count": 8,
   "metadata": {},
   "outputs": [
    {
     "data": {
      "text/plain": [
       "(4629650,)"
      ]
     },
     "execution_count": 8,
     "metadata": {},
     "output_type": "execute_result"
    }
   ],
   "source": [
    "distances.shape"
   ]
  },
  {
   "cell_type": "code",
   "execution_count": 65,
   "metadata": {},
   "outputs": [],
   "source": [
    "df_distances = pd.DataFrame(np.vstack(np.split(euclidean_distances, 462965)))\n",
    "df_indices = pd.DataFrame(np.vstack(np.split(euclidean_indices, 462965)))"
   ]
  },
  {
   "cell_type": "code",
   "execution_count": 66,
   "metadata": {},
   "outputs": [
    {
     "data": {
      "text/plain": [
       "(462965, 10)"
      ]
     },
     "execution_count": 66,
     "metadata": {},
     "output_type": "execute_result"
    }
   ],
   "source": [
    "df_distances.shape"
   ]
  },
  {
   "cell_type": "code",
   "execution_count": 67,
   "metadata": {},
   "outputs": [
    {
     "data": {
      "text/plain": [
       "(462965, 10)"
      ]
     },
     "execution_count": 67,
     "metadata": {},
     "output_type": "execute_result"
    }
   ],
   "source": [
    "df_indices.shape"
   ]
  },
  {
   "cell_type": "code",
   "execution_count": 70,
   "metadata": {},
   "outputs": [],
   "source": [
    "X_distances = pd.concat([df[['track_id',\n",
    "                             'Song Title',\n",
    "                             'artist_name',\n",
    "                             'Writer Name',\n",
    "                             'WID']],\n",
    "                         df_distances],\n",
    "                        axis = 1)"
   ]
  },
  {
   "cell_type": "code",
   "execution_count": 71,
   "metadata": {},
   "outputs": [],
   "source": [
    "X_indices = pd.concat([df[['track_id',\n",
    "                             'Song Title',\n",
    "                             'artist_name',\n",
    "                             'Writer Name',\n",
    "                             'WID']],\n",
    "                         df_indices],\n",
    "                        axis = 1)"
   ]
  },
  {
   "cell_type": "code",
   "execution_count": 72,
   "metadata": {},
   "outputs": [
    {
     "data": {
      "text/html": [
       "<div>\n",
       "<style scoped>\n",
       "    .dataframe tbody tr th:only-of-type {\n",
       "        vertical-align: middle;\n",
       "    }\n",
       "\n",
       "    .dataframe tbody tr th {\n",
       "        vertical-align: top;\n",
       "    }\n",
       "\n",
       "    .dataframe thead th {\n",
       "        text-align: right;\n",
       "    }\n",
       "</style>\n",
       "<table border=\"1\" class=\"dataframe\">\n",
       "  <thead>\n",
       "    <tr style=\"text-align: right;\">\n",
       "      <th></th>\n",
       "      <th>track_id</th>\n",
       "      <th>Song Title</th>\n",
       "      <th>artist_name</th>\n",
       "      <th>Writer Name</th>\n",
       "      <th>WID</th>\n",
       "      <th>0</th>\n",
       "      <th>1</th>\n",
       "      <th>2</th>\n",
       "      <th>3</th>\n",
       "      <th>4</th>\n",
       "      <th>5</th>\n",
       "      <th>6</th>\n",
       "      <th>7</th>\n",
       "      <th>8</th>\n",
       "      <th>9</th>\n",
       "    </tr>\n",
       "  </thead>\n",
       "  <tbody>\n",
       "    <tr>\n",
       "      <th>0</th>\n",
       "      <td>0007aPK8VmXN4ycL2OcBFa</td>\n",
       "      <td>Bodhisattva - Live</td>\n",
       "      <td>toto</td>\n",
       "      <td>BECKER WALTER CARL</td>\n",
       "      <td>7280</td>\n",
       "      <td>0.0</td>\n",
       "      <td>0.0</td>\n",
       "      <td>0.0</td>\n",
       "      <td>1.0</td>\n",
       "      <td>1.0</td>\n",
       "      <td>1.0</td>\n",
       "      <td>1397.30097</td>\n",
       "      <td>1397.30097</td>\n",
       "      <td>1397.300970</td>\n",
       "      <td>1397.30097</td>\n",
       "    </tr>\n",
       "    <tr>\n",
       "      <th>1</th>\n",
       "      <td>4F6419huGNh7rXB8Kr1rBf</td>\n",
       "      <td>Bodhisattva - Live</td>\n",
       "      <td>toto</td>\n",
       "      <td>BECKER WALTER CARL</td>\n",
       "      <td>7280</td>\n",
       "      <td>0.0</td>\n",
       "      <td>0.0</td>\n",
       "      <td>0.0</td>\n",
       "      <td>1.0</td>\n",
       "      <td>1.0</td>\n",
       "      <td>1.0</td>\n",
       "      <td>1397.30097</td>\n",
       "      <td>1397.30097</td>\n",
       "      <td>1397.300970</td>\n",
       "      <td>1397.30097</td>\n",
       "    </tr>\n",
       "    <tr>\n",
       "      <th>2</th>\n",
       "      <td>6auUOYXyP76l4fiqC86c9E</td>\n",
       "      <td>Bodhisattva - Live</td>\n",
       "      <td>toto</td>\n",
       "      <td>BECKER WALTER CARL</td>\n",
       "      <td>7280</td>\n",
       "      <td>0.0</td>\n",
       "      <td>0.0</td>\n",
       "      <td>0.0</td>\n",
       "      <td>1.0</td>\n",
       "      <td>1.0</td>\n",
       "      <td>1.0</td>\n",
       "      <td>1397.30097</td>\n",
       "      <td>1397.30097</td>\n",
       "      <td>1397.300970</td>\n",
       "      <td>1397.30097</td>\n",
       "    </tr>\n",
       "    <tr>\n",
       "      <th>3</th>\n",
       "      <td>10JB78fwqaUrCFZj3XNn6L</td>\n",
       "      <td>Bodhisattva</td>\n",
       "      <td>steely dan</td>\n",
       "      <td>BECKER WALTER CARL</td>\n",
       "      <td>7280</td>\n",
       "      <td>0.0</td>\n",
       "      <td>0.0</td>\n",
       "      <td>0.0</td>\n",
       "      <td>1.0</td>\n",
       "      <td>1.0</td>\n",
       "      <td>1.0</td>\n",
       "      <td>1.00000</td>\n",
       "      <td>1.00000</td>\n",
       "      <td>1.414214</td>\n",
       "      <td>2.00000</td>\n",
       "    </tr>\n",
       "    <tr>\n",
       "      <th>4</th>\n",
       "      <td>6cdLlECd80adBM3fgEk9Km</td>\n",
       "      <td>Bodhisattva</td>\n",
       "      <td>steely dan</td>\n",
       "      <td>BECKER WALTER CARL</td>\n",
       "      <td>7280</td>\n",
       "      <td>0.0</td>\n",
       "      <td>0.0</td>\n",
       "      <td>0.0</td>\n",
       "      <td>1.0</td>\n",
       "      <td>1.0</td>\n",
       "      <td>1.0</td>\n",
       "      <td>1.00000</td>\n",
       "      <td>1.00000</td>\n",
       "      <td>1.414214</td>\n",
       "      <td>2.00000</td>\n",
       "    </tr>\n",
       "  </tbody>\n",
       "</table>\n",
       "</div>"
      ],
      "text/plain": [
       "                 track_id          Song Title artist_name         Writer Name  \\\n",
       "0  0007aPK8VmXN4ycL2OcBFa  Bodhisattva - Live        toto  BECKER WALTER CARL   \n",
       "1  4F6419huGNh7rXB8Kr1rBf  Bodhisattva - Live        toto  BECKER WALTER CARL   \n",
       "2  6auUOYXyP76l4fiqC86c9E  Bodhisattva - Live        toto  BECKER WALTER CARL   \n",
       "3  10JB78fwqaUrCFZj3XNn6L         Bodhisattva  steely dan  BECKER WALTER CARL   \n",
       "4  6cdLlECd80adBM3fgEk9Km         Bodhisattva  steely dan  BECKER WALTER CARL   \n",
       "\n",
       "    WID    0    1    2    3    4    5           6           7            8  \\\n",
       "0  7280  0.0  0.0  0.0  1.0  1.0  1.0  1397.30097  1397.30097  1397.300970   \n",
       "1  7280  0.0  0.0  0.0  1.0  1.0  1.0  1397.30097  1397.30097  1397.300970   \n",
       "2  7280  0.0  0.0  0.0  1.0  1.0  1.0  1397.30097  1397.30097  1397.300970   \n",
       "3  7280  0.0  0.0  0.0  1.0  1.0  1.0     1.00000     1.00000     1.414214   \n",
       "4  7280  0.0  0.0  0.0  1.0  1.0  1.0     1.00000     1.00000     1.414214   \n",
       "\n",
       "            9  \n",
       "0  1397.30097  \n",
       "1  1397.30097  \n",
       "2  1397.30097  \n",
       "3     2.00000  \n",
       "4     2.00000  "
      ]
     },
     "execution_count": 72,
     "metadata": {},
     "output_type": "execute_result"
    }
   ],
   "source": [
    "X_distances.head()"
   ]
  },
  {
   "cell_type": "code",
   "execution_count": 74,
   "metadata": {},
   "outputs": [
    {
     "data": {
      "text/html": [
       "<div>\n",
       "<style scoped>\n",
       "    .dataframe tbody tr th:only-of-type {\n",
       "        vertical-align: middle;\n",
       "    }\n",
       "\n",
       "    .dataframe tbody tr th {\n",
       "        vertical-align: top;\n",
       "    }\n",
       "\n",
       "    .dataframe thead th {\n",
       "        text-align: right;\n",
       "    }\n",
       "</style>\n",
       "<table border=\"1\" class=\"dataframe\">\n",
       "  <thead>\n",
       "    <tr style=\"text-align: right;\">\n",
       "      <th></th>\n",
       "      <th>track_id</th>\n",
       "      <th>Song Title</th>\n",
       "      <th>artist_name</th>\n",
       "      <th>Writer Name</th>\n",
       "      <th>WID</th>\n",
       "      <th>0</th>\n",
       "      <th>1</th>\n",
       "      <th>2</th>\n",
       "      <th>3</th>\n",
       "      <th>4</th>\n",
       "      <th>5</th>\n",
       "      <th>6</th>\n",
       "      <th>7</th>\n",
       "      <th>8</th>\n",
       "      <th>9</th>\n",
       "    </tr>\n",
       "  </thead>\n",
       "  <tbody>\n",
       "    <tr>\n",
       "      <th>0</th>\n",
       "      <td>0007aPK8VmXN4ycL2OcBFa</td>\n",
       "      <td>Bodhisattva - Live</td>\n",
       "      <td>toto</td>\n",
       "      <td>BECKER WALTER CARL</td>\n",
       "      <td>7280</td>\n",
       "      <td>2</td>\n",
       "      <td>0</td>\n",
       "      <td>1</td>\n",
       "      <td>148</td>\n",
       "      <td>146</td>\n",
       "      <td>147</td>\n",
       "      <td>641</td>\n",
       "      <td>643</td>\n",
       "      <td>639</td>\n",
       "      <td>642</td>\n",
       "    </tr>\n",
       "    <tr>\n",
       "      <th>1</th>\n",
       "      <td>4F6419huGNh7rXB8Kr1rBf</td>\n",
       "      <td>Bodhisattva - Live</td>\n",
       "      <td>toto</td>\n",
       "      <td>BECKER WALTER CARL</td>\n",
       "      <td>7280</td>\n",
       "      <td>2</td>\n",
       "      <td>0</td>\n",
       "      <td>1</td>\n",
       "      <td>148</td>\n",
       "      <td>146</td>\n",
       "      <td>147</td>\n",
       "      <td>641</td>\n",
       "      <td>643</td>\n",
       "      <td>639</td>\n",
       "      <td>642</td>\n",
       "    </tr>\n",
       "    <tr>\n",
       "      <th>2</th>\n",
       "      <td>6auUOYXyP76l4fiqC86c9E</td>\n",
       "      <td>Bodhisattva - Live</td>\n",
       "      <td>toto</td>\n",
       "      <td>BECKER WALTER CARL</td>\n",
       "      <td>7280</td>\n",
       "      <td>2</td>\n",
       "      <td>0</td>\n",
       "      <td>1</td>\n",
       "      <td>148</td>\n",
       "      <td>146</td>\n",
       "      <td>147</td>\n",
       "      <td>641</td>\n",
       "      <td>643</td>\n",
       "      <td>639</td>\n",
       "      <td>642</td>\n",
       "    </tr>\n",
       "    <tr>\n",
       "      <th>3</th>\n",
       "      <td>10JB78fwqaUrCFZj3XNn6L</td>\n",
       "      <td>Bodhisattva</td>\n",
       "      <td>steely dan</td>\n",
       "      <td>BECKER WALTER CARL</td>\n",
       "      <td>7280</td>\n",
       "      <td>3</td>\n",
       "      <td>5</td>\n",
       "      <td>4</td>\n",
       "      <td>151</td>\n",
       "      <td>53</td>\n",
       "      <td>149</td>\n",
       "      <td>150</td>\n",
       "      <td>103</td>\n",
       "      <td>207</td>\n",
       "      <td>74</td>\n",
       "    </tr>\n",
       "    <tr>\n",
       "      <th>4</th>\n",
       "      <td>6cdLlECd80adBM3fgEk9Km</td>\n",
       "      <td>Bodhisattva</td>\n",
       "      <td>steely dan</td>\n",
       "      <td>BECKER WALTER CARL</td>\n",
       "      <td>7280</td>\n",
       "      <td>3</td>\n",
       "      <td>5</td>\n",
       "      <td>4</td>\n",
       "      <td>151</td>\n",
       "      <td>53</td>\n",
       "      <td>149</td>\n",
       "      <td>150</td>\n",
       "      <td>103</td>\n",
       "      <td>207</td>\n",
       "      <td>74</td>\n",
       "    </tr>\n",
       "  </tbody>\n",
       "</table>\n",
       "</div>"
      ],
      "text/plain": [
       "                 track_id          Song Title artist_name         Writer Name  \\\n",
       "0  0007aPK8VmXN4ycL2OcBFa  Bodhisattva - Live        toto  BECKER WALTER CARL   \n",
       "1  4F6419huGNh7rXB8Kr1rBf  Bodhisattva - Live        toto  BECKER WALTER CARL   \n",
       "2  6auUOYXyP76l4fiqC86c9E  Bodhisattva - Live        toto  BECKER WALTER CARL   \n",
       "3  10JB78fwqaUrCFZj3XNn6L         Bodhisattva  steely dan  BECKER WALTER CARL   \n",
       "4  6cdLlECd80adBM3fgEk9Km         Bodhisattva  steely dan  BECKER WALTER CARL   \n",
       "\n",
       "    WID  0  1  2    3    4    5    6    7    8    9  \n",
       "0  7280  2  0  1  148  146  147  641  643  639  642  \n",
       "1  7280  2  0  1  148  146  147  641  643  639  642  \n",
       "2  7280  2  0  1  148  146  147  641  643  639  642  \n",
       "3  7280  3  5  4  151   53  149  150  103  207   74  \n",
       "4  7280  3  5  4  151   53  149  150  103  207   74  "
      ]
     },
     "execution_count": 74,
     "metadata": {},
     "output_type": "execute_result"
    }
   ],
   "source": [
    "X_indices.head()"
   ]
  },
  {
   "cell_type": "code",
   "execution_count": 76,
   "metadata": {},
   "outputs": [
    {
     "data": {
      "text/plain": [
       "track_id       0007aPK8VmXN4ycL2OcBFa\n",
       "Song Title         Bodhisattva - Live\n",
       "artist_name                      toto\n",
       "Writer Name          FAGEN DONALD JAY\n",
       "WID                              7281\n",
       "0                                 147\n",
       "1                                 148\n",
       "2                                 146\n",
       "3                                   0\n",
       "4                                   1\n",
       "5                                   2\n",
       "6                                 641\n",
       "7                                 643\n",
       "8                                 639\n",
       "9                                 642\n",
       "Name: 146, dtype: object"
      ]
     },
     "execution_count": 76,
     "metadata": {},
     "output_type": "execute_result"
    }
   ],
   "source": [
    "X_indices.iloc[146]"
   ]
  },
  {
   "cell_type": "markdown",
   "metadata": {},
   "source": [
    "### 3. Determing Voting Mechanism"
   ]
  },
  {
   "cell_type": "code",
   "execution_count": 79,
   "metadata": {},
   "outputs": [],
   "source": [
    "X_voters = X_indices[['WID',\n",
    "                      0,\n",
    "                      1,\n",
    "                      2,\n",
    "                      3,\n",
    "                      4,\n",
    "                      5,\n",
    "                      6,\n",
    "                      7,\n",
    "                      8,\n",
    "                      9]]"
   ]
  },
  {
   "cell_type": "code",
   "execution_count": 126,
   "metadata": {},
   "outputs": [
    {
     "data": {
      "text/plain": [
       "Index(['WID', 0, 1, 2, 3, 4, 5, 6, 7, 8, 9], dtype='object')"
      ]
     },
     "execution_count": 126,
     "metadata": {},
     "output_type": "execute_result"
    }
   ],
   "source": [
    "X_voters.columns"
   ]
  },
  {
   "cell_type": "code",
   "execution_count": 104,
   "metadata": {},
   "outputs": [],
   "source": [
    "X_voters_dict = X_voters.to_dict(orient = 'index')"
   ]
  },
  {
   "cell_type": "code",
   "execution_count": 105,
   "metadata": {},
   "outputs": [
    {
     "data": {
      "text/plain": [
       "{'WID': 7280,\n",
       " 0: 2,\n",
       " 1: 0,\n",
       " 2: 1,\n",
       " 3: 148,\n",
       " 4: 146,\n",
       " 5: 147,\n",
       " 6: 641,\n",
       " 7: 643,\n",
       " 8: 639,\n",
       " 9: 642}"
      ]
     },
     "execution_count": 105,
     "metadata": {},
     "output_type": "execute_result"
    }
   ],
   "source": [
    "X_voters_dict[0]"
   ]
  },
  {
   "cell_type": "code",
   "execution_count": 107,
   "metadata": {},
   "outputs": [],
   "source": [
    "index_wid_dct = df['WID'].to_dict()"
   ]
  },
  {
   "cell_type": "code",
   "execution_count": 118,
   "metadata": {},
   "outputs": [
    {
     "data": {
      "text/plain": [
       "False"
      ]
     },
     "execution_count": 118,
     "metadata": {},
     "output_type": "execute_result"
    }
   ],
   "source": [
    "(355, 7280) in index_wid_dct.items()"
   ]
  },
  {
   "cell_type": "code",
   "execution_count": 133,
   "metadata": {},
   "outputs": [
    {
     "data": {
      "text/plain": [
       "462965"
      ]
     },
     "execution_count": 133,
     "metadata": {},
     "output_type": "execute_result"
    }
   ],
   "source": [
    "len(index_wid_dct)"
   ]
  },
  {
   "cell_type": "code",
   "execution_count": 143,
   "metadata": {},
   "outputs": [],
   "source": [
    "def index_to_wid_mapping(df):\n",
    "    index_wid_dict = df['WID'].to_dict()\n",
    "    just_voters_df = df.drop('WID', axis = 1)\n",
    "    new_voters_dict = {i:[] for i in range(len(just_voters_df))}\n",
    "    \n",
    "    count = 0\n",
    "    for entry in just_voters_df.itertuples():\n",
    "        for item in entry[:]:\n",
    "            if item in index_wid_dict:\n",
    "                new_voters_dict[count].append(index_wid_dict[item])\n",
    "        count += 1\n",
    "    \n",
    "    new_voters_df = pd.DataFrame.from_dict(new_voters_dict,\n",
    "                                           orient= 'index',\n",
    "                                           columns = [i for i in range(11)])\n",
    "    \n",
    "    new_voters_df = pd.concat([pd.DataFrame.from_dict(index_wid_dict,\n",
    "                                                      orient = 'index',\n",
    "                                                      columns = ['WID']),\n",
    "                               new_voters_df], axis = 1)\n",
    "\n",
    "    return new_voters_df"
   ]
  },
  {
   "cell_type": "code",
   "execution_count": 144,
   "metadata": {},
   "outputs": [],
   "source": [
    "X_voters_2 = index_to_wid_mapping(X_voters)"
   ]
  },
  {
   "cell_type": "code",
   "execution_count": 194,
   "metadata": {},
   "outputs": [
    {
     "data": {
      "text/html": [
       "<div>\n",
       "<style scoped>\n",
       "    .dataframe tbody tr th:only-of-type {\n",
       "        vertical-align: middle;\n",
       "    }\n",
       "\n",
       "    .dataframe tbody tr th {\n",
       "        vertical-align: top;\n",
       "    }\n",
       "\n",
       "    .dataframe thead th {\n",
       "        text-align: right;\n",
       "    }\n",
       "</style>\n",
       "<table border=\"1\" class=\"dataframe\">\n",
       "  <thead>\n",
       "    <tr style=\"text-align: right;\">\n",
       "      <th></th>\n",
       "      <th>track_id</th>\n",
       "      <th>Song Title</th>\n",
       "      <th>Artist</th>\n",
       "      <th>artist_id</th>\n",
       "      <th>name</th>\n",
       "      <th>popularity</th>\n",
       "      <th>followers</th>\n",
       "      <th>artist_name</th>\n",
       "      <th>song_id</th>\n",
       "      <th>song_title</th>\n",
       "      <th>CID</th>\n",
       "      <th>PID</th>\n",
       "      <th>Title</th>\n",
       "      <th>Performer Name</th>\n",
       "      <th>WID</th>\n",
       "      <th>Writer Name</th>\n",
       "      <th>IPI</th>\n",
       "      <th>PRO</th>\n",
       "    </tr>\n",
       "  </thead>\n",
       "  <tbody>\n",
       "  </tbody>\n",
       "</table>\n",
       "</div>"
      ],
      "text/plain": [
       "Empty DataFrame\n",
       "Columns: [track_id, Song Title, Artist, artist_id, name, popularity, followers, artist_name, song_id, song_title, CID, PID, Title, Performer Name, WID, Writer Name, IPI, PRO]\n",
       "Index: []"
      ]
     },
     "execution_count": 194,
     "metadata": {},
     "output_type": "execute_result"
    }
   ],
   "source": [
    "df[df['WID'] == 35426]"
   ]
  },
  {
   "cell_type": "code",
   "execution_count": 189,
   "metadata": {},
   "outputs": [
    {
     "data": {
      "text/html": [
       "<div>\n",
       "<style scoped>\n",
       "    .dataframe tbody tr th:only-of-type {\n",
       "        vertical-align: middle;\n",
       "    }\n",
       "\n",
       "    .dataframe tbody tr th {\n",
       "        vertical-align: top;\n",
       "    }\n",
       "\n",
       "    .dataframe thead th {\n",
       "        text-align: right;\n",
       "    }\n",
       "</style>\n",
       "<table border=\"1\" class=\"dataframe\">\n",
       "  <thead>\n",
       "    <tr style=\"text-align: right;\">\n",
       "      <th></th>\n",
       "      <th>WID</th>\n",
       "      <th>0</th>\n",
       "      <th>1</th>\n",
       "      <th>2</th>\n",
       "      <th>3</th>\n",
       "      <th>4</th>\n",
       "      <th>5</th>\n",
       "      <th>6</th>\n",
       "      <th>7</th>\n",
       "      <th>8</th>\n",
       "      <th>9</th>\n",
       "    </tr>\n",
       "  </thead>\n",
       "  <tbody>\n",
       "  </tbody>\n",
       "</table>\n",
       "</div>"
      ],
      "text/plain": [
       "Empty DataFrame\n",
       "Columns: [WID, 0, 1, 2, 3, 4, 5, 6, 7, 8, 9]\n",
       "Index: []"
      ]
     },
     "execution_count": 189,
     "metadata": {},
     "output_type": "execute_result"
    }
   ],
   "source": [
    "X_voters[X_voters['WID'] == 105444]"
   ]
  },
  {
   "cell_type": "code",
   "execution_count": 190,
   "metadata": {},
   "outputs": [
    {
     "data": {
      "text/html": [
       "<div>\n",
       "<style scoped>\n",
       "    .dataframe tbody tr th:only-of-type {\n",
       "        vertical-align: middle;\n",
       "    }\n",
       "\n",
       "    .dataframe tbody tr th {\n",
       "        vertical-align: top;\n",
       "    }\n",
       "\n",
       "    .dataframe thead th {\n",
       "        text-align: right;\n",
       "    }\n",
       "</style>\n",
       "<table border=\"1\" class=\"dataframe\">\n",
       "  <thead>\n",
       "    <tr style=\"text-align: right;\">\n",
       "      <th></th>\n",
       "      <th>WID</th>\n",
       "      <th>0</th>\n",
       "      <th>1</th>\n",
       "      <th>2</th>\n",
       "      <th>3</th>\n",
       "      <th>4</th>\n",
       "      <th>5</th>\n",
       "      <th>6</th>\n",
       "      <th>7</th>\n",
       "      <th>8</th>\n",
       "      <th>9</th>\n",
       "      <th>10</th>\n",
       "    </tr>\n",
       "  </thead>\n",
       "  <tbody>\n",
       "  </tbody>\n",
       "</table>\n",
       "</div>"
      ],
      "text/plain": [
       "Empty DataFrame\n",
       "Columns: [WID, 0, 1, 2, 3, 4, 5, 6, 7, 8, 9, 10]\n",
       "Index: []"
      ]
     },
     "execution_count": 190,
     "metadata": {},
     "output_type": "execute_result"
    }
   ],
   "source": [
    "X_voters_2[X_voters_2['WID'] == 105444]"
   ]
  },
  {
   "cell_type": "code",
   "execution_count": 100,
   "metadata": {},
   "outputs": [],
   "source": [
    "def count_vals(df):\n",
    "    id_dict = {wid : Counter() for wid in df['WID'].unique()}\n",
    "    for entry in df.itertuples():\n",
    "            id_dict[entry[1]].update(entry[2:])\n",
    "    return id_dict"
   ]
  },
  {
   "cell_type": "code",
   "execution_count": 101,
   "metadata": {},
   "outputs": [],
   "source": [
    "# with just index values\n",
    "\n",
    "count_df = count_vals(X_voters)"
   ]
  },
  {
   "cell_type": "code",
   "execution_count": 145,
   "metadata": {},
   "outputs": [],
   "source": [
    "# with WID values instead of index values\n",
    "\n",
    "count_df_2 = count_vals(X_voters_2)"
   ]
  },
  {
   "cell_type": "code",
   "execution_count": 182,
   "metadata": {},
   "outputs": [
    {
     "data": {
      "text/plain": [
       "[(41, 10),\n",
       " (40, 10),\n",
       " (43, 10),\n",
       " (42, 10),\n",
       " (120, 10),\n",
       " (119, 10),\n",
       " (118, 10),\n",
       " (53, 9),\n",
       " (207, 9),\n",
       " (60, 9)]"
      ]
     },
     "execution_count": 182,
     "metadata": {},
     "output_type": "execute_result"
    }
   ],
   "source": [
    "count_df[7280].most_common(10)"
   ]
  },
  {
   "cell_type": "code",
   "execution_count": 196,
   "metadata": {},
   "outputs": [
    {
     "data": {
      "text/plain": [
       "[(1940, 1979),\n",
       " (1979, 55),\n",
       " (1981, 45),\n",
       " (1945, 45),\n",
       " (347, 42),\n",
       " (1252, 38),\n",
       " (2530, 29),\n",
       " (1622, 27),\n",
       " (2871, 25),\n",
       " (3747, 24)]"
      ]
     },
     "execution_count": 196,
     "metadata": {},
     "output_type": "execute_result"
    }
   ],
   "source": [
    "count_df_2[1940].most_common(10)"
   ]
  },
  {
   "cell_type": "code",
   "execution_count": 168,
   "metadata": {},
   "outputs": [
    {
     "data": {
      "text/plain": [
       "dict_keys([7280, 7281, 2642, 6145, 9495, 60204, 60244, 60324, 14498, 60215, 60281, 3208, 60235, 60163, 60164, 60168, 19791, 60265, 104338, 6144, 60268, 5898, 60243, 60327, 347, 207636, 221189, 261342, 1786, 60306, 16868, 253407, 60318, 190351, 28, 77282, 429000, 60353, 50609, 56336, 1956, 253373, 20019, 86354, 8882, 11354, 14877, 3135, 46853, 305835, 78042, 410015, 16231, 410069, 46854, 305850, 356861, 261732, 15789, 11767, 305862, 178351, 53387, 149564, 16858, 16859, 16860, 200418, 39422, 59369, 200457, 61574, 351485, 200402, 200530, 12616, 200553, 200554, 200620, 22475, 90143, 90145, 200480, 16552, 200410, 200392, 200383, 200389, 200390, 31152, 31153, 351487, 200465, 52615, 200411, 17344, 17345, 17346, 17347, 200484, 48305, 253578, 253522, 253537, 240729, 253587, 29697, 65613, 132884, 132891, 132895, 92870, 92871, 132885, 132886, 20391, 8667, 29963, 138111, 6209, 14260, 30104, 9700, 9701, 10290, 26168, 26145, 12156, 29987, 10196, 10197, 9677, 30091, 26138, 3250, 138193, 11855, 30114, 7746, 7747, 7748, 26131, 24161, 24162, 29937, 5499, 5500, 30109, 30110, 2312, 2313, 3140, 9153, 9154, 21090, 26137, 10049, 10050, 10051, 10052, 29995, 29996, 29997, 26144, 30105, 9186, 9187, 18721, 18722, 29970, 9074, 75368, 26154, 138114, 9676, 138202, 30035, 1783, 13389, 2284, 2285, 29965, 26162, 24103, 24104, 93350, 12260, 30020, 3566, 3567, 56185, 56186, 30111, 30112, 30121, 30038, 30039, 303, 30107, 30123, 30000, 30065, 30022, 6108, 30056, 12710, 138118, 26172, 26173, 29314, 45526, 30113, 30076, 26112, 26113, 26114, 26150, 138222, 26119, 26148, 26141, 11257, 133090, 133091, 8421, 3576, 26128, 26129, 351, 26161, 17775, 30049, 30086, 138162, 30081, 17637, 30032, 8549, 64900, 64901, 30040, 138138, 29962, 184, 138123, 29985, 29986, 39945, 160494, 161468, 161575, 112583, 161549, 161470, 51549, 51550, 161482, 32743, 32746, 32747, 6321, 161498, 39947, 39948, 161539, 161644, 161640, 8880, 8881, 7052, 7053, 710, 820, 823, 28443, 37839, 3478, 43135, 43136, 318, 37106, 37107, 27015, 12732, 12734, 20466, 68, 69, 32851, 38556, 73079, 347988, 25896, 96895, 28683, 28685, 2463, 2464, 2428, 6182, 14185, 17093, 187514, 10281, 10282, 151763, 168939, 168940, 3191, 12145, 348007, 709, 970, 348070, 348071, 15196, 44933, 64213, 3086, 9098, 14179, 17484, 348048, 17803, 3358, 3359, 46816, 109353, 1728, 348001, 9173, 14109, 2164, 30985, 8481, 17453, 348025, 348026, 348075, 347981, 348064, 25227, 45321, 11580, 26226, 45161, 407596, 1252, 18645, 25063, 45167, 45107, 164355, 25228, 38084, 9046, 45212, 45213, 407691, 45193, 1117, 1119, 120335, 120338, 30426, 28761, 224426, 2530, 29138, 70499, 9182, 11510, 45182, 28746, 60153, 164395, 45235, 45236, 19039, 29733, 101352, 1610, 57161, 45147, 164387, 45315, 45316, 45177, 7584, 79842, 120437, 1153, 121472, 19686, 45289, 3848, 45856, 45857, 70547, 45140, 3780, 298755, 298756, 3725, 2875, 15523, 110651, 1028, 4568, 3708, 45174, 9979, 6016, 222843, 222846, 94179, 108577, 1189, 16254, 15560, 407721, 525407, 552892, 407723, 525408, 552893, 3703, 3706, 179095, 298871, 9208, 561189, 3142, 45297, 110540, 127359, 164501, 207523, 407629, 120413, 15489, 87414, 175168, 33022, 45283, 120479, 63156, 32736, 400887, 26192, 298777, 298778, 1256, 16500, 45139, 9331, 11102, 84381, 12812, 132772, 206926, 261208, 3772, 298834, 164469, 15376, 19973, 45104, 52983, 227403, 45203, 45204, 298897, 164477, 3841, 7895, 18647, 33832, 33833, 33834, 33835, 33837, 33764, 14820, 33999, 19781, 19783, 19786, 19900, 19940, 19855, 19865, 33758, 25378, 33792, 33793, 7121, 18646, 7012, 27147, 32950, 33056, 19832, 20071, 34068, 34069, 34072, 34075, 22509, 22534, 22566, 2585, 33894, 1030, 1031, 1034, 7382, 33952, 33866, 34060, 34061, 34062, 25700, 25916, 33933, 28351, 3760, 18648, 4674, 33811, 7438, 26425, 27373, 34006, 33916, 33917, 33918, 9505, 15440, 4546, 4667, 11098, 33882, 33884, 7897, 33943, 33946, 33875, 13614, 3761, 33986, 238989, 504222, 73951, 74038, 138627, 419091, 419095, 74040, 294824, 219173, 397749, 94198, 94201, 105139, 105140, 419354, 331396, 419285, 3145, 247763, 419129, 419131, 72983, 10199, 29866, 419062, 287518, 83295, 419223, 419224, 3786, 11873, 27546, 56711, 56733, 56734, 74036, 1048, 4839, 73754, 419251, 419252, 419253, 419198, 21014, 54202, 419289, 419290, 419292, 419029, 126524, 419047, 419048, 16554, 419192, 419071, 3579, 3580, 3581, 3583, 3586, 3847, 31339, 75563, 75564, 419303, 9166, 29865, 338212, 419345, 419225, 419229, 141288, 419179, 419180, 419182, 419184, 5602, 419053, 15672, 15673, 29771, 419230, 419100, 6211, 419175, 14390, 419216, 419219, 294886, 419275, 419276, 419277, 419279, 30726, 14450, 163605, 419054, 419057, 182121, 130390, 147727, 419022, 419025, 419026, 419027, 125611, 300120, 419018, 44125, 87250, 87296, 419245, 67786, 67788, 247755, 419160, 419307, 419304, 419306, 419308, 419309, 419310, 15638, 25428, 72933, 74157, 419347, 6959, 25645, 35473, 410326, 419149, 104071, 411585, 411586, 411587, 411589, 411591, 411594, 433816, 433848, 433813, 433814, 433815, 411590, 411592, 433913, 28430, 33700, 33701, 33702, 33703, 76437, 433876, 433834, 433812, 429482, 340, 135064, 144935, 117253, 219769, 76149, 20388, 11787, 53996, 10048, 51520, 3285, 54010, 194126, 2261, 78057, 78058, 1261, 88272, 117301, 119297, 375882, 375885, 375904, 60035, 88268, 375887, 375886, 375921, 17490, 28908, 75338, 32561, 51812, 3129, 7119, 33210, 70618, 187953, 2385, 2386, 3111, 36790, 6133, 7107, 12737, 1785, 9006, 10576, 333242, 1931, 25425, 6162, 51813, 15893, 197696, 2240, 37658, 64093, 64095, 333228, 11572, 49657, 123740, 116501, 116503, 174638, 174642, 174643, 123737, 123738, 123739, 123741, 105310, 174637, 92985, 156917, 156938, 174652, 174690, 174697, 7468, 12335, 174620, 174721, 174621, 174625, 41040, 78790, 174728, 174731, 174644, 174626, 64674, 36402, 36403, 7004, 24165, 112776, 117315, 117441, 117254, 117256, 117267, 117382, 117255, 76924, 185, 117375, 117376, 110121, 34909, 117336, 39292, 117334, 13493, 117270, 6603, 117261, 117263, 117292, 117323, 117324, 117325, 52520, 60969, 7596, 20291, 37500, 694, 695, 6636, 57640, 57641, 10320, 10321, 117280, 117281, 25156, 8399, 58753, 117433, 117434, 117435, 117436, 3072, 3357, 24163, 117277, 117306, 110270, 117425, 1784, 117415, 12220, 117286, 12135, 32924, 481623, 481624, 65116, 481639, 481609, 481620, 481621, 143185, 169590, 169591, 42787, 126268, 139034, 227193, 26720, 26722, 75441, 105459, 481608, 481651, 26719, 70304, 20562, 45069, 45070, 3752, 3754, 3553, 7831, 304, 44978, 9128, 12261, 12262, 737, 44984, 44985, 44986, 45030, 10244, 10246, 10249, 3626, 14100, 32112, 28827, 45087, 6174, 9146, 10194, 14169, 10261, 16104, 9040, 30968, 30970, 30971, 12725, 12726, 10279, 44966, 45073, 11209, 11210, 8471, 10268, 38443, 97, 98, 9145, 44968, 10255, 17797, 13382, 13383, 44999, 1954, 7160, 31219, 689, 1955, 6210, 44976, 44977, 30871, 10302, 10303, 8465, 9201, 45000, 45001, 11036, 30988, 44973, 8440, 24251, 20581, 20582, 44962, 80694, 80695, 24692, 101570, 101571, 20387, 63542, 45, 9759, 30941, 30942, 30943, 30888, 34157, 9824, 269923, 8470, 42820, 42821, 14067, 10219, 9157, 10211, 10212, 80763, 37410, 37504, 45664, 6207, 37441, 37499, 196803, 196804, 14089, 20386, 9156, 48142, 12862, 12863, 16296, 7231, 235504, 219409, 198879, 32840, 26443, 77943, 77945, 206623, 17670, 17732, 219439, 7016, 7017, 7018, 7019, 7020, 139564, 219398, 219436, 7585, 19873, 35387, 525377, 50137, 6102, 153174, 203240, 219440, 25155, 219431, 219432, 219433, 219435, 16351, 351710, 525366, 525367, 525368, 525369, 38507, 38508, 38509, 38511, 38512, 525356, 525357, 210401, 19316, 16499, 525410, 260876, 525489, 26474, 178308, 13335, 110523, 4746, 2915, 34118, 34119, 5446, 91866, 91867, 91887, 91888, 91889, 91873, 12258, 91864, 91895, 91922, 91927, 91929, 10858, 10859, 10865, 91894, 130963, 22067, 68553, 220028, 148775, 263433, 263331, 9805, 69826, 69827, 32737, 36353, 69822, 69866, 711, 69872, 19342, 69844, 64631, 69814, 69830, 69851, 455602, 17461, 57714, 120097, 14257, 33391, 62368, 62369, 30878, 30879, 9147, 9148, 6206, 30865, 30929, 63566, 63568, 26988, 123, 30898, 12636, 29441, 17496, 30236, 9172, 30873, 240196, 383118, 383119, 383120, 30947, 89, 28292, 30863, 30301, 30961, 31023, 30982, 30983, 30984, 20367, 290613, 88, 72377, 169679, 14134, 30880, 30881, 30882, 30891, 23026, 30978, 30979, 30981, 14255, 30948, 57710, 383170, 30902, 31325, 31327, 30886, 383160, 31010, 20436, 30859, 30987, 17446, 30855, 30921, 30949, 14196, 383136, 10260, 144974, 31006, 16633, 17406, 18418, 24363, 736, 13397, 20365, 30899, 30900, 30901, 66114, 383165, 117284, 17527, 17528, 383167, 24109, 31016, 31017, 31018, 17448, 30923, 30924, 30925, 130036, 3589, 10198, 7450, 7471, 9653, 25607, 56776, 73117, 73119, 73120, 73121, 73123, 232193, 73125, 39475, 39477, 71352, 73137, 208451, 73133, 73134, 73136, 73138, 5391, 10117, 10123, 73080, 73082, 73139, 73140, 73141, 73064, 73027, 73031, 73032, 73073, 73075, 73076, 28297, 73048, 73110, 73130, 15896, 47530, 73049, 28568, 39506, 39507, 58451, 73036, 73054, 73037, 9384, 56811, 73095, 1255, 5454, 19574, 73103, 37602, 21419, 73070, 73085, 73087, 73088, 3062, 13060, 29898, 11573, 444564, 20697, 15527, 15607, 29684, 11483, 157206, 286162, 4577, 4581, 19494, 515168, 515169, 515172, 151586, 151591, 151592, 349754, 349756, 349757, 29789, 29790, 36097, 4574, 29850, 70433, 188439, 8759, 22393, 29798, 7091, 33693, 78272, 349682, 393781, 1926, 12543, 38802, 7548, 29736, 15424, 16852, 197468, 444506, 5389, 9814, 345432, 354384, 354321, 354359, 354305, 10309, 10231, 350710, 169763, 256200, 10242, 31582, 82690, 82691, 258803, 171201, 171617, 35852, 88858, 13630, 78066, 78068, 17476, 37, 38, 39, 37471, 64281, 64282, 2162, 78059, 41794, 41795, 4891, 9635, 14306, 14351, 3710, 182235, 14296, 133802, 133803, 33472, 14295, 132600, 14298, 14299, 1981, 14304, 1668, 14364, 14368, 14374, 14414, 182356, 182417, 1207, 7011, 14345, 14350, 14354, 3788, 25090, 31500, 90445, 9638, 14331, 7025, 7027, 7028, 15894, 48915, 73044, 182360, 154240, 157109, 14378, 14379, 14380, 14382, 1621, 182181, 182183, 14339, 14353, 425680, 14427, 21682, 2901, 27444, 14360, 60146, 60147, 182111, 182112, 124520, 3179, 3180, 118568, 16279, 39548, 39550, 39551, 154265, 3728, 182157, 182159, 14397, 182141, 14327, 363191, 5632, 61013, 124201, 182205, 182212, 182214, 182441, 182215, 459205, 182217, 14410, 182293, 3729, 76293, 76299, 14422, 14424, 14318, 14319, 14322, 17384, 14432, 14434, 14435, 16095, 17668, 182312, 182316, 182406, 182384, 3997, 43194, 191222, 191194, 191286, 411645, 191183, 411723, 191181, 6186, 119290, 6112, 34724, 72352, 35091, 91376, 91377, 119310, 72353, 46969, 444, 505, 72442, 275275, 8573, 6187, 6188, 6131, 119326, 119279, 59381, 43580, 77675, 185549, 185550, 185551, 185552, 185553, 185554, 119273, 435930, 8576, 119270, 119272, 457866, 165632, 23688, 119329, 119312, 121, 185559, 457806, 35160, 10619, 17746, 457697, 14536, 212180, 544986, 457706, 119318, 195686, 457736, 83, 457775, 87139, 457856, 119327, 126738, 457798, 457800, 457888, 76913, 78231, 418226, 418228, 418229, 418230, 418231, 418232, 418233, 418234, 418236, 418246, 88590, 418293, 418215, 10111, 418334, 5830, 325224, 418320, 418322, 418323, 19465, 19468, 19470, 76914, 34842, 2449, 418225, 51313, 79127, 79128, 190339, 44374, 367200, 76113, 180443, 418251, 107940, 418291, 27485, 27488, 11211, 246862, 136445, 68214, 136448, 136429, 89582, 136439, 79620, 84589, 61907, 136478, 55647, 79619, 23079, 136460, 136447, 136465, 136479, 136436, 136477, 3430, 28119, 63107, 116532, 31932, 16911, 37053, 6170, 88631, 2934, 26320, 43820, 278109, 278111, 74211, 74261, 90988, 8450, 25558, 31561, 266144, 2587, 3419, 3769, 12979, 45348, 58254, 274235, 17340, 17716, 2505, 41329, 278150, 278152, 54886, 278142, 20615, 52220, 109580, 278045, 285010, 118304, 25479, 278252, 232585, 278029, 278031, 278032, 11996, 99687, 223259, 223260, 26242, 134004, 2504, 14454, 181875, 278054, 278090, 19518, 67292, 278172, 84293, 278056, 9167, 9168, 65185, 3768, 3457, 41330, 112474, 112475, 26358, 36341, 20997, 278081, 278082, 53731, 1646, 25373, 20539, 46767, 56384, 278087, 10407, 59014, 16908, 22742, 278124, 27020, 26783, 278221, 728, 203138, 278239, 278117, 28138, 32284, 125092, 278236, 3823, 3825, 31930, 227860, 313005, 146755, 146756, 146757, 278007, 278281, 62334, 79568, 4571, 11529, 25568, 40653, 41373, 65120, 278105, 278006, 278008, 278064, 13428, 3747, 7167, 37063, 47896, 62198, 232468, 7067, 9569, 42251, 47897, 277995, 52071, 62216, 32147, 32314, 3395, 32259, 199979, 199990, 200001, 200003, 199980, 34395, 199984, 199985, 199991, 199992, 199995, 199997, 78528, 200007, 159209, 199987, 199989, 17407, 31596, 31597, 219304, 165, 171836, 219344, 17482, 17483, 163160, 163161, 163162, 163163, 163164, 163168, 163170, 163225, 14085, 163213, 66516, 6217, 163166, 163194, 163228, 17193, 17197, 29567, 93311, 122986, 89181, 122999, 21006, 122997, 123018, 122985, 50332, 123016, 123012, 52142, 50259, 17450, 17468, 171, 17440, 17441, 17442, 466717, 12263, 466682, 466683, 466650, 88332, 88333, 225284, 225285, 10046, 10776, 73, 6103, 6110, 6105, 6106, 6107, 6113, 6114, 6157, 742, 743, 6109, 5650, 6129, 6149, 6150, 6126, 6138, 6163, 6173, 6132, 6180, 432, 6171, 1896, 6141, 6156, 6125, 6134, 6142, 6143, 6184, 6139, 6122, 6123, 6119, 6120, 6121, 6116, 6117, 6118, 854, 6176, 41027, 49661, 22055, 41037, 41105, 2853, 1962, 41082, 49698, 118154, 118155, 13359, 41111, 296221, 40356, 296216, 41104, 13348, 166097, 49726, 41141, 1253, 39418, 296286, 41196, 41198, 186279, 296199, 296306, 296308, 296309, 6033, 19662, 79584, 118261, 118265, 1645, 36742, 41195, 165965, 41090, 41092, 118148, 118132, 41157, 23900, 158170, 5146, 6159, 118176, 118178, 118179, 189765, 84577, 3290, 80077, 406806, 406807, 9188, 75218, 10215, 80070, 12238, 80073, 80074, 1843, 22476, 22477, 22478, 22481, 22482, 58824, 58825, 58829, 58830, 16195, 58813, 137720, 14021, 57186, 185623, 14023, 14028, 14042, 311590, 14024, 14025, 358095, 379364, 379365, 251537, 251566, 251567, 251568, 251570, 251525, 251535, 251550, 251551, 251523, 251524, 251526, 251527, 251528, 251536, 251538, 251543, 729, 14761, 41484, 251601, 192125, 251540, 88439, 88481, 5281, 5282, 103479, 27380, 103495, 103497, 103483, 48997, 48998, 48999, 49002, 49000, 49071, 49296, 20873, 129485, 49001, 49048, 49029, 49082, 49099, 49168, 49038, 49032, 198540, 266726, 14141, 22444, 95181, 266714, 14087, 18855, 266723, 1875, 5989, 19336, 4090, 8532, 64090, 103270, 266751, 42657, 266758, 39370, 266735, 266764, 210076, 20278, 150797, 266746, 266747, 266716, 76150, 81431, 715, 79959, 266727, 10747, 10748, 10750, 10749, 181575, 181570, 181571, 181572, 254194, 164038, 181606, 181628, 181573, 181600, 254192, 181662, 181663, 181664, 181665, 181666, 254207, 79684, 254307, 168909, 168910, 254217, 273, 11851, 47815, 47818, 162426, 34159, 8480, 8482, 89363, 260831, 96152, 260833, 260834, 7048, 20874, 260795, 3520, 158470, 260816, 67547, 112984, 14210, 14211, 46845, 103498, 260824, 45808, 37474, 46815, 111053, 260822, 13401, 13402, 63632, 124668, 124669, 124670, 29067, 260797, 260798, 8630, 111052, 111054, 19269, 19270, 132646, 522731, 522732, 522733, 522734, 522740, 221883, 9206, 14267, 14268, 14270, 14273, 6969, 10016, 28319, 285520, 285521, 285536, 285563, 285564, 2529, 73908, 7176, 41902, 6999, 9195, 285574, 285538, 285540, 285541, 55669, 152753, 152754, 169437, 169438, 51314, 51301, 51320, 51332, 51333, 580, 51347, 51338, 51321, 51345, 51295, 51300, 47967, 17541, 47956, 47966, 47963, 47961, 47971, 47992, 47993, 47985, 47975, 114540, 7413, 49476, 105505, 180218, 197006, 267346, 70507, 186752, 393237, 393356, 69840, 324810, 3822, 4506, 196997, 40192, 393335, 393255, 393256, 393257, 393258, 393259, 552, 553, 96821, 293261, 11439, 21724, 100171, 129460, 330523, 544158, 544141, 22107, 196823, 258960, 330553, 330533, 330504, 72385, 275272, 275273, 330467, 3136, 330520, 330521, 22105, 330454, 218485, 218486, 207971, 210285, 271294, 89108, 193314, 1623, 42023, 129381, 35019, 3420, 65161, 2586, 4824, 4828, 7995, 8679, 151665, 3835, 16310, 43840, 43904, 59735, 478636, 478637, 478640, 54136, 1797, 7996, 25427, 192511, 192517, 513542, 19762, 19854, 19858, 45793, 33717, 38600, 43787, 46113, 73589, 73752, 75988, 75992, 75993, 75995, 75996, 1098, 4907, 32123, 34291, 28145, 72513, 85402, 126480, 126483, 19763, 19862, 32347, 43863, 3726, 64376, 22510, 61255, 147552, 3060, 15899, 23224, 45383, 82324, 18914, 479771, 479772, 479773, 29473, 328872, 2528, 43789, 21801, 113850, 147517, 4708, 16311, 64085, 73966, 73967, 73969, 73971, 44364, 44106, 55256, 368860, 31698, 3845, 3846, 15155, 41819, 15326, 192258, 487356, 513582, 6641, 10548, 287521, 287523, 43947, 92759, 92770, 92771, 114623, 1076, 26337, 28149, 105124, 5599, 11746, 12887, 27809, 58542, 138577, 191905, 191923, 252547, 1010, 1129, 1130, 51153, 191919, 340792, 26697, 26698, 26699, 26700, 26701, 26755, 40258, 48753, 513590, 513593, 513594, 513595, 10404, 39238, 43819, 465683, 227903, 14530, 14531, 75436, 102070, 115458, 115460, 115462, 115465, 353221, 353222, 7621, 179398, 479779, 479780, 479781, 479782, 84343, 116468, 200787, 200789, 40388, 43786, 43790, 75861, 38664, 38665, 38667, 38668, 38669, 38670, 40252, 3843, 67942, 8989, 3770, 15321, 10448, 22604, 22605, 18291, 3453, 27141, 61214, 61215, 12544, 12545, 1940, 1979, 1980, 90313, 20999, 58103, 22526, 63244, 148233, 148283, 18592, 65241, 2937, 5846, 3458, 6643, 20612, 26371, 61213, 134653, 43941, 43944, 43948, 4870, 26810, 32275, 513567, 3838, 113846, 8677, 19867, 19046, 89849, 4754, 7084, 26326, 29474, 29518, 34292, 16, 9381, 26352, 1942, 218940, 22550, 32136, 32137, 32138, 32139, 77975, 116435, 429584, 1973, 55735, 55736, 55737, 523182, 523183, 15614, 21695, 42195, 49700, 3065, 35562, 225276, 2017, 160199, 31613, 665, 669, 49684, 49687, 112277, 15513, 18794, 25109, 21007, 19147, 32184, 32258, 224844, 100157, 3577, 3578, 3704, 117662, 256930, 479796, 31558, 31559, 25476, 88458, 119854, 3713, 5554, 7367, 29469, 30638, 30639, 30640, 31757, 479754, 479756, 7198, 37516, 183494, 3800, 34963, 25341, 25518, 2728, 39832, 43407, 208521, 208523, 3397, 43451, 192812, 1399, 662, 7601, 7602, 31486, 31487, 25449, 43823, 36019, 196976, 196977, 318099, 318100, 25345, 42888, 509872, 25477, 123079, 25346, 25348, 25349, 106876, 42743, 39385, 98068, 84645, 102749, 513573, 513574, 513575, 43927, 43932, 43934, 1725, 25399, 25404, 25406, 116460, 116471, 15536, 18750, 30431, 30432, 30435, 67146, 79435, 84413, 10022, 10023, 23238, 23239, 23240, 23245, 171661, 197067, 265059, 43842, 53519, 19851, 85647, 106187, 130452, 277026, 130159, 130160, 130161, 16181, 7077, 92702, 92703, 65201, 107649, 107651, 107652, 48824, 15898, 209722, 44413, 5387, 2746, 123118, 73637, 80301, 147565, 147567, 147570, 147572, 34528, 479764, 1400, 74976, 55516, 55517, 40363, 252561, 104390, 7417, 7426, 67223, 4502, 24055, 71411, 202022, 202023, 202026, 202028, 202029, 218335, 437637, 12413, 14113, 29683, 133736, 513576, 513577, 4692, 259968, 259969, 259971, 1637, 4547, 90978, 22746, 479785, 479786, 26308, 242236, 3831, 3832, 3833, 3834, 92919, 123458, 123460, 20618, 181705, 7009, 7010, 6958, 14709, 10269, 288613, 70002, 70003, 17480, 17481, 46340, 46342, 11849, 48077, 29318, 2517, 2518, 2519, 17478, 264875, 3753, 7689, 11255, 140038, 10337, 38974, 38975, 38900, 312807, 312815, 261934, 26721, 132757, 466756, 466782, 88405, 157965, 235796, 106652, 158207, 466812, 538250, 460448, 538269, 8253, 453928, 453925, 453930, 453955, 453927, 60469, 67677, 453963, 54063, 54064, 139683, 453926, 453929, 453940, 453941, 453936, 453950, 453951, 180912, 453953, 453938, 453946, 453960, 453934, 453935, 453968, 453923, 453924, 31590, 31591, 20740, 136418, 34216, 34217, 88777, 163110, 163112, 163113, 39515, 39516, 291581, 12554, 197954, 197956, 51203, 51204, 51205, 61426, 291503, 188199, 243196, 19720, 144423, 291541, 84281, 163002, 6430, 203721, 13384, 291554, 20070, 47612, 84300, 233999, 1038, 291522, 291529, 30443, 60191, 308148, 308192, 308205, 308206, 308250, 308208, 308209, 308213, 308147, 308300, 308302, 115898, 38764, 129416, 129417, 129418, 129419, 432083, 419719, 419720, 419721, 419722, 22744, 209413, 308282, 308283, 63636, 63638, 83333, 419844, 26422, 126432, 141001, 419761, 419763, 419764, 39474, 31527, 308160, 148394, 101763, 432089, 36880, 106262, 37756, 3836, 139685, 17214, 208447, 7892, 19258, 230583, 432039, 432040, 419753, 308272, 84612, 59789, 432193, 18720, 95690, 432072, 19319, 432194, 528669, 7196, 9906, 10656, 73782, 308220, 340610, 340612, 308284, 1215, 30442, 197100, 419784, 5570, 189133, 231641, 419855, 432059, 308252, 528673, 308295, 432204, 322266, 76285, 135678, 177249, 177251, 422226, 432069, 528769, 71101, 265878, 2940, 28376, 28419, 410578, 280064, 432131, 156818, 269653, 1906, 7531, 14263, 419715, 419716, 36242, 528759, 25939, 199243, 423636, 39822, 54080, 419744, 528764, 184134, 308287, 308288, 48422, 124590, 286402, 23042, 3187, 55847, 229178, 286611, 24487, 96699, 286507, 143974, 61352, 286572, 286620, 25380, 48420, 48421, 286617, 286618, 286619, 8893, 338329, 7021, 42396, 42400, 65520, 286397, 4732, 44159, 532543, 532544, 532545, 532546, 532550, 17609, 123864, 286473, 41833, 229773, 229774, 229775, 235167, 235168, 286447, 286451, 71983, 286422, 45970, 195262, 256068, 34920, 286441, 19680, 138902, 286651, 105018, 1701, 12660, 102890, 7828, 11916, 29772, 29773, 37249, 44146, 171516, 286585, 286586, 140515, 34960, 45125, 4561, 132225, 52863, 85678, 163286, 73615, 286546, 4638, 67157, 78647, 80237, 281276, 8659, 32540, 54466, 54468, 312109, 51064, 61280, 61819, 4518, 127193, 4807, 135142, 286460, 25376, 286673, 4608, 5539, 9317, 15446, 27503, 27505, 311263, 11889, 33417, 75310, 75313, 274847, 21758, 561265, 989, 991, 17727, 29116, 310219, 175521, 310884, 310887, 310888, 430581, 225202, 9370, 15736, 2871, 37897, 19890, 196396, 196399, 75323, 75325, 1618, 1622, 8147, 22696, 11917, 175296, 21811, 191670, 440817, 3695, 4507, 4510, 46056, 101277, 46065, 46066, 46070, 46071, 46095, 5541, 39508, 47445, 196380, 11682, 75298, 34720, 274961, 274962, 274963, 65188, 292887, 292888, 84283, 84284, 84285, 12928, 15198, 15512, 15515, 35609, 21824, 21826, 21827, 207553, 30801, 38911, 189530, 189531, 20779, 21420, 311164, 75327, 189553, 357399, 3850, 137640, 1620, 7093, 11677, 11679, 11681, 11683, 27591, 127203, 266350, 429200, 9868, 56768, 124721, 5565, 16902, 44269, 230174, 357440, 1938, 2991, 19163, 102979, 5557, 5560, 5561, 5566, 5568, 11875, 182188, 229023, 9994, 133529, 156188, 156191, 223678, 223679, 223685, 223687, 229047, 189508, 230377, 390294, 113488, 357481, 26212, 258357, 287379, 306176, 258358, 287380, 258360, 287382, 287384, 52607, 128936, 13326, 74880, 18908, 37704, 549765, 9582, 9136, 91125, 18902, 430894, 74851, 39447, 45924, 9287, 42272, 164243, 3719, 4597, 429150, 1619, 1625, 258485, 4584, 4586, 15504, 75820, 75826, 75948, 88121, 88125, 88128, 88129, 35388, 41883, 440856, 440857, 440858, 112483, 136330, 6940, 6941, 5574, 40980, 25778, 32616, 37604, 52866, 32625, 310237, 83158, 83159, 311314, 5137, 310226, 310229, 527630, 74879, 300942, 6050, 101256, 203246, 390202, 390204, 189429, 196480, 20739, 38682, 38685, 175303, 38520, 46221, 88184, 81761, 173176, 195119, 74878, 75022, 3777, 31746, 45687, 73165, 73288, 279735, 31799, 476943, 476944, 133405, 133406, 45486, 349679, 42715, 12708, 23080, 8603, 42718, 42719, 8559, 42711, 42713, 13257, 84585, 84586, 84587, 197881, 430633, 29795, 29856, 511931, 511932, 430641, 430642, 430643, 12155, 29915, 29916, 8604, 15293, 139188, 53300, 15760, 232941, 232942, 139182, 8504, 39009, 40458, 9762, 42723, 272471, 417738, 11028, 11030, 430660, 89581, 19952, 19958, 174243, 4943, 430624, 134087, 220504, 220520, 34623, 12447, 336538, 481757, 336539, 9942, 32223, 42933, 481746, 481748, 168210, 168211, 12448, 3467, 109930, 187872, 13481, 311883, 56051, 88578, 88579, 34622, 132211, 481906, 34627, 126487, 187840, 481956, 481957, 312455, 187813, 187814, 481756, 1958, 3724, 481729, 481730, 481732, 95234, 132210, 481821, 2460, 481752, 481769, 12530, 220792, 379822, 26252, 99960, 183901, 481860, 55645, 116911, 116913, 208384, 352487, 69165, 164035, 164580, 495488, 10355, 65034, 65035, 65183, 5370, 5371, 7875, 495609, 113148, 495688, 495690, 266527, 288163, 481798, 177897, 388326, 66203, 66204, 66248, 36343, 69628, 71536, 82894, 481908, 381542, 13448, 481768, 495551, 20331, 65354, 70570, 70577, 509297, 509298, 13000, 92875, 495415, 7503, 495586, 392913, 481726, 495555, 495651, 20538, 429334, 12445, 94205, 176245, 481923, 495623, 216226, 88554, 20812, 28881, 187825, 187828, 8741, 28209, 28210, 41331, 495676, 495677, 495678, 495680, 495682, 28259, 83694, 270981, 495408, 285039, 481747, 495602, 495603, 20703, 90121, 495647, 72297, 495512, 9829, 186501, 328715, 347476, 481911, 481915, 391975, 495462, 78977, 78984, 85545, 85546, 85550, 154794, 230995, 287990, 331816, 495513, 495514, 99912, 495481, 441732, 441734, 27329, 441690, 441696, 441697, 58404, 441698, 441708, 441709, 441710, 441692, 441721, 441722, 5194, 134057, 13506, 13507, 441702, 1974, 1975, 1976, 1966, 26488, 26489, 17381, 17382, 26477, 551483, 3720, 9458, 21653, 353463, 4504, 4505, 4651, 26510, 26501, 139280, 73719, 551536, 4596, 449134, 25064, 26545, 15388, 243587, 353393, 16277, 26458, 16255, 26494, 55274, 176477, 390427, 18881, 18883, 83339, 3785, 35810, 4575, 230351, 390396, 405419, 12128, 163304, 41323, 551489, 448830, 153041, 26468, 26469, 26470, 11101, 16276, 207462, 148613, 148614, 19882, 31551, 45342, 26549, 26514, 26517, 26519, 26433, 448805, 15675, 15691, 171530, 3711, 12176, 6015, 47390, 139324, 139327, 390366, 449176, 448836, 448838, 229567, 32879, 12204, 229604, 7232, 67676, 193976, 229587, 229583, 229584, 229611, 229610, 229571, 229659, 229639, 229642, 56912, 22460, 479706, 479707, 3483, 47166, 94371, 130741, 408739, 41857, 408711, 77199, 108609, 108608, 7397, 7398, 10571, 78774, 408723, 15465, 15466, 15467, 101346, 178974, 15692, 15532, 265935, 19974, 10030, 108604, 108605, 18, 51461, 108566, 15375, 10479, 408872, 108587, 31911, 110545, 151690, 34984, 11444, 3844, 11474, 408854, 408859, 173179, 363482, 408877, 272313, 25303, 262953, 262956, 408687, 408694, 15148, 151562, 24785, 301207, 284783, 473669, 13360, 280694, 175250, 175252, 278581, 49490, 49491, 168070, 164670, 164671, 278582, 392109, 523138, 37478, 45065, 45066, 51210, 52599, 64287, 350667, 350652, 350653, 32525, 350658, 350681, 350663, 350666, 17469, 305903, 15759, 36230, 13403, 31205, 16362, 222852, 222853, 120521, 227300, 227303, 227307, 516503, 516506, 227445, 227446, 7571, 24567, 90401, 203409, 227322, 433, 105954, 19970, 396466, 16485, 37964, 37968, 42916, 163952, 227294, 516603, 16361, 227326, 4779, 233000, 233002, 227430, 4821, 53877, 32966, 23062, 44178, 203241, 219414, 227329, 92606, 92607, 104456, 107040, 167896, 170700, 104458, 107037, 38897, 292357, 292366, 60398, 170766, 170653, 119903, 292378, 292226, 170703, 133763, 471736, 170712, 19335, 170585, 170586, 379, 471767, 56973, 56974, 56975, 170613, 96817, 110783, 110784, 110785, 9007, 14200, 110788, 27448, 110786, 110896, 110916, 32, 110841, 1939, 1941, 1946, 40997, 148258, 25795, 45481, 415948, 347153, 347154, 75235, 75236, 75237, 6011, 34822, 17759, 17760, 3253, 37145, 79965, 653, 655, 656, 660, 106421, 112891, 112892, 60583, 60584, 332700, 17800, 45516, 112922, 332754, 15997, 3560, 46939, 51672, 70005, 70006, 70007, 21808, 21809, 11796, 74541, 82943, 172391, 3382, 112913, 68204, 46730, 63432, 112876, 20423, 20424, 20433, 20434, 20428, 20429, 20430, 8069, 17786, 112911, 34759, 112928, 17764, 112916, 76523, 332759, 22637, 10216, 11755, 17794, 32926, 32928, 32929, 32931, 32932, 332697, 12197, 29709, 112906, 112880, 69993, 113469, 332719, 332721, 13620, 48684, 112918, 153934, 50266, 112931, 112933, 23339, 23340, 23342, 9698, 75189, 75190, 39005, 39006, 39007, 7707, 20425, 20427, 50308, 112860, 14131, 126799, 112856, 112857, 195652, 71546, 17770, 19726, 20389, 112898, 3178, 211855, 211817, 211819, 211820, 71051, 74326, 2903, 2904, 251435, 798, 860, 879, 20583, 70397, 3350, 32703, 32704, 52459, 3278, 100109, 11244, 37188, 115196, 51198, 62616, 197973, 62971, 78350, 8574, 219965, 347642, 347643, 347644, 347432, 92780, 151269, 237935, 347456, 347607, 34140, 347413, 125840, 347519, 347585, 219964, 16853, 219969, 347416, 23595, 18661, 219967, 347451, 39869, 273151, 347569, 39920, 347564, 347546, 347426, 23683, 74568, 347498, 347478, 347479, 347566, 347532, 45897, 132340, 347537, 347536, 347538, 316724, 347651, 347652, 347510, 12254, 180459, 347669, 347678, 347470, 347524, 8090, 207101, 21869, 62575, 734, 46492, 3996, 7131, 40548, 53258, 347619, 90701, 347465, 347599, 347601, 347602, 347603, 8469, 41740, 68620, 68622, 6027, 6029, 106284, 8325, 512710, 512711, 512691, 22243, 8062, 8063, 8064, 33605, 33606, 33607, 33608, 96210, 222011, 3139, 563863, 14771, 60467, 11926, 25885, 35813, 195226, 195230, 19136, 195269, 195270, 1614, 35507, 195161, 195281, 195282, 35504, 195134, 195135, 195136, 195137, 19182, 25901, 33078, 70576, 195188, 195193, 8267, 89005, 460443, 460386, 460428, 460429, 460437, 460439, 37600, 13361, 17465, 20498, 75254, 75255, 26120, 213481, 93769, 93771, 55809, 7137, 173881, 173882, 7133, 9398, 53551, 979, 125629, 173939, 41259, 114126, 78753, 173996, 114132, 114119, 55810, 114222, 25788, 25792, 25794, 71109, 74355, 74356, 87578, 174021, 114243, 173858, 19767, 114207, 114230, 114247, 114180, 173972, 173844, 173845, 114212, 173941, 173942, 3698, 114209, 173964, 174026, 317587, 317590, 156162, 163064, 317616, 317617, 317618, 129111, 90227, 90243, 83787, 173977, 173978, 114205, 114206, 173966, 114208, 173839, 173840, 173842, 125093, 125100, 11208, 173984, 173986, 114193, 114194, 114195, 114196, 114198, 150710, 35924, 173988, 173990, 8488, 26579, 169762, 157332, 157333, 17447, 120032, 427008, 17457, 6632, 343167, 54978, 81208, 343147, 971, 992, 168502, 8075, 495262, 495263, 168501, 168494, 391191, 79600, 168519, 168508, 58212, 89065, 194079, 212107, 495311, 12325, 53981, 495266, 48480, 15734, 3584, 3585, 1700, 18591, 495280, 1702, 47384, 27139, 47395, 47458, 47464, 507005, 47465, 86513, 258249, 311750, 6017, 152614, 47439, 409554, 506930, 409553, 9325, 15624, 10017, 409569, 47405, 188769, 409505, 15704, 26436, 35834, 221842, 340392, 340395, 5585, 25835, 45221, 47382, 56962, 383719, 19474, 94376, 409573, 171072, 3694, 47389, 47402, 506927, 409626, 18067, 20444, 409421, 18114, 81657, 81694, 409557, 409549, 409550, 1613, 35615, 507037, 507040, 409427, 45842, 27404, 385509, 409507, 47406, 409525, 132437, 283552, 302100, 137560, 409620, 224212, 409617, 47446, 507068, 170948, 171168, 506970, 409469, 5607, 247368, 308561, 409533, 409411, 409415, 8020, 507049, 179341, 70448, 506904, 407497, 175140, 409473, 409471, 14804, 76945, 76946, 23690, 76902, 76903, 76905, 76906, 76925, 76909, 43010, 69763, 5559, 11689, 76930, 37133, 76939, 60607, 60608, 59605, 59606, 59607, 2251, 72779, 15827, 76915, 33192, 38886, 10204, 20459, 36453, 36454, 76918, 21663, 31127, 76920, 76922, 6208, 76910, 48042, 261000, 261084, 261021, 261036, 261037, 261103, 261074, 261039, 261108, 38778, 243021, 261013, 261014, 261042, 133943, 165525, 261027, 261052, 7100, 3164, 97248, 157521, 157720, 157722, 157723, 157725, 157726, 157607, 138292, 138293, 138294, 4753, 110434, 157496, 35398, 138793, 157526, 149645, 489363, 157625, 157648, 157635, 157636, 27523, 216704, 216705, 399265, 489344, 489347, 35626, 37856, 80420, 327558, 489382, 87307, 489430, 489432, 4902, 133822, 157716, 74691, 9170, 274484, 157699, 157605, 489400, 157629, 157630, 270277, 489414, 289080, 489376, 2574, 9075, 2375, 90222, 157626, 157627, 489328, 110686, 157744, 31692, 31693, 71697, 74651, 135091, 90529, 374312, 374321, 63652, 28784, 28785, 25372, 63575, 48279, 45037, 45038, 64029, 357019, 63630, 63686, 12846, 357063, 14135, 14136, 63543, 63544, 17804, 17805, 63550, 63551, 63552, 103934, 51718, 63680, 17445, 30962, 20384, 17467, 63685, 63545, 156846, 26117, 3588, 10308, 27362, 29991, 276, 17518, 17519, 17520, 31572, 31573, 63602, 26580, 63666, 63668, 63670, 63671, 63561, 357037, 357038, 357039, 63531, 63595, 63596, 63597, 57045, 63570, 63571, 24690, 56990, 56991, 63659, 81619, 63641, 133240, 462415, 462419, 462421, 462423, 1788, 462413, 34749, 462438, 462439, 462431, 462474, 17211, 55477, 462417, 462418, 72449, 416712, 462447, 462448, 462428, 462435, 462436, 462437, 19140, 19165, 19167, 19168, 19169, 39608, 383283, 73324, 383310, 383252, 280768, 120852, 18872, 182581, 35677, 383301, 383324, 280780, 383243, 114606, 10973, 10974, 10975, 10976, 280786, 383334, 383294, 3506, 17772, 17773, 17774, 14062, 17758, 3283, 17766, 58403, 228566, 228567, 17394, 32912, 61734, 89727, 359729, 39024, 227635, 125683, 359742, 359743, 359725, 29321, 159267, 125682, 125684, 17505, 10250, 115337, 44909, 44910, 359732, 88779, 325324, 359744, 359736, 260028, 260029, 260030, 260031, 393481, 393482, 393483, 393484, 3315, 191590, 136594, 5640, 38919, 12200, 40554, 115189, 16237, 338, 8045, 9682, 48022, 48023, 89491, 59719, 9683, 29713, 12070, 54090, 140048, 19432, 34818, 75228, 75229, 75230, 75231, 24256, 2950, 9693, 34797, 107112, 415279, 2215, 8393, 415, 11785, 11757, 11764, 11765, 11812, 11813, 11814, 4078, 3607, 11821, 11822, 9659, 11793, 11841, 11847, 11794, 11795, 11766, 11831, 11830, 11784, 11843, 11838, 11839, 11845, 11846, 9672, 11771, 11772, 11768, 11856, 11857, 11858, 37098, 41547, 71489, 300012, 139835, 185529, 300014, 300006, 137753, 299992, 299993, 299995, 54426, 40695, 76609, 76611, 16205, 16235, 48149, 2434, 48008, 9686, 28420, 153948, 3226, 30178, 3349, 48089, 48090, 16575, 16576, 48111, 48028, 48029, 20378, 48165, 23639, 67931, 9704, 12212, 27348, 48056, 48030, 48031, 2949, 793, 52159, 23640, 3316, 34894, 48116, 48117, 26390, 48162, 48163, 9702, 48122, 9731, 48096, 20484, 3868, 12184, 48073, 28404, 48087, 3390, 51060, 22052, 12201, 34745, 10555, 48061, 48062, 8990, 8991, 9720, 48041, 532, 49429, 3227, 37120, 48153, 48155, 37163, 48050, 48051, 39236, 48168, 23367, 26283, 48160, 48115, 29689, 39387, 18612, 48107, 19387, 34896, 29944, 39246, 48194, 48195, 48196, 48186, 48081, 26293, 26294, 40623, 48078, 11820, 107111, 409265, 23369, 48063, 48064, 92467, 3338, 3339, 364433, 86508, 115198, 172987, 172988, 172989, 364474, 364435, 364436, 364431, 115202, 115203, 364451, 20321, 87915, 58755, 157825, 314641, 314642, 314644, 314645, 314797, 65960, 153986, 372126, 372127, 7033, 63154, 71263, 14000, 117183, 117184, 4808, 4811, 116929, 116931, 22653, 26327, 116799, 117143, 117144, 117150, 32124, 116820, 116831, 117057, 209201, 209203, 209228, 209148, 116836, 252390, 805, 9861, 116859, 209158, 209159, 209160, 42477, 42485, 42486, 116818, 116950, 116984, 7589, 8904, 16309, 5529, 10477, 10480, 61223, 252398, 252399, 63242, 242522, 252502, 116886, 116888, 64266, 99961, 145769, 209080, 209082, 117198, 117199, 117200, 132260, 132261, 132263, 132264, 209130, 209132, 209136, 209140, 30201, 117116, 117118, 117123, 117124, 116837, 252287, 37858, 94226, 252645, 5542, 25110, 47718, 76813, 117170, 117174, 17091, 43825, 116844, 116847, 116850, 117088, 117089, 49686, 83060, 116946, 116954, 116962, 209072, 252586, 209235, 209236, 63246, 117186, 23205, 116780, 116781, 116782, 116783, 116785, 116786, 32892, 32895, 32897, 32898, 209113, 209057, 209058, 74773, 116827, 42774, 117033, 116965, 116967, 1632, 1648, 95850, 10445, 75438, 24641, 209121, 209053, 49680, 71781, 117128, 117129, 117132, 117133, 117134, 50126, 128739, 235480, 116870, 116872, 55558, 55734, 55739, 252379, 118637, 118639, 252313, 66167, 252619, 116804, 117153, 117157, 117158, 15470, 209063, 209226, 252625, 117027, 117028, 315123, 333404, 55679, 55681, 209453, 59367, 32572, 209393, 7590, 7591, 209327, 1006, 4675, 43313, 80336, 9504, 28567, 51770, 138880, 252281, 252283, 7442, 101065, 112480, 209097, 209400, 209402, 209403, 667, 7008, 17730, 19548, 26808, 117059, 117061, 112204, 116805, 116809, 209293, 15372, 6213, 209438, 26229, 252598, 116775, 116971, 116817, 116935, 12885, 117079, 117080, 117082, 192630, 209426, 11476, 111151, 157266, 117644, 209300, 13185, 209295, 209298, 122191, 122195, 116902, 116947, 116949, 32163, 252529, 252439, 252441, 36965, 116852, 116856, 79517, 209246, 209247, 209248, 209250, 209432, 209433, 209435, 209383, 209384, 209385, 209386, 209390, 117021, 8134, 209416, 209417, 43049, 44275, 47179, 252359, 123870, 252353, 252357, 252361, 252362, 395804, 26197, 3693, 174849, 252581, 252582, 252584, 62183, 564, 84546, 209352, 252654, 252659, 252660, 305816, 252662, 252664, 62172, 95578, 17438, 17439, 258809, 36452, 5944, 20307, 66123, 387348, 387349, 387350, 82980, 82981, 82982, 82983, 19277, 66943, 19363, 66938, 66946, 19276, 66959, 41650, 66958, 66095, 66097, 156197, 156200, 156205, 156207, 156198, 156199, 15459, 66933, 321251, 18289, 321109, 321111, 79448, 321327, 5445, 260786, 278529, 20121, 26202, 164156, 164158, 164163, 321333, 18086, 50559, 231767, 293328, 59734, 107480, 180667, 114579, 321310, 321312, 321123, 23785, 43190, 98047, 321105, 54865, 13321, 13322, 13323, 21203, 13320, 29135, 300016, 300017, 26340, 21204, 443836, 271775, 149278, 403160, 300020, 64964, 4641, 403054, 403075, 3837, 443882, 205470, 4548, 161676, 93369, 93370, 8110, 8111, 157334, 17529, 17530, 92738, 210261, 551143, 551144, 551146, 31906, 214803, 61729, 30421, 556551, 556553, 29417, 210282, 210283, 556575, 556576, 63318, 556570, 556571, 37847, 37849, 37848, 542099, 542107, 542108, 542109, 37852, 300905, 542134, 209508, 517563, 542085, 542087, 542088, 542089, 542117, 23508, 121244, 199008, 330603, 478609, 9869, 101823, 105087, 105088, 213994, 213995, 478697, 59731, 305392, 478691, 79607, 478546, 478622, 33201, 478661, 478662, 92955, 149345, 52096, 84576, 404085, 135805, 42194, 478665, 59733, 478692, 478693, 370602, 26317, 108274, 478644, 478645, 286386, 478569, 315020, 35971, 35974, 224761, 478601, 478674, 44108, 224205, 140845, 224220, 15145, 224224, 224225, 67300, 238481, 238556, 283539, 224231, 283486, 8252, 19158, 19160, 224214, 224230, 224266, 283427, 137431, 283631, 283633, 283522, 283524, 19925, 42236, 224178, 19209, 19210, 141090, 49980, 224233, 224234, 224278, 110493, 224422, 157911, 283575, 238538, 283570, 283571, 283573, 283574, 224191, 442558, 283473, 283474, 78816, 75053, 262543, 65082, 224197, 224198, 224199, 224201, 90409, 90416, 9348, 146525, 224227, 283512, 27500, 224243, 5584, 78079, 283675, 283447, 283593, 534589, 47635, 283619, 283620, 224412, 283678, 8251, 19927, 86430, 206387, 32206, 224330, 224333, 283609, 185088, 224447, 27475, 238489, 283464, 77623, 183612, 283703, 238535, 238536, 238537, 7444, 97388, 145567, 238551, 238552, 289003, 181132, 283590, 238480, 39484, 42041, 224296, 283459, 283454, 283455, 283461, 26403, 283635, 283636, 224415, 224457, 28745, 222984, 283554, 283551, 60848, 224172, 224173, 114617, 79590, 222190, 114869, 125511, 125512, 125514, 231037, 130021, 37254, 53586, 7143, 26553, 15910, 86491, 142450, 90442, 224336, 69685, 283544, 283545, 238507, 238508, 211660, 224376, 224377, 224299, 224368, 224302, 127388, 127394, 38017, 224294, 11294, 24579, 110042, 165097, 238520, 129702, 283492, 283493, 159427, 243428, 12555, 12556, 12557, 12558, 243451, 22984, 9748, 10526, 172, 10189, 10245, 10247, 10248, 12709, 19721, 7706, 14264, 54237, 165540, 165541, 7727, 17792, 16187, 57567, 7125, 17984, 133501, 18031, 133528, 133574, 17986, 126449, 133591, 133580, 133589, 133609, 3134, 9052, 133596, 6426, 48362, 133550, 133553, 7484, 75612, 18021, 48980, 7031, 14009, 18054, 18060, 18061, 11915, 47368, 133532, 133536, 41979, 12337, 32602, 73821, 73857, 133540, 14291, 14293, 133629, 133630, 2575, 133513, 133546, 115494, 115495, 115497, 115499, 115500, 115507, 115686, 115515, 5765, 115636, 115534, 115663, 70068, 334914, 334915, 334916, 334918, 334736, 115638, 334903, 115532, 115629, 334930, 115586, 22098, 115519, 115630, 334979, 334908, 115701, 115557, 155408, 115558, 334968, 334717, 29407, 29398, 14057, 24624, 8500, 8501, 19810, 10233, 416033, 133693, 133695, 17399, 67386, 41216, 110125, 18664, 137316, 183816, 91384, 183812, 183842, 183873, 23108, 15246, 23774, 72375, 91412, 91489, 183802, 122675, 92726, 92727, 72431, 183847, 183810, 165806, 45660, 79143, 79144, 79165, 79145, 28875, 39320, 39321, 79231, 79195, 7738, 79250, 79251, 79153, 33151, 79205, 35908, 79147, 79227, 79148, 69948, 79257, 45784, 64972, 79233, 3554, 141398, 141400, 141401, 141402, 335374, 335304, 335306, 335305, 335350, 335353, 141399, 60408, 60403, 60459, 60422, 60430, 60435, 2323, 35578, 20332, 411533, 411511, 111785, 51271, 318084, 8056, 31003, 81697, 199492, 124208, 124209, 382826, 380509, 361014, 199445, 190769, 289065, 289068, 382861, 132655, 60586, 382881, 27399, 32543, 64374, 380533, 382867, 382869, 47358, 361035, 3377, 24364, 372875, 411779, 316728, 330030, 330032, 330031, 330037, 330103, 330035, 330078, 240674, 240675, 2225, 101970, 8384, 3829, 262279, 240673, 63153, 16004, 168720, 16003, 16005, 83642, 130814, 541134, 541135, 541390, 541130, 541155, 541131, 541265, 541318, 541200, 541394, 285843, 334031, 46134, 296009, 46137, 289461, 262798, 296088, 138632, 30850, 296108, 30848, 30849, 296048, 296101, 71276, 296054, 296080, 296082, 296042, 296043, 296045, 143769, 348087, 348101, 348102, 88302, 199563, 431713, 205768, 431718, 431720, 100734, 348134, 431716, 431717, 56963, 348097, 348098, 431736, 431738, 26776, 26777, 26766, 26710, 26712, 26713, 26702, 26788, 26794, 26795, 26825, 26708, 26881, 26882, 26883, 58808, 39215, 150830, 150812, 1796, 28486, 28487, 445, 456, 90065, 149358, 503490, 503492, 503493, 3764, 42618, 474111, 535143, 535144, 535145, 17678, 29620, 110, 16895, 22697, 20, 1798, 538, 52076, 18226, 64430, 179025, 21714, 439, 34499, 535225, 52129, 535227, 36913, 16217, 28448, 6465, 632, 14456, 14457, 3821, 28341, 467, 473, 90045, 39240, 40128, 21065, 48834, 95902, 299030, 52081, 107209, 107249, 476232, 503503, 107211, 299079, 61290, 535168, 24, 62989, 121915, 17676, 6477, 64392, 18265, 349620, 467322, 1287, 32141, 535190, 180003, 28204, 535139, 535140, 535159, 122927, 82, 466947, 466941, 82493, 295690, 374854, 374785, 374802, 374789, 374906, 374827, 36698, 115188, 374902, 374903, 367256, 374846, 39167, 374882, 72363, 374857, 22073, 533779, 533780, 29253, 34886, 17488, 17489, 101185, 101189, 101178, 40742, 125839, 40856, 155936, 155931, 155945, 155967, 11275, 14060, 109944, 109946, 6010, 3282, 3284, 42959, 3275, 17782, 34780, 34781, 552093, 314934, 314935, 552096, 552097, 48156, 8066, 4952, 171583, 97184, 10200, 89347, 21091, 130987, 365899, 271296, 433438, 9041, 164675, 168530, 54153, 258904, 271323, 24171, 264867, 433476, 144392, 271367, 271368, 382482, 494000, 172091, 433446, 31022, 102529, 124934, 4516, 35781, 269484, 193032, 69799, 191901, 269591, 14314, 101231, 128977, 4834, 4529, 269578, 193158, 247343, 25912, 1944, 192960, 19698, 192972, 192974, 207689, 363313, 363315, 3745, 9305, 32867, 4517, 363164, 363353, 363354, 108535, 363412, 363417, 167049, 193067, 27850, 363213, 363216, 75059, 192916, 192919, 363204, 173274, 181121, 53534, 3154, 20694, 192966, 9286, 269550, 102528, 288858, 363176, 4926, 58920, 4617, 193169, 193172, 151490, 363335, 363337, 4737, 96896, 269567, 269569, 193089, 193091, 4809, 284249, 79141, 159336, 363359, 45252, 15481, 198823, 193051, 193052, 193053, 67325, 69286, 69287, 269597, 110617, 155901, 12553, 3045, 193013, 193016, 7581, 10574, 18884, 104117, 193063, 179080, 363345, 127258, 126382, 153191, 153193, 533762, 533764, 533765, 533763, 533766, 87780, 343890, 87815, 87816, 87818, 87819, 343893, 124658, 87823, 31936, 31934, 31935, 31948, 31951, 32042, 31938, 32097, 5144, 5145, 78089, 78095, 78096, 102307, 824, 1094, 27508, 383561, 19145, 504028, 27407, 504139, 27419, 383609, 178868, 309423, 383722, 383720, 27418, 36145, 503973, 503975, 503977, 17983, 27409, 195384, 16444, 59385, 191142, 383680, 5563, 5564, 5569, 63523, 63524, 63527, 97362, 47719, 58468, 16298, 504178, 9, 16442, 19452, 27567, 326868, 177923, 504158, 27411, 97389, 361877, 383850, 9652, 23292, 76815, 383593, 383595, 503968, 70434, 132868, 504142, 44284, 226923, 504258, 504262, 504263, 79047, 79048, 504047, 73040, 446680, 504208, 128557, 307085, 383558, 383559, 504032, 4706, 383732, 383828, 4712, 10573, 138621, 181325, 265113, 129155, 222591, 293039, 100392, 365065, 9628, 5138, 27473, 78976, 383743, 383746, 230822, 383612, 504156, 110547, 504236, 61822, 114873, 61505, 71778, 71780, 71783, 71786, 3, 7182, 18614, 383787, 383788, 85575, 383832, 83510, 110687, 128576, 504147, 4949, 25827, 25843, 112854, 25088, 383683, 50092, 15544, 82784, 383607, 108539, 383726, 19504, 32290, 383698, 515488, 222588, 383789, 112036, 154192, 128070, 76003, 208399, 504023, 1013, 1016, 110759, 329345, 504013, 141438, 72775, 72777, 331390, 231645, 272066, 45515, 331450, 331453, 331372, 3582, 88479, 64264, 455469, 455472, 154987, 64570, 9304, 154984, 45815, 155082, 92632, 154994, 134012, 155049, 524769, 154990, 154986, 524667, 524748, 155137, 524669, 19829, 67362, 88381, 143324, 45615, 45616, 226938, 735, 51810, 12847, 143322, 24301, 32655, 32656, 66270, 264859, 233251, 10295, 10296, 31196, 31197, 88962, 88963, 88964, 86066, 86067, 143349, 143330, 60973, 264871, 3246, 3248, 20328, 3828, 258939, 264883, 56592, 24072, 31123, 31134, 141481, 2250, 111095, 144865, 14805, 47016, 47017, 86593, 45553, 2043, 24193, 488695, 488703, 488700, 387107, 49739, 21010, 32955, 127389, 190365, 170523, 190314, 190315, 190330, 190316, 190317, 190318, 190319, 21012, 180842, 190357, 16855, 94883, 117960, 190286, 190292, 190293, 190294, 66059, 190310, 190312, 190325, 190311, 190282, 190409, 190411, 190412, 190413, 190277, 190278, 190337, 190338, 190307, 99977, 190321, 19159, 461558, 18616, 157187, 54089, 180708, 399952, 400076, 31625, 31626, 31629, 31630, 31631, 22976, 32964, 146264, 146265, 202472, 202474, 202485, 164840, 202487, 202486, 202528, 32744, 39888, 39891, 63484, 131759, 56202, 3073, 34899, 131896, 114035, 39411, 131810, 29706, 29707, 34891, 131777, 58783, 131910, 34790, 63427, 3094, 50316, 63411, 63447, 131785, 26391, 131888, 34816, 34820, 231642, 231644, 231652, 231643, 231646, 231661, 329259, 12804, 23513, 23514, 194347, 56915, 329328, 61461, 61462, 10556, 16000, 245837, 7046, 31340, 138582, 329480, 112708, 329434, 169594, 553942, 553943, 553945, 446334, 28115, 40545, 84330, 553765, 329431, 329432, 1945, 43067, 71014, 105246, 553776, 6086, 32721, 32722, 446240, 553928, 553929, 32209, 69164, 93702, 150848, 553861, 95677, 30, 74664, 308189, 446303, 91732, 154116, 553921, 248153, 474891, 553923, 45343, 308203, 446394, 329510, 329511, 209600, 209601, 553729, 36090, 121412, 93320, 358127, 358129, 358130, 19149, 21680, 21681, 553757, 13049, 305161, 446353, 22757, 329385, 329386, 105385, 64316, 64317, 553807, 553938, 553768, 329243, 646, 44274, 44281, 96118, 214462, 329459, 329460, 329464, 329467, 329457, 329442, 6626, 446340, 446342, 95712, 95729, 79427, 95580, 95672, 95693, 53480, 95770, 31136, 46288, 62350, 527809, 95779, 55611, 28347, 95851, 95855, 79538, 527836, 95719, 95720, 220591, 527777, 527776, 527892, 527778, 95576, 31177, 95599, 95841, 95842, 95575, 95766, 26108, 60576, 527783, 527784, 34390, 220543, 56093, 37429, 95650, 38969, 76695, 95652, 95654, 13284, 135535, 180902, 180903, 187870, 192297, 441394, 476198, 527871, 527880, 38990, 95619, 95621, 95861, 95605, 2198, 95609, 95611, 95614, 13193, 15976, 42768, 95699, 95702, 95703, 95880, 95689, 62278, 62279, 95593, 53381, 444553, 62223, 79402, 95640, 55563, 55564, 34219, 95872, 95874, 19280, 95783, 95724, 95725, 95727, 6930, 6949, 6954, 6931, 6932, 6946, 6979, 6983, 6984, 150667, 6947, 2888, 6957, 117974, 164567, 822, 369251, 552936, 558013, 34614, 76460, 395317, 395318, 395319, 395320, 395321, 395322, 73721, 20355, 20357, 20359, 11214, 61449, 301170, 284427, 558034, 558035, 145421, 558041, 558043, 558009, 974, 552582, 60741, 173270, 284428, 347025, 7087, 132809, 199362, 22048, 92661, 27398, 92660, 474927, 547783, 34363, 232082, 348997, 349006, 349007, 349013, 349001, 6001, 6002, 195804, 3277, 23675, 261742, 5156, 16188, 375988, 409934, 3385, 52458, 3342, 3343, 31461, 34760, 409950, 3287, 3288, 3289, 3379, 8429, 180, 181, 3263, 3264, 3254, 16226, 230308, 3276, 7705, 172366, 409958, 5155, 3391, 3387, 8408, 283970, 409952, 3293, 5, 6, 7, 4101, 37957, 4, 2680, 7356, 37926, 33487, 38327, 37902, 38328, 10666, 11207, 12137, 25014, 44552, 38182, 4097, 5589, 83580, 83543, 38278, 38281, 38115, 38225, 83558, 83561, 38222, 38136, 38244, 38251, 38255, 14440, 37978, 38125, 38262, 37941, 83540, 83542, 1, 2, 8, 38003, 38008, 73798, 60675, 60679, 34796, 47019, 47030, 73781, 47020, 73799, 73783, 73785, 57249, 57263, 30218, 56978, 14256, 31001, 31002, 57005, 56996, 83098, 176422, 176418, 2643, 15508, 171664, 45501, 3070, 37614, 336706, 2900, 33847, 336711, 71415, 320101, 336730, 336732, 47819, 39483, 27685, 1213, 32741, 32748, 32749, 32754, 32797, 32751, 70142, 70149, 32766, 70118, 70082, 70066, 70072, 171432, 171433, 434719, 67323, 95245, 95247, 95202, 95203, 95204, 61865, 95270, 95200, 95267, 83591, 95208, 95209, 40146, 95241, 18795, 95220, 95221, 95223, 95225, 95227, 95228, 95250, 95252, 93768, 155125, 268631, 173, 6012, 377017, 377018, 377019, 194401, 8077, 81161, 238, 154011, 78070, 426823, 239, 23355, 168160, 313513, 313555, 113368, 113371, 12750, 262138, 64557, 376999, 377002, 107609, 107610, 355950, 201, 241191, 5946, 241155, 241267, 9032, 241153, 241156, 82238, 45517, 82751, 176850, 176851, 176852, 241253, 241295, 241294, 241261, 18268, 18293, 28334, 241270, 241218, 132947, 241168, 120220, 549780, 13624, 29724, 64639, 241334, 241335, 124146, 151957, 31603, 210629, 83616, 87891, 151954, 48707, 241345, 59094, 106299, 154394, 154395, 38540, 22565, 38546, 50500, 133073, 133077, 133078, 133079, 348403, 373667, 505878, 53537, 441820, 91049, 123637, 164019, 58900, 90523, 133072, 25585, 31919, 84411, 16898, 40218, 92906, 315983, 119798, 119835, 233201, 315995, 138697, 489930, 316066, 122136, 38140, 71570, 316007, 315990, 25493, 48131, 316042, 316002, 316098, 316047, 220816, 262922, 28131, 262921, 262935, 33969, 33970, 33971, 56237, 56258, 262954, 262955, 262958, 262959, 56490, 295636, 22591, 196165, 22589, 39492, 61587, 61588, 48169, 140448, 140449, 8496, 8510, 295714, 38877, 295688, 17999, 373136, 207987, 295635, 53698, 13075, 295599, 295600, 295602, 181081, 295737, 295619, 295721, 295722, 15772, 160823, 160785, 160748, 160749, 160750, 160751, 160788, 160808, 160824, 127597, 160767, 160780, 19233, 160812, 160772, 160801, 55707, 160783, 160766, 83436, 160738, 9760, 9761, 102547, 160735, 53385, 53448, 95684, 160760, 160742, 160762, 127596, 160796, 83443, 160776, 160754, 160743, 160761, 41219, 160755, 160832, 71588, 383655, 71589, 93790, 133038, 133039, 133040, 133041, 4766, 106145, 334346, 27644, 27652, 133895, 474801, 474932, 58149, 58150, 58151, 474962, 474964, 474965, 474966, 92622, 92623, 92624, 92625, 92626, 11690, 474908, 474910, 19847, 19870, 187726, 474912, 474884, 474890, 194386, 474923, 474926, 474929, 25832, 25838, 27593, 65998, 192304, 474826, 474914, 474903, 133798, 474820, 95380, 474935, 474858, 474860, 2873, 3059, 44330, 12807, 12809, 12813, 73955, 162549, 44310, 162567, 162591, 7181, 42243, 42482, 162646, 149895, 1074, 7381, 15490, 162576, 162578, 15553, 162727, 78676, 15698, 68925, 162630, 162565, 162572, 34902, 34903, 34904, 34905, 87473, 128818, 162738, 162673, 162674, 38772, 56967, 56968, 85576, 162625, 162547, 42597, 116602, 132845, 142866, 7445, 41588, 85606, 17129, 254051, 12222, 696, 51823, 348356, 348357, 352704, 352706, 122680, 348354, 13192, 32457, 26354, 20617, 32315, 32317, 32177, 7574, 32224, 32250, 32428, 32178, 32181, 32410, 18132, 32407, 32182, 32354, 32355, 725, 32155, 32156, 32205, 12096, 12097, 32333, 32334, 32278, 32280, 32282, 32283, 32131, 32133, 32134, 32449, 32450, 32373, 32374, 26809, 32142, 32143, 157262, 32144, 32146, 8312, 32149, 32375, 32376, 32377, 32378, 20639, 32126, 32128, 32129, 32262, 32263, 32289, 32291, 32265, 32252, 13184, 13195, 13198, 32152, 10369, 32346, 32351, 32352, 5519, 5523, 5527, 32192, 32194, 32195, 27610, 123816, 402137, 402132, 402142, 402183, 762, 350983, 45561, 69804, 2521, 36834, 36835, 85691, 350934, 350935, 63408, 63444, 63486, 52181, 63443, 63448, 63449, 63404, 63412, 63413, 63415, 600, 601, 602, 29705, 37447, 47023, 63489, 63490, 63439, 63501, 63502, 41714, 48667, 3101, 63517, 42607, 50341, 18662, 63421, 112689, 63422, 8405, 63409, 63410, 63474, 63475, 438, 63470, 63450, 3076, 44218, 63497, 20452, 245311, 245454, 3213, 279466, 46992, 245352, 46839, 68371, 99677, 21062, 279360, 46762, 72469, 279473, 81086, 245424, 159658, 245315, 279429, 139645, 245402, 23764, 54419, 69139, 22221, 46771, 69513, 279382, 22128, 142114, 23729, 57494, 240401, 23770, 279324, 11791, 41707, 723, 224664, 131560, 35078, 35135, 11799, 245358, 89946, 11440, 279462, 279452, 279453, 279356, 279357, 23322, 279467, 75352, 23693, 46965, 46966, 279419, 279444, 279445, 113575, 113597, 113584, 16359, 81795, 81908, 113577, 8777, 8807, 8850, 8895, 8899, 8779, 8782, 8791, 8785, 8813, 8778, 8860, 8861, 8873, 8874, 8821, 8827, 8935, 8936, 8939, 8774, 8775, 8776, 8911, 75097, 8790, 8946, 8944, 8806, 8847, 8848, 8849, 8956, 8843, 8961, 8792, 8793, 8798, 8863, 8815, 8887, 8879, 8974, 8975, 8788, 8795, 36327, 9749, 44920, 9716, 211952, 211954, 167533, 211945, 211948, 211949, 167542, 10087, 211957, 164007, 20376, 124371, 9666, 196342, 211967, 211974, 230310, 230311, 37112, 161657, 9727, 201605, 230312, 230314, 412535, 505587, 315133, 505550, 507124, 3684, 9218, 78761, 295087, 3686, 5528, 9216, 9215, 9253, 28318, 46018, 1077, 73734, 73736, 198045, 41809, 228828, 228830, 289543, 289380, 246073, 9261, 9217, 9269, 9271, 216972, 310551, 322488, 1624, 145327, 289564, 312131, 322543, 322544, 197946, 289404, 289406, 289505, 1724, 23257, 76100, 90180, 289445, 322521, 7452, 9322, 289448, 289446, 289447, 116405, 116406, 116393, 116420, 65684, 116419, 116408, 116404, 6796, 266338, 331707, 331709, 331710, 63801, 88831, 331791, 53283, 331764, 31150, 31179, 9943, 12947, 21800, 215981, 262829, 331814, 331806, 331720, 34676, 331786, 4983, 63062, 13425, 46870, 147897, 113763, 33520, 143069, 154048, 10406, 11078, 46069, 224889, 224908, 19144, 71862, 188266, 140740, 45920, 69801, 32874, 32876, 49704, 49706, 71237, 88586, 136163, 184955, 224999, 233819, 233822, 5464, 45844, 49694, 49696, 49702, 4598, 4599, 16179, 25116, 126265, 78731, 78733, 223040, 234140, 277224, 224987, 233768, 233769, 18878, 18879, 23258, 35008, 97903, 143062, 233965, 233973, 46085, 224883, 224886, 12182, 206904, 272171, 277303, 7829, 154814, 225122, 78226, 78227, 78230, 159194, 29460, 29462, 56714, 56720, 224970, 19469, 45864, 105183, 277323, 233764, 234075, 57855, 277053, 40774, 225719, 234011, 21183, 124451, 124452, 30657, 32512, 277283, 277290, 277291, 277292, 277293, 39541, 41858, 198255, 225074, 75982, 277072, 277073, 277247, 28611, 43104, 139130, 277404, 277352, 277354, 277356, 277358, 277359, 12766, 33153, 1050, 1051, 11703, 27134, 45890, 114457, 139925, 177683, 192382, 241942, 277253, 277255, 277259, 277263, 277266, 277273, 75851, 225083, 225089, 4509, 277094, 277097, 277098, 277101, 277102, 277105, 18093, 234196, 177688, 9978, 9982, 77171, 172578, 245685, 79826, 79827, 79839, 79849, 79865, 115137, 159169, 24528, 105291, 234026, 234029, 234033, 136075, 136079, 136084, 15897, 33021, 33023, 35023, 94859, 143067, 234192, 2573, 69256, 233854, 204717, 277392, 57414, 233781, 9992, 129931, 129933, 129936, 277438, 32902, 277409, 277125, 10461, 87413, 225043, 16404, 75961, 96160, 206419, 277068, 47913, 54171, 83635, 159335, 159338, 234119, 234120, 234127, 31657, 144249, 276989, 276993, 276998, 4874, 35664, 63892, 85588, 234021, 234057, 234063, 234064, 234068, 15442, 47707, 188835, 224998, 225002, 32388, 70558, 234154, 234158, 234162, 158688, 35713, 234022, 234024, 46447, 46446, 46615, 46461, 46472, 46473, 46475, 46703, 46705, 46462, 119837, 46453, 119904, 46722, 119851, 119874, 563, 46479, 46574, 57711, 57712, 119856, 71412, 46474, 46531, 46518, 46598, 4103, 4105, 4106, 4109, 4104, 4116, 4455, 394746, 112801, 394745, 2160, 1611, 1612, 398326, 67301, 3151, 207558, 398367, 216982, 64362, 398365, 95024, 343125, 343126, 343127, 42602, 398318, 63382, 361742, 91073, 14017, 65022, 65117, 65265, 70496, 2997, 19045, 19047, 45442, 34727, 109581, 109583, 42759, 42760, 4685, 4691, 16017, 34728, 34729, 14170, 23130, 31819, 31820, 36095, 36096, 36098, 100713, 6067, 192339, 192340, 22543, 77332, 77333, 6205, 34364, 55005, 55006, 20782, 17575, 17576, 1283, 56424, 56427, 85335, 361724, 361725, 41250, 361712, 361713, 7175, 7086, 41780, 7109, 41772, 361703, 361705, 13478, 99989, 154926, 255877, 5576, 85553, 85666, 44652, 20781, 311333, 311381, 89095, 361686, 361687, 361688, 361689, 92990, 154920, 61480, 33694, 49617, 83107, 45474, 75808, 78515, 78516, 78517, 78518, 78519, 78520, 78523, 78525, 16615, 36743, 5562, 5567, 65256, 92922, 358087, 358088, 358090, 358091, 186695, 14055, 45678, 56385, 303074, 10063, 55979, 77891, 77892, 77893, 77895, 42697, 154874, 154876, 51309, 154927, 14162, 42102, 42103, 42118, 42121, 42122, 16878, 78600, 338745, 184669, 184670, 184671, 130202, 191925, 15439, 154902, 154904, 154906, 154907, 1286, 1288, 1289, 1292, 154863, 43254, 105624, 284626, 284627, 9987, 15940, 71225, 71226, 105612, 47317, 59394, 360889, 35527, 360777, 118869, 276595, 124522, 386363, 118870, 151177, 128631, 293163, 386288, 183911, 9392, 360769, 360770, 26400, 172041, 386313, 386259, 56439, 39219, 71696, 232812, 39277, 54070, 232833, 26281, 63472, 232710, 232740, 58746, 148929, 9517, 232795, 39193, 232772, 52109, 54066, 199071, 232848, 232849, 104942, 110360, 121554, 16582, 21736, 232822, 232791, 232824, 455, 90078, 124704, 232707, 41372, 39373, 39281, 40970, 120258, 380372, 7141, 20589, 452615, 23644, 29710, 6191, 452602, 232188, 123464, 123465, 123473, 123523, 123524, 123466, 123496, 123486, 351791, 67762, 4649, 415843, 67759, 67771, 108073, 10283, 317061, 317062, 53174, 41315, 170, 41374, 317097, 317156, 38769, 75262, 53359, 2775, 53474, 22146, 23664, 37736, 53341, 53405, 53406, 53257, 53307, 53308, 53329, 28160, 53304, 53264, 53268, 53402, 53285, 53286, 53287, 53275, 53411, 53447, 53449, 53450, 53343, 53272, 22172, 53434, 46763, 53421, 53426, 53422, 53425, 53318, 53319, 53263, 53475, 53476, 53477, 53360, 53391, 11413, 46988, 53312, 53313, 53284, 30763, 30743, 30809, 53375, 22132, 53485, 53440, 20402, 53299, 13188, 53305, 53439, 46756, 21066, 53378, 53379, 53380, 53337, 53270, 53356, 53277, 53459, 53460, 53461, 25377, 77258, 77263, 77265, 42235, 44371, 44373, 77193, 86403, 61338, 44216, 199712, 77230, 77089, 86470, 5587, 42779, 77285, 42806, 77286, 297775, 77288, 77289, 86487, 77291, 77292, 138927, 199605, 8249, 77102, 77103, 77107, 7443, 77275, 77266, 77267, 42935, 45957, 479441, 199627, 86456, 86458, 13171, 86442, 86446, 86466, 56518, 127403, 182008, 199668, 199672, 199674, 77196, 52617, 199685, 199686, 199688, 7029, 15444, 199619, 86397, 86398, 86400, 114898, 114883, 114894, 114942, 114882, 114888, 114972, 114885, 114941, 114946, 114962, 114887, 114973, 114969, 68259, 114979, 28665, 19172, 140675, 129090, 408161, 408215, 408231, 408234, 142416, 149381, 408244, 37091, 37092, 408238, 408240, 408241, 28590, 408166, 408167, 408169, 408170, 408171, 30418, 35983, 78880, 334287, 123609, 123610, 144127, 408242, 408243, 38037, 38038, 188220, 408182, 408183, 379920, 26279, 40907, 40908, 104929, 373113, 278679, 278680, 398293, 9687, 631, 119383, 314957, 84128, 39231, 57146, 216393, 12185, 20404, 50916, 10365, 130344, 130345, 130346, 55822, 55823, 130248, 130249, 130250, 130419, 130420, 130421, 5616, 4950, 41908, 130314, 7153, 7154, 7155, 38773, 38774, 10370, 130302, 130409, 130363, 130364, 130365, 130436, 130433, 380073, 28759, 40677, 50181, 181298, 225324, 225331, 19037, 232929, 380146, 114268, 114269, 380100, 380104, 57201, 380122, 380284, 48760, 3763, 32734, 45367, 71434, 37778, 204977, 204979, 204980, 217378, 108501, 380307, 380308, 45919, 52899, 129824, 129825, 43304, 43339, 157638, 15703, 114267, 114271, 42420, 380136, 138550, 379207, 380181, 380182, 380183, 102606, 35646, 78504, 380234, 134191, 448351, 448352, 448354, 448377, 10815, 10816, 10818, 10819, 448499, 45894, 10304, 67344, 51548, 28322, 417487, 20282, 471520, 471526, 241709, 40995, 40996, 40998, 40999, 41000, 17751, 176456, 361934, 13517, 16241, 168922, 27344, 168931, 168933, 107024, 168903, 168904, 65396, 168919, 168920, 43368, 168929, 11281, 168914, 168934, 9219, 41830, 92711, 10036, 10037, 10038, 214607, 220330, 220329, 14088, 220332, 141480, 214589, 220341, 58816, 88868, 10259, 131183, 205788, 220344, 220351, 139822, 50244, 115411, 50306, 181701, 220319, 220271, 92712, 92713, 181833, 220281, 220258, 220259, 45581, 175606, 56227, 671, 125826, 199491, 199504, 69342, 75234, 7704, 136288, 199478, 199474, 26351, 28216, 28218, 28220, 28235, 28279, 28314, 501, 9222, 28287, 511, 2324, 2248, 2249, 28353, 28354, 28250, 28362, 28363, 578, 28330, 3827, 19330, 28227, 7102, 24136, 12798, 28266, 28323, 28278, 28228, 28229, 28444, 28445, 28450, 28224, 28335, 28336, 220669, 22216, 23359, 364753, 364754, 92121, 28705, 1212, 1217, 364744, 364746, 364747, 364748, 364749, 9468, 135656, 177903, 177904, 177905, 177909, 223796, 223804, 223805, 52605, 21004, 223665, 139892, 349403, 139899, 560811, 560812, 139900, 349410, 560932, 349427, 139895, 349407, 349435, 72763, 560815, 560945, 561070, 560854, 560797, 349406, 560885, 208626, 561021, 560877, 382835, 103961, 495685, 560915, 560881, 560852, 561084, 106101, 106102, 106121, 106105, 106106, 106122, 106109, 106103, 106125, 106113, 96127, 15291, 93481, 100159, 371770, 63359, 78588, 405106, 1015, 7090, 237044, 35635, 12926, 23164, 124783, 405071, 48826, 48827, 233734, 233741, 82257, 93523, 93520, 93521, 73841, 405299, 405301, 405305, 405306, 8137, 93418, 93589, 405083, 405086, 405087, 405186, 405188, 405229, 39429, 238771, 372491, 93533, 86068, 86103, 86075, 86086, 86202, 86110, 86111, 86112, 86113, 86159, 86163, 86069, 86122, 86197, 86107, 86317, 86183, 86236, 86289, 42770, 73281, 371410, 150131, 555812, 43096, 371483, 371487, 118473, 62179, 371543, 371544, 55620, 73576, 94432, 212451, 371407, 371408, 371441, 79392, 79393, 276227, 29746, 135479, 7583, 371411, 12883, 12884, 12886, 12888, 135486, 18814, 134172, 371459, 40408, 73278, 94429, 150134, 371551, 371429, 371430, 371431, 371421, 371423, 13267, 371456, 13189, 371585, 371391, 371417, 371418, 112514, 112515, 62178, 26110, 150138, 118525, 73153, 8422, 8423, 77519, 77520, 34789, 257093, 528807, 58960, 201744, 7146, 38369, 88379, 88380, 72039, 203642, 272609, 367493, 495694, 7472, 106260, 10039, 31498, 31499, 7453, 7455, 56933, 72787, 183938, 1268, 98037, 385989, 7387, 82109, 7477, 7479, 56814, 127350, 365012, 385844, 3707, 66000, 123097, 196299, 381355, 159149, 381394, 61410, 36451, 176448, 176430, 176423, 176425, 176436, 39018, 39098, 39107, 36466, 39043, 39102, 39103, 5386, 260625, 525261, 51045, 101904, 250778, 381958, 341617, 525276, 212324, 212325, 39365, 270065, 270066, 14096, 88387, 161658, 186341, 186342, 525263, 525265, 134727, 525259, 192007, 5313, 525284, 67566, 525266, 39526, 499979, 5520, 5525, 32200, 32203, 119442, 119432, 119482, 119439, 11236, 46135, 47771, 119616, 119443, 22587, 238822, 508110, 26696, 334033, 499753, 499860, 69167, 499782, 499760, 499761, 499764, 499755, 404130, 5011, 5014, 56438, 124370, 267604, 23714, 48751, 139867, 542437, 26215, 157711, 25641, 83085, 95565, 95566, 28132, 11973, 54201, 117497, 85356, 85357, 117588, 117589, 117590, 117487, 70472, 55899, 73553, 73557, 117610, 79884, 127084, 127101, 127107, 127091, 127105, 62794, 127086, 127130, 127132, 127133, 73807, 73809, 73808, 324525, 79446, 142917, 159029, 324545, 63392, 324586, 324587, 324595, 7127, 1085, 145322, 7065, 1128, 7485, 47786, 47787, 47789, 7152, 32725, 120049, 324666, 561706, 561707, 561705, 15377, 77092, 224769, 23207, 217563, 496707, 496711, 116516, 166572, 506269, 12814, 42421, 392194, 16299, 16300, 16301, 16303, 34619, 140457, 446742, 78548, 112481, 207413, 496762, 496763, 309199, 263285, 23138, 171106, 202748, 238759, 238761, 238765, 114587, 479955, 480027, 207444, 480051, 479911, 479989, 479990, 479991, 1726, 496693, 320909, 1943, 4786, 234050, 234053, 496719, 496879, 120429, 506279, 78678, 190923, 59498, 112241, 35012, 49968, 4564, 4565, 496718, 143900, 177653, 207574, 217161, 496846, 496850, 45199, 496687, 51281, 124846, 15429, 217656, 7022, 496858, 57683, 179006, 373903, 119460, 138762, 138725, 3765, 9150, 45472, 45473, 112482, 111092, 80082, 107200, 20610, 20611, 282259, 8402, 64625, 129667, 138752, 26816, 48207, 66389, 138747, 76933, 8404, 138709, 138710, 349616, 64390, 349639, 138706, 138707, 138708, 193332, 249837, 193376, 235259, 369712, 552150, 552170, 91704, 369657, 552247, 102507, 552175, 552176, 552164, 552183, 552190, 552243, 552248, 552250, 552316, 369709, 552285, 335195, 335196, 462024, 552222, 552223, 1907, 152723, 152725, 18267, 18286, 152727, 15993, 179386, 179409, 179411, 179415, 7588, 7592, 7593, 179393, 179396, 179345, 179348, 179351, 96494, 179378, 179379, 15991, 42812, 421590, 179462, 179419, 179424, 517331, 517336, 121026, 517362, 517364, 517378, 517382, 517337, 517332, 271564, 517343, 517429, 387953, 517363, 517457, 517404, 517405, 517406, 517434, 517436, 517437, 506858, 303963, 303969, 303971, 69248, 21753, 21754, 670, 322081, 322082, 13368, 13369, 13370, 13371, 13372, 13405, 13406, 13408, 13409, 13404, 13325, 13341, 13388, 13363, 73772, 192187, 367662, 367671, 367661, 223255, 98023, 98024, 367683, 68313, 367665, 31293, 367676, 279815, 11940, 51661, 12055, 102550, 109391, 116457, 209527, 56425, 209645, 65162, 81602, 81605, 81606, 22514, 209638, 207538, 209779, 209780, 209782, 3767, 209489, 150503, 44093, 209796, 209799, 209801, 133913, 209467, 39071, 75734, 89897, 20040, 21177, 209564, 2612, 3433, 64977, 379698, 64978, 379678, 81787, 148331, 379641, 379643, 230419, 91600, 379747, 379748, 230415, 203635, 230423, 77876, 348484, 77881, 212502, 137649, 435987, 212552, 212553, 212554, 435957, 6189, 274332, 2968, 2969, 192, 212504, 385333, 72387, 103964, 435967, 435966, 59462, 46754, 126612, 263272, 435975, 435977, 89958, 212521, 11823, 11824, 6115, 35069, 35152, 35153, 35155, 35099, 35101, 35116, 35166, 35067, 35167, 35075, 35172, 35173, 35174, 35144, 35107, 35139, 35140, 35126, 35134, 35080, 35129, 35073, 35098, 35190, 43723, 35118, 35105, 35158, 35176, 35177, 35178, 35114, 35115, 35095, 35071, 17311, 25, 228054, 39458, 292640, 292649, 45492, 340591, 340636, 45490, 45491, 59524, 8437, 340581, 17076, 28823, 340629, 340630, 223356, 45582, 69421, 48775, 52829, 270413, 38530, 3351, 23133, 340613, 10396, 311788, 271335, 10079, 45467, 45468, 45469, 45470, 21146, 340620, 340621, 57680, 340622, 340618, 10645, 45018, 61436, 12797, 15814, 46848, 3615, 61506, 61498, 27367, 12999, 13003, 61469, 61450, 61451, 61452, 61486, 61488, 61439, 61445, 28268, 28325, 61489, 527787, 61446, 61447, 61440, 61442, 35949, 61501, 61457, 8444, 44601, 165532, 165533, 165534, 48146, 53986, 95116, 514926, 95106, 95149, 95150, 95151, 95152, 95100, 95078, 67327, 7177, 67388, 67324, 67359, 9965, 46846, 3521, 2165, 67326, 121890, 59748, 415908, 362302, 21780, 362299, 362269, 362270, 161563, 543211, 476104, 18288, 132290, 543187, 543229, 98538, 543197, 543195, 543230, 543242, 132291, 443232, 443246, 443276, 56235, 56253, 56275, 56274, 56242, 9864, 268883, 268884, 268886, 56291, 56238, 106478, 268907, 268710, 20955, 268786, 40379, 177434, 75817, 106820, 15738, 15739, 15806, 15781, 15737, 15752, 15754, 15755, 15808, 3170, 15741, 15742, 15790, 15791, 15822, 7179, 15763, 15764, 15836, 15841, 15842, 15843, 15828, 15813, 38768, 73006, 88299, 5388, 49740, 91502, 180498, 392998, 282942, 180616, 282889, 60352, 180512, 320423, 282910, 17162, 180621, 108553, 65478, 282873, 282874, 282876, 352134, 352051, 290500, 180631, 352125, 422710, 91505, 126059, 15394, 133611, 126156, 34258, 50414, 126252, 11913, 126259, 126260, 126236, 126272, 126274, 126275, 9508, 35412, 61862, 35539, 314265, 374761, 490762, 490764, 19561, 35645, 35648, 47638, 126414, 126416, 126104, 126106, 9062, 15716, 126142, 126140, 29622, 126305, 126306, 2629, 315284, 490735, 490710, 50915, 55839, 126210, 126211, 126212, 9941, 36079, 490692, 105190, 113454, 126462, 22560, 28389, 71286, 126193, 126194, 47751, 126422, 126424, 65513, 126044, 41834, 126350, 42915, 126165, 126166, 126167, 15488, 126119, 126122, 128917, 126371, 126372, 126039, 14275, 35469, 35552, 35602, 70575, 126176, 126313, 490770, 126047, 126050, 18656, 158629, 159028, 490810, 7482, 105465, 126322, 126345, 126343, 126344, 126135, 7104, 7369, 105498, 107628, 107629, 126341, 30683, 126094, 126095, 126096, 126097, 126098, 126099, 490767, 115261, 115262, 204791, 31251, 126327, 126333, 126334, 126335, 102924, 197730, 126407, 126408, 549540, 392246, 490755, 126359, 126360, 126364, 126440, 490779, 490781, 490782, 490784, 490787, 16121, 56744, 126227, 126036, 76824, 316313, 490614, 490615, 226956, 226963, 14470, 14479, 89469, 126353, 126355, 126108, 199120, 17638, 46328, 551119, 17487, 50301, 93598, 112967, 76917, 551102, 8490, 8491, 30369, 89308, 426091, 551161, 56165, 56166, 106392, 329598, 415402, 35378, 201268, 462659, 55776, 32571, 93499, 167850, 228421, 257840, 257842, 257843, 257847, 278913, 257709, 43383, 16043, 122531, 257748, 257810, 257852, 257855, 257856, 257858, 257758, 257759, 22568, 125974, 257777, 25649, 257812, 257815, 257817, 257819, 98516, 52369, 233767, 257731, 251139, 257764, 257765, 257691, 257692, 257925, 257926, 7134, 257937, 257883, 51162, 57942, 198167, 257872, 257873, 11623, 256659, 257928, 257889, 257744, 21148, 123287, 28803, 23353, 80182, 6531, 415446, 429625, 429627, 429629, 429634, 429646, 429648, 10331, 236602, 236604, 42, 21009, 178367, 89269, 69271, 178411, 9199, 15526, 63528, 12205, 698, 178373, 165184, 153866, 153867, 178345, 178346, 8467, 178415, 20482, 126111, 122180, 178348, 178349, 62472, 178336, 178355, 23753, 37773, 91047, 91048, 91050, 91068, 91069, 91082, 91084, 91085, 336704, 91087, 71796, 91065, 80115, 409455, 27676, 144438, 183724, 9164, 8502, 8662, 1664, 1666, 1720, 19563, 172584, 3190, 96374, 45896, 85663, 85664, 463063, 219296, 366456, 7396, 172594, 382602, 172595, 10179, 460517, 460518, 172561, 187950, 172549, 172550, 21001, 9151, 189147, 67550, 126698, 305563, 364767, 27707, 327758, 364770, 364785, 38527, 81735, 364793, 89368, 89369, 89370, 89371, 89372, 138046, 89341, 390114, 89342, 258830, 45809, 89267, 258866, 30215, 89289, 89236, 258852, 258853, 89339, 89272, 3633, 93832, 23031, 51177, 89264, 37442, 291937, 291939, 311356, 235555, 40923, 311341, 40931, 47699, 47700, 245852, 217094, 40316, 84554, 103210, 159889, 311552, 319997, 311556, 48768, 311389, 311390, 766, 222590, 266225, 311373, 311443, 311444, 311445, 311446, 28143, 191030, 269290, 311469, 311472, 187203, 311335, 311496, 311497, 311499, 311500, 311413, 26693, 81076, 311388, 3687, 31524, 172541, 19516, 63170, 40186, 63213, 63314, 63298, 63162, 63174, 31923, 63200, 63323, 63202, 63210, 63284, 63287, 63366, 63355, 63226, 63339, 63396, 63397, 63341, 63183, 63254, 9383, 63239, 63240, 63291, 420549, 420546, 420559, 420560, 11910, 420555, 107371, 32745, 174808, 71582, 3102, 17306, 98481, 211989, 136675, 136756, 502923, 136808, 338419, 241231, 502855, 305104, 9822, 320719, 7002, 115855, 125154, 178102, 45579, 305062, 248283, 234553, 519417, 53689, 37630, 113014, 113016, 51799, 123867, 81856, 76405, 8436, 27401, 148644, 148646, 109380, 148649, 148641, 150878, 160008, 177212, 177213, 177214, 177215, 177232, 177226, 177236, 177245, 177227, 29459, 29461, 372002, 372003, 371995, 371999, 372004, 372007, 372008, 32698, 236196, 371993, 16938, 16939, 658, 304044, 304074, 304076, 304079, 304080, 304056, 304036, 40380, 40381, 186897, 160765, 134214, 136446, 265536, 265540, 19309, 26689, 96126, 9917, 115813, 148415, 148414, 148436, 148423, 148452, 148453, 148454, 148410, 148425, 148437, 148440, 25526, 48640, 23368, 48688, 48642, 25525, 39376, 44483, 48718, 48641, 48725, 48712, 39581, 39583, 39584, 307313, 307314, 307315, 39687, 39593, 39640, 31492, 307462, 39582, 39586, 39602, 39784, 307324, 307253, 39603, 39589, 39591, 307433, 39759, 39760, 307507, 307217, 39617, 39726, 307521, 307234, 39704, 10721, 307267, 307410, 39646, 39794, 177379, 177385, 59815, 59817, 59854, 59888, 308445, 308444, 59814, 59816, 103672, 308446, 103664, 59856, 59857, 103670, 82566, 308397, 308443, 59887, 345224, 345225, 345227, 10698, 345226, 162086, 345257, 122668, 521449, 681, 309942, 309943, 309956, 309963, 309959, 309960, 91698, 208632, 195322, 309962, 63704, 63705, 63706, 7142, 18231, 8400, 89486, 16232, 26273, 124730, 29715, 20168, 20485, 124703, 124712, 37181, 18628, 107449, 202749, 224544, 28585, 159224, 159294, 206406, 206407, 206408, 18112, 463845, 79848, 206405, 206402, 463891, 463893, 463894, 483062, 206318, 206319, 41782, 15543, 206393, 224960, 463736, 176403, 463739, 463953, 416801, 130230, 170930, 206300, 206388, 463876, 463881, 463878, 463879, 56753, 178204, 85571, 74831, 155290, 206322, 463868, 463871, 75759, 463825, 69941, 109999, 206410, 206377, 206433, 55946, 206305, 206306, 206309, 463808, 463809, 463811, 35385, 206337, 1211, 153159, 463855, 22661, 27804, 27812, 27813, 102309, 206398, 206421, 206426, 463849, 463850, 463851, 231524, 463864, 132775, 231441, 309164, 11389, 69542, 77755, 519157, 519158, 11335, 18520, 275971, 275972, 99167, 202435, 344332, 218208, 495975, 495918, 495959, 495960, 157494, 495935, 81949, 190974, 495961, 16008, 35886, 343583, 147813, 495994, 32702, 414696, 495923, 59347, 495976, 495973, 9735, 138775, 414723, 414724, 495943, 48017, 48018, 113491, 39383, 59725, 59726, 21710, 115906, 115897, 115920, 115939, 115941, 84462, 197319, 197321, 197460, 24531, 24532, 24533, 24534, 293360, 293363, 293365, 293367, 82125, 293329, 293330, 33393, 182785, 203848, 210840, 379880, 379882, 379884, 70424, 293496, 1214, 84386, 379891, 35058, 379910, 293489, 293490, 7623, 29071, 43133, 52880, 157194, 284830, 293557, 3146, 3147, 17715, 17720, 133698, 293325, 293380, 58383, 207227, 43059, 293692, 29165, 293595, 379913, 32462, 32463, 293335, 293336, 293337, 293339, 293341, 29769, 43056, 293320, 293435, 28570, 293523, 293575, 400567, 84406, 232086, 105164, 148251, 293317, 3143, 293351, 293355, 197364, 197366, 197367, 379906, 11616, 166106, 166108, 204829, 204830, 3511, 122440, 33782, 293345, 165717, 293414, 80149, 80153, 157705, 293645, 293683, 293684, 110139, 155756, 293634, 293635, 293636, 293638, 293639, 117707, 293508, 11617, 150065, 293520, 293522, 293747, 293748, 293749, 293752, 293442, 293443, 293444, 293445, 293446, 293448, 293449, 293450, 293451, 293737, 293453, 293739, 3110, 267587, 141365, 141366, 267600, 75349, 208443, 10071, 3114, 36820, 70471, 150449, 267639, 22081, 22083, 46791, 11360, 98142, 267593, 36053, 267609, 267611, 6967, 6968, 55770, 55815, 55868, 55869, 55891, 34674, 186276, 379953, 176451, 379940, 263645, 250781, 34869, 379943, 263631, 16199, 186352, 379962, 263613, 326539, 263620, 379993, 303719, 493604, 493605, 493606, 493608, 493609, 493896, 493623, 493626, 493843, 2956, 493697, 2155, 493693, 131859, 416879, 636, 40621, 90683, 367641, 367656, 367658, 342933, 367643, 367644, 82516, 60533, 272635, 367659, 233625, 199824, 164676, 248282, 278640, 278641, 84793, 84794, 84795, 114454, 461793, 99228, 271333, 320741, 27712, 319040, 270010, 382480, 382481, 240008, 64321, 64322, 51174, 134039, 164660, 278686, 26598, 365922, 45596, 221735, 382504, 24350, 57140, 51179, 365895, 60428, 27369, 461760, 365918, 365920, 302794, 48868, 58172, 417287, 48737, 417216, 52168, 291215, 40654, 417271, 110018, 26319, 252235, 28788, 26356, 417169, 199050, 247455, 12218, 19438, 230064, 3355, 247458, 464329, 185639, 464403, 464450, 464452, 247486, 247487, 247488, 247489, 131478, 464458, 464383, 464382, 14095, 29702, 352241, 48208, 304206, 464358, 95192, 464465, 464391, 247524, 247482, 247466, 247526, 58732, 58734, 60513, 82760, 36733, 211268, 14537, 14538, 14539, 31682, 59546, 59547, 59549, 104751, 104759, 104762, 67747, 67748, 59548, 34130, 104774, 104880, 104766, 104914, 104915, 104916, 104917, 104918, 104920, 104921, 104923, 104924, 104925, 32979, 78225, 347124, 88888, 277647, 277646, 25646, 194385, 277657, 64031, 64032, 181693, 277645, 78088, 7862, 32944, 33070, 7863, 33061, 33062, 33063, 33064, 33065, 33067, 32963, 32967, 33024, 33028, 33031, 465811, 33033, 33034, 33035, 305951, 305981, 319278, 33038, 7860, 33084, 30543, 30544, 33199, 32942, 33142, 9626, 33005, 1403, 32937, 32940, 32985, 20298, 33090, 32728, 33150, 33158, 33159, 33160, 33133, 33134, 33136, 33138, 32952, 33111, 11877, 56788, 56934, 100190, 100193, 100194, 100198, 98528, 98530, 98536, 98624, 98664, 98670, 98527, 98529, 18385, 98628, 98629, 98630, 98631, 195694, 343170, 521495, 521489, 521490, 521491, 164202, 343172, 311627, 521440, 142164, 159292, 5122, 167267, 24064, 444071, 458452, 7095, 50912, 326765, 9175, 14258, 89595, 236215, 23590, 458480, 458446, 458447, 458448, 458449, 269449, 458466, 458467, 30782, 30749, 30761, 30812, 30832, 30796, 30823, 30748, 30768, 29538, 30744, 30838, 30773, 30774, 30806, 30746, 30819, 25647, 20661, 20662, 20663, 20664, 31313, 473929, 31329, 31381, 397436, 397437, 31346, 31348, 132378, 301948, 132352, 132353, 132354, 132355, 132357, 430099, 7889, 137465, 196135, 20665, 554699, 99258, 221340, 176839, 276677, 310634, 310635, 15846, 15876, 15857, 82925, 15859, 404816, 404833, 40223, 112742, 137675, 32425, 548644, 548646, 548648, 34375, 91514, 91515, 34376, 34377, 91611, 45440, 53743, 67954, 67955, 122248, 122252, 279631, 530068, 530069, 91753, 12707, 91573, 529944, 82637, 91531, 105150, 56114, 56116, 2224, 35873, 251146, 29719, 53669, 53670, 39455, 2246, 25424, 40, 165421, 165460, 165492, 12252, 12253, 12255, 6193, 12251, 248129, 209454, 248298, 16872, 16874, 16875, 248243, 16876, 110535, 248311, 49963, 78557, 112766, 137502, 170914, 248157, 88657, 248287, 260402, 217820, 248089, 201995, 248314, 248101, 145370, 248171, 137349, 110768, 172714, 248083, 247887, 248189, 248190, 231133, 248211, 248214, 248215, 248216, 94324, 204252, 442, 48607, 39405, 385506, 114216, 637, 172303, 37129, 291227, 39252, 39253, 39325, 59002, 229875, 349479, 385513, 34845, 39267, 26272, 13094, 52470, 37170, 481148, 40181, 291175, 29720, 291219, 17134, 58787, 53531, 11216, 18262, 133919, 291187, 7595, 39216, 211731, 226636, 34373, 145764, 25384, 39309, 241540, 288528, 28952, 37047, 20373, 49475, 172260, 50398, 153710, 241308, 29726, 49445, 226550, 291197, 291198, 289843, 100375, 385522, 121503, 291166, 34840, 57611, 26258, 295360, 561763, 561773, 561748, 561767, 561732, 258778, 301014, 561727, 160740, 12179, 561769, 561770, 561728, 561726, 561757, 561735, 561722, 561723, 561724, 272482, 561753, 160283, 561759, 160737, 561762, 254224, 561734, 561717, 561716, 561755, 561718, 561719, 89588, 561741, 561771, 239812, 401556, 401625, 401626, 401629, 42442, 42451, 56864, 401545, 401546, 401505, 401506, 401508, 401616, 401681, 401684, 401528, 21002, 170858, 277507, 107959, 401721, 6018, 6020, 6021, 228470, 235103, 9194, 9262, 9263, 188458, 188460, 401404, 44205, 401696, 401697, 401692, 38468, 39897, 39919, 39922, 39950, 39872, 40014, 1746, 1748, 1778, 1780, 38404, 40107, 39867, 40036, 38471, 39936, 39912, 39889, 40103, 40104, 40105, 40106, 39865, 39944, 39946, 39949, 450418, 401765, 40034, 40035, 40006, 90696, 90697, 90698, 90699, 90705, 11569, 95381, 233537, 233538, 331297, 331300, 331301, 331302, 80510, 54214, 228300, 228301, 9891, 136509, 151114, 243658, 243659, 243660, 320715, 320716, 244820, 244821, 130914, 88783, 195298, 320727, 320736, 320731, 320717, 59249, 50445, 34286, 34287, 79593, 320706, 88904, 70696, 230204, 320759, 320711, 178003, 6497, 178014, 178015, 177986, 113279, 81823, 178050, 177995, 177996, 11215, 164009, 22728, 110061, 19982, 268505, 268545, 134125, 144711, 268516, 268510, 268553, 268522, 268507, 39530, 268544, 268552, 86784, 26367, 123883, 123886, 123887, 123889, 394204, 59133, 394219, 394265, 394295, 379622, 379615, 379616, 36465, 379621, 12355, 12359, 12415, 12529, 12392, 12669, 12356, 12401, 12402, 12539, 12541, 12410, 12411, 12570, 12366, 12599, 12600, 12357, 12358, 12361, 12362, 12367, 12472, 12378, 12379, 12572, 12428, 12694, 12682, 12685, 12649, 23749, 194137, 205565, 205570, 75353, 30797, 23010, 12705, 12706, 12711, 32651, 32650, 32673, 32666, 32669, 10086, 26571, 26582, 26599, 61170, 323096, 554878, 554879, 58643, 61150, 323148, 61147, 61099, 61100, 61101, 65844, 65845, 65881, 61116, 323174, 216899, 139415, 65871, 484597, 65878, 99616, 26650, 61128, 65890, 61097, 65896, 99571, 99604, 99615, 114383, 484643, 99572, 99573, 99574, 323093, 99652, 35897, 181075, 36746, 45503, 45504, 45505, 45548, 45549, 23763, 97441, 270070, 270072, 269993, 45555, 45576, 45619, 269973, 269975, 140408, 45640, 45641, 29332, 28368, 45521, 176500, 176507, 57252, 57253, 57255, 42762, 333314, 231300, 302815, 235427, 415897, 264946, 264948, 42764, 80696, 415912, 11386, 415909, 415910, 330580, 330581, 415901, 333301, 415916, 89282, 186917, 102773, 102775, 415941, 415943, 134673, 134674, 88836, 88837, 88838, 42763, 333347, 194889, 415928, 415933, 88828, 415906, 415907, 24691, 23901, 23902, 23903, 23925, 23941, 23926, 23931, 212668, 23906, 23965, 23954, 23920, 23928, 23922, 23930, 23929, 23937, 23921, 23924, 7158, 7161, 7162, 7026, 7078, 7032, 6994, 3128, 7088, 7089, 7163, 7164, 7165, 7040, 7066, 24694, 7068, 24696, 7178, 3112, 3115, 7055, 7058, 7139, 7001, 7170, 7171, 7173, 7094, 7096, 7003, 7116, 7117, 6997, 7156, 7120, 7000, 7183, 125149, 125150, 525911, 125148, 484560, 525916, 526012, 525972, 484557, 526069, 526003, 525912, 525925, 525927, 525928, 525937, 125151, 253072, 526103, 526077, 525909, 27137, 442761, 442716, 442773, 442774, 12019, 197741, 50037, 61328, 36750, 42171, 58219, 79828, 79856, 442776, 184360, 355367, 224700, 442742, 34991, 120505, 120506, 120507, 172203, 15495, 15497, 15393, 15551, 148248, 15491, 15399, 15577, 15709, 154085, 356586, 356589, 356592, 356593, 15696, 15697, 15651, 356494, 356582, 15539, 15541, 25930, 25932, 42438, 42439, 42445, 42448, 156095, 15373, 15374, 293582, 356518, 356649, 356666, 356670, 15413, 15414, 15499, 15500, 15530, 356635, 356638, 15548, 15573, 15574, 15575, 15511, 15517, 40410, 15632, 15634, 15635, 101825, 356651, 15571, 772, 105046, 15443, 15447, 151480, 29685, 356725, 4576, 15545, 874, 3716, 154276, 356546, 356617, 15475, 15664, 15665, 15666, 15566, 356664, 20319, 43410, 218263, 9373, 9374, 312111, 312114, 37585, 206858, 60807, 188913, 312122, 170876, 42595, 47755, 124899, 3046, 19146, 19148, 19150, 19700, 78878, 312162, 18866, 18867, 18868, 18869, 18870, 18871, 18873, 18874, 130029, 130031, 66271, 34677, 78115, 78122, 78155, 34723, 78142, 78209, 78165, 6201, 65101, 82967, 82968, 82948, 82949, 21, 23, 82952, 82958, 82959, 82978, 59061, 34326, 44821, 82953, 3353, 42104, 226309, 54928, 54926, 55003, 55059, 6630, 226249, 225448, 55031, 226374, 54988, 54958, 34511, 109318, 35973, 34420, 37539, 212186, 102252, 112723, 212134, 212001, 212002, 212003, 34422, 164058, 212087, 212088, 212048, 212049, 44686, 107413, 3762, 20674, 58089, 212024, 212158, 212026, 212028, 152625, 68396, 55849, 212254, 212256, 2175, 212004, 212209, 212210, 103194, 132223, 488872, 42599, 4540, 42446, 231613, 42946, 42947, 45910, 55884, 488973, 105532, 421227, 421228, 104343, 488889, 121745, 128159, 488877, 126448, 488897, 442330, 442332, 442333, 442334, 11493, 79366, 116691, 116693, 488920, 488992, 488917, 488918, 30549, 238711, 488985, 447592, 489042, 489043, 488954, 180156, 397933, 488909, 488912, 488888, 488949, 286672, 129823, 488923, 488886, 39504, 79608, 263759, 263728, 146107, 231055, 263740, 263747, 98809, 231047, 249876, 231048, 212012, 263727, 28142, 263743, 263729, 263730, 7320, 19954, 19956, 19906, 19908, 4665, 4666, 4670, 4672, 4673, 19839, 19843, 19846, 19766, 19768, 19923, 19876, 19877, 15595, 19803, 19850, 19962, 19971, 19976, 19977, 19935, 19660, 19986, 19809, 19948, 5271, 5272, 5273, 19793, 19856, 19857, 19859, 20052, 20053, 20048, 19812, 19967, 19933, 20038, 20039, 80221, 80223, 373972, 373973, 373974, 374115, 374116, 44405, 188725, 105415, 46115, 46116, 247307, 26184, 374005, 374006, 40174, 373845, 4669, 10462, 73750, 236272, 374166, 138470, 17625, 17631, 117459, 9515, 31253, 102554, 373881, 373883, 373885, 373988, 15472, 211776, 26237, 26240, 261182, 235068, 32660, 374000, 108445, 149948, 324218, 373898, 373900, 57176, 138352, 238737, 373992, 70620, 374159, 6032, 6037, 19080, 90233, 11494, 23127, 23131, 26208, 26188, 26189, 10814, 10817, 196348, 348361, 348362, 348364, 348365, 348366, 348368, 348369, 348370, 348372, 348373, 348374, 348375, 348376, 348377, 348378, 348379, 348380, 5999, 331518, 331519, 232126, 348381, 348382, 348383, 348345, 55150, 16260, 16268, 16270, 16271, 16272, 16273, 16274, 16406, 16407, 16261, 16432, 16435, 16430, 552970, 16262, 16264, 16440, 16443, 16334, 16373, 16374, 16375, 16376, 16377, 414818, 16378, 408278, 16293, 16423, 446766, 16528, 16534, 16383, 222981, 16384, 16387, 16390, 16537, 16538, 16540, 16450, 16453, 178876, 16454, 16455, 16456, 16350, 16312, 16314, 16315, 16409, 16495, 16265, 16466, 16471, 16472, 16256, 16258, 16318, 16323, 4901, 16416, 16413, 16414, 16415, 16417, 401912, 401907, 10430, 401905, 401910, 401915, 58550, 115725, 51411, 115730, 41002, 57408, 519765, 69744, 41901, 76889, 129191, 519857, 16900, 16901, 129186, 519753, 16889, 16890, 41927, 38496, 61401, 61402, 407155, 129238, 129240, 45241, 519764, 129260, 519757, 519758, 519752, 19505, 519740, 32609, 129227, 35429, 129226, 357825, 103380, 2572, 9230, 46047, 359176, 359177, 15452, 219959, 519841, 129242, 129243, 129244, 129245, 816, 9063, 519751, 33055, 17979, 17980, 19558, 174031, 457164, 519856, 519852, 344804, 519825, 75434, 197950, 197952, 150845, 150846, 45478, 305814, 305808, 305809, 2570, 55660, 193473, 55662, 460987, 460989, 460990, 460991, 460994, 460995, 56092, 238299, 95637, 262327, 262330, 36171, 36203, 36173, 36174, 36175, 12209, 36172, 36178, 36186, 36187, 31505, 31506, 36194, 36211, 36212, 36177, 36183, 36207, 36209, 45804, 45805, 64896, 283956, 57979, 10240, 302868, 251992, 283982, 45725, 56167, 283985, 283986, 283962, 178131, 364836, 229462, 134100, 329694, 70702, 81816, 81817, 364804, 364805, 283975, 66283, 283989, 29416, 146197, 195845, 364798, 364820, 364821, 364822, 205142, 207741, 364519, 23354, 20722, 259995, 364546, 135327, 364528, 364529, 41761, 41764, 383047, 129576, 129609, 38359, 88559, 129573, 28742, 41760, 41763, 129580, 129582, 263000, 225486, 129603, 263198, 263048, 19326, 53625, 112793, 112786, 112787, 62793, 112820, 112810, 19356, 36339, 224500, 224501, 224502, 224504, 211169, 211228, 55761, 211166, 232365, 211188, 232358, 184058, 211187, 135431, 232352, 211185, 16867, 62644, 92969, 92971, 92977, 61232, 61262, 61216, 4826, 27133, 61383, 39425, 61230, 61267, 61377, 26563, 61322, 61265, 61387, 61360, 61364, 61292, 61391, 61393, 61396, 61306, 23682, 663, 61340, 132944, 132945, 132917, 132918, 132919, 3393, 39364, 132914, 132915, 16203, 21058, 132939, 9689, 479941, 529511, 529512, 3144, 6035, 61369, 67839, 90351, 90352, 1075, 40362, 47687, 47690, 488656, 143250, 1169, 138831, 270346, 77998, 189541, 307561, 151747, 529423, 50010, 116437, 143011, 18838, 42252, 92963, 17976, 143213, 143126, 6030, 6031, 6034, 142912, 142914, 142915, 34046, 139487, 270338, 529441, 1053, 192622, 307567, 29623, 132619, 148161, 162707, 162712, 72631, 142957, 142961, 116648, 143203, 325286, 325287, 426512, 529484, 7486, 44401, 44406, 142992, 142995, 37775, 15154, 15156, 15160, 127180, 309153, 138451, 217218, 245781, 3107, 3108, 7363, 93699, 134643, 42208, 71403, 90413, 472649, 42259, 2523, 18832, 17755, 138942, 142842, 193611, 230053, 465890, 472937, 472938, 112548, 143249, 52913, 472907, 472908, 112462, 16669, 17630, 472599, 472600, 529299, 529304, 529305, 142798, 142799, 3697, 142925, 1078, 30444, 81707, 159065, 472945, 26336, 142802, 16637, 316831, 70640, 125322, 1151, 39426, 472769, 472770, 346153, 346154, 346157, 94366, 63970, 42559, 206885, 108478, 236559, 79414, 368790, 472724, 472728, 472729, 472732, 30422, 30424, 105470, 112394, 149662, 306152, 90281, 90284, 240956, 360935, 7577, 143134, 143136, 143137, 7392, 143201, 143202, 410370, 529402, 12180, 16674, 42258, 50466, 108474, 529388, 529390, 23040, 143000, 124620, 247729, 278257, 14006, 142930, 142931, 229089, 3814, 472608, 472609, 472610, 529517, 249259, 529449, 142967, 472901, 472903, 69304, 529394, 529396, 116530, 142919, 142923, 143044, 143045, 143046, 529429, 39563, 49743, 131648, 529182, 329286, 105103, 137596, 112464, 143251, 138835, 217472, 142990, 142993, 142994, 110446, 77490, 157456, 157458, 350702, 529572, 529577, 78005, 143128, 75946, 142983, 142907, 256711, 529456, 529254, 529258, 40318, 95511, 38220, 70645, 232482, 238729, 19460, 19521, 123186, 529275, 62483, 209198, 529295, 529296, 459552, 529242, 66134, 139089, 230524, 307549, 256857, 472759, 58374, 45306, 529532, 10441, 41241, 142985, 84857, 84917, 84858, 84873, 84874, 84875, 85029, 84953, 84990, 84910, 85005, 85048, 85017, 85019, 65104, 164059, 83624, 82570, 164029, 129141, 388081, 54168, 120099, 252838, 19151, 252705, 252714, 252716, 252717, 252762, 252754, 252704, 252897, 252776, 252725, 252859, 113492, 113493, 113517, 226720, 226721, 226740, 113520, 226728, 48496, 226664, 113508, 4776, 60688, 88864, 88865, 88866, 17410, 88789, 88790, 88776, 88852, 88853, 52600, 88896, 38462, 88886, 81621, 86600, 88812, 88887, 81616, 88817, 10256, 10257, 88862, 88863, 124351, 125721, 125722, 125692, 125689, 125690, 4791, 125711, 125726, 125694, 125688, 370509, 370510, 370631, 370607, 235808, 302601, 370617, 345130, 122411, 386436, 382582, 386435, 370589, 128122, 370500, 370501, 90931, 386468, 386440, 370507, 386577, 124803, 71997, 379730, 386489, 528426, 84329, 370495, 386506, 370494, 370526, 370581, 386442, 386456, 386457, 386459, 370511, 370512, 302525, 370587, 93330, 42695, 42696, 53523, 196773, 533500, 533328, 533329, 533330, 533332, 533333, 533335, 218888, 39188, 103976, 533372, 533373, 52120, 58941, 533520, 533442, 533346, 533347, 533348, 533351, 72106, 140498, 533390, 3853, 533432, 533511, 553663, 20403, 490, 36716, 50381, 533469, 23622, 153881, 409928, 19748, 107131, 288952, 429683, 87988, 220246, 429676, 107312, 429721, 266453, 50357, 136987, 266497, 429687, 429688, 132907, 429653, 429654, 232220, 429672, 50367, 73582, 73704, 73542, 73543, 73544, 73545, 73599, 73602, 73737, 73738, 73741, 73575, 4636, 69904, 73753, 73756, 73759, 73760, 73761, 73742, 73550, 180309, 73551, 73552, 73554, 73556, 73558, 73559, 73560, 73580, 73583, 73585, 73667, 73671, 73672, 73587, 73701, 2611, 2613, 73652, 73662, 73548, 73606, 73653, 73654, 73657, 8756, 26342, 26316, 26318, 26321, 26322, 31926, 15328, 26372, 40229, 40231, 218591, 133985, 133986, 338746, 26362, 26363, 26338, 26339, 338696, 133972, 26376, 26377, 133704, 338865, 338866, 3437, 26331, 26332, 26315, 338684, 338783, 1793, 62366, 133906, 26309, 26311, 133925, 55321, 81153, 67559, 338754, 84578, 84579, 84581, 103264, 103336, 84580, 103363, 103310, 103306, 103316, 84575, 84582, 103269, 103349, 103350, 92975, 103299, 28477, 103365, 218714, 316751, 316753, 282524, 266718, 316742, 170790, 3572, 3620, 36042, 316782, 316783, 316712, 47383, 47386, 47387, 35451, 47491, 47492, 47493, 47494, 47379, 24309, 4600, 4601, 47414, 47451, 47453, 20309, 20310, 47489, 47399, 289311, 47400, 47413, 47460, 47515, 14535, 196140, 252061, 31126, 345440, 5941, 5942, 5943, 80105, 199934, 199935, 199936, 199879, 76995, 58798, 90541, 325787, 80962, 77078, 72089, 39313, 72062, 72077, 72128, 72130, 90561, 72002, 76957, 90634, 81841, 255927, 298158, 298159, 298201, 298202, 298161, 131675, 131678, 131684, 131702, 131701, 49747, 49750, 131739, 81968, 131699, 18761, 131626, 131640, 131708, 32496, 32497, 52894, 131727, 66272, 131671, 131673, 131674, 131660, 131661, 17137, 303343, 303344, 303346, 303348, 303350, 303551, 303561, 303562, 303565, 303362, 303462, 24771, 24773, 24789, 24796, 10583, 10584, 24772, 24774, 24816, 3400, 3401, 3402, 179594, 179616, 40909, 40911, 40912, 283086, 283016, 283042, 283012, 21205, 21206, 21207, 21227, 21260, 21202, 21226, 21208, 21213, 21209, 21340, 21341, 21342, 21343, 21344, 21415, 21416, 21332, 21470, 357258, 357282, 357304, 357265, 8042, 8043, 499712, 13619, 181059, 499716, 93015, 93016, 93017, 93020, 93022, 86356, 51265, 18482, 18483, 64263, 64265, 64352, 64353, 64298, 64270, 64346, 64348, 64267, 64269, 64271, 64328, 64318, 64332, 64319, 131024, 131029, 131034, 118556, 17471, 17472, 17473, 17474, 53696, 252005, 269277, 10289, 499973, 359582, 36223, 36224, 27550, 101214, 101215, 101217, 2524, 2525, 2526, 2527, 193456, 3440, 18833, 18834, 18836, 101375, 25696, 25697, 90715, 101257, 143854, 28280, 33526, 300877, 143734, 338321, 376897, 376898, 170892, 170906, 249113, 249115, 249117, 249118, 184502, 15149, 160289, 261962, 1014, 184525, 104022, 19459, 63268, 62574, 1257, 18801, 18802, 7148, 62566, 260552, 70447, 521819, 6000, 10740, 165247, 10694, 10701, 454404, 10726, 10727, 10728, 10941, 10942, 10943, 10944, 10732, 10706, 10707, 10708, 10700, 33612, 310818, 454445, 10903, 10905, 10906, 817, 3173, 4521, 96828, 96796, 96897, 96710, 14656, 18165, 43005, 96735, 28383, 96723, 96726, 92091, 96856, 96693, 44189, 96731, 96841, 96778, 96785, 96787, 96788, 96789, 96692, 96727, 35438, 96815, 96816, 27516, 15951, 96695, 96799, 96800, 96741, 96702, 96717, 96790, 37652, 96864, 96696, 96722, 96700, 25837, 308048, 101356, 307966, 251907, 307951, 308064, 308025, 307967, 308045, 308097, 123425, 307956, 254412, 48620, 254408, 254409, 31465, 34754, 68610, 254411, 48608, 9671, 254417, 280309, 280331, 87925, 280347, 44772, 276438, 396523, 396606, 396607, 51717, 69677, 396463, 396636, 396637, 396638, 396639, 396642, 396655, 396556, 396770, 396771, 396772, 396773, 396626, 396538, 396545, 396557, 87286, 396651, 396652, 62251, 396760, 63891, 396501, 396708, 396569, 396570, 396559, 396716, 396712, 396515, 396686, 396688, 396690, 396631, 396514, 396517, 396666, 396776, 104030, 104031, 104032, 4778, 276142, 396512, 396460, 396462, 396558, 396635, 396748, 396750, 50223, 182024, 182032, 396677, 42183, 42185, 396729, 49287, 49288, 49289, 190775, 190784, 50277, 50278, 36364, 121426, 540133, 121406, 105969, 105971, 105972, 105973, 105977, 105976, 141891, 103408, 315007, 315015, 315017, 315006, 315011, 31624, 31634, 31716, 31718, 31719, 31720, 31721, 31722, 31723, 31724, 31725, 31726, 31727, 31728, 31729, 31730, 31731, 31652, 31690, 31649, 31637, 31639, 31640, 31642, 31643, 31644, 31671, 305, 132635, 369898, 369899, 369900, 94568, 242879, 241542, 241560, 36450, 241533, 241534, 241536, 354411, 83100, 128600, 354446, 354447, 175191, 354406, 354407, 354418, 354419, 175193, 74775, 162081, 162088, 162195, 162138, 68657, 79900, 162077, 162102, 161991, 162087, 162092, 290617, 384657, 384660, 74975, 295705, 218538, 384773, 384658, 127895, 172246, 384746, 384665, 384727, 384696, 265846, 384685, 218539, 384693, 384694, 19728, 201586, 75250, 54842, 54911, 8660, 84604, 84605, 260426, 260427, 173248, 260439, 260440, 260471, 260472, 38959, 28664, 260543, 8518, 84621, 84622, 84623, 260532, 260539, 84675, 260468, 260444, 260445, 260509, 260540, 260541, 260496, 260493, 84670, 260556, 260557, 84644, 84641, 260513, 260514, 260515, 260516, 31, 156869, 2682, 8499, 19069, 152889, 152891, 563944, 44600, 56130, 56131, 56132, 8626, 8455, 8528, 237607, 8586, 8598, 563938, 563966, 563967, 8637, 8567, 8568, 8569, 8570, 8516, 8517, 8454, 8646, 8647, 8558, 8511, 8466, 8456, 8487, 8622, 8623, 8584, 8458, 8544, 8545, 8577, 8578, 8579, 8615, 8616, 133826, 8537, 8539, 8495, 8648, 8507, 8612, 8613, 8614, 8557, 8560, 564029, 564030, 34914, 153561, 563977, 8519, 8520, 8521, 8522, 8523, 8462, 563946, 563947, 8617, 564017, 563964, 8563, 8564, 8509, 8645, 8473, 8475, 311568, 312550, 262980, 564018, 564020, 563990, 8524, 8548, 8651, 89554, 89556, 525776, 563958, 8503, 8505, 563945, 8461, 564008, 8561, 8562, 8572, 110057, 564004, 564006, 8556, 8628, 8546, 8547, 8629, 8634, 8635, 8636, 8553, 8554, 8585, 3211, 213189, 537737, 537739, 77873, 77874, 537713, 444632, 84567, 336996, 537718, 27130, 537756, 170030, 20693, 3209, 3210, 166192, 166193, 166194, 166230, 92122, 92125, 88324, 92133, 92123, 92141, 92124, 61448, 66424, 79950, 5643, 5644, 5645, 5646, 464057, 486312, 177102, 177103, 470324, 79992, 533251, 411199, 6325, 14746, 14747, 199049, 199116, 67918, 199048, 31466, 292078, 372870, 292041, 94786, 123831, 9742, 3252, 255671, 31462, 27365, 136969, 199063, 39223, 39306, 121625, 35885, 41016, 3228, 199033, 292033, 16623, 34777, 292060, 249951, 314026, 59741, 16191, 266670, 266671, 114071, 198709, 34742, 372755, 372756, 75799, 199086, 39329, 161694, 56220, 199045, 59768, 58718, 33371, 48849, 48744, 43129, 48806, 48831, 48832, 9193, 48748, 48749, 48752, 48937, 48938, 48940, 48776, 41973, 48795, 48797, 48798, 48800, 48835, 48837, 48792, 48848, 48894, 48910, 48912, 48914, 48916, 25455, 48814, 1092, 48985, 48986, 18076, 48858, 48991, 48996, 100723, 100725, 100803, 85693, 437088, 100797, 18600, 11818, 302307, 480179, 153791, 75188, 480237, 551402, 551403, 11774, 34768, 551427, 57571, 54839, 480167, 480229, 227784, 551349, 387821, 551326, 551327, 32705, 265851, 198800, 131899, 59024, 79714, 77899, 480175, 480177, 189411, 480162, 210328, 551411, 38483, 260719, 6202, 551316, 551380, 53999, 129182, 480184, 480189, 64638, 249854, 20566, 162072, 551348, 5466, 480155, 551397, 480208, 37158, 3313, 7361, 82877, 242452, 242485, 502263, 502216, 69258, 124065, 242364, 242396, 242400, 242448, 34738, 116448, 152546, 66209, 242464, 242394, 67744, 242373, 242374, 242377, 242562, 502062, 89195, 242409, 107942, 242643, 242644, 242645, 242649, 138781, 56508, 74001, 242406, 242395, 242399, 133198, 242430, 42292, 242443, 502223, 11541, 227844, 75056, 242388, 193, 194, 23745, 242424, 242425, 124067, 242369, 502323, 502326, 242438, 502131, 502133, 502143, 242631, 502078, 111228, 242453, 242455, 242540, 198093, 242467, 502159, 133201, 9045, 242372, 22663, 242435, 242436, 242441, 242456, 18261, 242595, 242597, 242625, 502020, 502259, 502260, 502261, 502312, 166430, 502152, 502154, 242471, 502122, 282990, 438821, 502192, 502194, 502196, 242586, 242528, 242432, 242433, 242434, 242416, 242670, 502200, 474014, 502076, 242680, 157548, 502016, 460715, 502254, 502137, 242577, 242591, 242614, 242615, 502022, 502024, 72911, 242489, 376906, 242491, 242672, 42250, 242662, 242537, 502089, 502146, 502025, 502026, 502028, 208662, 502316, 81839, 502293, 242468, 185524, 257515, 502064, 71346, 242675, 242678, 283506, 283508, 283509, 178246, 990, 71338, 242635, 502094, 242609, 4637, 10459, 23186, 242381, 242450, 17685, 17686, 19127, 461243, 6454, 22656, 103899, 326223, 461218, 461223, 3412, 3438, 6559, 19128, 85253, 235296, 353146, 353148, 461253, 461316, 461333, 461334, 461336, 461339, 461341, 461342, 461344, 461347, 461348, 461352, 121753, 253629, 307936, 398443, 461203, 461328, 461194, 461381, 180004, 461212, 461312, 6499, 461228, 461215, 461268, 75866, 190771, 54268, 54267, 167808, 167810, 461239, 461286, 461287, 367626, 461317, 461318, 9785, 203232, 461201, 461206, 1957, 22750, 22810, 22771, 22894, 146258, 146259, 146260, 325857, 325860, 62046, 62047, 62048, 62614, 62613, 8132, 12864, 555852, 555853, 555854, 555855, 555856, 555858, 90505, 157634, 276773, 284829, 555786, 371448, 134170, 150193, 371525, 371529, 26111, 387394, 135625, 178744, 178745, 387566, 24108, 9724, 129660, 129661, 129681, 48629, 129686, 48631, 48632, 12231, 129691, 27080, 44489, 81171, 356968, 30386, 384646, 260998, 362680, 6521, 44491, 336429, 58030, 16882, 25375, 30388, 185631, 185655, 185666, 185730, 185731, 23702, 29199, 185722, 185654, 185689, 87987, 185739, 457863, 170298, 185636, 185684, 45390, 34379, 45351, 45352, 45354, 45397, 148894, 148896, 148897, 148898, 148952, 148895, 148946, 81838, 148910, 149294, 39264, 149073, 149074, 463999, 464000, 464001, 464002, 464003, 464052, 37280, 53733, 53736, 53738, 118784, 333498, 53732, 53734, 464036, 141095, 464070, 464091, 464093, 464094, 464051, 7582, 464045, 464083, 464087, 53737, 405019, 21799, 464024, 464025, 463996, 34516, 464110, 464112, 464113, 464114, 464115, 464019, 160394, 160396, 160406, 160408, 160395, 160397, 31789, 31790, 222377, 222378, 30138, 222387, 222385, 222382, 222390, 4689, 54048, 221494, 25732, 53682, 197298, 56584, 398454, 398455, 398452, 154387, 398460, 398437, 398457, 398444, 88928, 146085, 795, 38347, 367595, 367596, 41017, 188096, 221699, 367615, 367616, 18213, 18258, 18256, 52497, 52540, 52544, 218884, 113864, 18234, 18254, 18255, 218891, 3082, 171683, 161707, 219012, 440, 18235, 18214, 18216, 219004, 219005, 34808, 153873, 18241, 300998, 301005, 301021, 227687, 3545, 300983, 300980, 300981, 301022, 301008, 301012, 301027, 301032, 139211, 19272, 301015, 300991, 300992, 300997, 300995, 301023, 301001, 301002, 301003, 57279, 57280, 341401, 341402, 38994, 341414, 341387, 150576, 341427, 139212, 341394, 341448, 341403, 341409, 341433, 17723, 48397, 341396, 316528, 341436, 341416, 134011, 341417, 341400, 341442, 341393, 341438, 341437, 341411, 127591, 341410, 15308, 406489, 406491, 406493, 406519, 406495, 123267, 77129, 84345, 84347, 84348, 84537, 73981, 14819, 14822, 84512, 84516, 84429, 84289, 84290, 84356, 84569, 7454, 250270, 1713, 1714, 1682, 1695, 1677, 1706, 1707, 1718, 1719, 1626, 1627, 1628, 1629, 1630, 1631, 10010, 44317, 50221, 127514, 436459, 436462, 467149, 59025, 96027, 169352, 415591, 9988, 34964, 34965, 70456, 78576, 78582, 78583, 238700, 21185, 35007, 35009, 35011, 256700, 287634, 287637, 34921, 4827, 91078, 287444, 27138, 287570, 287667, 157277, 287680, 11705, 287803, 287807, 287808, 50879, 34929, 34956, 53582, 96803, 287512, 25052, 35001, 287638, 287754, 287651, 236449, 12722, 34924, 34925, 35000, 35005, 34983, 34985, 34986, 34987, 34946, 34947, 287818, 287706, 18129, 78015, 287468, 156210, 287479, 287481, 287483, 287486, 287488, 287660, 287662, 287663, 287606, 287525, 287534, 287844, 410415, 410417, 410419, 410420, 410428, 410429, 410424, 234260, 80988, 80982, 162242, 162243, 80989, 81034, 80990, 80991, 47360, 162319, 80951, 81037, 81074, 81042, 297362, 162265, 162266, 80953, 64382, 189832, 491654, 103866, 44279, 44280, 106155, 127268, 272898, 297906, 75873, 297923, 27531, 44246, 69682, 127345, 4676, 47227, 47627, 44252, 996, 163597, 297749, 44132, 127352, 127354, 127355, 127279, 127272, 163301, 163302, 163303, 77200, 127442, 126452, 127440, 21084, 163488, 47640, 47644, 163604, 35634, 110557, 32739, 44173, 44174, 44176, 42901, 163395, 127378, 297837, 25662, 35435, 297628, 297631, 109589, 236482, 297862, 127265, 127266, 127458, 44076, 9198, 127433, 4780, 127314, 127561, 42896, 127537, 127535, 127221, 44161, 127299, 127300, 4677, 127326, 127430, 44384, 44385, 118901, 350353, 163309, 163310, 44164, 44335, 127329, 127330, 15147, 18166, 127387, 47242, 35553, 44377, 44380, 22664, 4543, 4846, 297944, 297945, 56435, 142278, 163588, 163592, 163556, 163499, 37399, 9231, 44309, 297830, 78846, 78963, 79104, 79105, 183145, 163458, 4790, 78727, 87224, 127461, 297582, 297583, 163612, 297737, 54373, 163609, 36825, 79110, 297838, 39459, 39463, 44397, 297898, 27281, 5540, 44305, 44185, 44186, 44187, 44188, 44155, 44157, 44158, 297751, 297753, 297754, 35633, 99999, 44094, 163497, 44241, 163285, 127263, 44087, 127368, 127369, 297686, 297687, 297690, 44141, 44203, 163540, 44113, 44115, 127238, 127241, 127245, 124785, 44103, 17338, 17339, 130649, 130655, 130501, 130507, 130653, 139606, 62376, 139607, 313264, 313279, 313296, 139678, 313308, 313274, 139611, 139671, 139673, 62375, 139649, 78580, 78586, 350318, 350329, 35508, 35509, 78584, 5984, 46138, 57923, 107956, 107958, 8049, 8046, 8065, 8058, 412649, 24135, 36959, 41181, 220650, 57214, 220544, 220545, 55576, 220611, 31132, 79611, 220663, 220664, 28518, 28519, 220610, 55639, 220579, 95771, 220704, 79266, 220690, 220691, 220555, 220556, 220557, 220558, 220559, 220707, 220552, 1949, 29140, 220657, 83599, 220541, 220638, 220639, 220640, 80304, 220560, 220563, 202154, 220619, 220658, 220659, 220604, 28337, 58966, 220668, 95280, 240479, 358594, 240481, 240478, 240485, 240488, 358602, 510335, 240484, 240518, 240634, 510311, 240505, 240508, 240521, 240525, 298261, 298266, 214154, 298262, 10015, 10025, 25927, 43433, 56494, 56495, 56496, 56497, 39353, 56453, 56454, 56446, 35798, 56489, 56529, 161015, 161024, 161014, 161159, 218091, 218098, 218100, 218093, 218106, 218092, 218117, 20799, 218104, 167566, 61779, 61782, 167567, 343967, 343992, 344123, 344125, 7613, 7614, 111150, 465434, 112523, 465599, 465604, 465605, 37191, 62271, 1160, 85404, 465576, 465578, 357885, 465486, 465487, 465488, 465613, 139967, 139971, 465469, 41445, 62337, 62338, 194796, 32173, 163399, 109988, 317951, 43324, 465703, 465707, 465709, 465553, 465555, 261155, 342869, 312498, 330020, 330021, 330023, 330024, 13186, 342893, 347051, 347030, 342876, 209242, 308267, 347038, 13268, 13303, 347028, 347088, 84594, 342919, 13242, 347117, 339232, 342903, 347092, 347066, 347027, 28600, 13210, 7229, 347040, 330404, 342896, 189754, 351270, 351271, 188727, 188730, 188733, 245679, 42907, 188624, 188625, 188627, 123024, 70453, 70455, 70457, 139553, 245468, 80351, 217185, 19035, 19038, 188742, 216968, 216971, 188862, 216922, 188872, 91010, 188783, 188785, 205120, 137301, 139556, 139558, 139565, 245592, 139446, 139447, 217139, 71457, 94131, 245549, 245703, 162635, 162639, 162640, 139102, 217015, 98863, 217057, 217126, 98125, 139497, 139498, 236590, 188676, 217133, 43058, 74147, 138653, 78077, 188907, 123023, 188941, 216957, 70638, 70639, 217062, 77153, 188657, 139459, 87204, 188813, 17679, 188706, 188771, 188773, 188774, 45274, 217037, 245575, 32320, 94338, 128377, 245474, 245475, 245477, 245479, 45256, 139582, 216919, 50226, 245514, 48884, 245661, 47629, 99, 467856, 47876, 468020, 50134, 467850, 95372, 467849, 41884, 76855, 195063, 195064, 468063, 468064, 467828, 240888, 20537, 20796, 20797, 20829, 20816, 205019, 250056, 83428, 205084, 138988, 138989, 138990, 25016, 139149, 138933, 90137, 138929, 1002, 1005, 138816, 139144, 20514, 12751, 47584, 136345, 347378, 165742, 214832, 214833, 214836, 106220, 138943, 83516, 139050, 139051, 19580, 32591, 74175, 138813, 138814, 138959, 48864, 138788, 139071, 139072, 139073, 139074, 139075, 139076, 139077, 139079, 9641, 139125, 138862, 138890, 100225, 138875, 19481, 139022, 138920, 139112, 20058, 76816, 214869, 214871, 214872, 138861, 116568, 139121, 139019, 12810, 48877, 138819, 138815, 138817, 138821, 118610, 138917, 139036, 138807, 138808, 139017, 139062, 139068, 47689, 139081, 139086, 139087, 127218, 214849, 138873, 139159, 139138, 138994, 138995, 43436, 82858, 17116, 459175, 459177, 31459, 459203, 365224, 459232, 8250, 207108, 459228, 459225, 459213, 459217, 236926, 339046, 442512, 209886, 459166, 459171, 459172, 393531, 459154, 459157, 47773, 89386, 368, 89412, 43456, 43454, 43455, 43457, 43458, 3530, 43484, 43488, 43491, 43734, 43735, 43736, 726, 727, 43627, 43628, 43629, 34673, 45064, 45062, 64902, 445937, 462412, 31569, 302306, 86349, 91858, 91861, 91857, 302303, 100369, 144691, 57266, 57248, 17525, 57260, 57269, 68670, 68681, 68644, 68605, 68599, 51133, 112717, 189637, 322112, 322169, 127984, 113700, 322159, 322242, 34852, 58954, 123851, 322111, 322110, 322128, 322115, 110104, 52619, 113701, 55850, 144372, 322214, 322224, 287393, 287394, 322172, 322173, 48102, 11685, 11686, 322250, 322161, 322162, 66458, 72597, 354630, 14448, 3818, 65518, 3819, 354793, 264166, 336352, 3826, 354636, 186671, 354728, 354729, 354681, 354684, 354685, 354686, 133182, 197269, 354679, 354680, 354796, 263893, 263901, 263910, 85595, 85596, 69261, 85629, 85600, 36822, 85699, 85701, 85702, 85613, 85680, 85682, 85658, 75593, 85559, 57177, 85741, 85601, 73815, 85763, 85786, 75592, 25152, 262189, 85549, 85570, 392319, 85659, 85660, 69301, 85593, 85784, 392303, 392305, 13627, 13628, 13629, 78803, 85636, 85637, 85640, 85825, 85829, 85587, 31142, 307126, 307130, 780, 813, 889, 69506, 74767, 74769, 74770, 74772, 74774, 55783, 154285, 74822, 188258, 188264, 188198, 272861, 272862, 272863, 272864, 294717, 272894, 155640, 272875, 47680, 58546, 156472, 188311, 58903, 39204, 59028, 59030, 58946, 186662, 55436, 34876, 58943, 49474, 50380, 59057, 43928, 131239, 180145, 135982, 180133, 107698, 107699, 448992, 448993, 448994, 309077, 73612, 448997, 38754, 449025, 137041, 137044, 137046, 137047, 137101, 137078, 137079, 137080, 137081, 9990, 9980, 238756, 397049, 397052, 397053, 31471, 160402, 189778, 189782, 135321, 135323, 145942, 45905, 90111, 90112, 397083, 470840, 397098, 342952, 342953, 82327, 82328, 82329, 82330, 82335, 32697, 208424, 249559, 249564, 249560, 249561, 146861, 146855, 146858, 14744, 146948, 146949, 146950, 124950, 124953, 146957, 44367, 76845, 36772, 362326, 10324, 205531, 194414, 172536, 270, 271, 364825, 274203, 38898, 559382, 462851, 20329, 420537, 462839, 110415, 559387, 559442, 559443, 42630, 135079, 18175, 18178, 18179, 190118, 361852, 1235, 1236, 22059, 45860, 93503, 112531, 135082, 139026, 158676, 188800, 191944, 191947, 191959, 191963, 191967, 191968, 191973, 191974, 145563, 145564, 132953, 132954, 132955, 132956, 116672, 191884, 52616, 10535, 5513, 5514, 156584, 296771, 117519, 30283, 205534, 93615, 559634, 559635, 559636, 199589, 242637, 559476, 110439, 65107, 41881, 41882, 116681, 9094, 78613, 207643, 272228, 442369, 60158, 193704, 322991, 207610, 442378, 442379, 272284, 442395, 442398, 442399, 110643, 140984, 559561, 559562, 442412, 442413, 158901, 3812, 81583, 144916, 272320, 272395, 272396, 272397, 272398, 272400, 442517, 559601, 559603, 272186, 272390, 272391, 559484, 559485, 157279, 442628, 559644, 559645, 83165, 266112, 25041, 68721, 129966, 19920, 1135, 106172, 272183, 272185, 222919, 442381, 442382, 272154, 272353, 272354, 272355, 442466, 559585, 17733, 559554, 272283, 63969, 442429, 559505, 442599, 38085, 272250, 272388, 96495, 7191, 442414, 184466, 184462, 4985, 4986, 4987, 4988, 13688, 5010, 5015, 5046, 5049, 13803, 240276, 271570, 428218, 428192, 274003, 274005, 35474, 35481, 141407, 427988, 141408, 197408, 273819, 274031, 25608, 273790, 273794, 273924, 60013, 274027, 428009, 69980, 273967, 428002, 264679, 273841, 273821, 273823, 55568, 117735, 273811, 162749, 273796, 273800, 428041, 428042, 428043, 273949, 273951, 96670, 428170, 274013, 73617, 72132, 53580, 400115, 386156, 400193, 400134, 400127, 400144, 560005, 400147, 202086, 400130, 400126, 400155, 400139, 400141, 400183, 400184, 456413, 520598, 47246, 197080, 520534, 91093, 520546, 520548, 520550, 520551, 164010, 343086, 514612, 520541, 520543, 324570, 30448, 92379, 98706, 98888, 3177, 57229, 520559, 520560, 520562, 520566, 17940, 323758, 199565, 14338, 551765, 259865, 259866, 551708, 551709, 551795, 157748, 298854, 178954, 551749, 133848, 188873, 551760, 50176, 551913, 551904, 400755, 15411, 198034, 551694, 150562, 551723, 460458, 78039, 79813, 79814, 551862, 551776, 551777, 12842, 10006, 264999, 265002, 256179, 264994, 250775, 75401, 264949, 153351, 9661, 264962, 91706, 264959, 31460, 22729, 25387, 39224, 39226, 39293, 39250, 39389, 39335, 39336, 39352, 39362, 39363, 39272, 31467, 15163, 39268, 39269, 39270, 34802, 34855, 39345, 39346, 39347, 34860, 39356, 31464, 39206, 39207, 39254, 6214, 39288, 39378, 39222, 39305, 39401, 39402, 414450, 39237, 31476, 31477, 31478, 39247, 3426, 410569, 22579, 39228, 788, 37672, 39196, 39211, 31457, 31458, 491341, 241081, 76464, 144087, 14466, 120982, 491335, 71567, 126685, 491347, 491376, 491351, 960, 491365, 491366, 491367, 7729, 17103, 17100, 88027, 145412, 184076, 176210, 553644, 176212, 50353, 553688, 553689, 207316, 553703, 128231, 253239, 302694, 373423, 60172, 558, 576, 639, 555, 568, 622, 623, 624, 579, 559, 560, 607, 609, 557, 554, 83236, 268015, 268016, 268017, 268020, 376085, 232083, 268173, 268078, 268044, 376076, 83231, 268043, 376115, 268200, 96238, 268330, 126023, 126024, 126026, 34447, 34393, 34417, 34520, 34534, 34537, 6199, 14253, 71564, 71545, 96222, 96223, 96224, 96226, 96227, 46463, 96242, 96244, 96247, 96254, 96250, 96257, 96229, 96243, 96245, 99215, 31599, 176858, 13072, 125126, 81746, 284435, 527009, 438625, 9712, 473641, 473657, 473664, 560588, 59645, 473645, 57600, 135432, 473640, 1603, 216471, 473656, 12199, 409739, 12796, 138691, 430578, 196311, 444429, 122409, 213863, 311010, 310911, 310916, 19, 20595, 311025, 248454, 444355, 196318, 311074, 311075, 311077, 198772, 430502, 430504, 34116, 310960, 310962, 310965, 107202, 138690, 319809, 246435, 310999, 310994, 161980, 58754, 114075, 124743, 247648, 444280, 310909, 198474, 62089, 62152, 62135, 198485, 10450, 90691, 90692, 90693, 284798, 117577, 427895, 427806, 427809, 427845, 252053, 427830, 427831, 318960, 413541, 427838, 427883, 41235, 427849, 83035, 427835, 385772, 385774, 385771, 385777, 136000, 70419, 501231, 501150, 501151, 501153, 501279, 43305, 161342, 29069, 501234, 501238, 501261, 18205, 41243, 501303, 134630, 18208, 39845, 165024, 501299, 501270, 501319, 501192, 33392, 501176, 161306, 293501, 501217, 501215, 244285, 501313, 501287, 501289, 35766, 123416, 215884, 74126, 132432, 15159, 50504, 50505, 247330, 207476, 108381, 247384, 247386, 308987, 308988, 309050, 9064, 309299, 309303, 309306, 309307, 247334, 308984, 308985, 308991, 309010, 309011, 309322, 31252, 247427, 247293, 80146, 97613, 27136, 90452, 309089, 151718, 108555, 309092, 309094, 247341, 227089, 247320, 247319, 178837, 247280, 247282, 247283, 998, 247351, 29033, 29034, 29035, 29039, 171107, 309150, 552954, 261380, 309148, 309151, 309154, 309155, 309157, 309158, 309160, 309163, 309215, 4742, 80245, 247434, 267753, 309117, 309282, 15712, 247412, 247415, 247416, 247418, 309265, 309266, 247360, 309112, 4585, 112291, 127215, 309272, 34978, 35418, 247419, 247423, 42563, 256656, 36753, 247374, 247378, 25546, 223297, 14467, 113327, 223285, 223286, 223247, 4573, 73633, 23711, 74222, 223307, 223308, 223310, 96163, 223294, 309949, 339, 413477, 79115, 124271, 89378, 49425, 85297, 110325, 110327, 110328, 65374, 119801, 37275, 151798, 37273, 101467, 101468, 37313, 101477, 101503, 101505, 101474, 101476, 176902, 37315, 37274, 34148, 68420, 291251, 291253, 291254, 291255, 291256, 68425, 291230, 291290, 291267, 291229, 291243, 347965, 196935, 347964, 347968, 347969, 185989, 196467, 134919, 271556, 353303, 353331, 353332, 353333, 51700, 9221, 376971, 132814, 124788, 376987, 436819, 485259, 395797, 395800, 395803, 497965, 497966, 497968, 497969, 155341, 155327, 155322, 155332, 155339, 155337, 13464, 180952, 315298, 383898, 66441, 206121, 328704, 39828, 255186, 392898, 392900, 13562, 54215, 180910, 180851, 282752, 319863, 483472, 201780, 362043, 383894, 222239, 122984, 51704, 178906, 222233, 222284, 222213, 222257, 222293, 222322, 222325, 222224, 222225, 222227, 222228, 122983, 222214, 222240, 28935, 56125, 56196, 326258, 447104, 326263, 326264, 326265, 217933, 217969, 217962, 217964, 96211, 181077, 218042, 218006, 203408, 168717, 217841, 75695, 218069, 19131, 24893, 218012, 217943, 43336, 33938, 33939, 97950, 217994, 217885, 217887, 6100, 218064, 188748, 218061, 218062, 85790, 256717, 300915, 300917, 300919, 300923, 300924, 300925, 3919, 24541, 24543, 35923, 25511, 87482, 300752, 173823, 258601, 300747, 300748, 300750, 300866, 300867, 300868, 300869, 10325, 68172, 17583, 300703, 300704, 300706, 300707, 300708, 300828, 38879, 19703, 65544, 300774, 300775, 354477, 300776, 354478, 300778, 300844, 300845, 90467, 64092, 528845, 10183, 31445, 108827, 108829, 108830, 108831, 108832, 132272, 132279, 132280, 132259, 132262, 132282, 33611, 198148, 500987, 501054, 501009, 260783, 260785, 230129, 278524, 278528, 278521, 278533, 282221, 282223, 282225, 282226, 153764, 324897, 324900, 325027, 325001, 324961, 324926, 185991, 185990, 307718, 307719, 307720, 307723, 307716, 19190, 19214, 19196, 19204, 120178, 19287, 19197, 127688, 19203, 144100, 115788, 26387, 75830, 75835, 140447, 439405, 439442, 140453, 75829, 439415, 439416, 439418, 439427, 439549, 439554, 145268, 439414, 26385, 75836, 439421, 439575, 439541, 439470, 439472, 439473, 439605, 439606, 439607, 439612, 439468, 439471, 439474, 439371, 439383, 439386, 283868, 439366, 439487, 439455, 15912, 15914, 439560, 439562, 118694, 372984, 38695, 88385, 180055, 180007, 21122, 438308, 133691, 27553, 249758, 302936, 302935, 438556, 302880, 18117, 21902, 177896, 563451, 302957, 197387, 197388, 197391, 346681, 346679, 3738, 346602, 346603, 69942, 17392, 17393, 123221, 69999, 2318, 2255, 2254, 373544, 373545, 448906, 371229, 2298, 2299, 448922, 448923, 371324, 448945, 448909, 557354, 557355, 226853, 208455, 557382, 226846, 557440, 557499, 427954, 226790, 226854, 557478, 226793, 226795, 226861, 226862, 226813, 557406, 226848, 557380, 391241, 557372, 226803, 226806, 557558, 226830, 226774, 557565, 557469, 557426, 226775, 557500, 557501, 296906, 226801, 557568, 226785, 557495, 557435, 144088, 226839, 226812, 226815, 107049, 226783, 557393, 226807, 226808, 557532, 12215, 201528, 518806, 412476, 123056, 133083, 518784, 412452, 518835, 518756, 9713, 130957, 518800, 3348, 58508, 58509, 55319, 82175, 82226, 82231, 82156, 82157, 35675, 82182, 22294, 75638, 75641, 82150, 82278, 82279, 63882, 63933, 63934, 32711, 63971, 63966, 102491, 47582, 47585, 102513, 42601, 102444, 102446, 32715, 343, 63963, 63964, 102478, 78593, 7006, 41798, 50305, 129112, 102419, 42295, 42303, 42571, 42574, 42182, 42219, 42221, 24564, 42293, 42374, 42254, 42256, 42260, 24568, 42322, 42383, 7391, 42514, 42515, 42516, 42517, 59, 42207, 42209, 163376, 42212, 42215, 42279, 42338, 346174, 42470, 42472, 42473, 42282, 42283, 42285, 42545, 218498, 120758, 120778, 120819, 120820, 120821, 120756, 120790, 120796, 18099, 120755, 120757, 120805, 120775, 120776, 120791, 120792, 235805, 120760, 120761, 120762, 222818, 222958, 222960, 222961, 222810, 222956, 268388, 309469, 222836, 223103, 222887, 80395, 222931, 223010, 151753, 222912, 510701, 222925, 222880, 222882, 222812, 222814, 222815, 368925, 223043, 223045, 223046, 223047, 329089, 59630, 200629, 222835, 225160, 305265, 305254, 305293, 305307, 305309, 305310, 305166, 305167, 20140, 20142, 305410, 305411, 59420, 305316, 305139, 305141, 305208, 305209, 305280, 56922, 305323, 130646, 305283, 274527, 18028, 305173, 305174, 305175, 305176, 49975, 305247, 57847, 305244, 305145, 305147, 305148, 305301, 305326, 383111, 17661, 145716, 145718, 145721, 145836, 145717, 145719, 17662, 145763, 145783, 31908, 145923, 145924, 145927, 145813, 90982, 145904, 59866, 29568, 73520, 73522, 147032, 147036, 147215, 116, 125601, 147143, 147144, 34510, 147059, 6441, 6448, 147129, 147071, 147097, 147057, 147251, 54000, 54001, 53989, 53991, 54004, 54006, 54053, 54058, 54075, 54023, 54009, 53987, 54061, 54014, 336971, 336972, 9953, 73770, 181682, 212156, 336945, 336922, 336924, 357886, 336933, 46954, 30376, 336926, 9962, 9964, 8780, 120571, 201548, 120584, 120585, 121497, 121499, 100061, 263955, 263957, 263959, 263956, 459043, 88369, 220808, 220933, 220807, 459039, 220799, 458946, 87917, 67341, 73534, 57037, 334345, 262374, 262375, 78430, 262402, 89525, 262380, 262381, 161662, 262427, 262377, 20567, 11783, 20596, 447145, 447146, 447147, 20577, 402427, 402428, 447148, 447153, 27140, 236366, 236342, 5385, 67010, 236533, 300463, 110160, 34994, 173320, 300261, 300264, 236436, 21199, 166621, 238545, 262499, 300481, 236389, 236601, 107280, 145644, 236344, 236303, 236304, 300257, 300259, 223880, 223882, 236456, 236359, 50178, 300229, 236536, 236540, 236454, 236455, 236458, 236585, 27142, 236374, 147744, 507566, 513750, 507597, 31587, 124204, 124206, 124207, 399660, 124203, 124205, 124417, 81947, 11778, 16236, 34858, 124373, 124366, 124408, 124377, 124378, 124379, 102805, 102794, 242106, 242107, 174387, 417542, 417544, 11694, 11696, 11712, 11735, 11736, 11698, 11701, 11706, 11708, 11717, 2996, 11699, 555083, 507582, 507584, 186976, 555095, 33282, 764, 33360, 33361, 33362, 33363, 33249, 33250, 770, 782, 765, 33211, 33237, 812, 33283, 33284, 33285, 33370, 24254, 241987, 26270, 36714, 49403, 114037, 241923, 59059, 242044, 54028, 82994, 220744, 258024, 241926, 241945, 17757, 42617, 34872, 465053, 153886, 241963, 465094, 205956, 241989, 241990, 89943, 89963, 242059, 210369, 242062, 465118, 220037, 241897, 241898, 241966, 140122, 43195, 80412, 80413, 80414, 80416, 80417, 6285, 80362, 80195, 80198, 92, 80337, 27633, 19042, 82026, 70663, 80156, 80158, 80160, 80501, 52218, 52219, 43166, 41667, 53617, 80186, 80377, 80242, 80243, 80244, 52386, 224895, 9773, 80295, 80297, 82054, 80371, 80372, 80374, 80375, 272717, 80376, 29840, 81975, 80209, 78376, 80215, 80287, 80288, 3535, 394750, 42557, 75511, 82131, 359843, 58203, 80457, 38804, 82017, 82018, 82021, 80498, 135973, 459746, 82011, 80280, 293543, 80446, 459710, 7635, 80254, 21149, 53676, 80181, 80205, 80432, 11447, 52948, 80464, 82094, 82097, 43347, 92929, 92930, 172515, 3537, 80370, 80282, 190135, 35082, 336274, 459778, 101721, 101757, 80141, 80143, 101737, 10643, 101783, 101770, 101735, 101726, 101722, 101744, 23628, 101753, 101756, 101718, 6101, 120522, 273276, 273229, 273231, 273232, 33471, 231482, 273495, 273343, 273344, 273346, 273347, 45127, 151633, 151635, 225037, 267748, 267749, 273281, 273451, 273453, 273454, 273423, 219392, 273244, 273394, 273377, 98576, 217866, 200631, 200634, 273417, 326257, 439628, 439661, 439663, 30732, 250964, 250966, 213180, 48408, 194043, 439653, 439777, 77536, 152028, 62385, 224667, 439756, 439696, 217547, 126775, 290043, 290045, 439625, 439763, 439764, 439765, 439766, 439767, 439768, 439709, 439710, 439677, 55894, 290048, 290049, 159982, 30789, 126869, 14252, 14254, 485660, 485728, 128175, 481825, 485713, 485714, 11276, 89555, 1804, 143757, 61455, 485726, 8428, 93310, 485697, 485699, 263610, 534966, 534968, 48174, 51007, 103490, 3249, 12240, 194961, 74556, 10322, 120219, 184135, 120294, 120295, 64660, 56637, 178361, 56638, 67380, 374617, 120323, 120321, 38456, 38457, 340978, 529595, 374662, 146104, 38367, 38368, 81892, 34793, 98020, 98021, 63429, 3279, 67926, 47025, 67922, 138700, 314012, 321481, 133237, 238679, 59354, 49531, 321522, 84297, 4603, 327783, 297711, 327815, 327784, 439968, 210308, 439876, 373086, 136267, 439928, 34784, 26254, 1580, 439987, 40566, 439813, 52430, 88008, 12210, 40842, 10359, 20590, 34764, 310363, 310364, 210320, 310339, 210319, 210356, 28806, 210362, 439917, 210357, 121574, 210348, 9844, 34801, 34875, 439832, 206233, 15901, 15927, 104307, 471253, 15913, 15973, 15930, 120282, 15931, 15919, 15921, 88395, 131384, 266785, 88433, 28757, 28814, 88457, 498609, 50328, 361491, 372258, 269592, 162489, 116662, 29125, 293122, 293123, 35611, 35612, 35614, 103254, 156201, 35436, 292884, 292885, 293259, 293262, 55327, 292901, 292902, 195144, 292999, 293001, 293004, 197415, 197416, 292958, 292959, 71172, 197133, 292973, 74384, 159318, 292964, 292966, 292968, 292971, 292972, 292863, 292868, 337383, 293107, 262324, 293035, 203779, 293284, 293287, 293288, 35745, 133859, 280950, 292870, 152921, 193045, 292877, 292878, 292879, 25812, 395905, 293225, 35941, 292880, 100898, 339409, 192687, 293096, 293099, 293101, 106351, 293206, 293208, 293209, 292911, 293135, 293139, 293141, 293059, 293226, 293228, 9395, 9396, 293292, 7421, 136341, 293125, 293127, 293104, 293106, 206853, 206983, 17606, 44232, 203830, 293068, 293072, 293073, 293075, 69878, 130024, 282237, 85385, 293156, 25467, 292946, 292948, 292951, 7414, 293013, 5594, 5596, 5598, 293048, 293051, 29601, 29602, 72141, 72229, 72230, 72301, 29603, 241062, 275122, 313775, 313776, 72160, 9937, 10402, 72323, 27127, 109485, 109486, 109487, 2242, 109503, 109505, 512006, 511989, 15524, 194315, 404851, 441816, 73393, 175359, 404849, 441782, 441783, 441784, 441753, 402559, 40620, 180370, 180476, 56569, 56571, 180428, 180423, 180372, 28933, 180478, 180458, 27690, 27691, 168574, 168578, 168583, 180408, 180411, 164581, 164582, 132746, 57185, 9432, 164575, 164576, 40142, 65794, 164579, 9205, 91113, 164600, 404859, 288587, 259910, 201599, 404866, 404871, 414630, 414631, 38565, 275375, 353034, 9254, 148420, 168560, 188545, 224685, 247706, 294877, 294878, 154196, 294984, 294987, 100391, 138853, 138855, 138856, 294933, 50237, 352801, 352802, 352803, 294882, 251013, 230820, 294981, 35622, 11748, 294845, 294853, 352945, 352946, 352948, 352949, 125051, 294968, 294969, 294779, 294832, 4690, 18198, 352867, 18203, 352872, 284557, 284561, 1082, 45833, 294885, 42418, 47613, 60972, 193628, 352969, 1152, 25705, 102238, 168538, 352822, 78222, 352792, 83585, 173174, 352815, 188859, 129799, 294804, 86547, 114620, 16364, 16367, 50882, 294864, 220978, 295113, 309738, 286647, 4602, 4604, 4607, 352959, 42512, 352940, 352942, 352978, 352926, 352927, 139501, 352935, 112236, 295081, 352753, 352754, 352757, 294755, 48598, 48599, 14292, 61010, 61012, 61014, 61047, 48595, 61032, 161432, 161336, 161338, 161341, 161343, 161407, 39844, 161326, 136406, 161422, 161423, 87153, 161319, 161369, 161371, 161388, 161452, 161462, 161390, 6236, 407199, 407253, 407362, 152688, 346146, 407224, 373680, 260906, 79836, 407396, 158935, 151972, 181022, 181027, 181029, 181019, 181020, 181016, 24069, 294245, 57626, 57620, 57621, 294253, 57559, 57560, 57561, 57548, 57549, 34743, 57633, 233496, 57652, 11833, 194886, 57644, 91395, 57564, 57565, 3074, 31171, 31176, 31200, 31201, 31202, 31156, 31158, 31170, 831, 31192, 31139, 31173, 31129, 31145, 31146, 31147, 31133, 31135, 159069, 529648, 529649, 159075, 89089, 89216, 419648, 89133, 89231, 419681, 35679, 35680, 145736, 23706, 259614, 75281, 145734, 35414, 259613, 259607, 259354, 525906, 525895, 436496, 436497, 436492, 28790, 436503, 160736, 436494, 436493, 83370, 83371, 83372, 39538, 377768, 377739, 196658, 129677, 377767, 49529, 377731, 196668, 377734, 377824, 377779, 119693, 34480, 149899, 256728, 249315, 28447, 34483, 50473, 302038, 169757, 21182, 27771, 301843, 301847, 50485, 664, 302009, 50462, 50516, 301928, 301933, 50417, 133865, 301868, 666, 11508, 301782, 50452, 50453, 50455, 27622, 302107, 302109, 302194, 174858, 174859, 301895, 40708, 301967, 302170, 25583, 301823, 301827, 301907, 50440, 50441, 50442, 301838, 21015, 116645, 256855, 301851, 301852, 50470, 50471, 302096, 302098, 302092, 302093, 302094, 301781, 301784, 32416, 50431, 50489, 301775, 301776, 301777, 301778, 186278, 28676, 186357, 186358, 186317, 186306, 46897, 9851, 9852, 9853, 186280, 78982, 78916, 19629, 78823, 78828, 12140, 57544, 78965, 78967, 78835, 178423, 78824, 78825, 78827, 27424, 78879, 449541, 1144, 79113, 27434, 449549, 449550, 449552, 449553, 27564, 79032, 78791, 79022, 79023, 79024, 79026, 79027, 79029, 79030, 79031, 78853, 44398, 79001, 78829, 78948, 78950, 78951, 78990, 78991, 78856, 78858, 27554, 27570, 78994, 35940, 27437, 27467, 27470, 78885, 78888, 171311, 78794, 78903, 181332, 181333, 181334, 181324, 168397, 181336, 181330, 181331, 262480, 262487, 432825, 19685, 405189, 539548, 539554, 539461, 539429, 539431, 79829, 262625, 254159, 262659, 110593, 262679, 11442, 238548, 262588, 262587, 539417, 539419, 539420, 539421, 206243, 139507, 139573, 188697, 19082, 228617, 262646, 262640, 86480, 262496, 262685, 262687, 262689, 43073, 539407, 46129, 196302, 229716, 262507, 461018, 262582, 11951, 236635, 1727, 539399, 539402, 496867, 539468, 333086, 94216, 262603, 262604, 220497, 155794, 220498, 220499, 220500, 67549, 11233, 197435, 197417, 197418, 12806, 197246, 197247, 197276, 197381, 197341, 159771, 83197, 197395, 125210, 125316, 197356, 197358, 197288, 197290, 197442, 197443, 197444, 197445, 197377, 197329, 197330, 109643, 109644, 197335, 197317, 197318, 197320, 197322, 488469, 488470, 78558, 78559, 84450, 110442, 63906, 29805, 488431, 488432, 48491, 64699, 64700, 64788, 64789, 64793, 64794, 28779, 110498, 110436, 79894, 79895, 110703, 514995, 110416, 34974, 488447, 157887, 514987, 264928, 110546, 110748, 110577, 189131, 110721, 515009, 156031, 110754, 110758, 110752, 125137, 488649, 488650, 110387, 515006, 58366, 58367, 58369, 58370, 40119, 110660, 414852, 488445, 488618, 488622, 488623, 488627, 488629, 488631, 488633, 110621, 45902, 78533, 137411, 110430, 4588, 488407, 488408, 488643, 110594, 110595, 110751, 110588, 110458, 381748, 488501, 110634, 488607, 110432, 14280, 140968, 25863, 110683, 9490, 245979, 110590, 110591, 110406, 110407, 110563, 110564, 110566, 110567, 110568, 110569, 110570, 110573, 345655, 489274, 489276, 147488, 489297, 489308, 489313, 55415, 4802, 4804, 193149, 155854, 4720, 4668, 41003, 66771, 221824, 4511, 4512, 4612, 51531, 4925, 4631, 4760, 4695, 4798, 4876, 235423, 235426, 4534, 235238, 235239, 235240, 4621, 59753, 32730, 235059, 235062, 165418, 4888, 4889, 4892, 4559, 4562, 3009, 155862, 235291, 235149, 235150, 235152, 235154, 4903, 4644, 4572, 235394, 2565, 167562, 198703, 198704, 198705, 180135, 198805, 8417, 8060, 8061, 198782, 37155, 9685, 6606, 113755, 54898, 113878, 113770, 113808, 113816, 113969, 113840, 113768, 58693, 113765, 100731, 68050, 113782, 406731, 406720, 406721, 406743, 34829, 406686, 406684, 406733, 39580, 406706, 406707, 280325, 117352, 406694, 210577, 406715, 231298, 406713, 406712, 9710, 9711, 16280, 164420, 309857, 309894, 309859, 309923, 309866, 309883, 309915, 309882, 10541, 421159, 20045, 255692, 255694, 255695, 66158, 365966, 225439, 225440, 225441, 28288, 225297, 66150, 10554, 244596, 100163, 382601, 539966, 223091, 10582, 48404, 180251, 10663, 10665, 483793, 483713, 352484, 352485, 352486, 10639, 10640, 289611, 149379, 149380, 88366, 17419, 38760, 233592, 132820, 88361, 319668, 12071, 234796, 225746, 234952, 343643, 343644, 80095, 225771, 225772, 401155, 401156, 285949, 225837, 225680, 225742, 27686, 401274, 401277, 234781, 80114, 559866, 559740, 86355, 57831, 40958, 33570, 438794, 438725, 129395, 129396, 129406, 129403, 129397, 129399, 129431, 129410, 129404, 129414, 675, 26971, 152471, 88683, 152473, 152524, 152525, 152526, 152528, 152529, 86057, 86059, 86060, 69876, 46084, 152485, 152488, 152489, 152490, 152491, 152589, 152606, 152607, 152609, 110058, 152588, 1708, 152680, 152684, 54631, 54632, 111884, 111736, 111737, 111738, 111741, 270668, 90495, 147461, 304138, 316328, 316329, 316331, 316307, 316362, 85832, 316279, 86639, 304125, 314304, 316340, 316341, 316343, 316283, 316350, 316270, 316272, 316384, 177644, 236257, 236258, 44412, 44414, 44415, 77500, 92886, 315976, 204921, 541980, 31400, 542007, 26008, 219962, 55792, 55794, 88761, 219943, 219945, 219948, 141341, 219938, 219939, 510218, 184010, 40500, 42098, 42099, 154380, 293028, 40402, 133723, 234633, 85437, 242193, 492398, 443335, 492396, 41801, 42492, 492388, 157732, 218483, 61567, 510201, 9649, 9651, 36360, 129873, 510295, 184041, 157203, 71365, 41886, 492380, 492382, 12790, 115080, 115082, 492437, 320295, 85476, 540307, 41754, 184040, 510224, 25162, 492287, 67562, 134416, 492413, 492415, 164083, 278873, 343002, 400579, 540337, 157600, 540392, 95735, 95737, 492455, 150396, 196276, 196278, 315264, 315265, 315310, 315271, 315274, 315285, 83755, 315272, 28170, 222541, 94151, 90223, 222556, 497932, 497841, 497842, 497854, 402214, 497858, 497859, 497860, 497861, 497698, 497798, 497793, 284075, 497711, 497712, 154232, 100806, 100809, 222527, 497556, 497604, 497605, 497606, 497609, 497595, 138471, 269126, 429806, 497658, 63304, 151755, 497835, 72153, 222531, 497751, 293305, 293306, 229092, 9927, 31336, 497740, 196554, 73765, 196558, 322380, 196565, 322361, 72464, 73764, 73766, 22206, 72428, 322341, 196621, 2866, 322374, 322273, 322279, 60740, 83149, 17092, 438855, 230395, 230397, 53219, 230368, 181110, 69805, 438909, 12139, 201146, 438867, 438868, 31840, 31841, 73162, 187483, 427405, 154098, 154155, 75585, 154088, 154185, 240660, 19440, 92276, 154277, 154384, 154385, 75055, 154504, 154505, 154506, 154478, 75052, 75054, 42498, 154434, 154436, 154437, 154509, 154438, 154440, 154320, 9385, 41894, 41895, 154163, 52612, 41959, 154487, 154488, 106900, 129888, 154429, 154522, 154093, 154126, 43412, 113485, 113487, 154244, 154245, 129959, 154409, 154199, 154212, 154214, 226094, 154215, 154247, 154520, 228801, 154306, 154311, 129791, 129794, 129889, 154190, 154115, 154217, 154218, 47147, 154346, 50017, 365143, 154342, 154348, 154330, 154154, 154224, 154225, 234357, 234358, 234359, 234360, 234365, 234369, 41658, 4984, 304194, 304195, 304197, 40130, 304211, 23686, 129270, 129344, 468991, 7891, 199276, 41939, 50129, 7890, 7893, 41004, 41005, 40956, 99260, 99261, 253096, 957, 25966, 468978, 255685, 468924, 40979, 40972, 40994, 76834, 128604, 468967, 468968, 468969, 41013, 83122, 794, 40939, 220056, 277032, 468956, 29164, 468997, 468999, 469000, 469001, 24585, 469015, 40988, 69800, 173559, 70480, 170450, 173561, 173562, 173563, 173565, 88585, 173571, 98059, 173590, 50286, 20063, 5325, 71287, 431054, 456627, 456630, 456631, 431041, 456653, 431043, 81471, 456624, 6428, 103164, 18097, 18098, 18100, 18101, 18102, 18106, 18107, 18108, 18109, 131994, 132007, 29200, 210886, 211086, 110367, 210941, 210943, 94573, 132013, 132031, 132033, 132034, 211013, 211015, 211017, 210881, 210884, 3528, 33557, 33559, 33560, 33561, 3529, 33558, 33586, 33601, 33577, 33578, 33682, 33598, 87998, 14553, 88030, 50935, 64623, 81492, 208811, 87976, 64640, 87953, 64618, 87961, 37710, 38352, 38353, 38354, 88028, 88029, 16211, 19722, 69173, 553251, 222422, 222424, 159885, 69185, 21846, 21848, 21849, 21851, 553181, 125136, 553074, 203885, 69156, 22080, 98909, 193328, 193325, 193366, 193357, 193326, 193359, 193392, 193396, 193383, 193374, 193375, 193377, 193402, 144669, 210630, 52530, 3055, 287043, 20363, 5363, 77703, 77704, 29692, 287020, 340986, 106144, 106160, 287034, 287060, 210592, 210593, 469601, 469603, 54897, 56342, 266633, 266628, 469629, 184241, 79984, 85255, 301633, 203666, 74906, 266650, 532791, 99154, 184178, 184329, 266631, 434566, 184265, 184266, 184276, 184283, 469638, 469687, 75811, 216196, 216194, 216195, 216198, 21815, 192708, 353669, 96869, 278907, 3063, 3064, 3066, 3067, 3068, 118589, 58475, 48555, 540892, 540893, 540894, 454282, 541030, 541016, 235343, 247090, 540920, 108308, 321578, 353702, 540903, 540908, 540909, 540897, 147408, 10605, 218021, 10361, 112520, 112535, 532384, 532492, 532386, 366109, 3466, 366222, 366224, 174358, 366245, 366248, 73777, 307935, 185262, 366278, 34734, 64779, 36300, 40204, 40303, 187333, 366232, 65089, 83702, 102714, 27349, 34651, 34653, 34654, 34655, 120746, 34652, 34656, 468084, 468085, 468086, 468087, 468088, 468089, 468090, 34650, 120748, 504283, 199460, 310707, 24164, 310701, 310702, 310704, 71128, 74353, 74354, 74358, 74360, 71050, 87676, 74331, 71161, 87652, 87653, 71159, 74473, 25793, 71160, 71162, 74521, 71173, 71174, 87683, 87684, 87530, 74392, 74385, 74386, 147577, 147578, 147599, 147646, 45893, 147734, 147736, 147660, 147611, 147649, 147651, 75950, 147717, 147718, 147623, 147753, 188375, 318726, 318731, 318734, 318759, 318764, 17737, 318719, 318788, 318729, 155787, 166294, 318880, 17741, 141396, 135235, 318752, 178410, 318767, 22082, 318728, 318718, 318721, 318777, 318778, 318756, 17738, 42308, 17740, 318843, 155789, 318826, 156855, 318723, 318793, 318795, 318797, 188377, 318792, 318864, 318856, 318805, 318724, 264126, 239428, 252525, 264101, 264179, 264181, 232621, 263975, 341264, 512428, 512429, 512431, 512432, 354216, 354218, 354230, 134908, 354219, 354279, 354217, 354220, 185209, 16366, 105221, 281106, 552942, 552952, 133397, 78029, 552890, 552891, 455005, 552971, 552972, 1951, 62538, 62541, 355619, 355620, 355621, 355622, 355623, 355624, 355614, 355615, 355618, 355628, 526277, 526278, 526281, 526282, 526283, 526286, 526287, 526284, 526342, 526299, 526427, 526279, 526280, 19428, 19429, 19430, 19431, 35041, 93214, 93215, 93216, 235772, 69952, 235788, 235793, 235794, 220257, 286553, 536087, 11488, 163450, 510917, 460764, 296642, 52828, 19036, 286603, 150067, 11505, 11649, 166620, 273433, 460626, 460629, 460630, 11506, 204710, 11486, 150010, 150012, 411365, 413348, 413349, 323397, 11647, 539111, 539112, 286414, 286415, 432764, 109636, 109637, 299226, 299227, 299230, 299232, 299235, 299236, 299228, 299294, 332625, 299402, 299535, 299534, 257997, 220719, 220743, 208584, 258151, 104927, 30720, 54813, 220716, 220717, 220718, 14205, 184674, 113026, 440932, 184668, 184678, 27334, 27335, 27336, 27337, 27338, 27368, 27361, 10040, 27345, 27395, 433958, 433993, 433980, 226559, 132909, 226556, 25727, 25731, 446950, 33527, 140757, 447090, 33529, 446992, 446952, 246243, 446995, 446920, 446938, 446933, 446935, 33530, 24995, 24998, 131015, 133507, 446987, 446988, 446989, 446991, 446961, 18092, 446908, 103782, 103802, 103787, 103788, 103804, 26969, 103786, 103831, 194662, 357506, 194657, 194660, 357620, 194661, 13503, 208987, 357595, 357593, 357596, 22555, 357546, 450882, 357677, 10013, 25836, 25623, 25627, 25730, 25703, 25693, 25926, 25928, 25933, 25634, 25672, 25664, 25750, 25895, 25879, 25880, 25734, 10298, 25667, 25671, 16891, 25867, 25900, 25902, 468032, 25904, 25770, 25619, 25620, 25813, 25814, 25685, 134690, 48355, 7844, 78744, 134667, 134668, 134671, 102904, 12976, 12977, 12980, 103993, 103995, 103996, 103997, 103998, 198363, 519047, 65616, 100156, 351545, 423006, 519071, 323599, 323600, 109927, 323730, 484961, 519115, 519116, 370, 32175, 423054, 44707, 423017, 423018, 423019, 519122, 519123, 62932, 12978, 41978, 9996, 142272, 142387, 142395, 142424, 142359, 142361, 25761, 55165, 166860, 319379, 319383, 9440, 22240, 425665, 425666, 425667, 425681, 425668, 55295, 55296, 55297, 55298, 55299, 55300, 55301, 55302, 55303, 25765, 318345, 366096, 520750, 520752, 366091, 366092, 366094, 366095, 366097, 136300, 319520, 425691, 55188, 25757, 55147, 55151, 55230, 216129, 520736, 520739, 520741, 520743, 55143, 55117, 520725, 43419, 390671, 390672, 390673, 55226, 48127, 73149, 196766, 90067, 196748, 162065, 399677, 399765, 399766, 399767, 399768, 3148, 99240, 410851, 410850, 410852, 181065, 407917, 407918, 356039, 423586, 423446, 423567, 35060, 423529, 156764, 156765, 213004, 423642, 423495, 423496, 51161, 423444, 72774, 72771, 72772, 137693, 530422, 530423, 530434, 530435, 476131, 530425, 46766, 122652, 530502, 530504, 530465, 530466, 530468, 530439, 23766, 137775, 530648, 467213, 126238, 441895, 441903, 184057, 184060, 184139, 184124, 184078, 184079, 184062, 184064, 184065, 184082, 184059, 180996, 184071, 184098, 175949, 184092, 184089, 134697, 184119, 340690, 340692, 26359, 38609, 73325, 73332, 73330, 73358, 145147, 145148, 145151, 246708, 246630, 67951, 194162, 194231, 194232, 113350, 194171, 194237, 194172, 194275, 67950, 194236, 194239, 194197, 194199, 194164, 147269, 147270, 147273, 147317, 113560, 194149, 194151, 194228, 262731, 262732, 262733, 194202, 194261, 262792, 194277, 194200, 73840, 194254, 194256, 194257, 262785, 262786, 262799, 114552, 194291, 156110, 156114, 182933, 182934, 378096, 260170, 183019, 338262, 378081, 378169, 378170, 378171, 378172, 378173, 378175, 378311, 3893, 93287, 93288, 57732, 58400, 326181, 326178, 93297, 28971, 326190, 37204, 152158, 43046, 82053, 114374, 114375, 114449, 47919, 43070, 43348, 43071, 123226, 123227, 271975, 43114, 114370, 114371, 43065, 43151, 43066, 43112, 123450, 43334, 271863, 43063, 43072, 43075, 43076, 271950, 271951, 271952, 67553, 37190, 271885, 540574, 271888, 114356, 114357, 114358, 123443, 52192, 429800, 60160, 230813, 72985, 429858, 72953, 72935, 78255, 338361, 240, 313509, 42388, 141560, 12882, 131348, 195001, 339722, 9512, 205195, 205196, 205198, 205356, 245902, 558739, 99991, 205236, 205238, 169230, 169231, 205139, 205140, 558767, 205189, 205124, 205167, 205169, 78535, 88259, 88262, 205177, 205179, 205181, 205182, 205185, 88419, 64904, 558697, 558698, 558699, 558700, 82785, 558853, 217091, 245611, 558703, 490015, 558796, 558797, 451463, 230067, 97604, 97605, 64828, 141174, 55966, 141163, 543482, 543464, 65954, 237075, 237076, 237077, 237078, 237079, 237111, 237114, 237122, 237468, 237469, 237471, 360232, 200664, 200665, 26263, 50370, 360145, 40741, 295284, 10178, 19483, 10201, 237019, 12435, 70484, 113374, 123384, 151403, 32731, 151447, 151421, 237072, 151354, 59916, 112143, 173362, 309278, 237065, 237066, 58088, 50979, 37749, 38357, 57756, 57754, 57755, 38378, 38379, 50976, 186580, 153576, 362355, 362359, 362361, 451022, 451023, 451010, 41921, 259163, 232249, 20542, 145093, 20540, 20536, 20545, 1689, 259195, 259196, 259198, 51391, 259169, 259171, 10366, 259208, 168716, 168718, 168719, 168725, 168724, 168726, 168721, 168854, 98756, 924, 790, 796, 920, 922, 907, 940, 781, 763, 941, 769, 791, 910, 818, 858, 789, 938, 838, 775, 776, 827, 828, 875, 803, 811, 891, 445932, 19730, 445925, 445926, 371131, 40238, 65360, 192658, 65221, 10368, 67400, 139871, 94995, 139898, 192460, 139874, 139987, 192408, 192409, 139868, 192366, 192378, 192379, 192380, 192381, 8669, 139864, 82817, 19866, 19868, 139939, 65302, 65304, 192388, 192389, 34482, 84689, 192223, 192225, 192227, 20009, 192420, 192423, 192646, 14821, 14827, 67191, 192399, 192400, 192537, 192542, 133356, 192448, 192451, 192608, 54837, 54840, 54841, 531798, 67552, 152159, 531748, 531749, 18320, 205536, 447706, 50257, 390484, 516954, 516956, 486811, 486879, 516933, 447685, 447686, 486880, 232171, 79206, 486810, 97846, 73946, 74009, 87326, 73958, 254739, 254792, 87303, 87309, 87310, 74084, 73963, 73964, 254786, 254620, 254621, 87468, 74094, 74141, 74024, 87460, 71398, 74010, 74011, 73961, 254727, 254729, 254802, 3047, 16692, 74041, 87241, 87202, 45126, 87356, 254652, 74031, 74034, 87254, 87255, 449663, 449662, 449726, 163614, 375329, 375337, 449722, 449723, 375382, 449655, 449656, 449667, 449668, 449669, 106998, 346345, 449676, 449677, 449680, 36868, 375386, 375387, 521034, 520963, 520965, 56035, 493806, 521064, 316600, 316601, 453384, 24454, 521128, 521047, 334098, 521053, 133188, 133214, 133194, 133196, 126920, 133192, 133232, 133193, 133195, 126740, 133222, 40393, 40395, 220964, 139584, 358660, 358658, 358653, 140779, 358666, 386914, 219712, 386917, 386918, 73392, 19512, 19515, 121258, 121355, 8175, 317735, 121260, 121261, 121257, 121359, 121361, 14125, 526271, 526272, 464162, 316929, 471430, 64433, 249898, 162076, 249875, 249877, 46339, 249866, 249867, 107020, 107029, 107030, 151955, 104996, 249832, 26280, 249844, 249884, 249933, 249858, 172227, 249987, 49433, 49434, 50383, 550398, 550426, 25557, 341612, 175243, 476, 215046, 215142, 554952, 100794, 215119, 215120, 215121, 215122, 202880, 29296, 534217, 534240, 89483, 241649, 34783, 338453, 291172, 534228, 176453, 176454, 56921, 156011, 156134, 156135, 19701, 156154, 156113, 124861, 156145, 156148, 156020, 156035, 156001, 156015, 156082, 156019, 156021, 156023, 156158, 156159, 14007, 14008, 235111, 504396, 504397, 504379, 504362, 504363, 504364, 504365, 260186, 504391, 403657, 470442, 142149, 142150, 239044, 504356, 504295, 504309, 504310, 87022, 339935, 100107, 473774, 504401, 504403, 504405, 151793, 143970, 14471, 14475, 14477, 14476, 14486, 59782, 38451, 56160, 210590, 210612, 49440, 29711, 83617, 81861, 81885, 210564, 210562, 210557, 210608, 114535, 41708, 176748, 176750, 176742, 21832, 21937, 21938, 404918, 404960, 21977, 404922, 404933, 188386, 188387, 140204, 279789, 279822, 20685, 20686, 20687, 255149, 212903, 31291, 279987, 279881, 279995, 279996, 279840, 3599, 260883, 291842, 279826, 279828, 22651, 279847, 279919, 47902, 127983, 279938, 279939, 279940, 279941, 279834, 279884, 279885, 113209, 291850, 279791, 279792, 279793, 37801, 279797, 291836, 279905, 279849, 183720, 279799, 279800, 279802, 279803, 8498, 291824, 279845, 147522, 250403, 291839, 291841, 279842, 279843, 30248, 279823, 279900, 279901, 291857, 19888, 279962, 279896, 279899, 279894, 279895, 265365, 279999, 280000, 280001, 280002, 232379, 232380, 93792, 232367, 232381, 232375, 232376, 196305, 196306, 34763, 196343, 232401, 201584, 333180, 481111, 37136, 509048, 37153, 37166, 37134, 37146, 37169, 37119, 509015, 37126, 9747, 37161, 37135, 104935, 509030, 37156, 226531, 37184, 49536, 509062, 69945, 83076, 41816, 19511, 83096, 83097, 73563, 73566, 73567, 73568, 73572, 14197, 14198, 14199, 83067, 83138, 83140, 83083, 83084, 83171, 3007, 106189, 211915, 211916, 466313, 140337, 376620, 10449, 40575, 153857, 153858, 153860, 191835, 191836, 98704, 99530, 191838, 497970, 99531, 497974, 497975, 69140, 140005, 497991, 99904, 497992, 36094, 11798, 31369, 31370, 31371, 31372, 490965, 491000, 491004, 244192, 417902, 490980, 14212, 14061, 14130, 14154, 14206, 14208, 14144, 14145, 14054, 14081, 369454, 14236, 379819, 379820, 379821, 130550, 14068, 379800, 14132, 10154, 10155, 14072, 14076, 14079, 14149, 14150, 14189, 14203, 379842, 14094, 14161, 350505, 14070, 14071, 350586, 350588, 14080, 9039, 14222, 14223, 123830, 17361, 98974, 17777, 123832, 123834, 123852, 123853, 21833, 21841, 21875, 21925, 22003, 21913, 21874, 22027, 267220, 9227, 9228, 214840, 267138, 267139, 267140, 267142, 85708, 78572, 78574, 78575, 267314, 339812, 267133, 267225, 78265, 463973, 267342, 455066, 267343, 339881, 339883, 339843, 76102, 267276, 339737, 339736, 339740, 51158, 51159, 339956, 339957, 267270, 267137, 267363, 59950, 339996, 339998, 340000, 340001, 339721, 339725, 115989, 267268, 267339, 267340, 267381, 267382, 267383, 73873, 267223, 232141, 339930, 137348, 267263, 267264, 205634, 267274, 171103, 339792, 339983, 267164, 42585, 108229, 340009, 267236, 9243, 9356, 9422, 9531, 9310, 9345, 9347, 9235, 9461, 198039, 362476, 293976, 293978, 9335, 9336, 9338, 9644, 9645, 9646, 9353, 9634, 9636, 217246, 9379, 9609, 9611, 9238, 9573, 9516, 9542, 9330, 9349, 9433, 9434, 9239, 9498, 9499, 9471, 9472, 9259, 9264, 9598, 9327, 9603, 9606, 9361, 9362, 9409, 9445, 9442, 9314, 9587, 9590, 9591, 9274, 9242, 74537, 74573, 52448, 74549, 74565, 74582, 74564, 21738, 74607, 74579, 74581, 74575, 379322, 379323, 183660, 519511, 447816, 519470, 519549, 37197, 37206, 519466, 519467, 200022, 200023, 519517, 519518, 519498, 519499, 519500, 519501, 519502, 447813, 447814, 447815, 33020, 94347, 126919, 137662, 137891, 137641, 137642, 137643, 137645, 137644, 137672, 137911, 201666, 201667, 137697, 316952, 137670, 137702, 137734, 6151, 201653, 137667, 22106, 137779, 137671, 137805, 137806, 137795, 137749, 137912, 46747, 137868, 119296, 201674, 201675, 7728, 137713, 137718, 137783, 137785, 137709, 137849, 201650, 137664, 137767, 53455, 137739, 143, 131, 69741, 297434, 69760, 69779, 29758, 4578, 23781, 23783, 105238, 105239, 4580, 105536, 105537, 105540, 105212, 105217, 105292, 105149, 105021, 105351, 8680, 105528, 70557, 71013, 105303, 15427, 65159, 34271, 105245, 105473, 105400, 105175, 105053, 103778, 105562, 105573, 105577, 105148, 105096, 105097, 105099, 105101, 105102, 19462, 105070, 105142, 105144, 105524, 105548, 105106, 58315, 105312, 105314, 168159, 105315, 7572, 60898, 105113, 226581, 226582, 226618, 106137, 106180, 106183, 368215, 379215, 106127, 379115, 379214, 65999, 66001, 106152, 106153, 106139, 97391, 106128, 31112, 31115, 106224, 106225, 106227, 379056, 106202, 106206, 106237, 106239, 106241, 106196, 106197, 106198, 259694, 379330, 379348, 379352, 379167, 379086, 379206, 106221, 153464, 379069, 229076, 270513, 353063, 412311, 353066, 412315, 379137, 133581, 379265, 167949, 129752, 412335, 412337, 412339, 379178, 106208, 379361, 379362, 379363, 25408, 106135, 106175, 412295, 379087, 97665, 412328, 412332, 319032, 379092, 379163, 412322, 412325, 106215, 106219, 245949, 379181, 1924, 6554, 125220, 125264, 125265, 76475, 76476, 75957, 76490, 76481, 86796, 28125, 28126, 125253, 125213, 76485, 76517, 76492, 108408, 125319, 76539, 247710, 256975, 32914, 256839, 256840, 139504, 256906, 256907, 256908, 256911, 193493, 256856, 206793, 206794, 256954, 256955, 15421, 26194, 256926, 256640, 256798, 256800, 256874, 114659, 256899, 257706, 276633, 256778, 256779, 256783, 256894, 256635, 15416, 256863, 207583, 306002, 252667, 252671, 257028, 257032, 257035, 257036, 247766, 256697, 563928, 19455, 256657, 256748, 256755, 116600, 256780, 256782, 256922, 247756, 61882, 247764, 247769, 247770, 256988, 256644, 256981, 256646, 256962, 256724, 256729, 256757, 256758, 109792, 256653, 257050, 256861, 256901, 256902, 17, 24306, 294482, 294484, 485777, 485778, 485779, 485780, 59049, 418676, 500530, 500623, 526137, 228772, 405235, 526131, 526117, 526120, 526164, 35800, 188542, 98982, 17359, 17360, 189759, 189772, 47184, 163017, 506364, 31523, 235554, 262245, 382606, 163000, 197073, 67542, 163001, 163018, 230187, 506353, 506356, 506425, 129974, 506420, 252062, 162998, 162999, 189987, 38876, 53683, 506391, 217406, 166990, 217411, 217349, 217401, 19597, 19640, 148384, 204923, 11687, 68771, 184446, 60585, 59778, 261600, 261632, 557749, 49535, 52438, 52494, 52496, 52466, 26297, 52577, 279126, 52579, 52552, 52553, 34770, 52517, 52518, 52537, 52538, 30428, 52452, 52454, 96164, 271566, 271590, 271583, 271605, 416278, 548958, 93706, 232456, 548878, 8671, 112206, 548997, 298497, 548874, 548876, 78513, 214350, 373892, 70425, 3092, 291760, 287287, 287288, 291619, 84229, 106425, 84132, 291752, 26288, 291689, 291690, 28989, 53995, 291653, 65917, 65919, 81393, 65918, 222427, 34824, 34825, 64054, 89591, 33531, 33532, 483060, 59386, 59388, 171972, 7101, 248165, 289057, 289063, 59375, 59406, 289010, 35688, 553404, 43434, 131144, 131145, 441269, 131147, 441272, 131149, 131150, 171957, 171959, 81649, 81650, 35394, 35498, 66374, 33925, 47894, 240188, 345960, 441266, 441274, 131172, 67991, 137005, 172032, 172036, 172054, 172055, 172057, 345953, 345954, 345956, 33519, 172066, 294012, 135361, 171978, 127406, 172151, 172153, 59443, 144487, 84418, 289082, 289083, 289084, 289087, 509293, 563147, 563151, 172030, 172034, 33427, 33426, 66202, 17835, 18475, 20998, 205929, 437912, 437974, 205934, 185028, 5578, 94327, 203199, 93700, 187055, 193690, 339584, 437748, 235800, 437842, 437845, 114155, 141385, 141387, 141373, 12322, 12342, 12338, 12321, 141327, 120158, 48739, 141362, 141344, 141375, 141376, 32922, 68336, 32920, 113254, 113255, 113258, 54855, 113275, 113278, 113280, 113331, 113333, 113334, 113335, 113294, 113304, 316886, 358167, 193316, 27021, 67222, 559194, 559195, 199821, 199822, 559186, 390134, 390135, 390136, 219902, 219914, 219925, 447470, 78177, 67114, 304037, 440268, 440304, 440288, 440269, 440293, 250813, 440282, 259079, 259080, 259081, 259039, 259110, 259064, 140102, 97349, 259087, 259045, 259047, 18200, 259099, 5139, 102298, 102347, 102348, 38762, 102329, 102274, 102302, 102378, 102380, 284734, 102276, 102278, 190116, 204868, 204869, 65232, 65233, 59750, 266493, 146129, 241160, 266445, 266440, 266514, 266515, 7388, 151499, 151778, 151782, 151587, 151590, 42520, 42521, 97421, 444146, 57231, 151533, 73901, 79601, 151555, 444187, 151758, 242620, 444129, 151655, 151552, 151768, 151772, 151646, 151651, 151616, 2538, 133099, 151516, 221170, 107630, 151536, 151537, 151773, 151776, 151777, 151681, 325805, 360410, 274240, 360416, 232159, 143365, 440487, 103420, 103421, 103427, 103434, 103462, 103455, 103456, 103438, 103442, 103444, 103422, 60060, 103472, 103473, 103475, 271647, 271648, 271649, 547254, 271657, 547272, 271656, 177643, 5654, 547469, 547470, 123028, 262900, 200862, 6190, 262899, 262897, 262898, 262910, 430785, 430787, 430675, 430676, 430735, 64368, 430758, 430738, 4844, 430699, 430749, 108902, 108903, 108904, 109029, 109032, 61277, 61281, 305391, 340451, 267089, 65250, 103898, 340502, 28197, 55995, 340496, 340420, 340490, 162542, 228789, 228790, 320262, 228792, 228799, 228763, 336509, 336510, 336511, 336498, 336499, 336500, 336501, 336502, 311826, 336514, 336524, 336525, 336526, 336536, 336532, 336503, 336535, 336504, 336507, 336508, 336515, 336517, 374632, 443445, 443446, 89081, 263775, 120307, 443459, 50591, 148130, 119230, 431399, 15774, 148683, 9820, 111068, 207989, 207990, 207991, 207993, 208018, 207977, 207979, 207998, 43875, 43876, 43877, 182042, 182039, 182048, 50225, 182071, 24592, 182030, 69940, 451420, 451419, 140579, 140580, 451537, 451494, 11952, 35463, 35464, 35467, 201861, 451616, 508256, 451615, 175363, 451664, 451665, 258379, 363428, 451479, 85429, 35665, 35666, 10090, 258295, 247389, 247390, 247392, 247394, 247395, 451448, 451581, 70647, 451551, 444687, 451562, 451563, 451565, 451630, 451506, 306156, 320629, 320630, 320633, 368877, 356701, 510664, 363327, 206887, 309045, 510705, 510709, 159987, 159992, 184101, 412502, 412506, 55767, 55833, 55834, 30427, 510611, 510648, 510649, 510651, 510679, 510686, 94178, 42411, 116624, 510610, 247731, 184417, 233893, 510725, 11871, 56760, 7570, 56807, 56843, 144624, 11899, 11886, 11888, 56784, 11870, 11887, 56797, 11904, 56809, 56764, 11891, 11893, 11895, 56793, 56794, 17745, 11874, 11872, 390125, 390126, 390129, 290943, 290944, 408388, 408390, 408391, 408336, 408337, 408338, 408341, 408342, 408343, 336805, 408459, 408389, 408392, 227848, 408493, 408522, 408527, 408528, 408360, 408361, 408565, 408568, 408339, 337, 417318, 34799, 485989, 417316, 485987, 485990, 486025, 67254, 417342, 392237, 417332, 485993, 486140, 160071, 114693, 486033, 486092, 486008, 486075, 486013, 39279, 54045, 277719, 277720, 277714, 36011, 78802, 155685, 277707, 277710, 277711, 154586, 154589, 154590, 154592, 154593, 123877, 154659, 154642, 26268, 88719, 122159, 122160, 122161, 101252, 154580, 154568, 154669, 154672, 154608, 154585, 23606, 470712, 543915, 543918, 543916, 543917, 543945, 119660, 543970, 543964, 122711, 122681, 122683, 122873, 453401, 453394, 453375, 453376, 453405, 453406, 453407, 453366, 453380, 453381, 453382, 453383, 71858, 557220, 557259, 557260, 47740, 3168, 366120, 324659, 557231, 557297, 557298, 557281, 518571, 19656, 253141, 144658, 557249, 557214, 113523, 113538, 113522, 113527, 113528, 113530, 113547, 415689, 415690, 172255, 144701, 144724, 88437, 461960, 461984, 462038, 462004, 95180, 144700, 556, 1285, 116368, 116369, 116371, 116372, 85153, 116142, 165875, 116149, 116158, 116159, 116264, 116265, 116144, 116155, 116169, 116160, 116366, 116156, 116250, 116263, 36345, 85154, 165837, 211734, 406004, 406023, 406035, 406037, 51427, 187432, 370620, 406063, 406038, 406048, 406058, 406060, 27858, 406024, 121878, 406001, 72136, 406005, 99027, 456358, 64380, 98899, 98902, 98952, 99123, 99028, 99131, 99132, 64379, 98935, 38566, 98987, 98906, 99120, 99178, 99242, 99047, 99050, 98951, 99072, 99140, 99216, 99217, 371350, 99218, 99021, 99174, 99142, 40285, 62035, 62040, 99157, 39827, 175404, 39824, 175422, 175423, 175474, 163650, 12483, 175581, 24232, 58033, 58034, 58036, 58037, 58090, 58067, 250284, 24341, 58087, 181691, 250369, 250365, 58112, 14463, 58031, 58105, 58066, 58050, 58051, 58078, 58156, 250381, 58060, 58064, 98744, 52663, 308131, 365782, 529709, 338046, 406812, 406822, 36034, 83660, 403768, 17582, 78568, 17581, 40678, 40679, 30580, 17669, 17673, 208306, 208307, 208309, 208310, 17594, 436250, 436251, 110649, 436164, 251873, 17596, 249184, 361526, 361512, 361514, 361515, 361516, 19632, 125597, 125598, 494863, 509793, 509795, 509796, 543881, 543883, 17680, 451407, 436214, 30684, 30685, 360079, 360081, 32643, 227684, 251922, 159890, 148675, 278807, 148680, 278813, 148694, 278802, 82554, 143484, 133585, 259785, 38486, 259888, 39424, 259938, 259939, 259940, 259941, 39243, 259786, 259725, 259726, 259740, 259945, 259946, 259949, 280492, 509253, 509249, 509212, 9705, 520095, 64519, 12219, 29688, 520130, 89484, 291623, 49473, 520126, 23370, 29693, 520083, 520150, 508870, 508872, 3080, 3291, 385498, 520119, 2737, 520123, 29722, 29723, 29714, 29716, 34812, 218980, 288590, 520143, 344877, 344878, 344879, 344913, 344876, 344888, 107594, 345028, 344894, 344921, 344946, 121590, 121519, 121520, 121521, 52545, 52546, 121733, 40173, 121522, 121523, 121524, 121525, 121603, 121651, 90496, 121552, 121558, 39202, 121592, 30752, 126849, 81909, 34136, 122650, 81914, 122648, 122651, 122654, 122586, 126803, 126804, 81916, 81917, 122603, 275256, 122629, 122609, 122610, 126762, 122577, 126840, 126712, 126792, 30753, 126772, 68997, 122644, 122645, 122580, 63716, 63717, 126798, 99822, 126725, 126881, 122661, 126788, 126789, 126915, 126917, 542845, 126905, 126909, 126811, 2912, 126850, 122616, 133460, 122611, 126846, 30751, 126932, 126887, 126787, 126950, 126955, 122641, 107441, 126758, 126759, 126832, 60677, 122649, 126902, 126903, 157967, 157968, 157966, 158155, 158113, 158290, 92940, 1405, 85652, 15505, 508063, 508065, 508068, 56000, 291416, 508015, 161824, 161828, 161818, 161819, 161825, 161837, 161830, 161933, 88425, 509156, 90688, 88499, 58584, 88504, 88505, 88507, 191172, 315432, 9005, 88438, 89355, 89356, 207929, 495362, 88406, 164024, 243504, 207964, 88496, 88449, 88418, 88421, 67902, 218979, 318132, 318133, 16192, 134318, 241631, 318118, 318128, 318163, 1579, 495008, 495009, 243188, 318166, 318168, 495014, 495015, 198748, 227696, 249850, 318117, 470359, 494980, 494921, 495011, 81873, 54195, 185292, 309514, 24553, 309470, 309428, 309429, 309476, 309477, 309434, 255739, 303848, 309462, 309463, 298125, 309481, 128825, 128833, 128621, 2872, 128915, 128916, 225328, 128934, 128944, 36362, 38513, 128686, 128629, 128647, 128716, 128603, 128605, 76886, 128706, 66175, 128673, 95738, 128821, 60154, 60155, 60156, 306005, 128611, 128674, 128669, 344848, 344849, 344779, 344780, 344781, 344782, 344783, 11954, 128904, 59786, 198723, 95195, 227741, 484239, 174577, 200387, 507408, 52098, 340915, 212235, 332638, 38591, 171952, 354213, 94320, 355430, 355492, 355434, 355505, 355509, 92278, 18922, 247222, 355572, 355574, 355575, 15330, 355546, 190477, 355393, 29686, 355438, 355439, 90343, 90345, 90348, 90256, 90257, 90259, 71304, 48809, 71477, 71479, 71480, 337397, 90455, 90456, 90133, 455781, 87273, 90176, 71374, 71375, 90365, 90232, 71356, 47311, 455609, 455611, 455615, 1260, 188791, 90226, 117737, 455659, 71459, 71460, 365278, 71463, 365283, 17978, 90125, 90126, 10364, 392325, 455768, 56958, 455513, 455696, 71259, 71262, 90265, 71532, 71344, 71348, 71350, 90220, 90224, 90225, 455743, 455648, 386834, 455813, 85609, 90285, 71522, 71526, 90246, 455786, 455788, 71292, 6218, 6224, 3192, 3194, 297730, 474572, 474573, 130988, 365417, 474480, 474482, 289339, 474544, 474547, 474545, 48862, 11377, 164034, 95746, 107640, 327194, 16924, 37569, 56374, 109981, 327158, 327142, 327225, 265592, 6490, 86903, 56405, 86787, 56376, 327162, 327165, 547585, 327224, 327173, 194042, 175349, 175353, 175354, 175355, 172733, 172734, 172735, 172748, 172752, 194049, 194050, 316597, 316602, 56862, 316598, 316605, 316606, 315356, 315357, 315370, 315371, 315362, 315358, 315359, 315354, 315355, 315366, 370664, 15318, 7212, 272433, 523276, 70680, 15307, 395791, 15295, 272486, 15302, 15303, 15304, 523241, 15319, 115771, 89570, 160791, 18671, 139186, 272490, 272500, 83437, 139263, 15310, 15292, 265529, 515056, 523258, 47221, 47222, 47223, 47189, 47312, 47316, 329346, 47296, 47298, 47269, 133594, 530217, 535660, 535664, 115136, 115139, 47244, 47247, 47248, 13286, 13287, 13312, 13313, 13230, 13231, 13285, 13291, 8243, 1740, 13266, 13289, 13219, 13200, 13279, 13281, 13283, 13304, 158590, 158601, 158604, 158605, 158710, 158712, 158713, 158587, 45831, 32423, 158630, 23805, 158649, 158652, 45834, 45835, 45836, 45838, 45840, 45828, 158730, 158731, 158725, 158743, 158703, 158705, 158706, 158687, 158690, 158606, 158607, 158608, 158609, 158610, 158612, 158613, 158614, 158615, 158616, 158618, 452775, 452776, 452777, 452778, 452780, 452786, 350570, 395818, 486917, 486887, 165397, 165263, 1835, 165249, 165417, 165258, 165359, 165257, 165390, 221456, 221457, 221459, 221449, 363848, 363849, 363850, 363975, 81219, 81220, 81221, 166714, 348395, 348392, 348393, 348394, 348399, 348396, 348397, 348398, 348401, 200583, 200584, 200585, 200586, 403485, 403548, 200582, 403535, 403539, 403470, 503961, 503962, 3329, 17502, 17504, 9135, 59047, 59050, 59051, 28165, 426851, 514810, 133467, 426858, 168166, 365419, 514959, 514958, 71580, 514858, 39577, 39579, 61915, 62037, 208164, 62038, 62041, 62043, 62044, 39576, 61933, 61997, 61998, 62020, 62022, 62013, 62018, 331092, 121931, 121932, 331076, 331097, 331099, 331084, 331109, 331105, 331078, 331079, 331080, 22592, 22561, 17509, 17118, 17119, 17120, 17121, 11320, 219634, 22874, 265703, 82323, 10058, 10083, 10084, 10068, 10069, 10070, 10059, 368464, 492997, 10185, 10152, 10159, 10161, 352649, 352662, 352655, 352688, 352691, 352664, 352665, 352674, 352683, 170944, 170979, 170997, 171001, 171002, 170872, 27836, 170837, 170840, 170841, 170862, 170934, 170919, 170920, 170835, 66138, 170834, 171011, 171012, 171015, 88069, 64615, 163969, 163961, 163962, 357175, 357228, 357161, 236647, 236649, 357190, 357142, 357232, 79810, 357245, 69279, 235285, 357176, 192947, 357212, 357213, 109790, 357239, 357242, 357179, 357180, 249267, 121870, 158814, 95187, 149566, 149508, 149525, 149572, 149577, 20478, 20543, 366459, 129860, 366467, 366457, 366451, 366452, 217540, 217483, 82642, 82645, 217455, 217456, 217457, 217556, 217560, 42223, 209344, 9766, 9880, 9902, 48261, 190190, 197168, 48957, 217566, 217643, 217554, 217567, 217688, 206945, 216491, 217481, 217482, 217770, 217673, 217657, 216486, 207407, 217723, 217748, 443474, 443475, 443476, 217581, 443498, 443501, 35844, 217571, 217573, 217550, 64683, 21051, 21052, 21053, 278619, 316063, 528867, 528868, 528869, 528860, 81022, 320656, 528880, 232089, 114854, 114855, 114856, 114857, 114864, 27692, 110641, 132591, 168571, 168572, 217813, 471857, 58894, 471835, 35292, 30738, 32586, 471850, 352599, 471885, 471886, 471888, 471889, 375078, 471833, 471832, 471834, 266547, 114848, 114849, 336915, 336916, 30739, 30740, 30741, 471931, 55944, 103140, 103141, 103142, 103143, 103146, 65108, 103037, 103039, 138905, 432275, 103029, 432346, 58485, 103065, 103070, 61059, 61063, 27635, 103105, 17213, 97620, 103219, 172553, 432288, 103170, 103114, 103115, 103116, 103111, 219820, 156551, 16937, 84614, 156561, 156610, 156594, 434979, 156700, 40947, 117798, 232387, 445183, 30392, 377742, 12241, 241619, 445165, 124737, 65380, 445157, 310483, 167055, 195604, 195616, 195609, 195611, 34741, 34786, 34792, 34794, 25414, 270954, 444901, 24201, 24202, 444968, 444971, 444972, 101961, 101965, 190689, 444880, 444983, 444879, 219209, 444796, 78315, 216871, 444865, 444866, 285625, 285627, 437968, 444937, 444936, 444939, 138403, 95453, 260676, 439294, 158506, 439316, 439346, 439300, 439295, 134647, 322947, 322948, 322956, 322953, 375215, 26295, 67697, 375289, 375235, 231871, 5192, 5193, 5183, 5185, 5181, 5143, 5154, 5208, 5198, 52409, 98860, 98861, 458200, 458209, 458208, 458212, 301472, 458199, 458201, 458202, 458204, 458205, 458206, 48281, 9819, 365498, 224009, 196725, 83722, 270039, 365418, 190160, 224136, 125349, 238603, 238601, 238602, 52303, 52304, 382204, 345615, 48357, 224010, 256432, 256434, 382228, 382230, 365444, 224015, 89064, 238651, 345616, 9845, 247658, 345427, 433590, 15333, 15338, 15354, 15364, 15365, 15366, 15327, 15343, 15344, 9728, 159753, 1747, 308720, 1836, 246459, 187381, 1837, 159732, 467528, 467529, 534733, 271235, 17409, 242219, 61725, 61726, 422579, 422599, 133773, 133774, 133775, 61715, 51816, 55579, 55583, 55584, 197627, 197629, 321574, 321683, 321684, 55577, 55578, 55582, 197644, 197641, 321846, 321847, 321848, 321849, 321853, 322043, 321854, 275647, 197637, 321978, 39160, 321839, 321842, 321878, 321880, 321959, 321960, 268003, 393379, 393381, 393384, 153456, 311870, 348640, 393399, 225140, 393382, 393402, 393408, 393437, 393404, 393431, 488163, 488185, 488164, 488167, 488172, 488194, 130468, 130470, 130478, 130479, 62365, 93707, 507474, 507473, 25508, 361695, 507480, 61467, 36033, 54186, 507504, 96628, 507525, 58951, 58952, 58953, 170209, 130729, 47705, 188224, 161779, 4549, 386168, 386164, 21035, 531301, 78047, 531294, 531293, 20575, 531299, 9741, 9681, 103379, 261261, 431280, 431281, 431282, 255110, 431292, 17788, 302848, 431241, 431294, 431296, 431304, 431306, 431307, 35406, 35409, 35396, 35641, 35726, 35393, 35600, 35733, 35735, 17991, 35788, 316630, 316617, 316618, 316620, 316622, 35417, 35395, 35791, 35402, 35405, 27555, 35817, 35822, 35828, 35548, 35718, 2372, 35796, 35430, 35700, 35783, 35784, 35719, 35720, 35832, 35835, 316680, 35840, 35657, 316638, 35691, 35399, 45990, 35531, 35760, 35762, 35771, 35772, 316668, 316671, 316624, 35475, 23293, 98702, 98703, 98705, 98827, 98828, 98829, 98745, 98746, 98701, 98878, 98715, 98707, 98710, 98709, 98736, 98737, 69650, 98729, 98730, 344455, 98731, 98732, 98734, 98755, 98811, 207652, 283921, 489833, 489835, 489836, 179099, 179100, 179101, 179102, 179103, 179104, 186085, 186149, 186151, 186100, 38962, 528702, 528703, 16955, 16956, 16951, 16953, 17006, 16973, 8430, 8431, 8432, 8433, 239053, 239195, 239259, 21688, 374781, 25517, 230837, 230838, 284513, 404695, 415015, 415016, 437043, 340269, 340271, 433084, 269445, 277176, 80771, 434211, 404694, 404700, 225170, 159238, 230857, 404676, 437078, 373922, 434246, 230817, 230821, 230824, 340208, 253212, 404703, 436945, 436947, 38500, 188008, 409053, 340272, 340275, 436966, 143898, 230802, 230803, 230804, 499349, 33152, 33154, 404591, 230840, 102256, 85697, 404598, 404599, 224852, 434282, 339967, 228774, 229289, 229291, 229292, 140872, 229269, 229270, 6524, 6505, 6453, 6466, 6460, 6464, 6513, 6514, 6517, 6444, 6471, 6468, 6563, 385764, 385765, 385766, 385767, 138272, 437556, 437571, 437572, 172201, 179467, 437553, 437555, 437557, 67724, 157111, 157118, 31555, 7373, 157100, 157132, 157133, 37201, 157218, 173089, 157192, 173350, 151381, 173107, 394539, 173103, 173104, 173105, 173106, 7371, 157292, 18856, 18857, 18858, 18859, 1216, 1218, 1219, 173323, 3042, 173255, 157081, 157239, 173264, 173303, 173367, 157039, 173359, 173361, 173130, 173261, 173265, 157172, 157173, 157175, 157177, 157178, 157181, 35198, 35199, 35200, 35201, 35202, 35203, 35206, 173253, 173356, 157097, 173334, 19133, 109906, 18090, 173291, 173296, 157165, 157251, 157223, 173114, 173182, 157186, 80977, 173101, 173111, 173112, 53783, 157030, 157031, 157158, 173311, 173312, 173059, 173158, 173159, 157099, 173070, 173074, 173090, 173096, 10990, 11008, 202242, 202243, 202244, 202245, 202246, 3702, 41224, 107145, 107098, 107143, 40585, 107120, 107088, 107096, 107126, 107194, 107121, 107130, 107116, 107160, 107161, 75305, 88178, 107167, 107199, 107089, 107099, 107100, 320695, 37395, 37396, 37397, 320664, 23128, 23132, 23134, 23137, 19364, 320654, 320655, 320657, 532857, 532860, 512444, 512445, 532838, 512438, 532832, 532835, 182594, 182598, 182599, 182600, 182648, 182644, 182647, 182646, 101901, 93868, 73311, 101920, 101900, 101960, 101966, 101963, 101964, 222445, 467273, 491523, 491492, 223362, 491464, 61419, 153157, 551251, 551261, 551264, 551265, 551266, 153158, 153165, 551271, 188183, 551255, 124838, 34616, 39478, 5555, 42307, 124782, 124784, 124787, 26570, 41887, 42180, 42181, 118588, 112262, 125060, 125061, 48549, 51351, 479551, 479540, 479590, 135129, 479582, 479595, 479601, 479573, 479560, 479611, 479552, 47670, 479586, 479588, 479566, 479529, 479530, 467199, 467204, 23718, 23684, 23685, 23778, 23705, 23721, 23758, 23720, 23743, 23744, 23765, 49986, 25018, 25020, 49955, 7375, 25051, 25053, 25084, 25085, 62525, 50096, 49959, 137360, 137361, 50116, 50117, 50119, 25310, 25311, 25030, 25262, 25138, 50231, 50233, 25202, 25271, 25237, 137601, 137602, 50219, 25082, 49999, 25244, 25299, 137542, 137476, 137477, 25015, 25294, 25295, 25103, 25104, 25105, 25107, 25186, 25139, 25140, 25181, 25182, 507092, 25183, 25091, 25092, 25198, 25199, 49983, 25065, 25067, 25236, 25269, 25270, 174406, 174407, 339548, 3413, 209479, 126457, 285850, 285851, 413054, 23663, 40317, 138610, 504693, 174410, 339517, 339518, 23625, 360566, 360561, 121897, 121872, 121874, 121929, 121930, 11819, 121914, 121918, 132803, 548380, 408191, 455186, 548312, 548314, 132669, 132670, 132759, 132761, 132859, 19155, 132608, 97606, 195197, 132505, 132708, 132602, 132603, 132604, 132605, 132606, 132607, 139581, 246242, 24486, 85233, 132573, 548188, 548192, 548160, 5647, 5648, 5649, 5651, 5652, 455225, 548225, 46060, 27520, 548111, 455234, 455235, 65269, 458847, 105273, 548232, 73806, 455232, 91797, 91798, 91800, 97335, 97340, 97342, 97344, 97328, 97383, 378486, 378536, 378537, 378494, 378515, 181685, 378526, 378528, 232499, 378518, 336427, 16883, 378510, 378506, 378508, 378468, 27095, 113062, 245857, 245859, 55317, 81445, 81446, 167839, 91001, 57275, 421206, 421224, 421213, 421215, 421216, 421208, 421211, 421221, 421222, 421218, 26255, 112692, 172258, 172313, 172360, 172220, 172221, 172222, 46941, 172376, 161665, 172241, 172243, 172314, 172249, 247692, 342267, 91112, 342237, 342235, 342157, 40900, 342173, 342174, 342176, 342160, 225779, 342182, 342183, 342186, 342220, 342221, 342195, 342196, 342197, 342198, 511480, 223789, 332151, 332098, 332099, 332149, 332152, 332148, 160419, 160420, 160425, 160421, 160427, 392495, 89711, 160552, 160555, 28147, 28102, 28111, 146741, 146742, 146782, 146783, 28187, 28107, 146802, 146753, 28130, 146779, 146780, 22839, 28155, 146765, 46841, 146761, 28198, 219822, 220169, 2933, 356227, 356231, 356232, 356275, 356240, 356225, 356226, 356228, 356229, 123027, 123058, 123032, 123049, 123052, 123044, 366316, 366419, 366423, 27259, 123035, 366403, 29478, 29483, 29609, 29476, 29486, 29516, 23518, 23517, 23516, 23522, 23523, 23553, 23515, 23537, 23538, 18379, 68723, 80726, 80727, 388641, 183144, 350158, 350159, 350164, 350160, 1095, 296172, 125116, 19357, 171991, 261800, 261824, 261850, 104966, 261770, 261743, 96370, 261745, 3123, 261779, 374608, 374609, 12423, 330590, 361833, 361835, 80900, 80899, 80901, 382288, 86795, 29642, 29637, 29631, 29660, 44734, 60396, 153, 60386, 23066, 17397, 238681, 447801, 447802, 447803, 102542, 35040, 57849, 131623, 26561, 256831, 97895, 524812, 524781, 26559, 26560, 26562, 524863, 230477, 238718, 524804, 524903, 524904, 524905, 524908, 129142, 70495, 524789, 214886, 214887, 214889, 524882, 225896, 80025, 371730, 371735, 80024, 371680, 371938, 371941, 371942, 371944, 216535, 285064, 371821, 371902, 371836, 371838, 371839, 135110, 371737, 371740, 55756, 371964, 39331, 60237, 60238, 371779, 371866, 371962, 10857, 371796, 371797, 193561, 19581, 19582, 193450, 193455, 65153, 193459, 138476, 193422, 193673, 15688, 193437, 193516, 441436, 42083, 193643, 193462, 193465, 193647, 193428, 193479, 193433, 106235, 193548, 41767, 193522, 193523, 193524, 193526, 23566, 23571, 23602, 23568, 23570, 69832, 123755, 13459, 123783, 3883, 3884, 3885, 3886, 370059, 503583, 536768, 163012, 90784, 162994, 162992, 163004, 51481, 71265, 163116, 163117, 163118, 163119, 163034, 163035, 113559, 163105, 163030, 163094, 162989, 163071, 163075, 163033, 96212, 163023, 119661, 527049, 527107, 119723, 527077, 527078, 527079, 91982, 113193, 91981, 527168, 527156, 527157, 119756, 119695, 527101, 119671, 527118, 119685, 17156, 183281, 186782, 145, 43445, 186751, 10438, 10439, 186730, 77327, 77328, 186703, 186705, 186707, 186709, 186726, 18876, 34735, 34739, 276774, 276772, 276771, 276780, 276782, 276814, 66757, 276783, 14703, 14704, 271092, 276784, 276812, 276802, 92878, 92951, 92941, 92942, 92918, 92920, 92879, 92880, 92881, 92914, 92916, 92917, 65023, 30374, 92887, 92894, 92931, 92882, 92885, 418695, 234454, 21139, 418628, 418637, 418638, 84739, 418640, 418797, 418803, 418622, 418639, 21138, 379609, 418690, 418691, 418664, 418785, 610, 611, 612, 613, 614, 64594, 486689, 486699, 486684, 486685, 486691, 27687, 27796, 27694, 27701, 27835, 27837, 27706, 27755, 27718, 27750, 27765, 27766, 27767, 27768, 93328, 59746, 93333, 88629, 88532, 530236, 88533, 88564, 88566, 88567, 88575, 88608, 88546, 88534, 88536, 88611, 88642, 88582, 88593, 88605, 195409, 195411, 195478, 195352, 195388, 195425, 77935, 195458, 195520, 133812, 133813, 133814, 133815, 133806, 133772, 133844, 133762, 133784, 133746, 133747, 133825, 133834, 12480, 118745, 48216, 133756, 133845, 133829, 133832, 364490, 30697, 31491, 31495, 364483, 364484, 364485, 71596, 164973, 71598, 73314, 73315, 136290, 516034, 73316, 164964, 164965, 164967, 516089, 516097, 516098, 94886, 94892, 94893, 94894, 94958, 95020, 94884, 94920, 94897, 94885, 94887, 94935, 94936, 94994, 94998, 94962, 94976, 75420, 75426, 75427, 75428, 14274, 140843, 63861, 88708, 270150, 135239, 270134, 270158, 270163, 124908, 270152, 117713, 270294, 270321, 270326, 269214, 270384, 270385, 270387, 270388, 154615, 270285, 270286, 270223, 270397, 270398, 10089, 166927, 140730, 270355, 270364, 270269, 270270, 118506, 270335, 20585, 108159, 88376, 129451, 171444, 171445, 213650, 213647, 213744, 213682, 213767, 213823, 213769, 213645, 213652, 213680, 213763, 213689, 213815, 213817, 213819, 206226, 155812, 213748, 213712, 213713, 213853, 213751, 213737, 492989, 492990, 492991, 492992, 492985, 492986, 492988, 493000, 492982, 492984, 492993, 492994, 492995, 492996, 22251, 22262, 22264, 22252, 22256, 22298, 22299, 22255, 22297, 105643, 23356, 135158, 391022, 391023, 254056, 128537, 128541, 128513, 128514, 128456, 2310, 128446, 128571, 128449, 128570, 128506, 87091, 128468, 138537, 138556, 138557, 47359, 37774, 138622, 138624, 138626, 138630, 19496, 138448, 138457, 138478, 138356, 138413, 14443, 130634, 55941, 55943, 138616, 138529, 108332, 138571, 138573, 138513, 31447, 138339, 138342, 138491, 151264, 151265, 151266, 151267, 375054, 60847, 467663, 375040, 375041, 375042, 88733, 375007, 98150, 98145, 98138, 98143, 55320, 55322, 55324, 55318, 174037, 342312, 342328, 55350, 55331, 342310, 342424, 55332, 342421, 342387, 55346, 342454, 342453, 342339, 342525, 342526, 55334, 55341, 55342, 9963, 342318, 342537, 342538, 213214, 342441, 342334, 55352, 162791, 93681, 93683, 93629, 162813, 43163, 98111, 162778, 162779, 162781, 162763, 28704, 162741, 162795, 162759, 25347, 227972, 27381, 338482, 85650, 499571, 499572, 37029, 499640, 57818, 499661, 499570, 499695, 499697, 499599, 440470, 499623, 499680, 499681, 260429, 499576, 9764, 115809, 115810, 303159, 29748, 499645, 69320, 69346, 69391, 69318, 69319, 69327, 69328, 69324, 69371, 69344, 69427, 69355, 37854, 69136, 414214, 37855, 158508, 209947, 201506, 414135, 414171, 414188, 414175, 145934, 414210, 414211, 27333, 22007, 22008, 22009, 64912, 64963, 64916, 196596, 480582, 406929, 101923, 480537, 179909, 216473, 381651, 48035, 406985, 95758, 406973, 231069, 406955, 90019, 52080, 95890, 480527, 40284, 52082, 46765, 406851, 319141, 433145, 433148, 432783, 70579, 432833, 18915, 216324, 432876, 432794, 73660, 432971, 432972, 16782, 272675, 432945, 433049, 433051, 432808, 109653, 410699, 432871, 432930, 432985, 433088, 432996, 432997, 432884, 136315, 136318, 433078, 433079, 433080, 432856, 276030, 65280, 433066, 433067, 432918, 164753, 460196, 164857, 460187, 194360, 194367, 194413, 194392, 194393, 95115, 175794, 194418, 194346, 194419, 476439, 476451, 476438, 476440, 476532, 61650, 476460, 476472, 476473, 476474, 476475, 476478, 476580, 476481, 140268, 213340, 213342, 213344, 213369, 213397, 213394, 213382, 105020, 534860, 534862, 534884, 534861, 534863, 534889, 149586, 149587, 149614, 149605, 68589, 149602, 87152, 57369, 2887, 57413, 57419, 57420, 10091, 7459, 37520, 37521, 199241, 199280, 199281, 199285, 199369, 199370, 199371, 17977, 199328, 199329, 199297, 199298, 199435, 158939, 199289, 37257, 46985, 87104, 87105, 12168, 227195, 98089, 227209, 227266, 227206, 227210, 227269, 227219, 55643, 227265, 76891, 227214, 227216, 55708, 55709, 55661, 112157, 39510, 170118, 170119, 55628, 55588, 132343, 170128, 55635, 55571, 53297, 55757, 55758, 38666, 55638, 170091, 55590, 55710, 55565, 55618, 170114, 55597, 55598, 55694, 55705, 170136, 170137, 55711, 55713, 19467, 19484, 19493, 19677, 19684, 19619, 19478, 19706, 19653, 19667, 19668, 19669, 19670, 19602, 9234, 19508, 19476, 19497, 19501, 2632, 2633, 47155, 207607, 19637, 19534, 19576, 19634, 465935, 18780, 19540, 19566, 19567, 315656, 315657, 315654, 58842, 228850, 334118, 334119, 334120, 334122, 334123, 334125, 228844, 395858, 228906, 228999, 395836, 125194, 229057, 229059, 129976, 228922, 228925, 228926, 102912, 181159, 228920, 228943, 228995, 395813, 228918, 228907, 395817, 16619, 58898, 50702, 50709, 50703, 50721, 50722, 50728, 158510, 26296, 67917, 171483, 171482, 171486, 171488, 494438, 494439, 494431, 494419, 494420, 26278, 171475, 16871, 398477, 492015, 492018, 36920, 458130, 458134, 458135, 458131, 123608, 123611, 123705, 123707, 123652, 123624, 123664, 123632, 97327, 123721, 334117, 250749, 159087, 451116, 451117, 451118, 159064, 159066, 451127, 411979, 5342, 69882, 69883, 69884, 69895, 69893, 69894, 69912, 69881, 69885, 171686, 171665, 171669, 171680, 171681, 114046, 171703, 38399, 40844, 171712, 171709, 546953, 525081, 526942, 546773, 546774, 546775, 546920, 546907, 546827, 546866, 47778, 75587, 118593, 546812, 420423, 420425, 195277, 200177, 200176, 200178, 200248, 47899, 47832, 47834, 47836, 47646, 47726, 47566, 149657, 47814, 47817, 47820, 47822, 47823, 47761, 47762, 47701, 47706, 216147, 31598, 24360, 31563, 31578, 31567, 31571, 31586, 22400, 22111, 51809, 274593, 105031, 274537, 274572, 274573, 82577, 274524, 274526, 274528, 274577, 235526, 274546, 274541, 274542, 34221, 134926, 92695, 46728, 134927, 434758, 66015, 358402, 413569, 3138, 413576, 413577, 413546, 413559, 413560, 35905, 3526, 413553, 27403, 413588, 172263, 211686, 66010, 413583, 413565, 12, 389038, 38550, 389081, 331117, 331118, 331119, 331120, 331121, 331124, 331210, 88994, 331235, 60116, 60117, 60118, 60119, 60120, 60121, 60113, 60114, 60115, 87154, 87159, 22, 87161, 87155, 87163, 87178, 87157, 87164, 87156, 42650, 196310, 3871, 255673, 408014, 6198, 297835, 474249, 474250, 474188, 474233, 47570, 19152, 71537, 232085, 232093, 232088, 232079, 232080, 232081, 232084, 232134, 392651, 392660, 392682, 392670, 392718, 169357, 4775, 62786, 267800, 267804, 77977, 168174, 153690, 188550, 267920, 48861, 210317, 188524, 267754, 268005, 210848, 153248, 188544, 267850, 267851, 124559, 17725, 267914, 267918, 267770, 283403, 175951, 88377, 119826, 160851, 30157, 30160, 153448, 545032, 196653, 33440, 33441, 84310, 413183, 413186, 33442, 118886, 33443, 118882, 273100, 284524, 145508, 509996, 509891, 509987, 509846, 509847, 509892, 509922, 423659, 509823, 509933, 415352, 80570, 509824, 191664, 98036, 509870, 64767, 135971, 509864, 31263, 509876, 510021, 509857, 77531, 510007, 509871, 28877, 304779, 28807, 110031, 285893, 2433, 309391, 309368, 135707, 210316, 64790, 64791, 98168, 406149, 406151, 334352, 57107, 57108, 190341, 77378, 482961, 234590, 78188, 30258, 86395, 136305, 136333, 136335, 136401, 136327, 136307, 136372, 136373, 118511, 136316, 136317, 17726, 136374, 136301, 136385, 136386, 136388, 78049, 232449, 530958, 531005, 531006, 530975, 531053, 340028, 301233, 301234, 301211, 144687, 32273, 132626, 312522, 101804, 32506, 312621, 312622, 312623, 312624, 10280, 32513, 231030, 312499, 29559, 157848, 312496, 312510, 135396, 135397, 312602, 312569, 312572, 312540, 32484, 312542, 135380, 135381, 312580, 8593, 2171, 18755, 135385, 312626, 312545, 166266, 238939, 273509, 273577, 273568, 273658, 273541, 273619, 89477, 89526, 89463, 89446, 89482, 89451, 89453, 89454, 89498, 194083, 194084, 64111, 83127, 191721, 194102, 484828, 194103, 194105, 194078, 110733, 402219, 333496, 180447, 92787, 169683, 180388, 255565, 180440, 60566, 255521, 255560, 255511, 186373, 255474, 151272, 168532, 370760, 422892, 163990, 163988, 401803, 401805, 401806, 401807, 401808, 159858, 237639, 296880, 334048, 392112, 193497, 392122, 392143, 201368, 15158, 55401, 334085, 334086, 257506, 75537, 176317, 140652, 176255, 176357, 29009, 176307, 176253, 176368, 50622, 186910, 309817, 309800, 309828, 73319, 145094, 145090, 145091, 145092, 145082, 145087, 437599, 437600, 437601, 437603, 437604, 437596, 437597, 73390, 434846, 434847, 559097, 559098, 559083, 559084, 54428, 54429, 86785, 86786, 86975, 29502, 86808, 86809, 86810, 86792, 86994, 86995, 86838, 42769, 42771, 118524, 150141, 387378, 387379, 387381, 387383, 387386, 150142, 150252, 13190, 62277, 135512, 135635, 42776, 150127, 150208, 357958, 150155, 135500, 135590, 150186, 150241, 135576, 62281, 8133, 216514, 116986, 150329, 387376, 79802, 79803, 79804, 387574, 108614, 150195, 150217, 387547, 150090, 387462, 387541, 118449, 118701, 150285, 453497, 453498, 453499, 453500, 453501, 453503, 453505, 167346, 371367, 184870, 389478, 543498, 389469, 389512, 389514, 55717, 389551, 389395, 62231, 389476, 389481, 389510, 389513, 13249, 389572, 389507, 389533, 389435, 389402, 389403, 389404, 389405, 29139, 389555, 17722, 344354, 389559, 389547, 389550, 256415, 389426, 389406, 389407, 389408, 389409, 389410, 389412, 211569, 279831, 389528, 389529, 76775, 389468, 389441, 127634, 127635, 44582, 44583, 44584, 44590, 44616, 44608, 44610, 44602, 44622, 44623, 44594, 44624, 44625, 44626, 44604, 453204, 453205, 168575, 168586, 453167, 453181, 453185, 453186, 453187, 43982, 44058, 43998, 43984, 44044, 43970, 19831, 134649, 34353, 39829, 39831, 39835, 39836, 39837, 196004, 460585, 487710, 487711, 487645, 55409, 487781, 152056, 487692, 487694, 43078, 10478, 487838, 85394, 374690, 381790, 487751, 487756, 487757, 93899, 22822, 10443, 420454, 195216, 420435, 497243, 497250, 186543, 497226, 497263, 497215, 15190, 486058, 497261, 41957, 369650, 369717, 218669, 155542, 369630, 369700, 369779, 243441, 369671, 414124, 369644, 369866, 241620, 534016, 534026, 423378, 534013, 518793, 338441, 58561, 58563, 330652, 125850, 330650, 94109, 37572, 347381, 94111, 94112, 172416, 339630, 169605, 125848, 125849, 125851, 125852, 125853, 347393, 558058, 226762, 226764, 558109, 558110, 558190, 39496, 88243, 88661, 136840, 558077, 211782, 297712, 558071, 558120, 122460, 311832, 384932, 384922, 384902, 384907, 384908, 384900, 1398, 1401, 1402, 1404, 384918, 384920, 15451, 384936, 384940, 384906, 384976, 384903, 384904, 384905, 384956, 384958, 384967, 384953, 384955, 337451, 337368, 337369, 40945, 337396, 337374, 337425, 337440, 45948, 45949, 27732, 46252, 46008, 46010, 45999, 46170, 45984, 45986, 46059, 46005, 45918, 45921, 46074, 46087, 46208, 46057, 46099, 46102, 45940, 45941, 45942, 46151, 46153, 46154, 46016, 46017, 11253, 255449, 201885, 201887, 13412, 255298, 201889, 201872, 447376, 201824, 447413, 173329, 197370, 255419, 189551, 201934, 201919, 255429, 363429, 363430, 363431, 363432, 363475, 363477, 363450, 363452, 363424, 363425, 40559, 19366, 19367, 19368, 19369, 19375, 19388, 19389, 169775, 258597, 192740, 192741, 78256, 11449, 11450, 78258, 52733, 78262, 78263, 48492, 78307, 78257, 78291, 78302, 78298, 78290, 180674, 196132, 41218, 196198, 196170, 50271, 196161, 196126, 196138, 475254, 230140, 475279, 475318, 230142, 365225, 475268, 295349, 475230, 475237, 475238, 10011, 140291, 396186, 475415, 341490, 475277, 475276, 475330, 475408, 475351, 475353, 193700, 14019, 198841, 61532, 39569, 193495, 245809, 245810, 65078, 330608, 190702, 531683, 175293, 69263, 531669, 90494, 145391, 3061, 531675, 410616, 215446, 410590, 410713, 314527, 410711, 410623, 410626, 410724, 73769, 134088, 410764, 410655, 410803, 410811, 122567, 73767, 410607, 410789, 410633, 410596, 410587, 410720, 410595, 410599, 410685, 410744, 410745, 410747, 410748, 410773, 410774, 410776, 410611, 410628, 38523, 178993, 178989, 178990, 178992, 14383, 151465, 151468, 281086, 207642, 281234, 207468, 178964, 7399, 207606, 207713, 207566, 207502, 207612, 117975, 117976, 281090, 281095, 207547, 260227, 207521, 245794, 245796, 207702, 281064, 281070, 179091, 179092, 179032, 179039, 179040, 179041, 207620, 56819, 265896, 281022, 80343, 132812, 196175, 178959, 178960, 59481, 130016, 130018, 281136, 179016, 207510, 178846, 178848, 178855, 281207, 281194, 281195, 281196, 281197, 178953, 178958, 140273, 207711, 207694, 178930, 178932, 178934, 178935, 178936, 178939, 178962, 178963, 178966, 179078, 281220, 88229, 148270, 281007, 480753, 469297, 469298, 469093, 192355, 469138, 469020, 469023, 469095, 480664, 418616, 418821, 469247, 481006, 469249, 228940, 480918, 469295, 200707, 200710, 469021, 469314, 469188, 270503, 469029, 77395, 77368, 158760, 75024, 75026, 412495, 75029, 75034, 37094, 37095, 194466, 194607, 194448, 194499, 194456, 194457, 194534, 121025, 121027, 121028, 337116, 318007, 318031, 318021, 317994, 317973, 318003, 317982, 317998, 75345, 230874, 230887, 50265, 230910, 230873, 230916, 230882, 230929, 230902, 230952, 230939, 230941, 230942, 230944, 115752, 230919, 230920, 54589, 230953, 28819, 41006, 87324, 230912, 230883, 65166, 88714, 128635, 128869, 128636, 128870, 128637, 9382, 253773, 253774, 129845, 189257, 355379, 88254, 200, 205517, 355375, 355370, 1964, 56568, 502363, 502364, 8453, 179924, 17307, 17308, 17310, 373677, 29046, 168569, 239401, 239403, 239406, 239407, 373661, 114543, 330481, 373643, 373657, 373658, 373660, 330480, 15480, 373686, 156770, 64254, 328122, 339081, 339083, 338908, 338943, 338944, 338945, 338947, 113555, 339103, 435478, 25211, 195559, 363303, 435462, 435463, 3104, 339166, 338973, 435384, 435500, 435501, 435502, 103596, 338911, 339114, 435412, 435535, 132768, 195142, 339093, 339030, 339044, 434840, 435365, 435366, 233827, 339011, 79587, 338972, 76835, 435566, 515592, 132229, 435511, 435550, 339042, 328096, 339014, 339015, 154304, 338941, 117965, 357694, 386151, 64889, 3394, 3396, 3398, 3399, 134876, 3468, 232577, 212060, 304287, 304233, 304375, 304379, 126608, 126610, 3464, 72634, 304676, 304682, 3423, 3429, 3431, 5688, 3432, 3436, 82718, 72823, 72824, 72838, 64363, 141010, 141012, 141015, 141016, 140829, 140972, 140747, 141071, 140727, 140729, 5626, 140772, 140949, 140950, 86564, 80084, 326323, 326324, 135347, 140799, 140801, 140856, 140859, 78748, 106599, 140783, 140926, 502527, 502528, 140734, 443214, 80083, 64366, 140822, 454034, 141076, 140914, 89548, 154173, 89551, 503123, 140966, 126466, 421799, 421889, 421890, 421841, 43441, 126464, 421837, 421853, 421865, 101827, 421805, 421815, 421806, 129350, 421814, 421816, 421820, 421885, 421948, 421956, 421962, 421838, 42500, 77918, 77989, 77953, 78004, 77920, 77921, 77923, 77924, 77928, 77917, 78016, 77916, 78010, 78012, 422402, 397529, 228032, 351891, 5853, 5852, 351841, 351842, 5713, 27621, 27623, 27624, 27625, 178488, 178538, 178639, 178567, 178570, 178572, 178480, 434412, 434476, 398522, 434395, 434409, 381656, 434437, 434435, 434403, 434458, 21715, 434430, 53483, 434444, 434445, 142775, 183877, 319751, 319755, 38335, 319764, 23328, 319771, 319768, 319766, 23107, 319770, 319788, 319789, 65634, 75362, 134854, 319758, 37096, 319776, 72427, 72362, 142431, 388150, 388152, 388157, 410580, 410581, 410583, 47544, 333405, 2731, 20219, 1862, 43124, 80347, 369341, 369345, 369285, 369286, 231411, 369277, 2560, 113348, 30736, 30737, 369276, 60805, 369424, 369456, 123184, 369447, 369448, 231403, 335959, 369417, 42833, 369391, 66360, 66361, 231416, 369446, 81922, 37232, 43109, 344347, 231433, 231434, 3167, 369366, 139764, 369463, 37231, 369265, 369266, 369267, 369470, 369471, 369395, 210778, 369338, 369339, 210454, 210524, 210466, 210489, 210522, 210426, 74227, 178735, 178738, 218778, 17411, 42174, 385570, 218693, 218695, 17510, 17426, 17427, 146152, 130034, 146230, 10229, 124639, 208604, 252019, 252021, 208588, 146156, 146235, 208586, 208587, 17403, 17404, 251975, 146171, 251991, 210289, 252000, 252002, 17395, 17396, 218731, 17531, 146250, 146251, 146169, 17418, 208567, 208569, 17513, 208611, 252017, 252008, 252009, 171626, 208553, 208554, 232300, 232301, 232304, 232307, 205342, 232327, 232328, 232330, 232331, 232336, 232325, 113010, 268356, 268357, 443980, 443969, 443960, 437, 177961, 428908, 177957, 177925, 177931, 88231, 428898, 43007, 428857, 428860, 425238, 177921, 429005, 428945, 428880, 177949, 177962, 27857, 27859, 27865, 27861, 27860, 28001, 27885, 28017, 26407, 58253, 430746, 477579, 477581, 70491, 94351, 94183, 244185, 94140, 70646, 314625, 70504, 70510, 425859, 94228, 314429, 233878, 478304, 478305, 70659, 70661, 70662, 73711, 168562, 94136, 94138, 50108, 69231, 478243, 427962, 314455, 314460, 314464, 70501, 117656, 117661, 314627, 47366, 170004, 170009, 170010, 170017, 170019, 170020, 78546, 94370, 94379, 94381, 411358, 94274, 12929, 198257, 477657, 31921, 31925, 94193, 331022, 425868, 425870, 70634, 314407, 16903, 94316, 94319, 193112, 522124, 522126, 522127, 94278, 204962, 306264, 425962, 478330, 94355, 302161, 478104, 478105, 478106, 425914, 425918, 73905, 426036, 94177, 314436, 314438, 16849, 16850, 425981, 70589, 70591, 148169, 250419, 54172, 91506, 239413, 250401, 398155, 250398, 250526, 250528, 212460, 398265, 398145, 398255, 65481, 407858, 103609, 59917, 59918, 59919, 654, 657, 659, 661, 187707, 67190, 190990, 190994, 190996, 147272, 147290, 147294, 147329, 147314, 147280, 147380, 147344, 147345, 147348, 75591, 75619, 75603, 75605, 75581, 75618, 237021, 75601, 75610, 75600, 73859, 368527, 368528, 368529, 368531, 368541, 76987, 406420, 457594, 482062, 482069, 482089, 482102, 482098, 482204, 482097, 482067, 88971, 88972, 88993, 89015, 89034, 161711, 294387, 294529, 206146, 161755, 206153, 206154, 206155, 15601, 218829, 294399, 195068, 294440, 294441, 294573, 302086, 15, 160296, 294450, 534346, 534347, 48243, 534249, 11230, 436622, 58837, 58836, 436669, 436611, 58840, 58843, 436619, 159156, 373079, 514365, 221421, 466485, 514398, 514399, 3484, 514452, 514454, 40546, 40547, 40550, 40551, 457398, 514581, 153274, 514477, 514413, 514379, 514518, 235199, 514584, 514554, 514557, 463841, 514539, 514579, 109751, 514504, 514501, 514389, 514451, 129706, 129758, 129772, 40217, 150704, 150705, 79998, 190711, 190676, 6642, 190673, 32234, 190699, 190701, 54134, 532943, 532920, 170274, 532922, 196063, 532951, 532964, 532965, 532966, 532967, 532990, 532987, 532954, 532956, 413853, 413882, 413908, 413877, 55777, 204226, 55781, 55851, 55793, 204208, 204209, 204210, 204211, 204169, 204223, 35298, 204214, 55768, 13048, 492860, 52730, 13050, 16589, 16620, 66991, 543391, 13148, 83304, 83305, 13067, 16697, 109851, 83198, 83199, 83201, 83293, 83296, 16590, 291492, 291494, 513217, 109749, 109849, 459645, 16585, 16586, 510575, 61357, 67080, 53151, 543432, 543433, 16677, 543298, 543301, 16676, 490882, 510525, 253665, 109866, 205700, 145561, 84860, 84861, 84862, 84863, 84890, 84892, 84961, 84963, 84891, 183900, 285048, 284966, 183989, 7994, 285059, 183887, 183888, 284811, 284813, 284815, 8119, 115751, 83677, 183948, 183949, 12851, 183921, 284946, 231036, 83602, 285086, 284827, 284832, 32524, 272669, 7600, 119043, 119182, 119042, 46260, 119053, 119055, 7611, 119095, 119080, 114548, 119019, 119020, 88716, 88772, 88773, 88735, 88725, 88696, 204293, 204279, 204237, 198770, 204263, 204255, 204256, 204320, 39314, 203794, 203797, 203756, 45507, 203783, 112647, 203679, 127859, 72782, 203687, 18598, 113986, 114017, 114018, 114049, 89485, 114109, 114107, 67905, 114100, 58801, 106976, 282365, 58800, 338049, 58701, 282257, 338027, 95984, 282295, 90030, 282351, 58697, 282243, 34769, 170369, 58751, 337996, 337997, 337998, 282272, 84178, 402473, 402478, 402479, 402499, 402512, 271832, 402472, 402508, 402509, 402510, 402511, 402474, 402517, 402518, 47907, 65467, 322785, 322906, 387117, 157305, 157315, 157306, 405251, 405238, 405240, 42791, 58487, 365205, 405128, 405093, 405094, 100792, 100739, 242889, 75980, 286086, 277078, 277079, 356305, 59954, 59955, 134058, 195595, 10220, 10221, 301460, 301461, 45694, 45695, 29975, 195593, 372436, 518558, 301494, 301499, 301495, 301497, 350007, 88267, 88269, 88270, 88306, 88341, 88330, 88331, 52402, 153952, 153915, 21737, 94204, 153899, 153996, 153936, 153884, 153945, 154003, 109047, 454466, 418391, 418380, 418457, 389584, 389586, 389587, 389588, 389592, 389599, 389591, 53801, 32522, 32523, 276026, 135410, 180670, 361839, 83605, 83705, 361842, 486405, 486434, 486435, 486437, 486420, 486423, 486374, 486375, 486376, 486379, 486380, 80682, 486486, 486487, 486489, 486463, 195910, 195911, 472158, 169312, 169256, 169302, 224682, 224777, 224791, 211356, 211357, 224785, 224786, 224788, 113189, 224718, 224720, 224748, 47113, 224807, 56370, 56373, 50146, 224774, 15720, 202862, 224793, 147060, 224756, 224759, 224760, 216073, 216075, 216076, 216077, 224834, 224837, 314778, 55390, 55392, 147970, 147993, 55391, 367142, 211546, 553457, 553459, 553461, 553462, 553438, 553439, 553440, 553442, 415325, 77766, 77768, 23600, 23601, 77769, 77770, 77771, 77772, 77762, 77763, 77756, 2027, 75279, 75280, 555254, 384524, 235797, 466563, 543515, 543516, 543518, 75927, 543601, 543545, 543536, 543540, 543570, 543583, 543584, 543665, 543527, 543530, 20866, 543604, 543508, 543509, 136896, 333853, 333895, 333907, 333883, 334016, 334018, 65536, 334020, 333886, 235944, 333839, 333953, 60193, 60192, 333879, 333846, 347831, 426593, 347805, 347754, 347785, 143180, 341819, 426696, 426697, 426698, 426699, 426701, 426703, 347892, 396262, 426599, 426602, 7358, 58430, 58431, 58489, 426590, 258739, 347840, 396269, 140413, 540162, 315874, 324835, 540204, 540128, 208468, 324812, 324820, 324844, 540136, 540191, 456328, 456276, 456297, 58778, 456274, 456360, 456366, 179903, 179904, 179906, 179908, 341334, 341335, 341338, 341373, 279228, 279274, 279234, 279296, 71099, 279303, 279268, 279233, 185525, 54857, 327838, 380796, 259166, 193300, 59780, 533626, 533628, 238236, 93642, 301313, 301311, 301352, 93631, 38506, 301453, 301428, 301438, 301439, 3889, 93664, 93667, 93668, 373135, 156215, 373118, 373119, 373095, 156283, 373083, 373085, 373108, 373109, 373110, 373111, 373112, 100373, 219007, 87928, 310851, 310852, 310834, 310843, 310845, 310848, 234888, 303807, 303834, 303917, 303910, 303912, 303913, 303915, 303840, 136407, 303828, 303820, 303872, 105922, 303858, 505942, 303897, 303901, 303878, 303832, 303869, 303961, 303817, 303862, 303894, 303835, 303836, 67175, 303903, 303904, 303884, 303886, 514051, 114539, 514012, 114526, 3392, 10301, 114531, 155768, 155776, 155777, 155779, 20443, 155813, 155800, 129223, 155772, 155817, 155775, 26973, 20449, 155797, 155830, 155831, 155792, 155803, 155828, 42059, 155785, 188374, 184877, 184878, 184879, 184883, 184890, 308441, 412836, 412943, 412806, 412807, 412809, 412820, 126479, 327643, 412889, 42971, 42985, 42986, 42832, 41752, 42790, 12905, 42923, 42924, 42943, 42912, 42931, 43012, 42802, 21086, 21087, 42808, 42809, 42810, 42811, 42992, 42996, 42997, 42975, 42976, 42977, 43035, 43036, 312790, 312791, 312782, 14745, 64473, 62388, 62389, 479522, 529889, 28830, 529866, 529867, 529868, 529869, 410856, 410854, 410855, 410930, 410877, 410942, 245851, 311493, 32593, 479641, 479638, 479640, 479631, 479635, 479624, 479632, 479674, 142251, 142252, 142258, 172736, 172737, 172789, 40385, 338641, 400678, 175787, 130756, 109280, 109308, 39490, 109313, 109315, 109298, 62362, 62363, 62364, 109283, 353089, 353197, 154957, 154958, 154960, 353054, 353260, 353209, 353282, 353173, 353141, 353142, 190669, 353238, 19778, 353074, 353082, 353083, 353085, 78985, 353093, 353104, 353204, 29036, 29038, 353065, 148303, 148335, 148314, 60514, 60515, 60516, 60517, 148268, 148302, 148343, 148350, 148351, 148352, 148304, 148239, 148234, 148232, 75821, 148347, 148378, 148379, 120101, 396326, 396410, 396325, 5521, 5524, 22615, 22616, 22617, 7688, 350770, 119531, 119534, 119536, 41802, 508266, 508269, 215828, 350859, 350860, 105419, 80096, 80113, 80122, 80101, 80129, 80100, 80130, 28743, 28744, 319753, 59705, 480393, 91442, 159945, 480354, 480414, 480457, 46889, 229070, 245288, 245289, 245291, 480402, 410414, 480442, 16597, 40543, 368218, 497280, 497285, 497283, 2600, 497304, 497289, 497315, 497279, 86555, 274200, 497322, 497323, 497324, 497341, 497342, 497333, 497299, 5534, 5535, 16912, 141317, 35947, 328888, 269131, 328787, 328941, 317681, 40272, 9972, 9973, 365744, 365745, 365808, 365795, 365796, 365797, 249366, 365746, 365747, 365748, 365750, 365751, 365752, 9926, 9930, 9946, 9933, 9958, 40271, 114381, 78044, 12482, 46942, 145442, 365809, 365810, 365798, 365799, 365801, 365803, 365776, 348596, 365756, 429364, 78491, 155746, 155748, 225468, 225471, 225476, 225530, 225479, 225528, 225480, 225490, 225586, 225472, 225506, 225515, 225555, 225495, 225544, 225542, 225629, 225548, 423915, 423917, 225478, 225474, 188764, 188765, 335274, 335275, 335226, 335205, 335206, 335214, 335231, 335232, 188762, 335245, 335230, 335234, 335216, 335281, 335218, 335209, 187201, 335260, 335261, 335263, 335264, 335265, 335253, 335255, 335244, 270000, 455876, 210406, 455847, 50310, 455905, 196728, 71853, 455893, 455894, 210410, 22472, 75277, 240189, 379446, 379415, 69688, 69690, 69692, 508531, 508532, 69687, 226409, 39471, 39472, 226450, 42621, 42652, 42623, 42632, 37576, 42677, 42684, 42660, 42666, 42645, 38814, 292599, 292606, 292608, 292603, 68916, 68943, 68957, 165805, 68945, 68937, 68917, 68998, 97965, 97966, 68918, 165675, 165677, 69059, 380, 381, 165804, 69018, 138977, 6148, 165610, 27673, 68936, 97971, 165612, 98012, 68971, 145512, 148723, 68935, 69033, 165765, 69030, 69045, 69046, 165633, 165634, 68919, 388764, 53528, 128800, 150978, 388834, 388835, 248714, 228424, 290653, 395444, 395392, 395407, 395325, 395405, 395354, 395391, 395350, 250185, 5642, 301479, 301480, 135052, 301467, 250200, 301471, 301478, 250194, 250195, 250196, 301488, 173055, 477245, 546547, 546527, 173052, 298142, 239891, 398704, 398705, 398706, 398707, 168162, 79320, 168188, 168151, 168281, 168253, 168193, 168297, 168256, 168257, 168311, 168325, 168214, 168267, 396849, 396881, 86565, 86556, 86558, 86585, 65749, 256621, 364316, 129438, 400465, 292510, 23228, 3125, 75357, 75386, 75400, 75404, 75405, 75407, 75381, 75389, 237641, 298003, 298005, 530208, 530212, 63453, 530204, 23125, 181862, 189019, 72379, 530205, 375689, 375696, 375692, 433492, 16880, 16881, 16909, 16916, 16893, 3106, 3109, 521925, 326968, 521906, 521908, 112836, 467753, 467757, 467751, 467752, 467775, 467764, 467769, 467786, 26796, 422410, 551604, 64593, 422392, 422414, 449334, 449335, 449336, 449277, 551623, 551624, 551625, 449278, 449279, 551662, 551663, 449318, 449320, 551577, 422515, 19445, 470389, 19442, 155761, 15460, 470398, 229196, 346392, 346394, 346385, 46997, 330535, 346410, 346411, 346412, 346395, 346422, 415331, 346423, 35130, 346409, 346430, 346431, 346433, 111312, 111314, 111318, 111319, 111313, 111315, 111384, 111368, 111562, 111513, 500191, 43439, 43440, 43442, 43444, 182569, 43443, 116633, 203133, 203134, 203135, 203136, 203110, 130737, 269342, 203231, 9932, 269165, 269167, 203169, 203109, 24643, 135249, 269205, 9048, 203140, 269314, 236229, 236166, 147934, 236233, 110077, 344368, 344375, 344395, 344367, 344404, 344405, 344459, 440385, 440386, 440387, 440389, 440396, 440463, 440464, 440427, 440428, 440429, 93284, 440431, 440423, 440430, 440390, 440419, 90898, 440433, 440436, 440397, 440398, 440399, 440401, 440402, 440403, 56201, 56204, 56205, 228116, 228056, 233333, 562541, 36811, 108166, 423133, 435031, 11825, 435145, 435131, 77611, 240449, 434994, 434996, 434997, 435123, 65695, 48651, 471026, 164922, 240390, 170176, 435103, 435055, 435002, 435087, 435088, 435089, 435111, 308768, 354775, 435161, 327958, 435117, 435012, 435023, 435030, 435049, 91485, 435180, 435168, 435083, 435179, 102712, 102718, 102722, 102723, 102740, 102713, 102724, 96369, 233898, 250946, 75919, 75921, 75922, 75923, 75862, 15492, 75816, 75850, 75887, 75892, 75911, 75912, 75953, 75974, 7650, 75908, 75882, 75883, 39014, 485066, 485068, 446457, 446458, 446433, 446434, 239834, 446461, 446463, 446464, 73283, 73284, 446435, 279677, 216415, 216416, 482014, 470, 38567, 298933, 334334, 75958, 334314, 334302, 240789, 334297, 334272, 334310, 334232, 155471, 334316, 334318, 5573, 334324, 334234, 83613, 16223, 16206, 16190, 16214, 16202, 76557, 76558, 560168, 76566, 17391, 560135, 162212, 162216, 9991, 9998, 10001, 193515, 9984, 470426, 9986, 9976, 10012, 143225, 10014, 140292, 10018, 10019, 10020, 10021, 10024, 367945, 367946, 368082, 134440, 545036, 557043, 557044, 556996, 557055, 557071, 557118, 129892, 284669, 284670, 284499, 144486, 3149, 3152, 258450, 47888, 1251, 258457, 258458, 258355, 284568, 24546, 46162, 284652, 451467, 33879, 284715, 258511, 258516, 258514, 258515, 284713, 284711, 71538, 236891, 135326, 257949, 30734, 69444, 69445, 106999, 154041, 522462, 522662, 154042, 154043, 437719, 437683, 437685, 437687, 437691, 437619, 437610, 213999, 214000, 214001, 214002, 214003, 214004, 214155, 214156, 214158, 214163, 214287, 214288, 214290, 214292, 65377, 65378, 95336, 95414, 95416, 95364, 95365, 95367, 95368, 95373, 95421, 95350, 38683, 38684, 95340, 24473, 95395, 95397, 312828, 260182, 260221, 260192, 50023, 80255, 260404, 260219, 260332, 260334, 260336, 260339, 260340, 260305, 260393, 260365, 260406, 260409, 260179, 29131, 29132, 95060, 95062, 95063, 316210, 371631, 93719, 93728, 93729, 93717, 35064, 93720, 93725, 93726, 24397, 24398, 24416, 24408, 24409, 24510, 24403, 24494, 24496, 24422, 24415, 24503, 138787, 90716, 494164, 324268, 73569, 494064, 324157, 1162, 277674, 494173, 324213, 494277, 494096, 183349, 251321, 251318, 251319, 251320, 68436, 97663, 101824, 107431, 107432, 92897, 107370, 107373, 107374, 107376, 107377, 101849, 107336, 101887, 107465, 107467, 101875, 37803, 107439, 37568, 274951, 413847, 300214, 300216, 295563, 171924, 176057, 2331, 176006, 90994, 90995, 91005, 91006, 69673, 91002, 91015, 281758, 281759, 281760, 281761, 281762, 281768, 281767, 281925, 14775, 14974, 40800, 418470, 418471, 418539, 10624, 348688, 348689, 97635, 158940, 348883, 250209, 348652, 518301, 348645, 348647, 348748, 348635, 348824, 348830, 348832, 18760, 139988, 166933, 166935, 17988, 59739, 348589, 167008, 166994, 22574, 22575, 288122, 288198, 471054, 316220, 471043, 471049, 471110, 60207, 471087, 218434, 76432, 76433, 78787, 322507, 78507, 1080, 78531, 78571, 69306, 78701, 78702, 78704, 78705, 78708, 78492, 78645, 201834, 78648, 78655, 362389, 362390, 163125, 186658, 470018, 470019, 470047, 117140, 317776, 196918, 431101, 10550, 196964, 562358, 562359, 206803, 206805, 206806, 78754, 78756, 286175, 562225, 562227, 5985, 168499, 251012, 136839, 207112, 250995, 562203, 445014, 207060, 309016, 407351, 435441, 41929, 127504, 206777, 391118, 206865, 11293, 206919, 207048, 179053, 562281, 206789, 265962, 265966, 251000, 251002, 251003, 206930, 206931, 508254, 206932, 395945, 17897, 108444, 562298, 562299, 562302, 562304, 408748, 562181, 206950, 206879, 207053, 227399, 73618, 147515, 171560, 171561, 186043, 206997, 206999, 92054, 143172, 143176, 272502, 272542, 82613, 272599, 272509, 272522, 272613, 230474, 413669, 413670, 413672, 413675, 413676, 413677, 413678, 220577, 277329, 413640, 504531, 413638, 242785, 413644, 413646, 240171, 92068, 92069, 92070, 112561, 112562, 9149, 124025, 474593, 212889, 439096, 439100, 439093, 439113, 128102, 272067, 272069, 272070, 463168, 59773, 272088, 272090, 272093, 272051, 400206, 34916, 272074, 106748, 272054, 272056, 272081, 167166, 59716, 463250, 40828, 226737, 400201, 400257, 463163, 400239, 272063, 463193, 463385, 463234, 463240, 400243, 400244, 78380, 20141, 83809, 67691, 521333, 83807, 84086, 521338, 521307, 84044, 83997, 51830, 51831, 51832, 51834, 51835, 51841, 528390, 51956, 51833, 356476, 528079, 51903, 51878, 50592, 51985, 51984, 2923, 242906, 561951, 561899, 403698, 403714, 561927, 561903, 217207, 561896, 561904, 561908, 52752, 403719, 403721, 403722, 561960, 561901, 27166, 561910, 10177, 34658, 34665, 15865, 34671, 34661, 34663, 34664, 116656, 22703, 116531, 25400, 116590, 116592, 116593, 116596, 116492, 32884, 116551, 116556, 116603, 116606, 116684, 116640, 116630, 116577, 116539, 116522, 116512, 182626, 182627, 182628, 409824, 409884, 44072, 112125, 105543, 112320, 112322, 465873, 114139, 313538, 465899, 112338, 112341, 8717, 101614, 112152, 112153, 112154, 112389, 465924, 465925, 112240, 112250, 112242, 112244, 112245, 112248, 465939, 14272, 112114, 143179, 465884, 112216, 112181, 112183, 112186, 12859, 112149, 112272, 112134, 112137, 28446, 207047, 465981, 465983, 465923, 465928, 465930, 112357, 112359, 112188, 43281, 112213, 465881, 465882, 465892, 112452, 112455, 112456, 112146, 112124, 200872, 1616, 251686, 130520, 130521, 1617, 251704, 255596, 18601, 255601, 124085, 231059, 255602, 196329, 425543, 36710, 255670, 108124, 108127, 108131, 135456, 108155, 424497, 498582, 32514, 32515, 32516, 370668, 71612, 370682, 121399, 219923, 370726, 234577, 370642, 370701, 370694, 370709, 370718, 350370, 350372, 350387, 350389, 350390, 350362, 350373, 65704, 350358, 350359, 350360, 350363, 350365, 350366, 350367, 350368, 350369, 350371, 350361, 498519, 498529, 55853, 36239, 119872, 498553, 161472, 144063, 18877, 41080, 143968, 143976, 144023, 18896, 18897, 18917, 11533, 11534, 143940, 143949, 143953, 144070, 70785, 177695, 18919, 18901, 18903, 18909, 143959, 143962, 143963, 143964, 143965, 144038, 177626, 177629, 177631, 177632, 177758, 143918, 137581, 177711, 144030, 144032, 177656, 177658, 177580, 177581, 288532, 117703, 117702, 117710, 373171, 273098, 273099, 273101, 14278, 157947, 489868, 389225, 330283, 348248, 348253, 108004, 57864, 57865, 246145, 108006, 108007, 223518, 88364, 398481, 68370, 170158, 170324, 170325, 82530, 170165, 170299, 46803, 170316, 28157, 170276, 170204, 170205, 170206, 170207, 170321, 170277, 130644, 135539, 313234, 313193, 232184, 313222, 313169, 313177, 313237, 313249, 313200, 33491, 313174, 313175, 313176, 313179, 353135, 415444, 415445, 136725, 258314, 422147, 415450, 422253, 422277, 205156, 422138, 422130, 151087, 13086, 343560, 422210, 422221, 422222, 422228, 422135, 422237, 232858, 232860, 232880, 232859, 305566, 305571, 305579, 305599, 305600, 305568, 305569, 305659, 305663, 305664, 305667, 305655, 305773, 305774, 305775, 179470, 305742, 305669, 305673, 305744, 305583, 752, 177795, 177796, 177794, 177793, 177845, 177776, 758, 177855, 177857, 177859, 177804, 242943, 242927, 177887, 519683, 159166, 513112, 513075, 390994, 365100, 390962, 390963, 390995, 406454, 406455, 67196, 406469, 423338, 406444, 554811, 327829, 554834, 54979, 554796, 554798, 554799, 554804, 554780, 301037, 301045, 86542, 116759, 37248, 116720, 540474, 540475, 395695, 540410, 540396, 221220, 316901, 316864, 91984, 316898, 46847, 460153, 460152, 460155, 460156, 460154, 277496, 182922, 460163, 266926, 266968, 21186, 266964, 73699, 267059, 266947, 77253, 668, 79388, 267019, 267020, 267024, 267026, 267028, 267091, 267094, 267096, 108519, 108368, 108483, 108374, 108395, 108397, 108398, 108365, 108438, 108499, 108500, 108465, 65538, 108380, 108486, 151885, 51, 43057, 43108, 16864, 43283, 43319, 43321, 43323, 43325, 43047, 43212, 80388, 97307, 123414, 336181, 336160, 336199, 336079, 43209, 43127, 43121, 336303, 336304, 43338, 43382, 369296, 369443, 43087, 202855, 336016, 336148, 336150, 336152, 336153, 336154, 336155, 336156, 336157, 123297, 123083, 123139, 43314, 161377, 336216, 336247, 140162, 43387, 43389, 43390, 123146, 123148, 369409, 336277, 43327, 43094, 43335, 68908, 336007, 335991, 335993, 335995, 48327, 282161, 335926, 43205, 335918, 336085, 335983, 335985, 266928, 335936, 43218, 336226, 479202, 43146, 43307, 43308, 43154, 336207, 43159, 123358, 43403, 43408, 80151, 336100, 123331, 43274, 43060, 43168, 15620, 335913, 123289, 123290, 123291, 43099, 185580, 185581, 142691, 213933, 173676, 243001, 243005, 243008, 173040, 173041, 45093, 435907, 469544, 469515, 45095, 475078, 475155, 116011, 475042, 475136, 75832, 466537, 466625, 466626, 466628, 466541, 183499, 183500, 466595, 336373, 2388, 2395, 336437, 336439, 336372, 69259, 207284, 207286, 207288, 207289, 211980, 1004, 336371, 336481, 336482, 336484, 525509, 236814, 331932, 331843, 331844, 331845, 87373, 346140, 162556, 309031, 346298, 346133, 99466, 541439, 346339, 346192, 541456, 346360, 541481, 346242, 23187, 346358, 62352, 346380, 346125, 346135, 346138, 34975, 16636, 346247, 346325, 108423, 541548, 80423, 346347, 346204, 541585, 346181, 541563, 74710, 294697, 346356, 346305, 541447, 346319, 346320, 32434, 299794, 139552, 346158, 541450, 346224, 40841, 351450, 541420, 346256, 541624, 135914, 135916, 135917, 144341, 144274, 144275, 144276, 144324, 144270, 144326, 7910, 144250, 225737, 290196, 290198, 290199, 290202, 24474, 290217, 290220, 169416, 290341, 290422, 203910, 203911, 203924, 203937, 17793, 313320, 63515, 313428, 313317, 313395, 55957, 312881, 312903, 312856, 312936, 312835, 278541, 512457, 203612, 503043, 503031, 503000, 503044, 107306, 107295, 107284, 107293, 122516, 145134, 108430, 108431, 145116, 145139, 229860, 18486, 232402, 20607, 414479, 414441, 414442, 556226, 258168, 293800, 293801, 293802, 293803, 293804, 293805, 293830, 337842, 337857, 337858, 337859, 337861, 337839, 337840, 337841, 337843, 21828, 21829, 21830, 359606, 359609, 359577, 359647, 155864, 359665, 359664, 359667, 359668, 359670, 359671, 359674, 359675, 359644, 359654, 359594, 359595, 550012, 550014, 549898, 532879, 549883, 549885, 93426, 93512, 549854, 549856, 549947, 550003, 549965, 549968, 512157, 558403, 558409, 558410, 558405, 558407, 100158, 558418, 558412, 558444, 301128, 68573, 126683, 301148, 191745, 331296, 475849, 103779, 116465, 410154, 475866, 475867, 180154, 29770, 480258, 480321, 192775, 314972, 314968, 314969, 101450, 314960, 314962, 311562, 114320, 362586, 83596, 183880, 362578, 298929, 298941, 7855, 298936, 280043, 355292, 50895, 355207, 102253, 48975, 280142, 280143, 355140, 280131, 280132, 280136, 355231, 48977, 280217, 23084, 232196, 355296, 391849, 391834, 168590, 200987, 200988, 200990, 200991, 168697, 200911, 200912, 200914, 76895, 168653, 41828, 201018, 168588, 168570, 168573, 168577, 168584, 168585, 168666, 184660, 184662, 168629, 200937, 200885, 200886, 168637, 200892, 10170, 201003, 201005, 201006, 200986, 201145, 168604, 201048, 201050, 130971, 512374, 235405, 512299, 512300, 512302, 4944, 4946, 112329, 235359, 506439, 506465, 3251, 124696, 124697, 506451, 506438, 506440, 506455, 506467, 506469, 560322, 388029, 560338, 31048, 30182, 311756, 311757, 3732, 311758, 311752, 139194, 139195, 86537, 311761, 311763, 79417, 62203, 62205, 62291, 62292, 62225, 62217, 79382, 79549, 79550, 79552, 79555, 62319, 62321, 62322, 62220, 79487, 62286, 62287, 62288, 62267, 62248, 62249, 62280, 62180, 42775, 79380, 79385, 79469, 548562, 548577, 548566, 548592, 548593, 548594, 548597, 548571, 548575, 548576, 548580, 149946, 334126, 334144, 334152, 8407, 8394, 8426, 8427, 8415, 114496, 114497, 505693, 8414, 11103, 11112, 11104, 258215, 258221, 328090, 258234, 258235, 258223, 258224, 258243, 258244, 307883, 307884, 26290, 26274, 26275, 26282, 156501, 64685, 156492, 83334, 20260, 20259, 20261, 20275, 20263, 20281, 36980, 124470, 124443, 124448, 124444, 124445, 124446, 124467, 124532, 124566, 124567, 124570, 124516, 124517, 124526, 124528, 124529, 289608, 430515, 289648, 289649, 289623, 289645, 308642, 50874, 303995, 308508, 308549, 138949, 308543, 308544, 308559, 308562, 308566, 308527, 308551, 308518, 477160, 477189, 477158, 477195, 191927, 35708, 226960, 98081, 226924, 227088, 227090, 226966, 226901, 35777, 226930, 226932, 227076, 227002, 226983, 226916, 226917, 44099, 226918, 226919, 226920, 227129, 227020, 227021, 196978, 82887, 23575, 222428, 222460, 129375, 58547, 18617, 451157, 451162, 451163, 451164, 443122, 443143, 443116, 443135, 278846, 302205, 302206, 394837, 443153, 443155, 443157, 443193, 443211, 110509, 414851, 414919, 414889, 137519, 414752, 41213, 414777, 414801, 262889, 262890, 262892, 414988, 262888, 414969, 333713, 414795, 414800, 262891, 414991, 414912, 414980, 8309, 41211, 41214, 338474, 282286, 360732, 493314, 493303, 493304, 493294, 493214, 66122, 164751, 493281, 493243, 493244, 493245, 493247, 493248, 314468, 493223, 54849, 493261, 98033, 98063, 98064, 98046, 98049, 98057, 98044, 98060, 98061, 32580, 32581, 472629, 32583, 32584, 32587, 32588, 32603, 32606, 130738, 130706, 130707, 130708, 130709, 130732, 130726, 2989, 130755, 79648, 319033, 40799, 40714, 556168, 6427, 35291, 35256, 35275, 35267, 35268, 72785, 314318, 75584, 314290, 314291, 314234, 314258, 314306, 314355, 259159, 288736, 314274, 381739, 292611, 15904, 164067, 446675, 446841, 446676, 446842, 446677, 446844, 446759, 400383, 446768, 446847, 446748, 248300, 446804, 446686, 446789, 531447, 531448, 531449, 531450, 531452, 33698, 90976, 271475, 518287, 57116, 25468, 518359, 100808, 528898, 528900, 152560, 518255, 518302, 518304, 215915, 518289, 529139, 529142, 518352, 3406, 5687, 529055, 383525, 250984, 518286, 70483, 191904, 528976, 42196, 518262, 518273, 174526, 518317, 518290, 529095, 84517, 421510, 529104, 528936, 528993, 518268, 339854, 528961, 269375, 269376, 269377, 269378, 529082, 518260, 529079, 115049, 518256, 518328, 518329, 518331, 518324, 518325, 49966, 85643, 85644, 85646, 284469, 445760, 445762, 20695, 291035, 291042, 69936, 69939, 284464, 445540, 291046, 445473, 445482, 445858, 445871, 445872, 445873, 445876, 445877, 445878, 181088, 445814, 22390, 22391, 22392, 213542, 213547, 213413, 339704, 417358, 417381, 346435, 417402, 346436, 417363, 417396, 417397, 417398, 417399, 417400, 417401, 126925, 343944, 344263, 537778, 291222, 537758, 59757, 3078, 9290, 246059, 246000, 246022, 246024, 246025, 246026, 246027, 246028, 246029, 246104, 59427, 246159, 246006, 246007, 246017, 246147, 246149, 246162, 58507, 245966, 245991, 232218, 246177, 246180, 170870, 246050, 246052, 246053, 89990, 89960, 89931, 90069, 89984, 90023, 90018, 90020, 90021, 467318, 126597, 476122, 412659, 412660, 412661, 412666, 238992, 199248, 199245, 65021, 340923, 65125, 65160, 65301, 340912, 65094, 340889, 65038, 65039, 65040, 65100, 65088, 65281, 65285, 65019, 340850, 65208, 65187, 65189, 340864, 340829, 61289, 112496, 65294, 65123, 35845, 35847, 35849, 35851, 340914, 65220, 65315, 6065, 6042, 6052, 205512, 301756, 448731, 388040, 388042, 388048, 388066, 544962, 388056, 544886, 544901, 388055, 203672, 544913, 544877, 544878, 72506, 72531, 562759, 562760, 32212, 72515, 72512, 72514, 72516, 72518, 72519, 72520, 36332, 36333, 72641, 166264, 562792, 72632, 562781, 72504, 562652, 72635, 527936, 562903, 562904, 562905, 562908, 562910, 562911, 59727, 59752, 40513, 59791, 59792, 59777, 19332, 59793, 169346, 372532, 372600, 372635, 306003, 369052, 306006, 369054, 372567, 372478, 372601, 372607, 331367, 372529, 372530, 372643, 372531, 372533, 77306, 368927, 368929, 50077, 15419, 116466, 369217, 369246, 53754, 53820, 53759, 53972, 485344, 110313, 53862, 479523, 485352, 37192, 37200, 37214, 37226, 37228, 37234, 37262, 37203, 37205, 37224, 37198, 59154, 59155, 59156, 557322, 128119, 177254, 177255, 177256, 7802, 492129, 492134, 155844, 247182, 492119, 492123, 492135, 42750, 225218, 225221, 225222, 225223, 225220, 56415, 56416, 56420, 56389, 56392, 404230, 404235, 404255, 404257, 404241, 404243, 404244, 125350, 132342, 404226, 404224, 404225, 404227, 404228, 404234, 81950, 81951, 135027, 349820, 302786, 349798, 51389, 101579, 349804, 161849, 51801, 18150, 244231, 225354, 326812, 277670, 326892, 326895, 38882, 207351, 133490, 326971, 64806, 327104, 326862, 326985, 207379, 207382, 326815, 327028, 327029, 327031, 327032, 151121, 327017, 326867, 326869, 326870, 326871, 163535, 38880, 139810, 207375, 251277, 327041, 326941, 327057, 327059, 130267, 326849, 326827, 326828, 326829, 326830, 327053, 327081, 327083, 97422, 326935, 326936, 7457, 326887, 342702, 95899, 342809, 55895, 55896, 322108, 246968, 191339, 342713, 477927, 477928, 342800, 515805, 28995, 44424, 44426, 276854, 276885, 28994, 44427, 276859, 44425, 44421, 276968, 5187, 276964, 12188, 276850, 44434, 148163, 148164, 148170, 148174, 148175, 148176, 148180, 148181, 148182, 271945, 271946, 271947, 271948, 361195, 361259, 151935, 168942, 39502, 96465, 310284, 365028, 365147, 78538, 365139, 365275, 329078, 281171, 365187, 365188, 365191, 193048, 365315, 2520, 365263, 365199, 365207, 151120, 146894, 151167, 151168, 151240, 151222, 176089, 151104, 151209, 146898, 151081, 151127, 176078, 151224, 176144, 176147, 151105, 151097, 12995, 12996, 12997, 12998, 13004, 13006, 13026, 13018, 35894, 35884, 35889, 35906, 91803, 91804, 91806, 438335, 438336, 438337, 50475, 92912, 438314, 438316, 438341, 438349, 34019, 302717, 302633, 302688, 302762, 302763, 59111, 143938, 302639, 302740, 302742, 120203, 120205, 270098, 270129, 159970, 103404, 159913, 159954, 159907, 159980, 159981, 159959, 159960, 159961, 159963, 35065, 128947, 159879, 159930, 159934, 159910, 159971, 159973, 159936, 159911, 159951, 159952, 159881, 159903, 159894, 32996, 497239, 159974, 322998, 323000, 323001, 323003, 216436, 216437, 216438, 323020, 3186, 457648, 473100, 473114, 233807, 473098, 473284, 248631, 381781, 473093, 2788, 2789, 138954, 177553, 205647, 199307, 320013, 320389, 320390, 320393, 320395, 320397, 177513, 177520, 177522, 205649, 270454, 320278, 320280, 320099, 320061, 320331, 320333, 177555, 177558, 320135, 47664, 47665, 47666, 47673, 47675, 47676, 320172, 320107, 177561, 320054, 177544, 177514, 177546, 145315, 145319, 145320, 320100, 320227, 320049, 28251, 28256, 320117, 320113, 320114, 320201, 320116, 205642, 205621, 205622, 205619, 320351, 320352, 320075, 320189, 320193, 320194, 320286, 260637, 407533, 407566, 542786, 407567, 81952, 218228, 218229, 218230, 218399, 218401, 218402, 218403, 218224, 218242, 218390, 218271, 218420, 218421, 51463, 218336, 218337, 218243, 218245, 218317, 218326, 218408, 218235, 218236, 218226, 218415, 218276, 218277, 218424, 218269, 62477, 218210, 218211, 218382, 218384, 332, 184370, 184432, 184434, 184371, 128975, 265789, 265790, 265857, 265834, 265835, 265836, 265830, 265807, 64490, 265865, 121511, 265824, 265805, 209894, 153882, 9200, 91095, 278840, 391104, 391112, 391114, 391116, 391120, 391123, 556582, 556588, 556631, 503135, 56847, 503217, 503126, 64360, 503234, 503304, 503241, 248166, 503141, 503145, 227681, 100277, 422133, 89596, 117797, 241446, 42606, 241421, 241407, 156448, 230221, 253968, 253971, 253978, 253981, 253982, 397686, 397687, 397810, 397688, 41045, 351699, 253930, 396425, 397929, 397930, 253958, 397602, 51157, 397614, 397615, 397616, 397833, 397617, 397618, 397619, 156040, 397697, 253702, 397735, 397734, 397736, 397738, 253896, 253952, 253986, 397890, 397606, 253988, 397827, 397650, 397661, 397666, 253932, 253992, 339767, 397871, 397873, 397874, 397875, 253945, 397806, 397712, 75800, 286398, 397791, 82056, 397680, 397746, 397748, 397750, 397751, 253900, 253901, 159139, 339960, 397764, 397845, 253924, 397724, 152734, 397729, 163158, 423750, 423745, 423754, 128579, 327428, 359179, 359180, 359209, 359249, 306976, 359165, 359166, 359167, 359170, 359233, 359207, 359210, 359212, 41854, 41855, 31914, 31913, 31915, 113084, 8163, 23110, 521742, 142774, 142777, 242700, 521791, 521795, 361642, 521717, 145108, 521804, 521807, 317022, 521750, 521756, 521758, 521751, 48523, 521727, 521728, 521701, 521703, 521704, 521796, 521797, 521744, 93901, 521688, 40710, 521691, 521692, 521695, 281346, 281347, 88321, 108032, 88323, 281368, 281354, 281356, 96639, 25897, 144446, 144496, 47424, 144433, 144436, 144569, 144622, 102588, 128444, 128445, 133508, 144649, 144650, 144652, 144532, 144614, 144422, 144425, 144426, 144537, 144596, 126497, 17341, 81834, 81836, 81826, 81843, 81829, 81831, 81832, 205279, 253171, 253127, 203696, 17706, 253118, 255433, 253211, 314359, 14455, 314374, 429031, 537237, 42921, 297842, 547618, 547619, 256120, 411080, 155749, 476257, 72095, 72096, 72097, 72098, 93902, 263513, 263515, 263516, 169472, 476260, 476261, 476262, 186666, 476212, 120959, 45759, 120983, 120985, 334531, 334532, 334635, 45816, 45820, 299211, 164667, 146255, 146256, 146254, 163646, 163653, 163669, 163673, 45053, 163700, 163931, 163775, 100234, 163681, 163682, 177304, 411975, 187959, 37312, 187053, 167592, 188072, 38398, 155790, 155918, 407448, 407505, 407457, 407458, 407475, 407485, 227367, 407481, 392320, 407444, 385475, 407487, 137444, 18898, 407433, 407434, 407435, 407464, 407467, 267737, 267740, 332215, 118881, 90892, 175806, 175816, 175819, 175818, 175827, 175804, 175936, 175938, 175939, 175940, 175817, 175809, 175843, 175845, 175878, 118883, 175832, 175802, 175807, 94570, 94572, 94625, 94569, 94571, 94574, 94575, 94576, 94578, 94579, 94580, 94631, 94697, 94711, 94677, 1729, 118876, 118915, 118916, 118917, 119006, 118900, 118892, 118911, 118961, 118999, 119000, 485958, 485968, 485959, 485965, 485967, 485951, 485953, 485969, 485977, 91104, 160399, 126682, 400720, 34196, 244594, 244593, 71752, 494807, 494873, 494901, 494903, 494904, 7136, 429448, 494885, 18069, 57901, 363601, 494782, 494757, 494816, 494861, 494825, 494826, 145311, 232965, 494752, 494663, 494803, 494806, 494808, 494809, 494890, 494866, 494684, 494858, 247779, 247786, 247850, 184379, 247838, 247789, 247785, 130393, 423677, 423706, 143302, 423678, 423679, 178754, 178751, 476417, 178753, 178769, 178793, 68422, 178789, 147356, 476359, 476315, 178788, 178799, 476304, 178811, 178812, 165093, 549035, 549036, 159985, 451698, 451765, 451696, 451692, 451694, 451736, 344186, 451741, 17512, 351723, 351712, 202307, 262191, 371379, 371364, 371366, 371346, 371352, 84248, 84249, 84250, 76050, 227852, 13455, 82273, 227907, 315509, 315492, 145109, 220712, 227847, 227849, 227851, 315479, 227873, 528414, 528444, 528445, 528446, 528448, 528449, 235582, 528422, 528412, 528419, 528475, 528476, 528507, 528513, 528514, 528516, 528428, 528523, 528526, 252594, 528539, 528536, 528537, 528540, 527904, 528455, 528555, 528558, 231631, 528452, 528453, 528545, 31927, 31928, 528415, 528434, 528437, 528441, 528442, 528421, 528487, 528417, 528581, 16854, 528560, 528561, 528563, 528564, 528602, 528604, 36092, 528470, 528617, 528423, 528425, 528427, 528579, 528580, 528518, 528466, 528471, 528472, 528575, 528479, 528482, 362459, 51412, 188898, 430603, 536597, 362403, 3714, 443477, 536503, 3685, 465845, 465846, 536535, 41351, 108201, 15389, 240784, 240786, 240788, 156963, 156956, 247044, 156880, 52186, 52164, 52074, 52172, 52178, 52179, 470559, 348925, 470457, 42085, 470528, 470476, 470408, 470649, 220356, 470429, 121467, 470542, 470543, 470545, 44153, 470496, 510109, 470626, 38495, 407087, 470583, 470481, 142396, 470566, 470550, 44321, 284699, 470538, 470540, 470587, 167575, 427122, 427161, 427188, 36131, 36132, 36133, 36134, 36135, 88351, 88352, 88353, 88347, 50290, 88355, 88372, 88371, 88388, 88389, 88374, 88375, 404131, 404180, 404169, 404142, 404213, 404214, 404138, 404136, 365517, 365518, 365520, 539738, 539726, 201420, 241319, 539737, 272581, 539789, 505923, 69254, 113564, 7495, 506030, 505935, 69268, 69257, 32842, 69302, 69262, 505916, 69309, 505950, 505952, 42577, 49910, 69288, 230153, 39495, 39505, 230089, 230093, 230177, 190978, 232156, 39469, 232182, 230083, 39449, 9429, 222334, 363596, 363597, 37665, 538532, 95930, 95932, 95969, 95970, 95914, 95934, 95935, 50362, 95923, 153878, 95888, 95905, 50319, 95949, 95953, 95915, 95903, 95904, 96006, 95962, 96044, 110075, 110076, 110073, 7469, 7362, 7576, 7462, 7561, 7393, 7394, 7368, 7435, 7436, 7407, 7360, 7515, 7516, 7517, 7357, 7359, 7415, 7528, 7418, 7523, 7543, 7406, 7474, 7475, 7476, 7448, 7449, 425341, 548763, 46993, 46995, 282413, 282414, 282415, 282417, 282427, 282428, 282429, 46999, 41713, 66064, 282383, 282395, 235816, 235817, 235901, 235826, 235852, 235860, 104887, 235801, 235802, 235917, 235888, 235857, 235818, 561321, 561322, 561324, 561325, 561326, 561335, 561323, 561451, 561452, 561455, 561380, 561506, 561568, 561458, 501107, 16857, 290545, 290476, 155659, 51521, 261190, 261191, 218219, 30429, 175383, 102428, 3705, 122056, 60141, 51569, 51570, 365993, 41377, 41378, 122080, 133586, 362414, 3779, 261271, 261273, 41288, 261198, 261199, 444482, 17840, 17841, 17842, 17843, 57874, 57878, 108079, 67792, 67794, 57846, 57848, 120669, 57931, 67825, 96530, 108014, 108015, 96588, 120660, 120703, 7737, 238093, 238115, 440639, 440641, 238140, 440701, 440717, 238100, 440652, 440708, 440714, 238097, 238102, 341098, 341099, 341100, 341101, 341105, 1003, 341289, 341091, 1150, 985, 341299, 1136, 1001, 295836, 341275, 178869, 341307, 158919, 88157, 159041, 341119, 341120, 341121, 341122, 1069, 158869, 1982, 1994, 1995, 2003, 1983, 1984, 1985, 1996, 2007, 2018, 2001, 160493, 42736, 279616, 109604, 142697, 500440, 500441, 500445, 500446, 500499, 500458, 500459, 500462, 500478, 500480, 500481, 75091, 75092, 57179, 534498, 534552, 534596, 199424, 250204, 534518, 140257, 476593, 534434, 534550, 155909, 534469, 534471, 534572, 534509, 243232, 534476, 534417, 311996, 534654, 534493, 534674, 534679, 534431, 534495, 534651, 534496, 139539, 30439, 223649, 223650, 306102, 306142, 33401, 166698, 139489, 139494, 306341, 12815, 234188, 306446, 306447, 122202, 411353, 411357, 306254, 306256, 411275, 411277, 306356, 139514, 306164, 411359, 411362, 306207, 17621, 411236, 305955, 305980, 178924, 248780, 403185, 403186, 403187, 403188, 403202, 403209, 403218, 403222, 221259, 221204, 131314, 131315, 131299, 131301, 131307, 131310, 131311, 131312, 131297, 131298, 133019, 120050, 120051, 120052, 324695, 407136, 47116, 402863, 324696, 402800, 407082, 407085, 407088, 144557, 120046, 40194, 58376, 402967, 194225, 394722, 407137, 407128, 272829, 325280, 407105, 407107, 407109, 402795, 87249, 407166, 57202, 160294, 407152, 343081, 238269, 238271, 238250, 20613, 20616, 238185, 238202, 238203, 238253, 543708, 28490, 370864, 370863, 208842, 273226, 352355, 155343, 352387, 352389, 352391, 352372, 352386, 352357, 352358, 352359, 352382, 352375, 479119, 284090, 479306, 479308, 489470, 522200, 522201, 522202, 479340, 189536, 189537, 274639, 274640, 479293, 217044, 522262, 479114, 274977, 479144, 479145, 479147, 151463, 86359, 294605, 230987, 479280, 129896, 129899, 129900, 129902, 479204, 479206, 306668, 479102, 522253, 522191, 59393, 244199, 73992, 79449, 142127, 314106, 479328, 479331, 479142, 522153, 9983, 118672, 89428, 479189, 479223, 479225, 482052, 330681, 505483, 277737, 277775, 198296, 25520, 277749, 277750, 7529, 386801, 386794, 386797, 21701, 386855, 386857, 386781, 97434, 386848, 97408, 386852, 423361, 501953, 501954, 67018, 501979, 501995, 501949, 50379, 501972, 26261, 253011, 10437, 245082, 36963, 36964, 36967, 36970, 13236, 507286, 507287, 507293, 10463, 10464, 10465, 10466, 10467, 10468, 275829, 278059, 361915, 365628, 365629, 365635, 365636, 12860, 275659, 391288, 391304, 391305, 41860, 240439, 391326, 391327, 295859, 188357, 188358, 188359, 188360, 188361, 280949, 403274, 403279, 280951, 403316, 403359, 226841, 403308, 189612, 403385, 255874, 255875, 255941, 255942, 255886, 255982, 255936, 133910, 124181, 124182, 255969, 255971, 255952, 292106, 292110, 292111, 292107, 292108, 162073, 161977, 161986, 162067, 162014, 161998, 162000, 169126, 169127, 169128, 169129, 274293, 274285, 274286, 274288, 274292, 274303, 274291, 274348, 274434, 274349, 274351, 274450, 274402, 205967, 205968, 241435, 322614, 142110, 322708, 322619, 322622, 322624, 322654, 44122, 26302, 171176, 225281, 288255, 288256, 288257, 288259, 456539, 456531, 456532, 456534, 456535, 456536, 456537, 456538, 456559, 456560, 456567, 456546, 456547, 456542, 456544, 27094, 253277, 253228, 253237, 253236, 253227, 253232, 253230, 253241, 108379, 164353, 303993, 484201, 484124, 303997, 484112, 484130, 304008, 484205, 484145, 484104, 145153, 484177, 484157, 484209, 484173, 304022, 484114, 484143, 484108, 484162, 153491, 334042, 28158, 283785, 225351, 172636, 249501, 232104, 221168, 228031, 295263, 295265, 295267, 295306, 20283, 295249, 295250, 295241, 295324, 295318, 295319, 295320, 295234, 133152, 295304, 140499, 295314, 24235, 295236, 295238, 295261, 295283, 531126, 266011, 266058, 265890, 77217, 265920, 266020, 266109, 118798, 48446, 48447, 41233, 153162, 153163, 153164, 153075, 153292, 153184, 153186, 153238, 153332, 153035, 50292, 153149, 153211, 153233, 153234, 53590, 153171, 153048, 32857, 32861, 504539, 504540, 504541, 427062, 214444, 504447, 504448, 504450, 26870, 504459, 504463, 504456, 215980, 504476, 504509, 504467, 87094, 504534, 504493, 504494, 523872, 98515, 523827, 523828, 375279, 523863, 90017, 523956, 411584, 523844, 523845, 523824, 36715, 523962, 523908, 338363, 338365, 180962, 338267, 338268, 338258, 338294, 338229, 999, 338220, 338336, 338290, 114599, 338280, 338384, 292939, 338284, 338285, 286095, 338271, 338272, 272015, 272014, 272016, 272018, 186829, 186831, 186832, 186833, 186871, 106923, 280974, 501520, 501521, 501534, 501535, 501537, 136094, 93739, 414289, 414290, 354712, 115023, 553517, 398562, 240996, 240998, 159151, 159187, 456419, 159242, 159197, 58239, 159219, 159220, 151696, 159293, 159155, 159362, 75559, 159225, 159240, 159241, 3175, 41851, 41775, 41958, 41960, 35922, 6435, 27597, 91115, 91094, 91096, 91098, 91109, 91114, 27596, 219557, 219575, 103766, 219546, 219548, 275650, 275646, 275645, 73775, 463116, 472987, 472990, 472991, 472992, 472985, 472972, 472973, 472974, 472975, 472976, 403890, 473034, 349391, 148205, 125178, 148211, 148220, 148197, 22931, 219372, 90873, 90882, 90889, 90922, 90870, 90968, 90969, 90895, 256448, 276323, 315927, 315968, 315910, 315902, 315903, 374739, 374751, 31696, 74194, 74255, 74270, 74233, 74234, 74195, 74198, 74229, 74239, 74177, 74200, 74302, 74285, 266411, 269212, 74187, 311804, 47669, 311824, 28815, 100066, 311829, 311847, 311852, 311856, 311800, 311944, 229815, 311806, 311830, 311831, 311834, 311835, 311836, 311937, 311941, 311898, 311947, 311954, 311955, 311956, 311957, 311880, 311917, 311923, 311924, 50315, 50376, 50314, 50382, 50318, 36957, 252214, 395448, 395450, 295582, 395457, 395534, 395536, 258962, 258958, 258986, 258982, 258961, 258995, 258978, 258980, 258981, 391183, 391185, 530225, 91020, 354167, 354174, 354171, 354185, 354188, 75192, 288949, 288950, 238741, 238744, 238707, 238708, 238749, 238795, 103409, 238762, 238763, 238764, 238767, 142621, 77898, 261349, 94328, 94329, 94332, 27634, 261400, 245734, 217215, 261404, 261406, 195125, 206975, 206977, 261333, 261336, 261338, 261339, 318142, 261340, 204196, 245876, 245878, 245879, 245882, 245883, 245885, 245865, 80300, 316978, 317058, 317060, 316990, 316992, 316993, 316969, 8136, 267106, 267109, 267110, 133706, 316960, 317009, 35050, 35062, 35051, 57150, 57206, 83670, 439803, 439804, 439805, 439806, 170083, 170089, 170090, 28765, 480081, 480115, 480125, 480116, 480121, 359691, 359700, 388125, 388126, 388127, 388128, 388129, 388130, 388131, 388132, 388133, 166134, 166135, 166137, 166138, 166145, 16634, 166151, 166155, 166139, 339057, 3044, 450017, 450018, 450051, 450052, 450074, 450076, 328085, 450061, 450062, 450063, 450064, 395123, 414747, 414748, 414749, 450067, 450069, 450071, 44327, 41905, 174917, 223826, 450117, 450120, 450103, 450021, 450125, 450126, 167748, 167750, 167756, 89765, 89768, 89769, 89771, 89772, 89773, 89819, 89822, 89770, 89809, 89767, 89778, 89792, 89847, 89859, 89856, 556712, 291620, 58780, 556685, 38088, 38219, 51808, 129963, 130014, 234552, 7126, 464423, 499428, 499314, 499429, 280733, 399250, 298010, 499308, 499305, 499309, 298043, 451402, 499333, 499366, 499523, 298050, 499532, 499432, 110556, 110608, 434740, 434741, 230403, 449598, 449587, 302332, 86022, 302350, 134624, 341755, 341795, 341743, 125523, 135243, 167910, 189815, 341750, 341774, 341773, 341775, 341777, 341783, 214781, 341736, 341871, 42229, 9060, 42052, 275673, 213029, 238732, 341853, 63928, 65017, 341868, 341866, 125068, 474971, 201984, 72582, 72584, 442158, 294688, 294689, 328092, 294626, 56870, 294610, 56754, 174798, 294681, 294724, 294726, 218377, 294665, 294733, 294737, 294742, 174921, 280969, 15122, 15123, 469823, 469824, 224674, 477786, 477788, 301999, 49419, 49481, 49488, 49489, 49420, 49432, 67721, 296968, 40973, 114423, 296869, 365033, 427963, 427952, 296884, 427961, 296931, 427951, 296920, 296921, 110226, 336561, 218253, 43423, 233877, 276608, 373941, 429487, 429514, 429515, 429518, 429513, 429525, 18537, 228597, 456496, 456497, 529125, 68389, 456484, 456462, 105780, 113149, 425003, 456446, 456447, 456502, 456395, 456488, 456490, 417618, 456406, 456411, 5530, 5531, 5580, 5618, 5622, 5532, 5533, 5545, 5548, 5549, 413491, 453846, 284087, 453891, 413509, 413510, 228074, 453896, 64381, 64396, 64512, 64450, 64459, 64521, 64387, 64456, 64542, 64453, 62990, 334640, 334641, 334658, 334650, 334651, 334652, 334654, 334656, 135332, 334638, 134898, 76594, 76595, 80472, 541876, 541877, 382738, 458601, 317700, 317703, 317705, 317707, 317709, 22749, 393791, 393859, 393845, 17754, 194071, 203727, 3157, 52580, 110334, 110333, 398701, 398703, 545310, 124872, 545239, 545240, 545241, 545242, 545286, 441889, 28831, 28833, 147102, 219040, 275917, 433384, 229699, 525742, 525744, 433380, 7779, 7780, 131019, 495709, 495775, 495710, 495778, 131017, 131018, 495744, 382690, 382691, 495049, 76571, 76572, 76573, 315445, 315447, 315443, 399602, 192826, 325780, 500229, 500205, 500206, 147398, 500222, 500223, 500224, 108243, 108244, 108245, 108246, 108247, 108248, 108249, 58351, 58353, 105223, 133517, 289858, 192780, 58270, 192736, 192737, 58355, 173421, 173422, 173423, 173475, 173477, 173534, 173537, 192688, 290012, 108258, 108261, 192815, 173414, 173416, 173379, 289891, 136289, 136291, 136292, 557153, 560570, 560585, 560552, 317866, 317867, 560565, 560556, 560581, 560583, 560558, 560559, 527273, 498314, 18613, 123462, 262834, 262859, 262861, 262862, 404164, 410334, 410269, 410324, 410176, 410177, 308639, 105318, 238717, 410387, 27132, 410388, 42248, 410106, 410129, 410131, 410133, 410153, 410158, 165210, 410140, 410208, 410126, 410299, 410300, 410304, 410293, 410294, 177511, 467206, 467237, 467211, 467221, 467222, 467223, 467224, 467234, 467231, 467251, 467252, 467253, 140683, 58432, 58491, 58455, 240965, 240970, 240991, 485252, 182341, 485180, 133095, 207317, 78551, 477683, 477697, 477678, 477687, 258207, 477693, 477694, 477698, 477699, 477685, 477680, 477677, 117815, 117816, 117817, 117818, 117935, 117844, 117832, 24221, 24222, 24223, 443302, 443303, 443336, 443339, 97128, 215742, 215744, 501721, 501751, 5235, 5236, 39513, 34427, 501739, 354708, 417627, 417628, 255755, 535260, 31517, 213621, 54198, 111073, 213622, 213624, 213585, 213586, 213587, 31509, 31533, 31534, 112629, 17160, 17192, 17194, 17195, 17196, 28613, 28591, 163662, 277215, 361660, 361672, 361657, 361658, 361659, 361661, 361653, 361654, 2399, 392233, 478499, 478506, 478513, 478535, 478495, 137401, 72908, 436905, 474263, 474276, 474270, 474271, 474339, 474340, 474342, 436904, 474281, 436906, 474287, 474318, 474295, 474327, 25420, 25580, 137624, 137628, 137629, 25363, 25364, 25365, 40346, 25487, 40301, 40304, 40305, 25579, 25510, 40193, 25370, 25371, 137621, 40260, 40261, 40220, 40221, 40222, 25537, 25541, 25402, 25403, 25405, 50914, 251208, 251264, 251213, 251240, 251276, 38497, 251266, 440356, 440367, 440358, 440383, 440375, 440370, 274737, 274742, 274760, 274764, 274741, 274719, 274753, 274772, 274716, 274718, 274779, 274780, 183992, 59336, 59335, 59340, 59350, 492095, 101945, 458512, 18630, 381673, 381697, 388706, 381642, 381688, 31446, 31444, 313985, 37157, 313986, 67904, 313994, 67938, 314058, 314002, 314052, 314054, 299809, 299810, 299811, 299812, 299814, 299815, 299653, 299710, 299711, 81266, 465994, 465996, 466000, 298458, 167956, 280493, 298439, 298452, 196779, 196781, 466409, 466462, 466397, 466477, 466414, 466445, 466447, 466472, 466506, 466473, 466474, 466441, 466516, 466518, 196780, 466398, 466498, 466491, 466493, 466484, 466449, 466450, 66970, 66971, 66972, 66973, 159382, 159385, 159486, 159487, 159379, 159418, 24050, 24054, 159425, 159521, 159523, 159559, 92781, 92792, 92802, 92809, 92785, 92797, 87141, 92778, 92801, 327830, 327835, 327836, 83298, 463127, 145359, 145368, 145371, 134661, 145340, 145382, 145379, 188467, 145380, 145386, 319341, 109648, 319266, 319087, 319252, 319134, 319135, 319136, 319137, 46749, 319295, 306296, 306297, 319110, 319153, 50481, 250724, 250725, 250726, 250728, 109651, 319329, 50255, 488, 452, 453, 479, 481, 27456, 27529, 27532, 27527, 27412, 27435, 27509, 27560, 27562, 27563, 328161, 328162, 328094, 328138, 328166, 328167, 328123, 328144, 328154, 328183, 328147, 64253, 328102, 339031, 183408, 107205, 107257, 107210, 107236, 60131, 60132, 133164, 133108, 278893, 278894, 278841, 171904, 171906, 171910, 171911, 163063, 278888, 278889, 278890, 278892, 171903, 278838, 278839, 278887, 278852, 278896, 285584, 285586, 285580, 285581, 99909, 196456, 294013, 294014, 294015, 294018, 294021, 294044, 294045, 294028, 294020, 136275, 136283, 136285, 136286, 136287, 136254, 104938, 17765, 104932, 104985, 104967, 95185, 104943, 104941, 79644, 104993, 5451, 104956, 310365, 104957, 104958, 105005, 105008, 3820, 325528, 325540, 270896, 325504, 174601, 174602, 174603, 174585, 75431, 507369, 227503, 227504, 547539, 547580, 547545, 43954, 43955, 100408, 68405, 386183, 386210, 60079, 100098, 233875, 491548, 491550, 491562, 491608, 491609, 491537, 491569, 297151, 491567, 29466, 133685, 133686, 12242, 93305, 173613, 173616, 173617, 173620, 173621, 173622, 173623, 173624, 232590, 232661, 232700, 232702, 232687, 232610, 232481, 232464, 133633, 232617, 232618, 232619, 225325, 225326, 414266, 225327, 149440, 149441, 149442, 149443, 343561, 414265, 249289, 410472, 410545, 410546, 410548, 410523, 410525, 57546, 69429, 69442, 48529, 48531, 477603, 512631, 62382, 341328, 341329, 341331, 14724, 14742, 149451, 284080, 284081, 284082, 135002, 405372, 405373, 405414, 363767, 405394, 113, 241773, 366708, 366619, 114, 131521, 131522, 131524, 131525, 409106, 409109, 153455, 516638, 13021, 40959, 36839, 79730, 486329, 178815, 420540, 486142, 76785, 76783, 76784, 76884, 79841, 79843, 79850, 79851, 531699, 188451, 334689, 334685, 178085, 178170, 178171, 178172, 11962, 79852, 265475, 63522, 383573, 383574, 460531, 460555, 460556, 460557, 460560, 55766, 553537, 553538, 553542, 553540, 553571, 61794, 470780, 121458, 436460, 470838, 470841, 3891, 397280, 397284, 397286, 397293, 33696, 33697, 33712, 33695, 6194, 6195, 6196, 6197, 400530, 400535, 343078, 23624, 23631])"
      ]
     },
     "execution_count": 168,
     "metadata": {},
     "output_type": "execute_result"
    }
   ],
   "source": [
    "count_df_2.keys()"
   ]
  },
  {
   "cell_type": "markdown",
   "metadata": {},
   "source": [
    "##### Saving Writer Count Dict to File"
   ]
  },
  {
   "cell_type": "code",
   "execution_count": 204,
   "metadata": {},
   "outputs": [],
   "source": [
    "with open('../data/final_model_test/writer_count_dict_20190504.pkl', 'wb') as f:\n",
    "    pickle.dump(count_df_2, f)"
   ]
  },
  {
   "cell_type": "markdown",
   "metadata": {},
   "source": [
    "#### 3a. Mapping Votes back Against Writers"
   ]
  },
  {
   "cell_type": "code",
   "execution_count": 223,
   "metadata": {},
   "outputs": [],
   "source": [
    "# Will need to update this function as I figure out the logic for this algo\n",
    "\n",
    "def combine_writer_counts_and_info(count_dict, writer_df):\n",
    "    \n",
    "    top_12_dict = {wid : {'writer_name' : '',\n",
    "                          'ipi' : '',\n",
    "                          'top_matches' : ''}\\\n",
    "                   for wid in count_dict.keys()}\n",
    "    \n",
    "    # Retreive Top 12 Results for each Songwriter\n",
    "    for entry in count_dict:\n",
    "        top_12_dict[entry]['top_matches'] = count_dict[entry].most_common(12)\n",
    "    \n",
    "    # add writer name and info to dictionary\n",
    "    for wid in top_12_dict:\n",
    "        if wid in writer_df['WID']:\n",
    "            top_12_dict[wid]['writer_name']\\\n",
    "            = writer_df['Writer Name'][writer_df['WID'] == wid].values[0]\n",
    "            top_12_dict[wid]['ipi']\\\n",
    "            = writer_df['IPI'][writer_df['WID'] == wid].values[0]\n",
    "    \n",
    "    return top_12_dict"
   ]
  },
  {
   "cell_type": "code",
   "execution_count": 222,
   "metadata": {},
   "outputs": [],
   "source": [
    "top_12s = combine_writer_counts_and_info(count_df_2, writers)"
   ]
  },
  {
   "cell_type": "code",
   "execution_count": 224,
   "metadata": {},
   "outputs": [
    {
     "data": {
      "text/plain": [
       "{'writer_name': 'CARTER SHAWN  ',\n",
       " 'ipi': '240089589',\n",
       " 'top_matches': [(4692, 224),\n",
       "  (3747, 30),\n",
       "  (3772, 24),\n",
       "  (4561, 23),\n",
       "  (4754, 21),\n",
       "  (5519, 20),\n",
       "  (3729, 18),\n",
       "  (5565, 15),\n",
       "  (7091, 14),\n",
       "  (4575, 14),\n",
       "  (3835, 12),\n",
       "  (16895, 12)]}"
      ]
     },
     "execution_count": 224,
     "metadata": {},
     "output_type": "execute_result"
    }
   ],
   "source": [
    "top_12s[4692]"
   ]
  },
  {
   "cell_type": "code",
   "execution_count": 148,
   "metadata": {},
   "outputs": [],
   "source": [
    "writers = pd.read_csv('../data/writers.csv', index_col = 0)"
   ]
  }
 ],
 "metadata": {
  "kernelspec": {
   "display_name": "Python 3",
   "language": "python",
   "name": "python3"
  },
  "language_info": {
   "codemirror_mode": {
    "name": "ipython",
    "version": 3
   },
   "file_extension": ".py",
   "mimetype": "text/x-python",
   "name": "python",
   "nbconvert_exporter": "python",
   "pygments_lexer": "ipython3",
   "version": "3.6.7"
  }
 },
 "nbformat": 4,
 "nbformat_minor": 2
}
