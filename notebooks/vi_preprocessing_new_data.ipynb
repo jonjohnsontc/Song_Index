{
 "cells": [
  {
   "cell_type": "markdown",
   "metadata": {},
   "source": [
    "# Preprocessing Second Batch of Songs"
   ]
  },
  {
   "cell_type": "code",
   "execution_count": 3,
   "metadata": {},
   "outputs": [],
   "source": [
    "from functools import reduce\n",
    "from glob import glob\n",
    "import json\n",
    "from multiprocessing import cpu_count\n",
    "import pickle\n",
    "import os\n",
    "import re\n",
    "\n",
    "from deepmerge import always_merger\n",
    "\n",
    "import matplotlib.pyplot as plt\n",
    "import numpy as np\n",
    "import pandas as pd\n",
    "\n",
    "from spotipy import Spotify\n",
    "from spotipy.oauth2 import SpotifyClientCredentials"
   ]
  },
  {
   "cell_type": "markdown",
   "metadata": {},
   "source": [
    "## Table of Contents\n",
    "\n",
    "1. Loading in Tables"
   ]
  },
  {
   "cell_type": "markdown",
   "metadata": {},
   "source": [
    "\n",
    "## 1. Loading in Tables"
   ]
  },
  {
   "cell_type": "code",
   "execution_count": 7,
   "metadata": {},
   "outputs": [],
   "source": [
    "# all songs I attempted to pull\n",
    "# with open('../data/new_tracks_20190103.json', 'r') as f:\n",
    "#     new_tracks = json.load(f)\n",
    "\n",
    "\n",
    "# matched_songs = pd.read_csv('../data/matched_songs_20190209.csv', index_col = 0)\n",
    "main_wfeats = pd.read_csv('../data/main_wfeats.csv', index_col = 0)\n",
    "genres = pd.read_csv('../data/genres.csv', index_col = 0)\n",
    "gs_lookup = pd.read_csv('../data/gsong_lookup.csv', index_col=0)"
   ]
  },
  {
   "cell_type": "code",
   "execution_count": 3,
   "metadata": {},
   "outputs": [
    {
     "data": {
      "text/plain": [
       "Index(['song_id', 'album_release_date', 'artist_id', 'artist_name',\n",
       "       'duration_ms', 'explicit', 'linked_album', 'song_title', 'danceability',\n",
       "       'energy', 'key', 'loudness', 'mode', 'speechiness', 'acousticness',\n",
       "       'instrumentalness', 'liveness', 'valence', 'tempo', 'time_signature',\n",
       "       'key_changes', 'mean_song_conf', 'mean_loudness', 'mean_mode',\n",
       "       'mean_mode_conf', 'mean_tempo', 'mean_tempo_conf', 'var_song_conf',\n",
       "       'var_loudness', 'var_mode', 'var_mode_conf', 'var_tempo',\n",
       "       'var_tempo_conf', 'tm_dim_1', 'tm_dim_2', 'tm_dim_3', 'tm_dim_4',\n",
       "       'tm_dim_5', 'tm_dim_6', 'tm_dim_7', 'tm_dim_8', 'tm_dim_9', 'tm_dim_10',\n",
       "       'tm_dim_11', 'tm_dim_12', 'tv_dim_1', 'tv_dim_2', 'tv_dim_3',\n",
       "       'tv_dim_4', 'tv_dim_5', 'tv_dim_6', 'tv_dim_7', 'tv_dim_8', 'tv_dim_9',\n",
       "       'tv_dim_10', 'tv_dim_11', 'tv_dim_12', 'pm_dim_1', 'pm_dim_2',\n",
       "       'pm_dim_3', 'pm_dim_4', 'pm_dim_5', 'pm_dim_6', 'pm_dim_7', 'pm_dim_8',\n",
       "       'pm_dim_9', 'pm_dim_10', 'pm_dim_11', 'pm_dim_12', 'pv_dim_1',\n",
       "       'pv_dim_2', 'pv_dim_3', 'pv_dim_4', 'pv_dim_5', 'pv_dim_6', 'pv_dim_7',\n",
       "       'pv_dim_8', 'pv_dim_9', 'pv_dim_10', 'pv_dim_11', 'pv_dim_12'],\n",
       "      dtype='object')"
      ]
     },
     "execution_count": 3,
     "metadata": {},
     "output_type": "execute_result"
    }
   ],
   "source": [
    "main_wfeats.columns"
   ]
  },
  {
   "cell_type": "code",
   "execution_count": 4,
   "metadata": {},
   "outputs": [],
   "source": [
    "artists = pd.read_csv('../data/artist_list_v2.csv', index_col=0)"
   ]
  },
  {
   "cell_type": "markdown",
   "metadata": {},
   "source": [
    "### 1a. Grabbing Mean & Variance Segment Values"
   ]
  },
  {
   "cell_type": "code",
   "execution_count": 5,
   "metadata": {},
   "outputs": [],
   "source": [
    "def combine_section_mean_var(fp):\n",
    "    '''\n",
    "    Given a file path, grabs mean and variance segment dictionaries\n",
    "    and combines them together\n",
    "    '''\n",
    "    directory = {\n",
    "        'means' : [],\n",
    "        'vars' : [],\n",
    "    }\n",
    "    \n",
    "    # grabbing all files\n",
    "    for file in os.listdir(fp):\n",
    "        if 'section_mean_' in file:\n",
    "            directory['means'].append(file)\n",
    "        elif 'section_var_' in file:\n",
    "            directory['vars'].append(file)\n",
    "    \n",
    "    # base files\n",
    "    with open(f\"{fp}/{directory['means'][0]}\", 'r') as f:\n",
    "        mean_dict = json.load(f)\n",
    "    with open(f\"{fp}/{directory['vars'][0]}\", 'r') as f:\n",
    "        vars_dict = json.load(f)\n",
    "    \n",
    "    # adding addtl files\n",
    "    for i in range(1, len(directory['means'])):\n",
    "        with open(f\"{fp}/{directory['means'][i]}\", 'r') as f:\n",
    "            addition = json.load(f)\n",
    "        mean_dict.extend(addition)\n",
    "                  \n",
    "    for i in range(1, len(directory['vars'])):\n",
    "        with open(f\"{fp}/{directory['vars'][i]}\", 'r') as f:\n",
    "            addition = json.load(f)\n",
    "        vars_dict.extend(addition)\n",
    "    \n",
    "    return mean_dict, vars_dict"
   ]
  },
  {
   "cell_type": "code",
   "execution_count": 6,
   "metadata": {},
   "outputs": [],
   "source": [
    "means, variances = combine_section_mean_var('../data')"
   ]
  },
  {
   "cell_type": "code",
   "execution_count": 7,
   "metadata": {},
   "outputs": [
    {
     "data": {
      "text/plain": [
       "651452"
      ]
     },
     "execution_count": 7,
     "metadata": {},
     "output_type": "execute_result"
    }
   ],
   "source": [
    "len(variances)"
   ]
  },
  {
   "cell_type": "code",
   "execution_count": 8,
   "metadata": {},
   "outputs": [
    {
     "data": {
      "text/plain": [
       "651517"
      ]
     },
     "execution_count": 8,
     "metadata": {},
     "output_type": "execute_result"
    }
   ],
   "source": [
    "len(new_tracks)"
   ]
  },
  {
   "cell_type": "code",
   "execution_count": 9,
   "metadata": {},
   "outputs": [
    {
     "data": {
      "text/plain": [
       "159438"
      ]
     },
     "execution_count": 9,
     "metadata": {},
     "output_type": "execute_result"
    }
   ],
   "source": [
    "len(matched_songs)"
   ]
  },
  {
   "cell_type": "code",
   "execution_count": 10,
   "metadata": {},
   "outputs": [
    {
     "data": {
      "text/plain": [
       "{'confidence': 0.601625,\n",
       " 'duration': 26.5366675,\n",
       " 'loudness': -14.359750000000002,\n",
       " 'mode': 0.875,\n",
       " 'mode_confidence': 0.3652500000000001,\n",
       " 'tempo': 121.35325,\n",
       " 'tempo_confidence': 0.4575}"
      ]
     },
     "execution_count": 10,
     "metadata": {},
     "output_type": "execute_result"
    }
   ],
   "source": [
    "[value for value in means[0].values()][0]"
   ]
  },
  {
   "cell_type": "code",
   "execution_count": 11,
   "metadata": {},
   "outputs": [],
   "source": [
    "def unpack_lists(lst):\n",
    "    '''\n",
    "    Unpacks a list of dictionaries into a dictionary\n",
    "    '''\n",
    "    dct = {}\n",
    "    for i in range(len(lst)):\n",
    "        dct[[key for key in lst[i].keys()][0]] \\\n",
    "            = [value for value in lst[i].values()][0]\n",
    "    return dct"
   ]
  },
  {
   "cell_type": "code",
   "execution_count": 12,
   "metadata": {},
   "outputs": [],
   "source": [
    "mean_dict = unpack_lists(means)\n",
    "var_dict = unpack_lists(variances)"
   ]
  },
  {
   "cell_type": "code",
   "execution_count": 13,
   "metadata": {},
   "outputs": [],
   "source": [
    "def find_errors(dct):\n",
    "    '''\n",
    "    returns error messages if found in mean or var dicts\n",
    "    '''\n",
    "    error_dct = {}\n",
    "    for i in dct.copy():\n",
    "        if isinstance(dct[i], str):\n",
    "            error_dct[i] = dct[i]\n",
    "            del dct[i]\n",
    "    return dct, error_dct"
   ]
  },
  {
   "cell_type": "code",
   "execution_count": 14,
   "metadata": {},
   "outputs": [],
   "source": [
    "mean_dict, mean_errors = find_errors(mean_dict)"
   ]
  },
  {
   "cell_type": "code",
   "execution_count": 15,
   "metadata": {},
   "outputs": [],
   "source": [
    "var_dict, var_errors = find_errors(var_dict)"
   ]
  },
  {
   "cell_type": "code",
   "execution_count": 16,
   "metadata": {},
   "outputs": [
    {
     "data": {
      "text/plain": [
       "(650263, 650263)"
      ]
     },
     "execution_count": 16,
     "metadata": {},
     "output_type": "execute_result"
    }
   ],
   "source": [
    "len(mean_dict), len(var_dict)"
   ]
  },
  {
   "cell_type": "code",
   "execution_count": 17,
   "metadata": {},
   "outputs": [
    {
     "data": {
      "text/plain": [
       "(1189, 1189)"
      ]
     },
     "execution_count": 17,
     "metadata": {},
     "output_type": "execute_result"
    }
   ],
   "source": [
    "len(mean_errors), len(var_errors)"
   ]
  },
  {
   "cell_type": "code",
   "execution_count": 18,
   "metadata": {},
   "outputs": [],
   "source": [
    "mean_df = pd.DataFrame.from_dict(mean_dict, orient='index')"
   ]
  },
  {
   "cell_type": "code",
   "execution_count": 19,
   "metadata": {},
   "outputs": [],
   "source": [
    "var_df = pd.DataFrame.from_dict(var_dict, orient='index')"
   ]
  },
  {
   "cell_type": "code",
   "execution_count": 151,
   "metadata": {},
   "outputs": [],
   "source": [
    "mean_df.to_csv('../data/section_mean_df_20190413.csv')\n",
    "var_df.to_csv('../data/section_var_df_20190413.csv')"
   ]
  },
  {
   "cell_type": "code",
   "execution_count": 20,
   "metadata": {},
   "outputs": [
    {
     "data": {
      "text/html": [
       "<div>\n",
       "<style scoped>\n",
       "    .dataframe tbody tr th:only-of-type {\n",
       "        vertical-align: middle;\n",
       "    }\n",
       "\n",
       "    .dataframe tbody tr th {\n",
       "        vertical-align: top;\n",
       "    }\n",
       "\n",
       "    .dataframe thead th {\n",
       "        text-align: right;\n",
       "    }\n",
       "</style>\n",
       "<table border=\"1\" class=\"dataframe\">\n",
       "  <thead>\n",
       "    <tr style=\"text-align: right;\">\n",
       "      <th></th>\n",
       "      <th>confidence</th>\n",
       "      <th>duration</th>\n",
       "      <th>loudness</th>\n",
       "      <th>mode</th>\n",
       "      <th>mode_confidence</th>\n",
       "      <th>tempo</th>\n",
       "      <th>tempo_confidence</th>\n",
       "    </tr>\n",
       "  </thead>\n",
       "  <tbody>\n",
       "    <tr>\n",
       "      <th>0007aPK8VmXN4ycL2OcBFa</th>\n",
       "      <td>0.552778</td>\n",
       "      <td>32.807407</td>\n",
       "      <td>-7.355333</td>\n",
       "      <td>0.888889</td>\n",
       "      <td>0.354889</td>\n",
       "      <td>114.153000</td>\n",
       "      <td>0.286667</td>\n",
       "    </tr>\n",
       "    <tr>\n",
       "      <th>0008G8TW7eiVfwlRRsKlgW</th>\n",
       "      <td>0.549364</td>\n",
       "      <td>19.008486</td>\n",
       "      <td>-11.250909</td>\n",
       "      <td>0.909091</td>\n",
       "      <td>0.629455</td>\n",
       "      <td>133.749182</td>\n",
       "      <td>0.371545</td>\n",
       "    </tr>\n",
       "    <tr>\n",
       "      <th>000BqzNd7gRYnK6umzTNZX</th>\n",
       "      <td>0.657167</td>\n",
       "      <td>20.035555</td>\n",
       "      <td>-5.852000</td>\n",
       "      <td>0.833333</td>\n",
       "      <td>0.285667</td>\n",
       "      <td>145.424167</td>\n",
       "      <td>0.365333</td>\n",
       "    </tr>\n",
       "    <tr>\n",
       "      <th>000CSIqE1KcjAiZYYWXV18</th>\n",
       "      <td>0.477333</td>\n",
       "      <td>24.455557</td>\n",
       "      <td>-12.882333</td>\n",
       "      <td>0.166667</td>\n",
       "      <td>0.552833</td>\n",
       "      <td>124.057583</td>\n",
       "      <td>0.438833</td>\n",
       "    </tr>\n",
       "    <tr>\n",
       "      <th>000G1xMMuwxNHmwVsBdtj1</th>\n",
       "      <td>0.489167</td>\n",
       "      <td>15.195622</td>\n",
       "      <td>-6.957667</td>\n",
       "      <td>0.833333</td>\n",
       "      <td>0.262083</td>\n",
       "      <td>190.880667</td>\n",
       "      <td>0.272000</td>\n",
       "    </tr>\n",
       "  </tbody>\n",
       "</table>\n",
       "</div>"
      ],
      "text/plain": [
       "                        confidence   duration   loudness      mode  \\\n",
       "0007aPK8VmXN4ycL2OcBFa    0.552778  32.807407  -7.355333  0.888889   \n",
       "0008G8TW7eiVfwlRRsKlgW    0.549364  19.008486 -11.250909  0.909091   \n",
       "000BqzNd7gRYnK6umzTNZX    0.657167  20.035555  -5.852000  0.833333   \n",
       "000CSIqE1KcjAiZYYWXV18    0.477333  24.455557 -12.882333  0.166667   \n",
       "000G1xMMuwxNHmwVsBdtj1    0.489167  15.195622  -6.957667  0.833333   \n",
       "\n",
       "                        mode_confidence       tempo  tempo_confidence  \n",
       "0007aPK8VmXN4ycL2OcBFa         0.354889  114.153000          0.286667  \n",
       "0008G8TW7eiVfwlRRsKlgW         0.629455  133.749182          0.371545  \n",
       "000BqzNd7gRYnK6umzTNZX         0.285667  145.424167          0.365333  \n",
       "000CSIqE1KcjAiZYYWXV18         0.552833  124.057583          0.438833  \n",
       "000G1xMMuwxNHmwVsBdtj1         0.262083  190.880667          0.272000  "
      ]
     },
     "execution_count": 20,
     "metadata": {},
     "output_type": "execute_result"
    }
   ],
   "source": [
    "mean_df.head()"
   ]
  },
  {
   "cell_type": "code",
   "execution_count": 21,
   "metadata": {},
   "outputs": [
    {
     "data": {
      "text/plain": [
       "{'Song Title': 'Don`t Go', 'Artist': 'Stevie B'}"
      ]
     },
     "execution_count": 21,
     "metadata": {},
     "output_type": "execute_result"
    }
   ],
   "source": [
    "new_tracks['0008G8TW7eiVfwlRRsKlgW']"
   ]
  },
  {
   "cell_type": "code",
   "execution_count": 5,
   "metadata": {},
   "outputs": [],
   "source": [
    "new_tracks_df = pd.DataFrame.from_dict(new_tracks, orient='index')"
   ]
  },
  {
   "cell_type": "code",
   "execution_count": 6,
   "metadata": {},
   "outputs": [],
   "source": [
    "artists.reset_index(inplace=True)\n",
    "artists.rename(columns= {'s_artist_id' : 'artist_id'},\n",
    "               inplace= True)"
   ]
  },
  {
   "cell_type": "code",
   "execution_count": 7,
   "metadata": {},
   "outputs": [
    {
     "data": {
      "text/html": [
       "<div>\n",
       "<style scoped>\n",
       "    .dataframe tbody tr th:only-of-type {\n",
       "        vertical-align: middle;\n",
       "    }\n",
       "\n",
       "    .dataframe tbody tr th {\n",
       "        vertical-align: top;\n",
       "    }\n",
       "\n",
       "    .dataframe thead th {\n",
       "        text-align: right;\n",
       "    }\n",
       "</style>\n",
       "<table border=\"1\" class=\"dataframe\">\n",
       "  <thead>\n",
       "    <tr style=\"text-align: right;\">\n",
       "      <th></th>\n",
       "      <th>Song Title</th>\n",
       "      <th>Artist</th>\n",
       "    </tr>\n",
       "  </thead>\n",
       "  <tbody>\n",
       "    <tr>\n",
       "      <th>0007aPK8VmXN4ycL2OcBFa</th>\n",
       "      <td>Bodhisattva - Live</td>\n",
       "      <td>Toto</td>\n",
       "    </tr>\n",
       "    <tr>\n",
       "      <th>0008G8TW7eiVfwlRRsKlgW</th>\n",
       "      <td>Don`t Go</td>\n",
       "      <td>Stevie B</td>\n",
       "    </tr>\n",
       "    <tr>\n",
       "      <th>000BqzNd7gRYnK6umzTNZX</th>\n",
       "      <td>You Still Want Me - 2014 Remastered Version</td>\n",
       "      <td>The Kinks</td>\n",
       "    </tr>\n",
       "    <tr>\n",
       "      <th>000CSIqE1KcjAiZYYWXV18</th>\n",
       "      <td>Under The Sun (Ecclesiastes)</td>\n",
       "      <td>Michael Card</td>\n",
       "    </tr>\n",
       "    <tr>\n",
       "      <th>000G1xMMuwxNHmwVsBdtj1</th>\n",
       "      <td>Will Anything Happen</td>\n",
       "      <td>Blondie</td>\n",
       "    </tr>\n",
       "  </tbody>\n",
       "</table>\n",
       "</div>"
      ],
      "text/plain": [
       "                                                         Song Title  \\\n",
       "0007aPK8VmXN4ycL2OcBFa                           Bodhisattva - Live   \n",
       "0008G8TW7eiVfwlRRsKlgW                                     Don`t Go   \n",
       "000BqzNd7gRYnK6umzTNZX  You Still Want Me - 2014 Remastered Version   \n",
       "000CSIqE1KcjAiZYYWXV18                 Under The Sun (Ecclesiastes)   \n",
       "000G1xMMuwxNHmwVsBdtj1                         Will Anything Happen   \n",
       "\n",
       "                              Artist  \n",
       "0007aPK8VmXN4ycL2OcBFa          Toto  \n",
       "0008G8TW7eiVfwlRRsKlgW      Stevie B  \n",
       "000BqzNd7gRYnK6umzTNZX     The Kinks  \n",
       "000CSIqE1KcjAiZYYWXV18  Michael Card  \n",
       "000G1xMMuwxNHmwVsBdtj1       Blondie  "
      ]
     },
     "execution_count": 7,
     "metadata": {},
     "output_type": "execute_result"
    }
   ],
   "source": [
    "new_tracks_df.head()"
   ]
  },
  {
   "cell_type": "code",
   "execution_count": 8,
   "metadata": {},
   "outputs": [],
   "source": [
    "new_tracks_df.reset_index(inplace=True)"
   ]
  },
  {
   "cell_type": "code",
   "execution_count": 9,
   "metadata": {},
   "outputs": [],
   "source": [
    "new_tracks_df.rename(columns={'index': 'track_id'}, inplace=True)"
   ]
  },
  {
   "cell_type": "code",
   "execution_count": 10,
   "metadata": {},
   "outputs": [
    {
     "data": {
      "text/plain": [
       "2426"
      ]
     },
     "execution_count": 10,
     "metadata": {},
     "output_type": "execute_result"
    }
   ],
   "source": [
    "len(artists)"
   ]
  },
  {
   "cell_type": "markdown",
   "metadata": {},
   "source": [
    "### 1b. Adding in Artist IDs (and subsequently Genres into new tracks)\n",
    "\n",
    "It appears as though I'm loosing ~72k tracks when completing the merge. My guess is that it's likely these songs have multiple artists tied to them, and I did not pull the artist that matched the listing I currently have."
   ]
  },
  {
   "cell_type": "code",
   "execution_count": 10,
   "metadata": {},
   "outputs": [],
   "source": [
    "tracks_w_artist_df = new_tracks_df.merge(artists, \n",
    "                                         left_on='Artist',\n",
    "                                         right_on='name')"
   ]
  },
  {
   "cell_type": "code",
   "execution_count": 11,
   "metadata": {},
   "outputs": [
    {
     "data": {
      "text/plain": [
       "651517"
      ]
     },
     "execution_count": 11,
     "metadata": {},
     "output_type": "execute_result"
    }
   ],
   "source": [
    "len(new_tracks_df)"
   ]
  },
  {
   "cell_type": "code",
   "execution_count": 12,
   "metadata": {},
   "outputs": [
    {
     "data": {
      "text/plain": [
       "578062"
      ]
     },
     "execution_count": 12,
     "metadata": {},
     "output_type": "execute_result"
    }
   ],
   "source": [
    "len(tracks_w_artist_df)"
   ]
  },
  {
   "cell_type": "code",
   "execution_count": 13,
   "metadata": {},
   "outputs": [
    {
     "data": {
      "text/html": [
       "<div>\n",
       "<style scoped>\n",
       "    .dataframe tbody tr th:only-of-type {\n",
       "        vertical-align: middle;\n",
       "    }\n",
       "\n",
       "    .dataframe tbody tr th {\n",
       "        vertical-align: top;\n",
       "    }\n",
       "\n",
       "    .dataframe thead th {\n",
       "        text-align: right;\n",
       "    }\n",
       "</style>\n",
       "<table border=\"1\" class=\"dataframe\">\n",
       "  <thead>\n",
       "    <tr style=\"text-align: right;\">\n",
       "      <th></th>\n",
       "      <th>track_id</th>\n",
       "      <th>Song Title</th>\n",
       "      <th>Artist</th>\n",
       "      <th>artist_id</th>\n",
       "      <th>name</th>\n",
       "      <th>popularity</th>\n",
       "      <th>followers</th>\n",
       "    </tr>\n",
       "  </thead>\n",
       "  <tbody>\n",
       "    <tr>\n",
       "      <th>0</th>\n",
       "      <td>0007aPK8VmXN4ycL2OcBFa</td>\n",
       "      <td>Bodhisattva - Live</td>\n",
       "      <td>Toto</td>\n",
       "      <td>0PFtn5NtBbbUNbU9EAmIWF</td>\n",
       "      <td>Toto</td>\n",
       "      <td>76</td>\n",
       "      <td>753405.0</td>\n",
       "    </tr>\n",
       "    <tr>\n",
       "      <th>1</th>\n",
       "      <td>00LEpojkN28l3W4axF8Ish</td>\n",
       "      <td>Don't Chain My Heart - Live</td>\n",
       "      <td>Toto</td>\n",
       "      <td>0PFtn5NtBbbUNbU9EAmIWF</td>\n",
       "      <td>Toto</td>\n",
       "      <td>76</td>\n",
       "      <td>753405.0</td>\n",
       "    </tr>\n",
       "    <tr>\n",
       "      <th>2</th>\n",
       "      <td>03IWDwx4slQdBg4lAt4H0n</td>\n",
       "      <td>Taint Your World (Live)</td>\n",
       "      <td>Toto</td>\n",
       "      <td>0PFtn5NtBbbUNbU9EAmIWF</td>\n",
       "      <td>Toto</td>\n",
       "      <td>76</td>\n",
       "      <td>753405.0</td>\n",
       "    </tr>\n",
       "    <tr>\n",
       "      <th>3</th>\n",
       "      <td>042qp6lOUMoMHVT6R85u8W</td>\n",
       "      <td>Caught In the Balance - Live Version</td>\n",
       "      <td>Toto</td>\n",
       "      <td>0PFtn5NtBbbUNbU9EAmIWF</td>\n",
       "      <td>Toto</td>\n",
       "      <td>76</td>\n",
       "      <td>753405.0</td>\n",
       "    </tr>\n",
       "    <tr>\n",
       "      <th>4</th>\n",
       "      <td>06WhJ0TK0N9fyJFvAMRWEL</td>\n",
       "      <td>Girl Goodbye - Live</td>\n",
       "      <td>Toto</td>\n",
       "      <td>0PFtn5NtBbbUNbU9EAmIWF</td>\n",
       "      <td>Toto</td>\n",
       "      <td>76</td>\n",
       "      <td>753405.0</td>\n",
       "    </tr>\n",
       "  </tbody>\n",
       "</table>\n",
       "</div>"
      ],
      "text/plain": [
       "                 track_id                            Song Title Artist  \\\n",
       "0  0007aPK8VmXN4ycL2OcBFa                    Bodhisattva - Live   Toto   \n",
       "1  00LEpojkN28l3W4axF8Ish           Don't Chain My Heart - Live   Toto   \n",
       "2  03IWDwx4slQdBg4lAt4H0n               Taint Your World (Live)   Toto   \n",
       "3  042qp6lOUMoMHVT6R85u8W  Caught In the Balance - Live Version   Toto   \n",
       "4  06WhJ0TK0N9fyJFvAMRWEL                   Girl Goodbye - Live   Toto   \n",
       "\n",
       "                artist_id  name  popularity  followers  \n",
       "0  0PFtn5NtBbbUNbU9EAmIWF  Toto          76   753405.0  \n",
       "1  0PFtn5NtBbbUNbU9EAmIWF  Toto          76   753405.0  \n",
       "2  0PFtn5NtBbbUNbU9EAmIWF  Toto          76   753405.0  \n",
       "3  0PFtn5NtBbbUNbU9EAmIWF  Toto          76   753405.0  \n",
       "4  0PFtn5NtBbbUNbU9EAmIWF  Toto          76   753405.0  "
      ]
     },
     "execution_count": 13,
     "metadata": {},
     "output_type": "execute_result"
    }
   ],
   "source": [
    "tracks_w_artist_df.head()"
   ]
  },
  {
   "cell_type": "code",
   "execution_count": 14,
   "metadata": {},
   "outputs": [
    {
     "data": {
      "text/plain": [
       "2330"
      ]
     },
     "execution_count": 14,
     "metadata": {},
     "output_type": "execute_result"
    }
   ],
   "source": [
    "tracks_w_artist_df['name'].nunique()"
   ]
  },
  {
   "cell_type": "markdown",
   "metadata": {},
   "source": [
    "#### Looking at Matched Songs"
   ]
  },
  {
   "cell_type": "code",
   "execution_count": 13,
   "metadata": {},
   "outputs": [
    {
     "data": {
      "text/html": [
       "<div>\n",
       "<style scoped>\n",
       "    .dataframe tbody tr th:only-of-type {\n",
       "        vertical-align: middle;\n",
       "    }\n",
       "\n",
       "    .dataframe tbody tr th {\n",
       "        vertical-align: top;\n",
       "    }\n",
       "\n",
       "    .dataframe thead th {\n",
       "        text-align: right;\n",
       "    }\n",
       "</style>\n",
       "<table border=\"1\" class=\"dataframe\">\n",
       "  <thead>\n",
       "    <tr style=\"text-align: right;\">\n",
       "      <th></th>\n",
       "      <th>artist_name</th>\n",
       "      <th>song_id</th>\n",
       "      <th>song_title</th>\n",
       "      <th>CID</th>\n",
       "      <th>PID</th>\n",
       "      <th>Title</th>\n",
       "      <th>Performer Name</th>\n",
       "    </tr>\n",
       "  </thead>\n",
       "  <tbody>\n",
       "    <tr>\n",
       "      <th>0</th>\n",
       "      <td>robyn</td>\n",
       "      <td>6SluaPiV04KOaRTOIScoff</td>\n",
       "      <td>show me love</td>\n",
       "      <td>260151.0</td>\n",
       "      <td>14428.0</td>\n",
       "      <td>show me love</td>\n",
       "      <td>robyn</td>\n",
       "    </tr>\n",
       "    <tr>\n",
       "      <th>3</th>\n",
       "      <td>lukas graham</td>\n",
       "      <td>5kqIPrATaCc2LqxVWzQGbk</td>\n",
       "      <td>7 years</td>\n",
       "      <td>43137.0</td>\n",
       "      <td>53876.0</td>\n",
       "      <td>7 years</td>\n",
       "      <td>lukas graham</td>\n",
       "    </tr>\n",
       "    <tr>\n",
       "      <th>10</th>\n",
       "      <td>the killers</td>\n",
       "      <td>3aVyHFxRkf8lSjhWdJ68AW</td>\n",
       "      <td>just another girl</td>\n",
       "      <td>76427.0</td>\n",
       "      <td>39793.0</td>\n",
       "      <td>just another girl</td>\n",
       "      <td>the killers</td>\n",
       "    </tr>\n",
       "    <tr>\n",
       "      <th>11</th>\n",
       "      <td>tamia</td>\n",
       "      <td>0zIyxS6QxZogHOpGkI6IZH</td>\n",
       "      <td>deeper</td>\n",
       "      <td>8897.0</td>\n",
       "      <td>14338.0</td>\n",
       "      <td>deeper</td>\n",
       "      <td>tamia</td>\n",
       "    </tr>\n",
       "    <tr>\n",
       "      <th>14</th>\n",
       "      <td>kanye west</td>\n",
       "      <td>12D0n7hKpPcjuUpcbAKjjr</td>\n",
       "      <td>dont like.1</td>\n",
       "      <td>68936.0</td>\n",
       "      <td>2118.0</td>\n",
       "      <td>dont like.1</td>\n",
       "      <td>kanye west</td>\n",
       "    </tr>\n",
       "  </tbody>\n",
       "</table>\n",
       "</div>"
      ],
      "text/plain": [
       "     artist_name                 song_id         song_title       CID  \\\n",
       "0          robyn  6SluaPiV04KOaRTOIScoff       show me love  260151.0   \n",
       "3   lukas graham  5kqIPrATaCc2LqxVWzQGbk            7 years   43137.0   \n",
       "10   the killers  3aVyHFxRkf8lSjhWdJ68AW  just another girl   76427.0   \n",
       "11         tamia  0zIyxS6QxZogHOpGkI6IZH             deeper    8897.0   \n",
       "14    kanye west  12D0n7hKpPcjuUpcbAKjjr        dont like.1   68936.0   \n",
       "\n",
       "        PID              Title Performer Name  \n",
       "0   14428.0       show me love          robyn  \n",
       "3   53876.0            7 years   lukas graham  \n",
       "10  39793.0  just another girl    the killers  \n",
       "11  14338.0             deeper          tamia  \n",
       "14   2118.0        dont like.1     kanye west  "
      ]
     },
     "execution_count": 13,
     "metadata": {},
     "output_type": "execute_result"
    }
   ],
   "source": [
    "matched_songs.head()"
   ]
  },
  {
   "cell_type": "code",
   "execution_count": 14,
   "metadata": {},
   "outputs": [
    {
     "data": {
      "text/plain": [
       "159438"
      ]
     },
     "execution_count": 14,
     "metadata": {},
     "output_type": "execute_result"
    }
   ],
   "source": [
    "len(matched_songs)"
   ]
  },
  {
   "cell_type": "markdown",
   "metadata": {},
   "source": [
    "#### Comparing Titles Against Matched Tracks -w- Artist IDs"
   ]
  },
  {
   "cell_type": "code",
   "execution_count": 15,
   "metadata": {},
   "outputs": [],
   "source": [
    "matched_tracks_df = tracks_w_artist_df.merge(matched_songs,\n",
    "                                        left_on='track_id',\n",
    "                                        right_on='song_id')"
   ]
  },
  {
   "cell_type": "code",
   "execution_count": 16,
   "metadata": {},
   "outputs": [
    {
     "name": "stdout",
     "output_type": "stream",
     "text": [
      "<class 'pandas.core.frame.DataFrame'>\n",
      "Int64Index: 160200 entries, 0 to 160199\n",
      "Data columns (total 14 columns):\n",
      "track_id          160200 non-null object\n",
      "Song Title        160200 non-null object\n",
      "Artist            160200 non-null object\n",
      "artist_id         160200 non-null object\n",
      "name              160200 non-null object\n",
      "popularity        160200 non-null int64\n",
      "followers         160200 non-null float64\n",
      "artist_name       160200 non-null object\n",
      "song_id           160200 non-null object\n",
      "song_title        160200 non-null object\n",
      "CID               160200 non-null float64\n",
      "PID               160200 non-null float64\n",
      "Title             160200 non-null object\n",
      "Performer Name    160200 non-null object\n",
      "dtypes: float64(3), int64(1), object(10)\n",
      "memory usage: 18.3+ MB\n"
     ]
    }
   ],
   "source": [
    "matched_tracks_df.info()"
   ]
  },
  {
   "cell_type": "markdown",
   "metadata": {},
   "source": [
    "## 1c. Merging In Composer info to See Remaining Recommendable Songwriters"
   ]
  },
  {
   "cell_type": "code",
   "execution_count": 17,
   "metadata": {},
   "outputs": [],
   "source": [
    "cw_lookup = pd.read_csv('../data/cw_lookup.csv', index_col=0)\n",
    "writers = pd.read_csv('../data/writers.csv', index_col=0)"
   ]
  },
  {
   "cell_type": "code",
   "execution_count": 18,
   "metadata": {},
   "outputs": [
    {
     "data": {
      "text/plain": [
       "Index(['WID', 'Writer Name', 'IPI', 'PRO'], dtype='object')"
      ]
     },
     "execution_count": 18,
     "metadata": {},
     "output_type": "execute_result"
    }
   ],
   "source": [
    "writers.columns"
   ]
  },
  {
   "cell_type": "code",
   "execution_count": 24,
   "metadata": {},
   "outputs": [
    {
     "data": {
      "text/html": [
       "<div>\n",
       "<style scoped>\n",
       "    .dataframe tbody tr th:only-of-type {\n",
       "        vertical-align: middle;\n",
       "    }\n",
       "\n",
       "    .dataframe tbody tr th {\n",
       "        vertical-align: top;\n",
       "    }\n",
       "\n",
       "    .dataframe thead th {\n",
       "        text-align: right;\n",
       "    }\n",
       "</style>\n",
       "<table border=\"1\" class=\"dataframe\">\n",
       "  <thead>\n",
       "    <tr style=\"text-align: right;\">\n",
       "      <th></th>\n",
       "      <th>CID</th>\n",
       "      <th>WID</th>\n",
       "    </tr>\n",
       "  </thead>\n",
       "  <tbody>\n",
       "    <tr>\n",
       "      <th>0</th>\n",
       "      <td>0</td>\n",
       "      <td>1</td>\n",
       "    </tr>\n",
       "    <tr>\n",
       "      <th>1</th>\n",
       "      <td>17640</td>\n",
       "      <td>1</td>\n",
       "    </tr>\n",
       "    <tr>\n",
       "      <th>2</th>\n",
       "      <td>46671</td>\n",
       "      <td>1</td>\n",
       "    </tr>\n",
       "    <tr>\n",
       "      <th>3</th>\n",
       "      <td>130198</td>\n",
       "      <td>1</td>\n",
       "    </tr>\n",
       "    <tr>\n",
       "      <th>4</th>\n",
       "      <td>130201</td>\n",
       "      <td>1</td>\n",
       "    </tr>\n",
       "    <tr>\n",
       "      <th>5</th>\n",
       "      <td>130202</td>\n",
       "      <td>1</td>\n",
       "    </tr>\n",
       "    <tr>\n",
       "      <th>6</th>\n",
       "      <td>130206</td>\n",
       "      <td>1</td>\n",
       "    </tr>\n",
       "    <tr>\n",
       "      <th>7</th>\n",
       "      <td>130211</td>\n",
       "      <td>1</td>\n",
       "    </tr>\n",
       "    <tr>\n",
       "      <th>8</th>\n",
       "      <td>130212</td>\n",
       "      <td>1</td>\n",
       "    </tr>\n",
       "    <tr>\n",
       "      <th>9</th>\n",
       "      <td>276450</td>\n",
       "      <td>1</td>\n",
       "    </tr>\n",
       "  </tbody>\n",
       "</table>\n",
       "</div>"
      ],
      "text/plain": [
       "      CID  WID\n",
       "0       0    1\n",
       "1   17640    1\n",
       "2   46671    1\n",
       "3  130198    1\n",
       "4  130201    1\n",
       "5  130202    1\n",
       "6  130206    1\n",
       "7  130211    1\n",
       "8  130212    1\n",
       "9  276450    1"
      ]
     },
     "execution_count": 24,
     "metadata": {},
     "output_type": "execute_result"
    }
   ],
   "source": [
    "cw_lookup.head(10)"
   ]
  },
  {
   "cell_type": "code",
   "execution_count": 25,
   "metadata": {},
   "outputs": [
    {
     "data": {
      "text/html": [
       "<div>\n",
       "<style scoped>\n",
       "    .dataframe tbody tr th:only-of-type {\n",
       "        vertical-align: middle;\n",
       "    }\n",
       "\n",
       "    .dataframe tbody tr th {\n",
       "        vertical-align: top;\n",
       "    }\n",
       "\n",
       "    .dataframe thead th {\n",
       "        text-align: right;\n",
       "    }\n",
       "</style>\n",
       "<table border=\"1\" class=\"dataframe\">\n",
       "  <thead>\n",
       "    <tr style=\"text-align: right;\">\n",
       "      <th></th>\n",
       "      <th>CID</th>\n",
       "      <th>WID</th>\n",
       "    </tr>\n",
       "  </thead>\n",
       "  <tbody>\n",
       "    <tr>\n",
       "      <th>535</th>\n",
       "      <td>0</td>\n",
       "      <td>8</td>\n",
       "    </tr>\n",
       "    <tr>\n",
       "      <th>536</th>\n",
       "      <td>17640</td>\n",
       "      <td>8</td>\n",
       "    </tr>\n",
       "    <tr>\n",
       "      <th>537</th>\n",
       "      <td>276450</td>\n",
       "      <td>8</td>\n",
       "    </tr>\n",
       "  </tbody>\n",
       "</table>\n",
       "</div>"
      ],
      "text/plain": [
       "        CID  WID\n",
       "535       0    8\n",
       "536   17640    8\n",
       "537  276450    8"
      ]
     },
     "execution_count": 25,
     "metadata": {},
     "output_type": "execute_result"
    }
   ],
   "source": [
    "cw_lookup[cw_lookup['WID']== 8]"
   ]
  },
  {
   "cell_type": "code",
   "execution_count": 26,
   "metadata": {},
   "outputs": [],
   "source": [
    "matched_w_CID = matched_tracks_df.merge(cw_lookup,\n",
    "                                        on='CID')"
   ]
  },
  {
   "cell_type": "code",
   "execution_count": 27,
   "metadata": {},
   "outputs": [],
   "source": [
    "matched_w_writers = matched_w_CID.merge(writers,\n",
    "                                     on='WID')"
   ]
  },
  {
   "cell_type": "code",
   "execution_count": 28,
   "metadata": {},
   "outputs": [
    {
     "data": {
      "text/html": [
       "<div>\n",
       "<style scoped>\n",
       "    .dataframe tbody tr th:only-of-type {\n",
       "        vertical-align: middle;\n",
       "    }\n",
       "\n",
       "    .dataframe tbody tr th {\n",
       "        vertical-align: top;\n",
       "    }\n",
       "\n",
       "    .dataframe thead th {\n",
       "        text-align: right;\n",
       "    }\n",
       "</style>\n",
       "<table border=\"1\" class=\"dataframe\">\n",
       "  <thead>\n",
       "    <tr style=\"text-align: right;\">\n",
       "      <th></th>\n",
       "      <th>track_id</th>\n",
       "      <th>Song Title</th>\n",
       "      <th>Artist</th>\n",
       "      <th>artist_id</th>\n",
       "      <th>name</th>\n",
       "      <th>popularity</th>\n",
       "      <th>followers</th>\n",
       "      <th>artist_name</th>\n",
       "      <th>song_id</th>\n",
       "      <th>song_title</th>\n",
       "      <th>CID</th>\n",
       "      <th>PID</th>\n",
       "      <th>Title</th>\n",
       "      <th>Performer Name</th>\n",
       "      <th>WID</th>\n",
       "      <th>Writer Name</th>\n",
       "      <th>IPI</th>\n",
       "      <th>PRO</th>\n",
       "    </tr>\n",
       "  </thead>\n",
       "  <tbody>\n",
       "    <tr>\n",
       "      <th>0</th>\n",
       "      <td>0007aPK8VmXN4ycL2OcBFa</td>\n",
       "      <td>Bodhisattva - Live</td>\n",
       "      <td>Toto</td>\n",
       "      <td>0PFtn5NtBbbUNbU9EAmIWF</td>\n",
       "      <td>Toto</td>\n",
       "      <td>76</td>\n",
       "      <td>753405.0</td>\n",
       "      <td>toto</td>\n",
       "      <td>0007aPK8VmXN4ycL2OcBFa</td>\n",
       "      <td>bodhisattva</td>\n",
       "      <td>126127.0</td>\n",
       "      <td>6030.0</td>\n",
       "      <td>bodhisattva</td>\n",
       "      <td>toto</td>\n",
       "      <td>7280</td>\n",
       "      <td>BECKER WALTER CARL</td>\n",
       "      <td>89150949</td>\n",
       "      <td>ASCAP</td>\n",
       "    </tr>\n",
       "    <tr>\n",
       "      <th>1</th>\n",
       "      <td>4F6419huGNh7rXB8Kr1rBf</td>\n",
       "      <td>Bodhisattva - Live</td>\n",
       "      <td>Toto</td>\n",
       "      <td>0PFtn5NtBbbUNbU9EAmIWF</td>\n",
       "      <td>Toto</td>\n",
       "      <td>76</td>\n",
       "      <td>753405.0</td>\n",
       "      <td>toto</td>\n",
       "      <td>4F6419huGNh7rXB8Kr1rBf</td>\n",
       "      <td>bodhisattva</td>\n",
       "      <td>126127.0</td>\n",
       "      <td>6030.0</td>\n",
       "      <td>bodhisattva</td>\n",
       "      <td>toto</td>\n",
       "      <td>7280</td>\n",
       "      <td>BECKER WALTER CARL</td>\n",
       "      <td>89150949</td>\n",
       "      <td>ASCAP</td>\n",
       "    </tr>\n",
       "    <tr>\n",
       "      <th>2</th>\n",
       "      <td>6auUOYXyP76l4fiqC86c9E</td>\n",
       "      <td>Bodhisattva - Live</td>\n",
       "      <td>Toto</td>\n",
       "      <td>0PFtn5NtBbbUNbU9EAmIWF</td>\n",
       "      <td>Toto</td>\n",
       "      <td>76</td>\n",
       "      <td>753405.0</td>\n",
       "      <td>toto</td>\n",
       "      <td>6auUOYXyP76l4fiqC86c9E</td>\n",
       "      <td>bodhisattva</td>\n",
       "      <td>126127.0</td>\n",
       "      <td>6030.0</td>\n",
       "      <td>bodhisattva</td>\n",
       "      <td>toto</td>\n",
       "      <td>7280</td>\n",
       "      <td>BECKER WALTER CARL</td>\n",
       "      <td>89150949</td>\n",
       "      <td>ASCAP</td>\n",
       "    </tr>\n",
       "    <tr>\n",
       "      <th>3</th>\n",
       "      <td>10JB78fwqaUrCFZj3XNn6L</td>\n",
       "      <td>Bodhisattva</td>\n",
       "      <td>Steely Dan</td>\n",
       "      <td>6P7H3ai06vU1sGvdpBwDmE</td>\n",
       "      <td>Steely Dan</td>\n",
       "      <td>68</td>\n",
       "      <td>601480.0</td>\n",
       "      <td>steely dan</td>\n",
       "      <td>10JB78fwqaUrCFZj3XNn6L</td>\n",
       "      <td>bodhisattva</td>\n",
       "      <td>126127.0</td>\n",
       "      <td>1699.0</td>\n",
       "      <td>bodhisattva</td>\n",
       "      <td>steely dan</td>\n",
       "      <td>7280</td>\n",
       "      <td>BECKER WALTER CARL</td>\n",
       "      <td>89150949</td>\n",
       "      <td>ASCAP</td>\n",
       "    </tr>\n",
       "    <tr>\n",
       "      <th>4</th>\n",
       "      <td>6cdLlECd80adBM3fgEk9Km</td>\n",
       "      <td>Bodhisattva</td>\n",
       "      <td>Steely Dan</td>\n",
       "      <td>6P7H3ai06vU1sGvdpBwDmE</td>\n",
       "      <td>Steely Dan</td>\n",
       "      <td>68</td>\n",
       "      <td>601480.0</td>\n",
       "      <td>steely dan</td>\n",
       "      <td>6cdLlECd80adBM3fgEk9Km</td>\n",
       "      <td>bodhisattva</td>\n",
       "      <td>126127.0</td>\n",
       "      <td>1699.0</td>\n",
       "      <td>bodhisattva</td>\n",
       "      <td>steely dan</td>\n",
       "      <td>7280</td>\n",
       "      <td>BECKER WALTER CARL</td>\n",
       "      <td>89150949</td>\n",
       "      <td>ASCAP</td>\n",
       "    </tr>\n",
       "  </tbody>\n",
       "</table>\n",
       "</div>"
      ],
      "text/plain": [
       "                 track_id          Song Title      Artist  \\\n",
       "0  0007aPK8VmXN4ycL2OcBFa  Bodhisattva - Live        Toto   \n",
       "1  4F6419huGNh7rXB8Kr1rBf  Bodhisattva - Live        Toto   \n",
       "2  6auUOYXyP76l4fiqC86c9E  Bodhisattva - Live        Toto   \n",
       "3  10JB78fwqaUrCFZj3XNn6L         Bodhisattva  Steely Dan   \n",
       "4  6cdLlECd80adBM3fgEk9Km         Bodhisattva  Steely Dan   \n",
       "\n",
       "                artist_id        name  popularity  followers artist_name  \\\n",
       "0  0PFtn5NtBbbUNbU9EAmIWF        Toto          76   753405.0        toto   \n",
       "1  0PFtn5NtBbbUNbU9EAmIWF        Toto          76   753405.0        toto   \n",
       "2  0PFtn5NtBbbUNbU9EAmIWF        Toto          76   753405.0        toto   \n",
       "3  6P7H3ai06vU1sGvdpBwDmE  Steely Dan          68   601480.0  steely dan   \n",
       "4  6P7H3ai06vU1sGvdpBwDmE  Steely Dan          68   601480.0  steely dan   \n",
       "\n",
       "                  song_id   song_title       CID     PID        Title  \\\n",
       "0  0007aPK8VmXN4ycL2OcBFa  bodhisattva  126127.0  6030.0  bodhisattva   \n",
       "1  4F6419huGNh7rXB8Kr1rBf  bodhisattva  126127.0  6030.0  bodhisattva   \n",
       "2  6auUOYXyP76l4fiqC86c9E  bodhisattva  126127.0  6030.0  bodhisattva   \n",
       "3  10JB78fwqaUrCFZj3XNn6L  bodhisattva  126127.0  1699.0  bodhisattva   \n",
       "4  6cdLlECd80adBM3fgEk9Km  bodhisattva  126127.0  1699.0  bodhisattva   \n",
       "\n",
       "  Performer Name   WID         Writer Name       IPI    PRO  \n",
       "0           toto  7280  BECKER WALTER CARL  89150949  ASCAP  \n",
       "1           toto  7280  BECKER WALTER CARL  89150949  ASCAP  \n",
       "2           toto  7280  BECKER WALTER CARL  89150949  ASCAP  \n",
       "3     steely dan  7280  BECKER WALTER CARL  89150949  ASCAP  \n",
       "4     steely dan  7280  BECKER WALTER CARL  89150949  ASCAP  "
      ]
     },
     "execution_count": 28,
     "metadata": {},
     "output_type": "execute_result"
    }
   ],
   "source": [
    "matched_w_writers.head()"
   ]
  },
  {
   "cell_type": "code",
   "execution_count": 29,
   "metadata": {},
   "outputs": [
    {
     "name": "stdout",
     "output_type": "stream",
     "text": [
      "<class 'pandas.core.frame.DataFrame'>\n",
      "Int64Index: 462965 entries, 0 to 462964\n",
      "Data columns (total 18 columns):\n",
      "track_id          462965 non-null object\n",
      "Song Title        462965 non-null object\n",
      "Artist            462965 non-null object\n",
      "artist_id         462965 non-null object\n",
      "name              462965 non-null object\n",
      "popularity        462965 non-null int64\n",
      "followers         462965 non-null float64\n",
      "artist_name       462965 non-null object\n",
      "song_id           462965 non-null object\n",
      "song_title        462965 non-null object\n",
      "CID               462965 non-null float64\n",
      "PID               462965 non-null float64\n",
      "Title             462965 non-null object\n",
      "Performer Name    462965 non-null object\n",
      "WID               462965 non-null int64\n",
      "Writer Name       462965 non-null object\n",
      "IPI               462965 non-null object\n",
      "PRO               462965 non-null object\n",
      "dtypes: float64(3), int64(2), object(13)\n",
      "memory usage: 67.1+ MB\n"
     ]
    }
   ],
   "source": [
    "matched_w_writers.info()"
   ]
  },
  {
   "cell_type": "code",
   "execution_count": 30,
   "metadata": {},
   "outputs": [
    {
     "data": {
      "text/plain": [
       "24672"
      ]
     },
     "execution_count": 30,
     "metadata": {},
     "output_type": "execute_result"
    }
   ],
   "source": [
    "matched_w_writers['IPI'].nunique()"
   ]
  },
  {
   "cell_type": "code",
   "execution_count": 31,
   "metadata": {},
   "outputs": [
    {
     "data": {
      "text/plain": [
       "(11698,)"
      ]
     },
     "execution_count": 31,
     "metadata": {},
     "output_type": "execute_result"
    }
   ],
   "source": [
    "matched_w_writers['Writer Name'].value_counts()[matched_w_writers['Writer Name'].value_counts() > 4].shape"
   ]
  },
  {
   "cell_type": "code",
   "execution_count": 32,
   "metadata": {},
   "outputs": [],
   "source": [
    "matched_w_writers.to_csv('../data/matched_tracks_w_writers_20190422.csv')"
   ]
  },
  {
   "cell_type": "code",
   "execution_count": 44,
   "metadata": {},
   "outputs": [],
   "source": [
    "matched_deduplicated_titles = matched_w_writers.drop_duplicates(subset=['Song Title', 'Artist', 'artist_name', \n",
    "                                                                        'song_title', 'CID', 'PID', 'Title',\n",
    "                                                                        'Performer Name', 'IPI', 'Writer Name',\n",
    "                                                                        'PRO'])"
   ]
  },
  {
   "cell_type": "markdown",
   "metadata": {},
   "source": [
    "### 1d. Full Number of Recommended IPI's with Deduplicated Titles\n",
    "\n",
    "Need to subtract 1 for the the `-` value. Though, perhaps I could match on same name `if -`."
   ]
  },
  {
   "cell_type": "code",
   "execution_count": 45,
   "metadata": {},
   "outputs": [
    {
     "data": {
      "text/plain": [
       "(8974,)"
      ]
     },
     "execution_count": 45,
     "metadata": {},
     "output_type": "execute_result"
    }
   ],
   "source": [
    "matched_deduplicated_titles['IPI'].value_counts()[matched_deduplicated_titles['IPI'].value_counts() > 4].shape"
   ]
  },
  {
   "cell_type": "markdown",
   "metadata": {},
   "source": [
    "Just looking at the writer names at the top and bottom. There's probably at least 10% aliases here"
   ]
  },
  {
   "cell_type": "code",
   "execution_count": 46,
   "metadata": {},
   "outputs": [
    {
     "data": {
      "text/plain": [
       "24519"
      ]
     },
     "execution_count": 46,
     "metadata": {},
     "output_type": "execute_result"
    }
   ],
   "source": [
    "matched_deduplicated_titles['Writer Name'].nunique()"
   ]
  },
  {
   "cell_type": "code",
   "execution_count": 47,
   "metadata": {},
   "outputs": [],
   "source": [
    "matched_deduplicated_pre_writers = matched_deduplicated_titles.drop(columns=['IPI', 'Writer Name', 'PRO'])"
   ]
  },
  {
   "cell_type": "code",
   "execution_count": 48,
   "metadata": {},
   "outputs": [],
   "source": [
    "matched_deduplicated_writers = matched_deduplicated_pre_writers.drop_duplicates()"
   ]
  },
  {
   "cell_type": "markdown",
   "metadata": {},
   "source": [
    "### 1e. \"Master\" List of Recommendable Songs, Based on Spotify ID"
   ]
  },
  {
   "cell_type": "code",
   "execution_count": 49,
   "metadata": {},
   "outputs": [
    {
     "data": {
      "text/plain": [
       "(107784, 14)"
      ]
     },
     "execution_count": 49,
     "metadata": {},
     "output_type": "execute_result"
    }
   ],
   "source": [
    "matched_deduplicated_writers.shape"
   ]
  },
  {
   "cell_type": "markdown",
   "metadata": {},
   "source": [
    "### 1f. Adding Pitch and Timbre Means / Variances"
   ]
  },
  {
   "cell_type": "code",
   "execution_count": 54,
   "metadata": {},
   "outputs": [
    {
     "data": {
      "text/plain": [
       "['../data/pitch_timbre_means_vars/']"
      ]
     },
     "execution_count": 54,
     "metadata": {},
     "output_type": "execute_result"
    }
   ],
   "source": [
    "glob('../data/pitch_timbre_means_vars/*')"
   ]
  },
  {
   "cell_type": "code",
   "execution_count": 93,
   "metadata": {},
   "outputs": [],
   "source": [
    "with open('../data/pitch_timbre_means_vars/pitch_means_100000.json', 'r') as f:\n",
    "    pm_test = json.load(f)\n",
    "with open('../data/pitch_timbre_means_vars/pitch_var_100000.json', 'r') as f:\n",
    "    pv_test = json.load(f)"
   ]
  },
  {
   "cell_type": "code",
   "execution_count": 94,
   "metadata": {},
   "outputs": [],
   "source": [
    "pitch_test_dict = always_merger.merge(pm_test, pv_test)"
   ]
  },
  {
   "cell_type": "code",
   "execution_count": 78,
   "metadata": {},
   "outputs": [],
   "source": [
    "from functools import reduce"
   ]
  },
  {
   "cell_type": "code",
   "execution_count": 150,
   "metadata": {},
   "outputs": [],
   "source": [
    "def combine_pitch_timbre_files(file_path, output='dict'):\n",
    "    '''\n",
    "    Combines pitch and timbre mean & variance files\n",
    "    into a single dictionary, or dataframe\n",
    "    \n",
    "    file_path : str, location of pitch and timbre files\n",
    "    output : str, default 'dict' (can also pass 'df')\n",
    "             outputs resulting file into either a dict\n",
    "             or dataframe\n",
    "    '''\n",
    "    if not (output == 'dict') | (output == 'df'):\n",
    "        raise ValueError('Output must either be set to dict or df')\n",
    "    \n",
    "    pitch_means_dict = {}\n",
    "    pitch_var_dict = {}\n",
    "    timbre_means_dict = {}\n",
    "    timbre_var_dict = {}\n",
    "    \n",
    "    pitch_timbre_file_list = glob(f'{file_path}/*')\n",
    "\n",
    "    print('Opening Files')\n",
    "    for file_w_file_path in pitch_timbre_file_list:\n",
    "        if 'pitch_var' in file_w_file_path:\n",
    "            if len(pitch_var_dict) > 1:\n",
    "                with open(f'{file_w_file_path}', 'r') as f:\n",
    "                    temp_dict = json.load(f)\n",
    "                    pitch_var_dict.update(temp_dict)\n",
    "            else:\n",
    "                with open(f'{file_w_file_path}', 'r') as f:\n",
    "                    pitch_var_dict = json.load(f)\n",
    "        \n",
    "        elif 'pitch_means' in file_w_file_path:\n",
    "            if len(pitch_means_dict) > 1:\n",
    "                with open(f'{file_w_file_path}', 'r') as f:\n",
    "                    temp_dict = json.load(f)\n",
    "                    pitch_means_dict.update(temp_dict)\n",
    "            else:\n",
    "                with open(f'{file_w_file_path}', 'r') as f:\n",
    "                    pitch_means_dict = json.load(f)\n",
    "        \n",
    "        elif 'timbre_var' in file_w_file_path:\n",
    "            if len(timbre_var_dict) > 1:\n",
    "                with open(f'{file_w_file_path}', 'r') as f:\n",
    "                    temp_dict = json.load(f)\n",
    "                    timbre_var_dict.update(temp_dict)\n",
    "            else:\n",
    "                with open(f'{file_w_file_path}', 'r') as f:\n",
    "                    timbre_var_dict = json.load(f)        \n",
    "        \n",
    "        elif 'timbre_means' in file_w_file_path:\n",
    "            if len(timbre_means_dict) > 1:\n",
    "                with open(f'{file_w_file_path}', 'r') as f:\n",
    "                    temp_dict = json.load(f)\n",
    "                    timbre_means_dict.update(temp_dict)\n",
    "            else:\n",
    "                with open(f'{file_w_file_path}', 'r') as f:\n",
    "                    timbre_means_dict = json.load(f)\n",
    "    \n",
    "    print('Organizing Dictionaries')\n",
    "    for track_id in pitch_means_dict:\n",
    "        pitch_means_dict[track_id] = {\n",
    "            f'pm_{i}' : pitch_means_dict[track_id]['pitch_means'][i] \\\n",
    "            for i in range(len(pitch_means_dict[track_id]['pitch_means']))\n",
    "        }\n",
    "    for track_id in pitch_var_dict:\n",
    "        pitch_var_dict[track_id] = {\n",
    "            f'pv_{i}' : pitch_var_dict[track_id]['pitch_var'][i] \\\n",
    "            for i in range(len(pitch_var_dict[track_id]['pitch_var']))\n",
    "        }\n",
    "    for track_id in timbre_means_dict:\n",
    "        timbre_means_dict[track_id] = {\n",
    "            f'tm_{i}' : timbre_means_dict[track_id]['timbre_means'][i] \\\n",
    "            for i in range(len(timbre_means_dict[track_id]['timbre_means']))\n",
    "        }\n",
    "    for track_id in timbre_var_dict:        \n",
    "        timbre_var_dict[track_id] = {\n",
    "            f'tv_{i}' : timbre_var_dict[track_id]['timbre_var'][i] \\\n",
    "            for i in range(len(timbre_var_dict[track_id]['timbre_var']))\n",
    "        }\n",
    "\n",
    "    print('Merging Files')\n",
    "    \n",
    "    master_dict = reduce(lambda x, y: \\\n",
    "                         always_merger.merge(x, y), \n",
    "                         [pitch_means_dict,\n",
    "                          pitch_var_dict,\n",
    "                          timbre_means_dict,\n",
    "                          timbre_var_dict])\n",
    "    if output == 'dict':\n",
    "        return master_dict\n",
    "    else:\n",
    "        return pd.DataFrame.from_dict(master_dict, \n",
    "                                      orient = 'index')"
   ]
  },
  {
   "cell_type": "code",
   "execution_count": 142,
   "metadata": {},
   "outputs": [
    {
     "name": "stdout",
     "output_type": "stream",
     "text": [
      "Opening Files\n",
      "Organizing Dictionaries\n",
      "Merging Files\n"
     ]
    }
   ],
   "source": [
    "segment_dict = combine_pitch_timbre_files('../data/pitch_timbre_means_vars/')"
   ]
  },
  {
   "cell_type": "code",
   "execution_count": 146,
   "metadata": {},
   "outputs": [],
   "source": [
    "segment_df = pd.DataFrame.from_dict(segment_dict, orient='index')"
   ]
  },
  {
   "cell_type": "code",
   "execution_count": 148,
   "metadata": {},
   "outputs": [],
   "source": [
    "segment_df.to_csv('../data/segment_df_20190413.csv')"
   ]
  },
  {
   "cell_type": "markdown",
   "metadata": {},
   "source": [
    "### 1f. Adding in Genre Information"
   ]
  },
  {
   "cell_type": "code",
   "execution_count": 50,
   "metadata": {},
   "outputs": [
    {
     "data": {
      "text/html": [
       "<div>\n",
       "<style scoped>\n",
       "    .dataframe tbody tr th:only-of-type {\n",
       "        vertical-align: middle;\n",
       "    }\n",
       "\n",
       "    .dataframe tbody tr th {\n",
       "        vertical-align: top;\n",
       "    }\n",
       "\n",
       "    .dataframe thead th {\n",
       "        text-align: right;\n",
       "    }\n",
       "</style>\n",
       "<table border=\"1\" class=\"dataframe\">\n",
       "  <thead>\n",
       "    <tr style=\"text-align: right;\">\n",
       "      <th></th>\n",
       "      <th>genre</th>\n",
       "    </tr>\n",
       "  </thead>\n",
       "  <tbody>\n",
       "    <tr>\n",
       "      <th>0</th>\n",
       "      <td>a cappella</td>\n",
       "    </tr>\n",
       "    <tr>\n",
       "      <th>1</th>\n",
       "      <td>acid house</td>\n",
       "    </tr>\n",
       "    <tr>\n",
       "      <th>2</th>\n",
       "      <td>acid jazz</td>\n",
       "    </tr>\n",
       "    <tr>\n",
       "      <th>3</th>\n",
       "      <td>acoustic blues</td>\n",
       "    </tr>\n",
       "    <tr>\n",
       "      <th>4</th>\n",
       "      <td>acoustic pop</td>\n",
       "    </tr>\n",
       "  </tbody>\n",
       "</table>\n",
       "</div>"
      ],
      "text/plain": [
       "            genre\n",
       "0      a cappella\n",
       "1      acid house\n",
       "2       acid jazz\n",
       "3  acoustic blues\n",
       "4    acoustic pop"
      ]
     },
     "execution_count": 50,
     "metadata": {},
     "output_type": "execute_result"
    }
   ],
   "source": [
    "genres.head()"
   ]
  },
  {
   "cell_type": "markdown",
   "metadata": {},
   "source": [
    "#### 1f1. Creating Genre Song Lookup Table"
   ]
  },
  {
   "cell_type": "code",
   "execution_count": 53,
   "metadata": {},
   "outputs": [],
   "source": [
    "# Should be earlier in the process\n",
    "\n",
    "g_lookup = gs_lookup[['genre_id', 'genre_name', 'artist_id']]"
   ]
  },
  {
   "cell_type": "code",
   "execution_count": 54,
   "metadata": {},
   "outputs": [
    {
     "data": {
      "text/html": [
       "<div>\n",
       "<style scoped>\n",
       "    .dataframe tbody tr th:only-of-type {\n",
       "        vertical-align: middle;\n",
       "    }\n",
       "\n",
       "    .dataframe tbody tr th {\n",
       "        vertical-align: top;\n",
       "    }\n",
       "\n",
       "    .dataframe thead th {\n",
       "        text-align: right;\n",
       "    }\n",
       "</style>\n",
       "<table border=\"1\" class=\"dataframe\">\n",
       "  <thead>\n",
       "    <tr style=\"text-align: right;\">\n",
       "      <th></th>\n",
       "      <th>genre_id</th>\n",
       "      <th>genre_name</th>\n",
       "      <th>artist_id</th>\n",
       "    </tr>\n",
       "    <tr>\n",
       "      <th>gs_id</th>\n",
       "      <th></th>\n",
       "      <th></th>\n",
       "      <th></th>\n",
       "    </tr>\n",
       "  </thead>\n",
       "  <tbody>\n",
       "    <tr>\n",
       "      <th>1</th>\n",
       "      <td>139</td>\n",
       "      <td>dance pop</td>\n",
       "      <td>6UE7nl9mha6s8z0wFQFIZ2</td>\n",
       "    </tr>\n",
       "    <tr>\n",
       "      <th>2</th>\n",
       "      <td>189</td>\n",
       "      <td>electropop</td>\n",
       "      <td>6UE7nl9mha6s8z0wFQFIZ2</td>\n",
       "    </tr>\n",
       "    <tr>\n",
       "      <th>3</th>\n",
       "      <td>196</td>\n",
       "      <td>europop</td>\n",
       "      <td>6UE7nl9mha6s8z0wFQFIZ2</td>\n",
       "    </tr>\n",
       "    <tr>\n",
       "      <th>4</th>\n",
       "      <td>404</td>\n",
       "      <td>pop</td>\n",
       "      <td>6UE7nl9mha6s8z0wFQFIZ2</td>\n",
       "    </tr>\n",
       "    <tr>\n",
       "      <th>5</th>\n",
       "      <td>410</td>\n",
       "      <td>pop rock</td>\n",
       "      <td>6UE7nl9mha6s8z0wFQFIZ2</td>\n",
       "    </tr>\n",
       "  </tbody>\n",
       "</table>\n",
       "</div>"
      ],
      "text/plain": [
       "       genre_id  genre_name               artist_id\n",
       "gs_id                                              \n",
       "1           139   dance pop  6UE7nl9mha6s8z0wFQFIZ2\n",
       "2           189  electropop  6UE7nl9mha6s8z0wFQFIZ2\n",
       "3           196     europop  6UE7nl9mha6s8z0wFQFIZ2\n",
       "4           404         pop  6UE7nl9mha6s8z0wFQFIZ2\n",
       "5           410    pop rock  6UE7nl9mha6s8z0wFQFIZ2"
      ]
     },
     "execution_count": 54,
     "metadata": {},
     "output_type": "execute_result"
    }
   ],
   "source": [
    "g_lookup.head()"
   ]
  },
  {
   "cell_type": "code",
   "execution_count": null,
   "metadata": {},
   "outputs": [],
   "source": [
    "g_lookup."
   ]
  },
  {
   "cell_type": "code",
   "execution_count": 55,
   "metadata": {},
   "outputs": [
    {
     "data": {
      "text/plain": [
       "Index(['track_id', 'Song Title', 'Artist', 'artist_id', 'name', 'popularity',\n",
       "       'followers', 'artist_name', 'song_id', 'song_title', 'CID', 'PID',\n",
       "       'Title', 'Performer Name'],\n",
       "      dtype='object')"
      ]
     },
     "execution_count": 55,
     "metadata": {},
     "output_type": "execute_result"
    }
   ],
   "source": [
    "matched_tracks_df.columns"
   ]
  },
  {
   "cell_type": "code",
   "execution_count": 56,
   "metadata": {},
   "outputs": [],
   "source": [
    "matched_w_genres_temp = matched_tracks_df.merge(g_lookup,\n",
    "                                                on='artist_id')"
   ]
  },
  {
   "cell_type": "code",
   "execution_count": 57,
   "metadata": {},
   "outputs": [
    {
     "data": {
      "text/plain": [
       "(9941474, 16)"
      ]
     },
     "execution_count": 57,
     "metadata": {},
     "output_type": "execute_result"
    }
   ],
   "source": [
    "matched_w_genres_temp.shape"
   ]
  },
  {
   "cell_type": "code",
   "execution_count": 58,
   "metadata": {},
   "outputs": [
    {
     "data": {
      "text/plain": [
       "Index(['track_id', 'Song Title', 'Artist', 'artist_id', 'name', 'popularity',\n",
       "       'followers', 'artist_name', 'song_id', 'song_title', 'CID', 'PID',\n",
       "       'Title', 'Performer Name', 'genre_id', 'genre_name'],\n",
       "      dtype='object')"
      ]
     },
     "execution_count": 58,
     "metadata": {},
     "output_type": "execute_result"
    }
   ],
   "source": [
    "matched_w_genres_temp.columns"
   ]
  },
  {
   "cell_type": "code",
   "execution_count": 59,
   "metadata": {},
   "outputs": [],
   "source": [
    "gs_lookup = matched_w_genres_temp[['track_id', \n",
    "                                   'genre_id']]"
   ]
  },
  {
   "cell_type": "code",
   "execution_count": 61,
   "metadata": {},
   "outputs": [],
   "source": [
    "gs_lookup.to_csv('../data/gsong_lookup_20190412.csv')"
   ]
  },
  {
   "cell_type": "code",
   "execution_count": 125,
   "metadata": {},
   "outputs": [],
   "source": [
    "del matched_w_genres_temp"
   ]
  },
  {
   "cell_type": "code",
   "execution_count": 126,
   "metadata": {},
   "outputs": [
    {
     "data": {
      "text/html": [
       "<div>\n",
       "<style scoped>\n",
       "    .dataframe tbody tr th:only-of-type {\n",
       "        vertical-align: middle;\n",
       "    }\n",
       "\n",
       "    .dataframe tbody tr th {\n",
       "        vertical-align: top;\n",
       "    }\n",
       "\n",
       "    .dataframe thead th {\n",
       "        text-align: right;\n",
       "    }\n",
       "</style>\n",
       "<table border=\"1\" class=\"dataframe\">\n",
       "  <thead>\n",
       "    <tr style=\"text-align: right;\">\n",
       "      <th></th>\n",
       "      <th>track_id</th>\n",
       "      <th>genre_id</th>\n",
       "    </tr>\n",
       "  </thead>\n",
       "  <tbody>\n",
       "    <tr>\n",
       "      <th>0</th>\n",
       "      <td>0007aPK8VmXN4ycL2OcBFa</td>\n",
       "      <td>8</td>\n",
       "    </tr>\n",
       "    <tr>\n",
       "      <th>1</th>\n",
       "      <td>0007aPK8VmXN4ycL2OcBFa</td>\n",
       "      <td>328</td>\n",
       "    </tr>\n",
       "    <tr>\n",
       "      <th>2</th>\n",
       "      <td>0007aPK8VmXN4ycL2OcBFa</td>\n",
       "      <td>448</td>\n",
       "    </tr>\n",
       "    <tr>\n",
       "      <th>3</th>\n",
       "      <td>0007aPK8VmXN4ycL2OcBFa</td>\n",
       "      <td>481</td>\n",
       "    </tr>\n",
       "    <tr>\n",
       "      <th>4</th>\n",
       "      <td>0007aPK8VmXN4ycL2OcBFa</td>\n",
       "      <td>8</td>\n",
       "    </tr>\n",
       "  </tbody>\n",
       "</table>\n",
       "</div>"
      ],
      "text/plain": [
       "                 track_id  genre_id\n",
       "0  0007aPK8VmXN4ycL2OcBFa         8\n",
       "1  0007aPK8VmXN4ycL2OcBFa       328\n",
       "2  0007aPK8VmXN4ycL2OcBFa       448\n",
       "3  0007aPK8VmXN4ycL2OcBFa       481\n",
       "4  0007aPK8VmXN4ycL2OcBFa         8"
      ]
     },
     "execution_count": 126,
     "metadata": {},
     "output_type": "execute_result"
    }
   ],
   "source": [
    "gs_lookup.head()"
   ]
  },
  {
   "cell_type": "markdown",
   "metadata": {},
   "source": [
    "#### 1f2. Creating Genre Dummies"
   ]
  },
  {
   "cell_type": "code",
   "execution_count": 1,
   "metadata": {},
   "outputs": [],
   "source": [
    "import dask\n",
    "import dask.dataframe as dd\n",
    "from dask_ml.preprocessing import DummyEncoder\n",
    "from dask_ml.decomposition import TruncatedSVD\n",
    "from dask.distributed import Client\n",
    "\n",
    "from sklearn.decomposition import TruncatedSVD as skSVD\n",
    "\n",
    "import pandas as pd\n",
    "import numpy as np\n",
    "\n",
    "from library.mk_dataset import *"
   ]
  },
  {
   "cell_type": "code",
   "execution_count": null,
   "metadata": {},
   "outputs": [],
   "source": [
    "# function incorporates all of the below without the compute\n",
    "\n",
    "def create_genre_dummies(fp, library=None):\n",
    "    '''\n",
    "    Creates dummy genre variables for multiple libraries. Default \n",
    "    library is Dask\n",
    "    '''\n",
    "    if client == None:\n",
    "        gs_lookup = dd.read_csv(fp,\n",
    "                               dtype = {\n",
    "                                   'track_id' : str,\n",
    "                                   'genre_id' : 'category'\n",
    "                               })\\\n",
    "                      .rename(columns = {'Unnamed: 0' : 'index'})\\\n",
    "                      .set_index('index')\n",
    "    \n",
    "    gs_lookup.genre_id = gs_lookup.genre_id.cat.as_known()\n",
    "    de = DummyEncoder()\n",
    "    genre_dummies = de.fit_transform(gs_lookup[['genre_id']])\n",
    "    g_dummies = dd.concat([gs_lookup['track_id'],genre_dummies],\n",
    "                axis = 1)\\\n",
    "              .rename(columns = {0: 'track_id'})\\\n",
    "              .groupby('track_id').sum()\n",
    "    \n",
    "      elif client is not None:\n",
    "        pass\n",
    "    #TODO\n",
    "    \n",
    "    return g_dummies\n",
    "    "
   ]
  },
  {
   "cell_type": "code",
   "execution_count": 51,
   "metadata": {},
   "outputs": [],
   "source": [
    "gs_lookup = dd.read_csv('../data/gsong_lookup_20190412.csv',\n",
    "                        dtype = {\n",
    "                            'track_id' : str,\n",
    "                            'genre_id' : 'category',\n",
    "                        })\\\n",
    "              .rename(columns = {'Unnamed: 0' : 'index'})\\\n",
    "              .set_index('index')"
   ]
  },
  {
   "cell_type": "code",
   "execution_count": 52,
   "metadata": {},
   "outputs": [
    {
     "data": {
      "text/html": [
       "<div>\n",
       "<style scoped>\n",
       "    .dataframe tbody tr th:only-of-type {\n",
       "        vertical-align: middle;\n",
       "    }\n",
       "\n",
       "    .dataframe tbody tr th {\n",
       "        vertical-align: top;\n",
       "    }\n",
       "\n",
       "    .dataframe thead th {\n",
       "        text-align: right;\n",
       "    }\n",
       "</style>\n",
       "<table border=\"1\" class=\"dataframe\">\n",
       "  <thead>\n",
       "    <tr style=\"text-align: right;\">\n",
       "      <th></th>\n",
       "      <th>track_id</th>\n",
       "      <th>genre_id</th>\n",
       "    </tr>\n",
       "    <tr>\n",
       "      <th>index</th>\n",
       "      <th></th>\n",
       "      <th></th>\n",
       "    </tr>\n",
       "  </thead>\n",
       "  <tbody>\n",
       "    <tr>\n",
       "      <th>0</th>\n",
       "      <td>0007aPK8VmXN4ycL2OcBFa</td>\n",
       "      <td>8</td>\n",
       "    </tr>\n",
       "    <tr>\n",
       "      <th>1</th>\n",
       "      <td>0007aPK8VmXN4ycL2OcBFa</td>\n",
       "      <td>328</td>\n",
       "    </tr>\n",
       "    <tr>\n",
       "      <th>2</th>\n",
       "      <td>0007aPK8VmXN4ycL2OcBFa</td>\n",
       "      <td>448</td>\n",
       "    </tr>\n",
       "    <tr>\n",
       "      <th>3</th>\n",
       "      <td>0007aPK8VmXN4ycL2OcBFa</td>\n",
       "      <td>481</td>\n",
       "    </tr>\n",
       "    <tr>\n",
       "      <th>4</th>\n",
       "      <td>0007aPK8VmXN4ycL2OcBFa</td>\n",
       "      <td>8</td>\n",
       "    </tr>\n",
       "  </tbody>\n",
       "</table>\n",
       "</div>"
      ],
      "text/plain": [
       "                     track_id genre_id\n",
       "index                                 \n",
       "0      0007aPK8VmXN4ycL2OcBFa        8\n",
       "1      0007aPK8VmXN4ycL2OcBFa      328\n",
       "2      0007aPK8VmXN4ycL2OcBFa      448\n",
       "3      0007aPK8VmXN4ycL2OcBFa      481\n",
       "4      0007aPK8VmXN4ycL2OcBFa        8"
      ]
     },
     "execution_count": 52,
     "metadata": {},
     "output_type": "execute_result"
    }
   ],
   "source": [
    "gs_lookup.head()"
   ]
  },
  {
   "cell_type": "code",
   "execution_count": 53,
   "metadata": {},
   "outputs": [],
   "source": [
    "gs_lookup.genre_id = gs_lookup.genre_id.cat.as_known()"
   ]
  },
  {
   "cell_type": "code",
   "execution_count": 47,
   "metadata": {},
   "outputs": [],
   "source": [
    "gs_lookup = gs_lookup.categorize()"
   ]
  },
  {
   "cell_type": "code",
   "execution_count": 4,
   "metadata": {},
   "outputs": [],
   "source": [
    "gs_lookup_ddf = dd.from_pandas(gs_lookup, 6)"
   ]
  },
  {
   "cell_type": "code",
   "execution_count": 54,
   "metadata": {},
   "outputs": [],
   "source": [
    "de = DummyEncoder()"
   ]
  },
  {
   "cell_type": "code",
   "execution_count": 57,
   "metadata": {},
   "outputs": [],
   "source": [
    "genre_dummies = de.fit_transform(gs_lookup[['genre_id']])"
   ]
  },
  {
   "cell_type": "code",
   "execution_count": 63,
   "metadata": {},
   "outputs": [],
   "source": [
    "g_dummies = dd.concat([\n",
    "    gs_lookup['track_id'],\n",
    "    genre_dummies],\n",
    "                axis = 1)\\\n",
    "              .rename(columns = {0: 'track_id'})\\\n",
    "              .groupby('track_id').sum()"
   ]
  },
  {
   "cell_type": "code",
   "execution_count": null,
   "metadata": {},
   "outputs": [],
   "source": [
    "g_dummies = g_dummies.compute()"
   ]
  },
  {
   "cell_type": "code",
   "execution_count": null,
   "metadata": {},
   "outputs": [],
   "source": [
    "genre_dummies = genre_dummies.groupby('track_id').sum()"
   ]
  },
  {
   "cell_type": "code",
   "execution_count": 2,
   "metadata": {},
   "outputs": [],
   "source": [
    "gs_dummies = dd.read_csv('../data/gs_dummies_20190505.csv')"
   ]
  },
  {
   "cell_type": "code",
   "execution_count": 12,
   "metadata": {},
   "outputs": [],
   "source": [
    "gs_dummies_df = pd.read_csv('../data/gs_dummies_20190505.csv', index_col = 0)"
   ]
  },
  {
   "cell_type": "code",
   "execution_count": 13,
   "metadata": {},
   "outputs": [
    {
     "data": {
      "text/html": [
       "<div>\n",
       "<style scoped>\n",
       "    .dataframe tbody tr th:only-of-type {\n",
       "        vertical-align: middle;\n",
       "    }\n",
       "\n",
       "    .dataframe tbody tr th {\n",
       "        vertical-align: top;\n",
       "    }\n",
       "\n",
       "    .dataframe thead th {\n",
       "        text-align: right;\n",
       "    }\n",
       "</style>\n",
       "<table border=\"1\" class=\"dataframe\">\n",
       "  <thead>\n",
       "    <tr style=\"text-align: right;\">\n",
       "      <th></th>\n",
       "      <th>genre_id_10</th>\n",
       "      <th>genre_id_103</th>\n",
       "      <th>genre_id_106</th>\n",
       "      <th>genre_id_107</th>\n",
       "      <th>genre_id_126</th>\n",
       "      <th>genre_id_128</th>\n",
       "      <th>genre_id_13</th>\n",
       "      <th>genre_id_130</th>\n",
       "      <th>genre_id_131</th>\n",
       "      <th>genre_id_134</th>\n",
       "      <th>...</th>\n",
       "      <th>genre_id_174</th>\n",
       "      <th>genre_id_18</th>\n",
       "      <th>genre_id_188</th>\n",
       "      <th>genre_id_204</th>\n",
       "      <th>genre_id_32</th>\n",
       "      <th>genre_id_338</th>\n",
       "      <th>genre_id_513</th>\n",
       "      <th>genre_id_523</th>\n",
       "      <th>genre_id_544</th>\n",
       "      <th>genre_id_99</th>\n",
       "    </tr>\n",
       "    <tr>\n",
       "      <th>track_id</th>\n",
       "      <th></th>\n",
       "      <th></th>\n",
       "      <th></th>\n",
       "      <th></th>\n",
       "      <th></th>\n",
       "      <th></th>\n",
       "      <th></th>\n",
       "      <th></th>\n",
       "      <th></th>\n",
       "      <th></th>\n",
       "      <th></th>\n",
       "      <th></th>\n",
       "      <th></th>\n",
       "      <th></th>\n",
       "      <th></th>\n",
       "      <th></th>\n",
       "      <th></th>\n",
       "      <th></th>\n",
       "      <th></th>\n",
       "      <th></th>\n",
       "      <th></th>\n",
       "    </tr>\n",
       "  </thead>\n",
       "  <tbody>\n",
       "    <tr>\n",
       "      <th>0007aPK8VmXN4ycL2OcBFa</th>\n",
       "      <td>0</td>\n",
       "      <td>0</td>\n",
       "      <td>0</td>\n",
       "      <td>0</td>\n",
       "      <td>0</td>\n",
       "      <td>0</td>\n",
       "      <td>0</td>\n",
       "      <td>0</td>\n",
       "      <td>0</td>\n",
       "      <td>0</td>\n",
       "      <td>...</td>\n",
       "      <td>0</td>\n",
       "      <td>0</td>\n",
       "      <td>0</td>\n",
       "      <td>0</td>\n",
       "      <td>0</td>\n",
       "      <td>0</td>\n",
       "      <td>0</td>\n",
       "      <td>0</td>\n",
       "      <td>0</td>\n",
       "      <td>0</td>\n",
       "    </tr>\n",
       "    <tr>\n",
       "      <th>000CSIqE1KcjAiZYYWXV18</th>\n",
       "      <td>0</td>\n",
       "      <td>0</td>\n",
       "      <td>0</td>\n",
       "      <td>0</td>\n",
       "      <td>0</td>\n",
       "      <td>0</td>\n",
       "      <td>0</td>\n",
       "      <td>0</td>\n",
       "      <td>0</td>\n",
       "      <td>0</td>\n",
       "      <td>...</td>\n",
       "      <td>0</td>\n",
       "      <td>0</td>\n",
       "      <td>0</td>\n",
       "      <td>0</td>\n",
       "      <td>0</td>\n",
       "      <td>0</td>\n",
       "      <td>0</td>\n",
       "      <td>0</td>\n",
       "      <td>0</td>\n",
       "      <td>0</td>\n",
       "    </tr>\n",
       "    <tr>\n",
       "      <th>000H5JPWBNl28k4fD6svku</th>\n",
       "      <td>0</td>\n",
       "      <td>0</td>\n",
       "      <td>0</td>\n",
       "      <td>0</td>\n",
       "      <td>0</td>\n",
       "      <td>0</td>\n",
       "      <td>0</td>\n",
       "      <td>0</td>\n",
       "      <td>0</td>\n",
       "      <td>0</td>\n",
       "      <td>...</td>\n",
       "      <td>0</td>\n",
       "      <td>0</td>\n",
       "      <td>0</td>\n",
       "      <td>0</td>\n",
       "      <td>0</td>\n",
       "      <td>0</td>\n",
       "      <td>0</td>\n",
       "      <td>0</td>\n",
       "      <td>0</td>\n",
       "      <td>0</td>\n",
       "    </tr>\n",
       "    <tr>\n",
       "      <th>000TkFk31yPsdsbOCdEab0</th>\n",
       "      <td>0</td>\n",
       "      <td>10</td>\n",
       "      <td>0</td>\n",
       "      <td>0</td>\n",
       "      <td>0</td>\n",
       "      <td>0</td>\n",
       "      <td>0</td>\n",
       "      <td>0</td>\n",
       "      <td>0</td>\n",
       "      <td>0</td>\n",
       "      <td>...</td>\n",
       "      <td>0</td>\n",
       "      <td>0</td>\n",
       "      <td>0</td>\n",
       "      <td>0</td>\n",
       "      <td>0</td>\n",
       "      <td>0</td>\n",
       "      <td>0</td>\n",
       "      <td>0</td>\n",
       "      <td>0</td>\n",
       "      <td>0</td>\n",
       "    </tr>\n",
       "    <tr>\n",
       "      <th>000YQKKl6mB5mJ38Rm4q1V</th>\n",
       "      <td>0</td>\n",
       "      <td>0</td>\n",
       "      <td>0</td>\n",
       "      <td>0</td>\n",
       "      <td>0</td>\n",
       "      <td>0</td>\n",
       "      <td>0</td>\n",
       "      <td>0</td>\n",
       "      <td>0</td>\n",
       "      <td>0</td>\n",
       "      <td>...</td>\n",
       "      <td>0</td>\n",
       "      <td>0</td>\n",
       "      <td>0</td>\n",
       "      <td>0</td>\n",
       "      <td>0</td>\n",
       "      <td>0</td>\n",
       "      <td>0</td>\n",
       "      <td>0</td>\n",
       "      <td>0</td>\n",
       "      <td>0</td>\n",
       "    </tr>\n",
       "  </tbody>\n",
       "</table>\n",
       "<p>5 rows × 526 columns</p>\n",
       "</div>"
      ],
      "text/plain": [
       "                        genre_id_10  genre_id_103  genre_id_106  genre_id_107  \\\n",
       "track_id                                                                        \n",
       "0007aPK8VmXN4ycL2OcBFa            0             0             0             0   \n",
       "000CSIqE1KcjAiZYYWXV18            0             0             0             0   \n",
       "000H5JPWBNl28k4fD6svku            0             0             0             0   \n",
       "000TkFk31yPsdsbOCdEab0            0            10             0             0   \n",
       "000YQKKl6mB5mJ38Rm4q1V            0             0             0             0   \n",
       "\n",
       "                        genre_id_126  genre_id_128  genre_id_13  genre_id_130  \\\n",
       "track_id                                                                        \n",
       "0007aPK8VmXN4ycL2OcBFa             0             0            0             0   \n",
       "000CSIqE1KcjAiZYYWXV18             0             0            0             0   \n",
       "000H5JPWBNl28k4fD6svku             0             0            0             0   \n",
       "000TkFk31yPsdsbOCdEab0             0             0            0             0   \n",
       "000YQKKl6mB5mJ38Rm4q1V             0             0            0             0   \n",
       "\n",
       "                        genre_id_131  genre_id_134  ...  genre_id_174  \\\n",
       "track_id                                            ...                 \n",
       "0007aPK8VmXN4ycL2OcBFa             0             0  ...             0   \n",
       "000CSIqE1KcjAiZYYWXV18             0             0  ...             0   \n",
       "000H5JPWBNl28k4fD6svku             0             0  ...             0   \n",
       "000TkFk31yPsdsbOCdEab0             0             0  ...             0   \n",
       "000YQKKl6mB5mJ38Rm4q1V             0             0  ...             0   \n",
       "\n",
       "                        genre_id_18  genre_id_188  genre_id_204  genre_id_32  \\\n",
       "track_id                                                                       \n",
       "0007aPK8VmXN4ycL2OcBFa            0             0             0            0   \n",
       "000CSIqE1KcjAiZYYWXV18            0             0             0            0   \n",
       "000H5JPWBNl28k4fD6svku            0             0             0            0   \n",
       "000TkFk31yPsdsbOCdEab0            0             0             0            0   \n",
       "000YQKKl6mB5mJ38Rm4q1V            0             0             0            0   \n",
       "\n",
       "                        genre_id_338  genre_id_513  genre_id_523  \\\n",
       "track_id                                                           \n",
       "0007aPK8VmXN4ycL2OcBFa             0             0             0   \n",
       "000CSIqE1KcjAiZYYWXV18             0             0             0   \n",
       "000H5JPWBNl28k4fD6svku             0             0             0   \n",
       "000TkFk31yPsdsbOCdEab0             0             0             0   \n",
       "000YQKKl6mB5mJ38Rm4q1V             0             0             0   \n",
       "\n",
       "                        genre_id_544  genre_id_99  \n",
       "track_id                                           \n",
       "0007aPK8VmXN4ycL2OcBFa             0            0  \n",
       "000CSIqE1KcjAiZYYWXV18             0            0  \n",
       "000H5JPWBNl28k4fD6svku             0            0  \n",
       "000TkFk31yPsdsbOCdEab0             0            0  \n",
       "000YQKKl6mB5mJ38Rm4q1V             0            0  \n",
       "\n",
       "[5 rows x 526 columns]"
      ]
     },
     "execution_count": 13,
     "metadata": {},
     "output_type": "execute_result"
    }
   ],
   "source": [
    "gs_dummies_df.head()"
   ]
  },
  {
   "cell_type": "code",
   "execution_count": 14,
   "metadata": {},
   "outputs": [],
   "source": [
    "# genre df currently is all 10's or 0's\n",
    "\n",
    "def mk_10s_1s(df):\n",
    "    df_1s = df.applymap(lambda x: 1 if x > 1 else x)\n",
    "    return df_1s"
   ]
  },
  {
   "cell_type": "code",
   "execution_count": 15,
   "metadata": {},
   "outputs": [],
   "source": [
    "gs_dummies_df = mk_10s_1s(gs_dummies_df)"
   ]
  },
  {
   "cell_type": "markdown",
   "metadata": {},
   "source": [
    "#### 1f3. SVD on Genres"
   ]
  },
  {
   "cell_type": "code",
   "execution_count": 16,
   "metadata": {},
   "outputs": [],
   "source": [
    "def mk_genre_svd_dask(genre_dummies, library=None):\n",
    "    if isinstance(genre_dummies, dask.dataframe.core.DataFrame):\n",
    "        if library == None:\n",
    "            tsvd = TruncatedSVD(50, random_state = 40)\n",
    "            genre_svd = tsvd.fit_transform(genre_dummies)\n",
    "    else:\n",
    "        raise TypeError('genre_dummies should be a Dask DataFrame')\n",
    "    return genre_svd, tsvd\n",
    "\n",
    "def mk_genre_svd(genre_dummies, library=None):\n",
    "    if library == None:\n",
    "            tsvd = skSVD(50, random_state = 40)\n",
    "            genre_svd = tsvd.fit_transform(genre_dummies)\n",
    "    return genre_svd, tsvd"
   ]
  },
  {
   "cell_type": "code",
   "execution_count": 17,
   "metadata": {},
   "outputs": [],
   "source": [
    "svdg, t_svd = mk_genre_svd(gs_dummies_df)"
   ]
  },
  {
   "cell_type": "code",
   "execution_count": 18,
   "metadata": {},
   "outputs": [],
   "source": [
    "svdg.tofile('../data/interim/genres/model_wk_20190516.fid')"
   ]
  },
  {
   "cell_type": "code",
   "execution_count": 21,
   "metadata": {},
   "outputs": [
    {
     "data": {
      "text/plain": [
       "pandas.core.frame.DataFrame"
      ]
     },
     "execution_count": 21,
     "metadata": {},
     "output_type": "execute_result"
    }
   ],
   "source": [
    "type(gs_dummies_df)"
   ]
  },
  {
   "cell_type": "code",
   "execution_count": 21,
   "metadata": {},
   "outputs": [],
   "source": [
    "import matplotlib.pyplot as plt\n",
    "\n",
    "def investigate_svd(svd_object, explained_variance_color='g', cumulative_explained_variance_color='b'):\n",
    "    '''\n",
    "    Retrieves the explained variance ratio, which is\n",
    "    the percentage of variance explained by each of the \n",
    "    selected components, and plots it on a 2d axis.\n",
    "    '''\n",
    "    fig = plt.figure(figsize=(10,7.5))\n",
    "    plt.bar(np.array(range(50))+1, \n",
    "        svd_object.explained_variance_ratio_, \n",
    "        color=explained_variance_color, \n",
    "        label='explained variance')\n",
    "    plt.plot(np.array(range(50))+1, \n",
    "         np.cumsum(svd_object.explained_variance_ratio_), \n",
    "         label='cumulative explained variance',\n",
    "         color=cumulative_explained_variance_color)\n",
    "    plt.legend()\n",
    "    plt.xlabel('component')\n",
    "    plt.ylabel('variance ratio')\n",
    "    return"
   ]
  },
  {
   "cell_type": "code",
   "execution_count": 22,
   "metadata": {},
   "outputs": [
    {
     "data": {
      "image/png": "[encoded data removed]",
      "text/plain": [
       "<Figure size 720x540 with 1 Axes>"
      ]
     },
     "metadata": {
      "needs_background": "light"
     },
     "output_type": "display_data"
    }
   ],
   "source": [
    "investigate_svd(t_svd)"
   ]
  },
  {
   "cell_type": "code",
   "execution_count": 27,
   "metadata": {},
   "outputs": [],
   "source": [
    "def mk_svd_df(svd, original_df):\n",
    "    '''\n",
    "    Creates dataframe with each component of the svd matrix\n",
    "    '''\n",
    "    component_names = ['component_' + str(i +1) for i in range(50)]\n",
    "    svd_df = pd.DataFrame(svd,\n",
    "                          columns = component_names)\n",
    "    svd_df.insert(0, 'track_id', original_df.index)\n",
    "    return svd_df"
   ]
  },
  {
   "cell_type": "code",
   "execution_count": 28,
   "metadata": {},
   "outputs": [],
   "source": [
    "svd_df = mk_svd_df(svdg, gs_dummies_df)"
   ]
  },
  {
   "cell_type": "code",
   "execution_count": 29,
   "metadata": {},
   "outputs": [
    {
     "data": {
      "text/html": [
       "<div>\n",
       "<style scoped>\n",
       "    .dataframe tbody tr th:only-of-type {\n",
       "        vertical-align: middle;\n",
       "    }\n",
       "\n",
       "    .dataframe tbody tr th {\n",
       "        vertical-align: top;\n",
       "    }\n",
       "\n",
       "    .dataframe thead th {\n",
       "        text-align: right;\n",
       "    }\n",
       "</style>\n",
       "<table border=\"1\" class=\"dataframe\">\n",
       "  <thead>\n",
       "    <tr style=\"text-align: right;\">\n",
       "      <th></th>\n",
       "      <th>track_id</th>\n",
       "      <th>component_1</th>\n",
       "      <th>component_2</th>\n",
       "      <th>component_3</th>\n",
       "      <th>component_4</th>\n",
       "      <th>component_5</th>\n",
       "      <th>component_6</th>\n",
       "      <th>component_7</th>\n",
       "      <th>component_8</th>\n",
       "      <th>component_9</th>\n",
       "      <th>...</th>\n",
       "      <th>component_41</th>\n",
       "      <th>component_42</th>\n",
       "      <th>component_43</th>\n",
       "      <th>component_44</th>\n",
       "      <th>component_45</th>\n",
       "      <th>component_46</th>\n",
       "      <th>component_47</th>\n",
       "      <th>component_48</th>\n",
       "      <th>component_49</th>\n",
       "      <th>component_50</th>\n",
       "    </tr>\n",
       "  </thead>\n",
       "  <tbody>\n",
       "    <tr>\n",
       "      <th>0</th>\n",
       "      <td>0007aPK8VmXN4ycL2OcBFa</td>\n",
       "      <td>1.422283</td>\n",
       "      <td>-0.078403</td>\n",
       "      <td>-0.204622</td>\n",
       "      <td>-0.203766</td>\n",
       "      <td>0.262664</td>\n",
       "      <td>0.137028</td>\n",
       "      <td>-0.166195</td>\n",
       "      <td>0.039984</td>\n",
       "      <td>-0.079184</td>\n",
       "      <td>...</td>\n",
       "      <td>0.012890</td>\n",
       "      <td>-0.027874</td>\n",
       "      <td>-0.038939</td>\n",
       "      <td>0.031238</td>\n",
       "      <td>-0.273882</td>\n",
       "      <td>0.154980</td>\n",
       "      <td>-0.238189</td>\n",
       "      <td>0.133918</td>\n",
       "      <td>-0.056329</td>\n",
       "      <td>-0.001362</td>\n",
       "    </tr>\n",
       "    <tr>\n",
       "      <th>1</th>\n",
       "      <td>000CSIqE1KcjAiZYYWXV18</td>\n",
       "      <td>0.002048</td>\n",
       "      <td>0.001316</td>\n",
       "      <td>0.022062</td>\n",
       "      <td>0.009638</td>\n",
       "      <td>0.016747</td>\n",
       "      <td>-0.010332</td>\n",
       "      <td>0.028675</td>\n",
       "      <td>-0.036878</td>\n",
       "      <td>-0.011614</td>\n",
       "      <td>...</td>\n",
       "      <td>-0.003353</td>\n",
       "      <td>0.015048</td>\n",
       "      <td>0.006668</td>\n",
       "      <td>0.001303</td>\n",
       "      <td>-0.018044</td>\n",
       "      <td>0.024690</td>\n",
       "      <td>-0.001461</td>\n",
       "      <td>-0.013804</td>\n",
       "      <td>-0.003732</td>\n",
       "      <td>-0.010343</td>\n",
       "    </tr>\n",
       "    <tr>\n",
       "      <th>2</th>\n",
       "      <td>000H5JPWBNl28k4fD6svku</td>\n",
       "      <td>0.000011</td>\n",
       "      <td>0.000233</td>\n",
       "      <td>0.000536</td>\n",
       "      <td>-0.000628</td>\n",
       "      <td>-0.000371</td>\n",
       "      <td>-0.000650</td>\n",
       "      <td>0.000763</td>\n",
       "      <td>-0.001460</td>\n",
       "      <td>0.001240</td>\n",
       "      <td>...</td>\n",
       "      <td>-0.047707</td>\n",
       "      <td>0.523735</td>\n",
       "      <td>-0.207057</td>\n",
       "      <td>0.023756</td>\n",
       "      <td>0.018094</td>\n",
       "      <td>-0.019937</td>\n",
       "      <td>-0.018246</td>\n",
       "      <td>-0.017195</td>\n",
       "      <td>-0.003347</td>\n",
       "      <td>-0.031629</td>\n",
       "    </tr>\n",
       "    <tr>\n",
       "      <th>3</th>\n",
       "      <td>000TkFk31yPsdsbOCdEab0</td>\n",
       "      <td>1.693563</td>\n",
       "      <td>-0.112210</td>\n",
       "      <td>-0.187653</td>\n",
       "      <td>0.209479</td>\n",
       "      <td>-0.956003</td>\n",
       "      <td>-0.238489</td>\n",
       "      <td>-0.202966</td>\n",
       "      <td>0.106275</td>\n",
       "      <td>0.578090</td>\n",
       "      <td>...</td>\n",
       "      <td>-0.020061</td>\n",
       "      <td>0.062318</td>\n",
       "      <td>0.043778</td>\n",
       "      <td>0.030301</td>\n",
       "      <td>0.039924</td>\n",
       "      <td>-0.163180</td>\n",
       "      <td>0.059095</td>\n",
       "      <td>-0.108232</td>\n",
       "      <td>-0.025465</td>\n",
       "      <td>-0.083377</td>\n",
       "    </tr>\n",
       "    <tr>\n",
       "      <th>4</th>\n",
       "      <td>000YQKKl6mB5mJ38Rm4q1V</td>\n",
       "      <td>0.088215</td>\n",
       "      <td>1.435759</td>\n",
       "      <td>1.000153</td>\n",
       "      <td>-1.218041</td>\n",
       "      <td>-0.653125</td>\n",
       "      <td>0.269090</td>\n",
       "      <td>-0.164071</td>\n",
       "      <td>0.261897</td>\n",
       "      <td>-0.209111</td>\n",
       "      <td>...</td>\n",
       "      <td>0.231586</td>\n",
       "      <td>0.212173</td>\n",
       "      <td>0.001652</td>\n",
       "      <td>0.053305</td>\n",
       "      <td>-0.196519</td>\n",
       "      <td>-0.002801</td>\n",
       "      <td>0.011360</td>\n",
       "      <td>-0.284338</td>\n",
       "      <td>-0.007698</td>\n",
       "      <td>-0.126783</td>\n",
       "    </tr>\n",
       "  </tbody>\n",
       "</table>\n",
       "<p>5 rows × 51 columns</p>\n",
       "</div>"
      ],
      "text/plain": [
       "                 track_id  component_1  component_2  component_3  component_4  \\\n",
       "0  0007aPK8VmXN4ycL2OcBFa     1.422283    -0.078403    -0.204622    -0.203766   \n",
       "1  000CSIqE1KcjAiZYYWXV18     0.002048     0.001316     0.022062     0.009638   \n",
       "2  000H5JPWBNl28k4fD6svku     0.000011     0.000233     0.000536    -0.000628   \n",
       "3  000TkFk31yPsdsbOCdEab0     1.693563    -0.112210    -0.187653     0.209479   \n",
       "4  000YQKKl6mB5mJ38Rm4q1V     0.088215     1.435759     1.000153    -1.218041   \n",
       "\n",
       "   component_5  component_6  component_7  component_8  component_9  ...  \\\n",
       "0     0.262664     0.137028    -0.166195     0.039984    -0.079184  ...   \n",
       "1     0.016747    -0.010332     0.028675    -0.036878    -0.011614  ...   \n",
       "2    -0.000371    -0.000650     0.000763    -0.001460     0.001240  ...   \n",
       "3    -0.956003    -0.238489    -0.202966     0.106275     0.578090  ...   \n",
       "4    -0.653125     0.269090    -0.164071     0.261897    -0.209111  ...   \n",
       "\n",
       "   component_41  component_42  component_43  component_44  component_45  \\\n",
       "0      0.012890     -0.027874     -0.038939      0.031238     -0.273882   \n",
       "1     -0.003353      0.015048      0.006668      0.001303     -0.018044   \n",
       "2     -0.047707      0.523735     -0.207057      0.023756      0.018094   \n",
       "3     -0.020061      0.062318      0.043778      0.030301      0.039924   \n",
       "4      0.231586      0.212173      0.001652      0.053305     -0.196519   \n",
       "\n",
       "   component_46  component_47  component_48  component_49  component_50  \n",
       "0      0.154980     -0.238189      0.133918     -0.056329     -0.001362  \n",
       "1      0.024690     -0.001461     -0.013804     -0.003732     -0.010343  \n",
       "2     -0.019937     -0.018246     -0.017195     -0.003347     -0.031629  \n",
       "3     -0.163180      0.059095     -0.108232     -0.025465     -0.083377  \n",
       "4     -0.002801      0.011360     -0.284338     -0.007698     -0.126783  \n",
       "\n",
       "[5 rows x 51 columns]"
      ]
     },
     "execution_count": 29,
     "metadata": {},
     "output_type": "execute_result"
    }
   ],
   "source": [
    "svd_df.head()"
   ]
  },
  {
   "cell_type": "code",
   "execution_count": 30,
   "metadata": {},
   "outputs": [],
   "source": [
    "svd_df.to_csv('../data/interim/genres/genre_svd_df_20190516.csv')"
   ]
  },
  {
   "cell_type": "markdown",
   "metadata": {},
   "source": [
    "### 1g. Bringing in Song Features"
   ]
  },
  {
   "cell_type": "code",
   "execution_count": 2,
   "metadata": {},
   "outputs": [],
   "source": [
    "from library.song_feat_pull import *"
   ]
  },
  {
   "cell_type": "code",
   "execution_count": 3,
   "metadata": {},
   "outputs": [
    {
     "name": "stdout",
     "output_type": "stream",
     "text": [
      "100 files completed\n",
      "200 files completed\n",
      "300 files completed\n",
      "400 files completed\n",
      "500 files completed\n",
      "600 files completed\n",
      "700 files completed\n",
      "800 files completed\n",
      "900 files completed\n",
      "1000 files completed\n",
      "1100 files completed\n",
      "1200 files completed\n",
      "1300 files completed\n",
      "1400 files completed\n",
      "1500 files completed\n",
      "1600 files completed\n",
      "1700 files completed\n",
      "1800 files completed\n",
      "1900 files completed\n",
      "2000 files completed\n",
      "2100 files completed\n",
      "2200 files completed\n",
      "2300 files completed\n",
      "2400 files completed\n",
      "2500 files completed\n",
      "2600 files completed\n",
      "2700 files completed\n",
      "2800 files completed\n",
      "2900 files completed\n",
      "3000 files completed\n",
      "3100 files completed\n",
      "3200 files completed\n",
      "3300 files completed\n",
      "3400 files completed\n",
      "3500 files completed\n",
      "3600 files completed\n",
      "3700 files completed\n",
      "3800 files completed\n",
      "3900 files completed\n",
      "4000 files completed\n",
      "4100 files completed\n",
      "4200 files completed\n",
      "4300 files completed\n",
      "4400 files completed\n",
      "4500 files completed\n",
      "4600 files completed\n",
      "4700 files completed\n",
      "4800 files completed\n",
      "4900 files completed\n",
      "5000 files completed\n",
      "5100 files completed\n",
      "5200 files completed\n",
      "5300 files completed\n",
      "5400 files completed\n",
      "5500 files completed\n",
      "5600 files completed\n",
      "5700 files completed\n",
      "5800 files completed\n",
      "5900 files completed\n",
      "6000 files completed\n",
      "6100 files completed\n",
      "6200 files completed\n",
      "6300 files completed\n",
      "6400 files completed\n"
     ]
    }
   ],
   "source": [
    "get_song_feats('../data/song_features')"
   ]
  },
  {
   "cell_type": "code",
   "execution_count": 4,
   "metadata": {},
   "outputs": [],
   "source": [
    "import json\n",
    "\n",
    "with open('/home/jovyan/Song_Index/data/interim/song_features/features_05162019.json', 'r') as f:\n",
    "    song_feats_dict = json.load(f)"
   ]
  },
  {
   "cell_type": "code",
   "execution_count": 5,
   "metadata": {},
   "outputs": [
    {
     "data": {
      "text/plain": [
       "651410"
      ]
     },
     "execution_count": 5,
     "metadata": {},
     "output_type": "execute_result"
    }
   ],
   "source": [
    "len(song_feats_dict)"
   ]
  },
  {
   "cell_type": "code",
   "execution_count": 3,
   "metadata": {},
   "outputs": [],
   "source": [
    "mk_song_feats_df('/home/jovyan/Song_Index/data/interim/song_features/features_05162019.json')"
   ]
  },
  {
   "cell_type": "markdown",
   "metadata": {},
   "source": [
    "### 1h. One-Hot Encoding Additional Features"
   ]
  },
  {
   "cell_type": "code",
   "execution_count": 7,
   "metadata": {},
   "outputs": [],
   "source": [
    "def one_hot_encode_feats(ddf, column_names):\n",
    "    '''\n",
    "    Creates one-hot encoded features for specified columns in subset\n",
    "    of dask dataframe\n",
    "    '''\n",
    "    if isinstance(ddf, pd.core.frame.DataFrame):\n",
    "        ddf = dd.from_pandas(ddf)\n",
    "    \n",
    "    ddf = ddf.categorize(columns = column_names)\n",
    "    de = DummyEncoder(columns = column_names)\n",
    "    \n",
    "    print('forcing categorical values')\n",
    "    dummies = de.fit_transform(ddf[column_names])\n",
    "    \n",
    "    print('merging dummies back into other features')\n",
    "    ddf = ddf.drop(column_names, 1)\\\n",
    "    .merge(dummies)\n",
    "    \n",
    "    return ddf"
   ]
  },
  {
   "cell_type": "code",
   "execution_count": 8,
   "metadata": {},
   "outputs": [],
   "source": [
    "song_features_ddf = dd.read_csv('../data/interim/song_features_16052019.csv')\\\n",
    "                        .rename(columns = {'Unnamed: 0' : 'track_id'})"
   ]
  },
  {
   "cell_type": "code",
   "execution_count": 38,
   "metadata": {},
   "outputs": [
    {
     "data": {
      "text/html": [
       "<div>\n",
       "<style scoped>\n",
       "    .dataframe tbody tr th:only-of-type {\n",
       "        vertical-align: middle;\n",
       "    }\n",
       "\n",
       "    .dataframe tbody tr th {\n",
       "        vertical-align: top;\n",
       "    }\n",
       "\n",
       "    .dataframe thead th {\n",
       "        text-align: right;\n",
       "    }\n",
       "</style>\n",
       "<table border=\"1\" class=\"dataframe\">\n",
       "  <thead>\n",
       "    <tr style=\"text-align: right;\">\n",
       "      <th></th>\n",
       "      <th>track_id</th>\n",
       "      <th>acousticness</th>\n",
       "      <th>danceability</th>\n",
       "      <th>duration_ms</th>\n",
       "      <th>energy</th>\n",
       "      <th>instrumentalness</th>\n",
       "      <th>key</th>\n",
       "      <th>liveness</th>\n",
       "      <th>loudness</th>\n",
       "      <th>mode</th>\n",
       "      <th>speechiness</th>\n",
       "      <th>tempo</th>\n",
       "      <th>time_signature</th>\n",
       "      <th>valence</th>\n",
       "    </tr>\n",
       "  </thead>\n",
       "  <tbody>\n",
       "    <tr>\n",
       "      <th>0</th>\n",
       "      <td>3D5RGnxLPnXd80HWwdZUEL</td>\n",
       "      <td>0.0514</td>\n",
       "      <td>0.822</td>\n",
       "      <td>281797</td>\n",
       "      <td>0.567</td>\n",
       "      <td>0.000238</td>\n",
       "      <td>7</td>\n",
       "      <td>0.1280</td>\n",
       "      <td>-7.187</td>\n",
       "      <td>0</td>\n",
       "      <td>0.0376</td>\n",
       "      <td>151.991</td>\n",
       "      <td>3</td>\n",
       "      <td>0.690</td>\n",
       "    </tr>\n",
       "    <tr>\n",
       "      <th>1</th>\n",
       "      <td>4vUdO81Qm3aHE4Ue4qeLRA</td>\n",
       "      <td>0.1990</td>\n",
       "      <td>0.610</td>\n",
       "      <td>228800</td>\n",
       "      <td>0.687</td>\n",
       "      <td>0.000020</td>\n",
       "      <td>11</td>\n",
       "      <td>0.0785</td>\n",
       "      <td>-6.216</td>\n",
       "      <td>1</td>\n",
       "      <td>0.0388</td>\n",
       "      <td>123.044</td>\n",
       "      <td>4</td>\n",
       "      <td>0.399</td>\n",
       "    </tr>\n",
       "    <tr>\n",
       "      <th>2</th>\n",
       "      <td>2TdKU9OC5l2gCzpXi6N24k</td>\n",
       "      <td>0.0512</td>\n",
       "      <td>0.606</td>\n",
       "      <td>196800</td>\n",
       "      <td>0.808</td>\n",
       "      <td>0.000000</td>\n",
       "      <td>0</td>\n",
       "      <td>0.2320</td>\n",
       "      <td>-7.302</td>\n",
       "      <td>0</td>\n",
       "      <td>0.0896</td>\n",
       "      <td>169.807</td>\n",
       "      <td>4</td>\n",
       "      <td>0.741</td>\n",
       "    </tr>\n",
       "    <tr>\n",
       "      <th>3</th>\n",
       "      <td>7aw1PxKsmSMYYkb5EtXFEW</td>\n",
       "      <td>0.0036</td>\n",
       "      <td>0.845</td>\n",
       "      <td>239999</td>\n",
       "      <td>0.726</td>\n",
       "      <td>0.000000</td>\n",
       "      <td>1</td>\n",
       "      <td>0.2280</td>\n",
       "      <td>-8.840</td>\n",
       "      <td>0</td>\n",
       "      <td>0.1730</td>\n",
       "      <td>142.837</td>\n",
       "      <td>4</td>\n",
       "      <td>0.885</td>\n",
       "    </tr>\n",
       "    <tr>\n",
       "      <th>4</th>\n",
       "      <td>2MzaSLi8iFWQQ7fBE3rvDe</td>\n",
       "      <td>0.8340</td>\n",
       "      <td>0.124</td>\n",
       "      <td>121373</td>\n",
       "      <td>0.691</td>\n",
       "      <td>0.193000</td>\n",
       "      <td>9</td>\n",
       "      <td>0.9640</td>\n",
       "      <td>-7.610</td>\n",
       "      <td>0</td>\n",
       "      <td>0.0483</td>\n",
       "      <td>97.395</td>\n",
       "      <td>4</td>\n",
       "      <td>0.151</td>\n",
       "    </tr>\n",
       "  </tbody>\n",
       "</table>\n",
       "</div>"
      ],
      "text/plain": [
       "                 track_id  acousticness  danceability  duration_ms  energy  \\\n",
       "0  3D5RGnxLPnXd80HWwdZUEL        0.0514         0.822       281797   0.567   \n",
       "1  4vUdO81Qm3aHE4Ue4qeLRA        0.1990         0.610       228800   0.687   \n",
       "2  2TdKU9OC5l2gCzpXi6N24k        0.0512         0.606       196800   0.808   \n",
       "3  7aw1PxKsmSMYYkb5EtXFEW        0.0036         0.845       239999   0.726   \n",
       "4  2MzaSLi8iFWQQ7fBE3rvDe        0.8340         0.124       121373   0.691   \n",
       "\n",
       "   instrumentalness  key  liveness  loudness  mode  speechiness    tempo  \\\n",
       "0          0.000238    7    0.1280    -7.187     0       0.0376  151.991   \n",
       "1          0.000020   11    0.0785    -6.216     1       0.0388  123.044   \n",
       "2          0.000000    0    0.2320    -7.302     0       0.0896  169.807   \n",
       "3          0.000000    1    0.2280    -8.840     0       0.1730  142.837   \n",
       "4          0.193000    9    0.9640    -7.610     0       0.0483   97.395   \n",
       "\n",
       "   time_signature  valence  \n",
       "0               3    0.690  \n",
       "1               4    0.399  \n",
       "2               4    0.741  \n",
       "3               4    0.885  \n",
       "4               4    0.151  "
      ]
     },
     "execution_count": 38,
     "metadata": {},
     "output_type": "execute_result"
    }
   ],
   "source": [
    "song_features_ddf.head()"
   ]
  },
  {
   "cell_type": "code",
   "execution_count": 9,
   "metadata": {},
   "outputs": [
    {
     "name": "stdout",
     "output_type": "stream",
     "text": [
      "forcing categorical values\n",
      "merging dummies back into other features\n"
     ]
    }
   ],
   "source": [
    "song_features_ddf = one_hot_encode_feats(song_features_ddf, ['key', 'time_signature'])"
   ]
  },
  {
   "cell_type": "code",
   "execution_count": 10,
   "metadata": {},
   "outputs": [
    {
     "data": {
      "text/plain": [
       "Index(['track_id', 'acousticness', 'danceability', 'duration_ms', 'energy',\n",
       "       'instrumentalness', 'liveness', 'loudness', 'mode', 'speechiness',\n",
       "       'tempo', 'valence', 'key_7', 'key_6', 'key_8', 'key_9', 'key_2',\n",
       "       'key_5', 'key_10', 'key_0', 'key_11', 'key_4', 'key_1', 'key_3',\n",
       "       'time_signature_3', 'time_signature_4', 'time_signature_5',\n",
       "       'time_signature_1', 'time_signature_0'],\n",
       "      dtype='object')"
      ]
     },
     "execution_count": 10,
     "metadata": {},
     "output_type": "execute_result"
    }
   ],
   "source": [
    "song_features_ddf.columns"
   ]
  },
  {
   "cell_type": "code",
   "execution_count": 11,
   "metadata": {},
   "outputs": [],
   "source": [
    "song_features_df = song_features_ddf.compute()"
   ]
  },
  {
   "cell_type": "code",
   "execution_count": 12,
   "metadata": {},
   "outputs": [],
   "source": [
    "song_features_df.to_csv('../data/interim/song_features/song_features_encoded_20190516.csv')"
   ]
  },
  {
   "cell_type": "code",
   "execution_count": 44,
   "metadata": {},
   "outputs": [
    {
     "data": {
      "text/plain": [
       "pandas.core.frame.DataFrame"
      ]
     },
     "execution_count": 44,
     "metadata": {},
     "output_type": "execute_result"
    }
   ],
   "source": [
    "type(song_features_df)"
   ]
  },
  {
   "cell_type": "markdown",
   "metadata": {},
   "source": [
    "### 1i. Combining Dataset "
   ]
  },
  {
   "cell_type": "code",
   "execution_count": 11,
   "metadata": {},
   "outputs": [
    {
     "data": {
      "text/html": [
       "<div>\n",
       "<style scoped>\n",
       "    .dataframe tbody tr th:only-of-type {\n",
       "        vertical-align: middle;\n",
       "    }\n",
       "\n",
       "    .dataframe tbody tr th {\n",
       "        vertical-align: top;\n",
       "    }\n",
       "\n",
       "    .dataframe thead th {\n",
       "        text-align: right;\n",
       "    }\n",
       "</style>\n",
       "<table border=\"1\" class=\"dataframe\">\n",
       "  <thead>\n",
       "    <tr style=\"text-align: right;\">\n",
       "      <th></th>\n",
       "      <th>Unnamed: 0</th>\n",
       "      <th>track_id</th>\n",
       "      <th>pm_0</th>\n",
       "      <th>pm_1</th>\n",
       "      <th>pm_2</th>\n",
       "      <th>pm_3</th>\n",
       "      <th>pm_4</th>\n",
       "      <th>pm_5</th>\n",
       "      <th>pm_6</th>\n",
       "      <th>pm_7</th>\n",
       "      <th>...</th>\n",
       "      <th>tv_2</th>\n",
       "      <th>tv_3</th>\n",
       "      <th>tv_4</th>\n",
       "      <th>tv_5</th>\n",
       "      <th>tv_6</th>\n",
       "      <th>tv_7</th>\n",
       "      <th>tv_8</th>\n",
       "      <th>tv_9</th>\n",
       "      <th>tv_10</th>\n",
       "      <th>tv_11</th>\n",
       "    </tr>\n",
       "  </thead>\n",
       "  <tbody>\n",
       "    <tr>\n",
       "      <th>0</th>\n",
       "      <td>0</td>\n",
       "      <td>0007aPK8VmXN4ycL2OcBFa</td>\n",
       "      <td>0.514743</td>\n",
       "      <td>0.527414</td>\n",
       "      <td>0.490981</td>\n",
       "      <td>0.425309</td>\n",
       "      <td>0.489327</td>\n",
       "      <td>0.589119</td>\n",
       "      <td>0.459107</td>\n",
       "      <td>0.573878</td>\n",
       "      <td>...</td>\n",
       "      <td>1268.630838</td>\n",
       "      <td>656.186601</td>\n",
       "      <td>500.566239</td>\n",
       "      <td>536.456377</td>\n",
       "      <td>338.651487</td>\n",
       "      <td>174.695619</td>\n",
       "      <td>142.277493</td>\n",
       "      <td>138.032933</td>\n",
       "      <td>138.648659</td>\n",
       "      <td>135.472111</td>\n",
       "    </tr>\n",
       "    <tr>\n",
       "      <th>1</th>\n",
       "      <td>1</td>\n",
       "      <td>0008G8TW7eiVfwlRRsKlgW</td>\n",
       "      <td>0.309991</td>\n",
       "      <td>0.484581</td>\n",
       "      <td>0.166534</td>\n",
       "      <td>0.313087</td>\n",
       "      <td>0.167928</td>\n",
       "      <td>0.298984</td>\n",
       "      <td>0.306283</td>\n",
       "      <td>0.200908</td>\n",
       "      <td>...</td>\n",
       "      <td>1341.667694</td>\n",
       "      <td>974.575508</td>\n",
       "      <td>742.233070</td>\n",
       "      <td>378.294065</td>\n",
       "      <td>481.482576</td>\n",
       "      <td>277.078079</td>\n",
       "      <td>234.939623</td>\n",
       "      <td>221.397784</td>\n",
       "      <td>163.120339</td>\n",
       "      <td>265.294679</td>\n",
       "    </tr>\n",
       "    <tr>\n",
       "      <th>2</th>\n",
       "      <td>2</td>\n",
       "      <td>000BqzNd7gRYnK6umzTNZX</td>\n",
       "      <td>0.500833</td>\n",
       "      <td>0.538402</td>\n",
       "      <td>0.415921</td>\n",
       "      <td>0.403829</td>\n",
       "      <td>0.429524</td>\n",
       "      <td>0.301693</td>\n",
       "      <td>0.406960</td>\n",
       "      <td>0.356274</td>\n",
       "      <td>...</td>\n",
       "      <td>954.964606</td>\n",
       "      <td>1298.020425</td>\n",
       "      <td>604.104299</td>\n",
       "      <td>543.491840</td>\n",
       "      <td>460.702894</td>\n",
       "      <td>377.717478</td>\n",
       "      <td>123.443280</td>\n",
       "      <td>195.896173</td>\n",
       "      <td>169.778158</td>\n",
       "      <td>166.866359</td>\n",
       "    </tr>\n",
       "    <tr>\n",
       "      <th>3</th>\n",
       "      <td>3</td>\n",
       "      <td>000CSIqE1KcjAiZYYWXV18</td>\n",
       "      <td>0.420954</td>\n",
       "      <td>0.366707</td>\n",
       "      <td>0.457164</td>\n",
       "      <td>0.247320</td>\n",
       "      <td>0.357645</td>\n",
       "      <td>0.322342</td>\n",
       "      <td>0.323946</td>\n",
       "      <td>0.448164</td>\n",
       "      <td>...</td>\n",
       "      <td>1229.086105</td>\n",
       "      <td>1085.556691</td>\n",
       "      <td>511.778510</td>\n",
       "      <td>594.257976</td>\n",
       "      <td>277.330428</td>\n",
       "      <td>315.120957</td>\n",
       "      <td>267.671151</td>\n",
       "      <td>218.838587</td>\n",
       "      <td>176.195824</td>\n",
       "      <td>153.689841</td>\n",
       "    </tr>\n",
       "    <tr>\n",
       "      <th>4</th>\n",
       "      <td>4</td>\n",
       "      <td>000G1xMMuwxNHmwVsBdtj1</td>\n",
       "      <td>0.583816</td>\n",
       "      <td>0.527922</td>\n",
       "      <td>0.404993</td>\n",
       "      <td>0.425852</td>\n",
       "      <td>0.503034</td>\n",
       "      <td>0.336589</td>\n",
       "      <td>0.252259</td>\n",
       "      <td>0.327019</td>\n",
       "      <td>...</td>\n",
       "      <td>1729.689733</td>\n",
       "      <td>891.060505</td>\n",
       "      <td>392.514422</td>\n",
       "      <td>463.464531</td>\n",
       "      <td>493.520635</td>\n",
       "      <td>234.180976</td>\n",
       "      <td>198.796685</td>\n",
       "      <td>166.093593</td>\n",
       "      <td>150.744838</td>\n",
       "      <td>233.585150</td>\n",
       "    </tr>\n",
       "  </tbody>\n",
       "</table>\n",
       "<p>5 rows × 50 columns</p>\n",
       "</div>"
      ],
      "text/plain": [
       "   Unnamed: 0                track_id      pm_0      pm_1      pm_2      pm_3  \\\n",
       "0           0  0007aPK8VmXN4ycL2OcBFa  0.514743  0.527414  0.490981  0.425309   \n",
       "1           1  0008G8TW7eiVfwlRRsKlgW  0.309991  0.484581  0.166534  0.313087   \n",
       "2           2  000BqzNd7gRYnK6umzTNZX  0.500833  0.538402  0.415921  0.403829   \n",
       "3           3  000CSIqE1KcjAiZYYWXV18  0.420954  0.366707  0.457164  0.247320   \n",
       "4           4  000G1xMMuwxNHmwVsBdtj1  0.583816  0.527922  0.404993  0.425852   \n",
       "\n",
       "       pm_4      pm_5      pm_6      pm_7  ...         tv_2         tv_3  \\\n",
       "0  0.489327  0.589119  0.459107  0.573878  ...  1268.630838   656.186601   \n",
       "1  0.167928  0.298984  0.306283  0.200908  ...  1341.667694   974.575508   \n",
       "2  0.429524  0.301693  0.406960  0.356274  ...   954.964606  1298.020425   \n",
       "3  0.357645  0.322342  0.323946  0.448164  ...  1229.086105  1085.556691   \n",
       "4  0.503034  0.336589  0.252259  0.327019  ...  1729.689733   891.060505   \n",
       "\n",
       "         tv_4        tv_5        tv_6        tv_7        tv_8        tv_9  \\\n",
       "0  500.566239  536.456377  338.651487  174.695619  142.277493  138.032933   \n",
       "1  742.233070  378.294065  481.482576  277.078079  234.939623  221.397784   \n",
       "2  604.104299  543.491840  460.702894  377.717478  123.443280  195.896173   \n",
       "3  511.778510  594.257976  277.330428  315.120957  267.671151  218.838587   \n",
       "4  392.514422  463.464531  493.520635  234.180976  198.796685  166.093593   \n",
       "\n",
       "        tv_10       tv_11  \n",
       "0  138.648659  135.472111  \n",
       "1  163.120339  265.294679  \n",
       "2  169.778158  166.866359  \n",
       "3  176.195824  153.689841  \n",
       "4  150.744838  233.585150  \n",
       "\n",
       "[5 rows x 50 columns]"
      ]
     },
     "execution_count": 11,
     "metadata": {},
     "output_type": "execute_result"
    }
   ],
   "source": [
    "segment_df = pd.read_csv('../data/segment_df_20190516.csv')\n",
    "segment_df.head()"
   ]
  },
  {
   "cell_type": "code",
   "execution_count": 12,
   "metadata": {},
   "outputs": [
    {
     "data": {
      "text/html": [
       "<div>\n",
       "<style scoped>\n",
       "    .dataframe tbody tr th:only-of-type {\n",
       "        vertical-align: middle;\n",
       "    }\n",
       "\n",
       "    .dataframe tbody tr th {\n",
       "        vertical-align: top;\n",
       "    }\n",
       "\n",
       "    .dataframe thead th {\n",
       "        text-align: right;\n",
       "    }\n",
       "</style>\n",
       "<table border=\"1\" class=\"dataframe\">\n",
       "  <thead>\n",
       "    <tr style=\"text-align: right;\">\n",
       "      <th></th>\n",
       "      <th>Unnamed: 0</th>\n",
       "      <th>track_id</th>\n",
       "      <th>Song Title</th>\n",
       "      <th>Artist</th>\n",
       "      <th>artist_id</th>\n",
       "      <th>name</th>\n",
       "      <th>popularity</th>\n",
       "      <th>followers</th>\n",
       "      <th>artist_name</th>\n",
       "      <th>song_id</th>\n",
       "      <th>song_title</th>\n",
       "      <th>CID</th>\n",
       "      <th>PID</th>\n",
       "      <th>Title</th>\n",
       "      <th>Performer Name</th>\n",
       "      <th>WID</th>\n",
       "      <th>Writer Name</th>\n",
       "      <th>IPI</th>\n",
       "      <th>PRO</th>\n",
       "    </tr>\n",
       "  </thead>\n",
       "  <tbody>\n",
       "    <tr>\n",
       "      <th>0</th>\n",
       "      <td>0</td>\n",
       "      <td>0007aPK8VmXN4ycL2OcBFa</td>\n",
       "      <td>Bodhisattva - Live</td>\n",
       "      <td>Toto</td>\n",
       "      <td>0PFtn5NtBbbUNbU9EAmIWF</td>\n",
       "      <td>Toto</td>\n",
       "      <td>76</td>\n",
       "      <td>753405.0</td>\n",
       "      <td>toto</td>\n",
       "      <td>0007aPK8VmXN4ycL2OcBFa</td>\n",
       "      <td>bodhisattva</td>\n",
       "      <td>126127.0</td>\n",
       "      <td>6030.0</td>\n",
       "      <td>bodhisattva</td>\n",
       "      <td>toto</td>\n",
       "      <td>7280</td>\n",
       "      <td>BECKER WALTER CARL</td>\n",
       "      <td>89150949.0</td>\n",
       "      <td>ASCAP</td>\n",
       "    </tr>\n",
       "    <tr>\n",
       "      <th>1</th>\n",
       "      <td>1</td>\n",
       "      <td>4F6419huGNh7rXB8Kr1rBf</td>\n",
       "      <td>Bodhisattva - Live</td>\n",
       "      <td>Toto</td>\n",
       "      <td>0PFtn5NtBbbUNbU9EAmIWF</td>\n",
       "      <td>Toto</td>\n",
       "      <td>76</td>\n",
       "      <td>753405.0</td>\n",
       "      <td>toto</td>\n",
       "      <td>4F6419huGNh7rXB8Kr1rBf</td>\n",
       "      <td>bodhisattva</td>\n",
       "      <td>126127.0</td>\n",
       "      <td>6030.0</td>\n",
       "      <td>bodhisattva</td>\n",
       "      <td>toto</td>\n",
       "      <td>7280</td>\n",
       "      <td>BECKER WALTER CARL</td>\n",
       "      <td>89150949.0</td>\n",
       "      <td>ASCAP</td>\n",
       "    </tr>\n",
       "    <tr>\n",
       "      <th>2</th>\n",
       "      <td>2</td>\n",
       "      <td>6auUOYXyP76l4fiqC86c9E</td>\n",
       "      <td>Bodhisattva - Live</td>\n",
       "      <td>Toto</td>\n",
       "      <td>0PFtn5NtBbbUNbU9EAmIWF</td>\n",
       "      <td>Toto</td>\n",
       "      <td>76</td>\n",
       "      <td>753405.0</td>\n",
       "      <td>toto</td>\n",
       "      <td>6auUOYXyP76l4fiqC86c9E</td>\n",
       "      <td>bodhisattva</td>\n",
       "      <td>126127.0</td>\n",
       "      <td>6030.0</td>\n",
       "      <td>bodhisattva</td>\n",
       "      <td>toto</td>\n",
       "      <td>7280</td>\n",
       "      <td>BECKER WALTER CARL</td>\n",
       "      <td>89150949.0</td>\n",
       "      <td>ASCAP</td>\n",
       "    </tr>\n",
       "    <tr>\n",
       "      <th>3</th>\n",
       "      <td>3</td>\n",
       "      <td>10JB78fwqaUrCFZj3XNn6L</td>\n",
       "      <td>Bodhisattva</td>\n",
       "      <td>Steely Dan</td>\n",
       "      <td>6P7H3ai06vU1sGvdpBwDmE</td>\n",
       "      <td>Steely Dan</td>\n",
       "      <td>68</td>\n",
       "      <td>601480.0</td>\n",
       "      <td>steely dan</td>\n",
       "      <td>10JB78fwqaUrCFZj3XNn6L</td>\n",
       "      <td>bodhisattva</td>\n",
       "      <td>126127.0</td>\n",
       "      <td>1699.0</td>\n",
       "      <td>bodhisattva</td>\n",
       "      <td>steely dan</td>\n",
       "      <td>7280</td>\n",
       "      <td>BECKER WALTER CARL</td>\n",
       "      <td>89150949.0</td>\n",
       "      <td>ASCAP</td>\n",
       "    </tr>\n",
       "    <tr>\n",
       "      <th>4</th>\n",
       "      <td>4</td>\n",
       "      <td>6cdLlECd80adBM3fgEk9Km</td>\n",
       "      <td>Bodhisattva</td>\n",
       "      <td>Steely Dan</td>\n",
       "      <td>6P7H3ai06vU1sGvdpBwDmE</td>\n",
       "      <td>Steely Dan</td>\n",
       "      <td>68</td>\n",
       "      <td>601480.0</td>\n",
       "      <td>steely dan</td>\n",
       "      <td>6cdLlECd80adBM3fgEk9Km</td>\n",
       "      <td>bodhisattva</td>\n",
       "      <td>126127.0</td>\n",
       "      <td>1699.0</td>\n",
       "      <td>bodhisattva</td>\n",
       "      <td>steely dan</td>\n",
       "      <td>7280</td>\n",
       "      <td>BECKER WALTER CARL</td>\n",
       "      <td>89150949.0</td>\n",
       "      <td>ASCAP</td>\n",
       "    </tr>\n",
       "  </tbody>\n",
       "</table>\n",
       "</div>"
      ],
      "text/plain": [
       "   Unnamed: 0                track_id          Song Title      Artist  \\\n",
       "0           0  0007aPK8VmXN4ycL2OcBFa  Bodhisattva - Live        Toto   \n",
       "1           1  4F6419huGNh7rXB8Kr1rBf  Bodhisattva - Live        Toto   \n",
       "2           2  6auUOYXyP76l4fiqC86c9E  Bodhisattva - Live        Toto   \n",
       "3           3  10JB78fwqaUrCFZj3XNn6L         Bodhisattva  Steely Dan   \n",
       "4           4  6cdLlECd80adBM3fgEk9Km         Bodhisattva  Steely Dan   \n",
       "\n",
       "                artist_id        name  popularity  followers artist_name  \\\n",
       "0  0PFtn5NtBbbUNbU9EAmIWF        Toto          76   753405.0        toto   \n",
       "1  0PFtn5NtBbbUNbU9EAmIWF        Toto          76   753405.0        toto   \n",
       "2  0PFtn5NtBbbUNbU9EAmIWF        Toto          76   753405.0        toto   \n",
       "3  6P7H3ai06vU1sGvdpBwDmE  Steely Dan          68   601480.0  steely dan   \n",
       "4  6P7H3ai06vU1sGvdpBwDmE  Steely Dan          68   601480.0  steely dan   \n",
       "\n",
       "                  song_id   song_title       CID     PID        Title  \\\n",
       "0  0007aPK8VmXN4ycL2OcBFa  bodhisattva  126127.0  6030.0  bodhisattva   \n",
       "1  4F6419huGNh7rXB8Kr1rBf  bodhisattva  126127.0  6030.0  bodhisattva   \n",
       "2  6auUOYXyP76l4fiqC86c9E  bodhisattva  126127.0  6030.0  bodhisattva   \n",
       "3  10JB78fwqaUrCFZj3XNn6L  bodhisattva  126127.0  1699.0  bodhisattva   \n",
       "4  6cdLlECd80adBM3fgEk9Km  bodhisattva  126127.0  1699.0  bodhisattva   \n",
       "\n",
       "  Performer Name   WID         Writer Name         IPI    PRO  \n",
       "0           toto  7280  BECKER WALTER CARL  89150949.0  ASCAP  \n",
       "1           toto  7280  BECKER WALTER CARL  89150949.0  ASCAP  \n",
       "2           toto  7280  BECKER WALTER CARL  89150949.0  ASCAP  \n",
       "3     steely dan  7280  BECKER WALTER CARL  89150949.0  ASCAP  \n",
       "4     steely dan  7280  BECKER WALTER CARL  89150949.0  ASCAP  "
      ]
     },
     "execution_count": 12,
     "metadata": {},
     "output_type": "execute_result"
    }
   ],
   "source": [
    "matched_tracks_df = pd.read_csv('../data/matched_tracks_w_writers_20190504.csv')\n",
    "matched_tracks_df.head()"
   ]
  },
  {
   "cell_type": "code",
   "execution_count": 14,
   "metadata": {},
   "outputs": [
    {
     "data": {
      "text/html": [
       "<div>\n",
       "<style scoped>\n",
       "    .dataframe tbody tr th:only-of-type {\n",
       "        vertical-align: middle;\n",
       "    }\n",
       "\n",
       "    .dataframe tbody tr th {\n",
       "        vertical-align: top;\n",
       "    }\n",
       "\n",
       "    .dataframe thead th {\n",
       "        text-align: right;\n",
       "    }\n",
       "</style>\n",
       "<table border=\"1\" class=\"dataframe\">\n",
       "  <thead>\n",
       "    <tr style=\"text-align: right;\">\n",
       "      <th></th>\n",
       "      <th>Unnamed: 0</th>\n",
       "      <th>track_id</th>\n",
       "      <th>component_1</th>\n",
       "      <th>component_2</th>\n",
       "      <th>component_3</th>\n",
       "      <th>component_4</th>\n",
       "      <th>component_5</th>\n",
       "      <th>component_6</th>\n",
       "      <th>component_7</th>\n",
       "      <th>component_8</th>\n",
       "      <th>...</th>\n",
       "      <th>component_41</th>\n",
       "      <th>component_42</th>\n",
       "      <th>component_43</th>\n",
       "      <th>component_44</th>\n",
       "      <th>component_45</th>\n",
       "      <th>component_46</th>\n",
       "      <th>component_47</th>\n",
       "      <th>component_48</th>\n",
       "      <th>component_49</th>\n",
       "      <th>component_50</th>\n",
       "    </tr>\n",
       "  </thead>\n",
       "  <tbody>\n",
       "    <tr>\n",
       "      <th>0</th>\n",
       "      <td>0</td>\n",
       "      <td>0007aPK8VmXN4ycL2OcBFa</td>\n",
       "      <td>1.422283</td>\n",
       "      <td>-0.078403</td>\n",
       "      <td>-0.204622</td>\n",
       "      <td>-0.203766</td>\n",
       "      <td>0.262664</td>\n",
       "      <td>0.137028</td>\n",
       "      <td>-0.166195</td>\n",
       "      <td>0.039984</td>\n",
       "      <td>...</td>\n",
       "      <td>0.012890</td>\n",
       "      <td>-0.027874</td>\n",
       "      <td>-0.038939</td>\n",
       "      <td>0.031238</td>\n",
       "      <td>-0.273882</td>\n",
       "      <td>0.154980</td>\n",
       "      <td>-0.238189</td>\n",
       "      <td>0.133918</td>\n",
       "      <td>-0.056329</td>\n",
       "      <td>-0.001362</td>\n",
       "    </tr>\n",
       "    <tr>\n",
       "      <th>1</th>\n",
       "      <td>1</td>\n",
       "      <td>000CSIqE1KcjAiZYYWXV18</td>\n",
       "      <td>0.002048</td>\n",
       "      <td>0.001316</td>\n",
       "      <td>0.022062</td>\n",
       "      <td>0.009638</td>\n",
       "      <td>0.016747</td>\n",
       "      <td>-0.010332</td>\n",
       "      <td>0.028675</td>\n",
       "      <td>-0.036878</td>\n",
       "      <td>...</td>\n",
       "      <td>-0.003353</td>\n",
       "      <td>0.015048</td>\n",
       "      <td>0.006668</td>\n",
       "      <td>0.001303</td>\n",
       "      <td>-0.018044</td>\n",
       "      <td>0.024690</td>\n",
       "      <td>-0.001461</td>\n",
       "      <td>-0.013804</td>\n",
       "      <td>-0.003732</td>\n",
       "      <td>-0.010343</td>\n",
       "    </tr>\n",
       "    <tr>\n",
       "      <th>2</th>\n",
       "      <td>2</td>\n",
       "      <td>000H5JPWBNl28k4fD6svku</td>\n",
       "      <td>0.000011</td>\n",
       "      <td>0.000233</td>\n",
       "      <td>0.000536</td>\n",
       "      <td>-0.000628</td>\n",
       "      <td>-0.000371</td>\n",
       "      <td>-0.000650</td>\n",
       "      <td>0.000763</td>\n",
       "      <td>-0.001460</td>\n",
       "      <td>...</td>\n",
       "      <td>-0.047707</td>\n",
       "      <td>0.523735</td>\n",
       "      <td>-0.207057</td>\n",
       "      <td>0.023756</td>\n",
       "      <td>0.018094</td>\n",
       "      <td>-0.019937</td>\n",
       "      <td>-0.018246</td>\n",
       "      <td>-0.017195</td>\n",
       "      <td>-0.003347</td>\n",
       "      <td>-0.031629</td>\n",
       "    </tr>\n",
       "    <tr>\n",
       "      <th>3</th>\n",
       "      <td>3</td>\n",
       "      <td>000TkFk31yPsdsbOCdEab0</td>\n",
       "      <td>1.693563</td>\n",
       "      <td>-0.112210</td>\n",
       "      <td>-0.187653</td>\n",
       "      <td>0.209479</td>\n",
       "      <td>-0.956003</td>\n",
       "      <td>-0.238489</td>\n",
       "      <td>-0.202966</td>\n",
       "      <td>0.106275</td>\n",
       "      <td>...</td>\n",
       "      <td>-0.020061</td>\n",
       "      <td>0.062318</td>\n",
       "      <td>0.043778</td>\n",
       "      <td>0.030301</td>\n",
       "      <td>0.039924</td>\n",
       "      <td>-0.163180</td>\n",
       "      <td>0.059095</td>\n",
       "      <td>-0.108232</td>\n",
       "      <td>-0.025465</td>\n",
       "      <td>-0.083377</td>\n",
       "    </tr>\n",
       "    <tr>\n",
       "      <th>4</th>\n",
       "      <td>4</td>\n",
       "      <td>000YQKKl6mB5mJ38Rm4q1V</td>\n",
       "      <td>0.088215</td>\n",
       "      <td>1.435759</td>\n",
       "      <td>1.000153</td>\n",
       "      <td>-1.218041</td>\n",
       "      <td>-0.653125</td>\n",
       "      <td>0.269090</td>\n",
       "      <td>-0.164071</td>\n",
       "      <td>0.261897</td>\n",
       "      <td>...</td>\n",
       "      <td>0.231586</td>\n",
       "      <td>0.212173</td>\n",
       "      <td>0.001652</td>\n",
       "      <td>0.053305</td>\n",
       "      <td>-0.196519</td>\n",
       "      <td>-0.002801</td>\n",
       "      <td>0.011360</td>\n",
       "      <td>-0.284338</td>\n",
       "      <td>-0.007698</td>\n",
       "      <td>-0.126783</td>\n",
       "    </tr>\n",
       "  </tbody>\n",
       "</table>\n",
       "<p>5 rows × 52 columns</p>\n",
       "</div>"
      ],
      "text/plain": [
       "   Unnamed: 0                track_id  component_1  component_2  component_3  \\\n",
       "0           0  0007aPK8VmXN4ycL2OcBFa     1.422283    -0.078403    -0.204622   \n",
       "1           1  000CSIqE1KcjAiZYYWXV18     0.002048     0.001316     0.022062   \n",
       "2           2  000H5JPWBNl28k4fD6svku     0.000011     0.000233     0.000536   \n",
       "3           3  000TkFk31yPsdsbOCdEab0     1.693563    -0.112210    -0.187653   \n",
       "4           4  000YQKKl6mB5mJ38Rm4q1V     0.088215     1.435759     1.000153   \n",
       "\n",
       "   component_4  component_5  component_6  component_7  component_8  ...  \\\n",
       "0    -0.203766     0.262664     0.137028    -0.166195     0.039984  ...   \n",
       "1     0.009638     0.016747    -0.010332     0.028675    -0.036878  ...   \n",
       "2    -0.000628    -0.000371    -0.000650     0.000763    -0.001460  ...   \n",
       "3     0.209479    -0.956003    -0.238489    -0.202966     0.106275  ...   \n",
       "4    -1.218041    -0.653125     0.269090    -0.164071     0.261897  ...   \n",
       "\n",
       "   component_41  component_42  component_43  component_44  component_45  \\\n",
       "0      0.012890     -0.027874     -0.038939      0.031238     -0.273882   \n",
       "1     -0.003353      0.015048      0.006668      0.001303     -0.018044   \n",
       "2     -0.047707      0.523735     -0.207057      0.023756      0.018094   \n",
       "3     -0.020061      0.062318      0.043778      0.030301      0.039924   \n",
       "4      0.231586      0.212173      0.001652      0.053305     -0.196519   \n",
       "\n",
       "   component_46  component_47  component_48  component_49  component_50  \n",
       "0      0.154980     -0.238189      0.133918     -0.056329     -0.001362  \n",
       "1      0.024690     -0.001461     -0.013804     -0.003732     -0.010343  \n",
       "2     -0.019937     -0.018246     -0.017195     -0.003347     -0.031629  \n",
       "3     -0.163180      0.059095     -0.108232     -0.025465     -0.083377  \n",
       "4     -0.002801      0.011360     -0.284338     -0.007698     -0.126783  \n",
       "\n",
       "[5 rows x 52 columns]"
      ]
     },
     "execution_count": 14,
     "metadata": {},
     "output_type": "execute_result"
    }
   ],
   "source": [
    "genre_svd_df = pd.read_csv('../data/interim/genres/genre_svd_df_20190516.csv')\n",
    "genre_svd_df.head()"
   ]
  },
  {
   "cell_type": "code",
   "execution_count": 4,
   "metadata": {},
   "outputs": [
    {
     "data": {
      "text/plain": [
       "Index(['Unnamed: 0', 'track_id', 'acousticness', 'danceability', 'duration_ms',\n",
       "       'energy', 'instrumentalness', 'liveness', 'loudness', 'mode',\n",
       "       'speechiness', 'tempo', 'valence', 'key_7', 'key_11', 'key_0', 'key_1',\n",
       "       'key_9', 'key_5', 'key_2', 'key_6', 'key_4', 'key_8', 'key_10', 'key_3',\n",
       "       'time_signature_3', 'time_signature_4', 'time_signature_5',\n",
       "       'time_signature_1', 'time_signature_0'],\n",
       "      dtype='object')"
      ]
     },
     "execution_count": 4,
     "metadata": {},
     "output_type": "execute_result"
    }
   ],
   "source": [
    "song_features = pd.read_csv('../data/interim/song_features/song_features_encoded_20190515.csv')\n",
    "song_features.columns"
   ]
  },
  {
   "cell_type": "code",
   "execution_count": 7,
   "metadata": {},
   "outputs": [],
   "source": [
    "segment_df.to_csv('../data/segment_df_20190516.csv')"
   ]
  },
  {
   "cell_type": "code",
   "execution_count": 2,
   "metadata": {},
   "outputs": [],
   "source": [
    "merged_df = mk_songwriter_dataset('../data/matched_tracks_w_writers_20190504.csv',\n",
    "                                  '../data/interim/genres/genre_svd_df_20190516.csv',\n",
    "                                  '../data/segment_df_20190516.csv',\n",
    "                                  '../data/interim/song_features/song_features_encoded_20190516.csv')"
   ]
  },
  {
   "cell_type": "code",
   "execution_count": 3,
   "metadata": {},
   "outputs": [],
   "source": [
    "merged_df_ready = merged_df.compute()"
   ]
  },
  {
   "cell_type": "code",
   "execution_count": 9,
   "metadata": {},
   "outputs": [
    {
     "data": {
      "text/plain": [
       "True"
      ]
     },
     "execution_count": 9,
     "metadata": {},
     "output_type": "execute_result"
    }
   ],
   "source": [
    "'WID' in merged_df_ready.columns"
   ]
  },
  {
   "cell_type": "code",
   "execution_count": 4,
   "metadata": {},
   "outputs": [
    {
     "data": {
      "text/plain": [
       "(577426, 144)"
      ]
     },
     "execution_count": 4,
     "metadata": {},
     "output_type": "execute_result"
    }
   ],
   "source": [
    "merged_df_ready.shape"
   ]
  },
  {
   "cell_type": "code",
   "execution_count": 6,
   "metadata": {},
   "outputs": [],
   "source": [
    "merged_df_ready.to_csv('../data/interim/non_normalized_tracks_20190516.csv')"
   ]
  },
  {
   "cell_type": "code",
   "execution_count": 13,
   "metadata": {},
   "outputs": [],
   "source": [
    "column_dict = {i : merged_df_ready[i].dtype for i in merged_df_ready.columns}"
   ]
  },
  {
   "cell_type": "code",
   "execution_count": 14,
   "metadata": {},
   "outputs": [
    {
     "data": {
      "text/plain": [
       "{'track_id': dtype('O'),\n",
       " 'Song Title': dtype('O'),\n",
       " 'Artist': dtype('O'),\n",
       " 'artist_id': dtype('O'),\n",
       " 'name': dtype('O'),\n",
       " 'popularity': dtype('int64'),\n",
       " 'followers': dtype('float64'),\n",
       " 'artist_name': dtype('O'),\n",
       " 'song_id': dtype('O'),\n",
       " 'song_title': dtype('O'),\n",
       " 'CID': dtype('float64'),\n",
       " 'PID': dtype('float64'),\n",
       " 'Title': dtype('O'),\n",
       " 'Performer Name': dtype('O'),\n",
       " 'WID': dtype('int64'),\n",
       " 'Writer Name': dtype('O'),\n",
       " 'IPI': dtype('float64'),\n",
       " 'PRO': dtype('O'),\n",
       " 'component_1': dtype('float64'),\n",
       " 'component_2': dtype('float64'),\n",
       " 'component_3': dtype('float64'),\n",
       " 'component_4': dtype('float64'),\n",
       " 'component_5': dtype('float64'),\n",
       " 'component_6': dtype('float64'),\n",
       " 'component_7': dtype('float64'),\n",
       " 'component_8': dtype('float64'),\n",
       " 'component_9': dtype('float64'),\n",
       " 'component_10': dtype('float64'),\n",
       " 'component_11': dtype('float64'),\n",
       " 'component_12': dtype('float64'),\n",
       " 'component_13': dtype('float64'),\n",
       " 'component_14': dtype('float64'),\n",
       " 'component_15': dtype('float64'),\n",
       " 'component_16': dtype('float64'),\n",
       " 'component_17': dtype('float64'),\n",
       " 'component_18': dtype('float64'),\n",
       " 'component_19': dtype('float64'),\n",
       " 'component_20': dtype('float64'),\n",
       " 'component_21': dtype('float64'),\n",
       " 'component_22': dtype('float64'),\n",
       " 'component_23': dtype('float64'),\n",
       " 'component_24': dtype('float64'),\n",
       " 'component_25': dtype('float64'),\n",
       " 'component_26': dtype('float64'),\n",
       " 'component_27': dtype('float64'),\n",
       " 'component_28': dtype('float64'),\n",
       " 'component_29': dtype('float64'),\n",
       " 'component_30': dtype('float64'),\n",
       " 'component_31': dtype('float64'),\n",
       " 'component_32': dtype('float64'),\n",
       " 'component_33': dtype('float64'),\n",
       " 'component_34': dtype('float64'),\n",
       " 'component_35': dtype('float64'),\n",
       " 'component_36': dtype('float64'),\n",
       " 'component_37': dtype('float64'),\n",
       " 'component_38': dtype('float64'),\n",
       " 'component_39': dtype('float64'),\n",
       " 'component_40': dtype('float64'),\n",
       " 'component_41': dtype('float64'),\n",
       " 'component_42': dtype('float64'),\n",
       " 'component_43': dtype('float64'),\n",
       " 'component_44': dtype('float64'),\n",
       " 'component_45': dtype('float64'),\n",
       " 'component_46': dtype('float64'),\n",
       " 'component_47': dtype('float64'),\n",
       " 'component_48': dtype('float64'),\n",
       " 'component_49': dtype('float64'),\n",
       " 'component_50': dtype('float64'),\n",
       " 'pm_0': dtype('float64'),\n",
       " 'pm_1': dtype('float64'),\n",
       " 'pm_2': dtype('float64'),\n",
       " 'pm_3': dtype('float64'),\n",
       " 'pm_4': dtype('float64'),\n",
       " 'pm_5': dtype('float64'),\n",
       " 'pm_6': dtype('float64'),\n",
       " 'pm_7': dtype('float64'),\n",
       " 'pm_8': dtype('float64'),\n",
       " 'pm_9': dtype('float64'),\n",
       " 'pm_10': dtype('float64'),\n",
       " 'pm_11': dtype('float64'),\n",
       " 'pv_0': dtype('float64'),\n",
       " 'pv_1': dtype('float64'),\n",
       " 'pv_2': dtype('float64'),\n",
       " 'pv_3': dtype('float64'),\n",
       " 'pv_4': dtype('float64'),\n",
       " 'pv_5': dtype('float64'),\n",
       " 'pv_6': dtype('float64'),\n",
       " 'pv_7': dtype('float64'),\n",
       " 'pv_8': dtype('float64'),\n",
       " 'pv_9': dtype('float64'),\n",
       " 'pv_10': dtype('float64'),\n",
       " 'pv_11': dtype('float64'),\n",
       " 'tm_0': dtype('float64'),\n",
       " 'tm_1': dtype('float64'),\n",
       " 'tm_2': dtype('float64'),\n",
       " 'tm_3': dtype('float64'),\n",
       " 'tm_4': dtype('float64'),\n",
       " 'tm_5': dtype('float64'),\n",
       " 'tm_6': dtype('float64'),\n",
       " 'tm_7': dtype('float64'),\n",
       " 'tm_8': dtype('float64'),\n",
       " 'tm_9': dtype('float64'),\n",
       " 'tm_10': dtype('float64'),\n",
       " 'tm_11': dtype('float64'),\n",
       " 'tv_0': dtype('float64'),\n",
       " 'tv_1': dtype('float64'),\n",
       " 'tv_2': dtype('float64'),\n",
       " 'tv_3': dtype('float64'),\n",
       " 'tv_4': dtype('float64'),\n",
       " 'tv_5': dtype('float64'),\n",
       " 'tv_6': dtype('float64'),\n",
       " 'tv_7': dtype('float64'),\n",
       " 'tv_8': dtype('float64'),\n",
       " 'tv_9': dtype('float64'),\n",
       " 'tv_10': dtype('float64'),\n",
       " 'tv_11': dtype('float64'),\n",
       " 'acousticness': dtype('float64'),\n",
       " 'danceability': dtype('float64'),\n",
       " 'duration_ms': dtype('int64'),\n",
       " 'energy': dtype('float64'),\n",
       " 'instrumentalness': dtype('float64'),\n",
       " 'liveness': dtype('float64'),\n",
       " 'loudness': dtype('float64'),\n",
       " 'mode': dtype('int64'),\n",
       " 'speechiness': dtype('float64'),\n",
       " 'tempo': dtype('float64'),\n",
       " 'valence': dtype('float64'),\n",
       " 'key_7': dtype('int64'),\n",
       " 'key_6': dtype('int64'),\n",
       " 'key_8': dtype('int64'),\n",
       " 'key_9': dtype('int64'),\n",
       " 'key_2': dtype('int64'),\n",
       " 'key_5': dtype('int64'),\n",
       " 'key_10': dtype('int64'),\n",
       " 'key_0': dtype('int64'),\n",
       " 'key_11': dtype('int64'),\n",
       " 'key_4': dtype('int64'),\n",
       " 'key_1': dtype('int64'),\n",
       " 'key_3': dtype('int64'),\n",
       " 'time_signature_3': dtype('int64'),\n",
       " 'time_signature_4': dtype('int64'),\n",
       " 'time_signature_5': dtype('int64'),\n",
       " 'time_signature_1': dtype('int64'),\n",
       " 'time_signature_0': dtype('int64')}"
      ]
     },
     "execution_count": 14,
     "metadata": {},
     "output_type": "execute_result"
    }
   ],
   "source": [
    "column_dict"
   ]
  },
  {
   "cell_type": "markdown",
   "metadata": {},
   "source": [
    "## 2. Scaling by \"AVG\" Songwriter Value for each Songwriter"
   ]
  },
  {
   "cell_type": "code",
   "execution_count": 8,
   "metadata": {},
   "outputs": [],
   "source": [
    "# Do not use -- at least while running in a container.\n",
    "\n",
    "# client = Client('scheduler:8786')"
   ]
  },
  {
   "cell_type": "code",
   "execution_count": 10,
   "metadata": {},
   "outputs": [],
   "source": [
    "matched_w_writers = pd.read_csv('../data/matched_tracks_w_writers_20190422.csv', index_col = 0)"
   ]
  },
  {
   "cell_type": "code",
   "execution_count": 24,
   "metadata": {},
   "outputs": [],
   "source": [
    "matched_w_writers = matched_w_writers.applymap(lambda x: np.NaN if x == '—' else x)"
   ]
  },
  {
   "cell_type": "code",
   "execution_count": 33,
   "metadata": {},
   "outputs": [
    {
     "name": "stdout",
     "output_type": "stream",
     "text": [
      "<class 'dask.dataframe.core.DataFrame'>\n",
      "Columns: 19 entries, Unnamed: 0 to PRO\n",
      "dtypes: object(12), float64(3), int64(4)"
     ]
    }
   ],
   "source": [
    "matched_w_writers.info()"
   ]
  },
  {
   "cell_type": "code",
   "execution_count": 28,
   "metadata": {},
   "outputs": [],
   "source": [
    "matched_w_writers['IPI'] = matched_w_writers['IPI'].astype(pd.Int32Dtype())"
   ]
  },
  {
   "cell_type": "code",
   "execution_count": 30,
   "metadata": {},
   "outputs": [],
   "source": [
    "matched_w_writers.to_csv('../data/matched_tracks_w_writers_20190504.csv')"
   ]
  },
  {
   "cell_type": "code",
   "execution_count": 9,
   "metadata": {},
   "outputs": [
    {
     "ename": "FileNotFoundError",
     "evalue": "[Errno 2] No such file or directory: '/home/jovyan/Song_Index/notebooks/../data/matched_tracks_w_writers_20190504.csv'",
     "output_type": "error",
     "traceback": [
      "\u001b[0;31m---------------------------------------------------------------------------\u001b[0m",
      "\u001b[0;31mFileNotFoundError\u001b[0m                         Traceback (most recent call last)",
      "\u001b[0;32m<ipython-input-9-8766210ec54b>\u001b[0m in \u001b[0;36m<module>\u001b[0;34m\u001b[0m\n\u001b[1;32m     29\u001b[0m                                     \u001b[0;34m'Writer Name'\u001b[0m \u001b[0;34m:\u001b[0m \u001b[0mstr\u001b[0m\u001b[0;34m,\u001b[0m\u001b[0;34m\u001b[0m\u001b[0;34m\u001b[0m\u001b[0m\n\u001b[1;32m     30\u001b[0m                                     \u001b[0;34m'IPI'\u001b[0m\u001b[0;34m:\u001b[0m \u001b[0mpd\u001b[0m\u001b[0;34m.\u001b[0m\u001b[0mInt32Dtype\u001b[0m\u001b[0;34m(\u001b[0m\u001b[0;34m)\u001b[0m\u001b[0;34m,\u001b[0m\u001b[0;34m\u001b[0m\u001b[0;34m\u001b[0m\u001b[0m\n\u001b[0;32m---> 31\u001b[0;31m                                     \u001b[0;34m'PRO'\u001b[0m \u001b[0;34m:\u001b[0m \u001b[0;34m'category'\u001b[0m\u001b[0;34m\u001b[0m\u001b[0;34m\u001b[0m\u001b[0m\n\u001b[0m\u001b[1;32m     32\u001b[0m                                     })\\\n\u001b[1;32m     33\u001b[0m                       \u001b[0;34m.\u001b[0m\u001b[0mrename\u001b[0m\u001b[0;34m(\u001b[0m\u001b[0mcolumns\u001b[0m \u001b[0;34m=\u001b[0m \u001b[0;34m{\u001b[0m\u001b[0;34m'Unnamed: 0'\u001b[0m \u001b[0;34m:\u001b[0m \u001b[0;34m'index'\u001b[0m\u001b[0;34m}\u001b[0m\u001b[0;34m)\u001b[0m\u001b[0;31m\\\u001b[0m\u001b[0;34m\u001b[0m\u001b[0;34m\u001b[0m\u001b[0m\n",
      "\u001b[0;32m/opt/conda/lib/python3.7/site-packages/dask/dataframe/io/csv.py\u001b[0m in \u001b[0;36mread\u001b[0;34m(urlpath, blocksize, collection, lineterminator, compression, sample, enforce, assume_missing, storage_options, include_path_column, **kwargs)\u001b[0m\n\u001b[1;32m    489\u001b[0m                            \u001b[0mstorage_options\u001b[0m\u001b[0;34m=\u001b[0m\u001b[0mstorage_options\u001b[0m\u001b[0;34m,\u001b[0m\u001b[0;34m\u001b[0m\u001b[0;34m\u001b[0m\u001b[0m\n\u001b[1;32m    490\u001b[0m                            \u001b[0minclude_path_column\u001b[0m\u001b[0;34m=\u001b[0m\u001b[0minclude_path_column\u001b[0m\u001b[0;34m,\u001b[0m\u001b[0;34m\u001b[0m\u001b[0;34m\u001b[0m\u001b[0m\n\u001b[0;32m--> 491\u001b[0;31m                            **kwargs)\n\u001b[0m\u001b[1;32m    492\u001b[0m     read.__doc__ = READ_DOC_TEMPLATE.format(reader=reader_name,\n\u001b[1;32m    493\u001b[0m                                             file_type=file_type)\n",
      "\u001b[0;32m/opt/conda/lib/python3.7/site-packages/dask/dataframe/io/csv.py\u001b[0m in \u001b[0;36mread_pandas\u001b[0;34m(reader, urlpath, blocksize, collection, lineterminator, compression, sample, enforce, assume_missing, storage_options, include_path_column, **kwargs)\u001b[0m\n\u001b[1;32m    344\u001b[0m                        \u001b[0mcompression\u001b[0m\u001b[0;34m=\u001b[0m\u001b[0mcompression\u001b[0m\u001b[0;34m,\u001b[0m\u001b[0;34m\u001b[0m\u001b[0;34m\u001b[0m\u001b[0m\n\u001b[1;32m    345\u001b[0m                        \u001b[0minclude_path\u001b[0m\u001b[0;34m=\u001b[0m\u001b[0minclude_path_column\u001b[0m\u001b[0;34m,\u001b[0m\u001b[0;34m\u001b[0m\u001b[0;34m\u001b[0m\u001b[0m\n\u001b[0;32m--> 346\u001b[0;31m                        **(storage_options or {}))\n\u001b[0m\u001b[1;32m    347\u001b[0m \u001b[0;34m\u001b[0m\u001b[0m\n\u001b[1;32m    348\u001b[0m     \u001b[0;32mif\u001b[0m \u001b[0minclude_path_column\u001b[0m\u001b[0;34m:\u001b[0m\u001b[0;34m\u001b[0m\u001b[0;34m\u001b[0m\u001b[0m\n",
      "\u001b[0;32m/opt/conda/lib/python3.7/site-packages/dask/bytes/core.py\u001b[0m in \u001b[0;36mread_bytes\u001b[0;34m(urlpath, delimiter, not_zero, blocksize, sample, compression, include_path, **kwargs)\u001b[0m\n\u001b[1;32m     99\u001b[0m         \u001b[0;32mfor\u001b[0m \u001b[0mpath\u001b[0m \u001b[0;32min\u001b[0m \u001b[0mpaths\u001b[0m\u001b[0;34m:\u001b[0m\u001b[0;34m\u001b[0m\u001b[0;34m\u001b[0m\u001b[0m\n\u001b[1;32m    100\u001b[0m             \u001b[0;32mtry\u001b[0m\u001b[0;34m:\u001b[0m\u001b[0;34m\u001b[0m\u001b[0;34m\u001b[0m\u001b[0m\n\u001b[0;32m--> 101\u001b[0;31m                 \u001b[0msize\u001b[0m \u001b[0;34m=\u001b[0m \u001b[0mlogical_size\u001b[0m\u001b[0;34m(\u001b[0m\u001b[0mfs\u001b[0m\u001b[0;34m,\u001b[0m \u001b[0mpath\u001b[0m\u001b[0;34m,\u001b[0m \u001b[0mcompression\u001b[0m\u001b[0;34m)\u001b[0m\u001b[0;34m\u001b[0m\u001b[0;34m\u001b[0m\u001b[0m\n\u001b[0m\u001b[1;32m    102\u001b[0m             \u001b[0;32mexcept\u001b[0m \u001b[0mValueError\u001b[0m\u001b[0;34m:\u001b[0m\u001b[0;34m\u001b[0m\u001b[0;34m\u001b[0m\u001b[0m\n\u001b[1;32m    103\u001b[0m                 raise ValueError(\"Cannot do chunked reads on files compressed \"\n",
      "\u001b[0;32m/opt/conda/lib/python3.7/site-packages/dask/bytes/core.py\u001b[0m in \u001b[0;36mlogical_size\u001b[0;34m(fs, path, compression)\u001b[0m\n\u001b[1;32m    528\u001b[0m \u001b[0;34m\u001b[0m\u001b[0m\n\u001b[1;32m    529\u001b[0m     \u001b[0;32mif\u001b[0m \u001b[0mcompression\u001b[0m \u001b[0;32mis\u001b[0m \u001b[0;32mNone\u001b[0m\u001b[0;34m:\u001b[0m\u001b[0;34m\u001b[0m\u001b[0;34m\u001b[0m\u001b[0m\n\u001b[0;32m--> 530\u001b[0;31m         \u001b[0;32mreturn\u001b[0m \u001b[0mfs\u001b[0m\u001b[0;34m.\u001b[0m\u001b[0msize\u001b[0m\u001b[0;34m(\u001b[0m\u001b[0mpath\u001b[0m\u001b[0;34m)\u001b[0m\u001b[0;34m\u001b[0m\u001b[0;34m\u001b[0m\u001b[0m\n\u001b[0m\u001b[1;32m    531\u001b[0m     \u001b[0;32melif\u001b[0m \u001b[0mcompression\u001b[0m \u001b[0;32min\u001b[0m \u001b[0mseekable_files\u001b[0m\u001b[0;34m:\u001b[0m\u001b[0;34m\u001b[0m\u001b[0;34m\u001b[0m\u001b[0m\n\u001b[1;32m    532\u001b[0m         \u001b[0;32mwith\u001b[0m \u001b[0mOpenFile\u001b[0m\u001b[0;34m(\u001b[0m\u001b[0mfs\u001b[0m\u001b[0;34m,\u001b[0m \u001b[0mpath\u001b[0m\u001b[0;34m,\u001b[0m \u001b[0mcompression\u001b[0m\u001b[0;34m=\u001b[0m\u001b[0mcompression\u001b[0m\u001b[0;34m)\u001b[0m \u001b[0;32mas\u001b[0m \u001b[0mf\u001b[0m\u001b[0;34m:\u001b[0m\u001b[0;34m\u001b[0m\u001b[0;34m\u001b[0m\u001b[0m\n",
      "\u001b[0;32m/opt/conda/lib/python3.7/site-packages/dask/bytes/local.py\u001b[0m in \u001b[0;36msize\u001b[0;34m(self, path)\u001b[0m\n\u001b[1;32m     68\u001b[0m     \u001b[0;32mdef\u001b[0m \u001b[0msize\u001b[0m\u001b[0;34m(\u001b[0m\u001b[0mself\u001b[0m\u001b[0;34m,\u001b[0m \u001b[0mpath\u001b[0m\u001b[0;34m)\u001b[0m\u001b[0;34m:\u001b[0m\u001b[0;34m\u001b[0m\u001b[0;34m\u001b[0m\u001b[0m\n\u001b[1;32m     69\u001b[0m         \u001b[0;34m\"\"\"Size in bytes of the file at path\"\"\"\u001b[0m\u001b[0;34m\u001b[0m\u001b[0;34m\u001b[0m\u001b[0m\n\u001b[0;32m---> 70\u001b[0;31m         \u001b[0;32mreturn\u001b[0m \u001b[0mos\u001b[0m\u001b[0;34m.\u001b[0m\u001b[0mstat\u001b[0m\u001b[0;34m(\u001b[0m\u001b[0mself\u001b[0m\u001b[0;34m.\u001b[0m\u001b[0m_normalize_path\u001b[0m\u001b[0;34m(\u001b[0m\u001b[0mpath\u001b[0m\u001b[0;34m)\u001b[0m\u001b[0;34m)\u001b[0m\u001b[0;34m.\u001b[0m\u001b[0mst_size\u001b[0m\u001b[0;34m\u001b[0m\u001b[0;34m\u001b[0m\u001b[0m\n\u001b[0m\u001b[1;32m     71\u001b[0m \u001b[0;34m\u001b[0m\u001b[0m\n\u001b[1;32m     72\u001b[0m     \u001b[0;32mdef\u001b[0m \u001b[0m_get_pyarrow_filesystem\u001b[0m\u001b[0;34m(\u001b[0m\u001b[0mself\u001b[0m\u001b[0;34m)\u001b[0m\u001b[0;34m:\u001b[0m\u001b[0;34m\u001b[0m\u001b[0;34m\u001b[0m\u001b[0m\n",
      "\u001b[0;31mFileNotFoundError\u001b[0m: [Errno 2] No such file or directory: '/home/jovyan/Song_Index/notebooks/../data/matched_tracks_w_writers_20190504.csv'"
     ]
    }
   ],
   "source": [
    "# see imports on 1f.\n",
    "# not even sure if I need anything outside of the `read_csv`\n",
    "# from pandas.arrays import IntegerArray\n",
    "\n",
    "# # The actual registration that would be done in the 3rd-party library\n",
    "# from dask.dataframe.extensions import make_array_nonempty\n",
    "\n",
    "# @make_array_nonempty.register(IntegerArray)\n",
    "# def _(dtype):\n",
    "#     return integer_array([0, None], dtype=dtype)\n",
    "\n",
    "matched_w_writers = dd.read_csv('../data/matched_tracks_w_writers_20190504.csv',\n",
    "                                dtype = {\n",
    "                                    'track_id' : str,\n",
    "                                    'Song Title' : str,\n",
    "                                    'Artist' : str,\n",
    "                                    'artist_id' : str,\n",
    "                                    'name' : str,\n",
    "                                    'popularity' : np.int8,\n",
    "                                    'followers' : np.int32,\n",
    "                                    'artist_name' : str,\n",
    "                                    'song_id' : str,\n",
    "                                    'song_title' : str,\n",
    "                                    'CID' : np.int32,\n",
    "                                    'PID' : np.int32,\n",
    "                                    'Title': str,\n",
    "                                    'Performer Name' : str,\n",
    "                                    'WID' : np.int32,\n",
    "                                    'Writer Name' : str,\n",
    "                                    'IPI': pd.Int32Dtype(),\n",
    "                                    'PRO' : 'category'\n",
    "                                    })\\\n",
    "                      .rename(columns = {'Unnamed: 0' : 'index'})\\\n",
    "                      .set_index('index')"
   ]
  },
  {
   "cell_type": "code",
   "execution_count": 7,
   "metadata": {},
   "outputs": [
    {
     "name": "stdout",
     "output_type": "stream",
     "text": [
      "<class 'dask.dataframe.core.DataFrame'>\n",
      "Columns: 18 entries, track_id to PRO\n",
      "dtypes: category(1), Int32(1), object(11), int32(4), int8(1)"
     ]
    }
   ],
   "source": [
    "matched_w_writers.info()"
   ]
  },
  {
   "cell_type": "code",
   "execution_count": 15,
   "metadata": {},
   "outputs": [],
   "source": [
    "matched_with_writers_numeric = matched_w_writers[['popularity', 'followers', 'CID', 'PID', 'WID']]"
   ]
  },
  {
   "cell_type": "code",
   "execution_count": 10,
   "metadata": {},
   "outputs": [],
   "source": [
    "grouped_vals_avgs_ddf = matched_with_writers_numeric.groupby('WID').mean()"
   ]
  },
  {
   "cell_type": "code",
   "execution_count": 11,
   "metadata": {},
   "outputs": [
    {
     "data": {
      "text/html": [
       "<div>\n",
       "<style scoped>\n",
       "    .dataframe tbody tr th:only-of-type {\n",
       "        vertical-align: middle;\n",
       "    }\n",
       "\n",
       "    .dataframe tbody tr th {\n",
       "        vertical-align: top;\n",
       "    }\n",
       "\n",
       "    .dataframe thead th {\n",
       "        text-align: right;\n",
       "    }\n",
       "</style>\n",
       "<table border=\"1\" class=\"dataframe\">\n",
       "  <thead>\n",
       "    <tr style=\"text-align: right;\">\n",
       "      <th></th>\n",
       "      <th>popularity</th>\n",
       "      <th>followers</th>\n",
       "      <th>CID</th>\n",
       "      <th>PID</th>\n",
       "    </tr>\n",
       "    <tr>\n",
       "      <th>WID</th>\n",
       "      <th></th>\n",
       "      <th></th>\n",
       "      <th></th>\n",
       "      <th></th>\n",
       "    </tr>\n",
       "  </thead>\n",
       "  <tbody>\n",
       "    <tr>\n",
       "      <th>1</th>\n",
       "      <td>63.555556</td>\n",
       "      <td>1.380916e+06</td>\n",
       "      <td>140022.111111</td>\n",
       "      <td>23343.222222</td>\n",
       "    </tr>\n",
       "    <tr>\n",
       "      <th>2</th>\n",
       "      <td>55.500000</td>\n",
       "      <td>4.530500e+05</td>\n",
       "      <td>23335.500000</td>\n",
       "      <td>240.500000</td>\n",
       "    </tr>\n",
       "    <tr>\n",
       "      <th>3</th>\n",
       "      <td>65.304762</td>\n",
       "      <td>8.502829e+05</td>\n",
       "      <td>73315.723810</td>\n",
       "      <td>14429.009524</td>\n",
       "    </tr>\n",
       "    <tr>\n",
       "      <th>4</th>\n",
       "      <td>67.264706</td>\n",
       "      <td>8.245521e+05</td>\n",
       "      <td>22609.264706</td>\n",
       "      <td>16.970588</td>\n",
       "    </tr>\n",
       "    <tr>\n",
       "      <th>5</th>\n",
       "      <td>67.621212</td>\n",
       "      <td>1.039455e+06</td>\n",
       "      <td>27845.575758</td>\n",
       "      <td>3303.651515</td>\n",
       "    </tr>\n",
       "  </tbody>\n",
       "</table>\n",
       "</div>"
      ],
      "text/plain": [
       "     popularity     followers            CID           PID\n",
       "WID                                                       \n",
       "1     63.555556  1.380916e+06  140022.111111  23343.222222\n",
       "2     55.500000  4.530500e+05   23335.500000    240.500000\n",
       "3     65.304762  8.502829e+05   73315.723810  14429.009524\n",
       "4     67.264706  8.245521e+05   22609.264706     16.970588\n",
       "5     67.621212  1.039455e+06   27845.575758   3303.651515"
      ]
     },
     "execution_count": 11,
     "metadata": {},
     "output_type": "execute_result"
    }
   ],
   "source": [
    "grouped_vals_avgs_ddf.head()"
   ]
  },
  {
   "cell_type": "code",
   "execution_count": 28,
   "metadata": {},
   "outputs": [],
   "source": [
    "def normalize_sngwriter(ddf):\n",
    "    subset_ddf = ddf.drop(columns = ['track_id',\n",
    "                          'Song Title',\n",
    "                          'Artist',\n",
    "                          'artist_id',\n",
    "                          'name',\n",
    "                          'popularity',\n",
    "                          'followers',\n",
    "                          'artist_name',\n",
    "                          'song_id',\n",
    "                          'song_title',\n",
    "                          'CID',\n",
    "                          'PID',\n",
    "                          'Title',\n",
    "                          'Performer Name',\n",
    "                          'Writer Name',\n",
    "                          'IPI',\n",
    "                          'PRO'])\n",
    "    grouped_vals_ddf = subset_ddf.groupby('WID').transform(lambda x: (x - x.mean()) / x.std())\n",
    "    return grouped_vals_ddf"
   ]
  },
  {
   "cell_type": "code",
   "execution_count": 5,
   "metadata": {},
   "outputs": [],
   "source": [
    "def normalize_sngwriter_df(ddf):\n",
    "    grouped_vals_ddf = ddf.groupby('WID').transform(lambda x: (x - x.mean()) / x.std())"
   ]
  },
  {
   "cell_type": "code",
   "execution_count": 29,
   "metadata": {},
   "outputs": [],
   "source": [
    "normalized_by_sngwriter_df = normalize_sngwriter(merged_df_ready)"
   ]
  },
  {
   "cell_type": "code",
   "execution_count": 30,
   "metadata": {},
   "outputs": [],
   "source": [
    "# normalized_by_sngwriter_df.to_csv('../data/interim/normalized_vector_20190516.csv')"
   ]
  },
  {
   "cell_type": "code",
   "execution_count": 44,
   "metadata": {},
   "outputs": [
    {
     "data": {
      "text/plain": [
       "(577426, 126)"
      ]
     },
     "execution_count": 44,
     "metadata": {},
     "output_type": "execute_result"
    }
   ],
   "source": [
    "normalized_by_sngwriter_df.shape"
   ]
  },
  {
   "cell_type": "markdown",
   "metadata": {},
   "source": [
    "##### Detecting Null Values "
   ]
  },
  {
   "cell_type": "code",
   "execution_count": 45,
   "metadata": {},
   "outputs": [
    {
     "data": {
      "text/plain": [
       "component_1          81530\n",
       "component_2          87139\n",
       "component_3          93384\n",
       "component_4          87833\n",
       "component_5          85671\n",
       "component_6          89459\n",
       "component_7          87992\n",
       "component_8          89366\n",
       "component_9          86899\n",
       "component_10         88352\n",
       "component_11         84486\n",
       "component_12         87718\n",
       "component_13         88319\n",
       "component_14         82288\n",
       "component_15         87549\n",
       "component_16         87390\n",
       "component_17         88073\n",
       "component_18         85157\n",
       "component_19         82286\n",
       "component_20         91339\n",
       "component_21         91090\n",
       "component_22         83418\n",
       "component_23         87957\n",
       "component_24         86513\n",
       "component_25         90215\n",
       "component_26         87249\n",
       "component_27         88837\n",
       "component_28         86229\n",
       "component_29         84643\n",
       "component_30         85742\n",
       "                     ...  \n",
       "tv_10                14535\n",
       "tv_11                14556\n",
       "acousticness         14808\n",
       "danceability         15077\n",
       "duration_ms          17012\n",
       "energy               14961\n",
       "instrumentalness     30270\n",
       "liveness             15001\n",
       "loudness             14797\n",
       "mode                 57629\n",
       "speechiness          14812\n",
       "tempo                14707\n",
       "valence              14848\n",
       "key_7                73941\n",
       "key_6               112382\n",
       "key_8               115858\n",
       "key_9                84775\n",
       "key_2                78847\n",
       "key_5                96275\n",
       "key_10              111991\n",
       "key_0                77509\n",
       "key_11               98929\n",
       "key_4               101435\n",
       "key_1                88512\n",
       "key_3               186740\n",
       "time_signature_3    106512\n",
       "time_signature_4     86473\n",
       "time_signature_5    257494\n",
       "time_signature_1    317436\n",
       "time_signature_0    506926\n",
       "Length: 126, dtype: int64"
      ]
     },
     "execution_count": 45,
     "metadata": {},
     "output_type": "execute_result"
    }
   ],
   "source": [
    "normalized_by_sngwriter_df.isnull().agg('sum')"
   ]
  },
  {
   "cell_type": "code",
   "execution_count": 60,
   "metadata": {},
   "outputs": [],
   "source": [
    "normalized_by_sngwriter_df.fillna(value = 0, inplace = True)"
   ]
  },
  {
   "cell_type": "code",
   "execution_count": 63,
   "metadata": {},
   "outputs": [],
   "source": [
    "normalized_by_sngwriter_df.to_csv('../data/interim/normalized_tracks_w_zeros_20190516.csv')"
   ]
  },
  {
   "cell_type": "code",
   "execution_count": 36,
   "metadata": {},
   "outputs": [],
   "source": [
    "def mk_full_normalized_dataset(normalized_df, original_df):\n",
    "    full_normalized_df = pd.concat([original_df[['track_id',\n",
    "                          'Song Title',\n",
    "                          'Artist',\n",
    "                          'artist_id',\n",
    "                          'name',\n",
    "                          'popularity',\n",
    "                          'followers',\n",
    "                          'artist_name',\n",
    "                          'song_id',\n",
    "                          'song_title',\n",
    "                          'CID',\n",
    "                          'PID',\n",
    "                          'Title',\n",
    "                          'Performer Name',\n",
    "                          'Writer Name',\n",
    "                          'IPI',\n",
    "                          'PRO']], normalized_df],\n",
    "                         axis = 1)\n",
    "    return full_normalized_df"
   ]
  },
  {
   "cell_type": "code",
   "execution_count": 37,
   "metadata": {},
   "outputs": [],
   "source": [
    "full_normalized_df = mk_full_normalized_dataset(normalized_by_sngwriter_df, merged_df_ready)"
   ]
  },
  {
   "cell_type": "code",
   "execution_count": 40,
   "metadata": {},
   "outputs": [
    {
     "name": "stdout",
     "output_type": "stream",
     "text": [
      "<class 'pandas.core.frame.DataFrame'>\n",
      "Int64Index: 577426 entries, 0 to 57473\n",
      "Columns: 143 entries, track_id to time_signature_0\n",
      "dtypes: float64(130), int64(1), object(12)\n",
      "memory usage: 634.4+ MB\n"
     ]
    }
   ],
   "source": [
    "full_normalized_df.info()"
   ]
  },
  {
   "cell_type": "code",
   "execution_count": 62,
   "metadata": {},
   "outputs": [],
   "source": [
    "full_normalized_df.to_csv('../data/interim/full_normalized_tracks_20190516.csv')"
   ]
  },
  {
   "cell_type": "markdown",
   "metadata": {},
   "source": [
    "## 3. Scaling Dataset "
   ]
  },
  {
   "cell_type": "code",
   "execution_count": 64,
   "metadata": {},
   "outputs": [],
   "source": [
    "from dask_ml.preprocessing import StandardScaler"
   ]
  },
  {
   "cell_type": "code",
   "execution_count": 65,
   "metadata": {},
   "outputs": [],
   "source": [
    "def scale_dataset(ddf):\n",
    "    ss = StandardScaler()\n",
    "    scaled_ddf = ss.fit_transform(ddf)\n",
    "    return scaled_ddf"
   ]
  },
  {
   "cell_type": "code",
   "execution_count": 66,
   "metadata": {},
   "outputs": [],
   "source": [
    "scaled_ddf = scale_dataset(normalized_by_sngwriter_df)"
   ]
  },
  {
   "cell_type": "code",
   "execution_count": 67,
   "metadata": {},
   "outputs": [
    {
     "data": {
      "text/plain": [
       "(577426, 126)"
      ]
     },
     "execution_count": 67,
     "metadata": {},
     "output_type": "execute_result"
    }
   ],
   "source": [
    "scaled_ddf.shape"
   ]
  },
  {
   "cell_type": "code",
   "execution_count": 68,
   "metadata": {},
   "outputs": [],
   "source": [
    "scaled_ddf.to_csv('../data/interim/scaled_ddf_201901516.csv')"
   ]
  }
 ],
 "metadata": {
  "kernelspec": {
   "display_name": "Python 3",
   "language": "python",
   "name": "python3"
  },
  "language_info": {
   "codemirror_mode": {
    "name": "ipython",
    "version": 3
   },
   "file_extension": ".py",
   "mimetype": "text/x-python",
   "name": "python",
   "nbconvert_exporter": "python",
   "pygments_lexer": "ipython3",
   "version": "3.7.3"
  }
 },
 "nbformat": 4,
 "nbformat_minor": 2
}
