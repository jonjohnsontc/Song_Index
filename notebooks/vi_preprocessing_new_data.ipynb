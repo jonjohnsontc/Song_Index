{
 "cells": [
  {
   "cell_type": "markdown",
   "metadata": {},
   "source": [
    "# Preprocessing Second Batch of Songs"
   ]
  },
  {
   "cell_type": "code",
   "execution_count": 145,
   "metadata": {},
   "outputs": [],
   "source": [
    "from functools import reduce\n",
    "from glob import glob\n",
    "import json\n",
    "from multiprocessing import cpu_count\n",
    "import pickle\n",
    "import os\n",
    "import re\n",
    "\n",
    "from deepmerge import always_merger\n",
    "\n",
    "import numpy as np\n",
    "import pandas as pd\n",
    "\n",
    "from spotipy import Spotify\n",
    "from spotipy.oauth2 import SpotifyClientCredentials\n",
    "\n",
    "from sklearn.decomposition import TruncatedSVD"
   ]
  },
  {
   "cell_type": "markdown",
   "metadata": {},
   "source": [
    "## Table of Contents\n",
    "\n",
    "1. Loading in Tables"
   ]
  },
  {
   "cell_type": "markdown",
   "metadata": {},
   "source": [
    "\n",
    "## 1. Loading in Tables"
   ]
  },
  {
   "cell_type": "code",
   "execution_count": 3,
   "metadata": {},
   "outputs": [],
   "source": [
    "# all songs I attempted to pull\n",
    "with open('../data/new_tracks_20190103.json', 'r') as f:\n",
    "    new_tracks = json.load(f)\n",
    "\n",
    "\n",
    "matched_songs = pd.read_csv('../data/matched_songs_20190209.csv', index_col = 0)\n",
    "main_wfeats = pd.read_csv('../data/main_wfeats.csv', index_col = 0)\n",
    "genres = pd.read_csv('../data/genres.csv', index_col = 0)\n",
    "gs_lookup = pd.read_csv('../data/gsong_lookup.csv', index_col=0)"
   ]
  },
  {
   "cell_type": "code",
   "execution_count": 149,
   "metadata": {},
   "outputs": [
    {
     "data": {
      "text/plain": [
       "Index(['song_id', 'album_release_date', 'artist_id', 'artist_name',\n",
       "       'duration_ms', 'explicit', 'linked_album', 'song_title', 'danceability',\n",
       "       'energy', 'key', 'loudness', 'mode', 'speechiness', 'acousticness',\n",
       "       'instrumentalness', 'liveness', 'valence', 'tempo', 'time_signature',\n",
       "       'key_changes', 'mean_song_conf', 'mean_loudness', 'mean_mode',\n",
       "       'mean_mode_conf', 'mean_tempo', 'mean_tempo_conf', 'var_song_conf',\n",
       "       'var_loudness', 'var_mode', 'var_mode_conf', 'var_tempo',\n",
       "       'var_tempo_conf', 'tm_dim_1', 'tm_dim_2', 'tm_dim_3', 'tm_dim_4',\n",
       "       'tm_dim_5', 'tm_dim_6', 'tm_dim_7', 'tm_dim_8', 'tm_dim_9', 'tm_dim_10',\n",
       "       'tm_dim_11', 'tm_dim_12', 'tv_dim_1', 'tv_dim_2', 'tv_dim_3',\n",
       "       'tv_dim_4', 'tv_dim_5', 'tv_dim_6', 'tv_dim_7', 'tv_dim_8', 'tv_dim_9',\n",
       "       'tv_dim_10', 'tv_dim_11', 'tv_dim_12', 'pm_dim_1', 'pm_dim_2',\n",
       "       'pm_dim_3', 'pm_dim_4', 'pm_dim_5', 'pm_dim_6', 'pm_dim_7', 'pm_dim_8',\n",
       "       'pm_dim_9', 'pm_dim_10', 'pm_dim_11', 'pm_dim_12', 'pv_dim_1',\n",
       "       'pv_dim_2', 'pv_dim_3', 'pv_dim_4', 'pv_dim_5', 'pv_dim_6', 'pv_dim_7',\n",
       "       'pv_dim_8', 'pv_dim_9', 'pv_dim_10', 'pv_dim_11', 'pv_dim_12'],\n",
       "      dtype='object')"
      ]
     },
     "execution_count": 149,
     "metadata": {},
     "output_type": "execute_result"
    }
   ],
   "source": [
    "main_wfeats.columns"
   ]
  },
  {
   "cell_type": "code",
   "execution_count": 4,
   "metadata": {},
   "outputs": [],
   "source": [
    "artists = pd.read_csv('../data/artist_list_v2.csv', index_col=0)"
   ]
  },
  {
   "cell_type": "markdown",
   "metadata": {},
   "source": [
    "### 1a. Grabbing Mean & Variance Segment Values"
   ]
  },
  {
   "cell_type": "code",
   "execution_count": 5,
   "metadata": {},
   "outputs": [],
   "source": [
    "def combine_section_mean_var(fp):\n",
    "    '''\n",
    "    Given a file path, grabs mean and variance segment dictionaries\n",
    "    and combines them together\n",
    "    '''\n",
    "    directory = {\n",
    "        'means' : [],\n",
    "        'vars' : [],\n",
    "    }\n",
    "    \n",
    "    # grabbing all files\n",
    "    for file in os.listdir(fp):\n",
    "        if 'section_mean_' in file:\n",
    "            directory['means'].append(file)\n",
    "        elif 'section_var_' in file:\n",
    "            directory['vars'].append(file)\n",
    "    \n",
    "    # base files\n",
    "    with open(f\"{fp}/{directory['means'][0]}\", 'r') as f:\n",
    "        mean_dict = json.load(f)\n",
    "    with open(f\"{fp}/{directory['vars'][0]}\", 'r') as f:\n",
    "        vars_dict = json.load(f)\n",
    "    \n",
    "    # adding addtl files\n",
    "    for i in range(1, len(directory['means'])):\n",
    "        with open(f\"{fp}/{directory['means'][i]}\", 'r') as f:\n",
    "            addition = json.load(f)\n",
    "        mean_dict.extend(addition)\n",
    "                  \n",
    "    for i in range(1, len(directory['vars'])):\n",
    "        with open(f\"{fp}/{directory['vars'][i]}\", 'r') as f:\n",
    "            addition = json.load(f)\n",
    "        vars_dict.extend(addition)\n",
    "    \n",
    "    return mean_dict, vars_dict"
   ]
  },
  {
   "cell_type": "code",
   "execution_count": 6,
   "metadata": {},
   "outputs": [],
   "source": [
    "means, variances = combine_section_mean_var('../data')"
   ]
  },
  {
   "cell_type": "code",
   "execution_count": 7,
   "metadata": {},
   "outputs": [
    {
     "data": {
      "text/plain": [
       "651452"
      ]
     },
     "execution_count": 7,
     "metadata": {},
     "output_type": "execute_result"
    }
   ],
   "source": [
    "len(variances)"
   ]
  },
  {
   "cell_type": "code",
   "execution_count": 8,
   "metadata": {},
   "outputs": [
    {
     "data": {
      "text/plain": [
       "651517"
      ]
     },
     "execution_count": 8,
     "metadata": {},
     "output_type": "execute_result"
    }
   ],
   "source": [
    "len(new_tracks)"
   ]
  },
  {
   "cell_type": "code",
   "execution_count": 9,
   "metadata": {},
   "outputs": [
    {
     "data": {
      "text/plain": [
       "159438"
      ]
     },
     "execution_count": 9,
     "metadata": {},
     "output_type": "execute_result"
    }
   ],
   "source": [
    "len(matched_songs)"
   ]
  },
  {
   "cell_type": "code",
   "execution_count": 10,
   "metadata": {},
   "outputs": [
    {
     "data": {
      "text/plain": [
       "{'confidence': 0.601625,\n",
       " 'duration': 26.5366675,\n",
       " 'loudness': -14.359750000000002,\n",
       " 'mode': 0.875,\n",
       " 'mode_confidence': 0.3652500000000001,\n",
       " 'tempo': 121.35325,\n",
       " 'tempo_confidence': 0.4575}"
      ]
     },
     "execution_count": 10,
     "metadata": {},
     "output_type": "execute_result"
    }
   ],
   "source": [
    "[value for value in means[0].values()][0]"
   ]
  },
  {
   "cell_type": "code",
   "execution_count": 11,
   "metadata": {},
   "outputs": [],
   "source": [
    "def unpack_lists(lst):\n",
    "    '''\n",
    "    Unpacks a list of dictionaries into a dictionary\n",
    "    '''\n",
    "    dct = {}\n",
    "    for i in range(len(lst)):\n",
    "        dct[[key for key in lst[i].keys()][0]] \\\n",
    "            = [value for value in lst[i].values()][0]\n",
    "    return dct"
   ]
  },
  {
   "cell_type": "code",
   "execution_count": 12,
   "metadata": {},
   "outputs": [],
   "source": [
    "mean_dict = unpack_lists(means)\n",
    "var_dict = unpack_lists(variances)"
   ]
  },
  {
   "cell_type": "code",
   "execution_count": 13,
   "metadata": {},
   "outputs": [],
   "source": [
    "def find_errors(dct):\n",
    "    '''\n",
    "    returns error messages if found in mean or var dicts\n",
    "    '''\n",
    "    error_dct = {}\n",
    "    for i in dct.copy():\n",
    "        if isinstance(dct[i], str):\n",
    "            error_dct[i] = dct[i]\n",
    "            del dct[i]\n",
    "    return dct, error_dct"
   ]
  },
  {
   "cell_type": "code",
   "execution_count": 14,
   "metadata": {},
   "outputs": [],
   "source": [
    "mean_dict, mean_errors = find_errors(mean_dict)"
   ]
  },
  {
   "cell_type": "code",
   "execution_count": 15,
   "metadata": {},
   "outputs": [],
   "source": [
    "var_dict, var_errors = find_errors(var_dict)"
   ]
  },
  {
   "cell_type": "code",
   "execution_count": 16,
   "metadata": {},
   "outputs": [
    {
     "data": {
      "text/plain": [
       "(650263, 650263)"
      ]
     },
     "execution_count": 16,
     "metadata": {},
     "output_type": "execute_result"
    }
   ],
   "source": [
    "len(mean_dict), len(var_dict)"
   ]
  },
  {
   "cell_type": "code",
   "execution_count": 17,
   "metadata": {},
   "outputs": [
    {
     "data": {
      "text/plain": [
       "(1189, 1189)"
      ]
     },
     "execution_count": 17,
     "metadata": {},
     "output_type": "execute_result"
    }
   ],
   "source": [
    "len(mean_errors), len(var_errors)"
   ]
  },
  {
   "cell_type": "code",
   "execution_count": 18,
   "metadata": {},
   "outputs": [],
   "source": [
    "mean_df = pd.DataFrame.from_dict(mean_dict, orient='index')"
   ]
  },
  {
   "cell_type": "code",
   "execution_count": 19,
   "metadata": {},
   "outputs": [],
   "source": [
    "var_df = pd.DataFrame.from_dict(var_dict, orient='index')"
   ]
  },
  {
   "cell_type": "code",
   "execution_count": 151,
   "metadata": {},
   "outputs": [],
   "source": [
    "mean_df.to_csv('../data/section_mean_df_20190413.csv')\n",
    "var_df.to_csv('../data/section_var_df_20190413.csv')"
   ]
  },
  {
   "cell_type": "code",
   "execution_count": 20,
   "metadata": {},
   "outputs": [
    {
     "data": {
      "text/html": [
       "<div>\n",
       "<style scoped>\n",
       "    .dataframe tbody tr th:only-of-type {\n",
       "        vertical-align: middle;\n",
       "    }\n",
       "\n",
       "    .dataframe tbody tr th {\n",
       "        vertical-align: top;\n",
       "    }\n",
       "\n",
       "    .dataframe thead th {\n",
       "        text-align: right;\n",
       "    }\n",
       "</style>\n",
       "<table border=\"1\" class=\"dataframe\">\n",
       "  <thead>\n",
       "    <tr style=\"text-align: right;\">\n",
       "      <th></th>\n",
       "      <th>confidence</th>\n",
       "      <th>duration</th>\n",
       "      <th>loudness</th>\n",
       "      <th>mode</th>\n",
       "      <th>mode_confidence</th>\n",
       "      <th>tempo</th>\n",
       "      <th>tempo_confidence</th>\n",
       "    </tr>\n",
       "  </thead>\n",
       "  <tbody>\n",
       "    <tr>\n",
       "      <th>0007aPK8VmXN4ycL2OcBFa</th>\n",
       "      <td>0.552778</td>\n",
       "      <td>32.807407</td>\n",
       "      <td>-7.355333</td>\n",
       "      <td>0.888889</td>\n",
       "      <td>0.354889</td>\n",
       "      <td>114.153000</td>\n",
       "      <td>0.286667</td>\n",
       "    </tr>\n",
       "    <tr>\n",
       "      <th>0008G8TW7eiVfwlRRsKlgW</th>\n",
       "      <td>0.549364</td>\n",
       "      <td>19.008486</td>\n",
       "      <td>-11.250909</td>\n",
       "      <td>0.909091</td>\n",
       "      <td>0.629455</td>\n",
       "      <td>133.749182</td>\n",
       "      <td>0.371545</td>\n",
       "    </tr>\n",
       "    <tr>\n",
       "      <th>000BqzNd7gRYnK6umzTNZX</th>\n",
       "      <td>0.657167</td>\n",
       "      <td>20.035555</td>\n",
       "      <td>-5.852000</td>\n",
       "      <td>0.833333</td>\n",
       "      <td>0.285667</td>\n",
       "      <td>145.424167</td>\n",
       "      <td>0.365333</td>\n",
       "    </tr>\n",
       "    <tr>\n",
       "      <th>000CSIqE1KcjAiZYYWXV18</th>\n",
       "      <td>0.477333</td>\n",
       "      <td>24.455557</td>\n",
       "      <td>-12.882333</td>\n",
       "      <td>0.166667</td>\n",
       "      <td>0.552833</td>\n",
       "      <td>124.057583</td>\n",
       "      <td>0.438833</td>\n",
       "    </tr>\n",
       "    <tr>\n",
       "      <th>000G1xMMuwxNHmwVsBdtj1</th>\n",
       "      <td>0.489167</td>\n",
       "      <td>15.195622</td>\n",
       "      <td>-6.957667</td>\n",
       "      <td>0.833333</td>\n",
       "      <td>0.262083</td>\n",
       "      <td>190.880667</td>\n",
       "      <td>0.272000</td>\n",
       "    </tr>\n",
       "  </tbody>\n",
       "</table>\n",
       "</div>"
      ],
      "text/plain": [
       "                        confidence   duration   loudness      mode  \\\n",
       "0007aPK8VmXN4ycL2OcBFa    0.552778  32.807407  -7.355333  0.888889   \n",
       "0008G8TW7eiVfwlRRsKlgW    0.549364  19.008486 -11.250909  0.909091   \n",
       "000BqzNd7gRYnK6umzTNZX    0.657167  20.035555  -5.852000  0.833333   \n",
       "000CSIqE1KcjAiZYYWXV18    0.477333  24.455557 -12.882333  0.166667   \n",
       "000G1xMMuwxNHmwVsBdtj1    0.489167  15.195622  -6.957667  0.833333   \n",
       "\n",
       "                        mode_confidence       tempo  tempo_confidence  \n",
       "0007aPK8VmXN4ycL2OcBFa         0.354889  114.153000          0.286667  \n",
       "0008G8TW7eiVfwlRRsKlgW         0.629455  133.749182          0.371545  \n",
       "000BqzNd7gRYnK6umzTNZX         0.285667  145.424167          0.365333  \n",
       "000CSIqE1KcjAiZYYWXV18         0.552833  124.057583          0.438833  \n",
       "000G1xMMuwxNHmwVsBdtj1         0.262083  190.880667          0.272000  "
      ]
     },
     "execution_count": 20,
     "metadata": {},
     "output_type": "execute_result"
    }
   ],
   "source": [
    "mean_df.head()"
   ]
  },
  {
   "cell_type": "code",
   "execution_count": 21,
   "metadata": {},
   "outputs": [
    {
     "data": {
      "text/plain": [
       "{'Song Title': 'Don`t Go', 'Artist': 'Stevie B'}"
      ]
     },
     "execution_count": 21,
     "metadata": {},
     "output_type": "execute_result"
    }
   ],
   "source": [
    "new_tracks['0008G8TW7eiVfwlRRsKlgW']"
   ]
  },
  {
   "cell_type": "code",
   "execution_count": 22,
   "metadata": {},
   "outputs": [],
   "source": [
    "new_tracks_df = pd.DataFrame.from_dict(new_tracks, orient='index')"
   ]
  },
  {
   "cell_type": "code",
   "execution_count": 23,
   "metadata": {},
   "outputs": [],
   "source": [
    "artists.reset_index(inplace=True)\n",
    "artists.rename(columns= {'s_artist_id' : 'artist_id'},\n",
    "               inplace= True)"
   ]
  },
  {
   "cell_type": "code",
   "execution_count": 24,
   "metadata": {},
   "outputs": [
    {
     "data": {
      "text/html": [
       "<div>\n",
       "<style scoped>\n",
       "    .dataframe tbody tr th:only-of-type {\n",
       "        vertical-align: middle;\n",
       "    }\n",
       "\n",
       "    .dataframe tbody tr th {\n",
       "        vertical-align: top;\n",
       "    }\n",
       "\n",
       "    .dataframe thead th {\n",
       "        text-align: right;\n",
       "    }\n",
       "</style>\n",
       "<table border=\"1\" class=\"dataframe\">\n",
       "  <thead>\n",
       "    <tr style=\"text-align: right;\">\n",
       "      <th></th>\n",
       "      <th>Song Title</th>\n",
       "      <th>Artist</th>\n",
       "    </tr>\n",
       "  </thead>\n",
       "  <tbody>\n",
       "    <tr>\n",
       "      <th>0007aPK8VmXN4ycL2OcBFa</th>\n",
       "      <td>Bodhisattva - Live</td>\n",
       "      <td>Toto</td>\n",
       "    </tr>\n",
       "    <tr>\n",
       "      <th>0008G8TW7eiVfwlRRsKlgW</th>\n",
       "      <td>Don`t Go</td>\n",
       "      <td>Stevie B</td>\n",
       "    </tr>\n",
       "    <tr>\n",
       "      <th>000BqzNd7gRYnK6umzTNZX</th>\n",
       "      <td>You Still Want Me - 2014 Remastered Version</td>\n",
       "      <td>The Kinks</td>\n",
       "    </tr>\n",
       "    <tr>\n",
       "      <th>000CSIqE1KcjAiZYYWXV18</th>\n",
       "      <td>Under The Sun (Ecclesiastes)</td>\n",
       "      <td>Michael Card</td>\n",
       "    </tr>\n",
       "    <tr>\n",
       "      <th>000G1xMMuwxNHmwVsBdtj1</th>\n",
       "      <td>Will Anything Happen</td>\n",
       "      <td>Blondie</td>\n",
       "    </tr>\n",
       "  </tbody>\n",
       "</table>\n",
       "</div>"
      ],
      "text/plain": [
       "                                                         Song Title  \\\n",
       "0007aPK8VmXN4ycL2OcBFa                           Bodhisattva - Live   \n",
       "0008G8TW7eiVfwlRRsKlgW                                     Don`t Go   \n",
       "000BqzNd7gRYnK6umzTNZX  You Still Want Me - 2014 Remastered Version   \n",
       "000CSIqE1KcjAiZYYWXV18                 Under The Sun (Ecclesiastes)   \n",
       "000G1xMMuwxNHmwVsBdtj1                         Will Anything Happen   \n",
       "\n",
       "                              Artist  \n",
       "0007aPK8VmXN4ycL2OcBFa          Toto  \n",
       "0008G8TW7eiVfwlRRsKlgW      Stevie B  \n",
       "000BqzNd7gRYnK6umzTNZX     The Kinks  \n",
       "000CSIqE1KcjAiZYYWXV18  Michael Card  \n",
       "000G1xMMuwxNHmwVsBdtj1       Blondie  "
      ]
     },
     "execution_count": 24,
     "metadata": {},
     "output_type": "execute_result"
    }
   ],
   "source": [
    "new_tracks_df.head()"
   ]
  },
  {
   "cell_type": "code",
   "execution_count": 25,
   "metadata": {},
   "outputs": [],
   "source": [
    "new_tracks_df.reset_index(inplace=True)"
   ]
  },
  {
   "cell_type": "code",
   "execution_count": 26,
   "metadata": {},
   "outputs": [],
   "source": [
    "new_tracks_df.rename(columns={'index': 'track_id'}, inplace=True)"
   ]
  },
  {
   "cell_type": "code",
   "execution_count": 27,
   "metadata": {},
   "outputs": [
    {
     "data": {
      "text/plain": [
       "2426"
      ]
     },
     "execution_count": 27,
     "metadata": {},
     "output_type": "execute_result"
    }
   ],
   "source": [
    "len(artists)"
   ]
  },
  {
   "cell_type": "markdown",
   "metadata": {},
   "source": [
    "### 1b. Adding in Artist IDs (and subsequently Genres into new tracks)\n",
    "\n",
    "It appears as though I'm loosing ~72k tracks when completing the merge. My guess is that it's likely these songs have multiple artists tied to them, and I did not pull the artist that matched the listing I currently have."
   ]
  },
  {
   "cell_type": "code",
   "execution_count": 28,
   "metadata": {},
   "outputs": [],
   "source": [
    "tracks_w_artist_df = new_tracks_df.merge(artists, \n",
    "                                         left_on='Artist',\n",
    "                                         right_on='name')"
   ]
  },
  {
   "cell_type": "code",
   "execution_count": 29,
   "metadata": {},
   "outputs": [
    {
     "data": {
      "text/plain": [
       "651517"
      ]
     },
     "execution_count": 29,
     "metadata": {},
     "output_type": "execute_result"
    }
   ],
   "source": [
    "len(new_tracks_df)"
   ]
  },
  {
   "cell_type": "code",
   "execution_count": 30,
   "metadata": {},
   "outputs": [
    {
     "data": {
      "text/plain": [
       "578062"
      ]
     },
     "execution_count": 30,
     "metadata": {},
     "output_type": "execute_result"
    }
   ],
   "source": [
    "len(tracks_w_artist_df)"
   ]
  },
  {
   "cell_type": "code",
   "execution_count": 31,
   "metadata": {},
   "outputs": [
    {
     "data": {
      "text/html": [
       "<div>\n",
       "<style scoped>\n",
       "    .dataframe tbody tr th:only-of-type {\n",
       "        vertical-align: middle;\n",
       "    }\n",
       "\n",
       "    .dataframe tbody tr th {\n",
       "        vertical-align: top;\n",
       "    }\n",
       "\n",
       "    .dataframe thead th {\n",
       "        text-align: right;\n",
       "    }\n",
       "</style>\n",
       "<table border=\"1\" class=\"dataframe\">\n",
       "  <thead>\n",
       "    <tr style=\"text-align: right;\">\n",
       "      <th></th>\n",
       "      <th>track_id</th>\n",
       "      <th>Song Title</th>\n",
       "      <th>Artist</th>\n",
       "      <th>artist_id</th>\n",
       "      <th>name</th>\n",
       "      <th>popularity</th>\n",
       "      <th>followers</th>\n",
       "    </tr>\n",
       "  </thead>\n",
       "  <tbody>\n",
       "    <tr>\n",
       "      <th>0</th>\n",
       "      <td>0007aPK8VmXN4ycL2OcBFa</td>\n",
       "      <td>Bodhisattva - Live</td>\n",
       "      <td>Toto</td>\n",
       "      <td>0PFtn5NtBbbUNbU9EAmIWF</td>\n",
       "      <td>Toto</td>\n",
       "      <td>76</td>\n",
       "      <td>753405.0</td>\n",
       "    </tr>\n",
       "    <tr>\n",
       "      <th>1</th>\n",
       "      <td>00LEpojkN28l3W4axF8Ish</td>\n",
       "      <td>Don't Chain My Heart - Live</td>\n",
       "      <td>Toto</td>\n",
       "      <td>0PFtn5NtBbbUNbU9EAmIWF</td>\n",
       "      <td>Toto</td>\n",
       "      <td>76</td>\n",
       "      <td>753405.0</td>\n",
       "    </tr>\n",
       "    <tr>\n",
       "      <th>2</th>\n",
       "      <td>03IWDwx4slQdBg4lAt4H0n</td>\n",
       "      <td>Taint Your World (Live)</td>\n",
       "      <td>Toto</td>\n",
       "      <td>0PFtn5NtBbbUNbU9EAmIWF</td>\n",
       "      <td>Toto</td>\n",
       "      <td>76</td>\n",
       "      <td>753405.0</td>\n",
       "    </tr>\n",
       "    <tr>\n",
       "      <th>3</th>\n",
       "      <td>042qp6lOUMoMHVT6R85u8W</td>\n",
       "      <td>Caught In the Balance - Live Version</td>\n",
       "      <td>Toto</td>\n",
       "      <td>0PFtn5NtBbbUNbU9EAmIWF</td>\n",
       "      <td>Toto</td>\n",
       "      <td>76</td>\n",
       "      <td>753405.0</td>\n",
       "    </tr>\n",
       "    <tr>\n",
       "      <th>4</th>\n",
       "      <td>06WhJ0TK0N9fyJFvAMRWEL</td>\n",
       "      <td>Girl Goodbye - Live</td>\n",
       "      <td>Toto</td>\n",
       "      <td>0PFtn5NtBbbUNbU9EAmIWF</td>\n",
       "      <td>Toto</td>\n",
       "      <td>76</td>\n",
       "      <td>753405.0</td>\n",
       "    </tr>\n",
       "  </tbody>\n",
       "</table>\n",
       "</div>"
      ],
      "text/plain": [
       "                 track_id                            Song Title Artist  \\\n",
       "0  0007aPK8VmXN4ycL2OcBFa                    Bodhisattva - Live   Toto   \n",
       "1  00LEpojkN28l3W4axF8Ish           Don't Chain My Heart - Live   Toto   \n",
       "2  03IWDwx4slQdBg4lAt4H0n               Taint Your World (Live)   Toto   \n",
       "3  042qp6lOUMoMHVT6R85u8W  Caught In the Balance - Live Version   Toto   \n",
       "4  06WhJ0TK0N9fyJFvAMRWEL                   Girl Goodbye - Live   Toto   \n",
       "\n",
       "                artist_id  name  popularity  followers  \n",
       "0  0PFtn5NtBbbUNbU9EAmIWF  Toto          76   753405.0  \n",
       "1  0PFtn5NtBbbUNbU9EAmIWF  Toto          76   753405.0  \n",
       "2  0PFtn5NtBbbUNbU9EAmIWF  Toto          76   753405.0  \n",
       "3  0PFtn5NtBbbUNbU9EAmIWF  Toto          76   753405.0  \n",
       "4  0PFtn5NtBbbUNbU9EAmIWF  Toto          76   753405.0  "
      ]
     },
     "execution_count": 31,
     "metadata": {},
     "output_type": "execute_result"
    }
   ],
   "source": [
    "tracks_w_artist_df.head()"
   ]
  },
  {
   "cell_type": "code",
   "execution_count": 32,
   "metadata": {},
   "outputs": [
    {
     "data": {
      "text/plain": [
       "2330"
      ]
     },
     "execution_count": 32,
     "metadata": {},
     "output_type": "execute_result"
    }
   ],
   "source": [
    "tracks_w_artist_df['name'].nunique()"
   ]
  },
  {
   "cell_type": "markdown",
   "metadata": {},
   "source": [
    "#### Looking at Matched Songs"
   ]
  },
  {
   "cell_type": "code",
   "execution_count": 33,
   "metadata": {},
   "outputs": [
    {
     "data": {
      "text/html": [
       "<div>\n",
       "<style scoped>\n",
       "    .dataframe tbody tr th:only-of-type {\n",
       "        vertical-align: middle;\n",
       "    }\n",
       "\n",
       "    .dataframe tbody tr th {\n",
       "        vertical-align: top;\n",
       "    }\n",
       "\n",
       "    .dataframe thead th {\n",
       "        text-align: right;\n",
       "    }\n",
       "</style>\n",
       "<table border=\"1\" class=\"dataframe\">\n",
       "  <thead>\n",
       "    <tr style=\"text-align: right;\">\n",
       "      <th></th>\n",
       "      <th>artist_name</th>\n",
       "      <th>song_id</th>\n",
       "      <th>song_title</th>\n",
       "      <th>CID</th>\n",
       "      <th>PID</th>\n",
       "      <th>Title</th>\n",
       "      <th>Performer Name</th>\n",
       "    </tr>\n",
       "  </thead>\n",
       "  <tbody>\n",
       "    <tr>\n",
       "      <th>0</th>\n",
       "      <td>robyn</td>\n",
       "      <td>6SluaPiV04KOaRTOIScoff</td>\n",
       "      <td>show me love</td>\n",
       "      <td>260151.0</td>\n",
       "      <td>14428.0</td>\n",
       "      <td>show me love</td>\n",
       "      <td>robyn</td>\n",
       "    </tr>\n",
       "    <tr>\n",
       "      <th>3</th>\n",
       "      <td>lukas graham</td>\n",
       "      <td>5kqIPrATaCc2LqxVWzQGbk</td>\n",
       "      <td>7 years</td>\n",
       "      <td>43137.0</td>\n",
       "      <td>53876.0</td>\n",
       "      <td>7 years</td>\n",
       "      <td>lukas graham</td>\n",
       "    </tr>\n",
       "    <tr>\n",
       "      <th>10</th>\n",
       "      <td>the killers</td>\n",
       "      <td>3aVyHFxRkf8lSjhWdJ68AW</td>\n",
       "      <td>just another girl</td>\n",
       "      <td>76427.0</td>\n",
       "      <td>39793.0</td>\n",
       "      <td>just another girl</td>\n",
       "      <td>the killers</td>\n",
       "    </tr>\n",
       "    <tr>\n",
       "      <th>11</th>\n",
       "      <td>tamia</td>\n",
       "      <td>0zIyxS6QxZogHOpGkI6IZH</td>\n",
       "      <td>deeper</td>\n",
       "      <td>8897.0</td>\n",
       "      <td>14338.0</td>\n",
       "      <td>deeper</td>\n",
       "      <td>tamia</td>\n",
       "    </tr>\n",
       "    <tr>\n",
       "      <th>14</th>\n",
       "      <td>kanye west</td>\n",
       "      <td>12D0n7hKpPcjuUpcbAKjjr</td>\n",
       "      <td>dont like.1</td>\n",
       "      <td>68936.0</td>\n",
       "      <td>2118.0</td>\n",
       "      <td>dont like.1</td>\n",
       "      <td>kanye west</td>\n",
       "    </tr>\n",
       "  </tbody>\n",
       "</table>\n",
       "</div>"
      ],
      "text/plain": [
       "     artist_name                 song_id         song_title       CID  \\\n",
       "0          robyn  6SluaPiV04KOaRTOIScoff       show me love  260151.0   \n",
       "3   lukas graham  5kqIPrATaCc2LqxVWzQGbk            7 years   43137.0   \n",
       "10   the killers  3aVyHFxRkf8lSjhWdJ68AW  just another girl   76427.0   \n",
       "11         tamia  0zIyxS6QxZogHOpGkI6IZH             deeper    8897.0   \n",
       "14    kanye west  12D0n7hKpPcjuUpcbAKjjr        dont like.1   68936.0   \n",
       "\n",
       "        PID              Title Performer Name  \n",
       "0   14428.0       show me love          robyn  \n",
       "3   53876.0            7 years   lukas graham  \n",
       "10  39793.0  just another girl    the killers  \n",
       "11  14338.0             deeper          tamia  \n",
       "14   2118.0        dont like.1     kanye west  "
      ]
     },
     "execution_count": 33,
     "metadata": {},
     "output_type": "execute_result"
    }
   ],
   "source": [
    "matched_songs.head()"
   ]
  },
  {
   "cell_type": "code",
   "execution_count": 34,
   "metadata": {},
   "outputs": [
    {
     "data": {
      "text/plain": [
       "159438"
      ]
     },
     "execution_count": 34,
     "metadata": {},
     "output_type": "execute_result"
    }
   ],
   "source": [
    "len(matched_songs)"
   ]
  },
  {
   "cell_type": "markdown",
   "metadata": {},
   "source": [
    "#### Comparing Titles Against Matched Tracks -w- Artist IDs"
   ]
  },
  {
   "cell_type": "code",
   "execution_count": 35,
   "metadata": {},
   "outputs": [],
   "source": [
    "matched_tracks_df = tracks_w_artist_df.merge(matched_songs,\n",
    "                                        left_on='track_id',\n",
    "                                        right_on='song_id')"
   ]
  },
  {
   "cell_type": "code",
   "execution_count": 36,
   "metadata": {},
   "outputs": [
    {
     "name": "stdout",
     "output_type": "stream",
     "text": [
      "<class 'pandas.core.frame.DataFrame'>\n",
      "Int64Index: 160200 entries, 0 to 160199\n",
      "Data columns (total 14 columns):\n",
      "track_id          160200 non-null object\n",
      "Song Title        160200 non-null object\n",
      "Artist            160200 non-null object\n",
      "artist_id         160200 non-null object\n",
      "name              160200 non-null object\n",
      "popularity        160200 non-null int64\n",
      "followers         160200 non-null float64\n",
      "artist_name       160200 non-null object\n",
      "song_id           160200 non-null object\n",
      "song_title        160200 non-null object\n",
      "CID               160200 non-null float64\n",
      "PID               160200 non-null float64\n",
      "Title             160200 non-null object\n",
      "Performer Name    160200 non-null object\n",
      "dtypes: float64(3), int64(1), object(10)\n",
      "memory usage: 18.3+ MB\n"
     ]
    }
   ],
   "source": [
    "matched_tracks_df.info()"
   ]
  },
  {
   "cell_type": "markdown",
   "metadata": {},
   "source": [
    "## 1c. Merging In Composer info to See Remaining Recommendable Songwriters"
   ]
  },
  {
   "cell_type": "code",
   "execution_count": 37,
   "metadata": {},
   "outputs": [],
   "source": [
    "cw_lookup = pd.read_csv('../data/cw_lookup.csv', index_col=0)\n",
    "writers = pd.read_csv('../data/writers.csv', index_col=0)"
   ]
  },
  {
   "cell_type": "code",
   "execution_count": 38,
   "metadata": {},
   "outputs": [
    {
     "data": {
      "text/html": [
       "<div>\n",
       "<style scoped>\n",
       "    .dataframe tbody tr th:only-of-type {\n",
       "        vertical-align: middle;\n",
       "    }\n",
       "\n",
       "    .dataframe tbody tr th {\n",
       "        vertical-align: top;\n",
       "    }\n",
       "\n",
       "    .dataframe thead th {\n",
       "        text-align: right;\n",
       "    }\n",
       "</style>\n",
       "<table border=\"1\" class=\"dataframe\">\n",
       "  <thead>\n",
       "    <tr style=\"text-align: right;\">\n",
       "      <th></th>\n",
       "      <th>CID</th>\n",
       "      <th>IPI</th>\n",
       "    </tr>\n",
       "  </thead>\n",
       "  <tbody>\n",
       "    <tr>\n",
       "      <th>1</th>\n",
       "      <td>0</td>\n",
       "      <td>205786169</td>\n",
       "    </tr>\n",
       "    <tr>\n",
       "      <th>2</th>\n",
       "      <td>0</td>\n",
       "      <td>333982644</td>\n",
       "    </tr>\n",
       "    <tr>\n",
       "      <th>3</th>\n",
       "      <td>0</td>\n",
       "      <td>337563351</td>\n",
       "    </tr>\n",
       "    <tr>\n",
       "      <th>4</th>\n",
       "      <td>0</td>\n",
       "      <td>337563939</td>\n",
       "    </tr>\n",
       "    <tr>\n",
       "      <th>5</th>\n",
       "      <td>0</td>\n",
       "      <td>337564152</td>\n",
       "    </tr>\n",
       "  </tbody>\n",
       "</table>\n",
       "</div>"
      ],
      "text/plain": [
       "   CID        IPI\n",
       "1    0  205786169\n",
       "2    0  333982644\n",
       "3    0  337563351\n",
       "4    0  337563939\n",
       "5    0  337564152"
      ]
     },
     "execution_count": 38,
     "metadata": {},
     "output_type": "execute_result"
    }
   ],
   "source": [
    "cw_lookup.head()"
   ]
  },
  {
   "cell_type": "code",
   "execution_count": 39,
   "metadata": {},
   "outputs": [],
   "source": [
    "matched_w_CID = matched_tracks_df.merge(cw_lookup,\n",
    "                                        on='CID')"
   ]
  },
  {
   "cell_type": "code",
   "execution_count": 40,
   "metadata": {},
   "outputs": [],
   "source": [
    "matched_w_writers = matched_w_CID.merge(writers,\n",
    "                                     on='IPI')"
   ]
  },
  {
   "cell_type": "code",
   "execution_count": 41,
   "metadata": {},
   "outputs": [
    {
     "data": {
      "text/html": [
       "<div>\n",
       "<style scoped>\n",
       "    .dataframe tbody tr th:only-of-type {\n",
       "        vertical-align: middle;\n",
       "    }\n",
       "\n",
       "    .dataframe tbody tr th {\n",
       "        vertical-align: top;\n",
       "    }\n",
       "\n",
       "    .dataframe thead th {\n",
       "        text-align: right;\n",
       "    }\n",
       "</style>\n",
       "<table border=\"1\" class=\"dataframe\">\n",
       "  <thead>\n",
       "    <tr style=\"text-align: right;\">\n",
       "      <th></th>\n",
       "      <th>track_id</th>\n",
       "      <th>Song Title</th>\n",
       "      <th>Artist</th>\n",
       "      <th>artist_id</th>\n",
       "      <th>name</th>\n",
       "      <th>popularity</th>\n",
       "      <th>followers</th>\n",
       "      <th>artist_name</th>\n",
       "      <th>song_id</th>\n",
       "      <th>song_title</th>\n",
       "      <th>CID</th>\n",
       "      <th>PID</th>\n",
       "      <th>Title</th>\n",
       "      <th>Performer Name</th>\n",
       "      <th>IPI</th>\n",
       "      <th>Writer Name</th>\n",
       "      <th>PRO</th>\n",
       "    </tr>\n",
       "  </thead>\n",
       "  <tbody>\n",
       "    <tr>\n",
       "      <th>0</th>\n",
       "      <td>0007aPK8VmXN4ycL2OcBFa</td>\n",
       "      <td>Bodhisattva - Live</td>\n",
       "      <td>Toto</td>\n",
       "      <td>0PFtn5NtBbbUNbU9EAmIWF</td>\n",
       "      <td>Toto</td>\n",
       "      <td>76</td>\n",
       "      <td>753405.0</td>\n",
       "      <td>toto</td>\n",
       "      <td>0007aPK8VmXN4ycL2OcBFa</td>\n",
       "      <td>bodhisattva</td>\n",
       "      <td>126127.0</td>\n",
       "      <td>6030.0</td>\n",
       "      <td>bodhisattva</td>\n",
       "      <td>toto</td>\n",
       "      <td>89150949</td>\n",
       "      <td>BECKER WALTER CARL</td>\n",
       "      <td>ASCAP</td>\n",
       "    </tr>\n",
       "    <tr>\n",
       "      <th>1</th>\n",
       "      <td>4F6419huGNh7rXB8Kr1rBf</td>\n",
       "      <td>Bodhisattva - Live</td>\n",
       "      <td>Toto</td>\n",
       "      <td>0PFtn5NtBbbUNbU9EAmIWF</td>\n",
       "      <td>Toto</td>\n",
       "      <td>76</td>\n",
       "      <td>753405.0</td>\n",
       "      <td>toto</td>\n",
       "      <td>4F6419huGNh7rXB8Kr1rBf</td>\n",
       "      <td>bodhisattva</td>\n",
       "      <td>126127.0</td>\n",
       "      <td>6030.0</td>\n",
       "      <td>bodhisattva</td>\n",
       "      <td>toto</td>\n",
       "      <td>89150949</td>\n",
       "      <td>BECKER WALTER CARL</td>\n",
       "      <td>ASCAP</td>\n",
       "    </tr>\n",
       "    <tr>\n",
       "      <th>2</th>\n",
       "      <td>6auUOYXyP76l4fiqC86c9E</td>\n",
       "      <td>Bodhisattva - Live</td>\n",
       "      <td>Toto</td>\n",
       "      <td>0PFtn5NtBbbUNbU9EAmIWF</td>\n",
       "      <td>Toto</td>\n",
       "      <td>76</td>\n",
       "      <td>753405.0</td>\n",
       "      <td>toto</td>\n",
       "      <td>6auUOYXyP76l4fiqC86c9E</td>\n",
       "      <td>bodhisattva</td>\n",
       "      <td>126127.0</td>\n",
       "      <td>6030.0</td>\n",
       "      <td>bodhisattva</td>\n",
       "      <td>toto</td>\n",
       "      <td>89150949</td>\n",
       "      <td>BECKER WALTER CARL</td>\n",
       "      <td>ASCAP</td>\n",
       "    </tr>\n",
       "    <tr>\n",
       "      <th>3</th>\n",
       "      <td>10JB78fwqaUrCFZj3XNn6L</td>\n",
       "      <td>Bodhisattva</td>\n",
       "      <td>Steely Dan</td>\n",
       "      <td>6P7H3ai06vU1sGvdpBwDmE</td>\n",
       "      <td>Steely Dan</td>\n",
       "      <td>68</td>\n",
       "      <td>601480.0</td>\n",
       "      <td>steely dan</td>\n",
       "      <td>10JB78fwqaUrCFZj3XNn6L</td>\n",
       "      <td>bodhisattva</td>\n",
       "      <td>126127.0</td>\n",
       "      <td>1699.0</td>\n",
       "      <td>bodhisattva</td>\n",
       "      <td>steely dan</td>\n",
       "      <td>89150949</td>\n",
       "      <td>BECKER WALTER CARL</td>\n",
       "      <td>ASCAP</td>\n",
       "    </tr>\n",
       "    <tr>\n",
       "      <th>4</th>\n",
       "      <td>6cdLlECd80adBM3fgEk9Km</td>\n",
       "      <td>Bodhisattva</td>\n",
       "      <td>Steely Dan</td>\n",
       "      <td>6P7H3ai06vU1sGvdpBwDmE</td>\n",
       "      <td>Steely Dan</td>\n",
       "      <td>68</td>\n",
       "      <td>601480.0</td>\n",
       "      <td>steely dan</td>\n",
       "      <td>6cdLlECd80adBM3fgEk9Km</td>\n",
       "      <td>bodhisattva</td>\n",
       "      <td>126127.0</td>\n",
       "      <td>1699.0</td>\n",
       "      <td>bodhisattva</td>\n",
       "      <td>steely dan</td>\n",
       "      <td>89150949</td>\n",
       "      <td>BECKER WALTER CARL</td>\n",
       "      <td>ASCAP</td>\n",
       "    </tr>\n",
       "  </tbody>\n",
       "</table>\n",
       "</div>"
      ],
      "text/plain": [
       "                 track_id          Song Title      Artist  \\\n",
       "0  0007aPK8VmXN4ycL2OcBFa  Bodhisattva - Live        Toto   \n",
       "1  4F6419huGNh7rXB8Kr1rBf  Bodhisattva - Live        Toto   \n",
       "2  6auUOYXyP76l4fiqC86c9E  Bodhisattva - Live        Toto   \n",
       "3  10JB78fwqaUrCFZj3XNn6L         Bodhisattva  Steely Dan   \n",
       "4  6cdLlECd80adBM3fgEk9Km         Bodhisattva  Steely Dan   \n",
       "\n",
       "                artist_id        name  popularity  followers artist_name  \\\n",
       "0  0PFtn5NtBbbUNbU9EAmIWF        Toto          76   753405.0        toto   \n",
       "1  0PFtn5NtBbbUNbU9EAmIWF        Toto          76   753405.0        toto   \n",
       "2  0PFtn5NtBbbUNbU9EAmIWF        Toto          76   753405.0        toto   \n",
       "3  6P7H3ai06vU1sGvdpBwDmE  Steely Dan          68   601480.0  steely dan   \n",
       "4  6P7H3ai06vU1sGvdpBwDmE  Steely Dan          68   601480.0  steely dan   \n",
       "\n",
       "                  song_id   song_title       CID     PID        Title  \\\n",
       "0  0007aPK8VmXN4ycL2OcBFa  bodhisattva  126127.0  6030.0  bodhisattva   \n",
       "1  4F6419huGNh7rXB8Kr1rBf  bodhisattva  126127.0  6030.0  bodhisattva   \n",
       "2  6auUOYXyP76l4fiqC86c9E  bodhisattva  126127.0  6030.0  bodhisattva   \n",
       "3  10JB78fwqaUrCFZj3XNn6L  bodhisattva  126127.0  1699.0  bodhisattva   \n",
       "4  6cdLlECd80adBM3fgEk9Km  bodhisattva  126127.0  1699.0  bodhisattva   \n",
       "\n",
       "  Performer Name       IPI         Writer Name    PRO  \n",
       "0           toto  89150949  BECKER WALTER CARL  ASCAP  \n",
       "1           toto  89150949  BECKER WALTER CARL  ASCAP  \n",
       "2           toto  89150949  BECKER WALTER CARL  ASCAP  \n",
       "3     steely dan  89150949  BECKER WALTER CARL  ASCAP  \n",
       "4     steely dan  89150949  BECKER WALTER CARL  ASCAP  "
      ]
     },
     "execution_count": 41,
     "metadata": {},
     "output_type": "execute_result"
    }
   ],
   "source": [
    "matched_w_writers.head()"
   ]
  },
  {
   "cell_type": "code",
   "execution_count": 42,
   "metadata": {},
   "outputs": [
    {
     "data": {
      "text/plain": [
       "24672"
      ]
     },
     "execution_count": 42,
     "metadata": {},
     "output_type": "execute_result"
    }
   ],
   "source": [
    "matched_w_writers['IPI'].nunique()"
   ]
  },
  {
   "cell_type": "code",
   "execution_count": 43,
   "metadata": {},
   "outputs": [
    {
     "data": {
      "text/plain": [
       "(10939,)"
      ]
     },
     "execution_count": 43,
     "metadata": {},
     "output_type": "execute_result"
    }
   ],
   "source": [
    "matched_w_writers['Writer Name'].value_counts()[matched_w_writers['Writer Name'].value_counts() > 4].shape"
   ]
  },
  {
   "cell_type": "code",
   "execution_count": 152,
   "metadata": {},
   "outputs": [],
   "source": [
    "matched_w_writers.to_csv('../data/matched_tracks_w_writers_20190413.csv')"
   ]
  },
  {
   "cell_type": "code",
   "execution_count": 44,
   "metadata": {},
   "outputs": [],
   "source": [
    "matched_deduplicated_titles = matched_w_writers.drop_duplicates(subset=['Song Title', 'Artist', 'artist_name', \n",
    "                                                                        'song_title', 'CID', 'PID', 'Title',\n",
    "                                                                        'Performer Name', 'IPI', 'Writer Name',\n",
    "                                                                        'PRO'])"
   ]
  },
  {
   "cell_type": "markdown",
   "metadata": {},
   "source": [
    "### 1d. Full Number of Recommended IPI's with Deduplicated Titles\n",
    "\n",
    "Need to subtract 1 for the the `-` value. Though, perhaps I could match on same name `if -`."
   ]
  },
  {
   "cell_type": "code",
   "execution_count": 45,
   "metadata": {},
   "outputs": [
    {
     "data": {
      "text/plain": [
       "(8974,)"
      ]
     },
     "execution_count": 45,
     "metadata": {},
     "output_type": "execute_result"
    }
   ],
   "source": [
    "matched_deduplicated_titles['IPI'].value_counts()[matched_deduplicated_titles['IPI'].value_counts() > 4].shape"
   ]
  },
  {
   "cell_type": "markdown",
   "metadata": {},
   "source": [
    "Just looking at the writer names at the top and bottom. There's probably at least 10% aliases here"
   ]
  },
  {
   "cell_type": "code",
   "execution_count": 46,
   "metadata": {},
   "outputs": [
    {
     "data": {
      "text/plain": [
       "24519"
      ]
     },
     "execution_count": 46,
     "metadata": {},
     "output_type": "execute_result"
    }
   ],
   "source": [
    "matched_deduplicated_titles['Writer Name'].nunique()"
   ]
  },
  {
   "cell_type": "code",
   "execution_count": 47,
   "metadata": {},
   "outputs": [],
   "source": [
    "matched_deduplicated_pre_writers = matched_deduplicated_titles.drop(columns=['IPI', 'Writer Name', 'PRO'])"
   ]
  },
  {
   "cell_type": "code",
   "execution_count": 48,
   "metadata": {},
   "outputs": [],
   "source": [
    "matched_deduplicated_writers = matched_deduplicated_pre_writers.drop_duplicates()"
   ]
  },
  {
   "cell_type": "markdown",
   "metadata": {},
   "source": [
    "### 1e. \"Master\" List of Recommendable Songs, Based on Spotify ID"
   ]
  },
  {
   "cell_type": "code",
   "execution_count": 49,
   "metadata": {},
   "outputs": [
    {
     "data": {
      "text/plain": [
       "(107784, 14)"
      ]
     },
     "execution_count": 49,
     "metadata": {},
     "output_type": "execute_result"
    }
   ],
   "source": [
    "matched_deduplicated_writers.shape"
   ]
  },
  {
   "cell_type": "markdown",
   "metadata": {},
   "source": [
    "### 1f. Adding Pitch and Timbre Means / Variances"
   ]
  },
  {
   "cell_type": "code",
   "execution_count": 54,
   "metadata": {},
   "outputs": [
    {
     "data": {
      "text/plain": [
       "['../data/pitch_timbre_means_vars/']"
      ]
     },
     "execution_count": 54,
     "metadata": {},
     "output_type": "execute_result"
    }
   ],
   "source": [
    "glob('../data/pitch_timbre_means_vars/*')"
   ]
  },
  {
   "cell_type": "code",
   "execution_count": 93,
   "metadata": {},
   "outputs": [],
   "source": [
    "with open('../data/pitch_timbre_means_vars/pitch_means_100000.json', 'r') as f:\n",
    "    pm_test = json.load(f)\n",
    "with open('../data/pitch_timbre_means_vars/pitch_var_100000.json', 'r') as f:\n",
    "    pv_test = json.load(f)"
   ]
  },
  {
   "cell_type": "code",
   "execution_count": 94,
   "metadata": {},
   "outputs": [],
   "source": [
    "pitch_test_dict = always_merger.merge(pm_test, pv_test)"
   ]
  },
  {
   "cell_type": "code",
   "execution_count": 78,
   "metadata": {},
   "outputs": [],
   "source": [
    "from functools import reduce"
   ]
  },
  {
   "cell_type": "code",
   "execution_count": 150,
   "metadata": {},
   "outputs": [],
   "source": [
    "def combine_pitch_timbre_files(file_path, output='dict'):\n",
    "    '''\n",
    "    Combines pitch and timbre mean & variance files\n",
    "    into a single dictionary, or dataframe\n",
    "    \n",
    "    file_path : str, location of pitch and timbre files\n",
    "    output : str, default 'dict' (can also pass 'df')\n",
    "             outputs resulting file into either a dict\n",
    "             or dataframe\n",
    "    '''\n",
    "    if not (output == 'dict') | (output == 'df'):\n",
    "        raise ValueError('Output must either be set to dict or df')\n",
    "    \n",
    "    pitch_means_dict = {}\n",
    "    pitch_var_dict = {}\n",
    "    timbre_means_dict = {}\n",
    "    timbre_var_dict = {}\n",
    "    \n",
    "    pitch_timbre_file_list = glob(f'{file_path}/*')\n",
    "\n",
    "    print('Opening Files')\n",
    "    for file_w_file_path in pitch_timbre_file_list:\n",
    "        if 'pitch_var' in file_w_file_path:\n",
    "            if len(pitch_var_dict) > 1:\n",
    "                with open(f'{file_w_file_path}', 'r') as f:\n",
    "                    temp_dict = json.load(f)\n",
    "                    pitch_var_dict.update(temp_dict)\n",
    "            else:\n",
    "                with open(f'{file_w_file_path}', 'r') as f:\n",
    "                    pitch_var_dict = json.load(f)\n",
    "        \n",
    "        elif 'pitch_means' in file_w_file_path:\n",
    "            if len(pitch_means_dict) > 1:\n",
    "                with open(f'{file_w_file_path}', 'r') as f:\n",
    "                    temp_dict = json.load(f)\n",
    "                    pitch_means_dict.update(temp_dict)\n",
    "            else:\n",
    "                with open(f'{file_w_file_path}', 'r') as f:\n",
    "                    pitch_means_dict = json.load(f)\n",
    "        \n",
    "        elif 'timbre_var' in file_w_file_path:\n",
    "            if len(timbre_var_dict) > 1:\n",
    "                with open(f'{file_w_file_path}', 'r') as f:\n",
    "                    temp_dict = json.load(f)\n",
    "                    timbre_var_dict.update(temp_dict)\n",
    "            else:\n",
    "                with open(f'{file_w_file_path}', 'r') as f:\n",
    "                    timbre_var_dict = json.load(f)        \n",
    "        \n",
    "        elif 'timbre_means' in file_w_file_path:\n",
    "            if len(timbre_means_dict) > 1:\n",
    "                with open(f'{file_w_file_path}', 'r') as f:\n",
    "                    temp_dict = json.load(f)\n",
    "                    timbre_means_dict.update(temp_dict)\n",
    "            else:\n",
    "                with open(f'{file_w_file_path}', 'r') as f:\n",
    "                    timbre_means_dict = json.load(f)\n",
    "    \n",
    "    print('Organizing Dictionaries')\n",
    "    for track_id in pitch_means_dict:\n",
    "        pitch_means_dict[track_id] = {\n",
    "            f'pm_{i}' : pitch_means_dict[track_id]['pitch_means'][i] \\\n",
    "            for i in range(len(pitch_means_dict[track_id]['pitch_means']))\n",
    "        }\n",
    "    for track_id in pitch_var_dict:\n",
    "        pitch_var_dict[track_id] = {\n",
    "            f'pv_{i}' : pitch_var_dict[track_id]['pitch_var'][i] \\\n",
    "            for i in range(len(pitch_var_dict[track_id]['pitch_var']))\n",
    "        }\n",
    "    for track_id in timbre_means_dict:\n",
    "        timbre_means_dict[track_id] = {\n",
    "            f'tm_{i}' : timbre_means_dict[track_id]['timbre_means'][i] \\\n",
    "            for i in range(len(timbre_means_dict[track_id]['timbre_means']))\n",
    "        }\n",
    "    for track_id in timbre_var_dict:        \n",
    "        timbre_var_dict[track_id] = {\n",
    "            f'tv_{i}' : timbre_var_dict[track_id]['timbre_var'][i] \\\n",
    "            for i in range(len(timbre_var_dict[track_id]['timbre_var']))\n",
    "        }\n",
    "\n",
    "    print('Merging Files')\n",
    "    \n",
    "    master_dict = reduce(lambda x, y: \\\n",
    "                         always_merger.merge(x, y), \n",
    "                         [pitch_means_dict,\n",
    "                          pitch_var_dict,\n",
    "                          timbre_means_dict,\n",
    "                          timbre_var_dict])\n",
    "    if output == 'dict':\n",
    "        return master_dict\n",
    "    else:\n",
    "        return pd.DataFrame.from_dict(master_dict, \n",
    "                                      orient = 'index')"
   ]
  },
  {
   "cell_type": "code",
   "execution_count": 142,
   "metadata": {},
   "outputs": [
    {
     "name": "stdout",
     "output_type": "stream",
     "text": [
      "Opening Files\n",
      "Organizing Dictionaries\n",
      "Merging Files\n"
     ]
    }
   ],
   "source": [
    "segment_dict = combine_pitch_timbre_files('../data/pitch_timbre_means_vars/')"
   ]
  },
  {
   "cell_type": "code",
   "execution_count": 146,
   "metadata": {},
   "outputs": [],
   "source": [
    "segment_df = pd.DataFrame.from_dict(segment_dict, orient='index')"
   ]
  },
  {
   "cell_type": "code",
   "execution_count": 148,
   "metadata": {},
   "outputs": [],
   "source": [
    "segment_df.to_csv('../data/segment_df_20190413.csv')"
   ]
  },
  {
   "cell_type": "markdown",
   "metadata": {},
   "source": [
    "### 1g. Adding in Genre Information"
   ]
  },
  {
   "cell_type": "code",
   "execution_count": 50,
   "metadata": {},
   "outputs": [
    {
     "data": {
      "text/html": [
       "<div>\n",
       "<style scoped>\n",
       "    .dataframe tbody tr th:only-of-type {\n",
       "        vertical-align: middle;\n",
       "    }\n",
       "\n",
       "    .dataframe tbody tr th {\n",
       "        vertical-align: top;\n",
       "    }\n",
       "\n",
       "    .dataframe thead th {\n",
       "        text-align: right;\n",
       "    }\n",
       "</style>\n",
       "<table border=\"1\" class=\"dataframe\">\n",
       "  <thead>\n",
       "    <tr style=\"text-align: right;\">\n",
       "      <th></th>\n",
       "      <th>genre</th>\n",
       "    </tr>\n",
       "  </thead>\n",
       "  <tbody>\n",
       "    <tr>\n",
       "      <th>0</th>\n",
       "      <td>a cappella</td>\n",
       "    </tr>\n",
       "    <tr>\n",
       "      <th>1</th>\n",
       "      <td>acid house</td>\n",
       "    </tr>\n",
       "    <tr>\n",
       "      <th>2</th>\n",
       "      <td>acid jazz</td>\n",
       "    </tr>\n",
       "    <tr>\n",
       "      <th>3</th>\n",
       "      <td>acoustic blues</td>\n",
       "    </tr>\n",
       "    <tr>\n",
       "      <th>4</th>\n",
       "      <td>acoustic pop</td>\n",
       "    </tr>\n",
       "  </tbody>\n",
       "</table>\n",
       "</div>"
      ],
      "text/plain": [
       "            genre\n",
       "0      a cappella\n",
       "1      acid house\n",
       "2       acid jazz\n",
       "3  acoustic blues\n",
       "4    acoustic pop"
      ]
     },
     "execution_count": 50,
     "metadata": {},
     "output_type": "execute_result"
    }
   ],
   "source": [
    "genres.head()"
   ]
  },
  {
   "cell_type": "markdown",
   "metadata": {},
   "source": [
    "#### 1f1. Creating Genre Song Lookup Table"
   ]
  },
  {
   "cell_type": "code",
   "execution_count": 53,
   "metadata": {},
   "outputs": [],
   "source": [
    "# Should be earlier in the process\n",
    "\n",
    "g_lookup = gs_lookup[['genre_id', 'genre_name', 'artist_id']]"
   ]
  },
  {
   "cell_type": "code",
   "execution_count": 54,
   "metadata": {},
   "outputs": [
    {
     "data": {
      "text/html": [
       "<div>\n",
       "<style scoped>\n",
       "    .dataframe tbody tr th:only-of-type {\n",
       "        vertical-align: middle;\n",
       "    }\n",
       "\n",
       "    .dataframe tbody tr th {\n",
       "        vertical-align: top;\n",
       "    }\n",
       "\n",
       "    .dataframe thead th {\n",
       "        text-align: right;\n",
       "    }\n",
       "</style>\n",
       "<table border=\"1\" class=\"dataframe\">\n",
       "  <thead>\n",
       "    <tr style=\"text-align: right;\">\n",
       "      <th></th>\n",
       "      <th>genre_id</th>\n",
       "      <th>genre_name</th>\n",
       "      <th>artist_id</th>\n",
       "    </tr>\n",
       "    <tr>\n",
       "      <th>gs_id</th>\n",
       "      <th></th>\n",
       "      <th></th>\n",
       "      <th></th>\n",
       "    </tr>\n",
       "  </thead>\n",
       "  <tbody>\n",
       "    <tr>\n",
       "      <th>1</th>\n",
       "      <td>139</td>\n",
       "      <td>dance pop</td>\n",
       "      <td>6UE7nl9mha6s8z0wFQFIZ2</td>\n",
       "    </tr>\n",
       "    <tr>\n",
       "      <th>2</th>\n",
       "      <td>189</td>\n",
       "      <td>electropop</td>\n",
       "      <td>6UE7nl9mha6s8z0wFQFIZ2</td>\n",
       "    </tr>\n",
       "    <tr>\n",
       "      <th>3</th>\n",
       "      <td>196</td>\n",
       "      <td>europop</td>\n",
       "      <td>6UE7nl9mha6s8z0wFQFIZ2</td>\n",
       "    </tr>\n",
       "    <tr>\n",
       "      <th>4</th>\n",
       "      <td>404</td>\n",
       "      <td>pop</td>\n",
       "      <td>6UE7nl9mha6s8z0wFQFIZ2</td>\n",
       "    </tr>\n",
       "    <tr>\n",
       "      <th>5</th>\n",
       "      <td>410</td>\n",
       "      <td>pop rock</td>\n",
       "      <td>6UE7nl9mha6s8z0wFQFIZ2</td>\n",
       "    </tr>\n",
       "  </tbody>\n",
       "</table>\n",
       "</div>"
      ],
      "text/plain": [
       "       genre_id  genre_name               artist_id\n",
       "gs_id                                              \n",
       "1           139   dance pop  6UE7nl9mha6s8z0wFQFIZ2\n",
       "2           189  electropop  6UE7nl9mha6s8z0wFQFIZ2\n",
       "3           196     europop  6UE7nl9mha6s8z0wFQFIZ2\n",
       "4           404         pop  6UE7nl9mha6s8z0wFQFIZ2\n",
       "5           410    pop rock  6UE7nl9mha6s8z0wFQFIZ2"
      ]
     },
     "execution_count": 54,
     "metadata": {},
     "output_type": "execute_result"
    }
   ],
   "source": [
    "g_lookup.head()"
   ]
  },
  {
   "cell_type": "code",
   "execution_count": null,
   "metadata": {},
   "outputs": [],
   "source": [
    "g_lookup."
   ]
  },
  {
   "cell_type": "code",
   "execution_count": 55,
   "metadata": {},
   "outputs": [
    {
     "data": {
      "text/plain": [
       "Index(['track_id', 'Song Title', 'Artist', 'artist_id', 'name', 'popularity',\n",
       "       'followers', 'artist_name', 'song_id', 'song_title', 'CID', 'PID',\n",
       "       'Title', 'Performer Name'],\n",
       "      dtype='object')"
      ]
     },
     "execution_count": 55,
     "metadata": {},
     "output_type": "execute_result"
    }
   ],
   "source": [
    "matched_tracks_df.columns"
   ]
  },
  {
   "cell_type": "code",
   "execution_count": 56,
   "metadata": {},
   "outputs": [],
   "source": [
    "matched_w_genres_temp = matched_tracks_df.merge(g_lookup,\n",
    "                                                on='artist_id')"
   ]
  },
  {
   "cell_type": "code",
   "execution_count": 57,
   "metadata": {},
   "outputs": [
    {
     "data": {
      "text/plain": [
       "(9941474, 16)"
      ]
     },
     "execution_count": 57,
     "metadata": {},
     "output_type": "execute_result"
    }
   ],
   "source": [
    "matched_w_genres_temp.shape"
   ]
  },
  {
   "cell_type": "code",
   "execution_count": 58,
   "metadata": {},
   "outputs": [
    {
     "data": {
      "text/plain": [
       "Index(['track_id', 'Song Title', 'Artist', 'artist_id', 'name', 'popularity',\n",
       "       'followers', 'artist_name', 'song_id', 'song_title', 'CID', 'PID',\n",
       "       'Title', 'Performer Name', 'genre_id', 'genre_name'],\n",
       "      dtype='object')"
      ]
     },
     "execution_count": 58,
     "metadata": {},
     "output_type": "execute_result"
    }
   ],
   "source": [
    "matched_w_genres_temp.columns"
   ]
  },
  {
   "cell_type": "code",
   "execution_count": 59,
   "metadata": {},
   "outputs": [],
   "source": [
    "gs_lookup = matched_w_genres_temp[['track_id', \n",
    "                                   'genre_id']]"
   ]
  },
  {
   "cell_type": "code",
   "execution_count": 61,
   "metadata": {},
   "outputs": [],
   "source": [
    "gs_lookup.to_csv('../data/gsong_lookup_20190412.csv')"
   ]
  },
  {
   "cell_type": "code",
   "execution_count": 125,
   "metadata": {},
   "outputs": [],
   "source": [
    "del matched_w_genres_temp"
   ]
  },
  {
   "cell_type": "code",
   "execution_count": 126,
   "metadata": {},
   "outputs": [
    {
     "data": {
      "text/html": [
       "<div>\n",
       "<style scoped>\n",
       "    .dataframe tbody tr th:only-of-type {\n",
       "        vertical-align: middle;\n",
       "    }\n",
       "\n",
       "    .dataframe tbody tr th {\n",
       "        vertical-align: top;\n",
       "    }\n",
       "\n",
       "    .dataframe thead th {\n",
       "        text-align: right;\n",
       "    }\n",
       "</style>\n",
       "<table border=\"1\" class=\"dataframe\">\n",
       "  <thead>\n",
       "    <tr style=\"text-align: right;\">\n",
       "      <th></th>\n",
       "      <th>track_id</th>\n",
       "      <th>genre_id</th>\n",
       "    </tr>\n",
       "  </thead>\n",
       "  <tbody>\n",
       "    <tr>\n",
       "      <th>0</th>\n",
       "      <td>0007aPK8VmXN4ycL2OcBFa</td>\n",
       "      <td>8</td>\n",
       "    </tr>\n",
       "    <tr>\n",
       "      <th>1</th>\n",
       "      <td>0007aPK8VmXN4ycL2OcBFa</td>\n",
       "      <td>328</td>\n",
       "    </tr>\n",
       "    <tr>\n",
       "      <th>2</th>\n",
       "      <td>0007aPK8VmXN4ycL2OcBFa</td>\n",
       "      <td>448</td>\n",
       "    </tr>\n",
       "    <tr>\n",
       "      <th>3</th>\n",
       "      <td>0007aPK8VmXN4ycL2OcBFa</td>\n",
       "      <td>481</td>\n",
       "    </tr>\n",
       "    <tr>\n",
       "      <th>4</th>\n",
       "      <td>0007aPK8VmXN4ycL2OcBFa</td>\n",
       "      <td>8</td>\n",
       "    </tr>\n",
       "  </tbody>\n",
       "</table>\n",
       "</div>"
      ],
      "text/plain": [
       "                 track_id  genre_id\n",
       "0  0007aPK8VmXN4ycL2OcBFa         8\n",
       "1  0007aPK8VmXN4ycL2OcBFa       328\n",
       "2  0007aPK8VmXN4ycL2OcBFa       448\n",
       "3  0007aPK8VmXN4ycL2OcBFa       481\n",
       "4  0007aPK8VmXN4ycL2OcBFa         8"
      ]
     },
     "execution_count": 126,
     "metadata": {},
     "output_type": "execute_result"
    }
   ],
   "source": [
    "gs_lookup.head()"
   ]
  },
  {
   "cell_type": "markdown",
   "metadata": {},
   "source": [
    "#### 1f2. Creating Genre Dummies"
   ]
  },
  {
   "cell_type": "code",
   "execution_count": 1,
   "metadata": {},
   "outputs": [],
   "source": [
    "import dask\n",
    "import dask.dataframe as dd\n",
    "from dask_ml.preprocessing import DummyEncoder\n",
    "import pandas as pd"
   ]
  },
  {
   "cell_type": "code",
   "execution_count": 2,
   "metadata": {},
   "outputs": [
    {
     "name": "stderr",
     "output_type": "stream",
     "text": [
      "/Users/jonjohnson/anaconda3/lib/python3.6/site-packages/numpy/lib/arraysetops.py:472: FutureWarning: elementwise comparison failed; returning scalar instead, but in the future will perform elementwise comparison\n",
      "  mask |= (ar1 == a)\n"
     ]
    }
   ],
   "source": [
    "gs_lookup = pd.read_csv('../data/gsong_lookup_20190412.csv', index_col = 0)"
   ]
  },
  {
   "cell_type": "code",
   "execution_count": 3,
   "metadata": {},
   "outputs": [],
   "source": [
    "gs_lookup.genre_id = gs_lookup.genre_id.astype('category')"
   ]
  },
  {
   "cell_type": "code",
   "execution_count": 4,
   "metadata": {},
   "outputs": [],
   "source": [
    "gs_lookup_ddf = dd.from_pandas(gs_lookup, 6)"
   ]
  },
  {
   "cell_type": "code",
   "execution_count": 5,
   "metadata": {},
   "outputs": [],
   "source": [
    "de = DummyEncoder()"
   ]
  },
  {
   "cell_type": "code",
   "execution_count": null,
   "metadata": {},
   "outputs": [],
   "source": [
    "genre_dummies = de.fit_transform(gs_lookup)"
   ]
  },
  {
   "cell_type": "markdown",
   "metadata": {},
   "source": [
    "#### 1f3. SVD on Genres"
   ]
  },
  {
   "cell_type": "code",
   "execution_count": 113,
   "metadata": {},
   "outputs": [
    {
     "ename": "ValueError",
     "evalue": "n_components must be < n_features; got 50 >= 1",
     "output_type": "error",
     "traceback": [
      "\u001b[0;31m---------------------------------------------------------------------------\u001b[0m",
      "\u001b[0;31mValueError\u001b[0m                                Traceback (most recent call last)",
      "\u001b[0;32m<ipython-input-113-048a96c0c7f4>\u001b[0m in \u001b[0;36m<module>\u001b[0;34m\u001b[0m\n\u001b[1;32m      1\u001b[0m \u001b[0mtSVD\u001b[0m \u001b[0;34m=\u001b[0m \u001b[0mTruncatedSVD\u001b[0m\u001b[0;34m(\u001b[0m\u001b[0;36m50\u001b[0m\u001b[0;34m)\u001b[0m\u001b[0;34m\u001b[0m\u001b[0;34m\u001b[0m\u001b[0m\n\u001b[0;32m----> 2\u001b[0;31m \u001b[0mSVDg\u001b[0m \u001b[0;34m=\u001b[0m \u001b[0mtSVD\u001b[0m\u001b[0;34m.\u001b[0m\u001b[0mfit_transform\u001b[0m\u001b[0;34m(\u001b[0m\u001b[0mgenre_dummies\u001b[0m\u001b[0;34m)\u001b[0m\u001b[0;34m\u001b[0m\u001b[0;34m\u001b[0m\u001b[0m\n\u001b[0m",
      "\u001b[0;32m~/anaconda3/lib/python3.6/site-packages/sklearn/decomposition/truncated_svd.py\u001b[0m in \u001b[0;36mfit_transform\u001b[0;34m(self, X, y)\u001b[0m\n\u001b[1;32m    172\u001b[0m             \u001b[0;32mif\u001b[0m \u001b[0mk\u001b[0m \u001b[0;34m>=\u001b[0m \u001b[0mn_features\u001b[0m\u001b[0;34m:\u001b[0m\u001b[0;34m\u001b[0m\u001b[0;34m\u001b[0m\u001b[0m\n\u001b[1;32m    173\u001b[0m                 raise ValueError(\"n_components must be < n_features;\"\n\u001b[0;32m--> 174\u001b[0;31m                                  \" got %d >= %d\" % (k, n_features))\n\u001b[0m\u001b[1;32m    175\u001b[0m             U, Sigma, VT = randomized_svd(X, self.n_components,\n\u001b[1;32m    176\u001b[0m                                           \u001b[0mn_iter\u001b[0m\u001b[0;34m=\u001b[0m\u001b[0mself\u001b[0m\u001b[0;34m.\u001b[0m\u001b[0mn_iter\u001b[0m\u001b[0;34m,\u001b[0m\u001b[0;34m\u001b[0m\u001b[0;34m\u001b[0m\u001b[0m\n",
      "\u001b[0;31mValueError\u001b[0m: n_components must be < n_features; got 50 >= 1"
     ]
    }
   ],
   "source": [
    "tSVD = TruncatedSVD(50)\n",
    "SVDg = tSVD.fit_transform(genre_dummies)"
   ]
  },
  {
   "cell_type": "code",
   "execution_count": null,
   "metadata": {},
   "outputs": [],
   "source": []
  }
 ],
 "metadata": {
  "kernelspec": {
   "display_name": "Python 3",
   "language": "python",
   "name": "python3"
  },
  "language_info": {
   "codemirror_mode": {
    "name": "ipython",
    "version": 3
   },
   "file_extension": ".py",
   "mimetype": "text/x-python",
   "name": "python",
   "nbconvert_exporter": "python",
   "pygments_lexer": "ipython3",
   "version": "3.6.7"
  }
 },
 "nbformat": 4,
 "nbformat_minor": 2
}
