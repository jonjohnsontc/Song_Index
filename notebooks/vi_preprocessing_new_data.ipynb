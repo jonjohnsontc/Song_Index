{
 "cells": [
  {
   "cell_type": "markdown",
   "metadata": {},
   "source": [
    "# Preprocessing Second Batch of Songs"
   ]
  },
  {
   "cell_type": "code",
   "execution_count": 3,
   "metadata": {},
   "outputs": [],
   "source": [
    "from functools import reduce\n",
    "from glob import glob\n",
    "import json\n",
    "from multiprocessing import cpu_count\n",
    "import pickle\n",
    "import os\n",
    "import re\n",
    "\n",
    "# from deepmerge import always_merger\n",
    "\n",
    "# import matplotlib.pyplot as plt\n",
    "import numpy as np\n",
    "import pandas as pd\n",
    "\n",
    "from spotipy import Spotify\n",
    "from spotipy.oauth2 import SpotifyClientCredentials"
   ]
  },
  {
   "cell_type": "markdown",
   "metadata": {},
   "source": [
    "## Table of Contents\n",
    "\n",
    "1. Loading in Tables"
   ]
  },
  {
   "cell_type": "markdown",
   "metadata": {},
   "source": [
    "\n",
    "## 1. Loading in Tables"
   ]
  },
  {
   "cell_type": "code",
   "execution_count": 6,
   "metadata": {},
   "outputs": [
    {
     "ename": "FileNotFoundError",
     "evalue": "[Errno 2] No such file or directory: '../data/new_tracks_20190103.json'",
     "output_type": "error",
     "traceback": [
      "\u001b[0;31m---------------------------------------------------------------------------\u001b[0m",
      "\u001b[0;31mFileNotFoundError\u001b[0m                         Traceback (most recent call last)",
      "\u001b[0;32m<ipython-input-6-ead6c338a088>\u001b[0m in \u001b[0;36m<module>\u001b[0;34m\u001b[0m\n\u001b[1;32m      1\u001b[0m \u001b[0;31m# all songs I attempted to pull\u001b[0m\u001b[0;34m\u001b[0m\u001b[0;34m\u001b[0m\u001b[0;34m\u001b[0m\u001b[0m\n\u001b[0;32m----> 2\u001b[0;31m \u001b[0;32mwith\u001b[0m \u001b[0mopen\u001b[0m\u001b[0;34m(\u001b[0m\u001b[0;34m'../data/new_tracks_20190103.json'\u001b[0m\u001b[0;34m,\u001b[0m \u001b[0;34m'r'\u001b[0m\u001b[0;34m)\u001b[0m \u001b[0;32mas\u001b[0m \u001b[0mf\u001b[0m\u001b[0;34m:\u001b[0m\u001b[0;34m\u001b[0m\u001b[0;34m\u001b[0m\u001b[0m\n\u001b[0m\u001b[1;32m      3\u001b[0m     \u001b[0mnew_tracks\u001b[0m \u001b[0;34m=\u001b[0m \u001b[0mjson\u001b[0m\u001b[0;34m.\u001b[0m\u001b[0mload\u001b[0m\u001b[0;34m(\u001b[0m\u001b[0mf\u001b[0m\u001b[0;34m)\u001b[0m\u001b[0;34m\u001b[0m\u001b[0;34m\u001b[0m\u001b[0m\n\u001b[1;32m      4\u001b[0m \u001b[0;34m\u001b[0m\u001b[0m\n\u001b[1;32m      5\u001b[0m \u001b[0;34m\u001b[0m\u001b[0m\n",
      "\u001b[0;31mFileNotFoundError\u001b[0m: [Errno 2] No such file or directory: '../data/new_tracks_20190103.json'"
     ]
    }
   ],
   "source": [
    "# all songs I attempted to pull\n",
    "with open('../data/new_tracks_20190103.json', 'r') as f:\n",
    "    new_tracks = json.load(f)\n",
    "\n",
    "\n",
    "matched_songs = pd.read_csv('../data/matched_songs_20190209.csv', index_col = 0)\n",
    "# main_wfeats = pd.read_csv('../data/main_wfeats.csv', index_col = 0)\n",
    "# genres = pd.read_csv('../data/genres.csv', index_col = 0)\n",
    "# gs_lookup = pd.read_csv('../data/gsong_lookup.csv', index_col=0)"
   ]
  },
  {
   "cell_type": "code",
   "execution_count": 4,
   "metadata": {},
   "outputs": [
    {
     "data": {
      "text/html": [
       "<div>\n",
       "<style scoped>\n",
       "    .dataframe tbody tr th:only-of-type {\n",
       "        vertical-align: middle;\n",
       "    }\n",
       "\n",
       "    .dataframe tbody tr th {\n",
       "        vertical-align: top;\n",
       "    }\n",
       "\n",
       "    .dataframe thead th {\n",
       "        text-align: right;\n",
       "    }\n",
       "</style>\n",
       "<table border=\"1\" class=\"dataframe\">\n",
       "  <thead>\n",
       "    <tr style=\"text-align: right;\">\n",
       "      <th></th>\n",
       "      <th>song_id</th>\n",
       "      <th>genre_id</th>\n",
       "      <th>genre_name</th>\n",
       "      <th>artist_id</th>\n",
       "    </tr>\n",
       "    <tr>\n",
       "      <th>gs_id</th>\n",
       "      <th></th>\n",
       "      <th></th>\n",
       "      <th></th>\n",
       "      <th></th>\n",
       "    </tr>\n",
       "  </thead>\n",
       "  <tbody>\n",
       "    <tr>\n",
       "      <th>1</th>\n",
       "      <td>6SluaPiV04KOaRTOIScoff</td>\n",
       "      <td>139</td>\n",
       "      <td>dance pop</td>\n",
       "      <td>6UE7nl9mha6s8z0wFQFIZ2</td>\n",
       "    </tr>\n",
       "    <tr>\n",
       "      <th>2</th>\n",
       "      <td>6SluaPiV04KOaRTOIScoff</td>\n",
       "      <td>189</td>\n",
       "      <td>electropop</td>\n",
       "      <td>6UE7nl9mha6s8z0wFQFIZ2</td>\n",
       "    </tr>\n",
       "    <tr>\n",
       "      <th>3</th>\n",
       "      <td>6SluaPiV04KOaRTOIScoff</td>\n",
       "      <td>196</td>\n",
       "      <td>europop</td>\n",
       "      <td>6UE7nl9mha6s8z0wFQFIZ2</td>\n",
       "    </tr>\n",
       "    <tr>\n",
       "      <th>4</th>\n",
       "      <td>6SluaPiV04KOaRTOIScoff</td>\n",
       "      <td>404</td>\n",
       "      <td>pop</td>\n",
       "      <td>6UE7nl9mha6s8z0wFQFIZ2</td>\n",
       "    </tr>\n",
       "    <tr>\n",
       "      <th>5</th>\n",
       "      <td>6SluaPiV04KOaRTOIScoff</td>\n",
       "      <td>410</td>\n",
       "      <td>pop rock</td>\n",
       "      <td>6UE7nl9mha6s8z0wFQFIZ2</td>\n",
       "    </tr>\n",
       "  </tbody>\n",
       "</table>\n",
       "</div>"
      ],
      "text/plain": [
       "                      song_id  genre_id  genre_name               artist_id\n",
       "gs_id                                                                      \n",
       "1      6SluaPiV04KOaRTOIScoff       139   dance pop  6UE7nl9mha6s8z0wFQFIZ2\n",
       "2      6SluaPiV04KOaRTOIScoff       189  electropop  6UE7nl9mha6s8z0wFQFIZ2\n",
       "3      6SluaPiV04KOaRTOIScoff       196     europop  6UE7nl9mha6s8z0wFQFIZ2\n",
       "4      6SluaPiV04KOaRTOIScoff       404         pop  6UE7nl9mha6s8z0wFQFIZ2\n",
       "5      6SluaPiV04KOaRTOIScoff       410    pop rock  6UE7nl9mha6s8z0wFQFIZ2"
      ]
     },
     "execution_count": 4,
     "metadata": {},
     "output_type": "execute_result"
    }
   ],
   "source": [
    "gs_lookup.head()"
   ]
  },
  {
   "cell_type": "code",
   "execution_count": 3,
   "metadata": {},
   "outputs": [
    {
     "data": {
      "text/plain": [
       "Index(['song_id', 'album_release_date', 'artist_id', 'artist_name',\n",
       "       'duration_ms', 'explicit', 'linked_album', 'song_title', 'danceability',\n",
       "       'energy', 'key', 'loudness', 'mode', 'speechiness', 'acousticness',\n",
       "       'instrumentalness', 'liveness', 'valence', 'tempo', 'time_signature',\n",
       "       'key_changes', 'mean_song_conf', 'mean_loudness', 'mean_mode',\n",
       "       'mean_mode_conf', 'mean_tempo', 'mean_tempo_conf', 'var_song_conf',\n",
       "       'var_loudness', 'var_mode', 'var_mode_conf', 'var_tempo',\n",
       "       'var_tempo_conf', 'tm_dim_1', 'tm_dim_2', 'tm_dim_3', 'tm_dim_4',\n",
       "       'tm_dim_5', 'tm_dim_6', 'tm_dim_7', 'tm_dim_8', 'tm_dim_9', 'tm_dim_10',\n",
       "       'tm_dim_11', 'tm_dim_12', 'tv_dim_1', 'tv_dim_2', 'tv_dim_3',\n",
       "       'tv_dim_4', 'tv_dim_5', 'tv_dim_6', 'tv_dim_7', 'tv_dim_8', 'tv_dim_9',\n",
       "       'tv_dim_10', 'tv_dim_11', 'tv_dim_12', 'pm_dim_1', 'pm_dim_2',\n",
       "       'pm_dim_3', 'pm_dim_4', 'pm_dim_5', 'pm_dim_6', 'pm_dim_7', 'pm_dim_8',\n",
       "       'pm_dim_9', 'pm_dim_10', 'pm_dim_11', 'pm_dim_12', 'pv_dim_1',\n",
       "       'pv_dim_2', 'pv_dim_3', 'pv_dim_4', 'pv_dim_5', 'pv_dim_6', 'pv_dim_7',\n",
       "       'pv_dim_8', 'pv_dim_9', 'pv_dim_10', 'pv_dim_11', 'pv_dim_12'],\n",
       "      dtype='object')"
      ]
     },
     "execution_count": 3,
     "metadata": {},
     "output_type": "execute_result"
    }
   ],
   "source": [
    "main_wfeats.columns"
   ]
  },
  {
   "cell_type": "code",
   "execution_count": 4,
   "metadata": {},
   "outputs": [],
   "source": [
    "artists = pd.read_csv('../data/artist_list_v2.csv', index_col=0)"
   ]
  },
  {
   "cell_type": "markdown",
   "metadata": {},
   "source": [
    "### 1a. Grabbing Mean & Variance Segment Values"
   ]
  },
  {
   "cell_type": "code",
   "execution_count": 5,
   "metadata": {},
   "outputs": [],
   "source": [
    "def combine_section_mean_var(fp):\n",
    "    '''\n",
    "    Given a file path, grabs mean and variance segment dictionaries\n",
    "    and combines them together\n",
    "    '''\n",
    "    directory = {\n",
    "        'means' : [],\n",
    "        'vars' : [],\n",
    "    }\n",
    "    \n",
    "    # grabbing all files\n",
    "    for file in os.listdir(fp):\n",
    "        if 'section_mean_' in file:\n",
    "            directory['means'].append(file)\n",
    "        elif 'section_var_' in file:\n",
    "            directory['vars'].append(file)\n",
    "    \n",
    "    # base files\n",
    "    with open(f\"{fp}/{directory['means'][0]}\", 'r') as f:\n",
    "        mean_dict = json.load(f)\n",
    "    with open(f\"{fp}/{directory['vars'][0]}\", 'r') as f:\n",
    "        vars_dict = json.load(f)\n",
    "    \n",
    "    # adding addtl files\n",
    "    for i in range(1, len(directory['means'])):\n",
    "        with open(f\"{fp}/{directory['means'][i]}\", 'r') as f:\n",
    "            addition = json.load(f)\n",
    "        mean_dict.extend(addition)\n",
    "                  \n",
    "    for i in range(1, len(directory['vars'])):\n",
    "        with open(f\"{fp}/{directory['vars'][i]}\", 'r') as f:\n",
    "            addition = json.load(f)\n",
    "        vars_dict.extend(addition)\n",
    "    \n",
    "    return mean_dict, vars_dict"
   ]
  },
  {
   "cell_type": "code",
   "execution_count": 6,
   "metadata": {},
   "outputs": [],
   "source": [
    "means, variances = combine_section_mean_var('../data')"
   ]
  },
  {
   "cell_type": "code",
   "execution_count": 7,
   "metadata": {},
   "outputs": [
    {
     "data": {
      "text/plain": [
       "651452"
      ]
     },
     "execution_count": 7,
     "metadata": {},
     "output_type": "execute_result"
    }
   ],
   "source": [
    "len(variances)"
   ]
  },
  {
   "cell_type": "code",
   "execution_count": 8,
   "metadata": {},
   "outputs": [
    {
     "data": {
      "text/plain": [
       "651517"
      ]
     },
     "execution_count": 8,
     "metadata": {},
     "output_type": "execute_result"
    }
   ],
   "source": [
    "len(new_tracks)"
   ]
  },
  {
   "cell_type": "code",
   "execution_count": 9,
   "metadata": {},
   "outputs": [
    {
     "data": {
      "text/plain": [
       "159438"
      ]
     },
     "execution_count": 9,
     "metadata": {},
     "output_type": "execute_result"
    }
   ],
   "source": [
    "len(matched_songs)"
   ]
  },
  {
   "cell_type": "code",
   "execution_count": 10,
   "metadata": {},
   "outputs": [
    {
     "data": {
      "text/plain": [
       "{'confidence': 0.601625,\n",
       " 'duration': 26.5366675,\n",
       " 'loudness': -14.359750000000002,\n",
       " 'mode': 0.875,\n",
       " 'mode_confidence': 0.3652500000000001,\n",
       " 'tempo': 121.35325,\n",
       " 'tempo_confidence': 0.4575}"
      ]
     },
     "execution_count": 10,
     "metadata": {},
     "output_type": "execute_result"
    }
   ],
   "source": [
    "[value for value in means[0].values()][0]"
   ]
  },
  {
   "cell_type": "code",
   "execution_count": 11,
   "metadata": {},
   "outputs": [],
   "source": [
    "def unpack_lists(lst):\n",
    "    '''\n",
    "    Unpacks a list of dictionaries into a dictionary\n",
    "    '''\n",
    "    dct = {}\n",
    "    for i in range(len(lst)):\n",
    "        dct[[key for key in lst[i].keys()][0]] \\\n",
    "            = [value for value in lst[i].values()][0]\n",
    "    return dct"
   ]
  },
  {
   "cell_type": "code",
   "execution_count": 12,
   "metadata": {},
   "outputs": [],
   "source": [
    "mean_dict = unpack_lists(means)\n",
    "var_dict = unpack_lists(variances)"
   ]
  },
  {
   "cell_type": "code",
   "execution_count": 13,
   "metadata": {},
   "outputs": [],
   "source": [
    "def find_errors(dct):\n",
    "    '''\n",
    "    returns error messages if found in mean or var dicts\n",
    "    '''\n",
    "    error_dct = {}\n",
    "    for i in dct.copy():\n",
    "        if isinstance(dct[i], str):\n",
    "            error_dct[i] = dct[i]\n",
    "            del dct[i]\n",
    "    return dct, error_dct"
   ]
  },
  {
   "cell_type": "code",
   "execution_count": 14,
   "metadata": {},
   "outputs": [],
   "source": [
    "mean_dict, mean_errors = find_errors(mean_dict)"
   ]
  },
  {
   "cell_type": "code",
   "execution_count": 15,
   "metadata": {},
   "outputs": [],
   "source": [
    "var_dict, var_errors = find_errors(var_dict)"
   ]
  },
  {
   "cell_type": "code",
   "execution_count": 16,
   "metadata": {},
   "outputs": [
    {
     "data": {
      "text/plain": [
       "(650263, 650263)"
      ]
     },
     "execution_count": 16,
     "metadata": {},
     "output_type": "execute_result"
    }
   ],
   "source": [
    "len(mean_dict), len(var_dict)"
   ]
  },
  {
   "cell_type": "code",
   "execution_count": 17,
   "metadata": {},
   "outputs": [
    {
     "data": {
      "text/plain": [
       "(1189, 1189)"
      ]
     },
     "execution_count": 17,
     "metadata": {},
     "output_type": "execute_result"
    }
   ],
   "source": [
    "len(mean_errors), len(var_errors)"
   ]
  },
  {
   "cell_type": "code",
   "execution_count": 18,
   "metadata": {},
   "outputs": [],
   "source": [
    "mean_df = pd.DataFrame.from_dict(mean_dict, orient='index')"
   ]
  },
  {
   "cell_type": "code",
   "execution_count": 19,
   "metadata": {},
   "outputs": [],
   "source": [
    "var_df = pd.DataFrame.from_dict(var_dict, orient='index')"
   ]
  },
  {
   "cell_type": "code",
   "execution_count": 151,
   "metadata": {},
   "outputs": [],
   "source": [
    "mean_df.to_csv('../data/section_mean_df_20190413.csv')\n",
    "var_df.to_csv('../data/section_var_df_20190413.csv')"
   ]
  },
  {
   "cell_type": "code",
   "execution_count": 20,
   "metadata": {},
   "outputs": [
    {
     "data": {
      "text/html": [
       "<div>\n",
       "<style scoped>\n",
       "    .dataframe tbody tr th:only-of-type {\n",
       "        vertical-align: middle;\n",
       "    }\n",
       "\n",
       "    .dataframe tbody tr th {\n",
       "        vertical-align: top;\n",
       "    }\n",
       "\n",
       "    .dataframe thead th {\n",
       "        text-align: right;\n",
       "    }\n",
       "</style>\n",
       "<table border=\"1\" class=\"dataframe\">\n",
       "  <thead>\n",
       "    <tr style=\"text-align: right;\">\n",
       "      <th></th>\n",
       "      <th>confidence</th>\n",
       "      <th>duration</th>\n",
       "      <th>loudness</th>\n",
       "      <th>mode</th>\n",
       "      <th>mode_confidence</th>\n",
       "      <th>tempo</th>\n",
       "      <th>tempo_confidence</th>\n",
       "    </tr>\n",
       "  </thead>\n",
       "  <tbody>\n",
       "    <tr>\n",
       "      <th>0007aPK8VmXN4ycL2OcBFa</th>\n",
       "      <td>0.552778</td>\n",
       "      <td>32.807407</td>\n",
       "      <td>-7.355333</td>\n",
       "      <td>0.888889</td>\n",
       "      <td>0.354889</td>\n",
       "      <td>114.153000</td>\n",
       "      <td>0.286667</td>\n",
       "    </tr>\n",
       "    <tr>\n",
       "      <th>0008G8TW7eiVfwlRRsKlgW</th>\n",
       "      <td>0.549364</td>\n",
       "      <td>19.008486</td>\n",
       "      <td>-11.250909</td>\n",
       "      <td>0.909091</td>\n",
       "      <td>0.629455</td>\n",
       "      <td>133.749182</td>\n",
       "      <td>0.371545</td>\n",
       "    </tr>\n",
       "    <tr>\n",
       "      <th>000BqzNd7gRYnK6umzTNZX</th>\n",
       "      <td>0.657167</td>\n",
       "      <td>20.035555</td>\n",
       "      <td>-5.852000</td>\n",
       "      <td>0.833333</td>\n",
       "      <td>0.285667</td>\n",
       "      <td>145.424167</td>\n",
       "      <td>0.365333</td>\n",
       "    </tr>\n",
       "    <tr>\n",
       "      <th>000CSIqE1KcjAiZYYWXV18</th>\n",
       "      <td>0.477333</td>\n",
       "      <td>24.455557</td>\n",
       "      <td>-12.882333</td>\n",
       "      <td>0.166667</td>\n",
       "      <td>0.552833</td>\n",
       "      <td>124.057583</td>\n",
       "      <td>0.438833</td>\n",
       "    </tr>\n",
       "    <tr>\n",
       "      <th>000G1xMMuwxNHmwVsBdtj1</th>\n",
       "      <td>0.489167</td>\n",
       "      <td>15.195622</td>\n",
       "      <td>-6.957667</td>\n",
       "      <td>0.833333</td>\n",
       "      <td>0.262083</td>\n",
       "      <td>190.880667</td>\n",
       "      <td>0.272000</td>\n",
       "    </tr>\n",
       "  </tbody>\n",
       "</table>\n",
       "</div>"
      ],
      "text/plain": [
       "                        confidence   duration   loudness      mode  \\\n",
       "0007aPK8VmXN4ycL2OcBFa    0.552778  32.807407  -7.355333  0.888889   \n",
       "0008G8TW7eiVfwlRRsKlgW    0.549364  19.008486 -11.250909  0.909091   \n",
       "000BqzNd7gRYnK6umzTNZX    0.657167  20.035555  -5.852000  0.833333   \n",
       "000CSIqE1KcjAiZYYWXV18    0.477333  24.455557 -12.882333  0.166667   \n",
       "000G1xMMuwxNHmwVsBdtj1    0.489167  15.195622  -6.957667  0.833333   \n",
       "\n",
       "                        mode_confidence       tempo  tempo_confidence  \n",
       "0007aPK8VmXN4ycL2OcBFa         0.354889  114.153000          0.286667  \n",
       "0008G8TW7eiVfwlRRsKlgW         0.629455  133.749182          0.371545  \n",
       "000BqzNd7gRYnK6umzTNZX         0.285667  145.424167          0.365333  \n",
       "000CSIqE1KcjAiZYYWXV18         0.552833  124.057583          0.438833  \n",
       "000G1xMMuwxNHmwVsBdtj1         0.262083  190.880667          0.272000  "
      ]
     },
     "execution_count": 20,
     "metadata": {},
     "output_type": "execute_result"
    }
   ],
   "source": [
    "mean_df.head()"
   ]
  },
  {
   "cell_type": "code",
   "execution_count": 21,
   "metadata": {},
   "outputs": [
    {
     "data": {
      "text/plain": [
       "{'Song Title': 'Don`t Go', 'Artist': 'Stevie B'}"
      ]
     },
     "execution_count": 21,
     "metadata": {},
     "output_type": "execute_result"
    }
   ],
   "source": [
    "new_tracks['0008G8TW7eiVfwlRRsKlgW']"
   ]
  },
  {
   "cell_type": "code",
   "execution_count": 5,
   "metadata": {},
   "outputs": [],
   "source": [
    "new_tracks_df = pd.DataFrame.from_dict(new_tracks, orient='index')"
   ]
  },
  {
   "cell_type": "code",
   "execution_count": 6,
   "metadata": {},
   "outputs": [],
   "source": [
    "artists.reset_index(inplace=True)\n",
    "artists.rename(columns= {'s_artist_id' : 'artist_id'},\n",
    "               inplace= True)"
   ]
  },
  {
   "cell_type": "code",
   "execution_count": 7,
   "metadata": {},
   "outputs": [
    {
     "data": {
      "text/html": [
       "<div>\n",
       "<style scoped>\n",
       "    .dataframe tbody tr th:only-of-type {\n",
       "        vertical-align: middle;\n",
       "    }\n",
       "\n",
       "    .dataframe tbody tr th {\n",
       "        vertical-align: top;\n",
       "    }\n",
       "\n",
       "    .dataframe thead th {\n",
       "        text-align: right;\n",
       "    }\n",
       "</style>\n",
       "<table border=\"1\" class=\"dataframe\">\n",
       "  <thead>\n",
       "    <tr style=\"text-align: right;\">\n",
       "      <th></th>\n",
       "      <th>Song Title</th>\n",
       "      <th>Artist</th>\n",
       "    </tr>\n",
       "  </thead>\n",
       "  <tbody>\n",
       "    <tr>\n",
       "      <th>0007aPK8VmXN4ycL2OcBFa</th>\n",
       "      <td>Bodhisattva - Live</td>\n",
       "      <td>Toto</td>\n",
       "    </tr>\n",
       "    <tr>\n",
       "      <th>0008G8TW7eiVfwlRRsKlgW</th>\n",
       "      <td>Don`t Go</td>\n",
       "      <td>Stevie B</td>\n",
       "    </tr>\n",
       "    <tr>\n",
       "      <th>000BqzNd7gRYnK6umzTNZX</th>\n",
       "      <td>You Still Want Me - 2014 Remastered Version</td>\n",
       "      <td>The Kinks</td>\n",
       "    </tr>\n",
       "    <tr>\n",
       "      <th>000CSIqE1KcjAiZYYWXV18</th>\n",
       "      <td>Under The Sun (Ecclesiastes)</td>\n",
       "      <td>Michael Card</td>\n",
       "    </tr>\n",
       "    <tr>\n",
       "      <th>000G1xMMuwxNHmwVsBdtj1</th>\n",
       "      <td>Will Anything Happen</td>\n",
       "      <td>Blondie</td>\n",
       "    </tr>\n",
       "  </tbody>\n",
       "</table>\n",
       "</div>"
      ],
      "text/plain": [
       "                                                         Song Title  \\\n",
       "0007aPK8VmXN4ycL2OcBFa                           Bodhisattva - Live   \n",
       "0008G8TW7eiVfwlRRsKlgW                                     Don`t Go   \n",
       "000BqzNd7gRYnK6umzTNZX  You Still Want Me - 2014 Remastered Version   \n",
       "000CSIqE1KcjAiZYYWXV18                 Under The Sun (Ecclesiastes)   \n",
       "000G1xMMuwxNHmwVsBdtj1                         Will Anything Happen   \n",
       "\n",
       "                              Artist  \n",
       "0007aPK8VmXN4ycL2OcBFa          Toto  \n",
       "0008G8TW7eiVfwlRRsKlgW      Stevie B  \n",
       "000BqzNd7gRYnK6umzTNZX     The Kinks  \n",
       "000CSIqE1KcjAiZYYWXV18  Michael Card  \n",
       "000G1xMMuwxNHmwVsBdtj1       Blondie  "
      ]
     },
     "execution_count": 7,
     "metadata": {},
     "output_type": "execute_result"
    }
   ],
   "source": [
    "new_tracks_df.head()"
   ]
  },
  {
   "cell_type": "code",
   "execution_count": 8,
   "metadata": {},
   "outputs": [],
   "source": [
    "new_tracks_df.reset_index(inplace=True)"
   ]
  },
  {
   "cell_type": "code",
   "execution_count": 9,
   "metadata": {},
   "outputs": [],
   "source": [
    "new_tracks_df.rename(columns={'index': 'track_id'}, inplace=True)"
   ]
  },
  {
   "cell_type": "code",
   "execution_count": 10,
   "metadata": {},
   "outputs": [
    {
     "data": {
      "text/plain": [
       "2426"
      ]
     },
     "execution_count": 10,
     "metadata": {},
     "output_type": "execute_result"
    }
   ],
   "source": [
    "len(artists)"
   ]
  },
  {
   "cell_type": "markdown",
   "metadata": {},
   "source": [
    "### 1b. Adding in Artist IDs (and subsequently Genres into new tracks)\n",
    "\n",
    "It appears as though I'm loosing ~72k tracks when completing the merge. My guess is that it's likely these songs have multiple artists tied to them, and I did not pull the artist that matched the listing I currently have."
   ]
  },
  {
   "cell_type": "code",
   "execution_count": 10,
   "metadata": {},
   "outputs": [],
   "source": [
    "tracks_w_artist_df = new_tracks_df.merge(artists, \n",
    "                                         left_on='Artist',\n",
    "                                         right_on='name')"
   ]
  },
  {
   "cell_type": "code",
   "execution_count": 11,
   "metadata": {},
   "outputs": [
    {
     "data": {
      "text/plain": [
       "651517"
      ]
     },
     "execution_count": 11,
     "metadata": {},
     "output_type": "execute_result"
    }
   ],
   "source": [
    "len(new_tracks_df)"
   ]
  },
  {
   "cell_type": "code",
   "execution_count": 12,
   "metadata": {},
   "outputs": [
    {
     "data": {
      "text/plain": [
       "578062"
      ]
     },
     "execution_count": 12,
     "metadata": {},
     "output_type": "execute_result"
    }
   ],
   "source": [
    "len(tracks_w_artist_df)"
   ]
  },
  {
   "cell_type": "code",
   "execution_count": 13,
   "metadata": {},
   "outputs": [
    {
     "data": {
      "text/html": [
       "<div>\n",
       "<style scoped>\n",
       "    .dataframe tbody tr th:only-of-type {\n",
       "        vertical-align: middle;\n",
       "    }\n",
       "\n",
       "    .dataframe tbody tr th {\n",
       "        vertical-align: top;\n",
       "    }\n",
       "\n",
       "    .dataframe thead th {\n",
       "        text-align: right;\n",
       "    }\n",
       "</style>\n",
       "<table border=\"1\" class=\"dataframe\">\n",
       "  <thead>\n",
       "    <tr style=\"text-align: right;\">\n",
       "      <th></th>\n",
       "      <th>track_id</th>\n",
       "      <th>Song Title</th>\n",
       "      <th>Artist</th>\n",
       "      <th>artist_id</th>\n",
       "      <th>name</th>\n",
       "      <th>popularity</th>\n",
       "      <th>followers</th>\n",
       "    </tr>\n",
       "  </thead>\n",
       "  <tbody>\n",
       "    <tr>\n",
       "      <th>0</th>\n",
       "      <td>0007aPK8VmXN4ycL2OcBFa</td>\n",
       "      <td>Bodhisattva - Live</td>\n",
       "      <td>Toto</td>\n",
       "      <td>0PFtn5NtBbbUNbU9EAmIWF</td>\n",
       "      <td>Toto</td>\n",
       "      <td>76</td>\n",
       "      <td>753405.0</td>\n",
       "    </tr>\n",
       "    <tr>\n",
       "      <th>1</th>\n",
       "      <td>00LEpojkN28l3W4axF8Ish</td>\n",
       "      <td>Don't Chain My Heart - Live</td>\n",
       "      <td>Toto</td>\n",
       "      <td>0PFtn5NtBbbUNbU9EAmIWF</td>\n",
       "      <td>Toto</td>\n",
       "      <td>76</td>\n",
       "      <td>753405.0</td>\n",
       "    </tr>\n",
       "    <tr>\n",
       "      <th>2</th>\n",
       "      <td>03IWDwx4slQdBg4lAt4H0n</td>\n",
       "      <td>Taint Your World (Live)</td>\n",
       "      <td>Toto</td>\n",
       "      <td>0PFtn5NtBbbUNbU9EAmIWF</td>\n",
       "      <td>Toto</td>\n",
       "      <td>76</td>\n",
       "      <td>753405.0</td>\n",
       "    </tr>\n",
       "    <tr>\n",
       "      <th>3</th>\n",
       "      <td>042qp6lOUMoMHVT6R85u8W</td>\n",
       "      <td>Caught In the Balance - Live Version</td>\n",
       "      <td>Toto</td>\n",
       "      <td>0PFtn5NtBbbUNbU9EAmIWF</td>\n",
       "      <td>Toto</td>\n",
       "      <td>76</td>\n",
       "      <td>753405.0</td>\n",
       "    </tr>\n",
       "    <tr>\n",
       "      <th>4</th>\n",
       "      <td>06WhJ0TK0N9fyJFvAMRWEL</td>\n",
       "      <td>Girl Goodbye - Live</td>\n",
       "      <td>Toto</td>\n",
       "      <td>0PFtn5NtBbbUNbU9EAmIWF</td>\n",
       "      <td>Toto</td>\n",
       "      <td>76</td>\n",
       "      <td>753405.0</td>\n",
       "    </tr>\n",
       "  </tbody>\n",
       "</table>\n",
       "</div>"
      ],
      "text/plain": [
       "                 track_id                            Song Title Artist  \\\n",
       "0  0007aPK8VmXN4ycL2OcBFa                    Bodhisattva - Live   Toto   \n",
       "1  00LEpojkN28l3W4axF8Ish           Don't Chain My Heart - Live   Toto   \n",
       "2  03IWDwx4slQdBg4lAt4H0n               Taint Your World (Live)   Toto   \n",
       "3  042qp6lOUMoMHVT6R85u8W  Caught In the Balance - Live Version   Toto   \n",
       "4  06WhJ0TK0N9fyJFvAMRWEL                   Girl Goodbye - Live   Toto   \n",
       "\n",
       "                artist_id  name  popularity  followers  \n",
       "0  0PFtn5NtBbbUNbU9EAmIWF  Toto          76   753405.0  \n",
       "1  0PFtn5NtBbbUNbU9EAmIWF  Toto          76   753405.0  \n",
       "2  0PFtn5NtBbbUNbU9EAmIWF  Toto          76   753405.0  \n",
       "3  0PFtn5NtBbbUNbU9EAmIWF  Toto          76   753405.0  \n",
       "4  0PFtn5NtBbbUNbU9EAmIWF  Toto          76   753405.0  "
      ]
     },
     "execution_count": 13,
     "metadata": {},
     "output_type": "execute_result"
    }
   ],
   "source": [
    "tracks_w_artist_df.head()"
   ]
  },
  {
   "cell_type": "code",
   "execution_count": 14,
   "metadata": {},
   "outputs": [
    {
     "data": {
      "text/plain": [
       "2330"
      ]
     },
     "execution_count": 14,
     "metadata": {},
     "output_type": "execute_result"
    }
   ],
   "source": [
    "tracks_w_artist_df['name'].nunique()"
   ]
  },
  {
   "cell_type": "markdown",
   "metadata": {},
   "source": [
    "#### Looking at Matched Songs"
   ]
  },
  {
   "cell_type": "code",
   "execution_count": 13,
   "metadata": {},
   "outputs": [
    {
     "data": {
      "text/html": [
       "<div>\n",
       "<style scoped>\n",
       "    .dataframe tbody tr th:only-of-type {\n",
       "        vertical-align: middle;\n",
       "    }\n",
       "\n",
       "    .dataframe tbody tr th {\n",
       "        vertical-align: top;\n",
       "    }\n",
       "\n",
       "    .dataframe thead th {\n",
       "        text-align: right;\n",
       "    }\n",
       "</style>\n",
       "<table border=\"1\" class=\"dataframe\">\n",
       "  <thead>\n",
       "    <tr style=\"text-align: right;\">\n",
       "      <th></th>\n",
       "      <th>artist_name</th>\n",
       "      <th>song_id</th>\n",
       "      <th>song_title</th>\n",
       "      <th>CID</th>\n",
       "      <th>PID</th>\n",
       "      <th>Title</th>\n",
       "      <th>Performer Name</th>\n",
       "    </tr>\n",
       "  </thead>\n",
       "  <tbody>\n",
       "    <tr>\n",
       "      <th>0</th>\n",
       "      <td>robyn</td>\n",
       "      <td>6SluaPiV04KOaRTOIScoff</td>\n",
       "      <td>show me love</td>\n",
       "      <td>260151.0</td>\n",
       "      <td>14428.0</td>\n",
       "      <td>show me love</td>\n",
       "      <td>robyn</td>\n",
       "    </tr>\n",
       "    <tr>\n",
       "      <th>3</th>\n",
       "      <td>lukas graham</td>\n",
       "      <td>5kqIPrATaCc2LqxVWzQGbk</td>\n",
       "      <td>7 years</td>\n",
       "      <td>43137.0</td>\n",
       "      <td>53876.0</td>\n",
       "      <td>7 years</td>\n",
       "      <td>lukas graham</td>\n",
       "    </tr>\n",
       "    <tr>\n",
       "      <th>10</th>\n",
       "      <td>the killers</td>\n",
       "      <td>3aVyHFxRkf8lSjhWdJ68AW</td>\n",
       "      <td>just another girl</td>\n",
       "      <td>76427.0</td>\n",
       "      <td>39793.0</td>\n",
       "      <td>just another girl</td>\n",
       "      <td>the killers</td>\n",
       "    </tr>\n",
       "    <tr>\n",
       "      <th>11</th>\n",
       "      <td>tamia</td>\n",
       "      <td>0zIyxS6QxZogHOpGkI6IZH</td>\n",
       "      <td>deeper</td>\n",
       "      <td>8897.0</td>\n",
       "      <td>14338.0</td>\n",
       "      <td>deeper</td>\n",
       "      <td>tamia</td>\n",
       "    </tr>\n",
       "    <tr>\n",
       "      <th>14</th>\n",
       "      <td>kanye west</td>\n",
       "      <td>12D0n7hKpPcjuUpcbAKjjr</td>\n",
       "      <td>dont like.1</td>\n",
       "      <td>68936.0</td>\n",
       "      <td>2118.0</td>\n",
       "      <td>dont like.1</td>\n",
       "      <td>kanye west</td>\n",
       "    </tr>\n",
       "  </tbody>\n",
       "</table>\n",
       "</div>"
      ],
      "text/plain": [
       "     artist_name                 song_id         song_title       CID  \\\n",
       "0          robyn  6SluaPiV04KOaRTOIScoff       show me love  260151.0   \n",
       "3   lukas graham  5kqIPrATaCc2LqxVWzQGbk            7 years   43137.0   \n",
       "10   the killers  3aVyHFxRkf8lSjhWdJ68AW  just another girl   76427.0   \n",
       "11         tamia  0zIyxS6QxZogHOpGkI6IZH             deeper    8897.0   \n",
       "14    kanye west  12D0n7hKpPcjuUpcbAKjjr        dont like.1   68936.0   \n",
       "\n",
       "        PID              Title Performer Name  \n",
       "0   14428.0       show me love          robyn  \n",
       "3   53876.0            7 years   lukas graham  \n",
       "10  39793.0  just another girl    the killers  \n",
       "11  14338.0             deeper          tamia  \n",
       "14   2118.0        dont like.1     kanye west  "
      ]
     },
     "execution_count": 13,
     "metadata": {},
     "output_type": "execute_result"
    }
   ],
   "source": [
    "matched_songs.head()"
   ]
  },
  {
   "cell_type": "code",
   "execution_count": 14,
   "metadata": {},
   "outputs": [
    {
     "data": {
      "text/plain": [
       "159438"
      ]
     },
     "execution_count": 14,
     "metadata": {},
     "output_type": "execute_result"
    }
   ],
   "source": [
    "len(matched_songs)"
   ]
  },
  {
   "cell_type": "markdown",
   "metadata": {},
   "source": [
    "#### Comparing Titles Against Matched Tracks -w- Artist IDs"
   ]
  },
  {
   "cell_type": "code",
   "execution_count": 15,
   "metadata": {},
   "outputs": [],
   "source": [
    "matched_tracks_df = tracks_w_artist_df.merge(matched_songs,\n",
    "                                        left_on='track_id',\n",
    "                                        right_on='song_id')"
   ]
  },
  {
   "cell_type": "code",
   "execution_count": 16,
   "metadata": {},
   "outputs": [
    {
     "name": "stdout",
     "output_type": "stream",
     "text": [
      "<class 'pandas.core.frame.DataFrame'>\n",
      "Int64Index: 160200 entries, 0 to 160199\n",
      "Data columns (total 14 columns):\n",
      "track_id          160200 non-null object\n",
      "Song Title        160200 non-null object\n",
      "Artist            160200 non-null object\n",
      "artist_id         160200 non-null object\n",
      "name              160200 non-null object\n",
      "popularity        160200 non-null int64\n",
      "followers         160200 non-null float64\n",
      "artist_name       160200 non-null object\n",
      "song_id           160200 non-null object\n",
      "song_title        160200 non-null object\n",
      "CID               160200 non-null float64\n",
      "PID               160200 non-null float64\n",
      "Title             160200 non-null object\n",
      "Performer Name    160200 non-null object\n",
      "dtypes: float64(3), int64(1), object(10)\n",
      "memory usage: 18.3+ MB\n"
     ]
    }
   ],
   "source": [
    "matched_tracks_df.info()"
   ]
  },
  {
   "cell_type": "markdown",
   "metadata": {},
   "source": [
    "## 1c. Merging In Composer info to See Remaining Recommendable Songwriters"
   ]
  },
  {
   "cell_type": "code",
   "execution_count": 17,
   "metadata": {},
   "outputs": [],
   "source": [
    "cw_lookup = pd.read_csv('../data/cw_lookup.csv', index_col=0)\n",
    "writers = pd.read_csv('../data/writers.csv', index_col=0)"
   ]
  },
  {
   "cell_type": "code",
   "execution_count": 18,
   "metadata": {},
   "outputs": [
    {
     "data": {
      "text/plain": [
       "Index(['WID', 'Writer Name', 'IPI', 'PRO'], dtype='object')"
      ]
     },
     "execution_count": 18,
     "metadata": {},
     "output_type": "execute_result"
    }
   ],
   "source": [
    "writers.columns"
   ]
  },
  {
   "cell_type": "code",
   "execution_count": 24,
   "metadata": {},
   "outputs": [
    {
     "data": {
      "text/html": [
       "<div>\n",
       "<style scoped>\n",
       "    .dataframe tbody tr th:only-of-type {\n",
       "        vertical-align: middle;\n",
       "    }\n",
       "\n",
       "    .dataframe tbody tr th {\n",
       "        vertical-align: top;\n",
       "    }\n",
       "\n",
       "    .dataframe thead th {\n",
       "        text-align: right;\n",
       "    }\n",
       "</style>\n",
       "<table border=\"1\" class=\"dataframe\">\n",
       "  <thead>\n",
       "    <tr style=\"text-align: right;\">\n",
       "      <th></th>\n",
       "      <th>CID</th>\n",
       "      <th>WID</th>\n",
       "    </tr>\n",
       "  </thead>\n",
       "  <tbody>\n",
       "    <tr>\n",
       "      <th>0</th>\n",
       "      <td>0</td>\n",
       "      <td>1</td>\n",
       "    </tr>\n",
       "    <tr>\n",
       "      <th>1</th>\n",
       "      <td>17640</td>\n",
       "      <td>1</td>\n",
       "    </tr>\n",
       "    <tr>\n",
       "      <th>2</th>\n",
       "      <td>46671</td>\n",
       "      <td>1</td>\n",
       "    </tr>\n",
       "    <tr>\n",
       "      <th>3</th>\n",
       "      <td>130198</td>\n",
       "      <td>1</td>\n",
       "    </tr>\n",
       "    <tr>\n",
       "      <th>4</th>\n",
       "      <td>130201</td>\n",
       "      <td>1</td>\n",
       "    </tr>\n",
       "    <tr>\n",
       "      <th>5</th>\n",
       "      <td>130202</td>\n",
       "      <td>1</td>\n",
       "    </tr>\n",
       "    <tr>\n",
       "      <th>6</th>\n",
       "      <td>130206</td>\n",
       "      <td>1</td>\n",
       "    </tr>\n",
       "    <tr>\n",
       "      <th>7</th>\n",
       "      <td>130211</td>\n",
       "      <td>1</td>\n",
       "    </tr>\n",
       "    <tr>\n",
       "      <th>8</th>\n",
       "      <td>130212</td>\n",
       "      <td>1</td>\n",
       "    </tr>\n",
       "    <tr>\n",
       "      <th>9</th>\n",
       "      <td>276450</td>\n",
       "      <td>1</td>\n",
       "    </tr>\n",
       "  </tbody>\n",
       "</table>\n",
       "</div>"
      ],
      "text/plain": [
       "      CID  WID\n",
       "0       0    1\n",
       "1   17640    1\n",
       "2   46671    1\n",
       "3  130198    1\n",
       "4  130201    1\n",
       "5  130202    1\n",
       "6  130206    1\n",
       "7  130211    1\n",
       "8  130212    1\n",
       "9  276450    1"
      ]
     },
     "execution_count": 24,
     "metadata": {},
     "output_type": "execute_result"
    }
   ],
   "source": [
    "cw_lookup.head(10)"
   ]
  },
  {
   "cell_type": "code",
   "execution_count": 25,
   "metadata": {},
   "outputs": [
    {
     "data": {
      "text/html": [
       "<div>\n",
       "<style scoped>\n",
       "    .dataframe tbody tr th:only-of-type {\n",
       "        vertical-align: middle;\n",
       "    }\n",
       "\n",
       "    .dataframe tbody tr th {\n",
       "        vertical-align: top;\n",
       "    }\n",
       "\n",
       "    .dataframe thead th {\n",
       "        text-align: right;\n",
       "    }\n",
       "</style>\n",
       "<table border=\"1\" class=\"dataframe\">\n",
       "  <thead>\n",
       "    <tr style=\"text-align: right;\">\n",
       "      <th></th>\n",
       "      <th>CID</th>\n",
       "      <th>WID</th>\n",
       "    </tr>\n",
       "  </thead>\n",
       "  <tbody>\n",
       "    <tr>\n",
       "      <th>535</th>\n",
       "      <td>0</td>\n",
       "      <td>8</td>\n",
       "    </tr>\n",
       "    <tr>\n",
       "      <th>536</th>\n",
       "      <td>17640</td>\n",
       "      <td>8</td>\n",
       "    </tr>\n",
       "    <tr>\n",
       "      <th>537</th>\n",
       "      <td>276450</td>\n",
       "      <td>8</td>\n",
       "    </tr>\n",
       "  </tbody>\n",
       "</table>\n",
       "</div>"
      ],
      "text/plain": [
       "        CID  WID\n",
       "535       0    8\n",
       "536   17640    8\n",
       "537  276450    8"
      ]
     },
     "execution_count": 25,
     "metadata": {},
     "output_type": "execute_result"
    }
   ],
   "source": [
    "cw_lookup[cw_lookup['WID']== 8]"
   ]
  },
  {
   "cell_type": "markdown",
   "metadata": {},
   "source": [
    "**Note**: Added the `contrib_id` to account for individual contributions to works on 9/1/2019"
   ]
  },
  {
   "cell_type": "code",
   "execution_count": 26,
   "metadata": {},
   "outputs": [],
   "source": [
    "matched_w_CID = matched_tracks_df.merge(cw_lookup,\n",
    "                                        on='CID')\n",
    "matched_w_CID['contrib_id'] = matched_w_CID.index"
   ]
  },
  {
   "cell_type": "code",
   "execution_count": 27,
   "metadata": {},
   "outputs": [],
   "source": [
    "matched_w_writers = matched_w_CID.merge(writers,\n",
    "                                     on='WID')"
   ]
  },
  {
   "cell_type": "code",
   "execution_count": 28,
   "metadata": {},
   "outputs": [
    {
     "data": {
      "text/html": [
       "<div>\n",
       "<style scoped>\n",
       "    .dataframe tbody tr th:only-of-type {\n",
       "        vertical-align: middle;\n",
       "    }\n",
       "\n",
       "    .dataframe tbody tr th {\n",
       "        vertical-align: top;\n",
       "    }\n",
       "\n",
       "    .dataframe thead th {\n",
       "        text-align: right;\n",
       "    }\n",
       "</style>\n",
       "<table border=\"1\" class=\"dataframe\">\n",
       "  <thead>\n",
       "    <tr style=\"text-align: right;\">\n",
       "      <th></th>\n",
       "      <th>track_id</th>\n",
       "      <th>Song Title</th>\n",
       "      <th>Artist</th>\n",
       "      <th>artist_id</th>\n",
       "      <th>name</th>\n",
       "      <th>popularity</th>\n",
       "      <th>followers</th>\n",
       "      <th>artist_name</th>\n",
       "      <th>song_id</th>\n",
       "      <th>song_title</th>\n",
       "      <th>CID</th>\n",
       "      <th>PID</th>\n",
       "      <th>Title</th>\n",
       "      <th>Performer Name</th>\n",
       "      <th>WID</th>\n",
       "      <th>Writer Name</th>\n",
       "      <th>IPI</th>\n",
       "      <th>PRO</th>\n",
       "    </tr>\n",
       "  </thead>\n",
       "  <tbody>\n",
       "    <tr>\n",
       "      <th>0</th>\n",
       "      <td>0007aPK8VmXN4ycL2OcBFa</td>\n",
       "      <td>Bodhisattva - Live</td>\n",
       "      <td>Toto</td>\n",
       "      <td>0PFtn5NtBbbUNbU9EAmIWF</td>\n",
       "      <td>Toto</td>\n",
       "      <td>76</td>\n",
       "      <td>753405.0</td>\n",
       "      <td>toto</td>\n",
       "      <td>0007aPK8VmXN4ycL2OcBFa</td>\n",
       "      <td>bodhisattva</td>\n",
       "      <td>126127.0</td>\n",
       "      <td>6030.0</td>\n",
       "      <td>bodhisattva</td>\n",
       "      <td>toto</td>\n",
       "      <td>7280</td>\n",
       "      <td>BECKER WALTER CARL</td>\n",
       "      <td>89150949</td>\n",
       "      <td>ASCAP</td>\n",
       "    </tr>\n",
       "    <tr>\n",
       "      <th>1</th>\n",
       "      <td>4F6419huGNh7rXB8Kr1rBf</td>\n",
       "      <td>Bodhisattva - Live</td>\n",
       "      <td>Toto</td>\n",
       "      <td>0PFtn5NtBbbUNbU9EAmIWF</td>\n",
       "      <td>Toto</td>\n",
       "      <td>76</td>\n",
       "      <td>753405.0</td>\n",
       "      <td>toto</td>\n",
       "      <td>4F6419huGNh7rXB8Kr1rBf</td>\n",
       "      <td>bodhisattva</td>\n",
       "      <td>126127.0</td>\n",
       "      <td>6030.0</td>\n",
       "      <td>bodhisattva</td>\n",
       "      <td>toto</td>\n",
       "      <td>7280</td>\n",
       "      <td>BECKER WALTER CARL</td>\n",
       "      <td>89150949</td>\n",
       "      <td>ASCAP</td>\n",
       "    </tr>\n",
       "    <tr>\n",
       "      <th>2</th>\n",
       "      <td>6auUOYXyP76l4fiqC86c9E</td>\n",
       "      <td>Bodhisattva - Live</td>\n",
       "      <td>Toto</td>\n",
       "      <td>0PFtn5NtBbbUNbU9EAmIWF</td>\n",
       "      <td>Toto</td>\n",
       "      <td>76</td>\n",
       "      <td>753405.0</td>\n",
       "      <td>toto</td>\n",
       "      <td>6auUOYXyP76l4fiqC86c9E</td>\n",
       "      <td>bodhisattva</td>\n",
       "      <td>126127.0</td>\n",
       "      <td>6030.0</td>\n",
       "      <td>bodhisattva</td>\n",
       "      <td>toto</td>\n",
       "      <td>7280</td>\n",
       "      <td>BECKER WALTER CARL</td>\n",
       "      <td>89150949</td>\n",
       "      <td>ASCAP</td>\n",
       "    </tr>\n",
       "    <tr>\n",
       "      <th>3</th>\n",
       "      <td>10JB78fwqaUrCFZj3XNn6L</td>\n",
       "      <td>Bodhisattva</td>\n",
       "      <td>Steely Dan</td>\n",
       "      <td>6P7H3ai06vU1sGvdpBwDmE</td>\n",
       "      <td>Steely Dan</td>\n",
       "      <td>68</td>\n",
       "      <td>601480.0</td>\n",
       "      <td>steely dan</td>\n",
       "      <td>10JB78fwqaUrCFZj3XNn6L</td>\n",
       "      <td>bodhisattva</td>\n",
       "      <td>126127.0</td>\n",
       "      <td>1699.0</td>\n",
       "      <td>bodhisattva</td>\n",
       "      <td>steely dan</td>\n",
       "      <td>7280</td>\n",
       "      <td>BECKER WALTER CARL</td>\n",
       "      <td>89150949</td>\n",
       "      <td>ASCAP</td>\n",
       "    </tr>\n",
       "    <tr>\n",
       "      <th>4</th>\n",
       "      <td>6cdLlECd80adBM3fgEk9Km</td>\n",
       "      <td>Bodhisattva</td>\n",
       "      <td>Steely Dan</td>\n",
       "      <td>6P7H3ai06vU1sGvdpBwDmE</td>\n",
       "      <td>Steely Dan</td>\n",
       "      <td>68</td>\n",
       "      <td>601480.0</td>\n",
       "      <td>steely dan</td>\n",
       "      <td>6cdLlECd80adBM3fgEk9Km</td>\n",
       "      <td>bodhisattva</td>\n",
       "      <td>126127.0</td>\n",
       "      <td>1699.0</td>\n",
       "      <td>bodhisattva</td>\n",
       "      <td>steely dan</td>\n",
       "      <td>7280</td>\n",
       "      <td>BECKER WALTER CARL</td>\n",
       "      <td>89150949</td>\n",
       "      <td>ASCAP</td>\n",
       "    </tr>\n",
       "  </tbody>\n",
       "</table>\n",
       "</div>"
      ],
      "text/plain": [
       "                 track_id          Song Title      Artist  \\\n",
       "0  0007aPK8VmXN4ycL2OcBFa  Bodhisattva - Live        Toto   \n",
       "1  4F6419huGNh7rXB8Kr1rBf  Bodhisattva - Live        Toto   \n",
       "2  6auUOYXyP76l4fiqC86c9E  Bodhisattva - Live        Toto   \n",
       "3  10JB78fwqaUrCFZj3XNn6L         Bodhisattva  Steely Dan   \n",
       "4  6cdLlECd80adBM3fgEk9Km         Bodhisattva  Steely Dan   \n",
       "\n",
       "                artist_id        name  popularity  followers artist_name  \\\n",
       "0  0PFtn5NtBbbUNbU9EAmIWF        Toto          76   753405.0        toto   \n",
       "1  0PFtn5NtBbbUNbU9EAmIWF        Toto          76   753405.0        toto   \n",
       "2  0PFtn5NtBbbUNbU9EAmIWF        Toto          76   753405.0        toto   \n",
       "3  6P7H3ai06vU1sGvdpBwDmE  Steely Dan          68   601480.0  steely dan   \n",
       "4  6P7H3ai06vU1sGvdpBwDmE  Steely Dan          68   601480.0  steely dan   \n",
       "\n",
       "                  song_id   song_title       CID     PID        Title  \\\n",
       "0  0007aPK8VmXN4ycL2OcBFa  bodhisattva  126127.0  6030.0  bodhisattva   \n",
       "1  4F6419huGNh7rXB8Kr1rBf  bodhisattva  126127.0  6030.0  bodhisattva   \n",
       "2  6auUOYXyP76l4fiqC86c9E  bodhisattva  126127.0  6030.0  bodhisattva   \n",
       "3  10JB78fwqaUrCFZj3XNn6L  bodhisattva  126127.0  1699.0  bodhisattva   \n",
       "4  6cdLlECd80adBM3fgEk9Km  bodhisattva  126127.0  1699.0  bodhisattva   \n",
       "\n",
       "  Performer Name   WID         Writer Name       IPI    PRO  \n",
       "0           toto  7280  BECKER WALTER CARL  89150949  ASCAP  \n",
       "1           toto  7280  BECKER WALTER CARL  89150949  ASCAP  \n",
       "2           toto  7280  BECKER WALTER CARL  89150949  ASCAP  \n",
       "3     steely dan  7280  BECKER WALTER CARL  89150949  ASCAP  \n",
       "4     steely dan  7280  BECKER WALTER CARL  89150949  ASCAP  "
      ]
     },
     "execution_count": 28,
     "metadata": {},
     "output_type": "execute_result"
    }
   ],
   "source": [
    "matched_w_writers.head()"
   ]
  },
  {
   "cell_type": "code",
   "execution_count": 29,
   "metadata": {},
   "outputs": [
    {
     "name": "stdout",
     "output_type": "stream",
     "text": [
      "<class 'pandas.core.frame.DataFrame'>\n",
      "Int64Index: 462965 entries, 0 to 462964\n",
      "Data columns (total 18 columns):\n",
      "track_id          462965 non-null object\n",
      "Song Title        462965 non-null object\n",
      "Artist            462965 non-null object\n",
      "artist_id         462965 non-null object\n",
      "name              462965 non-null object\n",
      "popularity        462965 non-null int64\n",
      "followers         462965 non-null float64\n",
      "artist_name       462965 non-null object\n",
      "song_id           462965 non-null object\n",
      "song_title        462965 non-null object\n",
      "CID               462965 non-null float64\n",
      "PID               462965 non-null float64\n",
      "Title             462965 non-null object\n",
      "Performer Name    462965 non-null object\n",
      "WID               462965 non-null int64\n",
      "Writer Name       462965 non-null object\n",
      "IPI               462965 non-null object\n",
      "PRO               462965 non-null object\n",
      "dtypes: float64(3), int64(2), object(13)\n",
      "memory usage: 67.1+ MB\n"
     ]
    }
   ],
   "source": [
    "matched_w_writers.info()"
   ]
  },
  {
   "cell_type": "code",
   "execution_count": 30,
   "metadata": {},
   "outputs": [
    {
     "data": {
      "text/plain": [
       "24672"
      ]
     },
     "execution_count": 30,
     "metadata": {},
     "output_type": "execute_result"
    }
   ],
   "source": [
    "matched_w_writers['IPI'].nunique()"
   ]
  },
  {
   "cell_type": "code",
   "execution_count": 31,
   "metadata": {},
   "outputs": [
    {
     "data": {
      "text/plain": [
       "(11698,)"
      ]
     },
     "execution_count": 31,
     "metadata": {},
     "output_type": "execute_result"
    }
   ],
   "source": [
    "matched_w_writers['Writer Name'].value_counts()[matched_w_writers['Writer Name'].value_counts() > 4].shape"
   ]
  },
  {
   "cell_type": "code",
   "execution_count": 32,
   "metadata": {},
   "outputs": [],
   "source": [
    "matched_w_writers.to_csv('../data/matched_tracks_w_writers_20190422.csv')"
   ]
  },
  {
   "cell_type": "code",
   "execution_count": 44,
   "metadata": {},
   "outputs": [],
   "source": [
    "matched_deduplicated_titles = matched_w_writers.drop_duplicates(subset=['Song Title', 'Artist', 'artist_name', \n",
    "                                                                        'song_title', 'CID', 'PID', 'Title',\n",
    "                                                                        'Performer Name', 'IPI', 'Writer Name',\n",
    "                                                                        'PRO'])"
   ]
  },
  {
   "cell_type": "markdown",
   "metadata": {},
   "source": [
    "### 1d. Full Number of Recommended IPI's with Deduplicated Titles\n",
    "\n",
    "Need to subtract 1 for the the `-` value. Though, perhaps I could match on same name `if -`."
   ]
  },
  {
   "cell_type": "code",
   "execution_count": 45,
   "metadata": {},
   "outputs": [
    {
     "data": {
      "text/plain": [
       "(8974,)"
      ]
     },
     "execution_count": 45,
     "metadata": {},
     "output_type": "execute_result"
    }
   ],
   "source": [
    "matched_deduplicated_titles['IPI'].value_counts()[matched_deduplicated_titles['IPI'].value_counts() > 4].shape"
   ]
  },
  {
   "cell_type": "markdown",
   "metadata": {},
   "source": [
    "Just looking at the writer names at the top and bottom. There's probably at least 10% aliases here"
   ]
  },
  {
   "cell_type": "code",
   "execution_count": 46,
   "metadata": {},
   "outputs": [
    {
     "data": {
      "text/plain": [
       "24519"
      ]
     },
     "execution_count": 46,
     "metadata": {},
     "output_type": "execute_result"
    }
   ],
   "source": [
    "matched_deduplicated_titles['Writer Name'].nunique()"
   ]
  },
  {
   "cell_type": "code",
   "execution_count": 47,
   "metadata": {},
   "outputs": [],
   "source": [
    "matched_deduplicated_pre_writers = matched_deduplicated_titles.drop(columns=['IPI', 'Writer Name', 'PRO'])"
   ]
  },
  {
   "cell_type": "code",
   "execution_count": 48,
   "metadata": {},
   "outputs": [],
   "source": [
    "matched_deduplicated_writers = matched_deduplicated_pre_writers.drop_duplicates()"
   ]
  },
  {
   "cell_type": "markdown",
   "metadata": {},
   "source": [
    "### 1e. \"Master\" List of Recommendable Songs, Based on Spotify ID"
   ]
  },
  {
   "cell_type": "code",
   "execution_count": 49,
   "metadata": {},
   "outputs": [
    {
     "data": {
      "text/plain": [
       "(107784, 14)"
      ]
     },
     "execution_count": 49,
     "metadata": {},
     "output_type": "execute_result"
    }
   ],
   "source": [
    "matched_deduplicated_writers.shape"
   ]
  },
  {
   "cell_type": "markdown",
   "metadata": {},
   "source": [
    "### 1f. Adding Pitch and Timbre Means / Variances"
   ]
  },
  {
   "cell_type": "code",
   "execution_count": 54,
   "metadata": {},
   "outputs": [
    {
     "data": {
      "text/plain": [
       "['../data/pitch_timbre_means_vars/']"
      ]
     },
     "execution_count": 54,
     "metadata": {},
     "output_type": "execute_result"
    }
   ],
   "source": [
    "glob('../data/pitch_timbre_means_vars/*')"
   ]
  },
  {
   "cell_type": "code",
   "execution_count": 93,
   "metadata": {},
   "outputs": [],
   "source": [
    "with open('../data/pitch_timbre_means_vars/pitch_means_100000.json', 'r') as f:\n",
    "    pm_test = json.load(f)\n",
    "with open('../data/pitch_timbre_means_vars/pitch_var_100000.json', 'r') as f:\n",
    "    pv_test = json.load(f)"
   ]
  },
  {
   "cell_type": "code",
   "execution_count": 94,
   "metadata": {},
   "outputs": [],
   "source": [
    "pitch_test_dict = always_merger.merge(pm_test, pv_test)"
   ]
  },
  {
   "cell_type": "code",
   "execution_count": 78,
   "metadata": {},
   "outputs": [],
   "source": [
    "from functools import reduce"
   ]
  },
  {
   "cell_type": "code",
   "execution_count": 150,
   "metadata": {},
   "outputs": [],
   "source": [
    "def combine_pitch_timbre_files(file_path, output='dict'):\n",
    "    '''\n",
    "    Combines pitch and timbre mean & variance files\n",
    "    into a single dictionary, or dataframe\n",
    "    \n",
    "    file_path : str, location of pitch and timbre files\n",
    "    output : str, default 'dict' (can also pass 'df')\n",
    "             outputs resulting file into either a dict\n",
    "             or dataframe\n",
    "    '''\n",
    "    if not (output == 'dict') | (output == 'df'):\n",
    "        raise ValueError('Output must either be set to dict or df')\n",
    "    \n",
    "    pitch_means_dict = {}\n",
    "    pitch_var_dict = {}\n",
    "    timbre_means_dict = {}\n",
    "    timbre_var_dict = {}\n",
    "    \n",
    "    pitch_timbre_file_list = glob(f'{file_path}/*')\n",
    "\n",
    "    print('Opening Files')\n",
    "    for file_w_file_path in pitch_timbre_file_list:\n",
    "        if 'pitch_var' in file_w_file_path:\n",
    "            if len(pitch_var_dict) > 1:\n",
    "                with open(f'{file_w_file_path}', 'r') as f:\n",
    "                    temp_dict = json.load(f)\n",
    "                    pitch_var_dict.update(temp_dict)\n",
    "            else:\n",
    "                with open(f'{file_w_file_path}', 'r') as f:\n",
    "                    pitch_var_dict = json.load(f)\n",
    "        \n",
    "        elif 'pitch_means' in file_w_file_path:\n",
    "            if len(pitch_means_dict) > 1:\n",
    "                with open(f'{file_w_file_path}', 'r') as f:\n",
    "                    temp_dict = json.load(f)\n",
    "                    pitch_means_dict.update(temp_dict)\n",
    "            else:\n",
    "                with open(f'{file_w_file_path}', 'r') as f:\n",
    "                    pitch_means_dict = json.load(f)\n",
    "        \n",
    "        elif 'timbre_var' in file_w_file_path:\n",
    "            if len(timbre_var_dict) > 1:\n",
    "                with open(f'{file_w_file_path}', 'r') as f:\n",
    "                    temp_dict = json.load(f)\n",
    "                    timbre_var_dict.update(temp_dict)\n",
    "            else:\n",
    "                with open(f'{file_w_file_path}', 'r') as f:\n",
    "                    timbre_var_dict = json.load(f)        \n",
    "        \n",
    "        elif 'timbre_means' in file_w_file_path:\n",
    "            if len(timbre_means_dict) > 1:\n",
    "                with open(f'{file_w_file_path}', 'r') as f:\n",
    "                    temp_dict = json.load(f)\n",
    "                    timbre_means_dict.update(temp_dict)\n",
    "            else:\n",
    "                with open(f'{file_w_file_path}', 'r') as f:\n",
    "                    timbre_means_dict = json.load(f)\n",
    "    \n",
    "    print('Organizing Dictionaries')\n",
    "    for track_id in pitch_means_dict:\n",
    "        pitch_means_dict[track_id] = {\n",
    "            f'pm_{i}' : pitch_means_dict[track_id]['pitch_means'][i] \\\n",
    "            for i in range(len(pitch_means_dict[track_id]['pitch_means']))\n",
    "        }\n",
    "    for track_id in pitch_var_dict:\n",
    "        pitch_var_dict[track_id] = {\n",
    "            f'pv_{i}' : pitch_var_dict[track_id]['pitch_var'][i] \\\n",
    "            for i in range(len(pitch_var_dict[track_id]['pitch_var']))\n",
    "        }\n",
    "    for track_id in timbre_means_dict:\n",
    "        timbre_means_dict[track_id] = {\n",
    "            f'tm_{i}' : timbre_means_dict[track_id]['timbre_means'][i] \\\n",
    "            for i in range(len(timbre_means_dict[track_id]['timbre_means']))\n",
    "        }\n",
    "    for track_id in timbre_var_dict:        \n",
    "        timbre_var_dict[track_id] = {\n",
    "            f'tv_{i}' : timbre_var_dict[track_id]['timbre_var'][i] \\\n",
    "            for i in range(len(timbre_var_dict[track_id]['timbre_var']))\n",
    "        }\n",
    "\n",
    "    print('Merging Files')\n",
    "    \n",
    "    master_dict = reduce(lambda x, y: \\\n",
    "                         always_merger.merge(x, y), \n",
    "                         [pitch_means_dict,\n",
    "                          pitch_var_dict,\n",
    "                          timbre_means_dict,\n",
    "                          timbre_var_dict])\n",
    "    if output == 'dict':\n",
    "        return master_dict\n",
    "    else:\n",
    "        return pd.DataFrame.from_dict(master_dict, \n",
    "                                      orient = 'index')"
   ]
  },
  {
   "cell_type": "code",
   "execution_count": 142,
   "metadata": {},
   "outputs": [
    {
     "name": "stdout",
     "output_type": "stream",
     "text": [
      "Opening Files\n",
      "Organizing Dictionaries\n",
      "Merging Files\n"
     ]
    }
   ],
   "source": [
    "segment_dict = combine_pitch_timbre_files('../data/pitch_timbre_means_vars/')"
   ]
  },
  {
   "cell_type": "code",
   "execution_count": 146,
   "metadata": {},
   "outputs": [],
   "source": [
    "segment_df = pd.DataFrame.from_dict(segment_dict, orient='index')"
   ]
  },
  {
   "cell_type": "code",
   "execution_count": 148,
   "metadata": {},
   "outputs": [],
   "source": [
    "segment_df.to_csv('../data/segment_df_20190413.csv')"
   ]
  },
  {
   "cell_type": "markdown",
   "metadata": {},
   "source": [
    "### 1f. Adding in Genre Information"
   ]
  },
  {
   "cell_type": "code",
   "execution_count": 50,
   "metadata": {},
   "outputs": [
    {
     "data": {
      "text/html": [
       "<div>\n",
       "<style scoped>\n",
       "    .dataframe tbody tr th:only-of-type {\n",
       "        vertical-align: middle;\n",
       "    }\n",
       "\n",
       "    .dataframe tbody tr th {\n",
       "        vertical-align: top;\n",
       "    }\n",
       "\n",
       "    .dataframe thead th {\n",
       "        text-align: right;\n",
       "    }\n",
       "</style>\n",
       "<table border=\"1\" class=\"dataframe\">\n",
       "  <thead>\n",
       "    <tr style=\"text-align: right;\">\n",
       "      <th></th>\n",
       "      <th>genre</th>\n",
       "    </tr>\n",
       "  </thead>\n",
       "  <tbody>\n",
       "    <tr>\n",
       "      <th>0</th>\n",
       "      <td>a cappella</td>\n",
       "    </tr>\n",
       "    <tr>\n",
       "      <th>1</th>\n",
       "      <td>acid house</td>\n",
       "    </tr>\n",
       "    <tr>\n",
       "      <th>2</th>\n",
       "      <td>acid jazz</td>\n",
       "    </tr>\n",
       "    <tr>\n",
       "      <th>3</th>\n",
       "      <td>acoustic blues</td>\n",
       "    </tr>\n",
       "    <tr>\n",
       "      <th>4</th>\n",
       "      <td>acoustic pop</td>\n",
       "    </tr>\n",
       "  </tbody>\n",
       "</table>\n",
       "</div>"
      ],
      "text/plain": [
       "            genre\n",
       "0      a cappella\n",
       "1      acid house\n",
       "2       acid jazz\n",
       "3  acoustic blues\n",
       "4    acoustic pop"
      ]
     },
     "execution_count": 50,
     "metadata": {},
     "output_type": "execute_result"
    }
   ],
   "source": [
    "genres.head()"
   ]
  },
  {
   "cell_type": "markdown",
   "metadata": {},
   "source": [
    "#### 1f1. Creating Genre Song Lookup Table\n",
    "\n",
    "Update 8/24/19: I had to recreate the genre song lookup table from my February run of track gathering, as the previous one had duplicated rows, which complicated the process of creating genre dummies immensely."
   ]
  },
  {
   "cell_type": "code",
   "execution_count": 5,
   "metadata": {},
   "outputs": [],
   "source": [
    "# Should be earlier in the process\n",
    "\n",
    "g_lookup = gs_lookup[['genre_id', 'genre_name', 'artist_id']]"
   ]
  },
  {
   "cell_type": "code",
   "execution_count": 17,
   "metadata": {},
   "outputs": [],
   "source": [
    "g_lookup_no_duplicates = g_lookup.drop_duplicates()"
   ]
  },
  {
   "cell_type": "code",
   "execution_count": 19,
   "metadata": {},
   "outputs": [
    {
     "data": {
      "text/html": [
       "<div>\n",
       "<style scoped>\n",
       "    .dataframe tbody tr th:only-of-type {\n",
       "        vertical-align: middle;\n",
       "    }\n",
       "\n",
       "    .dataframe tbody tr th {\n",
       "        vertical-align: top;\n",
       "    }\n",
       "\n",
       "    .dataframe thead th {\n",
       "        text-align: right;\n",
       "    }\n",
       "</style>\n",
       "<table border=\"1\" class=\"dataframe\">\n",
       "  <thead>\n",
       "    <tr style=\"text-align: right;\">\n",
       "      <th></th>\n",
       "      <th>genre_id</th>\n",
       "      <th>genre_name</th>\n",
       "      <th>artist_id</th>\n",
       "    </tr>\n",
       "    <tr>\n",
       "      <th>gs_id</th>\n",
       "      <th></th>\n",
       "      <th></th>\n",
       "      <th></th>\n",
       "    </tr>\n",
       "  </thead>\n",
       "  <tbody>\n",
       "    <tr>\n",
       "      <th>1</th>\n",
       "      <td>139</td>\n",
       "      <td>dance pop</td>\n",
       "      <td>6UE7nl9mha6s8z0wFQFIZ2</td>\n",
       "    </tr>\n",
       "    <tr>\n",
       "      <th>2</th>\n",
       "      <td>189</td>\n",
       "      <td>electropop</td>\n",
       "      <td>6UE7nl9mha6s8z0wFQFIZ2</td>\n",
       "    </tr>\n",
       "    <tr>\n",
       "      <th>3</th>\n",
       "      <td>196</td>\n",
       "      <td>europop</td>\n",
       "      <td>6UE7nl9mha6s8z0wFQFIZ2</td>\n",
       "    </tr>\n",
       "    <tr>\n",
       "      <th>4</th>\n",
       "      <td>404</td>\n",
       "      <td>pop</td>\n",
       "      <td>6UE7nl9mha6s8z0wFQFIZ2</td>\n",
       "    </tr>\n",
       "    <tr>\n",
       "      <th>5</th>\n",
       "      <td>410</td>\n",
       "      <td>pop rock</td>\n",
       "      <td>6UE7nl9mha6s8z0wFQFIZ2</td>\n",
       "    </tr>\n",
       "  </tbody>\n",
       "</table>\n",
       "</div>"
      ],
      "text/plain": [
       "       genre_id  genre_name               artist_id\n",
       "gs_id                                              \n",
       "1           139   dance pop  6UE7nl9mha6s8z0wFQFIZ2\n",
       "2           189  electropop  6UE7nl9mha6s8z0wFQFIZ2\n",
       "3           196     europop  6UE7nl9mha6s8z0wFQFIZ2\n",
       "4           404         pop  6UE7nl9mha6s8z0wFQFIZ2\n",
       "5           410    pop rock  6UE7nl9mha6s8z0wFQFIZ2"
      ]
     },
     "execution_count": 19,
     "metadata": {},
     "output_type": "execute_result"
    }
   ],
   "source": [
    "g_lookup_no_duplicates.head()"
   ]
  },
  {
   "cell_type": "code",
   "execution_count": 20,
   "metadata": {},
   "outputs": [],
   "source": [
    "g_lookup_no_duplicates.to_csv(\"../data/genre_artist_lookup_20190824.csv\", index=False)"
   ]
  },
  {
   "cell_type": "code",
   "execution_count": 21,
   "metadata": {},
   "outputs": [],
   "source": [
    "matched_tracks_w_writers = pd.read_csv(\"../data/interim/tracks_w_writers/matched_tracks_w_writers_20190422.csv\", index_col=0)"
   ]
  },
  {
   "cell_type": "code",
   "execution_count": 24,
   "metadata": {},
   "outputs": [],
   "source": [
    "tracks_w_artist_id = matched_tracks_w_writers[['track_id','artist_id']]"
   ]
  },
  {
   "cell_type": "code",
   "execution_count": 25,
   "metadata": {},
   "outputs": [],
   "source": [
    "tracks_w_artist_id = tracks_w_artist_id.drop_duplicates()"
   ]
  },
  {
   "cell_type": "code",
   "execution_count": 31,
   "metadata": {},
   "outputs": [],
   "source": [
    "matched_w_genres_temp = tracks_w_artist_id.merge(g_lookup_no_duplicates,\n",
    "                                                on='artist_id')"
   ]
  },
  {
   "cell_type": "code",
   "execution_count": 32,
   "metadata": {},
   "outputs": [
    {
     "data": {
      "text/plain": [
       "(906301, 4)"
      ]
     },
     "execution_count": 32,
     "metadata": {},
     "output_type": "execute_result"
    }
   ],
   "source": [
    "matched_w_genres_temp.shape"
   ]
  },
  {
   "cell_type": "code",
   "execution_count": 29,
   "metadata": {},
   "outputs": [
    {
     "data": {
      "text/plain": [
       "Index(['track_id', 'artist_id', 'genre_id', 'genre_name'], dtype='object')"
      ]
     },
     "execution_count": 29,
     "metadata": {},
     "output_type": "execute_result"
    }
   ],
   "source": [
    "matched_w_genres_temp.columns"
   ]
  },
  {
   "cell_type": "code",
   "execution_count": 33,
   "metadata": {},
   "outputs": [],
   "source": [
    "gs_lookup = matched_w_genres_temp[['track_id', \n",
    "                                   'genre_id']]"
   ]
  },
  {
   "cell_type": "code",
   "execution_count": 34,
   "metadata": {},
   "outputs": [],
   "source": [
    "gs_lookup.to_csv('../data/gsong_lookup_20190824.csv', index=False)"
   ]
  },
  {
   "cell_type": "code",
   "execution_count": 36,
   "metadata": {},
   "outputs": [],
   "source": [
    "del matched_w_genres_temp"
   ]
  },
  {
   "cell_type": "code",
   "execution_count": 126,
   "metadata": {},
   "outputs": [
    {
     "data": {
      "text/html": [
       "<div>\n",
       "<style scoped>\n",
       "    .dataframe tbody tr th:only-of-type {\n",
       "        vertical-align: middle;\n",
       "    }\n",
       "\n",
       "    .dataframe tbody tr th {\n",
       "        vertical-align: top;\n",
       "    }\n",
       "\n",
       "    .dataframe thead th {\n",
       "        text-align: right;\n",
       "    }\n",
       "</style>\n",
       "<table border=\"1\" class=\"dataframe\">\n",
       "  <thead>\n",
       "    <tr style=\"text-align: right;\">\n",
       "      <th></th>\n",
       "      <th>track_id</th>\n",
       "      <th>genre_id</th>\n",
       "    </tr>\n",
       "  </thead>\n",
       "  <tbody>\n",
       "    <tr>\n",
       "      <th>0</th>\n",
       "      <td>0007aPK8VmXN4ycL2OcBFa</td>\n",
       "      <td>8</td>\n",
       "    </tr>\n",
       "    <tr>\n",
       "      <th>1</th>\n",
       "      <td>0007aPK8VmXN4ycL2OcBFa</td>\n",
       "      <td>328</td>\n",
       "    </tr>\n",
       "    <tr>\n",
       "      <th>2</th>\n",
       "      <td>0007aPK8VmXN4ycL2OcBFa</td>\n",
       "      <td>448</td>\n",
       "    </tr>\n",
       "    <tr>\n",
       "      <th>3</th>\n",
       "      <td>0007aPK8VmXN4ycL2OcBFa</td>\n",
       "      <td>481</td>\n",
       "    </tr>\n",
       "    <tr>\n",
       "      <th>4</th>\n",
       "      <td>0007aPK8VmXN4ycL2OcBFa</td>\n",
       "      <td>8</td>\n",
       "    </tr>\n",
       "  </tbody>\n",
       "</table>\n",
       "</div>"
      ],
      "text/plain": [
       "                 track_id  genre_id\n",
       "0  0007aPK8VmXN4ycL2OcBFa         8\n",
       "1  0007aPK8VmXN4ycL2OcBFa       328\n",
       "2  0007aPK8VmXN4ycL2OcBFa       448\n",
       "3  0007aPK8VmXN4ycL2OcBFa       481\n",
       "4  0007aPK8VmXN4ycL2OcBFa         8"
      ]
     },
     "execution_count": 126,
     "metadata": {},
     "output_type": "execute_result"
    }
   ],
   "source": [
    "gs_lookup.head()"
   ]
  },
  {
   "cell_type": "markdown",
   "metadata": {},
   "source": [
    "#### 1f2. Creating Genre Dummies\n",
    "\n",
    "Creating Genre Dummy columns tends to need a virtual machine, on account of how large the dataframe actually is."
   ]
  },
  {
   "cell_type": "code",
   "execution_count": 2,
   "metadata": {},
   "outputs": [],
   "source": [
    "import dask\n",
    "import dask.dataframe as dd\n",
    "from dask_ml.preprocessing import DummyEncoder\n",
    "from dask_ml.decomposition import TruncatedSVD\n",
    "from dask.distributed import Client\n",
    "\n",
    "from sklearn.decomposition import TruncatedSVD as skSVD\n",
    "\n",
    "import pandas as pd\n",
    "import numpy as np\n",
    "\n",
    "from library.mk_dataset import *"
   ]
  },
  {
   "cell_type": "code",
   "execution_count": 3,
   "metadata": {},
   "outputs": [],
   "source": [
    "# function incorporates all of the below without the compute\n",
    "\n",
    "def create_genre_dummies(fp):\n",
    "    '''\n",
    "    Creates dummy genre variables for multiple libraries. Default \n",
    "    library is Dask\n",
    "    '''\n",
    "    gs_lookup = dd.read_csv(fp,\n",
    "                           dtype = {\n",
    "                               'track_id' : str,\n",
    "                               'genre_id' : 'category'\n",
    "                           })\\\n",
    "                  .rename(columns = {'Unnamed: 0' : 'index'})\\\n",
    "                  .set_index('index')\n",
    "\n",
    "    # Not necessary to have\n",
    "    gs_lookup.genre_id = gs_lookup.genre_id.cat.as_known()\n",
    "    \n",
    "    de = DummyEncoder()\n",
    "    genre_dummies = de.fit_transform(gs_lookup[['genre_id']])\n",
    "    g_dummies = dd.concat([gs_lookup['track_id'],genre_dummies],\n",
    "                axis = 1)\\\n",
    "              .rename(columns = {0: 'track_id'})\\\n",
    "              .groupby('track_id').sum()\n",
    "    \n",
    "    #TODO\n",
    "    \n",
    "    return g_dummies"
   ]
  },
  {
   "cell_type": "code",
   "execution_count": 4,
   "metadata": {},
   "outputs": [],
   "source": [
    "gs_lookup = dd.read_csv('../data/interim/genres/genre_lookup/gsong_lookup_20190824.csv',\n",
    "                        dtype = {\n",
    "                            'track_id' : str,\n",
    "                            'genre_id' : 'category',})"
   ]
  },
  {
   "cell_type": "code",
   "execution_count": 5,
   "metadata": {},
   "outputs": [
    {
     "data": {
      "text/html": [
       "<div>\n",
       "<style scoped>\n",
       "    .dataframe tbody tr th:only-of-type {\n",
       "        vertical-align: middle;\n",
       "    }\n",
       "\n",
       "    .dataframe tbody tr th {\n",
       "        vertical-align: top;\n",
       "    }\n",
       "\n",
       "    .dataframe thead th {\n",
       "        text-align: right;\n",
       "    }\n",
       "</style>\n",
       "<table border=\"1\" class=\"dataframe\">\n",
       "  <thead>\n",
       "    <tr style=\"text-align: right;\">\n",
       "      <th></th>\n",
       "      <th>track_id</th>\n",
       "      <th>genre_id</th>\n",
       "    </tr>\n",
       "  </thead>\n",
       "  <tbody>\n",
       "    <tr>\n",
       "      <th>0</th>\n",
       "      <td>0007aPK8VmXN4ycL2OcBFa</td>\n",
       "      <td>8</td>\n",
       "    </tr>\n",
       "    <tr>\n",
       "      <th>1</th>\n",
       "      <td>0007aPK8VmXN4ycL2OcBFa</td>\n",
       "      <td>328</td>\n",
       "    </tr>\n",
       "    <tr>\n",
       "      <th>2</th>\n",
       "      <td>0007aPK8VmXN4ycL2OcBFa</td>\n",
       "      <td>448</td>\n",
       "    </tr>\n",
       "    <tr>\n",
       "      <th>3</th>\n",
       "      <td>0007aPK8VmXN4ycL2OcBFa</td>\n",
       "      <td>481</td>\n",
       "    </tr>\n",
       "    <tr>\n",
       "      <th>4</th>\n",
       "      <td>4F6419huGNh7rXB8Kr1rBf</td>\n",
       "      <td>8</td>\n",
       "    </tr>\n",
       "  </tbody>\n",
       "</table>\n",
       "</div>"
      ],
      "text/plain": [
       "                 track_id genre_id\n",
       "0  0007aPK8VmXN4ycL2OcBFa        8\n",
       "1  0007aPK8VmXN4ycL2OcBFa      328\n",
       "2  0007aPK8VmXN4ycL2OcBFa      448\n",
       "3  0007aPK8VmXN4ycL2OcBFa      481\n",
       "4  4F6419huGNh7rXB8Kr1rBf        8"
      ]
     },
     "execution_count": 5,
     "metadata": {},
     "output_type": "execute_result"
    }
   ],
   "source": [
    "gs_lookup.head()"
   ]
  },
  {
   "cell_type": "code",
   "execution_count": 6,
   "metadata": {},
   "outputs": [],
   "source": [
    "gs_lookup.genre_id = gs_lookup.genre_id.cat.as_known()"
   ]
  },
  {
   "cell_type": "code",
   "execution_count": 7,
   "metadata": {},
   "outputs": [],
   "source": [
    "gs_lookup = gs_lookup.categorize()"
   ]
  },
  {
   "cell_type": "code",
   "execution_count": 4,
   "metadata": {},
   "outputs": [],
   "source": [
    "gs_lookup_ddf = dd.from_pandas(gs_lookup, 6)"
   ]
  },
  {
   "cell_type": "code",
   "execution_count": 8,
   "metadata": {},
   "outputs": [],
   "source": [
    "de = DummyEncoder()"
   ]
  },
  {
   "cell_type": "code",
   "execution_count": 9,
   "metadata": {},
   "outputs": [],
   "source": [
    "genre_dummies = de.fit_transform(gs_lookup[['genre_id']])"
   ]
  },
  {
   "cell_type": "code",
   "execution_count": 10,
   "metadata": {},
   "outputs": [
    {
     "name": "stderr",
     "output_type": "stream",
     "text": [
      "/opt/conda/lib/python3.7/site-packages/dask/dataframe/multi.py:592: UserWarning: Concatenating dataframes with unknown divisions.\n",
      "We're assuming that the indexes of each dataframes are \n",
      " aligned. This assumption is not generally safe.\n",
      "  warnings.warn(\"Concatenating dataframes with unknown divisions.\\n\"\n"
     ]
    }
   ],
   "source": [
    "g_dummies = dd.concat([\n",
    "    gs_lookup['track_id'],\n",
    "    genre_dummies],\n",
    "                axis = 1)\\\n",
    "              .rename(columns = {0: 'track_id'})\\\n",
    "              .groupby('track_id').sum()"
   ]
  },
  {
   "cell_type": "code",
   "execution_count": 11,
   "metadata": {},
   "outputs": [],
   "source": [
    "g_dummies = g_dummies.compute()"
   ]
  },
  {
   "cell_type": "code",
   "execution_count": 12,
   "metadata": {},
   "outputs": [
    {
     "data": {
      "text/plain": [
       "(151011, 526)"
      ]
     },
     "execution_count": 12,
     "metadata": {},
     "output_type": "execute_result"
    }
   ],
   "source": [
    "g_dummies.shape"
   ]
  },
  {
   "cell_type": "code",
   "execution_count": 26,
   "metadata": {},
   "outputs": [],
   "source": [
    "g_dummies_test = g_dummies.apply(lambda lst: ({1,0} == set(lst)) and (len(set(lst)) == 2))"
   ]
  },
  {
   "cell_type": "code",
   "execution_count": 29,
   "metadata": {},
   "outputs": [
    {
     "data": {
      "text/plain": [
       "526"
      ]
     },
     "execution_count": 29,
     "metadata": {},
     "output_type": "execute_result"
    }
   ],
   "source": [
    "len(g_dummies_test)"
   ]
  },
  {
   "cell_type": "code",
   "execution_count": 30,
   "metadata": {},
   "outputs": [
    {
     "data": {
      "text/plain": [
       "526"
      ]
     },
     "execution_count": 30,
     "metadata": {},
     "output_type": "execute_result"
    }
   ],
   "source": [
    "sum(g_dummies_test)"
   ]
  },
  {
   "cell_type": "code",
   "execution_count": 31,
   "metadata": {},
   "outputs": [],
   "source": [
    "g_dummies.to_csv(\"../data/interim/genres/genre_dummies/gs_dummies_20190824.csv\", index=False)"
   ]
  },
  {
   "cell_type": "markdown",
   "metadata": {},
   "source": [
    "#### 1f3. SVD on Genres"
   ]
  },
  {
   "cell_type": "code",
   "execution_count": 32,
   "metadata": {},
   "outputs": [],
   "source": [
    "def mk_genre_svd_dask(genre_dummies, library=None):\n",
    "    if isinstance(genre_dummies, dask.dataframe.core.DataFrame):\n",
    "        if library == None:\n",
    "            tsvd = TruncatedSVD(50, random_state = 40)\n",
    "            genre_svd = tsvd.fit_transform(genre_dummies)\n",
    "    else:\n",
    "        raise TypeError('genre_dummies should be a Dask DataFrame')\n",
    "    return genre_svd, tsvd\n",
    "\n",
    "def mk_genre_svd(genre_dummies, library=None):\n",
    "    if library == None:\n",
    "            tsvd = skSVD(50, random_state = 40)\n",
    "            genre_svd = tsvd.fit_transform(genre_dummies)\n",
    "    return genre_svd, tsvd"
   ]
  },
  {
   "cell_type": "code",
   "execution_count": 33,
   "metadata": {},
   "outputs": [],
   "source": [
    "svdg, t_svd = mk_genre_svd(g_dummies)"
   ]
  },
  {
   "cell_type": "code",
   "execution_count": 34,
   "metadata": {},
   "outputs": [],
   "source": [
    "with open(\"../data/interim/genres/compressed_genres/compressed_genres_20190824.pkl\", \"wb\") as f:\n",
    "    pickle.dump(g_dummies, f)"
   ]
  },
  {
   "cell_type": "code",
   "execution_count": 35,
   "metadata": {},
   "outputs": [],
   "source": [
    "import matplotlib.pyplot as plt\n",
    "\n",
    "def investigate_svd(svd_object, explained_variance_color='g', cumulative_explained_variance_color='b'):\n",
    "    '''\n",
    "    Retrieves the explained variance ratio, which is\n",
    "    the percentage of variance explained by each of the \n",
    "    selected components, and plots it on a 2d axis.\n",
    "    '''\n",
    "    fig = plt.figure(figsize=(10,7.5))\n",
    "    plt.bar(np.array(range(50))+1, \n",
    "        svd_object.explained_variance_ratio_, \n",
    "        color=explained_variance_color, \n",
    "        label='explained variance')\n",
    "    plt.plot(np.array(range(50))+1, \n",
    "         np.cumsum(svd_object.explained_variance_ratio_), \n",
    "         label='cumulative explained variance',\n",
    "         color=cumulative_explained_variance_color)\n",
    "    plt.legend()\n",
    "    plt.xlabel('component')\n",
    "    plt.ylabel('variance ratio')\n",
    "    return"
   ]
  },
  {
   "cell_type": "code",
   "execution_count": 44,
   "metadata": {},
   "outputs": [
    {
     "data": {
      "text/plain": [
       "array([[ 1.42299024e+00, -7.99012490e-02, -2.00604648e-01, ...,\n",
       "         1.14215760e-01, -5.21384305e-02,  5.80426329e-02],\n",
       "       [ 1.42299024e+00, -7.99012490e-02, -2.00604648e-01, ...,\n",
       "         1.14215760e-01, -5.21384305e-02,  5.80426329e-02],\n",
       "       [ 1.42299024e+00, -7.99012490e-02, -2.00604648e-01, ...,\n",
       "         1.14215760e-01, -5.21384305e-02,  5.80426329e-02],\n",
       "       ...,\n",
       "       [ 2.94731964e-02,  1.07746195e-01,  9.22253859e-02, ...,\n",
       "        -3.14576146e-01, -7.24828855e-03,  1.58142540e-01],\n",
       "       [ 1.00632504e-16,  3.70770756e-17, -1.03816465e-15, ...,\n",
       "        -2.11988472e-10, -1.45773630e-10, -2.74736352e-10],\n",
       "       [ 8.27206404e-03,  4.43877688e-03,  9.69870428e-03, ...,\n",
       "        -1.42739759e-01,  8.63333016e-02, -3.05196094e-01]])"
      ]
     },
     "execution_count": 44,
     "metadata": {},
     "output_type": "execute_result"
    }
   ],
   "source": [
    "svdg"
   ]
  },
  {
   "cell_type": "code",
   "execution_count": 36,
   "metadata": {},
   "outputs": [
    {
     "data": {
      "image/png": "[encoded data removed]",
      "text/plain": [
       "<Figure size 720x540 with 1 Axes>"
      ]
     },
     "metadata": {
      "needs_background": "light"
     },
     "output_type": "display_data"
    }
   ],
   "source": [
    "investigate_svd(t_svd)"
   ]
  },
  {
   "cell_type": "code",
   "execution_count": 37,
   "metadata": {},
   "outputs": [],
   "source": [
    "def mk_svd_df(svd, original_df):\n",
    "    '''\n",
    "    Creates dataframe with each component of the svd matrix\n",
    "    '''\n",
    "    component_names = ['component_' + str(i +1) for i in range(50)]\n",
    "    svd_df = pd.DataFrame(svd,\n",
    "                          columns = component_names)\n",
    "    svd_df.insert(0, 'track_id', original_df.index)\n",
    "    return svd_df"
   ]
  },
  {
   "cell_type": "code",
   "execution_count": 38,
   "metadata": {},
   "outputs": [],
   "source": [
    "svd_df = mk_svd_df(svdg, g_dummies)"
   ]
  },
  {
   "cell_type": "code",
   "execution_count": 40,
   "metadata": {},
   "outputs": [],
   "source": [
    "svd_df.to_csv('../data/interim/genres/compressed_genres/genre_svd_df_20190824.csv')"
   ]
  },
  {
   "cell_type": "markdown",
   "metadata": {},
   "source": [
    "### 1g. Bringing in Song Features"
   ]
  },
  {
   "cell_type": "code",
   "execution_count": 11,
   "metadata": {},
   "outputs": [],
   "source": [
    "from library.song_feat_pull import *"
   ]
  },
  {
   "cell_type": "code",
   "execution_count": 4,
   "metadata": {},
   "outputs": [
    {
     "name": "stdout",
     "output_type": "stream",
     "text": [
      "100 files completed\n",
      "200 files completed\n",
      "300 files completed\n",
      "400 files completed\n",
      "500 files completed\n",
      "600 files completed\n",
      "700 files completed\n",
      "800 files completed\n",
      "900 files completed\n",
      "1000 files completed\n",
      "1100 files completed\n",
      "1200 files completed\n",
      "1300 files completed\n",
      "1400 files completed\n",
      "1500 files completed\n",
      "1600 files completed\n",
      "1700 files completed\n",
      "1800 files completed\n",
      "1900 files completed\n",
      "2000 files completed\n",
      "2100 files completed\n",
      "2200 files completed\n",
      "2300 files completed\n",
      "2400 files completed\n",
      "2500 files completed\n",
      "2600 files completed\n",
      "2700 files completed\n",
      "2800 files completed\n",
      "2900 files completed\n",
      "3000 files completed\n",
      "3100 files completed\n",
      "3200 files completed\n",
      "3300 files completed\n",
      "3400 files completed\n",
      "3500 files completed\n",
      "3600 files completed\n",
      "3700 files completed\n",
      "3800 files completed\n",
      "3900 files completed\n",
      "4000 files completed\n",
      "4100 files completed\n",
      "4200 files completed\n",
      "4300 files completed\n",
      "4400 files completed\n",
      "4500 files completed\n",
      "4600 files completed\n",
      "4700 files completed\n",
      "4800 files completed\n",
      "4900 files completed\n",
      "5000 files completed\n",
      "5100 files completed\n",
      "5200 files completed\n",
      "5300 files completed\n",
      "5400 files completed\n",
      "5500 files completed\n",
      "5600 files completed\n",
      "5700 files completed\n",
      "5800 files completed\n",
      "5900 files completed\n",
      "6000 files completed\n",
      "6100 files completed\n",
      "6200 files completed\n",
      "6300 files completed\n",
      "6400 files completed\n"
     ]
    }
   ],
   "source": [
    "get_song_feats('../data/song_features')"
   ]
  },
  {
   "cell_type": "code",
   "execution_count": 8,
   "metadata": {},
   "outputs": [],
   "source": [
    "import json\n",
    "\n",
    "with open('../data/interim/song_features/features_20190805.json', 'r') as f:\n",
    "    song_feats_dict = json.load(f)"
   ]
  },
  {
   "cell_type": "code",
   "execution_count": 9,
   "metadata": {},
   "outputs": [
    {
     "data": {
      "text/plain": [
       "651410"
      ]
     },
     "execution_count": 9,
     "metadata": {},
     "output_type": "execute_result"
    }
   ],
   "source": [
    "len(song_feats_dict)"
   ]
  },
  {
   "cell_type": "code",
   "execution_count": 12,
   "metadata": {},
   "outputs": [],
   "source": [
    "mk_song_feats_df('../data/interim/song_features/features_20190805.json')"
   ]
  },
  {
   "cell_type": "markdown",
   "metadata": {},
   "source": [
    "### 1h. One-Hot Encoding Additional Features"
   ]
  },
  {
   "cell_type": "code",
   "execution_count": 13,
   "metadata": {},
   "outputs": [],
   "source": [
    "def one_hot_encode_feats(ddf, column_names):\n",
    "    '''\n",
    "    Creates one-hot encoded features for specified columns in subset\n",
    "    of dask dataframe\n",
    "    '''\n",
    "    if isinstance(ddf, pd.core.frame.DataFrame):\n",
    "        ddf = dd.from_pandas(ddf)\n",
    "    \n",
    "    ddf = ddf.categorize(columns = column_names)\n",
    "    de = DummyEncoder(columns = column_names)\n",
    "    \n",
    "    print('forcing categorical values')\n",
    "    dummies = de.fit_transform(ddf[column_names])\n",
    "    \n",
    "    print('merging dummies back into other features')\n",
    "    ddf = ddf.drop(column_names, 1)\\\n",
    "             .merge(dummies)\n",
    "    \n",
    "    return ddf"
   ]
  },
  {
   "cell_type": "code",
   "execution_count": 14,
   "metadata": {},
   "outputs": [],
   "source": [
    "song_features_ddf = dd.read_csv('../data/interim/song_features/song_features_20190805.csv')\\\n",
    "                        .rename(columns = {'Unnamed: 0' : 'track_id'})"
   ]
  },
  {
   "cell_type": "code",
   "execution_count": 15,
   "metadata": {},
   "outputs": [
    {
     "data": {
      "text/html": [
       "<div>\n",
       "<style scoped>\n",
       "    .dataframe tbody tr th:only-of-type {\n",
       "        vertical-align: middle;\n",
       "    }\n",
       "\n",
       "    .dataframe tbody tr th {\n",
       "        vertical-align: top;\n",
       "    }\n",
       "\n",
       "    .dataframe thead th {\n",
       "        text-align: right;\n",
       "    }\n",
       "</style>\n",
       "<table border=\"1\" class=\"dataframe\">\n",
       "  <thead>\n",
       "    <tr style=\"text-align: right;\">\n",
       "      <th></th>\n",
       "      <th>track_id</th>\n",
       "      <th>acousticness</th>\n",
       "      <th>danceability</th>\n",
       "      <th>duration_ms</th>\n",
       "      <th>energy</th>\n",
       "      <th>instrumentalness</th>\n",
       "      <th>key</th>\n",
       "      <th>liveness</th>\n",
       "      <th>loudness</th>\n",
       "      <th>mode</th>\n",
       "      <th>speechiness</th>\n",
       "      <th>tempo</th>\n",
       "      <th>time_signature</th>\n",
       "      <th>valence</th>\n",
       "    </tr>\n",
       "  </thead>\n",
       "  <tbody>\n",
       "    <tr>\n",
       "      <th>0</th>\n",
       "      <td>2M3alDEGZMbCl5lzelRx2I</td>\n",
       "      <td>0.0093</td>\n",
       "      <td>0.748</td>\n",
       "      <td>221920</td>\n",
       "      <td>0.879</td>\n",
       "      <td>0.0000</td>\n",
       "      <td>2</td>\n",
       "      <td>0.313</td>\n",
       "      <td>-6.312</td>\n",
       "      <td>1</td>\n",
       "      <td>0.3070</td>\n",
       "      <td>168.907</td>\n",
       "      <td>4</td>\n",
       "      <td>0.726</td>\n",
       "    </tr>\n",
       "    <tr>\n",
       "      <th>1</th>\n",
       "      <td>5fLqHl6NQ8ALBxJBhEGPdQ</td>\n",
       "      <td>0.0304</td>\n",
       "      <td>0.617</td>\n",
       "      <td>159179</td>\n",
       "      <td>0.657</td>\n",
       "      <td>0.0000</td>\n",
       "      <td>0</td>\n",
       "      <td>0.151</td>\n",
       "      <td>-5.596</td>\n",
       "      <td>1</td>\n",
       "      <td>0.0315</td>\n",
       "      <td>97.063</td>\n",
       "      <td>4</td>\n",
       "      <td>0.878</td>\n",
       "    </tr>\n",
       "    <tr>\n",
       "      <th>2</th>\n",
       "      <td>4EiaQVZu0bcmBSHymKjRjK</td>\n",
       "      <td>0.0415</td>\n",
       "      <td>0.657</td>\n",
       "      <td>228973</td>\n",
       "      <td>0.867</td>\n",
       "      <td>0.0000</td>\n",
       "      <td>5</td>\n",
       "      <td>0.084</td>\n",
       "      <td>-4.670</td>\n",
       "      <td>0</td>\n",
       "      <td>0.0763</td>\n",
       "      <td>81.322</td>\n",
       "      <td>4</td>\n",
       "      <td>0.862</td>\n",
       "    </tr>\n",
       "    <tr>\n",
       "      <th>3</th>\n",
       "      <td>3iGMczstfQTLDkZw4300dW</td>\n",
       "      <td>0.7650</td>\n",
       "      <td>0.537</td>\n",
       "      <td>169267</td>\n",
       "      <td>0.870</td>\n",
       "      <td>0.0026</td>\n",
       "      <td>4</td>\n",
       "      <td>0.973</td>\n",
       "      <td>-4.735</td>\n",
       "      <td>1</td>\n",
       "      <td>0.1940</td>\n",
       "      <td>111.207</td>\n",
       "      <td>4</td>\n",
       "      <td>0.611</td>\n",
       "    </tr>\n",
       "    <tr>\n",
       "      <th>4</th>\n",
       "      <td>6mgevsdxj1IjjJ2WKYJfaH</td>\n",
       "      <td>0.4670</td>\n",
       "      <td>0.466</td>\n",
       "      <td>195027</td>\n",
       "      <td>0.478</td>\n",
       "      <td>0.0000</td>\n",
       "      <td>9</td>\n",
       "      <td>0.437</td>\n",
       "      <td>-7.863</td>\n",
       "      <td>1</td>\n",
       "      <td>0.0333</td>\n",
       "      <td>144.838</td>\n",
       "      <td>4</td>\n",
       "      <td>0.467</td>\n",
       "    </tr>\n",
       "  </tbody>\n",
       "</table>\n",
       "</div>"
      ],
      "text/plain": [
       "                 track_id  acousticness  danceability  duration_ms  energy  \\\n",
       "0  2M3alDEGZMbCl5lzelRx2I        0.0093         0.748       221920   0.879   \n",
       "1  5fLqHl6NQ8ALBxJBhEGPdQ        0.0304         0.617       159179   0.657   \n",
       "2  4EiaQVZu0bcmBSHymKjRjK        0.0415         0.657       228973   0.867   \n",
       "3  3iGMczstfQTLDkZw4300dW        0.7650         0.537       169267   0.870   \n",
       "4  6mgevsdxj1IjjJ2WKYJfaH        0.4670         0.466       195027   0.478   \n",
       "\n",
       "   instrumentalness  key  liveness  loudness  mode  speechiness    tempo  \\\n",
       "0            0.0000    2     0.313    -6.312     1       0.3070  168.907   \n",
       "1            0.0000    0     0.151    -5.596     1       0.0315   97.063   \n",
       "2            0.0000    5     0.084    -4.670     0       0.0763   81.322   \n",
       "3            0.0026    4     0.973    -4.735     1       0.1940  111.207   \n",
       "4            0.0000    9     0.437    -7.863     1       0.0333  144.838   \n",
       "\n",
       "   time_signature  valence  \n",
       "0               4    0.726  \n",
       "1               4    0.878  \n",
       "2               4    0.862  \n",
       "3               4    0.611  \n",
       "4               4    0.467  "
      ]
     },
     "execution_count": 15,
     "metadata": {},
     "output_type": "execute_result"
    }
   ],
   "source": [
    "song_features_ddf.head()"
   ]
  },
  {
   "cell_type": "code",
   "execution_count": 18,
   "metadata": {},
   "outputs": [
    {
     "name": "stdout",
     "output_type": "stream",
     "text": [
      "forcing categorical values\n",
      "merging dummies back into other features\n"
     ]
    }
   ],
   "source": [
    "song_features_ddf = one_hot_encode_feats(song_features_ddf, ['key', 'time_signature'])"
   ]
  },
  {
   "cell_type": "code",
   "execution_count": 19,
   "metadata": {},
   "outputs": [
    {
     "data": {
      "text/plain": [
       "Index(['track_id', 'acousticness', 'danceability', 'duration_ms', 'energy',\n",
       "       'instrumentalness', 'liveness', 'loudness', 'mode', 'speechiness',\n",
       "       'tempo', 'valence', 'key_2', 'key_0', 'key_5', 'key_4', 'key_9',\n",
       "       'key_10', 'key_7', 'key_8', 'key_3', 'key_11', 'key_6', 'key_1',\n",
       "       'time_signature_4', 'time_signature_3', 'time_signature_1',\n",
       "       'time_signature_5', 'time_signature_0'],\n",
       "      dtype='object')"
      ]
     },
     "execution_count": 19,
     "metadata": {},
     "output_type": "execute_result"
    }
   ],
   "source": [
    "song_features_ddf.columns"
   ]
  },
  {
   "cell_type": "code",
   "execution_count": 20,
   "metadata": {},
   "outputs": [],
   "source": [
    "song_features_df = song_features_ddf.compute()"
   ]
  },
  {
   "cell_type": "code",
   "execution_count": 21,
   "metadata": {},
   "outputs": [],
   "source": [
    "song_features_df.to_csv('../data/interim/song_features/song_features_encoded_20190805.csv')"
   ]
  },
  {
   "cell_type": "code",
   "execution_count": 44,
   "metadata": {},
   "outputs": [
    {
     "data": {
      "text/plain": [
       "pandas.core.frame.DataFrame"
      ]
     },
     "execution_count": 44,
     "metadata": {},
     "output_type": "execute_result"
    }
   ],
   "source": [
    "type(song_features_df)"
   ]
  },
  {
   "cell_type": "markdown",
   "metadata": {},
   "source": [
    "### 1i. Combining Dataset "
   ]
  },
  {
   "cell_type": "code",
   "execution_count": 10,
   "metadata": {},
   "outputs": [
    {
     "data": {
      "text/html": [
       "<div>\n",
       "<style scoped>\n",
       "    .dataframe tbody tr th:only-of-type {\n",
       "        vertical-align: middle;\n",
       "    }\n",
       "\n",
       "    .dataframe tbody tr th {\n",
       "        vertical-align: top;\n",
       "    }\n",
       "\n",
       "    .dataframe thead th {\n",
       "        text-align: right;\n",
       "    }\n",
       "</style>\n",
       "<table border=\"1\" class=\"dataframe\">\n",
       "  <thead>\n",
       "    <tr style=\"text-align: right;\">\n",
       "      <th></th>\n",
       "      <th>pm_0</th>\n",
       "      <th>pm_1</th>\n",
       "      <th>pm_2</th>\n",
       "      <th>pm_3</th>\n",
       "      <th>pm_4</th>\n",
       "      <th>pm_5</th>\n",
       "      <th>pm_6</th>\n",
       "      <th>pm_7</th>\n",
       "      <th>pm_8</th>\n",
       "      <th>pm_9</th>\n",
       "      <th>...</th>\n",
       "      <th>tv_2</th>\n",
       "      <th>tv_3</th>\n",
       "      <th>tv_4</th>\n",
       "      <th>tv_5</th>\n",
       "      <th>tv_6</th>\n",
       "      <th>tv_7</th>\n",
       "      <th>tv_8</th>\n",
       "      <th>tv_9</th>\n",
       "      <th>tv_10</th>\n",
       "      <th>tv_11</th>\n",
       "    </tr>\n",
       "  </thead>\n",
       "  <tbody>\n",
       "    <tr>\n",
       "      <td>0007aPK8VmXN4ycL2OcBFa</td>\n",
       "      <td>0.514743</td>\n",
       "      <td>0.527414</td>\n",
       "      <td>0.490981</td>\n",
       "      <td>0.425309</td>\n",
       "      <td>0.489327</td>\n",
       "      <td>0.589119</td>\n",
       "      <td>0.459107</td>\n",
       "      <td>0.573878</td>\n",
       "      <td>0.385958</td>\n",
       "      <td>0.408154</td>\n",
       "      <td>...</td>\n",
       "      <td>1268.630838</td>\n",
       "      <td>656.186601</td>\n",
       "      <td>500.566239</td>\n",
       "      <td>536.456377</td>\n",
       "      <td>338.651487</td>\n",
       "      <td>174.695619</td>\n",
       "      <td>142.277493</td>\n",
       "      <td>138.032933</td>\n",
       "      <td>138.648659</td>\n",
       "      <td>135.472111</td>\n",
       "    </tr>\n",
       "    <tr>\n",
       "      <td>0008G8TW7eiVfwlRRsKlgW</td>\n",
       "      <td>0.309991</td>\n",
       "      <td>0.484581</td>\n",
       "      <td>0.166534</td>\n",
       "      <td>0.313087</td>\n",
       "      <td>0.167928</td>\n",
       "      <td>0.298984</td>\n",
       "      <td>0.306283</td>\n",
       "      <td>0.200908</td>\n",
       "      <td>0.400119</td>\n",
       "      <td>0.177900</td>\n",
       "      <td>...</td>\n",
       "      <td>1341.667694</td>\n",
       "      <td>974.575508</td>\n",
       "      <td>742.233070</td>\n",
       "      <td>378.294065</td>\n",
       "      <td>481.482576</td>\n",
       "      <td>277.078079</td>\n",
       "      <td>234.939623</td>\n",
       "      <td>221.397784</td>\n",
       "      <td>163.120339</td>\n",
       "      <td>265.294679</td>\n",
       "    </tr>\n",
       "    <tr>\n",
       "      <td>000BqzNd7gRYnK6umzTNZX</td>\n",
       "      <td>0.500833</td>\n",
       "      <td>0.538402</td>\n",
       "      <td>0.415921</td>\n",
       "      <td>0.403829</td>\n",
       "      <td>0.429524</td>\n",
       "      <td>0.301693</td>\n",
       "      <td>0.406960</td>\n",
       "      <td>0.356274</td>\n",
       "      <td>0.453748</td>\n",
       "      <td>0.461190</td>\n",
       "      <td>...</td>\n",
       "      <td>954.964606</td>\n",
       "      <td>1298.020425</td>\n",
       "      <td>604.104299</td>\n",
       "      <td>543.491840</td>\n",
       "      <td>460.702894</td>\n",
       "      <td>377.717478</td>\n",
       "      <td>123.443280</td>\n",
       "      <td>195.896173</td>\n",
       "      <td>169.778158</td>\n",
       "      <td>166.866359</td>\n",
       "    </tr>\n",
       "    <tr>\n",
       "      <td>000CSIqE1KcjAiZYYWXV18</td>\n",
       "      <td>0.420954</td>\n",
       "      <td>0.366707</td>\n",
       "      <td>0.457164</td>\n",
       "      <td>0.247320</td>\n",
       "      <td>0.357645</td>\n",
       "      <td>0.322342</td>\n",
       "      <td>0.323946</td>\n",
       "      <td>0.448164</td>\n",
       "      <td>0.275648</td>\n",
       "      <td>0.425867</td>\n",
       "      <td>...</td>\n",
       "      <td>1229.086105</td>\n",
       "      <td>1085.556691</td>\n",
       "      <td>511.778510</td>\n",
       "      <td>594.257976</td>\n",
       "      <td>277.330428</td>\n",
       "      <td>315.120957</td>\n",
       "      <td>267.671151</td>\n",
       "      <td>218.838587</td>\n",
       "      <td>176.195824</td>\n",
       "      <td>153.689841</td>\n",
       "    </tr>\n",
       "    <tr>\n",
       "      <td>000G1xMMuwxNHmwVsBdtj1</td>\n",
       "      <td>0.583816</td>\n",
       "      <td>0.527922</td>\n",
       "      <td>0.404993</td>\n",
       "      <td>0.425852</td>\n",
       "      <td>0.503034</td>\n",
       "      <td>0.336589</td>\n",
       "      <td>0.252259</td>\n",
       "      <td>0.327019</td>\n",
       "      <td>0.387718</td>\n",
       "      <td>0.386472</td>\n",
       "      <td>...</td>\n",
       "      <td>1729.689733</td>\n",
       "      <td>891.060505</td>\n",
       "      <td>392.514422</td>\n",
       "      <td>463.464531</td>\n",
       "      <td>493.520635</td>\n",
       "      <td>234.180976</td>\n",
       "      <td>198.796685</td>\n",
       "      <td>166.093593</td>\n",
       "      <td>150.744838</td>\n",
       "      <td>233.585150</td>\n",
       "    </tr>\n",
       "  </tbody>\n",
       "</table>\n",
       "<p>5 rows × 48 columns</p>\n",
       "</div>"
      ],
      "text/plain": [
       "                            pm_0      pm_1      pm_2      pm_3      pm_4  \\\n",
       "0007aPK8VmXN4ycL2OcBFa  0.514743  0.527414  0.490981  0.425309  0.489327   \n",
       "0008G8TW7eiVfwlRRsKlgW  0.309991  0.484581  0.166534  0.313087  0.167928   \n",
       "000BqzNd7gRYnK6umzTNZX  0.500833  0.538402  0.415921  0.403829  0.429524   \n",
       "000CSIqE1KcjAiZYYWXV18  0.420954  0.366707  0.457164  0.247320  0.357645   \n",
       "000G1xMMuwxNHmwVsBdtj1  0.583816  0.527922  0.404993  0.425852  0.503034   \n",
       "\n",
       "                            pm_5      pm_6      pm_7      pm_8      pm_9  ...  \\\n",
       "0007aPK8VmXN4ycL2OcBFa  0.589119  0.459107  0.573878  0.385958  0.408154  ...   \n",
       "0008G8TW7eiVfwlRRsKlgW  0.298984  0.306283  0.200908  0.400119  0.177900  ...   \n",
       "000BqzNd7gRYnK6umzTNZX  0.301693  0.406960  0.356274  0.453748  0.461190  ...   \n",
       "000CSIqE1KcjAiZYYWXV18  0.322342  0.323946  0.448164  0.275648  0.425867  ...   \n",
       "000G1xMMuwxNHmwVsBdtj1  0.336589  0.252259  0.327019  0.387718  0.386472  ...   \n",
       "\n",
       "                               tv_2         tv_3        tv_4        tv_5  \\\n",
       "0007aPK8VmXN4ycL2OcBFa  1268.630838   656.186601  500.566239  536.456377   \n",
       "0008G8TW7eiVfwlRRsKlgW  1341.667694   974.575508  742.233070  378.294065   \n",
       "000BqzNd7gRYnK6umzTNZX   954.964606  1298.020425  604.104299  543.491840   \n",
       "000CSIqE1KcjAiZYYWXV18  1229.086105  1085.556691  511.778510  594.257976   \n",
       "000G1xMMuwxNHmwVsBdtj1  1729.689733   891.060505  392.514422  463.464531   \n",
       "\n",
       "                              tv_6        tv_7        tv_8        tv_9  \\\n",
       "0007aPK8VmXN4ycL2OcBFa  338.651487  174.695619  142.277493  138.032933   \n",
       "0008G8TW7eiVfwlRRsKlgW  481.482576  277.078079  234.939623  221.397784   \n",
       "000BqzNd7gRYnK6umzTNZX  460.702894  377.717478  123.443280  195.896173   \n",
       "000CSIqE1KcjAiZYYWXV18  277.330428  315.120957  267.671151  218.838587   \n",
       "000G1xMMuwxNHmwVsBdtj1  493.520635  234.180976  198.796685  166.093593   \n",
       "\n",
       "                             tv_10       tv_11  \n",
       "0007aPK8VmXN4ycL2OcBFa  138.648659  135.472111  \n",
       "0008G8TW7eiVfwlRRsKlgW  163.120339  265.294679  \n",
       "000BqzNd7gRYnK6umzTNZX  169.778158  166.866359  \n",
       "000CSIqE1KcjAiZYYWXV18  176.195824  153.689841  \n",
       "000G1xMMuwxNHmwVsBdtj1  150.744838  233.585150  \n",
       "\n",
       "[5 rows x 48 columns]"
      ]
     },
     "execution_count": 10,
     "metadata": {},
     "output_type": "execute_result"
    }
   ],
   "source": [
    "# segment_df = pd.read_csv('../data/segment_df_20190516.csv')\n",
    "segment_df = pd.read_csv('../data/interim/analysis_segments/segment_df_20190413.csv', index_col=0)\n",
    "segment_df.head()"
   ]
  },
  {
   "cell_type": "code",
   "execution_count": 24,
   "metadata": {},
   "outputs": [
    {
     "data": {
      "text/plain": [
       "(659529, 49)"
      ]
     },
     "execution_count": 24,
     "metadata": {},
     "output_type": "execute_result"
    }
   ],
   "source": [
    "segment_df.shape"
   ]
  },
  {
   "cell_type": "code",
   "execution_count": 7,
   "metadata": {},
   "outputs": [
    {
     "data": {
      "text/html": [
       "<div>\n",
       "<style scoped>\n",
       "    .dataframe tbody tr th:only-of-type {\n",
       "        vertical-align: middle;\n",
       "    }\n",
       "\n",
       "    .dataframe tbody tr th {\n",
       "        vertical-align: top;\n",
       "    }\n",
       "\n",
       "    .dataframe thead th {\n",
       "        text-align: right;\n",
       "    }\n",
       "</style>\n",
       "<table border=\"1\" class=\"dataframe\">\n",
       "  <thead>\n",
       "    <tr style=\"text-align: right;\">\n",
       "      <th></th>\n",
       "      <th>track_id</th>\n",
       "      <th>Song Title</th>\n",
       "      <th>Artist</th>\n",
       "      <th>artist_id</th>\n",
       "      <th>name</th>\n",
       "      <th>popularity</th>\n",
       "      <th>followers</th>\n",
       "      <th>artist_name</th>\n",
       "      <th>song_id</th>\n",
       "      <th>song_title</th>\n",
       "      <th>CID</th>\n",
       "      <th>PID</th>\n",
       "      <th>Title</th>\n",
       "      <th>Performer Name</th>\n",
       "      <th>WID</th>\n",
       "      <th>Writer Name</th>\n",
       "      <th>IPI</th>\n",
       "      <th>PRO</th>\n",
       "    </tr>\n",
       "  </thead>\n",
       "  <tbody>\n",
       "    <tr>\n",
       "      <td>0</td>\n",
       "      <td>0007aPK8VmXN4ycL2OcBFa</td>\n",
       "      <td>Bodhisattva - Live</td>\n",
       "      <td>Toto</td>\n",
       "      <td>0PFtn5NtBbbUNbU9EAmIWF</td>\n",
       "      <td>Toto</td>\n",
       "      <td>76</td>\n",
       "      <td>753405</td>\n",
       "      <td>toto</td>\n",
       "      <td>0007aPK8VmXN4ycL2OcBFa</td>\n",
       "      <td>bodhisattva</td>\n",
       "      <td>126127</td>\n",
       "      <td>6030</td>\n",
       "      <td>bodhisattva</td>\n",
       "      <td>toto</td>\n",
       "      <td>7280</td>\n",
       "      <td>BECKER WALTER CARL</td>\n",
       "      <td>89150949.0</td>\n",
       "      <td>ASCAP</td>\n",
       "    </tr>\n",
       "    <tr>\n",
       "      <td>1</td>\n",
       "      <td>4F6419huGNh7rXB8Kr1rBf</td>\n",
       "      <td>Bodhisattva - Live</td>\n",
       "      <td>Toto</td>\n",
       "      <td>0PFtn5NtBbbUNbU9EAmIWF</td>\n",
       "      <td>Toto</td>\n",
       "      <td>76</td>\n",
       "      <td>753405</td>\n",
       "      <td>toto</td>\n",
       "      <td>4F6419huGNh7rXB8Kr1rBf</td>\n",
       "      <td>bodhisattva</td>\n",
       "      <td>126127</td>\n",
       "      <td>6030</td>\n",
       "      <td>bodhisattva</td>\n",
       "      <td>toto</td>\n",
       "      <td>7280</td>\n",
       "      <td>BECKER WALTER CARL</td>\n",
       "      <td>89150949.0</td>\n",
       "      <td>ASCAP</td>\n",
       "    </tr>\n",
       "    <tr>\n",
       "      <td>2</td>\n",
       "      <td>6auUOYXyP76l4fiqC86c9E</td>\n",
       "      <td>Bodhisattva - Live</td>\n",
       "      <td>Toto</td>\n",
       "      <td>0PFtn5NtBbbUNbU9EAmIWF</td>\n",
       "      <td>Toto</td>\n",
       "      <td>76</td>\n",
       "      <td>753405</td>\n",
       "      <td>toto</td>\n",
       "      <td>6auUOYXyP76l4fiqC86c9E</td>\n",
       "      <td>bodhisattva</td>\n",
       "      <td>126127</td>\n",
       "      <td>6030</td>\n",
       "      <td>bodhisattva</td>\n",
       "      <td>toto</td>\n",
       "      <td>7280</td>\n",
       "      <td>BECKER WALTER CARL</td>\n",
       "      <td>89150949.0</td>\n",
       "      <td>ASCAP</td>\n",
       "    </tr>\n",
       "    <tr>\n",
       "      <td>3</td>\n",
       "      <td>10JB78fwqaUrCFZj3XNn6L</td>\n",
       "      <td>Bodhisattva</td>\n",
       "      <td>Steely Dan</td>\n",
       "      <td>6P7H3ai06vU1sGvdpBwDmE</td>\n",
       "      <td>Steely Dan</td>\n",
       "      <td>68</td>\n",
       "      <td>601480</td>\n",
       "      <td>steely dan</td>\n",
       "      <td>10JB78fwqaUrCFZj3XNn6L</td>\n",
       "      <td>bodhisattva</td>\n",
       "      <td>126127</td>\n",
       "      <td>1699</td>\n",
       "      <td>bodhisattva</td>\n",
       "      <td>steely dan</td>\n",
       "      <td>7280</td>\n",
       "      <td>BECKER WALTER CARL</td>\n",
       "      <td>89150949.0</td>\n",
       "      <td>ASCAP</td>\n",
       "    </tr>\n",
       "    <tr>\n",
       "      <td>4</td>\n",
       "      <td>6cdLlECd80adBM3fgEk9Km</td>\n",
       "      <td>Bodhisattva</td>\n",
       "      <td>Steely Dan</td>\n",
       "      <td>6P7H3ai06vU1sGvdpBwDmE</td>\n",
       "      <td>Steely Dan</td>\n",
       "      <td>68</td>\n",
       "      <td>601480</td>\n",
       "      <td>steely dan</td>\n",
       "      <td>6cdLlECd80adBM3fgEk9Km</td>\n",
       "      <td>bodhisattva</td>\n",
       "      <td>126127</td>\n",
       "      <td>1699</td>\n",
       "      <td>bodhisattva</td>\n",
       "      <td>steely dan</td>\n",
       "      <td>7280</td>\n",
       "      <td>BECKER WALTER CARL</td>\n",
       "      <td>89150949.0</td>\n",
       "      <td>ASCAP</td>\n",
       "    </tr>\n",
       "  </tbody>\n",
       "</table>\n",
       "</div>"
      ],
      "text/plain": [
       "                 track_id          Song Title      Artist  \\\n",
       "0  0007aPK8VmXN4ycL2OcBFa  Bodhisattva - Live        Toto   \n",
       "1  4F6419huGNh7rXB8Kr1rBf  Bodhisattva - Live        Toto   \n",
       "2  6auUOYXyP76l4fiqC86c9E  Bodhisattva - Live        Toto   \n",
       "3  10JB78fwqaUrCFZj3XNn6L         Bodhisattva  Steely Dan   \n",
       "4  6cdLlECd80adBM3fgEk9Km         Bodhisattva  Steely Dan   \n",
       "\n",
       "                artist_id        name  popularity  followers artist_name  \\\n",
       "0  0PFtn5NtBbbUNbU9EAmIWF        Toto          76     753405        toto   \n",
       "1  0PFtn5NtBbbUNbU9EAmIWF        Toto          76     753405        toto   \n",
       "2  0PFtn5NtBbbUNbU9EAmIWF        Toto          76     753405        toto   \n",
       "3  6P7H3ai06vU1sGvdpBwDmE  Steely Dan          68     601480  steely dan   \n",
       "4  6P7H3ai06vU1sGvdpBwDmE  Steely Dan          68     601480  steely dan   \n",
       "\n",
       "                  song_id   song_title     CID   PID        Title  \\\n",
       "0  0007aPK8VmXN4ycL2OcBFa  bodhisattva  126127  6030  bodhisattva   \n",
       "1  4F6419huGNh7rXB8Kr1rBf  bodhisattva  126127  6030  bodhisattva   \n",
       "2  6auUOYXyP76l4fiqC86c9E  bodhisattva  126127  6030  bodhisattva   \n",
       "3  10JB78fwqaUrCFZj3XNn6L  bodhisattva  126127  1699  bodhisattva   \n",
       "4  6cdLlECd80adBM3fgEk9Km  bodhisattva  126127  1699  bodhisattva   \n",
       "\n",
       "  Performer Name   WID         Writer Name         IPI    PRO  \n",
       "0           toto  7280  BECKER WALTER CARL  89150949.0  ASCAP  \n",
       "1           toto  7280  BECKER WALTER CARL  89150949.0  ASCAP  \n",
       "2           toto  7280  BECKER WALTER CARL  89150949.0  ASCAP  \n",
       "3     steely dan  7280  BECKER WALTER CARL  89150949.0  ASCAP  \n",
       "4     steely dan  7280  BECKER WALTER CARL  89150949.0  ASCAP  "
      ]
     },
     "execution_count": 7,
     "metadata": {},
     "output_type": "execute_result"
    }
   ],
   "source": [
    "matched_tracks_df = pd.read_csv('../data/interim/tracks_w_writers/matched_tracks_w_writers_20190422.csv', index_col=0)\n",
    "matched_tracks_df.head()"
   ]
  },
  {
   "cell_type": "code",
   "execution_count": 9,
   "metadata": {},
   "outputs": [
    {
     "data": {
      "text/html": [
       "<div>\n",
       "<style scoped>\n",
       "    .dataframe tbody tr th:only-of-type {\n",
       "        vertical-align: middle;\n",
       "    }\n",
       "\n",
       "    .dataframe tbody tr th {\n",
       "        vertical-align: top;\n",
       "    }\n",
       "\n",
       "    .dataframe thead th {\n",
       "        text-align: right;\n",
       "    }\n",
       "</style>\n",
       "<table border=\"1\" class=\"dataframe\">\n",
       "  <thead>\n",
       "    <tr style=\"text-align: right;\">\n",
       "      <th></th>\n",
       "      <th>track_id</th>\n",
       "      <th>component_1</th>\n",
       "      <th>component_2</th>\n",
       "      <th>component_3</th>\n",
       "      <th>component_4</th>\n",
       "      <th>component_5</th>\n",
       "      <th>component_6</th>\n",
       "      <th>component_7</th>\n",
       "      <th>component_8</th>\n",
       "      <th>component_9</th>\n",
       "      <th>...</th>\n",
       "      <th>component_41</th>\n",
       "      <th>component_42</th>\n",
       "      <th>component_43</th>\n",
       "      <th>component_44</th>\n",
       "      <th>component_45</th>\n",
       "      <th>component_46</th>\n",
       "      <th>component_47</th>\n",
       "      <th>component_48</th>\n",
       "      <th>component_49</th>\n",
       "      <th>component_50</th>\n",
       "    </tr>\n",
       "  </thead>\n",
       "  <tbody>\n",
       "    <tr>\n",
       "      <td>0</td>\n",
       "      <td>0007aPK8VmXN4ycL2OcBFa</td>\n",
       "      <td>1.42299</td>\n",
       "      <td>-0.079901</td>\n",
       "      <td>-0.200605</td>\n",
       "      <td>-0.205593</td>\n",
       "      <td>0.26224</td>\n",
       "      <td>0.136606</td>\n",
       "      <td>-0.165316</td>\n",
       "      <td>0.041852</td>\n",
       "      <td>-0.078251</td>\n",
       "      <td>...</td>\n",
       "      <td>0.006097</td>\n",
       "      <td>-0.018128</td>\n",
       "      <td>-0.040357</td>\n",
       "      <td>-0.074803</td>\n",
       "      <td>-0.306596</td>\n",
       "      <td>0.056499</td>\n",
       "      <td>-0.25455</td>\n",
       "      <td>0.114216</td>\n",
       "      <td>-0.052138</td>\n",
       "      <td>0.058043</td>\n",
       "    </tr>\n",
       "    <tr>\n",
       "      <td>1</td>\n",
       "      <td>4F6419huGNh7rXB8Kr1rBf</td>\n",
       "      <td>1.42299</td>\n",
       "      <td>-0.079901</td>\n",
       "      <td>-0.200605</td>\n",
       "      <td>-0.205593</td>\n",
       "      <td>0.26224</td>\n",
       "      <td>0.136606</td>\n",
       "      <td>-0.165316</td>\n",
       "      <td>0.041852</td>\n",
       "      <td>-0.078251</td>\n",
       "      <td>...</td>\n",
       "      <td>0.006097</td>\n",
       "      <td>-0.018128</td>\n",
       "      <td>-0.040357</td>\n",
       "      <td>-0.074803</td>\n",
       "      <td>-0.306596</td>\n",
       "      <td>0.056499</td>\n",
       "      <td>-0.25455</td>\n",
       "      <td>0.114216</td>\n",
       "      <td>-0.052138</td>\n",
       "      <td>0.058043</td>\n",
       "    </tr>\n",
       "    <tr>\n",
       "      <td>2</td>\n",
       "      <td>6auUOYXyP76l4fiqC86c9E</td>\n",
       "      <td>1.42299</td>\n",
       "      <td>-0.079901</td>\n",
       "      <td>-0.200605</td>\n",
       "      <td>-0.205593</td>\n",
       "      <td>0.26224</td>\n",
       "      <td>0.136606</td>\n",
       "      <td>-0.165316</td>\n",
       "      <td>0.041852</td>\n",
       "      <td>-0.078251</td>\n",
       "      <td>...</td>\n",
       "      <td>0.006097</td>\n",
       "      <td>-0.018128</td>\n",
       "      <td>-0.040357</td>\n",
       "      <td>-0.074803</td>\n",
       "      <td>-0.306596</td>\n",
       "      <td>0.056499</td>\n",
       "      <td>-0.25455</td>\n",
       "      <td>0.114216</td>\n",
       "      <td>-0.052138</td>\n",
       "      <td>0.058043</td>\n",
       "    </tr>\n",
       "    <tr>\n",
       "      <td>3</td>\n",
       "      <td>00LEpojkN28l3W4axF8Ish</td>\n",
       "      <td>1.42299</td>\n",
       "      <td>-0.079901</td>\n",
       "      <td>-0.200605</td>\n",
       "      <td>-0.205593</td>\n",
       "      <td>0.26224</td>\n",
       "      <td>0.136606</td>\n",
       "      <td>-0.165316</td>\n",
       "      <td>0.041852</td>\n",
       "      <td>-0.078251</td>\n",
       "      <td>...</td>\n",
       "      <td>0.006097</td>\n",
       "      <td>-0.018128</td>\n",
       "      <td>-0.040357</td>\n",
       "      <td>-0.074803</td>\n",
       "      <td>-0.306596</td>\n",
       "      <td>0.056499</td>\n",
       "      <td>-0.25455</td>\n",
       "      <td>0.114216</td>\n",
       "      <td>-0.052138</td>\n",
       "      <td>0.058043</td>\n",
       "    </tr>\n",
       "    <tr>\n",
       "      <td>4</td>\n",
       "      <td>0R56f7PIJwzIc8N15RUodh</td>\n",
       "      <td>1.42299</td>\n",
       "      <td>-0.079901</td>\n",
       "      <td>-0.200605</td>\n",
       "      <td>-0.205593</td>\n",
       "      <td>0.26224</td>\n",
       "      <td>0.136606</td>\n",
       "      <td>-0.165316</td>\n",
       "      <td>0.041852</td>\n",
       "      <td>-0.078251</td>\n",
       "      <td>...</td>\n",
       "      <td>0.006097</td>\n",
       "      <td>-0.018128</td>\n",
       "      <td>-0.040357</td>\n",
       "      <td>-0.074803</td>\n",
       "      <td>-0.306596</td>\n",
       "      <td>0.056499</td>\n",
       "      <td>-0.25455</td>\n",
       "      <td>0.114216</td>\n",
       "      <td>-0.052138</td>\n",
       "      <td>0.058043</td>\n",
       "    </tr>\n",
       "  </tbody>\n",
       "</table>\n",
       "<p>5 rows × 51 columns</p>\n",
       "</div>"
      ],
      "text/plain": [
       "                 track_id  component_1  component_2  component_3  component_4  \\\n",
       "0  0007aPK8VmXN4ycL2OcBFa      1.42299    -0.079901    -0.200605    -0.205593   \n",
       "1  4F6419huGNh7rXB8Kr1rBf      1.42299    -0.079901    -0.200605    -0.205593   \n",
       "2  6auUOYXyP76l4fiqC86c9E      1.42299    -0.079901    -0.200605    -0.205593   \n",
       "3  00LEpojkN28l3W4axF8Ish      1.42299    -0.079901    -0.200605    -0.205593   \n",
       "4  0R56f7PIJwzIc8N15RUodh      1.42299    -0.079901    -0.200605    -0.205593   \n",
       "\n",
       "   component_5  component_6  component_7  component_8  component_9  ...  \\\n",
       "0      0.26224     0.136606    -0.165316     0.041852    -0.078251  ...   \n",
       "1      0.26224     0.136606    -0.165316     0.041852    -0.078251  ...   \n",
       "2      0.26224     0.136606    -0.165316     0.041852    -0.078251  ...   \n",
       "3      0.26224     0.136606    -0.165316     0.041852    -0.078251  ...   \n",
       "4      0.26224     0.136606    -0.165316     0.041852    -0.078251  ...   \n",
       "\n",
       "   component_41  component_42  component_43  component_44  component_45  \\\n",
       "0      0.006097     -0.018128     -0.040357     -0.074803     -0.306596   \n",
       "1      0.006097     -0.018128     -0.040357     -0.074803     -0.306596   \n",
       "2      0.006097     -0.018128     -0.040357     -0.074803     -0.306596   \n",
       "3      0.006097     -0.018128     -0.040357     -0.074803     -0.306596   \n",
       "4      0.006097     -0.018128     -0.040357     -0.074803     -0.306596   \n",
       "\n",
       "   component_46  component_47  component_48  component_49  component_50  \n",
       "0      0.056499      -0.25455      0.114216     -0.052138      0.058043  \n",
       "1      0.056499      -0.25455      0.114216     -0.052138      0.058043  \n",
       "2      0.056499      -0.25455      0.114216     -0.052138      0.058043  \n",
       "3      0.056499      -0.25455      0.114216     -0.052138      0.058043  \n",
       "4      0.056499      -0.25455      0.114216     -0.052138      0.058043  \n",
       "\n",
       "[5 rows x 51 columns]"
      ]
     },
     "execution_count": 9,
     "metadata": {},
     "output_type": "execute_result"
    }
   ],
   "source": [
    "genre_svd_df = pd.read_csv('../data/interim/genres/compressed_genres/genre_svd_df_20190824.csv', index_col=0)\n",
    "genre_svd_df.head()"
   ]
  },
  {
   "cell_type": "code",
   "execution_count": 12,
   "metadata": {},
   "outputs": [
    {
     "data": {
      "text/html": [
       "<div>\n",
       "<style scoped>\n",
       "    .dataframe tbody tr th:only-of-type {\n",
       "        vertical-align: middle;\n",
       "    }\n",
       "\n",
       "    .dataframe tbody tr th {\n",
       "        vertical-align: top;\n",
       "    }\n",
       "\n",
       "    .dataframe thead th {\n",
       "        text-align: right;\n",
       "    }\n",
       "</style>\n",
       "<table border=\"1\" class=\"dataframe\">\n",
       "  <thead>\n",
       "    <tr style=\"text-align: right;\">\n",
       "      <th></th>\n",
       "      <th>track_id</th>\n",
       "      <th>acousticness</th>\n",
       "      <th>danceability</th>\n",
       "      <th>duration_ms</th>\n",
       "      <th>energy</th>\n",
       "      <th>instrumentalness</th>\n",
       "      <th>liveness</th>\n",
       "      <th>loudness</th>\n",
       "      <th>mode</th>\n",
       "      <th>speechiness</th>\n",
       "      <th>...</th>\n",
       "      <th>key_8</th>\n",
       "      <th>key_3</th>\n",
       "      <th>key_11</th>\n",
       "      <th>key_6</th>\n",
       "      <th>key_1</th>\n",
       "      <th>time_signature_4</th>\n",
       "      <th>time_signature_3</th>\n",
       "      <th>time_signature_1</th>\n",
       "      <th>time_signature_5</th>\n",
       "      <th>time_signature_0</th>\n",
       "    </tr>\n",
       "  </thead>\n",
       "  <tbody>\n",
       "    <tr>\n",
       "      <td>0</td>\n",
       "      <td>5xrLpM84zbiHQyhzUr73Os</td>\n",
       "      <td>0.6040</td>\n",
       "      <td>0.672</td>\n",
       "      <td>194374</td>\n",
       "      <td>0.710</td>\n",
       "      <td>0.0000</td>\n",
       "      <td>0.673</td>\n",
       "      <td>-11.116</td>\n",
       "      <td>1</td>\n",
       "      <td>0.0373</td>\n",
       "      <td>...</td>\n",
       "      <td>0</td>\n",
       "      <td>0</td>\n",
       "      <td>0</td>\n",
       "      <td>0</td>\n",
       "      <td>0</td>\n",
       "      <td>1</td>\n",
       "      <td>0</td>\n",
       "      <td>0</td>\n",
       "      <td>0</td>\n",
       "      <td>0</td>\n",
       "    </tr>\n",
       "    <tr>\n",
       "      <td>0</td>\n",
       "      <td>5xrLpM84zbiHQyhzUr73Os</td>\n",
       "      <td>0.6040</td>\n",
       "      <td>0.672</td>\n",
       "      <td>194374</td>\n",
       "      <td>0.710</td>\n",
       "      <td>0.0000</td>\n",
       "      <td>0.673</td>\n",
       "      <td>-11.116</td>\n",
       "      <td>1</td>\n",
       "      <td>0.0373</td>\n",
       "      <td>...</td>\n",
       "      <td>0</td>\n",
       "      <td>0</td>\n",
       "      <td>0</td>\n",
       "      <td>0</td>\n",
       "      <td>0</td>\n",
       "      <td>1</td>\n",
       "      <td>0</td>\n",
       "      <td>0</td>\n",
       "      <td>0</td>\n",
       "      <td>0</td>\n",
       "    </tr>\n",
       "    <tr>\n",
       "      <td>0</td>\n",
       "      <td>2M3alDEGZMbCl5lzelRx2I</td>\n",
       "      <td>0.0093</td>\n",
       "      <td>0.748</td>\n",
       "      <td>221920</td>\n",
       "      <td>0.879</td>\n",
       "      <td>0.0000</td>\n",
       "      <td>0.313</td>\n",
       "      <td>-6.312</td>\n",
       "      <td>1</td>\n",
       "      <td>0.3070</td>\n",
       "      <td>...</td>\n",
       "      <td>0</td>\n",
       "      <td>0</td>\n",
       "      <td>0</td>\n",
       "      <td>0</td>\n",
       "      <td>0</td>\n",
       "      <td>1</td>\n",
       "      <td>0</td>\n",
       "      <td>0</td>\n",
       "      <td>0</td>\n",
       "      <td>0</td>\n",
       "    </tr>\n",
       "    <tr>\n",
       "      <td>0</td>\n",
       "      <td>2M3alDEGZMbCl5lzelRx2I</td>\n",
       "      <td>0.0093</td>\n",
       "      <td>0.748</td>\n",
       "      <td>221920</td>\n",
       "      <td>0.879</td>\n",
       "      <td>0.0000</td>\n",
       "      <td>0.313</td>\n",
       "      <td>-6.312</td>\n",
       "      <td>1</td>\n",
       "      <td>0.3070</td>\n",
       "      <td>...</td>\n",
       "      <td>0</td>\n",
       "      <td>0</td>\n",
       "      <td>0</td>\n",
       "      <td>0</td>\n",
       "      <td>0</td>\n",
       "      <td>1</td>\n",
       "      <td>0</td>\n",
       "      <td>0</td>\n",
       "      <td>0</td>\n",
       "      <td>0</td>\n",
       "    </tr>\n",
       "    <tr>\n",
       "      <td>2</td>\n",
       "      <td>46lWZGgPm3Y1LMDig3OIQ5</td>\n",
       "      <td>0.6910</td>\n",
       "      <td>0.193</td>\n",
       "      <td>263707</td>\n",
       "      <td>0.464</td>\n",
       "      <td>0.0265</td>\n",
       "      <td>0.239</td>\n",
       "      <td>-11.273</td>\n",
       "      <td>1</td>\n",
       "      <td>0.0360</td>\n",
       "      <td>...</td>\n",
       "      <td>0</td>\n",
       "      <td>0</td>\n",
       "      <td>0</td>\n",
       "      <td>0</td>\n",
       "      <td>0</td>\n",
       "      <td>1</td>\n",
       "      <td>0</td>\n",
       "      <td>0</td>\n",
       "      <td>0</td>\n",
       "      <td>0</td>\n",
       "    </tr>\n",
       "  </tbody>\n",
       "</table>\n",
       "<p>5 rows × 29 columns</p>\n",
       "</div>"
      ],
      "text/plain": [
       "                 track_id  acousticness  danceability  duration_ms  energy  \\\n",
       "0  5xrLpM84zbiHQyhzUr73Os        0.6040         0.672       194374   0.710   \n",
       "0  5xrLpM84zbiHQyhzUr73Os        0.6040         0.672       194374   0.710   \n",
       "0  2M3alDEGZMbCl5lzelRx2I        0.0093         0.748       221920   0.879   \n",
       "0  2M3alDEGZMbCl5lzelRx2I        0.0093         0.748       221920   0.879   \n",
       "2  46lWZGgPm3Y1LMDig3OIQ5        0.6910         0.193       263707   0.464   \n",
       "\n",
       "   instrumentalness  liveness  loudness  mode  speechiness  ...  key_8  key_3  \\\n",
       "0            0.0000     0.673   -11.116     1       0.0373  ...      0      0   \n",
       "0            0.0000     0.673   -11.116     1       0.0373  ...      0      0   \n",
       "0            0.0000     0.313    -6.312     1       0.3070  ...      0      0   \n",
       "0            0.0000     0.313    -6.312     1       0.3070  ...      0      0   \n",
       "2            0.0265     0.239   -11.273     1       0.0360  ...      0      0   \n",
       "\n",
       "   key_11  key_6  key_1  time_signature_4  time_signature_3  time_signature_1  \\\n",
       "0       0      0      0                 1                 0                 0   \n",
       "0       0      0      0                 1                 0                 0   \n",
       "0       0      0      0                 1                 0                 0   \n",
       "0       0      0      0                 1                 0                 0   \n",
       "2       0      0      0                 1                 0                 0   \n",
       "\n",
       "   time_signature_5  time_signature_0  \n",
       "0                 0                 0  \n",
       "0                 0                 0  \n",
       "0                 0                 0  \n",
       "0                 0                 0  \n",
       "2                 0                 0  \n",
       "\n",
       "[5 rows x 29 columns]"
      ]
     },
     "execution_count": 12,
     "metadata": {},
     "output_type": "execute_result"
    }
   ],
   "source": [
    "song_features = pd.read_csv('../data/interim/song_features/song_features_encoded_20190805.csv', index_col=0)\n",
    "song_features.head()"
   ]
  },
  {
   "cell_type": "code",
   "execution_count": 3,
   "metadata": {},
   "outputs": [
    {
     "name": "stdout",
     "output_type": "stream",
     "text": [
      "Combining datasets\n",
      "Computing dataset\n",
      "Normalizing values per songwriter\n",
      "Combining final datasets\n"
     ]
    }
   ],
   "source": [
    "merged_df = mk_dataset('../data/interim/tracks_w_writers/matched_tracks_w_writers_20190422.csv',\n",
    "                       '../data/interim/genres/compressed_genres/genre_svd_df_20190824.csv',\n",
    "                       '../data/interim/analysis_segments/segment_df_20190413.csv',\n",
    "                       '../data/interim/song_features/song_features_encoded_20190805.csv')"
   ]
  },
  {
   "cell_type": "code",
   "execution_count": 4,
   "metadata": {},
   "outputs": [
    {
     "data": {
      "text/plain": [
       "(546505, 143)"
      ]
     },
     "execution_count": 4,
     "metadata": {},
     "output_type": "execute_result"
    }
   ],
   "source": [
    "merged_df.shape"
   ]
  },
  {
   "cell_type": "code",
   "execution_count": 5,
   "metadata": {},
   "outputs": [],
   "source": [
    "merged_df.to_csv('../data/modeling/WID_normalized_tracks_20190825.csv', index=False)"
   ]
  },
  {
   "cell_type": "code",
   "execution_count": 10,
   "metadata": {},
   "outputs": [],
   "source": [
    "where_null = list(merged_df.isnull().any())"
   ]
  },
  {
   "cell_type": "markdown",
   "metadata": {},
   "source": [
    "## 2. Scaling by \"AVG\" Songwriter Value for each Songwriter\n",
    "\n",
    "Update 8/25/19: This was previously done with the below. However, the `mk_dataset` function now incorporates scaling by WID "
   ]
  },
  {
   "cell_type": "code",
   "execution_count": 8,
   "metadata": {},
   "outputs": [],
   "source": [
    "# Do not use -- at least while running in a container.\n",
    "\n",
    "# client = Client('scheduler:8786')"
   ]
  },
  {
   "cell_type": "code",
   "execution_count": 10,
   "metadata": {},
   "outputs": [],
   "source": [
    "matched_w_writers = pd.read_csv('../data/matched_tracks_w_writers_20190422.csv', index_col = 0)"
   ]
  },
  {
   "cell_type": "code",
   "execution_count": 24,
   "metadata": {},
   "outputs": [],
   "source": [
    "matched_w_writers = matched_w_writers.applymap(lambda x: np.NaN if x == '—' else x)"
   ]
  },
  {
   "cell_type": "code",
   "execution_count": 33,
   "metadata": {},
   "outputs": [
    {
     "name": "stdout",
     "output_type": "stream",
     "text": [
      "<class 'dask.dataframe.core.DataFrame'>\n",
      "Columns: 19 entries, Unnamed: 0 to PRO\n",
      "dtypes: object(12), float64(3), int64(4)"
     ]
    }
   ],
   "source": [
    "matched_w_writers.info()"
   ]
  },
  {
   "cell_type": "code",
   "execution_count": 28,
   "metadata": {},
   "outputs": [],
   "source": [
    "matched_w_writers['IPI'] = matched_w_writers['IPI'].astype(pd.Int32Dtype())"
   ]
  },
  {
   "cell_type": "code",
   "execution_count": 30,
   "metadata": {},
   "outputs": [],
   "source": [
    "matched_w_writers.to_csv('../data/matched_tracks_w_writers_20190504.csv')"
   ]
  },
  {
   "cell_type": "code",
   "execution_count": null,
   "metadata": {},
   "outputs": [],
   "source": [
    "# see imports on 1f.\n",
    "# not even sure if I need anything outside of the `read_csv`\n",
    "# from pandas.arrays import IntegerArray\n",
    "\n",
    "# # The actual registration that would be done in the 3rd-party library\n",
    "# from dask.dataframe.extensions import make_array_nonempty\n",
    "\n",
    "# @make_array_nonempty.register(IntegerArray)\n",
    "# def _(dtype):\n",
    "#     return integer_array([0, None], dtype=dtype)\n",
    "\n",
    "matched_w_writers = dd.read_csv('../data/matched_tracks_w_writers_20190504.csv',\n",
    "                                dtype = {\n",
    "                                    'track_id' : str,\n",
    "                                    'Song Title' : str,\n",
    "                                    'Artist' : str,\n",
    "                                    'artist_id' : str,\n",
    "                                    'name' : str,\n",
    "                                    'popularity' : np.int8,\n",
    "                                    'followers' : np.int32,\n",
    "                                    'artist_name' : str,\n",
    "                                    'song_id' : str,\n",
    "                                    'song_title' : str,\n",
    "                                    'CID' : np.int32,\n",
    "                                    'PID' : np.int32,\n",
    "                                    'Title': str,\n",
    "                                    'Performer Name' : str,\n",
    "                                    'WID' : np.int32,\n",
    "                                    'Writer Name' : str,\n",
    "                                    'IPI': pd.Int32Dtype(),\n",
    "                                    'PRO' : 'category'\n",
    "                                    })\\\n",
    "                      .rename(columns = {'Unnamed: 0' : 'index'})\\\n",
    "                      .set_index('index')"
   ]
  },
  {
   "cell_type": "code",
   "execution_count": 7,
   "metadata": {},
   "outputs": [
    {
     "name": "stdout",
     "output_type": "stream",
     "text": [
      "<class 'dask.dataframe.core.DataFrame'>\n",
      "Columns: 18 entries, track_id to PRO\n",
      "dtypes: category(1), Int32(1), object(11), int32(4), int8(1)"
     ]
    }
   ],
   "source": [
    "matched_w_writers.info()"
   ]
  },
  {
   "cell_type": "code",
   "execution_count": 15,
   "metadata": {},
   "outputs": [],
   "source": [
    "matched_with_writers_numeric = matched_w_writers[['popularity', 'followers', 'CID', 'PID', 'WID']]"
   ]
  },
  {
   "cell_type": "code",
   "execution_count": 10,
   "metadata": {},
   "outputs": [],
   "source": [
    "grouped_vals_avgs_ddf = matched_with_writers_numeric.groupby('WID').mean()"
   ]
  },
  {
   "cell_type": "code",
   "execution_count": 11,
   "metadata": {},
   "outputs": [
    {
     "data": {
      "text/html": [
       "<div>\n",
       "<style scoped>\n",
       "    .dataframe tbody tr th:only-of-type {\n",
       "        vertical-align: middle;\n",
       "    }\n",
       "\n",
       "    .dataframe tbody tr th {\n",
       "        vertical-align: top;\n",
       "    }\n",
       "\n",
       "    .dataframe thead th {\n",
       "        text-align: right;\n",
       "    }\n",
       "</style>\n",
       "<table border=\"1\" class=\"dataframe\">\n",
       "  <thead>\n",
       "    <tr style=\"text-align: right;\">\n",
       "      <th></th>\n",
       "      <th>popularity</th>\n",
       "      <th>followers</th>\n",
       "      <th>CID</th>\n",
       "      <th>PID</th>\n",
       "    </tr>\n",
       "    <tr>\n",
       "      <th>WID</th>\n",
       "      <th></th>\n",
       "      <th></th>\n",
       "      <th></th>\n",
       "      <th></th>\n",
       "    </tr>\n",
       "  </thead>\n",
       "  <tbody>\n",
       "    <tr>\n",
       "      <th>1</th>\n",
       "      <td>63.555556</td>\n",
       "      <td>1.380916e+06</td>\n",
       "      <td>140022.111111</td>\n",
       "      <td>23343.222222</td>\n",
       "    </tr>\n",
       "    <tr>\n",
       "      <th>2</th>\n",
       "      <td>55.500000</td>\n",
       "      <td>4.530500e+05</td>\n",
       "      <td>23335.500000</td>\n",
       "      <td>240.500000</td>\n",
       "    </tr>\n",
       "    <tr>\n",
       "      <th>3</th>\n",
       "      <td>65.304762</td>\n",
       "      <td>8.502829e+05</td>\n",
       "      <td>73315.723810</td>\n",
       "      <td>14429.009524</td>\n",
       "    </tr>\n",
       "    <tr>\n",
       "      <th>4</th>\n",
       "      <td>67.264706</td>\n",
       "      <td>8.245521e+05</td>\n",
       "      <td>22609.264706</td>\n",
       "      <td>16.970588</td>\n",
       "    </tr>\n",
       "    <tr>\n",
       "      <th>5</th>\n",
       "      <td>67.621212</td>\n",
       "      <td>1.039455e+06</td>\n",
       "      <td>27845.575758</td>\n",
       "      <td>3303.651515</td>\n",
       "    </tr>\n",
       "  </tbody>\n",
       "</table>\n",
       "</div>"
      ],
      "text/plain": [
       "     popularity     followers            CID           PID\n",
       "WID                                                       \n",
       "1     63.555556  1.380916e+06  140022.111111  23343.222222\n",
       "2     55.500000  4.530500e+05   23335.500000    240.500000\n",
       "3     65.304762  8.502829e+05   73315.723810  14429.009524\n",
       "4     67.264706  8.245521e+05   22609.264706     16.970588\n",
       "5     67.621212  1.039455e+06   27845.575758   3303.651515"
      ]
     },
     "execution_count": 11,
     "metadata": {},
     "output_type": "execute_result"
    }
   ],
   "source": [
    "grouped_vals_avgs_ddf.head()"
   ]
  },
  {
   "cell_type": "code",
   "execution_count": 28,
   "metadata": {},
   "outputs": [],
   "source": [
    "def normalize_sngwriter(ddf):\n",
    "    subset_ddf = ddf.drop(columns = ['track_id',\n",
    "                          'Song Title',\n",
    "                          'Artist',\n",
    "                          'artist_id',\n",
    "                          'name',\n",
    "                          'popularity',\n",
    "                          'followers',\n",
    "                          'artist_name',\n",
    "                          'song_id',\n",
    "                          'song_title',\n",
    "                          'CID',\n",
    "                          'PID',\n",
    "                          'Title',\n",
    "                          'Performer Name',\n",
    "                          'Writer Name',\n",
    "                          'IPI',\n",
    "                          'PRO'])\n",
    "    grouped_vals_ddf = subset_ddf.groupby('WID').transform(lambda x: (x - x.mean()) / x.std() if x.std() is not 0 else 0) #Has been edited since it's last been run - see jj_linux branch for more info\n",
    "    return grouped_vals_ddf"
   ]
  },
  {
   "cell_type": "code",
   "execution_count": 5,
   "metadata": {},
   "outputs": [],
   "source": [
    "def normalize_sngwriter_df(ddf):\n",
    "    grouped_vals_ddf = ddf.groupby('WID').transform(lambda x: (x - x.mean()) / x.std())"
   ]
  },
  {
   "cell_type": "code",
   "execution_count": 29,
   "metadata": {},
   "outputs": [],
   "source": [
    "normalized_by_sngwriter_df = normalize_sngwriter(merged_df_ready)"
   ]
  },
  {
   "cell_type": "code",
   "execution_count": 30,
   "metadata": {},
   "outputs": [],
   "source": [
    "# normalized_by_sngwriter_df.to_csv('../data/interim/normalized_vector_20190516.csv')"
   ]
  },
  {
   "cell_type": "code",
   "execution_count": 44,
   "metadata": {},
   "outputs": [
    {
     "data": {
      "text/plain": [
       "(577426, 126)"
      ]
     },
     "execution_count": 44,
     "metadata": {},
     "output_type": "execute_result"
    }
   ],
   "source": [
    "normalized_by_sngwriter_df.shape"
   ]
  },
  {
   "cell_type": "code",
   "execution_count": 24,
   "metadata": {},
   "outputs": [],
   "source": [
    "metadata_df = merged_df[['track_id',\n",
    "                          'Song Title',\n",
    "                          'Artist',\n",
    "                          'artist_id',\n",
    "                          'name',\n",
    "                          'popularity',\n",
    "                          'followers',\n",
    "                          'artist_name',\n",
    "                          'song_id',\n",
    "                          'song_title',\n",
    "                          'CID',\n",
    "                          'PID',\n",
    "                          'Title',\n",
    "                          'Performer Name',\n",
    "                          'Writer Name',\n",
    "                          'IPI',\n",
    "                          'PRO']]"
   ]
  },
  {
   "cell_type": "code",
   "execution_count": 25,
   "metadata": {},
   "outputs": [],
   "source": [
    "metadata_df.to_csv('../data/modeling/metadata_for_scaled_ddf_20190825.csv')"
   ]
  },
  {
   "cell_type": "markdown",
   "metadata": {},
   "source": [
    "##### Detecting Null Values "
   ]
  },
  {
   "cell_type": "code",
   "execution_count": 17,
   "metadata": {},
   "outputs": [
    {
     "data": {
      "text/plain": [
       "track_id            0\n",
       "Song Title          0\n",
       "Artist              0\n",
       "artist_id           0\n",
       "name                0\n",
       "                   ..\n",
       "time_signature_4    0\n",
       "time_signature_3    0\n",
       "time_signature_1    0\n",
       "time_signature_5    0\n",
       "time_signature_0    0\n",
       "Length: 143, dtype: int64"
      ]
     },
     "execution_count": 17,
     "metadata": {},
     "output_type": "execute_result"
    }
   ],
   "source": [
    "merged_df.isnull().agg('sum')"
   ]
  },
  {
   "cell_type": "code",
   "execution_count": 45,
   "metadata": {},
   "outputs": [
    {
     "data": {
      "text/plain": [
       "component_1          81530\n",
       "component_2          87139\n",
       "component_3          93384\n",
       "component_4          87833\n",
       "component_5          85671\n",
       "component_6          89459\n",
       "component_7          87992\n",
       "component_8          89366\n",
       "component_9          86899\n",
       "component_10         88352\n",
       "component_11         84486\n",
       "component_12         87718\n",
       "component_13         88319\n",
       "component_14         82288\n",
       "component_15         87549\n",
       "component_16         87390\n",
       "component_17         88073\n",
       "component_18         85157\n",
       "component_19         82286\n",
       "component_20         91339\n",
       "component_21         91090\n",
       "component_22         83418\n",
       "component_23         87957\n",
       "component_24         86513\n",
       "component_25         90215\n",
       "component_26         87249\n",
       "component_27         88837\n",
       "component_28         86229\n",
       "component_29         84643\n",
       "component_30         85742\n",
       "                     ...  \n",
       "tv_10                14535\n",
       "tv_11                14556\n",
       "acousticness         14808\n",
       "danceability         15077\n",
       "duration_ms          17012\n",
       "energy               14961\n",
       "instrumentalness     30270\n",
       "liveness             15001\n",
       "loudness             14797\n",
       "mode                 57629\n",
       "speechiness          14812\n",
       "tempo                14707\n",
       "valence              14848\n",
       "key_7                73941\n",
       "key_6               112382\n",
       "key_8               115858\n",
       "key_9                84775\n",
       "key_2                78847\n",
       "key_5                96275\n",
       "key_10              111991\n",
       "key_0                77509\n",
       "key_11               98929\n",
       "key_4               101435\n",
       "key_1                88512\n",
       "key_3               186740\n",
       "time_signature_3    106512\n",
       "time_signature_4     86473\n",
       "time_signature_5    257494\n",
       "time_signature_1    317436\n",
       "time_signature_0    506926\n",
       "Length: 126, dtype: int64"
      ]
     },
     "execution_count": 45,
     "metadata": {},
     "output_type": "execute_result"
    }
   ],
   "source": [
    "normalized_by_sngwriter_df.isnull().agg('sum')"
   ]
  },
  {
   "cell_type": "code",
   "execution_count": 14,
   "metadata": {},
   "outputs": [],
   "source": [
    "merged_df.fillna(value=0, inplace=True)"
   ]
  },
  {
   "cell_type": "code",
   "execution_count": 60,
   "metadata": {},
   "outputs": [],
   "source": [
    "normalized_by_sngwriter_df.fillna(value = 0, inplace = True)"
   ]
  },
  {
   "cell_type": "code",
   "execution_count": 15,
   "metadata": {},
   "outputs": [],
   "source": [
    "merged_df.to_csv('../data/modeling/WID_normalized_tracks_w_zeros_201908025.csv', index=False)"
   ]
  },
  {
   "cell_type": "code",
   "execution_count": 36,
   "metadata": {},
   "outputs": [],
   "source": [
    "def mk_full_normalized_dataset(normalized_df, original_df):\n",
    "    full_normalized_df = pd.concat([original_df[['track_id',\n",
    "                          'Song Title',\n",
    "                          'Artist',\n",
    "                          'artist_id',\n",
    "                          'name',\n",
    "                          'popularity',\n",
    "                          'followers',\n",
    "                          'artist_name',\n",
    "                          'song_id',\n",
    "                          'song_title',\n",
    "                          'CID',\n",
    "                          'PID',\n",
    "                          'Title',\n",
    "                          'Performer Name',\n",
    "                          'Writer Name',\n",
    "                          'IPI',\n",
    "                          'PRO']], normalized_df],\n",
    "                         axis = 1)\n",
    "    return full_normalized_df"
   ]
  },
  {
   "cell_type": "code",
   "execution_count": 37,
   "metadata": {},
   "outputs": [],
   "source": [
    "full_normalized_df = mk_full_normalized_dataset(normalized_by_sngwriter_df, merged_df_ready)"
   ]
  },
  {
   "cell_type": "code",
   "execution_count": 40,
   "metadata": {},
   "outputs": [
    {
     "name": "stdout",
     "output_type": "stream",
     "text": [
      "<class 'pandas.core.frame.DataFrame'>\n",
      "Int64Index: 577426 entries, 0 to 57473\n",
      "Columns: 143 entries, track_id to time_signature_0\n",
      "dtypes: float64(130), int64(1), object(12)\n",
      "memory usage: 634.4+ MB\n"
     ]
    }
   ],
   "source": [
    "full_normalized_df.info()"
   ]
  },
  {
   "cell_type": "code",
   "execution_count": 62,
   "metadata": {},
   "outputs": [],
   "source": [
    "full_normalized_df.to_csv('../data/interim/full_normalized_tracks_20190516.csv')"
   ]
  },
  {
   "cell_type": "markdown",
   "metadata": {},
   "source": [
    "## 3. Scaling Dataset "
   ]
  },
  {
   "cell_type": "code",
   "execution_count": 16,
   "metadata": {},
   "outputs": [],
   "source": [
    "from dask_ml.preprocessing import StandardScaler"
   ]
  },
  {
   "cell_type": "code",
   "execution_count": 65,
   "metadata": {},
   "outputs": [],
   "source": [
    "def scale_dataset(ddf):\n",
    "    ss = StandardScaler()\n",
    "    scaled_ddf = ss.fit_transform(ddf)\n",
    "    return scaled_ddf"
   ]
  },
  {
   "cell_type": "code",
   "execution_count": 19,
   "metadata": {},
   "outputs": [],
   "source": [
    "scaled_df = scale_dataset(merged_df.drop(['track_id',\n",
    "                          'Song Title',\n",
    "                          'Artist',\n",
    "                          'artist_id',\n",
    "                          'name',\n",
    "                          'popularity',\n",
    "                          'followers',\n",
    "                          'artist_name',\n",
    "                          'song_id',\n",
    "                          'song_title',\n",
    "                          'CID',\n",
    "                          'PID',\n",
    "                          'Title',\n",
    "                          'Performer Name',\n",
    "                          'Writer Name',\n",
    "                          'IPI',\n",
    "                          'PRO'], axis=1))"
   ]
  },
  {
   "cell_type": "code",
   "execution_count": 21,
   "metadata": {},
   "outputs": [
    {
     "data": {
      "text/plain": [
       "(546505, 126)"
      ]
     },
     "execution_count": 21,
     "metadata": {},
     "output_type": "execute_result"
    }
   ],
   "source": [
    "scaled_df.shape"
   ]
  },
  {
   "cell_type": "code",
   "execution_count": 23,
   "metadata": {},
   "outputs": [],
   "source": [
    "scaled_df.to_csv('../data/modeling/scaled_ddf_20190825.csv')"
   ]
  }
 ],
 "metadata": {
  "kernelspec": {
   "display_name": "Python 3",
   "language": "python",
   "name": "python3"
  },
  "language_info": {
   "codemirror_mode": {
    "name": "ipython",
    "version": 3
   },
   "file_extension": ".py",
   "mimetype": "text/x-python",
   "name": "python",
   "nbconvert_exporter": "python",
   "pygments_lexer": "ipython3",
   "version": "3.7.3"
  }
 },
 "nbformat": 4,
 "nbformat_minor": 4
}
