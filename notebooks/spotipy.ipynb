{
 "cells": [
  {
   "cell_type": "markdown",
   "metadata": {},
   "source": [
    "# Extracting Artist Info via Spotipy"
   ]
  },
  {
   "cell_type": "code",
   "execution_count": 2,
   "metadata": {},
   "outputs": [],
   "source": [
    "import numpy as np\n",
    "import pandas as pd\n",
    "import pickle\n",
    "import re\n",
    "import spotipy\n",
    "from spotipy.oauth2 import SpotifyClientCredentials\n",
    "import time"
   ]
  },
  {
   "cell_type": "markdown",
   "metadata": {},
   "source": [
    "#### Retreiving Artist List"
   ]
  },
  {
   "cell_type": "code",
   "execution_count": 2,
   "metadata": {},
   "outputs": [],
   "source": [
    "with open('../pickle/artist_list_td.pkl', 'rb+') as f:\n",
    "    artist_list_td = pickle.load(f)"
   ]
  },
  {
   "cell_type": "markdown",
   "metadata": {},
   "source": [
    "#### Logging into Spotipy"
   ]
  },
  {
   "cell_type": "code",
   "execution_count": 7,
   "metadata": {},
   "outputs": [],
   "source": [
    "client_credentials_manager = SpotifyClientCredentials(client_id=\"2414300dd5be4a3cb0e9d83ecebe3964\",\n",
    "                                                          client_secret=\"f9c2e12e1f0247a4a74cf8e821a69aa7\")\n",
    "sp = spotipy.Spotify(client_credentials_manager=client_credentials_manager)"
   ]
  },
  {
   "cell_type": "markdown",
   "metadata": {},
   "source": [
    "#### Trying to Retrieve Artist Info"
   ]
  },
  {
   "cell_type": "code",
   "execution_count": 49,
   "metadata": {},
   "outputs": [],
   "source": [
    "artist = sp.search(\"'N SYNC\", type='artist')"
   ]
  },
  {
   "cell_type": "markdown",
   "metadata": {},
   "source": [
    "#### Google 'I'm Feeling Lucky' Scenario"
   ]
  },
  {
   "cell_type": "code",
   "execution_count": 60,
   "metadata": {},
   "outputs": [],
   "source": [
    "confident_list = []\n",
    "for artist in artist_list_td:\n",
    "    artist_list = sp.search(artist, type='artist')\n",
    "    try:\n",
    "        confident_list.append(artist_list['artists']['items'][0])\n",
    "    except:\n",
    "        confident_list.append('no_results')\n",
    "    time.sleep(1)"
   ]
  },
  {
   "cell_type": "code",
   "execution_count": 111,
   "metadata": {},
   "outputs": [
    {
     "data": {
      "text/plain": [
       "'no_results'"
      ]
     },
     "execution_count": 111,
     "metadata": {},
     "output_type": "execute_result"
    }
   ],
   "source": [
    "confident_list[8]"
   ]
  },
  {
   "cell_type": "code",
   "execution_count": 61,
   "metadata": {},
   "outputs": [
    {
     "data": {
      "text/plain": [
       "2514"
      ]
     },
     "execution_count": 61,
     "metadata": {},
     "output_type": "execute_result"
    }
   ],
   "source": [
    "len(confident_list)"
   ]
  },
  {
   "cell_type": "code",
   "execution_count": 362,
   "metadata": {},
   "outputs": [
    {
     "data": {
      "text/plain": [
       "{'external_urls': {'spotify': 'https://open.spotify.com/artist/3dkbV4qihUeMsqN4vBGg93'},\n",
       " 'followers': {'href': None, 'total': 946690},\n",
       " 'genres': ['classic soul',\n",
       "  'funk',\n",
       "  'memphis soul',\n",
       "  'quiet storm',\n",
       "  'soul',\n",
       "  'soul blues',\n",
       "  'southern soul'],\n",
       " 'href': 'https://api.spotify.com/v1/artists/3dkbV4qihUeMsqN4vBGg93',\n",
       " 'id': '3dkbV4qihUeMsqN4vBGg93',\n",
       " 'images': [{'height': 640,\n",
       "   'url': 'https://i.scdn.co/image/3204125720ef02294bbac0ff109a5919c141955f',\n",
       "   'width': 640},\n",
       "  {'height': 320,\n",
       "   'url': 'https://i.scdn.co/image/6df201e877205c39bebe4c420f3b2ef84ad66b17',\n",
       "   'width': 320},\n",
       "  {'height': 160,\n",
       "   'url': 'https://i.scdn.co/image/4c1d71cb0248f47f249b32c66f661f9ef3081ca8',\n",
       "   'width': 160}],\n",
       " 'name': 'Al Green',\n",
       " 'popularity': 68,\n",
       " 'type': 'artist',\n",
       " 'uri': 'spotify:artist:3dkbV4qihUeMsqN4vBGg93'}"
      ]
     },
     "execution_count": 362,
     "metadata": {},
     "output_type": "execute_result"
    }
   ],
   "source": [
    "confident_list[64]"
   ]
  },
  {
   "cell_type": "code",
   "execution_count": 82,
   "metadata": {},
   "outputs": [
    {
     "data": {
      "text/plain": [
       "'2 PAC & OUTLAWZ'"
      ]
     },
     "execution_count": 82,
     "metadata": {},
     "output_type": "execute_result"
    }
   ],
   "source": [
    "artist_list_td[8]"
   ]
  },
  {
   "cell_type": "code",
   "execution_count": 100,
   "metadata": {},
   "outputs": [],
   "source": [
    "with open('../pickle/confident_list.pkl', 'wb+') as f:\n",
    "    pickle.dump(confident_list, f)"
   ]
  },
  {
   "cell_type": "markdown",
   "metadata": {},
   "source": [
    "##### Counting `no_results`"
   ]
  },
  {
   "cell_type": "code",
   "execution_count": 79,
   "metadata": {},
   "outputs": [],
   "source": [
    "count = -1\n",
    "index_list = []\n",
    "\n",
    "for artist in list(enumerate(confident_list)):\n",
    "    count += 1\n",
    "    if artist == 'no_results':\n",
    "        index_list.append(count)"
   ]
  },
  {
   "cell_type": "code",
   "execution_count": 81,
   "metadata": {},
   "outputs": [
    {
     "data": {
      "text/plain": [
       "135"
      ]
     },
     "execution_count": 81,
     "metadata": {},
     "output_type": "execute_result"
    }
   ],
   "source": [
    "len(index_list)"
   ]
  },
  {
   "cell_type": "markdown",
   "metadata": {},
   "source": [
    "##### Missing Artists"
   ]
  },
  {
   "cell_type": "code",
   "execution_count": 94,
   "metadata": {},
   "outputs": [],
   "source": [
    "missing_artists = []\n",
    "\n",
    "for i in list(enumerate(confident_list)):\n",
    "    if i[1] == 'no_results':\n",
    "        missing_artists.append((i[0], artist_list_td[i[0]]))\n",
    "        \n",
    "# map(lambda x: missing_artists.append(i) if i[1] == 'no_results' else , list(enumerate(confident_list)))"
   ]
  },
  {
   "cell_type": "code",
   "execution_count": 95,
   "metadata": {},
   "outputs": [
    {
     "data": {
      "text/plain": [
       "[(8, '2 PAC & OUTLAWZ'),\n",
       " (11, '21 SAVAGE & METRO BOOMIN'),\n",
       " (36, 'A. DORATI / MINNEAPOLIS SYMPHONY'),\n",
       " (117, 'ANI DI FRANCO'),\n",
       " (165, 'BABY AKA THE #1 STUNNA'),\n",
       " (185, 'BARBRA STREISAND & KRIS KRISTOFFERSON'),\n",
       " (205, 'BENEDICTINE MONKS-SANTO DE SIL'),\n",
       " (208, 'BERLIN PHILHARMONIC / KARAJAN'),\n",
       " (215, 'BIG AUDIO DYNAMITE II'),\n",
       " (241, 'BILLY VAUGHN & HIS ORCHESTRA'),\n",
       " (268, 'BLOOMFIELD / KOOPER / STILLS'),\n",
       " (277, 'BOB & DOUG MC KENZIE'),\n",
       " (281, 'BOB DYLAN & THE DEAD'),\n",
       " (283, 'BOB JAMES & DAVID SANBORN'),\n",
       " (284, 'BOB JAMES & EARL KLUGH'),\n",
       " (287, 'BOB RIVERS COMEDY CORP'),\n",
       " (290, \"BOBBY 'BLUE' BLAND & B.B. KING\"),\n",
       " (293, 'BOBBY GENTRY & GLEN CAMPBELL'),\n",
       " (295, 'BOBBY MC FERRIN'),\n",
       " (312, 'BOW WOW & OMARION'),\n",
       " (328, 'BRIAN MC KNIGHT'),\n",
       " (367, 'C.W. MC CALL'),\n",
       " (374, \"CAM'RON PRESENTS THE DIPLOMATS\"),\n",
       " (388, 'CARLOS SANTANA & JOHN MC LAUGHLIN'),\n",
       " (397, 'CE CE PENISTON'),\n",
       " (478, 'CONWAY TWITTY & LORETTA LYNN'),\n",
       " (510, 'D. PARTON, L. RONSTADT, E. HARRIS'),\n",
       " (520, 'DALLAS HOLM & PRAISE'),\n",
       " (547, 'DAVE MATTHEWS & TIM REYNOLDS'),\n",
       " (549, 'DAVE WILLIAMSON BIG BAND'),\n",
       " (606, 'DIANA ROSS & LIONEL RICHIE'),\n",
       " (608, 'DIANA ROSS & THE SUPREMES WITH THE TEMPTATIONS'),\n",
       " (627, 'DJ MAGIC MIKE & MC MADNESS'),\n",
       " (636, 'DOLLY PARTON WITH TAMMY WYNETTE & LORETTA LYNN'),\n",
       " (641, 'DON MC LEAN'),\n",
       " (650, 'DONNIE MC CLURKIN'),\n",
       " (662, 'DR. MARK BESHARA'),\n",
       " (666, 'DRAKE & FUTURE'),\n",
       " (689, 'EAST COAST FAMILY'),\n",
       " (699, \"EDEN'S CRUSH\"),\n",
       " (703, 'EDWIN MC CAIN'),\n",
       " (714, 'ELTON JOHN & TIM RICE'),\n",
       " (738, 'ERIC CLAPTON & B.B. KING'),\n",
       " (759, 'EXTREME II'),\n",
       " (811, 'FRANCES LAI'),\n",
       " (820, 'FRANSESCA BATTISTELLI'),\n",
       " (833, 'FUNKMASTER FLEX & BIG KAP'),\n",
       " (855, 'GEORGE BENSON & EARL KLUGH'),\n",
       " (860, 'GEORGE HARRISON & FRIENDS'),\n",
       " (878, 'GIORGIO MARAUDER'),\n",
       " (927, 'H. ALPERT & THE TIJUANA BRASS'),\n",
       " (1013, 'J. MACDONALD & NELSON EDDY'),\n",
       " (1036, 'JAMES TAYLOR & CAROLE KING'),\n",
       " (1052, 'JAY-Z & KANYE WEST'),\n",
       " (1053, 'JAY-Z & LINKIN PARK'),\n",
       " (1054, 'JAY-Z & R. KELLY'),\n",
       " (1056, 'JEAN P. RAMPAL & CLAUDE BOLLING'),\n",
       " (1067, 'JENNINGS / NELSON / COLTER / GLASER'),\n",
       " (1075, \"JESSE JOHNSON'S REVUE\"),\n",
       " (1076, 'JESSE MC CARTNEY'),\n",
       " (1093, 'JIMI HENDRIX & OTIS REDDING'),\n",
       " (1097, 'JIMMY PAGE & ROBERT PLANT'),\n",
       " (1100, 'JJ CALE & ERIC CLAPTON'),\n",
       " (1115, 'JOEY MC INTYRE'),\n",
       " (1124, 'JOHN DENVER & THE MUPPETS'),\n",
       " (1146, 'JOHNNY MATHIS & DENIECE WILLIAMS'),\n",
       " (1171, 'JUDI SHEPPARD MISSETT'),\n",
       " (1185, 'K.C. & THE SUNSHINE BAND'),\n",
       " (1187, 'K.D. LANG & THE RECLINES'),\n",
       " (1227, 'KENNY ROGERS & DOLLY PARTON'),\n",
       " (1228, 'KENNY ROGERS & DOTTIE WEST'),\n",
       " (1264, 'KRIS KRISTOFFERSON & RITA COOLIDGE'),\n",
       " (1274, 'L. ELGART / MANHATTAN SWING ORC'),\n",
       " (1276, 'L.L. COOL J'),\n",
       " (1309, 'LES MC CANN & EDDIE HARRIS'),\n",
       " (1319, \"LIL' JON & THE EASTSIDE BOYZ\"),\n",
       " (1323, 'LILA MC CANN'),\n",
       " (1333, 'LISA LISA & CULT JAM WITH FULL FORCE'),\n",
       " (1354, 'LONDON SYMPHONY ORCH. & CHOIR'),\n",
       " (1357, 'LOREENA MC KENNITT'),\n",
       " (1360, 'LOS ANGELES AZULEZ'),\n",
       " (1384, 'LUDACRIS & DTP'),\n",
       " (1418, 'MANNHEIM STEAMROLLER & M. WILLIAMS'),\n",
       " (1424, 'MARCO ANTONIO SOLIS Y LOS BUKIS'),\n",
       " (1430, 'MARILYN MC COO & BILLY DAVIS, JR.'),\n",
       " (1463, 'MAZE FEAT. FRANKIE BEVERLY'),\n",
       " (1465, 'MC BRIDE & THE RIDE'),\n",
       " (1466, 'MC EIHT FEAT. CMW'),\n",
       " (1467, 'MC FADDEN & WHITEHEAD'),\n",
       " (1524, 'MINDY MC CREADY'),\n",
       " (1568, 'N.W.A. & THE POSSE'),\n",
       " (1569, 'N.Y. PHILHARMONIC ORCHESTRA WITH LEONARD BERNSTEIN'),\n",
       " (1588, 'NEAL MC COY'),\n",
       " (1651, 'OLIVIA NEWTON-JOHN & ELECTRIC LIGHT ORCHESTRA'),\n",
       " (1652, 'OLIVIA NEWTON-JOHN & JOHN TRAVOLTA'),\n",
       " (1662, 'ORIGINAL CANADIAN CAST'),\n",
       " (1671, 'OZZY OSBOURNE & RANDY RHOADS'),\n",
       " (1678, 'PAILLARD:CHAMBER / MAURICE ANDRE'),\n",
       " (1694, 'PATSY CLINE / J. REEVES'),\n",
       " (1698, 'PAUL & LINDA MC CARTNEY'),\n",
       " (1703, 'PAUL MC CARTNEY & WINGS'),\n",
       " (1783, 'PURPLE BALLOON PLAYERS'),\n",
       " (1797, 'R. KELLY & PUBLIC ANNOUNCEMENT'),\n",
       " (1799, 'R.E.O. SPEEDWAGON'),\n",
       " (1826, 'RAY PARKER, JR. & RAYDIO'),\n",
       " (1832, 'REAL MC COY'),\n",
       " (1833, 'REBA MC ENTIRE'),\n",
       " (1844, 'RETURN TO FORVER'),\n",
       " (1870, 'ROB BASE & DJ E-Z ROCK'),\n",
       " (1881, 'ROBERT PLANT & ALLISON KRAUSS'),\n",
       " (1928, 'S.R. VAUGHAN & DOUBLE TROUBLE'),\n",
       " (1929, 'S.W.V.'),\n",
       " (1953, 'SARAH MC LACHLAN'),\n",
       " (2024, 'SKRILLEX & DIPLO'),\n",
       " (2043, 'SNOOP DOGG PRESENTS THA EASTSIDAZ'),\n",
       " (2105, 'STING & THE POLICE'),\n",
       " (2206, 'THE DALLAS BRASS'),\n",
       " (2209, 'THE DEFTONES'),\n",
       " (2253, 'THE MUPPETS & ROBIN GIBB'),\n",
       " (2279, 'THE TALKING HEADS'),\n",
       " (2306, 'THIRTY-EIGHT SPECIAL (.38)'),\n",
       " (2342, 'TONY BENNETT & K.D. LANG'),\n",
       " (2343, 'TONY BENNETT & LADY GAGA'),\n",
       " (2366, 'TREY PARKER, ROBERT LOPEZ, MATT STONE'),\n",
       " (2371, 'TRIN-I-TEE 5:7'),\n",
       " (2394, 'UB-40'),\n",
       " (2401, 'USA FOR AFRICA'),\n",
       " (2415, 'VANITY 6'),\n",
       " (2418, 'VEGGIE TALES'),\n",
       " (2426, 'VICTORIOUS CAST FEAT. VICTORIA JUSTICE'),\n",
       " (2440, 'WALTER MURPHY & THE BIG APPLE BAND'),\n",
       " (2447, 'WAYLON JENNINGS & JESSI COLTER'),\n",
       " (2465, 'WILLIE NELSON & LEON RUSSELL'),\n",
       " (2475, 'WU-TANG KILLA BEES'),\n",
       " (2493, 'YO YO MA & BOBBY MCFERRIN')]"
      ]
     },
     "execution_count": 95,
     "metadata": {},
     "output_type": "execute_result"
    }
   ],
   "source": [
    "missing_artists[:5]"
   ]
  },
  {
   "cell_type": "code",
   "execution_count": 98,
   "metadata": {},
   "outputs": [],
   "source": [
    "with open('../pickle/missing_artists.pkl', 'wb+') as f:\n",
    "    pickle.dump(missing_artists, f)"
   ]
  },
  {
   "cell_type": "markdown",
   "metadata": {},
   "source": [
    "##### Manually Finding Artists"
   ]
  },
  {
   "cell_type": "code",
   "execution_count": 112,
   "metadata": {},
   "outputs": [],
   "source": [
    "mal = [\n",
    "    (8, \"2Pac Outlawz\"),\n",
    "    (36, \"Minneapolis Symphony Orchestra\"),\n",
    "    (117, \"Ani DiFranco\"),\n",
    "    (208, \"Herbert von Karajan\"),\n",
    "    (215, \"Big Audio Dynamite\"),\n",
    "    (268, \"Mike Bloomfield\"),\n",
    "    (277, \"Bob & Doug McKenzie\"),\n",
    "    (284, \"Earl Klugh\"),\n",
    "    (287, \"Bob Rivers\"),\n",
    "    (295, \"Bobby McFerrin\"),\n",
    "    (328, \"Brian McKnight\"),\n",
    "    (367, \"C.W. McCall\"),\n",
    "    (374, \"The Diplomats\"),\n",
    "    (388, \"Mahavishnu John McLaughlin\"),\n",
    "    (397, \"CeCe Peniston\"),\n",
    "    (520, \"Dallas Holm\"),\n",
    "    (549, \"WordHarmonic\"),\n",
    "    (627, \"D.J. Magic Mike & M.C. Madness\"),\n",
    "    (641, \"Don McLean\"),\n",
    "    (650, \"Donnie McClurkin\"),\n",
    "    (662, \"Mark Beshara\"),\n",
    "    (703, \"Edwin McCain\"),\n",
    "    (759, \"Extreme\"),\n",
    "    (811, \"Francis Lai\"),\n",
    "    (820, \"Francesca Battistelli\"),\n",
    "    (1013, \"Nelson Eddy\"),\n",
    "    (1056, \"Claude Bolling\"),\n",
    "    (1067, \"The Outlaws\"),\n",
    "    (1075, \"Jesse Johnson\"),\n",
    "    (1076, \"Jesse McCartney\"),\n",
    "    (1115, \"Joey McIntyre\"),\n",
    "    (1185, \"KC & The Sunshine Band\"),\n",
    "    (1274, \"Larry Elgart & His Manhatten Swing Orchestra\"),\n",
    "    (1276, \"LL Cool J\"),\n",
    "    (1309, \"Les McCann & Eddie Harris\"),\n",
    "    (1319, \"Lil Jon & The East Side Boyz\"),\n",
    "    (1323, \"Lila McCann\"),\n",
    "    (1333, \"Lisa Lisa & Cult Jam\"),\n",
    "    (1354, \"London Symphony Orchestra\"),\n",
    "    (1357, \"Loreena McKennitt\"),\n",
    "    (1360, \"Los Angeles Azules\"),\n",
    "    (1424, \"Marco Antonio Solís\"),\n",
    "    (1430, \"Marilyn McCoo & Billy Davis Jr.\"),\n",
    "    (1463, \"Frankie Beverly\"),\n",
    "    (1465, \"McBride & The Ride\"),\n",
    "    (1466, \"MC Eiht\"),\n",
    "    (1467, \"McFadden & Whitehead\"),\n",
    "    (1524, \"Mindy McCready\"),\n",
    "    (1569, \"Leonard Bernstein\"),\n",
    "    (1588, \"Neal McCoy\"),\n",
    "    (1678, \"Maurice André\"),\n",
    "    (1799, \"REO Speedwagon\"),\n",
    "    (1832, \"Real McCoy\"),\n",
    "    (1833, \"Reba McEntire\"),\n",
    "    (1844, \"Return To Forever\"),\n",
    "    (1870, \"Rob Base & DJ EZ Rock\"),\n",
    "    (1929, \"SWV\"),\n",
    "    (1953, \"Sarah McLachlan\"),\n",
    "    (2043, \"Tha Eastsidaz\"),\n",
    "    (2206, \"Dallas Brass\"),\n",
    "    (2209, \"Deftones\"),\n",
    "    (2253, \"Sesame Street\"),\n",
    "    (2279, \"Talking Heads\"),\n",
    "    (2306, \"38 Special\"),\n",
    "    (2366, \"Trey Parker\"),\n",
    "    (2371, \"Trin-I-Tee 5:7\"),\n",
    "    (2394, \"UB40\"),\n",
    "    (2401, \"U.S.A. For Africa\"),\n",
    "    (2418, \"VeggieTales\"),\n",
    "    (2426, \"Victoria Justice\"),\n",
    "    (2440, \"Walter Murphy\"),\n",
    "]"
   ]
  },
  {
   "cell_type": "code",
   "execution_count": 125,
   "metadata": {},
   "outputs": [
    {
     "data": {
      "text/plain": [
       "64"
      ]
     },
     "execution_count": 125,
     "metadata": {},
     "output_type": "execute_result"
    }
   ],
   "source": [
    "len(missing_artists) - len(mal)"
   ]
  },
  {
   "cell_type": "markdown",
   "metadata": {},
   "source": [
    "##### Missing Artists Not Included\n",
    "\n",
    "If artists from the `missing_artists` table are not included in the `mal` table, it could be for the following reasons:\n",
    "- Spotify doesn't have the artist\n",
    "- It's a combo of artists, and at least one of them appears elsewhere on the list\n",
    "\n",
    "Based on these, there's a total of 64 artists who were not included in the `mal` table."
   ]
  },
  {
   "cell_type": "markdown",
   "metadata": {},
   "source": [
    "##### Grabbing Found Artists Info"
   ]
  },
  {
   "cell_type": "code",
   "execution_count": 117,
   "metadata": {},
   "outputs": [],
   "source": [
    "found_artists = []\n",
    "for artist in mal:\n",
    "    artist_list = sp.search(artist[1], type='artist')\n",
    "    try:\n",
    "        found_artists.append(artist_list['artists']['items'][0])\n",
    "    except:\n",
    "        found_artists.append('no_results')\n",
    "    time.sleep(0.5)"
   ]
  },
  {
   "cell_type": "code",
   "execution_count": 1,
   "metadata": {},
   "outputs": [],
   "source": [
    "# found_artists[:10]"
   ]
  },
  {
   "cell_type": "code",
   "execution_count": 127,
   "metadata": {},
   "outputs": [],
   "source": [
    "with open('../pickle/found_artists.pkl', 'wb+') as f:\n",
    "    pickle.dump(found_artists, f)"
   ]
  },
  {
   "cell_type": "markdown",
   "metadata": {},
   "source": [
    "##### Checking to Make Sure there's No Missing Results in `found_artists`"
   ]
  },
  {
   "cell_type": "code",
   "execution_count": 122,
   "metadata": {},
   "outputs": [],
   "source": [
    "count = -1\n",
    "index_list = []\n",
    "\n",
    "for artist in list(enumerate(found_artists)):\n",
    "    count += 1\n",
    "    if artist == 'no_results':\n",
    "        index_list.append(count)"
   ]
  },
  {
   "cell_type": "code",
   "execution_count": 123,
   "metadata": {},
   "outputs": [
    {
     "data": {
      "text/plain": [
       "[]"
      ]
     },
     "execution_count": 123,
     "metadata": {},
     "output_type": "execute_result"
    }
   ],
   "source": [
    "index_list"
   ]
  },
  {
   "cell_type": "markdown",
   "metadata": {},
   "source": [
    "#### Creating Dataframe of Full Artist Listing"
   ]
  },
  {
   "cell_type": "code",
   "execution_count": 146,
   "metadata": {},
   "outputs": [
    {
     "data": {
      "text/plain": [
       "['external_urls',\n",
       " 'followers',\n",
       " 'genres',\n",
       " 'href',\n",
       " 'id',\n",
       " 'images',\n",
       " 'name',\n",
       " 'popularity',\n",
       " 'type',\n",
       " 'uri']"
      ]
     },
     "execution_count": 146,
     "metadata": {},
     "output_type": "execute_result"
    }
   ],
   "source": [
    "list(confident_list[0].keys())"
   ]
  },
  {
   "cell_type": "markdown",
   "metadata": {},
   "source": [
    "Passing `confident_list` (Artist list 1 of 2) into a DataFrame by first passing it into a series. This will enable me to keep the current structure, despite the fact the `Dict` values are not of the same length."
   ]
  },
  {
   "cell_type": "code",
   "execution_count": 206,
   "metadata": {},
   "outputs": [],
   "source": [
    "df = pd.DataFrame(pd.Series(confident_list[0]).reset_index()).T"
   ]
  },
  {
   "cell_type": "code",
   "execution_count": 179,
   "metadata": {},
   "outputs": [
    {
     "data": {
      "text/plain": [
       "0    {'spotify': 'https://open.spotify.com/artist/6...\n",
       "1                      {'href': None, 'total': 747136}\n",
       "2    [boy band, dance pop, europop, pop, post-teen ...\n",
       "3    https://api.spotify.com/v1/artists/6Ff53KvcvAj...\n",
       "4                               6Ff53KvcvAj5U7Z1vojB5o\n",
       "5    [{'height': 1173, 'url': 'https://i.scdn.co/im...\n",
       "6                                               *NSYNC\n",
       "7                                                   71\n",
       "8                                               artist\n",
       "9                spotify:artist:6Ff53KvcvAj5U7Z1vojB5o\n",
       "Name: 0, dtype: object"
      ]
     },
     "execution_count": 179,
     "metadata": {},
     "output_type": "execute_result"
    }
   ],
   "source": [
    "pd.Series(confident_list[0]).reset_index().T.iloc[1]"
   ]
  },
  {
   "cell_type": "code",
   "execution_count": 207,
   "metadata": {},
   "outputs": [],
   "source": [
    "count = 0\n",
    "\n",
    "for i in confident_list[1:]:\n",
    "    if isinstance(i, dict):\n",
    "        count += 1\n",
    "        df.loc[count] = pd.Series(i).reset_index().T.iloc[1]\n",
    "    else:\n",
    "        continue"
   ]
  },
  {
   "cell_type": "code",
   "execution_count": 224,
   "metadata": {},
   "outputs": [],
   "source": [
    "df.columns = [\"external_urls\", \"followers\", \"genres\", \"href\", \"id\", \"images\", \"name\", \"popularity\",  \"type\", \"uri\"]"
   ]
  },
  {
   "cell_type": "code",
   "execution_count": 227,
   "metadata": {},
   "outputs": [],
   "source": [
    "df.drop(labels='index', inplace=True)"
   ]
  },
  {
   "cell_type": "code",
   "execution_count": 243,
   "metadata": {},
   "outputs": [
    {
     "data": {
      "text/html": [
       "<div>\n",
       "<style scoped>\n",
       "    .dataframe tbody tr th:only-of-type {\n",
       "        vertical-align: middle;\n",
       "    }\n",
       "\n",
       "    .dataframe tbody tr th {\n",
       "        vertical-align: top;\n",
       "    }\n",
       "\n",
       "    .dataframe thead th {\n",
       "        text-align: right;\n",
       "    }\n",
       "</style>\n",
       "<table border=\"1\" class=\"dataframe\">\n",
       "  <thead>\n",
       "    <tr style=\"text-align: right;\">\n",
       "      <th></th>\n",
       "      <th>external_urls</th>\n",
       "      <th>followers</th>\n",
       "      <th>genres</th>\n",
       "      <th>href</th>\n",
       "      <th>id</th>\n",
       "      <th>images</th>\n",
       "      <th>name</th>\n",
       "      <th>popularity</th>\n",
       "      <th>type</th>\n",
       "      <th>uri</th>\n",
       "    </tr>\n",
       "  </thead>\n",
       "  <tbody>\n",
       "    <tr>\n",
       "      <th>0</th>\n",
       "      <td>{'spotify': 'https://open.spotify.com/artist/6...</td>\n",
       "      <td>{'href': None, 'total': 747136}</td>\n",
       "      <td>[boy band, dance pop, europop, pop, post-teen ...</td>\n",
       "      <td>https://api.spotify.com/v1/artists/6Ff53KvcvAj...</td>\n",
       "      <td>6Ff53KvcvAj5U7Z1vojB5o</td>\n",
       "      <td>[{'height': 1173, 'url': 'https://i.scdn.co/im...</td>\n",
       "      <td>*NSYNC</td>\n",
       "      <td>71</td>\n",
       "      <td>artist</td>\n",
       "      <td>spotify:artist:6Ff53KvcvAj5U7Z1vojB5o</td>\n",
       "    </tr>\n",
       "    <tr>\n",
       "      <th>1</th>\n",
       "      <td>{'spotify': 'https://open.spotify.com/artist/1...</td>\n",
       "      <td>{'href': None, 'total': 337751}</td>\n",
       "      <td>[antiviral pop, comedy rock, comic]</td>\n",
       "      <td>https://api.spotify.com/v1/artists/1bDWGdIC2ha...</td>\n",
       "      <td>1bDWGdIC2hardyt55nlQgG</td>\n",
       "      <td>[{'height': 563, 'url': 'https://i.scdn.co/ima...</td>\n",
       "      <td>\"Weird Al\" Yankovic</td>\n",
       "      <td>59</td>\n",
       "      <td>artist</td>\n",
       "      <td>spotify:artist:1bDWGdIC2hardyt55nlQgG</td>\n",
       "    </tr>\n",
       "    <tr>\n",
       "      <th>2</th>\n",
       "      <td>{'spotify': 'https://open.spotify.com/artist/0...</td>\n",
       "      <td>{'href': None, 'total': 243895}</td>\n",
       "      <td>[alternative metal, nu metal, post-grunge, rap...</td>\n",
       "      <td>https://api.spotify.com/v1/artists/0REMf7H0VP6...</td>\n",
       "      <td>0REMf7H0VP6DwfZ9MbuWph</td>\n",
       "      <td>[{'height': 640, 'url': 'https://i.scdn.co/ima...</td>\n",
       "      <td>10 Years</td>\n",
       "      <td>60</td>\n",
       "      <td>artist</td>\n",
       "      <td>spotify:artist:0REMf7H0VP6DwfZ9MbuWph</td>\n",
       "    </tr>\n",
       "    <tr>\n",
       "      <th>3</th>\n",
       "      <td>{'spotify': 'https://open.spotify.com/artist/0...</td>\n",
       "      <td>{'href': None, 'total': 108829}</td>\n",
       "      <td>[alternative rock, folk, folk-pop, lilith, mel...</td>\n",
       "      <td>https://api.spotify.com/v1/artists/0MBIKH9DjtB...</td>\n",
       "      <td>0MBIKH9DjtBkv8O3nS6szj</td>\n",
       "      <td>[{'height': 640, 'url': 'https://i.scdn.co/ima...</td>\n",
       "      <td>10,000 Maniacs</td>\n",
       "      <td>52</td>\n",
       "      <td>artist</td>\n",
       "      <td>spotify:artist:0MBIKH9DjtBkv8O3nS6szj</td>\n",
       "    </tr>\n",
       "    <tr>\n",
       "      <th>4</th>\n",
       "      <td>{'spotify': 'https://open.spotify.com/artist/7...</td>\n",
       "      <td>{'href': None, 'total': 455231}</td>\n",
       "      <td>[boy band, dance pop, gangster rap, hip hop, h...</td>\n",
       "      <td>https://api.spotify.com/v1/artists/7urq0VfqxEY...</td>\n",
       "      <td>7urq0VfqxEYEEiZUkebXT4</td>\n",
       "      <td>[{'height': 130, 'url': 'https://i.scdn.co/ima...</td>\n",
       "      <td>112</td>\n",
       "      <td>68</td>\n",
       "      <td>artist</td>\n",
       "      <td>spotify:artist:7urq0VfqxEYEEiZUkebXT4</td>\n",
       "    </tr>\n",
       "  </tbody>\n",
       "</table>\n",
       "</div>"
      ],
      "text/plain": [
       "                                       external_urls  \\\n",
       "0  {'spotify': 'https://open.spotify.com/artist/6...   \n",
       "1  {'spotify': 'https://open.spotify.com/artist/1...   \n",
       "2  {'spotify': 'https://open.spotify.com/artist/0...   \n",
       "3  {'spotify': 'https://open.spotify.com/artist/0...   \n",
       "4  {'spotify': 'https://open.spotify.com/artist/7...   \n",
       "\n",
       "                         followers  \\\n",
       "0  {'href': None, 'total': 747136}   \n",
       "1  {'href': None, 'total': 337751}   \n",
       "2  {'href': None, 'total': 243895}   \n",
       "3  {'href': None, 'total': 108829}   \n",
       "4  {'href': None, 'total': 455231}   \n",
       "\n",
       "                                              genres  \\\n",
       "0  [boy band, dance pop, europop, pop, post-teen ...   \n",
       "1                [antiviral pop, comedy rock, comic]   \n",
       "2  [alternative metal, nu metal, post-grunge, rap...   \n",
       "3  [alternative rock, folk, folk-pop, lilith, mel...   \n",
       "4  [boy band, dance pop, gangster rap, hip hop, h...   \n",
       "\n",
       "                                                href                      id  \\\n",
       "0  https://api.spotify.com/v1/artists/6Ff53KvcvAj...  6Ff53KvcvAj5U7Z1vojB5o   \n",
       "1  https://api.spotify.com/v1/artists/1bDWGdIC2ha...  1bDWGdIC2hardyt55nlQgG   \n",
       "2  https://api.spotify.com/v1/artists/0REMf7H0VP6...  0REMf7H0VP6DwfZ9MbuWph   \n",
       "3  https://api.spotify.com/v1/artists/0MBIKH9DjtB...  0MBIKH9DjtBkv8O3nS6szj   \n",
       "4  https://api.spotify.com/v1/artists/7urq0VfqxEY...  7urq0VfqxEYEEiZUkebXT4   \n",
       "\n",
       "                                              images                 name  \\\n",
       "0  [{'height': 1173, 'url': 'https://i.scdn.co/im...               *NSYNC   \n",
       "1  [{'height': 563, 'url': 'https://i.scdn.co/ima...  \"Weird Al\" Yankovic   \n",
       "2  [{'height': 640, 'url': 'https://i.scdn.co/ima...             10 Years   \n",
       "3  [{'height': 640, 'url': 'https://i.scdn.co/ima...       10,000 Maniacs   \n",
       "4  [{'height': 130, 'url': 'https://i.scdn.co/ima...                  112   \n",
       "\n",
       "  popularity    type                                    uri  \n",
       "0         71  artist  spotify:artist:6Ff53KvcvAj5U7Z1vojB5o  \n",
       "1         59  artist  spotify:artist:1bDWGdIC2hardyt55nlQgG  \n",
       "2         60  artist  spotify:artist:0REMf7H0VP6DwfZ9MbuWph  \n",
       "3         52  artist  spotify:artist:0MBIKH9DjtBkv8O3nS6szj  \n",
       "4         68  artist  spotify:artist:7urq0VfqxEYEEiZUkebXT4  "
      ]
     },
     "execution_count": 243,
     "metadata": {},
     "output_type": "execute_result"
    }
   ],
   "source": [
    "df.head()"
   ]
  },
  {
   "cell_type": "code",
   "execution_count": 244,
   "metadata": {},
   "outputs": [
    {
     "data": {
      "text/plain": [
       "external_urls    {'spotify': 'https://open.spotify.com/artist/2...\n",
       "followers                         {'href': None, 'total': 1588912}\n",
       "genres           [album rock, blues-rock, classic rock, hard ro...\n",
       "href             https://api.spotify.com/v1/artists/2AM4ilv6UzW...\n",
       "id                                          2AM4ilv6UzW0uMRuqKtDgN\n",
       "images           [{'height': 1503, 'url': 'https://i.scdn.co/im...\n",
       "name                                                        ZZ Top\n",
       "popularity                                                      69\n",
       "type                                                        artist\n",
       "uri                          spotify:artist:2AM4ilv6UzW0uMRuqKtDgN\n",
       "Name: 2378, dtype: object"
      ]
     },
     "execution_count": 244,
     "metadata": {},
     "output_type": "execute_result"
    }
   ],
   "source": [
    "df.loc[2378]"
   ]
  },
  {
   "cell_type": "markdown",
   "metadata": {},
   "source": [
    "##### Adding `found_artists` into DataFrame"
   ]
  },
  {
   "cell_type": "code",
   "execution_count": 250,
   "metadata": {},
   "outputs": [],
   "source": [
    "df_2 = pd.DataFrame(pd.Series(found_artists[0]).reset_index()).T"
   ]
  },
  {
   "cell_type": "code",
   "execution_count": 251,
   "metadata": {},
   "outputs": [],
   "source": [
    "count = 0\n",
    "\n",
    "for i in found_artists[1:]:\n",
    "    count += 1\n",
    "    df_2.loc[count] = pd.Series(i).reset_index().T.iloc[1]"
   ]
  },
  {
   "cell_type": "code",
   "execution_count": 253,
   "metadata": {},
   "outputs": [],
   "source": [
    "df_2.columns = [\"external_urls\", \"followers\", \"genres\", \"href\", \"id\", \"images\", \"name\", \"popularity\",  \"type\", \"uri\"]"
   ]
  },
  {
   "cell_type": "code",
   "execution_count": 255,
   "metadata": {},
   "outputs": [],
   "source": [
    "df_2.drop(labels='index', inplace=True)"
   ]
  },
  {
   "cell_type": "code",
   "execution_count": 256,
   "metadata": {},
   "outputs": [
    {
     "data": {
      "text/html": [
       "<div>\n",
       "<style scoped>\n",
       "    .dataframe tbody tr th:only-of-type {\n",
       "        vertical-align: middle;\n",
       "    }\n",
       "\n",
       "    .dataframe tbody tr th {\n",
       "        vertical-align: top;\n",
       "    }\n",
       "\n",
       "    .dataframe thead th {\n",
       "        text-align: right;\n",
       "    }\n",
       "</style>\n",
       "<table border=\"1\" class=\"dataframe\">\n",
       "  <thead>\n",
       "    <tr style=\"text-align: right;\">\n",
       "      <th></th>\n",
       "      <th>external_urls</th>\n",
       "      <th>followers</th>\n",
       "      <th>genres</th>\n",
       "      <th>href</th>\n",
       "      <th>id</th>\n",
       "      <th>images</th>\n",
       "      <th>name</th>\n",
       "      <th>popularity</th>\n",
       "      <th>type</th>\n",
       "      <th>uri</th>\n",
       "    </tr>\n",
       "  </thead>\n",
       "  <tbody>\n",
       "    <tr>\n",
       "      <th>0</th>\n",
       "      <td>{'spotify': 'https://open.spotify.com/artist/0...</td>\n",
       "      <td>{'href': None, 'total': 3910}</td>\n",
       "      <td>[]</td>\n",
       "      <td>https://api.spotify.com/v1/artists/0DB192uFo3J...</td>\n",
       "      <td>0DB192uFo3JrMyTLN2mOzz</td>\n",
       "      <td>[{'height': 631, 'url': 'https://i.scdn.co/ima...</td>\n",
       "      <td>2Pac Outlawz</td>\n",
       "      <td>0</td>\n",
       "      <td>artist</td>\n",
       "      <td>spotify:artist:0DB192uFo3JrMyTLN2mOzz</td>\n",
       "    </tr>\n",
       "    <tr>\n",
       "      <th>1</th>\n",
       "      <td>{'spotify': 'https://open.spotify.com/artist/5...</td>\n",
       "      <td>{'href': None, 'total': 243}</td>\n",
       "      <td>[]</td>\n",
       "      <td>https://api.spotify.com/v1/artists/5YLOp0Sy5xu...</td>\n",
       "      <td>5YLOp0Sy5xupNvy9NiopC2</td>\n",
       "      <td>[{'height': 635, 'url': 'https://i.scdn.co/ima...</td>\n",
       "      <td>Minneapolis Symphony Orchestra</td>\n",
       "      <td>28</td>\n",
       "      <td>artist</td>\n",
       "      <td>spotify:artist:5YLOp0Sy5xupNvy9NiopC2</td>\n",
       "    </tr>\n",
       "    <tr>\n",
       "      <th>2</th>\n",
       "      <td>{'spotify': 'https://open.spotify.com/artist/0...</td>\n",
       "      <td>{'href': None, 'total': 112220}</td>\n",
       "      <td>[anti-folk, ectofolk, folk, folk-pop, lilith, ...</td>\n",
       "      <td>https://api.spotify.com/v1/artists/0AiTwNtYX8m...</td>\n",
       "      <td>0AiTwNtYX8m4uhfU7rJ8RD</td>\n",
       "      <td>[{'height': 640, 'url': 'https://i.scdn.co/ima...</td>\n",
       "      <td>Ani DiFranco</td>\n",
       "      <td>52</td>\n",
       "      <td>artist</td>\n",
       "      <td>spotify:artist:0AiTwNtYX8m4uhfU7rJ8RD</td>\n",
       "    </tr>\n",
       "    <tr>\n",
       "      <th>3</th>\n",
       "      <td>{'spotify': 'https://open.spotify.com/artist/5...</td>\n",
       "      <td>{'href': None, 'total': 68019}</td>\n",
       "      <td>[classical, classical performance, orchestral ...</td>\n",
       "      <td>https://api.spotify.com/v1/artists/5zCaQxjl110...</td>\n",
       "      <td>5zCaQxjl110XTrm4LQ1CxY</td>\n",
       "      <td>[{'height': 1226, 'url': 'https://i.scdn.co/im...</td>\n",
       "      <td>Herbert von Karajan</td>\n",
       "      <td>65</td>\n",
       "      <td>artist</td>\n",
       "      <td>spotify:artist:5zCaQxjl110XTrm4LQ1CxY</td>\n",
       "    </tr>\n",
       "    <tr>\n",
       "      <th>4</th>\n",
       "      <td>{'spotify': 'https://open.spotify.com/artist/7...</td>\n",
       "      <td>{'href': None, 'total': 36403}</td>\n",
       "      <td>[dance rock, jangle pop, new romantic, new wav...</td>\n",
       "      <td>https://api.spotify.com/v1/artists/7hqZBHSgDs1...</td>\n",
       "      <td>7hqZBHSgDs1odG9aupMzEI</td>\n",
       "      <td>[{'height': 652, 'url': 'https://i.scdn.co/ima...</td>\n",
       "      <td>Big Audio Dynamite</td>\n",
       "      <td>44</td>\n",
       "      <td>artist</td>\n",
       "      <td>spotify:artist:7hqZBHSgDs1odG9aupMzEI</td>\n",
       "    </tr>\n",
       "  </tbody>\n",
       "</table>\n",
       "</div>"
      ],
      "text/plain": [
       "                                       external_urls  \\\n",
       "0  {'spotify': 'https://open.spotify.com/artist/0...   \n",
       "1  {'spotify': 'https://open.spotify.com/artist/5...   \n",
       "2  {'spotify': 'https://open.spotify.com/artist/0...   \n",
       "3  {'spotify': 'https://open.spotify.com/artist/5...   \n",
       "4  {'spotify': 'https://open.spotify.com/artist/7...   \n",
       "\n",
       "                         followers  \\\n",
       "0    {'href': None, 'total': 3910}   \n",
       "1     {'href': None, 'total': 243}   \n",
       "2  {'href': None, 'total': 112220}   \n",
       "3   {'href': None, 'total': 68019}   \n",
       "4   {'href': None, 'total': 36403}   \n",
       "\n",
       "                                              genres  \\\n",
       "0                                                 []   \n",
       "1                                                 []   \n",
       "2  [anti-folk, ectofolk, folk, folk-pop, lilith, ...   \n",
       "3  [classical, classical performance, orchestral ...   \n",
       "4  [dance rock, jangle pop, new romantic, new wav...   \n",
       "\n",
       "                                                href                      id  \\\n",
       "0  https://api.spotify.com/v1/artists/0DB192uFo3J...  0DB192uFo3JrMyTLN2mOzz   \n",
       "1  https://api.spotify.com/v1/artists/5YLOp0Sy5xu...  5YLOp0Sy5xupNvy9NiopC2   \n",
       "2  https://api.spotify.com/v1/artists/0AiTwNtYX8m...  0AiTwNtYX8m4uhfU7rJ8RD   \n",
       "3  https://api.spotify.com/v1/artists/5zCaQxjl110...  5zCaQxjl110XTrm4LQ1CxY   \n",
       "4  https://api.spotify.com/v1/artists/7hqZBHSgDs1...  7hqZBHSgDs1odG9aupMzEI   \n",
       "\n",
       "                                              images  \\\n",
       "0  [{'height': 631, 'url': 'https://i.scdn.co/ima...   \n",
       "1  [{'height': 635, 'url': 'https://i.scdn.co/ima...   \n",
       "2  [{'height': 640, 'url': 'https://i.scdn.co/ima...   \n",
       "3  [{'height': 1226, 'url': 'https://i.scdn.co/im...   \n",
       "4  [{'height': 652, 'url': 'https://i.scdn.co/ima...   \n",
       "\n",
       "                             name popularity    type  \\\n",
       "0                    2Pac Outlawz          0  artist   \n",
       "1  Minneapolis Symphony Orchestra         28  artist   \n",
       "2                    Ani DiFranco         52  artist   \n",
       "3             Herbert von Karajan         65  artist   \n",
       "4              Big Audio Dynamite         44  artist   \n",
       "\n",
       "                                     uri  \n",
       "0  spotify:artist:0DB192uFo3JrMyTLN2mOzz  \n",
       "1  spotify:artist:5YLOp0Sy5xupNvy9NiopC2  \n",
       "2  spotify:artist:0AiTwNtYX8m4uhfU7rJ8RD  \n",
       "3  spotify:artist:5zCaQxjl110XTrm4LQ1CxY  \n",
       "4  spotify:artist:7hqZBHSgDs1odG9aupMzEI  "
      ]
     },
     "execution_count": 256,
     "metadata": {},
     "output_type": "execute_result"
    }
   ],
   "source": [
    "df_2.head()"
   ]
  },
  {
   "cell_type": "markdown",
   "metadata": {},
   "source": [
    "##### Combining DataFrames"
   ]
  },
  {
   "cell_type": "code",
   "execution_count": 261,
   "metadata": {},
   "outputs": [],
   "source": [
    "df = pd.concat([df, df_2])"
   ]
  },
  {
   "cell_type": "code",
   "execution_count": 266,
   "metadata": {},
   "outputs": [
    {
     "data": {
      "text/html": [
       "<div>\n",
       "<style scoped>\n",
       "    .dataframe tbody tr th:only-of-type {\n",
       "        vertical-align: middle;\n",
       "    }\n",
       "\n",
       "    .dataframe tbody tr th {\n",
       "        vertical-align: top;\n",
       "    }\n",
       "\n",
       "    .dataframe thead th {\n",
       "        text-align: right;\n",
       "    }\n",
       "</style>\n",
       "<table border=\"1\" class=\"dataframe\">\n",
       "  <thead>\n",
       "    <tr style=\"text-align: right;\">\n",
       "      <th></th>\n",
       "      <th>external_urls</th>\n",
       "      <th>followers</th>\n",
       "      <th>genres</th>\n",
       "      <th>href</th>\n",
       "      <th>id</th>\n",
       "      <th>images</th>\n",
       "      <th>name</th>\n",
       "      <th>popularity</th>\n",
       "      <th>type</th>\n",
       "      <th>uri</th>\n",
       "    </tr>\n",
       "  </thead>\n",
       "  <tbody>\n",
       "    <tr>\n",
       "      <th>0</th>\n",
       "      <td>{'spotify': 'https://open.spotify.com/artist/6...</td>\n",
       "      <td>{'href': None, 'total': 747136}</td>\n",
       "      <td>[boy band, dance pop, europop, pop, post-teen ...</td>\n",
       "      <td>https://api.spotify.com/v1/artists/6Ff53KvcvAj...</td>\n",
       "      <td>6Ff53KvcvAj5U7Z1vojB5o</td>\n",
       "      <td>[{'height': 1173, 'url': 'https://i.scdn.co/im...</td>\n",
       "      <td>*NSYNC</td>\n",
       "      <td>71</td>\n",
       "      <td>artist</td>\n",
       "      <td>spotify:artist:6Ff53KvcvAj5U7Z1vojB5o</td>\n",
       "    </tr>\n",
       "    <tr>\n",
       "      <th>1</th>\n",
       "      <td>{'spotify': 'https://open.spotify.com/artist/1...</td>\n",
       "      <td>{'href': None, 'total': 337751}</td>\n",
       "      <td>[antiviral pop, comedy rock, comic]</td>\n",
       "      <td>https://api.spotify.com/v1/artists/1bDWGdIC2ha...</td>\n",
       "      <td>1bDWGdIC2hardyt55nlQgG</td>\n",
       "      <td>[{'height': 563, 'url': 'https://i.scdn.co/ima...</td>\n",
       "      <td>\"Weird Al\" Yankovic</td>\n",
       "      <td>59</td>\n",
       "      <td>artist</td>\n",
       "      <td>spotify:artist:1bDWGdIC2hardyt55nlQgG</td>\n",
       "    </tr>\n",
       "    <tr>\n",
       "      <th>2</th>\n",
       "      <td>{'spotify': 'https://open.spotify.com/artist/0...</td>\n",
       "      <td>{'href': None, 'total': 243895}</td>\n",
       "      <td>[alternative metal, nu metal, post-grunge, rap...</td>\n",
       "      <td>https://api.spotify.com/v1/artists/0REMf7H0VP6...</td>\n",
       "      <td>0REMf7H0VP6DwfZ9MbuWph</td>\n",
       "      <td>[{'height': 640, 'url': 'https://i.scdn.co/ima...</td>\n",
       "      <td>10 Years</td>\n",
       "      <td>60</td>\n",
       "      <td>artist</td>\n",
       "      <td>spotify:artist:0REMf7H0VP6DwfZ9MbuWph</td>\n",
       "    </tr>\n",
       "    <tr>\n",
       "      <th>3</th>\n",
       "      <td>{'spotify': 'https://open.spotify.com/artist/0...</td>\n",
       "      <td>{'href': None, 'total': 108829}</td>\n",
       "      <td>[alternative rock, folk, folk-pop, lilith, mel...</td>\n",
       "      <td>https://api.spotify.com/v1/artists/0MBIKH9DjtB...</td>\n",
       "      <td>0MBIKH9DjtBkv8O3nS6szj</td>\n",
       "      <td>[{'height': 640, 'url': 'https://i.scdn.co/ima...</td>\n",
       "      <td>10,000 Maniacs</td>\n",
       "      <td>52</td>\n",
       "      <td>artist</td>\n",
       "      <td>spotify:artist:0MBIKH9DjtBkv8O3nS6szj</td>\n",
       "    </tr>\n",
       "    <tr>\n",
       "      <th>4</th>\n",
       "      <td>{'spotify': 'https://open.spotify.com/artist/7...</td>\n",
       "      <td>{'href': None, 'total': 455231}</td>\n",
       "      <td>[boy band, dance pop, gangster rap, hip hop, h...</td>\n",
       "      <td>https://api.spotify.com/v1/artists/7urq0VfqxEY...</td>\n",
       "      <td>7urq0VfqxEYEEiZUkebXT4</td>\n",
       "      <td>[{'height': 130, 'url': 'https://i.scdn.co/ima...</td>\n",
       "      <td>112</td>\n",
       "      <td>68</td>\n",
       "      <td>artist</td>\n",
       "      <td>spotify:artist:7urq0VfqxEYEEiZUkebXT4</td>\n",
       "    </tr>\n",
       "  </tbody>\n",
       "</table>\n",
       "</div>"
      ],
      "text/plain": [
       "                                       external_urls  \\\n",
       "0  {'spotify': 'https://open.spotify.com/artist/6...   \n",
       "1  {'spotify': 'https://open.spotify.com/artist/1...   \n",
       "2  {'spotify': 'https://open.spotify.com/artist/0...   \n",
       "3  {'spotify': 'https://open.spotify.com/artist/0...   \n",
       "4  {'spotify': 'https://open.spotify.com/artist/7...   \n",
       "\n",
       "                         followers  \\\n",
       "0  {'href': None, 'total': 747136}   \n",
       "1  {'href': None, 'total': 337751}   \n",
       "2  {'href': None, 'total': 243895}   \n",
       "3  {'href': None, 'total': 108829}   \n",
       "4  {'href': None, 'total': 455231}   \n",
       "\n",
       "                                              genres  \\\n",
       "0  [boy band, dance pop, europop, pop, post-teen ...   \n",
       "1                [antiviral pop, comedy rock, comic]   \n",
       "2  [alternative metal, nu metal, post-grunge, rap...   \n",
       "3  [alternative rock, folk, folk-pop, lilith, mel...   \n",
       "4  [boy band, dance pop, gangster rap, hip hop, h...   \n",
       "\n",
       "                                                href                      id  \\\n",
       "0  https://api.spotify.com/v1/artists/6Ff53KvcvAj...  6Ff53KvcvAj5U7Z1vojB5o   \n",
       "1  https://api.spotify.com/v1/artists/1bDWGdIC2ha...  1bDWGdIC2hardyt55nlQgG   \n",
       "2  https://api.spotify.com/v1/artists/0REMf7H0VP6...  0REMf7H0VP6DwfZ9MbuWph   \n",
       "3  https://api.spotify.com/v1/artists/0MBIKH9DjtB...  0MBIKH9DjtBkv8O3nS6szj   \n",
       "4  https://api.spotify.com/v1/artists/7urq0VfqxEY...  7urq0VfqxEYEEiZUkebXT4   \n",
       "\n",
       "                                              images                 name  \\\n",
       "0  [{'height': 1173, 'url': 'https://i.scdn.co/im...               *NSYNC   \n",
       "1  [{'height': 563, 'url': 'https://i.scdn.co/ima...  \"Weird Al\" Yankovic   \n",
       "2  [{'height': 640, 'url': 'https://i.scdn.co/ima...             10 Years   \n",
       "3  [{'height': 640, 'url': 'https://i.scdn.co/ima...       10,000 Maniacs   \n",
       "4  [{'height': 130, 'url': 'https://i.scdn.co/ima...                  112   \n",
       "\n",
       "  popularity    type                                    uri  \n",
       "0         71  artist  spotify:artist:6Ff53KvcvAj5U7Z1vojB5o  \n",
       "1         59  artist  spotify:artist:1bDWGdIC2hardyt55nlQgG  \n",
       "2         60  artist  spotify:artist:0REMf7H0VP6DwfZ9MbuWph  \n",
       "3         52  artist  spotify:artist:0MBIKH9DjtBkv8O3nS6szj  \n",
       "4         68  artist  spotify:artist:7urq0VfqxEYEEiZUkebXT4  "
      ]
     },
     "execution_count": 266,
     "metadata": {},
     "output_type": "execute_result"
    }
   ],
   "source": [
    "df.head()"
   ]
  },
  {
   "cell_type": "code",
   "execution_count": null,
   "metadata": {},
   "outputs": [],
   "source": [
    "df.dropna(inplace=True)"
   ]
  },
  {
   "cell_type": "code",
   "execution_count": 398,
   "metadata": {},
   "outputs": [],
   "source": [
    "df.to_csv('../data/spotify_artists_unclean.csv')"
   ]
  },
  {
   "cell_type": "markdown",
   "metadata": {},
   "source": [
    "#### Cleaning Up DataFrame"
   ]
  },
  {
   "cell_type": "code",
   "execution_count": 293,
   "metadata": {},
   "outputs": [
    {
     "data": {
      "text/plain": [
       "747136"
      ]
     },
     "execution_count": 293,
     "metadata": {},
     "output_type": "execute_result"
    }
   ],
   "source": [
    "di = {'href': None, 'total': 747136}\n",
    "list(di.values())[1]"
   ]
  },
  {
   "cell_type": "code",
   "execution_count": 386,
   "metadata": {},
   "outputs": [
    {
     "data": {
      "text/plain": [
       "337751"
      ]
     },
     "execution_count": 386,
     "metadata": {},
     "output_type": "execute_result"
    }
   ],
   "source": [
    "list(df['followers'].iloc[1].values())[1]"
   ]
  },
  {
   "cell_type": "code",
   "execution_count": 392,
   "metadata": {},
   "outputs": [],
   "source": [
    "followers = []\n",
    "\n",
    "for i in df['followers']:\n",
    "    for k, v in i.items():\n",
    "        if isinstance(v, int):\n",
    "            followers.append(v)"
   ]
  },
  {
   "cell_type": "code",
   "execution_count": 395,
   "metadata": {},
   "outputs": [],
   "source": [
    "df['followers_2'] = followers"
   ]
  },
  {
   "cell_type": "code",
   "execution_count": 397,
   "metadata": {},
   "outputs": [
    {
     "data": {
      "text/html": [
       "<div>\n",
       "<style scoped>\n",
       "    .dataframe tbody tr th:only-of-type {\n",
       "        vertical-align: middle;\n",
       "    }\n",
       "\n",
       "    .dataframe tbody tr th {\n",
       "        vertical-align: top;\n",
       "    }\n",
       "\n",
       "    .dataframe thead th {\n",
       "        text-align: right;\n",
       "    }\n",
       "</style>\n",
       "<table border=\"1\" class=\"dataframe\">\n",
       "  <thead>\n",
       "    <tr style=\"text-align: right;\">\n",
       "      <th></th>\n",
       "      <th>external_urls</th>\n",
       "      <th>followers</th>\n",
       "      <th>genres</th>\n",
       "      <th>href</th>\n",
       "      <th>id</th>\n",
       "      <th>images</th>\n",
       "      <th>name</th>\n",
       "      <th>popularity</th>\n",
       "      <th>type</th>\n",
       "      <th>uri</th>\n",
       "      <th>followers_2</th>\n",
       "    </tr>\n",
       "  </thead>\n",
       "  <tbody>\n",
       "    <tr>\n",
       "      <th>2445</th>\n",
       "      <td>{'spotify': 'https://open.spotify.com/artist/6...</td>\n",
       "      <td>{'href': None, 'total': 1002136}</td>\n",
       "      <td>[reggae fusion, uk reggae]</td>\n",
       "      <td>https://api.spotify.com/v1/artists/69MEO1AADKg...</td>\n",
       "      <td>69MEO1AADKg1IZrq2XLzo5</td>\n",
       "      <td>[{'height': 640, 'url': 'https://i.scdn.co/ima...</td>\n",
       "      <td>UB40</td>\n",
       "      <td>70</td>\n",
       "      <td>artist</td>\n",
       "      <td>spotify:artist:69MEO1AADKg1IZrq2XLzo5</td>\n",
       "      <td>1002136</td>\n",
       "    </tr>\n",
       "    <tr>\n",
       "      <th>2446</th>\n",
       "      <td>{'spotify': 'https://open.spotify.com/artist/7...</td>\n",
       "      <td>{'href': None, 'total': 5601}</td>\n",
       "      <td>[]</td>\n",
       "      <td>https://api.spotify.com/v1/artists/7sF6m3PpW6G...</td>\n",
       "      <td>7sF6m3PpW6G6m6J2gzzmzM</td>\n",
       "      <td>[{'height': 640, 'url': 'https://i.scdn.co/ima...</td>\n",
       "      <td>U.S.A. For Africa</td>\n",
       "      <td>50</td>\n",
       "      <td>artist</td>\n",
       "      <td>spotify:artist:7sF6m3PpW6G6m6J2gzzmzM</td>\n",
       "      <td>5601</td>\n",
       "    </tr>\n",
       "    <tr>\n",
       "      <th>2447</th>\n",
       "      <td>{'spotify': 'https://open.spotify.com/artist/4...</td>\n",
       "      <td>{'href': None, 'total': 34111}</td>\n",
       "      <td>[children's music]</td>\n",
       "      <td>https://api.spotify.com/v1/artists/4QKx7KohkWZ...</td>\n",
       "      <td>4QKx7KohkWZAOkO4sI3GRx</td>\n",
       "      <td>[{'height': 640, 'url': 'https://i.scdn.co/ima...</td>\n",
       "      <td>VeggieTales</td>\n",
       "      <td>52</td>\n",
       "      <td>artist</td>\n",
       "      <td>spotify:artist:4QKx7KohkWZAOkO4sI3GRx</td>\n",
       "      <td>34111</td>\n",
       "    </tr>\n",
       "    <tr>\n",
       "      <th>2448</th>\n",
       "      <td>{'spotify': 'https://open.spotify.com/artist/2...</td>\n",
       "      <td>{'href': None, 'total': 358737}</td>\n",
       "      <td>[post-teen pop]</td>\n",
       "      <td>https://api.spotify.com/v1/artists/2OTfr6S2kuH...</td>\n",
       "      <td>2OTfr6S2kuHRYStjt1IkY6</td>\n",
       "      <td>[{'height': 640, 'url': 'https://i.scdn.co/ima...</td>\n",
       "      <td>Victoria Justice</td>\n",
       "      <td>62</td>\n",
       "      <td>artist</td>\n",
       "      <td>spotify:artist:2OTfr6S2kuHRYStjt1IkY6</td>\n",
       "      <td>358737</td>\n",
       "    </tr>\n",
       "    <tr>\n",
       "      <th>2449</th>\n",
       "      <td>{'spotify': 'https://open.spotify.com/artist/7...</td>\n",
       "      <td>{'href': None, 'total': 4384}</td>\n",
       "      <td>[disco]</td>\n",
       "      <td>https://api.spotify.com/v1/artists/73JBR5s2PVv...</td>\n",
       "      <td>73JBR5s2PVvUjGu6tIqjqx</td>\n",
       "      <td>[{'height': 640, 'url': 'https://i.scdn.co/ima...</td>\n",
       "      <td>Walter Murphy</td>\n",
       "      <td>37</td>\n",
       "      <td>artist</td>\n",
       "      <td>spotify:artist:73JBR5s2PVvUjGu6tIqjqx</td>\n",
       "      <td>4384</td>\n",
       "    </tr>\n",
       "  </tbody>\n",
       "</table>\n",
       "</div>"
      ],
      "text/plain": [
       "                                          external_urls  \\\n",
       "2445  {'spotify': 'https://open.spotify.com/artist/6...   \n",
       "2446  {'spotify': 'https://open.spotify.com/artist/7...   \n",
       "2447  {'spotify': 'https://open.spotify.com/artist/4...   \n",
       "2448  {'spotify': 'https://open.spotify.com/artist/2...   \n",
       "2449  {'spotify': 'https://open.spotify.com/artist/7...   \n",
       "\n",
       "                             followers                      genres  \\\n",
       "2445  {'href': None, 'total': 1002136}  [reggae fusion, uk reggae]   \n",
       "2446     {'href': None, 'total': 5601}                          []   \n",
       "2447    {'href': None, 'total': 34111}          [children's music]   \n",
       "2448   {'href': None, 'total': 358737}             [post-teen pop]   \n",
       "2449     {'href': None, 'total': 4384}                     [disco]   \n",
       "\n",
       "                                                   href  \\\n",
       "2445  https://api.spotify.com/v1/artists/69MEO1AADKg...   \n",
       "2446  https://api.spotify.com/v1/artists/7sF6m3PpW6G...   \n",
       "2447  https://api.spotify.com/v1/artists/4QKx7KohkWZ...   \n",
       "2448  https://api.spotify.com/v1/artists/2OTfr6S2kuH...   \n",
       "2449  https://api.spotify.com/v1/artists/73JBR5s2PVv...   \n",
       "\n",
       "                          id  \\\n",
       "2445  69MEO1AADKg1IZrq2XLzo5   \n",
       "2446  7sF6m3PpW6G6m6J2gzzmzM   \n",
       "2447  4QKx7KohkWZAOkO4sI3GRx   \n",
       "2448  2OTfr6S2kuHRYStjt1IkY6   \n",
       "2449  73JBR5s2PVvUjGu6tIqjqx   \n",
       "\n",
       "                                                 images               name  \\\n",
       "2445  [{'height': 640, 'url': 'https://i.scdn.co/ima...               UB40   \n",
       "2446  [{'height': 640, 'url': 'https://i.scdn.co/ima...  U.S.A. For Africa   \n",
       "2447  [{'height': 640, 'url': 'https://i.scdn.co/ima...        VeggieTales   \n",
       "2448  [{'height': 640, 'url': 'https://i.scdn.co/ima...   Victoria Justice   \n",
       "2449  [{'height': 640, 'url': 'https://i.scdn.co/ima...      Walter Murphy   \n",
       "\n",
       "     popularity    type                                    uri  followers_2  \n",
       "2445         70  artist  spotify:artist:69MEO1AADKg1IZrq2XLzo5      1002136  \n",
       "2446         50  artist  spotify:artist:7sF6m3PpW6G6m6J2gzzmzM         5601  \n",
       "2447         52  artist  spotify:artist:4QKx7KohkWZAOkO4sI3GRx        34111  \n",
       "2448         62  artist  spotify:artist:2OTfr6S2kuHRYStjt1IkY6       358737  \n",
       "2449         37  artist  spotify:artist:73JBR5s2PVvUjGu6tIqjqx         4384  "
      ]
     },
     "execution_count": 397,
     "metadata": {},
     "output_type": "execute_result"
    }
   ],
   "source": [
    "df.tail()"
   ]
  },
  {
   "cell_type": "code",
   "execution_count": 400,
   "metadata": {},
   "outputs": [],
   "source": [
    "df.drop('followers', axis=1, inplace=True)"
   ]
  },
  {
   "cell_type": "code",
   "execution_count": 406,
   "metadata": {},
   "outputs": [],
   "source": [
    "df.to_csv('../data/spotify_artists_clean.csv')"
   ]
  },
  {
   "cell_type": "markdown",
   "metadata": {},
   "source": [
    "### Checking for Non-Music"
   ]
  },
  {
   "cell_type": "markdown",
   "metadata": {},
   "source": [
    "#### Checking for Comedians"
   ]
  },
  {
   "cell_type": "code",
   "execution_count": 452,
   "metadata": {},
   "outputs": [],
   "source": [
    "# for genres in df['genres']:\n",
    "#     if \n",
    "\n",
    "series = df['genres'].apply(lambda x: x if 'comedy' in x else type(None))"
   ]
  },
  {
   "cell_type": "markdown",
   "metadata": {},
   "source": [
    "### Grabbing Tracks For Each Artist"
   ]
  },
  {
   "cell_type": "code",
   "execution_count": 268,
   "metadata": {},
   "outputs": [],
   "source": [
    "nsync = sp.artist_top_tracks('6Ff53KvcvAj5U7Z1vojB5o')"
   ]
  },
  {
   "cell_type": "code",
   "execution_count": 14,
   "metadata": {},
   "outputs": [],
   "source": [
    "song_list = []\n",
    "\n",
    "for aid in df['id']:\n",
    "    try:\n",
    "        song_list.append(sp.artist_top_tracks(aid))\n",
    "    except:\n",
    "        song_list.append('no_results')\n",
    "    time.sleep(1)"
   ]
  },
  {
   "cell_type": "markdown",
   "metadata": {},
   "source": [
    "##### Checking Results"
   ]
  },
  {
   "cell_type": "code",
   "execution_count": 281,
   "metadata": {},
   "outputs": [
    {
     "data": {
      "text/plain": [
       "2450"
      ]
     },
     "execution_count": 281,
     "metadata": {},
     "output_type": "execute_result"
    }
   ],
   "source": [
    "len(song_list)"
   ]
  },
  {
   "cell_type": "code",
   "execution_count": 282,
   "metadata": {},
   "outputs": [],
   "source": [
    "count = -1\n",
    "index_list = []\n",
    "\n",
    "for artist in list(enumerate(song_list)):\n",
    "    count += 1\n",
    "    if artist == 'no_results':\n",
    "        index_list.append(count)"
   ]
  },
  {
   "cell_type": "code",
   "execution_count": 283,
   "metadata": {},
   "outputs": [
    {
     "data": {
      "text/plain": [
       "[]"
      ]
     },
     "execution_count": 283,
     "metadata": {},
     "output_type": "execute_result"
    }
   ],
   "source": [
    "index_list"
   ]
  },
  {
   "cell_type": "code",
   "execution_count": 29,
   "metadata": {},
   "outputs": [
    {
     "data": {
      "text/plain": [
       "{'tracks': [{'album': {'album_type': 'album',\n",
       "    'artists': [{'external_urls': {'spotify': 'https://open.spotify.com/artist/6Ff53KvcvAj5U7Z1vojB5o'},\n",
       "      'href': 'https://api.spotify.com/v1/artists/6Ff53KvcvAj5U7Z1vojB5o',\n",
       "      'id': '6Ff53KvcvAj5U7Z1vojB5o',\n",
       "      'name': '*NSYNC',\n",
       "      'type': 'artist',\n",
       "      'uri': 'spotify:artist:6Ff53KvcvAj5U7Z1vojB5o'}],\n",
       "    'external_urls': {'spotify': 'https://open.spotify.com/album/20RMokVwJ2wjQ0s8FOdOFC'},\n",
       "    'href': 'https://api.spotify.com/v1/albums/20RMokVwJ2wjQ0s8FOdOFC',\n",
       "    'id': '20RMokVwJ2wjQ0s8FOdOFC',\n",
       "    'images': [{'height': 640,\n",
       "      'url': 'https://i.scdn.co/image/b8c18208ed80713b9a3aff54125adecb4590ccae',\n",
       "      'width': 637},\n",
       "     {'height': 300,\n",
       "      'url': 'https://i.scdn.co/image/4dcfb3d01ff2c4e2a3f2eb93886f5940f13ef8fe',\n",
       "      'width': 299},\n",
       "     {'height': 64,\n",
       "      'url': 'https://i.scdn.co/image/78e96b89b97c1af5344c4312a7d497ac8698d42c',\n",
       "      'width': 64}],\n",
       "    'name': 'No Strings Attached',\n",
       "    'release_date': '2000-03-21',\n",
       "    'release_date_precision': 'day',\n",
       "    'total_tracks': 12,\n",
       "    'type': 'album',\n",
       "    'uri': 'spotify:album:20RMokVwJ2wjQ0s8FOdOFC'},\n",
       "   'artists': [{'external_urls': {'spotify': 'https://open.spotify.com/artist/6Ff53KvcvAj5U7Z1vojB5o'},\n",
       "     'href': 'https://api.spotify.com/v1/artists/6Ff53KvcvAj5U7Z1vojB5o',\n",
       "     'id': '6Ff53KvcvAj5U7Z1vojB5o',\n",
       "     'name': '*NSYNC',\n",
       "     'type': 'artist',\n",
       "     'uri': 'spotify:artist:6Ff53KvcvAj5U7Z1vojB5o'}],\n",
       "   'disc_number': 1,\n",
       "   'duration_ms': 200400,\n",
       "   'explicit': False,\n",
       "   'external_ids': {'isrc': 'USJI10000001'},\n",
       "   'external_urls': {'spotify': 'https://open.spotify.com/track/62bOmKYxYg7dhrC6gH9vFn'},\n",
       "   'href': 'https://api.spotify.com/v1/tracks/62bOmKYxYg7dhrC6gH9vFn',\n",
       "   'id': '62bOmKYxYg7dhrC6gH9vFn',\n",
       "   'is_local': False,\n",
       "   'is_playable': True,\n",
       "   'name': 'Bye Bye Bye',\n",
       "   'popularity': 71,\n",
       "   'preview_url': 'https://p.scdn.co/mp3-preview/72b91cb27fac7beb50a2deffdd8b821fba5ba950?cid=2414300dd5be4a3cb0e9d83ecebe3964',\n",
       "   'track_number': 1,\n",
       "   'type': 'track',\n",
       "   'uri': 'spotify:track:62bOmKYxYg7dhrC6gH9vFn'},\n",
       "  {'album': {'album_type': 'album',\n",
       "    'artists': [{'external_urls': {'spotify': 'https://open.spotify.com/artist/6Ff53KvcvAj5U7Z1vojB5o'},\n",
       "      'href': 'https://api.spotify.com/v1/artists/6Ff53KvcvAj5U7Z1vojB5o',\n",
       "      'id': '6Ff53KvcvAj5U7Z1vojB5o',\n",
       "      'name': '*NSYNC',\n",
       "      'type': 'artist',\n",
       "      'uri': 'spotify:artist:6Ff53KvcvAj5U7Z1vojB5o'}],\n",
       "    'external_urls': {'spotify': 'https://open.spotify.com/album/20RMokVwJ2wjQ0s8FOdOFC'},\n",
       "    'href': 'https://api.spotify.com/v1/albums/20RMokVwJ2wjQ0s8FOdOFC',\n",
       "    'id': '20RMokVwJ2wjQ0s8FOdOFC',\n",
       "    'images': [{'height': 640,\n",
       "      'url': 'https://i.scdn.co/image/b8c18208ed80713b9a3aff54125adecb4590ccae',\n",
       "      'width': 637},\n",
       "     {'height': 300,\n",
       "      'url': 'https://i.scdn.co/image/4dcfb3d01ff2c4e2a3f2eb93886f5940f13ef8fe',\n",
       "      'width': 299},\n",
       "     {'height': 64,\n",
       "      'url': 'https://i.scdn.co/image/78e96b89b97c1af5344c4312a7d497ac8698d42c',\n",
       "      'width': 64}],\n",
       "    'name': 'No Strings Attached',\n",
       "    'release_date': '2000-03-21',\n",
       "    'release_date_precision': 'day',\n",
       "    'total_tracks': 12,\n",
       "    'type': 'album',\n",
       "    'uri': 'spotify:album:20RMokVwJ2wjQ0s8FOdOFC'},\n",
       "   'artists': [{'external_urls': {'spotify': 'https://open.spotify.com/artist/6Ff53KvcvAj5U7Z1vojB5o'},\n",
       "     'href': 'https://api.spotify.com/v1/artists/6Ff53KvcvAj5U7Z1vojB5o',\n",
       "     'id': '6Ff53KvcvAj5U7Z1vojB5o',\n",
       "     'name': '*NSYNC',\n",
       "     'type': 'artist',\n",
       "     'uri': 'spotify:artist:6Ff53KvcvAj5U7Z1vojB5o'}],\n",
       "   'disc_number': 1,\n",
       "   'duration_ms': 284760,\n",
       "   'explicit': False,\n",
       "   'external_ids': {'isrc': 'USJI10000047'},\n",
       "   'external_urls': {'spotify': 'https://open.spotify.com/track/46n2EGFnPC3tzWCN1Aqe26'},\n",
       "   'href': 'https://api.spotify.com/v1/tracks/46n2EGFnPC3tzWCN1Aqe26',\n",
       "   'id': '46n2EGFnPC3tzWCN1Aqe26',\n",
       "   'is_local': False,\n",
       "   'is_playable': True,\n",
       "   'name': 'This I Promise You',\n",
       "   'popularity': 68,\n",
       "   'preview_url': 'https://p.scdn.co/mp3-preview/de9b81203d3bba45524a272906701c16ad775daf?cid=2414300dd5be4a3cb0e9d83ecebe3964',\n",
       "   'track_number': 6,\n",
       "   'type': 'track',\n",
       "   'uri': 'spotify:track:46n2EGFnPC3tzWCN1Aqe26'},\n",
       "  {'album': {'album_type': 'album',\n",
       "    'artists': [{'external_urls': {'spotify': 'https://open.spotify.com/artist/6Ff53KvcvAj5U7Z1vojB5o'},\n",
       "      'href': 'https://api.spotify.com/v1/artists/6Ff53KvcvAj5U7Z1vojB5o',\n",
       "      'id': '6Ff53KvcvAj5U7Z1vojB5o',\n",
       "      'name': '*NSYNC',\n",
       "      'type': 'artist',\n",
       "      'uri': 'spotify:artist:6Ff53KvcvAj5U7Z1vojB5o'}],\n",
       "    'external_urls': {'spotify': 'https://open.spotify.com/album/20RMokVwJ2wjQ0s8FOdOFC'},\n",
       "    'href': 'https://api.spotify.com/v1/albums/20RMokVwJ2wjQ0s8FOdOFC',\n",
       "    'id': '20RMokVwJ2wjQ0s8FOdOFC',\n",
       "    'images': [{'height': 640,\n",
       "      'url': 'https://i.scdn.co/image/b8c18208ed80713b9a3aff54125adecb4590ccae',\n",
       "      'width': 637},\n",
       "     {'height': 300,\n",
       "      'url': 'https://i.scdn.co/image/4dcfb3d01ff2c4e2a3f2eb93886f5940f13ef8fe',\n",
       "      'width': 299},\n",
       "     {'height': 64,\n",
       "      'url': 'https://i.scdn.co/image/78e96b89b97c1af5344c4312a7d497ac8698d42c',\n",
       "      'width': 64}],\n",
       "    'name': 'No Strings Attached',\n",
       "    'release_date': '2000-03-21',\n",
       "    'release_date_precision': 'day',\n",
       "    'total_tracks': 12,\n",
       "    'type': 'album',\n",
       "    'uri': 'spotify:album:20RMokVwJ2wjQ0s8FOdOFC'},\n",
       "   'artists': [{'external_urls': {'spotify': 'https://open.spotify.com/artist/6Ff53KvcvAj5U7Z1vojB5o'},\n",
       "     'href': 'https://api.spotify.com/v1/artists/6Ff53KvcvAj5U7Z1vojB5o',\n",
       "     'id': '6Ff53KvcvAj5U7Z1vojB5o',\n",
       "     'name': '*NSYNC',\n",
       "     'type': 'artist',\n",
       "     'uri': 'spotify:artist:6Ff53KvcvAj5U7Z1vojB5o'}],\n",
       "   'disc_number': 1,\n",
       "   'duration_ms': 192426,\n",
       "   'explicit': False,\n",
       "   'external_ids': {'isrc': 'USJI10000043'},\n",
       "   'external_urls': {'spotify': 'https://open.spotify.com/track/2AW37v0bDyuOzGP3XnmFuA'},\n",
       "   'href': 'https://api.spotify.com/v1/tracks/2AW37v0bDyuOzGP3XnmFuA',\n",
       "   'id': '2AW37v0bDyuOzGP3XnmFuA',\n",
       "   'is_local': False,\n",
       "   'is_playable': True,\n",
       "   'name': \"It's Gonna Be Me\",\n",
       "   'popularity': 65,\n",
       "   'preview_url': 'https://p.scdn.co/mp3-preview/b3d911caaa86d803886669dfb939f1940a8d99f5?cid=2414300dd5be4a3cb0e9d83ecebe3964',\n",
       "   'track_number': 2,\n",
       "   'type': 'track',\n",
       "   'uri': 'spotify:track:2AW37v0bDyuOzGP3XnmFuA'},\n",
       "  {'album': {'album_type': 'album',\n",
       "    'artists': [{'external_urls': {'spotify': 'https://open.spotify.com/artist/6Ff53KvcvAj5U7Z1vojB5o'},\n",
       "      'href': 'https://api.spotify.com/v1/artists/6Ff53KvcvAj5U7Z1vojB5o',\n",
       "      'id': '6Ff53KvcvAj5U7Z1vojB5o',\n",
       "      'name': '*NSYNC',\n",
       "      'type': 'artist',\n",
       "      'uri': 'spotify:artist:6Ff53KvcvAj5U7Z1vojB5o'}],\n",
       "    'external_urls': {'spotify': 'https://open.spotify.com/album/0CADmCXbIx4F9m6TBwLtFd'},\n",
       "    'href': 'https://api.spotify.com/v1/albums/0CADmCXbIx4F9m6TBwLtFd',\n",
       "    'id': '0CADmCXbIx4F9m6TBwLtFd',\n",
       "    'images': [{'height': 634,\n",
       "      'url': 'https://i.scdn.co/image/7a79e70614c4726bdc240154d77a3009a7258f1c',\n",
       "      'width': 640},\n",
       "     {'height': 297,\n",
       "      'url': 'https://i.scdn.co/image/59b894f714fbc753925646bedcc6e7510de1b538',\n",
       "      'width': 300},\n",
       "     {'height': 63,\n",
       "      'url': 'https://i.scdn.co/image/b47f37c30dde7630dbfbbb6a5044320ef1c4c7b4',\n",
       "      'width': 64}],\n",
       "    'name': \"'N Sync\",\n",
       "    'release_date': '1997-05-26',\n",
       "    'release_date_precision': 'day',\n",
       "    'total_tracks': 13,\n",
       "    'type': 'album',\n",
       "    'uri': 'spotify:album:0CADmCXbIx4F9m6TBwLtFd'},\n",
       "   'artists': [{'external_urls': {'spotify': 'https://open.spotify.com/artist/6Ff53KvcvAj5U7Z1vojB5o'},\n",
       "     'href': 'https://api.spotify.com/v1/artists/6Ff53KvcvAj5U7Z1vojB5o',\n",
       "     'id': '6Ff53KvcvAj5U7Z1vojB5o',\n",
       "     'name': '*NSYNC',\n",
       "     'type': 'artist',\n",
       "     'uri': 'spotify:artist:6Ff53KvcvAj5U7Z1vojB5o'}],\n",
       "   'disc_number': 1,\n",
       "   'duration_ms': 211000,\n",
       "   'explicit': False,\n",
       "   'external_ids': {'isrc': 'DEA819700002'},\n",
       "   'external_urls': {'spotify': 'https://open.spotify.com/track/594M0rqYMOo8BhMGEdoi5C'},\n",
       "   'href': 'https://api.spotify.com/v1/tracks/594M0rqYMOo8BhMGEdoi5C',\n",
       "   'id': '594M0rqYMOo8BhMGEdoi5C',\n",
       "   'is_local': False,\n",
       "   'is_playable': True,\n",
       "   'name': \"Tearin' up My Heart - Radio Edit\",\n",
       "   'popularity': 64,\n",
       "   'preview_url': 'https://p.scdn.co/mp3-preview/b179e4171207a90d3f0d52b307cd7ff5d2ed4df5?cid=2414300dd5be4a3cb0e9d83ecebe3964',\n",
       "   'track_number': 1,\n",
       "   'type': 'track',\n",
       "   'uri': 'spotify:track:594M0rqYMOo8BhMGEdoi5C'},\n",
       "  {'album': {'album_type': 'album',\n",
       "    'artists': [{'external_urls': {'spotify': 'https://open.spotify.com/artist/6Ff53KvcvAj5U7Z1vojB5o'},\n",
       "      'href': 'https://api.spotify.com/v1/artists/6Ff53KvcvAj5U7Z1vojB5o',\n",
       "      'id': '6Ff53KvcvAj5U7Z1vojB5o',\n",
       "      'name': '*NSYNC',\n",
       "      'type': 'artist',\n",
       "      'uri': 'spotify:artist:6Ff53KvcvAj5U7Z1vojB5o'}],\n",
       "    'external_urls': {'spotify': 'https://open.spotify.com/album/7zBue2Vuzg4Z3ncRXaIkJg'},\n",
       "    'href': 'https://api.spotify.com/v1/albums/7zBue2Vuzg4Z3ncRXaIkJg',\n",
       "    'id': '7zBue2Vuzg4Z3ncRXaIkJg',\n",
       "    'images': [{'height': 640,\n",
       "      'url': 'https://i.scdn.co/image/012b205d215b738c1b8d47597d86dfd30975abbb',\n",
       "      'width': 640},\n",
       "     {'height': 300,\n",
       "      'url': 'https://i.scdn.co/image/a0560b4341feced5e38452db1624d62b2334c4ea',\n",
       "      'width': 300},\n",
       "     {'height': 64,\n",
       "      'url': 'https://i.scdn.co/image/c4e895740ca4120877c3705dc8d989d9ad813825',\n",
       "      'width': 64}],\n",
       "    'name': 'Celebrity',\n",
       "    'release_date': '2001-07-24',\n",
       "    'release_date_precision': 'day',\n",
       "    'total_tracks': 13,\n",
       "    'type': 'album',\n",
       "    'uri': 'spotify:album:7zBue2Vuzg4Z3ncRXaIkJg'},\n",
       "   'artists': [{'external_urls': {'spotify': 'https://open.spotify.com/artist/6Ff53KvcvAj5U7Z1vojB5o'},\n",
       "     'href': 'https://api.spotify.com/v1/artists/6Ff53KvcvAj5U7Z1vojB5o',\n",
       "     'id': '6Ff53KvcvAj5U7Z1vojB5o',\n",
       "     'name': '*NSYNC',\n",
       "     'type': 'artist',\n",
       "     'uri': 'spotify:artist:6Ff53KvcvAj5U7Z1vojB5o'}],\n",
       "   'disc_number': 1,\n",
       "   'duration_ms': 238426,\n",
       "   'explicit': False,\n",
       "   'external_ids': {'isrc': 'USJI10100205'},\n",
       "   'external_urls': {'spotify': 'https://open.spotify.com/track/0Jc8qF1mUPo1A96HE9QxZz'},\n",
       "   'href': 'https://api.spotify.com/v1/tracks/0Jc8qF1mUPo1A96HE9QxZz',\n",
       "   'id': '0Jc8qF1mUPo1A96HE9QxZz',\n",
       "   'is_local': False,\n",
       "   'is_playable': True,\n",
       "   'name': 'Pop',\n",
       "   'popularity': 56,\n",
       "   'preview_url': 'https://p.scdn.co/mp3-preview/8ab4f22f60d0fec23d2c05186984e6cb5d7a2142?cid=2414300dd5be4a3cb0e9d83ecebe3964',\n",
       "   'track_number': 1,\n",
       "   'type': 'track',\n",
       "   'uri': 'spotify:track:0Jc8qF1mUPo1A96HE9QxZz'},\n",
       "  {'album': {'album_type': 'album',\n",
       "    'artists': [{'external_urls': {'spotify': 'https://open.spotify.com/artist/6Ff53KvcvAj5U7Z1vojB5o'},\n",
       "      'href': 'https://api.spotify.com/v1/artists/6Ff53KvcvAj5U7Z1vojB5o',\n",
       "      'id': '6Ff53KvcvAj5U7Z1vojB5o',\n",
       "      'name': '*NSYNC',\n",
       "      'type': 'artist',\n",
       "      'uri': 'spotify:artist:6Ff53KvcvAj5U7Z1vojB5o'}],\n",
       "    'external_urls': {'spotify': 'https://open.spotify.com/album/0CADmCXbIx4F9m6TBwLtFd'},\n",
       "    'href': 'https://api.spotify.com/v1/albums/0CADmCXbIx4F9m6TBwLtFd',\n",
       "    'id': '0CADmCXbIx4F9m6TBwLtFd',\n",
       "    'images': [{'height': 634,\n",
       "      'url': 'https://i.scdn.co/image/7a79e70614c4726bdc240154d77a3009a7258f1c',\n",
       "      'width': 640},\n",
       "     {'height': 297,\n",
       "      'url': 'https://i.scdn.co/image/59b894f714fbc753925646bedcc6e7510de1b538',\n",
       "      'width': 300},\n",
       "     {'height': 63,\n",
       "      'url': 'https://i.scdn.co/image/b47f37c30dde7630dbfbbb6a5044320ef1c4c7b4',\n",
       "      'width': 64}],\n",
       "    'name': \"'N Sync\",\n",
       "    'release_date': '1997-05-26',\n",
       "    'release_date_precision': 'day',\n",
       "    'total_tracks': 13,\n",
       "    'type': 'album',\n",
       "    'uri': 'spotify:album:0CADmCXbIx4F9m6TBwLtFd'},\n",
       "   'artists': [{'external_urls': {'spotify': 'https://open.spotify.com/artist/6Ff53KvcvAj5U7Z1vojB5o'},\n",
       "     'href': 'https://api.spotify.com/v1/artists/6Ff53KvcvAj5U7Z1vojB5o',\n",
       "     'id': '6Ff53KvcvAj5U7Z1vojB5o',\n",
       "     'name': '*NSYNC',\n",
       "     'type': 'artist',\n",
       "     'uri': 'spotify:artist:6Ff53KvcvAj5U7Z1vojB5o'}],\n",
       "   'disc_number': 1,\n",
       "   'duration_ms': 202106,\n",
       "   'explicit': False,\n",
       "   'external_ids': {'isrc': 'DEA819600477'},\n",
       "   'external_urls': {'spotify': 'https://open.spotify.com/track/5YTMRAT4yKgFrepF8Hi3mY'},\n",
       "   'href': 'https://api.spotify.com/v1/tracks/5YTMRAT4yKgFrepF8Hi3mY',\n",
       "   'id': '5YTMRAT4yKgFrepF8Hi3mY',\n",
       "   'is_local': False,\n",
       "   'is_playable': True,\n",
       "   'name': 'I Want You Back - Radio Edit',\n",
       "   'popularity': 54,\n",
       "   'preview_url': 'https://p.scdn.co/mp3-preview/d28587ae453a4ac3cba66d517f9f0d715e96cc25?cid=2414300dd5be4a3cb0e9d83ecebe3964',\n",
       "   'track_number': 8,\n",
       "   'type': 'track',\n",
       "   'uri': 'spotify:track:5YTMRAT4yKgFrepF8Hi3mY'},\n",
       "  {'album': {'album_type': 'compilation',\n",
       "    'artists': [{'external_urls': {'spotify': 'https://open.spotify.com/artist/6Ff53KvcvAj5U7Z1vojB5o'},\n",
       "      'href': 'https://api.spotify.com/v1/artists/6Ff53KvcvAj5U7Z1vojB5o',\n",
       "      'id': '6Ff53KvcvAj5U7Z1vojB5o',\n",
       "      'name': '*NSYNC',\n",
       "      'type': 'artist',\n",
       "      'uri': 'spotify:artist:6Ff53KvcvAj5U7Z1vojB5o'}],\n",
       "    'external_urls': {'spotify': 'https://open.spotify.com/album/45gbCmUeq5ZMgXiDkPweRD'},\n",
       "    'href': 'https://api.spotify.com/v1/albums/45gbCmUeq5ZMgXiDkPweRD',\n",
       "    'id': '45gbCmUeq5ZMgXiDkPweRD',\n",
       "    'images': [{'height': 640,\n",
       "      'url': 'https://i.scdn.co/image/6f553d03dcc518d284bad96e44fe4592d867839b',\n",
       "      'width': 640},\n",
       "     {'height': 300,\n",
       "      'url': 'https://i.scdn.co/image/0063c0a179909efd9a85140c2c2474d879e6892c',\n",
       "      'width': 300},\n",
       "     {'height': 64,\n",
       "      'url': 'https://i.scdn.co/image/ad7ccbcf23da3361333b8cd015424cfb4bc25b4b',\n",
       "      'width': 64}],\n",
       "    'name': 'Greatest Hits',\n",
       "    'release_date': '2005-10-25',\n",
       "    'release_date_precision': 'day',\n",
       "    'total_tracks': 12,\n",
       "    'type': 'album',\n",
       "    'uri': 'spotify:album:45gbCmUeq5ZMgXiDkPweRD'},\n",
       "   'artists': [{'external_urls': {'spotify': 'https://open.spotify.com/artist/6Ff53KvcvAj5U7Z1vojB5o'},\n",
       "     'href': 'https://api.spotify.com/v1/artists/6Ff53KvcvAj5U7Z1vojB5o',\n",
       "     'id': '6Ff53KvcvAj5U7Z1vojB5o',\n",
       "     'name': '*NSYNC',\n",
       "     'type': 'artist',\n",
       "     'uri': 'spotify:artist:6Ff53KvcvAj5U7Z1vojB5o'}],\n",
       "   'disc_number': 1,\n",
       "   'duration_ms': 243493,\n",
       "   'explicit': False,\n",
       "   'external_ids': {'isrc': 'DEA819800775'},\n",
       "   'external_urls': {'spotify': 'https://open.spotify.com/track/72otaqywVqwyXaCjk75JKm'},\n",
       "   'href': 'https://api.spotify.com/v1/tracks/72otaqywVqwyXaCjk75JKm',\n",
       "   'id': '72otaqywVqwyXaCjk75JKm',\n",
       "   'is_local': False,\n",
       "   'is_playable': True,\n",
       "   'name': '(God Must Have Spent) A Little More Time On You - Remix',\n",
       "   'popularity': 55,\n",
       "   'preview_url': 'https://p.scdn.co/mp3-preview/2dd697344c3707332a6039e29f3c4a722499de4a?cid=2414300dd5be4a3cb0e9d83ecebe3964',\n",
       "   'track_number': 5,\n",
       "   'type': 'track',\n",
       "   'uri': 'spotify:track:72otaqywVqwyXaCjk75JKm'},\n",
       "  {'album': {'album_type': 'compilation',\n",
       "    'artists': [{'external_urls': {'spotify': 'https://open.spotify.com/artist/6Ff53KvcvAj5U7Z1vojB5o'},\n",
       "      'href': 'https://api.spotify.com/v1/artists/6Ff53KvcvAj5U7Z1vojB5o',\n",
       "      'id': '6Ff53KvcvAj5U7Z1vojB5o',\n",
       "      'name': '*NSYNC',\n",
       "      'type': 'artist',\n",
       "      'uri': 'spotify:artist:6Ff53KvcvAj5U7Z1vojB5o'}],\n",
       "    'external_urls': {'spotify': 'https://open.spotify.com/album/45gbCmUeq5ZMgXiDkPweRD'},\n",
       "    'href': 'https://api.spotify.com/v1/albums/45gbCmUeq5ZMgXiDkPweRD',\n",
       "    'id': '45gbCmUeq5ZMgXiDkPweRD',\n",
       "    'images': [{'height': 640,\n",
       "      'url': 'https://i.scdn.co/image/6f553d03dcc518d284bad96e44fe4592d867839b',\n",
       "      'width': 640},\n",
       "     {'height': 300,\n",
       "      'url': 'https://i.scdn.co/image/0063c0a179909efd9a85140c2c2474d879e6892c',\n",
       "      'width': 300},\n",
       "     {'height': 64,\n",
       "      'url': 'https://i.scdn.co/image/ad7ccbcf23da3361333b8cd015424cfb4bc25b4b',\n",
       "      'width': 64}],\n",
       "    'name': 'Greatest Hits',\n",
       "    'release_date': '2005-10-25',\n",
       "    'release_date_precision': 'day',\n",
       "    'total_tracks': 12,\n",
       "    'type': 'album',\n",
       "    'uri': 'spotify:album:45gbCmUeq5ZMgXiDkPweRD'},\n",
       "   'artists': [{'external_urls': {'spotify': 'https://open.spotify.com/artist/6Ff53KvcvAj5U7Z1vojB5o'},\n",
       "     'href': 'https://api.spotify.com/v1/artists/6Ff53KvcvAj5U7Z1vojB5o',\n",
       "     'id': '6Ff53KvcvAj5U7Z1vojB5o',\n",
       "     'name': '*NSYNC',\n",
       "     'type': 'artist',\n",
       "     'uri': 'spotify:artist:6Ff53KvcvAj5U7Z1vojB5o'}],\n",
       "   'disc_number': 1,\n",
       "   'duration_ms': 266293,\n",
       "   'explicit': False,\n",
       "   'external_ids': {'isrc': 'USJI10000360'},\n",
       "   'external_urls': {'spotify': 'https://open.spotify.com/track/1JbzBbwkf93dii20EC3EiZ'},\n",
       "   'href': 'https://api.spotify.com/v1/tracks/1JbzBbwkf93dii20EC3EiZ',\n",
       "   'id': '1JbzBbwkf93dii20EC3EiZ',\n",
       "   'is_local': False,\n",
       "   'is_playable': True,\n",
       "   'name': 'This I Promise You - Radio Edit',\n",
       "   'popularity': 42,\n",
       "   'preview_url': 'https://p.scdn.co/mp3-preview/eaf82b2f96d76a3772b6f9bcb03eacbb96933136?cid=2414300dd5be4a3cb0e9d83ecebe3964',\n",
       "   'track_number': 3,\n",
       "   'type': 'track',\n",
       "   'uri': 'spotify:track:1JbzBbwkf93dii20EC3EiZ'},\n",
       "  {'album': {'album_type': 'album',\n",
       "    'artists': [{'external_urls': {'spotify': 'https://open.spotify.com/artist/6Ff53KvcvAj5U7Z1vojB5o'},\n",
       "      'href': 'https://api.spotify.com/v1/artists/6Ff53KvcvAj5U7Z1vojB5o',\n",
       "      'id': '6Ff53KvcvAj5U7Z1vojB5o',\n",
       "      'name': '*NSYNC',\n",
       "      'type': 'artist',\n",
       "      'uri': 'spotify:artist:6Ff53KvcvAj5U7Z1vojB5o'}],\n",
       "    'external_urls': {'spotify': 'https://open.spotify.com/album/7zBue2Vuzg4Z3ncRXaIkJg'},\n",
       "    'href': 'https://api.spotify.com/v1/albums/7zBue2Vuzg4Z3ncRXaIkJg',\n",
       "    'id': '7zBue2Vuzg4Z3ncRXaIkJg',\n",
       "    'images': [{'height': 640,\n",
       "      'url': 'https://i.scdn.co/image/012b205d215b738c1b8d47597d86dfd30975abbb',\n",
       "      'width': 640},\n",
       "     {'height': 300,\n",
       "      'url': 'https://i.scdn.co/image/a0560b4341feced5e38452db1624d62b2334c4ea',\n",
       "      'width': 300},\n",
       "     {'height': 64,\n",
       "      'url': 'https://i.scdn.co/image/c4e895740ca4120877c3705dc8d989d9ad813825',\n",
       "      'width': 64}],\n",
       "    'name': 'Celebrity',\n",
       "    'release_date': '2001-07-24',\n",
       "    'release_date_precision': 'day',\n",
       "    'total_tracks': 13,\n",
       "    'type': 'album',\n",
       "    'uri': 'spotify:album:7zBue2Vuzg4Z3ncRXaIkJg'},\n",
       "   'artists': [{'external_urls': {'spotify': 'https://open.spotify.com/artist/6Ff53KvcvAj5U7Z1vojB5o'},\n",
       "     'href': 'https://api.spotify.com/v1/artists/6Ff53KvcvAj5U7Z1vojB5o',\n",
       "     'id': '6Ff53KvcvAj5U7Z1vojB5o',\n",
       "     'name': '*NSYNC',\n",
       "     'type': 'artist',\n",
       "     'uri': 'spotify:artist:6Ff53KvcvAj5U7Z1vojB5o'}],\n",
       "   'disc_number': 1,\n",
       "   'duration_ms': 253600,\n",
       "   'explicit': False,\n",
       "   'external_ids': {'isrc': 'USJI10100232'},\n",
       "   'external_urls': {'spotify': 'https://open.spotify.com/track/6u5flhVFxKZrl9AApvf2SL'},\n",
       "   'href': 'https://api.spotify.com/v1/tracks/6u5flhVFxKZrl9AApvf2SL',\n",
       "   'id': '6u5flhVFxKZrl9AApvf2SL',\n",
       "   'is_local': False,\n",
       "   'is_playable': True,\n",
       "   'name': 'Girlfriend',\n",
       "   'popularity': 51,\n",
       "   'preview_url': 'https://p.scdn.co/mp3-preview/97025998aca70f39d5663fdc99943ff0aca5d568?cid=2414300dd5be4a3cb0e9d83ecebe3964',\n",
       "   'track_number': 4,\n",
       "   'type': 'track',\n",
       "   'uri': 'spotify:track:6u5flhVFxKZrl9AApvf2SL'},\n",
       "  {'album': {'album_type': 'album',\n",
       "    'artists': [{'external_urls': {'spotify': 'https://open.spotify.com/artist/6Ff53KvcvAj5U7Z1vojB5o'},\n",
       "      'href': 'https://api.spotify.com/v1/artists/6Ff53KvcvAj5U7Z1vojB5o',\n",
       "      'id': '6Ff53KvcvAj5U7Z1vojB5o',\n",
       "      'name': '*NSYNC',\n",
       "      'type': 'artist',\n",
       "      'uri': 'spotify:artist:6Ff53KvcvAj5U7Z1vojB5o'}],\n",
       "    'external_urls': {'spotify': 'https://open.spotify.com/album/7zBue2Vuzg4Z3ncRXaIkJg'},\n",
       "    'href': 'https://api.spotify.com/v1/albums/7zBue2Vuzg4Z3ncRXaIkJg',\n",
       "    'id': '7zBue2Vuzg4Z3ncRXaIkJg',\n",
       "    'images': [{'height': 640,\n",
       "      'url': 'https://i.scdn.co/image/012b205d215b738c1b8d47597d86dfd30975abbb',\n",
       "      'width': 640},\n",
       "     {'height': 300,\n",
       "      'url': 'https://i.scdn.co/image/a0560b4341feced5e38452db1624d62b2334c4ea',\n",
       "      'width': 300},\n",
       "     {'height': 64,\n",
       "      'url': 'https://i.scdn.co/image/c4e895740ca4120877c3705dc8d989d9ad813825',\n",
       "      'width': 64}],\n",
       "    'name': 'Celebrity',\n",
       "    'release_date': '2001-07-24',\n",
       "    'release_date_precision': 'day',\n",
       "    'total_tracks': 13,\n",
       "    'type': 'album',\n",
       "    'uri': 'spotify:album:7zBue2Vuzg4Z3ncRXaIkJg'},\n",
       "   'artists': [{'external_urls': {'spotify': 'https://open.spotify.com/artist/6Ff53KvcvAj5U7Z1vojB5o'},\n",
       "     'href': 'https://api.spotify.com/v1/artists/6Ff53KvcvAj5U7Z1vojB5o',\n",
       "     'id': '6Ff53KvcvAj5U7Z1vojB5o',\n",
       "     'name': '*NSYNC',\n",
       "     'type': 'artist',\n",
       "     'uri': 'spotify:artist:6Ff53KvcvAj5U7Z1vojB5o'}],\n",
       "   'disc_number': 1,\n",
       "   'duration_ms': 292000,\n",
       "   'explicit': False,\n",
       "   'external_ids': {'isrc': 'USJI10100234'},\n",
       "   'external_urls': {'spotify': 'https://open.spotify.com/track/4CCUjYJPbSXLL23BFeBVbI'},\n",
       "   'href': 'https://api.spotify.com/v1/tracks/4CCUjYJPbSXLL23BFeBVbI',\n",
       "   'id': '4CCUjYJPbSXLL23BFeBVbI',\n",
       "   'is_local': False,\n",
       "   'is_playable': True,\n",
       "   'name': 'Gone',\n",
       "   'popularity': 52,\n",
       "   'preview_url': 'https://p.scdn.co/mp3-preview/a7325f6287dd70a667ab4aebfa93db0718e19e63?cid=2414300dd5be4a3cb0e9d83ecebe3964',\n",
       "   'track_number': 6,\n",
       "   'type': 'track',\n",
       "   'uri': 'spotify:track:4CCUjYJPbSXLL23BFeBVbI'}]}"
      ]
     },
     "execution_count": 29,
     "metadata": {},
     "output_type": "execute_result"
    }
   ],
   "source": [
    "song_list[0]"
   ]
  },
  {
   "cell_type": "markdown",
   "metadata": {},
   "source": [
    "The result for \"Trin-I-Tee 5:7\" is now deleted"
   ]
  },
  {
   "cell_type": "code",
   "execution_count": 16,
   "metadata": {},
   "outputs": [],
   "source": [
    "with open('../pickle/song_list.pkl', 'wb+') as f:\n",
    "    pickle.dump(song_list, f)"
   ]
  },
  {
   "cell_type": "markdown",
   "metadata": {},
   "source": [
    "#### Using Track id to Query Audio Features of each Song"
   ]
  },
  {
   "cell_type": "code",
   "execution_count": 3,
   "metadata": {},
   "outputs": [],
   "source": [
    "with open('../pickle/song_list.pkl', 'rb+') as f:\n",
    "    song_list = pickle.load(f)"
   ]
  },
  {
   "cell_type": "markdown",
   "metadata": {},
   "source": [
    "To retrieve an individual artist"
   ]
  },
  {
   "cell_type": "code",
   "execution_count": 4,
   "metadata": {},
   "outputs": [
    {
     "data": {
      "text/plain": [
       "'*NSYNC'"
      ]
     },
     "execution_count": 4,
     "metadata": {},
     "output_type": "execute_result"
    }
   ],
   "source": [
    "song_list[0]['tracks'][0]['artists'][0]['name'] #for artist name"
   ]
  },
  {
   "cell_type": "markdown",
   "metadata": {},
   "source": [
    "To retreive a song title"
   ]
  },
  {
   "cell_type": "code",
   "execution_count": 7,
   "metadata": {},
   "outputs": [
    {
     "data": {
      "text/plain": [
       "'Bye Bye Bye'"
      ]
     },
     "execution_count": 7,
     "metadata": {},
     "output_type": "execute_result"
    }
   ],
   "source": [
    "song_list[0]['tracks'][0]['name']"
   ]
  },
  {
   "cell_type": "markdown",
   "metadata": {},
   "source": [
    "##### Loading In Artist Table Again"
   ]
  },
  {
   "cell_type": "code",
   "execution_count": 11,
   "metadata": {},
   "outputs": [],
   "source": [
    "df = pd.read_csv('../data/spotify_artists_clean.csv', index_col=0)"
   ]
  },
  {
   "cell_type": "code",
   "execution_count": 12,
   "metadata": {},
   "outputs": [
    {
     "data": {
      "text/html": [
       "<div>\n",
       "<style scoped>\n",
       "    .dataframe tbody tr th:only-of-type {\n",
       "        vertical-align: middle;\n",
       "    }\n",
       "\n",
       "    .dataframe tbody tr th {\n",
       "        vertical-align: top;\n",
       "    }\n",
       "\n",
       "    .dataframe thead th {\n",
       "        text-align: right;\n",
       "    }\n",
       "</style>\n",
       "<table border=\"1\" class=\"dataframe\">\n",
       "  <thead>\n",
       "    <tr style=\"text-align: right;\">\n",
       "      <th></th>\n",
       "      <th>external_urls</th>\n",
       "      <th>genres</th>\n",
       "      <th>href</th>\n",
       "      <th>id</th>\n",
       "      <th>images</th>\n",
       "      <th>name</th>\n",
       "      <th>popularity</th>\n",
       "      <th>type</th>\n",
       "      <th>uri</th>\n",
       "      <th>followers_2</th>\n",
       "    </tr>\n",
       "  </thead>\n",
       "  <tbody>\n",
       "    <tr>\n",
       "      <th>0</th>\n",
       "      <td>{'spotify': 'https://open.spotify.com/artist/6...</td>\n",
       "      <td>['boy band', 'dance pop', 'europop', 'pop', 'p...</td>\n",
       "      <td>https://api.spotify.com/v1/artists/6Ff53KvcvAj...</td>\n",
       "      <td>6Ff53KvcvAj5U7Z1vojB5o</td>\n",
       "      <td>[{'height': 1173, 'url': 'https://i.scdn.co/im...</td>\n",
       "      <td>*NSYNC</td>\n",
       "      <td>71</td>\n",
       "      <td>artist</td>\n",
       "      <td>spotify:artist:6Ff53KvcvAj5U7Z1vojB5o</td>\n",
       "      <td>747136</td>\n",
       "    </tr>\n",
       "    <tr>\n",
       "      <th>1</th>\n",
       "      <td>{'spotify': 'https://open.spotify.com/artist/1...</td>\n",
       "      <td>['antiviral pop', 'comedy rock', 'comic']</td>\n",
       "      <td>https://api.spotify.com/v1/artists/1bDWGdIC2ha...</td>\n",
       "      <td>1bDWGdIC2hardyt55nlQgG</td>\n",
       "      <td>[{'height': 563, 'url': 'https://i.scdn.co/ima...</td>\n",
       "      <td>\"Weird Al\" Yankovic</td>\n",
       "      <td>59</td>\n",
       "      <td>artist</td>\n",
       "      <td>spotify:artist:1bDWGdIC2hardyt55nlQgG</td>\n",
       "      <td>337751</td>\n",
       "    </tr>\n",
       "    <tr>\n",
       "      <th>2</th>\n",
       "      <td>{'spotify': 'https://open.spotify.com/artist/0...</td>\n",
       "      <td>['alternative metal', 'nu metal', 'post-grunge...</td>\n",
       "      <td>https://api.spotify.com/v1/artists/0REMf7H0VP6...</td>\n",
       "      <td>0REMf7H0VP6DwfZ9MbuWph</td>\n",
       "      <td>[{'height': 640, 'url': 'https://i.scdn.co/ima...</td>\n",
       "      <td>10 Years</td>\n",
       "      <td>60</td>\n",
       "      <td>artist</td>\n",
       "      <td>spotify:artist:0REMf7H0VP6DwfZ9MbuWph</td>\n",
       "      <td>243895</td>\n",
       "    </tr>\n",
       "    <tr>\n",
       "      <th>3</th>\n",
       "      <td>{'spotify': 'https://open.spotify.com/artist/0...</td>\n",
       "      <td>['alternative rock', 'folk', 'folk-pop', 'lili...</td>\n",
       "      <td>https://api.spotify.com/v1/artists/0MBIKH9DjtB...</td>\n",
       "      <td>0MBIKH9DjtBkv8O3nS6szj</td>\n",
       "      <td>[{'height': 640, 'url': 'https://i.scdn.co/ima...</td>\n",
       "      <td>10,000 Maniacs</td>\n",
       "      <td>52</td>\n",
       "      <td>artist</td>\n",
       "      <td>spotify:artist:0MBIKH9DjtBkv8O3nS6szj</td>\n",
       "      <td>108829</td>\n",
       "    </tr>\n",
       "    <tr>\n",
       "      <th>4</th>\n",
       "      <td>{'spotify': 'https://open.spotify.com/artist/7...</td>\n",
       "      <td>['boy band', 'dance pop', 'gangster rap', 'hip...</td>\n",
       "      <td>https://api.spotify.com/v1/artists/7urq0VfqxEY...</td>\n",
       "      <td>7urq0VfqxEYEEiZUkebXT4</td>\n",
       "      <td>[{'height': 130, 'url': 'https://i.scdn.co/ima...</td>\n",
       "      <td>112</td>\n",
       "      <td>68</td>\n",
       "      <td>artist</td>\n",
       "      <td>spotify:artist:7urq0VfqxEYEEiZUkebXT4</td>\n",
       "      <td>455231</td>\n",
       "    </tr>\n",
       "  </tbody>\n",
       "</table>\n",
       "</div>"
      ],
      "text/plain": [
       "                                       external_urls  \\\n",
       "0  {'spotify': 'https://open.spotify.com/artist/6...   \n",
       "1  {'spotify': 'https://open.spotify.com/artist/1...   \n",
       "2  {'spotify': 'https://open.spotify.com/artist/0...   \n",
       "3  {'spotify': 'https://open.spotify.com/artist/0...   \n",
       "4  {'spotify': 'https://open.spotify.com/artist/7...   \n",
       "\n",
       "                                              genres  \\\n",
       "0  ['boy band', 'dance pop', 'europop', 'pop', 'p...   \n",
       "1          ['antiviral pop', 'comedy rock', 'comic']   \n",
       "2  ['alternative metal', 'nu metal', 'post-grunge...   \n",
       "3  ['alternative rock', 'folk', 'folk-pop', 'lili...   \n",
       "4  ['boy band', 'dance pop', 'gangster rap', 'hip...   \n",
       "\n",
       "                                                href                      id  \\\n",
       "0  https://api.spotify.com/v1/artists/6Ff53KvcvAj...  6Ff53KvcvAj5U7Z1vojB5o   \n",
       "1  https://api.spotify.com/v1/artists/1bDWGdIC2ha...  1bDWGdIC2hardyt55nlQgG   \n",
       "2  https://api.spotify.com/v1/artists/0REMf7H0VP6...  0REMf7H0VP6DwfZ9MbuWph   \n",
       "3  https://api.spotify.com/v1/artists/0MBIKH9DjtB...  0MBIKH9DjtBkv8O3nS6szj   \n",
       "4  https://api.spotify.com/v1/artists/7urq0VfqxEY...  7urq0VfqxEYEEiZUkebXT4   \n",
       "\n",
       "                                              images                 name  \\\n",
       "0  [{'height': 1173, 'url': 'https://i.scdn.co/im...               *NSYNC   \n",
       "1  [{'height': 563, 'url': 'https://i.scdn.co/ima...  \"Weird Al\" Yankovic   \n",
       "2  [{'height': 640, 'url': 'https://i.scdn.co/ima...             10 Years   \n",
       "3  [{'height': 640, 'url': 'https://i.scdn.co/ima...       10,000 Maniacs   \n",
       "4  [{'height': 130, 'url': 'https://i.scdn.co/ima...                  112   \n",
       "\n",
       "   popularity    type                                    uri  followers_2  \n",
       "0          71  artist  spotify:artist:6Ff53KvcvAj5U7Z1vojB5o       747136  \n",
       "1          59  artist  spotify:artist:1bDWGdIC2hardyt55nlQgG       337751  \n",
       "2          60  artist  spotify:artist:0REMf7H0VP6DwfZ9MbuWph       243895  \n",
       "3          52  artist  spotify:artist:0MBIKH9DjtBkv8O3nS6szj       108829  \n",
       "4          68  artist  spotify:artist:7urq0VfqxEYEEiZUkebXT4       455231  "
      ]
     },
     "execution_count": 12,
     "metadata": {},
     "output_type": "execute_result"
    }
   ],
   "source": [
    "df.head()"
   ]
  },
  {
   "cell_type": "markdown",
   "metadata": {},
   "source": []
  }
 ],
 "metadata": {
  "kernelspec": {
   "display_name": "Python 3",
   "language": "python",
   "name": "python3"
  },
  "language_info": {
   "codemirror_mode": {
    "name": "ipython",
    "version": 3
   },
   "file_extension": ".py",
   "mimetype": "text/x-python",
   "name": "python",
   "nbconvert_exporter": "python",
   "pygments_lexer": "ipython3",
   "version": "3.6.5"
  }
 },
 "nbformat": 4,
 "nbformat_minor": 2
}
