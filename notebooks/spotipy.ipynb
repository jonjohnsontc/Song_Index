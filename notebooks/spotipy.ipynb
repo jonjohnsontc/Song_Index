{
 "cells": [
  {
   "cell_type": "markdown",
   "metadata": {},
   "source": [
    "# Extracting Artist Info via Spotipy"
   ]
  },
  {
   "cell_type": "code",
   "execution_count": 1,
   "metadata": {},
   "outputs": [],
   "source": [
    "import numpy as np\n",
    "import pandas as pd\n",
    "import pickle\n",
    "import re\n",
    "import spotipy\n",
    "from spotipy.oauth2 import SpotifyClientCredentials\n",
    "import time"
   ]
  },
  {
   "cell_type": "markdown",
   "metadata": {},
   "source": [
    "#### Retreiving Artist List"
   ]
  },
  {
   "cell_type": "code",
   "execution_count": 2,
   "metadata": {},
   "outputs": [],
   "source": [
    "with open('../pickle/artist_list_td.pkl', 'rb+') as f:\n",
    "    artist_list_td = pickle.load(f)"
   ]
  },
  {
   "cell_type": "markdown",
   "metadata": {},
   "source": [
    "#### Logging into Spotipy"
   ]
  },
  {
   "cell_type": "code",
   "execution_count": 2,
   "metadata": {},
   "outputs": [],
   "source": [
    "client_credentials_manager = SpotifyClientCredentials(client_id=\"2414300dd5be4a3cb0e9d83ecebe3964\",\n",
    "                                                          client_secret=\"f9c2e12e1f0247a4a74cf8e821a69aa7\")\n",
    "sp = spotipy.Spotify(client_credentials_manager=client_credentials_manager)"
   ]
  },
  {
   "cell_type": "markdown",
   "metadata": {},
   "source": [
    "#### Trying to Retrieve Artist Info"
   ]
  },
  {
   "cell_type": "code",
   "execution_count": 49,
   "metadata": {},
   "outputs": [],
   "source": [
    "artist = sp.search(\"'N SYNC\", type='artist')"
   ]
  },
  {
   "cell_type": "markdown",
   "metadata": {},
   "source": [
    "#### Google 'I'm Feeling Lucky' Scenario"
   ]
  },
  {
   "cell_type": "code",
   "execution_count": 60,
   "metadata": {},
   "outputs": [],
   "source": [
    "confident_list = []\n",
    "for artist in artist_list_td:\n",
    "    artist_list = sp.search(artist, type='artist')\n",
    "    try:\n",
    "        confident_list.append(artist_list['artists']['items'][0])\n",
    "    except:\n",
    "        confident_list.append('no_results')\n",
    "    time.sleep(1)"
   ]
  },
  {
   "cell_type": "code",
   "execution_count": 111,
   "metadata": {},
   "outputs": [
    {
     "data": {
      "text/plain": [
       "'no_results'"
      ]
     },
     "execution_count": 111,
     "metadata": {},
     "output_type": "execute_result"
    }
   ],
   "source": [
    "confident_list[8]"
   ]
  },
  {
   "cell_type": "code",
   "execution_count": 61,
   "metadata": {},
   "outputs": [
    {
     "data": {
      "text/plain": [
       "2514"
      ]
     },
     "execution_count": 61,
     "metadata": {},
     "output_type": "execute_result"
    }
   ],
   "source": [
    "len(confident_list)"
   ]
  },
  {
   "cell_type": "code",
   "execution_count": 362,
   "metadata": {},
   "outputs": [
    {
     "data": {
      "text/plain": [
       "{'external_urls': {'spotify': 'https://open.spotify.com/artist/3dkbV4qihUeMsqN4vBGg93'},\n",
       " 'followers': {'href': None, 'total': 946690},\n",
       " 'genres': ['classic soul',\n",
       "  'funk',\n",
       "  'memphis soul',\n",
       "  'quiet storm',\n",
       "  'soul',\n",
       "  'soul blues',\n",
       "  'southern soul'],\n",
       " 'href': 'https://api.spotify.com/v1/artists/3dkbV4qihUeMsqN4vBGg93',\n",
       " 'id': '3dkbV4qihUeMsqN4vBGg93',\n",
       " 'images': [{'height': 640,\n",
       "   'url': 'https://i.scdn.co/image/3204125720ef02294bbac0ff109a5919c141955f',\n",
       "   'width': 640},\n",
       "  {'height': 320,\n",
       "   'url': 'https://i.scdn.co/image/6df201e877205c39bebe4c420f3b2ef84ad66b17',\n",
       "   'width': 320},\n",
       "  {'height': 160,\n",
       "   'url': 'https://i.scdn.co/image/4c1d71cb0248f47f249b32c66f661f9ef3081ca8',\n",
       "   'width': 160}],\n",
       " 'name': 'Al Green',\n",
       " 'popularity': 68,\n",
       " 'type': 'artist',\n",
       " 'uri': 'spotify:artist:3dkbV4qihUeMsqN4vBGg93'}"
      ]
     },
     "execution_count": 362,
     "metadata": {},
     "output_type": "execute_result"
    }
   ],
   "source": [
    "confident_list[64]"
   ]
  },
  {
   "cell_type": "code",
   "execution_count": 82,
   "metadata": {},
   "outputs": [
    {
     "data": {
      "text/plain": [
       "'2 PAC & OUTLAWZ'"
      ]
     },
     "execution_count": 82,
     "metadata": {},
     "output_type": "execute_result"
    }
   ],
   "source": [
    "artist_list_td[8]"
   ]
  },
  {
   "cell_type": "code",
   "execution_count": 100,
   "metadata": {},
   "outputs": [],
   "source": [
    "with open('../pickle/confident_list.pkl', 'wb+') as f:\n",
    "    pickle.dump(confident_list, f)"
   ]
  },
  {
   "cell_type": "markdown",
   "metadata": {},
   "source": [
    "##### Counting `no_results`"
   ]
  },
  {
   "cell_type": "code",
   "execution_count": 79,
   "metadata": {},
   "outputs": [],
   "source": [
    "count = -1\n",
    "index_list = []\n",
    "\n",
    "for artist in list(enumerate(confident_list)):\n",
    "    count += 1\n",
    "    if artist == 'no_results':\n",
    "        index_list.append(count)"
   ]
  },
  {
   "cell_type": "code",
   "execution_count": 81,
   "metadata": {},
   "outputs": [
    {
     "data": {
      "text/plain": [
       "135"
      ]
     },
     "execution_count": 81,
     "metadata": {},
     "output_type": "execute_result"
    }
   ],
   "source": [
    "len(index_list)"
   ]
  },
  {
   "cell_type": "markdown",
   "metadata": {},
   "source": [
    "##### Missing Artists"
   ]
  },
  {
   "cell_type": "code",
   "execution_count": 94,
   "metadata": {},
   "outputs": [],
   "source": [
    "missing_artists = []\n",
    "\n",
    "for i in list(enumerate(confident_list)):\n",
    "    if i[1] == 'no_results':\n",
    "        missing_artists.append((i[0], artist_list_td[i[0]]))\n",
    "        \n",
    "# map(lambda x: missing_artists.append(i) if i[1] == 'no_results' else , list(enumerate(confident_list)))"
   ]
  },
  {
   "cell_type": "code",
   "execution_count": 95,
   "metadata": {},
   "outputs": [
    {
     "data": {
      "text/plain": [
       "[(8, '2 PAC & OUTLAWZ'),\n",
       " (11, '21 SAVAGE & METRO BOOMIN'),\n",
       " (36, 'A. DORATI / MINNEAPOLIS SYMPHONY'),\n",
       " (117, 'ANI DI FRANCO'),\n",
       " (165, 'BABY AKA THE #1 STUNNA'),\n",
       " (185, 'BARBRA STREISAND & KRIS KRISTOFFERSON'),\n",
       " (205, 'BENEDICTINE MONKS-SANTO DE SIL'),\n",
       " (208, 'BERLIN PHILHARMONIC / KARAJAN'),\n",
       " (215, 'BIG AUDIO DYNAMITE II'),\n",
       " (241, 'BILLY VAUGHN & HIS ORCHESTRA'),\n",
       " (268, 'BLOOMFIELD / KOOPER / STILLS'),\n",
       " (277, 'BOB & DOUG MC KENZIE'),\n",
       " (281, 'BOB DYLAN & THE DEAD'),\n",
       " (283, 'BOB JAMES & DAVID SANBORN'),\n",
       " (284, 'BOB JAMES & EARL KLUGH'),\n",
       " (287, 'BOB RIVERS COMEDY CORP'),\n",
       " (290, \"BOBBY 'BLUE' BLAND & B.B. KING\"),\n",
       " (293, 'BOBBY GENTRY & GLEN CAMPBELL'),\n",
       " (295, 'BOBBY MC FERRIN'),\n",
       " (312, 'BOW WOW & OMARION'),\n",
       " (328, 'BRIAN MC KNIGHT'),\n",
       " (367, 'C.W. MC CALL'),\n",
       " (374, \"CAM'RON PRESENTS THE DIPLOMATS\"),\n",
       " (388, 'CARLOS SANTANA & JOHN MC LAUGHLIN'),\n",
       " (397, 'CE CE PENISTON'),\n",
       " (478, 'CONWAY TWITTY & LORETTA LYNN'),\n",
       " (510, 'D. PARTON, L. RONSTADT, E. HARRIS'),\n",
       " (520, 'DALLAS HOLM & PRAISE'),\n",
       " (547, 'DAVE MATTHEWS & TIM REYNOLDS'),\n",
       " (549, 'DAVE WILLIAMSON BIG BAND'),\n",
       " (606, 'DIANA ROSS & LIONEL RICHIE'),\n",
       " (608, 'DIANA ROSS & THE SUPREMES WITH THE TEMPTATIONS'),\n",
       " (627, 'DJ MAGIC MIKE & MC MADNESS'),\n",
       " (636, 'DOLLY PARTON WITH TAMMY WYNETTE & LORETTA LYNN'),\n",
       " (641, 'DON MC LEAN'),\n",
       " (650, 'DONNIE MC CLURKIN'),\n",
       " (662, 'DR. MARK BESHARA'),\n",
       " (666, 'DRAKE & FUTURE'),\n",
       " (689, 'EAST COAST FAMILY'),\n",
       " (699, \"EDEN'S CRUSH\"),\n",
       " (703, 'EDWIN MC CAIN'),\n",
       " (714, 'ELTON JOHN & TIM RICE'),\n",
       " (738, 'ERIC CLAPTON & B.B. KING'),\n",
       " (759, 'EXTREME II'),\n",
       " (811, 'FRANCES LAI'),\n",
       " (820, 'FRANSESCA BATTISTELLI'),\n",
       " (833, 'FUNKMASTER FLEX & BIG KAP'),\n",
       " (855, 'GEORGE BENSON & EARL KLUGH'),\n",
       " (860, 'GEORGE HARRISON & FRIENDS'),\n",
       " (878, 'GIORGIO MARAUDER'),\n",
       " (927, 'H. ALPERT & THE TIJUANA BRASS'),\n",
       " (1013, 'J. MACDONALD & NELSON EDDY'),\n",
       " (1036, 'JAMES TAYLOR & CAROLE KING'),\n",
       " (1052, 'JAY-Z & KANYE WEST'),\n",
       " (1053, 'JAY-Z & LINKIN PARK'),\n",
       " (1054, 'JAY-Z & R. KELLY'),\n",
       " (1056, 'JEAN P. RAMPAL & CLAUDE BOLLING'),\n",
       " (1067, 'JENNINGS / NELSON / COLTER / GLASER'),\n",
       " (1075, \"JESSE JOHNSON'S REVUE\"),\n",
       " (1076, 'JESSE MC CARTNEY'),\n",
       " (1093, 'JIMI HENDRIX & OTIS REDDING'),\n",
       " (1097, 'JIMMY PAGE & ROBERT PLANT'),\n",
       " (1100, 'JJ CALE & ERIC CLAPTON'),\n",
       " (1115, 'JOEY MC INTYRE'),\n",
       " (1124, 'JOHN DENVER & THE MUPPETS'),\n",
       " (1146, 'JOHNNY MATHIS & DENIECE WILLIAMS'),\n",
       " (1171, 'JUDI SHEPPARD MISSETT'),\n",
       " (1185, 'K.C. & THE SUNSHINE BAND'),\n",
       " (1187, 'K.D. LANG & THE RECLINES'),\n",
       " (1227, 'KENNY ROGERS & DOLLY PARTON'),\n",
       " (1228, 'KENNY ROGERS & DOTTIE WEST'),\n",
       " (1264, 'KRIS KRISTOFFERSON & RITA COOLIDGE'),\n",
       " (1274, 'L. ELGART / MANHATTAN SWING ORC'),\n",
       " (1276, 'L.L. COOL J'),\n",
       " (1309, 'LES MC CANN & EDDIE HARRIS'),\n",
       " (1319, \"LIL' JON & THE EASTSIDE BOYZ\"),\n",
       " (1323, 'LILA MC CANN'),\n",
       " (1333, 'LISA LISA & CULT JAM WITH FULL FORCE'),\n",
       " (1354, 'LONDON SYMPHONY ORCH. & CHOIR'),\n",
       " (1357, 'LOREENA MC KENNITT'),\n",
       " (1360, 'LOS ANGELES AZULEZ'),\n",
       " (1384, 'LUDACRIS & DTP'),\n",
       " (1418, 'MANNHEIM STEAMROLLER & M. WILLIAMS'),\n",
       " (1424, 'MARCO ANTONIO SOLIS Y LOS BUKIS'),\n",
       " (1430, 'MARILYN MC COO & BILLY DAVIS, JR.'),\n",
       " (1463, 'MAZE FEAT. FRANKIE BEVERLY'),\n",
       " (1465, 'MC BRIDE & THE RIDE'),\n",
       " (1466, 'MC EIHT FEAT. CMW'),\n",
       " (1467, 'MC FADDEN & WHITEHEAD'),\n",
       " (1524, 'MINDY MC CREADY'),\n",
       " (1568, 'N.W.A. & THE POSSE'),\n",
       " (1569, 'N.Y. PHILHARMONIC ORCHESTRA WITH LEONARD BERNSTEIN'),\n",
       " (1588, 'NEAL MC COY'),\n",
       " (1651, 'OLIVIA NEWTON-JOHN & ELECTRIC LIGHT ORCHESTRA'),\n",
       " (1652, 'OLIVIA NEWTON-JOHN & JOHN TRAVOLTA'),\n",
       " (1662, 'ORIGINAL CANADIAN CAST'),\n",
       " (1671, 'OZZY OSBOURNE & RANDY RHOADS'),\n",
       " (1678, 'PAILLARD:CHAMBER / MAURICE ANDRE'),\n",
       " (1694, 'PATSY CLINE / J. REEVES'),\n",
       " (1698, 'PAUL & LINDA MC CARTNEY'),\n",
       " (1703, 'PAUL MC CARTNEY & WINGS'),\n",
       " (1783, 'PURPLE BALLOON PLAYERS'),\n",
       " (1797, 'R. KELLY & PUBLIC ANNOUNCEMENT'),\n",
       " (1799, 'R.E.O. SPEEDWAGON'),\n",
       " (1826, 'RAY PARKER, JR. & RAYDIO'),\n",
       " (1832, 'REAL MC COY'),\n",
       " (1833, 'REBA MC ENTIRE'),\n",
       " (1844, 'RETURN TO FORVER'),\n",
       " (1870, 'ROB BASE & DJ E-Z ROCK'),\n",
       " (1881, 'ROBERT PLANT & ALLISON KRAUSS'),\n",
       " (1928, 'S.R. VAUGHAN & DOUBLE TROUBLE'),\n",
       " (1929, 'S.W.V.'),\n",
       " (1953, 'SARAH MC LACHLAN'),\n",
       " (2024, 'SKRILLEX & DIPLO'),\n",
       " (2043, 'SNOOP DOGG PRESENTS THA EASTSIDAZ'),\n",
       " (2105, 'STING & THE POLICE'),\n",
       " (2206, 'THE DALLAS BRASS'),\n",
       " (2209, 'THE DEFTONES'),\n",
       " (2253, 'THE MUPPETS & ROBIN GIBB'),\n",
       " (2279, 'THE TALKING HEADS'),\n",
       " (2306, 'THIRTY-EIGHT SPECIAL (.38)'),\n",
       " (2342, 'TONY BENNETT & K.D. LANG'),\n",
       " (2343, 'TONY BENNETT & LADY GAGA'),\n",
       " (2366, 'TREY PARKER, ROBERT LOPEZ, MATT STONE'),\n",
       " (2371, 'TRIN-I-TEE 5:7'),\n",
       " (2394, 'UB-40'),\n",
       " (2401, 'USA FOR AFRICA'),\n",
       " (2415, 'VANITY 6'),\n",
       " (2418, 'VEGGIE TALES'),\n",
       " (2426, 'VICTORIOUS CAST FEAT. VICTORIA JUSTICE'),\n",
       " (2440, 'WALTER MURPHY & THE BIG APPLE BAND'),\n",
       " (2447, 'WAYLON JENNINGS & JESSI COLTER'),\n",
       " (2465, 'WILLIE NELSON & LEON RUSSELL'),\n",
       " (2475, 'WU-TANG KILLA BEES'),\n",
       " (2493, 'YO YO MA & BOBBY MCFERRIN')]"
      ]
     },
     "execution_count": 95,
     "metadata": {},
     "output_type": "execute_result"
    }
   ],
   "source": [
    "missing_artists[:5]"
   ]
  },
  {
   "cell_type": "code",
   "execution_count": 98,
   "metadata": {},
   "outputs": [],
   "source": [
    "with open('../pickle/missing_artists.pkl', 'wb+') as f:\n",
    "    pickle.dump(missing_artists, f)"
   ]
  },
  {
   "cell_type": "markdown",
   "metadata": {},
   "source": [
    "##### Manually Finding Artists"
   ]
  },
  {
   "cell_type": "code",
   "execution_count": 112,
   "metadata": {},
   "outputs": [],
   "source": [
    "mal = [\n",
    "    (8, \"2Pac Outlawz\"),\n",
    "    (36, \"Minneapolis Symphony Orchestra\"),\n",
    "    (117, \"Ani DiFranco\"),\n",
    "    (208, \"Herbert von Karajan\"),\n",
    "    (215, \"Big Audio Dynamite\"),\n",
    "    (268, \"Mike Bloomfield\"),\n",
    "    (277, \"Bob & Doug McKenzie\"),\n",
    "    (284, \"Earl Klugh\"),\n",
    "    (287, \"Bob Rivers\"),\n",
    "    (295, \"Bobby McFerrin\"),\n",
    "    (328, \"Brian McKnight\"),\n",
    "    (367, \"C.W. McCall\"),\n",
    "    (374, \"The Diplomats\"),\n",
    "    (388, \"Mahavishnu John McLaughlin\"),\n",
    "    (397, \"CeCe Peniston\"),\n",
    "    (520, \"Dallas Holm\"),\n",
    "    (549, \"WordHarmonic\"),\n",
    "    (627, \"D.J. Magic Mike & M.C. Madness\"),\n",
    "    (641, \"Don McLean\"),\n",
    "    (650, \"Donnie McClurkin\"),\n",
    "    (662, \"Mark Beshara\"),\n",
    "    (703, \"Edwin McCain\"),\n",
    "    (759, \"Extreme\"),\n",
    "    (811, \"Francis Lai\"),\n",
    "    (820, \"Francesca Battistelli\"),\n",
    "    (1013, \"Nelson Eddy\"),\n",
    "    (1056, \"Claude Bolling\"),\n",
    "    (1067, \"The Outlaws\"),\n",
    "    (1075, \"Jesse Johnson\"),\n",
    "    (1076, \"Jesse McCartney\"),\n",
    "    (1115, \"Joey McIntyre\"),\n",
    "    (1185, \"KC & The Sunshine Band\"),\n",
    "    (1274, \"Larry Elgart & His Manhatten Swing Orchestra\"),\n",
    "    (1276, \"LL Cool J\"),\n",
    "    (1309, \"Les McCann & Eddie Harris\"),\n",
    "    (1319, \"Lil Jon & The East Side Boyz\"),\n",
    "    (1323, \"Lila McCann\"),\n",
    "    (1333, \"Lisa Lisa & Cult Jam\"),\n",
    "    (1354, \"London Symphony Orchestra\"),\n",
    "    (1357, \"Loreena McKennitt\"),\n",
    "    (1360, \"Los Angeles Azules\"),\n",
    "    (1424, \"Marco Antonio Solís\"),\n",
    "    (1430, \"Marilyn McCoo & Billy Davis Jr.\"),\n",
    "    (1463, \"Frankie Beverly\"),\n",
    "    (1465, \"McBride & The Ride\"),\n",
    "    (1466, \"MC Eiht\"),\n",
    "    (1467, \"McFadden & Whitehead\"),\n",
    "    (1524, \"Mindy McCready\"),\n",
    "    (1569, \"Leonard Bernstein\"),\n",
    "    (1588, \"Neal McCoy\"),\n",
    "    (1678, \"Maurice André\"),\n",
    "    (1799, \"REO Speedwagon\"),\n",
    "    (1832, \"Real McCoy\"),\n",
    "    (1833, \"Reba McEntire\"),\n",
    "    (1844, \"Return To Forever\"),\n",
    "    (1870, \"Rob Base & DJ EZ Rock\"),\n",
    "    (1929, \"SWV\"),\n",
    "    (1953, \"Sarah McLachlan\"),\n",
    "    (2043, \"Tha Eastsidaz\"),\n",
    "    (2206, \"Dallas Brass\"),\n",
    "    (2209, \"Deftones\"),\n",
    "    (2253, \"Sesame Street\"),\n",
    "    (2279, \"Talking Heads\"),\n",
    "    (2306, \"38 Special\"),\n",
    "    (2366, \"Trey Parker\"),\n",
    "    (2371, \"Trin-I-Tee 5:7\"),\n",
    "    (2394, \"UB40\"),\n",
    "    (2401, \"U.S.A. For Africa\"),\n",
    "    (2418, \"VeggieTales\"),\n",
    "    (2426, \"Victoria Justice\"),\n",
    "    (2440, \"Walter Murphy\"),\n",
    "]"
   ]
  },
  {
   "cell_type": "code",
   "execution_count": 125,
   "metadata": {},
   "outputs": [
    {
     "data": {
      "text/plain": [
       "64"
      ]
     },
     "execution_count": 125,
     "metadata": {},
     "output_type": "execute_result"
    }
   ],
   "source": [
    "len(missing_artists) - len(mal)"
   ]
  },
  {
   "cell_type": "markdown",
   "metadata": {},
   "source": [
    "##### Missing Artists Not Included\n",
    "\n",
    "If artists from the `missing_artists` table are not included in the `mal` table, it could be for the following reasons:\n",
    "- Spotify doesn't have the artist\n",
    "- It's a combo of artists, and at least one of them appears elsewhere on the list\n",
    "\n",
    "Based on these, there's a total of 64 artists who were not included in the `mal` table."
   ]
  },
  {
   "cell_type": "markdown",
   "metadata": {},
   "source": [
    "##### Grabbing Found Artists Info"
   ]
  },
  {
   "cell_type": "code",
   "execution_count": 117,
   "metadata": {},
   "outputs": [],
   "source": [
    "found_artists = []\n",
    "for artist in mal:\n",
    "    artist_list = sp.search(artist[1], type='artist')\n",
    "    try:\n",
    "        found_artists.append(artist_list['artists']['items'][0])\n",
    "    except:\n",
    "        found_artists.append('no_results')\n",
    "    time.sleep(0.5)"
   ]
  },
  {
   "cell_type": "code",
   "execution_count": 1,
   "metadata": {},
   "outputs": [],
   "source": [
    "# found_artists[:10]"
   ]
  },
  {
   "cell_type": "code",
   "execution_count": 127,
   "metadata": {},
   "outputs": [],
   "source": [
    "with open('../pickle/found_artists.pkl', 'wb+') as f:\n",
    "    pickle.dump(found_artists, f)"
   ]
  },
  {
   "cell_type": "markdown",
   "metadata": {},
   "source": [
    "##### Checking to Make Sure there's No Missing Results in `found_artists`"
   ]
  },
  {
   "cell_type": "code",
   "execution_count": 122,
   "metadata": {},
   "outputs": [],
   "source": [
    "count = -1\n",
    "index_list = []\n",
    "\n",
    "for artist in list(enumerate(found_artists)):\n",
    "    count += 1\n",
    "    if artist == 'no_results':\n",
    "        index_list.append(count)"
   ]
  },
  {
   "cell_type": "code",
   "execution_count": 123,
   "metadata": {},
   "outputs": [
    {
     "data": {
      "text/plain": [
       "[]"
      ]
     },
     "execution_count": 123,
     "metadata": {},
     "output_type": "execute_result"
    }
   ],
   "source": [
    "index_list"
   ]
  },
  {
   "cell_type": "markdown",
   "metadata": {},
   "source": [
    "#### Creating Dataframe of Full Artist Listing"
   ]
  },
  {
   "cell_type": "code",
   "execution_count": 146,
   "metadata": {},
   "outputs": [
    {
     "data": {
      "text/plain": [
       "['external_urls',\n",
       " 'followers',\n",
       " 'genres',\n",
       " 'href',\n",
       " 'id',\n",
       " 'images',\n",
       " 'name',\n",
       " 'popularity',\n",
       " 'type',\n",
       " 'uri']"
      ]
     },
     "execution_count": 146,
     "metadata": {},
     "output_type": "execute_result"
    }
   ],
   "source": [
    "list(confident_list[0].keys())"
   ]
  },
  {
   "cell_type": "markdown",
   "metadata": {},
   "source": [
    "Passing `confident_list` (Artist list 1 of 2) into a DataFrame by first passing it into a series. This will enable me to keep the current structure, despite the fact the `Dict` values are not of the same length."
   ]
  },
  {
   "cell_type": "code",
   "execution_count": 206,
   "metadata": {},
   "outputs": [],
   "source": [
    "df = pd.DataFrame(pd.Series(confident_list[0]).reset_index()).T"
   ]
  },
  {
   "cell_type": "code",
   "execution_count": 179,
   "metadata": {},
   "outputs": [
    {
     "data": {
      "text/plain": [
       "0    {'spotify': 'https://open.spotify.com/artist/6...\n",
       "1                      {'href': None, 'total': 747136}\n",
       "2    [boy band, dance pop, europop, pop, post-teen ...\n",
       "3    https://api.spotify.com/v1/artists/6Ff53KvcvAj...\n",
       "4                               6Ff53KvcvAj5U7Z1vojB5o\n",
       "5    [{'height': 1173, 'url': 'https://i.scdn.co/im...\n",
       "6                                               *NSYNC\n",
       "7                                                   71\n",
       "8                                               artist\n",
       "9                spotify:artist:6Ff53KvcvAj5U7Z1vojB5o\n",
       "Name: 0, dtype: object"
      ]
     },
     "execution_count": 179,
     "metadata": {},
     "output_type": "execute_result"
    }
   ],
   "source": [
    "pd.Series(confident_list[0]).reset_index().T.iloc[1]"
   ]
  },
  {
   "cell_type": "code",
   "execution_count": 207,
   "metadata": {},
   "outputs": [],
   "source": [
    "count = 0\n",
    "\n",
    "for i in confident_list[1:]:\n",
    "    if isinstance(i, dict):\n",
    "        count += 1\n",
    "        df.loc[count] = pd.Series(i).reset_index().T.iloc[1]\n",
    "    else:\n",
    "        continue"
   ]
  },
  {
   "cell_type": "code",
   "execution_count": 224,
   "metadata": {},
   "outputs": [],
   "source": [
    "df.columns = [\"external_urls\", \"followers\", \"genres\", \"href\", \"id\", \"images\", \"name\", \"popularity\",  \"type\", \"uri\"]"
   ]
  },
  {
   "cell_type": "code",
   "execution_count": 227,
   "metadata": {},
   "outputs": [],
   "source": [
    "df.drop(labels='index', inplace=True)"
   ]
  },
  {
   "cell_type": "code",
   "execution_count": 243,
   "metadata": {},
   "outputs": [
    {
     "data": {
      "text/html": [
       "<div>\n",
       "<style scoped>\n",
       "    .dataframe tbody tr th:only-of-type {\n",
       "        vertical-align: middle;\n",
       "    }\n",
       "\n",
       "    .dataframe tbody tr th {\n",
       "        vertical-align: top;\n",
       "    }\n",
       "\n",
       "    .dataframe thead th {\n",
       "        text-align: right;\n",
       "    }\n",
       "</style>\n",
       "<table border=\"1\" class=\"dataframe\">\n",
       "  <thead>\n",
       "    <tr style=\"text-align: right;\">\n",
       "      <th></th>\n",
       "      <th>external_urls</th>\n",
       "      <th>followers</th>\n",
       "      <th>genres</th>\n",
       "      <th>href</th>\n",
       "      <th>id</th>\n",
       "      <th>images</th>\n",
       "      <th>name</th>\n",
       "      <th>popularity</th>\n",
       "      <th>type</th>\n",
       "      <th>uri</th>\n",
       "    </tr>\n",
       "  </thead>\n",
       "  <tbody>\n",
       "    <tr>\n",
       "      <th>0</th>\n",
       "      <td>{'spotify': 'https://open.spotify.com/artist/6...</td>\n",
       "      <td>{'href': None, 'total': 747136}</td>\n",
       "      <td>[boy band, dance pop, europop, pop, post-teen ...</td>\n",
       "      <td>https://api.spotify.com/v1/artists/6Ff53KvcvAj...</td>\n",
       "      <td>6Ff53KvcvAj5U7Z1vojB5o</td>\n",
       "      <td>[{'height': 1173, 'url': 'https://i.scdn.co/im...</td>\n",
       "      <td>*NSYNC</td>\n",
       "      <td>71</td>\n",
       "      <td>artist</td>\n",
       "      <td>spotify:artist:6Ff53KvcvAj5U7Z1vojB5o</td>\n",
       "    </tr>\n",
       "    <tr>\n",
       "      <th>1</th>\n",
       "      <td>{'spotify': 'https://open.spotify.com/artist/1...</td>\n",
       "      <td>{'href': None, 'total': 337751}</td>\n",
       "      <td>[antiviral pop, comedy rock, comic]</td>\n",
       "      <td>https://api.spotify.com/v1/artists/1bDWGdIC2ha...</td>\n",
       "      <td>1bDWGdIC2hardyt55nlQgG</td>\n",
       "      <td>[{'height': 563, 'url': 'https://i.scdn.co/ima...</td>\n",
       "      <td>\"Weird Al\" Yankovic</td>\n",
       "      <td>59</td>\n",
       "      <td>artist</td>\n",
       "      <td>spotify:artist:1bDWGdIC2hardyt55nlQgG</td>\n",
       "    </tr>\n",
       "    <tr>\n",
       "      <th>2</th>\n",
       "      <td>{'spotify': 'https://open.spotify.com/artist/0...</td>\n",
       "      <td>{'href': None, 'total': 243895}</td>\n",
       "      <td>[alternative metal, nu metal, post-grunge, rap...</td>\n",
       "      <td>https://api.spotify.com/v1/artists/0REMf7H0VP6...</td>\n",
       "      <td>0REMf7H0VP6DwfZ9MbuWph</td>\n",
       "      <td>[{'height': 640, 'url': 'https://i.scdn.co/ima...</td>\n",
       "      <td>10 Years</td>\n",
       "      <td>60</td>\n",
       "      <td>artist</td>\n",
       "      <td>spotify:artist:0REMf7H0VP6DwfZ9MbuWph</td>\n",
       "    </tr>\n",
       "    <tr>\n",
       "      <th>3</th>\n",
       "      <td>{'spotify': 'https://open.spotify.com/artist/0...</td>\n",
       "      <td>{'href': None, 'total': 108829}</td>\n",
       "      <td>[alternative rock, folk, folk-pop, lilith, mel...</td>\n",
       "      <td>https://api.spotify.com/v1/artists/0MBIKH9DjtB...</td>\n",
       "      <td>0MBIKH9DjtBkv8O3nS6szj</td>\n",
       "      <td>[{'height': 640, 'url': 'https://i.scdn.co/ima...</td>\n",
       "      <td>10,000 Maniacs</td>\n",
       "      <td>52</td>\n",
       "      <td>artist</td>\n",
       "      <td>spotify:artist:0MBIKH9DjtBkv8O3nS6szj</td>\n",
       "    </tr>\n",
       "    <tr>\n",
       "      <th>4</th>\n",
       "      <td>{'spotify': 'https://open.spotify.com/artist/7...</td>\n",
       "      <td>{'href': None, 'total': 455231}</td>\n",
       "      <td>[boy band, dance pop, gangster rap, hip hop, h...</td>\n",
       "      <td>https://api.spotify.com/v1/artists/7urq0VfqxEY...</td>\n",
       "      <td>7urq0VfqxEYEEiZUkebXT4</td>\n",
       "      <td>[{'height': 130, 'url': 'https://i.scdn.co/ima...</td>\n",
       "      <td>112</td>\n",
       "      <td>68</td>\n",
       "      <td>artist</td>\n",
       "      <td>spotify:artist:7urq0VfqxEYEEiZUkebXT4</td>\n",
       "    </tr>\n",
       "  </tbody>\n",
       "</table>\n",
       "</div>"
      ],
      "text/plain": [
       "                                       external_urls  \\\n",
       "0  {'spotify': 'https://open.spotify.com/artist/6...   \n",
       "1  {'spotify': 'https://open.spotify.com/artist/1...   \n",
       "2  {'spotify': 'https://open.spotify.com/artist/0...   \n",
       "3  {'spotify': 'https://open.spotify.com/artist/0...   \n",
       "4  {'spotify': 'https://open.spotify.com/artist/7...   \n",
       "\n",
       "                         followers  \\\n",
       "0  {'href': None, 'total': 747136}   \n",
       "1  {'href': None, 'total': 337751}   \n",
       "2  {'href': None, 'total': 243895}   \n",
       "3  {'href': None, 'total': 108829}   \n",
       "4  {'href': None, 'total': 455231}   \n",
       "\n",
       "                                              genres  \\\n",
       "0  [boy band, dance pop, europop, pop, post-teen ...   \n",
       "1                [antiviral pop, comedy rock, comic]   \n",
       "2  [alternative metal, nu metal, post-grunge, rap...   \n",
       "3  [alternative rock, folk, folk-pop, lilith, mel...   \n",
       "4  [boy band, dance pop, gangster rap, hip hop, h...   \n",
       "\n",
       "                                                href                      id  \\\n",
       "0  https://api.spotify.com/v1/artists/6Ff53KvcvAj...  6Ff53KvcvAj5U7Z1vojB5o   \n",
       "1  https://api.spotify.com/v1/artists/1bDWGdIC2ha...  1bDWGdIC2hardyt55nlQgG   \n",
       "2  https://api.spotify.com/v1/artists/0REMf7H0VP6...  0REMf7H0VP6DwfZ9MbuWph   \n",
       "3  https://api.spotify.com/v1/artists/0MBIKH9DjtB...  0MBIKH9DjtBkv8O3nS6szj   \n",
       "4  https://api.spotify.com/v1/artists/7urq0VfqxEY...  7urq0VfqxEYEEiZUkebXT4   \n",
       "\n",
       "                                              images                 name  \\\n",
       "0  [{'height': 1173, 'url': 'https://i.scdn.co/im...               *NSYNC   \n",
       "1  [{'height': 563, 'url': 'https://i.scdn.co/ima...  \"Weird Al\" Yankovic   \n",
       "2  [{'height': 640, 'url': 'https://i.scdn.co/ima...             10 Years   \n",
       "3  [{'height': 640, 'url': 'https://i.scdn.co/ima...       10,000 Maniacs   \n",
       "4  [{'height': 130, 'url': 'https://i.scdn.co/ima...                  112   \n",
       "\n",
       "  popularity    type                                    uri  \n",
       "0         71  artist  spotify:artist:6Ff53KvcvAj5U7Z1vojB5o  \n",
       "1         59  artist  spotify:artist:1bDWGdIC2hardyt55nlQgG  \n",
       "2         60  artist  spotify:artist:0REMf7H0VP6DwfZ9MbuWph  \n",
       "3         52  artist  spotify:artist:0MBIKH9DjtBkv8O3nS6szj  \n",
       "4         68  artist  spotify:artist:7urq0VfqxEYEEiZUkebXT4  "
      ]
     },
     "execution_count": 243,
     "metadata": {},
     "output_type": "execute_result"
    }
   ],
   "source": [
    "df.head()"
   ]
  },
  {
   "cell_type": "code",
   "execution_count": 244,
   "metadata": {},
   "outputs": [
    {
     "data": {
      "text/plain": [
       "external_urls    {'spotify': 'https://open.spotify.com/artist/2...\n",
       "followers                         {'href': None, 'total': 1588912}\n",
       "genres           [album rock, blues-rock, classic rock, hard ro...\n",
       "href             https://api.spotify.com/v1/artists/2AM4ilv6UzW...\n",
       "id                                          2AM4ilv6UzW0uMRuqKtDgN\n",
       "images           [{'height': 1503, 'url': 'https://i.scdn.co/im...\n",
       "name                                                        ZZ Top\n",
       "popularity                                                      69\n",
       "type                                                        artist\n",
       "uri                          spotify:artist:2AM4ilv6UzW0uMRuqKtDgN\n",
       "Name: 2378, dtype: object"
      ]
     },
     "execution_count": 244,
     "metadata": {},
     "output_type": "execute_result"
    }
   ],
   "source": [
    "df.loc[2378]"
   ]
  },
  {
   "cell_type": "markdown",
   "metadata": {},
   "source": [
    "##### Adding `found_artists` into DataFrame"
   ]
  },
  {
   "cell_type": "code",
   "execution_count": 250,
   "metadata": {},
   "outputs": [],
   "source": [
    "df_2 = pd.DataFrame(pd.Series(found_artists[0]).reset_index()).T"
   ]
  },
  {
   "cell_type": "code",
   "execution_count": 251,
   "metadata": {},
   "outputs": [],
   "source": [
    "count = 0\n",
    "\n",
    "for i in found_artists[1:]:\n",
    "    count += 1\n",
    "    df_2.loc[count] = pd.Series(i).reset_index().T.iloc[1]"
   ]
  },
  {
   "cell_type": "code",
   "execution_count": 253,
   "metadata": {},
   "outputs": [],
   "source": [
    "df_2.columns = [\"external_urls\", \"followers\", \"genres\", \"href\", \"id\", \"images\", \"name\", \"popularity\",  \"type\", \"uri\"]"
   ]
  },
  {
   "cell_type": "code",
   "execution_count": 255,
   "metadata": {},
   "outputs": [],
   "source": [
    "df_2.drop(labels='index', inplace=True)"
   ]
  },
  {
   "cell_type": "code",
   "execution_count": 256,
   "metadata": {},
   "outputs": [
    {
     "data": {
      "text/html": [
       "<div>\n",
       "<style scoped>\n",
       "    .dataframe tbody tr th:only-of-type {\n",
       "        vertical-align: middle;\n",
       "    }\n",
       "\n",
       "    .dataframe tbody tr th {\n",
       "        vertical-align: top;\n",
       "    }\n",
       "\n",
       "    .dataframe thead th {\n",
       "        text-align: right;\n",
       "    }\n",
       "</style>\n",
       "<table border=\"1\" class=\"dataframe\">\n",
       "  <thead>\n",
       "    <tr style=\"text-align: right;\">\n",
       "      <th></th>\n",
       "      <th>external_urls</th>\n",
       "      <th>followers</th>\n",
       "      <th>genres</th>\n",
       "      <th>href</th>\n",
       "      <th>id</th>\n",
       "      <th>images</th>\n",
       "      <th>name</th>\n",
       "      <th>popularity</th>\n",
       "      <th>type</th>\n",
       "      <th>uri</th>\n",
       "    </tr>\n",
       "  </thead>\n",
       "  <tbody>\n",
       "    <tr>\n",
       "      <th>0</th>\n",
       "      <td>{'spotify': 'https://open.spotify.com/artist/0...</td>\n",
       "      <td>{'href': None, 'total': 3910}</td>\n",
       "      <td>[]</td>\n",
       "      <td>https://api.spotify.com/v1/artists/0DB192uFo3J...</td>\n",
       "      <td>0DB192uFo3JrMyTLN2mOzz</td>\n",
       "      <td>[{'height': 631, 'url': 'https://i.scdn.co/ima...</td>\n",
       "      <td>2Pac Outlawz</td>\n",
       "      <td>0</td>\n",
       "      <td>artist</td>\n",
       "      <td>spotify:artist:0DB192uFo3JrMyTLN2mOzz</td>\n",
       "    </tr>\n",
       "    <tr>\n",
       "      <th>1</th>\n",
       "      <td>{'spotify': 'https://open.spotify.com/artist/5...</td>\n",
       "      <td>{'href': None, 'total': 243}</td>\n",
       "      <td>[]</td>\n",
       "      <td>https://api.spotify.com/v1/artists/5YLOp0Sy5xu...</td>\n",
       "      <td>5YLOp0Sy5xupNvy9NiopC2</td>\n",
       "      <td>[{'height': 635, 'url': 'https://i.scdn.co/ima...</td>\n",
       "      <td>Minneapolis Symphony Orchestra</td>\n",
       "      <td>28</td>\n",
       "      <td>artist</td>\n",
       "      <td>spotify:artist:5YLOp0Sy5xupNvy9NiopC2</td>\n",
       "    </tr>\n",
       "    <tr>\n",
       "      <th>2</th>\n",
       "      <td>{'spotify': 'https://open.spotify.com/artist/0...</td>\n",
       "      <td>{'href': None, 'total': 112220}</td>\n",
       "      <td>[anti-folk, ectofolk, folk, folk-pop, lilith, ...</td>\n",
       "      <td>https://api.spotify.com/v1/artists/0AiTwNtYX8m...</td>\n",
       "      <td>0AiTwNtYX8m4uhfU7rJ8RD</td>\n",
       "      <td>[{'height': 640, 'url': 'https://i.scdn.co/ima...</td>\n",
       "      <td>Ani DiFranco</td>\n",
       "      <td>52</td>\n",
       "      <td>artist</td>\n",
       "      <td>spotify:artist:0AiTwNtYX8m4uhfU7rJ8RD</td>\n",
       "    </tr>\n",
       "    <tr>\n",
       "      <th>3</th>\n",
       "      <td>{'spotify': 'https://open.spotify.com/artist/5...</td>\n",
       "      <td>{'href': None, 'total': 68019}</td>\n",
       "      <td>[classical, classical performance, orchestral ...</td>\n",
       "      <td>https://api.spotify.com/v1/artists/5zCaQxjl110...</td>\n",
       "      <td>5zCaQxjl110XTrm4LQ1CxY</td>\n",
       "      <td>[{'height': 1226, 'url': 'https://i.scdn.co/im...</td>\n",
       "      <td>Herbert von Karajan</td>\n",
       "      <td>65</td>\n",
       "      <td>artist</td>\n",
       "      <td>spotify:artist:5zCaQxjl110XTrm4LQ1CxY</td>\n",
       "    </tr>\n",
       "    <tr>\n",
       "      <th>4</th>\n",
       "      <td>{'spotify': 'https://open.spotify.com/artist/7...</td>\n",
       "      <td>{'href': None, 'total': 36403}</td>\n",
       "      <td>[dance rock, jangle pop, new romantic, new wav...</td>\n",
       "      <td>https://api.spotify.com/v1/artists/7hqZBHSgDs1...</td>\n",
       "      <td>7hqZBHSgDs1odG9aupMzEI</td>\n",
       "      <td>[{'height': 652, 'url': 'https://i.scdn.co/ima...</td>\n",
       "      <td>Big Audio Dynamite</td>\n",
       "      <td>44</td>\n",
       "      <td>artist</td>\n",
       "      <td>spotify:artist:7hqZBHSgDs1odG9aupMzEI</td>\n",
       "    </tr>\n",
       "  </tbody>\n",
       "</table>\n",
       "</div>"
      ],
      "text/plain": [
       "                                       external_urls  \\\n",
       "0  {'spotify': 'https://open.spotify.com/artist/0...   \n",
       "1  {'spotify': 'https://open.spotify.com/artist/5...   \n",
       "2  {'spotify': 'https://open.spotify.com/artist/0...   \n",
       "3  {'spotify': 'https://open.spotify.com/artist/5...   \n",
       "4  {'spotify': 'https://open.spotify.com/artist/7...   \n",
       "\n",
       "                         followers  \\\n",
       "0    {'href': None, 'total': 3910}   \n",
       "1     {'href': None, 'total': 243}   \n",
       "2  {'href': None, 'total': 112220}   \n",
       "3   {'href': None, 'total': 68019}   \n",
       "4   {'href': None, 'total': 36403}   \n",
       "\n",
       "                                              genres  \\\n",
       "0                                                 []   \n",
       "1                                                 []   \n",
       "2  [anti-folk, ectofolk, folk, folk-pop, lilith, ...   \n",
       "3  [classical, classical performance, orchestral ...   \n",
       "4  [dance rock, jangle pop, new romantic, new wav...   \n",
       "\n",
       "                                                href                      id  \\\n",
       "0  https://api.spotify.com/v1/artists/0DB192uFo3J...  0DB192uFo3JrMyTLN2mOzz   \n",
       "1  https://api.spotify.com/v1/artists/5YLOp0Sy5xu...  5YLOp0Sy5xupNvy9NiopC2   \n",
       "2  https://api.spotify.com/v1/artists/0AiTwNtYX8m...  0AiTwNtYX8m4uhfU7rJ8RD   \n",
       "3  https://api.spotify.com/v1/artists/5zCaQxjl110...  5zCaQxjl110XTrm4LQ1CxY   \n",
       "4  https://api.spotify.com/v1/artists/7hqZBHSgDs1...  7hqZBHSgDs1odG9aupMzEI   \n",
       "\n",
       "                                              images  \\\n",
       "0  [{'height': 631, 'url': 'https://i.scdn.co/ima...   \n",
       "1  [{'height': 635, 'url': 'https://i.scdn.co/ima...   \n",
       "2  [{'height': 640, 'url': 'https://i.scdn.co/ima...   \n",
       "3  [{'height': 1226, 'url': 'https://i.scdn.co/im...   \n",
       "4  [{'height': 652, 'url': 'https://i.scdn.co/ima...   \n",
       "\n",
       "                             name popularity    type  \\\n",
       "0                    2Pac Outlawz          0  artist   \n",
       "1  Minneapolis Symphony Orchestra         28  artist   \n",
       "2                    Ani DiFranco         52  artist   \n",
       "3             Herbert von Karajan         65  artist   \n",
       "4              Big Audio Dynamite         44  artist   \n",
       "\n",
       "                                     uri  \n",
       "0  spotify:artist:0DB192uFo3JrMyTLN2mOzz  \n",
       "1  spotify:artist:5YLOp0Sy5xupNvy9NiopC2  \n",
       "2  spotify:artist:0AiTwNtYX8m4uhfU7rJ8RD  \n",
       "3  spotify:artist:5zCaQxjl110XTrm4LQ1CxY  \n",
       "4  spotify:artist:7hqZBHSgDs1odG9aupMzEI  "
      ]
     },
     "execution_count": 256,
     "metadata": {},
     "output_type": "execute_result"
    }
   ],
   "source": [
    "df_2.head()"
   ]
  },
  {
   "cell_type": "markdown",
   "metadata": {},
   "source": [
    "##### Combining DataFrames"
   ]
  },
  {
   "cell_type": "code",
   "execution_count": 261,
   "metadata": {},
   "outputs": [],
   "source": [
    "df = pd.concat([df, df_2])"
   ]
  },
  {
   "cell_type": "code",
   "execution_count": 266,
   "metadata": {},
   "outputs": [
    {
     "data": {
      "text/html": [
       "<div>\n",
       "<style scoped>\n",
       "    .dataframe tbody tr th:only-of-type {\n",
       "        vertical-align: middle;\n",
       "    }\n",
       "\n",
       "    .dataframe tbody tr th {\n",
       "        vertical-align: top;\n",
       "    }\n",
       "\n",
       "    .dataframe thead th {\n",
       "        text-align: right;\n",
       "    }\n",
       "</style>\n",
       "<table border=\"1\" class=\"dataframe\">\n",
       "  <thead>\n",
       "    <tr style=\"text-align: right;\">\n",
       "      <th></th>\n",
       "      <th>external_urls</th>\n",
       "      <th>followers</th>\n",
       "      <th>genres</th>\n",
       "      <th>href</th>\n",
       "      <th>id</th>\n",
       "      <th>images</th>\n",
       "      <th>name</th>\n",
       "      <th>popularity</th>\n",
       "      <th>type</th>\n",
       "      <th>uri</th>\n",
       "    </tr>\n",
       "  </thead>\n",
       "  <tbody>\n",
       "    <tr>\n",
       "      <th>0</th>\n",
       "      <td>{'spotify': 'https://open.spotify.com/artist/6...</td>\n",
       "      <td>{'href': None, 'total': 747136}</td>\n",
       "      <td>[boy band, dance pop, europop, pop, post-teen ...</td>\n",
       "      <td>https://api.spotify.com/v1/artists/6Ff53KvcvAj...</td>\n",
       "      <td>6Ff53KvcvAj5U7Z1vojB5o</td>\n",
       "      <td>[{'height': 1173, 'url': 'https://i.scdn.co/im...</td>\n",
       "      <td>*NSYNC</td>\n",
       "      <td>71</td>\n",
       "      <td>artist</td>\n",
       "      <td>spotify:artist:6Ff53KvcvAj5U7Z1vojB5o</td>\n",
       "    </tr>\n",
       "    <tr>\n",
       "      <th>1</th>\n",
       "      <td>{'spotify': 'https://open.spotify.com/artist/1...</td>\n",
       "      <td>{'href': None, 'total': 337751}</td>\n",
       "      <td>[antiviral pop, comedy rock, comic]</td>\n",
       "      <td>https://api.spotify.com/v1/artists/1bDWGdIC2ha...</td>\n",
       "      <td>1bDWGdIC2hardyt55nlQgG</td>\n",
       "      <td>[{'height': 563, 'url': 'https://i.scdn.co/ima...</td>\n",
       "      <td>\"Weird Al\" Yankovic</td>\n",
       "      <td>59</td>\n",
       "      <td>artist</td>\n",
       "      <td>spotify:artist:1bDWGdIC2hardyt55nlQgG</td>\n",
       "    </tr>\n",
       "    <tr>\n",
       "      <th>2</th>\n",
       "      <td>{'spotify': 'https://open.spotify.com/artist/0...</td>\n",
       "      <td>{'href': None, 'total': 243895}</td>\n",
       "      <td>[alternative metal, nu metal, post-grunge, rap...</td>\n",
       "      <td>https://api.spotify.com/v1/artists/0REMf7H0VP6...</td>\n",
       "      <td>0REMf7H0VP6DwfZ9MbuWph</td>\n",
       "      <td>[{'height': 640, 'url': 'https://i.scdn.co/ima...</td>\n",
       "      <td>10 Years</td>\n",
       "      <td>60</td>\n",
       "      <td>artist</td>\n",
       "      <td>spotify:artist:0REMf7H0VP6DwfZ9MbuWph</td>\n",
       "    </tr>\n",
       "    <tr>\n",
       "      <th>3</th>\n",
       "      <td>{'spotify': 'https://open.spotify.com/artist/0...</td>\n",
       "      <td>{'href': None, 'total': 108829}</td>\n",
       "      <td>[alternative rock, folk, folk-pop, lilith, mel...</td>\n",
       "      <td>https://api.spotify.com/v1/artists/0MBIKH9DjtB...</td>\n",
       "      <td>0MBIKH9DjtBkv8O3nS6szj</td>\n",
       "      <td>[{'height': 640, 'url': 'https://i.scdn.co/ima...</td>\n",
       "      <td>10,000 Maniacs</td>\n",
       "      <td>52</td>\n",
       "      <td>artist</td>\n",
       "      <td>spotify:artist:0MBIKH9DjtBkv8O3nS6szj</td>\n",
       "    </tr>\n",
       "    <tr>\n",
       "      <th>4</th>\n",
       "      <td>{'spotify': 'https://open.spotify.com/artist/7...</td>\n",
       "      <td>{'href': None, 'total': 455231}</td>\n",
       "      <td>[boy band, dance pop, gangster rap, hip hop, h...</td>\n",
       "      <td>https://api.spotify.com/v1/artists/7urq0VfqxEY...</td>\n",
       "      <td>7urq0VfqxEYEEiZUkebXT4</td>\n",
       "      <td>[{'height': 130, 'url': 'https://i.scdn.co/ima...</td>\n",
       "      <td>112</td>\n",
       "      <td>68</td>\n",
       "      <td>artist</td>\n",
       "      <td>spotify:artist:7urq0VfqxEYEEiZUkebXT4</td>\n",
       "    </tr>\n",
       "  </tbody>\n",
       "</table>\n",
       "</div>"
      ],
      "text/plain": [
       "                                       external_urls  \\\n",
       "0  {'spotify': 'https://open.spotify.com/artist/6...   \n",
       "1  {'spotify': 'https://open.spotify.com/artist/1...   \n",
       "2  {'spotify': 'https://open.spotify.com/artist/0...   \n",
       "3  {'spotify': 'https://open.spotify.com/artist/0...   \n",
       "4  {'spotify': 'https://open.spotify.com/artist/7...   \n",
       "\n",
       "                         followers  \\\n",
       "0  {'href': None, 'total': 747136}   \n",
       "1  {'href': None, 'total': 337751}   \n",
       "2  {'href': None, 'total': 243895}   \n",
       "3  {'href': None, 'total': 108829}   \n",
       "4  {'href': None, 'total': 455231}   \n",
       "\n",
       "                                              genres  \\\n",
       "0  [boy band, dance pop, europop, pop, post-teen ...   \n",
       "1                [antiviral pop, comedy rock, comic]   \n",
       "2  [alternative metal, nu metal, post-grunge, rap...   \n",
       "3  [alternative rock, folk, folk-pop, lilith, mel...   \n",
       "4  [boy band, dance pop, gangster rap, hip hop, h...   \n",
       "\n",
       "                                                href                      id  \\\n",
       "0  https://api.spotify.com/v1/artists/6Ff53KvcvAj...  6Ff53KvcvAj5U7Z1vojB5o   \n",
       "1  https://api.spotify.com/v1/artists/1bDWGdIC2ha...  1bDWGdIC2hardyt55nlQgG   \n",
       "2  https://api.spotify.com/v1/artists/0REMf7H0VP6...  0REMf7H0VP6DwfZ9MbuWph   \n",
       "3  https://api.spotify.com/v1/artists/0MBIKH9DjtB...  0MBIKH9DjtBkv8O3nS6szj   \n",
       "4  https://api.spotify.com/v1/artists/7urq0VfqxEY...  7urq0VfqxEYEEiZUkebXT4   \n",
       "\n",
       "                                              images                 name  \\\n",
       "0  [{'height': 1173, 'url': 'https://i.scdn.co/im...               *NSYNC   \n",
       "1  [{'height': 563, 'url': 'https://i.scdn.co/ima...  \"Weird Al\" Yankovic   \n",
       "2  [{'height': 640, 'url': 'https://i.scdn.co/ima...             10 Years   \n",
       "3  [{'height': 640, 'url': 'https://i.scdn.co/ima...       10,000 Maniacs   \n",
       "4  [{'height': 130, 'url': 'https://i.scdn.co/ima...                  112   \n",
       "\n",
       "  popularity    type                                    uri  \n",
       "0         71  artist  spotify:artist:6Ff53KvcvAj5U7Z1vojB5o  \n",
       "1         59  artist  spotify:artist:1bDWGdIC2hardyt55nlQgG  \n",
       "2         60  artist  spotify:artist:0REMf7H0VP6DwfZ9MbuWph  \n",
       "3         52  artist  spotify:artist:0MBIKH9DjtBkv8O3nS6szj  \n",
       "4         68  artist  spotify:artist:7urq0VfqxEYEEiZUkebXT4  "
      ]
     },
     "execution_count": 266,
     "metadata": {},
     "output_type": "execute_result"
    }
   ],
   "source": [
    "df.head()"
   ]
  },
  {
   "cell_type": "code",
   "execution_count": null,
   "metadata": {},
   "outputs": [],
   "source": [
    "df.dropna(inplace=True)"
   ]
  },
  {
   "cell_type": "code",
   "execution_count": 398,
   "metadata": {},
   "outputs": [],
   "source": [
    "df.to_csv('../data/spotify_artists_unclean.csv')"
   ]
  },
  {
   "cell_type": "markdown",
   "metadata": {},
   "source": [
    "#### Cleaning Up DataFrame"
   ]
  },
  {
   "cell_type": "code",
   "execution_count": 293,
   "metadata": {},
   "outputs": [
    {
     "data": {
      "text/plain": [
       "747136"
      ]
     },
     "execution_count": 293,
     "metadata": {},
     "output_type": "execute_result"
    }
   ],
   "source": [
    "di = {'href': None, 'total': 747136}\n",
    "list(di.values())[1]"
   ]
  },
  {
   "cell_type": "code",
   "execution_count": 386,
   "metadata": {},
   "outputs": [
    {
     "data": {
      "text/plain": [
       "337751"
      ]
     },
     "execution_count": 386,
     "metadata": {},
     "output_type": "execute_result"
    }
   ],
   "source": [
    "list(df['followers'].iloc[1].values())[1]"
   ]
  },
  {
   "cell_type": "code",
   "execution_count": 392,
   "metadata": {},
   "outputs": [],
   "source": [
    "followers = []\n",
    "\n",
    "for i in df['followers']:\n",
    "    for k, v in i.items():\n",
    "        if isinstance(v, int):\n",
    "            followers.append(v)"
   ]
  },
  {
   "cell_type": "code",
   "execution_count": 395,
   "metadata": {},
   "outputs": [],
   "source": [
    "df['followers_2'] = followers"
   ]
  },
  {
   "cell_type": "code",
   "execution_count": 397,
   "metadata": {},
   "outputs": [
    {
     "data": {
      "text/html": [
       "<div>\n",
       "<style scoped>\n",
       "    .dataframe tbody tr th:only-of-type {\n",
       "        vertical-align: middle;\n",
       "    }\n",
       "\n",
       "    .dataframe tbody tr th {\n",
       "        vertical-align: top;\n",
       "    }\n",
       "\n",
       "    .dataframe thead th {\n",
       "        text-align: right;\n",
       "    }\n",
       "</style>\n",
       "<table border=\"1\" class=\"dataframe\">\n",
       "  <thead>\n",
       "    <tr style=\"text-align: right;\">\n",
       "      <th></th>\n",
       "      <th>external_urls</th>\n",
       "      <th>followers</th>\n",
       "      <th>genres</th>\n",
       "      <th>href</th>\n",
       "      <th>id</th>\n",
       "      <th>images</th>\n",
       "      <th>name</th>\n",
       "      <th>popularity</th>\n",
       "      <th>type</th>\n",
       "      <th>uri</th>\n",
       "      <th>followers_2</th>\n",
       "    </tr>\n",
       "  </thead>\n",
       "  <tbody>\n",
       "    <tr>\n",
       "      <th>2445</th>\n",
       "      <td>{'spotify': 'https://open.spotify.com/artist/6...</td>\n",
       "      <td>{'href': None, 'total': 1002136}</td>\n",
       "      <td>[reggae fusion, uk reggae]</td>\n",
       "      <td>https://api.spotify.com/v1/artists/69MEO1AADKg...</td>\n",
       "      <td>69MEO1AADKg1IZrq2XLzo5</td>\n",
       "      <td>[{'height': 640, 'url': 'https://i.scdn.co/ima...</td>\n",
       "      <td>UB40</td>\n",
       "      <td>70</td>\n",
       "      <td>artist</td>\n",
       "      <td>spotify:artist:69MEO1AADKg1IZrq2XLzo5</td>\n",
       "      <td>1002136</td>\n",
       "    </tr>\n",
       "    <tr>\n",
       "      <th>2446</th>\n",
       "      <td>{'spotify': 'https://open.spotify.com/artist/7...</td>\n",
       "      <td>{'href': None, 'total': 5601}</td>\n",
       "      <td>[]</td>\n",
       "      <td>https://api.spotify.com/v1/artists/7sF6m3PpW6G...</td>\n",
       "      <td>7sF6m3PpW6G6m6J2gzzmzM</td>\n",
       "      <td>[{'height': 640, 'url': 'https://i.scdn.co/ima...</td>\n",
       "      <td>U.S.A. For Africa</td>\n",
       "      <td>50</td>\n",
       "      <td>artist</td>\n",
       "      <td>spotify:artist:7sF6m3PpW6G6m6J2gzzmzM</td>\n",
       "      <td>5601</td>\n",
       "    </tr>\n",
       "    <tr>\n",
       "      <th>2447</th>\n",
       "      <td>{'spotify': 'https://open.spotify.com/artist/4...</td>\n",
       "      <td>{'href': None, 'total': 34111}</td>\n",
       "      <td>[children's music]</td>\n",
       "      <td>https://api.spotify.com/v1/artists/4QKx7KohkWZ...</td>\n",
       "      <td>4QKx7KohkWZAOkO4sI3GRx</td>\n",
       "      <td>[{'height': 640, 'url': 'https://i.scdn.co/ima...</td>\n",
       "      <td>VeggieTales</td>\n",
       "      <td>52</td>\n",
       "      <td>artist</td>\n",
       "      <td>spotify:artist:4QKx7KohkWZAOkO4sI3GRx</td>\n",
       "      <td>34111</td>\n",
       "    </tr>\n",
       "    <tr>\n",
       "      <th>2448</th>\n",
       "      <td>{'spotify': 'https://open.spotify.com/artist/2...</td>\n",
       "      <td>{'href': None, 'total': 358737}</td>\n",
       "      <td>[post-teen pop]</td>\n",
       "      <td>https://api.spotify.com/v1/artists/2OTfr6S2kuH...</td>\n",
       "      <td>2OTfr6S2kuHRYStjt1IkY6</td>\n",
       "      <td>[{'height': 640, 'url': 'https://i.scdn.co/ima...</td>\n",
       "      <td>Victoria Justice</td>\n",
       "      <td>62</td>\n",
       "      <td>artist</td>\n",
       "      <td>spotify:artist:2OTfr6S2kuHRYStjt1IkY6</td>\n",
       "      <td>358737</td>\n",
       "    </tr>\n",
       "    <tr>\n",
       "      <th>2449</th>\n",
       "      <td>{'spotify': 'https://open.spotify.com/artist/7...</td>\n",
       "      <td>{'href': None, 'total': 4384}</td>\n",
       "      <td>[disco]</td>\n",
       "      <td>https://api.spotify.com/v1/artists/73JBR5s2PVv...</td>\n",
       "      <td>73JBR5s2PVvUjGu6tIqjqx</td>\n",
       "      <td>[{'height': 640, 'url': 'https://i.scdn.co/ima...</td>\n",
       "      <td>Walter Murphy</td>\n",
       "      <td>37</td>\n",
       "      <td>artist</td>\n",
       "      <td>spotify:artist:73JBR5s2PVvUjGu6tIqjqx</td>\n",
       "      <td>4384</td>\n",
       "    </tr>\n",
       "  </tbody>\n",
       "</table>\n",
       "</div>"
      ],
      "text/plain": [
       "                                          external_urls  \\\n",
       "2445  {'spotify': 'https://open.spotify.com/artist/6...   \n",
       "2446  {'spotify': 'https://open.spotify.com/artist/7...   \n",
       "2447  {'spotify': 'https://open.spotify.com/artist/4...   \n",
       "2448  {'spotify': 'https://open.spotify.com/artist/2...   \n",
       "2449  {'spotify': 'https://open.spotify.com/artist/7...   \n",
       "\n",
       "                             followers                      genres  \\\n",
       "2445  {'href': None, 'total': 1002136}  [reggae fusion, uk reggae]   \n",
       "2446     {'href': None, 'total': 5601}                          []   \n",
       "2447    {'href': None, 'total': 34111}          [children's music]   \n",
       "2448   {'href': None, 'total': 358737}             [post-teen pop]   \n",
       "2449     {'href': None, 'total': 4384}                     [disco]   \n",
       "\n",
       "                                                   href  \\\n",
       "2445  https://api.spotify.com/v1/artists/69MEO1AADKg...   \n",
       "2446  https://api.spotify.com/v1/artists/7sF6m3PpW6G...   \n",
       "2447  https://api.spotify.com/v1/artists/4QKx7KohkWZ...   \n",
       "2448  https://api.spotify.com/v1/artists/2OTfr6S2kuH...   \n",
       "2449  https://api.spotify.com/v1/artists/73JBR5s2PVv...   \n",
       "\n",
       "                          id  \\\n",
       "2445  69MEO1AADKg1IZrq2XLzo5   \n",
       "2446  7sF6m3PpW6G6m6J2gzzmzM   \n",
       "2447  4QKx7KohkWZAOkO4sI3GRx   \n",
       "2448  2OTfr6S2kuHRYStjt1IkY6   \n",
       "2449  73JBR5s2PVvUjGu6tIqjqx   \n",
       "\n",
       "                                                 images               name  \\\n",
       "2445  [{'height': 640, 'url': 'https://i.scdn.co/ima...               UB40   \n",
       "2446  [{'height': 640, 'url': 'https://i.scdn.co/ima...  U.S.A. For Africa   \n",
       "2447  [{'height': 640, 'url': 'https://i.scdn.co/ima...        VeggieTales   \n",
       "2448  [{'height': 640, 'url': 'https://i.scdn.co/ima...   Victoria Justice   \n",
       "2449  [{'height': 640, 'url': 'https://i.scdn.co/ima...      Walter Murphy   \n",
       "\n",
       "     popularity    type                                    uri  followers_2  \n",
       "2445         70  artist  spotify:artist:69MEO1AADKg1IZrq2XLzo5      1002136  \n",
       "2446         50  artist  spotify:artist:7sF6m3PpW6G6m6J2gzzmzM         5601  \n",
       "2447         52  artist  spotify:artist:4QKx7KohkWZAOkO4sI3GRx        34111  \n",
       "2448         62  artist  spotify:artist:2OTfr6S2kuHRYStjt1IkY6       358737  \n",
       "2449         37  artist  spotify:artist:73JBR5s2PVvUjGu6tIqjqx         4384  "
      ]
     },
     "execution_count": 397,
     "metadata": {},
     "output_type": "execute_result"
    }
   ],
   "source": [
    "df.tail()"
   ]
  },
  {
   "cell_type": "code",
   "execution_count": 400,
   "metadata": {},
   "outputs": [],
   "source": [
    "df.drop('followers', axis=1, inplace=True)"
   ]
  },
  {
   "cell_type": "code",
   "execution_count": 406,
   "metadata": {},
   "outputs": [],
   "source": [
    "df.to_csv('../data/spotify_artists_clean.csv')"
   ]
  },
  {
   "cell_type": "markdown",
   "metadata": {},
   "source": [
    "#### Spotify Artists Duplicate Entry Check"
   ]
  },
  {
   "cell_type": "code",
   "execution_count": 2,
   "metadata": {},
   "outputs": [
    {
     "data": {
      "text/plain": [
       "(40, 11)"
      ]
     },
     "execution_count": 2,
     "metadata": {},
     "output_type": "execute_result"
    }
   ],
   "source": [
    "df = pd.read_csv('../data/spotify_artists_clean.csv')\n",
    "df[df['id'].duplicated()].sort_values('id').shape\n",
    "# df.id.duplicated()"
   ]
  },
  {
   "cell_type": "markdown",
   "metadata": {},
   "source": [
    "Turns out that I had about 40 duplicated artists that I initially pulled, which resulted in a number of duplicate song pulls from the Spotify API."
   ]
  },
  {
   "cell_type": "markdown",
   "metadata": {},
   "source": [
    "### Checking for Non-Music"
   ]
  },
  {
   "cell_type": "markdown",
   "metadata": {},
   "source": [
    "#### Checking for Comedians"
   ]
  },
  {
   "cell_type": "code",
   "execution_count": 452,
   "metadata": {},
   "outputs": [],
   "source": [
    "# for genres in df['genres']:\n",
    "#     if \n",
    "\n",
    "series = df['genres'].apply(lambda x: x if 'comedy' in x else type(None))"
   ]
  },
  {
   "cell_type": "markdown",
   "metadata": {},
   "source": [
    "### Grabbing Tracks For Each Artist"
   ]
  },
  {
   "cell_type": "code",
   "execution_count": 268,
   "metadata": {},
   "outputs": [],
   "source": [
    "nsync = sp.artist_top_tracks('6Ff53KvcvAj5U7Z1vojB5o')"
   ]
  },
  {
   "cell_type": "code",
   "execution_count": 14,
   "metadata": {},
   "outputs": [],
   "source": [
    "song_list = []\n",
    "\n",
    "for aid in df['id']:\n",
    "    try:\n",
    "        song_list.append(sp.artist_top_tracks(aid))\n",
    "    except:\n",
    "        song_list.append('no_results')\n",
    "    time.sleep(1)"
   ]
  },
  {
   "cell_type": "markdown",
   "metadata": {},
   "source": [
    "##### Checking Results"
   ]
  },
  {
   "cell_type": "code",
   "execution_count": 281,
   "metadata": {},
   "outputs": [
    {
     "data": {
      "text/plain": [
       "2450"
      ]
     },
     "execution_count": 281,
     "metadata": {},
     "output_type": "execute_result"
    }
   ],
   "source": [
    "len(song_list)"
   ]
  },
  {
   "cell_type": "code",
   "execution_count": 282,
   "metadata": {},
   "outputs": [],
   "source": [
    "count = -1\n",
    "index_list = []\n",
    "\n",
    "for artist in list(enumerate(song_list)):\n",
    "    count += 1\n",
    "    if artist == 'no_results':\n",
    "        index_list.append(count)"
   ]
  },
  {
   "cell_type": "code",
   "execution_count": 283,
   "metadata": {},
   "outputs": [
    {
     "data": {
      "text/plain": [
       "[]"
      ]
     },
     "execution_count": 283,
     "metadata": {},
     "output_type": "execute_result"
    }
   ],
   "source": [
    "index_list"
   ]
  },
  {
   "cell_type": "markdown",
   "metadata": {},
   "source": [
    "The result for \"Trin-I-Tee 5:7\" is now deleted"
   ]
  },
  {
   "cell_type": "code",
   "execution_count": 16,
   "metadata": {},
   "outputs": [],
   "source": [
    "with open('../pickle/song_list.pkl', 'wb+') as f:\n",
    "    pickle.dump(song_list, f)"
   ]
  },
  {
   "cell_type": "markdown",
   "metadata": {},
   "source": [
    "#### Using Track id to Query Audio Features of each Song"
   ]
  },
  {
   "cell_type": "code",
   "execution_count": 163,
   "metadata": {},
   "outputs": [],
   "source": [
    "with open('../pickle/song_list.pkl', 'rb+') as f:\n",
    "    song_list = pickle.load(f)"
   ]
  },
  {
   "cell_type": "markdown",
   "metadata": {},
   "source": [
    "found a few columns of essential information:"
   ]
  },
  {
   "cell_type": "code",
   "execution_count": 187,
   "metadata": {},
   "outputs": [],
   "source": [
    "# song_list[0]['tracks']                                                #for tracklisting\n",
    "# song_list[0]['tracks'][0]['id']                                       #for a single track\n",
    "# song_list[0]['tracks'][0]['artists'][0]['name']                       #for artist name\n",
    "# song_list[0]['tracks'][0]['artists'][0]['id']                         #for artist id\n",
    "# song_list[0]['tracks'][0]['name']                                     #for song title\n",
    "# song_list[0]['tracks'][0]['album']['name']                            #for album name\n",
    "# song_list[0]['tracks'][0]['album']['release_date']                    #for album release date\n",
    "# song_list[0]['tracks'][0]['duration_ms']                              #for length of track in ms\n",
    "# song_list[0]['tracks'][0]['explicit']                                 #for song explicit status"
   ]
  },
  {
   "cell_type": "code",
   "execution_count": 195,
   "metadata": {},
   "outputs": [],
   "source": [
    "master_song_list = []\n",
    "\n",
    "# pd.DataFrame(columns=['song_id', 'song_title', 'artist_id', 'artist_name', \n",
    "#                                          'linked_album', 'album_release_date', 'duration_ms',\n",
    "#                                          'explicit'])\n",
    "\n",
    "for entry in song_list:\n",
    "    if isinstance(entry, dict):\n",
    "        for track in entry['tracks']:\n",
    "            master_song_list.append({'song_id':track['id'], 'song_title':track['name'],\n",
    "                                     'artist_id':track['artists'][0]['id'], 'artist_name':track['artists'][0]['name'],\n",
    "                                     'linked_album':track['album']['name'], \n",
    "                                     'album_release_date':track['album']['release_date'],\n",
    "                                     'duration_ms':track['duration_ms'], 'explicit':track['explicit']})"
   ]
  },
  {
   "cell_type": "code",
   "execution_count": 200,
   "metadata": {},
   "outputs": [],
   "source": [
    "master_song_list = pd.DataFrame(master_song_list)"
   ]
  },
  {
   "cell_type": "code",
   "execution_count": 202,
   "metadata": {},
   "outputs": [],
   "source": [
    "master_song_list.set_index('song_id', inplace=True)"
   ]
  },
  {
   "cell_type": "code",
   "execution_count": 203,
   "metadata": {},
   "outputs": [],
   "source": [
    "master_song_list.to_csv('../data/spotify_song_list.csv')"
   ]
  },
  {
   "cell_type": "code",
   "execution_count": 206,
   "metadata": {},
   "outputs": [
    {
     "data": {
      "text/plain": [
       "Index(['album_release_date', 'artist_id', 'artist_name', 'duration_ms',\n",
       "       'explicit', 'linked_album', 'song_title'],\n",
       "      dtype='object')"
      ]
     },
     "execution_count": 206,
     "metadata": {},
     "output_type": "execute_result"
    }
   ],
   "source": [
    "master_song_list.columns"
   ]
  },
  {
   "cell_type": "markdown",
   "metadata": {},
   "source": [
    "#### Duplicate Song Title Check"
   ]
  },
  {
   "cell_type": "code",
   "execution_count": 11,
   "metadata": {},
   "outputs": [
    {
     "data": {
      "text/plain": [
       "(759, 7)"
      ]
     },
     "execution_count": 11,
     "metadata": {},
     "output_type": "execute_result"
    }
   ],
   "source": [
    "df = pd.read_csv('../data/spotify_song_list.csv', index_col = 0)\n",
    "df[df.duplicated()].sort_values('song_id').shape"
   ]
  },
  {
   "cell_type": "markdown",
   "metadata": {},
   "source": [
    "It looks like, given the inadvertent duplicate artist grab, I grabbed about 759 duplicate song titles."
   ]
  },
  {
   "cell_type": "markdown",
   "metadata": {},
   "source": [
    "##### Loading In Artist Table Again"
   ]
  },
  {
   "cell_type": "code",
   "execution_count": 12,
   "metadata": {},
   "outputs": [],
   "source": [
    "df = pd.read_csv('../data/spotify_artists_clean.csv', index_col=0)"
   ]
  },
  {
   "cell_type": "code",
   "execution_count": 80,
   "metadata": {},
   "outputs": [
    {
     "name": "stdout",
     "output_type": "stream",
     "text": [
      "<class 'pandas.core.frame.DataFrame'>\n",
      "Int64Index: 2449 entries, 0 to 2449\n",
      "Data columns (total 10 columns):\n",
      "external_urls    2449 non-null object\n",
      "genres           2449 non-null object\n",
      "href             2449 non-null object\n",
      "id               2449 non-null object\n",
      "images           2449 non-null object\n",
      "name             2449 non-null object\n",
      "popularity       2449 non-null int64\n",
      "type             2449 non-null object\n",
      "uri              2449 non-null object\n",
      "followers_2      2449 non-null int64\n",
      "dtypes: int64(2), object(8)\n",
      "memory usage: 210.5+ KB\n"
     ]
    }
   ],
   "source": [
    "df.info()"
   ]
  },
  {
   "cell_type": "markdown",
   "metadata": {},
   "source": [
    "#### Cleaning & Adding Artists"
   ]
  },
  {
   "cell_type": "markdown",
   "metadata": {},
   "source": [
    "I just noticed that one of the retreived results `8 ball & MJG & Mr E of RPS Fam` was an unfortunate consequence of my \"I'm feeling lucky\" approach to gathering artists. I'll retrieve the correct `8ball & MJG` entry and append it to the artist table."
   ]
  },
  {
   "cell_type": "code",
   "execution_count": 5,
   "metadata": {},
   "outputs": [],
   "source": [
    "result = sp.search('8Ball & MJG', type='artist')\n"
   ]
  },
  {
   "cell_type": "code",
   "execution_count": 8,
   "metadata": {},
   "outputs": [
    {
     "data": {
      "text/plain": [
       "{'external_urls': {'spotify': 'https://open.spotify.com/artist/7iUhmKPNkkPPS6FCQxqtNq'},\n",
       " 'followers': {'href': None, 'total': 129015},\n",
       " 'genres': ['deep southern trap',\n",
       "  'dirty south rap',\n",
       "  'gangster rap',\n",
       "  'memphis hip hop',\n",
       "  'pop rap',\n",
       "  'southern hip hop',\n",
       "  'trap music'],\n",
       " 'href': 'https://api.spotify.com/v1/artists/7iUhmKPNkkPPS6FCQxqtNq',\n",
       " 'id': '7iUhmKPNkkPPS6FCQxqtNq',\n",
       " 'images': [{'height': 640,\n",
       "   'url': 'https://i.scdn.co/image/fafd121594231b770a47e6cdd893e2992d672c33',\n",
       "   'width': 640},\n",
       "  {'height': 300,\n",
       "   'url': 'https://i.scdn.co/image/0c56c95a331fc161b7e0b6147574d914b840db16',\n",
       "   'width': 300},\n",
       "  {'height': 64,\n",
       "   'url': 'https://i.scdn.co/image/72f790df70c1d7c3bf5098de019db0e6576865e3',\n",
       "   'width': 64}],\n",
       " 'name': '8Ball & MJG',\n",
       " 'popularity': 49,\n",
       " 'type': 'artist',\n",
       " 'uri': 'spotify:artist:7iUhmKPNkkPPS6FCQxqtNq'}"
      ]
     },
     "execution_count": 8,
     "metadata": {},
     "output_type": "execute_result"
    }
   ],
   "source": [
    "result['artists']['items'][0]"
   ]
  },
  {
   "cell_type": "code",
   "execution_count": 81,
   "metadata": {},
   "outputs": [
    {
     "data": {
      "text/html": [
       "<div>\n",
       "<style scoped>\n",
       "    .dataframe tbody tr th:only-of-type {\n",
       "        vertical-align: middle;\n",
       "    }\n",
       "\n",
       "    .dataframe tbody tr th {\n",
       "        vertical-align: top;\n",
       "    }\n",
       "\n",
       "    .dataframe thead th {\n",
       "        text-align: right;\n",
       "    }\n",
       "</style>\n",
       "<table border=\"1\" class=\"dataframe\">\n",
       "  <thead>\n",
       "    <tr style=\"text-align: right;\">\n",
       "      <th></th>\n",
       "      <th>external_urls</th>\n",
       "      <th>genres</th>\n",
       "      <th>href</th>\n",
       "      <th>id</th>\n",
       "      <th>images</th>\n",
       "      <th>name</th>\n",
       "      <th>popularity</th>\n",
       "      <th>type</th>\n",
       "      <th>uri</th>\n",
       "      <th>followers_2</th>\n",
       "    </tr>\n",
       "  </thead>\n",
       "  <tbody>\n",
       "    <tr>\n",
       "      <th>0</th>\n",
       "      <td>{'spotify': 'https://open.spotify.com/artist/6...</td>\n",
       "      <td>['boy band', 'dance pop', 'europop', 'pop', 'p...</td>\n",
       "      <td>https://api.spotify.com/v1/artists/6Ff53KvcvAj...</td>\n",
       "      <td>6Ff53KvcvAj5U7Z1vojB5o</td>\n",
       "      <td>[{'height': 1173, 'url': 'https://i.scdn.co/im...</td>\n",
       "      <td>*NSYNC</td>\n",
       "      <td>71</td>\n",
       "      <td>artist</td>\n",
       "      <td>spotify:artist:6Ff53KvcvAj5U7Z1vojB5o</td>\n",
       "      <td>747136</td>\n",
       "    </tr>\n",
       "    <tr>\n",
       "      <th>1</th>\n",
       "      <td>{'spotify': 'https://open.spotify.com/artist/1...</td>\n",
       "      <td>['antiviral pop', 'comedy rock', 'comic']</td>\n",
       "      <td>https://api.spotify.com/v1/artists/1bDWGdIC2ha...</td>\n",
       "      <td>1bDWGdIC2hardyt55nlQgG</td>\n",
       "      <td>[{'height': 563, 'url': 'https://i.scdn.co/ima...</td>\n",
       "      <td>\"Weird Al\" Yankovic</td>\n",
       "      <td>59</td>\n",
       "      <td>artist</td>\n",
       "      <td>spotify:artist:1bDWGdIC2hardyt55nlQgG</td>\n",
       "      <td>337751</td>\n",
       "    </tr>\n",
       "    <tr>\n",
       "      <th>2</th>\n",
       "      <td>{'spotify': 'https://open.spotify.com/artist/0...</td>\n",
       "      <td>['alternative metal', 'nu metal', 'post-grunge...</td>\n",
       "      <td>https://api.spotify.com/v1/artists/0REMf7H0VP6...</td>\n",
       "      <td>0REMf7H0VP6DwfZ9MbuWph</td>\n",
       "      <td>[{'height': 640, 'url': 'https://i.scdn.co/ima...</td>\n",
       "      <td>10 Years</td>\n",
       "      <td>60</td>\n",
       "      <td>artist</td>\n",
       "      <td>spotify:artist:0REMf7H0VP6DwfZ9MbuWph</td>\n",
       "      <td>243895</td>\n",
       "    </tr>\n",
       "    <tr>\n",
       "      <th>3</th>\n",
       "      <td>{'spotify': 'https://open.spotify.com/artist/0...</td>\n",
       "      <td>['alternative rock', 'folk', 'folk-pop', 'lili...</td>\n",
       "      <td>https://api.spotify.com/v1/artists/0MBIKH9DjtB...</td>\n",
       "      <td>0MBIKH9DjtBkv8O3nS6szj</td>\n",
       "      <td>[{'height': 640, 'url': 'https://i.scdn.co/ima...</td>\n",
       "      <td>10,000 Maniacs</td>\n",
       "      <td>52</td>\n",
       "      <td>artist</td>\n",
       "      <td>spotify:artist:0MBIKH9DjtBkv8O3nS6szj</td>\n",
       "      <td>108829</td>\n",
       "    </tr>\n",
       "    <tr>\n",
       "      <th>4</th>\n",
       "      <td>{'spotify': 'https://open.spotify.com/artist/7...</td>\n",
       "      <td>['boy band', 'dance pop', 'gangster rap', 'hip...</td>\n",
       "      <td>https://api.spotify.com/v1/artists/7urq0VfqxEY...</td>\n",
       "      <td>7urq0VfqxEYEEiZUkebXT4</td>\n",
       "      <td>[{'height': 130, 'url': 'https://i.scdn.co/ima...</td>\n",
       "      <td>112</td>\n",
       "      <td>68</td>\n",
       "      <td>artist</td>\n",
       "      <td>spotify:artist:7urq0VfqxEYEEiZUkebXT4</td>\n",
       "      <td>455231</td>\n",
       "    </tr>\n",
       "  </tbody>\n",
       "</table>\n",
       "</div>"
      ],
      "text/plain": [
       "                                       external_urls  \\\n",
       "0  {'spotify': 'https://open.spotify.com/artist/6...   \n",
       "1  {'spotify': 'https://open.spotify.com/artist/1...   \n",
       "2  {'spotify': 'https://open.spotify.com/artist/0...   \n",
       "3  {'spotify': 'https://open.spotify.com/artist/0...   \n",
       "4  {'spotify': 'https://open.spotify.com/artist/7...   \n",
       "\n",
       "                                              genres  \\\n",
       "0  ['boy band', 'dance pop', 'europop', 'pop', 'p...   \n",
       "1          ['antiviral pop', 'comedy rock', 'comic']   \n",
       "2  ['alternative metal', 'nu metal', 'post-grunge...   \n",
       "3  ['alternative rock', 'folk', 'folk-pop', 'lili...   \n",
       "4  ['boy band', 'dance pop', 'gangster rap', 'hip...   \n",
       "\n",
       "                                                href                      id  \\\n",
       "0  https://api.spotify.com/v1/artists/6Ff53KvcvAj...  6Ff53KvcvAj5U7Z1vojB5o   \n",
       "1  https://api.spotify.com/v1/artists/1bDWGdIC2ha...  1bDWGdIC2hardyt55nlQgG   \n",
       "2  https://api.spotify.com/v1/artists/0REMf7H0VP6...  0REMf7H0VP6DwfZ9MbuWph   \n",
       "3  https://api.spotify.com/v1/artists/0MBIKH9DjtB...  0MBIKH9DjtBkv8O3nS6szj   \n",
       "4  https://api.spotify.com/v1/artists/7urq0VfqxEY...  7urq0VfqxEYEEiZUkebXT4   \n",
       "\n",
       "                                              images                 name  \\\n",
       "0  [{'height': 1173, 'url': 'https://i.scdn.co/im...               *NSYNC   \n",
       "1  [{'height': 563, 'url': 'https://i.scdn.co/ima...  \"Weird Al\" Yankovic   \n",
       "2  [{'height': 640, 'url': 'https://i.scdn.co/ima...             10 Years   \n",
       "3  [{'height': 640, 'url': 'https://i.scdn.co/ima...       10,000 Maniacs   \n",
       "4  [{'height': 130, 'url': 'https://i.scdn.co/ima...                  112   \n",
       "\n",
       "   popularity    type                                    uri  followers_2  \n",
       "0          71  artist  spotify:artist:6Ff53KvcvAj5U7Z1vojB5o       747136  \n",
       "1          59  artist  spotify:artist:1bDWGdIC2hardyt55nlQgG       337751  \n",
       "2          60  artist  spotify:artist:0REMf7H0VP6DwfZ9MbuWph       243895  \n",
       "3          52  artist  spotify:artist:0MBIKH9DjtBkv8O3nS6szj       108829  \n",
       "4          68  artist  spotify:artist:7urq0VfqxEYEEiZUkebXT4       455231  "
      ]
     },
     "execution_count": 81,
     "metadata": {},
     "output_type": "execute_result"
    }
   ],
   "source": [
    "df.head()"
   ]
  },
  {
   "cell_type": "code",
   "execution_count": 82,
   "metadata": {},
   "outputs": [
    {
     "data": {
      "text/plain": [
       "Index(['external_urls', 'genres', 'href', 'id', 'images', 'name', 'popularity',\n",
       "       'type', 'uri', 'followers_2'],\n",
       "      dtype='object')"
      ]
     },
     "execution_count": 82,
     "metadata": {},
     "output_type": "execute_result"
    }
   ],
   "source": [
    "df.columns"
   ]
  },
  {
   "cell_type": "code",
   "execution_count": 83,
   "metadata": {},
   "outputs": [],
   "source": [
    "df = df.append({'external_urls':\"{'spotify': 'https://open.spotify.com/artist/7iUhmKPNkkPPS6FCQxqtNq'}\",\n",
    "           'genres':['deep southern trap', 'dirty south rap','gangster rap','memphis hip hop','pop rap','southern hip hop','trap music'],\n",
    "           'href':'https://api.spotify.com/v1/artists/7iUhmKPNkkPPS6FCQxqtNq',\n",
    "           'id':'7iUhmKPNkkPPS6FCQxqtNq',\n",
    "           'images':[{'height': 640,\n",
    "   'url': 'https://i.scdn.co/image/fafd121594231b770a47e6cdd893e2992d672c33',\n",
    "   'width': 640},\n",
    "  {'height': 300,\n",
    "   'url': 'https://i.scdn.co/image/0c56c95a331fc161b7e0b6147574d914b840db16',\n",
    "   'width': 300},\n",
    "  {'height': 64,\n",
    "   'url': 'https://i.scdn.co/image/72f790df70c1d7c3bf5098de019db0e6576865e3',\n",
    "   'width': 64}],\n",
    "           'name':'8Ball & MJG',\n",
    "           'popularity':49,\n",
    "           'type':'artist',\n",
    "           'uri':'spotify:artist:7iUhmKPNkkPPS6FCQxqtNq',\n",
    "           'followers_2':129015}, ignore_index=True)"
   ]
  },
  {
   "cell_type": "code",
   "execution_count": 84,
   "metadata": {},
   "outputs": [],
   "source": [
    "df.drop(labels = 24, inplace=True)"
   ]
  },
  {
   "cell_type": "code",
   "execution_count": 85,
   "metadata": {},
   "outputs": [],
   "source": [
    "df.drop(labels=['external_urls',\n",
    "                'href',\n",
    "                'images',\n",
    "                'type',\n",
    "                'uri'],\n",
    "        axis=1,\n",
    "        inplace=True)\n",
    "df.rename({'followers_2':'followers'}, axis=1, inplace=True)"
   ]
  },
  {
   "cell_type": "code",
   "execution_count": 86,
   "metadata": {},
   "outputs": [
    {
     "data": {
      "text/html": [
       "<div>\n",
       "<style scoped>\n",
       "    .dataframe tbody tr th:only-of-type {\n",
       "        vertical-align: middle;\n",
       "    }\n",
       "\n",
       "    .dataframe tbody tr th {\n",
       "        vertical-align: top;\n",
       "    }\n",
       "\n",
       "    .dataframe thead th {\n",
       "        text-align: right;\n",
       "    }\n",
       "</style>\n",
       "<table border=\"1\" class=\"dataframe\">\n",
       "  <thead>\n",
       "    <tr style=\"text-align: right;\">\n",
       "      <th></th>\n",
       "      <th>genres</th>\n",
       "      <th>id</th>\n",
       "      <th>name</th>\n",
       "      <th>popularity</th>\n",
       "      <th>followers</th>\n",
       "    </tr>\n",
       "  </thead>\n",
       "  <tbody>\n",
       "    <tr>\n",
       "      <th>0</th>\n",
       "      <td>['boy band', 'dance pop', 'europop', 'pop', 'p...</td>\n",
       "      <td>6Ff53KvcvAj5U7Z1vojB5o</td>\n",
       "      <td>*NSYNC</td>\n",
       "      <td>71</td>\n",
       "      <td>747136</td>\n",
       "    </tr>\n",
       "    <tr>\n",
       "      <th>1</th>\n",
       "      <td>['antiviral pop', 'comedy rock', 'comic']</td>\n",
       "      <td>1bDWGdIC2hardyt55nlQgG</td>\n",
       "      <td>\"Weird Al\" Yankovic</td>\n",
       "      <td>59</td>\n",
       "      <td>337751</td>\n",
       "    </tr>\n",
       "  </tbody>\n",
       "</table>\n",
       "</div>"
      ],
      "text/plain": [
       "                                              genres                      id  \\\n",
       "0  ['boy band', 'dance pop', 'europop', 'pop', 'p...  6Ff53KvcvAj5U7Z1vojB5o   \n",
       "1          ['antiviral pop', 'comedy rock', 'comic']  1bDWGdIC2hardyt55nlQgG   \n",
       "\n",
       "                  name  popularity  followers  \n",
       "0               *NSYNC          71     747136  \n",
       "1  \"Weird Al\" Yankovic          59     337751  "
      ]
     },
     "execution_count": 86,
     "metadata": {},
     "output_type": "execute_result"
    }
   ],
   "source": [
    "df.head(2)"
   ]
  },
  {
   "cell_type": "code",
   "execution_count": 87,
   "metadata": {},
   "outputs": [],
   "source": [
    "df['genres'] = df['genres'].apply(lambda x: str(x).strip(\"[]\"))"
   ]
  },
  {
   "cell_type": "code",
   "execution_count": 88,
   "metadata": {},
   "outputs": [
    {
     "data": {
      "text/html": [
       "<div>\n",
       "<style scoped>\n",
       "    .dataframe tbody tr th:only-of-type {\n",
       "        vertical-align: middle;\n",
       "    }\n",
       "\n",
       "    .dataframe tbody tr th {\n",
       "        vertical-align: top;\n",
       "    }\n",
       "\n",
       "    .dataframe thead th {\n",
       "        text-align: right;\n",
       "    }\n",
       "</style>\n",
       "<table border=\"1\" class=\"dataframe\">\n",
       "  <thead>\n",
       "    <tr style=\"text-align: right;\">\n",
       "      <th></th>\n",
       "      <th>genres</th>\n",
       "      <th>id</th>\n",
       "      <th>name</th>\n",
       "      <th>popularity</th>\n",
       "      <th>followers</th>\n",
       "    </tr>\n",
       "  </thead>\n",
       "  <tbody>\n",
       "    <tr>\n",
       "      <th>0</th>\n",
       "      <td>'boy band', 'dance pop', 'europop', 'pop', 'po...</td>\n",
       "      <td>6Ff53KvcvAj5U7Z1vojB5o</td>\n",
       "      <td>*NSYNC</td>\n",
       "      <td>71</td>\n",
       "      <td>747136</td>\n",
       "    </tr>\n",
       "    <tr>\n",
       "      <th>1</th>\n",
       "      <td>'antiviral pop', 'comedy rock', 'comic'</td>\n",
       "      <td>1bDWGdIC2hardyt55nlQgG</td>\n",
       "      <td>\"Weird Al\" Yankovic</td>\n",
       "      <td>59</td>\n",
       "      <td>337751</td>\n",
       "    </tr>\n",
       "  </tbody>\n",
       "</table>\n",
       "</div>"
      ],
      "text/plain": [
       "                                              genres                      id  \\\n",
       "0  'boy band', 'dance pop', 'europop', 'pop', 'po...  6Ff53KvcvAj5U7Z1vojB5o   \n",
       "1            'antiviral pop', 'comedy rock', 'comic'  1bDWGdIC2hardyt55nlQgG   \n",
       "\n",
       "                  name  popularity  followers  \n",
       "0               *NSYNC          71     747136  \n",
       "1  \"Weird Al\" Yankovic          59     337751  "
      ]
     },
     "execution_count": 88,
     "metadata": {},
     "output_type": "execute_result"
    }
   ],
   "source": [
    "df.head(2)"
   ]
  },
  {
   "cell_type": "code",
   "execution_count": 90,
   "metadata": {},
   "outputs": [],
   "source": [
    "df['genres'] = df['genres'].apply(lambda x: x.split(\",\"))"
   ]
  },
  {
   "cell_type": "code",
   "execution_count": 91,
   "metadata": {},
   "outputs": [
    {
     "data": {
      "text/html": [
       "<div>\n",
       "<style scoped>\n",
       "    .dataframe tbody tr th:only-of-type {\n",
       "        vertical-align: middle;\n",
       "    }\n",
       "\n",
       "    .dataframe tbody tr th {\n",
       "        vertical-align: top;\n",
       "    }\n",
       "\n",
       "    .dataframe thead th {\n",
       "        text-align: right;\n",
       "    }\n",
       "</style>\n",
       "<table border=\"1\" class=\"dataframe\">\n",
       "  <thead>\n",
       "    <tr style=\"text-align: right;\">\n",
       "      <th></th>\n",
       "      <th>genres</th>\n",
       "      <th>id</th>\n",
       "      <th>name</th>\n",
       "      <th>popularity</th>\n",
       "      <th>followers</th>\n",
       "    </tr>\n",
       "  </thead>\n",
       "  <tbody>\n",
       "    <tr>\n",
       "      <th>0</th>\n",
       "      <td>['boy band',  'dance pop',  'europop',  'pop',...</td>\n",
       "      <td>6Ff53KvcvAj5U7Z1vojB5o</td>\n",
       "      <td>*NSYNC</td>\n",
       "      <td>71</td>\n",
       "      <td>747136</td>\n",
       "    </tr>\n",
       "    <tr>\n",
       "      <th>1</th>\n",
       "      <td>['antiviral pop',  'comedy rock',  'comic']</td>\n",
       "      <td>1bDWGdIC2hardyt55nlQgG</td>\n",
       "      <td>\"Weird Al\" Yankovic</td>\n",
       "      <td>59</td>\n",
       "      <td>337751</td>\n",
       "    </tr>\n",
       "  </tbody>\n",
       "</table>\n",
       "</div>"
      ],
      "text/plain": [
       "                                              genres                      id  \\\n",
       "0  ['boy band',  'dance pop',  'europop',  'pop',...  6Ff53KvcvAj5U7Z1vojB5o   \n",
       "1        ['antiviral pop',  'comedy rock',  'comic']  1bDWGdIC2hardyt55nlQgG   \n",
       "\n",
       "                  name  popularity  followers  \n",
       "0               *NSYNC          71     747136  \n",
       "1  \"Weird Al\" Yankovic          59     337751  "
      ]
     },
     "execution_count": 91,
     "metadata": {},
     "output_type": "execute_result"
    }
   ],
   "source": [
    "df.head(2)"
   ]
  },
  {
   "cell_type": "code",
   "execution_count": 93,
   "metadata": {},
   "outputs": [],
   "source": [
    "# df['genres'].apply(lambda x: genre.strip() for genre in x)"
   ]
  },
  {
   "cell_type": "code",
   "execution_count": 51,
   "metadata": {},
   "outputs": [],
   "source": [
    "df.set_index('Unnamed: 0', inplace=True)"
   ]
  },
  {
   "cell_type": "markdown",
   "metadata": {},
   "source": [
    "### Dealing with Genres\n",
    "\n",
    "I'm not yet sure how I'm going to deal with genres mapped to songs. Currently, they're only tied to each artist in the form of a list.\n",
    "\n",
    "I'll first need to separate each genre value within the artist df. First, I'm gonna try retrieving the cell with the highest number of genres, and create enough separate columns to fit everyone's genres into."
   ]
  },
  {
   "cell_type": "code",
   "execution_count": 94,
   "metadata": {},
   "outputs": [
    {
     "data": {
      "text/plain": [
       "2236    19\n",
       "2108    18\n",
       "2098    16\n",
       "2328    16\n",
       "618     16\n",
       "Name: genres, dtype: int64"
      ]
     },
     "execution_count": 94,
     "metadata": {},
     "output_type": "execute_result"
    }
   ],
   "source": [
    "df['genres'].apply(lambda x: len(x)).sort_values(ascending=False).head()"
   ]
  },
  {
   "cell_type": "code",
   "execution_count": 150,
   "metadata": {},
   "outputs": [
    {
     "data": {
      "text/plain": [
       "[\"'album rock'\",\n",
       " \" 'art rock'\",\n",
       " \" 'blues-rock'\",\n",
       " \" 'british blues'\",\n",
       " \" 'classic rock'\",\n",
       " \" 'country rock'\",\n",
       " \" 'electric blues'\",\n",
       " \" 'folk'\",\n",
       " \" 'folk rock'\",\n",
       " \" 'hard rock'\",\n",
       " \" 'jam band'\",\n",
       " \" 'mellow gold'\",\n",
       " \" 'progressive rock'\",\n",
       " \" 'psychedelic rock'\",\n",
       " \" 'rock'\",\n",
       " \" 'roots rock'\",\n",
       " \" 'soft rock'\",\n",
       " \" 'southern rock'\",\n",
       " \" 'symphonic rock'\"]"
      ]
     },
     "execution_count": 150,
     "metadata": {},
     "output_type": "execute_result"
    }
   ],
   "source": [
    "df.loc[2235].genres"
   ]
  },
  {
   "cell_type": "code",
   "execution_count": 109,
   "metadata": {},
   "outputs": [],
   "source": [
    "for i in range(19):\n",
    "    df['genre_{}'.format(i)] = np.nan"
   ]
  },
  {
   "cell_type": "code",
   "execution_count": 113,
   "metadata": {},
   "outputs": [],
   "source": [
    "for i in range(19):\n",
    "    df.drop(labels=['genre_{}'.format(i)], axis=1, inplace=True)"
   ]
  },
  {
   "cell_type": "code",
   "execution_count": 114,
   "metadata": {},
   "outputs": [],
   "source": [
    "df2 = pd.DataFrame(df['genres'].tolist(), columns=['genre_{}'.format(i) for i in range(19)])"
   ]
  },
  {
   "cell_type": "code",
   "execution_count": 116,
   "metadata": {},
   "outputs": [
    {
     "data": {
      "text/html": [
       "<div>\n",
       "<style scoped>\n",
       "    .dataframe tbody tr th:only-of-type {\n",
       "        vertical-align: middle;\n",
       "    }\n",
       "\n",
       "    .dataframe tbody tr th {\n",
       "        vertical-align: top;\n",
       "    }\n",
       "\n",
       "    .dataframe thead th {\n",
       "        text-align: right;\n",
       "    }\n",
       "</style>\n",
       "<table border=\"1\" class=\"dataframe\">\n",
       "  <thead>\n",
       "    <tr style=\"text-align: right;\">\n",
       "      <th></th>\n",
       "      <th>genres</th>\n",
       "      <th>id</th>\n",
       "      <th>name</th>\n",
       "      <th>popularity</th>\n",
       "      <th>followers</th>\n",
       "    </tr>\n",
       "  </thead>\n",
       "  <tbody>\n",
       "    <tr>\n",
       "      <th>0</th>\n",
       "      <td>['boy band',  'dance pop',  'europop',  'pop',...</td>\n",
       "      <td>6Ff53KvcvAj5U7Z1vojB5o</td>\n",
       "      <td>*NSYNC</td>\n",
       "      <td>71</td>\n",
       "      <td>747136</td>\n",
       "    </tr>\n",
       "    <tr>\n",
       "      <th>1</th>\n",
       "      <td>['antiviral pop',  'comedy rock',  'comic']</td>\n",
       "      <td>1bDWGdIC2hardyt55nlQgG</td>\n",
       "      <td>\"Weird Al\" Yankovic</td>\n",
       "      <td>59</td>\n",
       "      <td>337751</td>\n",
       "    </tr>\n",
       "  </tbody>\n",
       "</table>\n",
       "</div>"
      ],
      "text/plain": [
       "                                              genres                      id  \\\n",
       "0  ['boy band',  'dance pop',  'europop',  'pop',...  6Ff53KvcvAj5U7Z1vojB5o   \n",
       "1        ['antiviral pop',  'comedy rock',  'comic']  1bDWGdIC2hardyt55nlQgG   \n",
       "\n",
       "                  name  popularity  followers  \n",
       "0               *NSYNC          71     747136  \n",
       "1  \"Weird Al\" Yankovic          59     337751  "
      ]
     },
     "execution_count": 116,
     "metadata": {},
     "output_type": "execute_result"
    }
   ],
   "source": [
    "df.head(2)"
   ]
  },
  {
   "cell_type": "code",
   "execution_count": 122,
   "metadata": {},
   "outputs": [],
   "source": [
    "df.reset_index(drop=True, inplace=True)"
   ]
  },
  {
   "cell_type": "code",
   "execution_count": 124,
   "metadata": {},
   "outputs": [],
   "source": [
    "df3 = pd.concat([df.drop('genres', axis=1), df2], axis=1)"
   ]
  },
  {
   "cell_type": "code",
   "execution_count": 2,
   "metadata": {},
   "outputs": [],
   "source": [
    "df3 = pd.read_csv('../data/spotify_artists.csv')"
   ]
  },
  {
   "cell_type": "code",
   "execution_count": 3,
   "metadata": {},
   "outputs": [
    {
     "data": {
      "text/html": [
       "<div>\n",
       "<style scoped>\n",
       "    .dataframe tbody tr th:only-of-type {\n",
       "        vertical-align: middle;\n",
       "    }\n",
       "\n",
       "    .dataframe tbody tr th {\n",
       "        vertical-align: top;\n",
       "    }\n",
       "\n",
       "    .dataframe thead th {\n",
       "        text-align: right;\n",
       "    }\n",
       "</style>\n",
       "<table border=\"1\" class=\"dataframe\">\n",
       "  <thead>\n",
       "    <tr style=\"text-align: right;\">\n",
       "      <th></th>\n",
       "      <th>id</th>\n",
       "      <th>name</th>\n",
       "      <th>popularity</th>\n",
       "      <th>followers</th>\n",
       "      <th>genre_0</th>\n",
       "      <th>genre_1</th>\n",
       "      <th>genre_2</th>\n",
       "      <th>genre_3</th>\n",
       "      <th>genre_4</th>\n",
       "      <th>genre_5</th>\n",
       "      <th>...</th>\n",
       "      <th>genre_9</th>\n",
       "      <th>genre_10</th>\n",
       "      <th>genre_11</th>\n",
       "      <th>genre_12</th>\n",
       "      <th>genre_13</th>\n",
       "      <th>genre_14</th>\n",
       "      <th>genre_15</th>\n",
       "      <th>genre_16</th>\n",
       "      <th>genre_17</th>\n",
       "      <th>genre_18</th>\n",
       "    </tr>\n",
       "  </thead>\n",
       "  <tbody>\n",
       "    <tr>\n",
       "      <th>0</th>\n",
       "      <td>6Ff53KvcvAj5U7Z1vojB5o</td>\n",
       "      <td>*NSYNC</td>\n",
       "      <td>71</td>\n",
       "      <td>747136</td>\n",
       "      <td>'boy band'</td>\n",
       "      <td>'dance pop'</td>\n",
       "      <td>'europop'</td>\n",
       "      <td>'pop'</td>\n",
       "      <td>'post-teen pop'</td>\n",
       "      <td>NaN</td>\n",
       "      <td>...</td>\n",
       "      <td>NaN</td>\n",
       "      <td>NaN</td>\n",
       "      <td>NaN</td>\n",
       "      <td>NaN</td>\n",
       "      <td>NaN</td>\n",
       "      <td>NaN</td>\n",
       "      <td>NaN</td>\n",
       "      <td>NaN</td>\n",
       "      <td>NaN</td>\n",
       "      <td>NaN</td>\n",
       "    </tr>\n",
       "    <tr>\n",
       "      <th>1</th>\n",
       "      <td>1bDWGdIC2hardyt55nlQgG</td>\n",
       "      <td>\"Weird Al\" Yankovic</td>\n",
       "      <td>59</td>\n",
       "      <td>337751</td>\n",
       "      <td>'antiviral pop'</td>\n",
       "      <td>'comedy rock'</td>\n",
       "      <td>'comic'</td>\n",
       "      <td>NaN</td>\n",
       "      <td>NaN</td>\n",
       "      <td>NaN</td>\n",
       "      <td>...</td>\n",
       "      <td>NaN</td>\n",
       "      <td>NaN</td>\n",
       "      <td>NaN</td>\n",
       "      <td>NaN</td>\n",
       "      <td>NaN</td>\n",
       "      <td>NaN</td>\n",
       "      <td>NaN</td>\n",
       "      <td>NaN</td>\n",
       "      <td>NaN</td>\n",
       "      <td>NaN</td>\n",
       "    </tr>\n",
       "  </tbody>\n",
       "</table>\n",
       "<p>2 rows × 23 columns</p>\n",
       "</div>"
      ],
      "text/plain": [
       "                       id                 name  popularity  followers  \\\n",
       "0  6Ff53KvcvAj5U7Z1vojB5o               *NSYNC          71     747136   \n",
       "1  1bDWGdIC2hardyt55nlQgG  \"Weird Al\" Yankovic          59     337751   \n",
       "\n",
       "           genre_0         genre_1     genre_2 genre_3           genre_4  \\\n",
       "0       'boy band'     'dance pop'   'europop'   'pop'   'post-teen pop'   \n",
       "1  'antiviral pop'   'comedy rock'     'comic'     NaN               NaN   \n",
       "\n",
       "  genre_5   ...    genre_9 genre_10 genre_11 genre_12 genre_13 genre_14  \\\n",
       "0     NaN   ...        NaN      NaN      NaN      NaN      NaN      NaN   \n",
       "1     NaN   ...        NaN      NaN      NaN      NaN      NaN      NaN   \n",
       "\n",
       "  genre_15 genre_16 genre_17 genre_18  \n",
       "0      NaN      NaN      NaN      NaN  \n",
       "1      NaN      NaN      NaN      NaN  \n",
       "\n",
       "[2 rows x 23 columns]"
      ]
     },
     "execution_count": 3,
     "metadata": {},
     "output_type": "execute_result"
    }
   ],
   "source": [
    "df3.head(2)"
   ]
  },
  {
   "cell_type": "markdown",
   "metadata": {},
   "source": [
    "#### Checking an Artist Entry, Because There Seems to be an issue with my gs_lookup table"
   ]
  },
  {
   "cell_type": "code",
   "execution_count": 4,
   "metadata": {},
   "outputs": [
    {
     "data": {
      "text/html": [
       "<div>\n",
       "<style scoped>\n",
       "    .dataframe tbody tr th:only-of-type {\n",
       "        vertical-align: middle;\n",
       "    }\n",
       "\n",
       "    .dataframe tbody tr th {\n",
       "        vertical-align: top;\n",
       "    }\n",
       "\n",
       "    .dataframe thead th {\n",
       "        text-align: right;\n",
       "    }\n",
       "</style>\n",
       "<table border=\"1\" class=\"dataframe\">\n",
       "  <thead>\n",
       "    <tr style=\"text-align: right;\">\n",
       "      <th></th>\n",
       "      <th>id</th>\n",
       "      <th>name</th>\n",
       "      <th>popularity</th>\n",
       "      <th>followers</th>\n",
       "      <th>genre_0</th>\n",
       "      <th>genre_1</th>\n",
       "      <th>genre_2</th>\n",
       "      <th>genre_3</th>\n",
       "      <th>genre_4</th>\n",
       "      <th>genre_5</th>\n",
       "      <th>...</th>\n",
       "      <th>genre_9</th>\n",
       "      <th>genre_10</th>\n",
       "      <th>genre_11</th>\n",
       "      <th>genre_12</th>\n",
       "      <th>genre_13</th>\n",
       "      <th>genre_14</th>\n",
       "      <th>genre_15</th>\n",
       "      <th>genre_16</th>\n",
       "      <th>genre_17</th>\n",
       "      <th>genre_18</th>\n",
       "    </tr>\n",
       "  </thead>\n",
       "  <tbody>\n",
       "    <tr>\n",
       "      <th>2155</th>\n",
       "      <td>7hbzXJ5K6AqdPnbUcCL1hL</td>\n",
       "      <td>The Souther-Hillman-Furay Band</td>\n",
       "      <td>15</td>\n",
       "      <td>1871</td>\n",
       "      <td>NaN</td>\n",
       "      <td>NaN</td>\n",
       "      <td>NaN</td>\n",
       "      <td>NaN</td>\n",
       "      <td>NaN</td>\n",
       "      <td>NaN</td>\n",
       "      <td>...</td>\n",
       "      <td>NaN</td>\n",
       "      <td>NaN</td>\n",
       "      <td>NaN</td>\n",
       "      <td>NaN</td>\n",
       "      <td>NaN</td>\n",
       "      <td>NaN</td>\n",
       "      <td>NaN</td>\n",
       "      <td>NaN</td>\n",
       "      <td>NaN</td>\n",
       "      <td>NaN</td>\n",
       "    </tr>\n",
       "  </tbody>\n",
       "</table>\n",
       "<p>1 rows × 23 columns</p>\n",
       "</div>"
      ],
      "text/plain": [
       "                          id                            name  popularity  \\\n",
       "2155  7hbzXJ5K6AqdPnbUcCL1hL  The Souther-Hillman-Furay Band          15   \n",
       "\n",
       "      followers genre_0 genre_1 genre_2 genre_3 genre_4 genre_5   ...     \\\n",
       "2155       1871     NaN     NaN     NaN     NaN     NaN     NaN   ...      \n",
       "\n",
       "     genre_9 genre_10 genre_11 genre_12 genre_13 genre_14 genre_15 genre_16  \\\n",
       "2155     NaN      NaN      NaN      NaN      NaN      NaN      NaN      NaN   \n",
       "\n",
       "     genre_17 genre_18  \n",
       "2155      NaN      NaN  \n",
       "\n",
       "[1 rows x 23 columns]"
      ]
     },
     "execution_count": 4,
     "metadata": {},
     "output_type": "execute_result"
    }
   ],
   "source": [
    "df3.query('genre == \"7hbzXJ5K6AqdPnbUcCL1hL\"')"
   ]
  },
  {
   "cell_type": "code",
   "execution_count": null,
   "metadata": {},
   "outputs": [],
   "source": [
    "df"
   ]
  },
  {
   "cell_type": "code",
   "execution_count": 140,
   "metadata": {},
   "outputs": [],
   "source": [
    "df3.replace('', value={'genre_0':None}, inplace=True)"
   ]
  },
  {
   "cell_type": "code",
   "execution_count": 160,
   "metadata": {},
   "outputs": [],
   "source": [
    "df3.set_index('id', inplace=True)"
   ]
  },
  {
   "cell_type": "code",
   "execution_count": 161,
   "metadata": {},
   "outputs": [
    {
     "data": {
      "text/html": [
       "<div>\n",
       "<style scoped>\n",
       "    .dataframe tbody tr th:only-of-type {\n",
       "        vertical-align: middle;\n",
       "    }\n",
       "\n",
       "    .dataframe tbody tr th {\n",
       "        vertical-align: top;\n",
       "    }\n",
       "\n",
       "    .dataframe thead th {\n",
       "        text-align: right;\n",
       "    }\n",
       "</style>\n",
       "<table border=\"1\" class=\"dataframe\">\n",
       "  <thead>\n",
       "    <tr style=\"text-align: right;\">\n",
       "      <th></th>\n",
       "      <th>name</th>\n",
       "      <th>popularity</th>\n",
       "      <th>followers</th>\n",
       "      <th>genre_0</th>\n",
       "      <th>genre_1</th>\n",
       "      <th>genre_2</th>\n",
       "      <th>genre_3</th>\n",
       "      <th>genre_4</th>\n",
       "      <th>genre_5</th>\n",
       "      <th>genre_6</th>\n",
       "      <th>...</th>\n",
       "      <th>genre_9</th>\n",
       "      <th>genre_10</th>\n",
       "      <th>genre_11</th>\n",
       "      <th>genre_12</th>\n",
       "      <th>genre_13</th>\n",
       "      <th>genre_14</th>\n",
       "      <th>genre_15</th>\n",
       "      <th>genre_16</th>\n",
       "      <th>genre_17</th>\n",
       "      <th>genre_18</th>\n",
       "    </tr>\n",
       "    <tr>\n",
       "      <th>id</th>\n",
       "      <th></th>\n",
       "      <th></th>\n",
       "      <th></th>\n",
       "      <th></th>\n",
       "      <th></th>\n",
       "      <th></th>\n",
       "      <th></th>\n",
       "      <th></th>\n",
       "      <th></th>\n",
       "      <th></th>\n",
       "      <th></th>\n",
       "      <th></th>\n",
       "      <th></th>\n",
       "      <th></th>\n",
       "      <th></th>\n",
       "      <th></th>\n",
       "      <th></th>\n",
       "      <th></th>\n",
       "      <th></th>\n",
       "      <th></th>\n",
       "      <th></th>\n",
       "    </tr>\n",
       "  </thead>\n",
       "  <tbody>\n",
       "    <tr>\n",
       "      <th>6Ff53KvcvAj5U7Z1vojB5o</th>\n",
       "      <td>*NSYNC</td>\n",
       "      <td>71</td>\n",
       "      <td>747136</td>\n",
       "      <td>'boy band'</td>\n",
       "      <td>'dance pop'</td>\n",
       "      <td>'europop'</td>\n",
       "      <td>'pop'</td>\n",
       "      <td>'post-teen pop'</td>\n",
       "      <td>None</td>\n",
       "      <td>None</td>\n",
       "      <td>...</td>\n",
       "      <td>None</td>\n",
       "      <td>None</td>\n",
       "      <td>None</td>\n",
       "      <td>None</td>\n",
       "      <td>None</td>\n",
       "      <td>None</td>\n",
       "      <td>None</td>\n",
       "      <td>None</td>\n",
       "      <td>None</td>\n",
       "      <td>None</td>\n",
       "    </tr>\n",
       "    <tr>\n",
       "      <th>1bDWGdIC2hardyt55nlQgG</th>\n",
       "      <td>\"Weird Al\" Yankovic</td>\n",
       "      <td>59</td>\n",
       "      <td>337751</td>\n",
       "      <td>'antiviral pop'</td>\n",
       "      <td>'comedy rock'</td>\n",
       "      <td>'comic'</td>\n",
       "      <td>None</td>\n",
       "      <td>None</td>\n",
       "      <td>None</td>\n",
       "      <td>None</td>\n",
       "      <td>...</td>\n",
       "      <td>None</td>\n",
       "      <td>None</td>\n",
       "      <td>None</td>\n",
       "      <td>None</td>\n",
       "      <td>None</td>\n",
       "      <td>None</td>\n",
       "      <td>None</td>\n",
       "      <td>None</td>\n",
       "      <td>None</td>\n",
       "      <td>None</td>\n",
       "    </tr>\n",
       "  </tbody>\n",
       "</table>\n",
       "<p>2 rows × 22 columns</p>\n",
       "</div>"
      ],
      "text/plain": [
       "                                       name  popularity  followers  \\\n",
       "id                                                                   \n",
       "6Ff53KvcvAj5U7Z1vojB5o               *NSYNC          71     747136   \n",
       "1bDWGdIC2hardyt55nlQgG  \"Weird Al\" Yankovic          59     337751   \n",
       "\n",
       "                                genre_0         genre_1     genre_2 genre_3  \\\n",
       "id                                                                            \n",
       "6Ff53KvcvAj5U7Z1vojB5o       'boy band'     'dance pop'   'europop'   'pop'   \n",
       "1bDWGdIC2hardyt55nlQgG  'antiviral pop'   'comedy rock'     'comic'    None   \n",
       "\n",
       "                                 genre_4 genre_5 genre_6   ...    genre_9  \\\n",
       "id                                                         ...              \n",
       "6Ff53KvcvAj5U7Z1vojB5o   'post-teen pop'    None    None   ...       None   \n",
       "1bDWGdIC2hardyt55nlQgG              None    None    None   ...       None   \n",
       "\n",
       "                       genre_10 genre_11 genre_12 genre_13 genre_14 genre_15  \\\n",
       "id                                                                             \n",
       "6Ff53KvcvAj5U7Z1vojB5o     None     None     None     None     None     None   \n",
       "1bDWGdIC2hardyt55nlQgG     None     None     None     None     None     None   \n",
       "\n",
       "                       genre_16 genre_17 genre_18  \n",
       "id                                                 \n",
       "6Ff53KvcvAj5U7Z1vojB5o     None     None     None  \n",
       "1bDWGdIC2hardyt55nlQgG     None     None     None  \n",
       "\n",
       "[2 rows x 22 columns]"
      ]
     },
     "execution_count": 161,
     "metadata": {},
     "output_type": "execute_result"
    }
   ],
   "source": [
    "df3.head(2)"
   ]
  },
  {
   "cell_type": "markdown",
   "metadata": {},
   "source": [
    "##### Sanity Check"
   ]
  },
  {
   "cell_type": "code",
   "execution_count": 158,
   "metadata": {},
   "outputs": [
    {
     "data": {
      "text/plain": [
       "23"
      ]
     },
     "execution_count": 158,
     "metadata": {},
     "output_type": "execute_result"
    }
   ],
   "source": [
    "len(df3.columns)"
   ]
  },
  {
   "cell_type": "code",
   "execution_count": 162,
   "metadata": {},
   "outputs": [],
   "source": [
    "df3.to_csv('../data/spotify_artists.csv')"
   ]
  },
  {
   "cell_type": "code",
   "execution_count": 152,
   "metadata": {},
   "outputs": [
    {
     "data": {
      "text/plain": [
       "Index(['id', 'name', 'popularity', 'followers', 'genre_0', 'genre_1',\n",
       "       'genre_2', 'genre_3', 'genre_4', 'genre_5', 'genre_6', 'genre_7',\n",
       "       'genre_8', 'genre_9', 'genre_10', 'genre_11', 'genre_12', 'genre_13',\n",
       "       'genre_14', 'genre_15', 'genre_16', 'genre_17', 'genre_18'],\n",
       "      dtype='object')"
      ]
     },
     "execution_count": 152,
     "metadata": {},
     "output_type": "execute_result"
    }
   ],
   "source": [
    "df3.columns"
   ]
  },
  {
   "cell_type": "markdown",
   "metadata": {},
   "source": [
    "### Dealing with Genres\n"
   ]
  },
  {
   "cell_type": "code",
   "execution_count": 13,
   "metadata": {},
   "outputs": [],
   "source": [
    "df['genres'] = df['genres'].apply(lambda x: x.split(sep=','))\n",
    "df['genres'] = df['genres'].apply(lambda x: [i.replace('[', '') for i in x])\n",
    "df['genres'] = df['genres'].apply(lambda x: [i.replace(']', '') for i in x])\n",
    "df['genres'] = df['genres'].apply(lambda x: [i.replace('\\'', '') for i in x])\n",
    "df['genres'] = df['genres'].apply(lambda x: [i.strip() for i in x])"
   ]
  },
  {
   "cell_type": "code",
   "execution_count": 14,
   "metadata": {},
   "outputs": [
    {
     "data": {
      "text/plain": [
       "['boy band', 'dance pop', 'europop', 'pop', 'post-teen pop']"
      ]
     },
     "execution_count": 14,
     "metadata": {},
     "output_type": "execute_result"
    }
   ],
   "source": [
    "df['genres'].loc[0]"
   ]
  },
  {
   "cell_type": "code",
   "execution_count": 15,
   "metadata": {},
   "outputs": [],
   "source": [
    "genre_per_artist = df[['genres', 'id']]"
   ]
  },
  {
   "cell_type": "code",
   "execution_count": 16,
   "metadata": {},
   "outputs": [
    {
     "data": {
      "text/html": [
       "<div>\n",
       "<style scoped>\n",
       "    .dataframe tbody tr th:only-of-type {\n",
       "        vertical-align: middle;\n",
       "    }\n",
       "\n",
       "    .dataframe tbody tr th {\n",
       "        vertical-align: top;\n",
       "    }\n",
       "\n",
       "    .dataframe thead th {\n",
       "        text-align: right;\n",
       "    }\n",
       "</style>\n",
       "<table border=\"1\" class=\"dataframe\">\n",
       "  <thead>\n",
       "    <tr style=\"text-align: right;\">\n",
       "      <th></th>\n",
       "      <th>genres</th>\n",
       "      <th>id</th>\n",
       "    </tr>\n",
       "  </thead>\n",
       "  <tbody>\n",
       "    <tr>\n",
       "      <th>0</th>\n",
       "      <td>[boy band, dance pop, europop, pop, post-teen ...</td>\n",
       "      <td>6Ff53KvcvAj5U7Z1vojB5o</td>\n",
       "    </tr>\n",
       "    <tr>\n",
       "      <th>1</th>\n",
       "      <td>[antiviral pop, comedy rock, comic]</td>\n",
       "      <td>1bDWGdIC2hardyt55nlQgG</td>\n",
       "    </tr>\n",
       "    <tr>\n",
       "      <th>2</th>\n",
       "      <td>[alternative metal, nu metal, post-grunge, rap...</td>\n",
       "      <td>0REMf7H0VP6DwfZ9MbuWph</td>\n",
       "    </tr>\n",
       "    <tr>\n",
       "      <th>3</th>\n",
       "      <td>[alternative rock, folk, folk-pop, lilith, mel...</td>\n",
       "      <td>0MBIKH9DjtBkv8O3nS6szj</td>\n",
       "    </tr>\n",
       "    <tr>\n",
       "      <th>4</th>\n",
       "      <td>[boy band, dance pop, gangster rap, hip hop, h...</td>\n",
       "      <td>7urq0VfqxEYEEiZUkebXT4</td>\n",
       "    </tr>\n",
       "  </tbody>\n",
       "</table>\n",
       "</div>"
      ],
      "text/plain": [
       "                                              genres                      id\n",
       "0  [boy band, dance pop, europop, pop, post-teen ...  6Ff53KvcvAj5U7Z1vojB5o\n",
       "1                [antiviral pop, comedy rock, comic]  1bDWGdIC2hardyt55nlQgG\n",
       "2  [alternative metal, nu metal, post-grunge, rap...  0REMf7H0VP6DwfZ9MbuWph\n",
       "3  [alternative rock, folk, folk-pop, lilith, mel...  0MBIKH9DjtBkv8O3nS6szj\n",
       "4  [boy band, dance pop, gangster rap, hip hop, h...  7urq0VfqxEYEEiZUkebXT4"
      ]
     },
     "execution_count": 16,
     "metadata": {},
     "output_type": "execute_result"
    }
   ],
   "source": [
    "genre_per_artist.head()"
   ]
  },
  {
   "cell_type": "code",
   "execution_count": null,
   "metadata": {},
   "outputs": [],
   "source": [
    "# genre_per_artist['song'] = genre_per_artist.apply()"
   ]
  },
  {
   "cell_type": "markdown",
   "metadata": {},
   "source": [
    "#### Dropping Non-Artists From `genre_per_artist`"
   ]
  },
  {
   "cell_type": "code",
   "execution_count": 103,
   "metadata": {},
   "outputs": [],
   "source": [
    "non_artists = pd.read_csv('../data/non_artists.csv', index_col=0)\n",
    "non_artists_id = non_artists['s_artist_id']"
   ]
  },
  {
   "cell_type": "code",
   "execution_count": 105,
   "metadata": {},
   "outputs": [],
   "source": [
    "genre_todrop = genre_per_artist.query(\"id in @non_artists_id\")"
   ]
  },
  {
   "cell_type": "code",
   "execution_count": 109,
   "metadata": {},
   "outputs": [
    {
     "name": "stderr",
     "output_type": "stream",
     "text": [
      "/opt/conda/lib/python3.6/site-packages/pandas/core/frame.py:3697: SettingWithCopyWarning: \n",
      "A value is trying to be set on a copy of a slice from a DataFrame\n",
      "\n",
      "See the caveats in the documentation: http://pandas.pydata.org/pandas-docs/stable/indexing.html#indexing-view-versus-copy\n",
      "  errors=errors)\n"
     ]
    }
   ],
   "source": [
    "genre_per_artist.drop(labels=genre_todrop.index, inplace=True)"
   ]
  },
  {
   "cell_type": "markdown",
   "metadata": {},
   "source": [
    "#### Creating Genre-Song Table\n",
    "\n",
    "In order to examine the relationship with each genre as it's applied to each artist, and each song, I'll need to create a lookup table to match them."
   ]
  },
  {
   "cell_type": "code",
   "execution_count": 5,
   "metadata": {},
   "outputs": [],
   "source": [
    "song_df = pd.read_csv('../data/song_list_v2.csv', index_col=0)"
   ]
  },
  {
   "cell_type": "code",
   "execution_count": 6,
   "metadata": {},
   "outputs": [
    {
     "data": {
      "text/plain": [
       "array(['6SluaPiV04KOaRTOIScoff', '5qEVq3ZEGr0Got441lueWS',\n",
       "       '5kqIPrATaCc2LqxVWzQGbk', ..., '2ayphdNEBBaAErWdTMAhsm',\n",
       "       '7BY005dacJkbO6EPiOh2wb', '09WwqFDqX2zv8rlvf4xYAk'], dtype=object)"
      ]
     },
     "execution_count": 6,
     "metadata": {},
     "output_type": "execute_result"
    }
   ],
   "source": [
    "song_df['s_song_id'].values"
   ]
  },
  {
   "cell_type": "code",
   "execution_count": 8,
   "metadata": {},
   "outputs": [
    {
     "data": {
      "text/plain": [
       "Index(['s_song_id', 'album_release_date', 'artist_id', 'artist_name',\n",
       "       'duration_ms', 'explicit', 'linked_album', 'song_title'],\n",
       "      dtype='object')"
      ]
     },
     "execution_count": 8,
     "metadata": {},
     "output_type": "execute_result"
    }
   ],
   "source": [
    "song_df.columns"
   ]
  },
  {
   "cell_type": "code",
   "execution_count": 9,
   "metadata": {},
   "outputs": [],
   "source": [
    "def genre_p_artist(genres):\n",
    "    '''\n",
    "    Make artist to genre listing\n",
    "    '''\n",
    "    gdict_list = []\n",
    "    \n",
    "    for g_list, a_id  in genres.values:\n",
    "        for genre in g_list:\n",
    "            gdict_list.append((genre, a_id))\n",
    "    return gdict_list"
   ]
  },
  {
   "cell_type": "code",
   "execution_count": 17,
   "metadata": {},
   "outputs": [],
   "source": [
    "genre_w_artists = genre_p_artist(genre_per_artist)"
   ]
  },
  {
   "cell_type": "code",
   "execution_count": 18,
   "metadata": {},
   "outputs": [
    {
     "data": {
      "text/plain": [
       "array([['6SluaPiV04KOaRTOIScoff', '6UE7nl9mha6s8z0wFQFIZ2'],\n",
       "       ['5qEVq3ZEGr0Got441lueWS', '6S58b0fr8TkWrEHOH4tRVu'],\n",
       "       ['5kqIPrATaCc2LqxVWzQGbk', '25u4wHJWxCA9vO0CzxAbK7'],\n",
       "       ..., \n",
       "       ['2ayphdNEBBaAErWdTMAhsm', '7BLOa6FxCbMnowidkQfLIA'],\n",
       "       ['7BY005dacJkbO6EPiOh2wb', '3ICflSq6ZgYAIrm2CTkfVP'],\n",
       "       ['09WwqFDqX2zv8rlvf4xYAk', '64mPnRMMeudAet0E62ypkx']], dtype=object)"
      ]
     },
     "execution_count": 18,
     "metadata": {},
     "output_type": "execute_result"
    }
   ],
   "source": [
    "song_df[['s_song_id', 'artist_id']].values"
   ]
  },
  {
   "cell_type": "code",
   "execution_count": 19,
   "metadata": {},
   "outputs": [],
   "source": [
    "def genre_psong(genres, songs):\n",
    "    gs_list = []\n",
    "    count = 1\n",
    "    for song, artist in songs[['s_song_id', 'artist_id']].values:\n",
    "        for genre in genres:\n",
    "            if artist == genre[1]:\n",
    "                gs_list.append((count, song, genre[0], genre[1]))\n",
    "                count += 1\n",
    "    return gs_list"
   ]
  },
  {
   "cell_type": "code",
   "execution_count": 20,
   "metadata": {},
   "outputs": [],
   "source": [
    "genre_songs = genre_psong(genre_w_artists, song_df)"
   ]
  },
  {
   "cell_type": "code",
   "execution_count": 23,
   "metadata": {},
   "outputs": [],
   "source": [
    "for entry in genre_songs:\n",
    "    if None in entry:\n",
    "        print(entry)"
   ]
  },
  {
   "cell_type": "code",
   "execution_count": 24,
   "metadata": {},
   "outputs": [],
   "source": [
    "genre_songs.insert(0,(0, 'song_id', 'genre', 'artist_id'))"
   ]
  },
  {
   "cell_type": "code",
   "execution_count": 55,
   "metadata": {},
   "outputs": [
    {
     "data": {
      "text/html": [
       "<div>\n",
       "<style scoped>\n",
       "    .dataframe tbody tr th:only-of-type {\n",
       "        vertical-align: middle;\n",
       "    }\n",
       "\n",
       "    .dataframe tbody tr th {\n",
       "        vertical-align: top;\n",
       "    }\n",
       "\n",
       "    .dataframe thead th {\n",
       "        text-align: right;\n",
       "    }\n",
       "</style>\n",
       "<table border=\"1\" class=\"dataframe\">\n",
       "  <thead>\n",
       "    <tr style=\"text-align: right;\">\n",
       "      <th></th>\n",
       "      <th>genre</th>\n",
       "    </tr>\n",
       "  </thead>\n",
       "  <tbody>\n",
       "    <tr>\n",
       "      <th>0</th>\n",
       "      <td>a cappella</td>\n",
       "    </tr>\n",
       "    <tr>\n",
       "      <th>1</th>\n",
       "      <td>acid house</td>\n",
       "    </tr>\n",
       "    <tr>\n",
       "      <th>2</th>\n",
       "      <td>acid jazz</td>\n",
       "    </tr>\n",
       "    <tr>\n",
       "      <th>3</th>\n",
       "      <td>acoustic blues</td>\n",
       "    </tr>\n",
       "    <tr>\n",
       "      <th>4</th>\n",
       "      <td>acoustic pop</td>\n",
       "    </tr>\n",
       "    <tr>\n",
       "      <th>5</th>\n",
       "      <td>acoustic punk</td>\n",
       "    </tr>\n",
       "    <tr>\n",
       "      <th>6</th>\n",
       "      <td>adult standards</td>\n",
       "    </tr>\n",
       "    <tr>\n",
       "      <th>7</th>\n",
       "      <td>african rock</td>\n",
       "    </tr>\n",
       "    <tr>\n",
       "      <th>8</th>\n",
       "      <td>album rock</td>\n",
       "    </tr>\n",
       "    <tr>\n",
       "      <th>9</th>\n",
       "      <td>albuquerque indie</td>\n",
       "    </tr>\n",
       "    <tr>\n",
       "      <th>10</th>\n",
       "      <td>alternative country</td>\n",
       "    </tr>\n",
       "    <tr>\n",
       "      <th>11</th>\n",
       "      <td>alternative dance</td>\n",
       "    </tr>\n",
       "    <tr>\n",
       "      <th>12</th>\n",
       "      <td>alternative hip hop</td>\n",
       "    </tr>\n",
       "    <tr>\n",
       "      <th>13</th>\n",
       "      <td>alternative metal</td>\n",
       "    </tr>\n",
       "    <tr>\n",
       "      <th>14</th>\n",
       "      <td>alternative pop</td>\n",
       "    </tr>\n",
       "    <tr>\n",
       "      <th>15</th>\n",
       "      <td>alternative rock</td>\n",
       "    </tr>\n",
       "    <tr>\n",
       "      <th>16</th>\n",
       "      <td>american choir</td>\n",
       "    </tr>\n",
       "    <tr>\n",
       "      <th>17</th>\n",
       "      <td>american modern classical</td>\n",
       "    </tr>\n",
       "    <tr>\n",
       "      <th>18</th>\n",
       "      <td>anarcho-punk</td>\n",
       "    </tr>\n",
       "    <tr>\n",
       "      <th>19</th>\n",
       "      <td>anthem worship</td>\n",
       "    </tr>\n",
       "    <tr>\n",
       "      <th>20</th>\n",
       "      <td>anti-folk</td>\n",
       "    </tr>\n",
       "    <tr>\n",
       "      <th>21</th>\n",
       "      <td>antiviral pop</td>\n",
       "    </tr>\n",
       "    <tr>\n",
       "      <th>22</th>\n",
       "      <td>art pop</td>\n",
       "    </tr>\n",
       "    <tr>\n",
       "      <th>23</th>\n",
       "      <td>art rock</td>\n",
       "    </tr>\n",
       "    <tr>\n",
       "      <th>24</th>\n",
       "      <td>aussietronica</td>\n",
       "    </tr>\n",
       "    <tr>\n",
       "      <th>25</th>\n",
       "      <td>australian alternative rock</td>\n",
       "    </tr>\n",
       "    <tr>\n",
       "      <th>26</th>\n",
       "      <td>australian country</td>\n",
       "    </tr>\n",
       "    <tr>\n",
       "      <th>27</th>\n",
       "      <td>australian dance</td>\n",
       "    </tr>\n",
       "    <tr>\n",
       "      <th>28</th>\n",
       "      <td>australian pop</td>\n",
       "    </tr>\n",
       "    <tr>\n",
       "      <th>29</th>\n",
       "      <td>australian rock</td>\n",
       "    </tr>\n",
       "    <tr>\n",
       "      <th>...</th>\n",
       "      <td>...</td>\n",
       "    </tr>\n",
       "    <tr>\n",
       "      <th>534</th>\n",
       "      <td>uk americana</td>\n",
       "    </tr>\n",
       "    <tr>\n",
       "      <th>535</th>\n",
       "      <td>uk garage</td>\n",
       "    </tr>\n",
       "    <tr>\n",
       "      <th>536</th>\n",
       "      <td>uk post-punk</td>\n",
       "    </tr>\n",
       "    <tr>\n",
       "      <th>537</th>\n",
       "      <td>uk reggae</td>\n",
       "    </tr>\n",
       "    <tr>\n",
       "      <th>538</th>\n",
       "      <td>underground hip hop</td>\n",
       "    </tr>\n",
       "    <tr>\n",
       "      <th>539</th>\n",
       "      <td>underground power pop</td>\n",
       "    </tr>\n",
       "    <tr>\n",
       "      <th>540</th>\n",
       "      <td>underground rap</td>\n",
       "    </tr>\n",
       "    <tr>\n",
       "      <th>541</th>\n",
       "      <td>urban contemporary</td>\n",
       "    </tr>\n",
       "    <tr>\n",
       "      <th>542</th>\n",
       "      <td>vapor pop</td>\n",
       "    </tr>\n",
       "    <tr>\n",
       "      <th>543</th>\n",
       "      <td>vapor trap</td>\n",
       "    </tr>\n",
       "    <tr>\n",
       "      <th>544</th>\n",
       "      <td>vaudeville</td>\n",
       "    </tr>\n",
       "    <tr>\n",
       "      <th>545</th>\n",
       "      <td>vegas indie</td>\n",
       "    </tr>\n",
       "    <tr>\n",
       "      <th>546</th>\n",
       "      <td>video game music</td>\n",
       "    </tr>\n",
       "    <tr>\n",
       "      <th>547</th>\n",
       "      <td>vintage french electronic</td>\n",
       "    </tr>\n",
       "    <tr>\n",
       "      <th>548</th>\n",
       "      <td>vintage italian soundtrack</td>\n",
       "    </tr>\n",
       "    <tr>\n",
       "      <th>549</th>\n",
       "      <td>vintage jazz</td>\n",
       "    </tr>\n",
       "    <tr>\n",
       "      <th>550</th>\n",
       "      <td>viral pop</td>\n",
       "    </tr>\n",
       "    <tr>\n",
       "      <th>551</th>\n",
       "      <td>vocal harmony group</td>\n",
       "    </tr>\n",
       "    <tr>\n",
       "      <th>552</th>\n",
       "      <td>vocal house</td>\n",
       "    </tr>\n",
       "    <tr>\n",
       "      <th>553</th>\n",
       "      <td>vocal jazz</td>\n",
       "    </tr>\n",
       "    <tr>\n",
       "      <th>554</th>\n",
       "      <td>vogue</td>\n",
       "    </tr>\n",
       "    <tr>\n",
       "      <th>555</th>\n",
       "      <td>west coast rap</td>\n",
       "    </tr>\n",
       "    <tr>\n",
       "      <th>556</th>\n",
       "      <td>west coast trap</td>\n",
       "    </tr>\n",
       "    <tr>\n",
       "      <th>557</th>\n",
       "      <td>western swing</td>\n",
       "    </tr>\n",
       "    <tr>\n",
       "      <th>558</th>\n",
       "      <td>world</td>\n",
       "    </tr>\n",
       "    <tr>\n",
       "      <th>559</th>\n",
       "      <td>world worship</td>\n",
       "    </tr>\n",
       "    <tr>\n",
       "      <th>560</th>\n",
       "      <td>worship</td>\n",
       "    </tr>\n",
       "    <tr>\n",
       "      <th>561</th>\n",
       "      <td>wrestling</td>\n",
       "    </tr>\n",
       "    <tr>\n",
       "      <th>562</th>\n",
       "      <td>yugoslav rock</td>\n",
       "    </tr>\n",
       "    <tr>\n",
       "      <th>563</th>\n",
       "      <td>zolo</td>\n",
       "    </tr>\n",
       "  </tbody>\n",
       "</table>\n",
       "<p>564 rows × 1 columns</p>\n",
       "</div>"
      ],
      "text/plain": [
       "                           genre\n",
       "0                     a cappella\n",
       "1                     acid house\n",
       "2                      acid jazz\n",
       "3                 acoustic blues\n",
       "4                   acoustic pop\n",
       "5                  acoustic punk\n",
       "6                adult standards\n",
       "7                   african rock\n",
       "8                     album rock\n",
       "9              albuquerque indie\n",
       "10           alternative country\n",
       "11             alternative dance\n",
       "12           alternative hip hop\n",
       "13             alternative metal\n",
       "14               alternative pop\n",
       "15              alternative rock\n",
       "16                american choir\n",
       "17     american modern classical\n",
       "18                  anarcho-punk\n",
       "19                anthem worship\n",
       "20                     anti-folk\n",
       "21                 antiviral pop\n",
       "22                       art pop\n",
       "23                      art rock\n",
       "24                 aussietronica\n",
       "25   australian alternative rock\n",
       "26            australian country\n",
       "27              australian dance\n",
       "28                australian pop\n",
       "29               australian rock\n",
       "..                           ...\n",
       "534                 uk americana\n",
       "535                    uk garage\n",
       "536                 uk post-punk\n",
       "537                    uk reggae\n",
       "538          underground hip hop\n",
       "539        underground power pop\n",
       "540              underground rap\n",
       "541           urban contemporary\n",
       "542                    vapor pop\n",
       "543                   vapor trap\n",
       "544                   vaudeville\n",
       "545                  vegas indie\n",
       "546             video game music\n",
       "547    vintage french electronic\n",
       "548   vintage italian soundtrack\n",
       "549                 vintage jazz\n",
       "550                    viral pop\n",
       "551          vocal harmony group\n",
       "552                  vocal house\n",
       "553                   vocal jazz\n",
       "554                        vogue\n",
       "555               west coast rap\n",
       "556              west coast trap\n",
       "557                western swing\n",
       "558                        world\n",
       "559                world worship\n",
       "560                      worship\n",
       "561                    wrestling\n",
       "562                yugoslav rock\n",
       "563                         zolo\n",
       "\n",
       "[564 rows x 1 columns]"
      ]
     },
     "execution_count": 55,
     "metadata": {},
     "output_type": "execute_result"
    }
   ],
   "source": [
    "genre_df"
   ]
  },
  {
   "cell_type": "code",
   "execution_count": 47,
   "metadata": {},
   "outputs": [
    {
     "name": "stdout",
     "output_type": "stream",
     "text": [
      "(9902, '2CAnpEtaKzJrJ0QssnfQa1', '', '7hbzXJ5K6AqdPnbUcCL1hL')\n",
      "(12858, '4mLZy3M5rDA83L48KdcHad', '', '7hbzXJ5K6AqdPnbUcCL1hL')\n",
      "(37817, '5Ms8PC4YEHInOWrhj2QLw0', '', '7hbzXJ5K6AqdPnbUcCL1hL')\n",
      "(39449, '0y9TcqNyeAQQjo7fVAMEXl', '', '7hbzXJ5K6AqdPnbUcCL1hL')\n",
      "(45195, '1KnADdwQJpMSl3UhA7Iaf9', '', '7hbzXJ5K6AqdPnbUcCL1hL')\n",
      "(51239, '5Q4Fyi5PTWEfWSWQevZLFu', '', '7hbzXJ5K6AqdPnbUcCL1hL')\n",
      "(51904, '7b5WOdrCc2E4Z4aAyGn6wz', '', '7hbzXJ5K6AqdPnbUcCL1hL')\n",
      "(57571, '1Cqh2DvP9rcbvVy72EhEft', '', '7hbzXJ5K6AqdPnbUcCL1hL')\n",
      "(77548, '7b78MrR0Gon0UzNpPLVUtA', '', '7hbzXJ5K6AqdPnbUcCL1hL')\n",
      "(81406, '53DU9hi6185fkZIDiHUGFs', '', '7hbzXJ5K6AqdPnbUcCL1hL')\n"
     ]
    }
   ],
   "source": [
    "for genre in genre_songs:\n",
    "    if genre[3] == '7hbzXJ5K6AqdPnbUcCL1hL':\n",
    "        print(genre)"
   ]
  },
  {
   "cell_type": "code",
   "execution_count": 58,
   "metadata": {},
   "outputs": [],
   "source": [
    "genre_ids_songs = []\n",
    "for gs_id, song_id, genre, artist_id in genre_songs[1:]:\n",
    "    for k, v in genre_dict.items():\n",
    "        if genre == v:\n",
    "            genre_ids_songs.append((gs_id, song_id, k, genre, artist_id))"
   ]
  },
  {
   "cell_type": "code",
   "execution_count": 60,
   "metadata": {},
   "outputs": [
    {
     "data": {
      "text/plain": [
       "121283"
      ]
     },
     "execution_count": 60,
     "metadata": {},
     "output_type": "execute_result"
    }
   ],
   "source": [
    "len(genre_ids_songs)"
   ]
  },
  {
   "cell_type": "code",
   "execution_count": 59,
   "metadata": {},
   "outputs": [],
   "source": [
    "for genre in genre_ids_songs:\n",
    "    if genre[4] == '7hbzXJ5K6AqdPnbUcCL1hL':\n",
    "        print(genre)"
   ]
  },
  {
   "cell_type": "code",
   "execution_count": 61,
   "metadata": {},
   "outputs": [],
   "source": [
    "gsong_lookup = pd.DataFrame(genre_ids_songs, columns=['gs_id', 'song_id', 'genre_id', 'genre_name', 'artist_id']).set_index('gs_id')"
   ]
  },
  {
   "cell_type": "code",
   "execution_count": 62,
   "metadata": {},
   "outputs": [
    {
     "data": {
      "text/plain": [
       "(121283, 4)"
      ]
     },
     "execution_count": 62,
     "metadata": {},
     "output_type": "execute_result"
    }
   ],
   "source": [
    "gsong_lookup.shape"
   ]
  },
  {
   "cell_type": "code",
   "execution_count": 63,
   "metadata": {},
   "outputs": [
    {
     "data": {
      "text/html": [
       "<div>\n",
       "<style scoped>\n",
       "    .dataframe tbody tr th:only-of-type {\n",
       "        vertical-align: middle;\n",
       "    }\n",
       "\n",
       "    .dataframe tbody tr th {\n",
       "        vertical-align: top;\n",
       "    }\n",
       "\n",
       "    .dataframe thead th {\n",
       "        text-align: right;\n",
       "    }\n",
       "</style>\n",
       "<table border=\"1\" class=\"dataframe\">\n",
       "  <thead>\n",
       "    <tr style=\"text-align: right;\">\n",
       "      <th></th>\n",
       "      <th>song_id</th>\n",
       "      <th>genre_id</th>\n",
       "      <th>genre_name</th>\n",
       "      <th>artist_id</th>\n",
       "    </tr>\n",
       "    <tr>\n",
       "      <th>gs_id</th>\n",
       "      <th></th>\n",
       "      <th></th>\n",
       "      <th></th>\n",
       "      <th></th>\n",
       "    </tr>\n",
       "  </thead>\n",
       "  <tbody>\n",
       "    <tr>\n",
       "      <th>1</th>\n",
       "      <td>6SluaPiV04KOaRTOIScoff</td>\n",
       "      <td>139</td>\n",
       "      <td>dance pop</td>\n",
       "      <td>6UE7nl9mha6s8z0wFQFIZ2</td>\n",
       "    </tr>\n",
       "    <tr>\n",
       "      <th>2</th>\n",
       "      <td>6SluaPiV04KOaRTOIScoff</td>\n",
       "      <td>189</td>\n",
       "      <td>electropop</td>\n",
       "      <td>6UE7nl9mha6s8z0wFQFIZ2</td>\n",
       "    </tr>\n",
       "    <tr>\n",
       "      <th>3</th>\n",
       "      <td>6SluaPiV04KOaRTOIScoff</td>\n",
       "      <td>196</td>\n",
       "      <td>europop</td>\n",
       "      <td>6UE7nl9mha6s8z0wFQFIZ2</td>\n",
       "    </tr>\n",
       "    <tr>\n",
       "      <th>4</th>\n",
       "      <td>6SluaPiV04KOaRTOIScoff</td>\n",
       "      <td>404</td>\n",
       "      <td>pop</td>\n",
       "      <td>6UE7nl9mha6s8z0wFQFIZ2</td>\n",
       "    </tr>\n",
       "    <tr>\n",
       "      <th>5</th>\n",
       "      <td>6SluaPiV04KOaRTOIScoff</td>\n",
       "      <td>410</td>\n",
       "      <td>pop rock</td>\n",
       "      <td>6UE7nl9mha6s8z0wFQFIZ2</td>\n",
       "    </tr>\n",
       "  </tbody>\n",
       "</table>\n",
       "</div>"
      ],
      "text/plain": [
       "                      song_id  genre_id  genre_name               artist_id\n",
       "gs_id                                                                      \n",
       "1      6SluaPiV04KOaRTOIScoff       139   dance pop  6UE7nl9mha6s8z0wFQFIZ2\n",
       "2      6SluaPiV04KOaRTOIScoff       189  electropop  6UE7nl9mha6s8z0wFQFIZ2\n",
       "3      6SluaPiV04KOaRTOIScoff       196     europop  6UE7nl9mha6s8z0wFQFIZ2\n",
       "4      6SluaPiV04KOaRTOIScoff       404         pop  6UE7nl9mha6s8z0wFQFIZ2\n",
       "5      6SluaPiV04KOaRTOIScoff       410    pop rock  6UE7nl9mha6s8z0wFQFIZ2"
      ]
     },
     "execution_count": 63,
     "metadata": {},
     "output_type": "execute_result"
    }
   ],
   "source": [
    "gsong_lookup.head()"
   ]
  },
  {
   "cell_type": "code",
   "execution_count": 64,
   "metadata": {},
   "outputs": [],
   "source": [
    "gsong_lookup.to_csv('../data/gsong_lookup.csv')"
   ]
  },
  {
   "cell_type": "markdown",
   "metadata": {},
   "source": [
    "#### How Many Genres Are There?\n",
    "\n",
    "Before I decide how to deal with the inclusion or non-inclusion of genres in my dataset, I'll see what the overall scope of genres looks like, independent of the artists they're attached to"
   ]
  },
  {
   "cell_type": "code",
   "execution_count": 21,
   "metadata": {},
   "outputs": [
    {
     "data": {
      "text/plain": [
       "[\"['boy band'\", \" 'dance pop'\", \" 'europop'\", \" 'pop'\", \" 'post-teen pop']\"]"
      ]
     },
     "execution_count": 21,
     "metadata": {},
     "output_type": "execute_result"
    }
   ],
   "source": [
    "genre_list = df.genres.tolist()\n",
    "genre_list = [i.split(sep=',') for i in genre_list]"
   ]
  },
  {
   "cell_type": "code",
   "execution_count": 38,
   "metadata": {},
   "outputs": [],
   "source": [
    "genre_list = [[i.replace('[', '') for i in lst] for lst in genre_list]\n",
    "genre_list = [[i.replace(']', '') for i in lst] for lst in genre_list]\n",
    "genre_list = [[i.replace(\"\\'\", '') for i in lst] for lst in genre_list]\n",
    "genre_list = [[i.strip() for i in lst] for lst in genre_list]"
   ]
  },
  {
   "cell_type": "code",
   "execution_count": 39,
   "metadata": {},
   "outputs": [],
   "source": [
    "all_genres = []\n",
    "\n",
    "for genre_set in genre_list:\n",
    "    for genre in genre_set:\n",
    "        all_genres.append(genre)"
   ]
  },
  {
   "cell_type": "code",
   "execution_count": 72,
   "metadata": {},
   "outputs": [],
   "source": [
    "all_genres = set(all_genres)\n",
    "len(all_genres)\n",
    "all_genres = list(all_genres)\n",
    "del all_genres[0]"
   ]
  },
  {
   "cell_type": "code",
   "execution_count": 91,
   "metadata": {},
   "outputs": [],
   "source": [
    "genre_df = pd.DataFrame(all_genres, columns=['genre'])"
   ]
  },
  {
   "cell_type": "code",
   "execution_count": 50,
   "metadata": {},
   "outputs": [
    {
     "data": {
      "text/html": [
       "<div>\n",
       "<style scoped>\n",
       "    .dataframe tbody tr th:only-of-type {\n",
       "        vertical-align: middle;\n",
       "    }\n",
       "\n",
       "    .dataframe tbody tr th {\n",
       "        vertical-align: top;\n",
       "    }\n",
       "\n",
       "    .dataframe thead th {\n",
       "        text-align: right;\n",
       "    }\n",
       "</style>\n",
       "<table border=\"1\" class=\"dataframe\">\n",
       "  <thead>\n",
       "    <tr style=\"text-align: right;\">\n",
       "      <th></th>\n",
       "      <th>genre</th>\n",
       "    </tr>\n",
       "  </thead>\n",
       "  <tbody>\n",
       "    <tr>\n",
       "      <th>0</th>\n",
       "      <td>a cappella</td>\n",
       "    </tr>\n",
       "    <tr>\n",
       "      <th>1</th>\n",
       "      <td>acid house</td>\n",
       "    </tr>\n",
       "    <tr>\n",
       "      <th>2</th>\n",
       "      <td>acid jazz</td>\n",
       "    </tr>\n",
       "    <tr>\n",
       "      <th>3</th>\n",
       "      <td>acoustic blues</td>\n",
       "    </tr>\n",
       "    <tr>\n",
       "      <th>4</th>\n",
       "      <td>acoustic pop</td>\n",
       "    </tr>\n",
       "  </tbody>\n",
       "</table>\n",
       "</div>"
      ],
      "text/plain": [
       "            genre\n",
       "0      a cappella\n",
       "1      acid house\n",
       "2       acid jazz\n",
       "3  acoustic blues\n",
       "4    acoustic pop"
      ]
     },
     "execution_count": 50,
     "metadata": {},
     "output_type": "execute_result"
    }
   ],
   "source": [
    "genre_df.head()"
   ]
  },
  {
   "cell_type": "code",
   "execution_count": 51,
   "metadata": {},
   "outputs": [],
   "source": [
    "genre_dict = genre_df['genre'].to_dict()"
   ]
  },
  {
   "cell_type": "code",
   "execution_count": 52,
   "metadata": {},
   "outputs": [
    {
     "data": {
      "text/plain": [
       "{0: 'a cappella',\n",
       " 1: 'acid house',\n",
       " 2: 'acid jazz',\n",
       " 3: 'acoustic blues',\n",
       " 4: 'acoustic pop',\n",
       " 5: 'acoustic punk',\n",
       " 6: 'adult standards',\n",
       " 7: 'african rock',\n",
       " 8: 'album rock',\n",
       " 9: 'albuquerque indie',\n",
       " 10: 'alternative country',\n",
       " 11: 'alternative dance',\n",
       " 12: 'alternative hip hop',\n",
       " 13: 'alternative metal',\n",
       " 14: 'alternative pop',\n",
       " 15: 'alternative rock',\n",
       " 16: 'american choir',\n",
       " 17: 'american modern classical',\n",
       " 18: 'anarcho-punk',\n",
       " 19: 'anthem worship',\n",
       " 20: 'anti-folk',\n",
       " 21: 'antiviral pop',\n",
       " 22: 'art pop',\n",
       " 23: 'art rock',\n",
       " 24: 'aussietronica',\n",
       " 25: 'australian alternative rock',\n",
       " 26: 'australian country',\n",
       " 27: 'australian dance',\n",
       " 28: 'australian pop',\n",
       " 29: 'australian rock',\n",
       " 30: 'ballroom',\n",
       " 31: 'banda',\n",
       " 32: 'bassline',\n",
       " 33: 'bebop',\n",
       " 34: 'big band',\n",
       " 35: 'big beat',\n",
       " 36: 'big room',\n",
       " 37: 'bluegrass',\n",
       " 38: 'blues',\n",
       " 39: 'blues-rock',\n",
       " 40: 'bolero',\n",
       " 41: 'bossa nova',\n",
       " 42: 'boston rock',\n",
       " 43: 'bounce',\n",
       " 44: 'bow pop',\n",
       " 45: 'boy band',\n",
       " 46: 'brass band',\n",
       " 47: 'brass ensemble',\n",
       " 48: 'brazilian metal',\n",
       " 49: 'breakbeat',\n",
       " 50: 'brill building pop',\n",
       " 51: 'brit funk',\n",
       " 52: 'british blues',\n",
       " 53: 'british contemporary classical',\n",
       " 54: 'british folk',\n",
       " 55: 'british invasion',\n",
       " 56: 'british soundtrack',\n",
       " 57: 'britpop',\n",
       " 58: 'broadway',\n",
       " 59: 'brooklyn indie',\n",
       " 60: 'brostep',\n",
       " 61: 'bubblegum dance',\n",
       " 62: 'bubblegum pop',\n",
       " 63: 'bulgarian hip hop',\n",
       " 64: 'cabaret',\n",
       " 65: 'calypso',\n",
       " 66: 'canadian blues',\n",
       " 67: 'canadian ccm',\n",
       " 68: 'canadian celtic',\n",
       " 69: 'canadian country',\n",
       " 70: 'canadian folk',\n",
       " 71: 'canadian hip hop',\n",
       " 72: 'canadian indie',\n",
       " 73: 'canadian metal',\n",
       " 74: 'canadian pop',\n",
       " 75: 'canadian punk',\n",
       " 76: 'canadian rock',\n",
       " 77: 'candy pop',\n",
       " 78: 'canterbury scene',\n",
       " 79: 'canzone napoletana',\n",
       " 80: 'ccm',\n",
       " 81: 'celtic',\n",
       " 82: 'celtic punk',\n",
       " 83: 'celtic rock',\n",
       " 84: 'chamber pop',\n",
       " 85: 'chicago blues',\n",
       " 86: 'chicago indie',\n",
       " 87: 'chicago soul',\n",
       " 88: 'chicano rap',\n",
       " 89: 'childrens music',\n",
       " 90: 'christelijk',\n",
       " 91: 'christian alternative rock',\n",
       " 92: 'christian hip hop',\n",
       " 93: 'christian metal',\n",
       " 94: 'christian music',\n",
       " 95: 'christian punk',\n",
       " 96: 'christian relaxative',\n",
       " 97: 'christian rock',\n",
       " 98: 'christmas',\n",
       " 99: 'christmas product',\n",
       " 100: 'classic canadian rock',\n",
       " 101: 'classic garage rock',\n",
       " 102: 'classic girl group',\n",
       " 103: 'classic rock',\n",
       " 104: 'classic russian rock',\n",
       " 105: 'classic schlager',\n",
       " 106: 'classic soul',\n",
       " 107: 'classic soundtrack',\n",
       " 108: 'classical',\n",
       " 109: 'classical cello',\n",
       " 110: 'classical performance',\n",
       " 111: 'classical piano',\n",
       " 112: 'classical tenor',\n",
       " 113: 'classical trumpet',\n",
       " 114: 'classify',\n",
       " 115: 'colombian pop',\n",
       " 116: 'comedy',\n",
       " 117: 'comedy rock',\n",
       " 118: 'comic',\n",
       " 119: 'complextro',\n",
       " 120: 'compositional ambient',\n",
       " 121: 'conscious hip hop',\n",
       " 122: 'contemporary country',\n",
       " 123: 'contemporary post-bop',\n",
       " 124: 'cool jazz',\n",
       " 125: 'country',\n",
       " 126: 'country blues',\n",
       " 127: 'country dawn',\n",
       " 128: 'country gospel',\n",
       " 129: 'country road',\n",
       " 130: 'country rock',\n",
       " 131: 'cowboy western',\n",
       " 132: 'cowpunk',\n",
       " 133: 'crossover thrash',\n",
       " 134: 'crunk',\n",
       " 135: 'cuban rumba',\n",
       " 136: 'cumbia',\n",
       " 137: 'cumbia sonidera',\n",
       " 138: 'cyberpunk',\n",
       " 139: 'dance pop',\n",
       " 140: 'dance rock',\n",
       " 141: 'dance-punk',\n",
       " 142: 'dancehall',\n",
       " 143: 'danish metal',\n",
       " 144: 'danish pop',\n",
       " 145: 'dark jazz',\n",
       " 146: 'death metal',\n",
       " 147: 'deep adult standards',\n",
       " 148: 'deep australian indie',\n",
       " 149: 'deep christian rock',\n",
       " 150: 'deep contemporary country',\n",
       " 151: 'deep cumbia sonidera',\n",
       " 152: 'deep funk',\n",
       " 153: 'deep groove house',\n",
       " 154: 'deep pop r&b',\n",
       " 155: 'deep regional mexican',\n",
       " 156: 'deep southern trap',\n",
       " 157: 'deep trap',\n",
       " 158: 'delta blues',\n",
       " 159: 'detroit hip hop',\n",
       " 160: 'dirty south rap',\n",
       " 161: 'disco',\n",
       " 162: 'disco house',\n",
       " 163: 'disney',\n",
       " 164: 'diva house',\n",
       " 165: 'dixieland',\n",
       " 166: 'doo-wop',\n",
       " 167: 'downtempo',\n",
       " 168: 'dream pop',\n",
       " 169: 'drill',\n",
       " 170: 'drum and bass',\n",
       " 171: 'dub',\n",
       " 172: 'dubstep',\n",
       " 173: 'duranguense',\n",
       " 174: 'dutch house',\n",
       " 175: 'dutch pop',\n",
       " 176: 'dutch rock',\n",
       " 177: 'east coast hip hop',\n",
       " 178: 'easy listening',\n",
       " 179: 'easycore',\n",
       " 180: 'ectofolk',\n",
       " 181: 'edm',\n",
       " 182: 'electric blues',\n",
       " 183: 'electro',\n",
       " 184: 'electro house',\n",
       " 185: 'electro latino',\n",
       " 186: 'electro swing',\n",
       " 187: 'electronic',\n",
       " 188: 'electronic trap',\n",
       " 189: 'electropop',\n",
       " 190: 'electropowerpop',\n",
       " 191: 'emo',\n",
       " 192: 'emo rap',\n",
       " 193: 'escape room',\n",
       " 194: 'etherpop',\n",
       " 195: 'eurodance',\n",
       " 196: 'europop',\n",
       " 197: 'exotica',\n",
       " 198: 'experimental',\n",
       " 199: 'experimental pop',\n",
       " 200: 'experimental rock',\n",
       " 201: 'filter house',\n",
       " 202: 'flamenco',\n",
       " 203: 'folk',\n",
       " 204: 'folk punk',\n",
       " 205: 'folk rock',\n",
       " 206: 'folk-pop',\n",
       " 207: 'freak folk',\n",
       " 208: 'freakbeat',\n",
       " 209: 'free jazz',\n",
       " 210: 'freestyle',\n",
       " 211: 'french soundtrack',\n",
       " 212: 'funk',\n",
       " 213: 'funk metal',\n",
       " 214: 'funk rock',\n",
       " 215: 'g funk',\n",
       " 216: 'gangster rap',\n",
       " 217: 'garage psych',\n",
       " 218: 'garage rock',\n",
       " 219: 'gbvfi',\n",
       " 220: 'geek rock',\n",
       " 221: 'german metal',\n",
       " 222: 'german pop',\n",
       " 223: 'german rock',\n",
       " 224: 'german techno',\n",
       " 225: 'girl group',\n",
       " 226: 'glam metal',\n",
       " 227: 'glam rock',\n",
       " 228: 'go-go',\n",
       " 229: 'gospel',\n",
       " 230: 'gothic metal',\n",
       " 231: 'gothic rock',\n",
       " 232: 'gothic symphonic metal',\n",
       " 233: 'groove metal',\n",
       " 234: 'grunge',\n",
       " 235: 'grupera',\n",
       " 236: 'gypsy jazz',\n",
       " 237: 'gypsy punk',\n",
       " 238: 'hard alternative',\n",
       " 239: 'hard bop',\n",
       " 240: 'hard rock',\n",
       " 241: 'hardcore hip hop',\n",
       " 242: 'hardcore punk',\n",
       " 243: 'hardcore techno',\n",
       " 244: 'harp',\n",
       " 245: 'hawaiian',\n",
       " 246: 'healing',\n",
       " 247: 'heartland rock',\n",
       " 248: 'hi-nrg',\n",
       " 249: 'hip hop',\n",
       " 250: 'hip house',\n",
       " 251: 'hip pop',\n",
       " 252: 'hollywood',\n",
       " 253: 'horror punk',\n",
       " 254: 'house',\n",
       " 255: 'hyphy',\n",
       " 256: 'icelandic pop',\n",
       " 257: 'idol',\n",
       " 258: 'indie folk',\n",
       " 259: 'indie pop',\n",
       " 260: 'indie pop rap',\n",
       " 261: 'indie poptimism',\n",
       " 262: 'indie punk',\n",
       " 263: 'indie r&b',\n",
       " 264: 'indie rock',\n",
       " 265: 'indiecoustica',\n",
       " 266: 'indietronica',\n",
       " 267: 'indonesian jazz',\n",
       " 268: 'industrial',\n",
       " 269: 'industrial metal',\n",
       " 270: 'industrial rock',\n",
       " 271: 'instrumental rock',\n",
       " 272: 'irish contemporary classical',\n",
       " 273: 'irish folk',\n",
       " 274: 'irish rock',\n",
       " 275: 'irish singer-songwriter',\n",
       " 276: 'italian disco',\n",
       " 277: 'italian pop',\n",
       " 278: 'italian soundtrack',\n",
       " 279: 'italo dance',\n",
       " 280: 'j-poprock',\n",
       " 281: 'jam band',\n",
       " 282: 'jangle pop',\n",
       " 283: 'jawaiian',\n",
       " 284: 'jazz',\n",
       " 285: 'jazz blues',\n",
       " 286: 'jazz clarinet',\n",
       " 287: 'jazz electric bass',\n",
       " 288: 'jazz funk',\n",
       " 289: 'jazz fusion',\n",
       " 290: 'jazz guitar',\n",
       " 291: 'jazz orchestra',\n",
       " 292: 'jazz piano',\n",
       " 293: 'jazz rap',\n",
       " 294: 'jazz saxophone',\n",
       " 295: 'jazz trio',\n",
       " 296: 'jazz trumpet',\n",
       " 297: 'jazz violin',\n",
       " 298: 'jump blues',\n",
       " 299: 'jump up',\n",
       " 300: 'kids dance party',\n",
       " 301: 'la indie',\n",
       " 302: 'laboratorio',\n",
       " 303: 'latin',\n",
       " 304: 'latin arena pop',\n",
       " 305: 'latin hip hop',\n",
       " 306: 'latin jazz',\n",
       " 307: 'latin metal',\n",
       " 308: 'latin pop',\n",
       " 309: 'latin rock',\n",
       " 310: 'latin soundtrack',\n",
       " 311: 'lds',\n",
       " 312: 'lgbtq+ hip hop',\n",
       " 313: 'lift kit',\n",
       " 314: 'lilith',\n",
       " 315: 'liquid funk',\n",
       " 316: 'lo star',\n",
       " 317: 'lo-fi',\n",
       " 318: 'louisiana blues',\n",
       " 319: 'lounge',\n",
       " 320: 'lovers rock',\n",
       " 321: 'madchester',\n",
       " 322: 'mambo',\n",
       " 323: 'marching band',\n",
       " 324: 'mariachi',\n",
       " 325: 'maskandi',\n",
       " 326: 'meditation',\n",
       " 327: 'melancholia',\n",
       " 328: 'mellow gold',\n",
       " 329: 'melodic metalcore',\n",
       " 330: 'memphis hip hop',\n",
       " 331: 'memphis soul',\n",
       " 332: 'merengue',\n",
       " 333: 'merseybeat',\n",
       " 334: 'metal',\n",
       " 335: 'metal guitar',\n",
       " 336: 'metalcore',\n",
       " 337: 'metropopolis',\n",
       " 338: 'mexican electronic',\n",
       " 339: 'mexican pop',\n",
       " 340: 'mexican rock',\n",
       " 341: 'miami bass',\n",
       " 342: 'minimal',\n",
       " 343: 'modern alternative rock',\n",
       " 344: 'modern blues',\n",
       " 345: 'modern country rock',\n",
       " 346: 'modern hard rock',\n",
       " 347: 'modern rock',\n",
       " 348: 'modern ska punk',\n",
       " 349: 'modern southern rock',\n",
       " 350: 'moombahton',\n",
       " 351: 'motown',\n",
       " 352: 'movie tunes',\n",
       " 353: 'naija worship',\n",
       " 354: 'nasheed',\n",
       " 355: 'nashville sound',\n",
       " 356: 'native american',\n",
       " 357: 'neo classical metal',\n",
       " 358: 'neo mellow',\n",
       " 359: 'neo soul',\n",
       " 360: 'neo-progressive',\n",
       " 361: 'neo-psychedelic',\n",
       " 362: 'neo-singer-songwriter',\n",
       " 363: 'neo-synthpop',\n",
       " 364: 'neue deutsche harte',\n",
       " 365: 'new age',\n",
       " 366: 'new age piano',\n",
       " 367: 'new americana',\n",
       " 368: 'new beat',\n",
       " 369: 'new jack swing',\n",
       " 370: 'new orleans blues',\n",
       " 371: 'new orleans funk',\n",
       " 372: 'new orleans jazz',\n",
       " 373: 'new rave',\n",
       " 374: 'new romantic',\n",
       " 375: 'new wave',\n",
       " 376: 'new wave pop',\n",
       " 377: 'new weird america',\n",
       " 378: 'no wave',\n",
       " 379: 'noise pop',\n",
       " 380: 'noise rock',\n",
       " 381: 'norteno',\n",
       " 382: 'northern soul',\n",
       " 383: 'nu gaze',\n",
       " 384: 'nu jazz',\n",
       " 385: 'nu metal',\n",
       " 386: 'nu-cumbia',\n",
       " 387: 'nwobhm',\n",
       " 388: 'ok indie',\n",
       " 389: 'old school hip hop',\n",
       " 390: 'old-time',\n",
       " 391: 'opera',\n",
       " 392: 'operatic pop',\n",
       " 393: 'orchestra',\n",
       " 394: 'orchestral performance',\n",
       " 395: 'outlaw country',\n",
       " 396: 'p funk',\n",
       " 397: 'permanent wave',\n",
       " 398: 'piano blues',\n",
       " 399: 'piano rock',\n",
       " 400: 'piedmont blues',\n",
       " 401: 'pinoy hip hop',\n",
       " 402: 'pixie',\n",
       " 403: 'polka',\n",
       " 404: 'pop',\n",
       " 405: 'pop emo',\n",
       " 406: 'pop punk',\n",
       " 407: 'pop quebecois',\n",
       " 408: 'pop rap',\n",
       " 409: 'pop reggaeton',\n",
       " 410: 'pop rock',\n",
       " 411: 'post-disco',\n",
       " 412: 'post-grunge',\n",
       " 413: 'post-hardcore',\n",
       " 414: 'post-punk',\n",
       " 415: 'post-teen pop',\n",
       " 416: 'power metal',\n",
       " 417: 'power pop',\n",
       " 418: 'praise',\n",
       " 419: 'prank',\n",
       " 420: 'preverb',\n",
       " 421: 'progressive bluegrass',\n",
       " 422: 'progressive house',\n",
       " 423: 'progressive metal',\n",
       " 424: 'progressive rock',\n",
       " 425: 'protopunk',\n",
       " 426: 'psychedelic blues-rock',\n",
       " 427: 'psychedelic rock',\n",
       " 428: 'pub rock',\n",
       " 429: 'punk',\n",
       " 430: 'punk blues',\n",
       " 431: 'quiet storm',\n",
       " 432: 'r&b',\n",
       " 433: 'ragtime',\n",
       " 434: 'ranchera',\n",
       " 435: 'rap',\n",
       " 436: 'rap metal',\n",
       " 437: 'rap rock',\n",
       " 438: 'red dirt',\n",
       " 439: 'redneck',\n",
       " 440: 'reggae',\n",
       " 441: 'reggae fusion',\n",
       " 442: 'reggae rock',\n",
       " 443: 'reggaeton',\n",
       " 444: 'reggaeton flow',\n",
       " 445: 'regional mexican',\n",
       " 446: 'regional mexican pop',\n",
       " 447: 'rhythm and blues',\n",
       " 448: 'rock',\n",
       " 449: 'rock cristiano',\n",
       " 450: 'rock en espanol',\n",
       " 451: 'rock steady',\n",
       " 452: 'rock-and-roll',\n",
       " 453: 'rockabilly',\n",
       " 454: 'roots reggae',\n",
       " 455: 'roots rock',\n",
       " 456: 'rosary',\n",
       " 457: 'rumba',\n",
       " 458: 'russian ccm',\n",
       " 459: 'salsa',\n",
       " 460: 'schlager',\n",
       " 461: 'scorecore',\n",
       " 462: 'scottish new wave',\n",
       " 463: 'scottish rock',\n",
       " 464: 'scottish singer-songwriter',\n",
       " 465: 'screamo',\n",
       " 466: 'seattle indie',\n",
       " 467: 'sevdah',\n",
       " 468: 'sheffield indie',\n",
       " 469: 'shimmer pop',\n",
       " 470: 'shiver pop',\n",
       " 471: 'shoegaze',\n",
       " 472: 'show tunes',\n",
       " 473: 'singer-songwriter',\n",
       " 474: 'ska',\n",
       " 475: 'ska punk',\n",
       " 476: 'skate punk',\n",
       " 477: 'sleaze rock',\n",
       " 478: 'slow core',\n",
       " 479: 'smooth jazz',\n",
       " 480: 'soca',\n",
       " 481: 'soft rock',\n",
       " 482: 'soul',\n",
       " 483: 'soul blues',\n",
       " 484: 'soul jazz',\n",
       " 485: 'soundtrack',\n",
       " 486: 'south african hip hop',\n",
       " 487: 'south african jazz',\n",
       " 488: 'southern hip hop',\n",
       " 489: 'southern rock',\n",
       " 490: 'southern soul',\n",
       " 491: 'space age pop',\n",
       " 492: 'spanish pop',\n",
       " 493: 'speed metal',\n",
       " 494: 'steampunk',\n",
       " 495: 'stomp and holler',\n",
       " 496: 'stomp pop',\n",
       " 497: 'stoner metal',\n",
       " 498: 'stoner rock',\n",
       " 499: 'stride',\n",
       " 500: 'strut',\n",
       " 501: 'surf music',\n",
       " 502: 'swamp pop',\n",
       " 503: 'swedish electropop',\n",
       " 504: 'swedish hard rock',\n",
       " 505: 'swedish pop',\n",
       " 506: 'swedish synthpop',\n",
       " 507: 'swing',\n",
       " 508: 'swiss rock',\n",
       " 509: 'symphonic rock',\n",
       " 510: 'synthpop',\n",
       " 511: 'tahitian',\n",
       " 512: 'talent show',\n",
       " 513: 'teen pop',\n",
       " 514: 'tejano',\n",
       " 515: 'texas blues',\n",
       " 516: 'texas country',\n",
       " 517: 'thrash metal',\n",
       " 518: 'toronto indie',\n",
       " 519: 'traditional blues',\n",
       " 520: 'traditional country',\n",
       " 521: 'traditional folk',\n",
       " 522: 'traditional swing',\n",
       " 523: 'trance',\n",
       " 524: 'trancecore',\n",
       " 525: 'trap music',\n",
       " 526: 'trap queen',\n",
       " 527: 'trap soul',\n",
       " 528: 'trip hop',\n",
       " 529: 'trival',\n",
       " 530: 'tropical',\n",
       " 531: 'tropical house',\n",
       " 532: 'turbo folk',\n",
       " 533: 'turntablism',\n",
       " 534: 'uk americana',\n",
       " 535: 'uk garage',\n",
       " 536: 'uk post-punk',\n",
       " 537: 'uk reggae',\n",
       " 538: 'underground hip hop',\n",
       " 539: 'underground power pop',\n",
       " 540: 'underground rap',\n",
       " 541: 'urban contemporary',\n",
       " 542: 'vapor pop',\n",
       " 543: 'vapor trap',\n",
       " 544: 'vaudeville',\n",
       " 545: 'vegas indie',\n",
       " 546: 'video game music',\n",
       " 547: 'vintage french electronic',\n",
       " 548: 'vintage italian soundtrack',\n",
       " 549: 'vintage jazz',\n",
       " 550: 'viral pop',\n",
       " 551: 'vocal harmony group',\n",
       " 552: 'vocal house',\n",
       " 553: 'vocal jazz',\n",
       " 554: 'vogue',\n",
       " 555: 'west coast rap',\n",
       " 556: 'west coast trap',\n",
       " 557: 'western swing',\n",
       " 558: 'world',\n",
       " 559: 'world worship',\n",
       " 560: 'worship',\n",
       " 561: 'wrestling',\n",
       " 562: 'yugoslav rock',\n",
       " 563: 'zolo'}"
      ]
     },
     "execution_count": 52,
     "metadata": {},
     "output_type": "execute_result"
    }
   ],
   "source": [
    "genre_dict"
   ]
  },
  {
   "cell_type": "code",
   "execution_count": 93,
   "metadata": {},
   "outputs": [],
   "source": [
    "genre_df.to_csv('../data/genres.csv')"
   ]
  },
  {
   "cell_type": "code",
   "execution_count": 35,
   "metadata": {},
   "outputs": [
    {
     "data": {
      "text/html": [
       "<div>\n",
       "<style scoped>\n",
       "    .dataframe tbody tr th:only-of-type {\n",
       "        vertical-align: middle;\n",
       "    }\n",
       "\n",
       "    .dataframe tbody tr th {\n",
       "        vertical-align: top;\n",
       "    }\n",
       "\n",
       "    .dataframe thead th {\n",
       "        text-align: right;\n",
       "    }\n",
       "</style>\n",
       "<table border=\"1\" class=\"dataframe\">\n",
       "  <thead>\n",
       "    <tr style=\"text-align: right;\">\n",
       "      <th></th>\n",
       "      <th>genre</th>\n",
       "    </tr>\n",
       "  </thead>\n",
       "  <tbody>\n",
       "    <tr>\n",
       "      <th>0</th>\n",
       "      <td>a cappella</td>\n",
       "    </tr>\n",
       "    <tr>\n",
       "      <th>1</th>\n",
       "      <td>acid house</td>\n",
       "    </tr>\n",
       "    <tr>\n",
       "      <th>2</th>\n",
       "      <td>acid jazz</td>\n",
       "    </tr>\n",
       "    <tr>\n",
       "      <th>3</th>\n",
       "      <td>acoustic blues</td>\n",
       "    </tr>\n",
       "    <tr>\n",
       "      <th>4</th>\n",
       "      <td>acoustic pop</td>\n",
       "    </tr>\n",
       "  </tbody>\n",
       "</table>\n",
       "</div>"
      ],
      "text/plain": [
       "            genre\n",
       "0      a cappella\n",
       "1      acid house\n",
       "2       acid jazz\n",
       "3  acoustic blues\n",
       "4    acoustic pop"
      ]
     },
     "execution_count": 35,
     "metadata": {},
     "output_type": "execute_result"
    }
   ],
   "source": [
    "genre_df = pd.read_csv('../data/genres.csv', index_col=0)\n",
    "genre_df.head()"
   ]
  },
  {
   "cell_type": "code",
   "execution_count": 45,
   "metadata": {},
   "outputs": [],
   "source": [
    "with open('../data/all_genres.pkl', 'wb') as f:\n",
    "    pickle.dump(all_genres, f)"
   ]
  },
  {
   "cell_type": "markdown",
   "metadata": {},
   "source": [
    "#### What Exactly are the Genres?\n",
    "\n",
    "The website, 'Every Noise at Once' provides a great overview of the genres on Spotify, and based on an interview with Glenn McDonald at the Spotify [blog](https://artists.spotify.com/blog/how-spotify-discovers-the-genres-of-tomorrow).\n",
    "\n",
    ">  Every Noise at Once is an ongoing attempt at an algorithmically-generated, readability-adjusted scatter-plot of the musical genre-space, based on data tracked and analyzed for 2,107 genres by Spotify as of 2018-10-05. The calibration is fuzzy, but in general down is more organic, up is more mechanical and electric; left is denser and more atmospheric, right is spikier and bouncier."
   ]
  }
 ],
 "metadata": {
  "kernelspec": {
   "display_name": "Python 3",
   "language": "python",
   "name": "python3"
  },
  "language_info": {
   "codemirror_mode": {
    "name": "ipython",
    "version": 3
   },
   "file_extension": ".py",
   "mimetype": "text/x-python",
   "name": "python",
   "nbconvert_exporter": "python",
   "pygments_lexer": "ipython3",
   "version": "3.6.3"
  }
 },
 "nbformat": 4,
 "nbformat_minor": 2
}
