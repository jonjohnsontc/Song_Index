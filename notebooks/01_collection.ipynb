{
 "cells": [
  {
   "cell_type": "markdown",
   "metadata": {},
   "source": [
    "## 01_Collection: Retrieving RIAA and Spotify Data for Analysis\n",
    "\n",
    "**Description**: Extracting data from the RIAA Gold and Platinum website, along with Spotify's API to serve as the dataset for this recommender system. \n",
    "\n",
    "**Disclaimer**: Since certain processes within this notebook require API keys (which are not stored within this notebook), it is not possible to run every cell from start to finish. If you'd like to do so, you'll need to request Spotify API access with client credentials [here](https://developer.spotify.com/dashboard/login)."
   ]
  },
  {
   "cell_type": "markdown",
   "metadata": {},
   "source": [
    "## Table of Contents\n",
    "\n",
    "1. [Retreiving RIAA Data](#1)\n",
    "2. [Extracting Artists from Spotify API](#2)\n",
    "3. [Retrieving Top-10 Songs per Artist from Spotify API](#3)\n",
    "4. [Retrieving Audio Features from Spotify API](#4)"
   ]
  },
  {
   "cell_type": "code",
   "execution_count": 1,
   "metadata": {},
   "outputs": [],
   "source": [
    "import csv\n",
    "import json\n",
    "import os\n",
    "import pickle\n",
    "import re\n",
    "import time\n",
    "\n",
    "import numpy as np\n",
    "import pandas as pd\n",
    "\n",
    "import splinter\n",
    "import spotipy\n",
    "from spotipy.oauth2 import SpotifyClientCredentials\n",
    "\n",
    "from dotenv import load_dotenv, find_dotenv\n",
    "load_dotenv(find_dotenv())\n",
    "\n",
    "from library import song_feat_pull, genre_p_artist, genre_psong"
   ]
  },
  {
   "cell_type": "markdown",
   "metadata": {},
   "source": [
    "<a name=\"1\"></a>\n",
    "## 1. Retrieving RIAA Data  \n",
    "\n",
    "*Original Date of Extracted Elements: 9/22/18*\n",
    "\n",
    "Here, I'm querying the RIAA Gold and Platinum [website](https://www.riaa.com/gold-platinum/) for all artists whom have garnered a sales award throughout it's history. These artists will then be queried against the Spotify API for their top-10 most popular songs. I figured that retreiving songs from an assortment of RIAA award-winning artists ensures a relatively diverse song dataset, as well as one that is filled with titles that most users of this recommender would be able to recognize and suggest themselves, as cosine similarity is precomputed between each of the titles within this dataset (more in `04_cosine.ipynb`).\n",
    "\n",
    "The data is extracted using [Splinter](https://splinter.readthedocs.io/en/latest/), a Python library used for browser automation and website testing."
   ]
  },
  {
   "cell_type": "markdown",
   "metadata": {},
   "source": [
    "### 1a. Using Splinter to Access RIAA Website"
   ]
  },
  {
   "cell_type": "code",
   "execution_count": 3,
   "metadata": {},
   "outputs": [],
   "source": [
    "from splinter import Browser\n",
    "browse = Browser()\n",
    "browse.visit('https://www.riaa.com/gold-platinum/?tab_active=awards_by_artist&col=artist&ord=asc#search_section')"
   ]
  },
  {
   "cell_type": "markdown",
   "metadata": {},
   "source": [
    "#### Found the \"Load More\" button. This generates more table rows"
   ]
  },
  {
   "cell_type": "code",
   "execution_count": 4,
   "metadata": {},
   "outputs": [],
   "source": [
    "load_more = browse.find_by_xpath('//*[@id=\"loadmore\"]')\n",
    "load_more.click()"
   ]
  },
  {
   "cell_type": "markdown",
   "metadata": {},
   "source": [
    "#### Extracting all Artists in RIAA table"
   ]
  },
  {
   "cell_type": "code",
   "execution_count": 13,
   "metadata": {},
   "outputs": [],
   "source": [
    "for i in range(200):\n",
    "    load_more.click()\n",
    "    time.sleep(2)"
   ]
  },
  {
   "cell_type": "markdown",
   "metadata": {},
   "source": [
    "### 1b. Extracting all artist information by `td class=artists_cell`"
   ]
  },
  {
   "cell_type": "code",
   "execution_count": 14,
   "metadata": {},
   "outputs": [],
   "source": [
    "all_tds = browse.find_by_tag('td[class=\"artists_cell\"]')\n",
    "artist_list_td = [element.value for element in all_tds]"
   ]
  },
  {
   "cell_type": "code",
   "execution_count": 16,
   "metadata": {},
   "outputs": [
    {
     "data": {
      "text/plain": [
       "2514"
      ]
     },
     "execution_count": 16,
     "metadata": {},
     "output_type": "execute_result"
    }
   ],
   "source": [
    "len(artist_list_td)"
   ]
  },
  {
   "cell_type": "markdown",
   "metadata": {},
   "source": [
    "#### Sanity Check of Artist Listing"
   ]
  },
  {
   "cell_type": "code",
   "execution_count": 5,
   "metadata": {},
   "outputs": [
    {
     "data": {
      "text/plain": [
       "[\"'N SYNC\",\n",
       " '\"WEIRD AL\" YANKOVIC',\n",
       " '10 YEARS',\n",
       " '10,000 MANIACS',\n",
       " '112',\n",
       " '2 CHAINZ',\n",
       " '2 LIVE CREW',\n",
       " '2 PAC',\n",
       " '2 PAC & OUTLAWZ',\n",
       " '2 UNLIMITED']"
      ]
     },
     "execution_count": 5,
     "metadata": {},
     "output_type": "execute_result"
    }
   ],
   "source": [
    "artist_list_td[:10]"
   ]
  },
  {
   "cell_type": "markdown",
   "metadata": {},
   "source": [
    "#### Pickling List for Access Later"
   ]
  },
  {
   "cell_type": "code",
   "execution_count": 17,
   "metadata": {},
   "outputs": [],
   "source": [
    "with open('../pickle/artist_list_td.pkl', 'wb+') as f:\n",
    "    pickle.dump(artist_list_td, f)"
   ]
  },
  {
   "cell_type": "markdown",
   "metadata": {},
   "source": [
    "<a name=\"2\"></a>\n",
    "## 2. Retrieving Artists from Spotify API\n",
    "\n",
    "Now that I have a base of artists to query the Spotify API with, I'm going to go ahead and do so, with the help of [Spotipy](https://spotipy.readthedocs.io/en/latest/#), an api wrapper built in Python."
   ]
  },
  {
   "cell_type": "markdown",
   "metadata": {},
   "source": [
    "### 2a. Logging Into Spotify\n"
   ]
  },
  {
   "cell_type": "code",
   "execution_count": 18,
   "metadata": {},
   "outputs": [],
   "source": [
    "client_credentials_manager = SpotifyClientCredentials(client_id=os.getenv('S_CLIENT_ID'),\n",
    "                                                      client_secret=os.getenv('S_CLIENT_SECRET'))\n",
    "sp = spotipy.Spotify(client_credentials_manager=client_credentials_manager)"
   ]
  },
  {
   "cell_type": "markdown",
   "metadata": {},
   "source": [
    "#### 2b. Retreiving Artist IDs\n",
    "\n",
    "In order to retreive an artist's top-10 tracks. The `artist_id` for each artist must be found through the API's `search` endpoint (shown below)."
   ]
  },
  {
   "cell_type": "markdown",
   "metadata": {},
   "source": [
    "#### Example Search\n",
    "\n",
    "As you can see, with each given artist search, there can be multiple results. Spotify will present the choice it feels closest matches your song term first, though it may not always be the correct artist."
   ]
  },
  {
   "cell_type": "code",
   "execution_count": 11,
   "metadata": {},
   "outputs": [
    {
     "data": {
      "text/plain": [
       "{'artists': {'href': 'https://api.spotify.com/v1/search?query=%27N+SYNC&type=artist&offset=0&limit=10',\n",
       "  'items': [{'external_urls': {'spotify': 'https://open.spotify.com/artist/6Ff53KvcvAj5U7Z1vojB5o'},\n",
       "    'followers': {'href': None, 'total': 768549},\n",
       "    'genres': ['boy band', 'dance pop', 'pop', 'post-teen pop'],\n",
       "    'href': 'https://api.spotify.com/v1/artists/6Ff53KvcvAj5U7Z1vojB5o',\n",
       "    'id': '6Ff53KvcvAj5U7Z1vojB5o',\n",
       "    'images': [{'height': 1173,\n",
       "      'url': 'https://i.scdn.co/image/c56cf0cc89c8ecfec7145cf065ea2006d0706605',\n",
       "      'width': 1000},\n",
       "     {'height': 751,\n",
       "      'url': 'https://i.scdn.co/image/b119bdb5ef8a56c1b4aaa552f3ed686fab4aaff0',\n",
       "      'width': 640},\n",
       "     {'height': 235,\n",
       "      'url': 'https://i.scdn.co/image/fc8b9594cca9210bb91ec1d63172ef021217905b',\n",
       "      'width': 200},\n",
       "     {'height': 75,\n",
       "      'url': 'https://i.scdn.co/image/02f562244708fb6e951a93b1b9131d2fb9bfba06',\n",
       "      'width': 64}],\n",
       "    'name': '*NSYNC',\n",
       "    'popularity': 71,\n",
       "    'type': 'artist',\n",
       "    'uri': 'spotify:artist:6Ff53KvcvAj5U7Z1vojB5o'},\n",
       "   {'external_urls': {'spotify': 'https://open.spotify.com/artist/3WSOflN2YDXQTxEVClKvpS'},\n",
       "    'followers': {'href': None, 'total': 1593},\n",
       "    'genres': [],\n",
       "    'href': 'https://api.spotify.com/v1/artists/3WSOflN2YDXQTxEVClKvpS',\n",
       "    'id': '3WSOflN2YDXQTxEVClKvpS',\n",
       "    'images': [{'height': 640,\n",
       "      'url': 'https://i.scdn.co/image/301645df804429a6b0ce35914bf94b016c6753dd',\n",
       "      'width': 640},\n",
       "     {'height': 300,\n",
       "      'url': 'https://i.scdn.co/image/3d58954ab11472d8e9316a53a9ad48f7d0fb7795',\n",
       "      'width': 300},\n",
       "     {'height': 64,\n",
       "      'url': 'https://i.scdn.co/image/a5ffb62b3f7d74299b9a9b37163b4dbe6e611ba1',\n",
       "      'width': 64}],\n",
       "    'name': 'N-Sync',\n",
       "    'popularity': 12,\n",
       "    'type': 'artist',\n",
       "    'uri': 'spotify:artist:3WSOflN2YDXQTxEVClKvpS'},\n",
       "   {'external_urls': {'spotify': 'https://open.spotify.com/artist/6siQVjH6hO8QqxfVrgpvkH'},\n",
       "    'followers': {'href': None, 'total': 22},\n",
       "    'genres': [],\n",
       "    'href': 'https://api.spotify.com/v1/artists/6siQVjH6hO8QqxfVrgpvkH',\n",
       "    'id': '6siQVjH6hO8QqxfVrgpvkH',\n",
       "    'images': [{'height': 640,\n",
       "      'url': 'https://i.scdn.co/image/de721955d5b9d7a7624ee85a48cff6e18eb49017',\n",
       "      'width': 640},\n",
       "     {'height': 300,\n",
       "      'url': 'https://i.scdn.co/image/7640942a8c5cccaa495af073f1a2ee8be77f0fef',\n",
       "      'width': 300},\n",
       "     {'height': 64,\n",
       "      'url': 'https://i.scdn.co/image/3b92b42a2b57a3a07dff83b6a6d323e23f616cbc',\n",
       "      'width': 64}],\n",
       "    'name': \"Kitch 'n Sync\",\n",
       "    'popularity': 0,\n",
       "    'type': 'artist',\n",
       "    'uri': 'spotify:artist:6siQVjH6hO8QqxfVrgpvkH'}],\n",
       "  'limit': 10,\n",
       "  'next': None,\n",
       "  'offset': 0,\n",
       "  'previous': None,\n",
       "  'total': 3}}"
      ]
     },
     "execution_count": 11,
     "metadata": {},
     "output_type": "execute_result"
    }
   ],
   "source": [
    "artist = sp.search(\"'N SYNC\", type='artist')\n",
    "artist"
   ]
  },
  {
   "cell_type": "markdown",
   "metadata": {},
   "source": [
    "#### Storing \"Most Likely\" Artist Results in List\n",
    "\n",
    "As opposed to iterating through multiple results for every artist in my dataset, I only saved the first result of each search. Afterwards, I did a manual quality check of the entire list, and changed out a few artists who were incorrectly retrieved. "
   ]
  },
  {
   "cell_type": "code",
   "execution_count": 9,
   "metadata": {},
   "outputs": [],
   "source": [
    "with open('../pickle/artist_list_td.pkl', 'rb') as f:\n",
    "    artist_list_td = pickle.load(f)"
   ]
  },
  {
   "cell_type": "code",
   "execution_count": 60,
   "metadata": {},
   "outputs": [],
   "source": [
    "confident_list = []\n",
    "for artist in artist_list:\n",
    "    results = sp.search(artist, type='artist')\n",
    "    try:\n",
    "        confident_list.append(results['artists']['items'][0])\n",
    "    except:\n",
    "        confident_list.append('no_results')\n",
    "    time.sleep(1)"
   ]
  },
  {
   "cell_type": "markdown",
   "metadata": {},
   "source": [
    "##### Ensuring all Artists Were Searched Through"
   ]
  },
  {
   "cell_type": "code",
   "execution_count": 61,
   "metadata": {},
   "outputs": [
    {
     "data": {
      "text/plain": [
       "2514"
      ]
     },
     "execution_count": 61,
     "metadata": {},
     "output_type": "execute_result"
    }
   ],
   "source": [
    "len(confident_list)"
   ]
  },
  {
   "cell_type": "markdown",
   "metadata": {},
   "source": [
    "##### Example Result"
   ]
  },
  {
   "cell_type": "code",
   "execution_count": 362,
   "metadata": {},
   "outputs": [
    {
     "data": {
      "text/plain": [
       "{'external_urls': {'spotify': 'https://open.spotify.com/artist/3dkbV4qihUeMsqN4vBGg93'},\n",
       " 'followers': {'href': None, 'total': 946690},\n",
       " 'genres': ['classic soul',\n",
       "  'funk',\n",
       "  'memphis soul',\n",
       "  'quiet storm',\n",
       "  'soul',\n",
       "  'soul blues',\n",
       "  'southern soul'],\n",
       " 'href': 'https://api.spotify.com/v1/artists/3dkbV4qihUeMsqN4vBGg93',\n",
       " 'id': '3dkbV4qihUeMsqN4vBGg93',\n",
       " 'images': [{'height': 640,\n",
       "   'url': 'https://i.scdn.co/image/3204125720ef02294bbac0ff109a5919c141955f',\n",
       "   'width': 640},\n",
       "  {'height': 320,\n",
       "   'url': 'https://i.scdn.co/image/6df201e877205c39bebe4c420f3b2ef84ad66b17',\n",
       "   'width': 320},\n",
       "  {'height': 160,\n",
       "   'url': 'https://i.scdn.co/image/4c1d71cb0248f47f249b32c66f661f9ef3081ca8',\n",
       "   'width': 160}],\n",
       " 'name': 'Al Green',\n",
       " 'popularity': 68,\n",
       " 'type': 'artist',\n",
       " 'uri': 'spotify:artist:3dkbV4qihUeMsqN4vBGg93'}"
      ]
     },
     "execution_count": 362,
     "metadata": {},
     "output_type": "execute_result"
    }
   ],
   "source": [
    "confident_list[64]"
   ]
  },
  {
   "cell_type": "markdown",
   "metadata": {},
   "source": [
    "##### Pickling Listing for Later if Necessary"
   ]
  },
  {
   "cell_type": "code",
   "execution_count": 100,
   "metadata": {},
   "outputs": [],
   "source": [
    "with open('../pickle/confident_list.pkl', 'wb+') as f:\n",
    "    pickle.dump(confident_list, f)"
   ]
  },
  {
   "cell_type": "markdown",
   "metadata": {},
   "source": [
    "##### Counting `no_results`"
   ]
  },
  {
   "cell_type": "code",
   "execution_count": 79,
   "metadata": {},
   "outputs": [],
   "source": [
    "count = -1\n",
    "index_list = []\n",
    "\n",
    "for artist in list(enumerate(confident_list)):\n",
    "    count += 1\n",
    "    if artist == 'no_results':\n",
    "        index_list.append(count)"
   ]
  },
  {
   "cell_type": "code",
   "execution_count": 81,
   "metadata": {},
   "outputs": [
    {
     "data": {
      "text/plain": [
       "135"
      ]
     },
     "execution_count": 81,
     "metadata": {},
     "output_type": "execute_result"
    }
   ],
   "source": [
    "len(index_list)"
   ]
  },
  {
   "cell_type": "code",
   "execution_count": 2,
   "metadata": {},
   "outputs": [],
   "source": [
    "with open('../pickle/confident_list.pkl', 'rb') as f:\n",
    "    confident_list = pickle.load(f)"
   ]
  },
  {
   "cell_type": "markdown",
   "metadata": {},
   "source": [
    "##### Missing Artists: Artists Who Weren't Found via \"Most Likely\" Search"
   ]
  },
  {
   "cell_type": "code",
   "execution_count": 21,
   "metadata": {},
   "outputs": [],
   "source": [
    "missing_artists = []\n",
    "for i in list(enumerate(confident_list)):\n",
    "    if i[1] == 'no_results':\n",
    "        missing_artists.append((i[0], artist_list_td[i[0]]))"
   ]
  },
  {
   "cell_type": "markdown",
   "metadata": {},
   "source": [
    "##### Sanity Check of List"
   ]
  },
  {
   "cell_type": "code",
   "execution_count": 23,
   "metadata": {},
   "outputs": [
    {
     "data": {
      "text/plain": [
       "[(8, '2 PAC & OUTLAWZ'),\n",
       " (11, '21 SAVAGE & METRO BOOMIN'),\n",
       " (36, 'A. DORATI / MINNEAPOLIS SYMPHONY'),\n",
       " (117, 'ANI DI FRANCO'),\n",
       " (165, 'BABY AKA THE #1 STUNNA')]"
      ]
     },
     "execution_count": 23,
     "metadata": {},
     "output_type": "execute_result"
    }
   ],
   "source": [
    "missing_artists[:5]"
   ]
  },
  {
   "cell_type": "code",
   "execution_count": 98,
   "metadata": {},
   "outputs": [],
   "source": [
    "with open('../pickle/missing_artists.pkl', 'wb+') as f:\n",
    "    pickle.dump(missing_artists, f)"
   ]
  },
  {
   "cell_type": "markdown",
   "metadata": {},
   "source": [
    "##### Manually Finding Artists\n",
    "\n",
    "This is the result of a manual search for artists through Spotify's app. The artists, now tossed into a list can have their id's retrieved through the api."
   ]
  },
  {
   "cell_type": "code",
   "execution_count": 112,
   "metadata": {},
   "outputs": [],
   "source": [
    "mal = [\n",
    "    (8, \"2Pac Outlawz\"), (36, \"Minneapolis Symphony Orchestra\"), (117, \"Ani DiFranco\"), (208, \"Herbert von Karajan\"),\n",
    "    (215, \"Big Audio Dynamite\"), (268, \"Mike Bloomfield\"), (277, \"Bob & Doug McKenzie\"), (284, \"Earl Klugh\"),\n",
    "    (287, \"Bob Rivers\"), (295, \"Bobby McFerrin\"), (328, \"Brian McKnight\"), (367, \"C.W. McCall\"), (374, \"The Diplomats\"),\n",
    "    (388, \"Mahavishnu John McLaughlin\"), (397, \"CeCe Peniston\"), (520, \"Dallas Holm\"), (549, \"WordHarmonic\"),\n",
    "    (627, \"D.J. Magic Mike & M.C. Madness\"), (641, \"Don McLean\"), (650, \"Donnie McClurkin\"), (662, \"Mark Beshara\"),\n",
    "    (703, \"Edwin McCain\"), (759, \"Extreme\"), (811, \"Francis Lai\"), (820, \"Francesca Battistelli\"), (1013, \"Nelson Eddy\"),\n",
    "    (1056, \"Claude Bolling\"), (1067, \"The Outlaws\"), (1075, \"Jesse Johnson\"), (1076, \"Jesse McCartney\"),\n",
    "    (1115, \"Joey McIntyre\"), (1185, \"KC & The Sunshine Band\"), (1274, \"Larry Elgart & His Manhatten Swing Orchestra\"), \n",
    "    (1276, \"LL Cool J\"), (1309, \"Les McCann & Eddie Harris\"), (1319, \"Lil Jon & The East Side Boyz\"), (1323, \"Lila McCann\"), \n",
    "    (1333, \"Lisa Lisa & Cult Jam\"), (1354, \"London Symphony Orchestra\"), (1357, \"Loreena McKennitt\"),\n",
    "    (1360, \"Los Angeles Azules\"), (1424, \"Marco Antonio Solís\"), (1430, \"Marilyn McCoo & Billy Davis Jr.\"),\n",
    "    (1463, \"Frankie Beverly\"), (1465, \"McBride & The Ride\"), (1466, \"MC Eiht\"), (1467, \"McFadden & Whitehead\"),\n",
    "    (1524, \"Mindy McCready\"), (1569, \"Leonard Bernstein\"), (1588, \"Neal McCoy\"),(1678, \"Maurice André\"),\n",
    "    (1799, \"REO Speedwagon\"), (1832, \"Real McCoy\"), (1833, \"Reba McEntire\"), (1844, \"Return To Forever\"),\n",
    "    (1870, \"Rob Base & DJ EZ Rock\"), (1929, \"SWV\"), (1953, \"Sarah McLachlan\"), (2043, \"Tha Eastsidaz\"),\n",
    "    (2206, \"Dallas Brass\"), (2209, \"Deftones\"), (2253, \"Sesame Street\"), (2279, \"Talking Heads\"),\n",
    "    (2306, \"38 Special\"),(2366, \"Trey Parker\"),(2371, \"Trin-I-Tee 5:7\"), (2394, \"UB40\"),\n",
    "    (2401, \"U.S.A. For Africa\"),(2418, \"VeggieTales\"),(2426, \"Victoria Justice\"),(2440, \"Walter Murphy\"),\n",
    "]"
   ]
  },
  {
   "cell_type": "code",
   "execution_count": 125,
   "metadata": {},
   "outputs": [
    {
     "data": {
      "text/plain": [
       "64"
      ]
     },
     "execution_count": 125,
     "metadata": {},
     "output_type": "execute_result"
    }
   ],
   "source": [
    "len(missing_artists) - len(mal)"
   ]
  },
  {
   "cell_type": "markdown",
   "metadata": {},
   "source": [
    "##### Missing Artists Not Included\n",
    "\n",
    "If artists from the `missing_artists` table are not included in the `mal` table, it could be for the following reasons:\n",
    "- Spotify doesn't have the artist\n",
    "- It's a combo of artists, and at least one of them appears elsewhere on the list\n",
    "\n",
    "Based on these, there's a total of 64 artists who were not included in the `mal` table."
   ]
  },
  {
   "cell_type": "code",
   "execution_count": 4,
   "metadata": {},
   "outputs": [],
   "source": [
    "with open('../pickle/missing_artists.pkl', 'rb') as f:\n",
    "    missing_artists = pickle.load(f)"
   ]
  },
  {
   "cell_type": "markdown",
   "metadata": {},
   "source": [
    "##### Grabbing Found Artists Info"
   ]
  },
  {
   "cell_type": "code",
   "execution_count": 117,
   "metadata": {},
   "outputs": [],
   "source": [
    "found_artists = []\n",
    "for artist in missing_artists:\n",
    "    artist_list = sp.search(artist[1], type='artist')\n",
    "    try:\n",
    "        found_artists.append(artist_list['artists']['items'][0])\n",
    "    except:\n",
    "        found_artists.append('no_results')\n",
    "    time.sleep(0.5)"
   ]
  },
  {
   "cell_type": "code",
   "execution_count": 127,
   "metadata": {},
   "outputs": [],
   "source": [
    "with open('../pickle/found_artists.pkl', 'wb+') as f:\n",
    "    pickle.dump(found_artists, f)"
   ]
  },
  {
   "cell_type": "markdown",
   "metadata": {},
   "source": [
    "##### Checking to Make Sure There's No Missing Results in `found_artists`"
   ]
  },
  {
   "cell_type": "code",
   "execution_count": 122,
   "metadata": {},
   "outputs": [],
   "source": [
    "count = -1\n",
    "index_list = []\n",
    "\n",
    "for artist in list(enumerate(found_artists)):\n",
    "    count += 1\n",
    "    if artist == 'no_results':\n",
    "        index_list.append(count)"
   ]
  },
  {
   "cell_type": "code",
   "execution_count": 123,
   "metadata": {},
   "outputs": [
    {
     "data": {
      "text/plain": [
       "[]"
      ]
     },
     "execution_count": 123,
     "metadata": {},
     "output_type": "execute_result"
    }
   ],
   "source": [
    "index_list"
   ]
  },
  {
   "cell_type": "markdown",
   "metadata": {},
   "source": [
    "### 2c. Creating Dataframe of Full Artist Listing"
   ]
  },
  {
   "cell_type": "code",
   "execution_count": 146,
   "metadata": {},
   "outputs": [
    {
     "data": {
      "text/plain": [
       "['external_urls',\n",
       " 'followers',\n",
       " 'genres',\n",
       " 'href',\n",
       " 'id',\n",
       " 'images',\n",
       " 'name',\n",
       " 'popularity',\n",
       " 'type',\n",
       " 'uri']"
      ]
     },
     "execution_count": 146,
     "metadata": {},
     "output_type": "execute_result"
    }
   ],
   "source": [
    "list(confident_list[0].keys())"
   ]
  },
  {
   "cell_type": "markdown",
   "metadata": {},
   "source": [
    "Passing `confident_list` (Artist list 1 of 2) into a DataFrame by first passing it into a series. This will enable me to keep the current structure, despite the fact the dict values are not of the same length."
   ]
  },
  {
   "cell_type": "code",
   "execution_count": 206,
   "metadata": {},
   "outputs": [],
   "source": [
    "df = pd.DataFrame(pd.Series(confident_list[0]).reset_index()).T\n",
    "df.columns = [\"external_urls\", \"followers\", \"genres\", \"href\", \"id\", \"images\", \n",
    "              \"name\", \"popularity\",  \"type\", \"uri\"]\n",
    "df.drop(labels='index', inplace=True)"
   ]
  },
  {
   "cell_type": "markdown",
   "metadata": {},
   "source": [
    "##### Adding `found_artists` into DataFrame"
   ]
  },
  {
   "cell_type": "code",
   "execution_count": 250,
   "metadata": {},
   "outputs": [],
   "source": [
    "df_2 = pd.DataFrame(pd.Series(found_artists[0]).reset_index()).T"
   ]
  },
  {
   "cell_type": "code",
   "execution_count": 251,
   "metadata": {},
   "outputs": [],
   "source": [
    "count = 0\n",
    "\n",
    "for i in found_artists[1:]:\n",
    "    count += 1\n",
    "    df_2.loc[count] = pd.Series(i).reset_index().T.iloc[1]"
   ]
  },
  {
   "cell_type": "code",
   "execution_count": 255,
   "metadata": {},
   "outputs": [],
   "source": [
    "df_2.columns = [\"external_urls\", \"followers\", \"genres\", \"href\", \"id\", \n",
    "                \"images\", \"name\", \"popularity\",  \"type\", \"uri\"]\n",
    "df_2.drop(labels='index', inplace=True)"
   ]
  },
  {
   "cell_type": "markdown",
   "metadata": {},
   "source": [
    "##### Combining DataFrames"
   ]
  },
  {
   "cell_type": "code",
   "execution_count": 261,
   "metadata": {},
   "outputs": [],
   "source": [
    "df = pd.concat([df, df_2])"
   ]
  },
  {
   "cell_type": "code",
   "execution_count": 266,
   "metadata": {},
   "outputs": [
    {
     "data": {
      "text/html": [
       "<div>\n",
       "<style scoped>\n",
       "    .dataframe tbody tr th:only-of-type {\n",
       "        vertical-align: middle;\n",
       "    }\n",
       "\n",
       "    .dataframe tbody tr th {\n",
       "        vertical-align: top;\n",
       "    }\n",
       "\n",
       "    .dataframe thead th {\n",
       "        text-align: right;\n",
       "    }\n",
       "</style>\n",
       "<table border=\"1\" class=\"dataframe\">\n",
       "  <thead>\n",
       "    <tr style=\"text-align: right;\">\n",
       "      <th></th>\n",
       "      <th>external_urls</th>\n",
       "      <th>followers</th>\n",
       "      <th>genres</th>\n",
       "      <th>href</th>\n",
       "      <th>id</th>\n",
       "      <th>images</th>\n",
       "      <th>name</th>\n",
       "      <th>popularity</th>\n",
       "      <th>type</th>\n",
       "      <th>uri</th>\n",
       "    </tr>\n",
       "  </thead>\n",
       "  <tbody>\n",
       "    <tr>\n",
       "      <th>0</th>\n",
       "      <td>{'spotify': 'https://open.spotify.com/artist/6...</td>\n",
       "      <td>{'href': None, 'total': 747136}</td>\n",
       "      <td>[boy band, dance pop, europop, pop, post-teen ...</td>\n",
       "      <td>https://api.spotify.com/v1/artists/6Ff53KvcvAj...</td>\n",
       "      <td>6Ff53KvcvAj5U7Z1vojB5o</td>\n",
       "      <td>[{'height': 1173, 'url': 'https://i.scdn.co/im...</td>\n",
       "      <td>*NSYNC</td>\n",
       "      <td>71</td>\n",
       "      <td>artist</td>\n",
       "      <td>spotify:artist:6Ff53KvcvAj5U7Z1vojB5o</td>\n",
       "    </tr>\n",
       "    <tr>\n",
       "      <th>1</th>\n",
       "      <td>{'spotify': 'https://open.spotify.com/artist/1...</td>\n",
       "      <td>{'href': None, 'total': 337751}</td>\n",
       "      <td>[antiviral pop, comedy rock, comic]</td>\n",
       "      <td>https://api.spotify.com/v1/artists/1bDWGdIC2ha...</td>\n",
       "      <td>1bDWGdIC2hardyt55nlQgG</td>\n",
       "      <td>[{'height': 563, 'url': 'https://i.scdn.co/ima...</td>\n",
       "      <td>\"Weird Al\" Yankovic</td>\n",
       "      <td>59</td>\n",
       "      <td>artist</td>\n",
       "      <td>spotify:artist:1bDWGdIC2hardyt55nlQgG</td>\n",
       "    </tr>\n",
       "    <tr>\n",
       "      <th>2</th>\n",
       "      <td>{'spotify': 'https://open.spotify.com/artist/0...</td>\n",
       "      <td>{'href': None, 'total': 243895}</td>\n",
       "      <td>[alternative metal, nu metal, post-grunge, rap...</td>\n",
       "      <td>https://api.spotify.com/v1/artists/0REMf7H0VP6...</td>\n",
       "      <td>0REMf7H0VP6DwfZ9MbuWph</td>\n",
       "      <td>[{'height': 640, 'url': 'https://i.scdn.co/ima...</td>\n",
       "      <td>10 Years</td>\n",
       "      <td>60</td>\n",
       "      <td>artist</td>\n",
       "      <td>spotify:artist:0REMf7H0VP6DwfZ9MbuWph</td>\n",
       "    </tr>\n",
       "    <tr>\n",
       "      <th>3</th>\n",
       "      <td>{'spotify': 'https://open.spotify.com/artist/0...</td>\n",
       "      <td>{'href': None, 'total': 108829}</td>\n",
       "      <td>[alternative rock, folk, folk-pop, lilith, mel...</td>\n",
       "      <td>https://api.spotify.com/v1/artists/0MBIKH9DjtB...</td>\n",
       "      <td>0MBIKH9DjtBkv8O3nS6szj</td>\n",
       "      <td>[{'height': 640, 'url': 'https://i.scdn.co/ima...</td>\n",
       "      <td>10,000 Maniacs</td>\n",
       "      <td>52</td>\n",
       "      <td>artist</td>\n",
       "      <td>spotify:artist:0MBIKH9DjtBkv8O3nS6szj</td>\n",
       "    </tr>\n",
       "    <tr>\n",
       "      <th>4</th>\n",
       "      <td>{'spotify': 'https://open.spotify.com/artist/7...</td>\n",
       "      <td>{'href': None, 'total': 455231}</td>\n",
       "      <td>[boy band, dance pop, gangster rap, hip hop, h...</td>\n",
       "      <td>https://api.spotify.com/v1/artists/7urq0VfqxEY...</td>\n",
       "      <td>7urq0VfqxEYEEiZUkebXT4</td>\n",
       "      <td>[{'height': 130, 'url': 'https://i.scdn.co/ima...</td>\n",
       "      <td>112</td>\n",
       "      <td>68</td>\n",
       "      <td>artist</td>\n",
       "      <td>spotify:artist:7urq0VfqxEYEEiZUkebXT4</td>\n",
       "    </tr>\n",
       "  </tbody>\n",
       "</table>\n",
       "</div>"
      ],
      "text/plain": [
       "                                       external_urls  \\\n",
       "0  {'spotify': 'https://open.spotify.com/artist/6...   \n",
       "1  {'spotify': 'https://open.spotify.com/artist/1...   \n",
       "2  {'spotify': 'https://open.spotify.com/artist/0...   \n",
       "3  {'spotify': 'https://open.spotify.com/artist/0...   \n",
       "4  {'spotify': 'https://open.spotify.com/artist/7...   \n",
       "\n",
       "                         followers  \\\n",
       "0  {'href': None, 'total': 747136}   \n",
       "1  {'href': None, 'total': 337751}   \n",
       "2  {'href': None, 'total': 243895}   \n",
       "3  {'href': None, 'total': 108829}   \n",
       "4  {'href': None, 'total': 455231}   \n",
       "\n",
       "                                              genres  \\\n",
       "0  [boy band, dance pop, europop, pop, post-teen ...   \n",
       "1                [antiviral pop, comedy rock, comic]   \n",
       "2  [alternative metal, nu metal, post-grunge, rap...   \n",
       "3  [alternative rock, folk, folk-pop, lilith, mel...   \n",
       "4  [boy band, dance pop, gangster rap, hip hop, h...   \n",
       "\n",
       "                                                href                      id  \\\n",
       "0  https://api.spotify.com/v1/artists/6Ff53KvcvAj...  6Ff53KvcvAj5U7Z1vojB5o   \n",
       "1  https://api.spotify.com/v1/artists/1bDWGdIC2ha...  1bDWGdIC2hardyt55nlQgG   \n",
       "2  https://api.spotify.com/v1/artists/0REMf7H0VP6...  0REMf7H0VP6DwfZ9MbuWph   \n",
       "3  https://api.spotify.com/v1/artists/0MBIKH9DjtB...  0MBIKH9DjtBkv8O3nS6szj   \n",
       "4  https://api.spotify.com/v1/artists/7urq0VfqxEY...  7urq0VfqxEYEEiZUkebXT4   \n",
       "\n",
       "                                              images                 name  \\\n",
       "0  [{'height': 1173, 'url': 'https://i.scdn.co/im...               *NSYNC   \n",
       "1  [{'height': 563, 'url': 'https://i.scdn.co/ima...  \"Weird Al\" Yankovic   \n",
       "2  [{'height': 640, 'url': 'https://i.scdn.co/ima...             10 Years   \n",
       "3  [{'height': 640, 'url': 'https://i.scdn.co/ima...       10,000 Maniacs   \n",
       "4  [{'height': 130, 'url': 'https://i.scdn.co/ima...                  112   \n",
       "\n",
       "  popularity    type                                    uri  \n",
       "0         71  artist  spotify:artist:6Ff53KvcvAj5U7Z1vojB5o  \n",
       "1         59  artist  spotify:artist:1bDWGdIC2hardyt55nlQgG  \n",
       "2         60  artist  spotify:artist:0REMf7H0VP6DwfZ9MbuWph  \n",
       "3         52  artist  spotify:artist:0MBIKH9DjtBkv8O3nS6szj  \n",
       "4         68  artist  spotify:artist:7urq0VfqxEYEEiZUkebXT4  "
      ]
     },
     "execution_count": 266,
     "metadata": {},
     "output_type": "execute_result"
    }
   ],
   "source": [
    "df.head()"
   ]
  },
  {
   "cell_type": "code",
   "execution_count": null,
   "metadata": {},
   "outputs": [],
   "source": [
    "df.dropna(inplace=True)"
   ]
  },
  {
   "cell_type": "code",
   "execution_count": 398,
   "metadata": {},
   "outputs": [],
   "source": [
    "df.to_csv('../data/spotify_artists_unclean.csv')"
   ]
  },
  {
   "cell_type": "markdown",
   "metadata": {},
   "source": [
    "### 2c. Cleaning Up Artist DataFrame"
   ]
  },
  {
   "cell_type": "code",
   "execution_count": 293,
   "metadata": {},
   "outputs": [
    {
     "data": {
      "text/plain": [
       "747136"
      ]
     },
     "execution_count": 293,
     "metadata": {},
     "output_type": "execute_result"
    }
   ],
   "source": [
    "di = {'href': None, 'total': 747136}\n",
    "list(di.values())[1]"
   ]
  },
  {
   "cell_type": "markdown",
   "metadata": {},
   "source": [
    "##### Extracting `followers` Count from List & Into it's own Column"
   ]
  },
  {
   "cell_type": "code",
   "execution_count": 392,
   "metadata": {},
   "outputs": [],
   "source": [
    "followers = []\n",
    "\n",
    "for i in df['followers']:\n",
    "    for k, v in i.items():\n",
    "        if isinstance(v, int):\n",
    "            followers.append(v)"
   ]
  },
  {
   "cell_type": "code",
   "execution_count": 395,
   "metadata": {},
   "outputs": [],
   "source": [
    "df['followers_2'] = followers"
   ]
  },
  {
   "cell_type": "markdown",
   "metadata": {},
   "source": [
    "##### Dropping the Original `followers` Column, as it's no Longer Necessary"
   ]
  },
  {
   "cell_type": "code",
   "execution_count": 400,
   "metadata": {},
   "outputs": [],
   "source": [
    "df.drop('followers', axis=1, inplace=True)"
   ]
  },
  {
   "cell_type": "code",
   "execution_count": 406,
   "metadata": {},
   "outputs": [],
   "source": [
    "df.to_csv('../data/spotify_artists_clean.csv')"
   ]
  },
  {
   "cell_type": "markdown",
   "metadata": {},
   "source": [
    "### 2d. Spotify Artists Duplicate Entry Check"
   ]
  },
  {
   "cell_type": "code",
   "execution_count": 2,
   "metadata": {},
   "outputs": [
    {
     "data": {
      "text/plain": [
       "(40, 11)"
      ]
     },
     "execution_count": 2,
     "metadata": {},
     "output_type": "execute_result"
    }
   ],
   "source": [
    "df[df['id'].duplicated()].sort_values('id').shape"
   ]
  },
  {
   "cell_type": "markdown",
   "metadata": {},
   "source": [
    "Turns out that I had about 40 duplicated artists that I initially pulled, which resulted in a number of duplicate song pulls from the Spotify API."
   ]
  },
  {
   "cell_type": "markdown",
   "metadata": {},
   "source": [
    "### 2e. Cleaning & Adding Artists"
   ]
  },
  {
   "cell_type": "markdown",
   "metadata": {},
   "source": [
    "I just noticed that one of the retreived results `8 ball & MJG & Mr E of RPS Fam` was an unfortunate consequence of my \"I'm feeling lucky\" approach to gathering artists. I'll retrieve the correct `8ball & MJG` entry and append it to the artist table."
   ]
  },
  {
   "cell_type": "code",
   "execution_count": 5,
   "metadata": {},
   "outputs": [],
   "source": [
    "result = sp.search('8Ball & MJG', type='artist')"
   ]
  },
  {
   "cell_type": "code",
   "execution_count": 8,
   "metadata": {},
   "outputs": [
    {
     "data": {
      "text/plain": [
       "{'external_urls': {'spotify': 'https://open.spotify.com/artist/7iUhmKPNkkPPS6FCQxqtNq'},\n",
       " 'followers': {'href': None, 'total': 129015},\n",
       " 'genres': ['deep southern trap',\n",
       "  'dirty south rap',\n",
       "  'gangster rap',\n",
       "  'memphis hip hop',\n",
       "  'pop rap',\n",
       "  'southern hip hop',\n",
       "  'trap music'],\n",
       " 'href': 'https://api.spotify.com/v1/artists/7iUhmKPNkkPPS6FCQxqtNq',\n",
       " 'id': '7iUhmKPNkkPPS6FCQxqtNq',\n",
       " 'images': [{'height': 640,\n",
       "   'url': 'https://i.scdn.co/image/fafd121594231b770a47e6cdd893e2992d672c33',\n",
       "   'width': 640},\n",
       "  {'height': 300,\n",
       "   'url': 'https://i.scdn.co/image/0c56c95a331fc161b7e0b6147574d914b840db16',\n",
       "   'width': 300},\n",
       "  {'height': 64,\n",
       "   'url': 'https://i.scdn.co/image/72f790df70c1d7c3bf5098de019db0e6576865e3',\n",
       "   'width': 64}],\n",
       " 'name': '8Ball & MJG',\n",
       " 'popularity': 49,\n",
       " 'type': 'artist',\n",
       " 'uri': 'spotify:artist:7iUhmKPNkkPPS6FCQxqtNq'}"
      ]
     },
     "execution_count": 8,
     "metadata": {},
     "output_type": "execute_result"
    }
   ],
   "source": [
    "result['artists']['items'][0]"
   ]
  },
  {
   "cell_type": "code",
   "execution_count": 81,
   "metadata": {},
   "outputs": [
    {
     "data": {
      "text/html": [
       "<div>\n",
       "<style scoped>\n",
       "    .dataframe tbody tr th:only-of-type {\n",
       "        vertical-align: middle;\n",
       "    }\n",
       "\n",
       "    .dataframe tbody tr th {\n",
       "        vertical-align: top;\n",
       "    }\n",
       "\n",
       "    .dataframe thead th {\n",
       "        text-align: right;\n",
       "    }\n",
       "</style>\n",
       "<table border=\"1\" class=\"dataframe\">\n",
       "  <thead>\n",
       "    <tr style=\"text-align: right;\">\n",
       "      <th></th>\n",
       "      <th>external_urls</th>\n",
       "      <th>genres</th>\n",
       "      <th>href</th>\n",
       "      <th>id</th>\n",
       "      <th>images</th>\n",
       "      <th>name</th>\n",
       "      <th>popularity</th>\n",
       "      <th>type</th>\n",
       "      <th>uri</th>\n",
       "      <th>followers_2</th>\n",
       "    </tr>\n",
       "  </thead>\n",
       "  <tbody>\n",
       "    <tr>\n",
       "      <th>0</th>\n",
       "      <td>{'spotify': 'https://open.spotify.com/artist/6...</td>\n",
       "      <td>['boy band', 'dance pop', 'europop', 'pop', 'p...</td>\n",
       "      <td>https://api.spotify.com/v1/artists/6Ff53KvcvAj...</td>\n",
       "      <td>6Ff53KvcvAj5U7Z1vojB5o</td>\n",
       "      <td>[{'height': 1173, 'url': 'https://i.scdn.co/im...</td>\n",
       "      <td>*NSYNC</td>\n",
       "      <td>71</td>\n",
       "      <td>artist</td>\n",
       "      <td>spotify:artist:6Ff53KvcvAj5U7Z1vojB5o</td>\n",
       "      <td>747136</td>\n",
       "    </tr>\n",
       "    <tr>\n",
       "      <th>1</th>\n",
       "      <td>{'spotify': 'https://open.spotify.com/artist/1...</td>\n",
       "      <td>['antiviral pop', 'comedy rock', 'comic']</td>\n",
       "      <td>https://api.spotify.com/v1/artists/1bDWGdIC2ha...</td>\n",
       "      <td>1bDWGdIC2hardyt55nlQgG</td>\n",
       "      <td>[{'height': 563, 'url': 'https://i.scdn.co/ima...</td>\n",
       "      <td>\"Weird Al\" Yankovic</td>\n",
       "      <td>59</td>\n",
       "      <td>artist</td>\n",
       "      <td>spotify:artist:1bDWGdIC2hardyt55nlQgG</td>\n",
       "      <td>337751</td>\n",
       "    </tr>\n",
       "    <tr>\n",
       "      <th>2</th>\n",
       "      <td>{'spotify': 'https://open.spotify.com/artist/0...</td>\n",
       "      <td>['alternative metal', 'nu metal', 'post-grunge...</td>\n",
       "      <td>https://api.spotify.com/v1/artists/0REMf7H0VP6...</td>\n",
       "      <td>0REMf7H0VP6DwfZ9MbuWph</td>\n",
       "      <td>[{'height': 640, 'url': 'https://i.scdn.co/ima...</td>\n",
       "      <td>10 Years</td>\n",
       "      <td>60</td>\n",
       "      <td>artist</td>\n",
       "      <td>spotify:artist:0REMf7H0VP6DwfZ9MbuWph</td>\n",
       "      <td>243895</td>\n",
       "    </tr>\n",
       "    <tr>\n",
       "      <th>3</th>\n",
       "      <td>{'spotify': 'https://open.spotify.com/artist/0...</td>\n",
       "      <td>['alternative rock', 'folk', 'folk-pop', 'lili...</td>\n",
       "      <td>https://api.spotify.com/v1/artists/0MBIKH9DjtB...</td>\n",
       "      <td>0MBIKH9DjtBkv8O3nS6szj</td>\n",
       "      <td>[{'height': 640, 'url': 'https://i.scdn.co/ima...</td>\n",
       "      <td>10,000 Maniacs</td>\n",
       "      <td>52</td>\n",
       "      <td>artist</td>\n",
       "      <td>spotify:artist:0MBIKH9DjtBkv8O3nS6szj</td>\n",
       "      <td>108829</td>\n",
       "    </tr>\n",
       "    <tr>\n",
       "      <th>4</th>\n",
       "      <td>{'spotify': 'https://open.spotify.com/artist/7...</td>\n",
       "      <td>['boy band', 'dance pop', 'gangster rap', 'hip...</td>\n",
       "      <td>https://api.spotify.com/v1/artists/7urq0VfqxEY...</td>\n",
       "      <td>7urq0VfqxEYEEiZUkebXT4</td>\n",
       "      <td>[{'height': 130, 'url': 'https://i.scdn.co/ima...</td>\n",
       "      <td>112</td>\n",
       "      <td>68</td>\n",
       "      <td>artist</td>\n",
       "      <td>spotify:artist:7urq0VfqxEYEEiZUkebXT4</td>\n",
       "      <td>455231</td>\n",
       "    </tr>\n",
       "  </tbody>\n",
       "</table>\n",
       "</div>"
      ],
      "text/plain": [
       "                                       external_urls  \\\n",
       "0  {'spotify': 'https://open.spotify.com/artist/6...   \n",
       "1  {'spotify': 'https://open.spotify.com/artist/1...   \n",
       "2  {'spotify': 'https://open.spotify.com/artist/0...   \n",
       "3  {'spotify': 'https://open.spotify.com/artist/0...   \n",
       "4  {'spotify': 'https://open.spotify.com/artist/7...   \n",
       "\n",
       "                                              genres  \\\n",
       "0  ['boy band', 'dance pop', 'europop', 'pop', 'p...   \n",
       "1          ['antiviral pop', 'comedy rock', 'comic']   \n",
       "2  ['alternative metal', 'nu metal', 'post-grunge...   \n",
       "3  ['alternative rock', 'folk', 'folk-pop', 'lili...   \n",
       "4  ['boy band', 'dance pop', 'gangster rap', 'hip...   \n",
       "\n",
       "                                                href                      id  \\\n",
       "0  https://api.spotify.com/v1/artists/6Ff53KvcvAj...  6Ff53KvcvAj5U7Z1vojB5o   \n",
       "1  https://api.spotify.com/v1/artists/1bDWGdIC2ha...  1bDWGdIC2hardyt55nlQgG   \n",
       "2  https://api.spotify.com/v1/artists/0REMf7H0VP6...  0REMf7H0VP6DwfZ9MbuWph   \n",
       "3  https://api.spotify.com/v1/artists/0MBIKH9DjtB...  0MBIKH9DjtBkv8O3nS6szj   \n",
       "4  https://api.spotify.com/v1/artists/7urq0VfqxEY...  7urq0VfqxEYEEiZUkebXT4   \n",
       "\n",
       "                                              images                 name  \\\n",
       "0  [{'height': 1173, 'url': 'https://i.scdn.co/im...               *NSYNC   \n",
       "1  [{'height': 563, 'url': 'https://i.scdn.co/ima...  \"Weird Al\" Yankovic   \n",
       "2  [{'height': 640, 'url': 'https://i.scdn.co/ima...             10 Years   \n",
       "3  [{'height': 640, 'url': 'https://i.scdn.co/ima...       10,000 Maniacs   \n",
       "4  [{'height': 130, 'url': 'https://i.scdn.co/ima...                  112   \n",
       "\n",
       "   popularity    type                                    uri  followers_2  \n",
       "0          71  artist  spotify:artist:6Ff53KvcvAj5U7Z1vojB5o       747136  \n",
       "1          59  artist  spotify:artist:1bDWGdIC2hardyt55nlQgG       337751  \n",
       "2          60  artist  spotify:artist:0REMf7H0VP6DwfZ9MbuWph       243895  \n",
       "3          52  artist  spotify:artist:0MBIKH9DjtBkv8O3nS6szj       108829  \n",
       "4          68  artist  spotify:artist:7urq0VfqxEYEEiZUkebXT4       455231  "
      ]
     },
     "execution_count": 81,
     "metadata": {},
     "output_type": "execute_result"
    }
   ],
   "source": [
    "df.head()"
   ]
  },
  {
   "cell_type": "code",
   "execution_count": 82,
   "metadata": {},
   "outputs": [
    {
     "data": {
      "text/plain": [
       "Index(['external_urls', 'genres', 'href', 'id', 'images', 'name', 'popularity',\n",
       "       'type', 'uri', 'followers_2'],\n",
       "      dtype='object')"
      ]
     },
     "execution_count": 82,
     "metadata": {},
     "output_type": "execute_result"
    }
   ],
   "source": [
    "df.columns"
   ]
  },
  {
   "cell_type": "code",
   "execution_count": 83,
   "metadata": {},
   "outputs": [],
   "source": [
    "df = df.append({'external_urls':\"{'spotify': 'https://open.spotify.com/artist/7iUhmKPNkkPPS6FCQxqtNq'}\",\n",
    "           'genres':['deep southern trap', 'dirty south rap','gangster rap','memphis hip hop','pop rap','southern hip hop','trap music'],\n",
    "           'href':'https://api.spotify.com/v1/artists/7iUhmKPNkkPPS6FCQxqtNq',\n",
    "           'id':'7iUhmKPNkkPPS6FCQxqtNq',\n",
    "           'images':[{'height': 640,\n",
    "           'url': 'https://i.scdn.co/image/fafd121594231b770a47e6cdd893e2992d672c33',\n",
    "           'width': 640},\n",
    "          {'height': 300,\n",
    "           'url': 'https://i.scdn.co/image/0c56c95a331fc161b7e0b6147574d914b840db16',\n",
    "           'width': 300},\n",
    "          {'height': 64,\n",
    "           'url': 'https://i.scdn.co/image/72f790df70c1d7c3bf5098de019db0e6576865e3',\n",
    "           'width': 64}],\n",
    "           'name':'8Ball & MJG',\n",
    "           'popularity':49,\n",
    "           'type':'artist',\n",
    "           'uri':'spotify:artist:7iUhmKPNkkPPS6FCQxqtNq',\n",
    "           'followers_2':129015}, ignore_index=True)"
   ]
  },
  {
   "cell_type": "code",
   "execution_count": 84,
   "metadata": {},
   "outputs": [],
   "source": [
    "df.drop(labels = 24, inplace=True)"
   ]
  },
  {
   "cell_type": "markdown",
   "metadata": {},
   "source": [
    "### 2e. Checking for Non-Music\n",
    "\n",
    "Every artist pulled from the Spotify listing isn't a musician or musical act. This is because the RIAA gives shipment awards for any type of audio content that's distributed within the U.S. In order to ensure my recommender is able to provide the best results, I've attempted to remove all non-musical artists programmatically."
   ]
  },
  {
   "cell_type": "markdown",
   "metadata": {},
   "source": [
    "##### Loading In Artist Table Again"
   ]
  },
  {
   "cell_type": "code",
   "execution_count": 14,
   "metadata": {},
   "outputs": [],
   "source": [
    "df = pd.read_csv('../data/spotify_artists_clean.csv', index_col=0)"
   ]
  },
  {
   "cell_type": "code",
   "execution_count": 80,
   "metadata": {},
   "outputs": [
    {
     "name": "stdout",
     "output_type": "stream",
     "text": [
      "<class 'pandas.core.frame.DataFrame'>\n",
      "Int64Index: 2449 entries, 0 to 2449\n",
      "Data columns (total 10 columns):\n",
      "external_urls    2449 non-null object\n",
      "genres           2449 non-null object\n",
      "href             2449 non-null object\n",
      "id               2449 non-null object\n",
      "images           2449 non-null object\n",
      "name             2449 non-null object\n",
      "popularity       2449 non-null int64\n",
      "type             2449 non-null object\n",
      "uri              2449 non-null object\n",
      "followers_2      2449 non-null int64\n",
      "dtypes: int64(2), object(8)\n",
      "memory usage: 210.5+ KB\n"
     ]
    }
   ],
   "source": [
    "df.info()"
   ]
  },
  {
   "cell_type": "markdown",
   "metadata": {},
   "source": [
    "#### Removing Extraneous Columns from Artist Dataframe"
   ]
  },
  {
   "cell_type": "code",
   "execution_count": 85,
   "metadata": {},
   "outputs": [],
   "source": [
    "df.drop(labels=['external_urls',\n",
    "                'href',\n",
    "                'images',\n",
    "                'type',\n",
    "                'uri'],\n",
    "        axis=1,\n",
    "        inplace=True)\n",
    "df.rename({'followers_2':'followers'}, axis=1, inplace=True)"
   ]
  },
  {
   "cell_type": "markdown",
   "metadata": {},
   "source": [
    "### 2f. Sorting Through Artist Genres\n",
    "\n",
    "Spotify, through it's API, stores genre information with each artist (in a list), as opposed to each song. That being stated, genres are still incredibly important on a song recommendation level, especially because Spotify takes them so [seriously](http://everynoise.com/EverynoiseIntro.pdf), and meticulously classifies each artist. Therefore, in order to gain a better understanding of the genres, I've extracted them from their list format, and appended them into separate columns within the artist Dataframe."
   ]
  },
  {
   "cell_type": "markdown",
   "metadata": {},
   "source": [
    "##### Cleaning Genre Column Format"
   ]
  },
  {
   "cell_type": "code",
   "execution_count": 87,
   "metadata": {},
   "outputs": [],
   "source": [
    "df['genres'] = df['genres'].apply(lambda x: str(x).strip(\"[]\"))\n",
    "df['genres'] = df['genres'].apply(lambda x: x.split(\",\"))"
   ]
  },
  {
   "cell_type": "code",
   "execution_count": 91,
   "metadata": {},
   "outputs": [
    {
     "data": {
      "text/html": [
       "<div>\n",
       "<style scoped>\n",
       "    .dataframe tbody tr th:only-of-type {\n",
       "        vertical-align: middle;\n",
       "    }\n",
       "\n",
       "    .dataframe tbody tr th {\n",
       "        vertical-align: top;\n",
       "    }\n",
       "\n",
       "    .dataframe thead th {\n",
       "        text-align: right;\n",
       "    }\n",
       "</style>\n",
       "<table border=\"1\" class=\"dataframe\">\n",
       "  <thead>\n",
       "    <tr style=\"text-align: right;\">\n",
       "      <th></th>\n",
       "      <th>genres</th>\n",
       "      <th>id</th>\n",
       "      <th>name</th>\n",
       "      <th>popularity</th>\n",
       "      <th>followers</th>\n",
       "    </tr>\n",
       "  </thead>\n",
       "  <tbody>\n",
       "    <tr>\n",
       "      <th>0</th>\n",
       "      <td>['boy band',  'dance pop',  'europop',  'pop',...</td>\n",
       "      <td>6Ff53KvcvAj5U7Z1vojB5o</td>\n",
       "      <td>*NSYNC</td>\n",
       "      <td>71</td>\n",
       "      <td>747136</td>\n",
       "    </tr>\n",
       "    <tr>\n",
       "      <th>1</th>\n",
       "      <td>['antiviral pop',  'comedy rock',  'comic']</td>\n",
       "      <td>1bDWGdIC2hardyt55nlQgG</td>\n",
       "      <td>\"Weird Al\" Yankovic</td>\n",
       "      <td>59</td>\n",
       "      <td>337751</td>\n",
       "    </tr>\n",
       "  </tbody>\n",
       "</table>\n",
       "</div>"
      ],
      "text/plain": [
       "                                              genres                      id  \\\n",
       "0  ['boy band',  'dance pop',  'europop',  'pop',...  6Ff53KvcvAj5U7Z1vojB5o   \n",
       "1        ['antiviral pop',  'comedy rock',  'comic']  1bDWGdIC2hardyt55nlQgG   \n",
       "\n",
       "                  name  popularity  followers  \n",
       "0               *NSYNC          71     747136  \n",
       "1  \"Weird Al\" Yankovic          59     337751  "
      ]
     },
     "execution_count": 91,
     "metadata": {},
     "output_type": "execute_result"
    }
   ],
   "source": [
    "df.head(2)"
   ]
  },
  {
   "cell_type": "code",
   "execution_count": 51,
   "metadata": {},
   "outputs": [],
   "source": [
    "df.set_index('Unnamed: 0', inplace=True)"
   ]
  },
  {
   "cell_type": "markdown",
   "metadata": {},
   "source": [
    "##### Songs with the Highest Number of Genres Tied to them"
   ]
  },
  {
   "cell_type": "code",
   "execution_count": 94,
   "metadata": {},
   "outputs": [
    {
     "data": {
      "text/plain": [
       "2236    19\n",
       "2108    18\n",
       "2098    16\n",
       "2328    16\n",
       "618     16\n",
       "Name: genres, dtype: int64"
      ]
     },
     "execution_count": 94,
     "metadata": {},
     "output_type": "execute_result"
    }
   ],
   "source": [
    "df['genres'].apply(lambda x: len(x)).sort_values(ascending=False).head()"
   ]
  },
  {
   "cell_type": "markdown",
   "metadata": {},
   "source": [
    "#### Separating Genres into Separate Dataframe"
   ]
  },
  {
   "cell_type": "code",
   "execution_count": 114,
   "metadata": {},
   "outputs": [],
   "source": [
    "df2 = pd.DataFrame(df['genres'].tolist(), columns=['genre_{}'.format(i) for i in range(19)])"
   ]
  },
  {
   "cell_type": "code",
   "execution_count": 122,
   "metadata": {},
   "outputs": [],
   "source": [
    "df.reset_index(drop=True, inplace=True)"
   ]
  },
  {
   "cell_type": "markdown",
   "metadata": {},
   "source": [
    "#### Merging Genres Dataframe into Artist Dataframe"
   ]
  },
  {
   "cell_type": "code",
   "execution_count": 124,
   "metadata": {},
   "outputs": [],
   "source": [
    "df = pd.concat([df.drop('genres', axis=1), df2], axis=1)"
   ]
  },
  {
   "cell_type": "code",
   "execution_count": 140,
   "metadata": {},
   "outputs": [],
   "source": [
    "df.replace('', value={'genre_0':None}, inplace=True)"
   ]
  },
  {
   "cell_type": "code",
   "execution_count": 160,
   "metadata": {},
   "outputs": [],
   "source": [
    "df.set_index('id', inplace=True)"
   ]
  },
  {
   "cell_type": "code",
   "execution_count": 161,
   "metadata": {},
   "outputs": [
    {
     "data": {
      "text/html": [
       "<div>\n",
       "<style scoped>\n",
       "    .dataframe tbody tr th:only-of-type {\n",
       "        vertical-align: middle;\n",
       "    }\n",
       "\n",
       "    .dataframe tbody tr th {\n",
       "        vertical-align: top;\n",
       "    }\n",
       "\n",
       "    .dataframe thead th {\n",
       "        text-align: right;\n",
       "    }\n",
       "</style>\n",
       "<table border=\"1\" class=\"dataframe\">\n",
       "  <thead>\n",
       "    <tr style=\"text-align: right;\">\n",
       "      <th></th>\n",
       "      <th>name</th>\n",
       "      <th>popularity</th>\n",
       "      <th>followers</th>\n",
       "      <th>genre_0</th>\n",
       "      <th>genre_1</th>\n",
       "      <th>genre_2</th>\n",
       "      <th>genre_3</th>\n",
       "      <th>genre_4</th>\n",
       "      <th>genre_5</th>\n",
       "      <th>genre_6</th>\n",
       "      <th>...</th>\n",
       "      <th>genre_9</th>\n",
       "      <th>genre_10</th>\n",
       "      <th>genre_11</th>\n",
       "      <th>genre_12</th>\n",
       "      <th>genre_13</th>\n",
       "      <th>genre_14</th>\n",
       "      <th>genre_15</th>\n",
       "      <th>genre_16</th>\n",
       "      <th>genre_17</th>\n",
       "      <th>genre_18</th>\n",
       "    </tr>\n",
       "    <tr>\n",
       "      <th>id</th>\n",
       "      <th></th>\n",
       "      <th></th>\n",
       "      <th></th>\n",
       "      <th></th>\n",
       "      <th></th>\n",
       "      <th></th>\n",
       "      <th></th>\n",
       "      <th></th>\n",
       "      <th></th>\n",
       "      <th></th>\n",
       "      <th></th>\n",
       "      <th></th>\n",
       "      <th></th>\n",
       "      <th></th>\n",
       "      <th></th>\n",
       "      <th></th>\n",
       "      <th></th>\n",
       "      <th></th>\n",
       "      <th></th>\n",
       "      <th></th>\n",
       "      <th></th>\n",
       "    </tr>\n",
       "  </thead>\n",
       "  <tbody>\n",
       "    <tr>\n",
       "      <th>6Ff53KvcvAj5U7Z1vojB5o</th>\n",
       "      <td>*NSYNC</td>\n",
       "      <td>71</td>\n",
       "      <td>747136</td>\n",
       "      <td>'boy band'</td>\n",
       "      <td>'dance pop'</td>\n",
       "      <td>'europop'</td>\n",
       "      <td>'pop'</td>\n",
       "      <td>'post-teen pop'</td>\n",
       "      <td>None</td>\n",
       "      <td>None</td>\n",
       "      <td>...</td>\n",
       "      <td>None</td>\n",
       "      <td>None</td>\n",
       "      <td>None</td>\n",
       "      <td>None</td>\n",
       "      <td>None</td>\n",
       "      <td>None</td>\n",
       "      <td>None</td>\n",
       "      <td>None</td>\n",
       "      <td>None</td>\n",
       "      <td>None</td>\n",
       "    </tr>\n",
       "    <tr>\n",
       "      <th>1bDWGdIC2hardyt55nlQgG</th>\n",
       "      <td>\"Weird Al\" Yankovic</td>\n",
       "      <td>59</td>\n",
       "      <td>337751</td>\n",
       "      <td>'antiviral pop'</td>\n",
       "      <td>'comedy rock'</td>\n",
       "      <td>'comic'</td>\n",
       "      <td>None</td>\n",
       "      <td>None</td>\n",
       "      <td>None</td>\n",
       "      <td>None</td>\n",
       "      <td>...</td>\n",
       "      <td>None</td>\n",
       "      <td>None</td>\n",
       "      <td>None</td>\n",
       "      <td>None</td>\n",
       "      <td>None</td>\n",
       "      <td>None</td>\n",
       "      <td>None</td>\n",
       "      <td>None</td>\n",
       "      <td>None</td>\n",
       "      <td>None</td>\n",
       "    </tr>\n",
       "  </tbody>\n",
       "</table>\n",
       "<p>2 rows × 22 columns</p>\n",
       "</div>"
      ],
      "text/plain": [
       "                                       name  popularity  followers  \\\n",
       "id                                                                   \n",
       "6Ff53KvcvAj5U7Z1vojB5o               *NSYNC          71     747136   \n",
       "1bDWGdIC2hardyt55nlQgG  \"Weird Al\" Yankovic          59     337751   \n",
       "\n",
       "                                genre_0         genre_1     genre_2 genre_3  \\\n",
       "id                                                                            \n",
       "6Ff53KvcvAj5U7Z1vojB5o       'boy band'     'dance pop'   'europop'   'pop'   \n",
       "1bDWGdIC2hardyt55nlQgG  'antiviral pop'   'comedy rock'     'comic'    None   \n",
       "\n",
       "                                 genre_4 genre_5 genre_6   ...    genre_9  \\\n",
       "id                                                         ...              \n",
       "6Ff53KvcvAj5U7Z1vojB5o   'post-teen pop'    None    None   ...       None   \n",
       "1bDWGdIC2hardyt55nlQgG              None    None    None   ...       None   \n",
       "\n",
       "                       genre_10 genre_11 genre_12 genre_13 genre_14 genre_15  \\\n",
       "id                                                                             \n",
       "6Ff53KvcvAj5U7Z1vojB5o     None     None     None     None     None     None   \n",
       "1bDWGdIC2hardyt55nlQgG     None     None     None     None     None     None   \n",
       "\n",
       "                       genre_16 genre_17 genre_18  \n",
       "id                                                 \n",
       "6Ff53KvcvAj5U7Z1vojB5o     None     None     None  \n",
       "1bDWGdIC2hardyt55nlQgG     None     None     None  \n",
       "\n",
       "[2 rows x 22 columns]"
      ]
     },
     "execution_count": 161,
     "metadata": {},
     "output_type": "execute_result"
    }
   ],
   "source": [
    "df.head(2)"
   ]
  },
  {
   "cell_type": "code",
   "execution_count": 162,
   "metadata": {},
   "outputs": [],
   "source": [
    "df.to_csv('../data/spotify_artists.csv')"
   ]
  },
  {
   "cell_type": "markdown",
   "metadata": {},
   "source": [
    "<a name=\"3\"></a>\n",
    "## 3. Retreiving Top-10 Tracks for Every Artist\n",
    "\n",
    "Here, I'm querying the Spotify API `Artist` enpoint for each artist's corresponding top-10 tracks. Again, I'm utilizing the Spotipy wrapper."
   ]
  },
  {
   "cell_type": "code",
   "execution_count": 14,
   "metadata": {},
   "outputs": [],
   "source": [
    "song_list = []\n",
    "for aid in artist_ids:\n",
    "    try:\n",
    "        song_list.append(sp.artist_top_tracks(aid))\n",
    "    except:\n",
    "        song_list.append('no_results')\n",
    "    time.sleep(1)"
   ]
  },
  {
   "cell_type": "markdown",
   "metadata": {},
   "source": [
    "##### Checking Results"
   ]
  },
  {
   "cell_type": "code",
   "execution_count": 281,
   "metadata": {},
   "outputs": [
    {
     "data": {
      "text/plain": [
       "2450"
      ]
     },
     "execution_count": 281,
     "metadata": {},
     "output_type": "execute_result"
    }
   ],
   "source": [
    "len(song_list)"
   ]
  },
  {
   "cell_type": "markdown",
   "metadata": {},
   "source": [
    "##### Song List to Pickle"
   ]
  },
  {
   "cell_type": "code",
   "execution_count": 16,
   "metadata": {},
   "outputs": [],
   "source": [
    "with open('../pickle/song_list.pkl', 'wb+') as f:\n",
    "    pickle.dump(song_list, f)"
   ]
  },
  {
   "cell_type": "code",
   "execution_count": 5,
   "metadata": {},
   "outputs": [],
   "source": [
    "with open('../pickle/song_list.pkl', 'rb+') as f:\n",
    "    song_list = pickle.load(f)"
   ]
  },
  {
   "cell_type": "markdown",
   "metadata": {},
   "source": [
    "#### Pulling Essential Song Information from `song_list` Into Separate Listing"
   ]
  },
  {
   "cell_type": "code",
   "execution_count": 7,
   "metadata": {},
   "outputs": [],
   "source": [
    "master_song_list = song_feat_pull.song_feat_pull(song_list)"
   ]
  },
  {
   "cell_type": "code",
   "execution_count": 206,
   "metadata": {},
   "outputs": [],
   "source": [
    "master_song_list = pd.DataFrame(master_song_list)\n",
    "master_song_list.set_index('song_id', inplace=True)\n",
    "master_song_list.to_csv('../data/spotify_song_list.csv')"
   ]
  },
  {
   "cell_type": "markdown",
   "metadata": {},
   "source": [
    "#### Duplicate Song Title Check"
   ]
  },
  {
   "cell_type": "code",
   "execution_count": 9,
   "metadata": {},
   "outputs": [
    {
     "data": {
      "text/plain": [
       "(759, 7)"
      ]
     },
     "execution_count": 9,
     "metadata": {},
     "output_type": "execute_result"
    }
   ],
   "source": [
    "df_2 = pd.read_csv('../data/spotify_song_list.csv', index_col = 0)\n",
    "df_2[df_2.duplicated()].sort_values('song_id').shape"
   ]
  },
  {
   "cell_type": "markdown",
   "metadata": {},
   "source": [
    "These will be deleted prior to EDA & Preprocessing of data."
   ]
  },
  {
   "cell_type": "markdown",
   "metadata": {},
   "source": [
    "<a name=\"4\"></a>\n",
    "## 4. Moving Genres Into Separate Table & Creating Lookup Table\n",
    "\n",
    "In order to eventually merge the genres into the master song listing, I've separated the genres from the artist table, and created a lookup table to match each song with the genres tied to the songs performing artist. "
   ]
  },
  {
   "cell_type": "code",
   "execution_count": 16,
   "metadata": {},
   "outputs": [],
   "source": [
    "df['genres'] = df['genres'].apply(lambda x: x.split(sep=','))\n",
    "df['genres'] = df['genres'].apply(lambda x: [i.replace('[', '') for i in x])\n",
    "df['genres'] = df['genres'].apply(lambda x: [i.replace(']', '') for i in x])\n",
    "df['genres'] = df['genres'].apply(lambda x: [i.replace('\\'', '') for i in x])\n",
    "df['genres'] = df['genres'].apply(lambda x: [i.strip() for i in x])"
   ]
  },
  {
   "cell_type": "code",
   "execution_count": 17,
   "metadata": {},
   "outputs": [
    {
     "data": {
      "text/plain": [
       "['boy band', 'dance pop', 'europop', 'pop', 'post-teen pop']"
      ]
     },
     "execution_count": 17,
     "metadata": {},
     "output_type": "execute_result"
    }
   ],
   "source": [
    "df['genres'].loc[0]"
   ]
  },
  {
   "cell_type": "markdown",
   "metadata": {},
   "source": [
    "### 4a. Separating Genres and Their Associated `artist_id` Into a Separate Dataframe"
   ]
  },
  {
   "cell_type": "code",
   "execution_count": 18,
   "metadata": {},
   "outputs": [],
   "source": [
    "genre_per_artist = df[['genres', 'id']]"
   ]
  },
  {
   "cell_type": "code",
   "execution_count": 19,
   "metadata": {},
   "outputs": [
    {
     "data": {
      "text/html": [
       "<div>\n",
       "<style scoped>\n",
       "    .dataframe tbody tr th:only-of-type {\n",
       "        vertical-align: middle;\n",
       "    }\n",
       "\n",
       "    .dataframe tbody tr th {\n",
       "        vertical-align: top;\n",
       "    }\n",
       "\n",
       "    .dataframe thead th {\n",
       "        text-align: right;\n",
       "    }\n",
       "</style>\n",
       "<table border=\"1\" class=\"dataframe\">\n",
       "  <thead>\n",
       "    <tr style=\"text-align: right;\">\n",
       "      <th></th>\n",
       "      <th>genres</th>\n",
       "      <th>id</th>\n",
       "    </tr>\n",
       "  </thead>\n",
       "  <tbody>\n",
       "    <tr>\n",
       "      <th>0</th>\n",
       "      <td>[boy band, dance pop, europop, pop, post-teen ...</td>\n",
       "      <td>6Ff53KvcvAj5U7Z1vojB5o</td>\n",
       "    </tr>\n",
       "    <tr>\n",
       "      <th>1</th>\n",
       "      <td>[antiviral pop, comedy rock, comic]</td>\n",
       "      <td>1bDWGdIC2hardyt55nlQgG</td>\n",
       "    </tr>\n",
       "    <tr>\n",
       "      <th>2</th>\n",
       "      <td>[alternative metal, nu metal, post-grunge, rap...</td>\n",
       "      <td>0REMf7H0VP6DwfZ9MbuWph</td>\n",
       "    </tr>\n",
       "    <tr>\n",
       "      <th>3</th>\n",
       "      <td>[alternative rock, folk, folk-pop, lilith, mel...</td>\n",
       "      <td>0MBIKH9DjtBkv8O3nS6szj</td>\n",
       "    </tr>\n",
       "    <tr>\n",
       "      <th>4</th>\n",
       "      <td>[boy band, dance pop, gangster rap, hip hop, h...</td>\n",
       "      <td>7urq0VfqxEYEEiZUkebXT4</td>\n",
       "    </tr>\n",
       "  </tbody>\n",
       "</table>\n",
       "</div>"
      ],
      "text/plain": [
       "                                              genres                      id\n",
       "0  [boy band, dance pop, europop, pop, post-teen ...  6Ff53KvcvAj5U7Z1vojB5o\n",
       "1                [antiviral pop, comedy rock, comic]  1bDWGdIC2hardyt55nlQgG\n",
       "2  [alternative metal, nu metal, post-grunge, rap...  0REMf7H0VP6DwfZ9MbuWph\n",
       "3  [alternative rock, folk, folk-pop, lilith, mel...  0MBIKH9DjtBkv8O3nS6szj\n",
       "4  [boy band, dance pop, gangster rap, hip hop, h...  7urq0VfqxEYEEiZUkebXT4"
      ]
     },
     "execution_count": 19,
     "metadata": {},
     "output_type": "execute_result"
    }
   ],
   "source": [
    "genre_per_artist.head()"
   ]
  },
  {
   "cell_type": "markdown",
   "metadata": {},
   "source": [
    "#### Dropping Non-Artists From `genre_per_artist`"
   ]
  },
  {
   "cell_type": "code",
   "execution_count": 103,
   "metadata": {},
   "outputs": [],
   "source": [
    "non_artists = pd.read_csv('../data/non_artists.csv', index_col=0)\n",
    "non_artists_id = non_artists['s_artist_id']"
   ]
  },
  {
   "cell_type": "code",
   "execution_count": 105,
   "metadata": {},
   "outputs": [],
   "source": [
    "genre_todrop = genre_per_artist.query(\"id in @non_artists_id\")"
   ]
  },
  {
   "cell_type": "code",
   "execution_count": 109,
   "metadata": {},
   "outputs": [
    {
     "name": "stderr",
     "output_type": "stream",
     "text": [
      "/opt/conda/lib/python3.6/site-packages/pandas/core/frame.py:3697: SettingWithCopyWarning: \n",
      "A value is trying to be set on a copy of a slice from a DataFrame\n",
      "\n",
      "See the caveats in the documentation: http://pandas.pydata.org/pandas-docs/stable/indexing.html#indexing-view-versus-copy\n",
      "  errors=errors)\n"
     ]
    }
   ],
   "source": [
    "genre_per_artist.drop(labels=genre_todrop.index, inplace=True)"
   ]
  },
  {
   "cell_type": "markdown",
   "metadata": {},
   "source": [
    "### 4b. Creating Genre-Song Table\n",
    "\n",
    "In order to examine the relationship with each genre as it's applied to each song, I've created the following lookup table."
   ]
  },
  {
   "cell_type": "code",
   "execution_count": 25,
   "metadata": {},
   "outputs": [],
   "source": [
    "song_df = pd.read_csv('../data/song_list_v2.csv', index_col=0)"
   ]
  },
  {
   "cell_type": "code",
   "execution_count": 6,
   "metadata": {},
   "outputs": [
    {
     "data": {
      "text/plain": [
       "array(['6SluaPiV04KOaRTOIScoff', '5qEVq3ZEGr0Got441lueWS',\n",
       "       '5kqIPrATaCc2LqxVWzQGbk', ..., '2ayphdNEBBaAErWdTMAhsm',\n",
       "       '7BY005dacJkbO6EPiOh2wb', '09WwqFDqX2zv8rlvf4xYAk'], dtype=object)"
      ]
     },
     "execution_count": 6,
     "metadata": {},
     "output_type": "execute_result"
    }
   ],
   "source": [
    "song_df['s_song_id'].values"
   ]
  },
  {
   "cell_type": "code",
   "execution_count": 8,
   "metadata": {},
   "outputs": [
    {
     "data": {
      "text/plain": [
       "Index(['s_song_id', 'album_release_date', 'artist_id', 'artist_name',\n",
       "       'duration_ms', 'explicit', 'linked_album', 'song_title'],\n",
       "      dtype='object')"
      ]
     },
     "execution_count": 8,
     "metadata": {},
     "output_type": "execute_result"
    }
   ],
   "source": [
    "song_df.columns"
   ]
  },
  {
   "cell_type": "markdown",
   "metadata": {},
   "source": [
    "##### Making Genre-to-Artist Dictionary to Map Into Song Dataframe"
   ]
  },
  {
   "cell_type": "code",
   "execution_count": 21,
   "metadata": {},
   "outputs": [],
   "source": [
    "genre_w_artists = genre_p_artist.genre_p_artist(genre_per_artist)"
   ]
  },
  {
   "cell_type": "markdown",
   "metadata": {},
   "source": [
    "### 4c. Retreiving Genres from Master Song List to Create Separate Genres Dataframe"
   ]
  },
  {
   "cell_type": "code",
   "execution_count": 26,
   "metadata": {},
   "outputs": [],
   "source": [
    "genre_songs = genre_psong.genre_psong(genre_w_artists, song_df)"
   ]
  },
  {
   "cell_type": "markdown",
   "metadata": {},
   "source": [
    "##### Checking for `null` (Genre-less) Results"
   ]
  },
  {
   "cell_type": "code",
   "execution_count": 23,
   "metadata": {},
   "outputs": [],
   "source": [
    "for entry in genre_songs:\n",
    "    if None in entry:\n",
    "        print(entry)"
   ]
  },
  {
   "cell_type": "code",
   "execution_count": 24,
   "metadata": {},
   "outputs": [],
   "source": [
    "genre_songs.insert(0,(0, 'song_id', 'genre', 'artist_id'))"
   ]
  },
  {
   "cell_type": "markdown",
   "metadata": {},
   "source": [
    "### 4d. Creating Genre Table\n",
    "\n",
    "Creating a seperate table for just genres, in order to help map genres to each song."
   ]
  },
  {
   "cell_type": "code",
   "execution_count": 21,
   "metadata": {},
   "outputs": [
    {
     "data": {
      "text/plain": [
       "[\"['boy band'\", \" 'dance pop'\", \" 'europop'\", \" 'pop'\", \" 'post-teen pop']\"]"
      ]
     },
     "execution_count": 21,
     "metadata": {},
     "output_type": "execute_result"
    }
   ],
   "source": [
    "genre_list = df.genres.tolist()\n",
    "genre_list = [i.split(sep=',') for i in genre_list]"
   ]
  },
  {
   "cell_type": "code",
   "execution_count": 38,
   "metadata": {},
   "outputs": [],
   "source": [
    "genre_list = [[i.replace('[', '') for i in lst] for lst in genre_list]\n",
    "genre_list = [[i.replace(']', '') for i in lst] for lst in genre_list]\n",
    "genre_list = [[i.replace(\"\\'\", '') for i in lst] for lst in genre_list]\n",
    "genre_list = [[i.strip() for i in lst] for lst in genre_list]"
   ]
  },
  {
   "cell_type": "code",
   "execution_count": 39,
   "metadata": {},
   "outputs": [],
   "source": [
    "all_genres = []\n",
    "\n",
    "for genre_set in genre_list:\n",
    "    for genre in genre_set:\n",
    "        all_genres.append(genre)"
   ]
  },
  {
   "cell_type": "code",
   "execution_count": 72,
   "metadata": {},
   "outputs": [],
   "source": [
    "all_genres = set(all_genres)\n",
    "len(all_genres)\n",
    "all_genres = list(all_genres)\n",
    "del all_genres[0]"
   ]
  },
  {
   "cell_type": "code",
   "execution_count": 91,
   "metadata": {},
   "outputs": [],
   "source": [
    "genre_df = pd.DataFrame(all_genres, columns=['genre'])"
   ]
  },
  {
   "cell_type": "code",
   "execution_count": 50,
   "metadata": {},
   "outputs": [
    {
     "data": {
      "text/html": [
       "<div>\n",
       "<style scoped>\n",
       "    .dataframe tbody tr th:only-of-type {\n",
       "        vertical-align: middle;\n",
       "    }\n",
       "\n",
       "    .dataframe tbody tr th {\n",
       "        vertical-align: top;\n",
       "    }\n",
       "\n",
       "    .dataframe thead th {\n",
       "        text-align: right;\n",
       "    }\n",
       "</style>\n",
       "<table border=\"1\" class=\"dataframe\">\n",
       "  <thead>\n",
       "    <tr style=\"text-align: right;\">\n",
       "      <th></th>\n",
       "      <th>genre</th>\n",
       "    </tr>\n",
       "  </thead>\n",
       "  <tbody>\n",
       "    <tr>\n",
       "      <th>0</th>\n",
       "      <td>a cappella</td>\n",
       "    </tr>\n",
       "    <tr>\n",
       "      <th>1</th>\n",
       "      <td>acid house</td>\n",
       "    </tr>\n",
       "    <tr>\n",
       "      <th>2</th>\n",
       "      <td>acid jazz</td>\n",
       "    </tr>\n",
       "    <tr>\n",
       "      <th>3</th>\n",
       "      <td>acoustic blues</td>\n",
       "    </tr>\n",
       "    <tr>\n",
       "      <th>4</th>\n",
       "      <td>acoustic pop</td>\n",
       "    </tr>\n",
       "  </tbody>\n",
       "</table>\n",
       "</div>"
      ],
      "text/plain": [
       "            genre\n",
       "0      a cappella\n",
       "1      acid house\n",
       "2       acid jazz\n",
       "3  acoustic blues\n",
       "4    acoustic pop"
      ]
     },
     "execution_count": 50,
     "metadata": {},
     "output_type": "execute_result"
    }
   ],
   "source": [
    "genre_df.head()"
   ]
  },
  {
   "cell_type": "code",
   "execution_count": 51,
   "metadata": {},
   "outputs": [],
   "source": [
    "genre_dict = genre_df['genre'].to_dict()"
   ]
  },
  {
   "cell_type": "code",
   "execution_count": 93,
   "metadata": {},
   "outputs": [],
   "source": [
    "genre_df.to_csv('../data/genres.csv')"
   ]
  },
  {
   "cell_type": "code",
   "execution_count": 35,
   "metadata": {},
   "outputs": [
    {
     "data": {
      "text/html": [
       "<div>\n",
       "<style scoped>\n",
       "    .dataframe tbody tr th:only-of-type {\n",
       "        vertical-align: middle;\n",
       "    }\n",
       "\n",
       "    .dataframe tbody tr th {\n",
       "        vertical-align: top;\n",
       "    }\n",
       "\n",
       "    .dataframe thead th {\n",
       "        text-align: right;\n",
       "    }\n",
       "</style>\n",
       "<table border=\"1\" class=\"dataframe\">\n",
       "  <thead>\n",
       "    <tr style=\"text-align: right;\">\n",
       "      <th></th>\n",
       "      <th>genre</th>\n",
       "    </tr>\n",
       "  </thead>\n",
       "  <tbody>\n",
       "    <tr>\n",
       "      <th>0</th>\n",
       "      <td>a cappella</td>\n",
       "    </tr>\n",
       "    <tr>\n",
       "      <th>1</th>\n",
       "      <td>acid house</td>\n",
       "    </tr>\n",
       "    <tr>\n",
       "      <th>2</th>\n",
       "      <td>acid jazz</td>\n",
       "    </tr>\n",
       "    <tr>\n",
       "      <th>3</th>\n",
       "      <td>acoustic blues</td>\n",
       "    </tr>\n",
       "    <tr>\n",
       "      <th>4</th>\n",
       "      <td>acoustic pop</td>\n",
       "    </tr>\n",
       "  </tbody>\n",
       "</table>\n",
       "</div>"
      ],
      "text/plain": [
       "            genre\n",
       "0      a cappella\n",
       "1      acid house\n",
       "2       acid jazz\n",
       "3  acoustic blues\n",
       "4    acoustic pop"
      ]
     },
     "execution_count": 35,
     "metadata": {},
     "output_type": "execute_result"
    }
   ],
   "source": [
    "genre_df = pd.read_csv('../data/genres.csv', index_col=0)\n",
    "genre_df.head()"
   ]
  },
  {
   "cell_type": "code",
   "execution_count": 45,
   "metadata": {},
   "outputs": [],
   "source": [
    "with open('../data/all_genres.pkl', 'wb') as f:\n",
    "    pickle.dump(all_genres, f)"
   ]
  },
  {
   "cell_type": "markdown",
   "metadata": {},
   "source": [
    "### 4d. Casting Genre Dict into Lookup Table"
   ]
  },
  {
   "cell_type": "code",
   "execution_count": 58,
   "metadata": {},
   "outputs": [],
   "source": [
    "genre_ids_songs = []\n",
    "for gs_id, song_id, genre, artist_id in genre_songs[1:]:\n",
    "    for k, v in genre_dict.items():\n",
    "        if genre == v:\n",
    "            genre_ids_songs.append((gs_id, song_id, k, genre, artist_id))"
   ]
  },
  {
   "cell_type": "code",
   "execution_count": 60,
   "metadata": {},
   "outputs": [
    {
     "data": {
      "text/plain": [
       "121283"
      ]
     },
     "execution_count": 60,
     "metadata": {},
     "output_type": "execute_result"
    }
   ],
   "source": [
    "len(genre_ids_songs)"
   ]
  },
  {
   "cell_type": "code",
   "execution_count": 59,
   "metadata": {},
   "outputs": [],
   "source": [
    "for genre in genre_ids_songs:\n",
    "    if genre[4] == '7hbzXJ5K6AqdPnbUcCL1hL':\n",
    "        print(genre)"
   ]
  },
  {
   "cell_type": "markdown",
   "metadata": {},
   "source": [
    "##### Lookup Dict Into Lookup Table "
   ]
  },
  {
   "cell_type": "code",
   "execution_count": 61,
   "metadata": {},
   "outputs": [],
   "source": [
    "gsong_lookup = pd.DataFrame(genre_ids_songs, columns=['gs_id', 'song_id', 'genre_id', 'genre_name', 'artist_id']).set_index('gs_id')"
   ]
  },
  {
   "cell_type": "code",
   "execution_count": 62,
   "metadata": {},
   "outputs": [
    {
     "data": {
      "text/plain": [
       "(121283, 4)"
      ]
     },
     "execution_count": 62,
     "metadata": {},
     "output_type": "execute_result"
    }
   ],
   "source": [
    "gsong_lookup.shape"
   ]
  },
  {
   "cell_type": "code",
   "execution_count": 63,
   "metadata": {},
   "outputs": [
    {
     "data": {
      "text/html": [
       "<div>\n",
       "<style scoped>\n",
       "    .dataframe tbody tr th:only-of-type {\n",
       "        vertical-align: middle;\n",
       "    }\n",
       "\n",
       "    .dataframe tbody tr th {\n",
       "        vertical-align: top;\n",
       "    }\n",
       "\n",
       "    .dataframe thead th {\n",
       "        text-align: right;\n",
       "    }\n",
       "</style>\n",
       "<table border=\"1\" class=\"dataframe\">\n",
       "  <thead>\n",
       "    <tr style=\"text-align: right;\">\n",
       "      <th></th>\n",
       "      <th>song_id</th>\n",
       "      <th>genre_id</th>\n",
       "      <th>genre_name</th>\n",
       "      <th>artist_id</th>\n",
       "    </tr>\n",
       "    <tr>\n",
       "      <th>gs_id</th>\n",
       "      <th></th>\n",
       "      <th></th>\n",
       "      <th></th>\n",
       "      <th></th>\n",
       "    </tr>\n",
       "  </thead>\n",
       "  <tbody>\n",
       "    <tr>\n",
       "      <th>1</th>\n",
       "      <td>6SluaPiV04KOaRTOIScoff</td>\n",
       "      <td>139</td>\n",
       "      <td>dance pop</td>\n",
       "      <td>6UE7nl9mha6s8z0wFQFIZ2</td>\n",
       "    </tr>\n",
       "    <tr>\n",
       "      <th>2</th>\n",
       "      <td>6SluaPiV04KOaRTOIScoff</td>\n",
       "      <td>189</td>\n",
       "      <td>electropop</td>\n",
       "      <td>6UE7nl9mha6s8z0wFQFIZ2</td>\n",
       "    </tr>\n",
       "    <tr>\n",
       "      <th>3</th>\n",
       "      <td>6SluaPiV04KOaRTOIScoff</td>\n",
       "      <td>196</td>\n",
       "      <td>europop</td>\n",
       "      <td>6UE7nl9mha6s8z0wFQFIZ2</td>\n",
       "    </tr>\n",
       "    <tr>\n",
       "      <th>4</th>\n",
       "      <td>6SluaPiV04KOaRTOIScoff</td>\n",
       "      <td>404</td>\n",
       "      <td>pop</td>\n",
       "      <td>6UE7nl9mha6s8z0wFQFIZ2</td>\n",
       "    </tr>\n",
       "    <tr>\n",
       "      <th>5</th>\n",
       "      <td>6SluaPiV04KOaRTOIScoff</td>\n",
       "      <td>410</td>\n",
       "      <td>pop rock</td>\n",
       "      <td>6UE7nl9mha6s8z0wFQFIZ2</td>\n",
       "    </tr>\n",
       "  </tbody>\n",
       "</table>\n",
       "</div>"
      ],
      "text/plain": [
       "                      song_id  genre_id  genre_name               artist_id\n",
       "gs_id                                                                      \n",
       "1      6SluaPiV04KOaRTOIScoff       139   dance pop  6UE7nl9mha6s8z0wFQFIZ2\n",
       "2      6SluaPiV04KOaRTOIScoff       189  electropop  6UE7nl9mha6s8z0wFQFIZ2\n",
       "3      6SluaPiV04KOaRTOIScoff       196     europop  6UE7nl9mha6s8z0wFQFIZ2\n",
       "4      6SluaPiV04KOaRTOIScoff       404         pop  6UE7nl9mha6s8z0wFQFIZ2\n",
       "5      6SluaPiV04KOaRTOIScoff       410    pop rock  6UE7nl9mha6s8z0wFQFIZ2"
      ]
     },
     "execution_count": 63,
     "metadata": {},
     "output_type": "execute_result"
    }
   ],
   "source": [
    "gsong_lookup.head()"
   ]
  },
  {
   "cell_type": "code",
   "execution_count": 64,
   "metadata": {},
   "outputs": [],
   "source": [
    "gsong_lookup.to_csv('../data/gsong_lookup.csv')"
   ]
  },
  {
   "cell_type": "markdown",
   "metadata": {},
   "source": [
    "#### Next notebook: 01b_collection_audio_feat"
   ]
  }
 ],
 "metadata": {
  "kernelspec": {
   "display_name": "Python 3",
   "language": "python",
   "name": "python3"
  },
  "language_info": {
   "codemirror_mode": {
    "name": "ipython",
    "version": 3
   },
   "file_extension": ".py",
   "mimetype": "text/x-python",
   "name": "python",
   "nbconvert_exporter": "python",
   "pygments_lexer": "ipython3",
   "version": "3.6.7"
  }
 },
 "nbformat": 4,
 "nbformat_minor": 2
}
