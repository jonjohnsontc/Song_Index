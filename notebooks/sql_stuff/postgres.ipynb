{
 "cells": [
  {
   "cell_type": "markdown",
   "metadata": {},
   "source": [
    "# Moving .json Files to Postgres"
   ]
  },
  {
   "cell_type": "code",
   "execution_count": 40,
   "metadata": {},
   "outputs": [],
   "source": [
    "import pandas as pd\n",
    "import psycopg2 as pg2\n",
    "import json\n",
    "import csv\n",
    "import pickle"
   ]
  },
  {
   "cell_type": "markdown",
   "metadata": {},
   "source": [
    "## Song List"
   ]
  },
  {
   "cell_type": "code",
   "execution_count": 5,
   "metadata": {},
   "outputs": [],
   "source": [
    "with open('../../data/master_song_list.json', 'r') as f:\n",
    "    raw = json.load(f)"
   ]
  },
  {
   "cell_type": "code",
   "execution_count": 19,
   "metadata": {},
   "outputs": [],
   "source": [
    "for row in range(len(raw)):\n",
    "    with open('../../data/flat_song_list.csv', 'a+') as f:\n",
    "        csvwriter=csv.writer(f)\n",
    "        csvwriter.writerow([*raw[row].items()][0])"
   ]
  },
  {
   "cell_type": "markdown",
   "metadata": {},
   "source": [
    "## Song Id"
   ]
  },
  {
   "cell_type": "code",
   "execution_count": 37,
   "metadata": {},
   "outputs": [],
   "source": [
    "with open('../../data/genius_song_ids.json', 'r') as f:\n",
    "    raw = json.load(f)"
   ]
  },
  {
   "cell_type": "code",
   "execution_count": 35,
   "metadata": {},
   "outputs": [
    {
     "data": {
      "text/plain": [
       "3637"
      ]
     },
     "execution_count": 35,
     "metadata": {},
     "output_type": "execute_result"
    }
   ],
   "source": [
    "len(raw)"
   ]
  },
  {
   "cell_type": "code",
   "execution_count": 29,
   "metadata": {},
   "outputs": [
    {
     "data": {
      "text/plain": [
       "{'annotation_count': 1,\n",
       " 'api_path': '/songs/1735880',\n",
       " 'full_title': \"Alive 'N' Kickin' by\\xa0Kenny\\xa0Loggins\",\n",
       " 'header_image_thumbnail_url': 'https://images.genius.com/b2dd0d296f8c91007866b72cd92238d4.300x300x1.jpg',\n",
       " 'header_image_url': 'https://images.genius.com/b2dd0d296f8c91007866b72cd92238d4.500x500x1.jpg',\n",
       " 'id': 1735880,\n",
       " 'lyrics_owner_id': 1549345,\n",
       " 'lyrics_state': 'complete',\n",
       " 'path': '/Kenny-loggins-alive-n-kickin-lyrics',\n",
       " 'pyongs_count': None,\n",
       " 'song_art_image_thumbnail_url': 'https://images.genius.com/b2dd0d296f8c91007866b72cd92238d4.300x300x1.jpg',\n",
       " 'stats': {'hot': False, 'unreviewed_annotations': 0},\n",
       " 'title': \"Alive 'N' Kickin'\",\n",
       " 'title_with_featured': \"Alive 'N' Kickin'\",\n",
       " 'url': 'https://genius.com/Kenny-loggins-alive-n-kickin-lyrics',\n",
       " 'primary_artist': {'api_path': '/artists/1897',\n",
       "  'header_image_url': 'https://images.genius.com/1f26d984e7d9465351a41c484829dbd0.753x400x1.png',\n",
       "  'id': 1897,\n",
       "  'image_url': 'https://images.genius.com/07971b72a0e17074a82f44683f3faa6d.352x520x1.jpg',\n",
       "  'is_meme_verified': False,\n",
       "  'is_verified': False,\n",
       "  'name': 'Kenny Loggins',\n",
       "  'url': 'https://genius.com/artists/Kenny-loggins'}}"
      ]
     },
     "execution_count": 29,
     "metadata": {},
     "output_type": "execute_result"
    }
   ],
   "source": [
    "raw[0]['response']['songs'][0]"
   ]
  },
  {
   "cell_type": "code",
   "execution_count": 32,
   "metadata": {},
   "outputs": [],
   "source": [
    "def song_grabber(song):\n",
    "    with open('../../data/genius_song_list.csv', 'a+') as f:\n",
    "        csvwriter=csv.writer(f)\n",
    "        csvwriter.writerow(\n",
    "            (song['id'],\n",
    "            song['title'],\n",
    "            song['primary_artist']['name'],\n",
    "            song['primary_artist']['id']))"
   ]
  },
  {
   "cell_type": "code",
   "execution_count": 31,
   "metadata": {},
   "outputs": [
    {
     "data": {
      "text/plain": [
       "(1735880, \"Alive 'N' Kickin'\", 'Kenny Loggins', 1897)"
      ]
     },
     "execution_count": 31,
     "metadata": {},
     "output_type": "execute_result"
    }
   ],
   "source": [
    "song_grabber(raw[0]['response']['songs'][0])"
   ]
  },
  {
   "cell_type": "code",
   "execution_count": 38,
   "metadata": {},
   "outputs": [],
   "source": [
    "for this_dict in raw:\n",
    "    for song in this_dict['response']['songs']:\n",
    "        song_grabber(song)"
   ]
  },
  {
   "cell_type": "code",
   "execution_count": 39,
   "metadata": {},
   "outputs": [
    {
     "name": "stdout",
     "output_type": "stream",
     "text": [
      "670166 ../../data/genius_song_list.csv\n"
     ]
    }
   ],
   "source": [
    "!wc -l ../../data/genius_song_list.csv"
   ]
  },
  {
   "cell_type": "markdown",
   "metadata": {},
   "source": [
    "## Spotify Audio Features"
   ]
  },
  {
   "cell_type": "code",
   "execution_count": 41,
   "metadata": {},
   "outputs": [],
   "source": [
    "with open('../../pickle/song_feat.pkl', 'rb') as f:\n",
    "    raw = pickle.load(f)"
   ]
  },
  {
   "cell_type": "code",
   "execution_count": 45,
   "metadata": {},
   "outputs": [
    {
     "data": {
      "text/plain": [
       "{'danceability': 0.61,\n",
       " 'energy': 0.926,\n",
       " 'key': 8,\n",
       " 'loudness': -4.843,\n",
       " 'mode': 0,\n",
       " 'speechiness': 0.0479,\n",
       " 'acousticness': 0.031,\n",
       " 'instrumentalness': 0.0012,\n",
       " 'liveness': 0.0821,\n",
       " 'valence': 0.861,\n",
       " 'tempo': 172.638,\n",
       " 'type': 'audio_features',\n",
       " 'id': '62bOmKYxYg7dhrC6gH9vFn',\n",
       " 'uri': 'spotify:track:62bOmKYxYg7dhrC6gH9vFn',\n",
       " 'track_href': 'https://api.spotify.com/v1/tracks/62bOmKYxYg7dhrC6gH9vFn',\n",
       " 'analysis_url': 'https://api.spotify.com/v1/audio-analysis/62bOmKYxYg7dhrC6gH9vFn',\n",
       " 'duration_ms': 200400,\n",
       " 'time_signature': 4}"
      ]
     },
     "execution_count": 45,
     "metadata": {},
     "output_type": "execute_result"
    }
   ],
   "source": [
    "raw[0][0]"
   ]
  },
  {
   "cell_type": "code",
   "execution_count": 57,
   "metadata": {},
   "outputs": [],
   "source": [
    "with open('../../data/spotify_song_feat.csv', 'w') as f:\n",
    "        csvwriter=csv.writer(f)\n",
    "        csvwriter.writerow(('id',\n",
    "                            'danceability',\n",
    "                            'energy',\n",
    "                            'key',\n",
    "                            'loudness',\n",
    "                            'mode',\n",
    "                            'speechiness',\n",
    "                            'acousticness',\n",
    "                            'instrumentalness',\n",
    "                            'liveness',\n",
    "                            'valence',\n",
    "                            'tempo',\n",
    "                            'duration_ms',\n",
    "                            'time_signature'\n",
    "                            ))"
   ]
  },
  {
   "cell_type": "code",
   "execution_count": 60,
   "metadata": {},
   "outputs": [],
   "source": [
    "def feat_grabber(song):\n",
    "    with open('../../data/spotify_song_feat.csv', 'a+') as f:\n",
    "        csvwriter=csv.writer(f)\n",
    "        if isinstance(song, dict):\n",
    "            csvwriter.writerow((song['id'],\n",
    "                            song['danceability'],\n",
    "                            song['energy'],\n",
    "                            song['key'],\n",
    "                            song['loudness'],\n",
    "                            song['mode'],\n",
    "                            song['speechiness'],\n",
    "                            song['acousticness'],\n",
    "                            song['instrumentalness'],\n",
    "                            song['liveness'],\n",
    "                            song['valence'],\n",
    "                            song['tempo'],\n",
    "                            song['duration_ms'],\n",
    "                            song['time_signature']\n",
    "                            ))"
   ]
  },
  {
   "cell_type": "code",
   "execution_count": 61,
   "metadata": {},
   "outputs": [],
   "source": [
    "for artist in raw:\n",
    "    for song in artist:\n",
    "        feat_grabber(song)"
   ]
  }
 ],
 "metadata": {
  "kernelspec": {
   "display_name": "Python 3",
   "language": "python",
   "name": "python3"
  },
  "language_info": {
   "codemirror_mode": {
    "name": "ipython",
    "version": 3
   },
   "file_extension": ".py",
   "mimetype": "text/x-python",
   "name": "python",
   "nbconvert_exporter": "python",
   "pygments_lexer": "ipython3",
   "version": "3.6.3"
  }
 },
 "nbformat": 4,
 "nbformat_minor": 2
}
