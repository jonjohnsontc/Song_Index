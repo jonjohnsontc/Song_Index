{
 "cells": [
  {
   "cell_type": "markdown",
   "metadata": {},
   "source": [
    "# Scraping ASCAP's database for Songwriter Credits"
   ]
  },
  {
   "cell_type": "code",
   "execution_count": 1,
   "metadata": {},
   "outputs": [],
   "source": [
    "from time import sleep\n",
    "import pickle\n",
    "\n",
    "import numpy as np\n",
    "import pandas as pd\n",
    "\n",
    "from splinter import Browser, driver\n",
    "from selenium.common.exceptions import ElementNotInteractableException, ElementClickInterceptedException, NoSuchElementException"
   ]
  },
  {
   "cell_type": "code",
   "execution_count": 3,
   "metadata": {},
   "outputs": [],
   "source": [
    "browse = Browser(headless=False)"
   ]
  },
  {
   "cell_type": "code",
   "execution_count": 4,
   "metadata": {},
   "outputs": [],
   "source": [
    "browse.visit('https://www.ascap.com/ace')"
   ]
  },
  {
   "cell_type": "code",
   "execution_count": 4,
   "metadata": {},
   "outputs": [
    {
     "data": {
      "text/plain": [
       "'https://www.ascap.com/ace#ace/performer/BILLBOARD%20DR.%20LUKE%20MAX%20MARTIN%20BRITNEY%20SPEARS'"
      ]
     },
     "execution_count": 4,
     "metadata": {},
     "output_type": "execute_result"
    }
   ],
   "source": [
    "browse.url"
   ]
  },
  {
   "cell_type": "code",
   "execution_count": 5,
   "metadata": {},
   "outputs": [],
   "source": [
    "browse.visit('https://www.ascap.com/ace#ace/performer/BRITNEY%20SPEARS')"
   ]
  },
  {
   "cell_type": "code",
   "execution_count": 66,
   "metadata": {},
   "outputs": [
    {
     "data": {
      "text/plain": [
       "54"
      ]
     },
     "execution_count": 66,
     "metadata": {},
     "output_type": "execute_result"
    }
   ],
   "source": [
    "len(browse.find_by_tag('a[class=\"nav_action\"]'))"
   ]
  },
  {
   "cell_type": "code",
   "execution_count": 3,
   "metadata": {},
   "outputs": [],
   "source": [
    "def get_songs(browse):\n",
    "    '''\n",
    "    Retrieves all song results for a given artist, and saves them as one or multiple\n",
    "    html files.\n",
    "    '''\n",
    "    result = browse.html\n",
    "    n = len(browse.url) - 1 - browse.url[::-1].index('/')\n",
    "    fn = browse.url[n+1:].replace('%20', ' ')\n",
    "    with open('../data/ascap_songs/{}.html'.format(fn), 'wb') as f:\n",
    "        f.write(result.encode('utf-8'))\n",
    "    i = 2\n",
    "    while len(browse.find_by_tag('a[id=\"pageNumber{}\"]'.format(i))) != 0:\n",
    "        try:\n",
    "            browse.find_by_tag('a[id=\"pageNumber{}\"]'.format(i))[0].click()\n",
    "        except ElementClickInterceptedException:\n",
    "            browse.find_by_tag('a[class=\"close-cookie-banner\"]').click()\n",
    "            browse.find_by_tag('a[id=\"pageNumber{}\"]'.format(i))[0].click()\n",
    "        sleep(5)\n",
    "        if len(browse.find_by_tag('button[class=\"btn btn--blue [ card__expand--all ]\"]')) != 0:\n",
    "            expand_results = browse.find_by_tag('button[class=\"btn btn--blue [ card__expand--all ]\"]')\n",
    "            expand_results.click()\n",
    "        with open('../data/ascap_songs/{}_{}.html'.format(fn, i), 'wb') as f:\n",
    "            f.write(browse.html.encode('utf-8'))\n",
    "        i += 1\n",
    "\n",
    "        \n",
    "def sort_thru_pages(browse, artist):\n",
    "    '''\n",
    "    Searches ASCAP's ACE database for artist, retreives the \n",
    "    subsequent results and stores them as an html file.\n",
    "    '''\n",
    "    if len(browse.find_by_xpath('//*[@id=\"btn--agree\"]')) == 1:\n",
    "        \n",
    "        # For the Terms and Conditions page. It's likely that there will always be \n",
    "        # a T&C page, since a different browser instance is started for each search\n",
    "        \n",
    "        agree_btn = browse.find_by_xpath('//*[@id=\"btn--agree\"]')\n",
    "        agree_btn.click()\n",
    "        sleep(3)\n",
    "    else:\n",
    "        sleep(3)\n",
    "    ar = browse.find_by_tag('a[class=\"nav_action\"]')\n",
    "    if len(ar) >= 25:\n",
    "            print('> 25 results for {}, will search manually'.format(artist))\n",
    "            return\n",
    "    for i in range(len(ar)):\n",
    "        sleep(3)\n",
    "        artist_results = browse.find_by_tag('a[class=\"nav_action\"]')\n",
    "            \n",
    "        # I have to re-instantiate the `find_by_tag` method, because the object becomes \n",
    "        # stale after loading a new page\n",
    "            \n",
    "        artist_results[i].click()\n",
    "        sleep(2)\n",
    "        if len(browse.find_by_tag('button[class=\"btn btn--blue [ card__expand--all ]\"]')) != 0:\n",
    "            sleep(2)\n",
    "            expand = browse.driver.find_element_by_tag_name('button[class=\"btn btn--blue [ card__expand--all ]\"]') \n",
    "            browse.driver.execute_script(\"arguments[0].scrollIntoView(true);\", expand) \n",
    "                \n",
    "             # I've been running into numerous erros trying to scroll to the `expand` tag via the above\n",
    "             # `.find_by_tag` method, hence using Selenium's `driver` to find it instead\n",
    "\n",
    "            try:\n",
    "                expand.click()\n",
    "                get_songs(browse)\n",
    "                go_back = browse.find_by_tag('a[id=\"back-button\"]')\n",
    "                go_back.click()\n",
    "            except ElementNotInteractableException:\n",
    "                    \n",
    "                # Specifically for when there is a zero results page\n",
    "                    \n",
    "                print('exception, possibly zero results: {}'.format(browse.url))\n",
    "                go_back = browse.find_by_tag('a[id=\"back-button\"]')\n",
    "                sleep(1)\n",
    "                go_back.click()\n",
    "            except ElementClickInterceptedException:\n",
    "                \n",
    "                # Will like to look further into this, the scrolling script above is not working for everything\n",
    "                \n",
    "                print('exception, cannot scroll into view: {}'.format(browse.url))\n",
    "                go_back = browse.find_by_tag('a[id=\"back-button\"]')\n",
    "                sleep(1)\n",
    "                go_back.click()\n",
    "        else:\n",
    "            get_songs(browse)\n",
    "            go_back = browse.find_by_tag('a[id=\"back-button\"]')\n",
    "            go_back.click()\n",
    "\n",
    "            \n",
    "def result_scraper(artist):\n",
    "    '''\n",
    "    Searches ASCAP's ACE database for artist, retrieves the \n",
    "    subsequent results and stores them as an html file.\n",
    "    '''\n",
    "    d = 2\n",
    "    browse = Browser()\n",
    "    browse.visit('https://www.ascap.com/ace')\n",
    "    performer = browse.find_by_xpath('//*[@id=\"search__input--two\"]')\n",
    "    performer.click()\n",
    "    performer.fill(artist)\n",
    "    search = browse.find_by_xpath('//*[@id=\"startSearch\"]')\n",
    "    search.click()\n",
    "    sleep(2)\n",
    "    sort_thru_pages(browse, artist)\n",
    "    browse.quit()\n",
    "    print('finished pulling ' + artist)"
   ]
  },
  {
   "cell_type": "markdown",
   "metadata": {},
   "source": [
    "I changed `result_scraper` a bit, adding in a script to scroll to the expand element before its clicked."
   ]
  },
  {
   "cell_type": "code",
   "execution_count": 3,
   "metadata": {},
   "outputs": [],
   "source": [
    "with open('../../SWI_2/Songwriter_Index/pickle/artist_list_td.pkl', 'rb') as f:\n",
    "    artist_list_td = pickle.load(f)"
   ]
  },
  {
   "cell_type": "code",
   "execution_count": 12,
   "metadata": {},
   "outputs": [
    {
     "data": {
      "text/plain": [
       "'TRIUMPH'"
      ]
     },
     "execution_count": 12,
     "metadata": {},
     "output_type": "execute_result"
    }
   ],
   "source": [
    "artist_list_td[2375]"
   ]
  },
  {
   "cell_type": "code",
   "execution_count": 14,
   "metadata": {},
   "outputs": [],
   "source": [
    "for artist in artist_list_td[2376:]:\n",
    "    try:\n",
    "        result_scraper(artist)\n",
    "    except:\n",
    "        print('exception: {}'.format(artist_list_td.index(artist)))\n",
    "        continue"
   ]
  },
  {
   "cell_type": "markdown",
   "metadata": {},
   "source": [
    "I've noticed that there are a number of artists that are more difficult to search given their names on ASCAP. I'd like to do this a little more efficiently, so I'll run through this artist list and remove any artists that should be manually search later based on the number of results tied to their name"
   ]
  },
  {
   "cell_type": "markdown",
   "metadata": {},
   "source": [
    "## Retrieving Artists -w- Issues from the `ascap_scrape_log.txt`\n",
    "\n",
    "Via checking out my scrape log in excel, there are 316 records which I'll need to manually scrape (> 25 artist results). I can use my `get_songs` function to save everything."
   ]
  },
  {
   "cell_type": "code",
   "execution_count": 4,
   "metadata": {},
   "outputs": [],
   "source": [
    "browse.visit('https://www.ascap.com/ace#ace/performer/50%20CENT')"
   ]
  },
  {
   "cell_type": "code",
   "execution_count": 5,
   "metadata": {},
   "outputs": [],
   "source": [
    "browse.quit()"
   ]
  },
  {
   "cell_type": "code",
   "execution_count": 6,
   "metadata": {},
   "outputs": [],
   "source": [
    "browse = Browser()\n",
    "browse.visit('https://www.ascap.com/ace#ace/performer/2%20CHAINZ')"
   ]
  },
  {
   "cell_type": "code",
   "execution_count": 30,
   "metadata": {},
   "outputs": [],
   "source": [
    "with open('../ascap_scrape_log.txt', \"r\" ) as f:\n",
    "    sl = list(f)"
   ]
  },
  {
   "cell_type": "code",
   "execution_count": 51,
   "metadata": {},
   "outputs": [],
   "source": [
    "fsl = list(filter(lambda x: '25 results' in x, sl))\n",
    "fsl = list(map(lambda x: x.replace(\"\\\\> 25 results for\", \"\"), fsl))\n",
    "fsl = list(map(lambda x: x.replace(\"> 25 results for\", \"\"), fsl))\n",
    "fsl = list(map(lambda x: x.replace(', will search manually  \\n', \"\"), fsl))\n",
    "fsl = list(map(lambda x: x.lstrip(), fsl))"
   ]
  },
  {
   "cell_type": "code",
   "execution_count": 55,
   "metadata": {},
   "outputs": [],
   "source": [
    "with open('../g25_artists.pkl', 'wb') as f:\n",
    "    pickle.dump(fsl, f)"
   ]
  },
  {
   "cell_type": "code",
   "execution_count": 7,
   "metadata": {},
   "outputs": [],
   "source": [
    "def quick_search(lst):\n",
    "    for n in lst:\n",
    "        browse = Browser(headless=True)\n",
    "        browse.visit('https://www.ascap.com/ace#ace/performer/{}'.format(n.replace(\" \", \"%20\")))\n",
    "        sleep(5)\n",
    "        if len(browse.find_by_tag('button[class=\"btn btn--blue [ card__expand--all ]\"]')) != 0:\n",
    "            try:\n",
    "                expand = browse.find_by_tag('button[class=\"btn btn--blue [ card__expand--all ]\"]') \n",
    "                expand.click()\n",
    "                get_songs(browse)\n",
    "                print('Success {}'.format(n))\n",
    "                browse.quit()\n",
    "            except:\n",
    "                print('Error, could not get {}'.format(n))\n",
    "                browse.quit()\n",
    "                \n",
    "        else:\n",
    "            get_songs(browse)\n",
    "            print('Success {}'.format(n))\n",
    "            browse.quit()"
   ]
  },
  {
   "cell_type": "code",
   "execution_count": 4,
   "metadata": {},
   "outputs": [],
   "source": [
    "with open('../g25_artists.pkl', 'rb') as f:\n",
    "    fsl = pickle.load(f)"
   ]
  },
  {
   "cell_type": "code",
   "execution_count": 5,
   "metadata": {},
   "outputs": [
    {
     "data": {
      "text/plain": [
       "'WARREN G'"
      ]
     },
     "execution_count": 5,
     "metadata": {},
     "output_type": "execute_result"
    }
   ],
   "source": [
    "fsl[308]"
   ]
  },
  {
   "cell_type": "code",
   "execution_count": 8,
   "metadata": {},
   "outputs": [
    {
     "name": "stdout",
     "output_type": "stream",
     "text": [
      "Success WARREN G\n",
      "Success WILLIE NELSON\n",
      "Success WIZ KHALIFA\n",
      "Success WYCLEF JEAN\n",
      "Success YES\n",
      "Success YG\n",
      "Success YOUNG JEEZY\n",
      "Success YUNG JOC\n"
     ]
    }
   ],
   "source": [
    "quick_search(fsl[308:])"
   ]
  }
 ],
 "metadata": {
  "kernelspec": {
   "display_name": "Python 3",
   "language": "python",
   "name": "python3"
  },
  "language_info": {
   "codemirror_mode": {
    "name": "ipython",
    "version": 3
   },
   "file_extension": ".py",
   "mimetype": "text/x-python",
   "name": "python",
   "nbconvert_exporter": "python",
   "pygments_lexer": "ipython3",
   "version": "3.6.5"
  }
 },
 "nbformat": 4,
 "nbformat_minor": 2
}
