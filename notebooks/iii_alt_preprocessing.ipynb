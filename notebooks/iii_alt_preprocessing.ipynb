{
 "cells": [
  {
   "cell_type": "markdown",
   "metadata": {},
   "source": [
    "# iii_alt_preprocessing: Alternative Preprocessing Strategies for the Dataset"
   ]
  },
  {
   "cell_type": "markdown",
   "metadata": {},
   "source": [
    "## Computing SVD | All Features Included"
   ]
  },
  {
   "cell_type": "code",
   "execution_count": 53,
   "metadata": {},
   "outputs": [],
   "source": [
    "ss = StandardScaler()\n",
    "main_wfeats_scaled = ss.fit_transform(main_wfeats)\n",
    "SVD = TruncatedSVD(200)\n",
    "svd_matrix = SVD.fit_transform(main_wfeats_scaled)"
   ]
  },
  {
   "cell_type": "markdown",
   "metadata": {},
   "source": [
    "##### Sanity Check for # of Components"
   ]
  },
  {
   "cell_type": "code",
   "execution_count": 54,
   "metadata": {},
   "outputs": [
    {
     "data": {
      "text/plain": [
       "(22891, 200)"
      ]
     },
     "execution_count": 54,
     "metadata": {},
     "output_type": "execute_result"
    }
   ],
   "source": [
    "svd_matrix.shape"
   ]
  },
  {
   "cell_type": "markdown",
   "metadata": {},
   "source": [
    "### Examining the Explained Variance Ratio through each Component"
   ]
  },
  {
   "cell_type": "code",
   "execution_count": 58,
   "metadata": {},
   "outputs": [
    {
     "data": {
      "text/plain": [
       "Text(0,0.5,'variance ratio')"
      ]
     },
     "execution_count": 58,
     "metadata": {},
     "output_type": "execute_result"
    },
    {
     "data": {
      "image/png": "[encoded data removed]",
      "text/plain": [
       "<Figure size 720x540 with 1 Axes>"
      ]
     },
     "metadata": {},
     "output_type": "display_data"
    }
   ],
   "source": [
    "fig = plt.figure(figsize=(10,7.5))\n",
    "plt.bar(np.array(range(200))+1, \n",
    "        SVD.explained_variance_ratio_, \n",
    "        color='g', \n",
    "        label='explained variance')\n",
    "plt.plot(np.array(range(200))+1, \n",
    "         np.cumsum(SVD.explained_variance_ratio_), \n",
    "         label='cumulative explained variance')\n",
    "plt.legend()\n",
    "plt.xlabel('component')\n",
    "plt.ylabel('variance ratio')"
   ]
  },
  {
   "cell_type": "markdown",
   "metadata": {},
   "source": [
    "Looking deeper:"
   ]
  },
  {
   "cell_type": "code",
   "execution_count": 59,
   "metadata": {},
   "outputs": [
    {
     "data": {
      "text/html": [
       "<div>\n",
       "<style scoped>\n",
       "    .dataframe tbody tr th:only-of-type {\n",
       "        vertical-align: middle;\n",
       "    }\n",
       "\n",
       "    .dataframe tbody tr th {\n",
       "        vertical-align: top;\n",
       "    }\n",
       "\n",
       "    .dataframe thead th {\n",
       "        text-align: right;\n",
       "    }\n",
       "</style>\n",
       "<table border=\"1\" class=\"dataframe\">\n",
       "  <thead>\n",
       "    <tr style=\"text-align: right;\">\n",
       "      <th></th>\n",
       "      <th>component_1</th>\n",
       "      <th>component_2</th>\n",
       "      <th>component_3</th>\n",
       "      <th>component_4</th>\n",
       "      <th>component_5</th>\n",
       "      <th>component_6</th>\n",
       "      <th>component_7</th>\n",
       "      <th>component_8</th>\n",
       "      <th>component_9</th>\n",
       "      <th>component_10</th>\n",
       "      <th>...</th>\n",
       "      <th>component_191</th>\n",
       "      <th>component_192</th>\n",
       "      <th>component_193</th>\n",
       "      <th>component_194</th>\n",
       "      <th>component_195</th>\n",
       "      <th>component_196</th>\n",
       "      <th>component_197</th>\n",
       "      <th>component_198</th>\n",
       "      <th>component_199</th>\n",
       "      <th>component_200</th>\n",
       "    </tr>\n",
       "    <tr>\n",
       "      <th>song_id</th>\n",
       "      <th></th>\n",
       "      <th></th>\n",
       "      <th></th>\n",
       "      <th></th>\n",
       "      <th></th>\n",
       "      <th></th>\n",
       "      <th></th>\n",
       "      <th></th>\n",
       "      <th></th>\n",
       "      <th></th>\n",
       "      <th></th>\n",
       "      <th></th>\n",
       "      <th></th>\n",
       "      <th></th>\n",
       "      <th></th>\n",
       "      <th></th>\n",
       "      <th></th>\n",
       "      <th></th>\n",
       "      <th></th>\n",
       "      <th></th>\n",
       "      <th></th>\n",
       "    </tr>\n",
       "  </thead>\n",
       "  <tbody>\n",
       "    <tr>\n",
       "      <th>6SluaPiV04KOaRTOIScoff</th>\n",
       "      <td>0.757918</td>\n",
       "      <td>1.404843</td>\n",
       "      <td>-1.913337</td>\n",
       "      <td>-0.472958</td>\n",
       "      <td>0.268357</td>\n",
       "      <td>-1.371433</td>\n",
       "      <td>-1.119114</td>\n",
       "      <td>1.476517</td>\n",
       "      <td>0.979065</td>\n",
       "      <td>-1.521656</td>\n",
       "      <td>...</td>\n",
       "      <td>0.464068</td>\n",
       "      <td>-0.150609</td>\n",
       "      <td>-0.567713</td>\n",
       "      <td>0.125683</td>\n",
       "      <td>-0.669925</td>\n",
       "      <td>-0.052231</td>\n",
       "      <td>-0.472644</td>\n",
       "      <td>0.740681</td>\n",
       "      <td>-0.418329</td>\n",
       "      <td>-0.879269</td>\n",
       "    </tr>\n",
       "    <tr>\n",
       "      <th>5qEVq3ZEGr0Got441lueWS</th>\n",
       "      <td>-3.323133</td>\n",
       "      <td>1.920202</td>\n",
       "      <td>-5.114308</td>\n",
       "      <td>-0.452438</td>\n",
       "      <td>-2.890209</td>\n",
       "      <td>0.270954</td>\n",
       "      <td>-5.516297</td>\n",
       "      <td>2.154386</td>\n",
       "      <td>10.550974</td>\n",
       "      <td>2.574092</td>\n",
       "      <td>...</td>\n",
       "      <td>-0.227841</td>\n",
       "      <td>0.228148</td>\n",
       "      <td>-0.143249</td>\n",
       "      <td>0.192309</td>\n",
       "      <td>0.368959</td>\n",
       "      <td>-0.421887</td>\n",
       "      <td>-0.240747</td>\n",
       "      <td>-0.054668</td>\n",
       "      <td>0.599885</td>\n",
       "      <td>-0.305045</td>\n",
       "    </tr>\n",
       "    <tr>\n",
       "      <th>5kqIPrATaCc2LqxVWzQGbk</th>\n",
       "      <td>2.732880</td>\n",
       "      <td>-3.548657</td>\n",
       "      <td>-1.923609</td>\n",
       "      <td>-0.168638</td>\n",
       "      <td>0.085750</td>\n",
       "      <td>0.606177</td>\n",
       "      <td>-1.319362</td>\n",
       "      <td>0.284451</td>\n",
       "      <td>-0.691482</td>\n",
       "      <td>-0.654109</td>\n",
       "      <td>...</td>\n",
       "      <td>-3.354644</td>\n",
       "      <td>-1.827297</td>\n",
       "      <td>-5.883545</td>\n",
       "      <td>0.998739</td>\n",
       "      <td>4.821048</td>\n",
       "      <td>-0.980344</td>\n",
       "      <td>0.553223</td>\n",
       "      <td>2.967091</td>\n",
       "      <td>-9.093422</td>\n",
       "      <td>8.490202</td>\n",
       "    </tr>\n",
       "    <tr>\n",
       "      <th>3aVyHFxRkf8lSjhWdJ68AW</th>\n",
       "      <td>-3.832698</td>\n",
       "      <td>0.685718</td>\n",
       "      <td>-3.114430</td>\n",
       "      <td>-2.380290</td>\n",
       "      <td>2.386828</td>\n",
       "      <td>-0.414645</td>\n",
       "      <td>0.085730</td>\n",
       "      <td>-0.189485</td>\n",
       "      <td>0.278562</td>\n",
       "      <td>0.392669</td>\n",
       "      <td>...</td>\n",
       "      <td>1.587991</td>\n",
       "      <td>3.303077</td>\n",
       "      <td>1.470967</td>\n",
       "      <td>-2.036976</td>\n",
       "      <td>1.903563</td>\n",
       "      <td>1.833053</td>\n",
       "      <td>1.677840</td>\n",
       "      <td>-1.467334</td>\n",
       "      <td>1.296368</td>\n",
       "      <td>-1.034998</td>\n",
       "    </tr>\n",
       "    <tr>\n",
       "      <th>0zIyxS6QxZogHOpGkI6IZH</th>\n",
       "      <td>3.501136</td>\n",
       "      <td>-4.637289</td>\n",
       "      <td>-2.046554</td>\n",
       "      <td>0.929557</td>\n",
       "      <td>0.519125</td>\n",
       "      <td>-1.468985</td>\n",
       "      <td>-4.205319</td>\n",
       "      <td>0.433077</td>\n",
       "      <td>-0.865032</td>\n",
       "      <td>-2.865779</td>\n",
       "      <td>...</td>\n",
       "      <td>-0.007365</td>\n",
       "      <td>0.432226</td>\n",
       "      <td>0.786720</td>\n",
       "      <td>-1.506545</td>\n",
       "      <td>0.520168</td>\n",
       "      <td>-0.172535</td>\n",
       "      <td>-0.729703</td>\n",
       "      <td>-2.145918</td>\n",
       "      <td>0.066724</td>\n",
       "      <td>-1.470035</td>\n",
       "    </tr>\n",
       "  </tbody>\n",
       "</table>\n",
       "<p>5 rows × 200 columns</p>\n",
       "</div>"
      ],
      "text/plain": [
       "                        component_1  component_2  component_3  component_4  \\\n",
       "song_id                                                                      \n",
       "6SluaPiV04KOaRTOIScoff     0.757918     1.404843    -1.913337    -0.472958   \n",
       "5qEVq3ZEGr0Got441lueWS    -3.323133     1.920202    -5.114308    -0.452438   \n",
       "5kqIPrATaCc2LqxVWzQGbk     2.732880    -3.548657    -1.923609    -0.168638   \n",
       "3aVyHFxRkf8lSjhWdJ68AW    -3.832698     0.685718    -3.114430    -2.380290   \n",
       "0zIyxS6QxZogHOpGkI6IZH     3.501136    -4.637289    -2.046554     0.929557   \n",
       "\n",
       "                        component_5  component_6  component_7  component_8  \\\n",
       "song_id                                                                      \n",
       "6SluaPiV04KOaRTOIScoff     0.268357    -1.371433    -1.119114     1.476517   \n",
       "5qEVq3ZEGr0Got441lueWS    -2.890209     0.270954    -5.516297     2.154386   \n",
       "5kqIPrATaCc2LqxVWzQGbk     0.085750     0.606177    -1.319362     0.284451   \n",
       "3aVyHFxRkf8lSjhWdJ68AW     2.386828    -0.414645     0.085730    -0.189485   \n",
       "0zIyxS6QxZogHOpGkI6IZH     0.519125    -1.468985    -4.205319     0.433077   \n",
       "\n",
       "                        component_9  component_10      ...        \\\n",
       "song_id                                                ...         \n",
       "6SluaPiV04KOaRTOIScoff     0.979065     -1.521656      ...         \n",
       "5qEVq3ZEGr0Got441lueWS    10.550974      2.574092      ...         \n",
       "5kqIPrATaCc2LqxVWzQGbk    -0.691482     -0.654109      ...         \n",
       "3aVyHFxRkf8lSjhWdJ68AW     0.278562      0.392669      ...         \n",
       "0zIyxS6QxZogHOpGkI6IZH    -0.865032     -2.865779      ...         \n",
       "\n",
       "                        component_191  component_192  component_193  \\\n",
       "song_id                                                               \n",
       "6SluaPiV04KOaRTOIScoff       0.464068      -0.150609      -0.567713   \n",
       "5qEVq3ZEGr0Got441lueWS      -0.227841       0.228148      -0.143249   \n",
       "5kqIPrATaCc2LqxVWzQGbk      -3.354644      -1.827297      -5.883545   \n",
       "3aVyHFxRkf8lSjhWdJ68AW       1.587991       3.303077       1.470967   \n",
       "0zIyxS6QxZogHOpGkI6IZH      -0.007365       0.432226       0.786720   \n",
       "\n",
       "                        component_194  component_195  component_196  \\\n",
       "song_id                                                               \n",
       "6SluaPiV04KOaRTOIScoff       0.125683      -0.669925      -0.052231   \n",
       "5qEVq3ZEGr0Got441lueWS       0.192309       0.368959      -0.421887   \n",
       "5kqIPrATaCc2LqxVWzQGbk       0.998739       4.821048      -0.980344   \n",
       "3aVyHFxRkf8lSjhWdJ68AW      -2.036976       1.903563       1.833053   \n",
       "0zIyxS6QxZogHOpGkI6IZH      -1.506545       0.520168      -0.172535   \n",
       "\n",
       "                        component_197  component_198  component_199  \\\n",
       "song_id                                                               \n",
       "6SluaPiV04KOaRTOIScoff      -0.472644       0.740681      -0.418329   \n",
       "5qEVq3ZEGr0Got441lueWS      -0.240747      -0.054668       0.599885   \n",
       "5kqIPrATaCc2LqxVWzQGbk       0.553223       2.967091      -9.093422   \n",
       "3aVyHFxRkf8lSjhWdJ68AW       1.677840      -1.467334       1.296368   \n",
       "0zIyxS6QxZogHOpGkI6IZH      -0.729703      -2.145918       0.066724   \n",
       "\n",
       "                        component_200  \n",
       "song_id                                \n",
       "6SluaPiV04KOaRTOIScoff      -0.879269  \n",
       "5qEVq3ZEGr0Got441lueWS      -0.305045  \n",
       "5kqIPrATaCc2LqxVWzQGbk       8.490202  \n",
       "3aVyHFxRkf8lSjhWdJ68AW      -1.034998  \n",
       "0zIyxS6QxZogHOpGkI6IZH      -1.470035  \n",
       "\n",
       "[5 rows x 200 columns]"
      ]
     },
     "execution_count": 59,
     "metadata": {},
     "output_type": "execute_result"
    }
   ],
   "source": [
    "components_names = [\"component_\"+str(i+1) for i in range(200)]\n",
    "svd_df = pd.DataFrame(svd_matrix,\n",
    "                      columns=components_names)\n",
    "svd_df.insert(0, 'song_id', main_wfeats.index)\n",
    "svd_df.set_index('song_id', inplace=True)\n",
    "svd_df.head()"
   ]
  },
  {
   "cell_type": "code",
   "execution_count": 75,
   "metadata": {},
   "outputs": [],
   "source": [
    "svd_df.to_csv('../data/svd_df.csv')"
   ]
  },
  {
   "cell_type": "markdown",
   "metadata": {},
   "source": [
    "### Mapping Song Titles back unto Song ID"
   ]
  },
  {
   "cell_type": "code",
   "execution_count": 63,
   "metadata": {},
   "outputs": [],
   "source": [
    "loadings = pd.DataFrame(SVD.components_,\n",
    "                        index=components_names,\n",
    "                        columns=main_wfeats.columns).T"
   ]
  },
  {
   "cell_type": "code",
   "execution_count": 64,
   "metadata": {},
   "outputs": [],
   "source": [
    "for col in loadings.columns:\n",
    "    loadings[f'abs_{col}'] = np.abs(loadings[col])"
   ]
  },
  {
   "cell_type": "code",
   "execution_count": 65,
   "metadata": {},
   "outputs": [
    {
     "data": {
      "text/plain": [
       "(650, 400)"
      ]
     },
     "execution_count": 65,
     "metadata": {},
     "output_type": "execute_result"
    }
   ],
   "source": [
    "loadings.shape"
   ]
  },
  {
   "cell_type": "code",
   "execution_count": 78,
   "metadata": {},
   "outputs": [],
   "source": [
    "def get_top_loadings(comp_num):\n",
    "    return loadings.sort_values(f'abs_component_{comp_num}',ascending=False).head(10)[[f'component_{comp_num}']]"
   ]
  },
  {
   "cell_type": "code",
   "execution_count": 106,
   "metadata": {},
   "outputs": [
    {
     "data": {
      "text/html": [
       "<div>\n",
       "<style scoped>\n",
       "    .dataframe tbody tr th:only-of-type {\n",
       "        vertical-align: middle;\n",
       "    }\n",
       "\n",
       "    .dataframe tbody tr th {\n",
       "        vertical-align: top;\n",
       "    }\n",
       "\n",
       "    .dataframe thead th {\n",
       "        text-align: right;\n",
       "    }\n",
       "</style>\n",
       "<table border=\"1\" class=\"dataframe\">\n",
       "  <thead>\n",
       "    <tr style=\"text-align: right;\">\n",
       "      <th></th>\n",
       "      <th>component_180</th>\n",
       "    </tr>\n",
       "  </thead>\n",
       "  <tbody>\n",
       "    <tr>\n",
       "      <th>genre_bassline</th>\n",
       "      <td>0.267225</td>\n",
       "    </tr>\n",
       "    <tr>\n",
       "      <th>genre_sheffield indie</th>\n",
       "      <td>-0.185839</td>\n",
       "    </tr>\n",
       "    <tr>\n",
       "      <th>genre_canadian blues</th>\n",
       "      <td>-0.174316</td>\n",
       "    </tr>\n",
       "    <tr>\n",
       "      <th>genre_swamp pop</th>\n",
       "      <td>0.172025</td>\n",
       "    </tr>\n",
       "    <tr>\n",
       "      <th>key_7</th>\n",
       "      <td>0.171019</td>\n",
       "    </tr>\n",
       "    <tr>\n",
       "      <th>genre_idol</th>\n",
       "      <td>0.162617</td>\n",
       "    </tr>\n",
       "    <tr>\n",
       "      <th>genre_canadian punk</th>\n",
       "      <td>0.148993</td>\n",
       "    </tr>\n",
       "    <tr>\n",
       "      <th>genre_exotica</th>\n",
       "      <td>0.146930</td>\n",
       "    </tr>\n",
       "    <tr>\n",
       "      <th>key_0</th>\n",
       "      <td>-0.139129</td>\n",
       "    </tr>\n",
       "    <tr>\n",
       "      <th>genre_underground rap</th>\n",
       "      <td>0.138937</td>\n",
       "    </tr>\n",
       "  </tbody>\n",
       "</table>\n",
       "</div>"
      ],
      "text/plain": [
       "                       component_180\n",
       "genre_bassline              0.267225\n",
       "genre_sheffield indie      -0.185839\n",
       "genre_canadian blues       -0.174316\n",
       "genre_swamp pop             0.172025\n",
       "key_7                       0.171019\n",
       "genre_idol                  0.162617\n",
       "genre_canadian punk         0.148993\n",
       "genre_exotica               0.146930\n",
       "key_0                      -0.139129\n",
       "genre_underground rap       0.138937"
      ]
     },
     "execution_count": 106,
     "metadata": {},
     "output_type": "execute_result"
    }
   ],
   "source": [
    "get_top_loadings(180)"
   ]
  },
  {
   "cell_type": "code",
   "execution_count": 67,
   "metadata": {},
   "outputs": [
    {
     "data": {
      "text/html": [
       "<div>\n",
       "<style scoped>\n",
       "    .dataframe tbody tr th:only-of-type {\n",
       "        vertical-align: middle;\n",
       "    }\n",
       "\n",
       "    .dataframe tbody tr th {\n",
       "        vertical-align: top;\n",
       "    }\n",
       "\n",
       "    .dataframe thead th {\n",
       "        text-align: right;\n",
       "    }\n",
       "</style>\n",
       "<table border=\"1\" class=\"dataframe\">\n",
       "  <thead>\n",
       "    <tr style=\"text-align: right;\">\n",
       "      <th></th>\n",
       "      <th>tv_dim_11</th>\n",
       "      <th>tm_dim_11</th>\n",
       "      <th>tm_dim_10</th>\n",
       "      <th>tv_dim_10</th>\n",
       "      <th>tm_dim_8</th>\n",
       "      <th>tv_dim_8</th>\n",
       "      <th>tm_dim_4</th>\n",
       "      <th>tv_dim_4</th>\n",
       "      <th>tm_dim_6</th>\n",
       "      <th>tv_dim_6</th>\n",
       "    </tr>\n",
       "  </thead>\n",
       "  <tbody>\n",
       "    <tr>\n",
       "      <th>component_1</th>\n",
       "      <td>0.201596</td>\n",
       "      <td>0.201596</td>\n",
       "      <td>0.201175</td>\n",
       "      <td>0.201175</td>\n",
       "      <td>0.198804</td>\n",
       "      <td>0.198804</td>\n",
       "      <td>0.198531</td>\n",
       "      <td>0.198531</td>\n",
       "      <td>0.19058</td>\n",
       "      <td>0.19058</td>\n",
       "    </tr>\n",
       "  </tbody>\n",
       "</table>\n",
       "</div>"
      ],
      "text/plain": [
       "             tv_dim_11  tm_dim_11  tm_dim_10  tv_dim_10  tm_dim_8  tv_dim_8  \\\n",
       "component_1   0.201596   0.201596   0.201175   0.201175  0.198804  0.198804   \n",
       "\n",
       "             tm_dim_4  tv_dim_4  tm_dim_6  tv_dim_6  \n",
       "component_1  0.198531  0.198531   0.19058   0.19058  "
      ]
     },
     "execution_count": 67,
     "metadata": {},
     "output_type": "execute_result"
    }
   ],
   "source": [
    "loadings.sort_values('abs_component_1',ascending=False).head(10)[['component_1']].T"
   ]
  },
  {
   "cell_type": "code",
   "execution_count": 68,
   "metadata": {},
   "outputs": [
    {
     "data": {
      "text/html": [
       "<div>\n",
       "<style scoped>\n",
       "    .dataframe tbody tr th:only-of-type {\n",
       "        vertical-align: middle;\n",
       "    }\n",
       "\n",
       "    .dataframe tbody tr th {\n",
       "        vertical-align: top;\n",
       "    }\n",
       "\n",
       "    .dataframe thead th {\n",
       "        text-align: right;\n",
       "    }\n",
       "</style>\n",
       "<table border=\"1\" class=\"dataframe\">\n",
       "  <thead>\n",
       "    <tr style=\"text-align: right;\">\n",
       "      <th></th>\n",
       "      <th>energy</th>\n",
       "      <th>acousticness</th>\n",
       "      <th>pv_dim_2</th>\n",
       "      <th>pm_dim_2</th>\n",
       "      <th>mean_loudness</th>\n",
       "      <th>loudness</th>\n",
       "      <th>pm_dim_7</th>\n",
       "      <th>pv_dim_7</th>\n",
       "      <th>pv_dim_9</th>\n",
       "      <th>pm_dim_9</th>\n",
       "    </tr>\n",
       "  </thead>\n",
       "  <tbody>\n",
       "    <tr>\n",
       "      <th>component_2</th>\n",
       "      <td>0.244124</td>\n",
       "      <td>-0.195062</td>\n",
       "      <td>0.176836</td>\n",
       "      <td>0.176836</td>\n",
       "      <td>0.172692</td>\n",
       "      <td>0.16494</td>\n",
       "      <td>0.154629</td>\n",
       "      <td>0.154629</td>\n",
       "      <td>0.148244</td>\n",
       "      <td>0.148244</td>\n",
       "    </tr>\n",
       "  </tbody>\n",
       "</table>\n",
       "</div>"
      ],
      "text/plain": [
       "               energy  acousticness  pv_dim_2  pm_dim_2  mean_loudness  \\\n",
       "component_2  0.244124     -0.195062  0.176836  0.176836       0.172692   \n",
       "\n",
       "             loudness  pm_dim_7  pv_dim_7  pv_dim_9  pm_dim_9  \n",
       "component_2   0.16494  0.154629  0.154629  0.148244  0.148244  "
      ]
     },
     "execution_count": 68,
     "metadata": {},
     "output_type": "execute_result"
    }
   ],
   "source": [
    "loadings.sort_values('abs_component_2',ascending=False).head(10)[['component_2']].T"
   ]
  },
  {
   "cell_type": "code",
   "execution_count": 77,
   "metadata": {},
   "outputs": [
    {
     "data": {
      "text/html": [
       "<div>\n",
       "<style scoped>\n",
       "    .dataframe tbody tr th:only-of-type {\n",
       "        vertical-align: middle;\n",
       "    }\n",
       "\n",
       "    .dataframe tbody tr th {\n",
       "        vertical-align: top;\n",
       "    }\n",
       "\n",
       "    .dataframe thead th {\n",
       "        text-align: right;\n",
       "    }\n",
       "</style>\n",
       "<table border=\"1\" class=\"dataframe\">\n",
       "  <thead>\n",
       "    <tr style=\"text-align: right;\">\n",
       "      <th></th>\n",
       "      <th>genre_classic rock</th>\n",
       "      <th>genre_album rock</th>\n",
       "      <th>genre_mellow gold</th>\n",
       "      <th>genre_folk rock</th>\n",
       "      <th>genre_soft rock</th>\n",
       "      <th>album_release_date</th>\n",
       "      <th>genre_southern rock</th>\n",
       "      <th>genre_art rock</th>\n",
       "      <th>genre_blues-rock</th>\n",
       "      <th>genre_roots rock</th>\n",
       "    </tr>\n",
       "  </thead>\n",
       "  <tbody>\n",
       "    <tr>\n",
       "      <th>component_3</th>\n",
       "      <td>0.244124</td>\n",
       "      <td>0.219</td>\n",
       "      <td>0.208467</td>\n",
       "      <td>0.207704</td>\n",
       "      <td>0.192774</td>\n",
       "      <td>-0.181759</td>\n",
       "      <td>0.181531</td>\n",
       "      <td>0.181044</td>\n",
       "      <td>0.175666</td>\n",
       "      <td>0.172679</td>\n",
       "    </tr>\n",
       "  </tbody>\n",
       "</table>\n",
       "</div>"
      ],
      "text/plain": [
       "             genre_classic rock  genre_album rock  genre_mellow gold  \\\n",
       "component_3            0.244124             0.219           0.208467   \n",
       "\n",
       "             genre_folk rock  genre_soft rock  album_release_date  \\\n",
       "component_3         0.207704         0.192774           -0.181759   \n",
       "\n",
       "             genre_southern rock  genre_art rock  genre_blues-rock  \\\n",
       "component_3             0.181531        0.181044          0.175666   \n",
       "\n",
       "             genre_roots rock  \n",
       "component_3          0.172679  "
      ]
     },
     "execution_count": 77,
     "metadata": {},
     "output_type": "execute_result"
    }
   ],
   "source": [
    "loadings.sort_values('abs_component_3',ascending=False).head(10)[['component_3']].T"
   ]
  },
  {
   "cell_type": "code",
   "execution_count": 69,
   "metadata": {},
   "outputs": [
    {
     "data": {
      "text/html": [
       "<div>\n",
       "<style scoped>\n",
       "    .dataframe tbody tr th:only-of-type {\n",
       "        vertical-align: middle;\n",
       "    }\n",
       "\n",
       "    .dataframe tbody tr th {\n",
       "        vertical-align: top;\n",
       "    }\n",
       "\n",
       "    .dataframe thead th {\n",
       "        text-align: right;\n",
       "    }\n",
       "</style>\n",
       "<table border=\"1\" class=\"dataframe\">\n",
       "  <thead>\n",
       "    <tr style=\"text-align: right;\">\n",
       "      <th></th>\n",
       "      <th>component_5</th>\n",
       "    </tr>\n",
       "  </thead>\n",
       "  <tbody>\n",
       "    <tr>\n",
       "      <th>genre_indie rock</th>\n",
       "      <td>0.220666</td>\n",
       "    </tr>\n",
       "    <tr>\n",
       "      <th>genre_indie pop</th>\n",
       "      <td>0.218757</td>\n",
       "    </tr>\n",
       "    <tr>\n",
       "      <th>genre_indie folk</th>\n",
       "      <td>0.183267</td>\n",
       "    </tr>\n",
       "    <tr>\n",
       "      <th>genre_modern rock</th>\n",
       "      <td>0.177045</td>\n",
       "    </tr>\n",
       "    <tr>\n",
       "      <th>genre_chamber pop</th>\n",
       "      <td>0.171118</td>\n",
       "    </tr>\n",
       "    <tr>\n",
       "      <th>genre_stomp and holler</th>\n",
       "      <td>0.168916</td>\n",
       "    </tr>\n",
       "    <tr>\n",
       "      <th>genre_country</th>\n",
       "      <td>-0.157677</td>\n",
       "    </tr>\n",
       "    <tr>\n",
       "      <th>genre_garage rock</th>\n",
       "      <td>0.150193</td>\n",
       "    </tr>\n",
       "    <tr>\n",
       "      <th>genre_indietronica</th>\n",
       "      <td>0.145115</td>\n",
       "    </tr>\n",
       "    <tr>\n",
       "      <th>genre_neo-psychedelic</th>\n",
       "      <td>0.143012</td>\n",
       "    </tr>\n",
       "  </tbody>\n",
       "</table>\n",
       "</div>"
      ],
      "text/plain": [
       "                        component_5\n",
       "genre_indie rock           0.220666\n",
       "genre_indie pop            0.218757\n",
       "genre_indie folk           0.183267\n",
       "genre_modern rock          0.177045\n",
       "genre_chamber pop          0.171118\n",
       "genre_stomp and holler     0.168916\n",
       "genre_country             -0.157677\n",
       "genre_garage rock          0.150193\n",
       "genre_indietronica         0.145115\n",
       "genre_neo-psychedelic      0.143012"
      ]
     },
     "execution_count": 69,
     "metadata": {},
     "output_type": "execute_result"
    }
   ],
   "source": [
    "loadings.sort_values('abs_component_5', ascending=False).head(10)[['component_5']]"
   ]
  },
  {
   "cell_type": "markdown",
   "metadata": {},
   "source": [
    "Timbre tells the story of the most important component, though the feature importance of the other 199 components is almost entirely made up of the genres associated with the song's performing artist."
   ]
  },
  {
   "cell_type": "markdown",
   "metadata": {},
   "source": [
    "##### Exporting `svd_matrix` for calculating Cosine similarity"
   ]
  },
  {
   "cell_type": "code",
   "execution_count": 74,
   "metadata": {},
   "outputs": [],
   "source": [
    "with open('../pickle/svd_matrix.pkl', 'wb') as f:\n",
    "    pickle.dump(svd_matrix, f)"
   ]
  },
  {
   "cell_type": "markdown",
   "metadata": {},
   "source": [
    "## Applying NMF to Genres\n",
    "\n",
    "While performing SVD to the list of genres resulted in a fairly TK\n",
    "\n",
    "As opposed to SVD, NMF will try and capture 100% of the variance within the number of features specified, which could lead to more accurate predictions, while perserving the excellent minutia between genres that helps make Spotify a solid recommender on its own."
   ]
  },
  {
   "cell_type": "code",
   "execution_count": 170,
   "metadata": {},
   "outputs": [],
   "source": [
    "nmf = NMF(n_components=50, random_state=42)\n",
    "nmf_g = nmf.fit_transform(genre_dummies)"
   ]
  },
  {
   "cell_type": "markdown",
   "metadata": {},
   "source": [
    "##### NMF to DataFrame for Component Observation"
   ]
  },
  {
   "cell_type": "code",
   "execution_count": 178,
   "metadata": {},
   "outputs": [
    {
     "data": {
      "text/html": [
       "<div>\n",
       "<style scoped>\n",
       "    .dataframe tbody tr th:only-of-type {\n",
       "        vertical-align: middle;\n",
       "    }\n",
       "\n",
       "    .dataframe tbody tr th {\n",
       "        vertical-align: top;\n",
       "    }\n",
       "\n",
       "    .dataframe thead th {\n",
       "        text-align: right;\n",
       "    }\n",
       "</style>\n",
       "<table border=\"1\" class=\"dataframe\">\n",
       "  <thead>\n",
       "    <tr style=\"text-align: right;\">\n",
       "      <th></th>\n",
       "      <th>component_1</th>\n",
       "      <th>component_2</th>\n",
       "      <th>component_3</th>\n",
       "      <th>component_4</th>\n",
       "      <th>component_5</th>\n",
       "      <th>component_6</th>\n",
       "      <th>component_7</th>\n",
       "      <th>component_8</th>\n",
       "      <th>component_9</th>\n",
       "      <th>component_10</th>\n",
       "      <th>...</th>\n",
       "      <th>component_41</th>\n",
       "      <th>component_42</th>\n",
       "      <th>component_43</th>\n",
       "      <th>component_44</th>\n",
       "      <th>component_45</th>\n",
       "      <th>component_46</th>\n",
       "      <th>component_47</th>\n",
       "      <th>component_48</th>\n",
       "      <th>component_49</th>\n",
       "      <th>component_50</th>\n",
       "    </tr>\n",
       "    <tr>\n",
       "      <th>song_id</th>\n",
       "      <th></th>\n",
       "      <th></th>\n",
       "      <th></th>\n",
       "      <th></th>\n",
       "      <th></th>\n",
       "      <th></th>\n",
       "      <th></th>\n",
       "      <th></th>\n",
       "      <th></th>\n",
       "      <th></th>\n",
       "      <th></th>\n",
       "      <th></th>\n",
       "      <th></th>\n",
       "      <th></th>\n",
       "      <th></th>\n",
       "      <th></th>\n",
       "      <th></th>\n",
       "      <th></th>\n",
       "      <th></th>\n",
       "      <th></th>\n",
       "      <th></th>\n",
       "    </tr>\n",
       "  </thead>\n",
       "  <tbody>\n",
       "    <tr>\n",
       "      <th>000xQL6tZNLJzIrtIgxqSl</th>\n",
       "      <td>0.0</td>\n",
       "      <td>0.000000</td>\n",
       "      <td>0.00000</td>\n",
       "      <td>0.000000</td>\n",
       "      <td>0.0</td>\n",
       "      <td>0.0</td>\n",
       "      <td>0.000000</td>\n",
       "      <td>0.000000</td>\n",
       "      <td>0.051759</td>\n",
       "      <td>0.120525</td>\n",
       "      <td>...</td>\n",
       "      <td>0.000000</td>\n",
       "      <td>0.000000</td>\n",
       "      <td>0.000000</td>\n",
       "      <td>0.000000</td>\n",
       "      <td>0.0</td>\n",
       "      <td>0.0</td>\n",
       "      <td>0.0</td>\n",
       "      <td>0.000000</td>\n",
       "      <td>0.000000</td>\n",
       "      <td>0.000000</td>\n",
       "    </tr>\n",
       "    <tr>\n",
       "      <th>001wUOgo8t9VElHl45bxzr</th>\n",
       "      <td>0.0</td>\n",
       "      <td>0.003079</td>\n",
       "      <td>0.12936</td>\n",
       "      <td>0.000000</td>\n",
       "      <td>0.0</td>\n",
       "      <td>0.0</td>\n",
       "      <td>0.000000</td>\n",
       "      <td>0.000000</td>\n",
       "      <td>0.001727</td>\n",
       "      <td>0.003320</td>\n",
       "      <td>...</td>\n",
       "      <td>0.072663</td>\n",
       "      <td>0.000000</td>\n",
       "      <td>0.001977</td>\n",
       "      <td>0.000695</td>\n",
       "      <td>0.0</td>\n",
       "      <td>0.0</td>\n",
       "      <td>0.0</td>\n",
       "      <td>0.000000</td>\n",
       "      <td>0.126349</td>\n",
       "      <td>0.000000</td>\n",
       "    </tr>\n",
       "    <tr>\n",
       "      <th>003eoIwxETJujVWmNFMoZy</th>\n",
       "      <td>0.0</td>\n",
       "      <td>0.000000</td>\n",
       "      <td>0.00000</td>\n",
       "      <td>0.000000</td>\n",
       "      <td>0.0</td>\n",
       "      <td>0.0</td>\n",
       "      <td>0.000000</td>\n",
       "      <td>0.000000</td>\n",
       "      <td>0.052816</td>\n",
       "      <td>0.122059</td>\n",
       "      <td>...</td>\n",
       "      <td>0.008787</td>\n",
       "      <td>0.000000</td>\n",
       "      <td>0.000000</td>\n",
       "      <td>0.000000</td>\n",
       "      <td>0.0</td>\n",
       "      <td>0.0</td>\n",
       "      <td>0.0</td>\n",
       "      <td>0.000000</td>\n",
       "      <td>0.000000</td>\n",
       "      <td>0.000000</td>\n",
       "    </tr>\n",
       "    <tr>\n",
       "      <th>003z5LtGJ2cdJARKIO9LgL</th>\n",
       "      <td>0.0</td>\n",
       "      <td>0.000000</td>\n",
       "      <td>0.00000</td>\n",
       "      <td>0.127204</td>\n",
       "      <td>0.0</td>\n",
       "      <td>0.0</td>\n",
       "      <td>0.000000</td>\n",
       "      <td>0.000000</td>\n",
       "      <td>0.000000</td>\n",
       "      <td>0.000000</td>\n",
       "      <td>...</td>\n",
       "      <td>0.000000</td>\n",
       "      <td>0.064726</td>\n",
       "      <td>0.000000</td>\n",
       "      <td>0.000000</td>\n",
       "      <td>0.0</td>\n",
       "      <td>0.0</td>\n",
       "      <td>0.0</td>\n",
       "      <td>0.001489</td>\n",
       "      <td>0.000000</td>\n",
       "      <td>0.000000</td>\n",
       "    </tr>\n",
       "    <tr>\n",
       "      <th>004S8bMhFQjnbuqvdh6W71</th>\n",
       "      <td>0.0</td>\n",
       "      <td>0.000000</td>\n",
       "      <td>0.00000</td>\n",
       "      <td>0.000000</td>\n",
       "      <td>0.0</td>\n",
       "      <td>0.0</td>\n",
       "      <td>0.079988</td>\n",
       "      <td>0.038891</td>\n",
       "      <td>0.000000</td>\n",
       "      <td>0.000000</td>\n",
       "      <td>...</td>\n",
       "      <td>0.000000</td>\n",
       "      <td>0.000000</td>\n",
       "      <td>0.000000</td>\n",
       "      <td>0.000000</td>\n",
       "      <td>0.0</td>\n",
       "      <td>0.0</td>\n",
       "      <td>0.0</td>\n",
       "      <td>0.000000</td>\n",
       "      <td>0.000000</td>\n",
       "      <td>0.000085</td>\n",
       "    </tr>\n",
       "  </tbody>\n",
       "</table>\n",
       "<p>5 rows × 50 columns</p>\n",
       "</div>"
      ],
      "text/plain": [
       "                        component_1  component_2  component_3  component_4  \\\n",
       "song_id                                                                      \n",
       "000xQL6tZNLJzIrtIgxqSl          0.0     0.000000      0.00000     0.000000   \n",
       "001wUOgo8t9VElHl45bxzr          0.0     0.003079      0.12936     0.000000   \n",
       "003eoIwxETJujVWmNFMoZy          0.0     0.000000      0.00000     0.000000   \n",
       "003z5LtGJ2cdJARKIO9LgL          0.0     0.000000      0.00000     0.127204   \n",
       "004S8bMhFQjnbuqvdh6W71          0.0     0.000000      0.00000     0.000000   \n",
       "\n",
       "                        component_5  component_6  component_7  component_8  \\\n",
       "song_id                                                                      \n",
       "000xQL6tZNLJzIrtIgxqSl          0.0          0.0     0.000000     0.000000   \n",
       "001wUOgo8t9VElHl45bxzr          0.0          0.0     0.000000     0.000000   \n",
       "003eoIwxETJujVWmNFMoZy          0.0          0.0     0.000000     0.000000   \n",
       "003z5LtGJ2cdJARKIO9LgL          0.0          0.0     0.000000     0.000000   \n",
       "004S8bMhFQjnbuqvdh6W71          0.0          0.0     0.079988     0.038891   \n",
       "\n",
       "                        component_9  component_10      ...       component_41  \\\n",
       "song_id                                                ...                      \n",
       "000xQL6tZNLJzIrtIgxqSl     0.051759      0.120525      ...           0.000000   \n",
       "001wUOgo8t9VElHl45bxzr     0.001727      0.003320      ...           0.072663   \n",
       "003eoIwxETJujVWmNFMoZy     0.052816      0.122059      ...           0.008787   \n",
       "003z5LtGJ2cdJARKIO9LgL     0.000000      0.000000      ...           0.000000   \n",
       "004S8bMhFQjnbuqvdh6W71     0.000000      0.000000      ...           0.000000   \n",
       "\n",
       "                        component_42  component_43  component_44  \\\n",
       "song_id                                                            \n",
       "000xQL6tZNLJzIrtIgxqSl      0.000000      0.000000      0.000000   \n",
       "001wUOgo8t9VElHl45bxzr      0.000000      0.001977      0.000695   \n",
       "003eoIwxETJujVWmNFMoZy      0.000000      0.000000      0.000000   \n",
       "003z5LtGJ2cdJARKIO9LgL      0.064726      0.000000      0.000000   \n",
       "004S8bMhFQjnbuqvdh6W71      0.000000      0.000000      0.000000   \n",
       "\n",
       "                        component_45  component_46  component_47  \\\n",
       "song_id                                                            \n",
       "000xQL6tZNLJzIrtIgxqSl           0.0           0.0           0.0   \n",
       "001wUOgo8t9VElHl45bxzr           0.0           0.0           0.0   \n",
       "003eoIwxETJujVWmNFMoZy           0.0           0.0           0.0   \n",
       "003z5LtGJ2cdJARKIO9LgL           0.0           0.0           0.0   \n",
       "004S8bMhFQjnbuqvdh6W71           0.0           0.0           0.0   \n",
       "\n",
       "                        component_48  component_49  component_50  \n",
       "song_id                                                           \n",
       "000xQL6tZNLJzIrtIgxqSl      0.000000      0.000000      0.000000  \n",
       "001wUOgo8t9VElHl45bxzr      0.000000      0.126349      0.000000  \n",
       "003eoIwxETJujVWmNFMoZy      0.000000      0.000000      0.000000  \n",
       "003z5LtGJ2cdJARKIO9LgL      0.001489      0.000000      0.000000  \n",
       "004S8bMhFQjnbuqvdh6W71      0.000000      0.000000      0.000085  \n",
       "\n",
       "[5 rows x 50 columns]"
      ]
     },
     "execution_count": 178,
     "metadata": {},
     "output_type": "execute_result"
    }
   ],
   "source": [
    "nmf_component_names = [\"component_\"+str(i+1) for i in range(50)]\n",
    "nmf_dfg = pd.DataFrame(nmf_g,\n",
    "                      columns=nmf_component_names)\n",
    "nmf_dfg.insert(0, 'song_id', genre_dummies.index)\n",
    "nmf_dfg.set_index('song_id', inplace=True)\n",
    "nmf_dfg.head()"
   ]
  },
  {
   "cell_type": "code",
   "execution_count": 179,
   "metadata": {},
   "outputs": [],
   "source": [
    "loadings_nmfg = pd.DataFrame(nmf.components_,\n",
    "                        index=nmf_component_names,\n",
    "                        columns=genre_dummies.columns).T"
   ]
  },
  {
   "cell_type": "code",
   "execution_count": 180,
   "metadata": {},
   "outputs": [],
   "source": [
    "for col in loadings_nmfg.columns:\n",
    "    loadings_nmfg[f'abs_{col}'] = np.abs(loadings_nmfg[col])"
   ]
  },
  {
   "cell_type": "code",
   "execution_count": 181,
   "metadata": {},
   "outputs": [
    {
     "data": {
      "text/plain": [
       "(561, 100)"
      ]
     },
     "execution_count": 181,
     "metadata": {},
     "output_type": "execute_result"
    }
   ],
   "source": [
    "loadings_nmfg.shape"
   ]
  },
  {
   "cell_type": "code",
   "execution_count": 190,
   "metadata": {},
   "outputs": [],
   "source": [
    "def get_top_loadings(comp_num):\n",
    "    return loadings_nmfg.sort_values(f'abs_component_{comp_num}',ascending=False).head(10)[[f'component_{comp_num}']]"
   ]
  },
  {
   "cell_type": "code",
   "execution_count": 41,
   "metadata": {},
   "outputs": [
    {
     "data": {
      "text/html": [
       "<div>\n",
       "<style scoped>\n",
       "    .dataframe tbody tr th:only-of-type {\n",
       "        vertical-align: middle;\n",
       "    }\n",
       "\n",
       "    .dataframe tbody tr th {\n",
       "        vertical-align: top;\n",
       "    }\n",
       "\n",
       "    .dataframe thead th {\n",
       "        text-align: right;\n",
       "    }\n",
       "</style>\n",
       "<table border=\"1\" class=\"dataframe\">\n",
       "  <thead>\n",
       "    <tr style=\"text-align: right;\">\n",
       "      <th></th>\n",
       "      <th>component_1</th>\n",
       "    </tr>\n",
       "  </thead>\n",
       "  <tbody>\n",
       "    <tr>\n",
       "      <th>genre_rock</th>\n",
       "      <td>0.465959</td>\n",
       "    </tr>\n",
       "    <tr>\n",
       "      <th>genre_mellow gold</th>\n",
       "      <td>0.352421</td>\n",
       "    </tr>\n",
       "    <tr>\n",
       "      <th>genre_album rock</th>\n",
       "      <td>0.351506</td>\n",
       "    </tr>\n",
       "    <tr>\n",
       "      <th>genre_classic rock</th>\n",
       "      <td>0.314779</td>\n",
       "    </tr>\n",
       "    <tr>\n",
       "      <th>genre_soft rock</th>\n",
       "      <td>0.313958</td>\n",
       "    </tr>\n",
       "    <tr>\n",
       "      <th>genre_folk rock</th>\n",
       "      <td>0.266588</td>\n",
       "    </tr>\n",
       "    <tr>\n",
       "      <th>genre_hard rock</th>\n",
       "      <td>0.203417</td>\n",
       "    </tr>\n",
       "    <tr>\n",
       "      <th>genre_southern rock</th>\n",
       "      <td>0.167607</td>\n",
       "    </tr>\n",
       "    <tr>\n",
       "      <th>genre_art rock</th>\n",
       "      <td>0.157661</td>\n",
       "    </tr>\n",
       "    <tr>\n",
       "      <th>genre_blues-rock</th>\n",
       "      <td>0.149565</td>\n",
       "    </tr>\n",
       "  </tbody>\n",
       "</table>\n",
       "</div>"
      ],
      "text/plain": [
       "                     component_1\n",
       "genre_rock              0.465959\n",
       "genre_mellow gold       0.352421\n",
       "genre_album rock        0.351506\n",
       "genre_classic rock      0.314779\n",
       "genre_soft rock         0.313958\n",
       "genre_folk rock         0.266588\n",
       "genre_hard rock         0.203417\n",
       "genre_southern rock     0.167607\n",
       "genre_art rock          0.157661\n",
       "genre_blues-rock        0.149565"
      ]
     },
     "execution_count": 41,
     "metadata": {},
     "output_type": "execute_result"
    }
   ],
   "source": [
    "get_top_loadings(1)"
   ]
  },
  {
   "cell_type": "code",
   "execution_count": 192,
   "metadata": {},
   "outputs": [],
   "source": [
    "scale_songs_nmfg = StandardScaler()\n",
    "main_songs_nmfg = main_songs.merge(svd_dfg, left_on='song_id', right_on='song_id')\n",
    "main_songs_scaled_nmfg = scale_songs.fit_transform(main_songs_nmfg)"
   ]
  },
  {
   "cell_type": "markdown",
   "metadata": {},
   "source": [
    "##### Pickling Song Listing for Calculating Cosine Similarity"
   ]
  },
  {
   "cell_type": "code",
   "execution_count": 195,
   "metadata": {},
   "outputs": [],
   "source": [
    "with open('../pickle/main_songs_scaled_nmfg.pkl', 'wb') as f:\n",
    "    pickle.dump(main_songs_scaled_nmfg, f)"
   ]
  },
  {
   "cell_type": "code",
   "execution_count": 194,
   "metadata": {},
   "outputs": [],
   "source": [
    "nmf_dfg.to_csv('../data/nmf_dfg.csv')"
   ]
  },
  {
   "cell_type": "markdown",
   "metadata": {},
   "source": [
    "## Using Audio Features Only - No Genres"
   ]
  },
  {
   "cell_type": "code",
   "execution_count": 27,
   "metadata": {},
   "outputs": [],
   "source": [
    "scale_songs_af = StandardScaler()\n",
    "main_songs_scaled_af = scale_songs_af.fit_transform(main_songs)"
   ]
  },
  {
   "cell_type": "code",
   "execution_count": 30,
   "metadata": {},
   "outputs": [],
   "source": [
    "with open('../pickle/main_songs_scaled_af.pkl', 'wb') as f:\n",
    "    pickle.dump(main_songs_scaled_af, f)"
   ]
  }
 ],
 "metadata": {
  "kernelspec": {
   "display_name": "Python 3",
   "language": "python",
   "name": "python3"
  },
  "language_info": {
   "codemirror_mode": {
    "name": "ipython",
    "version": 3
   },
   "file_extension": ".py",
   "mimetype": "text/x-python",
   "name": "python",
   "nbconvert_exporter": "python",
   "pygments_lexer": "ipython3",
   "version": "3.6.5"
  }
 },
 "nbformat": 4,
 "nbformat_minor": 2
}
