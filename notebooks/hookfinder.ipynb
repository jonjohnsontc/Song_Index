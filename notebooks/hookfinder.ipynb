{
 "cells": [
  {
   "cell_type": "markdown",
   "metadata": {},
   "source": [
    "# HookFinder\n",
    "\n",
    "Can I find the hook of a given song with the data that I have?"
   ]
  },
  {
   "cell_type": "code",
   "execution_count": 1,
   "metadata": {},
   "outputs": [],
   "source": [
    "import json\n",
    "import numpy as np\n",
    "import pandas as pd\n",
    "import pickle\n",
    "import re\n",
    "import spotipy\n",
    "from spotipy.oauth2 import SpotifyClientCredentials\n",
    "import sys\n",
    "import time\n",
    "from sqlalchemy import create_engine"
   ]
  },
  {
   "cell_type": "markdown",
   "metadata": {},
   "source": [
    "## Gathering Song Sections Together\n",
    "\n",
    "Reminder of how Spotify song sections and audio features are organized"
   ]
  },
  {
   "cell_type": "code",
   "execution_count": 2,
   "metadata": {},
   "outputs": [],
   "source": [
    "client_credentials_manager = SpotifyClientCredentials(client_id=\"2414300dd5be4a3cb0e9d83ecebe3964\",\n",
    "                                                          client_secret=\"f9c2e12e1f0247a4a74cf8e821a69aa7\")\n",
    "sp = spotipy.Spotify(client_credentials_manager=client_credentials_manager)"
   ]
  },
  {
   "cell_type": "code",
   "execution_count": 4,
   "metadata": {},
   "outputs": [],
   "source": [
    "with open('../data/audio_analysis/62bOmKYxYg7dhrC6gH9vFn.json', 'r') as f:\n",
    "    _62bOmKYxYg7dhrC6gH9vFn = json.load(f)"
   ]
  },
  {
   "cell_type": "markdown",
   "metadata": {},
   "source": [
    "##### Example Audio Features"
   ]
  },
  {
   "cell_type": "code",
   "execution_count": 3,
   "metadata": {},
   "outputs": [
    {
     "data": {
      "text/plain": [
       "[{'danceability': 0.61,\n",
       "  'energy': 0.926,\n",
       "  'key': 8,\n",
       "  'loudness': -4.843,\n",
       "  'mode': 0,\n",
       "  'speechiness': 0.0479,\n",
       "  'acousticness': 0.031,\n",
       "  'instrumentalness': 0.0012,\n",
       "  'liveness': 0.0821,\n",
       "  'valence': 0.861,\n",
       "  'tempo': 172.638,\n",
       "  'type': 'audio_features',\n",
       "  'id': '62bOmKYxYg7dhrC6gH9vFn',\n",
       "  'uri': 'spotify:track:62bOmKYxYg7dhrC6gH9vFn',\n",
       "  'track_href': 'https://api.spotify.com/v1/tracks/62bOmKYxYg7dhrC6gH9vFn',\n",
       "  'analysis_url': 'https://api.spotify.com/v1/audio-analysis/62bOmKYxYg7dhrC6gH9vFn',\n",
       "  'duration_ms': 200400,\n",
       "  'time_signature': 4}]"
      ]
     },
     "execution_count": 3,
     "metadata": {},
     "output_type": "execute_result"
    }
   ],
   "source": [
    "sp.audio_features('62bOmKYxYg7dhrC6gH9vFn')"
   ]
  },
  {
   "cell_type": "markdown",
   "metadata": {},
   "source": [
    "##### Example Song Section"
   ]
  },
  {
   "cell_type": "code",
   "execution_count": 7,
   "metadata": {},
   "outputs": [
    {
     "data": {
      "text/plain": [
       "{'start': 0.0,\n",
       " 'duration': 8.09296,\n",
       " 'confidence': 1.0,\n",
       " 'loudness': -21.903,\n",
       " 'tempo': 173.656,\n",
       " 'tempo_confidence': 0.214,\n",
       " 'key': 1,\n",
       " 'key_confidence': 0.005,\n",
       " 'mode': 1,\n",
       " 'mode_confidence': 0.28,\n",
       " 'time_signature': 4,\n",
       " 'time_signature_confidence': 1.0}"
      ]
     },
     "execution_count": 7,
     "metadata": {},
     "output_type": "execute_result"
    }
   ],
   "source": [
    "_62bOmKYxYg7dhrC6gH9vFn['sections'][0]"
   ]
  },
  {
   "cell_type": "markdown",
   "metadata": {},
   "source": [
    "##### Example Song Segment"
   ]
  },
  {
   "cell_type": "code",
   "execution_count": 6,
   "metadata": {},
   "outputs": [
    {
     "data": {
      "text/plain": [
       "{'start': 0.0,\n",
       " 'duration': 0.33138,\n",
       " 'confidence': 0.0,\n",
       " 'loudness_start': -60.0,\n",
       " 'loudness_max_time': 0.29894,\n",
       " 'loudness_max': -59.873,\n",
       " 'pitches': [0.427,\n",
       "  0.759,\n",
       "  1.0,\n",
       "  0.773,\n",
       "  0.532,\n",
       "  0.692,\n",
       "  0.484,\n",
       "  0.23,\n",
       "  0.23,\n",
       "  0.257,\n",
       "  0.486,\n",
       "  0.504],\n",
       " 'timbre': [0.009,\n",
       "  170.938,\n",
       "  9.173,\n",
       "  -28.75,\n",
       "  57.226,\n",
       "  -50.105,\n",
       "  15.013,\n",
       "  5.161,\n",
       "  -27.215,\n",
       "  1.033,\n",
       "  -10.719,\n",
       "  -7.164]}"
      ]
     },
     "execution_count": 6,
     "metadata": {},
     "output_type": "execute_result"
    }
   ],
   "source": [
    "_62bOmKYxYg7dhrC6gH9vFn['segments'][0]"
   ]
  },
  {
   "cell_type": "code",
   "execution_count": null,
   "metadata": {},
   "outputs": [],
   "source": []
  }
 ],
 "metadata": {
  "kernelspec": {
   "display_name": "Python 3",
   "language": "python",
   "name": "python3"
  },
  "language_info": {
   "codemirror_mode": {
    "name": "ipython",
    "version": 3
   },
   "file_extension": ".py",
   "mimetype": "text/x-python",
   "name": "python",
   "nbconvert_exporter": "python",
   "pygments_lexer": "ipython3",
   "version": "3.6.3"
  }
 },
 "nbformat": 4,
 "nbformat_minor": 2
}
