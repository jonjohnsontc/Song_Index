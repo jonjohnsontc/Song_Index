{
 "cells": [
  {
   "cell_type": "markdown",
   "metadata": {},
   "source": [
    "# Collecting ASCAP Info + Storing in DB\n",
    "\n",
    "**Description**: Pulling necessary song info from the ASCAP HTML files & storing in PostreSQL db"
   ]
  },
  {
   "cell_type": "code",
   "execution_count": 27,
   "metadata": {},
   "outputs": [],
   "source": [
    "import json\n",
    "import os\n",
    "import pickle\n",
    "import re\n",
    "\n",
    "from bs4 import BeautifulSoup, element\n",
    "from sqlalchemy import create_engine\n",
    "\n",
    "import numpy as np\n",
    "import pandas as pd"
   ]
  },
  {
   "cell_type": "markdown",
   "metadata": {},
   "source": [
    "## Loading in HTML File\n",
    "\n",
    "I'll need to figure out how to retrieve all of the corresponding song details from each HTML file that I scraped from ASCAP>"
   ]
  },
  {
   "cell_type": "code",
   "execution_count": 37,
   "metadata": {},
   "outputs": [],
   "source": [
    "with open('../data/ascap_songs/CHIEF KEEF.html', 'rb+') as f:\n",
    "    test_html = BeautifulSoup(f, 'lxml')"
   ]
  },
  {
   "cell_type": "markdown",
   "metadata": {},
   "source": [
    "### Retrieving Song Cards\n",
    "\n",
    "My current thought is that I should divvy these results into a list of `dict`s, which should allow me to easily toss into a dataframe or db afterwards."
   ]
  },
  {
   "cell_type": "code",
   "execution_count": 38,
   "metadata": {},
   "outputs": [],
   "source": [
    "test_cards = test_html.find_all('div', {'class':'card hyphenate card--expanded'})"
   ]
  },
  {
   "cell_type": "markdown",
   "metadata": {},
   "source": [
    "64 songs indexed for Chief Keef"
   ]
  },
  {
   "cell_type": "code",
   "execution_count": 39,
   "metadata": {},
   "outputs": [
    {
     "data": {
      "text/plain": [
       "64"
      ]
     },
     "execution_count": 39,
     "metadata": {},
     "output_type": "execute_result"
    }
   ],
   "source": [
    "len(test_cards)"
   ]
  },
  {
   "cell_type": "code",
   "execution_count": 45,
   "metadata": {},
   "outputs": [],
   "source": [
    "tc2 = test_cards[2]"
   ]
  },
  {
   "cell_type": "code",
   "execution_count": 57,
   "metadata": {},
   "outputs": [
    {
     "data": {
      "text/plain": [
       "'887415977'"
      ]
     },
     "execution_count": 57,
     "metadata": {},
     "output_type": "execute_result"
    }
   ],
   "source": [
    "tc2.find('div', {'class':'workID'}).text.strip().split()[-1]"
   ]
  },
  {
   "cell_type": "markdown",
   "metadata": {},
   "source": [
    "##### The title and \"Total Current ASCAP Share\""
   ]
  },
  {
   "cell_type": "code",
   "execution_count": 13,
   "metadata": {},
   "outputs": [
    {
     "data": {
      "text/plain": [
       "['ADAM & EVE',\n",
       " '                ',\n",
       " '                    ',\n",
       " '                    Total Current ASCAP Share:',\n",
       " '                    25%']"
      ]
     },
     "execution_count": 13,
     "metadata": {},
     "output_type": "execute_result"
    }
   ],
   "source": [
    "test_cards[0].find('div', {'class':'card__header__title'}).text.strip().split(sep='\\n')"
   ]
  },
  {
   "cell_type": "markdown",
   "metadata": {},
   "source": [
    "##### Just the song title"
   ]
  },
  {
   "cell_type": "code",
   "execution_count": 14,
   "metadata": {},
   "outputs": [
    {
     "data": {
      "text/plain": [
       "'ADAM & EVE'"
      ]
     },
     "execution_count": 14,
     "metadata": {},
     "output_type": "execute_result"
    }
   ],
   "source": [
    "test_cards[0].find('div', {'class':'card__header__title'}).text.strip().split(sep='\\n')[0]"
   ]
  },
  {
   "cell_type": "markdown",
   "metadata": {},
   "source": [
    "##### Writers"
   ]
  },
  {
   "cell_type": "code",
   "execution_count": 15,
   "metadata": {},
   "outputs": [],
   "source": [
    "writers_row = test_cards[0].find_all('tr', {'class':'writers__row'})"
   ]
  },
  {
   "cell_type": "code",
   "execution_count": 16,
   "metadata": {},
   "outputs": [],
   "source": [
    "writer_list = []\n",
    "\n",
    "for writer in writers_row:\n",
    "    if isinstance(writer.find('a'), element.Tag):\n",
    "        writer_list.append((writer.find('a'), writer.find_all('td', {'class':'sup-col'})))\n",
    "    elif isinstance(writer.find('span'), element.Tag):\n",
    "        writer_list.append((writer.find('span'), writer.find_all('td', {'class':'sup-col'})))\n",
    "    else:\n",
    "        writer_list.append('cannot find writer')\n",
    "        \n",
    "writer_info = []\n",
    "\n",
    "for writer, writer_ids in writer_list:\n",
    "    b = writer.attrs\n",
    "    b['pro'] = writer_ids[0].text.strip()\n",
    "    b['ipi'] = writer_ids[1].text.strip()\n",
    "    writer_info.append(b)"
   ]
  },
  {
   "cell_type": "code",
   "execution_count": 17,
   "metadata": {},
   "outputs": [
    {
     "data": {
      "text/plain": [
       "{'data-writer': 'MCKINNEY REGINALD CHRISTOPHER',\n",
       " 'data-id': '652264355',\n",
       " 'pro': 'ASCAP',\n",
       " 'ipi': '652264355'}"
      ]
     },
     "execution_count": 17,
     "metadata": {},
     "output_type": "execute_result"
    }
   ],
   "source": [
    "writer_list[0][0].attrs.pop('href')\n",
    "writer_list[0][0].attrs.pop('class')\n",
    "writer_list[0][0].attrs"
   ]
  },
  {
   "cell_type": "code",
   "execution_count": 18,
   "metadata": {},
   "outputs": [
    {
     "data": {
      "text/plain": [
       "[{'data-writer': 'MCKINNEY REGINALD CHRISTOPHER',\n",
       "  'data-id': '652264355',\n",
       "  'pro': 'ASCAP',\n",
       "  'ipi': '652264355'},\n",
       " {'class': ['no-click'],\n",
       "  'data-writer': 'WRITER UNKNOWN  ',\n",
       "  'data-id': '0',\n",
       "  'pro': 'NS',\n",
       "  'ipi': '—'}]"
      ]
     },
     "execution_count": 18,
     "metadata": {},
     "output_type": "execute_result"
    }
   ],
   "source": [
    "writer_info"
   ]
  },
  {
   "cell_type": "markdown",
   "metadata": {},
   "source": [
    "Performers"
   ]
  },
  {
   "cell_type": "code",
   "execution_count": 19,
   "metadata": {},
   "outputs": [],
   "source": [
    "performers = test_cards[0].find_all('div', {'class':'creditors__list'})"
   ]
  },
  {
   "cell_type": "code",
   "execution_count": 20,
   "metadata": {},
   "outputs": [
    {
     "data": {
      "text/plain": [
       "'CHIEF KEEF'"
      ]
     },
     "execution_count": 20,
     "metadata": {},
     "output_type": "execute_result"
    }
   ],
   "source": [
    "performers[0].text.strip('\\n')"
   ]
  },
  {
   "cell_type": "markdown",
   "metadata": {},
   "source": [
    "Retreive one or multiple performers per song"
   ]
  },
  {
   "cell_type": "code",
   "execution_count": 21,
   "metadata": {},
   "outputs": [],
   "source": [
    "if performers[0].text.count('\\n') > 2:\n",
    "    performers[0].text.strip().split(sep='\\n')\n",
    "else:\n",
    "    performers[0].text.strip('\\n')"
   ]
  },
  {
   "cell_type": "markdown",
   "metadata": {},
   "source": [
    "HTML Title"
   ]
  },
  {
   "cell_type": "markdown",
   "metadata": {},
   "source": [
    "### Defining Functions to Sort Through HTML Files\n",
    "\n",
    "Here's how I'll take the song information that I need and output it into a list of `dict`s"
   ]
  },
  {
   "cell_type": "code",
   "execution_count": 60,
   "metadata": {},
   "outputs": [],
   "source": [
    "def bs_file(file):\n",
    "    '''\n",
    "    Opens file and returns beautiful soup object\n",
    "    '''\n",
    "    with open('../data/ascap_songs/{}'.format(file), 'rb') as f:\n",
    "        bs = BeautifulSoup(f, 'lxml')\n",
    "    return bs\n",
    "\n",
    "def song_sorter(bs):\n",
    "    '''\n",
    "    Iterates through songs in bs object and returns cards of all songs\n",
    "    '''\n",
    "    results = []\n",
    "    if len(bs.find_all('div', {'class':'card hyphenate card--expanded'})) > 0:\n",
    "        results.extend(bs.find_all('div', {'class':'card hyphenate card--expanded'}))\n",
    "    if len(bs.find_all('div', {'class':'card card--expanded hyphenate'})) > 0:\n",
    "        results.extend(bs.find_all('div', {'class':'card card--expanded hyphenate'}))\n",
    "    return results\n",
    "                                   \n",
    "def get_song_credits(card):\n",
    "    '''\n",
    "    Retrieves song credits from an individual song card\n",
    "    '''   \n",
    "    title = card.find('div', {'class':'card__header__title'}).text.strip().split(sep='\\n')[0]\n",
    "    aid = card.find('div', {'class':'workID'}).text.strip().split()[-1]\n",
    "    writers_row = card.find_all('tr', {'class':'writers__row'})\n",
    "    writer_list = []\n",
    "    \n",
    "    # Creating writer list for further filtering\n",
    "    for writer in writers_row:\n",
    "        if isinstance(writer.find('a'), element.Tag):\n",
    "            writer_list.append((writer.find('a'), writer.find_all('td', {'class':'sup-col'})))\n",
    "        elif isinstance(writer.find('span'), element.Tag):\n",
    "            writer_list.append((writer.find('span'), writer.find_all('td', {'class':'sup-col'})))\n",
    "        else:\n",
    "            writer_list.append('cannot find writer')\n",
    "    writers = []\n",
    "    for writer, writer_ids in writer_list:\n",
    "        b = writer.attrs\n",
    "        b['pro'] = writer_ids[0].text.strip()\n",
    "        b['ipi'] = writer_ids[1].text.strip()\n",
    "        writers.append(b)\n",
    "    \n",
    "    # Grabbing performers\n",
    "    performers = card.find_all('div', {'class':'creditors__list'})\n",
    "    if performers[0].text.count('\\n') > 2:\n",
    "        artists = performers[0].text.strip().split(sep='\\n')\n",
    "    else:\n",
    "        artists = performers[0].text.strip('\\n')\n",
    "        \n",
    "    # Grabbing alternate titles\n",
    "    try:\n",
    "        if performers[1].text.count('\\n'):\n",
    "            alt_titles = performers[1].text.strip().split(sep='\\n')\n",
    "        else:\n",
    "            alt_titles = performers[1].text.strip('\\n')\n",
    "    except IndexError:\n",
    "        alt_titles = None\n",
    "        \n",
    "    return title, aid, writers, artists, alt_titles"
   ]
  },
  {
   "cell_type": "code",
   "execution_count": 69,
   "metadata": {},
   "outputs": [],
   "source": [
    "ck = song_sorter(test_html)\n",
    "t, aid, w, a, at = get_song_credits(ck[2])"
   ]
  },
  {
   "cell_type": "code",
   "execution_count": 70,
   "metadata": {},
   "outputs": [
    {
     "data": {
      "text/plain": [
       "'887415977'"
      ]
     },
     "execution_count": 70,
     "metadata": {},
     "output_type": "execute_result"
    }
   ],
   "source": [
    "aid"
   ]
  },
  {
   "cell_type": "code",
   "execution_count": 46,
   "metadata": {},
   "outputs": [
    {
     "data": {
      "text/plain": [
       "64"
      ]
     },
     "execution_count": 46,
     "metadata": {},
     "output_type": "execute_result"
    }
   ],
   "source": [
    "len(ck)"
   ]
  },
  {
   "cell_type": "code",
   "execution_count": 71,
   "metadata": {},
   "outputs": [],
   "source": [
    "def get_html_songs(html_list):\n",
    "    '''\n",
    "    Retreives songs in html files and stores in a list of dicts\n",
    "    '''\n",
    "    song_list = []\n",
    "    count = 0\n",
    "    for file in html_list:\n",
    "        bs = bs_file(file)\n",
    "        songs = song_sorter(bs)\n",
    "        for song in songs:\n",
    "            count += 1\n",
    "            t, aid, w, p, at = get_song_credits(song)\n",
    "            song_dict = {}\n",
    "            song_dict['Title'] = t\n",
    "            song_dict['AID'] = aid\n",
    "            song_dict['Writers'] = w\n",
    "            song_dict['Performers'] = p\n",
    "            song_dict['Alt-Titles'] = at\n",
    "            song_list.append(song_dict)\n",
    "            if len(song_list) % 5000 == 0:\n",
    "                print('{} songs completed'.format(count))\n",
    "    return song_list"
   ]
  },
  {
   "cell_type": "markdown",
   "metadata": {},
   "source": [
    "## Retrieving HTML File List"
   ]
  },
  {
   "cell_type": "code",
   "execution_count": 5,
   "metadata": {},
   "outputs": [],
   "source": [
    "html_list = os.listdir('../data/ascap_songs/')"
   ]
  },
  {
   "cell_type": "code",
   "execution_count": 6,
   "metadata": {},
   "outputs": [
    {
     "data": {
      "text/plain": [
       "13019"
      ]
     },
     "execution_count": 6,
     "metadata": {},
     "output_type": "execute_result"
    }
   ],
   "source": [
    "len(html_list)"
   ]
  },
  {
   "cell_type": "code",
   "execution_count": 7,
   "metadata": {},
   "outputs": [
    {
     "data": {
      "text/plain": [
       "9917"
      ]
     },
     "execution_count": 7,
     "metadata": {},
     "output_type": "execute_result"
    }
   ],
   "source": [
    "html_list.index('.ipynb_checkpoints')"
   ]
  },
  {
   "cell_type": "code",
   "execution_count": 8,
   "metadata": {},
   "outputs": [
    {
     "data": {
      "text/plain": [
       "'.ipynb_checkpoints'"
      ]
     },
     "execution_count": 8,
     "metadata": {},
     "output_type": "execute_result"
    }
   ],
   "source": [
    "html_list.pop(9917)"
   ]
  },
  {
   "cell_type": "markdown",
   "metadata": {},
   "source": [
    "#### Ensuring there are no more non-html files in list"
   ]
  },
  {
   "cell_type": "code",
   "execution_count": 14,
   "metadata": {},
   "outputs": [
    {
     "data": {
      "text/plain": [
       "[0, 1, 2, 2, 2, 2, 2, 2, 2, 2]"
      ]
     },
     "execution_count": 14,
     "metadata": {},
     "output_type": "execute_result"
    }
   ],
   "source": [
    "files = [html.find('.html') for html in html_list]\n",
    "files.sort()\n",
    "files[:10]"
   ]
  },
  {
   "cell_type": "markdown",
   "metadata": {},
   "source": [
    "### Quick Function Test"
   ]
  },
  {
   "cell_type": "code",
   "execution_count": 13,
   "metadata": {},
   "outputs": [],
   "source": [
    "test = get_html_songs(html_list[0:5])"
   ]
  },
  {
   "cell_type": "code",
   "execution_count": 63,
   "metadata": {},
   "outputs": [
    {
     "data": {
      "text/plain": [
       "['BONE THUGS N HARMONY FEAT. EAZY-E.html',\n",
       " 'VESTAL AND LEE GREENWOOD.html',\n",
       " ' PETE SEEGER.html',\n",
       " 'DARIUS RUCKER FEAT JILL SCOTT.html',\n",
       " 'GARTH BROOKS.html']"
      ]
     },
     "execution_count": 63,
     "metadata": {},
     "output_type": "execute_result"
    }
   ],
   "source": [
    "html_list[0:5]"
   ]
  },
  {
   "cell_type": "code",
   "execution_count": 14,
   "metadata": {},
   "outputs": [
    {
     "data": {
      "text/plain": [
       "7"
      ]
     },
     "execution_count": 14,
     "metadata": {},
     "output_type": "execute_result"
    }
   ],
   "source": [
    "len(test)"
   ]
  },
  {
   "cell_type": "markdown",
   "metadata": {},
   "source": [
    "## Retrieving Song Results"
   ]
  },
  {
   "cell_type": "code",
   "execution_count": 72,
   "metadata": {},
   "outputs": [
    {
     "name": "stdout",
     "output_type": "stream",
     "text": [
      "5000 songs completed\n",
      "10000 songs completed\n",
      "15000 songs completed\n",
      "20000 songs completed\n",
      "25000 songs completed\n",
      "30000 songs completed\n",
      "35000 songs completed\n",
      "40000 songs completed\n",
      "45000 songs completed\n",
      "50000 songs completed\n",
      "55000 songs completed\n",
      "60000 songs completed\n",
      "65000 songs completed\n",
      "70000 songs completed\n",
      "75000 songs completed\n",
      "80000 songs completed\n",
      "85000 songs completed\n",
      "90000 songs completed\n",
      "95000 songs completed\n",
      "100000 songs completed\n",
      "105000 songs completed\n",
      "110000 songs completed\n",
      "115000 songs completed\n",
      "120000 songs completed\n",
      "125000 songs completed\n",
      "130000 songs completed\n",
      "135000 songs completed\n",
      "140000 songs completed\n",
      "145000 songs completed\n",
      "150000 songs completed\n",
      "155000 songs completed\n",
      "160000 songs completed\n",
      "165000 songs completed\n",
      "170000 songs completed\n",
      "175000 songs completed\n",
      "180000 songs completed\n",
      "185000 songs completed\n",
      "190000 songs completed\n",
      "195000 songs completed\n",
      "200000 songs completed\n",
      "205000 songs completed\n",
      "210000 songs completed\n",
      "215000 songs completed\n",
      "220000 songs completed\n",
      "225000 songs completed\n",
      "230000 songs completed\n",
      "235000 songs completed\n",
      "240000 songs completed\n",
      "245000 songs completed\n",
      "250000 songs completed\n",
      "255000 songs completed\n",
      "260000 songs completed\n",
      "265000 songs completed\n",
      "270000 songs completed\n",
      "275000 songs completed\n",
      "280000 songs completed\n",
      "285000 songs completed\n",
      "290000 songs completed\n",
      "295000 songs completed\n",
      "300000 songs completed\n",
      "305000 songs completed\n"
     ]
    }
   ],
   "source": [
    "song_list = get_html_songs(html_list)"
   ]
  },
  {
   "cell_type": "markdown",
   "metadata": {},
   "source": [
    "#### Saving `song_list` as pickle"
   ]
  },
  {
   "cell_type": "code",
   "execution_count": 73,
   "metadata": {},
   "outputs": [],
   "source": [
    "with open('../pickle/ascap_credits.pkl', 'wb') as f:\n",
    "    pickle.dump(song_list, f)"
   ]
  },
  {
   "cell_type": "markdown",
   "metadata": {},
   "source": [
    "### Examining `song_list`"
   ]
  },
  {
   "cell_type": "code",
   "execution_count": 77,
   "metadata": {},
   "outputs": [
    {
     "data": {
      "text/plain": [
       "{'Title': \"BOSSIN' UP\",\n",
       " 'AID': '886044026',\n",
       " 'Writers': [{'class': ['no-click'],\n",
       "   'data-writer': 'COLLINS BRIAN ',\n",
       "   'data-id': '0',\n",
       "   'pro': 'NS',\n",
       "   'ipi': '—'},\n",
       "  {'class': ['no-click'],\n",
       "   'data-writer': 'FERGUSON DAROLD ',\n",
       "   'data-id': '0',\n",
       "   'pro': 'NS',\n",
       "   'ipi': '—'},\n",
       "  {'class': ['no-click'],\n",
       "   'data-writer': 'KHARBOUCH KARIM ',\n",
       "   'data-id': '0',\n",
       "   'pro': 'NS',\n",
       "   'ipi': '—'},\n",
       "  {'href': 'javascript:void(0)',\n",
       "   'class': ['name'],\n",
       "   'data-writer': 'TAFT STEPAN ',\n",
       "   'data-id': '539311163',\n",
       "   'pro': 'ASCAP',\n",
       "   'ipi': '539311163'},\n",
       "  {'class': ['no-click'],\n",
       "   'data-writer': 'THOMAS JAMES ',\n",
       "   'data-id': '0',\n",
       "   'pro': 'NS',\n",
       "   'ipi': '—'}],\n",
       " 'Performers': 'KID INK',\n",
       " 'Alt-Titles': None}"
      ]
     },
     "execution_count": 77,
     "metadata": {},
     "output_type": "execute_result"
    }
   ],
   "source": [
    "song_list[129020]"
   ]
  },
  {
   "cell_type": "code",
   "execution_count": 17,
   "metadata": {},
   "outputs": [
    {
     "data": {
      "text/plain": [
       "309581"
      ]
     },
     "execution_count": 17,
     "metadata": {},
     "output_type": "execute_result"
    }
   ],
   "source": [
    "len(song_list)"
   ]
  },
  {
   "cell_type": "markdown",
   "metadata": {},
   "source": [
    "#### Loading List into DataFrame"
   ]
  },
  {
   "cell_type": "code",
   "execution_count": 78,
   "metadata": {},
   "outputs": [],
   "source": [
    "df = pd.DataFrame(data=song_list)"
   ]
  },
  {
   "cell_type": "code",
   "execution_count": 79,
   "metadata": {},
   "outputs": [
    {
     "name": "stdout",
     "output_type": "stream",
     "text": [
      "<class 'pandas.core.frame.DataFrame'>\n",
      "RangeIndex: 309581 entries, 0 to 309580\n",
      "Data columns (total 5 columns):\n",
      "AID           309581 non-null object\n",
      "Alt-Titles    94080 non-null object\n",
      "Performers    309581 non-null object\n",
      "Title         309581 non-null object\n",
      "Writers       309581 non-null object\n",
      "dtypes: object(5)\n",
      "memory usage: 11.8+ MB\n"
     ]
    }
   ],
   "source": [
    "df.info()"
   ]
  },
  {
   "cell_type": "code",
   "execution_count": 80,
   "metadata": {},
   "outputs": [
    {
     "data": {
      "text/html": [
       "<div>\n",
       "<style scoped>\n",
       "    .dataframe tbody tr th:only-of-type {\n",
       "        vertical-align: middle;\n",
       "    }\n",
       "\n",
       "    .dataframe tbody tr th {\n",
       "        vertical-align: top;\n",
       "    }\n",
       "\n",
       "    .dataframe thead th {\n",
       "        text-align: right;\n",
       "    }\n",
       "</style>\n",
       "<table border=\"1\" class=\"dataframe\">\n",
       "  <thead>\n",
       "    <tr style=\"text-align: right;\">\n",
       "      <th></th>\n",
       "      <th>AID</th>\n",
       "      <th>Alt-Titles</th>\n",
       "      <th>Performers</th>\n",
       "      <th>Title</th>\n",
       "      <th>Writers</th>\n",
       "    </tr>\n",
       "  </thead>\n",
       "  <tbody>\n",
       "    <tr>\n",
       "      <th>0</th>\n",
       "      <td>360318916</td>\n",
       "      <td>[FOE THA LOVE OF $, FOE THA LOVE OF $, FOE THA...</td>\n",
       "      <td>[BONE, BONE THUGS N HARMONY, BONE THUGS N HARM...</td>\n",
       "      <td>FOR THA LOVE OF MONEY</td>\n",
       "      <td>[{'class': ['no-click'], 'data-writer': 'CARRA...</td>\n",
       "    </tr>\n",
       "    <tr>\n",
       "      <th>1</th>\n",
       "      <td>530659306</td>\n",
       "      <td>None</td>\n",
       "      <td>[GOODMAN V, GREENWOOD AND VESTAL, GREENWOOD L,...</td>\n",
       "      <td>WE THE PEOPLE</td>\n",
       "      <td>[{'href': 'javascript:void(0)', 'class': ['nam...</td>\n",
       "    </tr>\n",
       "    <tr>\n",
       "      <th>2</th>\n",
       "      <td>334030418</td>\n",
       "      <td>[CELERY TIME]</td>\n",
       "      <td>ARLO GUTHRIE / PETE SEEGER</td>\n",
       "      <td>CELERY-TIME</td>\n",
       "      <td>[{'href': 'javascript:void(0)', 'class': ['nam...</td>\n",
       "    </tr>\n",
       "    <tr>\n",
       "      <th>3</th>\n",
       "      <td>442081954</td>\n",
       "      <td>None</td>\n",
       "      <td>ARLO GUTHRIE / PETE SEEGER</td>\n",
       "      <td>NEUTRON BOMB</td>\n",
       "      <td>[{'href': 'javascript:void(0)', 'class': ['nam...</td>\n",
       "    </tr>\n",
       "    <tr>\n",
       "      <th>4</th>\n",
       "      <td>230055482</td>\n",
       "      <td>None</td>\n",
       "      <td>[ARLO GUTHRIE / PETE SEEGER, GUTHRIE A, GUTHRI...</td>\n",
       "      <td>WILL THE CIRCLE BE UNBROKEN</td>\n",
       "      <td>[{'href': 'javascript:void(0)', 'class': ['nam...</td>\n",
       "    </tr>\n",
       "  </tbody>\n",
       "</table>\n",
       "</div>"
      ],
      "text/plain": [
       "         AID                                         Alt-Titles  \\\n",
       "0  360318916  [FOE THA LOVE OF $, FOE THA LOVE OF $, FOE THA...   \n",
       "1  530659306                                               None   \n",
       "2  334030418                                      [CELERY TIME]   \n",
       "3  442081954                                               None   \n",
       "4  230055482                                               None   \n",
       "\n",
       "                                          Performers  \\\n",
       "0  [BONE, BONE THUGS N HARMONY, BONE THUGS N HARM...   \n",
       "1  [GOODMAN V, GREENWOOD AND VESTAL, GREENWOOD L,...   \n",
       "2                         ARLO GUTHRIE / PETE SEEGER   \n",
       "3                         ARLO GUTHRIE / PETE SEEGER   \n",
       "4  [ARLO GUTHRIE / PETE SEEGER, GUTHRIE A, GUTHRI...   \n",
       "\n",
       "                         Title  \\\n",
       "0        FOR THA LOVE OF MONEY   \n",
       "1                WE THE PEOPLE   \n",
       "2                  CELERY-TIME   \n",
       "3                 NEUTRON BOMB   \n",
       "4  WILL THE CIRCLE BE UNBROKEN   \n",
       "\n",
       "                                             Writers  \n",
       "0  [{'class': ['no-click'], 'data-writer': 'CARRA...  \n",
       "1  [{'href': 'javascript:void(0)', 'class': ['nam...  \n",
       "2  [{'href': 'javascript:void(0)', 'class': ['nam...  \n",
       "3  [{'href': 'javascript:void(0)', 'class': ['nam...  \n",
       "4  [{'href': 'javascript:void(0)', 'class': ['nam...  "
      ]
     },
     "execution_count": 80,
     "metadata": {},
     "output_type": "execute_result"
    }
   ],
   "source": [
    "df.head()"
   ]
  },
  {
   "cell_type": "markdown",
   "metadata": {},
   "source": [
    "#### Deleting potential duplicates\n",
    "\n",
    "Duplicate 'AID' records should be the only song duplicates"
   ]
  },
  {
   "cell_type": "code",
   "execution_count": 89,
   "metadata": {},
   "outputs": [
    {
     "name": "stdout",
     "output_type": "stream",
     "text": [
      "<class 'pandas.core.frame.DataFrame'>\n",
      "Int64Index: 45406 entries, 534 to 309580\n",
      "Data columns (total 5 columns):\n",
      "AID           45406 non-null object\n",
      "Alt-Titles    28281 non-null object\n",
      "Performers    45406 non-null object\n",
      "Title         45406 non-null object\n",
      "Writers       45406 non-null object\n",
      "dtypes: object(5)\n",
      "memory usage: 2.1+ MB\n"
     ]
    }
   ],
   "source": [
    "df[df.duplicated('AID')].info()"
   ]
  },
  {
   "cell_type": "code",
   "execution_count": 86,
   "metadata": {},
   "outputs": [
    {
     "data": {
      "text/plain": [
       "309581"
      ]
     },
     "execution_count": 86,
     "metadata": {},
     "output_type": "execute_result"
    }
   ],
   "source": [
    "len(dupes)"
   ]
  },
  {
   "cell_type": "code",
   "execution_count": null,
   "metadata": {},
   "outputs": [],
   "source": []
  }
 ],
 "metadata": {
  "kernelspec": {
   "display_name": "Python 3",
   "language": "python",
   "name": "python3"
  },
  "language_info": {
   "codemirror_mode": {
    "name": "ipython",
    "version": 3
   },
   "file_extension": ".py",
   "mimetype": "text/x-python",
   "name": "python",
   "nbconvert_exporter": "python",
   "pygments_lexer": "ipython3",
   "version": "3.6.5"
  }
 },
 "nbformat": 4,
 "nbformat_minor": 2
}
