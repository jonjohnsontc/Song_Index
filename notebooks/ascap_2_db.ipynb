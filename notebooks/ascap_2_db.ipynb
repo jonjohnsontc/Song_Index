{
 "cells": [
  {
   "cell_type": "markdown",
   "metadata": {},
   "source": [
    "# Collecting ASCAP Info + Storing in DB\n",
    "\n",
    "**Description**: Pulling necessary song info from the ASCAP HTML files & storing in PostreSQL db"
   ]
  },
  {
   "cell_type": "code",
   "execution_count": 1,
   "metadata": {},
   "outputs": [],
   "source": [
    "import json\n",
    "import os\n",
    "import pickle\n",
    "import re\n",
    "\n",
    "from bs4 import BeautifulSoup, element\n",
    "from sqlalchemy import create_engine\n",
    "\n",
    "import pandas as pd"
   ]
  },
  {
   "cell_type": "markdown",
   "metadata": {},
   "source": [
    "## Loading in HTML File\n",
    "\n",
    "I'll need to figure out how to retrieve all of the corresponding song details from each HTML file that I scraped from ASCAP>"
   ]
  },
  {
   "cell_type": "code",
   "execution_count": 10,
   "metadata": {},
   "outputs": [],
   "source": [
    "with open('../data/ascap_songs/CHIEF KEEF.html', 'rb+') as f:\n",
    "    test_html = BeautifulSoup(f, 'lxml')"
   ]
  },
  {
   "cell_type": "markdown",
   "metadata": {},
   "source": [
    "### Retrieving Song Cards\n",
    "\n",
    "My current thought is that I should divvy these results into a list of `dict`s, which should allow me to easily toss into a dataframe or db afterwards."
   ]
  },
  {
   "cell_type": "code",
   "execution_count": 11,
   "metadata": {},
   "outputs": [],
   "source": [
    "test_cards = test_html.find_all('div', {'class':'card hyphenate card--expanded'})"
   ]
  },
  {
   "cell_type": "markdown",
   "metadata": {},
   "source": [
    "64 songs indexed for Chief Keef"
   ]
  },
  {
   "cell_type": "code",
   "execution_count": 12,
   "metadata": {},
   "outputs": [
    {
     "data": {
      "text/plain": [
       "64"
      ]
     },
     "execution_count": 12,
     "metadata": {},
     "output_type": "execute_result"
    }
   ],
   "source": [
    "len(test_cards)"
   ]
  },
  {
   "cell_type": "markdown",
   "metadata": {},
   "source": [
    "##### The title and \"Total Current ASCAP Share\""
   ]
  },
  {
   "cell_type": "code",
   "execution_count": 13,
   "metadata": {},
   "outputs": [
    {
     "data": {
      "text/plain": [
       "['ADAM & EVE',\n",
       " '                ',\n",
       " '                    ',\n",
       " '                    Total Current ASCAP Share:',\n",
       " '                    25%']"
      ]
     },
     "execution_count": 13,
     "metadata": {},
     "output_type": "execute_result"
    }
   ],
   "source": [
    "test_cards[0].find('div', {'class':'card__header__title'}).text.strip().split(sep='\\n')"
   ]
  },
  {
   "cell_type": "markdown",
   "metadata": {},
   "source": [
    "##### Just the song title"
   ]
  },
  {
   "cell_type": "code",
   "execution_count": 14,
   "metadata": {},
   "outputs": [
    {
     "data": {
      "text/plain": [
       "'ADAM & EVE'"
      ]
     },
     "execution_count": 14,
     "metadata": {},
     "output_type": "execute_result"
    }
   ],
   "source": [
    "test_cards[0].find('div', {'class':'card__header__title'}).text.strip().split(sep='\\n')[0]"
   ]
  },
  {
   "cell_type": "markdown",
   "metadata": {},
   "source": [
    "##### Writers"
   ]
  },
  {
   "cell_type": "code",
   "execution_count": 15,
   "metadata": {},
   "outputs": [],
   "source": [
    "writers_row = test_cards[0].find_all('tr', {'class':'writers__row'})"
   ]
  },
  {
   "cell_type": "code",
   "execution_count": 16,
   "metadata": {},
   "outputs": [],
   "source": [
    "writer_list = []\n",
    "\n",
    "for writer in writers_row:\n",
    "    if isinstance(writer.find('a'), element.Tag):\n",
    "        writer_list.append((writer.find('a'), writer.find_all('td', {'class':'sup-col'})))\n",
    "    elif isinstance(writer.find('span'), element.Tag):\n",
    "        writer_list.append((writer.find('span'), writer.find_all('td', {'class':'sup-col'})))\n",
    "    else:\n",
    "        writer_list.append('cannot find writer')\n",
    "        \n",
    "writer_info = []\n",
    "\n",
    "for writer, writer_ids in writer_list:\n",
    "    b = writer.attrs\n",
    "    b['pro'] = writer_ids[0].text.strip()\n",
    "    b['ipi'] = writer_ids[1].text.strip()\n",
    "    writer_info.append(b)"
   ]
  },
  {
   "cell_type": "code",
   "execution_count": 17,
   "metadata": {},
   "outputs": [
    {
     "data": {
      "text/plain": [
       "{'data-writer': 'MCKINNEY REGINALD CHRISTOPHER',\n",
       " 'data-id': '652264355',\n",
       " 'pro': 'ASCAP',\n",
       " 'ipi': '652264355'}"
      ]
     },
     "execution_count": 17,
     "metadata": {},
     "output_type": "execute_result"
    }
   ],
   "source": [
    "writer_list[0][0].attrs.pop('href')\n",
    "writer_list[0][0].attrs.pop('class')\n",
    "writer_list[0][0].attrs"
   ]
  },
  {
   "cell_type": "code",
   "execution_count": 18,
   "metadata": {},
   "outputs": [
    {
     "data": {
      "text/plain": [
       "[{'data-writer': 'MCKINNEY REGINALD CHRISTOPHER',\n",
       "  'data-id': '652264355',\n",
       "  'pro': 'ASCAP',\n",
       "  'ipi': '652264355'},\n",
       " {'class': ['no-click'],\n",
       "  'data-writer': 'WRITER UNKNOWN  ',\n",
       "  'data-id': '0',\n",
       "  'pro': 'NS',\n",
       "  'ipi': '—'}]"
      ]
     },
     "execution_count": 18,
     "metadata": {},
     "output_type": "execute_result"
    }
   ],
   "source": [
    "writer_info"
   ]
  },
  {
   "cell_type": "markdown",
   "metadata": {},
   "source": [
    "Performers"
   ]
  },
  {
   "cell_type": "code",
   "execution_count": 19,
   "metadata": {},
   "outputs": [],
   "source": [
    "performers = test_cards[0].find_all('div', {'class':'creditors__list'})"
   ]
  },
  {
   "cell_type": "code",
   "execution_count": 20,
   "metadata": {},
   "outputs": [
    {
     "data": {
      "text/plain": [
       "'CHIEF KEEF'"
      ]
     },
     "execution_count": 20,
     "metadata": {},
     "output_type": "execute_result"
    }
   ],
   "source": [
    "performers[0].text.strip('\\n')"
   ]
  },
  {
   "cell_type": "markdown",
   "metadata": {},
   "source": [
    "Retreive one or multiple performers per song"
   ]
  },
  {
   "cell_type": "code",
   "execution_count": 21,
   "metadata": {},
   "outputs": [],
   "source": [
    "if performers[0].text.count('\\n') > 2:\n",
    "    performers[0].text.strip().split(sep='\\n')\n",
    "else:\n",
    "    performers[0].text.strip('\\n')"
   ]
  },
  {
   "cell_type": "markdown",
   "metadata": {},
   "source": [
    "HTML Title"
   ]
  },
  {
   "cell_type": "markdown",
   "metadata": {},
   "source": [
    "### Defining Functions to Sort Through HTML Files\n",
    "\n",
    "Here's how I'll take the song information that I need and output it into a list of `dict`s"
   ]
  },
  {
   "cell_type": "code",
   "execution_count": 12,
   "metadata": {},
   "outputs": [],
   "source": [
    "def bs_file(file):\n",
    "    '''\n",
    "    Opens file and returns beautiful soup object\n",
    "    '''\n",
    "    if 'html' in file: \n",
    "        with open('../data/ascap_songs/{}'.format(file), 'rb') as f:\n",
    "            bs = BeautifulSoup(f, 'lxml')\n",
    "    else:\n",
    "        \n",
    "    return bs\n",
    "\n",
    "def song_sorter(bs):\n",
    "    '''\n",
    "    Iterates through songs in bs object and returns cards of all songs\n",
    "    '''\n",
    "    results = []\n",
    "    if len(bs.find_all('div', {'class':'card hyphenate card--expanded'})) > 0:\n",
    "        results.extend(bs.find_all('div', {'class':'card hyphenate card--expanded'}))\n",
    "    if len(bs.find_all('div', {'class':'card card--expanded hyphenate'})) > 0:\n",
    "        results.extend(bs.find_all('div', {'class':'card card--expanded hyphenate'}))\n",
    "    return results\n",
    "                                   \n",
    "def get_song_credits(card):\n",
    "    '''\n",
    "    Retrieves song credits from an individual song card\n",
    "    '''   \n",
    "    title = card.find('div', {'class':'card__header__title'}).text.strip().split(sep='\\n')[0]\n",
    "    writers_row = card.find_all('tr', {'class':'writers__row'})\n",
    "    writer_list = []\n",
    "    \n",
    "    # Creating writer list for further filtering\n",
    "    for writer in writers_row:\n",
    "        if isinstance(writer.find('a'), element.Tag):\n",
    "            writer_list.append((writer.find('a'), writer.find_all('td', {'class':'sup-col'})))\n",
    "        elif isinstance(writer.find('span'), element.Tag):\n",
    "            writer_list.append((writer.find('span'), writer.find_all('td', {'class':'sup-col'})))\n",
    "        else:\n",
    "            writer_list.append('cannot find writer')\n",
    "    writers = []\n",
    "    for writer, writer_ids in writer_list:\n",
    "        b = writer.attrs\n",
    "        b['pro'] = writer_ids[0].text.strip()\n",
    "        b['ipi'] = writer_ids[1].text.strip()\n",
    "        writers.append(b)\n",
    "    \n",
    "    # Grabbing performers\n",
    "    performers = card.find_all('div', {'class':'creditors__list'})\n",
    "    if performers[0].text.count('\\n') > 2:\n",
    "        artists = performers[0].text.strip().split(sep='\\n')\n",
    "    else:\n",
    "        artists = performers[0].text.strip('\\n')\n",
    "        \n",
    "    # Grabbing alternate titles\n",
    "    try:\n",
    "        if performers[1].text.count('\\n'):\n",
    "            alt_titles = performers[1].text.strip().split(sep='\\n')\n",
    "        else:\n",
    "            alt_titles = performers[1].text.strip('\\n')\n",
    "    except IndexError:\n",
    "        alt_titles = None\n",
    "        \n",
    "    return title, writers, artists, alt_titles"
   ]
  },
  {
   "cell_type": "code",
   "execution_count": 54,
   "metadata": {},
   "outputs": [],
   "source": [
    "ck = song_sorter(test_html)\n",
    "t, w, a, at = get_song_credits(ck[12])"
   ]
  },
  {
   "cell_type": "code",
   "execution_count": 46,
   "metadata": {},
   "outputs": [
    {
     "data": {
      "text/plain": [
       "64"
      ]
     },
     "execution_count": 46,
     "metadata": {},
     "output_type": "execute_result"
    }
   ],
   "source": [
    "len(ck)"
   ]
  },
  {
   "cell_type": "code",
   "execution_count": 15,
   "metadata": {},
   "outputs": [],
   "source": [
    "def get_html_songs(html_list):\n",
    "    '''\n",
    "    Retreives songs in html files and stores in a list of dicts\n",
    "    '''\n",
    "    song_list = []\n",
    "    count = 0\n",
    "    for file in html_list:\n",
    "        bs = bs_file(file)\n",
    "        songs = song_sorter(bs)\n",
    "        for song in songs:\n",
    "            count += 1\n",
    "            t, w, p, at = get_song_credits(song)\n",
    "            song_dict = {}\n",
    "            song_dict['Title'] = t\n",
    "            song_dict['Writers'] = w\n",
    "            song_dict['Performers'] = p\n",
    "            song_dict['Alt-Titles'] = at\n",
    "            song_list.append(song_dict)\n",
    "            if len(song_list) % 5000 == 0:\n",
    "                print('{} songs completed'.format(count))\n",
    "    return song_list"
   ]
  },
  {
   "cell_type": "markdown",
   "metadata": {},
   "source": [
    "## Retrieving HTML File List"
   ]
  },
  {
   "cell_type": "code",
   "execution_count": 7,
   "metadata": {},
   "outputs": [],
   "source": [
    "html_list = os.listdir('../data/ascap_songs/')"
   ]
  },
  {
   "cell_type": "code",
   "execution_count": 8,
   "metadata": {},
   "outputs": [
    {
     "data": {
      "text/plain": [
       "13019"
      ]
     },
     "execution_count": 8,
     "metadata": {},
     "output_type": "execute_result"
    }
   ],
   "source": [
    "len(html_list)"
   ]
  },
  {
   "cell_type": "code",
   "execution_count": 13,
   "metadata": {},
   "outputs": [],
   "source": [
    "test = get_html_songs(html_list[0:5])"
   ]
  },
  {
   "cell_type": "code",
   "execution_count": 63,
   "metadata": {},
   "outputs": [
    {
     "data": {
      "text/plain": [
       "['BONE THUGS N HARMONY FEAT. EAZY-E.html',\n",
       " 'VESTAL AND LEE GREENWOOD.html',\n",
       " ' PETE SEEGER.html',\n",
       " 'DARIUS RUCKER FEAT JILL SCOTT.html',\n",
       " 'GARTH BROOKS.html']"
      ]
     },
     "execution_count": 63,
     "metadata": {},
     "output_type": "execute_result"
    }
   ],
   "source": [
    "html_list[0:5]"
   ]
  },
  {
   "cell_type": "code",
   "execution_count": 14,
   "metadata": {},
   "outputs": [
    {
     "data": {
      "text/plain": [
       "7"
      ]
     },
     "execution_count": 14,
     "metadata": {},
     "output_type": "execute_result"
    }
   ],
   "source": [
    "len(test)"
   ]
  },
  {
   "cell_type": "markdown",
   "metadata": {},
   "source": [
    "## Retrieving Song Results"
   ]
  },
  {
   "cell_type": "code",
   "execution_count": 27,
   "metadata": {},
   "outputs": [
    {
     "data": {
      "text/plain": [
       "9917"
      ]
     },
     "execution_count": 27,
     "metadata": {},
     "output_type": "execute_result"
    }
   ],
   "source": [
    "html_list.index('.ipynb_checkpoints')"
   ]
  },
  {
   "cell_type": "code",
   "execution_count": 29,
   "metadata": {},
   "outputs": [
    {
     "data": {
      "text/plain": [
       "'.ipynb_checkpoints'"
      ]
     },
     "execution_count": 29,
     "metadata": {},
     "output_type": "execute_result"
    }
   ],
   "source": [
    "html_list.pop(9917)"
   ]
  },
  {
   "cell_type": "code",
   "execution_count": 16,
   "metadata": {},
   "outputs": [
    {
     "name": "stdout",
     "output_type": "stream",
     "text": [
      "5000 songs completed\n",
      "10000 songs completed\n",
      "15000 songs completed\n",
      "20000 songs completed\n",
      "25000 songs completed\n",
      "30000 songs completed\n",
      "35000 songs completed\n",
      "40000 songs completed\n",
      "45000 songs completed\n",
      "50000 songs completed\n",
      "55000 songs completed\n",
      "60000 songs completed\n",
      "65000 songs completed\n",
      "70000 songs completed\n",
      "75000 songs completed\n",
      "80000 songs completed\n",
      "85000 songs completed\n",
      "90000 songs completed\n",
      "95000 songs completed\n",
      "100000 songs completed\n",
      "105000 songs completed\n",
      "110000 songs completed\n",
      "115000 songs completed\n",
      "120000 songs completed\n",
      "125000 songs completed\n",
      "130000 songs completed\n",
      "135000 songs completed\n",
      "140000 songs completed\n",
      "145000 songs completed\n",
      "150000 songs completed\n",
      "155000 songs completed\n",
      "160000 songs completed\n",
      "165000 songs completed\n",
      "170000 songs completed\n",
      "175000 songs completed\n",
      "180000 songs completed\n",
      "185000 songs completed\n",
      "190000 songs completed\n",
      "195000 songs completed\n",
      "200000 songs completed\n",
      "205000 songs completed\n",
      "210000 songs completed\n",
      "215000 songs completed\n",
      "220000 songs completed\n",
      "225000 songs completed\n",
      "230000 songs completed\n"
     ]
    },
    {
     "ename": "IsADirectoryError",
     "evalue": "[Errno 21] Is a directory: '../data/ascap_songs/.ipynb_checkpoints'",
     "output_type": "error",
     "traceback": [
      "\u001b[0;31m---------------------------------------------------------------------------\u001b[0m",
      "\u001b[0;31mIsADirectoryError\u001b[0m                         Traceback (most recent call last)",
      "\u001b[0;32m<ipython-input-16-29f4180e51da>\u001b[0m in \u001b[0;36m<module>\u001b[0;34m\u001b[0m\n\u001b[0;32m----> 1\u001b[0;31m \u001b[0msong_list\u001b[0m \u001b[0;34m=\u001b[0m \u001b[0mget_html_songs\u001b[0m\u001b[0;34m(\u001b[0m\u001b[0mhtml_list\u001b[0m\u001b[0;34m)\u001b[0m\u001b[0;34m\u001b[0m\u001b[0m\n\u001b[0m",
      "\u001b[0;32m<ipython-input-15-49d5c4ff40eb>\u001b[0m in \u001b[0;36mget_html_songs\u001b[0;34m(html_list)\u001b[0m\n\u001b[1;32m      6\u001b[0m     \u001b[0mcount\u001b[0m \u001b[0;34m=\u001b[0m \u001b[0;36m0\u001b[0m\u001b[0;34m\u001b[0m\u001b[0m\n\u001b[1;32m      7\u001b[0m     \u001b[0;32mfor\u001b[0m \u001b[0mfile\u001b[0m \u001b[0;32min\u001b[0m \u001b[0mhtml_list\u001b[0m\u001b[0;34m:\u001b[0m\u001b[0;34m\u001b[0m\u001b[0m\n\u001b[0;32m----> 8\u001b[0;31m         \u001b[0mbs\u001b[0m \u001b[0;34m=\u001b[0m \u001b[0mbs_file\u001b[0m\u001b[0;34m(\u001b[0m\u001b[0mfile\u001b[0m\u001b[0;34m)\u001b[0m\u001b[0;34m\u001b[0m\u001b[0m\n\u001b[0m\u001b[1;32m      9\u001b[0m         \u001b[0msongs\u001b[0m \u001b[0;34m=\u001b[0m \u001b[0msong_sorter\u001b[0m\u001b[0;34m(\u001b[0m\u001b[0mbs\u001b[0m\u001b[0;34m)\u001b[0m\u001b[0;34m\u001b[0m\u001b[0m\n\u001b[1;32m     10\u001b[0m         \u001b[0;32mfor\u001b[0m \u001b[0msong\u001b[0m \u001b[0;32min\u001b[0m \u001b[0msongs\u001b[0m\u001b[0;34m:\u001b[0m\u001b[0;34m\u001b[0m\u001b[0m\n",
      "\u001b[0;32m<ipython-input-12-610f0ce76785>\u001b[0m in \u001b[0;36mbs_file\u001b[0;34m(file)\u001b[0m\n\u001b[1;32m      3\u001b[0m     \u001b[0mOpens\u001b[0m \u001b[0mfile\u001b[0m \u001b[0;32mand\u001b[0m \u001b[0mreturns\u001b[0m \u001b[0mbeautiful\u001b[0m \u001b[0msoup\u001b[0m \u001b[0mobject\u001b[0m\u001b[0;34m\u001b[0m\u001b[0m\n\u001b[1;32m      4\u001b[0m     '''\n\u001b[0;32m----> 5\u001b[0;31m     \u001b[0;32mwith\u001b[0m \u001b[0mopen\u001b[0m\u001b[0;34m(\u001b[0m\u001b[0;34m'../data/ascap_songs/{}'\u001b[0m\u001b[0;34m.\u001b[0m\u001b[0mformat\u001b[0m\u001b[0;34m(\u001b[0m\u001b[0mfile\u001b[0m\u001b[0;34m)\u001b[0m\u001b[0;34m,\u001b[0m \u001b[0;34m'rb'\u001b[0m\u001b[0;34m)\u001b[0m \u001b[0;32mas\u001b[0m \u001b[0mf\u001b[0m\u001b[0;34m:\u001b[0m\u001b[0;34m\u001b[0m\u001b[0m\n\u001b[0m\u001b[1;32m      6\u001b[0m         \u001b[0mbs\u001b[0m \u001b[0;34m=\u001b[0m \u001b[0mBeautifulSoup\u001b[0m\u001b[0;34m(\u001b[0m\u001b[0mf\u001b[0m\u001b[0;34m,\u001b[0m \u001b[0;34m'lxml'\u001b[0m\u001b[0;34m)\u001b[0m\u001b[0;34m\u001b[0m\u001b[0m\n\u001b[1;32m      7\u001b[0m         \u001b[0;32mreturn\u001b[0m \u001b[0mbs\u001b[0m\u001b[0;34m\u001b[0m\u001b[0m\n",
      "\u001b[0;31mIsADirectoryError\u001b[0m: [Errno 21] Is a directory: '../data/ascap_songs/.ipynb_checkpoints'"
     ]
    }
   ],
   "source": [
    "song_list = get_html_songs(html_list)"
   ]
  },
  {
   "cell_type": "markdown",
   "metadata": {},
   "source": [
    ":0((("
   ]
  }
 ],
 "metadata": {
  "kernelspec": {
   "display_name": "Python 3",
   "language": "python",
   "name": "python3"
  },
  "language_info": {
   "codemirror_mode": {
    "name": "ipython",
    "version": 3
   },
   "file_extension": ".py",
   "mimetype": "text/x-python",
   "name": "python",
   "nbconvert_exporter": "python",
   "pygments_lexer": "ipython3",
   "version": "3.6.5"
  }
 },
 "nbformat": 4,
 "nbformat_minor": 2
}
