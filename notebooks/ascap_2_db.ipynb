{
 "cells": [
  {
   "cell_type": "markdown",
   "metadata": {},
   "source": [
    "# Collecting ASCAP Info + Storing in DB\n",
    "\n",
    "**Description**: Pulling necessary song info from the ASCAP HTML files & storing in PostreSQL db"
   ]
  },
  {
   "cell_type": "code",
   "execution_count": 1,
   "metadata": {},
   "outputs": [],
   "source": [
    "import json\n",
    "import pickle\n",
    "import re\n",
    "\n",
    "from bs4 import element\n",
    "from bs4 import BeautifulSoup\n",
    "from sqlalchemy import create_engine\n",
    "\n",
    "import pandas as pd"
   ]
  },
  {
   "cell_type": "markdown",
   "metadata": {},
   "source": [
    "## Test-Run: Loading in HTML File"
   ]
  },
  {
   "cell_type": "code",
   "execution_count": 3,
   "metadata": {},
   "outputs": [],
   "source": [
    "with open('../data/ascap_songs/CHIEF KEEF.html', 'rb+') as f:\n",
    "    test_html = BeautifulSoup(f, 'lxml')"
   ]
  },
  {
   "cell_type": "markdown",
   "metadata": {},
   "source": [
    "### Retrieving Song Cards\n",
    "\n",
    "My current thought is that I should divvy these results into a list of `dict`s, which should allow me to easily toss into a dataframe or db afterwards."
   ]
  },
  {
   "cell_type": "code",
   "execution_count": 5,
   "metadata": {},
   "outputs": [],
   "source": [
    "test_cards = test_html.find_all('div', {'class':'card hyphenate card--expanded'})"
   ]
  },
  {
   "cell_type": "markdown",
   "metadata": {},
   "source": [
    "64 songs indexed for Chief Keef"
   ]
  },
  {
   "cell_type": "code",
   "execution_count": 7,
   "metadata": {},
   "outputs": [
    {
     "data": {
      "text/plain": [
       "64"
      ]
     },
     "execution_count": 7,
     "metadata": {},
     "output_type": "execute_result"
    }
   ],
   "source": [
    "len(test_cards)"
   ]
  },
  {
   "cell_type": "markdown",
   "metadata": {},
   "source": [
    "##### The title and \"Total Current ASCAP Share\""
   ]
  },
  {
   "cell_type": "code",
   "execution_count": 17,
   "metadata": {},
   "outputs": [
    {
     "data": {
      "text/plain": [
       "['ADAM & EVE',\n",
       " '                ',\n",
       " '                    ',\n",
       " '                    Total Current ASCAP Share:',\n",
       " '                    25%']"
      ]
     },
     "execution_count": 17,
     "metadata": {},
     "output_type": "execute_result"
    }
   ],
   "source": [
    "test_cards[0].find('div', {'class':'card__header__title'}).text.strip().split(sep='\\n')"
   ]
  },
  {
   "cell_type": "markdown",
   "metadata": {},
   "source": [
    "##### Just the song title"
   ]
  },
  {
   "cell_type": "code",
   "execution_count": 18,
   "metadata": {},
   "outputs": [
    {
     "data": {
      "text/plain": [
       "'ADAM & EVE'"
      ]
     },
     "execution_count": 18,
     "metadata": {},
     "output_type": "execute_result"
    }
   ],
   "source": [
    "test_cards[0].find('div', {'class':'card__header__title'}).text.strip().split(sep='\\n')[0]"
   ]
  },
  {
   "cell_type": "markdown",
   "metadata": {},
   "source": [
    "##### Writers"
   ]
  },
  {
   "cell_type": "code",
   "execution_count": 19,
   "metadata": {},
   "outputs": [],
   "source": [
    "writers_row = test_cards[0].find_all('tr', {'class':'writers__row'})"
   ]
  },
  {
   "cell_type": "code",
   "execution_count": 34,
   "metadata": {},
   "outputs": [],
   "source": [
    "writer_list = []\n",
    "\n",
    "for writer in writers_row:\n",
    "    if isinstance(writer.find('a'), element.Tag):\n",
    "        writer_list.append((writer.find('a'), writer.find_all('td', {'class':'sup-col'})))\n",
    "    elif isinstance(writer.find('span'), element.Tag):\n",
    "        writer_list.append((writer.find('span'), writer.find_all('td', {'class':'sup-col'})))\n",
    "    else:\n",
    "        writer_list.append('cannot find writer')\n",
    "        \n",
    "writer_info = []\n",
    "\n",
    "for writer, writer_ids in writer_list:\n",
    "    b = writer.attrs\n",
    "    b['pro'] = writer_ids[0].text.strip()\n",
    "    b['ipi'] = writer_ids[1].text.strip()\n",
    "    writer_info.append(b)"
   ]
  },
  {
   "cell_type": "code",
   "execution_count": 50,
   "metadata": {},
   "outputs": [
    {
     "data": {
      "text/plain": [
       "{'data-writer': 'MCKINNEY REGINALD CHRISTOPHER',\n",
       " 'data-id': '652264355',\n",
       " 'pro': 'ASCAP',\n",
       " 'ipi': '652264355'}"
      ]
     },
     "execution_count": 50,
     "metadata": {},
     "output_type": "execute_result"
    }
   ],
   "source": [
    "writer_list[0][0].attrs.pop('href')\n",
    "writer_list[0][0].attrs.pop('class')\n",
    "writer_list[0][0].attrs"
   ]
  },
  {
   "cell_type": "code",
   "execution_count": 36,
   "metadata": {},
   "outputs": [
    {
     "data": {
      "text/plain": [
       "[{'href': 'javascript:void(0)',\n",
       "  'class': ['name'],\n",
       "  'data-writer': 'MCKINNEY REGINALD CHRISTOPHER',\n",
       "  'data-id': '652264355',\n",
       "  'pro': 'ASCAP',\n",
       "  'ipi': '652264355'},\n",
       " {'class': ['no-click'],\n",
       "  'data-writer': 'WRITER UNKNOWN  ',\n",
       "  'data-id': '0',\n",
       "  'pro': 'NS',\n",
       "  'ipi': '—'}]"
      ]
     },
     "execution_count": 36,
     "metadata": {},
     "output_type": "execute_result"
    }
   ],
   "source": [
    "writer_info"
   ]
  },
  {
   "cell_type": "markdown",
   "metadata": {},
   "source": [
    "Performers"
   ]
  },
  {
   "cell_type": "code",
   "execution_count": 73,
   "metadata": {},
   "outputs": [],
   "source": [
    "performers = test_cards[0].find_all('div', {'class':'creditors__list'})"
   ]
  },
  {
   "cell_type": "code",
   "execution_count": 74,
   "metadata": {},
   "outputs": [
    {
     "data": {
      "text/plain": [
       "'CHIEF KEEF'"
      ]
     },
     "execution_count": 74,
     "metadata": {},
     "output_type": "execute_result"
    }
   ],
   "source": [
    "performers[0].text.strip('\\n')"
   ]
  },
  {
   "cell_type": "markdown",
   "metadata": {},
   "source": [
    "Retreive one or multiple performers per song"
   ]
  },
  {
   "cell_type": "code",
   "execution_count": 78,
   "metadata": {},
   "outputs": [
    {
     "ename": "IndexError",
     "evalue": "list index out of range",
     "output_type": "error",
     "traceback": [
      "\u001b[0;31m---------------------------------------------------------------------------\u001b[0m",
      "\u001b[0;31mIndexError\u001b[0m                                Traceback (most recent call last)",
      "\u001b[0;32m<ipython-input-78-be379996a12e>\u001b[0m in \u001b[0;36m<module>\u001b[0;34m\u001b[0m\n\u001b[0;32m----> 1\u001b[0;31m \u001b[0mperformers\u001b[0m\u001b[0;34m[\u001b[0m\u001b[0;36m1\u001b[0m\u001b[0;34m]\u001b[0m\u001b[0;34m\u001b[0m\u001b[0m\n\u001b[0m",
      "\u001b[0;31mIndexError\u001b[0m: list index out of range"
     ]
    }
   ],
   "source": [
    "# performers[1]"
   ]
  },
  {
   "cell_type": "code",
   "execution_count": 76,
   "metadata": {},
   "outputs": [],
   "source": [
    "if performers[0].text.count('\\n') > 2:\n",
    "    performers[0].text.strip().split(sep='\\n')\n",
    "else:\n",
    "    performers[0].text.strip('\\n')"
   ]
  },
  {
   "cell_type": "markdown",
   "metadata": {},
   "source": [
    "HTML Title"
   ]
  },
  {
   "cell_type": "code",
   "execution_count": 81,
   "metadata": {},
   "outputs": [],
   "source": [
    "def bs_file(file):\n",
    "    '''\n",
    "    Opens file and returns beautiful soup object\n",
    "    '''\n",
    "    with open('../{}'.format(file), 'rb') as f:\n",
    "        bs = BeautifulSoup(f, 'lxml')\n",
    "        return bs\n",
    "\n",
    "def song_sorter(bs):\n",
    "    '''\n",
    "    Iterates through songs in bs object and returns cards of all songs\n",
    "    '''\n",
    "    cards = bs.find_all('div', {'class':'card hyphenate card--expanded'})\n",
    "    for i in range(len(cards)):\n",
    "        get_song_credits(cards[i])\n",
    "\n",
    "def get_song_credits(card):\n",
    "    '''\n",
    "    Retrieves song credits from an individual song card\n",
    "    '''   \n",
    "    title = cardtest_cards[0].find('div', {'class':'card__header__title'}).text.strip().split(sep='\\n')[0]\n",
    "    writers_row = test_cards[0].find_all('tr', {'class':'writers__row'})\n",
    "    writer_list = []\n",
    "    \n",
    "    # Creating writer list for further filtering\n",
    "    for writer in writers_row:\n",
    "        if isinstance(writer.find('a'), element.Tag):\n",
    "            writer_list.append((writer.find('a'), writer.find_all('td', {'class':'sup-col'})))\n",
    "        elif isinstance(writer.find('span'), element.Tag):\n",
    "            writer_list.append((writer.find('span'), writer.find_all('td', {'class':'sup-col'})))\n",
    "        else:\n",
    "            writer_list.append('cannot find writer')\n",
    "    writers = []\n",
    "    for writer, writer_ids in writer_list:\n",
    "        b = writer.attrs\n",
    "        \n",
    "        # removing extraeneous fields\n",
    "        pl = ['href', 'class']\n",
    "        [b.pop(p) for p in pl]\n",
    "        b['pro'] = writer_ids[0].text.strip()\n",
    "        b['ipi'] = writer_ids[1].text.strip()\n",
    "        writers.append(b)\n",
    "    \n",
    "    # Grabbing performers\n",
    "    performers = test_cards[0].find_all('div', {'class':'creditors__list'})\n",
    "    if performers[0].text.count('\\n') > 2:\n",
    "        pers = performers[0].text.strip().split(sep='\\n')\n",
    "    else:\n",
    "        pers = performers[0].text.strip('\\n')\n",
    "        \n",
    "    # Grabbing alternate titles\n",
    "    try:\n",
    "        if performers[1].text.count('\\n'):\n",
    "            alt_titles = performers[1].text.strip().split(sep='\\n')\n",
    "        else:\n",
    "            alt_titles = performers[1].text.strip('\\n')\n",
    "    except IndexError:\n",
    "        alt_titles = None\n",
    "        \n",
    "    return title, writers, pers, alt_titles"
   ]
  },
  {
   "cell_type": "code",
   "execution_count": 82,
   "metadata": {},
   "outputs": [],
   "source": [
    "def get_html_songs(html_list):\n",
    "    '''\n",
    "    Retreives songs in html files and stores in a list of dicts\n",
    "    '''\n",
    "    song_list = []\n",
    "    for file in html_list:\n",
    "        bs = bs_file(file)\n",
    "        songs = song_sorter(bs)\n",
    "        for song in songs:\n",
    "            t, w, p, at = get_song_credits(song)\n",
    "            song_dict = {}\n",
    "            song_dict['Title'] = t\n",
    "            song_dict['Writers'] = w\n",
    "            song_dict['Performers'] = p\n",
    "            song_dict['Alt-Titles'] = at\n",
    "            song_list.append(song_dict)\n",
    "    return song_list"
   ]
  }
 ],
 "metadata": {
  "kernelspec": {
   "display_name": "Python 3",
   "language": "python",
   "name": "python3"
  },
  "language_info": {
   "codemirror_mode": {
    "name": "ipython",
    "version": 3
   },
   "file_extension": ".py",
   "mimetype": "text/x-python",
   "name": "python",
   "nbconvert_exporter": "python",
   "pygments_lexer": "ipython3",
   "version": "3.6.5"
  }
 },
 "nbformat": 4,
 "nbformat_minor": 2
}
