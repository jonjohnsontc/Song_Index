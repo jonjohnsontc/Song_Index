{
 "cells": [
  {
   "cell_type": "markdown",
   "metadata": {},
   "source": [
    "# Preprocessing\n",
    "\n",
    "Description: Readying data for for modeling\n",
    "\n",
    "Next Steps:\n",
    "- Try LDA & NMF with my genres\n",
    "- Then try modeling without any genres\n",
    "- SVD on JUST the genres"
   ]
  },
  {
   "cell_type": "code",
   "execution_count": 73,
   "metadata": {},
   "outputs": [],
   "source": [
    "import matplotlib.pyplot as plt\n",
    "import numpy as np\n",
    "import pandas as pd\n",
    "import pickle\n",
    "import re\n",
    "\n",
    "from sklearn.decomposition import TruncatedSVD\n",
    "from sklearn.metrics.pairwise import cosine_similarity\n",
    "from sklearn.preprocessing import StandardScaler\n",
    "\n",
    "%matplotlib inline"
   ]
  },
  {
   "cell_type": "markdown",
   "metadata": {},
   "source": [
    "## One-Hot Encode Genres"
   ]
  },
  {
   "cell_type": "code",
   "execution_count": 21,
   "metadata": {},
   "outputs": [],
   "source": [
    "songs = pd.read_csv('../data/song_list_v2.csv').set_index('s_song_id')\n",
    "gs = pd.read_csv('../data/gsong_lookup.csv').set_index('gs_id')"
   ]
  },
  {
   "cell_type": "code",
   "execution_count": 22,
   "metadata": {},
   "outputs": [],
   "source": [
    "gsg = gs[['song_id', 'genre_name']].set_index('song_id')"
   ]
  },
  {
   "cell_type": "code",
   "execution_count": 23,
   "metadata": {},
   "outputs": [],
   "source": [
    "genre_dummies = pd.get_dummies(gsg).groupby(['song_id']).sum()"
   ]
  },
  {
   "cell_type": "code",
   "execution_count": 24,
   "metadata": {},
   "outputs": [
    {
     "data": {
      "text/plain": [
       "(21033, 561)"
      ]
     },
     "execution_count": 24,
     "metadata": {},
     "output_type": "execute_result"
    }
   ],
   "source": [
    "genre_dummies.shape"
   ]
  },
  {
   "cell_type": "code",
   "execution_count": 25,
   "metadata": {},
   "outputs": [
    {
     "data": {
      "text/html": [
       "<div>\n",
       "<style scoped>\n",
       "    .dataframe tbody tr th:only-of-type {\n",
       "        vertical-align: middle;\n",
       "    }\n",
       "\n",
       "    .dataframe tbody tr th {\n",
       "        vertical-align: top;\n",
       "    }\n",
       "\n",
       "    .dataframe thead th {\n",
       "        text-align: right;\n",
       "    }\n",
       "</style>\n",
       "<table border=\"1\" class=\"dataframe\">\n",
       "  <thead>\n",
       "    <tr style=\"text-align: right;\">\n",
       "      <th></th>\n",
       "      <th>genre_name_a cappella</th>\n",
       "      <th>genre_name_acid house</th>\n",
       "      <th>genre_name_acid jazz</th>\n",
       "      <th>genre_name_acoustic blues</th>\n",
       "      <th>genre_name_acoustic pop</th>\n",
       "      <th>genre_name_acoustic punk</th>\n",
       "      <th>genre_name_adult standards</th>\n",
       "      <th>genre_name_african rock</th>\n",
       "      <th>genre_name_album rock</th>\n",
       "      <th>genre_name_albuquerque indie</th>\n",
       "      <th>...</th>\n",
       "      <th>genre_name_vogue</th>\n",
       "      <th>genre_name_west coast rap</th>\n",
       "      <th>genre_name_west coast trap</th>\n",
       "      <th>genre_name_western swing</th>\n",
       "      <th>genre_name_world</th>\n",
       "      <th>genre_name_world worship</th>\n",
       "      <th>genre_name_worship</th>\n",
       "      <th>genre_name_wrestling</th>\n",
       "      <th>genre_name_yugoslav rock</th>\n",
       "      <th>genre_name_zolo</th>\n",
       "    </tr>\n",
       "    <tr>\n",
       "      <th>song_id</th>\n",
       "      <th></th>\n",
       "      <th></th>\n",
       "      <th></th>\n",
       "      <th></th>\n",
       "      <th></th>\n",
       "      <th></th>\n",
       "      <th></th>\n",
       "      <th></th>\n",
       "      <th></th>\n",
       "      <th></th>\n",
       "      <th></th>\n",
       "      <th></th>\n",
       "      <th></th>\n",
       "      <th></th>\n",
       "      <th></th>\n",
       "      <th></th>\n",
       "      <th></th>\n",
       "      <th></th>\n",
       "      <th></th>\n",
       "      <th></th>\n",
       "      <th></th>\n",
       "    </tr>\n",
       "  </thead>\n",
       "  <tbody>\n",
       "    <tr>\n",
       "      <th>000xQL6tZNLJzIrtIgxqSl</th>\n",
       "      <td>0</td>\n",
       "      <td>0</td>\n",
       "      <td>0</td>\n",
       "      <td>0</td>\n",
       "      <td>0</td>\n",
       "      <td>0</td>\n",
       "      <td>0</td>\n",
       "      <td>0</td>\n",
       "      <td>0</td>\n",
       "      <td>0</td>\n",
       "      <td>...</td>\n",
       "      <td>0</td>\n",
       "      <td>0</td>\n",
       "      <td>0</td>\n",
       "      <td>0</td>\n",
       "      <td>0</td>\n",
       "      <td>0</td>\n",
       "      <td>0</td>\n",
       "      <td>0</td>\n",
       "      <td>0</td>\n",
       "      <td>0</td>\n",
       "    </tr>\n",
       "    <tr>\n",
       "      <th>001wUOgo8t9VElHl45bxzr</th>\n",
       "      <td>0</td>\n",
       "      <td>0</td>\n",
       "      <td>0</td>\n",
       "      <td>0</td>\n",
       "      <td>0</td>\n",
       "      <td>0</td>\n",
       "      <td>0</td>\n",
       "      <td>0</td>\n",
       "      <td>0</td>\n",
       "      <td>0</td>\n",
       "      <td>...</td>\n",
       "      <td>0</td>\n",
       "      <td>0</td>\n",
       "      <td>0</td>\n",
       "      <td>0</td>\n",
       "      <td>0</td>\n",
       "      <td>0</td>\n",
       "      <td>0</td>\n",
       "      <td>0</td>\n",
       "      <td>0</td>\n",
       "      <td>0</td>\n",
       "    </tr>\n",
       "    <tr>\n",
       "      <th>003eoIwxETJujVWmNFMoZy</th>\n",
       "      <td>0</td>\n",
       "      <td>0</td>\n",
       "      <td>0</td>\n",
       "      <td>0</td>\n",
       "      <td>0</td>\n",
       "      <td>0</td>\n",
       "      <td>0</td>\n",
       "      <td>0</td>\n",
       "      <td>0</td>\n",
       "      <td>0</td>\n",
       "      <td>...</td>\n",
       "      <td>0</td>\n",
       "      <td>0</td>\n",
       "      <td>0</td>\n",
       "      <td>0</td>\n",
       "      <td>0</td>\n",
       "      <td>0</td>\n",
       "      <td>0</td>\n",
       "      <td>0</td>\n",
       "      <td>0</td>\n",
       "      <td>0</td>\n",
       "    </tr>\n",
       "    <tr>\n",
       "      <th>003z5LtGJ2cdJARKIO9LgL</th>\n",
       "      <td>0</td>\n",
       "      <td>0</td>\n",
       "      <td>0</td>\n",
       "      <td>0</td>\n",
       "      <td>0</td>\n",
       "      <td>0</td>\n",
       "      <td>0</td>\n",
       "      <td>0</td>\n",
       "      <td>0</td>\n",
       "      <td>0</td>\n",
       "      <td>...</td>\n",
       "      <td>0</td>\n",
       "      <td>0</td>\n",
       "      <td>0</td>\n",
       "      <td>0</td>\n",
       "      <td>0</td>\n",
       "      <td>0</td>\n",
       "      <td>0</td>\n",
       "      <td>0</td>\n",
       "      <td>0</td>\n",
       "      <td>0</td>\n",
       "    </tr>\n",
       "    <tr>\n",
       "      <th>004S8bMhFQjnbuqvdh6W71</th>\n",
       "      <td>0</td>\n",
       "      <td>0</td>\n",
       "      <td>0</td>\n",
       "      <td>0</td>\n",
       "      <td>0</td>\n",
       "      <td>0</td>\n",
       "      <td>0</td>\n",
       "      <td>0</td>\n",
       "      <td>0</td>\n",
       "      <td>0</td>\n",
       "      <td>...</td>\n",
       "      <td>0</td>\n",
       "      <td>0</td>\n",
       "      <td>0</td>\n",
       "      <td>0</td>\n",
       "      <td>0</td>\n",
       "      <td>0</td>\n",
       "      <td>0</td>\n",
       "      <td>0</td>\n",
       "      <td>0</td>\n",
       "      <td>0</td>\n",
       "    </tr>\n",
       "  </tbody>\n",
       "</table>\n",
       "<p>5 rows × 561 columns</p>\n",
       "</div>"
      ],
      "text/plain": [
       "                        genre_name_a cappella  genre_name_acid house  \\\n",
       "song_id                                                                \n",
       "000xQL6tZNLJzIrtIgxqSl                      0                      0   \n",
       "001wUOgo8t9VElHl45bxzr                      0                      0   \n",
       "003eoIwxETJujVWmNFMoZy                      0                      0   \n",
       "003z5LtGJ2cdJARKIO9LgL                      0                      0   \n",
       "004S8bMhFQjnbuqvdh6W71                      0                      0   \n",
       "\n",
       "                        genre_name_acid jazz  genre_name_acoustic blues  \\\n",
       "song_id                                                                   \n",
       "000xQL6tZNLJzIrtIgxqSl                     0                          0   \n",
       "001wUOgo8t9VElHl45bxzr                     0                          0   \n",
       "003eoIwxETJujVWmNFMoZy                     0                          0   \n",
       "003z5LtGJ2cdJARKIO9LgL                     0                          0   \n",
       "004S8bMhFQjnbuqvdh6W71                     0                          0   \n",
       "\n",
       "                        genre_name_acoustic pop  genre_name_acoustic punk  \\\n",
       "song_id                                                                     \n",
       "000xQL6tZNLJzIrtIgxqSl                        0                         0   \n",
       "001wUOgo8t9VElHl45bxzr                        0                         0   \n",
       "003eoIwxETJujVWmNFMoZy                        0                         0   \n",
       "003z5LtGJ2cdJARKIO9LgL                        0                         0   \n",
       "004S8bMhFQjnbuqvdh6W71                        0                         0   \n",
       "\n",
       "                        genre_name_adult standards  genre_name_african rock  \\\n",
       "song_id                                                                       \n",
       "000xQL6tZNLJzIrtIgxqSl                           0                        0   \n",
       "001wUOgo8t9VElHl45bxzr                           0                        0   \n",
       "003eoIwxETJujVWmNFMoZy                           0                        0   \n",
       "003z5LtGJ2cdJARKIO9LgL                           0                        0   \n",
       "004S8bMhFQjnbuqvdh6W71                           0                        0   \n",
       "\n",
       "                        genre_name_album rock  genre_name_albuquerque indie  \\\n",
       "song_id                                                                       \n",
       "000xQL6tZNLJzIrtIgxqSl                      0                             0   \n",
       "001wUOgo8t9VElHl45bxzr                      0                             0   \n",
       "003eoIwxETJujVWmNFMoZy                      0                             0   \n",
       "003z5LtGJ2cdJARKIO9LgL                      0                             0   \n",
       "004S8bMhFQjnbuqvdh6W71                      0                             0   \n",
       "\n",
       "                             ...         genre_name_vogue  \\\n",
       "song_id                      ...                            \n",
       "000xQL6tZNLJzIrtIgxqSl       ...                        0   \n",
       "001wUOgo8t9VElHl45bxzr       ...                        0   \n",
       "003eoIwxETJujVWmNFMoZy       ...                        0   \n",
       "003z5LtGJ2cdJARKIO9LgL       ...                        0   \n",
       "004S8bMhFQjnbuqvdh6W71       ...                        0   \n",
       "\n",
       "                        genre_name_west coast rap  genre_name_west coast trap  \\\n",
       "song_id                                                                         \n",
       "000xQL6tZNLJzIrtIgxqSl                          0                           0   \n",
       "001wUOgo8t9VElHl45bxzr                          0                           0   \n",
       "003eoIwxETJujVWmNFMoZy                          0                           0   \n",
       "003z5LtGJ2cdJARKIO9LgL                          0                           0   \n",
       "004S8bMhFQjnbuqvdh6W71                          0                           0   \n",
       "\n",
       "                        genre_name_western swing  genre_name_world  \\\n",
       "song_id                                                              \n",
       "000xQL6tZNLJzIrtIgxqSl                         0                 0   \n",
       "001wUOgo8t9VElHl45bxzr                         0                 0   \n",
       "003eoIwxETJujVWmNFMoZy                         0                 0   \n",
       "003z5LtGJ2cdJARKIO9LgL                         0                 0   \n",
       "004S8bMhFQjnbuqvdh6W71                         0                 0   \n",
       "\n",
       "                        genre_name_world worship  genre_name_worship  \\\n",
       "song_id                                                                \n",
       "000xQL6tZNLJzIrtIgxqSl                         0                   0   \n",
       "001wUOgo8t9VElHl45bxzr                         0                   0   \n",
       "003eoIwxETJujVWmNFMoZy                         0                   0   \n",
       "003z5LtGJ2cdJARKIO9LgL                         0                   0   \n",
       "004S8bMhFQjnbuqvdh6W71                         0                   0   \n",
       "\n",
       "                        genre_name_wrestling  genre_name_yugoslav rock  \\\n",
       "song_id                                                                  \n",
       "000xQL6tZNLJzIrtIgxqSl                     0                         0   \n",
       "001wUOgo8t9VElHl45bxzr                     0                         0   \n",
       "003eoIwxETJujVWmNFMoZy                     0                         0   \n",
       "003z5LtGJ2cdJARKIO9LgL                     0                         0   \n",
       "004S8bMhFQjnbuqvdh6W71                     0                         0   \n",
       "\n",
       "                        genre_name_zolo  \n",
       "song_id                                  \n",
       "000xQL6tZNLJzIrtIgxqSl                0  \n",
       "001wUOgo8t9VElHl45bxzr                0  \n",
       "003eoIwxETJujVWmNFMoZy                0  \n",
       "003z5LtGJ2cdJARKIO9LgL                0  \n",
       "004S8bMhFQjnbuqvdh6W71                0  \n",
       "\n",
       "[5 rows x 561 columns]"
      ]
     },
     "execution_count": 25,
     "metadata": {},
     "output_type": "execute_result"
    }
   ],
   "source": [
    "genre_dummies.head()"
   ]
  },
  {
   "cell_type": "code",
   "execution_count": 23,
   "metadata": {},
   "outputs": [
    {
     "data": {
      "text/plain": [
       "(22914, 8)"
      ]
     },
     "execution_count": 23,
     "metadata": {},
     "output_type": "execute_result"
    }
   ],
   "source": [
    "songs.shape"
   ]
  },
  {
   "cell_type": "code",
   "execution_count": 26,
   "metadata": {},
   "outputs": [],
   "source": [
    "for sid in songs.index:\n",
    "    if sid not in genre_dummies.index:\n",
    "        genre_dummies.loc[sid] = 0"
   ]
  },
  {
   "cell_type": "code",
   "execution_count": 27,
   "metadata": {},
   "outputs": [
    {
     "data": {
      "text/plain": [
       "(22914, 561)"
      ]
     },
     "execution_count": 27,
     "metadata": {},
     "output_type": "execute_result"
    }
   ],
   "source": [
    "genre_dummies.shape"
   ]
  },
  {
   "cell_type": "code",
   "execution_count": 28,
   "metadata": {},
   "outputs": [
    {
     "name": "stdout",
     "output_type": "stream",
     "text": [
      "<class 'pandas.core.frame.DataFrame'>\n",
      "Index: 22914 entries, 000xQL6tZNLJzIrtIgxqSl to 2PfrT8OeF0I565L7CRud27\n",
      "Columns: 561 entries, genre_name_a cappella to genre_name_zolo\n",
      "dtypes: int64(561)\n",
      "memory usage: 98.9+ MB\n"
     ]
    }
   ],
   "source": [
    "genre_dummies.info()"
   ]
  },
  {
   "cell_type": "code",
   "execution_count": 29,
   "metadata": {},
   "outputs": [
    {
     "data": {
      "text/html": [
       "<div>\n",
       "<style scoped>\n",
       "    .dataframe tbody tr th:only-of-type {\n",
       "        vertical-align: middle;\n",
       "    }\n",
       "\n",
       "    .dataframe tbody tr th {\n",
       "        vertical-align: top;\n",
       "    }\n",
       "\n",
       "    .dataframe thead th {\n",
       "        text-align: right;\n",
       "    }\n",
       "</style>\n",
       "<table border=\"1\" class=\"dataframe\">\n",
       "  <thead>\n",
       "    <tr style=\"text-align: right;\">\n",
       "      <th></th>\n",
       "      <th>genre_name_a cappella</th>\n",
       "      <th>genre_name_acid house</th>\n",
       "      <th>genre_name_acid jazz</th>\n",
       "      <th>genre_name_acoustic blues</th>\n",
       "      <th>genre_name_acoustic pop</th>\n",
       "      <th>genre_name_acoustic punk</th>\n",
       "      <th>genre_name_adult standards</th>\n",
       "      <th>genre_name_african rock</th>\n",
       "      <th>genre_name_album rock</th>\n",
       "      <th>genre_name_albuquerque indie</th>\n",
       "      <th>...</th>\n",
       "      <th>genre_name_vogue</th>\n",
       "      <th>genre_name_west coast rap</th>\n",
       "      <th>genre_name_west coast trap</th>\n",
       "      <th>genre_name_western swing</th>\n",
       "      <th>genre_name_world</th>\n",
       "      <th>genre_name_world worship</th>\n",
       "      <th>genre_name_worship</th>\n",
       "      <th>genre_name_wrestling</th>\n",
       "      <th>genre_name_yugoslav rock</th>\n",
       "      <th>genre_name_zolo</th>\n",
       "    </tr>\n",
       "    <tr>\n",
       "      <th>song_id</th>\n",
       "      <th></th>\n",
       "      <th></th>\n",
       "      <th></th>\n",
       "      <th></th>\n",
       "      <th></th>\n",
       "      <th></th>\n",
       "      <th></th>\n",
       "      <th></th>\n",
       "      <th></th>\n",
       "      <th></th>\n",
       "      <th></th>\n",
       "      <th></th>\n",
       "      <th></th>\n",
       "      <th></th>\n",
       "      <th></th>\n",
       "      <th></th>\n",
       "      <th></th>\n",
       "      <th></th>\n",
       "      <th></th>\n",
       "      <th></th>\n",
       "      <th></th>\n",
       "    </tr>\n",
       "  </thead>\n",
       "  <tbody>\n",
       "  </tbody>\n",
       "</table>\n",
       "<p>0 rows × 561 columns</p>\n",
       "</div>"
      ],
      "text/plain": [
       "Empty DataFrame\n",
       "Columns: [genre_name_a cappella, genre_name_acid house, genre_name_acid jazz, genre_name_acoustic blues, genre_name_acoustic pop, genre_name_acoustic punk, genre_name_adult standards, genre_name_african rock, genre_name_album rock, genre_name_albuquerque indie, genre_name_alternative country, genre_name_alternative dance, genre_name_alternative hip hop, genre_name_alternative metal, genre_name_alternative pop, genre_name_alternative rock, genre_name_american choir, genre_name_american modern classical, genre_name_anarcho-punk, genre_name_anthem worship, genre_name_anti-folk, genre_name_antiviral pop, genre_name_art pop, genre_name_art rock, genre_name_aussietronica, genre_name_australian alternative rock, genre_name_australian country, genre_name_australian dance, genre_name_australian pop, genre_name_australian rock, genre_name_ballroom, genre_name_banda, genre_name_bassline, genre_name_bebop, genre_name_big band, genre_name_big beat, genre_name_big room, genre_name_bluegrass, genre_name_blues, genre_name_blues-rock, genre_name_bolero, genre_name_bossa nova, genre_name_boston rock, genre_name_bounce, genre_name_bow pop, genre_name_boy band, genre_name_brass band, genre_name_brass ensemble, genre_name_brazilian metal, genre_name_breakbeat, genre_name_brill building pop, genre_name_brit funk, genre_name_british blues, genre_name_british contemporary classical, genre_name_british folk, genre_name_british invasion, genre_name_british soundtrack, genre_name_britpop, genre_name_broadway, genre_name_brooklyn indie, genre_name_brostep, genre_name_bubblegum dance, genre_name_bubblegum pop, genre_name_bulgarian hip hop, genre_name_cabaret, genre_name_calypso, genre_name_canadian blues, genre_name_canadian ccm, genre_name_canadian celtic, genre_name_canadian country, genre_name_canadian folk, genre_name_canadian hip hop, genre_name_canadian indie, genre_name_canadian metal, genre_name_canadian pop, genre_name_canadian punk, genre_name_canadian rock, genre_name_candy pop, genre_name_canterbury scene, genre_name_canzone napoletana, genre_name_ccm, genre_name_celtic, genre_name_celtic punk, genre_name_celtic rock, genre_name_chamber pop, genre_name_chicago blues, genre_name_chicago indie, genre_name_chicago soul, genre_name_chicano rap, genre_name_christelijk, genre_name_christian alternative rock, genre_name_christian hip hop, genre_name_christian metal, genre_name_christian music, genre_name_christian punk, genre_name_christian relaxative, genre_name_christian rock, genre_name_christmas, genre_name_christmas product, genre_name_classic canadian rock, ...]\n",
       "Index: []\n",
       "\n",
       "[0 rows x 561 columns]"
      ]
     },
     "execution_count": 29,
     "metadata": {},
     "output_type": "execute_result"
    }
   ],
   "source": [
    "genre_dummies[genre_dummies.isnull().any(1)]"
   ]
  },
  {
   "cell_type": "code",
   "execution_count": 31,
   "metadata": {},
   "outputs": [],
   "source": [
    "genre_dummies.rename(columns = lambda x: x.replace('genre_name_', 'genre_'), inplace=True)"
   ]
  },
  {
   "cell_type": "code",
   "execution_count": 32,
   "metadata": {},
   "outputs": [],
   "source": [
    "genre_dummies.to_csv('../data/genre_dummies.csv')"
   ]
  },
  {
   "cell_type": "code",
   "execution_count": 2,
   "metadata": {},
   "outputs": [],
   "source": [
    "genre_dummies = pd.read_csv('../data/genre_dummies.csv', index_col='song_id')"
   ]
  },
  {
   "cell_type": "markdown",
   "metadata": {},
   "source": [
    "## One-Hot Encoding Additional Features\n",
    "\n",
    "I'm going to also one-hot encode the key and time signature features, since despite their numerical represenation, there is not an actual ordinal relationship between them."
   ]
  },
  {
   "cell_type": "code",
   "execution_count": 33,
   "metadata": {},
   "outputs": [],
   "source": [
    "main_wfeats = pd.read_csv('../data/main_wfeats.csv', index_col='song_id')"
   ]
  },
  {
   "cell_type": "code",
   "execution_count": 34,
   "metadata": {},
   "outputs": [
    {
     "data": {
      "text/plain": [
       "Index(['Unnamed: 0', 'album_release_date', 'artist_id', 'artist_name',\n",
       "       'duration_ms', 'explicit', 'linked_album', 'song_title', 'danceability',\n",
       "       'energy', 'key', 'loudness', 'mode', 'speechiness', 'acousticness',\n",
       "       'instrumentalness', 'liveness', 'valence', 'tempo', 'time_signature',\n",
       "       'key_changes', 'mean_song_conf', 'mean_loudness', 'mean_mode',\n",
       "       'mean_mode_conf', 'mean_tempo', 'mean_tempo_conf', 'var_song_conf',\n",
       "       'var_loudness', 'var_mode', 'var_mode_conf', 'var_tempo',\n",
       "       'var_tempo_conf', 'tm_dim_1', 'tm_dim_2', 'tm_dim_3', 'tm_dim_4',\n",
       "       'tm_dim_5', 'tm_dim_6', 'tm_dim_7', 'tm_dim_8', 'tm_dim_9', 'tm_dim_10',\n",
       "       'tm_dim_11', 'tm_dim_12', 'tv_dim_1', 'tv_dim_2', 'tv_dim_3',\n",
       "       'tv_dim_4', 'tv_dim_5', 'tv_dim_6', 'tv_dim_7', 'tv_dim_8', 'tv_dim_9',\n",
       "       'tv_dim_10', 'tv_dim_11', 'tv_dim_12', 'pm_dim_1', 'pm_dim_2',\n",
       "       'pm_dim_3', 'pm_dim_4', 'pm_dim_5', 'pm_dim_6', 'pm_dim_7', 'pm_dim_8',\n",
       "       'pm_dim_9', 'pm_dim_10', 'pm_dim_11', 'pm_dim_12', 'pv_dim_1',\n",
       "       'pv_dim_2', 'pv_dim_3', 'pv_dim_4', 'pv_dim_5', 'pv_dim_6', 'pv_dim_7',\n",
       "       'pv_dim_8', 'pv_dim_9', 'pv_dim_10', 'pv_dim_11', 'pv_dim_12'],\n",
       "      dtype='object')"
      ]
     },
     "execution_count": 34,
     "metadata": {},
     "output_type": "execute_result"
    }
   ],
   "source": [
    "main_wfeats.columns"
   ]
  },
  {
   "cell_type": "code",
   "execution_count": 35,
   "metadata": {},
   "outputs": [],
   "source": [
    "main_wfeats.drop('Unnamed: 0', axis=1, inplace=True)"
   ]
  },
  {
   "cell_type": "code",
   "execution_count": 36,
   "metadata": {},
   "outputs": [
    {
     "data": {
      "text/html": [
       "<div>\n",
       "<style scoped>\n",
       "    .dataframe tbody tr th:only-of-type {\n",
       "        vertical-align: middle;\n",
       "    }\n",
       "\n",
       "    .dataframe tbody tr th {\n",
       "        vertical-align: top;\n",
       "    }\n",
       "\n",
       "    .dataframe thead th {\n",
       "        text-align: right;\n",
       "    }\n",
       "</style>\n",
       "<table border=\"1\" class=\"dataframe\">\n",
       "  <thead>\n",
       "    <tr style=\"text-align: right;\">\n",
       "      <th></th>\n",
       "      <th>album_release_date</th>\n",
       "      <th>artist_id</th>\n",
       "      <th>artist_name</th>\n",
       "      <th>duration_ms</th>\n",
       "      <th>explicit</th>\n",
       "      <th>linked_album</th>\n",
       "      <th>song_title</th>\n",
       "      <th>danceability</th>\n",
       "      <th>energy</th>\n",
       "      <th>key</th>\n",
       "      <th>...</th>\n",
       "      <th>pv_dim_3</th>\n",
       "      <th>pv_dim_4</th>\n",
       "      <th>pv_dim_5</th>\n",
       "      <th>pv_dim_6</th>\n",
       "      <th>pv_dim_7</th>\n",
       "      <th>pv_dim_8</th>\n",
       "      <th>pv_dim_9</th>\n",
       "      <th>pv_dim_10</th>\n",
       "      <th>pv_dim_11</th>\n",
       "      <th>pv_dim_12</th>\n",
       "    </tr>\n",
       "    <tr>\n",
       "      <th>song_id</th>\n",
       "      <th></th>\n",
       "      <th></th>\n",
       "      <th></th>\n",
       "      <th></th>\n",
       "      <th></th>\n",
       "      <th></th>\n",
       "      <th></th>\n",
       "      <th></th>\n",
       "      <th></th>\n",
       "      <th></th>\n",
       "      <th></th>\n",
       "      <th></th>\n",
       "      <th></th>\n",
       "      <th></th>\n",
       "      <th></th>\n",
       "      <th></th>\n",
       "      <th></th>\n",
       "      <th></th>\n",
       "      <th></th>\n",
       "      <th></th>\n",
       "      <th></th>\n",
       "    </tr>\n",
       "  </thead>\n",
       "  <tbody>\n",
       "    <tr>\n",
       "      <th>6SluaPiV04KOaRTOIScoff</th>\n",
       "      <td>1995-10-13</td>\n",
       "      <td>6UE7nl9mha6s8z0wFQFIZ2</td>\n",
       "      <td>Robyn</td>\n",
       "      <td>229226.0</td>\n",
       "      <td>False</td>\n",
       "      <td>Robyn Is Here</td>\n",
       "      <td>Show Me Love - Radio Version</td>\n",
       "      <td>0.546</td>\n",
       "      <td>0.643</td>\n",
       "      <td>6</td>\n",
       "      <td>...</td>\n",
       "      <td>0.231588</td>\n",
       "      <td>0.227392</td>\n",
       "      <td>0.365724</td>\n",
       "      <td>0.220462</td>\n",
       "      <td>0.367808</td>\n",
       "      <td>0.267055</td>\n",
       "      <td>0.344281</td>\n",
       "      <td>0.349016</td>\n",
       "      <td>0.323426</td>\n",
       "      <td>0.480299</td>\n",
       "    </tr>\n",
       "    <tr>\n",
       "      <th>5qEVq3ZEGr0Got441lueWS</th>\n",
       "      <td>2018-08-10</td>\n",
       "      <td>6S58b0fr8TkWrEHOH4tRVu</td>\n",
       "      <td>Switchfoot</td>\n",
       "      <td>247240.0</td>\n",
       "      <td>False</td>\n",
       "      <td>You Found Me (Unbroken: Path To Redemption)</td>\n",
       "      <td>You Found Me (Unbroken: Path To Redemption)</td>\n",
       "      <td>0.603</td>\n",
       "      <td>0.802</td>\n",
       "      <td>11</td>\n",
       "      <td>...</td>\n",
       "      <td>0.384941</td>\n",
       "      <td>0.397085</td>\n",
       "      <td>0.465443</td>\n",
       "      <td>0.237421</td>\n",
       "      <td>0.359981</td>\n",
       "      <td>0.209631</td>\n",
       "      <td>0.283483</td>\n",
       "      <td>0.188632</td>\n",
       "      <td>0.212271</td>\n",
       "      <td>0.490470</td>\n",
       "    </tr>\n",
       "    <tr>\n",
       "      <th>5kqIPrATaCc2LqxVWzQGbk</th>\n",
       "      <td>2016-04-01</td>\n",
       "      <td>25u4wHJWxCA9vO0CzxAbK7</td>\n",
       "      <td>Lukas Graham</td>\n",
       "      <td>237300.0</td>\n",
       "      <td>False</td>\n",
       "      <td>Lukas Graham</td>\n",
       "      <td>7 Years</td>\n",
       "      <td>0.765</td>\n",
       "      <td>0.473</td>\n",
       "      <td>10</td>\n",
       "      <td>...</td>\n",
       "      <td>0.341671</td>\n",
       "      <td>0.321183</td>\n",
       "      <td>0.195459</td>\n",
       "      <td>0.330539</td>\n",
       "      <td>0.175221</td>\n",
       "      <td>0.328568</td>\n",
       "      <td>0.153059</td>\n",
       "      <td>0.221073</td>\n",
       "      <td>0.444818</td>\n",
       "      <td>0.203276</td>\n",
       "    </tr>\n",
       "    <tr>\n",
       "      <th>3aVyHFxRkf8lSjhWdJ68AW</th>\n",
       "      <td>2013-01-01</td>\n",
       "      <td>0C0XlULifJtAgn6ZNCW2eu</td>\n",
       "      <td>The Killers</td>\n",
       "      <td>262000.0</td>\n",
       "      <td>False</td>\n",
       "      <td>Direct Hits</td>\n",
       "      <td>Just Another Girl</td>\n",
       "      <td>0.547</td>\n",
       "      <td>0.779</td>\n",
       "      <td>1</td>\n",
       "      <td>...</td>\n",
       "      <td>0.229995</td>\n",
       "      <td>0.264792</td>\n",
       "      <td>0.180531</td>\n",
       "      <td>0.281061</td>\n",
       "      <td>0.355194</td>\n",
       "      <td>0.189039</td>\n",
       "      <td>0.256742</td>\n",
       "      <td>0.193406</td>\n",
       "      <td>0.253140</td>\n",
       "      <td>0.308046</td>\n",
       "    </tr>\n",
       "    <tr>\n",
       "      <th>0zIyxS6QxZogHOpGkI6IZH</th>\n",
       "      <td>2018-09-07</td>\n",
       "      <td>0le01dl1WllSHhjEXRl4in</td>\n",
       "      <td>Tamia</td>\n",
       "      <td>236545.0</td>\n",
       "      <td>False</td>\n",
       "      <td>Passion Like Fire</td>\n",
       "      <td>Deeper</td>\n",
       "      <td>0.438</td>\n",
       "      <td>0.288</td>\n",
       "      <td>9</td>\n",
       "      <td>...</td>\n",
       "      <td>0.233717</td>\n",
       "      <td>0.128174</td>\n",
       "      <td>0.321370</td>\n",
       "      <td>0.200370</td>\n",
       "      <td>0.391387</td>\n",
       "      <td>0.132925</td>\n",
       "      <td>0.265942</td>\n",
       "      <td>0.537358</td>\n",
       "      <td>0.158429</td>\n",
       "      <td>0.266790</td>\n",
       "    </tr>\n",
       "  </tbody>\n",
       "</table>\n",
       "<p>5 rows × 80 columns</p>\n",
       "</div>"
      ],
      "text/plain": [
       "                       album_release_date               artist_id  \\\n",
       "song_id                                                             \n",
       "6SluaPiV04KOaRTOIScoff         1995-10-13  6UE7nl9mha6s8z0wFQFIZ2   \n",
       "5qEVq3ZEGr0Got441lueWS         2018-08-10  6S58b0fr8TkWrEHOH4tRVu   \n",
       "5kqIPrATaCc2LqxVWzQGbk         2016-04-01  25u4wHJWxCA9vO0CzxAbK7   \n",
       "3aVyHFxRkf8lSjhWdJ68AW         2013-01-01  0C0XlULifJtAgn6ZNCW2eu   \n",
       "0zIyxS6QxZogHOpGkI6IZH         2018-09-07  0le01dl1WllSHhjEXRl4in   \n",
       "\n",
       "                         artist_name  duration_ms  explicit  \\\n",
       "song_id                                                       \n",
       "6SluaPiV04KOaRTOIScoff         Robyn     229226.0     False   \n",
       "5qEVq3ZEGr0Got441lueWS    Switchfoot     247240.0     False   \n",
       "5kqIPrATaCc2LqxVWzQGbk  Lukas Graham     237300.0     False   \n",
       "3aVyHFxRkf8lSjhWdJ68AW   The Killers     262000.0     False   \n",
       "0zIyxS6QxZogHOpGkI6IZH         Tamia     236545.0     False   \n",
       "\n",
       "                                                       linked_album  \\\n",
       "song_id                                                               \n",
       "6SluaPiV04KOaRTOIScoff                                Robyn Is Here   \n",
       "5qEVq3ZEGr0Got441lueWS  You Found Me (Unbroken: Path To Redemption)   \n",
       "5kqIPrATaCc2LqxVWzQGbk                                 Lukas Graham   \n",
       "3aVyHFxRkf8lSjhWdJ68AW                                  Direct Hits   \n",
       "0zIyxS6QxZogHOpGkI6IZH                            Passion Like Fire   \n",
       "\n",
       "                                                         song_title  \\\n",
       "song_id                                                               \n",
       "6SluaPiV04KOaRTOIScoff                 Show Me Love - Radio Version   \n",
       "5qEVq3ZEGr0Got441lueWS  You Found Me (Unbroken: Path To Redemption)   \n",
       "5kqIPrATaCc2LqxVWzQGbk                                      7 Years   \n",
       "3aVyHFxRkf8lSjhWdJ68AW                            Just Another Girl   \n",
       "0zIyxS6QxZogHOpGkI6IZH                                       Deeper   \n",
       "\n",
       "                        danceability  energy  key    ...      pv_dim_3  \\\n",
       "song_id                                              ...                 \n",
       "6SluaPiV04KOaRTOIScoff         0.546   0.643    6    ...      0.231588   \n",
       "5qEVq3ZEGr0Got441lueWS         0.603   0.802   11    ...      0.384941   \n",
       "5kqIPrATaCc2LqxVWzQGbk         0.765   0.473   10    ...      0.341671   \n",
       "3aVyHFxRkf8lSjhWdJ68AW         0.547   0.779    1    ...      0.229995   \n",
       "0zIyxS6QxZogHOpGkI6IZH         0.438   0.288    9    ...      0.233717   \n",
       "\n",
       "                        pv_dim_4  pv_dim_5  pv_dim_6  pv_dim_7  pv_dim_8  \\\n",
       "song_id                                                                    \n",
       "6SluaPiV04KOaRTOIScoff  0.227392  0.365724  0.220462  0.367808  0.267055   \n",
       "5qEVq3ZEGr0Got441lueWS  0.397085  0.465443  0.237421  0.359981  0.209631   \n",
       "5kqIPrATaCc2LqxVWzQGbk  0.321183  0.195459  0.330539  0.175221  0.328568   \n",
       "3aVyHFxRkf8lSjhWdJ68AW  0.264792  0.180531  0.281061  0.355194  0.189039   \n",
       "0zIyxS6QxZogHOpGkI6IZH  0.128174  0.321370  0.200370  0.391387  0.132925   \n",
       "\n",
       "                        pv_dim_9  pv_dim_10  pv_dim_11  pv_dim_12  \n",
       "song_id                                                            \n",
       "6SluaPiV04KOaRTOIScoff  0.344281   0.349016   0.323426   0.480299  \n",
       "5qEVq3ZEGr0Got441lueWS  0.283483   0.188632   0.212271   0.490470  \n",
       "5kqIPrATaCc2LqxVWzQGbk  0.153059   0.221073   0.444818   0.203276  \n",
       "3aVyHFxRkf8lSjhWdJ68AW  0.256742   0.193406   0.253140   0.308046  \n",
       "0zIyxS6QxZogHOpGkI6IZH  0.265942   0.537358   0.158429   0.266790  \n",
       "\n",
       "[5 rows x 80 columns]"
      ]
     },
     "execution_count": 36,
     "metadata": {},
     "output_type": "execute_result"
    }
   ],
   "source": [
    "main_wfeats.head()"
   ]
  },
  {
   "cell_type": "markdown",
   "metadata": {},
   "source": [
    "##### Time Signature Adjustments from EDA"
   ]
  },
  {
   "cell_type": "code",
   "execution_count": 42,
   "metadata": {},
   "outputs": [],
   "source": [
    "main_wfeats['time_signature'] = main_wfeats['time_signature'].apply(lambda x: x + 4 if x is 0 else x)"
   ]
  },
  {
   "cell_type": "code",
   "execution_count": 43,
   "metadata": {},
   "outputs": [],
   "source": [
    "main_wfeats[['key', 'time_signature']] = main_wfeats[['key', 'time_signature']].astype('category', copy=False)"
   ]
  },
  {
   "cell_type": "code",
   "execution_count": 44,
   "metadata": {},
   "outputs": [],
   "source": [
    "tk_dummies = pd.get_dummies(main_wfeats[['key', 'time_signature']])"
   ]
  },
  {
   "cell_type": "code",
   "execution_count": 45,
   "metadata": {},
   "outputs": [],
   "source": [
    "main_wfeats = main_wfeats.drop(['key', 'time_signature'], 1).merge(tk_dummies, left_on='song_id', right_on='song_id')"
   ]
  },
  {
   "cell_type": "code",
   "execution_count": 46,
   "metadata": {},
   "outputs": [
    {
     "data": {
      "text/plain": [
       "(22891, 94)"
      ]
     },
     "execution_count": 46,
     "metadata": {},
     "output_type": "execute_result"
    }
   ],
   "source": [
    "main_wfeats.shape"
   ]
  },
  {
   "cell_type": "markdown",
   "metadata": {},
   "source": [
    "## Merging all One-Hot Encoded Features"
   ]
  },
  {
   "cell_type": "code",
   "execution_count": 48,
   "metadata": {},
   "outputs": [],
   "source": [
    "main_wfeats = main_wfeats.merge(genre_dummies, left_on='song_id', right_on='song_id')"
   ]
  },
  {
   "cell_type": "markdown",
   "metadata": {},
   "source": [
    "##### Sanity Check for null values"
   ]
  },
  {
   "cell_type": "code",
   "execution_count": 49,
   "metadata": {},
   "outputs": [
    {
     "data": {
      "text/html": [
       "<div>\n",
       "<style scoped>\n",
       "    .dataframe tbody tr th:only-of-type {\n",
       "        vertical-align: middle;\n",
       "    }\n",
       "\n",
       "    .dataframe tbody tr th {\n",
       "        vertical-align: top;\n",
       "    }\n",
       "\n",
       "    .dataframe thead th {\n",
       "        text-align: right;\n",
       "    }\n",
       "</style>\n",
       "<table border=\"1\" class=\"dataframe\">\n",
       "  <thead>\n",
       "    <tr style=\"text-align: right;\">\n",
       "      <th></th>\n",
       "      <th>album_release_date</th>\n",
       "      <th>artist_id</th>\n",
       "      <th>artist_name</th>\n",
       "      <th>duration_ms</th>\n",
       "      <th>explicit</th>\n",
       "      <th>linked_album</th>\n",
       "      <th>song_title</th>\n",
       "      <th>danceability</th>\n",
       "      <th>energy</th>\n",
       "      <th>loudness</th>\n",
       "      <th>...</th>\n",
       "      <th>genre_vogue</th>\n",
       "      <th>genre_west coast rap</th>\n",
       "      <th>genre_west coast trap</th>\n",
       "      <th>genre_western swing</th>\n",
       "      <th>genre_world</th>\n",
       "      <th>genre_world worship</th>\n",
       "      <th>genre_worship</th>\n",
       "      <th>genre_wrestling</th>\n",
       "      <th>genre_yugoslav rock</th>\n",
       "      <th>genre_zolo</th>\n",
       "    </tr>\n",
       "    <tr>\n",
       "      <th>song_id</th>\n",
       "      <th></th>\n",
       "      <th></th>\n",
       "      <th></th>\n",
       "      <th></th>\n",
       "      <th></th>\n",
       "      <th></th>\n",
       "      <th></th>\n",
       "      <th></th>\n",
       "      <th></th>\n",
       "      <th></th>\n",
       "      <th></th>\n",
       "      <th></th>\n",
       "      <th></th>\n",
       "      <th></th>\n",
       "      <th></th>\n",
       "      <th></th>\n",
       "      <th></th>\n",
       "      <th></th>\n",
       "      <th></th>\n",
       "      <th></th>\n",
       "      <th></th>\n",
       "    </tr>\n",
       "  </thead>\n",
       "  <tbody>\n",
       "  </tbody>\n",
       "</table>\n",
       "<p>0 rows × 655 columns</p>\n",
       "</div>"
      ],
      "text/plain": [
       "Empty DataFrame\n",
       "Columns: [album_release_date, artist_id, artist_name, duration_ms, explicit, linked_album, song_title, danceability, energy, loudness, mode, speechiness, acousticness, instrumentalness, liveness, valence, tempo, key_changes, mean_song_conf, mean_loudness, mean_mode, mean_mode_conf, mean_tempo, mean_tempo_conf, var_song_conf, var_loudness, var_mode, var_mode_conf, var_tempo, var_tempo_conf, tm_dim_1, tm_dim_2, tm_dim_3, tm_dim_4, tm_dim_5, tm_dim_6, tm_dim_7, tm_dim_8, tm_dim_9, tm_dim_10, tm_dim_11, tm_dim_12, tv_dim_1, tv_dim_2, tv_dim_3, tv_dim_4, tv_dim_5, tv_dim_6, tv_dim_7, tv_dim_8, tv_dim_9, tv_dim_10, tv_dim_11, tv_dim_12, pm_dim_1, pm_dim_2, pm_dim_3, pm_dim_4, pm_dim_5, pm_dim_6, pm_dim_7, pm_dim_8, pm_dim_9, pm_dim_10, pm_dim_11, pm_dim_12, pv_dim_1, pv_dim_2, pv_dim_3, pv_dim_4, pv_dim_5, pv_dim_6, pv_dim_7, pv_dim_8, pv_dim_9, pv_dim_10, pv_dim_11, pv_dim_12, key_0, key_1, key_2, key_3, key_4, key_5, key_6, key_7, key_8, key_9, key_10, key_11, time_signature_1, time_signature_3, time_signature_4, time_signature_5, genre_a cappella, genre_acid house, genre_acid jazz, genre_acoustic blues, genre_acoustic pop, genre_acoustic punk, ...]\n",
       "Index: []\n",
       "\n",
       "[0 rows x 655 columns]"
      ]
     },
     "execution_count": 49,
     "metadata": {},
     "output_type": "execute_result"
    }
   ],
   "source": [
    "main_wfeats[main_wfeats.isnull().any(1)]"
   ]
  },
  {
   "cell_type": "markdown",
   "metadata": {},
   "source": [
    "## Dropping Columns Before Conducting SVD\n",
    "\n",
    "I'm going to get rid of `duration_ms`, `artist_id`, `artist_name`, `linked_album`, and `song_title` before tossing into SVD."
   ]
  },
  {
   "cell_type": "code",
   "execution_count": 50,
   "metadata": {},
   "outputs": [],
   "source": [
    "main_wfeats.drop(['artist_id', 'artist_name', 'duration_ms', 'linked_album', 'song_title'], 1, inplace=True)"
   ]
  },
  {
   "cell_type": "code",
   "execution_count": 51,
   "metadata": {},
   "outputs": [],
   "source": [
    "main_wfeats['album_release_date'] = main_wfeats['album_release_date'].apply(lambda x: x + '-01-01' if len(x) == 4 else x)\n",
    "main_wfeats['album_release_date'] = main_wfeats['album_release_date'].apply(lambda x: re.sub(r'(-\\d*)','',x))\n",
    "main_wfeats['album_release_date'] = main_wfeats['album_release_date'].apply(lambda x: int(x))"
   ]
  },
  {
   "cell_type": "markdown",
   "metadata": {},
   "source": [
    "## Computing SVD | All Features Included"
   ]
  },
  {
   "cell_type": "code",
   "execution_count": 53,
   "metadata": {},
   "outputs": [],
   "source": [
    "ss = StandardScaler()\n",
    "main_wfeats_scaled = ss.fit_transform(main_wfeats)\n",
    "SVD = TruncatedSVD(200)\n",
    "svd_matrix = SVD.fit_transform(main_wfeats_scaled)"
   ]
  },
  {
   "cell_type": "markdown",
   "metadata": {},
   "source": [
    "##### Sanity Check for # of Components"
   ]
  },
  {
   "cell_type": "code",
   "execution_count": 54,
   "metadata": {},
   "outputs": [
    {
     "data": {
      "text/plain": [
       "(22891, 200)"
      ]
     },
     "execution_count": 54,
     "metadata": {},
     "output_type": "execute_result"
    }
   ],
   "source": [
    "svd_matrix.shape"
   ]
  },
  {
   "cell_type": "markdown",
   "metadata": {},
   "source": [
    "### Examining the Explained Variance Ratio through each Component"
   ]
  },
  {
   "cell_type": "code",
   "execution_count": 58,
   "metadata": {},
   "outputs": [
    {
     "data": {
      "text/plain": [
       "Text(0,0.5,'variance ratio')"
      ]
     },
     "execution_count": 58,
     "metadata": {},
     "output_type": "execute_result"
    },
    {
     "data": {
      "image/png": "[encoded data removed]",
      "text/plain": [
       "<Figure size 720x540 with 1 Axes>"
      ]
     },
     "metadata": {},
     "output_type": "display_data"
    }
   ],
   "source": [
    "fig = plt.figure(figsize=(10,7.5))\n",
    "plt.bar(np.array(range(200))+1, \n",
    "        SVD.explained_variance_ratio_, \n",
    "        color='g', \n",
    "        label='explained variance')\n",
    "plt.plot(np.array(range(200))+1, \n",
    "         np.cumsum(SVD.explained_variance_ratio_), \n",
    "         label='cumulative explained variance')\n",
    "plt.legend()\n",
    "plt.xlabel('component')\n",
    "plt.ylabel('variance ratio')"
   ]
  },
  {
   "cell_type": "markdown",
   "metadata": {},
   "source": [
    "Looking deeper:"
   ]
  },
  {
   "cell_type": "code",
   "execution_count": 59,
   "metadata": {},
   "outputs": [
    {
     "data": {
      "text/html": [
       "<div>\n",
       "<style scoped>\n",
       "    .dataframe tbody tr th:only-of-type {\n",
       "        vertical-align: middle;\n",
       "    }\n",
       "\n",
       "    .dataframe tbody tr th {\n",
       "        vertical-align: top;\n",
       "    }\n",
       "\n",
       "    .dataframe thead th {\n",
       "        text-align: right;\n",
       "    }\n",
       "</style>\n",
       "<table border=\"1\" class=\"dataframe\">\n",
       "  <thead>\n",
       "    <tr style=\"text-align: right;\">\n",
       "      <th></th>\n",
       "      <th>component_1</th>\n",
       "      <th>component_2</th>\n",
       "      <th>component_3</th>\n",
       "      <th>component_4</th>\n",
       "      <th>component_5</th>\n",
       "      <th>component_6</th>\n",
       "      <th>component_7</th>\n",
       "      <th>component_8</th>\n",
       "      <th>component_9</th>\n",
       "      <th>component_10</th>\n",
       "      <th>...</th>\n",
       "      <th>component_191</th>\n",
       "      <th>component_192</th>\n",
       "      <th>component_193</th>\n",
       "      <th>component_194</th>\n",
       "      <th>component_195</th>\n",
       "      <th>component_196</th>\n",
       "      <th>component_197</th>\n",
       "      <th>component_198</th>\n",
       "      <th>component_199</th>\n",
       "      <th>component_200</th>\n",
       "    </tr>\n",
       "    <tr>\n",
       "      <th>song_id</th>\n",
       "      <th></th>\n",
       "      <th></th>\n",
       "      <th></th>\n",
       "      <th></th>\n",
       "      <th></th>\n",
       "      <th></th>\n",
       "      <th></th>\n",
       "      <th></th>\n",
       "      <th></th>\n",
       "      <th></th>\n",
       "      <th></th>\n",
       "      <th></th>\n",
       "      <th></th>\n",
       "      <th></th>\n",
       "      <th></th>\n",
       "      <th></th>\n",
       "      <th></th>\n",
       "      <th></th>\n",
       "      <th></th>\n",
       "      <th></th>\n",
       "      <th></th>\n",
       "    </tr>\n",
       "  </thead>\n",
       "  <tbody>\n",
       "    <tr>\n",
       "      <th>6SluaPiV04KOaRTOIScoff</th>\n",
       "      <td>0.757918</td>\n",
       "      <td>1.404843</td>\n",
       "      <td>-1.913337</td>\n",
       "      <td>-0.472958</td>\n",
       "      <td>0.268357</td>\n",
       "      <td>-1.371433</td>\n",
       "      <td>-1.119114</td>\n",
       "      <td>1.476517</td>\n",
       "      <td>0.979065</td>\n",
       "      <td>-1.521656</td>\n",
       "      <td>...</td>\n",
       "      <td>0.464068</td>\n",
       "      <td>-0.150609</td>\n",
       "      <td>-0.567713</td>\n",
       "      <td>0.125683</td>\n",
       "      <td>-0.669925</td>\n",
       "      <td>-0.052231</td>\n",
       "      <td>-0.472644</td>\n",
       "      <td>0.740681</td>\n",
       "      <td>-0.418329</td>\n",
       "      <td>-0.879269</td>\n",
       "    </tr>\n",
       "    <tr>\n",
       "      <th>5qEVq3ZEGr0Got441lueWS</th>\n",
       "      <td>-3.323133</td>\n",
       "      <td>1.920202</td>\n",
       "      <td>-5.114308</td>\n",
       "      <td>-0.452438</td>\n",
       "      <td>-2.890209</td>\n",
       "      <td>0.270954</td>\n",
       "      <td>-5.516297</td>\n",
       "      <td>2.154386</td>\n",
       "      <td>10.550974</td>\n",
       "      <td>2.574092</td>\n",
       "      <td>...</td>\n",
       "      <td>-0.227841</td>\n",
       "      <td>0.228148</td>\n",
       "      <td>-0.143249</td>\n",
       "      <td>0.192309</td>\n",
       "      <td>0.368959</td>\n",
       "      <td>-0.421887</td>\n",
       "      <td>-0.240747</td>\n",
       "      <td>-0.054668</td>\n",
       "      <td>0.599885</td>\n",
       "      <td>-0.305045</td>\n",
       "    </tr>\n",
       "    <tr>\n",
       "      <th>5kqIPrATaCc2LqxVWzQGbk</th>\n",
       "      <td>2.732880</td>\n",
       "      <td>-3.548657</td>\n",
       "      <td>-1.923609</td>\n",
       "      <td>-0.168638</td>\n",
       "      <td>0.085750</td>\n",
       "      <td>0.606177</td>\n",
       "      <td>-1.319362</td>\n",
       "      <td>0.284451</td>\n",
       "      <td>-0.691482</td>\n",
       "      <td>-0.654109</td>\n",
       "      <td>...</td>\n",
       "      <td>-3.354644</td>\n",
       "      <td>-1.827297</td>\n",
       "      <td>-5.883545</td>\n",
       "      <td>0.998739</td>\n",
       "      <td>4.821048</td>\n",
       "      <td>-0.980344</td>\n",
       "      <td>0.553223</td>\n",
       "      <td>2.967091</td>\n",
       "      <td>-9.093422</td>\n",
       "      <td>8.490202</td>\n",
       "    </tr>\n",
       "    <tr>\n",
       "      <th>3aVyHFxRkf8lSjhWdJ68AW</th>\n",
       "      <td>-3.832698</td>\n",
       "      <td>0.685718</td>\n",
       "      <td>-3.114430</td>\n",
       "      <td>-2.380290</td>\n",
       "      <td>2.386828</td>\n",
       "      <td>-0.414645</td>\n",
       "      <td>0.085730</td>\n",
       "      <td>-0.189485</td>\n",
       "      <td>0.278562</td>\n",
       "      <td>0.392669</td>\n",
       "      <td>...</td>\n",
       "      <td>1.587991</td>\n",
       "      <td>3.303077</td>\n",
       "      <td>1.470967</td>\n",
       "      <td>-2.036976</td>\n",
       "      <td>1.903563</td>\n",
       "      <td>1.833053</td>\n",
       "      <td>1.677840</td>\n",
       "      <td>-1.467334</td>\n",
       "      <td>1.296368</td>\n",
       "      <td>-1.034998</td>\n",
       "    </tr>\n",
       "    <tr>\n",
       "      <th>0zIyxS6QxZogHOpGkI6IZH</th>\n",
       "      <td>3.501136</td>\n",
       "      <td>-4.637289</td>\n",
       "      <td>-2.046554</td>\n",
       "      <td>0.929557</td>\n",
       "      <td>0.519125</td>\n",
       "      <td>-1.468985</td>\n",
       "      <td>-4.205319</td>\n",
       "      <td>0.433077</td>\n",
       "      <td>-0.865032</td>\n",
       "      <td>-2.865779</td>\n",
       "      <td>...</td>\n",
       "      <td>-0.007365</td>\n",
       "      <td>0.432226</td>\n",
       "      <td>0.786720</td>\n",
       "      <td>-1.506545</td>\n",
       "      <td>0.520168</td>\n",
       "      <td>-0.172535</td>\n",
       "      <td>-0.729703</td>\n",
       "      <td>-2.145918</td>\n",
       "      <td>0.066724</td>\n",
       "      <td>-1.470035</td>\n",
       "    </tr>\n",
       "  </tbody>\n",
       "</table>\n",
       "<p>5 rows × 200 columns</p>\n",
       "</div>"
      ],
      "text/plain": [
       "                        component_1  component_2  component_3  component_4  \\\n",
       "song_id                                                                      \n",
       "6SluaPiV04KOaRTOIScoff     0.757918     1.404843    -1.913337    -0.472958   \n",
       "5qEVq3ZEGr0Got441lueWS    -3.323133     1.920202    -5.114308    -0.452438   \n",
       "5kqIPrATaCc2LqxVWzQGbk     2.732880    -3.548657    -1.923609    -0.168638   \n",
       "3aVyHFxRkf8lSjhWdJ68AW    -3.832698     0.685718    -3.114430    -2.380290   \n",
       "0zIyxS6QxZogHOpGkI6IZH     3.501136    -4.637289    -2.046554     0.929557   \n",
       "\n",
       "                        component_5  component_6  component_7  component_8  \\\n",
       "song_id                                                                      \n",
       "6SluaPiV04KOaRTOIScoff     0.268357    -1.371433    -1.119114     1.476517   \n",
       "5qEVq3ZEGr0Got441lueWS    -2.890209     0.270954    -5.516297     2.154386   \n",
       "5kqIPrATaCc2LqxVWzQGbk     0.085750     0.606177    -1.319362     0.284451   \n",
       "3aVyHFxRkf8lSjhWdJ68AW     2.386828    -0.414645     0.085730    -0.189485   \n",
       "0zIyxS6QxZogHOpGkI6IZH     0.519125    -1.468985    -4.205319     0.433077   \n",
       "\n",
       "                        component_9  component_10      ...        \\\n",
       "song_id                                                ...         \n",
       "6SluaPiV04KOaRTOIScoff     0.979065     -1.521656      ...         \n",
       "5qEVq3ZEGr0Got441lueWS    10.550974      2.574092      ...         \n",
       "5kqIPrATaCc2LqxVWzQGbk    -0.691482     -0.654109      ...         \n",
       "3aVyHFxRkf8lSjhWdJ68AW     0.278562      0.392669      ...         \n",
       "0zIyxS6QxZogHOpGkI6IZH    -0.865032     -2.865779      ...         \n",
       "\n",
       "                        component_191  component_192  component_193  \\\n",
       "song_id                                                               \n",
       "6SluaPiV04KOaRTOIScoff       0.464068      -0.150609      -0.567713   \n",
       "5qEVq3ZEGr0Got441lueWS      -0.227841       0.228148      -0.143249   \n",
       "5kqIPrATaCc2LqxVWzQGbk      -3.354644      -1.827297      -5.883545   \n",
       "3aVyHFxRkf8lSjhWdJ68AW       1.587991       3.303077       1.470967   \n",
       "0zIyxS6QxZogHOpGkI6IZH      -0.007365       0.432226       0.786720   \n",
       "\n",
       "                        component_194  component_195  component_196  \\\n",
       "song_id                                                               \n",
       "6SluaPiV04KOaRTOIScoff       0.125683      -0.669925      -0.052231   \n",
       "5qEVq3ZEGr0Got441lueWS       0.192309       0.368959      -0.421887   \n",
       "5kqIPrATaCc2LqxVWzQGbk       0.998739       4.821048      -0.980344   \n",
       "3aVyHFxRkf8lSjhWdJ68AW      -2.036976       1.903563       1.833053   \n",
       "0zIyxS6QxZogHOpGkI6IZH      -1.506545       0.520168      -0.172535   \n",
       "\n",
       "                        component_197  component_198  component_199  \\\n",
       "song_id                                                               \n",
       "6SluaPiV04KOaRTOIScoff      -0.472644       0.740681      -0.418329   \n",
       "5qEVq3ZEGr0Got441lueWS      -0.240747      -0.054668       0.599885   \n",
       "5kqIPrATaCc2LqxVWzQGbk       0.553223       2.967091      -9.093422   \n",
       "3aVyHFxRkf8lSjhWdJ68AW       1.677840      -1.467334       1.296368   \n",
       "0zIyxS6QxZogHOpGkI6IZH      -0.729703      -2.145918       0.066724   \n",
       "\n",
       "                        component_200  \n",
       "song_id                                \n",
       "6SluaPiV04KOaRTOIScoff      -0.879269  \n",
       "5qEVq3ZEGr0Got441lueWS      -0.305045  \n",
       "5kqIPrATaCc2LqxVWzQGbk       8.490202  \n",
       "3aVyHFxRkf8lSjhWdJ68AW      -1.034998  \n",
       "0zIyxS6QxZogHOpGkI6IZH      -1.470035  \n",
       "\n",
       "[5 rows x 200 columns]"
      ]
     },
     "execution_count": 59,
     "metadata": {},
     "output_type": "execute_result"
    }
   ],
   "source": [
    "components_names = [\"component_\"+str(i+1) for i in range(200)]\n",
    "svd_df = pd.DataFrame(svd_matrix,\n",
    "                      columns=components_names)\n",
    "svd_df.insert(0, 'song_id', main_wfeats.index)\n",
    "svd_df.set_index('song_id', inplace=True)\n",
    "svd_df.head()"
   ]
  },
  {
   "cell_type": "code",
   "execution_count": 75,
   "metadata": {},
   "outputs": [],
   "source": [
    "svd_df.to_csv('../data/svd_df.csv')"
   ]
  },
  {
   "cell_type": "markdown",
   "metadata": {},
   "source": [
    "### Mapping Song Titles back unto Song ID"
   ]
  },
  {
   "cell_type": "code",
   "execution_count": 63,
   "metadata": {},
   "outputs": [],
   "source": [
    "loadings = pd.DataFrame(SVD.components_,\n",
    "                        index=components_names,\n",
    "                        columns=main_wfeats.columns).T"
   ]
  },
  {
   "cell_type": "code",
   "execution_count": 64,
   "metadata": {},
   "outputs": [],
   "source": [
    "for col in loadings.columns:\n",
    "    loadings[f'abs_{col}'] = np.abs(loadings[col])"
   ]
  },
  {
   "cell_type": "code",
   "execution_count": 65,
   "metadata": {},
   "outputs": [
    {
     "data": {
      "text/plain": [
       "(650, 400)"
      ]
     },
     "execution_count": 65,
     "metadata": {},
     "output_type": "execute_result"
    }
   ],
   "source": [
    "loadings.shape"
   ]
  },
  {
   "cell_type": "code",
   "execution_count": 78,
   "metadata": {},
   "outputs": [],
   "source": [
    "def get_top_loadings(comp_num):\n",
    "    return loadings.sort_values(f'abs_component_{comp_num}',ascending=False).head(10)[[f'component_{comp_num}']]"
   ]
  },
  {
   "cell_type": "code",
   "execution_count": 106,
   "metadata": {},
   "outputs": [
    {
     "data": {
      "text/html": [
       "<div>\n",
       "<style scoped>\n",
       "    .dataframe tbody tr th:only-of-type {\n",
       "        vertical-align: middle;\n",
       "    }\n",
       "\n",
       "    .dataframe tbody tr th {\n",
       "        vertical-align: top;\n",
       "    }\n",
       "\n",
       "    .dataframe thead th {\n",
       "        text-align: right;\n",
       "    }\n",
       "</style>\n",
       "<table border=\"1\" class=\"dataframe\">\n",
       "  <thead>\n",
       "    <tr style=\"text-align: right;\">\n",
       "      <th></th>\n",
       "      <th>component_180</th>\n",
       "    </tr>\n",
       "  </thead>\n",
       "  <tbody>\n",
       "    <tr>\n",
       "      <th>genre_bassline</th>\n",
       "      <td>0.267225</td>\n",
       "    </tr>\n",
       "    <tr>\n",
       "      <th>genre_sheffield indie</th>\n",
       "      <td>-0.185839</td>\n",
       "    </tr>\n",
       "    <tr>\n",
       "      <th>genre_canadian blues</th>\n",
       "      <td>-0.174316</td>\n",
       "    </tr>\n",
       "    <tr>\n",
       "      <th>genre_swamp pop</th>\n",
       "      <td>0.172025</td>\n",
       "    </tr>\n",
       "    <tr>\n",
       "      <th>key_7</th>\n",
       "      <td>0.171019</td>\n",
       "    </tr>\n",
       "    <tr>\n",
       "      <th>genre_idol</th>\n",
       "      <td>0.162617</td>\n",
       "    </tr>\n",
       "    <tr>\n",
       "      <th>genre_canadian punk</th>\n",
       "      <td>0.148993</td>\n",
       "    </tr>\n",
       "    <tr>\n",
       "      <th>genre_exotica</th>\n",
       "      <td>0.146930</td>\n",
       "    </tr>\n",
       "    <tr>\n",
       "      <th>key_0</th>\n",
       "      <td>-0.139129</td>\n",
       "    </tr>\n",
       "    <tr>\n",
       "      <th>genre_underground rap</th>\n",
       "      <td>0.138937</td>\n",
       "    </tr>\n",
       "  </tbody>\n",
       "</table>\n",
       "</div>"
      ],
      "text/plain": [
       "                       component_180\n",
       "genre_bassline              0.267225\n",
       "genre_sheffield indie      -0.185839\n",
       "genre_canadian blues       -0.174316\n",
       "genre_swamp pop             0.172025\n",
       "key_7                       0.171019\n",
       "genre_idol                  0.162617\n",
       "genre_canadian punk         0.148993\n",
       "genre_exotica               0.146930\n",
       "key_0                      -0.139129\n",
       "genre_underground rap       0.138937"
      ]
     },
     "execution_count": 106,
     "metadata": {},
     "output_type": "execute_result"
    }
   ],
   "source": [
    "get_top_loadings(180)"
   ]
  },
  {
   "cell_type": "code",
   "execution_count": 67,
   "metadata": {},
   "outputs": [
    {
     "data": {
      "text/html": [
       "<div>\n",
       "<style scoped>\n",
       "    .dataframe tbody tr th:only-of-type {\n",
       "        vertical-align: middle;\n",
       "    }\n",
       "\n",
       "    .dataframe tbody tr th {\n",
       "        vertical-align: top;\n",
       "    }\n",
       "\n",
       "    .dataframe thead th {\n",
       "        text-align: right;\n",
       "    }\n",
       "</style>\n",
       "<table border=\"1\" class=\"dataframe\">\n",
       "  <thead>\n",
       "    <tr style=\"text-align: right;\">\n",
       "      <th></th>\n",
       "      <th>tv_dim_11</th>\n",
       "      <th>tm_dim_11</th>\n",
       "      <th>tm_dim_10</th>\n",
       "      <th>tv_dim_10</th>\n",
       "      <th>tm_dim_8</th>\n",
       "      <th>tv_dim_8</th>\n",
       "      <th>tm_dim_4</th>\n",
       "      <th>tv_dim_4</th>\n",
       "      <th>tm_dim_6</th>\n",
       "      <th>tv_dim_6</th>\n",
       "    </tr>\n",
       "  </thead>\n",
       "  <tbody>\n",
       "    <tr>\n",
       "      <th>component_1</th>\n",
       "      <td>0.201596</td>\n",
       "      <td>0.201596</td>\n",
       "      <td>0.201175</td>\n",
       "      <td>0.201175</td>\n",
       "      <td>0.198804</td>\n",
       "      <td>0.198804</td>\n",
       "      <td>0.198531</td>\n",
       "      <td>0.198531</td>\n",
       "      <td>0.19058</td>\n",
       "      <td>0.19058</td>\n",
       "    </tr>\n",
       "  </tbody>\n",
       "</table>\n",
       "</div>"
      ],
      "text/plain": [
       "             tv_dim_11  tm_dim_11  tm_dim_10  tv_dim_10  tm_dim_8  tv_dim_8  \\\n",
       "component_1   0.201596   0.201596   0.201175   0.201175  0.198804  0.198804   \n",
       "\n",
       "             tm_dim_4  tv_dim_4  tm_dim_6  tv_dim_6  \n",
       "component_1  0.198531  0.198531   0.19058   0.19058  "
      ]
     },
     "execution_count": 67,
     "metadata": {},
     "output_type": "execute_result"
    }
   ],
   "source": [
    "loadings.sort_values('abs_component_1',ascending=False).head(10)[['component_1']].T"
   ]
  },
  {
   "cell_type": "code",
   "execution_count": 68,
   "metadata": {},
   "outputs": [
    {
     "data": {
      "text/html": [
       "<div>\n",
       "<style scoped>\n",
       "    .dataframe tbody tr th:only-of-type {\n",
       "        vertical-align: middle;\n",
       "    }\n",
       "\n",
       "    .dataframe tbody tr th {\n",
       "        vertical-align: top;\n",
       "    }\n",
       "\n",
       "    .dataframe thead th {\n",
       "        text-align: right;\n",
       "    }\n",
       "</style>\n",
       "<table border=\"1\" class=\"dataframe\">\n",
       "  <thead>\n",
       "    <tr style=\"text-align: right;\">\n",
       "      <th></th>\n",
       "      <th>energy</th>\n",
       "      <th>acousticness</th>\n",
       "      <th>pv_dim_2</th>\n",
       "      <th>pm_dim_2</th>\n",
       "      <th>mean_loudness</th>\n",
       "      <th>loudness</th>\n",
       "      <th>pm_dim_7</th>\n",
       "      <th>pv_dim_7</th>\n",
       "      <th>pv_dim_9</th>\n",
       "      <th>pm_dim_9</th>\n",
       "    </tr>\n",
       "  </thead>\n",
       "  <tbody>\n",
       "    <tr>\n",
       "      <th>component_2</th>\n",
       "      <td>0.244124</td>\n",
       "      <td>-0.195062</td>\n",
       "      <td>0.176836</td>\n",
       "      <td>0.176836</td>\n",
       "      <td>0.172692</td>\n",
       "      <td>0.16494</td>\n",
       "      <td>0.154629</td>\n",
       "      <td>0.154629</td>\n",
       "      <td>0.148244</td>\n",
       "      <td>0.148244</td>\n",
       "    </tr>\n",
       "  </tbody>\n",
       "</table>\n",
       "</div>"
      ],
      "text/plain": [
       "               energy  acousticness  pv_dim_2  pm_dim_2  mean_loudness  \\\n",
       "component_2  0.244124     -0.195062  0.176836  0.176836       0.172692   \n",
       "\n",
       "             loudness  pm_dim_7  pv_dim_7  pv_dim_9  pm_dim_9  \n",
       "component_2   0.16494  0.154629  0.154629  0.148244  0.148244  "
      ]
     },
     "execution_count": 68,
     "metadata": {},
     "output_type": "execute_result"
    }
   ],
   "source": [
    "loadings.sort_values('abs_component_2',ascending=False).head(10)[['component_2']].T"
   ]
  },
  {
   "cell_type": "code",
   "execution_count": 77,
   "metadata": {},
   "outputs": [
    {
     "data": {
      "text/html": [
       "<div>\n",
       "<style scoped>\n",
       "    .dataframe tbody tr th:only-of-type {\n",
       "        vertical-align: middle;\n",
       "    }\n",
       "\n",
       "    .dataframe tbody tr th {\n",
       "        vertical-align: top;\n",
       "    }\n",
       "\n",
       "    .dataframe thead th {\n",
       "        text-align: right;\n",
       "    }\n",
       "</style>\n",
       "<table border=\"1\" class=\"dataframe\">\n",
       "  <thead>\n",
       "    <tr style=\"text-align: right;\">\n",
       "      <th></th>\n",
       "      <th>genre_classic rock</th>\n",
       "      <th>genre_album rock</th>\n",
       "      <th>genre_mellow gold</th>\n",
       "      <th>genre_folk rock</th>\n",
       "      <th>genre_soft rock</th>\n",
       "      <th>album_release_date</th>\n",
       "      <th>genre_southern rock</th>\n",
       "      <th>genre_art rock</th>\n",
       "      <th>genre_blues-rock</th>\n",
       "      <th>genre_roots rock</th>\n",
       "    </tr>\n",
       "  </thead>\n",
       "  <tbody>\n",
       "    <tr>\n",
       "      <th>component_3</th>\n",
       "      <td>0.244124</td>\n",
       "      <td>0.219</td>\n",
       "      <td>0.208467</td>\n",
       "      <td>0.207704</td>\n",
       "      <td>0.192774</td>\n",
       "      <td>-0.181759</td>\n",
       "      <td>0.181531</td>\n",
       "      <td>0.181044</td>\n",
       "      <td>0.175666</td>\n",
       "      <td>0.172679</td>\n",
       "    </tr>\n",
       "  </tbody>\n",
       "</table>\n",
       "</div>"
      ],
      "text/plain": [
       "             genre_classic rock  genre_album rock  genre_mellow gold  \\\n",
       "component_3            0.244124             0.219           0.208467   \n",
       "\n",
       "             genre_folk rock  genre_soft rock  album_release_date  \\\n",
       "component_3         0.207704         0.192774           -0.181759   \n",
       "\n",
       "             genre_southern rock  genre_art rock  genre_blues-rock  \\\n",
       "component_3             0.181531        0.181044          0.175666   \n",
       "\n",
       "             genre_roots rock  \n",
       "component_3          0.172679  "
      ]
     },
     "execution_count": 77,
     "metadata": {},
     "output_type": "execute_result"
    }
   ],
   "source": [
    "loadings.sort_values('abs_component_3',ascending=False).head(10)[['component_3']].T"
   ]
  },
  {
   "cell_type": "code",
   "execution_count": 69,
   "metadata": {},
   "outputs": [
    {
     "data": {
      "text/html": [
       "<div>\n",
       "<style scoped>\n",
       "    .dataframe tbody tr th:only-of-type {\n",
       "        vertical-align: middle;\n",
       "    }\n",
       "\n",
       "    .dataframe tbody tr th {\n",
       "        vertical-align: top;\n",
       "    }\n",
       "\n",
       "    .dataframe thead th {\n",
       "        text-align: right;\n",
       "    }\n",
       "</style>\n",
       "<table border=\"1\" class=\"dataframe\">\n",
       "  <thead>\n",
       "    <tr style=\"text-align: right;\">\n",
       "      <th></th>\n",
       "      <th>component_5</th>\n",
       "    </tr>\n",
       "  </thead>\n",
       "  <tbody>\n",
       "    <tr>\n",
       "      <th>genre_indie rock</th>\n",
       "      <td>0.220666</td>\n",
       "    </tr>\n",
       "    <tr>\n",
       "      <th>genre_indie pop</th>\n",
       "      <td>0.218757</td>\n",
       "    </tr>\n",
       "    <tr>\n",
       "      <th>genre_indie folk</th>\n",
       "      <td>0.183267</td>\n",
       "    </tr>\n",
       "    <tr>\n",
       "      <th>genre_modern rock</th>\n",
       "      <td>0.177045</td>\n",
       "    </tr>\n",
       "    <tr>\n",
       "      <th>genre_chamber pop</th>\n",
       "      <td>0.171118</td>\n",
       "    </tr>\n",
       "    <tr>\n",
       "      <th>genre_stomp and holler</th>\n",
       "      <td>0.168916</td>\n",
       "    </tr>\n",
       "    <tr>\n",
       "      <th>genre_country</th>\n",
       "      <td>-0.157677</td>\n",
       "    </tr>\n",
       "    <tr>\n",
       "      <th>genre_garage rock</th>\n",
       "      <td>0.150193</td>\n",
       "    </tr>\n",
       "    <tr>\n",
       "      <th>genre_indietronica</th>\n",
       "      <td>0.145115</td>\n",
       "    </tr>\n",
       "    <tr>\n",
       "      <th>genre_neo-psychedelic</th>\n",
       "      <td>0.143012</td>\n",
       "    </tr>\n",
       "  </tbody>\n",
       "</table>\n",
       "</div>"
      ],
      "text/plain": [
       "                        component_5\n",
       "genre_indie rock           0.220666\n",
       "genre_indie pop            0.218757\n",
       "genre_indie folk           0.183267\n",
       "genre_modern rock          0.177045\n",
       "genre_chamber pop          0.171118\n",
       "genre_stomp and holler     0.168916\n",
       "genre_country             -0.157677\n",
       "genre_garage rock          0.150193\n",
       "genre_indietronica         0.145115\n",
       "genre_neo-psychedelic      0.143012"
      ]
     },
     "execution_count": 69,
     "metadata": {},
     "output_type": "execute_result"
    }
   ],
   "source": [
    "loadings.sort_values('abs_component_5', ascending=False).head(10)[['component_5']]"
   ]
  },
  {
   "cell_type": "markdown",
   "metadata": {},
   "source": [
    "Timbre tells the story of the most important component, though the feature importance of the other 199 components is almost entirely made up of the genres associated with the song's performing artist.\n",
    "\n",
    "**ADD MORE** TK"
   ]
  },
  {
   "cell_type": "markdown",
   "metadata": {},
   "source": [
    "##### Exporting `svd_matrix` for calculating Cosine similarity"
   ]
  },
  {
   "cell_type": "code",
   "execution_count": 74,
   "metadata": {},
   "outputs": [],
   "source": [
    "with open('../pickle/svd_matrix.pkl', 'wb') as f:\n",
    "    pickle.dump(svd_matrix, f)"
   ]
  },
  {
   "cell_type": "markdown",
   "metadata": {},
   "source": [
    "## Computing SVD | Just Genres\n",
    "\n",
    "Since genres are so influential within each component, and since the genre's are directly tied to artists and not to individual songs, the song recommendations computed through the original SVD matrix often feature the same artist as the one who performed the song given. Even if we account for the performing artist, and only recommend songs that *aren't* from the artist, the resulting recommendations are quite homogenous with regard to the performing artists shown.\n",
    "\n",
    "In order to account for this level of homogeneity, and recommend more song titles that don't come from the same 2-3 artists, we'll try and compute SVD for just the genres. The thought is if we can truncate the number of features reserved for genres significantly, the cosine similarity between titles will be more influenced by the actual audio features . "
   ]
  },
  {
   "cell_type": "code",
   "execution_count": 103,
   "metadata": {},
   "outputs": [
    {
     "data": {
      "text/plain": [
       "561"
      ]
     },
     "execution_count": 103,
     "metadata": {},
     "output_type": "execute_result"
    }
   ],
   "source": [
    "len(genre_dummies.columns)"
   ]
  },
  {
   "cell_type": "markdown",
   "metadata": {},
   "source": [
    "##### Creating Truncated SVD with 20 Genre Components"
   ]
  },
  {
   "cell_type": "code",
   "execution_count": 115,
   "metadata": {},
   "outputs": [],
   "source": [
    "SVDg = TruncatedSVD(20)\n",
    "svd_g = SVDg.fit_transform(genre_dummies)"
   ]
  },
  {
   "cell_type": "markdown",
   "metadata": {},
   "source": [
    "#### Looking at the Explained Variance Ratio"
   ]
  },
  {
   "cell_type": "code",
   "execution_count": 116,
   "metadata": {},
   "outputs": [
    {
     "data": {
      "text/plain": [
       "Text(0,0.5,'variance ratio')"
      ]
     },
     "execution_count": 116,
     "metadata": {},
     "output_type": "execute_result"
    },
    {
     "data": {
      "image/png": "[encoded data removed]",
      "text/plain": [
       "<Figure size 720x540 with 1 Axes>"
      ]
     },
     "metadata": {},
     "output_type": "display_data"
    }
   ],
   "source": [
    "fig = plt.figure(figsize=(10,7.5))\n",
    "plt.bar(np.array(range(20))+1, \n",
    "        SVDg.explained_variance_ratio_, \n",
    "        color='g', \n",
    "        label='explained variance')\n",
    "plt.plot(np.array(range(20))+1, \n",
    "         np.cumsum(SVDg.explained_variance_ratio_), \n",
    "         label='cumulative explained variance')\n",
    "plt.legend()\n",
    "plt.xlabel('component')\n",
    "plt.ylabel('variance ratio')"
   ]
  },
  {
   "cell_type": "code",
   "execution_count": 118,
   "metadata": {},
   "outputs": [
    {
     "data": {
      "text/html": [
       "<div>\n",
       "<style scoped>\n",
       "    .dataframe tbody tr th:only-of-type {\n",
       "        vertical-align: middle;\n",
       "    }\n",
       "\n",
       "    .dataframe tbody tr th {\n",
       "        vertical-align: top;\n",
       "    }\n",
       "\n",
       "    .dataframe thead th {\n",
       "        text-align: right;\n",
       "    }\n",
       "</style>\n",
       "<table border=\"1\" class=\"dataframe\">\n",
       "  <thead>\n",
       "    <tr style=\"text-align: right;\">\n",
       "      <th></th>\n",
       "      <th>component_1</th>\n",
       "      <th>component_2</th>\n",
       "      <th>component_3</th>\n",
       "      <th>component_4</th>\n",
       "      <th>component_5</th>\n",
       "      <th>component_6</th>\n",
       "      <th>component_7</th>\n",
       "      <th>component_8</th>\n",
       "      <th>component_9</th>\n",
       "      <th>component_10</th>\n",
       "      <th>component_11</th>\n",
       "      <th>component_12</th>\n",
       "      <th>component_13</th>\n",
       "      <th>component_14</th>\n",
       "      <th>component_15</th>\n",
       "      <th>component_16</th>\n",
       "      <th>component_17</th>\n",
       "      <th>component_18</th>\n",
       "      <th>component_19</th>\n",
       "      <th>component_20</th>\n",
       "    </tr>\n",
       "    <tr>\n",
       "      <th>song_id</th>\n",
       "      <th></th>\n",
       "      <th></th>\n",
       "      <th></th>\n",
       "      <th></th>\n",
       "      <th></th>\n",
       "      <th></th>\n",
       "      <th></th>\n",
       "      <th></th>\n",
       "      <th></th>\n",
       "      <th></th>\n",
       "      <th></th>\n",
       "      <th></th>\n",
       "      <th></th>\n",
       "      <th></th>\n",
       "      <th></th>\n",
       "      <th></th>\n",
       "      <th></th>\n",
       "      <th></th>\n",
       "      <th></th>\n",
       "      <th></th>\n",
       "    </tr>\n",
       "  </thead>\n",
       "  <tbody>\n",
       "    <tr>\n",
       "      <th>000xQL6tZNLJzIrtIgxqSl</th>\n",
       "      <td>0.034297</td>\n",
       "      <td>0.518050</td>\n",
       "      <td>0.053728</td>\n",
       "      <td>0.244043</td>\n",
       "      <td>0.257615</td>\n",
       "      <td>-0.868571</td>\n",
       "      <td>-0.223612</td>\n",
       "      <td>0.074650</td>\n",
       "      <td>-0.680127</td>\n",
       "      <td>0.821565</td>\n",
       "      <td>-0.206928</td>\n",
       "      <td>-0.057648</td>\n",
       "      <td>0.142904</td>\n",
       "      <td>-0.057835</td>\n",
       "      <td>0.398555</td>\n",
       "      <td>0.110447</td>\n",
       "      <td>-0.003149</td>\n",
       "      <td>-0.060518</td>\n",
       "      <td>-0.070412</td>\n",
       "      <td>-0.082623</td>\n",
       "    </tr>\n",
       "    <tr>\n",
       "      <th>001wUOgo8t9VElHl45bxzr</th>\n",
       "      <td>0.122199</td>\n",
       "      <td>2.031721</td>\n",
       "      <td>0.938150</td>\n",
       "      <td>-0.035598</td>\n",
       "      <td>-0.062283</td>\n",
       "      <td>0.161413</td>\n",
       "      <td>0.356463</td>\n",
       "      <td>-0.039822</td>\n",
       "      <td>0.528456</td>\n",
       "      <td>-0.632918</td>\n",
       "      <td>0.099124</td>\n",
       "      <td>0.068759</td>\n",
       "      <td>-0.172694</td>\n",
       "      <td>-0.021309</td>\n",
       "      <td>0.439829</td>\n",
       "      <td>0.075144</td>\n",
       "      <td>-0.044450</td>\n",
       "      <td>0.001148</td>\n",
       "      <td>0.105677</td>\n",
       "      <td>0.514341</td>\n",
       "    </tr>\n",
       "    <tr>\n",
       "      <th>003eoIwxETJujVWmNFMoZy</th>\n",
       "      <td>0.049012</td>\n",
       "      <td>0.806849</td>\n",
       "      <td>0.210583</td>\n",
       "      <td>0.302995</td>\n",
       "      <td>0.323582</td>\n",
       "      <td>-1.145095</td>\n",
       "      <td>-0.147424</td>\n",
       "      <td>0.107309</td>\n",
       "      <td>-0.507196</td>\n",
       "      <td>0.723824</td>\n",
       "      <td>-0.150021</td>\n",
       "      <td>-0.066804</td>\n",
       "      <td>0.162174</td>\n",
       "      <td>-0.047570</td>\n",
       "      <td>0.319234</td>\n",
       "      <td>0.101763</td>\n",
       "      <td>-0.008547</td>\n",
       "      <td>-0.054167</td>\n",
       "      <td>-0.057252</td>\n",
       "      <td>-0.150245</td>\n",
       "    </tr>\n",
       "    <tr>\n",
       "      <th>003z5LtGJ2cdJARKIO9LgL</th>\n",
       "      <td>0.754805</td>\n",
       "      <td>-0.008302</td>\n",
       "      <td>-0.122599</td>\n",
       "      <td>1.967591</td>\n",
       "      <td>0.204409</td>\n",
       "      <td>0.516368</td>\n",
       "      <td>-0.155146</td>\n",
       "      <td>0.224087</td>\n",
       "      <td>0.014918</td>\n",
       "      <td>-0.157294</td>\n",
       "      <td>0.053406</td>\n",
       "      <td>0.024636</td>\n",
       "      <td>-0.093837</td>\n",
       "      <td>0.182050</td>\n",
       "      <td>-0.051286</td>\n",
       "      <td>-0.118510</td>\n",
       "      <td>-0.323779</td>\n",
       "      <td>-0.437210</td>\n",
       "      <td>-0.205200</td>\n",
       "      <td>-0.021381</td>\n",
       "    </tr>\n",
       "    <tr>\n",
       "      <th>004S8bMhFQjnbuqvdh6W71</th>\n",
       "      <td>0.422349</td>\n",
       "      <td>0.008751</td>\n",
       "      <td>0.069751</td>\n",
       "      <td>-0.120760</td>\n",
       "      <td>-0.047869</td>\n",
       "      <td>-0.066237</td>\n",
       "      <td>-0.632697</td>\n",
       "      <td>-0.322295</td>\n",
       "      <td>0.336340</td>\n",
       "      <td>0.206080</td>\n",
       "      <td>-0.160609</td>\n",
       "      <td>0.085804</td>\n",
       "      <td>-0.197283</td>\n",
       "      <td>-0.123167</td>\n",
       "      <td>-0.011457</td>\n",
       "      <td>-0.029192</td>\n",
       "      <td>-0.208524</td>\n",
       "      <td>0.327646</td>\n",
       "      <td>-0.231032</td>\n",
       "      <td>-0.107704</td>\n",
       "    </tr>\n",
       "  </tbody>\n",
       "</table>\n",
       "</div>"
      ],
      "text/plain": [
       "                        component_1  component_2  component_3  component_4  \\\n",
       "song_id                                                                      \n",
       "000xQL6tZNLJzIrtIgxqSl     0.034297     0.518050     0.053728     0.244043   \n",
       "001wUOgo8t9VElHl45bxzr     0.122199     2.031721     0.938150    -0.035598   \n",
       "003eoIwxETJujVWmNFMoZy     0.049012     0.806849     0.210583     0.302995   \n",
       "003z5LtGJ2cdJARKIO9LgL     0.754805    -0.008302    -0.122599     1.967591   \n",
       "004S8bMhFQjnbuqvdh6W71     0.422349     0.008751     0.069751    -0.120760   \n",
       "\n",
       "                        component_5  component_6  component_7  component_8  \\\n",
       "song_id                                                                      \n",
       "000xQL6tZNLJzIrtIgxqSl     0.257615    -0.868571    -0.223612     0.074650   \n",
       "001wUOgo8t9VElHl45bxzr    -0.062283     0.161413     0.356463    -0.039822   \n",
       "003eoIwxETJujVWmNFMoZy     0.323582    -1.145095    -0.147424     0.107309   \n",
       "003z5LtGJ2cdJARKIO9LgL     0.204409     0.516368    -0.155146     0.224087   \n",
       "004S8bMhFQjnbuqvdh6W71    -0.047869    -0.066237    -0.632697    -0.322295   \n",
       "\n",
       "                        component_9  component_10  component_11  component_12  \\\n",
       "song_id                                                                         \n",
       "000xQL6tZNLJzIrtIgxqSl    -0.680127      0.821565     -0.206928     -0.057648   \n",
       "001wUOgo8t9VElHl45bxzr     0.528456     -0.632918      0.099124      0.068759   \n",
       "003eoIwxETJujVWmNFMoZy    -0.507196      0.723824     -0.150021     -0.066804   \n",
       "003z5LtGJ2cdJARKIO9LgL     0.014918     -0.157294      0.053406      0.024636   \n",
       "004S8bMhFQjnbuqvdh6W71     0.336340      0.206080     -0.160609      0.085804   \n",
       "\n",
       "                        component_13  component_14  component_15  \\\n",
       "song_id                                                            \n",
       "000xQL6tZNLJzIrtIgxqSl      0.142904     -0.057835      0.398555   \n",
       "001wUOgo8t9VElHl45bxzr     -0.172694     -0.021309      0.439829   \n",
       "003eoIwxETJujVWmNFMoZy      0.162174     -0.047570      0.319234   \n",
       "003z5LtGJ2cdJARKIO9LgL     -0.093837      0.182050     -0.051286   \n",
       "004S8bMhFQjnbuqvdh6W71     -0.197283     -0.123167     -0.011457   \n",
       "\n",
       "                        component_16  component_17  component_18  \\\n",
       "song_id                                                            \n",
       "000xQL6tZNLJzIrtIgxqSl      0.110447     -0.003149     -0.060518   \n",
       "001wUOgo8t9VElHl45bxzr      0.075144     -0.044450      0.001148   \n",
       "003eoIwxETJujVWmNFMoZy      0.101763     -0.008547     -0.054167   \n",
       "003z5LtGJ2cdJARKIO9LgL     -0.118510     -0.323779     -0.437210   \n",
       "004S8bMhFQjnbuqvdh6W71     -0.029192     -0.208524      0.327646   \n",
       "\n",
       "                        component_19  component_20  \n",
       "song_id                                             \n",
       "000xQL6tZNLJzIrtIgxqSl     -0.070412     -0.082623  \n",
       "001wUOgo8t9VElHl45bxzr      0.105677      0.514341  \n",
       "003eoIwxETJujVWmNFMoZy     -0.057252     -0.150245  \n",
       "003z5LtGJ2cdJARKIO9LgL     -0.205200     -0.021381  \n",
       "004S8bMhFQjnbuqvdh6W71     -0.231032     -0.107704  "
      ]
     },
     "execution_count": 118,
     "metadata": {},
     "output_type": "execute_result"
    }
   ],
   "source": [
    "component_names = [\"component_\"+str(i+1) for i in range(20)]\n",
    "svd_dfg = pd.DataFrame(svd_g,\n",
    "                      columns=component_names)\n",
    "svd_dfg.insert(0, 'song_id', genre_dummies.index)\n",
    "svd_dfg.set_index('song_id', inplace=True)\n",
    "svd_dfg.head()"
   ]
  },
  {
   "cell_type": "code",
   "execution_count": 120,
   "metadata": {},
   "outputs": [],
   "source": [
    "loadings_g = pd.DataFrame(SVDg.components_,\n",
    "                        index=component_names,\n",
    "                        columns=genre_dummies.columns).T"
   ]
  },
  {
   "cell_type": "code",
   "execution_count": 121,
   "metadata": {},
   "outputs": [],
   "source": [
    "for col in loadings_g.columns:\n",
    "    loadings_g[f'abs_{col}'] = np.abs(loadings_g[col])"
   ]
  },
  {
   "cell_type": "code",
   "execution_count": 122,
   "metadata": {},
   "outputs": [
    {
     "data": {
      "text/plain": [
       "(561, 20)"
      ]
     },
     "execution_count": 122,
     "metadata": {},
     "output_type": "execute_result"
    }
   ],
   "source": [
    "loadings.shape"
   ]
  },
  {
   "cell_type": "code",
   "execution_count": 123,
   "metadata": {},
   "outputs": [],
   "source": [
    "def get_top_loadings(comp_num):\n",
    "    return loadings_g.sort_values(f'abs_component_{comp_num}',ascending=False).head(10)[[f'component_{comp_num}']]"
   ]
  },
  {
   "cell_type": "code",
   "execution_count": 132,
   "metadata": {},
   "outputs": [
    {
     "data": {
      "text/html": [
       "<div>\n",
       "<style scoped>\n",
       "    .dataframe tbody tr th:only-of-type {\n",
       "        vertical-align: middle;\n",
       "    }\n",
       "\n",
       "    .dataframe tbody tr th {\n",
       "        vertical-align: top;\n",
       "    }\n",
       "\n",
       "    .dataframe thead th {\n",
       "        text-align: right;\n",
       "    }\n",
       "</style>\n",
       "<table border=\"1\" class=\"dataframe\">\n",
       "  <thead>\n",
       "    <tr style=\"text-align: right;\">\n",
       "      <th></th>\n",
       "      <th>component_10</th>\n",
       "    </tr>\n",
       "  </thead>\n",
       "  <tbody>\n",
       "    <tr>\n",
       "      <th>genre_pop</th>\n",
       "      <td>0.368894</td>\n",
       "    </tr>\n",
       "    <tr>\n",
       "      <th>genre_pop rock</th>\n",
       "      <td>-0.265816</td>\n",
       "    </tr>\n",
       "    <tr>\n",
       "      <th>genre_dance pop</th>\n",
       "      <td>0.250864</td>\n",
       "    </tr>\n",
       "    <tr>\n",
       "      <th>genre_folk-pop</th>\n",
       "      <td>-0.227019</td>\n",
       "    </tr>\n",
       "    <tr>\n",
       "      <th>genre_post-teen pop</th>\n",
       "      <td>0.201842</td>\n",
       "    </tr>\n",
       "    <tr>\n",
       "      <th>genre_new jack swing</th>\n",
       "      <td>-0.201310</td>\n",
       "    </tr>\n",
       "    <tr>\n",
       "      <th>genre_modern rock</th>\n",
       "      <td>-0.163744</td>\n",
       "    </tr>\n",
       "    <tr>\n",
       "      <th>genre_folk</th>\n",
       "      <td>-0.155157</td>\n",
       "    </tr>\n",
       "    <tr>\n",
       "      <th>genre_neo soul</th>\n",
       "      <td>-0.154488</td>\n",
       "    </tr>\n",
       "    <tr>\n",
       "      <th>genre_disco</th>\n",
       "      <td>0.152861</td>\n",
       "    </tr>\n",
       "  </tbody>\n",
       "</table>\n",
       "</div>"
      ],
      "text/plain": [
       "                      component_10\n",
       "genre_pop                 0.368894\n",
       "genre_pop rock           -0.265816\n",
       "genre_dance pop           0.250864\n",
       "genre_folk-pop           -0.227019\n",
       "genre_post-teen pop       0.201842\n",
       "genre_new jack swing     -0.201310\n",
       "genre_modern rock        -0.163744\n",
       "genre_folk               -0.155157\n",
       "genre_neo soul           -0.154488\n",
       "genre_disco               0.152861"
      ]
     },
     "execution_count": 132,
     "metadata": {},
     "output_type": "execute_result"
    }
   ],
   "source": [
    "get_top_loadings(10)"
   ]
  },
  {
   "cell_type": "markdown",
   "metadata": {},
   "source": [
    "#### Adding in Other Song Features for Modeling Ready DataFrame"
   ]
  },
  {
   "cell_type": "code",
   "execution_count": 134,
   "metadata": {},
   "outputs": [],
   "source": [
    "main_songs = pd.read_csv('../data/main_wfeats.csv', index_col='song_id')"
   ]
  },
  {
   "cell_type": "code",
   "execution_count": 135,
   "metadata": {},
   "outputs": [
    {
     "data": {
      "text/plain": [
       "Index(['Unnamed: 0', 'album_release_date', 'artist_id', 'artist_name',\n",
       "       'duration_ms', 'explicit', 'linked_album', 'song_title', 'danceability',\n",
       "       'energy', 'key', 'loudness', 'mode', 'speechiness', 'acousticness',\n",
       "       'instrumentalness', 'liveness', 'valence', 'tempo', 'time_signature',\n",
       "       'key_changes', 'mean_song_conf', 'mean_loudness', 'mean_mode',\n",
       "       'mean_mode_conf', 'mean_tempo', 'mean_tempo_conf', 'var_song_conf',\n",
       "       'var_loudness', 'var_mode', 'var_mode_conf', 'var_tempo',\n",
       "       'var_tempo_conf', 'tm_dim_1', 'tm_dim_2', 'tm_dim_3', 'tm_dim_4',\n",
       "       'tm_dim_5', 'tm_dim_6', 'tm_dim_7', 'tm_dim_8', 'tm_dim_9', 'tm_dim_10',\n",
       "       'tm_dim_11', 'tm_dim_12', 'tv_dim_1', 'tv_dim_2', 'tv_dim_3',\n",
       "       'tv_dim_4', 'tv_dim_5', 'tv_dim_6', 'tv_dim_7', 'tv_dim_8', 'tv_dim_9',\n",
       "       'tv_dim_10', 'tv_dim_11', 'tv_dim_12', 'pm_dim_1', 'pm_dim_2',\n",
       "       'pm_dim_3', 'pm_dim_4', 'pm_dim_5', 'pm_dim_6', 'pm_dim_7', 'pm_dim_8',\n",
       "       'pm_dim_9', 'pm_dim_10', 'pm_dim_11', 'pm_dim_12', 'pv_dim_1',\n",
       "       'pv_dim_2', 'pv_dim_3', 'pv_dim_4', 'pv_dim_5', 'pv_dim_6', 'pv_dim_7',\n",
       "       'pv_dim_8', 'pv_dim_9', 'pv_dim_10', 'pv_dim_11', 'pv_dim_12'],\n",
       "      dtype='object')"
      ]
     },
     "execution_count": 135,
     "metadata": {},
     "output_type": "execute_result"
    }
   ],
   "source": [
    "main_songs.columns"
   ]
  },
  {
   "cell_type": "code",
   "execution_count": 136,
   "metadata": {},
   "outputs": [],
   "source": [
    "main_songs.drop(['Unnamed: 0', 'album_release_date',\n",
    "                 'artist_id', 'artist_name', 'duration_ms',\n",
    "                 'linked_album', 'song_title'], 1, inplace=True)"
   ]
  },
  {
   "cell_type": "code",
   "execution_count": 138,
   "metadata": {},
   "outputs": [
    {
     "data": {
      "text/plain": [
       "(22891, 74)"
      ]
     },
     "execution_count": 138,
     "metadata": {},
     "output_type": "execute_result"
    }
   ],
   "source": [
    "main_songs.shape"
   ]
  },
  {
   "cell_type": "code",
   "execution_count": 140,
   "metadata": {},
   "outputs": [],
   "source": [
    "scale_songs = StandardScaler()\n",
    "main_songs_svd = main_songs.merge(svd_dfg, left_on='song_id', right_on='song_id')\n",
    "main_songs_scaled_svd = scale_songs.fit_transform(main_songs_svd)"
   ]
  },
  {
   "cell_type": "markdown",
   "metadata": {},
   "source": [
    "##### Pickling Song Listing for Calculating Cosine Similarity"
   ]
  },
  {
   "cell_type": "code",
   "execution_count": 141,
   "metadata": {},
   "outputs": [],
   "source": [
    "with open('../data/main_songs_scaled_svd.pkl', 'wb') as f:\n",
    "    pickle.dump(main_songs_scaled_svd, f)"
   ]
  },
  {
   "cell_type": "code",
   "execution_count": 142,
   "metadata": {},
   "outputs": [],
   "source": [
    "svd_dfg.to_csv('../data/svd_dfg.csv')"
   ]
  }
 ],
 "metadata": {
  "kernelspec": {
   "display_name": "Python 3",
   "language": "python",
   "name": "python3"
  },
  "language_info": {
   "codemirror_mode": {
    "name": "ipython",
    "version": 3
   },
   "file_extension": ".py",
   "mimetype": "text/x-python",
   "name": "python",
   "nbconvert_exporter": "python",
   "pygments_lexer": "ipython3",
   "version": "3.6.3"
  }
 },
 "nbformat": 4,
 "nbformat_minor": 2
}
