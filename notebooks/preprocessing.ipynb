{
 "cells": [
  {
   "cell_type": "markdown",
   "metadata": {},
   "source": [
    "# Preprocessing"
   ]
  },
  {
   "cell_type": "code",
   "execution_count": 1,
   "metadata": {},
   "outputs": [],
   "source": [
    "import numpy as np\n",
    "import pandas as pd"
   ]
  },
  {
   "cell_type": "markdown",
   "metadata": {},
   "source": [
    "## One-Hot Encode Genres"
   ]
  },
  {
   "cell_type": "code",
   "execution_count": 2,
   "metadata": {},
   "outputs": [],
   "source": [
    "songs = pd.read_csv('../data/song_list_v2.csv').set_index('s_song_id')\n",
    "gs = pd.read_csv('../data/gsong_lookup.csv').set_index('gs_id')"
   ]
  },
  {
   "cell_type": "code",
   "execution_count": null,
   "metadata": {},
   "outputs": [],
   "source": [
    "song_feats = "
   ]
  },
  {
   "cell_type": "code",
   "execution_count": 15,
   "metadata": {},
   "outputs": [],
   "source": [
    "gsg = gs[['song_id', 'genre_name']].set_index('song_id')"
   ]
  },
  {
   "cell_type": "code",
   "execution_count": 20,
   "metadata": {},
   "outputs": [],
   "source": [
    "genre_dummies = pd.get_dummies(gsg).groupby(['song_id']).sum()"
   ]
  },
  {
   "cell_type": "code",
   "execution_count": 24,
   "metadata": {},
   "outputs": [
    {
     "data": {
      "text/plain": [
       "(21033, 561)"
      ]
     },
     "execution_count": 24,
     "metadata": {},
     "output_type": "execute_result"
    }
   ],
   "source": [
    "genre_dummies.shape"
   ]
  },
  {
   "cell_type": "code",
   "execution_count": 21,
   "metadata": {},
   "outputs": [
    {
     "data": {
      "text/html": [
       "<div>\n",
       "<style scoped>\n",
       "    .dataframe tbody tr th:only-of-type {\n",
       "        vertical-align: middle;\n",
       "    }\n",
       "\n",
       "    .dataframe tbody tr th {\n",
       "        vertical-align: top;\n",
       "    }\n",
       "\n",
       "    .dataframe thead th {\n",
       "        text-align: right;\n",
       "    }\n",
       "</style>\n",
       "<table border=\"1\" class=\"dataframe\">\n",
       "  <thead>\n",
       "    <tr style=\"text-align: right;\">\n",
       "      <th></th>\n",
       "      <th>genre_name_a cappella</th>\n",
       "      <th>genre_name_acid house</th>\n",
       "      <th>genre_name_acid jazz</th>\n",
       "      <th>genre_name_acoustic blues</th>\n",
       "      <th>genre_name_acoustic pop</th>\n",
       "      <th>genre_name_acoustic punk</th>\n",
       "      <th>genre_name_adult standards</th>\n",
       "      <th>genre_name_african rock</th>\n",
       "      <th>genre_name_album rock</th>\n",
       "      <th>genre_name_albuquerque indie</th>\n",
       "      <th>...</th>\n",
       "      <th>genre_name_vogue</th>\n",
       "      <th>genre_name_west coast rap</th>\n",
       "      <th>genre_name_west coast trap</th>\n",
       "      <th>genre_name_western swing</th>\n",
       "      <th>genre_name_world</th>\n",
       "      <th>genre_name_world worship</th>\n",
       "      <th>genre_name_worship</th>\n",
       "      <th>genre_name_wrestling</th>\n",
       "      <th>genre_name_yugoslav rock</th>\n",
       "      <th>genre_name_zolo</th>\n",
       "    </tr>\n",
       "    <tr>\n",
       "      <th>song_id</th>\n",
       "      <th></th>\n",
       "      <th></th>\n",
       "      <th></th>\n",
       "      <th></th>\n",
       "      <th></th>\n",
       "      <th></th>\n",
       "      <th></th>\n",
       "      <th></th>\n",
       "      <th></th>\n",
       "      <th></th>\n",
       "      <th></th>\n",
       "      <th></th>\n",
       "      <th></th>\n",
       "      <th></th>\n",
       "      <th></th>\n",
       "      <th></th>\n",
       "      <th></th>\n",
       "      <th></th>\n",
       "      <th></th>\n",
       "      <th></th>\n",
       "      <th></th>\n",
       "    </tr>\n",
       "  </thead>\n",
       "  <tbody>\n",
       "    <tr>\n",
       "      <th>000xQL6tZNLJzIrtIgxqSl</th>\n",
       "      <td>0</td>\n",
       "      <td>0</td>\n",
       "      <td>0</td>\n",
       "      <td>0</td>\n",
       "      <td>0</td>\n",
       "      <td>0</td>\n",
       "      <td>0</td>\n",
       "      <td>0</td>\n",
       "      <td>0</td>\n",
       "      <td>0</td>\n",
       "      <td>...</td>\n",
       "      <td>0</td>\n",
       "      <td>0</td>\n",
       "      <td>0</td>\n",
       "      <td>0</td>\n",
       "      <td>0</td>\n",
       "      <td>0</td>\n",
       "      <td>0</td>\n",
       "      <td>0</td>\n",
       "      <td>0</td>\n",
       "      <td>0</td>\n",
       "    </tr>\n",
       "    <tr>\n",
       "      <th>001wUOgo8t9VElHl45bxzr</th>\n",
       "      <td>0</td>\n",
       "      <td>0</td>\n",
       "      <td>0</td>\n",
       "      <td>0</td>\n",
       "      <td>0</td>\n",
       "      <td>0</td>\n",
       "      <td>0</td>\n",
       "      <td>0</td>\n",
       "      <td>0</td>\n",
       "      <td>0</td>\n",
       "      <td>...</td>\n",
       "      <td>0</td>\n",
       "      <td>0</td>\n",
       "      <td>0</td>\n",
       "      <td>0</td>\n",
       "      <td>0</td>\n",
       "      <td>0</td>\n",
       "      <td>0</td>\n",
       "      <td>0</td>\n",
       "      <td>0</td>\n",
       "      <td>0</td>\n",
       "    </tr>\n",
       "    <tr>\n",
       "      <th>003eoIwxETJujVWmNFMoZy</th>\n",
       "      <td>0</td>\n",
       "      <td>0</td>\n",
       "      <td>0</td>\n",
       "      <td>0</td>\n",
       "      <td>0</td>\n",
       "      <td>0</td>\n",
       "      <td>0</td>\n",
       "      <td>0</td>\n",
       "      <td>0</td>\n",
       "      <td>0</td>\n",
       "      <td>...</td>\n",
       "      <td>0</td>\n",
       "      <td>0</td>\n",
       "      <td>0</td>\n",
       "      <td>0</td>\n",
       "      <td>0</td>\n",
       "      <td>0</td>\n",
       "      <td>0</td>\n",
       "      <td>0</td>\n",
       "      <td>0</td>\n",
       "      <td>0</td>\n",
       "    </tr>\n",
       "    <tr>\n",
       "      <th>003z5LtGJ2cdJARKIO9LgL</th>\n",
       "      <td>0</td>\n",
       "      <td>0</td>\n",
       "      <td>0</td>\n",
       "      <td>0</td>\n",
       "      <td>0</td>\n",
       "      <td>0</td>\n",
       "      <td>0</td>\n",
       "      <td>0</td>\n",
       "      <td>0</td>\n",
       "      <td>0</td>\n",
       "      <td>...</td>\n",
       "      <td>0</td>\n",
       "      <td>0</td>\n",
       "      <td>0</td>\n",
       "      <td>0</td>\n",
       "      <td>0</td>\n",
       "      <td>0</td>\n",
       "      <td>0</td>\n",
       "      <td>0</td>\n",
       "      <td>0</td>\n",
       "      <td>0</td>\n",
       "    </tr>\n",
       "    <tr>\n",
       "      <th>004S8bMhFQjnbuqvdh6W71</th>\n",
       "      <td>0</td>\n",
       "      <td>0</td>\n",
       "      <td>0</td>\n",
       "      <td>0</td>\n",
       "      <td>0</td>\n",
       "      <td>0</td>\n",
       "      <td>0</td>\n",
       "      <td>0</td>\n",
       "      <td>0</td>\n",
       "      <td>0</td>\n",
       "      <td>...</td>\n",
       "      <td>0</td>\n",
       "      <td>0</td>\n",
       "      <td>0</td>\n",
       "      <td>0</td>\n",
       "      <td>0</td>\n",
       "      <td>0</td>\n",
       "      <td>0</td>\n",
       "      <td>0</td>\n",
       "      <td>0</td>\n",
       "      <td>0</td>\n",
       "    </tr>\n",
       "  </tbody>\n",
       "</table>\n",
       "<p>5 rows × 561 columns</p>\n",
       "</div>"
      ],
      "text/plain": [
       "                        genre_name_a cappella  genre_name_acid house  \\\n",
       "song_id                                                                \n",
       "000xQL6tZNLJzIrtIgxqSl                      0                      0   \n",
       "001wUOgo8t9VElHl45bxzr                      0                      0   \n",
       "003eoIwxETJujVWmNFMoZy                      0                      0   \n",
       "003z5LtGJ2cdJARKIO9LgL                      0                      0   \n",
       "004S8bMhFQjnbuqvdh6W71                      0                      0   \n",
       "\n",
       "                        genre_name_acid jazz  genre_name_acoustic blues  \\\n",
       "song_id                                                                   \n",
       "000xQL6tZNLJzIrtIgxqSl                     0                          0   \n",
       "001wUOgo8t9VElHl45bxzr                     0                          0   \n",
       "003eoIwxETJujVWmNFMoZy                     0                          0   \n",
       "003z5LtGJ2cdJARKIO9LgL                     0                          0   \n",
       "004S8bMhFQjnbuqvdh6W71                     0                          0   \n",
       "\n",
       "                        genre_name_acoustic pop  genre_name_acoustic punk  \\\n",
       "song_id                                                                     \n",
       "000xQL6tZNLJzIrtIgxqSl                        0                         0   \n",
       "001wUOgo8t9VElHl45bxzr                        0                         0   \n",
       "003eoIwxETJujVWmNFMoZy                        0                         0   \n",
       "003z5LtGJ2cdJARKIO9LgL                        0                         0   \n",
       "004S8bMhFQjnbuqvdh6W71                        0                         0   \n",
       "\n",
       "                        genre_name_adult standards  genre_name_african rock  \\\n",
       "song_id                                                                       \n",
       "000xQL6tZNLJzIrtIgxqSl                           0                        0   \n",
       "001wUOgo8t9VElHl45bxzr                           0                        0   \n",
       "003eoIwxETJujVWmNFMoZy                           0                        0   \n",
       "003z5LtGJ2cdJARKIO9LgL                           0                        0   \n",
       "004S8bMhFQjnbuqvdh6W71                           0                        0   \n",
       "\n",
       "                        genre_name_album rock  genre_name_albuquerque indie  \\\n",
       "song_id                                                                       \n",
       "000xQL6tZNLJzIrtIgxqSl                      0                             0   \n",
       "001wUOgo8t9VElHl45bxzr                      0                             0   \n",
       "003eoIwxETJujVWmNFMoZy                      0                             0   \n",
       "003z5LtGJ2cdJARKIO9LgL                      0                             0   \n",
       "004S8bMhFQjnbuqvdh6W71                      0                             0   \n",
       "\n",
       "                             ...         genre_name_vogue  \\\n",
       "song_id                      ...                            \n",
       "000xQL6tZNLJzIrtIgxqSl       ...                        0   \n",
       "001wUOgo8t9VElHl45bxzr       ...                        0   \n",
       "003eoIwxETJujVWmNFMoZy       ...                        0   \n",
       "003z5LtGJ2cdJARKIO9LgL       ...                        0   \n",
       "004S8bMhFQjnbuqvdh6W71       ...                        0   \n",
       "\n",
       "                        genre_name_west coast rap  genre_name_west coast trap  \\\n",
       "song_id                                                                         \n",
       "000xQL6tZNLJzIrtIgxqSl                          0                           0   \n",
       "001wUOgo8t9VElHl45bxzr                          0                           0   \n",
       "003eoIwxETJujVWmNFMoZy                          0                           0   \n",
       "003z5LtGJ2cdJARKIO9LgL                          0                           0   \n",
       "004S8bMhFQjnbuqvdh6W71                          0                           0   \n",
       "\n",
       "                        genre_name_western swing  genre_name_world  \\\n",
       "song_id                                                              \n",
       "000xQL6tZNLJzIrtIgxqSl                         0                 0   \n",
       "001wUOgo8t9VElHl45bxzr                         0                 0   \n",
       "003eoIwxETJujVWmNFMoZy                         0                 0   \n",
       "003z5LtGJ2cdJARKIO9LgL                         0                 0   \n",
       "004S8bMhFQjnbuqvdh6W71                         0                 0   \n",
       "\n",
       "                        genre_name_world worship  genre_name_worship  \\\n",
       "song_id                                                                \n",
       "000xQL6tZNLJzIrtIgxqSl                         0                   0   \n",
       "001wUOgo8t9VElHl45bxzr                         0                   0   \n",
       "003eoIwxETJujVWmNFMoZy                         0                   0   \n",
       "003z5LtGJ2cdJARKIO9LgL                         0                   0   \n",
       "004S8bMhFQjnbuqvdh6W71                         0                   0   \n",
       "\n",
       "                        genre_name_wrestling  genre_name_yugoslav rock  \\\n",
       "song_id                                                                  \n",
       "000xQL6tZNLJzIrtIgxqSl                     0                         0   \n",
       "001wUOgo8t9VElHl45bxzr                     0                         0   \n",
       "003eoIwxETJujVWmNFMoZy                     0                         0   \n",
       "003z5LtGJ2cdJARKIO9LgL                     0                         0   \n",
       "004S8bMhFQjnbuqvdh6W71                     0                         0   \n",
       "\n",
       "                        genre_name_zolo  \n",
       "song_id                                  \n",
       "000xQL6tZNLJzIrtIgxqSl                0  \n",
       "001wUOgo8t9VElHl45bxzr                0  \n",
       "003eoIwxETJujVWmNFMoZy                0  \n",
       "003z5LtGJ2cdJARKIO9LgL                0  \n",
       "004S8bMhFQjnbuqvdh6W71                0  \n",
       "\n",
       "[5 rows x 561 columns]"
      ]
     },
     "execution_count": 21,
     "metadata": {},
     "output_type": "execute_result"
    }
   ],
   "source": [
    "genre_dummies.head()"
   ]
  },
  {
   "cell_type": "code",
   "execution_count": 23,
   "metadata": {},
   "outputs": [
    {
     "data": {
      "text/plain": [
       "(22914, 8)"
      ]
     },
     "execution_count": 23,
     "metadata": {},
     "output_type": "execute_result"
    }
   ],
   "source": [
    "songs.shape"
   ]
  },
  {
   "cell_type": "code",
   "execution_count": 26,
   "metadata": {},
   "outputs": [],
   "source": [
    "for sid in songs.index:\n",
    "    if sid not in genre_dummies.index:\n",
    "        genre_dummies.loc[sid] = 0"
   ]
  },
  {
   "cell_type": "code",
   "execution_count": 27,
   "metadata": {},
   "outputs": [
    {
     "data": {
      "text/plain": [
       "(22914, 561)"
      ]
     },
     "execution_count": 27,
     "metadata": {},
     "output_type": "execute_result"
    }
   ],
   "source": [
    "genre_dummies.shape"
   ]
  },
  {
   "cell_type": "code",
   "execution_count": 35,
   "metadata": {},
   "outputs": [
    {
     "name": "stdout",
     "output_type": "stream",
     "text": [
      "<class 'pandas.core.frame.DataFrame'>\n",
      "Index: 22914 entries, 000xQL6tZNLJzIrtIgxqSl to 2PfrT8OeF0I565L7CRud27\n",
      "Columns: 561 entries, genre_name_a cappella to genre_name_zolo\n",
      "dtypes: int64(561)\n",
      "memory usage: 98.9+ MB\n"
     ]
    }
   ],
   "source": [
    "genre_dummies.info()"
   ]
  },
  {
   "cell_type": "code",
   "execution_count": 31,
   "metadata": {},
   "outputs": [
    {
     "data": {
      "text/html": [
       "<div>\n",
       "<style scoped>\n",
       "    .dataframe tbody tr th:only-of-type {\n",
       "        vertical-align: middle;\n",
       "    }\n",
       "\n",
       "    .dataframe tbody tr th {\n",
       "        vertical-align: top;\n",
       "    }\n",
       "\n",
       "    .dataframe thead th {\n",
       "        text-align: right;\n",
       "    }\n",
       "</style>\n",
       "<table border=\"1\" class=\"dataframe\">\n",
       "  <thead>\n",
       "    <tr style=\"text-align: right;\">\n",
       "      <th></th>\n",
       "      <th>genre_name_a cappella</th>\n",
       "      <th>genre_name_acid house</th>\n",
       "      <th>genre_name_acid jazz</th>\n",
       "      <th>genre_name_acoustic blues</th>\n",
       "      <th>genre_name_acoustic pop</th>\n",
       "      <th>genre_name_acoustic punk</th>\n",
       "      <th>genre_name_adult standards</th>\n",
       "      <th>genre_name_african rock</th>\n",
       "      <th>genre_name_album rock</th>\n",
       "      <th>genre_name_albuquerque indie</th>\n",
       "      <th>...</th>\n",
       "      <th>genre_name_vogue</th>\n",
       "      <th>genre_name_west coast rap</th>\n",
       "      <th>genre_name_west coast trap</th>\n",
       "      <th>genre_name_western swing</th>\n",
       "      <th>genre_name_world</th>\n",
       "      <th>genre_name_world worship</th>\n",
       "      <th>genre_name_worship</th>\n",
       "      <th>genre_name_wrestling</th>\n",
       "      <th>genre_name_yugoslav rock</th>\n",
       "      <th>genre_name_zolo</th>\n",
       "    </tr>\n",
       "    <tr>\n",
       "      <th>song_id</th>\n",
       "      <th></th>\n",
       "      <th></th>\n",
       "      <th></th>\n",
       "      <th></th>\n",
       "      <th></th>\n",
       "      <th></th>\n",
       "      <th></th>\n",
       "      <th></th>\n",
       "      <th></th>\n",
       "      <th></th>\n",
       "      <th></th>\n",
       "      <th></th>\n",
       "      <th></th>\n",
       "      <th></th>\n",
       "      <th></th>\n",
       "      <th></th>\n",
       "      <th></th>\n",
       "      <th></th>\n",
       "      <th></th>\n",
       "      <th></th>\n",
       "      <th></th>\n",
       "    </tr>\n",
       "  </thead>\n",
       "  <tbody>\n",
       "  </tbody>\n",
       "</table>\n",
       "<p>0 rows × 561 columns</p>\n",
       "</div>"
      ],
      "text/plain": [
       "Empty DataFrame\n",
       "Columns: [genre_name_a cappella, genre_name_acid house, genre_name_acid jazz, genre_name_acoustic blues, genre_name_acoustic pop, genre_name_acoustic punk, genre_name_adult standards, genre_name_african rock, genre_name_album rock, genre_name_albuquerque indie, genre_name_alternative country, genre_name_alternative dance, genre_name_alternative hip hop, genre_name_alternative metal, genre_name_alternative pop, genre_name_alternative rock, genre_name_american choir, genre_name_american modern classical, genre_name_anarcho-punk, genre_name_anthem worship, genre_name_anti-folk, genre_name_antiviral pop, genre_name_art pop, genre_name_art rock, genre_name_aussietronica, genre_name_australian alternative rock, genre_name_australian country, genre_name_australian dance, genre_name_australian pop, genre_name_australian rock, genre_name_ballroom, genre_name_banda, genre_name_bassline, genre_name_bebop, genre_name_big band, genre_name_big beat, genre_name_big room, genre_name_bluegrass, genre_name_blues, genre_name_blues-rock, genre_name_bolero, genre_name_bossa nova, genre_name_boston rock, genre_name_bounce, genre_name_bow pop, genre_name_boy band, genre_name_brass band, genre_name_brass ensemble, genre_name_brazilian metal, genre_name_breakbeat, genre_name_brill building pop, genre_name_brit funk, genre_name_british blues, genre_name_british contemporary classical, genre_name_british folk, genre_name_british invasion, genre_name_british soundtrack, genre_name_britpop, genre_name_broadway, genre_name_brooklyn indie, genre_name_brostep, genre_name_bubblegum dance, genre_name_bubblegum pop, genre_name_bulgarian hip hop, genre_name_cabaret, genre_name_calypso, genre_name_canadian blues, genre_name_canadian ccm, genre_name_canadian celtic, genre_name_canadian country, genre_name_canadian folk, genre_name_canadian hip hop, genre_name_canadian indie, genre_name_canadian metal, genre_name_canadian pop, genre_name_canadian punk, genre_name_canadian rock, genre_name_candy pop, genre_name_canterbury scene, genre_name_canzone napoletana, genre_name_ccm, genre_name_celtic, genre_name_celtic punk, genre_name_celtic rock, genre_name_chamber pop, genre_name_chicago blues, genre_name_chicago indie, genre_name_chicago soul, genre_name_chicano rap, genre_name_christelijk, genre_name_christian alternative rock, genre_name_christian hip hop, genre_name_christian metal, genre_name_christian music, genre_name_christian punk, genre_name_christian relaxative, genre_name_christian rock, genre_name_christmas, genre_name_christmas product, genre_name_classic canadian rock, ...]\n",
       "Index: []\n",
       "\n",
       "[0 rows x 561 columns]"
      ]
     },
     "execution_count": 31,
     "metadata": {},
     "output_type": "execute_result"
    }
   ],
   "source": [
    "genre_dummies[genre_dummies.isnull().any(1)]"
   ]
  },
  {
   "cell_type": "code",
   "execution_count": 32,
   "metadata": {},
   "outputs": [],
   "source": [
    "genre_dummies.to_csv('../data/genre_dummies.csv')"
   ]
  },
  {
   "cell_type": "markdown",
   "metadata": {},
   "source": [
    "## One-Hot Encoding Additional Features"
   ]
  },
  {
   "cell_type": "code",
   "execution_count": null,
   "metadata": {},
   "outputs": [],
   "source": [
    "main_wfeats = pd.read_csv('../data/main_wfeats.csv', index_col='')"
   ]
  }
 ],
 "metadata": {
  "kernelspec": {
   "display_name": "Python 3",
   "language": "python",
   "name": "python3"
  },
  "language_info": {
   "codemirror_mode": {
    "name": "ipython",
    "version": 3
   },
   "file_extension": ".py",
   "mimetype": "text/x-python",
   "name": "python",
   "nbconvert_exporter": "python",
   "pygments_lexer": "ipython3",
   "version": "3.6.3"
  }
 },
 "nbformat": 4,
 "nbformat_minor": 2
}
