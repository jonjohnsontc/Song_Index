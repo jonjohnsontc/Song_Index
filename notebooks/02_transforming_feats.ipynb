{
 "cells": [
  {
   "cell_type": "markdown",
   "metadata": {},
   "source": [
    "# 02_transforming_feats: Transforming Audio Analysis Features for EDA Preperation\n",
    "\n",
    "**Description**: Cleaning the audio features listing that I pulled from the Spotify API, and iterating through each of the audio analysis ;json files to create a feature-set that will be extensively analyzed in the subsequent EDA process.\n",
    "\n",
    "**Disclaimer:** Due to the size of the combined audio analysis files (~10GB), they are not available on this repository, and therefore, it is not possible to run every cell from start to finish."
   ]
  },
  {
   "cell_type": "markdown",
   "metadata": {},
   "source": [
    "## Table of Contents\n",
    "\n",
    "1. [Section Breakdown](#1)\n",
    "2. [Segments Breakdown](#2)"
   ]
  },
  {
   "cell_type": "code",
   "execution_count": 1,
   "metadata": {},
   "outputs": [],
   "source": [
    "import csv\n",
    "import json\n",
    "import re\n",
    "\n",
    "import numpy as np\n",
    "import pandas as pd\n",
    "\n",
    "from library import kc_counter, analysis_sorter, get_sec_ss, pt_grabber, pt_grabber_sgl, mk_sum_df"
   ]
  },
  {
   "cell_type": "markdown",
   "metadata": {},
   "source": [
    "## Analyzing Audio Analysis Features\n",
    "\n",
    "For a thorough overview of the information contained in an individual audio analysis file, please refer to this [article](https://www.youtube.com/redirect?q=http%3A%2F%2Fdocs.echonest.com.s3-website-us-east-1.amazonaws.com%2F_static%2FAnalyzeDocumentation.pdf&redir_token=Z7-grOcoBMsZQ3-_KTKY0DdMPlN8MTUzOTkxMTI3OUAxNTM5ODI0ODc5&event=video_description&v=goUzHd7cTuA). It may also be helpful to refer to this [presentation](https://www.youtube.com/watch?v=goUzHd7cTuA) by Spotify's Mark Koh.\n",
    "\n",
    "There is much to be garnered from the audio analysis files, however, it's not realistic from a compute standpoint to keep every piece of information for calculating similarity. Therefore, I've only kept a select portion of features from each file. "
   ]
  },
  {
   "cell_type": "code",
   "execution_count": 41,
   "metadata": {},
   "outputs": [],
   "source": [
    "with open('../data/audio_analysis/000xQL6tZNLJzIrtIgxqSl.json', 'r') as f:\n",
    "    example = json.load(f)"
   ]
  },
  {
   "cell_type": "markdown",
   "metadata": {},
   "source": [
    "##### Each of the Sections Present in an Audio Analysis File"
   ]
  },
  {
   "cell_type": "code",
   "execution_count": 42,
   "metadata": {},
   "outputs": [
    {
     "data": {
      "text/plain": [
       "dict_keys(['meta', 'track', 'bars', 'beats', 'tatums', 'sections', 'segments'])"
      ]
     },
     "execution_count": 42,
     "metadata": {},
     "output_type": "execute_result"
    }
   ],
   "source": [
    "example.keys()"
   ]
  },
  {
   "cell_type": "markdown",
   "metadata": {},
   "source": [
    "<a name=\"1\"></a>\n",
    "## 1. Section Breakdown\n",
    "\n",
    "From the Analyzer Documentation: *a set of section markers, in seconds. Sections are defined by large variations in rhythm or timbre, e.g. chorus, verse, bridge, guitar solo, etc. Each section contains its own descriptions of tempo, key, mode, time_signature, and loudness*  \n",
    "\n",
    "Also interesting to note, Mark Koh characterized the carving up of segments \"not great\", in that they're not particularly accurate for delineating the true sections of a song (e.g., verse 1, chorus, verse 2). Given this uncertainty, and the varying number of sections on a given song, I decided to forego including individual section level features into the recommender.\n",
    "\n",
    "I still felt it was necessary to capture the information included within the sections though, because the changes in key, tempo, and time signature are important in determing the overall shape of the song. Therefore, I've gathered the mean and variance of each feature in a songs' sections to capture their general shape (with the exception of `key`, `key_confidence`, `mode`, and `mode_confidence`, as there's no ordinal value to a song's key, and whether or not it's major/minor)."
   ]
  },
  {
   "cell_type": "code",
   "execution_count": 43,
   "metadata": {},
   "outputs": [
    {
     "name": "stdout",
     "output_type": "stream",
     "text": [
      "start\n",
      "duration\n",
      "confidence\n",
      "loudness\n",
      "tempo\n",
      "tempo_confidence\n",
      "key\n",
      "key_confidence\n",
      "mode\n",
      "mode_confidence\n",
      "time_signature\n",
      "time_signature_confidence\n"
     ]
    }
   ],
   "source": [
    "for k, v in example['sections'][0].items():\n",
    "    print(k)"
   ]
  },
  {
   "cell_type": "code",
   "execution_count": 24,
   "metadata": {},
   "outputs": [],
   "source": [
    "df = pd.DataFrame(example['sections'])"
   ]
  },
  {
   "cell_type": "markdown",
   "metadata": {},
   "source": [
    "#### An Example Section"
   ]
  },
  {
   "cell_type": "code",
   "execution_count": 8,
   "metadata": {},
   "outputs": [
    {
     "data": {
      "text/plain": [
       "{'start': 0.0,\n",
       " 'duration': 19.11423,\n",
       " 'confidence': 1.0,\n",
       " 'loudness': -12.969,\n",
       " 'tempo': 166.075,\n",
       " 'tempo_confidence': 0.507,\n",
       " 'key': 2,\n",
       " 'key_confidence': 0.504,\n",
       " 'mode': 1,\n",
       " 'mode_confidence': 0.731,\n",
       " 'time_signature': 4,\n",
       " 'time_signature_confidence': 0.514}"
      ]
     },
     "execution_count": 8,
     "metadata": {},
     "output_type": "execute_result"
    }
   ],
   "source": [
    "example['sections'][0]"
   ]
  },
  {
   "cell_type": "markdown",
   "metadata": {},
   "source": [
    "### 1a. Counting Key Changes\n",
    "\n",
    "Given that there's an estimated key in each section of a song, I decided to capture this change by counting occurences that a key changed."
   ]
  },
  {
   "cell_type": "code",
   "execution_count": 57,
   "metadata": {},
   "outputs": [],
   "source": [
    "kc_list = kc_counter.kc_counter(analysis_list)"
   ]
  },
  {
   "cell_type": "markdown",
   "metadata": {},
   "source": [
    "##### Checking for `null` results"
   ]
  },
  {
   "cell_type": "code",
   "execution_count": 81,
   "metadata": {},
   "outputs": [
    {
     "name": "stdout",
     "output_type": "stream",
     "text": [
      "21VDF2xzLl8P1vDVr0nuQY unable to record key changes\n"
     ]
    }
   ],
   "source": [
    "for _ in kc_list:\n",
    "    for k, v in _.items():\n",
    "        if v == 'unable to record key changes':\n",
    "            print(k, v)"
   ]
  },
  {
   "cell_type": "markdown",
   "metadata": {},
   "source": [
    "I'll need to drop this record."
   ]
  },
  {
   "cell_type": "markdown",
   "metadata": {},
   "source": [
    "#### Casting the Results to a Dataframe"
   ]
  },
  {
   "cell_type": "code",
   "execution_count": 74,
   "metadata": {},
   "outputs": [],
   "source": [
    "kc_df = pd.Series([val.values() for val in kc_list], index=[k.keys() for k in kc_list])"
   ]
  },
  {
   "cell_type": "code",
   "execution_count": 76,
   "metadata": {},
   "outputs": [],
   "source": [
    "kc_df = pd.Series()\n",
    "for _ in kc_list:\n",
    "    for k, v in _.items():\n",
    "        kc_df.loc[k] = v"
   ]
  },
  {
   "cell_type": "code",
   "execution_count": 99,
   "metadata": {},
   "outputs": [
    {
     "data": {
      "text/plain": [
       "000xQL6tZNLJzIrtIgxqSl    2\n",
       "001wUOgo8t9VElHl45bxzr    9\n",
       "003eoIwxETJujVWmNFMoZy    5\n",
       "003z5LtGJ2cdJARKIO9LgL    6\n",
       "004S8bMhFQjnbuqvdh6W71    9\n",
       "dtype: object"
      ]
     },
     "execution_count": 99,
     "metadata": {},
     "output_type": "execute_result"
    }
   ],
   "source": [
    "kc_df.head()"
   ]
  },
  {
   "cell_type": "markdown",
   "metadata": {},
   "source": [
    "##### Dropping record with no key change value"
   ]
  },
  {
   "cell_type": "code",
   "execution_count": 83,
   "metadata": {},
   "outputs": [],
   "source": [
    "kc_df.drop(labels='21VDF2xzLl8P1vDVr0nuQY', inplace=True)"
   ]
  },
  {
   "cell_type": "markdown",
   "metadata": {},
   "source": [
    "#### Dropping non-songs from key change listing"
   ]
  },
  {
   "cell_type": "code",
   "execution_count": 84,
   "metadata": {},
   "outputs": [],
   "source": [
    "non_songs = pd.read_csv('../data/non_songs.csv', index_col = 0)"
   ]
  },
  {
   "cell_type": "code",
   "execution_count": 86,
   "metadata": {},
   "outputs": [
    {
     "data": {
      "text/html": [
       "<div>\n",
       "<style scoped>\n",
       "    .dataframe tbody tr th:only-of-type {\n",
       "        vertical-align: middle;\n",
       "    }\n",
       "\n",
       "    .dataframe tbody tr th {\n",
       "        vertical-align: top;\n",
       "    }\n",
       "\n",
       "    .dataframe thead th {\n",
       "        text-align: right;\n",
       "    }\n",
       "</style>\n",
       "<table border=\"1\" class=\"dataframe\">\n",
       "  <thead>\n",
       "    <tr style=\"text-align: right;\">\n",
       "      <th></th>\n",
       "      <th>s_song_id</th>\n",
       "      <th>album_release_date</th>\n",
       "      <th>artist_id</th>\n",
       "      <th>artist_name</th>\n",
       "      <th>duration_ms</th>\n",
       "      <th>explicit</th>\n",
       "      <th>linked_album</th>\n",
       "      <th>song_title</th>\n",
       "    </tr>\n",
       "  </thead>\n",
       "  <tbody>\n",
       "    <tr>\n",
       "      <th>163</th>\n",
       "      <td>2xfcxlx0QRbqUhpVidqmOU</td>\n",
       "      <td>2013-05-28</td>\n",
       "      <td>1xlkcCr7PNHw2dRG1Gm6YF</td>\n",
       "      <td>Ron White</td>\n",
       "      <td>322322.0</td>\n",
       "      <td>True</td>\n",
       "      <td>A Little Unprofessional</td>\n",
       "      <td>L.A. Beautiful/You're Beautiful/The Yellow Blur</td>\n",
       "    </tr>\n",
       "    <tr>\n",
       "      <th>708</th>\n",
       "      <td>5LMcncchvV1jYHMG4hviSN</td>\n",
       "      <td>1998-04-04</td>\n",
       "      <td>0NnoRcD3WkqC9aouHyE8YY</td>\n",
       "      <td>Trey Parker</td>\n",
       "      <td>153026.0</td>\n",
       "      <td>False</td>\n",
       "      <td>Cannibal! The Musical (Original Motion Picture...</td>\n",
       "      <td>Overture</td>\n",
       "    </tr>\n",
       "  </tbody>\n",
       "</table>\n",
       "</div>"
      ],
      "text/plain": [
       "                  s_song_id album_release_date               artist_id  \\\n",
       "163  2xfcxlx0QRbqUhpVidqmOU         2013-05-28  1xlkcCr7PNHw2dRG1Gm6YF   \n",
       "708  5LMcncchvV1jYHMG4hviSN         1998-04-04  0NnoRcD3WkqC9aouHyE8YY   \n",
       "\n",
       "     artist_name  duration_ms  explicit  \\\n",
       "163    Ron White     322322.0      True   \n",
       "708  Trey Parker     153026.0     False   \n",
       "\n",
       "                                          linked_album  \\\n",
       "163                            A Little Unprofessional   \n",
       "708  Cannibal! The Musical (Original Motion Picture...   \n",
       "\n",
       "                                          song_title  \n",
       "163  L.A. Beautiful/You're Beautiful/The Yellow Blur  \n",
       "708                                         Overture  "
      ]
     },
     "execution_count": 86,
     "metadata": {},
     "output_type": "execute_result"
    }
   ],
   "source": [
    "non_songs.head(2)"
   ]
  },
  {
   "cell_type": "code",
   "execution_count": 89,
   "metadata": {},
   "outputs": [],
   "source": [
    "kc_df.drop(labels=non_songs['s_song_id'], inplace=True)"
   ]
  },
  {
   "cell_type": "code",
   "execution_count": 90,
   "metadata": {},
   "outputs": [
    {
     "data": {
      "text/plain": [
       "(22909,)"
      ]
     },
     "execution_count": 90,
     "metadata": {},
     "output_type": "execute_result"
    }
   ],
   "source": [
    "kc_df.shape"
   ]
  },
  {
   "cell_type": "markdown",
   "metadata": {},
   "source": [
    "I have slightly fewer works then what's present in my `song_df`. Still enough to conduct a thorough analysis, however."
   ]
  },
  {
   "cell_type": "markdown",
   "metadata": {},
   "source": [
    "### 1b. Getting Mean and Variance of Several Features within Song Sections\n",
    "\n",
    "Here's where I actually iterate through the audio analysis files, and grab the mean/variance of those select features."
   ]
  },
  {
   "cell_type": "code",
   "execution_count": 177,
   "metadata": {},
   "outputs": [
    {
     "name": "stdout",
     "output_type": "stream",
     "text": [
      "Completed 5000 files\n",
      "Completed 10000 files\n",
      "Completed 15000 files\n",
      "Completed 20000 files\n"
     ]
    }
   ],
   "source": [
    "mean_dicts, var_dicts = analysis_sorter.analysis_sorter(analysis_list)"
   ]
  },
  {
   "cell_type": "markdown",
   "metadata": {},
   "source": [
    "##### Verifying Mean and Variance Values"
   ]
  },
  {
   "cell_type": "code",
   "execution_count": 182,
   "metadata": {},
   "outputs": [
    {
     "data": {
      "text/plain": [
       "{'6k9L7kTBzjXY0GfazHYqCg': {'confidence': 0.6483,\n",
       "  'duration': 20.578667000000003,\n",
       "  'loudness': -9.3965,\n",
       "  'mode': 0.8,\n",
       "  'mode_confidence': 0.46769999999999995,\n",
       "  'tempo': 142.13690000000003,\n",
       "  'tempo_confidence': 0.2643}}"
      ]
     },
     "execution_count": 182,
     "metadata": {},
     "output_type": "execute_result"
    }
   ],
   "source": [
    "mean_dicts[0]"
   ]
  },
  {
   "cell_type": "code",
   "execution_count": 237,
   "metadata": {},
   "outputs": [
    {
     "data": {
      "text/plain": [
       "{'6k9L7kTBzjXY0GfazHYqCg': {'confidence': 0.04827756666666666,\n",
       "  'duration': 88.7212888207789,\n",
       "  'loudness': 85.8691118333333,\n",
       "  'mode': 0.17777777777777778,\n",
       "  'mode_confidence': 0.03472067777777778,\n",
       "  'tempo': 1.7909101000000023,\n",
       "  'tempo_confidence': 0.007427788888888888}}"
      ]
     },
     "execution_count": 237,
     "metadata": {},
     "output_type": "execute_result"
    }
   ],
   "source": [
    "var_dicts[0]"
   ]
  },
  {
   "cell_type": "markdown",
   "metadata": {},
   "source": [
    "#### Combining Summary Stats Docs"
   ]
  },
  {
   "cell_type": "code",
   "execution_count": 184,
   "metadata": {},
   "outputs": [],
   "source": [
    "#mean\n",
    "with open('../data/section_mean_summary_5000.json', 'r') as f:\n",
    "    section_mean_summary_5000 = json.load(f)\n",
    "with open('../data/section_mean_summary_10000.json', 'r') as f:\n",
    "    section_mean_summary_10000 = json.load(f)\n",
    "with open('../data/section_mean_summary_15000.json', 'r') as f:\n",
    "    section_mean_summary_15000 = json.load(f)\n",
    "with open('../data/section_mean_summary_20000.json', 'r') as f:\n",
    "    section_mean_summary_20000 = json.load(f)\n",
    "\n",
    "#var\n",
    "with open('../data/section_var_summary_5000.json', 'r') as f:\n",
    "    section_var_summary_5000 = json.load(f)\n",
    "with open('../data/section_var_summary_10000.json', 'r') as f:\n",
    "    section_var_summary_10000 = json.load(f)\n",
    "with open('../data/section_var_summary_15000.json', 'r') as f:\n",
    "    section_var_summary_15000 = json.load(f)\n",
    "with open('../data/section_var_summary_20000.json', 'r') as f:\n",
    "    section_var_summary_20000 = json.load(f)"
   ]
  },
  {
   "cell_type": "code",
   "execution_count": 185,
   "metadata": {},
   "outputs": [],
   "source": [
    "mean_dicts.extend(section_mean_summary_5000)\n",
    "mean_dicts.extend(section_mean_summary_10000)\n",
    "mean_dicts.extend(section_mean_summary_15000)\n",
    "mean_dicts.extend(section_mean_summary_20000)\n",
    "\n",
    "var_dicts.extend(section_var_summary_5000)\n",
    "var_dicts.extend(section_var_summary_10000)\n",
    "var_dicts.extend(section_var_summary_15000)\n",
    "var_dicts.extend(section_var_summary_20000)"
   ]
  },
  {
   "cell_type": "code",
   "execution_count": 186,
   "metadata": {},
   "outputs": [
    {
     "data": {
      "text/plain": [
       "(23125, 23125)"
      ]
     },
     "execution_count": 186,
     "metadata": {},
     "output_type": "execute_result"
    }
   ],
   "source": [
    "len(mean_dicts), len(var_dicts)"
   ]
  },
  {
   "cell_type": "code",
   "execution_count": 188,
   "metadata": {},
   "outputs": [
    {
     "name": "stdout",
     "output_type": "stream",
     "text": [
      "dict_keys(['6k9L7kTBzjXY0GfazHYqCg'])\n",
      "dict_keys(['6kAS4yj3wHJXcLp93vr5aG'])\n"
     ]
    }
   ],
   "source": [
    "for e in var_dicts[:2]:\n",
    "    print(e.keys())"
   ]
  },
  {
   "cell_type": "markdown",
   "metadata": {},
   "source": [
    "#### Tossing Section Means and Vars into DataFrame + `csv`"
   ]
  },
  {
   "cell_type": "code",
   "execution_count": null,
   "metadata": {},
   "outputs": [],
   "source": [
    "section_mean = get_sec_ss.get_sec_ss(mean_dicts)"
   ]
  },
  {
   "cell_type": "code",
   "execution_count": null,
   "metadata": {},
   "outputs": [],
   "source": [
    "section_var = get_sec_ss.get_sec_ss(var_dicts)"
   ]
  },
  {
   "cell_type": "markdown",
   "metadata": {},
   "source": [
    "### 1c. How Many Entries did not have Summary Stats?"
   ]
  },
  {
   "cell_type": "code",
   "execution_count": 211,
   "metadata": {},
   "outputs": [
    {
     "data": {
      "text/plain": [
       "(23125, 23125)"
      ]
     },
     "execution_count": 211,
     "metadata": {},
     "output_type": "execute_result"
    }
   ],
   "source": [
    "len(section_mean), len(section_var)"
   ]
  },
  {
   "cell_type": "code",
   "execution_count": 281,
   "metadata": {},
   "outputs": [
    {
     "data": {
      "text/html": [
       "<div>\n",
       "<style scoped>\n",
       "    .dataframe tbody tr th:only-of-type {\n",
       "        vertical-align: middle;\n",
       "    }\n",
       "\n",
       "    .dataframe tbody tr th {\n",
       "        vertical-align: top;\n",
       "    }\n",
       "\n",
       "    .dataframe thead th {\n",
       "        text-align: right;\n",
       "    }\n",
       "</style>\n",
       "<table border=\"1\" class=\"dataframe\">\n",
       "  <thead>\n",
       "    <tr style=\"text-align: right;\">\n",
       "      <th></th>\n",
       "      <th>confidence</th>\n",
       "      <th>duration</th>\n",
       "      <th>loudness</th>\n",
       "      <th>mode</th>\n",
       "      <th>mode_confidence</th>\n",
       "      <th>tempo</th>\n",
       "      <th>tempo_confidence</th>\n",
       "    </tr>\n",
       "  </thead>\n",
       "  <tbody>\n",
       "    <tr>\n",
       "      <th>21VDF2xzLl8P1vDVr0nuQY</th>\n",
       "      <td>Unable to calculate variance of section features</td>\n",
       "      <td>Unable to calculate variance of section features</td>\n",
       "      <td>Unable to calculate variance of section features</td>\n",
       "      <td>Unable to calculate variance of section features</td>\n",
       "      <td>Unable to calculate variance of section features</td>\n",
       "      <td>Unable to calculate variance of section features</td>\n",
       "      <td>Unable to calculate variance of section features</td>\n",
       "    </tr>\n",
       "  </tbody>\n",
       "</table>\n",
       "</div>"
      ],
      "text/plain": [
       "                                                              confidence  \\\n",
       "21VDF2xzLl8P1vDVr0nuQY  Unable to calculate variance of section features   \n",
       "\n",
       "                                                                duration  \\\n",
       "21VDF2xzLl8P1vDVr0nuQY  Unable to calculate variance of section features   \n",
       "\n",
       "                                                                loudness  \\\n",
       "21VDF2xzLl8P1vDVr0nuQY  Unable to calculate variance of section features   \n",
       "\n",
       "                                                                    mode  \\\n",
       "21VDF2xzLl8P1vDVr0nuQY  Unable to calculate variance of section features   \n",
       "\n",
       "                                                         mode_confidence  \\\n",
       "21VDF2xzLl8P1vDVr0nuQY  Unable to calculate variance of section features   \n",
       "\n",
       "                                                                   tempo  \\\n",
       "21VDF2xzLl8P1vDVr0nuQY  Unable to calculate variance of section features   \n",
       "\n",
       "                                                        tempo_confidence  \n",
       "21VDF2xzLl8P1vDVr0nuQY  Unable to calculate variance of section features  "
      ]
     },
     "execution_count": 281,
     "metadata": {},
     "output_type": "execute_result"
    }
   ],
   "source": [
    "section_var[section_var['confidence'] == 'Unable to calculate variance of section features']"
   ]
  },
  {
   "cell_type": "code",
   "execution_count": 283,
   "metadata": {},
   "outputs": [
    {
     "data": {
      "text/html": [
       "<div>\n",
       "<style scoped>\n",
       "    .dataframe tbody tr th:only-of-type {\n",
       "        vertical-align: middle;\n",
       "    }\n",
       "\n",
       "    .dataframe tbody tr th {\n",
       "        vertical-align: top;\n",
       "    }\n",
       "\n",
       "    .dataframe thead th {\n",
       "        text-align: right;\n",
       "    }\n",
       "</style>\n",
       "<table border=\"1\" class=\"dataframe\">\n",
       "  <thead>\n",
       "    <tr style=\"text-align: right;\">\n",
       "      <th></th>\n",
       "      <th>confidence</th>\n",
       "      <th>duration</th>\n",
       "      <th>loudness</th>\n",
       "      <th>mode</th>\n",
       "      <th>mode_confidence</th>\n",
       "      <th>tempo</th>\n",
       "      <th>tempo_confidence</th>\n",
       "    </tr>\n",
       "  </thead>\n",
       "  <tbody>\n",
       "    <tr>\n",
       "      <th>21VDF2xzLl8P1vDVr0nuQY</th>\n",
       "      <td>Unable to calculate mean of section features</td>\n",
       "      <td>Unable to calculate mean of section features</td>\n",
       "      <td>Unable to calculate mean of section features</td>\n",
       "      <td>Unable to calculate mean of section features</td>\n",
       "      <td>Unable to calculate mean of section features</td>\n",
       "      <td>Unable to calculate mean of section features</td>\n",
       "      <td>Unable to calculate mean of section features</td>\n",
       "    </tr>\n",
       "  </tbody>\n",
       "</table>\n",
       "</div>"
      ],
      "text/plain": [
       "                                                          confidence  \\\n",
       "21VDF2xzLl8P1vDVr0nuQY  Unable to calculate mean of section features   \n",
       "\n",
       "                                                            duration  \\\n",
       "21VDF2xzLl8P1vDVr0nuQY  Unable to calculate mean of section features   \n",
       "\n",
       "                                                            loudness  \\\n",
       "21VDF2xzLl8P1vDVr0nuQY  Unable to calculate mean of section features   \n",
       "\n",
       "                                                                mode  \\\n",
       "21VDF2xzLl8P1vDVr0nuQY  Unable to calculate mean of section features   \n",
       "\n",
       "                                                     mode_confidence  \\\n",
       "21VDF2xzLl8P1vDVr0nuQY  Unable to calculate mean of section features   \n",
       "\n",
       "                                                               tempo  \\\n",
       "21VDF2xzLl8P1vDVr0nuQY  Unable to calculate mean of section features   \n",
       "\n",
       "                                                    tempo_confidence  \n",
       "21VDF2xzLl8P1vDVr0nuQY  Unable to calculate mean of section features  "
      ]
     },
     "execution_count": 283,
     "metadata": {},
     "output_type": "execute_result"
    }
   ],
   "source": [
    "section_mean[section_mean['confidence'] == 'Unable to calculate mean of section features']"
   ]
  },
  {
   "cell_type": "markdown",
   "metadata": {},
   "source": [
    "Only for one title was I unable to calculate the mean and/or variance of section features. I'll go ahead and drop this record."
   ]
  },
  {
   "cell_type": "code",
   "execution_count": 285,
   "metadata": {},
   "outputs": [],
   "source": [
    "section_mean.drop(labels='21VDF2xzLl8P1vDVr0nuQY', inplace=True)\n",
    "section_var.drop(labels='21VDF2xzLl8P1vDVr0nuQY', inplace=True)"
   ]
  },
  {
   "cell_type": "markdown",
   "metadata": {},
   "source": [
    "#### Checking for Duplicate Values"
   ]
  },
  {
   "cell_type": "code",
   "execution_count": 267,
   "metadata": {},
   "outputs": [
    {
     "data": {
      "text/html": [
       "<div>\n",
       "<style scoped>\n",
       "    .dataframe tbody tr th:only-of-type {\n",
       "        vertical-align: middle;\n",
       "    }\n",
       "\n",
       "    .dataframe tbody tr th {\n",
       "        vertical-align: top;\n",
       "    }\n",
       "\n",
       "    .dataframe thead th {\n",
       "        text-align: right;\n",
       "    }\n",
       "</style>\n",
       "<table border=\"1\" class=\"dataframe\">\n",
       "  <thead>\n",
       "    <tr style=\"text-align: right;\">\n",
       "      <th></th>\n",
       "      <th>confidence</th>\n",
       "      <th>duration</th>\n",
       "      <th>loudness</th>\n",
       "      <th>mode</th>\n",
       "      <th>mode_confidence</th>\n",
       "      <th>tempo</th>\n",
       "      <th>tempo_confidence</th>\n",
       "    </tr>\n",
       "  </thead>\n",
       "  <tbody>\n",
       "    <tr>\n",
       "      <th>6wLj4AQJiBuJl5uiY0hSe8</th>\n",
       "      <td>0.760429</td>\n",
       "      <td>34.6233</td>\n",
       "      <td>-16.9286</td>\n",
       "      <td>0.285714</td>\n",
       "      <td>0.553429</td>\n",
       "      <td>110.056</td>\n",
       "      <td>0.601714</td>\n",
       "    </tr>\n",
       "    <tr>\n",
       "      <th>2memjAKXTXCK1WsUsWGHe7</th>\n",
       "      <td>0.760429</td>\n",
       "      <td>34.6233</td>\n",
       "      <td>-16.9286</td>\n",
       "      <td>0.285714</td>\n",
       "      <td>0.553429</td>\n",
       "      <td>110.056</td>\n",
       "      <td>0.601714</td>\n",
       "    </tr>\n",
       "  </tbody>\n",
       "</table>\n",
       "</div>"
      ],
      "text/plain": [
       "                       confidence duration loudness      mode mode_confidence  \\\n",
       "6wLj4AQJiBuJl5uiY0hSe8   0.760429  34.6233 -16.9286  0.285714        0.553429   \n",
       "2memjAKXTXCK1WsUsWGHe7   0.760429  34.6233 -16.9286  0.285714        0.553429   \n",
       "\n",
       "                          tempo tempo_confidence  \n",
       "6wLj4AQJiBuJl5uiY0hSe8  110.056         0.601714  \n",
       "2memjAKXTXCK1WsUsWGHe7  110.056         0.601714  "
      ]
     },
     "execution_count": 267,
     "metadata": {},
     "output_type": "execute_result"
    }
   ],
   "source": [
    "section_mean[section_mean.duplicated(keep=False)]"
   ]
  },
  {
   "cell_type": "code",
   "execution_count": 266,
   "metadata": {},
   "outputs": [
    {
     "data": {
      "text/html": [
       "<div>\n",
       "<style scoped>\n",
       "    .dataframe tbody tr th:only-of-type {\n",
       "        vertical-align: middle;\n",
       "    }\n",
       "\n",
       "    .dataframe tbody tr th {\n",
       "        vertical-align: top;\n",
       "    }\n",
       "\n",
       "    .dataframe thead th {\n",
       "        text-align: right;\n",
       "    }\n",
       "</style>\n",
       "<table border=\"1\" class=\"dataframe\">\n",
       "  <thead>\n",
       "    <tr style=\"text-align: right;\">\n",
       "      <th></th>\n",
       "      <th>confidence</th>\n",
       "      <th>duration</th>\n",
       "      <th>loudness</th>\n",
       "      <th>mode</th>\n",
       "      <th>mode_confidence</th>\n",
       "      <th>tempo</th>\n",
       "      <th>tempo_confidence</th>\n",
       "    </tr>\n",
       "  </thead>\n",
       "  <tbody>\n",
       "    <tr>\n",
       "      <th>6wLj4AQJiBuJl5uiY0hSe8</th>\n",
       "      <td>0.05692</td>\n",
       "      <td>336.221</td>\n",
       "      <td>184.478</td>\n",
       "      <td>0.238095</td>\n",
       "      <td>0.065341</td>\n",
       "      <td>0.00296895</td>\n",
       "      <td>0.00792824</td>\n",
       "    </tr>\n",
       "    <tr>\n",
       "      <th>2GJxRwFe8oLcbXgTw9P5of</th>\n",
       "      <td>0</td>\n",
       "      <td>0</td>\n",
       "      <td>0</td>\n",
       "      <td>0</td>\n",
       "      <td>0</td>\n",
       "      <td>0</td>\n",
       "      <td>0</td>\n",
       "    </tr>\n",
       "    <tr>\n",
       "      <th>2ULmjTNKicNAC0HAyYa47y</th>\n",
       "      <td>0</td>\n",
       "      <td>0</td>\n",
       "      <td>0</td>\n",
       "      <td>0</td>\n",
       "      <td>0</td>\n",
       "      <td>0</td>\n",
       "      <td>0</td>\n",
       "    </tr>\n",
       "    <tr>\n",
       "      <th>2memjAKXTXCK1WsUsWGHe7</th>\n",
       "      <td>0.05692</td>\n",
       "      <td>336.221</td>\n",
       "      <td>184.478</td>\n",
       "      <td>0.238095</td>\n",
       "      <td>0.065341</td>\n",
       "      <td>0.00296895</td>\n",
       "      <td>0.00792824</td>\n",
       "    </tr>\n",
       "    <tr>\n",
       "      <th>5Asz9rHr2rViBdl6pkXpoq</th>\n",
       "      <td>0</td>\n",
       "      <td>0</td>\n",
       "      <td>0</td>\n",
       "      <td>0</td>\n",
       "      <td>0</td>\n",
       "      <td>0</td>\n",
       "      <td>0</td>\n",
       "    </tr>\n",
       "  </tbody>\n",
       "</table>\n",
       "</div>"
      ],
      "text/plain": [
       "                       confidence duration loudness      mode mode_confidence  \\\n",
       "6wLj4AQJiBuJl5uiY0hSe8    0.05692  336.221  184.478  0.238095        0.065341   \n",
       "2GJxRwFe8oLcbXgTw9P5of          0        0        0         0               0   \n",
       "2ULmjTNKicNAC0HAyYa47y          0        0        0         0               0   \n",
       "2memjAKXTXCK1WsUsWGHe7    0.05692  336.221  184.478  0.238095        0.065341   \n",
       "5Asz9rHr2rViBdl6pkXpoq          0        0        0         0               0   \n",
       "\n",
       "                             tempo tempo_confidence  \n",
       "6wLj4AQJiBuJl5uiY0hSe8  0.00296895       0.00792824  \n",
       "2GJxRwFe8oLcbXgTw9P5of           0                0  \n",
       "2ULmjTNKicNAC0HAyYa47y           0                0  \n",
       "2memjAKXTXCK1WsUsWGHe7  0.00296895       0.00792824  \n",
       "5Asz9rHr2rViBdl6pkXpoq           0                0  "
      ]
     },
     "execution_count": 266,
     "metadata": {},
     "output_type": "execute_result"
    }
   ],
   "source": [
    "section_var[section_var.duplicated(keep=False)]"
   ]
  },
  {
   "cell_type": "markdown",
   "metadata": {},
   "source": [
    "It appears as though the duplicate results are just the same observation statistics for two different song id's. Rather than drop them, I will keep the values and decide what to do after I've combined my datasets for EDA."
   ]
  },
  {
   "cell_type": "markdown",
   "metadata": {},
   "source": [
    "#### Checking for `null's` "
   ]
  },
  {
   "cell_type": "code",
   "execution_count": 230,
   "metadata": {},
   "outputs": [
    {
     "name": "stdout",
     "output_type": "stream",
     "text": [
      "<class 'pandas.core.frame.DataFrame'>\n",
      "Index: 23125 entries, 6k9L7kTBzjXY0GfazHYqCg to 6k7e2cjr10EbQW5QnblOtY\n",
      "Data columns (total 7 columns):\n",
      "confidence          23122 non-null object\n",
      "duration            23122 non-null object\n",
      "loudness            23122 non-null object\n",
      "mode                23122 non-null object\n",
      "mode_confidence     23122 non-null object\n",
      "tempo               23122 non-null object\n",
      "tempo_confidence    23122 non-null object\n",
      "dtypes: object(7)\n",
      "memory usage: 1.4+ MB\n"
     ]
    }
   ],
   "source": [
    "section_var.info()"
   ]
  },
  {
   "cell_type": "code",
   "execution_count": 232,
   "metadata": {},
   "outputs": [
    {
     "name": "stdout",
     "output_type": "stream",
     "text": [
      "<class 'pandas.core.frame.DataFrame'>\n",
      "Index: 23125 entries, 6k9L7kTBzjXY0GfazHYqCg to 6k7e2cjr10EbQW5QnblOtY\n",
      "Data columns (total 7 columns):\n",
      "confidence          23125 non-null object\n",
      "duration            23125 non-null object\n",
      "loudness            23125 non-null object\n",
      "mode                23125 non-null object\n",
      "mode_confidence     23125 non-null object\n",
      "tempo               23125 non-null object\n",
      "tempo_confidence    23125 non-null object\n",
      "dtypes: object(7)\n",
      "memory usage: 2.0+ MB\n"
     ]
    }
   ],
   "source": [
    "section_mean.info()"
   ]
  },
  {
   "cell_type": "markdown",
   "metadata": {},
   "source": [
    "Very strange that I have null values in the variance df, but not the means df. I'll check the dicts that I converted to see if those values are null there as well."
   ]
  },
  {
   "cell_type": "code",
   "execution_count": 240,
   "metadata": {},
   "outputs": [
    {
     "name": "stdout",
     "output_type": "stream",
     "text": [
      "{'2ULmjTNKicNAC0HAyYa47y': {'confidence': nan, 'duration': nan, 'loudness': nan, 'mode': nan, 'mode_confidence': nan, 'tempo': nan, 'tempo_confidence': nan}}\n"
     ]
    }
   ],
   "source": [
    "for i in var_dicts:\n",
    "    for k in i.keys():\n",
    "        if k == '2ULmjTNKicNAC0HAyYa47y':\n",
    "            print(i)"
   ]
  },
  {
   "cell_type": "markdown",
   "metadata": {},
   "source": [
    "It's null there as well. I will go back, retreive the original json's, and compute the variance of each value."
   ]
  },
  {
   "cell_type": "code",
   "execution_count": 221,
   "metadata": {},
   "outputs": [
    {
     "data": {
      "text/plain": [
       "(23125, 7)"
      ]
     },
     "execution_count": 221,
     "metadata": {},
     "output_type": "execute_result"
    }
   ],
   "source": [
    "section_var.shape"
   ]
  },
  {
   "cell_type": "code",
   "execution_count": 254,
   "metadata": {},
   "outputs": [
    {
     "data": {
      "text/html": [
       "<div>\n",
       "<style scoped>\n",
       "    .dataframe tbody tr th:only-of-type {\n",
       "        vertical-align: middle;\n",
       "    }\n",
       "\n",
       "    .dataframe tbody tr th {\n",
       "        vertical-align: top;\n",
       "    }\n",
       "\n",
       "    .dataframe thead th {\n",
       "        text-align: right;\n",
       "    }\n",
       "</style>\n",
       "<table border=\"1\" class=\"dataframe\">\n",
       "  <thead>\n",
       "    <tr style=\"text-align: right;\">\n",
       "      <th></th>\n",
       "      <th>confidence</th>\n",
       "      <th>duration</th>\n",
       "      <th>loudness</th>\n",
       "      <th>mode</th>\n",
       "      <th>mode_confidence</th>\n",
       "      <th>tempo</th>\n",
       "      <th>tempo_confidence</th>\n",
       "    </tr>\n",
       "  </thead>\n",
       "  <tbody>\n",
       "    <tr>\n",
       "      <th>2GJxRwFe8oLcbXgTw9P5of</th>\n",
       "      <td>NaN</td>\n",
       "      <td>NaN</td>\n",
       "      <td>NaN</td>\n",
       "      <td>NaN</td>\n",
       "      <td>NaN</td>\n",
       "      <td>NaN</td>\n",
       "      <td>NaN</td>\n",
       "    </tr>\n",
       "    <tr>\n",
       "      <th>2ULmjTNKicNAC0HAyYa47y</th>\n",
       "      <td>NaN</td>\n",
       "      <td>NaN</td>\n",
       "      <td>NaN</td>\n",
       "      <td>NaN</td>\n",
       "      <td>NaN</td>\n",
       "      <td>NaN</td>\n",
       "      <td>NaN</td>\n",
       "    </tr>\n",
       "    <tr>\n",
       "      <th>5Asz9rHr2rViBdl6pkXpoq</th>\n",
       "      <td>NaN</td>\n",
       "      <td>NaN</td>\n",
       "      <td>NaN</td>\n",
       "      <td>NaN</td>\n",
       "      <td>NaN</td>\n",
       "      <td>NaN</td>\n",
       "      <td>NaN</td>\n",
       "    </tr>\n",
       "  </tbody>\n",
       "</table>\n",
       "</div>"
      ],
      "text/plain": [
       "                       confidence duration loudness mode mode_confidence  \\\n",
       "2GJxRwFe8oLcbXgTw9P5of        NaN      NaN      NaN  NaN             NaN   \n",
       "2ULmjTNKicNAC0HAyYa47y        NaN      NaN      NaN  NaN             NaN   \n",
       "5Asz9rHr2rViBdl6pkXpoq        NaN      NaN      NaN  NaN             NaN   \n",
       "\n",
       "                       tempo tempo_confidence  \n",
       "2GJxRwFe8oLcbXgTw9P5of   NaN              NaN  \n",
       "2ULmjTNKicNAC0HAyYa47y   NaN              NaN  \n",
       "5Asz9rHr2rViBdl6pkXpoq   NaN              NaN  "
      ]
     },
     "execution_count": 254,
     "metadata": {},
     "output_type": "execute_result"
    }
   ],
   "source": [
    "section_var[section_var.isnull().any(1)].head()"
   ]
  },
  {
   "cell_type": "markdown",
   "metadata": {},
   "source": [
    "#### Dealing with Null Values"
   ]
  },
  {
   "cell_type": "code",
   "execution_count": 256,
   "metadata": {},
   "outputs": [],
   "source": [
    "with open('../data/audio_analysis/2GJxRwFe8oLcbXgTw9P5of.json', 'r') as f:\n",
    "    _2GJxRwFe8oLcbXgTw9P5of = json.load(f)\n",
    "with open('../data/audio_analysis/2ULmjTNKicNAC0HAyYa47y.json', 'r') as f:\n",
    "    _2ULmjTNKicNAC0HAyYa47y = json.load(f)\n",
    "with open('../data/audio_analysis/5Asz9rHr2rViBdl6pkXpoq.json', 'r') as f:\n",
    "    _5Asz9rHr2rViBdl6pkXpoq = json.load(f)"
   ]
  },
  {
   "cell_type": "code",
   "execution_count": 260,
   "metadata": {},
   "outputs": [
    {
     "data": {
      "text/plain": [
       "[{'start': 0.0,\n",
       "  'duration': 59.93333,\n",
       "  'confidence': 1.0,\n",
       "  'loudness': -17.937,\n",
       "  'tempo': 80.584,\n",
       "  'tempo_confidence': 0.115,\n",
       "  'key': 2,\n",
       "  'key_confidence': 0.285,\n",
       "  'mode': 0,\n",
       "  'mode_confidence': 0.487,\n",
       "  'time_signature': 3,\n",
       "  'time_signature_confidence': 0.128}]"
      ]
     },
     "execution_count": 260,
     "metadata": {},
     "output_type": "execute_result"
    }
   ],
   "source": [
    "_5Asz9rHr2rViBdl6pkXpoq['sections']"
   ]
  },
  {
   "cell_type": "markdown",
   "metadata": {},
   "source": [
    "Turns out that for each one of these titles, there is only 1 section, therefore...impossible to get a variance value. I just changed the observation to all 0's."
   ]
  },
  {
   "cell_type": "code",
   "execution_count": 263,
   "metadata": {},
   "outputs": [],
   "source": [
    "section_var.loc['2GJxRwFe8oLcbXgTw9P5of'] = 0\n",
    "section_var.loc['2ULmjTNKicNAC0HAyYa47y'] = 0\n",
    "section_var.loc['5Asz9rHr2rViBdl6pkXpoq'] = 0"
   ]
  },
  {
   "cell_type": "markdown",
   "metadata": {},
   "source": [
    "#### Output to `csv`"
   ]
  },
  {
   "cell_type": "code",
   "execution_count": 286,
   "metadata": {},
   "outputs": [],
   "source": [
    "section_mean.to_csv('../data/spotify_section_means.csv')"
   ]
  },
  {
   "cell_type": "code",
   "execution_count": 287,
   "metadata": {},
   "outputs": [],
   "source": [
    "section_var.to_csv('../data/spotify_section_var.csv')"
   ]
  },
  {
   "cell_type": "markdown",
   "metadata": {},
   "source": [
    "### 1d. Merging Key Change listing with Spotify Features\n",
    "\n",
    "Since the general `key` of every song is shown within the `spotify_song_feat` table that I have, I'll merge it with the aforementioned table to cut down on extraneous lists."
   ]
  },
  {
   "cell_type": "code",
   "execution_count": 95,
   "metadata": {},
   "outputs": [
    {
     "data": {
      "text/html": [
       "<div>\n",
       "<style scoped>\n",
       "    .dataframe tbody tr th:only-of-type {\n",
       "        vertical-align: middle;\n",
       "    }\n",
       "\n",
       "    .dataframe tbody tr th {\n",
       "        vertical-align: top;\n",
       "    }\n",
       "\n",
       "    .dataframe thead th {\n",
       "        text-align: right;\n",
       "    }\n",
       "</style>\n",
       "<table border=\"1\" class=\"dataframe\">\n",
       "  <thead>\n",
       "    <tr style=\"text-align: right;\">\n",
       "      <th></th>\n",
       "      <th>danceability</th>\n",
       "      <th>energy</th>\n",
       "      <th>key</th>\n",
       "      <th>loudness</th>\n",
       "      <th>mode</th>\n",
       "      <th>speechiness</th>\n",
       "      <th>acousticness</th>\n",
       "      <th>instrumentalness</th>\n",
       "      <th>liveness</th>\n",
       "      <th>valence</th>\n",
       "      <th>tempo</th>\n",
       "      <th>duration_ms</th>\n",
       "      <th>time_signature</th>\n",
       "    </tr>\n",
       "    <tr>\n",
       "      <th>id</th>\n",
       "      <th></th>\n",
       "      <th></th>\n",
       "      <th></th>\n",
       "      <th></th>\n",
       "      <th></th>\n",
       "      <th></th>\n",
       "      <th></th>\n",
       "      <th></th>\n",
       "      <th></th>\n",
       "      <th></th>\n",
       "      <th></th>\n",
       "      <th></th>\n",
       "      <th></th>\n",
       "    </tr>\n",
       "  </thead>\n",
       "  <tbody>\n",
       "    <tr>\n",
       "      <th>62bOmKYxYg7dhrC6gH9vFn</th>\n",
       "      <td>0.610</td>\n",
       "      <td>0.926</td>\n",
       "      <td>8</td>\n",
       "      <td>-4.843</td>\n",
       "      <td>0</td>\n",
       "      <td>0.0479</td>\n",
       "      <td>0.0310</td>\n",
       "      <td>0.001200</td>\n",
       "      <td>0.0821</td>\n",
       "      <td>0.861</td>\n",
       "      <td>172.638</td>\n",
       "      <td>200400</td>\n",
       "      <td>4</td>\n",
       "    </tr>\n",
       "    <tr>\n",
       "      <th>46n2EGFnPC3tzWCN1Aqe26</th>\n",
       "      <td>0.550</td>\n",
       "      <td>0.587</td>\n",
       "      <td>2</td>\n",
       "      <td>-6.279</td>\n",
       "      <td>1</td>\n",
       "      <td>0.0329</td>\n",
       "      <td>0.3540</td>\n",
       "      <td>0.000000</td>\n",
       "      <td>0.1280</td>\n",
       "      <td>0.466</td>\n",
       "      <td>165.975</td>\n",
       "      <td>284760</td>\n",
       "      <td>4</td>\n",
       "    </tr>\n",
       "    <tr>\n",
       "      <th>2AW37v0bDyuOzGP3XnmFuA</th>\n",
       "      <td>0.636</td>\n",
       "      <td>0.873</td>\n",
       "      <td>0</td>\n",
       "      <td>-4.672</td>\n",
       "      <td>0</td>\n",
       "      <td>0.0710</td>\n",
       "      <td>0.0407</td>\n",
       "      <td>0.000001</td>\n",
       "      <td>0.0372</td>\n",
       "      <td>0.908</td>\n",
       "      <td>165.071</td>\n",
       "      <td>192427</td>\n",
       "      <td>4</td>\n",
       "    </tr>\n",
       "    <tr>\n",
       "      <th>594M0rqYMOo8BhMGEdoi5C</th>\n",
       "      <td>0.686</td>\n",
       "      <td>0.915</td>\n",
       "      <td>7</td>\n",
       "      <td>-4.447</td>\n",
       "      <td>1</td>\n",
       "      <td>0.0364</td>\n",
       "      <td>0.0028</td>\n",
       "      <td>0.000007</td>\n",
       "      <td>0.2330</td>\n",
       "      <td>0.796</td>\n",
       "      <td>110.054</td>\n",
       "      <td>211000</td>\n",
       "      <td>4</td>\n",
       "    </tr>\n",
       "    <tr>\n",
       "      <th>0Jc8qF1mUPo1A96HE9QxZz</th>\n",
       "      <td>0.706</td>\n",
       "      <td>0.861</td>\n",
       "      <td>11</td>\n",
       "      <td>-6.684</td>\n",
       "      <td>1</td>\n",
       "      <td>0.1540</td>\n",
       "      <td>0.0341</td>\n",
       "      <td>0.000000</td>\n",
       "      <td>0.1270</td>\n",
       "      <td>0.923</td>\n",
       "      <td>119.946</td>\n",
       "      <td>238427</td>\n",
       "      <td>4</td>\n",
       "    </tr>\n",
       "  </tbody>\n",
       "</table>\n",
       "</div>"
      ],
      "text/plain": [
       "                        danceability  energy  key  loudness  mode  \\\n",
       "id                                                                  \n",
       "62bOmKYxYg7dhrC6gH9vFn         0.610   0.926    8    -4.843     0   \n",
       "46n2EGFnPC3tzWCN1Aqe26         0.550   0.587    2    -6.279     1   \n",
       "2AW37v0bDyuOzGP3XnmFuA         0.636   0.873    0    -4.672     0   \n",
       "594M0rqYMOo8BhMGEdoi5C         0.686   0.915    7    -4.447     1   \n",
       "0Jc8qF1mUPo1A96HE9QxZz         0.706   0.861   11    -6.684     1   \n",
       "\n",
       "                        speechiness  acousticness  instrumentalness  liveness  \\\n",
       "id                                                                              \n",
       "62bOmKYxYg7dhrC6gH9vFn       0.0479        0.0310          0.001200    0.0821   \n",
       "46n2EGFnPC3tzWCN1Aqe26       0.0329        0.3540          0.000000    0.1280   \n",
       "2AW37v0bDyuOzGP3XnmFuA       0.0710        0.0407          0.000001    0.0372   \n",
       "594M0rqYMOo8BhMGEdoi5C       0.0364        0.0028          0.000007    0.2330   \n",
       "0Jc8qF1mUPo1A96HE9QxZz       0.1540        0.0341          0.000000    0.1270   \n",
       "\n",
       "                        valence    tempo  duration_ms  time_signature  \n",
       "id                                                                     \n",
       "62bOmKYxYg7dhrC6gH9vFn    0.861  172.638       200400               4  \n",
       "46n2EGFnPC3tzWCN1Aqe26    0.466  165.975       284760               4  \n",
       "2AW37v0bDyuOzGP3XnmFuA    0.908  165.071       192427               4  \n",
       "594M0rqYMOo8BhMGEdoi5C    0.796  110.054       211000               4  \n",
       "0Jc8qF1mUPo1A96HE9QxZz    0.923  119.946       238427               4  "
      ]
     },
     "execution_count": 95,
     "metadata": {},
     "output_type": "execute_result"
    }
   ],
   "source": [
    "song_feat = pd.read_csv('../data/spotify_song_feat.csv').set_index('id')\n",
    "song_feat.head()"
   ]
  },
  {
   "cell_type": "code",
   "execution_count": 98,
   "metadata": {},
   "outputs": [],
   "source": [
    "song_feat.drop(labels=non_songs['s_song_id'], inplace=True)"
   ]
  },
  {
   "cell_type": "code",
   "execution_count": 103,
   "metadata": {},
   "outputs": [],
   "source": [
    "song_feat_kc = song_feat.merge(pd.DataFrame(kc_df), left_on='id', right_on=kc_df.index)"
   ]
  },
  {
   "cell_type": "code",
   "execution_count": 108,
   "metadata": {},
   "outputs": [],
   "source": [
    "song_feat_kc.rename({0:'key_changes'}, axis=1, inplace=True)"
   ]
  },
  {
   "cell_type": "code",
   "execution_count": 110,
   "metadata": {},
   "outputs": [
    {
     "data": {
      "text/plain": [
       "(23661, 15)"
      ]
     },
     "execution_count": 110,
     "metadata": {},
     "output_type": "execute_result"
    }
   ],
   "source": [
    "song_feat_kc.shape"
   ]
  },
  {
   "cell_type": "markdown",
   "metadata": {},
   "source": [
    "##### Removing Duplicate Songs from `song_feat_kc`"
   ]
  },
  {
   "cell_type": "code",
   "execution_count": 115,
   "metadata": {},
   "outputs": [],
   "source": [
    "song_feat_kc.drop_duplicates(inplace=True)"
   ]
  },
  {
   "cell_type": "code",
   "execution_count": 117,
   "metadata": {},
   "outputs": [],
   "source": [
    "song_feat_kc.set_index('id', inplace=True)"
   ]
  },
  {
   "cell_type": "markdown",
   "metadata": {},
   "source": [
    "#### Exporting Song Feats back to `csv`"
   ]
  },
  {
   "cell_type": "code",
   "execution_count": 118,
   "metadata": {},
   "outputs": [],
   "source": [
    "song_feat_kc.to_csv('../data/song_feats.csv')"
   ]
  },
  {
   "cell_type": "markdown",
   "metadata": {},
   "source": [
    "<a name=\"2\"></a>\n",
    "## 2. Segments\n",
    "\n",
    "Each segment represents a uniform element of sound, typically under 1 second (e.g., if one was listening to a piano piece, for instance, a segment could represent a single chord being played). Each segment is characterized by their perceptual onsets and duration in seconds, loudness, pitch and timbral content [(Mark Koh)](https://www.youtube.com/watch?v=goUzHd7cTuA&feature=youtu.be).\n",
    "\n",
    "There is a variable number of segments in a given song, which makes it difficult to use for calculating similarity. The calculations should be time invariant. Therefore, I decided to take the mean and variance of each `Timbre` and `Pitch` value (please refer to the data dictionary for more information on each). I separated `pitches` and `timbre` into separate matrices, considering I need to get the mean and variance of each element within each of those arrays. \n",
    "\n",
    "I did not store any other values from the audio segments. Reason being, that I wasn't overly concered with the length of each segment, nor was I concerned with the loundess levels, since they're referred to within the `Sections` and audio features."
   ]
  },
  {
   "cell_type": "markdown",
   "metadata": {},
   "source": [
    "### 2a. Creating Functions to Grab Summary Pitch and Timbre Statistics for Each Song"
   ]
  },
  {
   "cell_type": "markdown",
   "metadata": {},
   "source": [
    "#### Grabbing Pitch / Timbre Summary Stats"
   ]
  },
  {
   "cell_type": "code",
   "execution_count": 112,
   "metadata": {},
   "outputs": [
    {
     "name": "stdout",
     "output_type": "stream",
     "text": [
      "grabbing 1001\n",
      "grabbing 2001\n",
      "grabbing 3001\n",
      "grabbing 4001\n",
      "grabbing 5001\n",
      "grabbing 6001\n",
      "grabbing 7001\n",
      "grabbing 8001\n",
      "grabbing 9001\n",
      "grabbing 10001\n",
      "grabbing 11001\n",
      "grabbing 12001\n",
      "grabbing 13001\n",
      "grabbing 14001\n",
      "grabbing 15001\n",
      "grabbing 16001\n",
      "grabbing 17001\n",
      "grabbing 18001\n",
      "grabbing 19001\n",
      "grabbing 20001\n",
      "grabbing 21001\n",
      "grabbing 22001\n",
      "grabbing 23001\n"
     ]
    }
   ],
   "source": [
    "timbre_means, timbre_var, pitch_means, pitch_var = pt_grabber.pt_grabber(analysis_list)"
   ]
  },
  {
   "cell_type": "markdown",
   "metadata": {},
   "source": [
    "#### Checking Lists for Lack of Summary Stats"
   ]
  },
  {
   "cell_type": "code",
   "execution_count": 119,
   "metadata": {},
   "outputs": [
    {
     "name": "stdout",
     "output_type": "stream",
     "text": [
      "0\n"
     ]
    }
   ],
   "source": [
    "count = 0\n",
    "for e in pitch_var:\n",
    "    if isinstance(e, str):\n",
    "        count += 1\n",
    "print(count)"
   ]
  },
  {
   "cell_type": "markdown",
   "metadata": {},
   "source": [
    "### 2b. Tossing Lists into DataFrames + `csv`"
   ]
  },
  {
   "cell_type": "code",
   "execution_count": 139,
   "metadata": {},
   "outputs": [
    {
     "data": {
      "text/plain": [
       "'000xQL6tZNLJzIrtIgxqSl'"
      ]
     },
     "execution_count": 139,
     "metadata": {},
     "output_type": "execute_result"
    }
   ],
   "source": [
    "list(timbre_means[0].keys())[0]"
   ]
  },
  {
   "cell_type": "code",
   "execution_count": 135,
   "metadata": {},
   "outputs": [
    {
     "data": {
      "text/plain": [
       "49.242242014742054"
      ]
     },
     "execution_count": 135,
     "metadata": {},
     "output_type": "execute_result"
    }
   ],
   "source": [
    "list(timbre_means[0].values())[0]"
   ]
  },
  {
   "cell_type": "code",
   "execution_count": null,
   "metadata": {},
   "outputs": [],
   "source": [
    "tm_df = mk_sum_df.mk_sum_df(timbre_means)\n",
    "tv_df = mk_sum_df.mk_sum_df(timbre_var)\n",
    "pm_df = mk_sum_df.mk_sum_df(pitch_means)\n",
    "pv_df = mk_sum_df.mk_sum_df(pitch_var)"
   ]
  },
  {
   "cell_type": "markdown",
   "metadata": {},
   "source": [
    "#### Removing Duplicate Records"
   ]
  },
  {
   "cell_type": "code",
   "execution_count": 167,
   "metadata": {},
   "outputs": [
    {
     "data": {
      "text/plain": [
       "((23129, 12), (23129, 12), (23129, 12), (23129, 12))"
      ]
     },
     "execution_count": 167,
     "metadata": {},
     "output_type": "execute_result"
    }
   ],
   "source": [
    "tm_df.shape, tv_df.shape, pm_df.shape, pv_df.shape"
   ]
  },
  {
   "cell_type": "code",
   "execution_count": 168,
   "metadata": {},
   "outputs": [],
   "source": [
    "tm_df.drop_duplicates(inplace = True)\n",
    "tv_df.drop_duplicates(inplace = True)\n",
    "pm_df.drop_duplicates(inplace = True)\n",
    "pv_df.drop_duplicates(inplace = True)"
   ]
  },
  {
   "cell_type": "code",
   "execution_count": 169,
   "metadata": {},
   "outputs": [
    {
     "data": {
      "text/plain": [
       "((23124, 12), (23124, 12), (23124, 12), (23124, 12))"
      ]
     },
     "execution_count": 169,
     "metadata": {},
     "output_type": "execute_result"
    }
   ],
   "source": [
    "tm_df.shape, tv_df.shape, pm_df.shape, pv_df.shape"
   ]
  },
  {
   "cell_type": "markdown",
   "metadata": {},
   "source": [
    "#### Checking for `null's`"
   ]
  },
  {
   "cell_type": "code",
   "execution_count": 273,
   "metadata": {},
   "outputs": [
    {
     "data": {
      "text/html": [
       "<div>\n",
       "<style scoped>\n",
       "    .dataframe tbody tr th:only-of-type {\n",
       "        vertical-align: middle;\n",
       "    }\n",
       "\n",
       "    .dataframe tbody tr th {\n",
       "        vertical-align: top;\n",
       "    }\n",
       "\n",
       "    .dataframe thead th {\n",
       "        text-align: right;\n",
       "    }\n",
       "</style>\n",
       "<table border=\"1\" class=\"dataframe\">\n",
       "  <thead>\n",
       "    <tr style=\"text-align: right;\">\n",
       "      <th></th>\n",
       "      <th>dim_1</th>\n",
       "      <th>dim_2</th>\n",
       "      <th>dim_3</th>\n",
       "      <th>dim_4</th>\n",
       "      <th>dim_5</th>\n",
       "      <th>dim_6</th>\n",
       "      <th>dim_7</th>\n",
       "      <th>dim_8</th>\n",
       "      <th>dim_9</th>\n",
       "      <th>dim_10</th>\n",
       "      <th>dim_11</th>\n",
       "      <th>dim_12</th>\n",
       "    </tr>\n",
       "  </thead>\n",
       "  <tbody>\n",
       "  </tbody>\n",
       "</table>\n",
       "</div>"
      ],
      "text/plain": [
       "Empty DataFrame\n",
       "Columns: [dim_1, dim_2, dim_3, dim_4, dim_5, dim_6, dim_7, dim_8, dim_9, dim_10, dim_11, dim_12]\n",
       "Index: []"
      ]
     },
     "execution_count": 273,
     "metadata": {},
     "output_type": "execute_result"
    }
   ],
   "source": [
    "pv_df[tm_df.isnull().any(1)]"
   ]
  },
  {
   "cell_type": "markdown",
   "metadata": {},
   "source": [
    "#### Outputting to csv"
   ]
  },
  {
   "cell_type": "code",
   "execution_count": 173,
   "metadata": {},
   "outputs": [],
   "source": [
    "tm_df.to_csv('../data/timbre_means.csv')\n",
    "tv_df.to_csv('../data/timbre_var.csv')\n",
    "pm_df.to_csv('../data/pitch_means.csv')\n",
    "pv_df.to_csv('../data/pitch_var.csv')"
   ]
  },
  {
   "cell_type": "markdown",
   "metadata": {},
   "source": [
    "#### Next notebook: 03_EDA"
   ]
  }
 ],
 "metadata": {
  "kernelspec": {
   "display_name": "Python 3",
   "language": "python",
   "name": "python3"
  },
  "language_info": {
   "codemirror_mode": {
    "name": "ipython",
    "version": 3
   },
   "file_extension": ".py",
   "mimetype": "text/x-python",
   "name": "python",
   "nbconvert_exporter": "python",
   "pygments_lexer": "ipython3",
   "version": "3.6.3"
  }
 },
 "nbformat": 4,
 "nbformat_minor": 2
}
