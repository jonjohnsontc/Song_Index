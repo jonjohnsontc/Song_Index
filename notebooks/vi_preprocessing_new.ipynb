{
 "cells": [
  {
   "cell_type": "markdown",
   "metadata": {},
   "source": [
    "# Preprocessing the Second Batch of Songs"
   ]
  },
  {
   "cell_type": "code",
   "execution_count": 68,
   "metadata": {},
   "outputs": [],
   "source": [
    "import json\n",
    "import pickle\n",
    "import os\n",
    "import re\n",
    "\n",
    "import numpy as np\n",
    "import pandas as pd\n",
    "\n",
    "from spotipy import Spotify\n",
    "from spotipy.oauth2 import SpotifyClientCredentials\n",
    "\n",
    "from library import get_sec_ss"
   ]
  },
  {
   "cell_type": "markdown",
   "metadata": {},
   "source": [
    "## Table of Contents"
   ]
  },
  {
   "cell_type": "markdown",
   "metadata": {},
   "source": [
    "## 1. Loading in Tables"
   ]
  },
  {
   "cell_type": "code",
   "execution_count": 79,
   "metadata": {},
   "outputs": [],
   "source": [
    "# all songs I attempted to pull\n",
    "with open('../data/new_tracks_20190103.json', 'r') as f:\n",
    "    new_tracks = json.load(f)\n",
    "\n",
    "\n",
    "matched_songs = pd.read_csv('../data/matched_songs_20190209.csv', index_col = 0)\n",
    "main_wfeats = pd.read_csv('../data/main_wfeats.csv', index_col = 0)\n",
    "genres = pd.read_csv('../data/genres.csv', index_col = 0)\n",
    "gs_lookup = pd.read_csv('../data/gsong_lookup.csv', index_col = 0)"
   ]
  },
  {
   "cell_type": "code",
   "execution_count": 56,
   "metadata": {},
   "outputs": [],
   "source": [
    "artists = pd.read_csv('../data/artist_list_v2.csv', index_col=0)"
   ]
  },
  {
   "cell_type": "markdown",
   "metadata": {},
   "source": [
    "### 1a. Grabbing Mean & Variance Segment Values"
   ]
  },
  {
   "cell_type": "code",
   "execution_count": 3,
   "metadata": {},
   "outputs": [],
   "source": [
    "def combine_section_mean_var(fp):\n",
    "    '''\n",
    "    Given a file path, grabs mean and variance segment dictionaries\n",
    "    and combines them together\n",
    "    '''\n",
    "    directory = {\n",
    "        'means' : [],\n",
    "        'vars' : [],\n",
    "    }\n",
    "    \n",
    "    # grabbing all files\n",
    "    for file in os.listdir(fp):\n",
    "        if 'section_mean_' in file:\n",
    "            directory['means'].append(file)\n",
    "        elif 'section_var_' in file:\n",
    "            directory['vars'].append(file)\n",
    "    \n",
    "    # base files\n",
    "    with open(f\"{fp}/{directory['means'][0]}\", 'r') as f:\n",
    "        mean_dict = json.load(f)\n",
    "    with open(f\"{fp}/{directory['vars'][0]}\", 'r') as f:\n",
    "        vars_dict = json.load(f)\n",
    "    \n",
    "    # adding addtl files\n",
    "    for i in range(1, len(directory['means'])):\n",
    "        with open(f\"{fp}/{directory['means'][i]}\", 'r') as f:\n",
    "            addition = json.load(f)\n",
    "        mean_dict.extend(addition)\n",
    "                  \n",
    "    for i in range(1, len(directory['vars'])):\n",
    "        with open(f\"{fp}/{directory['vars'][i]}\", 'r') as f:\n",
    "            addition = json.load(f)\n",
    "        vars_dict.extend(addition)\n",
    "    \n",
    "    return mean_dict, vars_dict"
   ]
  },
  {
   "cell_type": "code",
   "execution_count": 4,
   "metadata": {},
   "outputs": [],
   "source": [
    "means, variances = combine_section_mean_var('../data')"
   ]
  },
  {
   "cell_type": "code",
   "execution_count": 32,
   "metadata": {},
   "outputs": [
    {
     "data": {
      "text/plain": [
       "651452"
      ]
     },
     "execution_count": 32,
     "metadata": {},
     "output_type": "execute_result"
    }
   ],
   "source": [
    "len(variances)"
   ]
  },
  {
   "cell_type": "code",
   "execution_count": 34,
   "metadata": {},
   "outputs": [
    {
     "data": {
      "text/plain": [
       "651517"
      ]
     },
     "execution_count": 34,
     "metadata": {},
     "output_type": "execute_result"
    }
   ],
   "source": [
    "len(new_tracks)"
   ]
  },
  {
   "cell_type": "code",
   "execution_count": 35,
   "metadata": {},
   "outputs": [
    {
     "data": {
      "text/plain": [
       "159438"
      ]
     },
     "execution_count": 35,
     "metadata": {},
     "output_type": "execute_result"
    }
   ],
   "source": [
    "len(matched_songs)"
   ]
  },
  {
   "cell_type": "code",
   "execution_count": 25,
   "metadata": {},
   "outputs": [
    {
     "data": {
      "text/plain": [
       "{'confidence': 0.601625,\n",
       " 'duration': 26.5366675,\n",
       " 'loudness': -14.359750000000002,\n",
       " 'mode': 0.875,\n",
       " 'mode_confidence': 0.3652500000000001,\n",
       " 'tempo': 121.35325,\n",
       " 'tempo_confidence': 0.4575}"
      ]
     },
     "execution_count": 25,
     "metadata": {},
     "output_type": "execute_result"
    }
   ],
   "source": [
    "[value for value in means[0].values()][0]"
   ]
  },
  {
   "cell_type": "code",
   "execution_count": 31,
   "metadata": {},
   "outputs": [],
   "source": [
    "def unpack_lists(lst):\n",
    "    '''\n",
    "    Unpacks a list of dictionaries into a dictionary\n",
    "    '''\n",
    "    dct = {}\n",
    "    for i in range(len(lst)):\n",
    "        dct[[key for key in lst[i].keys()][0]] \\\n",
    "            = [value for value in lst[i].values()][0]\n",
    "    return dct"
   ]
  },
  {
   "cell_type": "code",
   "execution_count": 34,
   "metadata": {},
   "outputs": [],
   "source": [
    "mean_dict = unpack_lists(means)\n",
    "var_dict = unpack_lists(variances)"
   ]
  },
  {
   "cell_type": "code",
   "execution_count": 48,
   "metadata": {},
   "outputs": [],
   "source": [
    "def find_errors(dct):\n",
    "    '''\n",
    "    returns error messages if found in mean or var dicts\n",
    "    '''\n",
    "    error_dct = {}\n",
    "    for i in dct.copy():\n",
    "        if isinstance(dct[i], str):\n",
    "            error_dct[i] = dct[i]\n",
    "            del dct[i]\n",
    "    return dct, error_dct"
   ]
  },
  {
   "cell_type": "code",
   "execution_count": 49,
   "metadata": {},
   "outputs": [],
   "source": [
    "mean_dict, mean_errors = find_errors(mean_dict)"
   ]
  },
  {
   "cell_type": "code",
   "execution_count": 50,
   "metadata": {},
   "outputs": [],
   "source": [
    "var_dict, var_errors = find_errors(var_dict)"
   ]
  },
  {
   "cell_type": "code",
   "execution_count": 51,
   "metadata": {},
   "outputs": [
    {
     "data": {
      "text/plain": [
       "650263"
      ]
     },
     "execution_count": 51,
     "metadata": {},
     "output_type": "execute_result"
    }
   ],
   "source": [
    "len(mean_dict)"
   ]
  },
  {
   "cell_type": "code",
   "execution_count": 45,
   "metadata": {},
   "outputs": [
    {
     "data": {
      "text/plain": [
       "1189"
      ]
     },
     "execution_count": 45,
     "metadata": {},
     "output_type": "execute_result"
    }
   ],
   "source": [
    "len(mean_errors)"
   ]
  },
  {
   "cell_type": "code",
   "execution_count": 52,
   "metadata": {},
   "outputs": [],
   "source": [
    "mean_df = pd.DataFrame.from_dict(mean_dict, orient='index')"
   ]
  },
  {
   "cell_type": "code",
   "execution_count": 55,
   "metadata": {},
   "outputs": [],
   "source": [
    "var_df = pd.DataFrame.from_dict(var_dict, orient='index')"
   ]
  },
  {
   "cell_type": "code",
   "execution_count": 57,
   "metadata": {},
   "outputs": [
    {
     "data": {
      "text/html": [
       "<div>\n",
       "<style scoped>\n",
       "    .dataframe tbody tr th:only-of-type {\n",
       "        vertical-align: middle;\n",
       "    }\n",
       "\n",
       "    .dataframe tbody tr th {\n",
       "        vertical-align: top;\n",
       "    }\n",
       "\n",
       "    .dataframe thead th {\n",
       "        text-align: right;\n",
       "    }\n",
       "</style>\n",
       "<table border=\"1\" class=\"dataframe\">\n",
       "  <thead>\n",
       "    <tr style=\"text-align: right;\">\n",
       "      <th></th>\n",
       "      <th>confidence</th>\n",
       "      <th>duration</th>\n",
       "      <th>loudness</th>\n",
       "      <th>mode</th>\n",
       "      <th>mode_confidence</th>\n",
       "      <th>tempo</th>\n",
       "      <th>tempo_confidence</th>\n",
       "    </tr>\n",
       "  </thead>\n",
       "  <tbody>\n",
       "    <tr>\n",
       "      <th>0007aPK8VmXN4ycL2OcBFa</th>\n",
       "      <td>0.552778</td>\n",
       "      <td>32.807407</td>\n",
       "      <td>-7.355333</td>\n",
       "      <td>0.888889</td>\n",
       "      <td>0.354889</td>\n",
       "      <td>114.153000</td>\n",
       "      <td>0.286667</td>\n",
       "    </tr>\n",
       "    <tr>\n",
       "      <th>0008G8TW7eiVfwlRRsKlgW</th>\n",
       "      <td>0.549364</td>\n",
       "      <td>19.008486</td>\n",
       "      <td>-11.250909</td>\n",
       "      <td>0.909091</td>\n",
       "      <td>0.629455</td>\n",
       "      <td>133.749182</td>\n",
       "      <td>0.371545</td>\n",
       "    </tr>\n",
       "    <tr>\n",
       "      <th>000BqzNd7gRYnK6umzTNZX</th>\n",
       "      <td>0.657167</td>\n",
       "      <td>20.035555</td>\n",
       "      <td>-5.852000</td>\n",
       "      <td>0.833333</td>\n",
       "      <td>0.285667</td>\n",
       "      <td>145.424167</td>\n",
       "      <td>0.365333</td>\n",
       "    </tr>\n",
       "    <tr>\n",
       "      <th>000CSIqE1KcjAiZYYWXV18</th>\n",
       "      <td>0.477333</td>\n",
       "      <td>24.455557</td>\n",
       "      <td>-12.882333</td>\n",
       "      <td>0.166667</td>\n",
       "      <td>0.552833</td>\n",
       "      <td>124.057583</td>\n",
       "      <td>0.438833</td>\n",
       "    </tr>\n",
       "    <tr>\n",
       "      <th>000G1xMMuwxNHmwVsBdtj1</th>\n",
       "      <td>0.489167</td>\n",
       "      <td>15.195622</td>\n",
       "      <td>-6.957667</td>\n",
       "      <td>0.833333</td>\n",
       "      <td>0.262083</td>\n",
       "      <td>190.880667</td>\n",
       "      <td>0.272000</td>\n",
       "    </tr>\n",
       "  </tbody>\n",
       "</table>\n",
       "</div>"
      ],
      "text/plain": [
       "                        confidence   duration   loudness      mode  \\\n",
       "0007aPK8VmXN4ycL2OcBFa    0.552778  32.807407  -7.355333  0.888889   \n",
       "0008G8TW7eiVfwlRRsKlgW    0.549364  19.008486 -11.250909  0.909091   \n",
       "000BqzNd7gRYnK6umzTNZX    0.657167  20.035555  -5.852000  0.833333   \n",
       "000CSIqE1KcjAiZYYWXV18    0.477333  24.455557 -12.882333  0.166667   \n",
       "000G1xMMuwxNHmwVsBdtj1    0.489167  15.195622  -6.957667  0.833333   \n",
       "\n",
       "                        mode_confidence       tempo  tempo_confidence  \n",
       "0007aPK8VmXN4ycL2OcBFa         0.354889  114.153000          0.286667  \n",
       "0008G8TW7eiVfwlRRsKlgW         0.629455  133.749182          0.371545  \n",
       "000BqzNd7gRYnK6umzTNZX         0.285667  145.424167          0.365333  \n",
       "000CSIqE1KcjAiZYYWXV18         0.552833  124.057583          0.438833  \n",
       "000G1xMMuwxNHmwVsBdtj1         0.262083  190.880667          0.272000  "
      ]
     },
     "execution_count": 57,
     "metadata": {},
     "output_type": "execute_result"
    }
   ],
   "source": [
    "mean_df.head()"
   ]
  },
  {
   "cell_type": "code",
   "execution_count": 58,
   "metadata": {},
   "outputs": [
    {
     "data": {
      "text/plain": [
       "{'Song Title': 'Don`t Go', 'Artist': 'Stevie B'}"
      ]
     },
     "execution_count": 58,
     "metadata": {},
     "output_type": "execute_result"
    }
   ],
   "source": [
    "new_tracks['0008G8TW7eiVfwlRRsKlgW']"
   ]
  },
  {
   "cell_type": "code",
   "execution_count": 80,
   "metadata": {},
   "outputs": [],
   "source": [
    "new_tracks_df = pd.DataFrame.from_dict(new_tracks, orient='index')"
   ]
  },
  {
   "cell_type": "code",
   "execution_count": 60,
   "metadata": {},
   "outputs": [
    {
     "data": {
      "text/html": [
       "<div>\n",
       "<style scoped>\n",
       "    .dataframe tbody tr th:only-of-type {\n",
       "        vertical-align: middle;\n",
       "    }\n",
       "\n",
       "    .dataframe tbody tr th {\n",
       "        vertical-align: top;\n",
       "    }\n",
       "\n",
       "    .dataframe thead th {\n",
       "        text-align: right;\n",
       "    }\n",
       "</style>\n",
       "<table border=\"1\" class=\"dataframe\">\n",
       "  <thead>\n",
       "    <tr style=\"text-align: right;\">\n",
       "      <th></th>\n",
       "      <th>name</th>\n",
       "      <th>popularity</th>\n",
       "      <th>followers</th>\n",
       "    </tr>\n",
       "    <tr>\n",
       "      <th>s_artist_id</th>\n",
       "      <th></th>\n",
       "      <th></th>\n",
       "      <th></th>\n",
       "    </tr>\n",
       "  </thead>\n",
       "  <tbody>\n",
       "    <tr>\n",
       "      <th>6Ff53KvcvAj5U7Z1vojB5o</th>\n",
       "      <td>*NSYNC</td>\n",
       "      <td>71</td>\n",
       "      <td>747136.0</td>\n",
       "    </tr>\n",
       "    <tr>\n",
       "      <th>1bDWGdIC2hardyt55nlQgG</th>\n",
       "      <td>\"Weird Al\" Yankovic</td>\n",
       "      <td>59</td>\n",
       "      <td>337751.0</td>\n",
       "    </tr>\n",
       "    <tr>\n",
       "      <th>0REMf7H0VP6DwfZ9MbuWph</th>\n",
       "      <td>10 Years</td>\n",
       "      <td>60</td>\n",
       "      <td>243895.0</td>\n",
       "    </tr>\n",
       "    <tr>\n",
       "      <th>0MBIKH9DjtBkv8O3nS6szj</th>\n",
       "      <td>10,000 Maniacs</td>\n",
       "      <td>52</td>\n",
       "      <td>108829.0</td>\n",
       "    </tr>\n",
       "    <tr>\n",
       "      <th>7urq0VfqxEYEEiZUkebXT4</th>\n",
       "      <td>112</td>\n",
       "      <td>68</td>\n",
       "      <td>455231.0</td>\n",
       "    </tr>\n",
       "  </tbody>\n",
       "</table>\n",
       "</div>"
      ],
      "text/plain": [
       "                                       name  popularity  followers\n",
       "s_artist_id                                                       \n",
       "6Ff53KvcvAj5U7Z1vojB5o               *NSYNC          71   747136.0\n",
       "1bDWGdIC2hardyt55nlQgG  \"Weird Al\" Yankovic          59   337751.0\n",
       "0REMf7H0VP6DwfZ9MbuWph             10 Years          60   243895.0\n",
       "0MBIKH9DjtBkv8O3nS6szj       10,000 Maniacs          52   108829.0\n",
       "7urq0VfqxEYEEiZUkebXT4                  112          68   455231.0"
      ]
     },
     "execution_count": 60,
     "metadata": {},
     "output_type": "execute_result"
    }
   ],
   "source": [
    "artists.head()"
   ]
  },
  {
   "cell_type": "code",
   "execution_count": 61,
   "metadata": {},
   "outputs": [
    {
     "data": {
      "text/html": [
       "<div>\n",
       "<style scoped>\n",
       "    .dataframe tbody tr th:only-of-type {\n",
       "        vertical-align: middle;\n",
       "    }\n",
       "\n",
       "    .dataframe tbody tr th {\n",
       "        vertical-align: top;\n",
       "    }\n",
       "\n",
       "    .dataframe thead th {\n",
       "        text-align: right;\n",
       "    }\n",
       "</style>\n",
       "<table border=\"1\" class=\"dataframe\">\n",
       "  <thead>\n",
       "    <tr style=\"text-align: right;\">\n",
       "      <th></th>\n",
       "      <th>Song Title</th>\n",
       "      <th>Artist</th>\n",
       "    </tr>\n",
       "  </thead>\n",
       "  <tbody>\n",
       "    <tr>\n",
       "      <th>0007aPK8VmXN4ycL2OcBFa</th>\n",
       "      <td>Bodhisattva - Live</td>\n",
       "      <td>Toto</td>\n",
       "    </tr>\n",
       "    <tr>\n",
       "      <th>0008G8TW7eiVfwlRRsKlgW</th>\n",
       "      <td>Don`t Go</td>\n",
       "      <td>Stevie B</td>\n",
       "    </tr>\n",
       "    <tr>\n",
       "      <th>000BqzNd7gRYnK6umzTNZX</th>\n",
       "      <td>You Still Want Me - 2014 Remastered Version</td>\n",
       "      <td>The Kinks</td>\n",
       "    </tr>\n",
       "    <tr>\n",
       "      <th>000CSIqE1KcjAiZYYWXV18</th>\n",
       "      <td>Under The Sun (Ecclesiastes)</td>\n",
       "      <td>Michael Card</td>\n",
       "    </tr>\n",
       "    <tr>\n",
       "      <th>000G1xMMuwxNHmwVsBdtj1</th>\n",
       "      <td>Will Anything Happen</td>\n",
       "      <td>Blondie</td>\n",
       "    </tr>\n",
       "  </tbody>\n",
       "</table>\n",
       "</div>"
      ],
      "text/plain": [
       "                                                         Song Title  \\\n",
       "0007aPK8VmXN4ycL2OcBFa                           Bodhisattva - Live   \n",
       "0008G8TW7eiVfwlRRsKlgW                                     Don`t Go   \n",
       "000BqzNd7gRYnK6umzTNZX  You Still Want Me - 2014 Remastered Version   \n",
       "000CSIqE1KcjAiZYYWXV18                 Under The Sun (Ecclesiastes)   \n",
       "000G1xMMuwxNHmwVsBdtj1                         Will Anything Happen   \n",
       "\n",
       "                              Artist  \n",
       "0007aPK8VmXN4ycL2OcBFa          Toto  \n",
       "0008G8TW7eiVfwlRRsKlgW      Stevie B  \n",
       "000BqzNd7gRYnK6umzTNZX     The Kinks  \n",
       "000CSIqE1KcjAiZYYWXV18  Michael Card  \n",
       "000G1xMMuwxNHmwVsBdtj1       Blondie  "
      ]
     },
     "execution_count": 61,
     "metadata": {},
     "output_type": "execute_result"
    }
   ],
   "source": [
    "new_tracks_df.head()"
   ]
  },
  {
   "cell_type": "code",
   "execution_count": 81,
   "metadata": {},
   "outputs": [],
   "source": [
    "new_tracks_df.reset_index(inplace=True)"
   ]
  },
  {
   "cell_type": "code",
   "execution_count": 90,
   "metadata": {},
   "outputs": [],
   "source": [
    "new_tracks_df.rename(columns={'index': 'track_id'}, inplace=True)"
   ]
  },
  {
   "cell_type": "code",
   "execution_count": 82,
   "metadata": {},
   "outputs": [],
   "source": [
    "artists.reset_index(inplace=True)"
   ]
  },
  {
   "cell_type": "code",
   "execution_count": 84,
   "metadata": {},
   "outputs": [],
   "source": [
    "artists.drop(columns=['index'], inplace=True)"
   ]
  },
  {
   "cell_type": "code",
   "execution_count": 74,
   "metadata": {},
   "outputs": [
    {
     "data": {
      "text/plain": [
       "2426"
      ]
     },
     "execution_count": 74,
     "metadata": {},
     "output_type": "execute_result"
    }
   ],
   "source": [
    "len(artists)"
   ]
  },
  {
   "cell_type": "markdown",
   "metadata": {},
   "source": [
    "#### Adding in Artist IDs (and subsequently Genres into new tracks)\n",
    "\n",
    "It appears as though I'm loosing ~72k tracks when completing the merge. My guess is that it's likely these songs have multiple artists tied to them, and I did not pull the artist that matched the listing I currently have."
   ]
  },
  {
   "cell_type": "code",
   "execution_count": 91,
   "metadata": {},
   "outputs": [],
   "source": [
    "df = new_tracks_df.merge(artists, \n",
    "                         left_on='Artist',\n",
    "                         right_on='name')"
   ]
  },
  {
   "cell_type": "code",
   "execution_count": 86,
   "metadata": {},
   "outputs": [
    {
     "data": {
      "text/plain": [
       "651517"
      ]
     },
     "execution_count": 86,
     "metadata": {},
     "output_type": "execute_result"
    }
   ],
   "source": [
    "len(new_tracks_df)"
   ]
  },
  {
   "cell_type": "code",
   "execution_count": 92,
   "metadata": {},
   "outputs": [
    {
     "name": "stdout",
     "output_type": "stream",
     "text": [
      "<class 'pandas.core.frame.DataFrame'>\n",
      "Int64Index: 578062 entries, 0 to 578061\n",
      "Data columns (total 7 columns):\n",
      "track_id       578062 non-null object\n",
      "Song Title     578062 non-null object\n",
      "Artist         578062 non-null object\n",
      "s_artist_id    578062 non-null object\n",
      "name           578062 non-null object\n",
      "popularity     578062 non-null int64\n",
      "followers      578062 non-null float64\n",
      "dtypes: float64(1), int64(1), object(5)\n",
      "memory usage: 35.3+ MB\n"
     ]
    }
   ],
   "source": [
    "df.info()"
   ]
  },
  {
   "cell_type": "code",
   "execution_count": 72,
   "metadata": {},
   "outputs": [
    {
     "data": {
      "text/html": [
       "<div>\n",
       "<style scoped>\n",
       "    .dataframe tbody tr th:only-of-type {\n",
       "        vertical-align: middle;\n",
       "    }\n",
       "\n",
       "    .dataframe tbody tr th {\n",
       "        vertical-align: top;\n",
       "    }\n",
       "\n",
       "    .dataframe thead th {\n",
       "        text-align: right;\n",
       "    }\n",
       "</style>\n",
       "<table border=\"1\" class=\"dataframe\">\n",
       "  <thead>\n",
       "    <tr style=\"text-align: right;\">\n",
       "      <th></th>\n",
       "      <th>Song Title</th>\n",
       "      <th>Artist</th>\n",
       "      <th>s_artist_id</th>\n",
       "      <th>name</th>\n",
       "      <th>popularity</th>\n",
       "      <th>followers</th>\n",
       "    </tr>\n",
       "  </thead>\n",
       "  <tbody>\n",
       "    <tr>\n",
       "      <th>0</th>\n",
       "      <td>Bodhisattva - Live</td>\n",
       "      <td>Toto</td>\n",
       "      <td>0PFtn5NtBbbUNbU9EAmIWF</td>\n",
       "      <td>Toto</td>\n",
       "      <td>76</td>\n",
       "      <td>753405.0</td>\n",
       "    </tr>\n",
       "    <tr>\n",
       "      <th>1</th>\n",
       "      <td>Don't Chain My Heart - Live</td>\n",
       "      <td>Toto</td>\n",
       "      <td>0PFtn5NtBbbUNbU9EAmIWF</td>\n",
       "      <td>Toto</td>\n",
       "      <td>76</td>\n",
       "      <td>753405.0</td>\n",
       "    </tr>\n",
       "    <tr>\n",
       "      <th>2</th>\n",
       "      <td>Taint Your World (Live)</td>\n",
       "      <td>Toto</td>\n",
       "      <td>0PFtn5NtBbbUNbU9EAmIWF</td>\n",
       "      <td>Toto</td>\n",
       "      <td>76</td>\n",
       "      <td>753405.0</td>\n",
       "    </tr>\n",
       "    <tr>\n",
       "      <th>3</th>\n",
       "      <td>Caught In the Balance - Live Version</td>\n",
       "      <td>Toto</td>\n",
       "      <td>0PFtn5NtBbbUNbU9EAmIWF</td>\n",
       "      <td>Toto</td>\n",
       "      <td>76</td>\n",
       "      <td>753405.0</td>\n",
       "    </tr>\n",
       "    <tr>\n",
       "      <th>4</th>\n",
       "      <td>Girl Goodbye - Live</td>\n",
       "      <td>Toto</td>\n",
       "      <td>0PFtn5NtBbbUNbU9EAmIWF</td>\n",
       "      <td>Toto</td>\n",
       "      <td>76</td>\n",
       "      <td>753405.0</td>\n",
       "    </tr>\n",
       "  </tbody>\n",
       "</table>\n",
       "</div>"
      ],
      "text/plain": [
       "                             Song Title Artist             s_artist_id  name  \\\n",
       "0                    Bodhisattva - Live   Toto  0PFtn5NtBbbUNbU9EAmIWF  Toto   \n",
       "1           Don't Chain My Heart - Live   Toto  0PFtn5NtBbbUNbU9EAmIWF  Toto   \n",
       "2               Taint Your World (Live)   Toto  0PFtn5NtBbbUNbU9EAmIWF  Toto   \n",
       "3  Caught In the Balance - Live Version   Toto  0PFtn5NtBbbUNbU9EAmIWF  Toto   \n",
       "4                   Girl Goodbye - Live   Toto  0PFtn5NtBbbUNbU9EAmIWF  Toto   \n",
       "\n",
       "   popularity  followers  \n",
       "0          76   753405.0  \n",
       "1          76   753405.0  \n",
       "2          76   753405.0  \n",
       "3          76   753405.0  \n",
       "4          76   753405.0  "
      ]
     },
     "execution_count": 72,
     "metadata": {},
     "output_type": "execute_result"
    }
   ],
   "source": [
    "df.head()"
   ]
  },
  {
   "cell_type": "code",
   "execution_count": 73,
   "metadata": {},
   "outputs": [
    {
     "data": {
      "text/plain": [
       "2330"
      ]
     },
     "execution_count": 73,
     "metadata": {},
     "output_type": "execute_result"
    }
   ],
   "source": [
    "df['name'].nunique()"
   ]
  },
  {
   "cell_type": "markdown",
   "metadata": {},
   "source": [
    "#### Looking at Matched Songs"
   ]
  },
  {
   "cell_type": "code",
   "execution_count": 76,
   "metadata": {},
   "outputs": [
    {
     "data": {
      "text/html": [
       "<div>\n",
       "<style scoped>\n",
       "    .dataframe tbody tr th:only-of-type {\n",
       "        vertical-align: middle;\n",
       "    }\n",
       "\n",
       "    .dataframe tbody tr th {\n",
       "        vertical-align: top;\n",
       "    }\n",
       "\n",
       "    .dataframe thead th {\n",
       "        text-align: right;\n",
       "    }\n",
       "</style>\n",
       "<table border=\"1\" class=\"dataframe\">\n",
       "  <thead>\n",
       "    <tr style=\"text-align: right;\">\n",
       "      <th></th>\n",
       "      <th>artist_name</th>\n",
       "      <th>song_id</th>\n",
       "      <th>song_title</th>\n",
       "      <th>CID</th>\n",
       "      <th>PID</th>\n",
       "      <th>Title</th>\n",
       "      <th>Performer Name</th>\n",
       "    </tr>\n",
       "  </thead>\n",
       "  <tbody>\n",
       "    <tr>\n",
       "      <th>0</th>\n",
       "      <td>robyn</td>\n",
       "      <td>6SluaPiV04KOaRTOIScoff</td>\n",
       "      <td>show me love</td>\n",
       "      <td>260151.0</td>\n",
       "      <td>14428.0</td>\n",
       "      <td>show me love</td>\n",
       "      <td>robyn</td>\n",
       "    </tr>\n",
       "    <tr>\n",
       "      <th>3</th>\n",
       "      <td>lukas graham</td>\n",
       "      <td>5kqIPrATaCc2LqxVWzQGbk</td>\n",
       "      <td>7 years</td>\n",
       "      <td>43137.0</td>\n",
       "      <td>53876.0</td>\n",
       "      <td>7 years</td>\n",
       "      <td>lukas graham</td>\n",
       "    </tr>\n",
       "    <tr>\n",
       "      <th>10</th>\n",
       "      <td>the killers</td>\n",
       "      <td>3aVyHFxRkf8lSjhWdJ68AW</td>\n",
       "      <td>just another girl</td>\n",
       "      <td>76427.0</td>\n",
       "      <td>39793.0</td>\n",
       "      <td>just another girl</td>\n",
       "      <td>the killers</td>\n",
       "    </tr>\n",
       "    <tr>\n",
       "      <th>11</th>\n",
       "      <td>tamia</td>\n",
       "      <td>0zIyxS6QxZogHOpGkI6IZH</td>\n",
       "      <td>deeper</td>\n",
       "      <td>8897.0</td>\n",
       "      <td>14338.0</td>\n",
       "      <td>deeper</td>\n",
       "      <td>tamia</td>\n",
       "    </tr>\n",
       "    <tr>\n",
       "      <th>14</th>\n",
       "      <td>kanye west</td>\n",
       "      <td>12D0n7hKpPcjuUpcbAKjjr</td>\n",
       "      <td>dont like.1</td>\n",
       "      <td>68936.0</td>\n",
       "      <td>2118.0</td>\n",
       "      <td>dont like.1</td>\n",
       "      <td>kanye west</td>\n",
       "    </tr>\n",
       "  </tbody>\n",
       "</table>\n",
       "</div>"
      ],
      "text/plain": [
       "     artist_name                 song_id         song_title       CID  \\\n",
       "0          robyn  6SluaPiV04KOaRTOIScoff       show me love  260151.0   \n",
       "3   lukas graham  5kqIPrATaCc2LqxVWzQGbk            7 years   43137.0   \n",
       "10   the killers  3aVyHFxRkf8lSjhWdJ68AW  just another girl   76427.0   \n",
       "11         tamia  0zIyxS6QxZogHOpGkI6IZH             deeper    8897.0   \n",
       "14    kanye west  12D0n7hKpPcjuUpcbAKjjr        dont like.1   68936.0   \n",
       "\n",
       "        PID              Title Performer Name  \n",
       "0   14428.0       show me love          robyn  \n",
       "3   53876.0            7 years   lukas graham  \n",
       "10  39793.0  just another girl    the killers  \n",
       "11  14338.0             deeper          tamia  \n",
       "14   2118.0        dont like.1     kanye west  "
      ]
     },
     "execution_count": 76,
     "metadata": {},
     "output_type": "execute_result"
    }
   ],
   "source": [
    "matched_songs.head()"
   ]
  },
  {
   "cell_type": "code",
   "execution_count": 77,
   "metadata": {},
   "outputs": [
    {
     "data": {
      "text/plain": [
       "159438"
      ]
     },
     "execution_count": 77,
     "metadata": {},
     "output_type": "execute_result"
    }
   ],
   "source": [
    "len(matched_songs)"
   ]
  },
  {
   "cell_type": "markdown",
   "metadata": {},
   "source": [
    "#### Comparing Titles Against Matched Tracks -w- Artist IDs"
   ]
  },
  {
   "cell_type": "code",
   "execution_count": 93,
   "metadata": {},
   "outputs": [],
   "source": [
    "master_df = new_tracks_df.merge(matched_songs,\n",
    "                                left_on='track_id',\n",
    "                                right_on='song_id')"
   ]
  },
  {
   "cell_type": "code",
   "execution_count": 96,
   "metadata": {},
   "outputs": [
    {
     "name": "stdout",
     "output_type": "stream",
     "text": [
      "<class 'pandas.core.frame.DataFrame'>\n",
      "Int64Index: 156000 entries, 0 to 155999\n",
      "Data columns (total 10 columns):\n",
      "track_id          156000 non-null object\n",
      "Song Title        156000 non-null object\n",
      "Artist            156000 non-null object\n",
      "artist_name       156000 non-null object\n",
      "song_id           156000 non-null object\n",
      "song_title        156000 non-null object\n",
      "CID               156000 non-null float64\n",
      "PID               156000 non-null float64\n",
      "Title             156000 non-null object\n",
      "Performer Name    156000 non-null object\n",
      "dtypes: float64(2), object(8)\n",
      "memory usage: 13.1+ MB\n"
     ]
    }
   ],
   "source": [
    "master_df.info()"
   ]
  }
 ],
 "metadata": {
  "kernelspec": {
   "display_name": "Python 3",
   "language": "python",
   "name": "python3"
  },
  "language_info": {
   "codemirror_mode": {
    "name": "ipython",
    "version": 3
   },
   "file_extension": ".py",
   "mimetype": "text/x-python",
   "name": "python",
   "nbconvert_exporter": "python",
   "pygments_lexer": "ipython3",
   "version": "3.6.7"
  }
 },
 "nbformat": 4,
 "nbformat_minor": 2
}
