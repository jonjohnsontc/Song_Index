{
 "cells": [
  {
   "cell_type": "markdown",
   "metadata": {},
   "source": [
    "# 01c_Collection: Retrieving Addtl Audio"
   ]
  },
  {
   "cell_type": "code",
   "execution_count": 2,
   "metadata": {},
   "outputs": [],
   "source": [
    "import csv\n",
    "import json\n",
    "import os\n",
    "import pickle\n",
    "import re\n",
    "import time\n",
    "\n",
    "import numpy as np\n",
    "import pandas as pd\n",
    "\n",
    "import spotipy\n",
    "from spotipy.oauth2 import SpotifyClientCredentials\n",
    "\n",
    "from dotenv import load_dotenv, find_dotenv\n",
    "load_dotenv(find_dotenv());"
   ]
  },
  {
   "cell_type": "markdown",
   "metadata": {},
   "source": [
    "## 1. Loading in Prior Info\n",
    "\n",
    "### 1a. Loading in Artist List\n",
    "Not the final artist list - this is the initial artist list before removing non-searchable artists."
   ]
  },
  {
   "cell_type": "code",
   "execution_count": 10,
   "metadata": {},
   "outputs": [],
   "source": [
    "artists = pd.read_csv('../data/artist_list_v2.csv')"
   ]
  },
  {
   "cell_type": "code",
   "execution_count": 11,
   "metadata": {},
   "outputs": [
    {
     "name": "stdout",
     "output_type": "stream",
     "text": [
      "<class 'pandas.core.frame.DataFrame'>\n",
      "RangeIndex: 2426 entries, 0 to 2425\n",
      "Data columns (total 4 columns):\n",
      "s_artist_id    2426 non-null object\n",
      "name           2426 non-null object\n",
      "popularity     2426 non-null int64\n",
      "followers      2426 non-null float64\n",
      "dtypes: float64(1), int64(1), object(2)\n",
      "memory usage: 75.9+ KB\n"
     ]
    }
   ],
   "source": [
    "artists.info()"
   ]
  },
  {
   "cell_type": "code",
   "execution_count": 15,
   "metadata": {},
   "outputs": [
    {
     "data": {
      "text/plain": [
       "0    6Ff53KvcvAj5U7Z1vojB5o\n",
       "1    1bDWGdIC2hardyt55nlQgG\n",
       "2    0REMf7H0VP6DwfZ9MbuWph\n",
       "3    0MBIKH9DjtBkv8O3nS6szj\n",
       "4    7urq0VfqxEYEEiZUkebXT4\n",
       "Name: s_artist_id, dtype: object"
      ]
     },
     "execution_count": 15,
     "metadata": {},
     "output_type": "execute_result"
    }
   ],
   "source": [
    "artists['s_artist_id'].head()"
   ]
  },
  {
   "cell_type": "code",
   "execution_count": 75,
   "metadata": {},
   "outputs": [
    {
     "data": {
      "text/html": [
       "<div>\n",
       "<style scoped>\n",
       "    .dataframe tbody tr th:only-of-type {\n",
       "        vertical-align: middle;\n",
       "    }\n",
       "\n",
       "    .dataframe tbody tr th {\n",
       "        vertical-align: top;\n",
       "    }\n",
       "\n",
       "    .dataframe thead th {\n",
       "        text-align: right;\n",
       "    }\n",
       "</style>\n",
       "<table border=\"1\" class=\"dataframe\">\n",
       "  <thead>\n",
       "    <tr style=\"text-align: right;\">\n",
       "      <th></th>\n",
       "      <th>s_artist_id</th>\n",
       "      <th>name</th>\n",
       "      <th>popularity</th>\n",
       "      <th>followers</th>\n",
       "    </tr>\n",
       "  </thead>\n",
       "  <tbody>\n",
       "    <tr>\n",
       "      <th>41</th>\n",
       "      <td>711MCceyCBcFnzjGY4Q7Un</td>\n",
       "      <td>AC/DC</td>\n",
       "      <td>83</td>\n",
       "      <td>8577740.0</td>\n",
       "    </tr>\n",
       "  </tbody>\n",
       "</table>\n",
       "</div>"
      ],
      "text/plain": [
       "               s_artist_id   name  popularity  followers\n",
       "41  711MCceyCBcFnzjGY4Q7Un  AC/DC          83  8577740.0"
      ]
     },
     "execution_count": 75,
     "metadata": {},
     "output_type": "execute_result"
    }
   ],
   "source": [
    "artists[artists['name'] == 'AC/DC']"
   ]
  },
  {
   "cell_type": "markdown",
   "metadata": {},
   "source": [
    "##### Dropping duplicate records before I query Spotify API"
   ]
  },
  {
   "cell_type": "code",
   "execution_count": 71,
   "metadata": {},
   "outputs": [],
   "source": [
    "artists.drop_duplicates(subset='s_artist_id', inplace=True)"
   ]
  },
  {
   "cell_type": "markdown",
   "metadata": {},
   "source": [
    "## 2. Querying Spotify API through Spotipy\n",
    "\n",
    "From the looks of things, I'll need to do the following to retrieve as many track id's as possible for the artists I've indexed:\n",
    "\n",
    "1. [ARTIST ENPOINT - \"Get an Artist's Albums\"] Query as many albums as possible for each artist id\n",
    "   - Store the corresponding album_id & name along with artist_id in a new table\n",
    "2. [ALBUM ENDPOINT - \"Get an Album's Tracks\"] Query each album for its underlying tracks\n",
    "   - Store the corresponding information that I stored previously for each track\n",
    "3. [TRACK ENDPOINT - \"Get Audio Features for Several Tracks\"] Query each track for Audio Features\n",
    "   - Store the audio features as I had before\n",
    "4. [TRACK ENDPOINT - \"Get Audio Analysis for a Track\"] Query each track for Audio Analysis\n",
    "   - Store the audio analysis as I had before"
   ]
  },
  {
   "cell_type": "code",
   "execution_count": 12,
   "metadata": {},
   "outputs": [],
   "source": [
    "ccm = SpotifyClientCredentials(client_id= \\\n",
    "                               os.getenv('S_CLIENT_ID'),\n",
    "                               client_secret=os.getenv('S_CLIENT_SECRET'))\n",
    "sp = spotipy.Spotify(client_credentials_manager=ccm)"
   ]
  },
  {
   "cell_type": "code",
   "execution_count": 16,
   "metadata": {},
   "outputs": [],
   "source": [
    "example = sp.artist_albums('0REMf7H0VP6DwfZ9MbuWph', \n",
    "                           album_type=['album', 'single'],limit=5)"
   ]
  },
  {
   "cell_type": "code",
   "execution_count": 99,
   "metadata": {},
   "outputs": [
    {
     "data": {
      "text/plain": [
       "{'external_urls': {'spotify': 'https://open.spotify.com/artist/0REMf7H0VP6DwfZ9MbuWph'},\n",
       " 'href': 'https://api.spotify.com/v1/artists/0REMf7H0VP6DwfZ9MbuWph',\n",
       " 'id': '0REMf7H0VP6DwfZ9MbuWph',\n",
       " 'name': '10 Years',\n",
       " 'type': 'artist',\n",
       " 'uri': 'spotify:artist:0REMf7H0VP6DwfZ9MbuWph'}"
      ]
     },
     "execution_count": 99,
     "metadata": {},
     "output_type": "execute_result"
    }
   ],
   "source": [
    "example['items'][0]['artists'][0]"
   ]
  },
  {
   "cell_type": "code",
   "execution_count": 18,
   "metadata": {},
   "outputs": [
    {
     "data": {
      "text/plain": [
       "'https://api.spotify.com/v1/artists/0REMf7H0VP6DwfZ9MbuWph/albums?offset=5&limit=5&include_groups=album'"
      ]
     },
     "execution_count": 18,
     "metadata": {},
     "output_type": "execute_result"
    }
   ],
   "source": [
    "example['next']"
   ]
  },
  {
   "cell_type": "code",
   "execution_count": 97,
   "metadata": {},
   "outputs": [
    {
     "data": {
      "text/plain": [
       "[{'external_urls': {'spotify': 'https://open.spotify.com/artist/0REMf7H0VP6DwfZ9MbuWph'},\n",
       "  'href': 'https://api.spotify.com/v1/artists/0REMf7H0VP6DwfZ9MbuWph',\n",
       "  'id': '0REMf7H0VP6DwfZ9MbuWph',\n",
       "  'name': '10 Years',\n",
       "  'type': 'artist',\n",
       "  'uri': 'spotify:artist:0REMf7H0VP6DwfZ9MbuWph'}]"
      ]
     },
     "execution_count": 97,
     "metadata": {},
     "output_type": "execute_result"
    }
   ],
   "source": [
    "example['items'][0]['artists']"
   ]
  },
  {
   "cell_type": "markdown",
   "metadata": {},
   "source": [
    "### 2a. Retreiving Albums from Artist Endpoint\n",
    "\n",
    "I decided to store each album search as a separate json file, so that I didn't have one potentially huge json file that would kill my AWS instance."
   ]
  },
  {
   "cell_type": "code",
   "execution_count": 77,
   "metadata": {},
   "outputs": [],
   "source": [
    "def get_albums(spot, artists):\n",
    "    '''\n",
    "    Queries spotify api via Spotipy to retrieve as many album results as possible.\n",
    "    Takes 2 arguments:\n",
    "    spot = spotipy instance\n",
    "    artists = dataframe with spotify artist names & corresponding ids\n",
    "    '''\n",
    "    artist_count = 0\n",
    "    for artist in artists['s_artist_id']:\n",
    "        counter = 0\n",
    "        n = 50\n",
    "        results = spot.artist_albums(artist, \n",
    "                                     album_type='album,single',\n",
    "                                     limit=50)\n",
    "        with open('../data/albums/{}_{}.json'.format\\\n",
    "                  (artists['name'][artists['s_artist_id'] == artist].item().replace(\"/\",\"\").strip(), counter),\n",
    "                  'w') as f:\n",
    "            json.dump(results, f)\n",
    "        while results['next'] is not None:\n",
    "            counter += 1\n",
    "            results = \\\n",
    "            spot.artist_albums(artist, \n",
    "                               album_type='album,single',\n",
    "                               limit=50, offset=n)\n",
    "            n += 50\n",
    "            with open('../data/albums/{}_{}.json'.format\\\n",
    "                      (artists['name'][artists['s_artist_id'] == artist].item().replace(\"/\",\"\").strip(), counter),\n",
    "                      'w') as f:\n",
    "                json.dump(results, f)\n",
    "        artist_count += 1\n",
    "        time.sleep(1)\n",
    "        if artist_count % 100 == 0:\n",
    "            print('{} artists completed'.format(artist_count))"
   ]
  },
  {
   "cell_type": "code",
   "execution_count": 78,
   "metadata": {},
   "outputs": [
    {
     "name": "stdout",
     "output_type": "stream",
     "text": [
      "100 artists completed\n",
      "200 artists completed\n",
      "300 artists completed\n",
      "400 artists completed\n",
      "500 artists completed\n",
      "600 artists completed\n",
      "700 artists completed\n",
      "800 artists completed\n",
      "900 artists completed\n",
      "1000 artists completed\n",
      "1100 artists completed\n",
      "1200 artists completed\n",
      "1300 artists completed\n",
      "1400 artists completed\n",
      "1500 artists completed\n",
      "1600 artists completed\n",
      "1700 artists completed\n",
      "1800 artists completed\n",
      "1900 artists completed\n",
      "2000 artists completed\n",
      "2100 artists completed\n",
      "2200 artists completed\n",
      "2300 artists completed\n"
     ]
    }
   ],
   "source": [
    "get_albums(sp, artists.iloc[41:])"
   ]
  },
  {
   "cell_type": "markdown",
   "metadata": {},
   "source": [
    "#### Artists -w- 0 Results\n",
    "\n",
    "After iterating through each artist, and spot checking a few json files, I noticed that the U.G.K. entry didn't have any albums. I'm assuming that it won't be the last artist with 0 albums as well. So, I'm iterating through each result file and determining which had 0 results"
   ]
  },
  {
   "cell_type": "markdown",
   "metadata": {},
   "source": [
    "#### Putting All Albums on Single Document & Removing Duplicates\n",
    "\n"
   ]
  },
  {
   "cell_type": "code",
   "execution_count": 2,
   "metadata": {},
   "outputs": [],
   "source": [
    "album_list = os.listdir('../data/albums/')"
   ]
  },
  {
   "cell_type": "code",
   "execution_count": 3,
   "metadata": {},
   "outputs": [],
   "source": [
    "album_list.sort()"
   ]
  },
  {
   "cell_type": "code",
   "execution_count": 4,
   "metadata": {},
   "outputs": [
    {
     "data": {
      "text/plain": [
       "3173"
      ]
     },
     "execution_count": 4,
     "metadata": {},
     "output_type": "execute_result"
    }
   ],
   "source": [
    "len(album_list)"
   ]
  },
  {
   "cell_type": "code",
   "execution_count": 5,
   "metadata": {},
   "outputs": [
    {
     "data": {
      "text/plain": [
       "'t.A.T.u._0.json'"
      ]
     },
     "execution_count": 5,
     "metadata": {},
     "output_type": "execute_result"
    }
   ],
   "source": [
    "album_list[-1]"
   ]
  },
  {
   "cell_type": "code",
   "execution_count": 19,
   "metadata": {},
   "outputs": [],
   "source": [
    "def get_album_id(lst):\n",
    "    '''\n",
    "    Iterates through spotify artist-album json result files and\n",
    "    grabs the artist name, artist id, album name, and album id\n",
    "    '''\n",
    "    ids = {}\n",
    "    null_albums = []\n",
    "    album_count = 0\n",
    "    file_count = 0\n",
    "    for album in album_list:\n",
    "        if '.json' in album:\n",
    "            with open('../data/albums/{}'.format(album), 'r') as f:\n",
    "                album_info = json.load(f)\n",
    "            if len(album_info['items']) >= 1:\n",
    "                for album_entry in album_info['items']:\n",
    "                    album_count += 1\n",
    "                    ids[album_count] = dict({'artist_id':album_entry['artists'][0]['id'],\n",
    "                                             'artist_name':album_entry['artists'][0]['name'],\n",
    "                                             'album_name':album_entry['name'],\n",
    "                                             'album_id': album_entry['id']})\n",
    "            else:\n",
    "                null_albums.append(album)\n",
    "        file_count += 1\n",
    "        if file_count % 100 == 0:\n",
    "            print('{} album completed'.format(file_count))\n",
    "    return ids, null_albums"
   ]
  },
  {
   "cell_type": "code",
   "execution_count": 20,
   "metadata": {},
   "outputs": [
    {
     "name": "stdout",
     "output_type": "stream",
     "text": [
      "100 album completed\n",
      "200 album completed\n",
      "300 album completed\n",
      "400 album completed\n",
      "500 album completed\n",
      "600 album completed\n",
      "700 album completed\n",
      "800 album completed\n",
      "900 album completed\n",
      "1000 album completed\n",
      "1100 album completed\n",
      "1200 album completed\n",
      "1300 album completed\n",
      "1400 album completed\n",
      "1500 album completed\n",
      "1600 album completed\n",
      "1700 album completed\n",
      "1800 album completed\n",
      "1900 album completed\n",
      "2000 album completed\n",
      "2100 album completed\n",
      "2200 album completed\n",
      "2300 album completed\n",
      "2400 album completed\n",
      "2500 album completed\n",
      "2600 album completed\n",
      "2700 album completed\n",
      "2800 album completed\n",
      "2900 album completed\n",
      "3000 album completed\n",
      "3100 album completed\n"
     ]
    }
   ],
   "source": [
    "albums, null_albums = get_album_id(album_list)"
   ]
  },
  {
   "cell_type": "markdown",
   "metadata": {},
   "source": [
    "##### Checking Results"
   ]
  },
  {
   "cell_type": "code",
   "execution_count": 21,
   "metadata": {},
   "outputs": [
    {
     "data": {
      "text/plain": [
       "89134"
      ]
     },
     "execution_count": 21,
     "metadata": {},
     "output_type": "execute_result"
    }
   ],
   "source": [
    "len(albums)"
   ]
  },
  {
   "cell_type": "code",
   "execution_count": 16,
   "metadata": {},
   "outputs": [
    {
     "data": {
      "text/plain": [
       "{'artist_id': '1bDWGdIC2hardyt55nlQgG',\n",
       " 'artist_name': '\"Weird Al\" Yankovic',\n",
       " 'album_name': 'Mandatory Fun',\n",
       " 'album_id': '36jlZKG1sNZQA2HbWdYveV'}"
      ]
     },
     "execution_count": 16,
     "metadata": {},
     "output_type": "execute_result"
    }
   ],
   "source": [
    "albums[1]"
   ]
  },
  {
   "cell_type": "code",
   "execution_count": 23,
   "metadata": {},
   "outputs": [
    {
     "data": {
      "text/plain": [
       "[\"'In The Heights' Original Broadway Company_0.json\",\n",
       " 'Al DiMeola Project_0.json',\n",
       " 'Amg Beats_0.json',\n",
       " 'Blaque Keyz_0.json',\n",
       " 'Bobby Gentry_0.json',\n",
       " 'Bruce Hornsby and the Range_0.json',\n",
       " 'Candle Weather_0.json',\n",
       " 'Carlos Santana & Buddy Miles_0.json',\n",
       " 'David Crosby, Neil Young & Graham Nash_0.json',\n",
       " 'Duice_0.json',\n",
       " 'England Dan & John Ford Coley_0.json',\n",
       " 'Falco Van Den Aker_0.json',\n",
       " 'Flesh And Bone_0.json',\n",
       " 'Garth Brooks_0.json',\n",
       " 'George Jones & Tammy Wynette_0.json',\n",
       " 'Gloria Estefan And Miami Sound Machine_0.json',\n",
       " 'Helena Bonham Carter_0.json',\n",
       " 'Jimmy Page & The Black Crowes_0.json',\n",
       " 'London Beat_0.json',\n",
       " 'Made famous by Paul Mc Cartney_0.json',\n",
       " 'Mahavishnu John McLaughlin_0.json',\n",
       " 'Marketa Irglova and Glen Hansard_0.json',\n",
       " 'Merle Haggard & Willie Nelson_0.json',\n",
       " 'Method man e redman_0.json',\n",
       " 'Mickey Mouse_0.json',\n",
       " 'Miley Cyrus as Hannah Montana_0.json',\n",
       " 'Nancy Sinatra And Lee Hazlewood_0.json',\n",
       " 'Prodigy (Of Mobb Deep) Feat. Kurupt, Jayo Felony & 40 Glocc_0.json',\n",
       " 'Sam Nelson Harris_0.json',\n",
       " 'Shanice Wilson_0.json',\n",
       " 'The Four Tops_0.json',\n",
       " 'The Grassroots_0.json',\n",
       " 'The Sesame Street Kids_0.json',\n",
       " 'The Young Prince M.C._0.json',\n",
       " \"Trillville (Featuring Lil' Scrappy & Lil Jon)_0.json\",\n",
       " 'Twilight Sparkle_0.json',\n",
       " 'U.G.K_0.json',\n",
       " 'Wendy Carlos_0.json',\n",
       " 'Willie Nelson & Roger Miller (with Ray Price)_0.json',\n",
       " 'Willie Nelson, Johnny Cash, Waylon Jennings & Kris Kristofferson_0.json',\n",
       " 'Young, Wild & Free (Snoop Dogg, Wiz Khalifa & Bruno Mars Tribute) [Karaoke]_0.json']"
      ]
     },
     "execution_count": 23,
     "metadata": {},
     "output_type": "execute_result"
    }
   ],
   "source": [
    "null_albums"
   ]
  },
  {
   "cell_type": "markdown",
   "metadata": {},
   "source": [
    "##### Pickling Both Lists for Later"
   ]
  },
  {
   "cell_type": "code",
   "execution_count": 24,
   "metadata": {},
   "outputs": [],
   "source": [
    "with open('../pickle/albums.pkl', 'wb') as f:\n",
    "    pickle.dump(albums, f)\n",
    "with open('../pickle/null_albums.pkl', 'wb') as f:\n",
    "    pickle.dump(null_albums, f)"
   ]
  },
  {
   "cell_type": "markdown",
   "metadata": {},
   "source": [
    "### 2b. Retieving Tracks from Album Endpoint"
   ]
  },
  {
   "cell_type": "code",
   "execution_count": 2,
   "metadata": {},
   "outputs": [],
   "source": [
    "with open('../pickle/albums.pkl', 'rb') as f:\n",
    "    albums = pickle.load(f)"
   ]
  },
  {
   "cell_type": "code",
   "execution_count": 5,
   "metadata": {},
   "outputs": [],
   "source": [
    "example = sp.album_tracks('36jlZKG1sNZQA2HbWdYveV')\n",
    "example['next']"
   ]
  },
  {
   "cell_type": "code",
   "execution_count": 6,
   "metadata": {},
   "outputs": [
    {
     "data": {
      "text/plain": [
       "{'artist_id': '7urq0VfqxEYEEiZUkebXT4',\n",
       " 'artist_name': '112',\n",
       " 'album_name': 'U Already Know',\n",
       " 'album_id': '6Jwq4FZFwNj32A6xGQe8Cs'}"
      ]
     },
     "execution_count": 6,
     "metadata": {},
     "output_type": "execute_result"
    }
   ],
   "source": [
    "albums[90]"
   ]
  },
  {
   "cell_type": "code",
   "execution_count": null,
   "metadata": {},
   "outputs": [],
   "source": [
    "sp.album_tracks()"
   ]
  },
  {
   "cell_type": "code",
   "execution_count": 7,
   "metadata": {},
   "outputs": [],
   "source": [
    "def get_tracks_fr_albums(album_list, spot):\n",
    "    '''\n",
    "    Retrieves all tracks from albums in album_list and adds them\n",
    "    to a track dictionary\n",
    "    '''\n",
    "    count = 0\n",
    "    tracks = {}\n",
    "    for album in album_list:\n",
    "        track_count = 0\n",
    "        results = spot.album_tracks(album_list[album]['album_id'])\n",
    "        with open('../data/album_tracks/{}_{}.json'.format\\\n",
    "                  (album_list[album]['album_name'].replace(\"/\",\"\").strip(), \n",
    "                   track_count), 'w') as f:\n",
    "            json.dump(results, f)\n",
    "        \n",
    "        # if there are greater than 50 tracks in a given release -\n",
    "        # continue querying tracks\n",
    "        while results['next'] is not None:\n",
    "            track_count += 1\n",
    "            n = 50\n",
    "            results = \\\n",
    "            results = spot.album_tracks(album_list[album]['album_id'], offset=n)\n",
    "            with open('../data/album_tracks/{}_{}.json'.format\\\n",
    "                      (album_list[album]['album_name'].replace(\"/\",\"\").strip(), \n",
    "                       track_count), 'w') as f:\n",
    "                json.dump(results, f)\n",
    "                \n",
    "            # running into albums with WAAY too many tracks.\n",
    "            # adding this to stop retriving tracks from albums with > 150 tracks\n",
    "            if track_count == 3:\n",
    "                break\n",
    "                \n",
    "        count += 1\n",
    "        time.sleep(1)\n",
    "        if count % 5000 == 0:\n",
    "            print('{} albums completed'.format(count))"
   ]
  },
  {
   "cell_type": "code",
   "execution_count": 8,
   "metadata": {},
   "outputs": [
    {
     "name": "stdout",
     "output_type": "stream",
     "text": [
      "5000 albums completed\n",
      "10000 albums completed\n",
      "15000 albums completed\n",
      "20000 albums completed\n",
      "25000 albums completed\n",
      "30000 albums completed\n",
      "35000 albums completed\n",
      "retrying ...1secs\n",
      "retrying ...1secs\n",
      "retrying ...1secs\n",
      "40000 albums completed\n",
      "retrying ...1secs\n",
      "retrying ...1secs\n",
      "retrying ...1secs\n",
      "retrying ...1secs\n",
      "retrying ...1secs\n",
      "retrying ...1secs\n",
      "retrying ...1secs\n",
      "retrying ...1secs\n",
      "45000 albums completed\n",
      "50000 albums completed\n",
      "55000 albums completed\n",
      "60000 albums completed\n",
      "65000 albums completed\n",
      "70000 albums completed\n",
      "75000 albums completed\n",
      "80000 albums completed\n",
      "85000 albums completed\n"
     ]
    }
   ],
   "source": [
    "get_tracks_fr_albums(albums, sp)"
   ]
  },
  {
   "cell_type": "markdown",
   "metadata": {},
   "source": [
    "#### Checking Resultant `json`"
   ]
  },
  {
   "cell_type": "code",
   "execution_count": 10,
   "metadata": {},
   "outputs": [],
   "source": [
    "with open('../data/album_tracks/100 Miles And Runnin\\'_0.json', 'r') as f:\n",
    "    example = json.load(f)"
   ]
  },
  {
   "cell_type": "code",
   "execution_count": 22,
   "metadata": {},
   "outputs": [
    {
     "data": {
      "text/plain": [
       "\"100 Miles And Runnin'\""
      ]
     },
     "execution_count": 22,
     "metadata": {},
     "output_type": "execute_result"
    }
   ],
   "source": [
    "example['items']       # song list\n",
    "example['items'][0]    # first song result\n",
    "example['items'][0]['artists'][0] # first artist result\n",
    "example['items'][0]['artists'][0]['name'] # artist name\n",
    "example['items'][0]['id']  # song id\n",
    "example['items'][0]['name']"
   ]
  },
  {
   "cell_type": "markdown",
   "metadata": {},
   "source": [
    "### 2c. Retrieving Track Features from Track Endpoint"
   ]
  },
  {
   "cell_type": "code",
   "execution_count": 32,
   "metadata": {},
   "outputs": [],
   "source": [
    "album_track_list = os.listdir('../data/album_tracks/')"
   ]
  },
  {
   "cell_type": "code",
   "execution_count": 33,
   "metadata": {},
   "outputs": [
    {
     "data": {
      "text/plain": [
       "64118"
      ]
     },
     "execution_count": 33,
     "metadata": {},
     "output_type": "execute_result"
    }
   ],
   "source": [
    "len(album_track_list)"
   ]
  },
  {
   "cell_type": "code",
   "execution_count": 34,
   "metadata": {},
   "outputs": [
    {
     "data": {
      "text/plain": [
       "['Strangers [Paranoid] (feat. Bun B)_0.json',\n",
       " 'Alive In America_0.json',\n",
       " 'BREAKDOWN (Chill Covers From The She Shed)_0.json',\n",
       " 'Fire & Smoke_0.json',\n",
       " 'Prokofiev: The Piano ConcertosViolin Concertos etc_0.json']"
      ]
     },
     "execution_count": 34,
     "metadata": {},
     "output_type": "execute_result"
    }
   ],
   "source": [
    "album_track_list[:5]"
   ]
  },
  {
   "cell_type": "markdown",
   "metadata": {},
   "source": [
    "#### Grabbing Track Ids to Query With"
   ]
  },
  {
   "cell_type": "code",
   "execution_count": 1,
   "metadata": {},
   "outputs": [],
   "source": [
    "def get_song_ids(file_list):\n",
    "    '''\n",
    "    Iterates through list of album data stored in json files and\n",
    "    retrieves the ids associated with each track\n",
    "    '''\n",
    "    track_dict = {}\n",
    "    file_errors = {}\n",
    "    count = 0\n",
    "    for file in file_list:\n",
    "        try: \n",
    "            with open('../data/album_tracks/{}'.format(file), 'r') as f:\n",
    "                album = json.load(f)\n",
    "                for result in album['items']:\n",
    "                    track_dict[result['id']] = {'Song Title': result['name'],\n",
    "                                                'Artist': result['artists'][0]['name']}\n",
    "        except Exception as e:\n",
    "            file_errors[file] = e\n",
    "        count += 1\n",
    "        if count % 10000 == 0:\n",
    "            print('{} albums completed'.format(count))\n",
    "    return track_dict, file_errors "
   ]
  },
  {
   "cell_type": "code",
   "execution_count": 33,
   "metadata": {},
   "outputs": [
    {
     "name": "stdout",
     "output_type": "stream",
     "text": [
      "10000 albums completed\n",
      "20000 albums completed\n",
      "30000 albums completed\n",
      "40000 albums completed\n",
      "50000 albums completed\n",
      "60000 albums completed\n"
     ]
    }
   ],
   "source": [
    "tracks, file_load_errors = get_song_ids(album_track_list)"
   ]
  },
  {
   "cell_type": "markdown",
   "metadata": {},
   "source": [
    "#### Saving Track List to Pickle"
   ]
  },
  {
   "cell_type": "code",
   "execution_count": 37,
   "metadata": {},
   "outputs": [],
   "source": [
    "with open('../data/new_tracks_20190103.json', 'w') as f:\n",
    "    json.dump(tracks, f)"
   ]
  },
  {
   "cell_type": "code",
   "execution_count": 21,
   "metadata": {},
   "outputs": [
    {
     "data": {
      "text/plain": [
       "13030.34"
      ]
     },
     "execution_count": 21,
     "metadata": {},
     "output_type": "execute_result"
    }
   ],
   "source": [
    "len(tracks) / 50"
   ]
  },
  {
   "cell_type": "code",
   "execution_count": 3,
   "metadata": {},
   "outputs": [],
   "source": [
    "with open('../data/new_tracks_20190103.json', 'r') as f:\n",
    "    tracks = json.load(f)"
   ]
  },
  {
   "cell_type": "markdown",
   "metadata": {},
   "source": [
    "#### Querying Track Features"
   ]
  },
  {
   "cell_type": "code",
   "execution_count": null,
   "metadata": {},
   "outputs": [],
   "source": [
    "sp.audio_features()"
   ]
  },
  {
   "cell_type": "code",
   "execution_count": 37,
   "metadata": {},
   "outputs": [],
   "source": [
    "def get_song_feat2(file_list, spot):\n",
    "    '''\n",
    "    Retrieve audio features for every song in `new_tracks_20190103.json`.\n",
    "    Requires a Spotify API login\n",
    "    '''\n",
    "    song_feat = {}\n",
    "    file_errors = {}\n",
    "    error_log = {}\n",
    "    count = 0\n",
    "    for file in file_list:\n",
    "        track_dict = {}\n",
    "        try: \n",
    "            with open('../data/album_tracks/{}'.format(file), 'r') as f:\n",
    "                album = json.load(f)\n",
    "            for result in album['items']:\n",
    "                track_dict[result['id']] = {'Song Title': result['name'],\n",
    "                                            'Artist': result['artists'][0]['name']}\n",
    "        except Exception as e:\n",
    "            file_errors[file] = e\n",
    "        try:\n",
    "            song_feat[count] = spot.audio_features(track_dict.keys())\n",
    "            time.sleep(1)\n",
    "            count += 1\n",
    "        except Exception as e:\n",
    "            error_log[track] = e\n",
    "            time.sleep(5)\n",
    "            try:\n",
    "                song_feat[count] = spot.audio_features(track_dict.keys())\n",
    "            except Exception as e:\n",
    "                print('error - {}'.format(e))\n",
    "            count += 1\n",
    "        if count % 10 == 0:\n",
    "            with open('../data/song_features/song_feats_{}.json'.format(count), 'w') as f:\n",
    "                json.dump(song_feat, f)\n",
    "            song_feat.clear()\n",
    "        if count % 1000 == 0:\n",
    "            print('{} track collections completed'.format(count))\n",
    "    return song_feat, error_log, file_errors"
   ]
  },
  {
   "cell_type": "code",
   "execution_count": 38,
   "metadata": {},
   "outputs": [
    {
     "name": "stdout",
     "output_type": "stream",
     "text": [
      "1000 track collections completed\n",
      "2000 track collections completed\n",
      "3000 track collections completed\n",
      "4000 track collections completed\n",
      "5000 track collections completed\n",
      "6000 track collections completed\n",
      "7000 track collections completed\n",
      "8000 track collections completed\n",
      "9000 track collections completed\n",
      "10000 track collections completed\n",
      "11000 track collections completed\n",
      "12000 track collections completed\n",
      "13000 track collections completed\n",
      "14000 track collections completed\n",
      "15000 track collections completed\n",
      "16000 track collections completed\n",
      "17000 track collections completed\n",
      "18000 track collections completed\n",
      "19000 track collections completed\n",
      "20000 track collections completed\n",
      "21000 track collections completed\n",
      "22000 track collections completed\n",
      "23000 track collections completed\n",
      "24000 track collections completed\n",
      "25000 track collections completed\n",
      "26000 track collections completed\n",
      "27000 track collections completed\n",
      "28000 track collections completed\n",
      "29000 track collections completed\n",
      "30000 track collections completed\n",
      "31000 track collections completed\n",
      "32000 track collections completed\n",
      "33000 track collections completed\n",
      "34000 track collections completed\n",
      "35000 track collections completed\n",
      "36000 track collections completed\n",
      "37000 track collections completed\n",
      "38000 track collections completed\n",
      "39000 track collections completed\n",
      "40000 track collections completed\n",
      "41000 track collections completed\n",
      "42000 track collections completed\n",
      "43000 track collections completed\n",
      "44000 track collections completed\n",
      "45000 track collections completed\n",
      "46000 track collections completed\n",
      "47000 track collections completed\n",
      "48000 track collections completed\n",
      "49000 track collections completed\n",
      "50000 track collections completed\n",
      "51000 track collections completed\n",
      "52000 track collections completed\n",
      "53000 track collections completed\n",
      "54000 track collections completed\n",
      "55000 track collections completed\n",
      "56000 track collections completed\n",
      "57000 track collections completed\n",
      "58000 track collections completed\n",
      "59000 track collections completed\n",
      "60000 track collections completed\n",
      "61000 track collections completed\n",
      "62000 track collections completed\n",
      "63000 track collections completed\n",
      "64000 track collections completed\n"
     ]
    }
   ],
   "source": [
    "sfs, el, fe = get_song_feat2(album_track_list, sp)"
   ]
  }
 ],
 "metadata": {
  "kernelspec": {
   "display_name": "Python 3",
   "language": "python",
   "name": "python3"
  },
  "language_info": {
   "codemirror_mode": {
    "name": "ipython",
    "version": 3
   },
   "file_extension": ".py",
   "mimetype": "text/x-python",
   "name": "python",
   "nbconvert_exporter": "python",
   "pygments_lexer": "ipython3",
   "version": "3.6.3"
  }
 },
 "nbformat": 4,
 "nbformat_minor": 2
}
