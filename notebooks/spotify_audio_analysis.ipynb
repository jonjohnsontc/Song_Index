{
 "cells": [
  {
   "cell_type": "markdown",
   "metadata": {},
   "source": [
    "# Adding Spotify Audio Analysis to Tables"
   ]
  },
  {
   "cell_type": "code",
   "execution_count": 1,
   "metadata": {},
   "outputs": [],
   "source": [
    "import csv\n",
    "import json\n",
    "import numpy as np\n",
    "import re\n",
    "import pandas as pd\n",
    "from sqlalchemy import create_engine"
   ]
  },
  {
   "cell_type": "raw",
   "metadata": {},
   "source": [
    "COPY spotify_artists FROM '/docker-entrypoint-initdb.d/spotify_artists.csv' HEADER DELIMITER ',' CSV;"
   ]
  },
  {
   "cell_type": "markdown",
   "metadata": {},
   "source": [
    "## What Do I Want to Keep?"
   ]
  },
  {
   "cell_type": "markdown",
   "metadata": {},
   "source": [
    "### Stats to Remove\n",
    "\n",
    "I don't want to keep the following:\n",
    "\n",
    "#### From Sections:\n",
    "- Mean and Variance:\n",
    "  - key, key confidence (these shouldn't be ranked numerically, at least I don't think so)\n",
    "  - start\n",
    "  - time_signature\n",
    "  - time_signature confidence\n",
    "  - tempo"
   ]
  },
  {
   "cell_type": "code",
   "execution_count": 41,
   "metadata": {},
   "outputs": [],
   "source": [
    "with open('../data/audio_analysis/000xQL6tZNLJzIrtIgxqSl.json', 'r') as f:\n",
    "    example = json.load(f)"
   ]
  },
  {
   "cell_type": "code",
   "execution_count": 42,
   "metadata": {},
   "outputs": [
    {
     "data": {
      "text/plain": [
       "dict_keys(['meta', 'track', 'bars', 'beats', 'tatums', 'sections', 'segments'])"
      ]
     },
     "execution_count": 42,
     "metadata": {},
     "output_type": "execute_result"
    }
   ],
   "source": [
    "example.keys()"
   ]
  },
  {
   "cell_type": "code",
   "execution_count": 43,
   "metadata": {},
   "outputs": [
    {
     "name": "stdout",
     "output_type": "stream",
     "text": [
      "start\n",
      "duration\n",
      "confidence\n",
      "loudness\n",
      "tempo\n",
      "tempo_confidence\n",
      "key\n",
      "key_confidence\n",
      "mode\n",
      "mode_confidence\n",
      "time_signature\n",
      "time_signature_confidence\n"
     ]
    }
   ],
   "source": [
    "for k, v in example['sections'][0].items():\n",
    "    print(k)"
   ]
  },
  {
   "cell_type": "code",
   "execution_count": 24,
   "metadata": {},
   "outputs": [],
   "source": [
    "df = pd.DataFrame(example['sections'])"
   ]
  },
  {
   "cell_type": "code",
   "execution_count": 210,
   "metadata": {},
   "outputs": [],
   "source": [
    "# example['track']"
   ]
  },
  {
   "cell_type": "markdown",
   "metadata": {},
   "source": [
    "## Summary Stats for Audio Analysis"
   ]
  },
  {
   "cell_type": "markdown",
   "metadata": {},
   "source": [
    "### Sections"
   ]
  },
  {
   "cell_type": "code",
   "execution_count": 8,
   "metadata": {},
   "outputs": [
    {
     "data": {
      "text/plain": [
       "{'start': 0.0,\n",
       " 'duration': 19.11423,\n",
       " 'confidence': 1.0,\n",
       " 'loudness': -12.969,\n",
       " 'tempo': 166.075,\n",
       " 'tempo_confidence': 0.507,\n",
       " 'key': 2,\n",
       " 'key_confidence': 0.504,\n",
       " 'mode': 1,\n",
       " 'mode_confidence': 0.731,\n",
       " 'time_signature': 4,\n",
       " 'time_signature_confidence': 0.514}"
      ]
     },
     "execution_count": 8,
     "metadata": {},
     "output_type": "execute_result"
    }
   ],
   "source": [
    "example['sections'][0]"
   ]
  },
  {
   "cell_type": "code",
   "execution_count": 80,
   "metadata": {},
   "outputs": [
    {
     "data": {
      "text/plain": [
       "confidence                     0.692538\n",
       "duration                      21.904615\n",
       "key                            5.384615\n",
       "key_confidence                 0.558000\n",
       "loudness                      -7.889308\n",
       "mode                           0.692308\n",
       "mode_confidence                0.594923\n",
       "start                        136.534450\n",
       "tempo                        166.052538\n",
       "tempo_confidence               0.426615\n",
       "time_signature                 4.000000\n",
       "time_signature_confidence      0.954385\n",
       "dtype: float64"
      ]
     },
     "execution_count": 80,
     "metadata": {},
     "output_type": "execute_result"
    }
   ],
   "source": [
    "df.mean()"
   ]
  },
  {
   "cell_type": "code",
   "execution_count": 29,
   "metadata": {},
   "outputs": [
    {
     "data": {
      "text/plain": [
       "confidence                      0.070495\n",
       "duration                       45.829279\n",
       "key                            15.923077\n",
       "key_confidence                  0.038505\n",
       "loudness                       15.730314\n",
       "mode                            0.230769\n",
       "mode_confidence                 0.013016\n",
       "start                        7860.392668\n",
       "tempo                           0.024245\n",
       "tempo_confidence                0.011827\n",
       "time_signature                  0.000000\n",
       "time_signature_confidence       0.018383\n",
       "dtype: float64"
      ]
     },
     "execution_count": 29,
     "metadata": {},
     "output_type": "execute_result"
    }
   ],
   "source": [
    "df.var()"
   ]
  },
  {
   "cell_type": "markdown",
   "metadata": {},
   "source": [
    "### Iterating Through json's to Determine Overall Shape"
   ]
  },
  {
   "cell_type": "code",
   "execution_count": 17,
   "metadata": {},
   "outputs": [],
   "source": [
    "analysis_list = []\n",
    "\n",
    "with open('../data/audio_analysis_list.csv', 'r') as f:\n",
    "    analysis = csv.reader(f)\n",
    "    for song in analysis:\n",
    "        analysis_list.extend(song)"
   ]
  },
  {
   "cell_type": "code",
   "execution_count": 18,
   "metadata": {},
   "outputs": [
    {
     "data": {
      "text/plain": [
       "'7zvKFw17XyoBUx9mHiwzPy.json'"
      ]
     },
     "execution_count": 18,
     "metadata": {},
     "output_type": "execute_result"
    }
   ],
   "source": [
    "analysis_list[-1]"
   ]
  },
  {
   "cell_type": "code",
   "execution_count": 11,
   "metadata": {},
   "outputs": [
    {
     "data": {
      "text/plain": [
       "{'start': 0.0,\n",
       " 'duration': 19.11423,\n",
       " 'confidence': 1.0,\n",
       " 'loudness': -12.969,\n",
       " 'tempo': 166.075,\n",
       " 'tempo_confidence': 0.507,\n",
       " 'key': 2,\n",
       " 'key_confidence': 0.504,\n",
       " 'mode': 1,\n",
       " 'mode_confidence': 0.731,\n",
       " 'time_signature': 4,\n",
       " 'time_signature_confidence': 0.514}"
      ]
     },
     "execution_count": 11,
     "metadata": {},
     "output_type": "execute_result"
    }
   ],
   "source": [
    "example['sections'][0]"
   ]
  },
  {
   "cell_type": "code",
   "execution_count": 56,
   "metadata": {},
   "outputs": [],
   "source": [
    "def kc_counter(lst):\n",
    "    '''\n",
    "    Return count of key changes throughout songs listed in individual json files\n",
    "    lst = refers to .json song listing\n",
    "    '''\n",
    "    kc_list = []\n",
    "    for record in lst:\n",
    "        with open('../data/audio_analysis/{}'.format(record), 'r') as f:\n",
    "            analysis = json.load(f)\n",
    "            if isinstance(analysis, dict):\n",
    "                if 'sections' in analysis:\n",
    "                    try:\n",
    "                        start_key = analysis['sections'][0]['key']\n",
    "                        kc = 0\n",
    "                        for item in analysis['sections']:\n",
    "                            cur_key = item['key']\n",
    "                            if cur_key != start_key:\n",
    "                                start_key = cur_key\n",
    "                                kc += 1\n",
    "                        kc_list.append(dict({record.replace('.json', ''):kc}))\n",
    "                    except:\n",
    "                        kc_list.append(dict({record.replace('.json', ''): 'unable to record key changes'}))\n",
    "    return kc_list"
   ]
  },
  {
   "cell_type": "code",
   "execution_count": 57,
   "metadata": {},
   "outputs": [],
   "source": [
    "kc_list = kc_counter(analysis_list)"
   ]
  },
  {
   "cell_type": "code",
   "execution_count": 81,
   "metadata": {},
   "outputs": [
    {
     "name": "stdout",
     "output_type": "stream",
     "text": [
      "21VDF2xzLl8P1vDVr0nuQY unable to record key changes\n"
     ]
    }
   ],
   "source": [
    "for _ in kc_list:\n",
    "    for k, v in _.items():\n",
    "        if v == 'unable to record key changes':\n",
    "            print(k, v)"
   ]
  },
  {
   "cell_type": "markdown",
   "metadata": {},
   "source": [
    "I'll need to drop this record."
   ]
  },
  {
   "cell_type": "code",
   "execution_count": 74,
   "metadata": {},
   "outputs": [],
   "source": [
    "kc_df = pd.Series([val.values() for val in kc_list], index=[k.keys() for k in kc_list])"
   ]
  },
  {
   "cell_type": "code",
   "execution_count": 76,
   "metadata": {},
   "outputs": [],
   "source": [
    "kc_df = pd.Series()\n",
    "for _ in kc_list:\n",
    "    for k, v in _.items():\n",
    "        kc_df.loc[k] = v"
   ]
  },
  {
   "cell_type": "markdown",
   "metadata": {},
   "source": [
    "#### Dropping record with no key change value"
   ]
  },
  {
   "cell_type": "code",
   "execution_count": 83,
   "metadata": {},
   "outputs": [],
   "source": [
    "kc_df.drop(labels='21VDF2xzLl8P1vDVr0nuQY', inplace=True)"
   ]
  },
  {
   "cell_type": "markdown",
   "metadata": {},
   "source": [
    "#### Dropping non-songs from key change listing"
   ]
  },
  {
   "cell_type": "code",
   "execution_count": 84,
   "metadata": {},
   "outputs": [],
   "source": [
    "non_songs = pd.read_csv('../data/non_songs.csv', index_col = 0)"
   ]
  },
  {
   "cell_type": "code",
   "execution_count": 86,
   "metadata": {},
   "outputs": [
    {
     "data": {
      "text/html": [
       "<div>\n",
       "<style scoped>\n",
       "    .dataframe tbody tr th:only-of-type {\n",
       "        vertical-align: middle;\n",
       "    }\n",
       "\n",
       "    .dataframe tbody tr th {\n",
       "        vertical-align: top;\n",
       "    }\n",
       "\n",
       "    .dataframe thead th {\n",
       "        text-align: right;\n",
       "    }\n",
       "</style>\n",
       "<table border=\"1\" class=\"dataframe\">\n",
       "  <thead>\n",
       "    <tr style=\"text-align: right;\">\n",
       "      <th></th>\n",
       "      <th>s_song_id</th>\n",
       "      <th>album_release_date</th>\n",
       "      <th>artist_id</th>\n",
       "      <th>artist_name</th>\n",
       "      <th>duration_ms</th>\n",
       "      <th>explicit</th>\n",
       "      <th>linked_album</th>\n",
       "      <th>song_title</th>\n",
       "    </tr>\n",
       "  </thead>\n",
       "  <tbody>\n",
       "    <tr>\n",
       "      <th>163</th>\n",
       "      <td>2xfcxlx0QRbqUhpVidqmOU</td>\n",
       "      <td>2013-05-28</td>\n",
       "      <td>1xlkcCr7PNHw2dRG1Gm6YF</td>\n",
       "      <td>Ron White</td>\n",
       "      <td>322322.0</td>\n",
       "      <td>True</td>\n",
       "      <td>A Little Unprofessional</td>\n",
       "      <td>L.A. Beautiful/You're Beautiful/The Yellow Blur</td>\n",
       "    </tr>\n",
       "    <tr>\n",
       "      <th>708</th>\n",
       "      <td>5LMcncchvV1jYHMG4hviSN</td>\n",
       "      <td>1998-04-04</td>\n",
       "      <td>0NnoRcD3WkqC9aouHyE8YY</td>\n",
       "      <td>Trey Parker</td>\n",
       "      <td>153026.0</td>\n",
       "      <td>False</td>\n",
       "      <td>Cannibal! The Musical (Original Motion Picture...</td>\n",
       "      <td>Overture</td>\n",
       "    </tr>\n",
       "  </tbody>\n",
       "</table>\n",
       "</div>"
      ],
      "text/plain": [
       "                  s_song_id album_release_date               artist_id  \\\n",
       "163  2xfcxlx0QRbqUhpVidqmOU         2013-05-28  1xlkcCr7PNHw2dRG1Gm6YF   \n",
       "708  5LMcncchvV1jYHMG4hviSN         1998-04-04  0NnoRcD3WkqC9aouHyE8YY   \n",
       "\n",
       "     artist_name  duration_ms  explicit  \\\n",
       "163    Ron White     322322.0      True   \n",
       "708  Trey Parker     153026.0     False   \n",
       "\n",
       "                                          linked_album  \\\n",
       "163                            A Little Unprofessional   \n",
       "708  Cannibal! The Musical (Original Motion Picture...   \n",
       "\n",
       "                                          song_title  \n",
       "163  L.A. Beautiful/You're Beautiful/The Yellow Blur  \n",
       "708                                         Overture  "
      ]
     },
     "execution_count": 86,
     "metadata": {},
     "output_type": "execute_result"
    }
   ],
   "source": [
    "non_songs.head(2)"
   ]
  },
  {
   "cell_type": "code",
   "execution_count": 89,
   "metadata": {},
   "outputs": [],
   "source": [
    "kc_df.drop(labels=non_songs['s_song_id'], inplace=True)"
   ]
  },
  {
   "cell_type": "code",
   "execution_count": 90,
   "metadata": {},
   "outputs": [
    {
     "data": {
      "text/plain": [
       "(22909,)"
      ]
     },
     "execution_count": 90,
     "metadata": {},
     "output_type": "execute_result"
    }
   ],
   "source": [
    "kc_df.shape"
   ]
  },
  {
   "cell_type": "markdown",
   "metadata": {},
   "source": [
    "I have slightly fewer works then what's present in my `song_df`. Still enough to get a decent analysis with, however."
   ]
  },
  {
   "cell_type": "markdown",
   "metadata": {},
   "source": [
    "#### Getting Mean and Variance of Several Features within Song Sections"
   ]
  },
  {
   "cell_type": "code",
   "execution_count": 93,
   "metadata": {},
   "outputs": [],
   "source": [
    "def analysis_sorter(lst):\n",
    "    '''\n",
    "    Iterate through individual song .json files for sections, and calculate the mean and variance for \n",
    "    'confidence', 'duration', 'loudness', 'mode', 'mode_confidence', 'tempo', and 'tempo_confidence' values. \n",
    "    \n",
    "    Returns two lists of dictionaries, one containing each song's section mean values, the other containing \n",
    "    each song's section variance values.\n",
    "    '''\n",
    "    mean_dicts = []\n",
    "    var_dicts = []\n",
    "    count = 0\n",
    "    for record in lst:\n",
    "        with open('../data/audio_analysis/{}'.format(record), 'r') as f:\n",
    "            analysis = json.load(f)\n",
    "            if isinstance(analysis, dict):\n",
    "                if 'sections' in analysis:\n",
    "                    try:\n",
    "                        mean_dict = {}\n",
    "                        var_dict = {}\n",
    "                        df = pd.DataFrame(analysis['sections'])\n",
    "                        mean = df[['confidence', 'duration', 'loudness', 'mode', 'mode_confidence',\n",
    "                                   'tempo', 'tempo_confidence']].mean().to_dict()\n",
    "                        var = df[['confidence', 'duration', 'loudness', 'mode', 'mode_confidence',\n",
    "                                   'tempo', 'tempo_confidence']].var().to_dict()\n",
    "                        mean_dict[record.replace('.json', '')] = mean\n",
    "                        var_dict[record.replace('.json', '')] = var\n",
    "                        mean_dicts.append(mean_dict)\n",
    "                        var_dicts.append(var_dict)\n",
    "                    except:\n",
    "                        mean_dict = {}\n",
    "                        var_dict = {}\n",
    "                        mean_dict[(record.replace('.json',''))] = 'Unable to calculate mean of section features'\n",
    "                        var_dict[(record.replace('.json',''))] = 'Unable to calculate variance of section features'\n",
    "                        mean_dicts.append(mean_dict)\n",
    "                        var_dicts.append(var_dict)\n",
    "            count += 1\n",
    "            if count % 5000 == 0:\n",
    "                print(\"Completed {} files\".format(count))\n",
    "            if count % 5000 == 0:\n",
    "                with open('../data/section_var_summary_{}.json'.format(count), 'w') as f:\n",
    "                    json.dump(var_dicts, f)\n",
    "                    var_dicts.clear()\n",
    "                with open('../data/section_mean_summary_{}.json'.format(count), 'w') as f:\n",
    "                    json.dump(mean_dicts, f)\n",
    "                    mean_dicts.clear()\n",
    "    return mean_dicts, var_dicts"
   ]
  },
  {
   "cell_type": "code",
   "execution_count": 177,
   "metadata": {},
   "outputs": [
    {
     "name": "stdout",
     "output_type": "stream",
     "text": [
      "Completed 5000 files\n",
      "Completed 10000 files\n",
      "Completed 15000 files\n",
      "Completed 20000 files\n"
     ]
    }
   ],
   "source": [
    "mean_dicts, var_dicts = analysis_sorter(analysis_list)"
   ]
  },
  {
   "cell_type": "code",
   "execution_count": 182,
   "metadata": {},
   "outputs": [
    {
     "data": {
      "text/plain": [
       "{'6k9L7kTBzjXY0GfazHYqCg': {'confidence': 0.6483,\n",
       "  'duration': 20.578667000000003,\n",
       "  'loudness': -9.3965,\n",
       "  'mode': 0.8,\n",
       "  'mode_confidence': 0.46769999999999995,\n",
       "  'tempo': 142.13690000000003,\n",
       "  'tempo_confidence': 0.2643}}"
      ]
     },
     "execution_count": 182,
     "metadata": {},
     "output_type": "execute_result"
    }
   ],
   "source": [
    "mean_dicts[0]"
   ]
  },
  {
   "cell_type": "code",
   "execution_count": 237,
   "metadata": {},
   "outputs": [
    {
     "data": {
      "text/plain": [
       "{'6k9L7kTBzjXY0GfazHYqCg': {'confidence': 0.04827756666666666,\n",
       "  'duration': 88.7212888207789,\n",
       "  'loudness': 85.8691118333333,\n",
       "  'mode': 0.17777777777777778,\n",
       "  'mode_confidence': 0.03472067777777778,\n",
       "  'tempo': 1.7909101000000023,\n",
       "  'tempo_confidence': 0.007427788888888888}}"
      ]
     },
     "execution_count": 237,
     "metadata": {},
     "output_type": "execute_result"
    }
   ],
   "source": [
    "var_dicts[0]"
   ]
  },
  {
   "cell_type": "markdown",
   "metadata": {},
   "source": [
    "#### Combining Summary Stats Docs"
   ]
  },
  {
   "cell_type": "code",
   "execution_count": 184,
   "metadata": {},
   "outputs": [],
   "source": [
    "#mean\n",
    "with open('../data/section_mean_summary_5000.json', 'r') as f:\n",
    "    section_mean_summary_5000 = json.load(f)\n",
    "with open('../data/section_mean_summary_10000.json', 'r') as f:\n",
    "    section_mean_summary_10000 = json.load(f)\n",
    "with open('../data/section_mean_summary_15000.json', 'r') as f:\n",
    "    section_mean_summary_15000 = json.load(f)\n",
    "with open('../data/section_mean_summary_20000.json', 'r') as f:\n",
    "    section_mean_summary_20000 = json.load(f)\n",
    "\n",
    "#var\n",
    "with open('../data/section_var_summary_5000.json', 'r') as f:\n",
    "    section_var_summary_5000 = json.load(f)\n",
    "with open('../data/section_var_summary_10000.json', 'r') as f:\n",
    "    section_var_summary_10000 = json.load(f)\n",
    "with open('../data/section_var_summary_15000.json', 'r') as f:\n",
    "    section_var_summary_15000 = json.load(f)\n",
    "with open('../data/section_var_summary_20000.json', 'r') as f:\n",
    "    section_var_summary_20000 = json.load(f)"
   ]
  },
  {
   "cell_type": "code",
   "execution_count": 185,
   "metadata": {},
   "outputs": [],
   "source": [
    "mean_dicts.extend(section_mean_summary_5000)\n",
    "mean_dicts.extend(section_mean_summary_10000)\n",
    "mean_dicts.extend(section_mean_summary_15000)\n",
    "mean_dicts.extend(section_mean_summary_20000)\n",
    "\n",
    "var_dicts.extend(section_var_summary_5000)\n",
    "var_dicts.extend(section_var_summary_10000)\n",
    "var_dicts.extend(section_var_summary_15000)\n",
    "var_dicts.extend(section_var_summary_20000)"
   ]
  },
  {
   "cell_type": "code",
   "execution_count": 186,
   "metadata": {},
   "outputs": [
    {
     "data": {
      "text/plain": [
       "(23125, 23125)"
      ]
     },
     "execution_count": 186,
     "metadata": {},
     "output_type": "execute_result"
    }
   ],
   "source": [
    "len(mean_dicts), len(var_dicts)"
   ]
  },
  {
   "cell_type": "code",
   "execution_count": 188,
   "metadata": {},
   "outputs": [
    {
     "name": "stdout",
     "output_type": "stream",
     "text": [
      "dict_keys(['6k9L7kTBzjXY0GfazHYqCg'])\n",
      "dict_keys(['6kAS4yj3wHJXcLp93vr5aG'])\n"
     ]
    }
   ],
   "source": [
    "for e in var_dicts[:2]:\n",
    "    print(e.keys())"
   ]
  },
  {
   "cell_type": "markdown",
   "metadata": {},
   "source": [
    "#### Tossing Section Means and Vars into DataFrame + `csv`"
   ]
  },
  {
   "cell_type": "code",
   "execution_count": 196,
   "metadata": {},
   "outputs": [],
   "source": [
    "section_mean = pd.DataFrame(columns=['confidence', 'duration', 'loudness', 'mode',\n",
    "                                    'mode_confidence', 'tempo', 'tempo_confidence'])\n",
    "\n",
    "for e in mean_dicts:\n",
    "    section_mean.loc[list(e.keys())[0]] = list(e.values())[0]"
   ]
  },
  {
   "cell_type": "code",
   "execution_count": 201,
   "metadata": {},
   "outputs": [],
   "source": [
    "section_var = pd.DataFrame(columns=['confidence', 'duration', 'loudness', 'mode',\n",
    "                                    'mode_confidence', 'tempo', 'tempo_confidence'])\n",
    "\n",
    "for e in var_dicts:\n",
    "    section_var.loc[list(e.keys())[0]] = list(e.values())[0]"
   ]
  },
  {
   "cell_type": "markdown",
   "metadata": {},
   "source": [
    "#### How Many Entries did not have Summary Stats?"
   ]
  },
  {
   "cell_type": "code",
   "execution_count": 211,
   "metadata": {},
   "outputs": [
    {
     "data": {
      "text/plain": [
       "(23125, 23125)"
      ]
     },
     "execution_count": 211,
     "metadata": {},
     "output_type": "execute_result"
    }
   ],
   "source": [
    "len(section_mean), len(section_var)"
   ]
  },
  {
   "cell_type": "code",
   "execution_count": 281,
   "metadata": {},
   "outputs": [
    {
     "data": {
      "text/html": [
       "<div>\n",
       "<style scoped>\n",
       "    .dataframe tbody tr th:only-of-type {\n",
       "        vertical-align: middle;\n",
       "    }\n",
       "\n",
       "    .dataframe tbody tr th {\n",
       "        vertical-align: top;\n",
       "    }\n",
       "\n",
       "    .dataframe thead th {\n",
       "        text-align: right;\n",
       "    }\n",
       "</style>\n",
       "<table border=\"1\" class=\"dataframe\">\n",
       "  <thead>\n",
       "    <tr style=\"text-align: right;\">\n",
       "      <th></th>\n",
       "      <th>confidence</th>\n",
       "      <th>duration</th>\n",
       "      <th>loudness</th>\n",
       "      <th>mode</th>\n",
       "      <th>mode_confidence</th>\n",
       "      <th>tempo</th>\n",
       "      <th>tempo_confidence</th>\n",
       "    </tr>\n",
       "  </thead>\n",
       "  <tbody>\n",
       "    <tr>\n",
       "      <th>21VDF2xzLl8P1vDVr0nuQY</th>\n",
       "      <td>Unable to calculate variance of section features</td>\n",
       "      <td>Unable to calculate variance of section features</td>\n",
       "      <td>Unable to calculate variance of section features</td>\n",
       "      <td>Unable to calculate variance of section features</td>\n",
       "      <td>Unable to calculate variance of section features</td>\n",
       "      <td>Unable to calculate variance of section features</td>\n",
       "      <td>Unable to calculate variance of section features</td>\n",
       "    </tr>\n",
       "  </tbody>\n",
       "</table>\n",
       "</div>"
      ],
      "text/plain": [
       "                                                              confidence  \\\n",
       "21VDF2xzLl8P1vDVr0nuQY  Unable to calculate variance of section features   \n",
       "\n",
       "                                                                duration  \\\n",
       "21VDF2xzLl8P1vDVr0nuQY  Unable to calculate variance of section features   \n",
       "\n",
       "                                                                loudness  \\\n",
       "21VDF2xzLl8P1vDVr0nuQY  Unable to calculate variance of section features   \n",
       "\n",
       "                                                                    mode  \\\n",
       "21VDF2xzLl8P1vDVr0nuQY  Unable to calculate variance of section features   \n",
       "\n",
       "                                                         mode_confidence  \\\n",
       "21VDF2xzLl8P1vDVr0nuQY  Unable to calculate variance of section features   \n",
       "\n",
       "                                                                   tempo  \\\n",
       "21VDF2xzLl8P1vDVr0nuQY  Unable to calculate variance of section features   \n",
       "\n",
       "                                                        tempo_confidence  \n",
       "21VDF2xzLl8P1vDVr0nuQY  Unable to calculate variance of section features  "
      ]
     },
     "execution_count": 281,
     "metadata": {},
     "output_type": "execute_result"
    }
   ],
   "source": [
    "section_var[section_var['confidence'] == 'Unable to calculate variance of section features']"
   ]
  },
  {
   "cell_type": "code",
   "execution_count": 283,
   "metadata": {},
   "outputs": [
    {
     "data": {
      "text/html": [
       "<div>\n",
       "<style scoped>\n",
       "    .dataframe tbody tr th:only-of-type {\n",
       "        vertical-align: middle;\n",
       "    }\n",
       "\n",
       "    .dataframe tbody tr th {\n",
       "        vertical-align: top;\n",
       "    }\n",
       "\n",
       "    .dataframe thead th {\n",
       "        text-align: right;\n",
       "    }\n",
       "</style>\n",
       "<table border=\"1\" class=\"dataframe\">\n",
       "  <thead>\n",
       "    <tr style=\"text-align: right;\">\n",
       "      <th></th>\n",
       "      <th>confidence</th>\n",
       "      <th>duration</th>\n",
       "      <th>loudness</th>\n",
       "      <th>mode</th>\n",
       "      <th>mode_confidence</th>\n",
       "      <th>tempo</th>\n",
       "      <th>tempo_confidence</th>\n",
       "    </tr>\n",
       "  </thead>\n",
       "  <tbody>\n",
       "    <tr>\n",
       "      <th>21VDF2xzLl8P1vDVr0nuQY</th>\n",
       "      <td>Unable to calculate mean of section features</td>\n",
       "      <td>Unable to calculate mean of section features</td>\n",
       "      <td>Unable to calculate mean of section features</td>\n",
       "      <td>Unable to calculate mean of section features</td>\n",
       "      <td>Unable to calculate mean of section features</td>\n",
       "      <td>Unable to calculate mean of section features</td>\n",
       "      <td>Unable to calculate mean of section features</td>\n",
       "    </tr>\n",
       "  </tbody>\n",
       "</table>\n",
       "</div>"
      ],
      "text/plain": [
       "                                                          confidence  \\\n",
       "21VDF2xzLl8P1vDVr0nuQY  Unable to calculate mean of section features   \n",
       "\n",
       "                                                            duration  \\\n",
       "21VDF2xzLl8P1vDVr0nuQY  Unable to calculate mean of section features   \n",
       "\n",
       "                                                            loudness  \\\n",
       "21VDF2xzLl8P1vDVr0nuQY  Unable to calculate mean of section features   \n",
       "\n",
       "                                                                mode  \\\n",
       "21VDF2xzLl8P1vDVr0nuQY  Unable to calculate mean of section features   \n",
       "\n",
       "                                                     mode_confidence  \\\n",
       "21VDF2xzLl8P1vDVr0nuQY  Unable to calculate mean of section features   \n",
       "\n",
       "                                                               tempo  \\\n",
       "21VDF2xzLl8P1vDVr0nuQY  Unable to calculate mean of section features   \n",
       "\n",
       "                                                    tempo_confidence  \n",
       "21VDF2xzLl8P1vDVr0nuQY  Unable to calculate mean of section features  "
      ]
     },
     "execution_count": 283,
     "metadata": {},
     "output_type": "execute_result"
    }
   ],
   "source": [
    "section_mean[section_mean['confidence'] == 'Unable to calculate mean of section features']"
   ]
  },
  {
   "cell_type": "markdown",
   "metadata": {},
   "source": [
    "Only for one title was I unable to calculate the mean and/or variance of section features. I'll go ahead and drop this record."
   ]
  },
  {
   "cell_type": "code",
   "execution_count": 278,
   "metadata": {},
   "outputs": [
    {
     "data": {
      "text/plain": [
       "confidence          Unable to calculate variance of section features\n",
       "duration            Unable to calculate variance of section features\n",
       "loudness            Unable to calculate variance of section features\n",
       "mode                Unable to calculate variance of section features\n",
       "mode_confidence     Unable to calculate variance of section features\n",
       "tempo               Unable to calculate variance of section features\n",
       "tempo_confidence    Unable to calculate variance of section features\n",
       "Name: 21VDF2xzLl8P1vDVr0nuQY, dtype: object"
      ]
     },
     "execution_count": 278,
     "metadata": {},
     "output_type": "execute_result"
    }
   ],
   "source": [
    "section_var.iloc[9272]"
   ]
  },
  {
   "cell_type": "code",
   "execution_count": 285,
   "metadata": {},
   "outputs": [],
   "source": [
    "section_mean.drop(labels='21VDF2xzLl8P1vDVr0nuQY', inplace=True)\n",
    "section_var.drop(labels='21VDF2xzLl8P1vDVr0nuQY', inplace=True)"
   ]
  },
  {
   "cell_type": "markdown",
   "metadata": {},
   "source": [
    "#### Checking for Duplicate Values"
   ]
  },
  {
   "cell_type": "code",
   "execution_count": 267,
   "metadata": {},
   "outputs": [
    {
     "data": {
      "text/html": [
       "<div>\n",
       "<style scoped>\n",
       "    .dataframe tbody tr th:only-of-type {\n",
       "        vertical-align: middle;\n",
       "    }\n",
       "\n",
       "    .dataframe tbody tr th {\n",
       "        vertical-align: top;\n",
       "    }\n",
       "\n",
       "    .dataframe thead th {\n",
       "        text-align: right;\n",
       "    }\n",
       "</style>\n",
       "<table border=\"1\" class=\"dataframe\">\n",
       "  <thead>\n",
       "    <tr style=\"text-align: right;\">\n",
       "      <th></th>\n",
       "      <th>confidence</th>\n",
       "      <th>duration</th>\n",
       "      <th>loudness</th>\n",
       "      <th>mode</th>\n",
       "      <th>mode_confidence</th>\n",
       "      <th>tempo</th>\n",
       "      <th>tempo_confidence</th>\n",
       "    </tr>\n",
       "  </thead>\n",
       "  <tbody>\n",
       "    <tr>\n",
       "      <th>6wLj4AQJiBuJl5uiY0hSe8</th>\n",
       "      <td>0.760429</td>\n",
       "      <td>34.6233</td>\n",
       "      <td>-16.9286</td>\n",
       "      <td>0.285714</td>\n",
       "      <td>0.553429</td>\n",
       "      <td>110.056</td>\n",
       "      <td>0.601714</td>\n",
       "    </tr>\n",
       "    <tr>\n",
       "      <th>2memjAKXTXCK1WsUsWGHe7</th>\n",
       "      <td>0.760429</td>\n",
       "      <td>34.6233</td>\n",
       "      <td>-16.9286</td>\n",
       "      <td>0.285714</td>\n",
       "      <td>0.553429</td>\n",
       "      <td>110.056</td>\n",
       "      <td>0.601714</td>\n",
       "    </tr>\n",
       "  </tbody>\n",
       "</table>\n",
       "</div>"
      ],
      "text/plain": [
       "                       confidence duration loudness      mode mode_confidence  \\\n",
       "6wLj4AQJiBuJl5uiY0hSe8   0.760429  34.6233 -16.9286  0.285714        0.553429   \n",
       "2memjAKXTXCK1WsUsWGHe7   0.760429  34.6233 -16.9286  0.285714        0.553429   \n",
       "\n",
       "                          tempo tempo_confidence  \n",
       "6wLj4AQJiBuJl5uiY0hSe8  110.056         0.601714  \n",
       "2memjAKXTXCK1WsUsWGHe7  110.056         0.601714  "
      ]
     },
     "execution_count": 267,
     "metadata": {},
     "output_type": "execute_result"
    }
   ],
   "source": [
    "section_mean[section_mean.duplicated(keep=False)]"
   ]
  },
  {
   "cell_type": "code",
   "execution_count": 266,
   "metadata": {},
   "outputs": [
    {
     "data": {
      "text/html": [
       "<div>\n",
       "<style scoped>\n",
       "    .dataframe tbody tr th:only-of-type {\n",
       "        vertical-align: middle;\n",
       "    }\n",
       "\n",
       "    .dataframe tbody tr th {\n",
       "        vertical-align: top;\n",
       "    }\n",
       "\n",
       "    .dataframe thead th {\n",
       "        text-align: right;\n",
       "    }\n",
       "</style>\n",
       "<table border=\"1\" class=\"dataframe\">\n",
       "  <thead>\n",
       "    <tr style=\"text-align: right;\">\n",
       "      <th></th>\n",
       "      <th>confidence</th>\n",
       "      <th>duration</th>\n",
       "      <th>loudness</th>\n",
       "      <th>mode</th>\n",
       "      <th>mode_confidence</th>\n",
       "      <th>tempo</th>\n",
       "      <th>tempo_confidence</th>\n",
       "    </tr>\n",
       "  </thead>\n",
       "  <tbody>\n",
       "    <tr>\n",
       "      <th>6wLj4AQJiBuJl5uiY0hSe8</th>\n",
       "      <td>0.05692</td>\n",
       "      <td>336.221</td>\n",
       "      <td>184.478</td>\n",
       "      <td>0.238095</td>\n",
       "      <td>0.065341</td>\n",
       "      <td>0.00296895</td>\n",
       "      <td>0.00792824</td>\n",
       "    </tr>\n",
       "    <tr>\n",
       "      <th>2GJxRwFe8oLcbXgTw9P5of</th>\n",
       "      <td>0</td>\n",
       "      <td>0</td>\n",
       "      <td>0</td>\n",
       "      <td>0</td>\n",
       "      <td>0</td>\n",
       "      <td>0</td>\n",
       "      <td>0</td>\n",
       "    </tr>\n",
       "    <tr>\n",
       "      <th>2ULmjTNKicNAC0HAyYa47y</th>\n",
       "      <td>0</td>\n",
       "      <td>0</td>\n",
       "      <td>0</td>\n",
       "      <td>0</td>\n",
       "      <td>0</td>\n",
       "      <td>0</td>\n",
       "      <td>0</td>\n",
       "    </tr>\n",
       "    <tr>\n",
       "      <th>2memjAKXTXCK1WsUsWGHe7</th>\n",
       "      <td>0.05692</td>\n",
       "      <td>336.221</td>\n",
       "      <td>184.478</td>\n",
       "      <td>0.238095</td>\n",
       "      <td>0.065341</td>\n",
       "      <td>0.00296895</td>\n",
       "      <td>0.00792824</td>\n",
       "    </tr>\n",
       "    <tr>\n",
       "      <th>5Asz9rHr2rViBdl6pkXpoq</th>\n",
       "      <td>0</td>\n",
       "      <td>0</td>\n",
       "      <td>0</td>\n",
       "      <td>0</td>\n",
       "      <td>0</td>\n",
       "      <td>0</td>\n",
       "      <td>0</td>\n",
       "    </tr>\n",
       "  </tbody>\n",
       "</table>\n",
       "</div>"
      ],
      "text/plain": [
       "                       confidence duration loudness      mode mode_confidence  \\\n",
       "6wLj4AQJiBuJl5uiY0hSe8    0.05692  336.221  184.478  0.238095        0.065341   \n",
       "2GJxRwFe8oLcbXgTw9P5of          0        0        0         0               0   \n",
       "2ULmjTNKicNAC0HAyYa47y          0        0        0         0               0   \n",
       "2memjAKXTXCK1WsUsWGHe7    0.05692  336.221  184.478  0.238095        0.065341   \n",
       "5Asz9rHr2rViBdl6pkXpoq          0        0        0         0               0   \n",
       "\n",
       "                             tempo tempo_confidence  \n",
       "6wLj4AQJiBuJl5uiY0hSe8  0.00296895       0.00792824  \n",
       "2GJxRwFe8oLcbXgTw9P5of           0                0  \n",
       "2ULmjTNKicNAC0HAyYa47y           0                0  \n",
       "2memjAKXTXCK1WsUsWGHe7  0.00296895       0.00792824  \n",
       "5Asz9rHr2rViBdl6pkXpoq           0                0  "
      ]
     },
     "execution_count": 266,
     "metadata": {},
     "output_type": "execute_result"
    }
   ],
   "source": [
    "section_var[section_var.duplicated(keep=False)]"
   ]
  },
  {
   "cell_type": "markdown",
   "metadata": {},
   "source": [
    "It appears as though the duplicate results are just the same observation statistics for two different song id's. Rather than drop them, I will keep the values and decide what to do after I've combined my datasets for EDA."
   ]
  },
  {
   "cell_type": "markdown",
   "metadata": {},
   "source": [
    "#### Checking for `null's` "
   ]
  },
  {
   "cell_type": "code",
   "execution_count": 230,
   "metadata": {},
   "outputs": [
    {
     "name": "stdout",
     "output_type": "stream",
     "text": [
      "<class 'pandas.core.frame.DataFrame'>\n",
      "Index: 23125 entries, 6k9L7kTBzjXY0GfazHYqCg to 6k7e2cjr10EbQW5QnblOtY\n",
      "Data columns (total 7 columns):\n",
      "confidence          23122 non-null object\n",
      "duration            23122 non-null object\n",
      "loudness            23122 non-null object\n",
      "mode                23122 non-null object\n",
      "mode_confidence     23122 non-null object\n",
      "tempo               23122 non-null object\n",
      "tempo_confidence    23122 non-null object\n",
      "dtypes: object(7)\n",
      "memory usage: 1.4+ MB\n"
     ]
    }
   ],
   "source": [
    "section_var.info()"
   ]
  },
  {
   "cell_type": "code",
   "execution_count": 232,
   "metadata": {},
   "outputs": [
    {
     "name": "stdout",
     "output_type": "stream",
     "text": [
      "<class 'pandas.core.frame.DataFrame'>\n",
      "Index: 23125 entries, 6k9L7kTBzjXY0GfazHYqCg to 6k7e2cjr10EbQW5QnblOtY\n",
      "Data columns (total 7 columns):\n",
      "confidence          23125 non-null object\n",
      "duration            23125 non-null object\n",
      "loudness            23125 non-null object\n",
      "mode                23125 non-null object\n",
      "mode_confidence     23125 non-null object\n",
      "tempo               23125 non-null object\n",
      "tempo_confidence    23125 non-null object\n",
      "dtypes: object(7)\n",
      "memory usage: 2.0+ MB\n"
     ]
    }
   ],
   "source": [
    "section_mean.info()"
   ]
  },
  {
   "cell_type": "markdown",
   "metadata": {},
   "source": [
    "Very strange that I have null values in the variance df, but not the means df. I'll check the dicts that I converted to see if those values are null there as well."
   ]
  },
  {
   "cell_type": "code",
   "execution_count": 240,
   "metadata": {},
   "outputs": [
    {
     "name": "stdout",
     "output_type": "stream",
     "text": [
      "{'2ULmjTNKicNAC0HAyYa47y': {'confidence': nan, 'duration': nan, 'loudness': nan, 'mode': nan, 'mode_confidence': nan, 'tempo': nan, 'tempo_confidence': nan}}\n"
     ]
    }
   ],
   "source": [
    "for i in var_dicts:\n",
    "    for k in i.keys():\n",
    "        if k == '2ULmjTNKicNAC0HAyYa47y':\n",
    "            print(i)"
   ]
  },
  {
   "cell_type": "markdown",
   "metadata": {},
   "source": [
    "It's null there as well. I will go back, retreive the original json's, and compute the variance of each value."
   ]
  },
  {
   "cell_type": "code",
   "execution_count": 221,
   "metadata": {},
   "outputs": [
    {
     "data": {
      "text/plain": [
       "(23125, 7)"
      ]
     },
     "execution_count": 221,
     "metadata": {},
     "output_type": "execute_result"
    }
   ],
   "source": [
    "section_var.shape"
   ]
  },
  {
   "cell_type": "code",
   "execution_count": 254,
   "metadata": {},
   "outputs": [
    {
     "data": {
      "text/html": [
       "<div>\n",
       "<style scoped>\n",
       "    .dataframe tbody tr th:only-of-type {\n",
       "        vertical-align: middle;\n",
       "    }\n",
       "\n",
       "    .dataframe tbody tr th {\n",
       "        vertical-align: top;\n",
       "    }\n",
       "\n",
       "    .dataframe thead th {\n",
       "        text-align: right;\n",
       "    }\n",
       "</style>\n",
       "<table border=\"1\" class=\"dataframe\">\n",
       "  <thead>\n",
       "    <tr style=\"text-align: right;\">\n",
       "      <th></th>\n",
       "      <th>confidence</th>\n",
       "      <th>duration</th>\n",
       "      <th>loudness</th>\n",
       "      <th>mode</th>\n",
       "      <th>mode_confidence</th>\n",
       "      <th>tempo</th>\n",
       "      <th>tempo_confidence</th>\n",
       "    </tr>\n",
       "  </thead>\n",
       "  <tbody>\n",
       "    <tr>\n",
       "      <th>2GJxRwFe8oLcbXgTw9P5of</th>\n",
       "      <td>NaN</td>\n",
       "      <td>NaN</td>\n",
       "      <td>NaN</td>\n",
       "      <td>NaN</td>\n",
       "      <td>NaN</td>\n",
       "      <td>NaN</td>\n",
       "      <td>NaN</td>\n",
       "    </tr>\n",
       "    <tr>\n",
       "      <th>2ULmjTNKicNAC0HAyYa47y</th>\n",
       "      <td>NaN</td>\n",
       "      <td>NaN</td>\n",
       "      <td>NaN</td>\n",
       "      <td>NaN</td>\n",
       "      <td>NaN</td>\n",
       "      <td>NaN</td>\n",
       "      <td>NaN</td>\n",
       "    </tr>\n",
       "    <tr>\n",
       "      <th>5Asz9rHr2rViBdl6pkXpoq</th>\n",
       "      <td>NaN</td>\n",
       "      <td>NaN</td>\n",
       "      <td>NaN</td>\n",
       "      <td>NaN</td>\n",
       "      <td>NaN</td>\n",
       "      <td>NaN</td>\n",
       "      <td>NaN</td>\n",
       "    </tr>\n",
       "  </tbody>\n",
       "</table>\n",
       "</div>"
      ],
      "text/plain": [
       "                       confidence duration loudness mode mode_confidence  \\\n",
       "2GJxRwFe8oLcbXgTw9P5of        NaN      NaN      NaN  NaN             NaN   \n",
       "2ULmjTNKicNAC0HAyYa47y        NaN      NaN      NaN  NaN             NaN   \n",
       "5Asz9rHr2rViBdl6pkXpoq        NaN      NaN      NaN  NaN             NaN   \n",
       "\n",
       "                       tempo tempo_confidence  \n",
       "2GJxRwFe8oLcbXgTw9P5of   NaN              NaN  \n",
       "2ULmjTNKicNAC0HAyYa47y   NaN              NaN  \n",
       "5Asz9rHr2rViBdl6pkXpoq   NaN              NaN  "
      ]
     },
     "execution_count": 254,
     "metadata": {},
     "output_type": "execute_result"
    }
   ],
   "source": [
    "section_var[section_var.isnull().any(1)].head()"
   ]
  },
  {
   "cell_type": "markdown",
   "metadata": {},
   "source": [
    "#### Dealing with Null Values"
   ]
  },
  {
   "cell_type": "code",
   "execution_count": 256,
   "metadata": {},
   "outputs": [],
   "source": [
    "with open('../data/audio_analysis/2GJxRwFe8oLcbXgTw9P5of.json', 'r') as f:\n",
    "    _2GJxRwFe8oLcbXgTw9P5of = json.load(f)\n",
    "with open('../data/audio_analysis/2ULmjTNKicNAC0HAyYa47y.json', 'r') as f:\n",
    "    _2ULmjTNKicNAC0HAyYa47y = json.load(f)\n",
    "with open('../data/audio_analysis/5Asz9rHr2rViBdl6pkXpoq.json', 'r') as f:\n",
    "    _5Asz9rHr2rViBdl6pkXpoq = json.load(f)"
   ]
  },
  {
   "cell_type": "code",
   "execution_count": 260,
   "metadata": {},
   "outputs": [
    {
     "data": {
      "text/plain": [
       "[{'start': 0.0,\n",
       "  'duration': 59.93333,\n",
       "  'confidence': 1.0,\n",
       "  'loudness': -17.937,\n",
       "  'tempo': 80.584,\n",
       "  'tempo_confidence': 0.115,\n",
       "  'key': 2,\n",
       "  'key_confidence': 0.285,\n",
       "  'mode': 0,\n",
       "  'mode_confidence': 0.487,\n",
       "  'time_signature': 3,\n",
       "  'time_signature_confidence': 0.128}]"
      ]
     },
     "execution_count": 260,
     "metadata": {},
     "output_type": "execute_result"
    }
   ],
   "source": [
    "_5Asz9rHr2rViBdl6pkXpoq['sections']"
   ]
  },
  {
   "cell_type": "markdown",
   "metadata": {},
   "source": [
    "Turns out that for each one of these titles, there is only 1 section, therefore...impossible to get a variance value. I just changed the observation to all 0's."
   ]
  },
  {
   "cell_type": "code",
   "execution_count": 263,
   "metadata": {},
   "outputs": [],
   "source": [
    "section_var.loc['2GJxRwFe8oLcbXgTw9P5of'] = 0\n",
    "section_var.loc['2ULmjTNKicNAC0HAyYa47y'] = 0\n",
    "section_var.loc['5Asz9rHr2rViBdl6pkXpoq'] = 0"
   ]
  },
  {
   "cell_type": "markdown",
   "metadata": {},
   "source": [
    "#### Output to `csv`"
   ]
  },
  {
   "cell_type": "code",
   "execution_count": 286,
   "metadata": {},
   "outputs": [],
   "source": [
    "section_mean.to_csv('../data/spotify_section_means.csv')"
   ]
  },
  {
   "cell_type": "code",
   "execution_count": 287,
   "metadata": {},
   "outputs": [],
   "source": [
    "section_var.to_csv('../data/spotify_section_var.csv')"
   ]
  },
  {
   "cell_type": "markdown",
   "metadata": {},
   "source": [
    "### Segments\n",
    "\n",
    "I need to separate `pitches` and `timbre` into separate matrices, considering I need to get the mean and variance of each element within each of those arrays. Beyond that, I don't think I'll need any additional values from this listing. Reasons being, that I'm not overly concered with the length of each segment, nor am I concerned with the loundess levels, since they're encapsulated within the `Sections` and audio features."
   ]
  },
  {
   "cell_type": "code",
   "execution_count": 69,
   "metadata": {},
   "outputs": [
    {
     "data": {
      "text/plain": [
       "{'start': 0.0,\n",
       " 'duration': 0.43651,\n",
       " 'confidence': 1.0,\n",
       " 'loudness_start': -60.0,\n",
       " 'loudness_max_time': 0.31593,\n",
       " 'loudness_max': -15.215,\n",
       " 'pitches': [0.972,\n",
       "  0.851,\n",
       "  0.534,\n",
       "  0.398,\n",
       "  0.574,\n",
       "  0.824,\n",
       "  0.931,\n",
       "  0.95,\n",
       "  0.95,\n",
       "  0.895,\n",
       "  0.936,\n",
       "  1.0],\n",
       " 'timbre': [5.394,\n",
       "  132.335,\n",
       "  40.451,\n",
       "  -169.179,\n",
       "  36.889,\n",
       "  -87.156,\n",
       "  48.281,\n",
       "  -81.004,\n",
       "  -28.624,\n",
       "  11.046,\n",
       "  76.899,\n",
       "  -15.937]}"
      ]
     },
     "execution_count": 69,
     "metadata": {},
     "output_type": "execute_result"
    }
   ],
   "source": [
    "example['segments'][0]"
   ]
  },
  {
   "cell_type": "code",
   "execution_count": 33,
   "metadata": {},
   "outputs": [
    {
     "data": {
      "text/plain": [
       "array(None, dtype=object)"
      ]
     },
     "execution_count": 33,
     "metadata": {},
     "output_type": "execute_result"
    }
   ],
   "source": [
    "empty = np.array(None)\n",
    "empty"
   ]
  },
  {
   "cell_type": "markdown",
   "metadata": {},
   "source": [
    "#### Testing Grabbing Pitches and Timbre from each Segment"
   ]
  },
  {
   "cell_type": "code",
   "execution_count": 64,
   "metadata": {},
   "outputs": [],
   "source": [
    "pitches = np.array(example['segments'][0]['pitches'])\n",
    "timbre = np.array(example['segments'][0]['timbre'])\n",
    "\n",
    "for record in example['segments'][1:]:\n",
    "    new_pitch = np.array(record['pitches'])\n",
    "    new_timbre = np.array(record['timbre'])\n",
    "    pitches = np.vstack((pitches, new_pitch))\n",
    "    timbre = np.vstack((timbre, new_timbre))\n",
    "\n",
    "pitch_means = np.mean(pitches, axis = 0)\n",
    "timbre_means = np.mean(timbre, axis = 0)\n",
    "pitch_var = np.var(pitches, axis = 0)\n",
    "timbre_var = np.var(timbre, axis = 0)"
   ]
  },
  {
   "cell_type": "code",
   "execution_count": 65,
   "metadata": {},
   "outputs": [
    {
     "data": {
      "text/plain": [
       "array([[   5.394,  132.335,   40.451, ...,   11.046,   76.899,  -15.937],\n",
       "       [  25.492,  -29.872,  -43.306, ...,  -11.308,   -0.346,   -8.5  ],\n",
       "       [  30.574,   -4.817,  -20.123, ...,   19.59 ,   10.574,   -3.419],\n",
       "       ..., \n",
       "       [  46.967,   61.795,  -93.704, ...,   -9.035,   10.121,    5.212],\n",
       "       [  42.442,   81.447, -104.876, ...,   -2.364,   -1.035,    1.474],\n",
       "       [  31.01 ,   83.512, -200.859, ...,  -28.773, -103.174,   17.048]])"
      ]
     },
     "execution_count": 65,
     "metadata": {},
     "output_type": "execute_result"
    }
   ],
   "source": [
    "timbre"
   ]
  },
  {
   "cell_type": "code",
   "execution_count": 66,
   "metadata": {},
   "outputs": [
    {
     "data": {
      "text/plain": [
       "array([[ 0.972,  0.851,  0.534, ...,  0.895,  0.936,  1.   ],\n",
       "       [ 1.   ,  0.734,  0.05 , ...,  0.024,  0.007,  0.01 ],\n",
       "       [ 0.101,  0.211,  1.   , ...,  0.288,  0.146,  0.027],\n",
       "       ..., \n",
       "       [ 0.199,  0.019,  0.007, ...,  0.025,  0.147,  1.   ],\n",
       "       [ 0.106,  0.103,  0.083, ...,  0.514,  1.   ,  0.399],\n",
       "       [ 0.004,  0.004,  0.004, ...,  0.004,  0.004,  0.029]])"
      ]
     },
     "execution_count": 66,
     "metadata": {},
     "output_type": "execute_result"
    }
   ],
   "source": [
    "pitches"
   ]
  },
  {
   "cell_type": "code",
   "execution_count": 70,
   "metadata": {},
   "outputs": [
    {
     "data": {
      "text/plain": [
       "array([ 0.0816765 ,  0.10712059,  0.08919524,  0.03346195,  0.12406955,\n",
       "        0.0444795 ,  0.09366547,  0.11206538,  0.08183722,  0.13351742,\n",
       "        0.06099433,  0.09083536])"
      ]
     },
     "execution_count": 70,
     "metadata": {},
     "output_type": "execute_result"
    }
   ],
   "source": [
    "pitch_var"
   ]
  },
  {
   "cell_type": "code",
   "execution_count": 71,
   "metadata": {},
   "outputs": [
    {
     "data": {
      "text/plain": [
       "array([   44.79019062,  2508.65836209,  2092.29554919,  2116.87128229,\n",
       "         818.87857916,   714.00372464,   591.76958189,   551.21101119,\n",
       "         254.27142387,   258.69811317,   293.24686903,   222.48651461])"
      ]
     },
     "execution_count": 71,
     "metadata": {},
     "output_type": "execute_result"
    }
   ],
   "source": [
    "timbre_var"
   ]
  },
  {
   "cell_type": "code",
   "execution_count": 67,
   "metadata": {},
   "outputs": [
    {
     "data": {
      "text/plain": [
       "array([ 0.29137624,  0.37816535,  0.31408911,  0.19801782,  0.41874059,\n",
       "        0.21457426,  0.3793198 ,  0.35321584,  0.32189307,  0.46579505,\n",
       "        0.24158812,  0.28446238])"
      ]
     },
     "execution_count": 67,
     "metadata": {},
     "output_type": "execute_result"
    }
   ],
   "source": [
    "pitch_means"
   ]
  },
  {
   "cell_type": "code",
   "execution_count": 68,
   "metadata": {},
   "outputs": [
    {
     "data": {
      "text/plain": [
       "array([ 47.48974554,   4.37188713, -19.12441782, -13.57252772,\n",
       "        32.99183267, -31.4813703 ,  -7.32949406,  -6.3684198 ,\n",
       "       -10.72296535,  -0.08051782,  -8.91219307,  -3.10303465])"
      ]
     },
     "execution_count": 68,
     "metadata": {},
     "output_type": "execute_result"
    }
   ],
   "source": [
    "timbre_means"
   ]
  },
  {
   "cell_type": "markdown",
   "metadata": {},
   "source": [
    "#### Sanity Check of Pitch / Timbre Means"
   ]
  },
  {
   "cell_type": "code",
   "execution_count": 63,
   "metadata": {},
   "outputs": [
    {
     "name": "stdout",
     "output_type": "stream",
     "text": [
      "0.291376237624 47.4897455446\n"
     ]
    }
   ],
   "source": [
    "sc_list_pitch = []\n",
    "sc_list_timbre = []\n",
    "\n",
    "for record in example['segments']:\n",
    "    sc_list_timbre.append(record['timbre'][0])\n",
    "    sc_list_pitch.append(record['pitches'][0])\n",
    "\n",
    "print(np.mean(sc_list_pitch), np.mean(sc_list_timbre))"
   ]
  },
  {
   "cell_type": "markdown",
   "metadata": {},
   "source": [
    "Looks correct, though I'm surprised that grabbing the mean / variance across the 0 access applies to columns."
   ]
  },
  {
   "cell_type": "markdown",
   "metadata": {},
   "source": [
    "#### Creating Functions to Grab Summary Pitch and Timbre Statistics for Each Song"
   ]
  },
  {
   "cell_type": "code",
   "execution_count": 96,
   "metadata": {},
   "outputs": [],
   "source": [
    "def pt_grabber_sgl(song):\n",
    "    pitches = np.array(song['segments'][0]['pitches'])\n",
    "    timbre = np.array(song['segments'][0]['timbre'])\n",
    "    \n",
    "    for record in song['segments']:\n",
    "        new_pitch = np.array(record['pitches'])\n",
    "        new_timbre = np.array(record['timbre'])\n",
    "        pitches = np.vstack((pitches, new_pitch))\n",
    "        timbre = np.vstack((timbre, new_timbre))\n",
    "\n",
    "    pitch_means = np.mean(pitches, axis = 0)\n",
    "    timbre_means = np.mean(timbre, axis = 0)\n",
    "    pitch_var = np.var(pitches, axis = 0)\n",
    "    timbre_var = np.var(timbre, axis = 0)\n",
    "\n",
    "    return pitch_means, timbre_means, pitch_var, timbre_var"
   ]
  },
  {
   "cell_type": "code",
   "execution_count": 111,
   "metadata": {},
   "outputs": [],
   "source": [
    "def pt_grabber(lst):\n",
    "    timbre_means = []\n",
    "    timbre_var = []\n",
    "    pitch_means = []\n",
    "    pitch_var = []\n",
    "    count = 0\n",
    "    for record in lst:\n",
    "        with open('../data/audio_analysis/{}'.format(record), 'r') as f:\n",
    "            analysis = json.load(f)\n",
    "            if isinstance(analysis, dict):\n",
    "                if 'segments' in analysis:\n",
    "                    try:\n",
    "                        pm, tm, pv, tv = pt_grabber_sgl(analysis)\n",
    "                    except:\n",
    "                        response = \"unable to gather summary stats for song {} pitch & timbre\".format(record.replace(\".json\", ''))\n",
    "        try:\n",
    "            timbre_means.append(dict({record.replace(\".json\", \"\"):tm}))\n",
    "            timbre_var.append(dict({record.replace(\".json\", \"\"):tv}))\n",
    "            pitch_means.append(dict({record.replace(\".json\", \"\"):pm}))\n",
    "            pitch_var.append(dict({record.replace(\".json\", \"\"):pv}))\n",
    "        except:\n",
    "            [lists.append(response) for lists in [timbre_means, timbre_var, \n",
    "                                                  pitch_means, pitch_var]]\n",
    "        count += 1\n",
    "        if count % 1000 == 0:\n",
    "            print(\"grabbing {}\".format(count + 1))\n",
    "    return timbre_means, timbre_var, pitch_means, pitch_var"
   ]
  },
  {
   "cell_type": "markdown",
   "metadata": {},
   "source": [
    "#### Grabbing Pitch / Timbre Summary Stats"
   ]
  },
  {
   "cell_type": "code",
   "execution_count": 112,
   "metadata": {},
   "outputs": [
    {
     "name": "stdout",
     "output_type": "stream",
     "text": [
      "grabbing 1001\n",
      "grabbing 2001\n",
      "grabbing 3001\n",
      "grabbing 4001\n",
      "grabbing 5001\n",
      "grabbing 6001\n",
      "grabbing 7001\n",
      "grabbing 8001\n",
      "grabbing 9001\n",
      "grabbing 10001\n",
      "grabbing 11001\n",
      "grabbing 12001\n",
      "grabbing 13001\n",
      "grabbing 14001\n",
      "grabbing 15001\n",
      "grabbing 16001\n",
      "grabbing 17001\n",
      "grabbing 18001\n",
      "grabbing 19001\n",
      "grabbing 20001\n",
      "grabbing 21001\n",
      "grabbing 22001\n",
      "grabbing 23001\n"
     ]
    }
   ],
   "source": [
    "timbre_means, timbre_var, pitch_means, pitch_var = pt_grabber(analysis_list)"
   ]
  },
  {
   "cell_type": "code",
   "execution_count": 114,
   "metadata": {},
   "outputs": [
    {
     "data": {
      "text/plain": [
       "(23129, 23129, 23129, 23129)"
      ]
     },
     "execution_count": 114,
     "metadata": {},
     "output_type": "execute_result"
    }
   ],
   "source": [
    "len(timbre_means), len(timbre_var), len(pitch_means), len(pitch_var)"
   ]
  },
  {
   "cell_type": "markdown",
   "metadata": {},
   "source": [
    "#### Checking Lists for Lack of Summary Stats"
   ]
  },
  {
   "cell_type": "code",
   "execution_count": 119,
   "metadata": {},
   "outputs": [
    {
     "name": "stdout",
     "output_type": "stream",
     "text": [
      "0\n"
     ]
    }
   ],
   "source": [
    "count = 0\n",
    "for e in pitch_var:\n",
    "    if isinstance(e, str):\n",
    "        count += 1\n",
    "print(count)"
   ]
  },
  {
   "cell_type": "markdown",
   "metadata": {},
   "source": [
    "#### Tossing Lists into DataFrames + `csv`"
   ]
  },
  {
   "cell_type": "code",
   "execution_count": 139,
   "metadata": {},
   "outputs": [
    {
     "data": {
      "text/plain": [
       "'000xQL6tZNLJzIrtIgxqSl'"
      ]
     },
     "execution_count": 139,
     "metadata": {},
     "output_type": "execute_result"
    }
   ],
   "source": [
    "list(timbre_means[0].keys())[0]"
   ]
  },
  {
   "cell_type": "code",
   "execution_count": 135,
   "metadata": {},
   "outputs": [
    {
     "data": {
      "text/plain": [
       "49.242242014742054"
      ]
     },
     "execution_count": 135,
     "metadata": {},
     "output_type": "execute_result"
    }
   ],
   "source": [
    "list(timbre_means[0].values())[0]"
   ]
  },
  {
   "cell_type": "code",
   "execution_count": 150,
   "metadata": {},
   "outputs": [],
   "source": [
    "tm_df = pd.DataFrame(columns=[\"dim_\" + str(i) for i in range(1, 13)])\n",
    "\n",
    "for e in timbre_means:\n",
    "    tm_df.loc[list(e.keys())[0]] = list(e.values())[0]"
   ]
  },
  {
   "cell_type": "code",
   "execution_count": 157,
   "metadata": {},
   "outputs": [],
   "source": [
    "tv_df = pd.DataFrame(columns=[\"dim_\" + str(i) for i in range(1, 13)])\n",
    "\n",
    "for e in timbre_var:\n",
    "    tv_df.loc[list(e.keys())[0]] = list(e.values())[0]"
   ]
  },
  {
   "cell_type": "code",
   "execution_count": 159,
   "metadata": {},
   "outputs": [],
   "source": [
    "pm_df = pd.DataFrame(columns=[\"dim_\" + str(i) for i in range(1, 13)])\n",
    "\n",
    "for e in pitch_means:\n",
    "    pm_df.loc[list(e.keys())[0]] = list(e.values())[0]"
   ]
  },
  {
   "cell_type": "code",
   "execution_count": 161,
   "metadata": {},
   "outputs": [],
   "source": [
    "pv_df = pd.DataFrame(columns=[\"dim_\" + str(i) for i in range(1, 13)])\n",
    "\n",
    "for e in pitch_means:\n",
    "    pv_df.loc[list(e.keys())[0]] = list(e.values())[0]"
   ]
  },
  {
   "cell_type": "markdown",
   "metadata": {},
   "source": [
    "#### Removing Duplicate Records"
   ]
  },
  {
   "cell_type": "code",
   "execution_count": 167,
   "metadata": {},
   "outputs": [
    {
     "data": {
      "text/plain": [
       "((23129, 12), (23129, 12), (23129, 12), (23129, 12))"
      ]
     },
     "execution_count": 167,
     "metadata": {},
     "output_type": "execute_result"
    }
   ],
   "source": [
    "tm_df.shape, tv_df.shape, pm_df.shape, pv_df.shape"
   ]
  },
  {
   "cell_type": "code",
   "execution_count": 168,
   "metadata": {},
   "outputs": [],
   "source": [
    "tm_df.drop_duplicates(inplace = True)\n",
    "tv_df.drop_duplicates(inplace = True)\n",
    "pm_df.drop_duplicates(inplace = True)\n",
    "pv_df.drop_duplicates(inplace = True)"
   ]
  },
  {
   "cell_type": "code",
   "execution_count": 169,
   "metadata": {},
   "outputs": [
    {
     "data": {
      "text/plain": [
       "((23124, 12), (23124, 12), (23124, 12), (23124, 12))"
      ]
     },
     "execution_count": 169,
     "metadata": {},
     "output_type": "execute_result"
    }
   ],
   "source": [
    "tm_df.shape, tv_df.shape, pm_df.shape, pv_df.shape"
   ]
  },
  {
   "cell_type": "markdown",
   "metadata": {},
   "source": [
    "#### Checking for `null's`"
   ]
  },
  {
   "cell_type": "code",
   "execution_count": 273,
   "metadata": {},
   "outputs": [
    {
     "data": {
      "text/html": [
       "<div>\n",
       "<style scoped>\n",
       "    .dataframe tbody tr th:only-of-type {\n",
       "        vertical-align: middle;\n",
       "    }\n",
       "\n",
       "    .dataframe tbody tr th {\n",
       "        vertical-align: top;\n",
       "    }\n",
       "\n",
       "    .dataframe thead th {\n",
       "        text-align: right;\n",
       "    }\n",
       "</style>\n",
       "<table border=\"1\" class=\"dataframe\">\n",
       "  <thead>\n",
       "    <tr style=\"text-align: right;\">\n",
       "      <th></th>\n",
       "      <th>dim_1</th>\n",
       "      <th>dim_2</th>\n",
       "      <th>dim_3</th>\n",
       "      <th>dim_4</th>\n",
       "      <th>dim_5</th>\n",
       "      <th>dim_6</th>\n",
       "      <th>dim_7</th>\n",
       "      <th>dim_8</th>\n",
       "      <th>dim_9</th>\n",
       "      <th>dim_10</th>\n",
       "      <th>dim_11</th>\n",
       "      <th>dim_12</th>\n",
       "    </tr>\n",
       "  </thead>\n",
       "  <tbody>\n",
       "  </tbody>\n",
       "</table>\n",
       "</div>"
      ],
      "text/plain": [
       "Empty DataFrame\n",
       "Columns: [dim_1, dim_2, dim_3, dim_4, dim_5, dim_6, dim_7, dim_8, dim_9, dim_10, dim_11, dim_12]\n",
       "Index: []"
      ]
     },
     "execution_count": 273,
     "metadata": {},
     "output_type": "execute_result"
    }
   ],
   "source": [
    "pv_df[tm_df.isnull().any(1)]"
   ]
  },
  {
   "cell_type": "markdown",
   "metadata": {},
   "source": [
    "#### Outputting to csv"
   ]
  },
  {
   "cell_type": "code",
   "execution_count": 173,
   "metadata": {},
   "outputs": [],
   "source": [
    "tm_df.to_csv('../data/timbre_means.csv')\n",
    "tv_df.to_csv('../data/timbre_var.csv')\n",
    "pm_df.to_csv('../data/pitch_means.csv')\n",
    "pv_df.to_csv('../data/pitch_var.csv')"
   ]
  }
 ],
 "metadata": {
  "kernelspec": {
   "display_name": "Python 3",
   "language": "python",
   "name": "python3"
  },
  "language_info": {
   "codemirror_mode": {
    "name": "ipython",
    "version": 3
   },
   "file_extension": ".py",
   "mimetype": "text/x-python",
   "name": "python",
   "nbconvert_exporter": "python",
   "pygments_lexer": "ipython3",
   "version": "3.6.3"
  }
 },
 "nbformat": 4,
 "nbformat_minor": 2
}
